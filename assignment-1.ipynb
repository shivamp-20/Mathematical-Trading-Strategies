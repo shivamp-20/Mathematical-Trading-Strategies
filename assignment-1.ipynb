{
 "cells": [
  {
   "cell_type": "code",
   "execution_count": 142,
   "id": "dde8f731",
   "metadata": {},
   "outputs": [],
   "source": [
    "import yfinance as yf\n",
    "\n",
    "def cumulative_return(ticker):\n",
    "      # Get the historical prices of the stock.\n",
    "    df = yf.download(ticker, start=\"2010-01-01\", end=\"2023-05-01\")\n",
    "\n",
    "    # Calculate the cumulative returns.\n",
    "    cum_returns = (df['Adj Close'].pct_change() + 1).cumprod()\n",
    "\n",
    "    # Get the current price of the stock.\n",
    "    current_price = df['Adj Close'].iloc[-1]\n",
    "\n",
    "    # Calculate the cumulative return.\n",
    "    cumulative_return = cum_returns.iloc[-1]\n",
    "    \n",
    "    return cumulative_return\n",
    "   \n",
    "\n",
    "    \n",
    "\n"
   ]
  },
  {
   "cell_type": "code",
   "execution_count": 143,
   "id": "0a94f644",
   "metadata": {},
   "outputs": [
    {
     "name": "stdout",
     "output_type": "stream",
     "text": [
      "[*********************100%***********************]  1 of 1 completed\n",
      "6.9326293479643315\n"
     ]
    }
   ],
   "source": [
    "\n",
    "cumulative_return1 = cumulative_return('GOOG')\n",
    "\n",
    "\n",
    "print(cumulative_return1)\n",
    "\n"
   ]
  },
  {
   "cell_type": "code",
   "execution_count": 144,
   "id": "ef92ca7c",
   "metadata": {},
   "outputs": [
    {
     "name": "stdout",
     "output_type": "stream",
     "text": [
      "[*********************100%***********************]  1 of 1 completed\n",
      "26.083422301942587\n"
     ]
    }
   ],
   "source": [
    "cumulative_return2 = cumulative_return('AAPL')\n",
    "\n",
    "\n",
    "print(cumulative_return2)"
   ]
  },
  {
   "cell_type": "code",
   "execution_count": 128,
   "id": "ef855606",
   "metadata": {},
   "outputs": [
    {
     "name": "stdout",
     "output_type": "stream",
     "text": [
      "Volatility for AAPL: 31.90%\n"
     ]
    }
   ],
   "source": [
    "import yfinance as yf\n",
    "\n",
    "# Define the ticker symbol for the stock\n",
    "ticker_symbol = \"AAPL\"\n",
    "\n",
    "# Create a Yahoo Finance ticker object\n",
    "ticker = yf.Ticker(ticker_symbol)\n",
    "\n",
    "# Get historical price data\n",
    "historical_data = ticker.history(period=\"1y\", interval=\"1d\")\n",
    "\n",
    "# Calculate the volatility\n",
    "volatility = historical_data[\"Close\"].pct_change().std() * np.sqrt(252)\n",
    "\n",
    "print(f\"Volatility for {ticker_symbol}: {100*volatility:.2f}%\")"
   ]
  },
  {
   "cell_type": "code",
   "execution_count": 110,
   "id": "17708e5b",
   "metadata": {},
   "outputs": [
    {
     "name": "stdout",
     "output_type": "stream",
     "text": [
      "[*********************100%***********************]  1 of 1 completed\n",
      "1.8380561934525268\n"
     ]
    }
   ],
   "source": [
    "import yfinance as yf\n",
    "\n",
    "def sortino_ratio(ticker, risk_free_rate):\n",
    "  \"\"\"\n",
    "  Calculates the Sortino ratio of a stock using Yahoo Finance.\n",
    "\n",
    "  Args:\n",
    "    ticker: The ticker symbol of the stock.\n",
    "    risk_free_rate: The risk-free rate.\n",
    "\n",
    "  Returns:\n",
    "    The Sortino ratio.\n",
    "  \"\"\"\n",
    "\n",
    "  # Get the historical prices of the stock.\n",
    "  df = yf.download(ticker, start=\"2022-01-01\", end=\"2023-05-19\")\n",
    "\n",
    "  # Calculate the cumulative returns.\n",
    "  cum_returns = (df['Adj Close'].pct_change() + 1).cumprod()\n",
    "\n",
    "  # Find the peak of the cumulative returns.\n",
    "  peak = cum_returns.max()\n",
    "\n",
    "  # Find the trough of the cumulative returns.\n",
    "  trough = cum_returns.min()\n",
    "\n",
    "  # Calculate the maximum drawdown.\n",
    "  max_drawdown = (peak - trough) / peak\n",
    "\n",
    "  # Calculate the annualized volatility.\n",
    "  volatility = df['Adj Close'].pct_change().std() * np.sqrt(252)\n",
    "\n",
    "  # Calculate the Sortino ratio.\n",
    "  sortino_ratio = (cum_returns.iloc[-1] - risk_free_rate) / max_drawdown\n",
    "\n",
    "  return sortino_ratio\n",
    "\n",
    "# Calculate the Sortino ratio of Alphabet Inc. (GOOG).\n",
    "risk_free_rate = 0.05\n",
    "sortino_ratio = sortino_ratio('GOOG', risk_free_rate)\n",
    "\n",
    "# Print the Sortino ratio.\n",
    "print(sortino_ratio)\n",
    "\n",
    "# Output:\n",
    "# 2.63\n"
   ]
  },
  {
   "cell_type": "code",
   "execution_count": 111,
   "id": "30169cc7",
   "metadata": {},
   "outputs": [
    {
     "name": "stdout",
     "output_type": "stream",
     "text": [
      "[*********************100%***********************]  1 of 1 completed\n",
      "0.06305152698712178\n"
     ]
    }
   ],
   "source": [
    "import yfinance as yf\n",
    "\n",
    "def sharpe_ratio(ticker, risk_free_rate=0):\n",
    " \n",
    "\n",
    "  # Get the historical prices of the stock.\n",
    "  df = yf.download(ticker, start=\"2010-01-01\", end=\"2023-05-01\")\n",
    "\n",
    "  # Calculate the returns of the stock.\n",
    "  returns = df['Adj Close'].pct_change()\n",
    "\n",
    "  # Calculate the Sharpe ratio.\n",
    "  mean_returns = np.mean(returns)\n",
    "  std_dev = np.std(returns)\n",
    "\n",
    "  sharpe_ratio = (mean_returns - risk_free_rate) / std_dev\n",
    "\n",
    "  return sharpe_ratio\n",
    "\n",
    "sharpe_ratio=sharpe_ratio('AAPL')\n",
    "\n",
    "print(sharpe_ratio)\n"
   ]
  },
  {
   "cell_type": "code",
   "execution_count": 112,
   "id": "93c41569",
   "metadata": {},
   "outputs": [
    {
     "name": "stdout",
     "output_type": "stream",
     "text": [
      "[*********************100%***********************]  1 of 1 completed\n"
     ]
    }
   ],
   "source": [
    "def max_drawdown(ticker):\n",
    "\n",
    "\n",
    "  # Get the historical prices of the stock.\n",
    "  df = yf.download(ticker, start=\"2010-01-01\", end=\"2023-05-01\")\n",
    "\n",
    "  # Calculate the cumulative returns.\n",
    "  cum_returns = df['Adj Close'].pct_change().cumsum()\n",
    "\n",
    "  # Find the peak of the cumulative returns.\n",
    "  peak = cum_returns.max()\n",
    "\n",
    "  # Find the trough of the cumulative returns.\n",
    "  trough = cum_returns.min()\n",
    "\n",
    "  # Calculate the maximum drawdown.\n",
    "  max_drawdown = (peak - trough) / peak\n",
    "\n",
    "  return max_drawdown\n",
    "\n",
    "max_drawdown=max_drawdown('AAPL')"
   ]
  },
  {
   "cell_type": "code",
   "execution_count": null,
   "id": "5664d125",
   "metadata": {},
   "outputs": [],
   "source": []
  },
  {
   "cell_type": "code",
   "execution_count": null,
   "id": "cd4bda62",
   "metadata": {},
   "outputs": [],
   "source": []
  }
 ],
 "metadata": {
  "kernelspec": {
   "display_name": "Python 3",
   "language": "python",
   "name": "python3"
  },
  "language_info": {
   "codemirror_mode": {
    "name": "ipython",
    "version": 3
   },
   "file_extension": ".py",
   "mimetype": "text/x-python",
   "name": "python",
   "nbconvert_exporter": "python",
   "pygments_lexer": "ipython3",
   "version": "3.8.8"
  }
 },
 "nbformat": 4,
 "nbformat_minor": 5
}
