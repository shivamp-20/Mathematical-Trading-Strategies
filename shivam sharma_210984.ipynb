{
 "cells": [
  {
   "cell_type": "code",
   "execution_count": 44,
   "metadata": {},
   "outputs": [],
   "source": [
    "import pandas as pd\n",
    "import matplotlib.pyplot as plt\n",
    "from datetime import datetime\n",
    "import numpy as np\n",
    "plt.style.use('seaborn')\n",
    "\n",
    "import yfinance as yf\n",
    "\n"
   ]
  },
  {
   "cell_type": "code",
   "execution_count": 45,
   "metadata": {},
   "outputs": [],
   "source": [
    "indices=['^NYA','^IXIC','^XAX','^DJI','^RUT']\n",
    "\n",
    "equities = ['MANU', 'GOOG', 'EVGO', 'TJX', 'AMZN']"
   ]
  },
  {
   "cell_type": "code",
   "execution_count": 46,
   "metadata": {},
   "outputs": [
    {
     "name": "stdout",
     "output_type": "stream",
     "text": [
      "[*********************100%***********************]  5 of 5 completed\n"
     ]
    }
   ],
   "source": [
    "start_date='2010-01-01'\n",
    "end_date='2023-05-01'\n",
    "\n",
    "indices_data = yf.download(indices, start=start_date, end=end_date)['Adj Close']\n"
   ]
  },
  {
   "cell_type": "code",
   "execution_count": 47,
   "metadata": {},
   "outputs": [
    {
     "name": "stdout",
     "output_type": "stream",
     "text": [
      "[*********************100%***********************]  5 of 5 completed\n"
     ]
    }
   ],
   "source": [
    "\n",
    "equities_data = yf.download(equities, start=start_date, end=end_date)['Adj Close']"
   ]
  },
  {
   "cell_type": "code",
   "execution_count": 48,
   "metadata": {},
   "outputs": [],
   "source": [
    "indices_returns = indices_data.pct_change()\n",
    "equities_returns = equities_data.pct_change()\n"
   ]
  },
  {
   "cell_type": "code",
   "execution_count": 49,
   "metadata": {},
   "outputs": [],
   "source": [
    "indices_cumulative_returns = (1 + indices_returns).cumprod()\n",
    "equities_cumulative_returns = (1 + equities_returns).cumprod()\n"
   ]
  },
  {
   "cell_type": "code",
   "execution_count": 50,
   "metadata": {},
   "outputs": [
    {
     "name": "stdout",
     "output_type": "stream",
     "text": [
      "                ^DJI     ^IXIC      ^NYA      ^RUT      ^XAX\n",
      "Date                                                        \n",
      "2010-01-04       NaN       NaN       NaN       NaN       NaN\n",
      "2010-01-05  0.998872  1.000126  1.003839  0.997485  1.003377\n",
      "2010-01-06  0.999029  0.996825  1.006955  0.996641  1.007143\n",
      "2010-01-07  1.002164  0.996374  1.009171  1.002921  1.007747\n",
      "2010-01-08  1.003234  1.003790  1.013459  1.006968  1.010164\n",
      "...              ...       ...       ...       ...       ...\n",
      "2023-04-24  3.200636  5.214476  2.130103  2.794673  2.311039\n",
      "2023-04-25  3.168080  5.111358  2.096912  2.727621  2.261110\n",
      "2023-04-26  3.146447  5.135266  2.078493  2.703343  2.251842\n",
      "2023-04-27  3.195983  5.259979  2.106208  2.735854  2.260932\n",
      "2023-04-28  3.221683  5.296515  2.121800  2.763615  2.265518\n",
      "\n",
      "[3353 rows x 5 columns]\n"
     ]
    }
   ],
   "source": [
    "print(indices_cumulative_returns)\n"
   ]
  },
  {
   "cell_type": "code",
   "execution_count": 51,
   "metadata": {},
   "outputs": [
    {
     "name": "stdout",
     "output_type": "stream",
     "text": [
      "                 AMZN      EVGO      GOOG      MANU        TJX\n",
      "Date                                                          \n",
      "2010-01-04        NaN       NaN       NaN       NaN        NaN\n",
      "2010-01-05   1.005900       NaN  0.995596       NaN   1.026914\n",
      "2010-01-06   0.987677       NaN  0.970499       NaN   1.031076\n",
      "2010-01-07   0.970874       NaN  0.947906       NaN   1.083795\n",
      "2010-01-08   0.997162       NaN  0.960542       NaN   1.069645\n",
      "...               ...       ...       ...       ...        ...\n",
      "2023-04-24  15.864077  0.617674  6.840382  1.658924  10.365932\n",
      "2023-04-25  15.320388  0.588115  6.701371  1.618087  10.142853\n",
      "2023-04-26  15.680359  0.603404  6.691121  1.584954  10.224693\n",
      "2023-04-27  16.403286  0.620732  6.942239  1.587266  10.420053\n",
      "2023-04-28  15.750559  0.610539  6.932629  1.544887  10.404212\n",
      "\n",
      "[3353 rows x 5 columns]\n"
     ]
    }
   ],
   "source": [
    "print(equities_cumulative_returns)"
   ]
  },
  {
   "cell_type": "code",
   "execution_count": 52,
   "metadata": {},
   "outputs": [],
   "source": [
    "def calculate_max_drawdown(data):\n",
    "    cumulative_returns = (1 + data).cumprod()\n",
    "    peak = cumulative_returns.expanding(min_periods=1).max()\n",
    "    drawdown = (cumulative_returns / peak) - 1\n",
    "    max_drawdown = drawdown.min()\n",
    "    return max_drawdown\n",
    "\n",
    "indices_max_drawdowns = calculate_max_drawdown(indices_returns)\n",
    "equities_max_drawdowns = calculate_max_drawdown(equities_returns)\n"
   ]
  },
  {
   "cell_type": "code",
   "execution_count": 53,
   "metadata": {},
   "outputs": [
    {
     "name": "stdout",
     "output_type": "stream",
     "text": [
      "^DJI    -0.370862\n",
      "^IXIC   -0.363953\n",
      "^NYA    -0.381142\n",
      "^RUT    -0.430613\n",
      "^XAX    -0.535116\n",
      "dtype: float64\n",
      "AMZN   -0.561453\n",
      "EVGO   -0.833711\n",
      "GOOG   -0.446018\n",
      "MANU   -0.580516\n",
      "TJX    -0.425535\n",
      "dtype: float64\n"
     ]
    }
   ],
   "source": [
    "print(indices_max_drawdowns)\n",
    "print(equities_max_drawdowns)"
   ]
  },
  {
   "cell_type": "code",
   "execution_count": 54,
   "metadata": {},
   "outputs": [],
   "source": [
    "risk_free_rate = 3.5  # Set the risk-free rate\n",
    "\n",
    "def calculate_sharpe_ratio(data, risk_free_rate):\n",
    "    excess_returns = data - risk_free_rate\n",
    "    annualized_returns = excess_returns.mean() * 252  # Assuming 252 trading days in a year\n",
    "    annualized_volatility = data.std() * np.sqrt(252)\n",
    "    sharpe_ratio = annualized_returns / annualized_volatility\n",
    "    return sharpe_ratio\n",
    "\n",
    "def calculate_sortino_ratio(data, risk_free_rate):\n",
    "    downside_returns = data.copy()\n",
    "    downside_returns[downside_returns > 0] = 0  # Consider only negative returns for downside\n",
    "    annualized_returns = data.mean() * 252\n",
    "    downside_deviation = downside_returns.std() * np.sqrt(252)\n",
    "    sortino_ratio = (annualized_returns - risk_free_rate) / downside_deviation\n",
    "    return sortino_ratio\n",
    "\n",
    "indices_sharpe_ratio = calculate_sharpe_ratio(indices_returns, risk_free_rate)\n",
    "indices_sortino_ratio = calculate_sortino_ratio(indices_returns,risk_free_rate)\n"
   ]
  },
  {
   "cell_type": "code",
   "execution_count": 55,
   "metadata": {},
   "outputs": [],
   "source": [
    "equities_sharpe_ratio=calculate_sharpe_ratio(equities_returns,risk_free_rate)\n",
    "equities_sortino_ratio=calculate_sortino_ratio(equities_returns,risk_free_rate)"
   ]
  },
  {
   "cell_type": "code",
   "execution_count": 56,
   "metadata": {},
   "outputs": [
    {
     "name": "stdout",
     "output_type": "stream",
     "text": [
      "AMZN   -2657.446054\n",
      "EVGO    -920.185636\n",
      "GOOG   -3225.721839\n",
      "MANU   -2634.037338\n",
      "TJX    -3427.656832\n",
      "dtype: float64\n",
      "AMZN   -16.545775\n",
      "EVGO    -7.396731\n",
      "GOOG   -20.343668\n",
      "MANU   -17.840893\n",
      "TJX    -21.366798\n",
      "dtype: float64\n"
     ]
    }
   ],
   "source": [
    "print(equities_sharpe_ratio)\n",
    "print(equities_sortino_ratio)"
   ]
  },
  {
   "cell_type": "code",
   "execution_count": 57,
   "metadata": {},
   "outputs": [
    {
     "name": "stdout",
     "output_type": "stream",
     "text": [
      "^DJI    -5132.742917\n",
      "^IXIC   -4279.694433\n",
      "^NYA    -5024.736170\n",
      "^RUT    -3833.804743\n",
      "^XAX    -4499.837851\n",
      "dtype: float64\n",
      "^DJI    -30.384165\n",
      "^IXIC   -25.460691\n",
      "^NYA    -29.832512\n",
      "^RUT    -23.230882\n",
      "^XAX    -26.981209\n",
      "dtype: float64\n"
     ]
    }
   ],
   "source": [
    "print(indices_sharpe_ratio)\n",
    "print(indices_sortino_ratio)"
   ]
  }
 ],
 "metadata": {
  "kernelspec": {
   "display_name": "Python 3.9.12 ('base')",
   "language": "python",
   "name": "python3"
  },
  "language_info": {
   "codemirror_mode": {
    "name": "ipython",
    "version": 3
   },
   "file_extension": ".py",
   "mimetype": "text/x-python",
   "name": "python",
   "nbconvert_exporter": "python",
   "pygments_lexer": "ipython3",
   "version": "3.9.12"
  },
  "orig_nbformat": 4,
  "vscode": {
   "interpreter": {
    "hash": "d0c36674c55c25b6eb9a2eeb6a80ea7c58c156fa4d76c56b3914e607b2ba1d61"
   }
  }
 },
 "nbformat": 4,
 "nbformat_minor": 2
}
