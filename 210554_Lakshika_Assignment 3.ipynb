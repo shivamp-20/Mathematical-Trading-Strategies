{
 "cells": [
  {
   "cell_type": "code",
   "execution_count": 1,
   "id": "3f7ba9c8",
   "metadata": {},
   "outputs": [
    {
     "name": "stdout",
     "output_type": "stream",
     "text": [
      "[*********************100%***********************]  10 of 10 completed"
     ]
    },
    {
     "name": "stderr",
     "output_type": "stream",
     "text": [
      "\n",
      "1 Failed download:\n",
      "['FB']: Exception('%ticker%: No data found, symbol may be delisted')\n"
     ]
    },
    {
     "name": "stdout",
     "output_type": "stream",
     "text": [
      "\n"
     ]
    },
    {
     "ename": "AttributeError",
     "evalue": "module 'talib' has no attribute 'CDLDOWNSIDEGAP2CROWS'",
     "output_type": "error",
     "traceback": [
      "\u001b[1;31m---------------------------------------------------------------------------\u001b[0m",
      "\u001b[1;31mAttributeError\u001b[0m                            Traceback (most recent call last)",
      "\u001b[1;32m~\\AppData\\Local\\Temp\\ipykernel_19284\\3943390234.py\u001b[0m in \u001b[0;36m<module>\u001b[1;34m\u001b[0m\n\u001b[0;32m     19\u001b[0m         \u001b[1;31m# Example pattern detection functions using TA-Lib\u001b[0m\u001b[1;33m\u001b[0m\u001b[1;33m\u001b[0m\u001b[0m\n\u001b[0;32m     20\u001b[0m         \u001b[0mascending_triangle_pattern\u001b[0m \u001b[1;33m=\u001b[0m \u001b[0mtalib\u001b[0m\u001b[1;33m.\u001b[0m\u001b[0mCDLUPSIDEGAP2CROWS\u001b[0m\u001b[1;33m(\u001b[0m\u001b[0mdata\u001b[0m\u001b[1;33m[\u001b[0m\u001b[1;33m(\u001b[0m\u001b[1;34m'Open'\u001b[0m\u001b[1;33m,\u001b[0m \u001b[0mticker\u001b[0m\u001b[1;33m)\u001b[0m\u001b[1;33m]\u001b[0m\u001b[1;33m,\u001b[0m \u001b[0mdata\u001b[0m\u001b[1;33m[\u001b[0m\u001b[1;33m(\u001b[0m\u001b[1;34m'High'\u001b[0m\u001b[1;33m,\u001b[0m \u001b[0mticker\u001b[0m\u001b[1;33m)\u001b[0m\u001b[1;33m]\u001b[0m\u001b[1;33m,\u001b[0m \u001b[0mdata\u001b[0m\u001b[1;33m[\u001b[0m\u001b[1;33m(\u001b[0m\u001b[1;34m'Low'\u001b[0m\u001b[1;33m,\u001b[0m \u001b[0mticker\u001b[0m\u001b[1;33m)\u001b[0m\u001b[1;33m]\u001b[0m\u001b[1;33m,\u001b[0m \u001b[0mdf\u001b[0m\u001b[1;33m)\u001b[0m\u001b[1;33m\u001b[0m\u001b[1;33m\u001b[0m\u001b[0m\n\u001b[1;32m---> 21\u001b[1;33m         \u001b[0mdescending_triangle_pattern\u001b[0m \u001b[1;33m=\u001b[0m \u001b[0mtalib\u001b[0m\u001b[1;33m.\u001b[0m\u001b[0mCDLDOWNSIDEGAP2CROWS\u001b[0m\u001b[1;33m(\u001b[0m\u001b[0mdata\u001b[0m\u001b[1;33m[\u001b[0m\u001b[1;33m(\u001b[0m\u001b[1;34m'Open'\u001b[0m\u001b[1;33m,\u001b[0m \u001b[0mticker\u001b[0m\u001b[1;33m)\u001b[0m\u001b[1;33m]\u001b[0m\u001b[1;33m,\u001b[0m \u001b[0mdata\u001b[0m\u001b[1;33m[\u001b[0m\u001b[1;33m(\u001b[0m\u001b[1;34m'High'\u001b[0m\u001b[1;33m,\u001b[0m \u001b[0mticker\u001b[0m\u001b[1;33m)\u001b[0m\u001b[1;33m]\u001b[0m\u001b[1;33m,\u001b[0m \u001b[0mdata\u001b[0m\u001b[1;33m[\u001b[0m\u001b[1;33m(\u001b[0m\u001b[1;34m'Low'\u001b[0m\u001b[1;33m,\u001b[0m \u001b[0mticker\u001b[0m\u001b[1;33m)\u001b[0m\u001b[1;33m]\u001b[0m\u001b[1;33m,\u001b[0m \u001b[0mdf\u001b[0m\u001b[1;33m)\u001b[0m\u001b[1;33m\u001b[0m\u001b[1;33m\u001b[0m\u001b[0m\n\u001b[0m\u001b[0;32m     22\u001b[0m         \u001b[0mbull_flag_pattern\u001b[0m \u001b[1;33m=\u001b[0m \u001b[0mtalib\u001b[0m\u001b[1;33m.\u001b[0m\u001b[0mCDLBREAKAWAY\u001b[0m\u001b[1;33m(\u001b[0m\u001b[0mdata\u001b[0m\u001b[1;33m[\u001b[0m\u001b[1;33m(\u001b[0m\u001b[1;34m'Open'\u001b[0m\u001b[1;33m,\u001b[0m \u001b[0mticker\u001b[0m\u001b[1;33m)\u001b[0m\u001b[1;33m]\u001b[0m\u001b[1;33m,\u001b[0m \u001b[0mdata\u001b[0m\u001b[1;33m[\u001b[0m\u001b[1;33m(\u001b[0m\u001b[1;34m'High'\u001b[0m\u001b[1;33m,\u001b[0m \u001b[0mticker\u001b[0m\u001b[1;33m)\u001b[0m\u001b[1;33m]\u001b[0m\u001b[1;33m,\u001b[0m \u001b[0mdata\u001b[0m\u001b[1;33m[\u001b[0m\u001b[1;33m(\u001b[0m\u001b[1;34m'Low'\u001b[0m\u001b[1;33m,\u001b[0m \u001b[0mticker\u001b[0m\u001b[1;33m)\u001b[0m\u001b[1;33m]\u001b[0m\u001b[1;33m,\u001b[0m \u001b[0mdf\u001b[0m\u001b[1;33m)\u001b[0m\u001b[1;33m\u001b[0m\u001b[1;33m\u001b[0m\u001b[0m\n\u001b[0;32m     23\u001b[0m         \u001b[0mcup_and_handle_pattern\u001b[0m \u001b[1;33m=\u001b[0m \u001b[0mtalib\u001b[0m\u001b[1;33m.\u001b[0m\u001b[0mCDLCUPWITHHANDLE\u001b[0m\u001b[1;33m(\u001b[0m\u001b[0mdata\u001b[0m\u001b[1;33m[\u001b[0m\u001b[1;33m(\u001b[0m\u001b[1;34m'Open'\u001b[0m\u001b[1;33m,\u001b[0m \u001b[0mticker\u001b[0m\u001b[1;33m)\u001b[0m\u001b[1;33m]\u001b[0m\u001b[1;33m,\u001b[0m \u001b[0mdata\u001b[0m\u001b[1;33m[\u001b[0m\u001b[1;33m(\u001b[0m\u001b[1;34m'High'\u001b[0m\u001b[1;33m,\u001b[0m \u001b[0mticker\u001b[0m\u001b[1;33m)\u001b[0m\u001b[1;33m]\u001b[0m\u001b[1;33m,\u001b[0m \u001b[0mdata\u001b[0m\u001b[1;33m[\u001b[0m\u001b[1;33m(\u001b[0m\u001b[1;34m'Low'\u001b[0m\u001b[1;33m,\u001b[0m \u001b[0mticker\u001b[0m\u001b[1;33m)\u001b[0m\u001b[1;33m]\u001b[0m\u001b[1;33m,\u001b[0m \u001b[0mdf\u001b[0m\u001b[1;33m)\u001b[0m\u001b[1;33m\u001b[0m\u001b[1;33m\u001b[0m\u001b[0m\n",
      "\u001b[1;31mAttributeError\u001b[0m: module 'talib' has no attribute 'CDLDOWNSIDEGAP2CROWS'"
     ]
    }
   ],
   "source": [
    "import yfinance as yf\n",
    "import matplotlib.pyplot as plt\n",
    "import talib\n",
    "\n",
    "# Define the list of stock tickers\n",
    "tickers = ['AAPL', 'MSFT', 'GOOGL', 'AMZN', 'FB', 'NFLX', 'TSLA', 'NVDA', 'JPM', 'V']\n",
    "\n",
    "# Fetch historical stock data for the given tickers\n",
    "data = yf.download(tickers, period='10y', interval='1d')\n",
    "\n",
    "# Iterate over the tickers\n",
    "for ticker in tickers:\n",
    "    # Check if the ticker exists in the data dictionary\n",
    "    if ('Close', ticker) in data.columns:\n",
    "        # Get the stock's historical data\n",
    "        df = data[('Close', ticker)]\n",
    "\n",
    "        # Apply technical analysis functions to identify chart patterns\n",
    "        # Example pattern detection functions using TA-Lib\n",
    "        ascending_triangle_pattern = talib.CDLUPSIDEGAP2CROWS(data[('Open', ticker)], data[('High', ticker)], data[('Low', ticker)], df)\n",
    "        descending_triangle_pattern = talib.CDLDOWNSIDEGAP2CROWS(data[('Open', ticker)], data[('High', ticker)], data[('Low', ticker)], df)\n",
    "        bull_flag_pattern = talib.CDLBREAKAWAY(data[('Open', ticker)], data[('High', ticker)], data[('Low', ticker)], df)\n",
    "        cup_and_handle_pattern = talib.CDLCUPWITHHANDLE(data[('Open', ticker)], data[('High', ticker)], data[('Low', ticker)], df)\n",
    "        inverse_cup_and_handle_pattern = talib.CDLINVERTEDHAMMER(data[('Open', ticker)], data[('High', ticker)], data[('Low', ticker)], df)\n",
    "        head_and_shoulders_pattern = talib.CDLHEADANDSHOULDERS(data[('Open', ticker)], data[('High', ticker)], data[('Low', ticker)], df)\n",
    "        inverse_head_and_shoulders_pattern = talib.CDLINVERTEDHAMMER(data[('Open', ticker)], data[('High', ticker)], data[('Low', ticker)], df)\n",
    "        rounding_top_pattern = talib.CDLROUNDINGTOP(data[('Open', ticker)], data[('High', ticker)], data[('Low', ticker)], df)\n",
    "        rounding_bottom_pattern = talib.CDLROUNDBOTTOM(data[('Open', ticker)], data[('High', ticker)], data[('Low', ticker)], df)\n",
    "\n",
    "        # Plot the stock chart and mark the identified pattern points\n",
    "        plt.figure(figsize=(12, 6))\n",
    "        plt.plot(df.index, df, color='black', label='Close Price')\n",
    "        plt.scatter(df.index[ascending_triangle_pattern > 0], df[ascending_triangle_pattern > 0], color='green', marker='^', label='Ascending Triangle')\n",
    "        plt.scatter(df.index[descending_triangle_pattern > 0], df[descending_triangle_pattern > 0], color='red', marker='v', label='Descending Triangle')\n",
    "        plt.scatter(df.index[bull_flag_pattern > 0], df[bull_flag_pattern > 0], color='blue', marker='o', label='Bull Flag')\n",
    "        plt.scatter(df.index[cup_and_handle_pattern > 0], df[cup_and_handle_pattern > 0], color='purple', marker='s', label='Cup and Handle')\n",
    "        plt.scatter(df.index[inverse_cup_and_handle_pattern > 0], df[inverse_cup_and_handle_pattern > 0], color='orange', marker='x', label='Inverse Cup and Handle')\n",
    "        plt.scatter(df.index[head_and_shoulders_pattern > 0], df[head_and_shoulders_pattern > 0], color='pink', marker='v', label='Head and Shoulders')\n",
    "        plt.scatter(df.index[inverse_head_and_shoulders_pattern > 0], df[inverse_head_and_shoulders_pattern > 0], color='brown', marker='o', label='Inverse Head and Shoulders')\n",
    "        plt.scatter(df.index[rounding_top_pattern > 0], df[rounding_top_pattern > 0], color='cyan', marker='^', label='Rounding Top')\n",
    "        plt.scatter(df.index[rounding_bottom_pattern > 0], df[rounding_bottom_pattern > 0], color='magenta', marker='x', label='Rounding Bottom')\n",
    "        plt.xlabel('Date')\n",
    "        plt.ylabel('Close Price')\n",
    "        plt.title(f'{ticker} Stock Chart with Chart Patterns')\n",
    "        plt.legend()\n",
    "        plt.show()\n",
    "    else:\n",
    "        print(f\"No data available for {ticker}\")\n"
   ]
  },
  {
   "cell_type": "code",
   "execution_count": null,
   "id": "3d689621",
   "metadata": {},
   "outputs": [],
   "source": []
  }
 ],
 "metadata": {
  "kernelspec": {
   "display_name": "Python 3 (ipykernel)",
   "language": "python",
   "name": "python3"
  },
  "language_info": {
   "codemirror_mode": {
    "name": "ipython",
    "version": 3
   },
   "file_extension": ".py",
   "mimetype": "text/x-python",
   "name": "python",
   "nbconvert_exporter": "python",
   "pygments_lexer": "ipython3",
   "version": "3.9.13"
  }
 },
 "nbformat": 4,
 "nbformat_minor": 5
}
