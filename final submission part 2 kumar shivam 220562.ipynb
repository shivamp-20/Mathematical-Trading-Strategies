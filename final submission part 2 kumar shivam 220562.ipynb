{
 "cells": [
  {
   "cell_type": "code",
   "execution_count": 10,
   "id": "ca1cfc04",
   "metadata": {},
   "outputs": [
    {
     "name": "stdout",
     "output_type": "stream",
     "text": [
      "The volatility of ^GSPTSE is:\n",
      "0.14471105746092555\n",
      "The volatility of ^BSESN is:\n",
      "0.16032936963484834\n",
      "The volatility of ^GDAXI is:\n",
      "0.19854409004947426\n",
      "The volatility of ^FCHI is:\n",
      "0.2018426200245472\n",
      "The volatility of ^FTSE is:\n",
      "0.1585728193685971\n",
      "The volatility of JNJ is:\n",
      "0.16867686749342153\n",
      "The volatility of NVDA is:\n",
      "0.4451609556571866\n",
      "The volatility of MSFT is:\n",
      "0.26126219576138165\n",
      "The volatility of JPM is:\n",
      "0.28486916531579465\n",
      "The volatility of TSLA is:\n",
      "0.5611007049881462\n"
     ]
    }
   ],
   "source": [
    "import yfinance as yf\n",
    "import pandas as pd\n",
    "import numpy as np\n",
    "import math\n",
    "indices = ['^GSPTSE', '^BSESN', '^GDAXI', '^FCHI', '^FTSE']\n",
    "equities = ['JNJ', 'NVDA', 'MSFT', 'JPM', 'TSLA']\n",
    "indexdata=yf.download(indices, start='2010-01-01',end='2023-05-02',progress=False)['Adj Close']\n",
    "equitydata=yf.download(equities, start='2010-01-01',end='2023-05-02',progress=False)['Adj Close']\n",
    "#volatility calculation \n",
    "for index in indices:\n",
    "    data = indexdata[index]\n",
    "    validdata = data.dropna().replace(0, np.nan)\n",
    "    logarithmicreturns = np.log(data / data.shift(1))\n",
    "    meandata = np.mean(logarithmicreturns)\n",
    "    squaredifference = (logarithmicreturns - meandata) ** 2\n",
    "    sumsqdiff = np.sum(squaredifference)\n",
    "    variance = sumsqdiff / len(logarithmicreturns)\n",
    "    annualizedvolatility = math.sqrt(variance) * math.sqrt(252)\n",
    "    print(f\"The volatility of {index} is:\")\n",
    "    print(annualizedvolatility)\n",
    "for equity in equities:\n",
    "    data = equitydata[equity]\n",
    "    validdata = data.dropna().replace(0, np.nan)\n",
    "    logarithmicreturns = np.log(data / data.shift(1))\n",
    "    meandata = np.mean(logarithmicreturns)\n",
    "    squaredifference = (logarithmicreturns - meandata) ** 2\n",
    "    sumsqdiff = np.sum(squaredifference)\n",
    "    variance = sumsqdiff / len(logarithmicreturns)\n",
    "    annualizedvolatility = math.sqrt(variance) * math.sqrt(252)\n",
    "    print(f\"The volatility of {equity} is:\")\n",
    "    print(annualizedvolatility)"
   ]
  }
 ],
 "metadata": {
  "kernelspec": {
   "display_name": "Python 3 (ipykernel)",
   "language": "python",
   "name": "python3"
  },
  "language_info": {
   "codemirror_mode": {
    "name": "ipython",
    "version": 3
   },
   "file_extension": ".py",
   "mimetype": "text/x-python",
   "name": "python",
   "nbconvert_exporter": "python",
   "pygments_lexer": "ipython3",
   "version": "3.10.4"
  }
 },
 "nbformat": 4,
 "nbformat_minor": 5
}
