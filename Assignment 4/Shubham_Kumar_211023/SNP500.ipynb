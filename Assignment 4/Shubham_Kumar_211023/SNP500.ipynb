{
  "cells": [
    {
      "cell_type": "code",
      "execution_count": 1,
      "metadata": {
        "id": "TeIaf9zxRmr-"
      },
      "outputs": [],
      "source": [
        "import yfinance as yf\n",
        "import pandas as pd\n",
        "import numpy as np\n",
        "import matplotlib.pyplot as plt\n"
      ]
    },
    {
      "cell_type": "code",
      "execution_count": 2,
      "metadata": {
        "id": "yC3BjFcpRmr_"
      },
      "outputs": [],
      "source": [
        "ticker = \"^GSPC\"\n",
        "start_date = \"2013-07-01\"\n",
        "end_date = \"2023-07-01\""
      ]
    },
    {
      "cell_type": "code",
      "execution_count": 3,
      "metadata": {
        "id": "IevfhGxURmsA",
        "outputId": "f07c7a4a-47ed-4b0a-ee35-a72b949a581f",
        "colab": {
          "base_uri": "https://localhost:8080/"
        }
      },
      "outputs": [
        {
          "output_type": "stream",
          "name": "stdout",
          "text": [
            "\r[*********************100%***********************]  1 of 1 completed\n"
          ]
        }
      ],
      "source": [
        "data = yf.download(ticker, start=start_date, end=end_date)\n",
        "df = data[['Open', 'High', 'Low', 'Close']].copy()"
      ]
    },
    {
      "cell_type": "code",
      "execution_count": 4,
      "metadata": {
        "id": "M6SSeAd8RmsB"
      },
      "outputs": [],
      "source": [
        "def calculate_macd(df, short_period=12, long_period=26, signal_period=9):\n",
        "    df['EMA_short'] = df['Close'].ewm(span=short_period, adjust=False).mean()\n",
        "    df['EMA_long'] = df['Close'].ewm(span=long_period, adjust=False).mean()\n",
        "    df['MACD'] = df['EMA_short'] - df['EMA_long']\n",
        "    df['Signal'] = df['MACD'].ewm(span=signal_period, adjust=False).mean()\n",
        "\n",
        "calculate_macd(df)"
      ]
    },
    {
      "cell_type": "code",
      "execution_count": 5,
      "metadata": {
        "id": "asUTV_adRmsB"
      },
      "outputs": [],
      "source": [
        "def identify_double_top(df, lookback=5):\n",
        "    df['High_shifted'] = df['High'].shift(1)\n",
        "    df['Low_shifted'] = df['Low'].shift(1)\n",
        "    df['Double_Top'] = ((df['High'] > df['High_shifted']) &\n",
        "                        (df['High_shifted'] < df['High_shifted'].shift(1)) &\n",
        "                        (df['Low'] < df['Low_shifted']))\n",
        "    df.drop(['High_shifted', 'Low_shifted'], axis=1, inplace=True)\n",
        "\n",
        "identify_double_top(df)"
      ]
    },
    {
      "cell_type": "code",
      "execution_count": 6,
      "metadata": {
        "id": "lUAWeqmhRmsB"
      },
      "outputs": [],
      "source": [
        "capital = 100000  # Initial capital\n",
        "position = 0  # 0 for no position, 1 for long position\n",
        "stop_loss = 0  # Stop-loss level\n",
        "take_profit = 0  # Take-profit level\n",
        "returns = []  # List to track daily returns\n",
        "buy_dates = []\n",
        "sell_dates = []"
      ]
    },
    {
      "cell_type": "code",
      "execution_count": 7,
      "metadata": {
        "id": "vne9pMdvRmsC",
        "outputId": "f0129141-9ec6-4089-969b-20464daf3314",
        "colab": {
          "base_uri": "https://localhost:8080/"
        }
      },
      "outputs": [
        {
          "output_type": "stream",
          "name": "stdout",
          "text": [
            "Buy at: 1691.6500244140625\n",
            "Sell at: 1676.030029296875\n",
            "Buy at: 1867.6300048828125\n",
            "Sell at: 1863.8800048828125\n",
            "Buy at: 1878.6099853515625\n",
            "Sell at: 1870.239990234375\n",
            "Buy at: 1927.8800048828125\n",
            "Sell at: 1948.6900634765625\n",
            "Buy at: 2039.3299560546875\n",
            "Sell at: 2077.6602783203125\n",
            "Buy at: 2097.449951171875\n",
            "Sell at: 2090.7900390625\n",
            "Buy at: 2003.68994140625\n",
            "Sell at: 2001.780029296875\n",
            "Buy at: 1989.5699462890625\n",
            "Sell at: 2076.7398681640625\n",
            "Buy at: 2094.340087890625\n",
            "Sell at: 2073.64990234375\n",
            "Buy at: 2099.72998046875\n",
            "Sell at: 2154.119873046875\n",
            "Buy at: 2166.580078125\n",
            "Sell at: 2159.070068359375\n",
            "Buy at: 2159.929931640625\n",
            "Sell at: 2141.550048828125\n",
            "Buy at: 2363.81005859375\n",
            "Sell at: 2355.090087890625\n",
            "Buy at: 2384.199951171875\n",
            "Sell at: 2382.360107421875\n",
            "Buy at: 2411.800048828125\n",
            "Sell at: 2440.789794921875\n",
            "Buy at: 2508.239990234375\n",
            "Sell at: 2496.669921875\n",
            "Buy at: 2544.72998046875\n",
            "Sell at: 2572.260009765625\n",
            "Buy at: 2634.56005859375\n",
            "Sell at: 2617.320068359375\n",
            "Buy at: 2775.6298828125\n",
            "Sell at: 2774.64990234375\n",
            "Buy at: 2809.550048828125\n",
            "Sell at: 2864.08984375\n",
            "Buy at: 2510.030029296875\n",
            "Sell at: 2467.469970703125\n",
            "Buy at: 2979.6298828125\n",
            "Sell at: 3018.81982421875\n",
            "Buy at: 2978.429931640625\n",
            "Sell at: 2969.389892578125\n",
            "Buy at: 3246.280029296875\n",
            "Sell at: 3311.240478515625\n",
            "Buy at: 3352.090087890625\n",
            "Sell at: 3317.77001953125\n",
            "Buy at: 3190.139892578125\n",
            "Sell at: 3181.489990234375\n",
            "Buy at: 3152.050048828125\n",
            "Sell at: 3307.940185546875\n",
            "Buy at: 3577.590087890625\n",
            "Sell at: 3663.89013671875\n",
            "Buy at: 3702.25\n",
            "Sell at: 3678.830078125\n",
            "Buy at: 3855.360107421875\n",
            "Sell at: 3797.159912109375\n",
            "Buy at: 4227.259765625\n",
            "Sell at: 4208.41015625\n",
            "Buy at: 4361.18994140625\n",
            "Sell at: 4360.58984375\n",
            "Buy at: 4778.72998046875\n",
            "Sell at: 4775.330078125\n",
            "Buy at: 4796.56005859375\n",
            "Sell at: 4758.169921875\n",
            "Buy at: 4521.5400390625\n",
            "Sell at: 4465.39990234375\n",
            "Buy at: 3669.909912109375\n",
            "Sell at: 4073.069580078125\n",
            "Buy at: 4164.0\n",
            "Sell at: 4088.389892578125\n",
            "Buy at: 4105.02001953125\n",
            "Sell at: 4069.840087890625\n"
          ]
        }
      ],
      "source": [
        "for i in range(1, len(df)):\n",
        "    # Buy signal\n",
        "    if df['MACD'].iloc[i] > df['Signal'].iloc[i] and df['Double_Top'].iloc[i]:\n",
        "        if position == 0:\n",
        "            position = 1\n",
        "            stop_loss = df['Low'].iloc[i]\n",
        "            take_profit = df['High'].iloc[i] + (df['High'].iloc[i] - stop_loss) * 2\n",
        "            buy_dates.append(df.index[i])\n",
        "            returns.append(0)  # Add a dummy return value\n",
        "            print('Buy at:', df['Close'].iloc[i])\n",
        "    # Sell signal\n",
        "    elif position == 1 and (df['Low'].iloc[i] < stop_loss or df['High'].iloc[i] > take_profit):\n",
        "        position = 0\n",
        "        exit_price = stop_loss if df['Low'].iloc[i] < stop_loss else take_profit\n",
        "        returns.append((exit_price - df['Close'].iloc[i-1]) / df['Close'].iloc[i-1])\n",
        "        capital *= (1 + returns[-1])\n",
        "        sell_dates.append(df.index[i])\n",
        "        print('Sell at:', exit_price)\n",
        "\n",
        "    # Hold position\n",
        "    else:\n",
        "        returns.append((df['Close'].iloc[i] - df['Close'].iloc[i-1]) / df['Close'].iloc[i-1])"
      ]
    },
    {
      "cell_type": "code",
      "execution_count": 8,
      "metadata": {
        "id": "yFbB4kjhRmsC"
      },
      "outputs": [],
      "source": [
        "# Remove the dummy return value\n",
        "returns = returns[1:]\n",
        "\n",
        "# Calculate evaluation metrics\n",
        "cumulative_returns = (capital - 100000) / 100000\n",
        "max_drawdown = np.min(np.subtract.accumulate(returns))\n",
        "daily_returns = np.array(returns)\n",
        "sharpe_ratio = np.sqrt(252) * np.mean(daily_returns) / np.std(daily_returns)"
      ]
    },
    {
      "cell_type": "code",
      "execution_count": 9,
      "metadata": {
        "id": "iNMRoK2_RmsD",
        "outputId": "9d508552-e9c6-4275-b400-71cdf322839b",
        "colab": {
          "base_uri": "https://localhost:8080/",
          "height": 472
        }
      },
      "outputs": [
        {
          "output_type": "display_data",
          "data": {
            "text/plain": [
              "<Figure size 640x480 with 1 Axes>"
            ],
            "image/png": "[encoded data removed]"
          },
          "metadata": {}
        }
      ],
      "source": [
        "equity_curve = np.cumprod(1 + np.array(returns))\n",
        "plt.plot(df.index[1:len(equity_curve)+1], equity_curve)\n",
        "\n",
        "buy_indices = np.where(df.index.isin(buy_dates))[0]\n",
        "sell_indices = np.where(df.index.isin(sell_dates))[0]\n",
        "\n",
        "# Adjust the sell indices to match the length of the equity curve\n",
        "sell_indices = sell_indices[sell_indices < len(equity_curve)]\n",
        "\n",
        "plt.scatter(df.index[buy_indices], equity_curve[buy_indices], color='green', label='Buy')\n",
        "plt.scatter(df.index[sell_indices], equity_curve[sell_indices], color='red', label='Sell')\n",
        "\n",
        "plt.xlabel('Date')\n",
        "plt.ylabel('Equity')\n",
        "plt.title('Equity Curve')\n",
        "plt.legend()\n",
        "plt.show()"
      ]
    },
    {
      "cell_type": "code",
      "execution_count": 10,
      "metadata": {
        "id": "10p1b8JdRmsD",
        "outputId": "fb036939-89b6-44a5-cc40-5e5cbc96eeec",
        "colab": {
          "base_uri": "https://localhost:8080/"
        }
      },
      "outputs": [
        {
          "output_type": "stream",
          "name": "stdout",
          "text": [
            "Cumulative Returns: -0.057941209460898827\n",
            "Maximum Drawdown: -1.2967966322772309\n",
            "Sharpe Ratio: 0.7155752319833528\n"
          ]
        }
      ],
      "source": [
        "print('Cumulative Returns:', cumulative_returns)\n",
        "print('Maximum Drawdown:', max_drawdown)\n",
        "print('Sharpe Ratio:', sharpe_ratio)"
      ]
    }
  ],
  "metadata": {
    "kernelspec": {
      "display_name": "Python 3",
      "language": "python",
      "name": "python3"
    },
    "language_info": {
      "codemirror_mode": {
        "name": "ipython",
        "version": 3
      },
      "file_extension": ".py",
      "mimetype": "text/x-python",
      "name": "python",
      "nbconvert_exporter": "python",
      "pygments_lexer": "ipython3",
      "version": "3.10.3"
    },
    "orig_nbformat": 4,
    "colab": {
      "provenance": []
    }
  },
  "nbformat": 4,
  "nbformat_minor": 0
}