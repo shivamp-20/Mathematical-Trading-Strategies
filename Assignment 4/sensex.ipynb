{
 "cells": [
  {
   "cell_type": "code",
   "execution_count": 11,
   "metadata": {},
   "outputs": [],
   "source": [
    "import yfinance as yf\n",
    "import pandas as pd\n",
    "import numpy as np\n",
    "import matplotlib.pyplot as plt\n"
   ]
  },
  {
   "cell_type": "code",
   "execution_count": 12,
   "metadata": {},
   "outputs": [],
   "source": [
    "ticker = \"^NSEI\"  \n",
    "start_date = \"2013-07-01\"  \n",
    "end_date = \"2023-07-01\" "
   ]
  },
  {
   "cell_type": "code",
   "execution_count": 13,
   "metadata": {},
   "outputs": [
    {
     "name": "stdout",
     "output_type": "stream",
     "text": [
      "[*********************100%***********************]  1 of 1 completed\n"
     ]
    }
   ],
   "source": [
    "data = yf.download(ticker, start=start_date, end=end_date)\n",
    "df = data[['Open', 'High', 'Low', 'Close']].copy()"
   ]
  },
  {
   "cell_type": "code",
   "execution_count": 14,
   "metadata": {},
   "outputs": [],
   "source": [
    "def calculate_macd(df, short_period=12, long_period=26, signal_period=9):\n",
    "    df['EMA_short'] = df['Close'].ewm(span=short_period, adjust=False).mean()\n",
    "    df['EMA_long'] = df['Close'].ewm(span=long_period, adjust=False).mean()\n",
    "    df['MACD'] = df['EMA_short'] - df['EMA_long']\n",
    "    df['Signal'] = df['MACD'].ewm(span=signal_period, adjust=False).mean()\n",
    "\n",
    "calculate_macd(df)"
   ]
  },
  {
   "cell_type": "code",
   "execution_count": 15,
   "metadata": {},
   "outputs": [],
   "source": [
    "def identify_double_top(df, lookback=5):\n",
    "    df['High_shifted'] = df['High'].shift(1)\n",
    "    df['Low_shifted'] = df['Low'].shift(1)\n",
    "    df['Double_Top'] = ((df['High'] > df['High_shifted']) &\n",
    "                        (df['High_shifted'] < df['High_shifted'].shift(1)) &\n",
    "                        (df['Low'] < df['Low_shifted']))\n",
    "    df.drop(['High_shifted', 'Low_shifted'], axis=1, inplace=True)\n",
    "\n",
    "identify_double_top(df)"
   ]
  },
  {
   "cell_type": "code",
   "execution_count": 16,
   "metadata": {},
   "outputs": [],
   "source": [
    "capital = 100000  # Initial capital\n",
    "position = 0  # 0 for no position, 1 for long position\n",
    "stop_loss = 0  # Stop-loss level\n",
    "take_profit = 0  # Take-profit level\n",
    "returns = []  # List to track daily returns\n",
    "buy_dates = []\n",
    "sell_dates = []"
   ]
  },
  {
   "cell_type": "code",
   "execution_count": 17,
   "metadata": {},
   "outputs": [
    {
     "name": "stdout",
     "output_type": "stream",
     "text": [
      "Buy at: 5840.5498046875\n",
      "Sell at: 5798.14990234375\n",
      "Buy at: 6278.89990234375\n",
      "Sell at: 6259.4501953125\n",
      "Buy at: 6493.10009765625\n",
      "Sell at: 6476.64990234375\n",
      "Buy at: 7542.10009765625\n",
      "Sell at: 7525.35009765625\n",
      "Buy at: 8086.85009765625\n",
      "Sell at: 8049.85009765625\n",
      "Buy at: 8808.900390625\n",
      "Sell at: 8775.099609375\n",
      "Buy at: 8319.0\n",
      "Sell at: 8270.150390625\n",
      "Buy at: 8484.900390625\n",
      "Sell at: 8424.150390625\n",
      "Buy at: 8529.4501953125\n",
      "Sell at: 8517.900390625\n",
      "Buy at: 7812.0\n",
      "Sell at: 7787.75\n",
      "Buy at: 7843.2998046875\n",
      "Sell at: 7691.2001953125\n",
      "Buy at: 7834.4501953125\n",
      "Sell at: 7733.4501953125\n",
      "Buy at: 7563.5498046875\n",
      "Sell at: 7402.7998046875\n",
      "Buy at: 7615.10009765625\n",
      "Sell at: 7587.7001953125\n",
      "Buy at: 7962.64990234375\n",
      "Sell at: 7822.5498046875\n",
      "Buy at: 8716.400390625\n",
      "Sell at: 9092.201171875\n",
      "Buy at: 9313.7998046875\n",
      "Sell at: 9517.8486328125\n",
      "Buy at: 9427.900390625\n",
      "Sell at: 9390.75\n",
      "Buy at: 10788.5498046875\n",
      "Sell at: 11075.5\n",
      "Buy at: 11016.900390625\n",
      "Sell at: 10878.7998046875\n",
      "Buy at: 10564.0498046875\n",
      "Sell at: 10527.4501953125\n",
      "Buy at: 10817.7001953125\n",
      "Sell at: 10755.400390625\n",
      "Buy at: 10754.0\n",
      "Sell at: 10738.650390625\n",
      "Buy at: 11643.9501953125\n",
      "Sell at: 11629.150390625\n",
      "Buy at: 11657.0498046875\n",
      "Sell at: 11614.5\n",
      "Buy at: 11023.25\n",
      "Sell at: 10874.7998046875\n",
      "Buy at: 11359.900390625\n",
      "Sell at: 11247.900390625\n",
      "Buy at: 11582.599609375\n",
      "Sell at: 11534.650390625\n",
      "Buy at: 11966.0498046875\n",
      "Sell at: 11850.25\n",
      "Buy at: 12224.5498046875\n",
      "Sell at: 12216.900390625\n",
      "Buy at: 12113.4501953125\n",
      "Sell at: 12091.2001953125\n",
      "Buy at: 8925.2998046875\n",
      "Sell at: 8874.099609375\n",
      "Buy at: 11971.0498046875\n",
      "Sell at: 11822.150390625\n",
      "Buy at: 16705.19921875\n",
      "Sell at: 17034.953125\n",
      "Buy at: 17368.25\n",
      "Sell at: 17355.94921875\n",
      "Buy at: 17248.400390625\n",
      "Sell at: 17184.94921875\n",
      "Buy at: 17153.0\n",
      "Sell at: 17076.55078125\n",
      "Buy at: 17784.349609375\n",
      "Sell at: 17600.55078125\n",
      "Buy at: 16356.25\n",
      "Sell at: 16293.349609375\n",
      "Buy at: 16641.80078125\n",
      "Sell at: 17082.84765625\n",
      "Buy at: 17770.900390625\n",
      "Sell at: 17719.75\n",
      "Buy at: 17589.599609375\n",
      "Sell at: 17573.599609375\n"
     ]
    }
   ],
   "source": [
    "for i in range(1, len(df)):\n",
    "    # Buy signal\n",
    "    if df['MACD'].iloc[i] > df['Signal'].iloc[i] and df['Double_Top'].iloc[i]:\n",
    "        if position == 0:\n",
    "            position = 1\n",
    "            stop_loss = df['Low'].iloc[i]\n",
    "            take_profit = df['High'].iloc[i] + (df['High'].iloc[i] - stop_loss) * 2\n",
    "            buy_dates.append(df.index[i])\n",
    "            returns.append(0)  # Add a dummy return value\n",
    "            print('Buy at:', df['Close'].iloc[i])\n",
    "    # Sell signal\n",
    "    elif position == 1 and (df['Low'].iloc[i] < stop_loss or df['High'].iloc[i] > take_profit):\n",
    "        position = 0\n",
    "        exit_price = stop_loss if df['Low'].iloc[i] < stop_loss else take_profit\n",
    "        returns.append((exit_price - df['Close'].iloc[i-1]) / df['Close'].iloc[i-1])\n",
    "        capital *= (1 + returns[-1])\n",
    "        sell_dates.append(df.index[i])\n",
    "        print('Sell at:', exit_price)\n",
    "\n",
    "    # Hold position\n",
    "    else:\n",
    "        returns.append((df['Close'].iloc[i] - df['Close'].iloc[i-1]) / df['Close'].iloc[i-1])"
   ]
  },
  {
   "cell_type": "code",
   "execution_count": 18,
   "metadata": {},
   "outputs": [],
   "source": [
    "# Remove the dummy return value\n",
    "returns = returns[1:]\n",
    "\n",
    "# Calculate evaluation metrics\n",
    "cumulative_returns = (capital - 100000) / 100000\n",
    "max_drawdown = np.min(np.subtract.accumulate(returns))\n",
    "daily_returns = np.array(returns)\n",
    "sharpe_ratio = np.sqrt(252) * np.mean(daily_returns) / np.std(daily_returns)"
   ]
  },
  {
   "cell_type": "code",
   "execution_count": 19,
   "metadata": {},
   "outputs": [
    {
     "data": {
      "image/png": "[encoded data removed]",
      "text/plain": [
       "<Figure size 432x288 with 1 Axes>"
      ]
     },
     "metadata": {
      "needs_background": "light"
     },
     "output_type": "display_data"
    }
   ],
   "source": [
    "equity_curve = np.cumprod(1 + np.array(returns))\n",
    "plt.plot(df.index[1:len(equity_curve)+1], equity_curve)\n",
    "\n",
    "buy_indices = np.where(df.index.isin(buy_dates))[0]\n",
    "sell_indices = np.where(df.index.isin(sell_dates))[0]\n",
    "\n",
    "# Adjust the sell indices to match the length of the equity curve\n",
    "sell_indices = sell_indices[sell_indices < len(equity_curve)]\n",
    "\n",
    "plt.scatter(df.index[buy_indices], equity_curve[buy_indices], color='green', label='Buy')\n",
    "plt.scatter(df.index[sell_indices], equity_curve[sell_indices], color='red', label='Sell')\n",
    "\n",
    "plt.xlabel('Date')\n",
    "plt.ylabel('Equity')\n",
    "plt.title('Equity Curve')\n",
    "plt.legend()\n",
    "plt.show()"
   ]
  },
  {
   "cell_type": "code",
   "execution_count": 20,
   "metadata": {},
   "outputs": [
    {
     "name": "stdout",
     "output_type": "stream",
     "text": [
      "Cumulative Returns: -0.14150949556534717\n",
      "Maximum Drawdown: -1.458667880491174\n",
      "Sharpe Ratio: 0.8718232850959001\n"
     ]
    }
   ],
   "source": [
    "print('Cumulative Returns:', cumulative_returns)\n",
    "print('Maximum Drawdown:', max_drawdown)\n",
    "print('Sharpe Ratio:', sharpe_ratio)"
   ]
  }
 ],
 "metadata": {
  "kernelspec": {
   "display_name": "Python 3",
   "language": "python",
   "name": "python3"
  },
  "language_info": {
   "codemirror_mode": {
    "name": "ipython",
    "version": 3
   },
   "file_extension": ".py",
   "mimetype": "text/x-python",
   "name": "python",
   "nbconvert_exporter": "python",
   "pygments_lexer": "ipython3",
   "version": "3.10.3"
  },
  "orig_nbformat": 4
 },
 "nbformat": 4,
 "nbformat_minor": 2
}
