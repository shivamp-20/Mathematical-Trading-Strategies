{
  "cells": [
    {
      "cell_type": "markdown",
      "metadata": {
        "id": "SGcBymmDw5ZH"
      },
      "source": [
        "# Mathematical Trading Strategies - Assignment 3"
      ]
    },
    {
      "cell_type": "code",
      "source": [
        "!wget http://prdownloads.sourceforge.net/ta-lib/ta-lib-0.4.0-src.tar.gz\n",
        "!tar -xzvf ta-lib-0.4.0-src.tar.gz\n",
        "%cd ta-lib\n",
        "!./configure --prefix=/usr\n",
        "!make\n",
        "!make install"
      ],
      "metadata": {
        "id": "hn74h4EK_gt1"
      },
      "execution_count": null,
      "outputs": []
    },
    {
      "cell_type": "code",
      "execution_count": null,
      "outputs": [
        {
          "output_type": "stream",
          "name": "stdout",
          "text": [
            "Requirement already satisfied: TA-Lib in /usr/local/lib/python3.10/dist-packages (0.4.26)\n",
            "Requirement already satisfied: numpy in /usr/local/lib/python3.10/dist-packages (from TA-Lib) (1.22.4)\n"
          ]
        }
      ],
      "source": [
        "import warnings\n",
        "warnings.filterwarnings('ignore')\n",
        "import yfinance as yf\n",
        "!pip install TA-Lib\n",
        "import talib\n",
        "from tqdm import tqdm\n",
        "from datetime import datetime\n",
        "import pandas as pd\n",
        "import numpy as np\n",
        "import matplotlib.pyplot as plt"
      ],
      "metadata": {
        "ExecuteTime": {
          "end_time": "2023-07-04T10:14:04.683056Z",
          "start_time": "2023-07-04T10:14:04.535943Z"
        },
        "id": "SUg2_ECpw5ZK",
        "colab": {
          "base_uri": "https://localhost:8080/"
        },
        "outputId": "07abb676-5403-4e0e-af4e-303cb93de9ca"
      }
    },
    {
      "cell_type": "markdown",
      "source": [
        "## Load Data"
      ],
      "metadata": {
        "id": "cAWVcWocqzvI"
      }
    },
    {
      "cell_type": "code",
      "source": [
        "infy_df = yf.download('INFY', start=\"2003-05-23\")"
      ],
      "metadata": {
        "colab": {
          "base_uri": "https://localhost:8080/"
        },
        "id": "h9DGMyMRqza1",
        "outputId": "f9a817dd-0c01-43c3-8da4-614fa165e8ae"
      },
      "execution_count": null,
      "outputs": [
        {
          "output_type": "stream",
          "name": "stdout",
          "text": [
            "\r[*********************100%***********************]  1 of 1 completed\n"
          ]
        }
      ]
    },
    {
      "cell_type": "markdown",
      "source": [
        "# Using only Indicator : Keltner Channel"
      ],
      "metadata": {
        "id": "Er8Kf4q6xJNh"
      }
    },
    {
      "cell_type": "markdown",
      "source": [
        "## Calculate the channel"
      ],
      "metadata": {
        "id": "lteHND3zOzk6"
      }
    },
    {
      "cell_type": "code",
      "execution_count": null,
      "outputs": [],
      "source": [
        "def calculate_keltner_channel(dataframe, period=20, multiplier=2):\n",
        "    ma = talib.SMA(dataframe['Close'], timeperiod=period)\n",
        "\n",
        "    atr = talib.ATR(dataframe['High'], dataframe['Low'], dataframe['Close'], timeperiod=period)\n",
        "\n",
        "    upper_band = ma + (multiplier * atr)\n",
        "    middle_band = ma\n",
        "    lower_band = ma - (multiplier * atr)\n",
        "\n",
        "    return upper_band, middle_band, lower_band"
      ],
      "metadata": {
        "ExecuteTime": {
          "end_time": "2023-07-04T10:14:06.378155Z",
          "start_time": "2023-07-04T10:14:06.376769Z"
        },
        "id": "PjPm28DGw5ZN"
      }
    },
    {
      "cell_type": "markdown",
      "source": [
        "## Generate Signals"
      ],
      "metadata": {
        "id": "3m48hPq-O3Mn"
      }
    },
    {
      "cell_type": "code",
      "source": [
        "def generate_kc_signals(df, period=20):\n",
        "    df['kc_signal'] = 0\n",
        "    upper_kc, _, lower_kc = calculate_keltner_channel(df, period)\n",
        "    for i in range(len(df)):\n",
        "        if df['Close'][i] > upper_kc[i]:\n",
        "            df['kc_signal'][i] = -1  # Sell signal\n",
        "        elif df['Close'][i] < lower_kc[i]:\n",
        "            df['kc_signal'][i] = 1  # Buy signal\n",
        "        else:\n",
        "            df['kc_signal'][i] = 0  # No signal\n"
      ],
      "metadata": {
        "id": "LYVdhJeKrtqn"
      },
      "execution_count": null,
      "outputs": []
    },
    {
      "cell_type": "markdown",
      "source": [
        "## Optimise parameters and trading strategy"
      ],
      "metadata": {
        "id": "H57K6GfRO-7E"
      }
    },
    {
      "cell_type": "code",
      "source": [
        "keltner_channel_periods = range(5, 51)\n",
        "\n",
        "metrics = pd.DataFrame(\n",
        "    {\n",
        "        'keltner_channel_period': np.zeros(len(keltner_channel_periods)),\n",
        "        'strategy_returns': np.zeros(len(keltner_channel_periods)),\n",
        "        'cumulative_returns': np.zeros(len(keltner_channel_periods)),\n",
        "        'max_drawdown': np.zeros(len(keltner_channel_periods)),\n",
        "        'sharpe_ratio': np.zeros(len(keltner_channel_periods))\n",
        "    }\n",
        ")\n",
        "\n",
        "progress_bar = tqdm(total=len(keltner_channel_periods),\n",
        "                    desc='Optimising Parameters', unit='Iterations')\n",
        "\n",
        "for i in range(len(keltner_channel_periods)):\n",
        "            metrics['keltner_channel_period'][i] = keltner_channel_periods[i]\n",
        "\n",
        "            generate_kc_signals(infy_df, keltner_channel_periods[i])\n",
        "\n",
        "            strategy_returns = infy_df['kc_signal'] * infy_df['Close'].pct_change().shift(-1)\n",
        "            metrics['strategy_returns'][i] = strategy_returns[-2]\n",
        "\n",
        "            cumulative_returns = (1 + strategy_returns).cumprod()\n",
        "            metrics['cumulative_returns'][i] = cumulative_returns[-2]\n",
        "\n",
        "            max_drawdown = ((cumulative_returns / cumulative_returns.cummax()) - 1).min()\n",
        "            metrics['max_drawdown'][i] = max_drawdown\n",
        "\n",
        "            sharpe_ratio = np.mean(strategy_returns) / np.std(infy_df['Close'].pct_change())\n",
        "            metrics['sharpe_ratio'][i] = sharpe_ratio\n",
        "\n",
        "            progress_bar.update(1)\n",
        "\n",
        "progress_bar.close()"
      ],
      "metadata": {
        "colab": {
          "base_uri": "https://localhost:8080/"
        },
        "id": "uG81J-yQtI--",
        "outputId": "aa32e017-6d1f-4a4f-c4c8-589cf86c44ca"
      },
      "execution_count": null,
      "outputs": [
        {
          "output_type": "stream",
          "name": "stderr",
          "text": [
            "Optimising Parameters: 100%|██████████| 46/46 [01:58<00:00,  2.58s/Iterations]\n"
          ]
        }
      ]
    },
    {
      "cell_type": "code",
      "source": [
        "fig, (ax1, ax2, ax3) = plt.subplots(3, 1, sharex=True)\n",
        "\n",
        "ax1.plot(metrics['keltner_channel_period'], metrics['cumulative_returns'], label='cumulative_returns', color='#0000ff')\n",
        "ax1.set_ylabel('Cum. Ret.')\n",
        "ax1.legend()\n",
        "\n",
        "ax2.plot(metrics['keltner_channel_period'], metrics['max_drawdown'], label='max_drawdown', color='#ff0000')\n",
        "ax2.set_ylabel('MDD')\n",
        "ax2.legend()\n",
        "\n",
        "ax3.plot(metrics['keltner_channel_period'], metrics['sharpe_ratio'], label='sharpe_ratio', color='#00ff00')\n",
        "ax3.set_xlabel('Keltner_Channel_Period')\n",
        "ax3.set_ylabel('Sharpe Ratio')\n",
        "ax3.legend()\n",
        "\n",
        "plt.show()"
      ],
      "metadata": {
        "colab": {
          "base_uri": "https://localhost:8080/",
          "height": 450
        },
        "id": "V1uTM3phUbTt",
        "outputId": "3ff7c03e-b922-4485-97fc-b77a6d9794a6"
      },
      "execution_count": null,
      "outputs": [
        {
          "output_type": "display_data",
          "data": {
            "text/plain": [
              "<Figure size 640x480 with 3 Axes>"
            ],
            "image/png": "[encoded data removed]"
          },
          "metadata": {}
        }
      ]
    },
    {
      "cell_type": "markdown",
      "source": [
        "We can clearly note that when we keep period = 10, we get the maxiumum cumulative returns, Sharpe ratio and the minimum maximum drawdown (which is negative in the graph)"
      ],
      "metadata": {
        "id": "lKN6sTVkW1r1"
      }
    },
    {
      "cell_type": "markdown",
      "source": [
        "# Signal Generation from Chart Pattern: Head and Shoulders"
      ],
      "metadata": {
        "id": "mBRXERQuyDyZ"
      }
    },
    {
      "cell_type": "markdown",
      "source": [
        "## Generate trade signals"
      ],
      "metadata": {
        "id": "1dUOM6woX8og"
      }
    },
    {
      "cell_type": "code",
      "source": [
        "def generate_hns_signals(df, shoulderperiod=5, headperiod=10):\n",
        "\n",
        "    left_shoulder = talib.SMA(df['High'], timeperiod=shoulderperiod)\n",
        "    head = talib.SMA(df['Low'], timeperiod=headperiod)\n",
        "    right_shoulder = talib.SMA(df['High'], timeperiod=shoulderperiod)\n",
        "\n",
        "    # Detect the head and shoulders pattern\n",
        "    pattern = (left_shoulder < head) & (right_shoulder < head)\n",
        "\n",
        "    df['hns_signal'] = 0\n",
        "\n",
        "    for i in range(len(pattern)):\n",
        "        if pattern[i] and i >= 2:  # Check if the pattern is present and has completed\n",
        "            if df['Close'][i] > df['Close'][i-1] and df['Close'][i-1] < df['Close'][i-2]:\n",
        "                df['hns_signal'][i] = 1  # Buy signal\n",
        "            elif df['Close'][i] < df['Close'][i-1] and df['Close'][i-1] > df['Close'][i-2]:\n",
        "                df['hns_signal'][i] = -1  # Sell signal\n",
        "            else:\n",
        "                df['hns_signal'][i] = 0  # No signal\n",
        "        else:\n",
        "            df['hns_signal'][i] = 0  # No signal"
      ],
      "metadata": {
        "id": "FaSj1GnyyDOd"
      },
      "execution_count": null,
      "outputs": []
    },
    {
      "cell_type": "markdown",
      "source": [
        "## Optimise parameters and metrics"
      ],
      "metadata": {
        "id": "uJTLOe6dYQis"
      }
    },
    {
      "cell_type": "code",
      "source": [
        "head_periods = range(8, 16)\n",
        "shoulder_periods = range(3, 9)\n",
        "\n",
        "metrics = np.zeros((3, len(shoulder_periods), len(head_periods)))\n",
        "\n",
        "progress_bar = tqdm(total=(len(shoulder_periods)*len(head_periods)),\n",
        "                    desc='Optimising Parameters', unit='Iterations')\n",
        "\n",
        "for spi in range(len(shoulder_periods)):\n",
        "    for hpj in range(len(head_periods)):\n",
        "        generate_hns_signals(infy_df, shoulder_periods[spi], head_periods[hpj])\n",
        "\n",
        "        strategy_returns = infy_df['hns_signal'] * infy_df['Close'].pct_change().shift(-1)\n",
        "\n",
        "        cumulative_returns = (1 + strategy_returns).cumprod()\n",
        "        metrics[0][spi][hpj] = cumulative_returns[-2]\n",
        "\n",
        "        max_drawdown = ((cumulative_returns / cumulative_returns.cummax()) - 1).min()\n",
        "        metrics[1][spi][hpj] = max_drawdown\n",
        "\n",
        "        sharpe_ratio = np.mean(strategy_returns) / np.std(infy_df['Close'].pct_change())\n",
        "        metrics[2][spi][hpj] = sharpe_ratio\n",
        "\n",
        "        progress_bar.update(1)\n",
        "\n",
        "progress_bar.close()"
      ],
      "metadata": {
        "colab": {
          "base_uri": "https://localhost:8080/"
        },
        "id": "dTFojSspwybo",
        "outputId": "5997de64-6597-480f-fc5c-48d14b784a91"
      },
      "execution_count": null,
      "outputs": [
        {
          "output_type": "stream",
          "name": "stderr",
          "text": [
            "Optimising Parameters: 100%|██████████| 48/48 [02:01<00:00,  2.53s/Iterations]\n"
          ]
        }
      ]
    },
    {
      "cell_type": "code",
      "source": [
        "metrics[0][0][0]"
      ],
      "metadata": {
        "colab": {
          "base_uri": "https://localhost:8080/"
        },
        "id": "XBOWWxg58hYp",
        "outputId": "f47c6ab3-ffb9-442e-e7c1-2957d4de93d6"
      },
      "execution_count": null,
      "outputs": [
        {
          "output_type": "execute_result",
          "data": {
            "text/plain": [
              "0.4829117851549749"
            ]
          },
          "metadata": {},
          "execution_count": 78
        }
      ]
    },
    {
      "cell_type": "code",
      "source": [
        "fig, (ax1, ax2, ax3) = plt.subplots(3, 1, figsize=(8, 10))\n",
        "\n",
        "im1 = ax1.imshow(metrics[0])\n",
        "ax1.set_ylabel('Shoulder Period')\n",
        "ax1.set_xlabel('Head Period')\n",
        "cbar1 = ax1.figure.colorbar(im1, ax=ax1)\n",
        "cbar1.set_label('Cumulative Returns')\n",
        "ax1.set_yticks(range(len(shoulder_periods)))\n",
        "ax1.set_yticklabels(shoulder_periods)\n",
        "ax1.set_xticks(range(len(head_periods)))\n",
        "ax1.set_xticklabels(head_periods)\n",
        "\n",
        "im2 = ax2.imshow(metrics[1])\n",
        "ax2.set_ylabel('Shoulder Period')\n",
        "ax2.set_xlabel('Head Period')\n",
        "cbar2 = ax2.figure.colorbar(im2, ax=ax2)\n",
        "cbar2.set_label('Maximum Drawdown')\n",
        "ax2.set_yticks(range(len(shoulder_periods)))\n",
        "ax2.set_yticklabels(shoulder_periods)\n",
        "ax2.set_xticks(range(len(head_periods)))\n",
        "ax2.set_xticklabels(head_periods)\n",
        "\n",
        "im3 = ax3.imshow(metrics[2])\n",
        "ax3.set_ylabel('Shoulder Period')\n",
        "ax3.set_xlabel('Head Period')\n",
        "cbar3 = ax3.figure.colorbar(im3, ax=ax3)\n",
        "cbar3.set_label('Sharpe Ratio')\n",
        "ax3.set_yticks(range(len(shoulder_periods)))\n",
        "ax3.set_yticklabels(shoulder_periods)\n",
        "ax3.set_xticks(range(len(head_periods)))\n",
        "ax3.set_xticklabels(head_periods)\n",
        "\n",
        "plt.tight_layout()\n",
        "plt.show()\n"
      ],
      "metadata": {
        "colab": {
          "base_uri": "https://localhost:8080/",
          "height": 1000
        },
        "id": "Wa1BT7epwq8e",
        "outputId": "5a1779ea-d40d-4bd8-fc6c-6de1dd02eee5"
      },
      "execution_count": null,
      "outputs": [
        {
          "output_type": "display_data",
          "data": {
            "text/plain": [
              "<Figure size 800x1000 with 6 Axes>"
            ],
            "image/png": "[encoded data removed]"
          },
          "metadata": {}
        }
      ]
    },
    {
      "cell_type": "code",
      "source": [
        "x, y = np.unravel_index(np.argmax(metrics[0]), metrics[0].shape)\n",
        "(shoulder_periods[x], head_periods[y])"
      ],
      "metadata": {
        "colab": {
          "base_uri": "https://localhost:8080/"
        },
        "id": "hVRcyWbF_VjC",
        "outputId": "f7300f16-9fac-4f42-e295-291d54f7dbd4"
      },
      "execution_count": null,
      "outputs": [
        {
          "output_type": "execute_result",
          "data": {
            "text/plain": [
              "(8, 10)"
            ]
          },
          "metadata": {},
          "execution_count": 84
        }
      ]
    },
    {
      "cell_type": "code",
      "source": [
        "head_periods[np.unravel_index(np.argmax(metrics[0]), metrics[0].shape)[1]]"
      ],
      "metadata": {
        "colab": {
          "base_uri": "https://localhost:8080/"
        },
        "id": "lKPZdwXHC10s",
        "outputId": "109d5ec5-73ee-4058-e82c-23e77c68a70d"
      },
      "execution_count": null,
      "outputs": [
        {
          "output_type": "execute_result",
          "data": {
            "text/plain": [
              "10"
            ]
          },
          "metadata": {},
          "execution_count": 88
        }
      ]
    },
    {
      "cell_type": "code",
      "source": [
        "print(f'Cumulative Returns are maximum(={round(np.max(metrics[0]),4)}) for and around shoulder_period={shoulder_periods[(np.unravel_index(np.argmax(metrics[0]), metrics[0].shape))[0]]} and head_period={head_periods[(np.unravel_index(np.argmax(metrics[0]), metrics[0].shape))[1]]}')\n",
        "print(f'Maximum Drawdowns are minimum(={round(np.min(metrics[1]),4)}) for and around shoulder_period={shoulder_periods[(np.unravel_index(np.argmin(metrics[1]), metrics[1].shape))[0]]} and head_period={head_periods[(np.unravel_index(np.argmin(metrics[1]), metrics[1].shape))[1]]}')\n",
        "print(f'Sharpe Ratios are maximum(={round(np.max(metrics[2]),4)}) for and around shoulder_period={shoulder_periods[(np.unravel_index(np.argmax(metrics[2]), metrics[2].shape))[0]]} and head_period={head_periods[(np.unravel_index(np.argmax(metrics[2]), metrics[2].shape))[1]]}')"
      ],
      "metadata": {
        "colab": {
          "base_uri": "https://localhost:8080/"
        },
        "id": "2nI7t4m8CkWT",
        "outputId": "0980b7b8-2a4a-4dc5-8755-88cdefadfacd"
      },
      "execution_count": null,
      "outputs": [
        {
          "output_type": "stream",
          "name": "stdout",
          "text": [
            "Cumulative Returns are maximum(=1.0735) for and around shoulder_period=8 and head_period=10\n",
            "Maximum Drawdowns are minimum(=-0.5834) for and around shoulder_period=5 and head_period=15\n",
            "Sharpe Ratios are maximum(=0.0007) for and around shoulder_period=8 and head_period=10\n"
          ]
        }
      ]
    },
    {
      "cell_type": "markdown",
      "source": [
        "Considering the heatmaps and the data, we can take shoulder_period=8 and head_period=10 for our strategy"
      ],
      "metadata": {
        "id": "JsrRVVBaFqBR"
      }
    },
    {
      "cell_type": "markdown",
      "source": [
        "# Combined Signal Generation"
      ],
      "metadata": {
        "collapsed": false,
        "id": "6PPShIzow5ZO"
      }
    },
    {
      "cell_type": "code",
      "source": [
        "def generate_combined_signals(df : pd.DataFrame, kcp : int, hp : int, sp : int):\n",
        "    upper_kc, _, lower_kc = calculate_keltner_channel(df, kcp)\n",
        "\n",
        "    left_shoulder = talib.SMA(df['High'], timeperiod=sp)\n",
        "    head = talib.SMA(df['Low'], timeperiod=hp)\n",
        "    right_shoulder = talib.SMA(df['High'], timeperiod=sp)\n",
        "\n",
        "    pattern = (left_shoulder < head) & (right_shoulder < head)\n",
        "\n",
        "    df['combined_signal'] = 0\n",
        "\n",
        "\n",
        "    for i in range(len(df)):\n",
        "        if ((df['Close'][i] > upper_kc[i]) or (pattern[i] and i>=2)):\n",
        "            df['combined_signal'][i] = -1  # Sell signal\n",
        "        elif df['Close'][i] < lower_kc[i]:\n",
        "            df['combined_signal'][i] = 1  # Buy signal\n",
        "        else:\n",
        "            df['combined_signal'][i] = 0  # No signal\n"
      ],
      "metadata": {
        "id": "E3IMPcpw__Mt"
      },
      "execution_count": null,
      "outputs": []
    },
    {
      "cell_type": "code",
      "execution_count": null,
      "outputs": [],
      "source": [
        "# Define parameter ranges for optimization\n",
        "keltner_channel_period = range(10, 15, 2)\n",
        "head_period = range(8, 15)\n",
        "shoulder_period = range(3, 8)"
      ],
      "metadata": {
        "ExecuteTime": {
          "end_time": "2023-07-04T10:14:06.889047Z",
          "start_time": "2023-07-04T10:14:06.887095Z"
        },
        "id": "sUblPnICw5ZO"
      }
    },
    {
      "cell_type": "code",
      "execution_count": null,
      "outputs": [],
      "source": [
        "best_params = {\n",
        "    'keltner_channel': 20,\n",
        "    'head_and_shoulders': (5,10)\n",
        "}\n",
        "best_metrics = {\n",
        "    'returns': -np.inf,\n",
        "    'cumulative_returns': -np.inf,\n",
        "    'max_drawdown': np.inf,\n",
        "    'sharpe_ratio': -np.inf\n",
        "}"
      ],
      "metadata": {
        "ExecuteTime": {
          "end_time": "2023-07-04T10:14:06.893937Z",
          "start_time": "2023-07-04T10:14:06.890183Z"
        },
        "id": "ptCw_5w7w5ZO"
      }
    },
    {
      "cell_type": "code",
      "source": [
        "progress_bar = tqdm(total=len(keltner_channel_period) * len(head_period) * len(shoulder_period),\n",
        "                    desc='Optimising Parameters', unit=' Iterations')\n",
        "\n",
        "for kcp in keltner_channel_period:\n",
        "    for hp in head_period:\n",
        "        for sp in shoulder_period:\n",
        "\n",
        "            generate_combined_signals(infy_df, kcp, hp, sp)\n",
        "\n",
        "            strategy_returns = infy_df['combined_signal'] * infy_df['Close'].pct_change().shift(-1)\n",
        "\n",
        "            cumulative_returns = (1 + strategy_returns).cumprod()\n",
        "\n",
        "            max_drawdown = ((cumulative_returns / cumulative_returns.cummax()) - 1).min()\n",
        "\n",
        "            sharpe_ratio = np.mean(strategy_returns) / np.std(infy_df['Close'].pct_change())\n",
        "\n",
        "            if strategy_returns.iloc[-2] > best_metrics['returns']:\n",
        "                best_metrics['returns'] = strategy_returns.iloc[-2]\n",
        "                best_metrics['cumulative_returns'] = cumulative_returns.iloc[-2]\n",
        "                best_metrics['max_drawdown'] = max_drawdown\n",
        "                best_metrics['sharpe_ratio'] = sharpe_ratio\n",
        "                best_params['keltner_channel'] = kcp\n",
        "                best_params['head_and_shoulders'] = (sp, hp)\n",
        "\n",
        "            progress_bar.update(1)\n",
        "\n",
        "progress_bar.close()"
      ],
      "metadata": {
        "colab": {
          "base_uri": "https://localhost:8080/"
        },
        "id": "pyUmUCP_33Xd",
        "outputId": "1c9751f5-313d-45ee-d607-636a74d5b60e"
      },
      "execution_count": null,
      "outputs": [
        {
          "output_type": "stream",
          "name": "stderr",
          "text": [
            "Optimising Parameters:   1%|          | 1/105 [00:17<30:10, 17.41s/ Iterations]\n",
            "Optimising Parameters: 100%|██████████| 105/105 [04:17<00:00,  2.46s/ Iterations]\n"
          ]
        }
      ]
    },
    {
      "cell_type": "code",
      "source": [
        "print(best_params)\n",
        "print('---------------------------------------------------------')\n",
        "print(best_metrics)"
      ],
      "metadata": {
        "id": "mWvZc-YQEzbb",
        "colab": {
          "base_uri": "https://localhost:8080/"
        },
        "outputId": "1e2aada1-8274-4020-d745-9ad2db23e614"
      },
      "execution_count": null,
      "outputs": [
        {
          "output_type": "stream",
          "name": "stdout",
          "text": [
            "{'keltner_channel': 10, 'head_and_shoulders': (3, 8)}\n",
            "---------------------------------------------------------\n",
            "{'returns': 0.0, 'cumulative_returns': 0.8936658507429346, 'max_drawdown': -0.6337189179613973, 'sharpe_ratio': 0.0009814080329944516}\n"
          ]
        }
      ]
    },
    {
      "cell_type": "markdown",
      "source": [
        "# Testing the strategy on Wipro"
      ],
      "metadata": {
        "collapsed": false,
        "id": "rmZvVthMw5ZO"
      }
    },
    {
      "cell_type": "code",
      "source": [
        "wipro_df = yf.download('WIT', start='2003-05-23')"
      ],
      "metadata": {
        "id": "mwyWmqRvGNZ5",
        "colab": {
          "base_uri": "https://localhost:8080/"
        },
        "outputId": "3e225831-be33-48a0-b9b6-47981f43b050"
      },
      "execution_count": null,
      "outputs": [
        {
          "output_type": "stream",
          "name": "stdout",
          "text": [
            "\r[*********************100%***********************]  1 of 1 completed\n"
          ]
        }
      ]
    },
    {
      "cell_type": "code",
      "source": [
        "generate_combined_signals(wipro_df, kcp= best_params['keltner_channel'], hp= best_params['head_and_shoulders'][1], sp= best_params['head_and_shoulders'][0])\n",
        "\n",
        "strategy_returns = wipro_df['combined_signal'] * wipro_df['Close'].pct_change().shift(-1)\n",
        "\n",
        "cumulative_returns = (1 + strategy_returns).cumprod()\n",
        "\n",
        "max_drawdown = ((cumulative_returns / cumulative_returns.cummax()) - 1).min()\n",
        "\n",
        "sharpe_ratio = np.mean(strategy_returns) / np.std(wipro_df['Close'].pct_change())"
      ],
      "metadata": {
        "id": "WXTVYMG9KYG7"
      },
      "execution_count": null,
      "outputs": []
    },
    {
      "cell_type": "code",
      "source": [
        "print(f'Cumulative Returns = {cumulative_returns[-2]}')\n",
        "print(f'Maximum Drawdown = {max_drawdown}')\n",
        "print(f'Sharpe Ratio = {sharpe_ratio}')"
      ],
      "metadata": {
        "colab": {
          "base_uri": "https://localhost:8080/"
        },
        "id": "bNv0npR2LMWm",
        "outputId": "a0e737cf-78d7-4b67-90a1-3b75ef841719"
      },
      "execution_count": null,
      "outputs": [
        {
          "output_type": "stream",
          "name": "stdout",
          "text": [
            "Cumulative Returns = 0.8564942920409337\n",
            "Maximum Drawdown = -0.5852768748828434\n",
            "Sharpe Ratio = 0.0003772636276682439\n"
          ]
        }
      ]
    },
    {
      "cell_type": "code",
      "source": [
        "generate_kc_signals(wipro_df, 10)\n",
        "\n",
        "strategy_returns = wipro_df['kc_signal'] * wipro_df['Close'].pct_change().shift(-1)\n",
        "\n",
        "cumulative_returns = (1 + strategy_returns).cumprod()\n",
        "\n",
        "max_drawdown = ((cumulative_returns / cumulative_returns.cummax()) - 1).min()\n",
        "\n",
        "sharpe_ratio = np.mean(strategy_returns) / np.std(wipro_df['Close'].pct_change())"
      ],
      "metadata": {
        "id": "zKBUbCHkcdLQ"
      },
      "execution_count": null,
      "outputs": []
    },
    {
      "cell_type": "code",
      "source": [
        "print(f'Cumulative Returns = {cumulative_returns[-2]}')\n",
        "print(f'Maximum Drawdown = {max_drawdown}')\n",
        "print(f'Sharpe Ratio = {sharpe_ratio}')"
      ],
      "metadata": {
        "colab": {
          "base_uri": "https://localhost:8080/"
        },
        "id": "Bme-v10gcsRO",
        "outputId": "dd62cca6-a083-4893-a25a-ee22ba660b97"
      },
      "execution_count": null,
      "outputs": [
        {
          "output_type": "stream",
          "name": "stdout",
          "text": [
            "Cumulative Returns = 1.9601354678204042\n",
            "Maximum Drawdown = -0.3127291017632108\n",
            "Sharpe Ratio = 0.0065436680476842635\n"
          ]
        }
      ]
    },
    {
      "cell_type": "code",
      "source": [
        "generate_hns_signals(wipro_df, 8, 10)\n",
        "\n",
        "strategy_returns = wipro_df['hns_signal'] * wipro_df['Close'].pct_change().shift(-1)\n",
        "\n",
        "cumulative_returns = (1 + strategy_returns).cumprod()\n",
        "\n",
        "max_drawdown = ((cumulative_returns / cumulative_returns.cummax()) - 1).min()\n",
        "\n",
        "sharpe_ratio = np.mean(strategy_returns) / np.std(wipro_df['Close'].pct_change())"
      ],
      "metadata": {
        "id": "2KKquxLFcuKi"
      },
      "execution_count": null,
      "outputs": []
    },
    {
      "cell_type": "code",
      "source": [
        "print(f'Cumulative Returns = {cumulative_returns[-2]}')\n",
        "print(f'Maximum Drawdown = {max_drawdown}')\n",
        "print(f'Sharpe Ratio = {sharpe_ratio}')"
      ],
      "metadata": {
        "colab": {
          "base_uri": "https://localhost:8080/"
        },
        "id": "GZlSYqQJdHtB",
        "outputId": "92997830-ba9a-4349-b436-9a1db13c7acd"
      },
      "execution_count": null,
      "outputs": [
        {
          "output_type": "stream",
          "name": "stdout",
          "text": [
            "Cumulative Returns = 1.0095918746943087\n",
            "Maximum Drawdown = -0.03094095922451523\n",
            "Sharpe Ratio = 8.302076957888068e-05\n"
          ]
        }
      ]
    }
  ],
  "metadata": {
    "kernelspec": {
      "display_name": "Python 3 (ipykernel)",
      "language": "python",
      "name": "python3"
    },
    "language_info": {
      "codemirror_mode": {
        "name": "ipython",
        "version": 3
      },
      "file_extension": ".py",
      "mimetype": "text/x-python",
      "name": "python",
      "nbconvert_exporter": "python",
      "pygments_lexer": "ipython3",
      "version": "3.10.10"
    },
    "colab": {
      "provenance": []
    }
  },
  "nbformat": 4,
  "nbformat_minor": 0
}