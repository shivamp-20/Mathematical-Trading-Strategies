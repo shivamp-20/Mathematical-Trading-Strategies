{
 "cells": [
  {
   "cell_type": "code",
   "execution_count": null,
   "id": "bf262e9a",
   "metadata": {},
   "outputs": [],
   "source": [
    "import pandas as pd \n",
    "import numpy as np \n",
    "import matplotlib.pyplot as plt \n",
    "import math\n",
    "import yfinance as yf\n",
    "\n",
    "stocks = ['DELTACORP.NS', 'GOOGL', 'MSFT', 'AMZN', 'TATASTEEL.NS', 'ITC.NS', 'INFY', 'HINDUNILVR.NS', 'NFLX', 'ADANIENT.NS']\n",
    "data = {}\n",
    "for stock in stocks:\n",
    "    data[stock] = yf.download(stock, period='10y', interval='1d')\n",
    "\n",
    "# Calculate the look-back period based on tick interval\n",
    "lookback_period = 10 * 365  # 10 years with 1-day tick interval\n",
    "\n",
    "for stock in stocks:\n",
    "    # Select the stock data for the look-back period\n",
    "    stock_data = data[stock].tail(lookback_period)\n",
    "\n",
    "    # Calculate the highs and lows for the ascending triangle pattern\n",
    "    highs = stock_data['high']\n",
    "    lows = stock_data['low']\n",
    "\n",
    "    # Find the resistance level (upper trendline) for the pattern\n",
    "    resistance = highs.max()\n",
    "\n",
    "    # Find the ascending support trendline\n",
    "    support = lows.min()\n",
    "\n",
    "    # Plot the stock's price chart\n",
    "    plt.figure(figsize=(10, 5))\n",
    "    plt.plot(stock_data['date'], stock_data['close'], color='blue')\n",
    "    plt.xlabel('Date')\n",
    "    plt.ylabel('Stock Price')\n",
    "    plt.title(stock + ' Stock Price')\n",
    "    \n",
    "    # Plot the resistance level and support trendline\n",
    "    plt.axhline(y=resistance, color='red', linestyle='--', label='Resistance')\n",
    "    plt.axhline(y=support, color='green', linestyle='--', label='Support')\n",
    "    plt.legend()\n",
    "    \n",
    "    # Check if the pattern is an ascending triangle\n",
    "    if support < resistance:\n",
    "        print(stock + ' shows an ascending triangle pattern.')\n",
    "    else:\n",
    "        print(stock + ' does not show an ascending triangle pattern.')\n",
    "\n",
    "    plt.show()\n"
   ]
  }
 ],
 "metadata": {
  "kernelspec": {
   "display_name": "Python 3 (ipykernel)",
   "language": "python",
   "name": "python3"
  },
  "language_info": {
   "codemirror_mode": {
    "name": "ipython",
    "version": 3
   },
   "file_extension": ".py",
   "mimetype": "text/x-python",
   "name": "python",
   "nbconvert_exporter": "python",
   "pygments_lexer": "ipython3",
   "version": "3.10.9"
  }
 },
 "nbformat": 4,
 "nbformat_minor": 5
}
