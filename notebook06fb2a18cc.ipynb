{
 "cells": [
  {
   "cell_type": "code",
   "execution_count": 1,
   "id": "d8439a03",
   "metadata": {
    "_cell_guid": "b1076dfc-b9ad-4769-8c92-a6c4dae69d19",
    "_uuid": "8f2839f25d086af736a60e9eeb907d3b93b6e0e5",
    "execution": {
     "iopub.execute_input": "2023-06-30T08:26:18.043035Z",
     "iopub.status.busy": "2023-06-30T08:26:18.042651Z",
     "iopub.status.idle": "2023-06-30T08:26:18.057828Z",
     "shell.execute_reply": "2023-06-30T08:26:18.056622Z"
    },
    "papermill": {
     "duration": 0.02562,
     "end_time": "2023-06-30T08:26:18.060197",
     "exception": false,
     "start_time": "2023-06-30T08:26:18.034577",
     "status": "completed"
    },
    "tags": []
   },
   "outputs": [
    {
     "name": "stdout",
     "output_type": "stream",
     "text": [
      "/kaggle/input/cifar-10/trainLabels.csv\n",
      "/kaggle/input/cifar-10/sampleSubmission.csv\n",
      "/kaggle/input/cifar-10/test.7z\n",
      "/kaggle/input/cifar-10/train.7z\n"
     ]
    }
   ],
   "source": [
    "# This Python 3 environment comes with many helpful analytics libraries installed\n",
    "# It is defined by the kaggle/python Docker image: https://github.com/kaggle/docker-python\n",
    "# For example, here's several helpful packages to load\n",
    "\n",
    "import numpy as np # linear algebra\n",
    "import pandas as pd # data processing, CSV file I/O (e.g. pd.read_csv)\n",
    "\n",
    "# Input data files are available in the read-only \"../input/\" directory\n",
    "# For example, running this (by clicking run or pressing Shift+Enter) will list all files under the input directory\n",
    "\n",
    "import os\n",
    "for dirname, _, filenames in os.walk('/kaggle/input'):\n",
    "    for filename in filenames:\n",
    "        print(os.path.join(dirname, filename))\n",
    "\n",
    "# You can write up to 20GB to the current directory (/kaggle/working/) that gets preserved as output when you create a version using \"Save & Run All\" \n",
    "# You can also write temporary files to /kaggle/temp/, but they won't be saved outside of the current session"
   ]
  },
  {
   "cell_type": "code",
   "execution_count": 2,
   "id": "528d66ea",
   "metadata": {
    "execution": {
     "iopub.execute_input": "2023-06-30T08:26:18.074393Z",
     "iopub.status.busy": "2023-06-30T08:26:18.073704Z",
     "iopub.status.idle": "2023-06-30T08:26:18.087872Z",
     "shell.execute_reply": "2023-06-30T08:26:18.086666Z"
    },
    "papermill": {
     "duration": 0.023829,
     "end_time": "2023-06-30T08:26:18.090281",
     "exception": false,
     "start_time": "2023-06-30T08:26:18.066452",
     "status": "completed"
    },
    "tags": []
   },
   "outputs": [],
   "source": [
    "import argparse\n",
    "def main():\n",
    "    # Create the argument parser\n",
    "    parser = argparse.ArgumentParser(description='Training script')\n",
    "    \n",
    "    # Add the command-line arguments\n",
    "    parser.add_argument('--lr', type=float, default=0.01, help='learning rate')\n",
    "    parser.add_argument('--momentum', type=float, default=0.5, help='momentum')\n",
    "    parser.add_argument('--num_hidden', type=int, default=3, help='number of hidden layers')\n",
    "    parser.add_argument('--sizes', type=list, default=[100,100,100], help='sizes of hidden layers')\n",
    "    parser.add_argument('--activation', type=str, default='sigmoid', help='activation function')\n",
    "    parser.add_argument('--loss', type=str, default='sq', help='loss function')\n",
    "    parser.add_argument('--opt', type=str, default='adam', help='optimizer')\n",
    "    parser.add_argument('--batch_size', type=int, default=20, help='batch size')\n",
    "    parser.add_argument('--anneal', type=bool, default=True, help='whether to anneal the learning rate')\n",
    "    parser.add_argument('--save_dir', type=str, default='pa1/', help='directory to save models')\n",
    "    parser.add_argument('--expt_dir', type=str, default='pa1/exp1/', help='directory for experiment')\n",
    "    parser.add_argument('--train', type=str, help='training data file')\n",
    "    parser.add_argument('--test', type=str, help='testing data file')\n",
    "\n",
    "    # Parse the command-line arguments\n",
    "    args = parser.parse_args()\n",
    "\n",
    "    # Access the argument values\n",
    "    lr = args.lr\n",
    "    momentum = args.momentum\n",
    "    num_hidden = args.num_hidden\n",
    "    sizes = [int(size) for size in args.sizes.split(',')]\n",
    "    activation = args.activation\n",
    "    loss = args.loss\n",
    "    opt = args.opt\n",
    "    batch_size = args.batch_size\n",
    "    anneal = args.anneal\n",
    "    save_dir = args.save_dir\n",
    "    expt_dir = args.expt_dir\n",
    "    train_file = args.train\n",
    "    test_file = args.test\n",
    "\n",
    "    # Rest of your code goes here\n",
    "    # ...\n",
    "\n",
    "\n"
   ]
  },
  {
   "cell_type": "code",
   "execution_count": 3,
   "id": "188cfe81",
   "metadata": {
    "execution": {
     "iopub.execute_input": "2023-06-30T08:26:18.104502Z",
     "iopub.status.busy": "2023-06-30T08:26:18.104027Z",
     "iopub.status.idle": "2023-06-30T08:26:35.845760Z",
     "shell.execute_reply": "2023-06-30T08:26:35.844397Z"
    },
    "papermill": {
     "duration": 17.752009,
     "end_time": "2023-06-30T08:26:35.848444",
     "exception": false,
     "start_time": "2023-06-30T08:26:18.096435",
     "status": "completed"
    },
    "tags": []
   },
   "outputs": [
    {
     "name": "stdout",
     "output_type": "stream",
     "text": [
      "Collecting py7zr\r\n",
      "  Downloading py7zr-0.20.5-py3-none-any.whl (66 kB)\r\n",
      "\u001b[2K     \u001b[90m━━━━━━━━━━━━━━━━━━━━━━━━━━━━━━━━━━━━━━━━\u001b[0m \u001b[32m66.4/66.4 kB\u001b[0m \u001b[31m2.9 MB/s\u001b[0m eta \u001b[36m0:00:00\u001b[0m\r\n",
      "\u001b[?25hRequirement already satisfied: texttable in /opt/conda/lib/python3.10/site-packages (from py7zr) (1.6.7)\r\n",
      "Collecting pycryptodomex>=3.6.6 (from py7zr)\r\n",
      "  Downloading pycryptodomex-3.18.0-cp35-abi3-manylinux_2_17_x86_64.manylinux2014_x86_64.whl (2.1 MB)\r\n",
      "\u001b[2K     \u001b[90m━━━━━━━━━━━━━━━━━━━━━━━━━━━━━━━━━━━━━━━━\u001b[0m \u001b[32m2.1/2.1 MB\u001b[0m \u001b[31m39.3 MB/s\u001b[0m eta \u001b[36m0:00:00\u001b[0m\r\n",
      "\u001b[?25hCollecting pyzstd>=0.14.4 (from py7zr)\r\n",
      "  Downloading pyzstd-0.15.9-cp310-cp310-manylinux_2_17_x86_64.manylinux2014_x86_64.whl (412 kB)\r\n",
      "\u001b[2K     \u001b[90m━━━━━━━━━━━━━━━━━━━━━━━━━━━━━━━━━━━━━━\u001b[0m \u001b[32m412.3/412.3 kB\u001b[0m \u001b[31m28.0 MB/s\u001b[0m eta \u001b[36m0:00:00\u001b[0m\r\n",
      "\u001b[?25hCollecting pyppmd<1.1.0,>=0.18.1 (from py7zr)\r\n",
      "  Downloading pyppmd-1.0.0-cp310-cp310-manylinux_2_17_x86_64.manylinux2014_x86_64.whl (138 kB)\r\n",
      "\u001b[2K     \u001b[90m━━━━━━━━━━━━━━━━━━━━━━━━━━━━━━━━━━━━━━\u001b[0m \u001b[32m138.8/138.8 kB\u001b[0m \u001b[31m10.3 MB/s\u001b[0m eta \u001b[36m0:00:00\u001b[0m\r\n",
      "\u001b[?25hCollecting pybcj>=0.6.0 (from py7zr)\r\n",
      "  Downloading pybcj-1.0.1-cp310-cp310-manylinux_2_17_x86_64.manylinux2014_x86_64.whl (49 kB)\r\n",
      "\u001b[2K     \u001b[90m━━━━━━━━━━━━━━━━━━━━━━━━━━━━━━━━━━━━━━━━\u001b[0m \u001b[32m49.8/49.8 kB\u001b[0m \u001b[31m3.2 MB/s\u001b[0m eta \u001b[36m0:00:00\u001b[0m\r\n",
      "\u001b[?25hCollecting multivolumefile>=0.2.3 (from py7zr)\r\n",
      "  Downloading multivolumefile-0.2.3-py3-none-any.whl (17 kB)\r\n",
      "Collecting brotli>=1.0.9 (from py7zr)\r\n",
      "  Downloading Brotli-1.0.9-cp310-cp310-manylinux_2_5_x86_64.manylinux1_x86_64.manylinux_2_12_x86_64.manylinux2010_x86_64.whl (2.7 MB)\r\n",
      "\u001b[2K     \u001b[90m━━━━━━━━━━━━━━━━━━━━━━━━━━━━━━━━━━━━━━━━\u001b[0m \u001b[32m2.7/2.7 MB\u001b[0m \u001b[31m56.9 MB/s\u001b[0m eta \u001b[36m0:00:00\u001b[0m\r\n",
      "\u001b[?25hCollecting inflate64>=0.3.1 (from py7zr)\r\n",
      "  Downloading inflate64-0.3.1-cp310-cp310-manylinux_2_17_x86_64.manylinux2014_x86_64.whl (93 kB)\r\n",
      "\u001b[2K     \u001b[90m━━━━━━━━━━━━━━━━━━━━━━━━━━━━━━━━━━━━━━━━\u001b[0m \u001b[32m93.1/93.1 kB\u001b[0m \u001b[31m7.4 MB/s\u001b[0m eta \u001b[36m0:00:00\u001b[0m\r\n",
      "\u001b[?25hRequirement already satisfied: psutil in /opt/conda/lib/python3.10/site-packages (from py7zr) (5.9.3)\r\n",
      "Installing collected packages: brotli, pyzstd, pyppmd, pycryptodomex, pybcj, multivolumefile, inflate64, py7zr\r\n",
      "Successfully installed brotli-1.0.9 inflate64-0.3.1 multivolumefile-0.2.3 py7zr-0.20.5 pybcj-1.0.1 pycryptodomex-3.18.0 pyppmd-1.0.0 pyzstd-0.15.9\r\n",
      "\u001b[33mWARNING: Running pip as the 'root' user can result in broken permissions and conflicting behaviour with the system package manager. It is recommended to use a virtual environment instead: https://pip.pypa.io/warnings/venv\u001b[0m\u001b[33m\r\n",
      "\u001b[0m"
     ]
    }
   ],
   "source": [
    "    !pip install py7zr"
   ]
  },
  {
   "cell_type": "code",
   "execution_count": 4,
   "id": "2bcb53d8",
   "metadata": {
    "execution": {
     "iopub.execute_input": "2023-06-30T08:26:35.866180Z",
     "iopub.status.busy": "2023-06-30T08:26:35.865722Z",
     "iopub.status.idle": "2023-06-30T08:51:14.417877Z",
     "shell.execute_reply": "2023-06-30T08:51:14.416293Z"
    },
    "papermill": {
     "duration": 1478.56496,
     "end_time": "2023-06-30T08:51:14.421236",
     "exception": false,
     "start_time": "2023-06-30T08:26:35.856276",
     "status": "completed"
    },
    "tags": []
   },
   "outputs": [],
   "source": [
    "\n",
    "    import py7zr\n",
    "    with py7zr.SevenZipFile('/kaggle/input/cifar-10/test.7z', mode='r') as z:\n",
    "        z.extractall()"
   ]
  },
  {
   "cell_type": "code",
   "execution_count": 5,
   "id": "e27511d6",
   "metadata": {
    "execution": {
     "iopub.execute_input": "2023-06-30T08:51:14.443922Z",
     "iopub.status.busy": "2023-06-30T08:51:14.443057Z",
     "iopub.status.idle": "2023-06-30T08:52:24.248879Z",
     "shell.execute_reply": "2023-06-30T08:52:24.247529Z"
    },
    "papermill": {
     "duration": 69.818816,
     "end_time": "2023-06-30T08:52:24.251974",
     "exception": false,
     "start_time": "2023-06-30T08:51:14.433158",
     "status": "completed"
    },
    "tags": []
   },
   "outputs": [],
   "source": [
    "    with py7zr.SevenZipFile('/kaggle/input/cifar-10/train.7z', mode='r') as z:\n",
    "        z.extractall()"
   ]
  },
  {
   "cell_type": "code",
   "execution_count": 6,
   "id": "228ef1b9",
   "metadata": {
    "execution": {
     "iopub.execute_input": "2023-06-30T08:52:24.269227Z",
     "iopub.status.busy": "2023-06-30T08:52:24.268828Z",
     "iopub.status.idle": "2023-06-30T09:04:51.611703Z",
     "shell.execute_reply": "2023-06-30T09:04:51.610508Z"
    },
    "papermill": {
     "duration": 747.362377,
     "end_time": "2023-06-30T09:04:51.622223",
     "exception": false,
     "start_time": "2023-06-30T08:52:24.259846",
     "status": "completed"
    },
    "tags": []
   },
   "outputs": [
    {
     "data": {
      "image/png": "[encoded data removed]",
      "text/plain": [
       "<Figure size 640x480 with 1 Axes>"
      ]
     },
     "metadata": {},
     "output_type": "display_data"
    }
   ],
   "source": [
    "    import cv2\n",
    "    import os\n",
    "    import matplotlib.pyplot as plt\n",
    "\n",
    "    # Directory path containing the images\n",
    "    directory = \"/kaggle/working/train\"\n",
    "\n",
    "    # Iterate over files in the directory\n",
    "    for filename in os.listdir(directory):\n",
    "        # Check if the file has an image extension\n",
    "        if filename.endswith(\".jpg\") or filename.endswith(\".png\"):\n",
    "            # Construct the full file path\n",
    "            file_path = os.path.join(directory, filename)\n",
    "\n",
    "            # Load the image using OpenCV\n",
    "            image_data = cv2.imread(file_path)\n",
    "\n",
    "            # Check if the image was successfully loaded\n",
    "            if image_data is not None:\n",
    "                # Perform desired operations on the image\n",
    "                # For example, you can process or analyze the image here\n",
    "                # Here's a sample code to display the image using Matplotlib\n",
    "                plt.imshow(cv2.cvtColor(image_data, cv2.COLOR_BGR2RGB))\n",
    "                plt.axis('off')\n",
    "                #plt.show()\n",
    "            #else:\n",
    "                #print(\"Failed to load the image:\", file_path)\n",
    "\n",
    "\n"
   ]
  },
  {
   "cell_type": "code",
   "execution_count": 7,
   "id": "2dcdaaaf",
   "metadata": {
    "execution": {
     "iopub.execute_input": "2023-06-30T09:04:51.639784Z",
     "iopub.status.busy": "2023-06-30T09:04:51.639325Z",
     "iopub.status.idle": "2023-06-30T09:04:57.752951Z",
     "shell.execute_reply": "2023-06-30T09:04:57.751902Z"
    },
    "papermill": {
     "duration": 6.125575,
     "end_time": "2023-06-30T09:04:57.755585",
     "exception": false,
     "start_time": "2023-06-30T09:04:51.630010",
     "status": "completed"
    },
    "tags": []
   },
   "outputs": [],
   "source": [
    "\n",
    "\n",
    "    # Directory path containing the images\n",
    "    directory = \"/kaggle/working/train\"\n",
    "\n",
    "    # Initialize lists to store image data and labels\n",
    "    image_data = []\n",
    "    labels = []\n",
    "\n",
    "    # Iterate over files in the directory\n",
    "    for filename in os.listdir(directory):\n",
    "        # Check if the file has an image extension\n",
    "        if filename.endswith(\".jpg\") or filename.endswith(\".png\"):\n",
    "            # Construct the full file path\n",
    "            file_path = os.path.join(directory, filename)\n",
    "\n",
    "            # Load the image using OpenCV\n",
    "            image = cv2.imread(file_path)\n",
    "\n",
    "            # Check if the image was successfully loaded\n",
    "            if image is not None:\n",
    "                # Preprocess the image if required\n",
    "                # For example, you can resize, normalize, or flatten the image here\n",
    "                # Here's a sample code to resize the image to a specific size\n",
    "                #image = cv2.resize(image, (64, 64))\n",
    "\n",
    "                # Convert the image to grayscale if needed\n",
    "                # image = cv2.cvtColor(image, cv2.COLOR_BGR2GRAY)\n",
    "\n",
    "                # Convert the image to float32\n",
    "                image = image.astype(np.float32)\n",
    "\n",
    "                # Normalize the image pixel values between 0 and 1\n",
    "                image /= 255.0\n",
    "\n",
    "                # Append the image data and label to the lists\n",
    "                image_data.append(image)\n",
    "                labels.append(filename)  # Assuming the filename represents the label\n",
    "            else:\n",
    "                print(\"Failed to load the image:\", file_path)\n",
    "\n",
    "    # Convert the image data and labels to NumPy arrays\n",
    "    X = np.array(image_data)\n",
    "    Y = np.array(labels)\n",
    "\n",
    "    # Perform any additional preprocessing or splitting of the data as needed\n",
    "    # For example, you can split the data into training and testing sets\n",
    "\n",
    "    # Pass the image data to the MLP for further processing\n",
    "    # Make sure to reshape the input data according to the MLP input requirements\n",
    "    # For example, if the MLP expects flattened input, use image_data.reshape(-1) to flatten the data\n"
   ]
  },
  {
   "cell_type": "code",
   "execution_count": 8,
   "id": "a5030a6a",
   "metadata": {
    "execution": {
     "iopub.execute_input": "2023-06-30T09:04:57.773114Z",
     "iopub.status.busy": "2023-06-30T09:04:57.772727Z",
     "iopub.status.idle": "2023-06-30T09:05:40.668010Z",
     "shell.execute_reply": "2023-06-30T09:05:40.666804Z"
    },
    "papermill": {
     "duration": 42.907496,
     "end_time": "2023-06-30T09:05:40.671060",
     "exception": false,
     "start_time": "2023-06-30T09:04:57.763564",
     "status": "completed"
    },
    "tags": []
   },
   "outputs": [],
   "source": [
    "    # Directory path containing the images\n",
    "    directory = \"/kaggle/working/test\"\n",
    "\n",
    "    # Initialize lists to store image data and labels\n",
    "    image_data = []\n",
    "    labels = []\n",
    "\n",
    "    # Iterate over files in the directory\n",
    "    for filename in os.listdir(directory):\n",
    "        # Check if the file has an image extension\n",
    "        if filename.endswith(\".jpg\") or filename.endswith(\".png\"):\n",
    "            # Construct the full file path\n",
    "            file_path = os.path.join(directory, filename)\n",
    "\n",
    "            # Load the image using OpenCV\n",
    "            image = cv2.imread(file_path)\n",
    "\n",
    "            # Check if the image was successfully loaded\n",
    "            if image is not None:\n",
    "                # Preprocess the image if required\n",
    "                # For example, you can resize, normalize, or flatten the image here\n",
    "                # Here's a sample code to resize the image to a specific size\n",
    "                #image = cv2.resize(image, (64, 64))\n",
    "\n",
    "                # Convert the image to grayscale if needed\n",
    "                # image = cv2.cvtColor(image, cv2.COLOR_BGR2GRAY)\n",
    "\n",
    "                # Convert the image to float32\n",
    "                image = image.astype(np.float32)\n",
    "\n",
    "                # Normalize the image pixel values between 0 and 1\n",
    "                image /= 255.0\n",
    "\n",
    "                # Append the image data and label to the lists\n",
    "                image_data.append(image)\n",
    "                labels.append(filename)  # Assuming the filename represents the label\n",
    "            else:\n",
    "                print(\"Failed to load the image:\", file_path)\n",
    "\n",
    "    # Convert the image data and labels to NumPy arrays\n",
    "    X_val = np.array(image_data)\n",
    "    Y_val = np.array(labels)\n",
    "\n",
    "    # Perform any additional preprocessing or splitting of the data as needed\n",
    "    # For example, you can split the data into training and testing sets\n",
    "\n",
    "    # Pass the image data to the MLP for further processing\n",
    "    # Make sure to reshape the input data according to the MLP input requirements\n",
    "    # For example, if the MLP expects flattened input, use image_data.reshape(-1) to flatten the data"
   ]
  },
  {
   "cell_type": "code",
   "execution_count": 9,
   "id": "7d886dc4",
   "metadata": {
    "execution": {
     "iopub.execute_input": "2023-06-30T09:05:40.690601Z",
     "iopub.status.busy": "2023-06-30T09:05:40.690145Z",
     "iopub.status.idle": "2023-06-30T09:05:40.696257Z",
     "shell.execute_reply": "2023-06-30T09:05:40.695182Z"
    },
    "papermill": {
     "duration": 0.019186,
     "end_time": "2023-06-30T09:05:40.699368",
     "exception": false,
     "start_time": "2023-06-30T09:05:40.680182",
     "status": "completed"
    },
    "tags": []
   },
   "outputs": [
    {
     "name": "stdout",
     "output_type": "stream",
     "text": [
      "The shape of the training set is: 50000 x 32\n",
      "300000\n",
      "['148292.png' '223519.png' '74450.png' ... '133700.png' '69160.png'\n",
      " '29672.png']\n"
     ]
    }
   ],
   "source": [
    "    print(f\"The shape of the training set is: {X.shape[0]} x {X.shape[1]}\")\n",
    "    #print(f\"The shape of the test set is: {X.shape[0]} x {X_test.shape[1]}\")\n",
    "    print(Y_val.shape[0])\n",
    "    print(Y_val)"
   ]
  },
  {
   "cell_type": "code",
   "execution_count": 10,
   "id": "762d9331",
   "metadata": {
    "execution": {
     "iopub.execute_input": "2023-06-30T09:05:40.716895Z",
     "iopub.status.busy": "2023-06-30T09:05:40.716492Z",
     "iopub.status.idle": "2023-06-30T09:05:40.728041Z",
     "shell.execute_reply": "2023-06-30T09:05:40.726971Z"
    },
    "papermill": {
     "duration": 0.023154,
     "end_time": "2023-06-30T09:05:40.730476",
     "exception": false,
     "start_time": "2023-06-30T09:05:40.707322",
     "status": "completed"
    },
    "tags": []
   },
   "outputs": [],
   "source": [
    "    class MLP():\n",
    "\n",
    "        def __init__(self,X,Y,X_val,Y_val,sizes,num_hidden=1,N_l=128):\n",
    "            self.X = np.concatenate((X,np.ones((X.shape[0],1))),axis=1)\n",
    "            self.Y = np.squeeze(np.eye(10)[Y.astype(np.int).reshape(-1)])\n",
    "            self.X_val = np.concatenate((X_val,np.ones((X_val.shape[0],1))),axis=1)#adding 1 to the input values to include bias\n",
    "            self.Y_val = np.squeeze(np.eye(10)[Y_val.astype(np.int).reshape(-1)])\n",
    "            self.num_hidden = num_hidden\n",
    "            self.N_l = N_l\n",
    "            self.n_samples = self.X.shape[0]\n",
    "            self.All_sizes =np.array([self.X.shape[1]]+[sizes]+[self.Y.shape[1]])\n",
    "            self.sizes =sizes\n",
    "            self.__init_weights()\n",
    "\n",
    "            #to monitor the performance of the MLP\n",
    "            self.train_loss = list()\n",
    "            self.train_acc = list()\n",
    "            self.val_loss = list()\n",
    "            self.val_acc = list()\n",
    "            self.train_time = list()\n",
    "            self.tot_time = list()\n",
    "            self.metrics = [self.train_loss,self.train_acc,self.val_loss,self.val_acc,self.train_time,self.tot_time]"
   ]
  },
  {
   "cell_type": "code",
   "execution_count": 11,
   "id": "1feaf213",
   "metadata": {
    "execution": {
     "iopub.execute_input": "2023-06-30T09:05:40.748442Z",
     "iopub.status.busy": "2023-06-30T09:05:40.747894Z",
     "iopub.status.idle": "2023-06-30T09:05:40.757557Z",
     "shell.execute_reply": "2023-06-30T09:05:40.756313Z"
    },
    "papermill": {
     "duration": 0.021284,
     "end_time": "2023-06-30T09:05:40.759998",
     "exception": false,
     "start_time": "2023-06-30T09:05:40.738714",
     "status": "completed"
    },
    "tags": []
   },
   "outputs": [],
   "source": [
    "        def __sigmoid(self,x):\n",
    "            # VCompute the sigmoid\n",
    "            return 1./(1.+np.exp(-x))\n",
    "\n",
    "        def __tanh(self,x):\n",
    "            return np.tanh(x)\n",
    "\n",
    "        def __softmax(self,x):\n",
    "            # Compute softmax along the rows of the input\n",
    "            exponent = np.exp(x)\n",
    "            return exponent/exponent.sum(axis=1,keepdims=True)\n",
    "\n",
    "        def __loss(self,y_pred,y,loss):\n",
    "            # Compute the loss along the rows, averaging along the number of samples\n",
    "            if(loss=='ce'):\n",
    "                return ((-np.log(y_pred))*y).sum(axis=1).mean()\n",
    "            elif(loss=='sq'):\n",
    "                return ((y_pred-y)**2).sum(axis=1).mean()        "
   ]
  },
  {
   "cell_type": "code",
   "execution_count": 12,
   "id": "0355f8e1",
   "metadata": {
    "execution": {
     "iopub.execute_input": "2023-06-30T09:05:40.778189Z",
     "iopub.status.busy": "2023-06-30T09:05:40.777563Z",
     "iopub.status.idle": "2023-06-30T09:05:40.788439Z",
     "shell.execute_reply": "2023-06-30T09:05:40.787555Z"
    },
    "papermill": {
     "duration": 0.022954,
     "end_time": "2023-06-30T09:05:40.791035",
     "exception": false,
     "start_time": "2023-06-30T09:05:40.768081",
     "status": "completed"
    },
    "tags": []
   },
   "outputs": [],
   "source": [
    "        def __accuracy(self,y_pred,y):  \n",
    "            # Compute the accuracy along the rows, averaging along the number of samples\n",
    "            return np.all(y_pred==y,axis=1).mean()\n",
    "        def __activation_prime(self,h,activation):\n",
    "            if(activation=='tanh'):\n",
    "                return 1- h**2\n",
    "            elif(activation=='sigmoid'):\n",
    "                return h*(1-h)\n",
    "\n",
    "\n",
    "        def __to_categorical(self,x):  \n",
    "            # Transform probabilities into categorical predictions row-wise, by simply taking the max probability\n",
    "            categorical = np.zeros((x.shape[0],self.Y.shape[1]))\n",
    "            categorical[np.arange(x.shape[0]),x.argmax(axis=1)] = 1\n",
    "            return categorical\n",
    "\n",
    "        def __init_weights(self):\n",
    "            # Initialize the weights of the network given the sizes of the layers\n",
    "            self.weights = list()\n",
    "            for i in range(self.All_sizes.shape[0]-1):\n",
    "                self.weights.append(np.random.uniform(-1,1,size=[self.All_sizes[i],self.All_sizes[i+1]]))\n",
    "            self.weights = np.asarray(self.weights)\n",
    "\n",
    "        def __init_layers(self,batch_size):\n",
    "            # Initialize and allocate arrays for the hidden layer activations \n",
    "            self.__h = [np.empty((batch_size,layer)) for layer in self.All_sizes]"
   ]
  },
  {
   "cell_type": "code",
   "execution_count": 13,
   "id": "b1df7b50",
   "metadata": {
    "execution": {
     "iopub.execute_input": "2023-06-30T09:05:40.809539Z",
     "iopub.status.busy": "2023-06-30T09:05:40.808864Z",
     "iopub.status.idle": "2023-06-30T09:05:40.836977Z",
     "shell.execute_reply": "2023-06-30T09:05:40.836022Z"
    },
    "papermill": {
     "duration": 0.04039,
     "end_time": "2023-06-30T09:05:40.839522",
     "exception": false,
     "start_time": "2023-06-30T09:05:40.799132",
     "status": "completed"
    },
    "tags": []
   },
   "outputs": [],
   "source": [
    "        def __feed_forward(self,batch):\n",
    "            # Perform a forward pass of `batch` samples (N_samples x N_features)\n",
    "            h_l = batch\n",
    "            self.__h[0] = h_l\n",
    "            for i,weights in enumerate(self.weights):\n",
    "                h_l = self.__activation(h_l.dot(weights))\n",
    "                self.__h[i+1]=h_l\n",
    "            self.__out = self.__softmax(self.__h[-1])\n",
    "\n",
    "        def __back_prop(self,batch_y, activation, momentum, eta=0.01, beta1=0.9, beta2=0.999, epsilon=1e-8 ):\n",
    "            # Update the weights of the network through back-propagation\n",
    "            if(opt=='gd'):\n",
    "                delta_t = (self.__out - batch_y)*self.__activation_prime(self.__h[-1], activation)\n",
    "                for i in range(1,len(self.weights)+1):\n",
    "                    self.weights[-i]-=self.lr*(self.__h[-i-1].T.dot(delta_t))/self.batch_size\n",
    "                    delta_t = self.__activation_prime(self.__h[-i-1], activation)*(delta_t.dot(self.weights[-i].T))\n",
    "            elif(opt=='momentum'):\n",
    "                delta_t = (self.__out - batch_y)*self.__activation_prime(self.__h[-1], activation)\n",
    "                for i in range(1,len(self.weights)+1):\n",
    "                    momentum= 0.9*momentum + self.lr*(self.__h[-i-1].T.dot(delta_t))/self.batch_size\n",
    "                    self.weights[-i]-=momentum\n",
    "                    delta_t = self.__activation_prime(self.__h[-i-1], activation)*(delta_t.dot(self.weights[-i].T))\n",
    "            elif(opt=='adam'):\n",
    "                m_dw, v_dw = 0, 0\n",
    "                m_db, v_db = 0, 0\n",
    "\n",
    "                m_dw = beta1*m_dw + (1-beta1)*dw\n",
    "                # *** biases *** #\n",
    "                m_db = beta1*m_db + (1-beta1)*db\n",
    "\n",
    "                ## rms beta 2\n",
    "                # *** weights *** #\n",
    "                v_dw = beta2*v_dw + (1-beta2)*(dw**2)\n",
    "                # *** biases *** #\n",
    "                v_db = beta2*v_db + (1-beta2)*(db)\n",
    "\n",
    "                ## bias correction\n",
    "                m_dw_corr = m_dw/(1-beta1**t)\n",
    "                m_db_corr = m_db/(1-beta1**t)\n",
    "                v_dw_corr = v_dw/(1-beta2**t)\n",
    "                v_db_corr = v_db/(1-beta2**t)\n",
    "\n",
    "                ## update weights and biases\n",
    "                w = w - eta*(m_dw_corr/(np.sqrt(v_dw_corr)+epsilon))\n",
    "                b = b - eta*(m_db_corr/(np.sqrt(v_db_corr)+epsilon))"
   ]
  },
  {
   "cell_type": "code",
   "execution_count": 14,
   "id": "60368a5c",
   "metadata": {
    "execution": {
     "iopub.execute_input": "2023-06-30T09:05:40.857534Z",
     "iopub.status.busy": "2023-06-30T09:05:40.856872Z",
     "iopub.status.idle": "2023-06-30T09:05:40.869918Z",
     "shell.execute_reply": "2023-06-30T09:05:40.868946Z"
    },
    "papermill": {
     "duration": 0.025037,
     "end_time": "2023-06-30T09:05:40.872502",
     "exception": false,
     "start_time": "2023-06-30T09:05:40.847465",
     "status": "completed"
    },
    "tags": []
   },
   "outputs": [],
   "source": [
    "        def train(self,batch_size=8,epochs=25,lr=1.0):\n",
    "            # Train the model with a given batch size, epochs, and learning rate. Store and print relevant metrics.\n",
    "            self.lr = lr\n",
    "            self.batch_size=batch_size\n",
    "            for epoch in range(epochs):\n",
    "                start = time.time()\n",
    "\n",
    "                self.__init_layers(self.batch_size)\n",
    "                shuffle = np.random.permutation(self.n_samples)\n",
    "                train_loss = 0\n",
    "                train_acc = 0\n",
    "                X_batches = np.array_split(self.X[shuffle],self.n_samples/self.batch_size)\n",
    "                Y_batches = np.array_split(self.Y[shuffle],self.n_samples/self.batch_size)\n",
    "                for batch_x,batch_y in zip(X_batches,Y_batches):\n",
    "                    self.__feed_forward(batch_x)  \n",
    "                    train_loss += self.__loss(self.__out,batch_y)\n",
    "                    train_acc += self.__accuracy(self.__to_categorical(self.__out),batch_y)\n",
    "                    self.__back_prop(batch_y)\n",
    "\n",
    "                train_loss = (train_loss/len(X_batches))\n",
    "                train_acc = (train_acc/len(X_batches))\n",
    "                self.train_loss.append(train_loss)\n",
    "                self.train_acc.append(train_acc)\n",
    "\n",
    "                train_time = round(time.time()-start,3)\n",
    "                self.train_time.append(train_time)\n",
    "\n",
    "                self.__init_layers(self.X_val.shape[0])\n",
    "                self.__feed_forward(self.X_val)\n",
    "                val_loss = self.__loss(self.__out,self.Y_val)\n",
    "                val_acc = self.__accuracy(self.__to_categorical(self.__out),self.Y_val)\n",
    "                self.val_loss.append(val_loss)\n",
    "                self.val_acc.append(val_acc)\n",
    "\n",
    "                tot_time = round(time.time()-start,3)\n",
    "                self.tot_time.append(tot_time)\n",
    "\n",
    "                print(f\"Epoch {epoch+1}: loss = {train_loss.round(3)} | acc = {train_acc.round(3)} | val_loss = {val_loss.round(3)} | val_acc = {val_acc.round(3)} | train_time = {train_time} | tot_time = {tot_time}\")\n",
    "                print('falala')\n"
   ]
  }
 ],
 "metadata": {
  "kernelspec": {
   "display_name": "Python 3",
   "language": "python",
   "name": "python3"
  },
  "language_info": {
   "codemirror_mode": {
    "name": "ipython",
    "version": 3
   },
   "file_extension": ".py",
   "mimetype": "text/x-python",
   "name": "python",
   "nbconvert_exporter": "python",
   "pygments_lexer": "ipython3",
   "version": "3.10.10"
  },
  "papermill": {
   "default_parameters": {},
   "duration": 2378.332395,
   "end_time": "2023-06-30T09:05:43.807599",
   "environment_variables": {},
   "exception": null,
   "input_path": "__notebook__.ipynb",
   "output_path": "__notebook__.ipynb",
   "parameters": {},
   "start_time": "2023-06-30T08:26:05.475204",
   "version": "2.4.0"
  }
 },
 "nbformat": 4,
 "nbformat_minor": 5
}
