{
 "cells": [
  {
   "cell_type": "code",
   "execution_count": 16,
   "id": "8874c60b",
   "metadata": {},
   "outputs": [
    {
     "name": "stdout",
     "output_type": "stream",
     "text": [
      "[*********************100%***********************]  13 of 13 completed\n",
      "             Annual Returns  Annual Volatility  Max Drawdown  Sharpe Ratio  \\\n",
      "AAPL               0.277317           0.280625     -0.437972      0.916944   \n",
      "AMZN               0.258984           0.325666     -0.561453      0.733833   \n",
      "BABA               0.072174           0.415588     -0.800877      0.125543   \n",
      "MSFT               0.220802           0.256302     -0.371485      0.783458   \n",
      "RELIANCE.NS        0.154281           0.273337     -0.450884      0.491266   \n",
      "SMSN.L             0.144595           0.299328     -0.557813      0.416249   \n",
      "TSLA               0.511783           0.562680     -0.736322      0.874002   \n",
      "^FCHI              0.065452           0.201695     -0.385585      0.225349   \n",
      "^FTSE              0.037595           0.159585     -0.366055      0.110257   \n",
      "^GDAXI             0.091407           0.199446     -0.387794      0.358028   \n",
      "^GSPC              0.109694           0.174227     -0.339250      0.514811   \n",
      "^N225              0.096975           0.201352     -0.317989      0.382291   \n",
      "^NSEI              0.104037           0.167036     -0.384399      0.503105   \n",
      "\n",
      "             Sortino Ratio  \n",
      "AAPL              1.525248  \n",
      "AMZN              1.238078  \n",
      "BABA              0.222116  \n",
      "MSFT              1.308523  \n",
      "RELIANCE.NS       0.848177  \n",
      "SMSN.L            0.701736  \n",
      "TSLA                   NaN  \n",
      "^FCHI             0.354543  \n",
      "^FTSE             0.170893  \n",
      "^GDAXI            0.564503  \n",
      "^GSPC             0.792658  \n",
      "^N225             0.609324  \n",
      "^NSEI                  NaN  \n"
     ]
    }
   ],
   "source": [
    "import yfinance as yf\n",
    "import pandas as pd\n",
    "\n",
    "stocks = ['^GSPC', '^FTSE', '^GDAXI', '^N225', '^FCHI', 'AAPL', 'AMZN', 'MSFT', 'BABA', 'SMSN.L', 'RELIANCE.NS', 'TSLA', '^NSEI'] #Famous ones\n",
    "data_stocks = yf.download(stocks, start='2010-01-01', end='2023-05-20')\n",
    "returns = data_stocks['Adj Close'].pct_change()\n",
    "cumulative_returns = (returns + 1).cumprod()\n",
    "rolling_max = cumulative_returns.rolling(window = len(data_stocks), min_periods = 1).max()\n",
    "drawdown = cumulative_returns / rolling_max - 1.0\n",
    "maximumdrawdowns = drawdown.min()\n",
    "annualreturns = (returns.mean() * 252) #working days 252\n",
    "annual_volatility = returns.std() * (252 ** 0.5)\n",
    "risk_free_rate = 0.02 \n",
    "sharpe_ratio = (annualreturns - risk_free_rate) / annual_volatility\n",
    "downside_returns = returns.copy()\n",
    "downside_returns[returns > 0] = 0\n",
    "downside_volatility = downside_returns.std() * (252 ** 0.5) \n",
    "sortinoratio = (annual_returns - risk_free_rate) / downside_volatility\n",
    "table_stamatics = pd.DataFrame({'Annual Returns': annualreturns, 'Annual Volatility': annual_volatility, 'Max Drawdown': maximumdrawdowns, 'Sharpe Ratio': sharpe_ratio, 'Sortino Ratio': sortinoratio})\n",
    "print(table_stamatics)\n"
   ]
  },
  {
   "cell_type": "code",
   "execution_count": null,
   "id": "0f9f1834",
   "metadata": {},
   "outputs": [],
   "source": []
  }
 ],
 "metadata": {
  "kernelspec": {
   "display_name": "Python 3 (ipykernel)",
   "language": "python",
   "name": "python3"
  },
  "language_info": {
   "codemirror_mode": {
    "name": "ipython",
    "version": 3
   },
   "file_extension": ".py",
   "mimetype": "text/x-python",
   "name": "python",
   "nbconvert_exporter": "python",
   "pygments_lexer": "ipython3",
   "version": "3.9.12"
  }
 },
 "nbformat": 4,
 "nbformat_minor": 5
}
