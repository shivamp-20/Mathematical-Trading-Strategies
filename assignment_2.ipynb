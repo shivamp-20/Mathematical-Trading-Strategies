{
  "nbformat": 4,
  "nbformat_minor": 0,
  "metadata": {
    "colab": {
      "provenance": [],
      "include_colab_link": true
    },
    "kernelspec": {
      "name": "python3",
      "display_name": "Python 3"
    },
    "language_info": {
      "name": "python"
    }
  },
  "cells": [
    {
      "cell_type": "markdown",
      "metadata": {
        "id": "view-in-github",
        "colab_type": "text"
      },
      "source": [
        "<a href=\"https://colab.research.google.com/github/ARNAB5671/Arnab_webdev_algofindev/blob/main/Untitled5.ipynb\" target=\"_parent\"><img src=\"https://colab.research.google.com/assets/colab-badge.svg\" alt=\"Open In Colab\"/></a>"
      ]
    },
    {
      "cell_type": "code",
      "source": [
        "import yfinance as yf\n",
        "import pandas as pd\n",
        "\n",
        "#tickers for NASDAQ and NSE indices\n",
        "nasdaq_ticker = \"^IXIC\"\n",
        "nse_ticker = \"^NSEI\"\n",
        "\n",
        "# Collecting historical data using yfinance\n",
        "nasdaq_data = yf.download(nasdaq_ticker, start=\"2022-01-01\", end=\"2022-12-31\")\n",
        "nse_data = yf.download(nse_ticker, start=\"2022-01-01\", end=\"2022-12-31\")\n",
        "\n",
        "# Saving the data to CSV files\n",
        "nasdaq_data.to_csv('nasdaq_data.csv')\n",
        "nse_data.to_csv('nse_data.csv')\n",
        "\n",
        "\n",
        "# Step a) Collecting Historical Data\n",
        "nasdaq_data = pd.read_csv('nasdaq_data.csv')\n",
        "nse_data = pd.read_csv('nse_data.csv')\n",
        "\n",
        "# Step b) Calculating the Correlation Coefficient\n",
        "correlation_coefficient = nasdaq_data['Close'].corr(nse_data['Close'])\n",
        "\n",
        "# Step c) Analyze the Strength and Direction of the Relationship\n",
        "if correlation_coefficient > 0:\n",
        "    strength = \"strong positive\"\n",
        "elif correlation_coefficient < 0:\n",
        "    strength = \"strong negative\"\n",
        "else:\n",
        "    strength = \"weak or no\"\n",
        "\n",
        "direction = \"positive\" if correlation_coefficient > 0 else \"negative\"\n",
        "\n",
        "# Print the Results\n",
        "print(\"Correlation Coefficient: \", correlation_coefficient)\n",
        "print(\"Strength of the Relationship: \", strength)\n",
        "print(\"Direction of the Relationship: \", direction)\n"
      ],
      "metadata": {
        "colab": {
          "base_uri": "https://localhost:8080/"
        },
        "id": "F7hbgvI7iTw5",
        "outputId": "c4973347-0d9c-493a-f544-de563ae667f1"
      },
      "execution_count": 4,
      "outputs": [
        {
          "output_type": "stream",
          "name": "stdout",
          "text": [
            "[*********************100%***********************]  1 of 1 completed\n",
            "[*********************100%***********************]  1 of 1 completed\n",
            "Correlation Coefficient:  0.06460965100857728\n",
            "Strength of the Relationship:  strong positive\n",
            "Direction of the Relationship:  positive\n"
          ]
        }
      ]
    },
    {
      "cell_type": "code",
      "source": [
        "import pandas as pd\n",
        "import numpy as np\n",
        "\n",
        "# Collecting Historical Data\n",
        "nasdaq_data = pd.read_csv('nasdaq_data.csv')\n",
        "nse_data = pd.read_csv('nse_data.csv')\n",
        "\n",
        "#Identifying Potential Lead-Lag Relationships\n",
        "nasdaq_close = nasdaq_data['Close']\n",
        "nse_close = nse_data['Close']\n",
        "\n",
        "# Aligning the data based on common dates\n",
        "common_dates = np.intersect1d(nasdaq_data['Date'], nse_data['Date'])\n",
        "nasdaq_close = nasdaq_close[nasdaq_data['Date'].isin(common_dates)]\n",
        "nse_close = nse_close[nse_data['Date'].isin(common_dates)]\n",
        "\n",
        "# Computing cross-correlation with different lags\n",
        "lags = range(-20, 21)  # Adjust the range of lags as needed\n",
        "correlations = []\n",
        "\n",
        "for lag in lags:\n",
        "    nasdaq_shifted = nasdaq_close.shift(lag)\n",
        "    correlation = np.corrcoef(nse_close, nasdaq_shifted)[0, 1]\n",
        "    correlations.append(correlation)\n",
        "\n",
        "# Finding the lag with maximum correlation\n",
        "max_correlation = max(correlations)\n",
        "max_lag = lags[correlations.index(max_correlation)]\n",
        "\n",
        "#Using the Lead-Lag Relationship for Parameter Optimization\n",
        "if max_lag > 0:\n",
        "    parameter_optimization_index = 'NASDAQ'\n",
        "else:\n",
        "    parameter_optimization_index = 'NSE'\n",
        "\n",
        "#Explanation\n",
        "explanation = \"The {} index is chosen for parameter optimization because it consistently leads the other index with a lag of {} days.\".format(parameter_optimization_index, abs(max_lag))\n",
        "\n",
        "# Print the Results\n",
        "print(\"Lead-Lag Analysis Results:\")\n",
        "print(\"Max Correlation: \", max_correlation)\n",
        "print(\"Max Lag: \", max_lag)\n",
        "print(\"Parameter Optimization Index: \", parameter_optimization_index)\n",
        "print(\"Explanation: \", explanation)\n"
      ],
      "metadata": {
        "colab": {
          "base_uri": "https://localhost:8080/"
        },
        "id": "HQF4IUBVkFN9",
        "outputId": "79a4fcdf-1f01-4ed0-b606-d74b4df7039c"
      },
      "execution_count": null,
      "outputs": [
        {
          "output_type": "stream",
          "name": "stdout",
          "text": [
            "Lead-Lag Analysis Results:\n",
            "Max Correlation:  nan\n",
            "Max Lag:  -20\n",
            "Parameter Optimization Index:  NSE\n",
            "Explanation:  The NSE index is chosen for parameter optimization because it consistently leads the other index with a lag of 20 days.\n"
          ]
        }
      ]
    },
    {
      "cell_type": "code",
      "source": [
        "!pip install ta"
      ],
      "metadata": {
        "colab": {
          "base_uri": "https://localhost:8080/"
        },
        "id": "TxkwtUs6kdLG",
        "outputId": "027c72a8-b0e8-434f-ebbe-31f2ceb64321"
      },
      "execution_count": null,
      "outputs": [
        {
          "output_type": "stream",
          "name": "stdout",
          "text": [
            "Looking in indexes: https://pypi.org/simple, https://us-python.pkg.dev/colab-wheels/public/simple/\n",
            "Collecting ta\n",
            "  Downloading ta-0.10.2.tar.gz (25 kB)\n",
            "  Preparing metadata (setup.py) ... \u001b[?25l\u001b[?25hdone\n",
            "Requirement already satisfied: numpy in /usr/local/lib/python3.10/dist-packages (from ta) (1.22.4)\n",
            "Requirement already satisfied: pandas in /usr/local/lib/python3.10/dist-packages (from ta) (1.5.3)\n",
            "Requirement already satisfied: python-dateutil>=2.8.1 in /usr/local/lib/python3.10/dist-packages (from pandas->ta) (2.8.2)\n",
            "Requirement already satisfied: pytz>=2020.1 in /usr/local/lib/python3.10/dist-packages (from pandas->ta) (2022.7.1)\n",
            "Requirement already satisfied: six>=1.5 in /usr/local/lib/python3.10/dist-packages (from python-dateutil>=2.8.1->pandas->ta) (1.16.0)\n",
            "Building wheels for collected packages: ta\n",
            "  Building wheel for ta (setup.py) ... \u001b[?25l\u001b[?25hdone\n",
            "  Created wheel for ta: filename=ta-0.10.2-py3-none-any.whl size=29088 sha256=daf1f6b406b85d7b42505df1d62e3d1ec1a859867b88693ea108dbb2f806df2e\n",
            "  Stored in directory: /root/.cache/pip/wheels/47/51/06/380dc516ea78621870b93ff65527c251afdfdc5fa9d7f4d248\n",
            "Successfully built ta\n",
            "Installing collected packages: ta\n",
            "Successfully installed ta-0.10.2\n"
          ]
        }
      ]
    },
    {
      "cell_type": "code",
      "source": [
        "import pandas as pd\n",
        "import ta\n",
        "\n",
        "# using ta library cuz its more convenient than ta-lib\n",
        "\n",
        "#We can also use direct formulas but i have used here library function googling up the use and code/\n",
        "\n",
        "#Historical Data\n",
        "nasdaq_data = pd.read_csv('nasdaq_data.csv')\n",
        "nse_data = pd.read_csv('nse_data.csv')\n",
        "\n",
        "# Indicators\n",
        "nasdaq_close = nasdaq_data['Close']\n",
        "nasdaq_high = nasdaq_data['High']\n",
        "nasdaq_low = nasdaq_data['Low']\n",
        "\n",
        "nse_close = nse_data['Close']\n",
        "nse_high = nse_data['High']\n",
        "nse_low = nse_data['Low']\n",
        "\n",
        "# Calculating Keltner Channel\n",
        "nasdaq_kc = ta.volatility.KeltnerChannel(nasdaq_high, nasdaq_low, nasdaq_close)\n",
        "nse_kc = ta.volatility.KeltnerChannel(nse_high, nse_low, nse_close)\n",
        "\n",
        "# Calculating  Bollinger Bands\n",
        "nasdaq_bb = ta.volatility.BollingerBands(nasdaq_close)\n",
        "nse_bb = ta.volatility.BollingerBands(nse_close)\n",
        "\n",
        "# Calculate MACD\n",
        "nasdaq_macd = ta.trend.MACD(nasdaq_close)\n",
        "nse_macd = ta.trend.MACD(nse_close)\n",
        "\n",
        "# Access indicator values\n",
        "nasdaq_kc_upper = nasdaq_kc.keltner_channel_hband()\n",
        "nse_kc_upper = nse_kc.keltner_channel_hband()\n",
        "\n",
        "nasdaq_bb_upper = nasdaq_bb.bollinger_hband()\n",
        "nse_bb_upper = nse_bb.bollinger_hband()\n",
        "\n",
        "nasdaq_macd_line = nasdaq_macd.macd()\n",
        "nse_macd_line = nse_macd.macd()\n",
        "\n",
        "#for lower and middle we can use lband,mband respectively in place of hband \n",
        "\n",
        "# Printing the indicator values as needed\n",
        "print(\"Keltner Channel - NASDAQ\")\n",
        "print(\"Upper Band: \", nasdaq_kc_upper)\n",
        "\n",
        "print(\"\\nBollinger Bands - NSE\")\n",
        "print(\"Upper Band: \", nse_bb_upper)\n",
        "\n",
        "print(\"\\nMACD - NASDAQ\")\n",
        "print(\"MACD Line: \", nasdaq_macd_line)\n",
        "\n",
        "print(\"\\nMACD - NSE\")\n",
        "print(\"MACD Line: \", nse_macd_line)\n"
      ],
      "metadata": {
        "colab": {
          "base_uri": "https://localhost:8080/"
        },
        "id": "Nxz6misYkmZ-",
        "outputId": "e215117d-94d4-4365-e595-3d4cac9256a3"
      },
      "execution_count": null,
      "outputs": [
        {
          "output_type": "stream",
          "name": "stdout",
          "text": [
            "Keltner Channel - NASDAQ\n",
            "Upper Band:  0      15958.606445\n",
            "1      15980.379557\n",
            "2      15904.143012\n",
            "3      15765.184001\n",
            "4      15669.795117\n",
            "           ...     \n",
            "246    11205.945866\n",
            "247    11167.311393\n",
            "248    11134.286621\n",
            "249    11075.544499\n",
            "250    11021.849333\n",
            "Name: kc_hband, Length: 251, dtype: float64\n",
            "\n",
            "Bollinger Bands - NSE\n",
            "Upper Band:  0               NaN\n",
            "1               NaN\n",
            "2               NaN\n",
            "3               NaN\n",
            "4               NaN\n",
            "           ...     \n",
            "243    18980.971598\n",
            "244    18971.089665\n",
            "245    18935.520311\n",
            "246    18878.194970\n",
            "247    18839.669381\n",
            "Name: hband, Length: 248, dtype: float64\n",
            "\n",
            "MACD - NASDAQ\n",
            "MACD Line:  0             NaN\n",
            "1             NaN\n",
            "2             NaN\n",
            "3             NaN\n",
            "4             NaN\n",
            "          ...    \n",
            "246   -137.096714\n",
            "247   -159.533798\n",
            "248   -186.458000\n",
            "249   -184.303952\n",
            "250   -181.442082\n",
            "Name: MACD_12_26, Length: 251, dtype: float64\n",
            "\n",
            "MACD - NSE\n",
            "MACD Line:  0            NaN\n",
            "1            NaN\n",
            "2            NaN\n",
            "3            NaN\n",
            "4            NaN\n",
            "         ...    \n",
            "243   -56.840694\n",
            "244   -62.369162\n",
            "245   -66.771651\n",
            "246   -63.995578\n",
            "247   -67.927702\n",
            "Name: MACD_12_26, Length: 248, dtype: float64\n"
          ]
        }
      ]
    },
    {
      "cell_type": "code",
      "source": [
        "import pandas as pd\n",
        "import ta\n",
        "import numpy as np\n",
        "\n",
        "# Load historical data for NASDAQ index\n",
        "nasdaq_data = pd.read_csv('nasdaq_data.csv')\n",
        "\n",
        "# Define parameter combinations to test for each indicator\n",
        "keltner_lengths = [10, 20, 30]  # Example parameter values for Keltner Channel\n",
        "macd_parameters = [(12, 26, 9), (15, 30, 12)]  # Example parameter combinations for MACD\n",
        "bb_lengths = [20, 30, 40]  # Example parameter values for Bollinger Bands\n",
        "\n",
        "# Define variables to store optimized parameters and performance metrics\n",
        "best_kc_length = None\n",
        "best_macd_params = None\n",
        "best_bb_length = None\n",
        "best_sharpe_ratio = -np.inf\n",
        "best_cumulative_returns = None\n",
        "best_max_drawdown = None\n",
        "\n",
        "# Iterate through parameter combinations and evaluate strategy\n",
        "for kc_length in keltner_lengths:\n",
        "    for macd_param in macd_parameters:\n",
        "        for bb_length in bb_lengths:\n",
        "            # Calculate Keltner Channel\n",
        "            kc = ta.volatility.KeltnerChannel(nasdaq_data['High'], nasdaq_data['Low'], nasdaq_data['Close'], kc_length)\n",
        "            kc_upper = kc.keltner_channel_hband()\n",
        "            kc_lower = kc.keltner_channel_lband()\n",
        "\n",
        "            # Calculate MACD\n",
        "            macd = ta.trend.MACD(nasdaq_data['Close'], macd_param[0], macd_param[1], macd_param[2])\n",
        "            macd_line = macd.macd()\n",
        "\n",
        "            # Calculate Bollinger Bands\n",
        "            bb = ta.volatility.BollingerBands(nasdaq_data['Close'], bb_length)\n",
        "            bb_upper = bb.bollinger_hband()\n",
        "            bb_lower = bb.bollinger_lband()\n",
        "\n",
        "            # Implement trading strategy based on indicator signals\n",
        "\n",
        "            # Calculate strategy performance metrics\n",
        "            returns = []  # Store cumulative returns for each period\n",
        "            trades = []  # Store trade signals (buy/sell) for each period\n",
        "\n",
        "            for i in range(len(nasdaq_data)):\n",
        "                # Implement your trading strategy here based on indicator signals\n",
        "                # Example: Buy when price crosses above the upper Bollinger Band, sell when price crosses below the lower Bollinger Band\n",
        "\n",
        "                # Calculate cumulative returns\n",
        "                if i == 0:\n",
        "                    returns.append(0)\n",
        "                else:\n",
        "                    returns.append(returns[-1] + (nasdaq_data['Close'].iloc[i] - nasdaq_data['Close'].iloc[i-1]) / nasdaq_data['Close'].iloc[i-1])\n",
        "\n",
        "            # Calculate metrics\n",
        "            cumulative_returns = returns[-1]\n",
        "            sharpe_ratio = (np.mean(returns) / np.std(returns)) * np.sqrt(252)  # Assuming daily data (252 trading days)\n",
        "            max_drawdown = np.min(returns) - 1  # Drawdown from peak to lowest point\n",
        "\n",
        "            # Check if the current parameter combination yields better results\n",
        "            if sharpe_ratio > best_sharpe_ratio:\n",
        "                best_sharpe_ratio = sharpe_ratio\n",
        "                best_cumulative_returns = cumulative_returns\n",
        "                best_max_drawdown = max_drawdown\n",
        "                best_kc_length = kc_length\n",
        "                best_macd_params = macd_param\n",
        "                best_bb_length = bb_length\n",
        "\n",
        "# Print the optimized parameters and performance metrics\n",
        "print(\"Optimized Parameters:\")\n",
        "print(\"Keltner Channel Length:\", best_kc_length)\n",
        "print(\"MACD Parameters (Fast Length, Slow Length, Signal Length):\", best_macd_params)\n",
        "print(\"Bollinger Bands Length:\", best_bb_length)\n",
        "\n",
        "print(\"\\nPerformance Metrics:\")\n",
        "print(\"Cumulative Returns:\", best_cumulative_returns)\n",
        "print(\"Sharpe Ratio:\", best_sharpe_ratio)\n",
        "print(\"Max Drawdown:\", best_max_drawdown)\n",
        "\n"
      ],
      "metadata": {
        "colab": {
          "base_uri": "https://localhost:8080/"
        },
        "id": "n9VZlNQtk27z",
        "outputId": "8ae8c79d-c0ba-4d30-ef5f-2c5cca6daf15"
      },
      "execution_count": null,
      "outputs": [
        {
          "output_type": "stream",
          "name": "stdout",
          "text": [
            "Optimized Parameters:\n",
            "Keltner Channel Length: 10\n",
            "MACD Parameters (Fast Length, Slow Length, Signal Length): (12, 26, 9)\n",
            "Bollinger Bands Length: 20\n",
            "\n",
            "Performance Metrics:\n",
            "Cumulative Returns: -0.36302327970072296\n",
            "Sharpe Ratio: -40.40724390306947\n",
            "Max Drawdown: -1.3878422966965398\n"
          ]
        }
      ]
    },
    {
      "cell_type": "code",
      "source": [
        "import pandas as pd\n",
        "import ta\n",
        "\n",
        "# Step a) Collect Historical Data\n",
        "nse_data = pd.read_csv('nse_data.csv')\n",
        "\n",
        "# Step b) Implement Indicator\n",
        "nse_close = nse_data['Close']\n",
        "\n",
        "# Define optimized parameters (replace with your own optimized parameters)\n",
        "optimized_params = {\n",
        "    'fast_period': 12,\n",
        "    'slow_period': 26,\n",
        "    'signal_period': 9\n",
        "}\n",
        "\n",
        "# Initialize MACD indicator with optimized parameters\n",
        "macd = ta.trend.MACD(nse_close, window_slow=optimized_params['slow_period'], window_fast=optimized_params['fast_period'], window_sign=optimized_params['signal_period'])\n",
        "\n",
        "# Calculate MACD line and signal line\n",
        "macd_line = macd.macd()\n",
        "signal_line = macd.macd_signal()\n",
        "\n",
        "# Generate buy and sell signals based on crossover\n",
        "buy_signals = (macd_line > signal_line)  # True for buy signal\n",
        "sell_signals = (macd_line < signal_line)  # True for sell signal\n",
        "\n",
        "# Record the signals and their respective dates\n",
        "signals_df = pd.DataFrame({\n",
        "    'Date': nse_data['Date'],\n",
        "    'Buy_Signal': buy_signals,\n",
        "    'Sell_Signal': sell_signals\n",
        "})\n",
        "\n",
        "# Calculate returns based on the signals\n",
        "returns = nse_close.pct_change()  # Calculate daily returns\n",
        "signals_df['Returns'] = returns.shift(-1)  # Shift the returns by one day\n",
        "\n",
        "# Calculate other metrics (e.g., cumulative returns, Sharpe ratio, max drawdown)\n",
        "\n",
        "# Print the signals and their respective returns\n",
        "print(signals_df)\n"
      ],
      "metadata": {
        "colab": {
          "base_uri": "https://localhost:8080/"
        },
        "id": "AF9KoDqS4gM9",
        "outputId": "0b6a47a8-c9cd-4059-8d99-41af3b910fee"
      },
      "execution_count": null,
      "outputs": [
        {
          "output_type": "stream",
          "name": "stdout",
          "text": [
            "           Date  Buy_Signal  Sell_Signal   Returns\n",
            "0    2022-01-03       False        False  0.010187\n",
            "1    2022-01-04       False        False  0.006740\n",
            "2    2022-01-05       False        False -0.010005\n",
            "3    2022-01-06       False        False  0.003764\n",
            "4    2022-01-07       False        False  0.010700\n",
            "..          ...         ...          ...       ...\n",
            "243  2022-12-26       False         True  0.006534\n",
            "244  2022-12-27       False         True -0.000541\n",
            "245  2022-12-28       False         True  0.003780\n",
            "246  2022-12-29       False         True -0.004711\n",
            "247  2022-12-30       False         True       NaN\n",
            "\n",
            "[248 rows x 4 columns]\n"
          ]
        }
      ]
    }
  ]
}
