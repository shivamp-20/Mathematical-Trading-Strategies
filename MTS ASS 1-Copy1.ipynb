{
 "cells": [
  {
   "cell_type": "code",
   "execution_count": 18,
   "id": "e6fe7ba2",
   "metadata": {},
   "outputs": [
    {
     "name": "stdout",
     "output_type": "stream",
     "text": [
      "[*********************100%***********************]  1 of 1 completed\n"
     ]
    }
   ],
   "source": [
    "import yfinance as yf\n",
    "import pandas as pd\n",
    "import numpy as np\n",
    "\n",
    "##########    AAPL    ##########\n",
    "sd=\"2010-01-01\"\n",
    "ed=\"2023-01-17\"\n",
    "\n",
    "df=yf.download('AAPL',start=sd,end=ed)"
   ]
  },
  {
   "cell_type": "code",
   "execution_count": 35,
   "id": "f8038036",
   "metadata": {},
   "outputs": [
    {
     "data": {
      "text/plain": [
       "30.597267642853755"
      ]
     },
     "execution_count": 35,
     "metadata": {},
     "output_type": "execute_result"
    }
   ],
   "source": [
    "df['daily_rtrn']=df['Close']-df['Open']\n",
    "mean_rtrn=((df['daily_rtrn'].sum())/252)*100\n",
    "mean_rtrn\n"
   ]
  },
  {
   "cell_type": "code",
   "execution_count": 22,
   "id": "d3db2ed0",
   "metadata": {},
   "outputs": [
    {
     "data": {
      "text/plain": [
       "18.115193605357113"
      ]
     },
     "execution_count": 22,
     "metadata": {},
     "output_type": "execute_result"
    }
   ],
   "source": [
    "std_dev = (df['daily_rtrn'].std()) * np.sqrt(252)\n",
    "std_dev"
   ]
  },
  {
   "cell_type": "code",
   "execution_count": 23,
   "id": "bd348cd5",
   "metadata": {},
   "outputs": [
    {
     "data": {
      "text/plain": [
       "1.3992269801277717"
      ]
     },
     "execution_count": 23,
     "metadata": {},
     "output_type": "execute_result"
    }
   ],
   "source": [
    "##############  SHARPE RATIO AAPL ##############\n",
    "\n",
    "# taking risk free return as 5.25\n",
    "\n",
    "sharpe_ratio=(mean_rtrn-5.25)/std_dev\n",
    "sharpe_ratio"
   ]
  },
  {
   "cell_type": "code",
   "execution_count": 24,
   "id": "71b677df",
   "metadata": {},
   "outputs": [
    {
     "data": {
      "text/plain": [
       "89.82572628176935"
      ]
     },
     "execution_count": 24,
     "metadata": {},
     "output_type": "execute_result"
    }
   ],
   "source": [
    "############# CUMULATIVE RETURN AAPL ##############\n",
    "\n",
    "cf=df['daily_rtrn']/df['Open']\n",
    "(cf.sum())*100"
   ]
  },
  {
   "cell_type": "code",
   "execution_count": 25,
   "id": "f3346b70",
   "metadata": {},
   "outputs": [
    {
     "data": {
      "text/plain": [
       "18.11243277418884"
      ]
     },
     "execution_count": 25,
     "metadata": {},
     "output_type": "execute_result"
    }
   ],
   "source": [
    "############ VOLATILITY ###########\n",
    "\n",
    "mean=df['daily_rtrn'].mean()\n",
    "df['dev']=(df['daily_rtrn']-mean)**2\n",
    "avg_dev=df['dev'].mean()\n",
    "vol=(avg_dev**.5)*np.sqrt(252)\n",
    "vol"
   ]
  },
  {
   "cell_type": "code",
   "execution_count": 26,
   "id": "04acf02b",
   "metadata": {},
   "outputs": [
    {
     "data": {
      "text/plain": [
       "0.50188676720743"
      ]
     },
     "execution_count": 26,
     "metadata": {},
     "output_type": "execute_result"
    }
   ],
   "source": [
    "########### SORTINO RATIO ############\n",
    "# taking risk free rate as 5.52\n",
    "\n",
    "\n",
    "mask=df['daily_rtrn']<0\n",
    "filtered_df=df[mask]\n",
    "\n",
    "downside_deviation = np.std(mask)\n",
    "\n",
    "sortino_ratio=((mean_rtrn/100)-.0552)/downside_deviation\n",
    "sortino_ratio"
   ]
  },
  {
   "cell_type": "code",
   "execution_count": null,
   "id": "003737b9",
   "metadata": {},
   "outputs": [],
   "source": []
  },
  {
   "cell_type": "code",
   "execution_count": 38,
   "id": "24c00ed5",
   "metadata": {},
   "outputs": [
    {
     "name": "stdout",
     "output_type": "stream",
     "text": [
      "[*********************100%***********************]  1 of 1 completed\n"
     ]
    }
   ],
   "source": [
    "#################### MSFT ####################\n",
    "\n",
    "sd=\"2010-01-01\"\n",
    "ed=\"2023-01-17\"\n",
    "\n",
    "df1=yf.download('MSFT',start=sd,end=ed)"
   ]
  },
  {
   "cell_type": "code",
   "execution_count": 39,
   "id": "b09dbeb9",
   "metadata": {},
   "outputs": [
    {
     "data": {
      "text/html": [
       "<div>\n",
       "<style scoped>\n",
       "    .dataframe tbody tr th:only-of-type {\n",
       "        vertical-align: middle;\n",
       "    }\n",
       "\n",
       "    .dataframe tbody tr th {\n",
       "        vertical-align: top;\n",
       "    }\n",
       "\n",
       "    .dataframe thead th {\n",
       "        text-align: right;\n",
       "    }\n",
       "</style>\n",
       "<table border=\"1\" class=\"dataframe\">\n",
       "  <thead>\n",
       "    <tr style=\"text-align: right;\">\n",
       "      <th></th>\n",
       "      <th>Open</th>\n",
       "      <th>High</th>\n",
       "      <th>Low</th>\n",
       "      <th>Close</th>\n",
       "      <th>Adj Close</th>\n",
       "      <th>Volume</th>\n",
       "    </tr>\n",
       "    <tr>\n",
       "      <th>Date</th>\n",
       "      <th></th>\n",
       "      <th></th>\n",
       "      <th></th>\n",
       "      <th></th>\n",
       "      <th></th>\n",
       "      <th></th>\n",
       "    </tr>\n",
       "  </thead>\n",
       "  <tbody>\n",
       "    <tr>\n",
       "      <th>2010-01-04</th>\n",
       "      <td>30.620001</td>\n",
       "      <td>31.100000</td>\n",
       "      <td>30.590000</td>\n",
       "      <td>30.950001</td>\n",
       "      <td>23.572367</td>\n",
       "      <td>38409100</td>\n",
       "    </tr>\n",
       "    <tr>\n",
       "      <th>2010-01-05</th>\n",
       "      <td>30.850000</td>\n",
       "      <td>31.100000</td>\n",
       "      <td>30.639999</td>\n",
       "      <td>30.959999</td>\n",
       "      <td>23.579983</td>\n",
       "      <td>49749600</td>\n",
       "    </tr>\n",
       "    <tr>\n",
       "      <th>2010-01-06</th>\n",
       "      <td>30.879999</td>\n",
       "      <td>31.080000</td>\n",
       "      <td>30.520000</td>\n",
       "      <td>30.770000</td>\n",
       "      <td>23.435278</td>\n",
       "      <td>58182400</td>\n",
       "    </tr>\n",
       "    <tr>\n",
       "      <th>2010-01-07</th>\n",
       "      <td>30.629999</td>\n",
       "      <td>30.700001</td>\n",
       "      <td>30.190001</td>\n",
       "      <td>30.450001</td>\n",
       "      <td>23.191553</td>\n",
       "      <td>50559700</td>\n",
       "    </tr>\n",
       "    <tr>\n",
       "      <th>2010-01-08</th>\n",
       "      <td>30.280001</td>\n",
       "      <td>30.879999</td>\n",
       "      <td>30.240000</td>\n",
       "      <td>30.660000</td>\n",
       "      <td>23.351490</td>\n",
       "      <td>51197400</td>\n",
       "    </tr>\n",
       "    <tr>\n",
       "      <th>...</th>\n",
       "      <td>...</td>\n",
       "      <td>...</td>\n",
       "      <td>...</td>\n",
       "      <td>...</td>\n",
       "      <td>...</td>\n",
       "      <td>...</td>\n",
       "    </tr>\n",
       "    <tr>\n",
       "      <th>2023-01-09</th>\n",
       "      <td>226.449997</td>\n",
       "      <td>231.240005</td>\n",
       "      <td>226.410004</td>\n",
       "      <td>227.119995</td>\n",
       "      <td>226.058365</td>\n",
       "      <td>27369800</td>\n",
       "    </tr>\n",
       "    <tr>\n",
       "      <th>2023-01-10</th>\n",
       "      <td>227.759995</td>\n",
       "      <td>231.309998</td>\n",
       "      <td>227.330002</td>\n",
       "      <td>228.850006</td>\n",
       "      <td>227.780289</td>\n",
       "      <td>27033900</td>\n",
       "    </tr>\n",
       "    <tr>\n",
       "      <th>2023-01-11</th>\n",
       "      <td>231.289993</td>\n",
       "      <td>235.949997</td>\n",
       "      <td>231.110001</td>\n",
       "      <td>235.770004</td>\n",
       "      <td>234.667953</td>\n",
       "      <td>28669300</td>\n",
       "    </tr>\n",
       "    <tr>\n",
       "      <th>2023-01-12</th>\n",
       "      <td>235.259995</td>\n",
       "      <td>239.899994</td>\n",
       "      <td>233.559998</td>\n",
       "      <td>238.509995</td>\n",
       "      <td>237.395126</td>\n",
       "      <td>27269500</td>\n",
       "    </tr>\n",
       "    <tr>\n",
       "      <th>2023-01-13</th>\n",
       "      <td>237.000000</td>\n",
       "      <td>239.369995</td>\n",
       "      <td>234.919998</td>\n",
       "      <td>239.229996</td>\n",
       "      <td>238.111755</td>\n",
       "      <td>21333300</td>\n",
       "    </tr>\n",
       "  </tbody>\n",
       "</table>\n",
       "<p>3281 rows × 6 columns</p>\n",
       "</div>"
      ],
      "text/plain": [
       "                  Open        High         Low       Close   Adj Close  \\\n",
       "Date                                                                     \n",
       "2010-01-04   30.620001   31.100000   30.590000   30.950001   23.572367   \n",
       "2010-01-05   30.850000   31.100000   30.639999   30.959999   23.579983   \n",
       "2010-01-06   30.879999   31.080000   30.520000   30.770000   23.435278   \n",
       "2010-01-07   30.629999   30.700001   30.190001   30.450001   23.191553   \n",
       "2010-01-08   30.280001   30.879999   30.240000   30.660000   23.351490   \n",
       "...                ...         ...         ...         ...         ...   \n",
       "2023-01-09  226.449997  231.240005  226.410004  227.119995  226.058365   \n",
       "2023-01-10  227.759995  231.309998  227.330002  228.850006  227.780289   \n",
       "2023-01-11  231.289993  235.949997  231.110001  235.770004  234.667953   \n",
       "2023-01-12  235.259995  239.899994  233.559998  238.509995  237.395126   \n",
       "2023-01-13  237.000000  239.369995  234.919998  239.229996  238.111755   \n",
       "\n",
       "              Volume  \n",
       "Date                  \n",
       "2010-01-04  38409100  \n",
       "2010-01-05  49749600  \n",
       "2010-01-06  58182400  \n",
       "2010-01-07  50559700  \n",
       "2010-01-08  51197400  \n",
       "...              ...  \n",
       "2023-01-09  27369800  \n",
       "2023-01-10  27033900  \n",
       "2023-01-11  28669300  \n",
       "2023-01-12  27269500  \n",
       "2023-01-13  21333300  \n",
       "\n",
       "[3281 rows x 6 columns]"
      ]
     },
     "execution_count": 39,
     "metadata": {},
     "output_type": "execute_result"
    }
   ],
   "source": [
    "df1"
   ]
  },
  {
   "cell_type": "code",
   "execution_count": 46,
   "id": "7318987e",
   "metadata": {},
   "outputs": [
    {
     "data": {
      "text/plain": [
       "63749.37136570612"
      ]
     },
     "execution_count": 46,
     "metadata": {},
     "output_type": "execute_result"
    }
   ],
   "source": [
    "df1['daily_rtrn']=df1['Close']-df['Open']\n",
    "mean_rtrn=((df1['daily_rtrn'].sum())/252)*100\n",
    "mean_rtrn"
   ]
  },
  {
   "cell_type": "code",
   "execution_count": 47,
   "id": "ccd9409f",
   "metadata": {},
   "outputs": [
    {
     "data": {
      "text/plain": [
       "676.3957703000968"
      ]
     },
     "execution_count": 47,
     "metadata": {},
     "output_type": "execute_result"
    }
   ],
   "source": [
    "std_dev = (df1['daily_rtrn'].std()) * np.sqrt(252)\n",
    "std_dev"
   ]
  },
  {
   "cell_type": "code",
   "execution_count": 48,
   "id": "103e6284",
   "metadata": {},
   "outputs": [
    {
     "data": {
      "text/plain": [
       "94.24086335936835"
      ]
     },
     "execution_count": 48,
     "metadata": {},
     "output_type": "execute_result"
    }
   ],
   "source": [
    "##############  SHARPE RATIO AAPL ##############\n",
    "\n",
    "# taking risk free return as 5.25\n",
    "\n",
    "sharpe_ratio=(mean_rtrn-5.25)/std_dev\n",
    "sharpe_ratio"
   ]
  },
  {
   "cell_type": "code",
   "execution_count": 50,
   "id": "ff7a544f",
   "metadata": {},
   "outputs": [
    {
     "data": {
      "text/plain": [
       "159305.68636885908"
      ]
     },
     "execution_count": 50,
     "metadata": {},
     "output_type": "execute_result"
    }
   ],
   "source": [
    "############# CUMULATIVE RETURN AAPL ##############\n",
    "\n",
    "cf=df1['daily_rtrn']/df1['Open']\n",
    "(cf.sum())*100"
   ]
  },
  {
   "cell_type": "code",
   "execution_count": 51,
   "id": "3f6b5513",
   "metadata": {},
   "outputs": [
    {
     "data": {
      "text/plain": [
       "676.2926847595608"
      ]
     },
     "execution_count": 51,
     "metadata": {},
     "output_type": "execute_result"
    }
   ],
   "source": [
    "############ VOLATILITY ###########\n",
    "\n",
    "mean=df1['daily_rtrn'].mean()\n",
    "df1['dev']=(df1['daily_rtrn']-mean)**2\n",
    "avg_dev=df1['dev'].mean()\n",
    "vol=(avg_dev**.5)*np.sqrt(252)\n",
    "vol"
   ]
  },
  {
   "cell_type": "code",
   "execution_count": 52,
   "id": "065388b9",
   "metadata": {},
   "outputs": [
    {
     "name": "stderr",
     "output_type": "stream",
     "text": [
      "C:\\Users\\91941\\AppData\\Local\\Temp\\ipykernel_21924\\1430918552.py:10: RuntimeWarning: divide by zero encountered in double_scalars\n",
      "  sortino_ratio=((mean_rtrn/100)-.0552)/downside_deviation\n"
     ]
    },
    {
     "data": {
      "text/plain": [
       "inf"
      ]
     },
     "execution_count": 52,
     "metadata": {},
     "output_type": "execute_result"
    }
   ],
   "source": [
    "########### SORTINO RATIO ############\n",
    "# taking risk free rate as 5.52\n",
    "\n",
    "\n",
    "mask=df1['daily_rtrn']<0\n",
    "filtered_df1=df1[mask]\n",
    "\n",
    "downside_deviation = np.std(mask)\n",
    "\n",
    "sortino_ratio=((mean_rtrn/100)-.0552)/downside_deviation\n",
    "sortino_ratio"
   ]
  },
  {
   "cell_type": "code",
   "execution_count": null,
   "id": "da784384",
   "metadata": {},
   "outputs": [],
   "source": []
  }
 ],
 "metadata": {
  "kernelspec": {
   "display_name": "Python 3 (ipykernel)",
   "language": "python",
   "name": "python3"
  },
  "language_info": {
   "codemirror_mode": {
    "name": "ipython",
    "version": 3
   },
   "file_extension": ".py",
   "mimetype": "text/x-python",
   "name": "python",
   "nbconvert_exporter": "python",
   "pygments_lexer": "ipython3",
   "version": "3.10.9"
  }
 },
 "nbformat": 4,
 "nbformat_minor": 5
}
