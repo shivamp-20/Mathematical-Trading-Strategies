{
  "nbformat": 4,
  "nbformat_minor": 0,
  "metadata": {
    "colab": {
      "provenance": []
    },
    "kernelspec": {
      "name": "python3",
      "display_name": "Python 3"
    },
    "language_info": {
      "name": "python"
    }
  },
  "cells": [
    {
      "cell_type": "code",
      "execution_count": 12,
      "metadata": {
        "id": "3hym1nFVGKT_"
      },
      "outputs": [],
      "source": [
        "import yfinance as yf\n",
        "import pandas as pd\n",
        "import numpy as np\n",
        "\n",
        "# Define the international indices and equities\n",
        "indices = ['^GSPC', '^IXIC', '^DJI', '^FTSE', '^N225']\n",
        "equities = ['AAPL', 'GOOGL', 'MSFT', 'AMZN', 'FB']\n",
        "\n",
        "# Define the start date\n",
        "start_date = '2010-01-01'\n",
        "end_date='2023-05-01'\n"
      ]
    },
    {
      "cell_type": "code",
      "source": [
        " #Fetch the data\n",
        "data = yf.download(indices + equities, start=start_date, end=end_date)['Adj Close']\n"
      ],
      "metadata": {
        "colab": {
          "base_uri": "https://localhost:8080/"
        },
        "id": "f3oPYqLcGi9s",
        "outputId": "3f30ceed-78a1-4a89-9c5f-bf48371097ab"
      },
      "execution_count": 13,
      "outputs": [
        {
          "output_type": "stream",
          "name": "stdout",
          "text": [
            "[*********************100%***********************]  10 of 10 completed\n",
            "\n",
            "1 Failed download:\n",
            "- FB: No timezone found, symbol may be delisted\n"
          ]
        }
      ]
    },
    {
      "cell_type": "code",
      "source": [
        "import pandas as pd \n",
        "# Calculate daily returns\n",
        "returns = data.pct_change()\n",
        "\n",
        "# Calculate cumulative returns\n",
        "cumulative_returns = (returns + 1).cumprod() - 1\n",
        "\n",
        "# Calculate volatility\n",
        "volatility = returns.std()\n",
        "\n",
        "# Calculate maximum drawdowns\n",
        "rolling_max = data.cummax()\n",
        "drawdown = (data - rolling_max) / rolling_max\n",
        "max_drawdowns = drawdown.min()\n",
        "\n",
        "# Calculate Sharpe ratio and Sortino ratio\n",
        "risk_free_rate = 0.0  # Assuming no risk-free rate\n",
        "daily_risk = returns.std()\n",
        "annual_risk = daily_risk * np.sqrt(252)\n",
        "daily_return_avg = returns.mean()\n",
        "sharpe_ratio = (daily_return_avg - risk_free_rate) / daily_risk\n",
        "downside_returns = returns[returns < 0]\n",
        "downside_risk = downside_returns.std()\n",
        "sortino_ratio = (daily_return_avg - risk_free_rate) / downside_risk\n",
        "\n",
        "\n",
        "# Print the results in tabulated form\n",
        "\n",
        "\n",
        "# Create DataFrame for index metrics\n",
        "index_metrics = pd.DataFrame({\n",
        "    'Indices': indices,\n",
        "    'Cumulative Returns': cumulative_returns.iloc[-1, :len(indices)].values,\n",
        "    'Max Drawdowns': max_drawdowns[:len(indices)].values,\n",
        "    'Volatility': volatility[:len(indices)].values,\n",
        "    'Sharpe Ratio': sharpe_ratio[:len(indices)].values,\n",
        "    'Sortino Ratio': sortino_ratio[:len(indices)].values\n",
        "})\n",
        "# Create DataFrame for equity metrics\n",
        "equity_metrics = pd.DataFrame({\n",
        "    'Equities': equities,\n",
        "    'Cumulative Returns': cumulative_returns.iloc[-1, len(indices):].values,\n",
        "    'Max Drawdowns': max_drawdowns[len(indices):].values,\n",
        "    'Volatility': volatility[len(indices):].values,\n",
        "    'Sharpe Ratio': sharpe_ratio[len(indices):].values,\n",
        "    'Sortino Ratio': sortino_ratio[len(indices):].values\n",
        "})\n",
        "\n",
        "\n",
        "# Print the index metrics table\n",
        "print(\"Index Metrics:\")\n",
        "print((index_metrics.T).to_string(header=False))\n",
        "\n",
        "\n",
        "# Print the equity metrics table\n",
        "print(\"\\nEquity Metrics:\")\n",
        "print((equity_metrics.T).to_string(header=False))"
      ],
      "metadata": {
        "colab": {
          "base_uri": "https://localhost:8080/"
        },
        "id": "SpqRXuY5GmNN",
        "outputId": "183abcab-a0c7-4332-9ad5-5badb0d84bc4"
      },
      "execution_count": 58,
      "outputs": [
        {
          "output_type": "stream",
          "name": "stdout",
          "text": [
            "Index Metrics:\n",
            "Indices                 ^GSPC      ^IXIC  ^DJI     ^FTSE     ^N225\n",
            "Cumulative Returns  25.083426  14.750559   NaN  5.843728  12.00632\n",
            "Max Drawdowns       -0.437972  -0.561453   NaN -0.443201 -0.371485\n",
            "Volatility           0.017726   0.020564   NaN  0.016918  0.016201\n",
            "Sharpe Ratio          0.06202   0.048976   NaN   0.04126   0.05384\n",
            "Sortino Ratio        0.085221    0.06881   NaN  0.056704  0.074053\n",
            "\n",
            "Equity Metrics:\n",
            "Equities                AAPL     GOOGL      MSFT      AMZN        FB\n",
            "Cumulative Returns  2.221683   0.43094  2.680068  4.296515  1.708307\n",
            "Max Drawdowns      -0.370862 -0.366055  -0.33925 -0.363953 -0.317989\n",
            "Volatility          0.010649  0.010087  0.011008  0.012771  0.012726\n",
            "Sharpe Ratio        0.037077   0.01532  0.039711  0.044112  0.028988\n",
            "Sortino Ratio       0.044086  0.019496  0.047827  0.054811  0.038367\n"
          ]
        }
      ]
    }
  ]
}