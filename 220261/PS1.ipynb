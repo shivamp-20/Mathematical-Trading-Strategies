{
 "cells": [
  {
   "cell_type": "code",
   "execution_count": 1,
   "metadata": {},
   "outputs": [],
   "source": [
    "import numpy as np\n",
    "import pandas as pd\n",
    "import yfinance as yf"
   ]
  },
  {
   "attachments": {},
   "cell_type": "markdown",
   "metadata": {},
   "source": [
    "Importing yfinance data "
   ]
  },
  {
   "cell_type": "code",
   "execution_count": 2,
   "metadata": {},
   "outputs": [
    {
     "name": "stdout",
     "output_type": "stream",
     "text": [
      "[*********************100%***********************]  1 of 1 completed\n"
     ]
    },
    {
     "data": {
      "text/html": [
       "<div>\n",
       "<style scoped>\n",
       "    .dataframe tbody tr th:only-of-type {\n",
       "        vertical-align: middle;\n",
       "    }\n",
       "\n",
       "    .dataframe tbody tr th {\n",
       "        vertical-align: top;\n",
       "    }\n",
       "\n",
       "    .dataframe thead th {\n",
       "        text-align: right;\n",
       "    }\n",
       "</style>\n",
       "<table border=\"1\" class=\"dataframe\">\n",
       "  <thead>\n",
       "    <tr style=\"text-align: right;\">\n",
       "      <th></th>\n",
       "      <th>Open</th>\n",
       "      <th>High</th>\n",
       "      <th>Low</th>\n",
       "      <th>Close</th>\n",
       "      <th>Adj Close</th>\n",
       "      <th>Volume</th>\n",
       "    </tr>\n",
       "    <tr>\n",
       "      <th>Date</th>\n",
       "      <th></th>\n",
       "      <th></th>\n",
       "      <th></th>\n",
       "      <th></th>\n",
       "      <th></th>\n",
       "      <th></th>\n",
       "    </tr>\n",
       "  </thead>\n",
       "  <tbody>\n",
       "    <tr>\n",
       "      <th>2010-01-04</th>\n",
       "      <td>2294.409912</td>\n",
       "      <td>2311.149902</td>\n",
       "      <td>2294.409912</td>\n",
       "      <td>2308.419922</td>\n",
       "      <td>2308.419922</td>\n",
       "      <td>1931380000</td>\n",
       "    </tr>\n",
       "    <tr>\n",
       "      <th>2010-01-05</th>\n",
       "      <td>2307.270020</td>\n",
       "      <td>2313.729980</td>\n",
       "      <td>2295.620117</td>\n",
       "      <td>2308.709961</td>\n",
       "      <td>2308.709961</td>\n",
       "      <td>2367860000</td>\n",
       "    </tr>\n",
       "    <tr>\n",
       "      <th>2010-01-06</th>\n",
       "      <td>2307.709961</td>\n",
       "      <td>2314.070068</td>\n",
       "      <td>2295.679932</td>\n",
       "      <td>2301.090088</td>\n",
       "      <td>2301.090088</td>\n",
       "      <td>2253340000</td>\n",
       "    </tr>\n",
       "    <tr>\n",
       "      <th>2010-01-07</th>\n",
       "      <td>2298.090088</td>\n",
       "      <td>2301.300049</td>\n",
       "      <td>2285.219971</td>\n",
       "      <td>2300.050049</td>\n",
       "      <td>2300.050049</td>\n",
       "      <td>2270050000</td>\n",
       "    </tr>\n",
       "    <tr>\n",
       "      <th>2010-01-08</th>\n",
       "      <td>2292.239990</td>\n",
       "      <td>2317.600098</td>\n",
       "      <td>2290.610107</td>\n",
       "      <td>2317.169922</td>\n",
       "      <td>2317.169922</td>\n",
       "      <td>2145390000</td>\n",
       "    </tr>\n",
       "    <tr>\n",
       "      <th>...</th>\n",
       "      <td>...</td>\n",
       "      <td>...</td>\n",
       "      <td>...</td>\n",
       "      <td>...</td>\n",
       "      <td>...</td>\n",
       "      <td>...</td>\n",
       "    </tr>\n",
       "    <tr>\n",
       "      <th>2023-04-24</th>\n",
       "      <td>12053.469727</td>\n",
       "      <td>12103.580078</td>\n",
       "      <td>11960.299805</td>\n",
       "      <td>12037.200195</td>\n",
       "      <td>12037.200195</td>\n",
       "      <td>4854050000</td>\n",
       "    </tr>\n",
       "    <tr>\n",
       "      <th>2023-04-25</th>\n",
       "      <td>11968.809570</td>\n",
       "      <td>11990.459961</td>\n",
       "      <td>11798.769531</td>\n",
       "      <td>11799.160156</td>\n",
       "      <td>11799.160156</td>\n",
       "      <td>4806020000</td>\n",
       "    </tr>\n",
       "    <tr>\n",
       "      <th>2023-04-26</th>\n",
       "      <td>11913.230469</td>\n",
       "      <td>11967.990234</td>\n",
       "      <td>11833.070312</td>\n",
       "      <td>11854.349609</td>\n",
       "      <td>11854.349609</td>\n",
       "      <td>5281970000</td>\n",
       "    </tr>\n",
       "    <tr>\n",
       "      <th>2023-04-27</th>\n",
       "      <td>11972.150391</td>\n",
       "      <td>12154.009766</td>\n",
       "      <td>11950.919922</td>\n",
       "      <td>12142.240234</td>\n",
       "      <td>12142.240234</td>\n",
       "      <td>5253710000</td>\n",
       "    </tr>\n",
       "    <tr>\n",
       "      <th>2023-04-28</th>\n",
       "      <td>12117.540039</td>\n",
       "      <td>12227.719727</td>\n",
       "      <td>12082.570312</td>\n",
       "      <td>12226.580078</td>\n",
       "      <td>12226.580078</td>\n",
       "      <td>5331380000</td>\n",
       "    </tr>\n",
       "  </tbody>\n",
       "</table>\n",
       "<p>3353 rows × 6 columns</p>\n",
       "</div>"
      ],
      "text/plain": [
       "                    Open          High           Low         Close   \n",
       "Date                                                                 \n",
       "2010-01-04   2294.409912   2311.149902   2294.409912   2308.419922  \\\n",
       "2010-01-05   2307.270020   2313.729980   2295.620117   2308.709961   \n",
       "2010-01-06   2307.709961   2314.070068   2295.679932   2301.090088   \n",
       "2010-01-07   2298.090088   2301.300049   2285.219971   2300.050049   \n",
       "2010-01-08   2292.239990   2317.600098   2290.610107   2317.169922   \n",
       "...                  ...           ...           ...           ...   \n",
       "2023-04-24  12053.469727  12103.580078  11960.299805  12037.200195   \n",
       "2023-04-25  11968.809570  11990.459961  11798.769531  11799.160156   \n",
       "2023-04-26  11913.230469  11967.990234  11833.070312  11854.349609   \n",
       "2023-04-27  11972.150391  12154.009766  11950.919922  12142.240234   \n",
       "2023-04-28  12117.540039  12227.719727  12082.570312  12226.580078   \n",
       "\n",
       "               Adj Close      Volume  \n",
       "Date                                  \n",
       "2010-01-04   2308.419922  1931380000  \n",
       "2010-01-05   2308.709961  2367860000  \n",
       "2010-01-06   2301.090088  2253340000  \n",
       "2010-01-07   2300.050049  2270050000  \n",
       "2010-01-08   2317.169922  2145390000  \n",
       "...                  ...         ...  \n",
       "2023-04-24  12037.200195  4854050000  \n",
       "2023-04-25  11799.160156  4806020000  \n",
       "2023-04-26  11854.349609  5281970000  \n",
       "2023-04-27  12142.240234  5253710000  \n",
       "2023-04-28  12226.580078  5331380000  \n",
       "\n",
       "[3353 rows x 6 columns]"
      ]
     },
     "execution_count": 2,
     "metadata": {},
     "output_type": "execute_result"
    }
   ],
   "source": [
    "\n",
    "index = yf.download( \"^IXIC\", start = \"2010-01-01\",\n",
    "                           end =\"2023-05-01\")\n",
    "index"
   ]
  },
  {
   "attachments": {},
   "cell_type": "markdown",
   "metadata": {},
   "source": [
    "Calculating Volatility"
   ]
  },
  {
   "cell_type": "code",
   "execution_count": 3,
   "metadata": {},
   "outputs": [
    {
     "data": {
      "text/plain": [
       "0.16034357851986736"
      ]
     },
     "execution_count": 3,
     "metadata": {},
     "output_type": "execute_result"
    }
   ],
   "source": [
    "index['daily_returns'] =(index['Close']-index['Open'])/index['Open']\n",
    "volatility= index['daily_returns'].std() *np.sqrt(252)\n",
    "volatility"
   ]
  },
  {
   "attachments": {},
   "cell_type": "markdown",
   "metadata": {},
   "source": [
    "Calculating Cumulative returns"
   ]
  },
  {
   "cell_type": "code",
   "execution_count": 4,
   "metadata": {},
   "outputs": [
    {
     "data": {
      "text/plain": [
       "0.9740700296854292"
      ]
     },
     "execution_count": 4,
     "metadata": {},
     "output_type": "execute_result"
    }
   ],
   "source": [
    "cumulative_returns= ( index['Close']/index['Open']).product() -1\n",
    "cumulative_returns"
   ]
  },
  {
   "attachments": {},
   "cell_type": "markdown",
   "metadata": {},
   "source": [
    "Sharpe Ratio"
   ]
  },
  {
   "cell_type": "code",
   "execution_count": 5,
   "metadata": {},
   "outputs": [
    {
     "data": {
      "text/plain": [
       "0.18081809572829977"
      ]
     },
     "execution_count": 5,
     "metadata": {},
     "output_type": "execute_result"
    }
   ],
   "source": [
    "daily_returns=index['daily_returns']\n",
    "annual_returns= daily_returns.mean()*252\n",
    "risk_free_rate = 0.035\n",
    "annual_std_dev = daily_returns.std()*np.sqrt(252)\n",
    "sharpe_ratio=(annual_returns-risk_free_rate) / annual_std_dev\n",
    "sharpe_ratio"
   ]
  },
  {
   "attachments": {},
   "cell_type": "markdown",
   "metadata": {},
   "source": [
    "Maxdrawdown"
   ]
  },
  {
   "cell_type": "code",
   "execution_count": 6,
   "metadata": {},
   "outputs": [
    {
     "data": {
      "text/plain": [
       "-0.1507287299262534"
      ]
     },
     "execution_count": 6,
     "metadata": {},
     "output_type": "execute_result"
    }
   ],
   "source": [
    "index['cumulative_rolling_max'] = (index['Close']/index['Open']).cumprod()-1\n",
    "drawdown = cumulative_returns - index['cumulative_rolling_max']\n",
    "MDD= np.min(drawdown)\n",
    "MDD"
   ]
  },
  {
   "attachments": {},
   "cell_type": "markdown",
   "metadata": {},
   "source": [
    "Sortino Ratio"
   ]
  },
  {
   "cell_type": "code",
   "execution_count": 7,
   "metadata": {},
   "outputs": [
    {
     "data": {
      "text/plain": [
       "0.9935080794896027"
      ]
     },
     "execution_count": 7,
     "metadata": {},
     "output_type": "execute_result"
    }
   ],
   "source": [
    "downside_return = np.where((index['daily_returns'])<0, index['daily_returns']-risk_free_rate, 0)\n",
    "downside_deviation = np.sqrt(np.mean(np.square(downside_return)))\n",
    "Sortino_ratio=(annual_returns-risk_free_rate)/downside_deviation\n",
    "Sortino_ratio\n"
   ]
  }
 ],
 "metadata": {
  "kernelspec": {
   "display_name": "Python 3",
   "language": "python",
   "name": "python3"
  },
  "language_info": {
   "codemirror_mode": {
    "name": "ipython",
    "version": 3
   },
   "file_extension": ".py",
   "mimetype": "text/x-python",
   "name": "python",
   "nbconvert_exporter": "python",
   "pygments_lexer": "ipython3",
   "version": "3.11.1"
  },
  "orig_nbformat": 4
 },
 "nbformat": 4,
 "nbformat_minor": 2
}
