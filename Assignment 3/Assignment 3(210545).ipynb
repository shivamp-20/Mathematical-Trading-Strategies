{
 "cells": [
  {
   "cell_type": "code",
   "execution_count": 2,
   "id": "82f84c54",
   "metadata": {},
   "outputs": [
    {
     "ename": "ModuleNotFoundError",
     "evalue": "No module named 'talib'",
     "output_type": "error",
     "traceback": [
      "\u001b[1;31m---------------------------------------------------------------------------\u001b[0m",
      "\u001b[1;31mModuleNotFoundError\u001b[0m                       Traceback (most recent call last)",
      "\u001b[1;32m~\\AppData\\Local\\Temp\\ipykernel_1508\\3700411812.py\u001b[0m in \u001b[0;36m<module>\u001b[1;34m\u001b[0m\n\u001b[0;32m      1\u001b[0m \u001b[1;32mimport\u001b[0m \u001b[0myfinance\u001b[0m \u001b[1;32mas\u001b[0m \u001b[0myf\u001b[0m\u001b[1;33m\u001b[0m\u001b[1;33m\u001b[0m\u001b[0m\n\u001b[0;32m      2\u001b[0m \u001b[1;32mimport\u001b[0m \u001b[0mmatplotlib\u001b[0m\u001b[1;33m.\u001b[0m\u001b[0mpyplot\u001b[0m \u001b[1;32mas\u001b[0m \u001b[0mplt\u001b[0m\u001b[1;33m\u001b[0m\u001b[1;33m\u001b[0m\u001b[0m\n\u001b[1;32m----> 3\u001b[1;33m \u001b[1;32mimport\u001b[0m \u001b[0mtalib\u001b[0m\u001b[1;33m\u001b[0m\u001b[1;33m\u001b[0m\u001b[0m\n\u001b[0m\u001b[0;32m      4\u001b[0m \u001b[1;33m\u001b[0m\u001b[0m\n\u001b[0;32m      5\u001b[0m \u001b[1;31m# Define the list of stock tickers\u001b[0m\u001b[1;33m\u001b[0m\u001b[1;33m\u001b[0m\u001b[0m\n",
      "\u001b[1;31mModuleNotFoundError\u001b[0m: No module named 'talib'"
     ]
    }
   ],
   "source": [
    "import yfinance as yf\n",
    "import matplotlib.pyplot as plt\n",
    "import talib\n",
    "\n",
    "# Define the list of stock tickers\n",
    "tickers = ['AAPL', 'MSFT', 'GOOGL', 'AMZN', 'FB', 'NFLX', 'TSLA', 'NVDA', 'JPM', 'V']\n",
    "\n",
    "# Fetch historical stock data for the given tickers\n",
    "data = yf.download(tickers, period='10y', interval='1d')\n",
    "\n",
    "# Iterate over the tickers\n",
    "for ticker in tickers:\n",
    "    # Get the stock's historical data\n",
    "    df = data[ticker]\n",
    "\n",
    "    # Apply technical analysis functions to identify chart patterns\n",
    "    # Example pattern detection functions using TA-Lib\n",
    "    ascending_triangle_pattern = talib.CDLUPSIDEGAP2CROWS(df['Open'], df['High'], df['Low'], df['Close'])\n",
    "    bear_flag_pattern = talib.CDLBREAKAWAY(df['Open'], df['High'], df['Low'], df['Close'])\n",
    "    cup_and_handle_pattern = talib.CDLCUPWITHHANDLE(df['Open'], df['High'], df['Low'], df['Close'])\n",
    "    head_and_shoulders_pattern = talib.CDLHEADANDSHOULDERS(df['Open'], df['High'], df['Low'], df['Close'])\n",
    "    rounding_top_pattern = talib.CDLROUNDINGTOP(df['Open'], df['High'], df['Low'], df['Close'])\n",
    "\n",
    "    # Plot the stock chart and mark the identified pattern points\n",
    "    plt.figure(figsize=(12, 6))\n",
    "    plt.plot(df.index, df['Close'], color='black', label='Close Price')\n",
    "    plt.scatter(df.index[ascending_triangle_pattern > 0], df['Close'][ascending_triangle_pattern > 0], color='green', marker='^', label='Ascending Triangle')\n",
    "    plt.scatter(df.index[bear_flag_pattern > 0], df['Close'][bear_flag_pattern > 0], color='red', marker='v', label='Bear Flag')\n",
    "    plt.scatter(df.index[cup_and_handle_pattern > 0], df['Close'][cup_and_handle_pattern > 0], color='blue', marker='o', label='Cup and Handle')\n",
    "    plt.scatter(df.index[head_and_shoulders_pattern > 0], df['Close'][head_and_shoulders_pattern > 0], color='orange', marker='x', label='Head and Shoulders')\n",
    "    plt.scatter(df.index[rounding_top_pattern > 0], df['Close'][rounding_top_pattern > 0], color='purple', marker='s', label='Rounding Top')\n",
    "    plt.xlabel('Date')\n",
    "    plt.ylabel('Close Price')\n",
    "    plt.title(f'{ticker} Stock Chart with Chart Patterns')\n",
    "    plt.legend()\n",
    "    plt.show()\n"
   ]
  },
  {
   "cell_type": "code",
   "execution_count": null,
   "id": "dc658dd0",
   "metadata": {},
   "outputs": [],
   "source": []
  }
 ],
 "metadata": {
  "kernelspec": {
   "display_name": "Python 3 (ipykernel)",
   "language": "python",
   "name": "python3"
  },
  "language_info": {
   "codemirror_mode": {
    "name": "ipython",
    "version": 3
   },
   "file_extension": ".py",
   "mimetype": "text/x-python",
   "name": "python",
   "nbconvert_exporter": "python",
   "pygments_lexer": "ipython3",
   "version": "3.10.9"
  }
 },
 "nbformat": 4,
 "nbformat_minor": 5
}
