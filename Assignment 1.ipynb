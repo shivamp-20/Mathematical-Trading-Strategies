{
 "cells": [
  {
   "cell_type": "code",
   "execution_count": 1,
   "id": "ba03b825",
   "metadata": {},
   "outputs": [
    {
     "name": "stdout",
     "output_type": "stream",
     "text": [
      "[*********************100%***********************]  10 of 10 completed\n",
      "\n",
      "1 Failed download:\n",
      "- FB: No timezone found, symbol may be delisted\n"
     ]
    },
    {
     "ename": "ValueError",
     "evalue": "min_periods 1 must be <= window 0",
     "output_type": "error",
     "traceback": [
      "\u001b[1;31m---------------------------------------------------------------------------\u001b[0m",
      "\u001b[1;31mValueError\u001b[0m                                Traceback (most recent call last)",
      "\u001b[1;32m~\\AppData\\Local\\Temp/ipykernel_38628/737027540.py\u001b[0m in \u001b[0;36m<module>\u001b[1;34m\u001b[0m\n\u001b[0;32m     29\u001b[0m \u001b[0mindex_drawdown\u001b[0m \u001b[1;33m=\u001b[0m \u001b[0mindex_cumulative_returns\u001b[0m \u001b[1;33m/\u001b[0m \u001b[0mindex_rolling_max\u001b[0m \u001b[1;33m-\u001b[0m \u001b[1;36m1\u001b[0m\u001b[1;33m\u001b[0m\u001b[1;33m\u001b[0m\u001b[0m\n\u001b[0;32m     30\u001b[0m \u001b[1;33m\u001b[0m\u001b[0m\n\u001b[1;32m---> 31\u001b[1;33m \u001b[0mequity_rolling_max\u001b[0m \u001b[1;33m=\u001b[0m \u001b[0mequity_cumulative_returns\u001b[0m\u001b[1;33m.\u001b[0m\u001b[0mrolling\u001b[0m\u001b[1;33m(\u001b[0m\u001b[0mwindow\u001b[0m\u001b[1;33m=\u001b[0m\u001b[0mlen\u001b[0m\u001b[1;33m(\u001b[0m\u001b[0mequity_cumulative_returns\u001b[0m\u001b[1;33m)\u001b[0m\u001b[1;33m,\u001b[0m \u001b[0mmin_periods\u001b[0m\u001b[1;33m=\u001b[0m\u001b[1;36m1\u001b[0m\u001b[1;33m)\u001b[0m\u001b[1;33m.\u001b[0m\u001b[0mmax\u001b[0m\u001b[1;33m(\u001b[0m\u001b[1;33m)\u001b[0m\u001b[1;33m\u001b[0m\u001b[1;33m\u001b[0m\u001b[0m\n\u001b[0m\u001b[0;32m     32\u001b[0m \u001b[0mequity_drawdown\u001b[0m \u001b[1;33m=\u001b[0m \u001b[0mequity_cumulative_returns\u001b[0m \u001b[1;33m/\u001b[0m \u001b[0mequity_rolling_max\u001b[0m \u001b[1;33m-\u001b[0m \u001b[1;36m1\u001b[0m\u001b[1;33m\u001b[0m\u001b[1;33m\u001b[0m\u001b[0m\n\u001b[0;32m     33\u001b[0m \u001b[1;33m\u001b[0m\u001b[0m\n",
      "\u001b[1;32m~\\anaconda3\\lib\\site-packages\\pandas\\core\\generic.py\u001b[0m in \u001b[0;36mrolling\u001b[1;34m(self, window, min_periods, center, win_type, on, axis, closed, method)\u001b[0m\n\u001b[0;32m  10866\u001b[0m             )\n\u001b[0;32m  10867\u001b[0m \u001b[1;33m\u001b[0m\u001b[0m\n\u001b[1;32m> 10868\u001b[1;33m         return Rolling(\n\u001b[0m\u001b[0;32m  10869\u001b[0m             \u001b[0mself\u001b[0m\u001b[1;33m,\u001b[0m\u001b[1;33m\u001b[0m\u001b[1;33m\u001b[0m\u001b[0m\n\u001b[0;32m  10870\u001b[0m             \u001b[0mwindow\u001b[0m\u001b[1;33m=\u001b[0m\u001b[0mwindow\u001b[0m\u001b[1;33m,\u001b[0m\u001b[1;33m\u001b[0m\u001b[1;33m\u001b[0m\u001b[0m\n",
      "\u001b[1;32m~\\anaconda3\\lib\\site-packages\\pandas\\core\\window\\rolling.py\u001b[0m in \u001b[0;36m__init__\u001b[1;34m(self, obj, window, min_periods, center, win_type, axis, on, closed, method, selection)\u001b[0m\n\u001b[0;32m    156\u001b[0m \u001b[1;33m\u001b[0m\u001b[0m\n\u001b[0;32m    157\u001b[0m         \u001b[0mself\u001b[0m\u001b[1;33m.\u001b[0m\u001b[0m_selection\u001b[0m \u001b[1;33m=\u001b[0m \u001b[0mselection\u001b[0m\u001b[1;33m\u001b[0m\u001b[1;33m\u001b[0m\u001b[0m\n\u001b[1;32m--> 158\u001b[1;33m         \u001b[0mself\u001b[0m\u001b[1;33m.\u001b[0m\u001b[0mvalidate\u001b[0m\u001b[1;33m(\u001b[0m\u001b[1;33m)\u001b[0m\u001b[1;33m\u001b[0m\u001b[1;33m\u001b[0m\u001b[0m\n\u001b[0m\u001b[0;32m    159\u001b[0m \u001b[1;33m\u001b[0m\u001b[0m\n\u001b[0;32m    160\u001b[0m     \u001b[1;33m@\u001b[0m\u001b[0mproperty\u001b[0m\u001b[1;33m\u001b[0m\u001b[1;33m\u001b[0m\u001b[0m\n",
      "\u001b[1;32m~\\anaconda3\\lib\\site-packages\\pandas\\core\\window\\rolling.py\u001b[0m in \u001b[0;36mvalidate\u001b[1;34m(self)\u001b[0m\n\u001b[0;32m   1497\u001b[0m \u001b[1;33m\u001b[0m\u001b[0m\n\u001b[0;32m   1498\u001b[0m     \u001b[1;32mdef\u001b[0m \u001b[0mvalidate\u001b[0m\u001b[1;33m(\u001b[0m\u001b[0mself\u001b[0m\u001b[1;33m)\u001b[0m\u001b[1;33m:\u001b[0m\u001b[1;33m\u001b[0m\u001b[1;33m\u001b[0m\u001b[0m\n\u001b[1;32m-> 1499\u001b[1;33m         \u001b[0msuper\u001b[0m\u001b[1;33m(\u001b[0m\u001b[1;33m)\u001b[0m\u001b[1;33m.\u001b[0m\u001b[0mvalidate\u001b[0m\u001b[1;33m(\u001b[0m\u001b[1;33m)\u001b[0m\u001b[1;33m\u001b[0m\u001b[1;33m\u001b[0m\u001b[0m\n\u001b[0m\u001b[0;32m   1500\u001b[0m \u001b[1;33m\u001b[0m\u001b[0m\n\u001b[0;32m   1501\u001b[0m         \u001b[1;31m# we allow rolling on a datetimelike index\u001b[0m\u001b[1;33m\u001b[0m\u001b[1;33m\u001b[0m\u001b[0m\n",
      "\u001b[1;32m~\\anaconda3\\lib\\site-packages\\pandas\\core\\window\\rolling.py\u001b[0m in \u001b[0;36mvalidate\u001b[1;34m(self)\u001b[0m\n\u001b[0;32m    188\u001b[0m                 \u001b[1;32mraise\u001b[0m \u001b[0mValueError\u001b[0m\u001b[1;33m(\u001b[0m\u001b[1;34m\"min_periods must be >= 0\"\u001b[0m\u001b[1;33m)\u001b[0m\u001b[1;33m\u001b[0m\u001b[1;33m\u001b[0m\u001b[0m\n\u001b[0;32m    189\u001b[0m             \u001b[1;32melif\u001b[0m \u001b[0mis_integer\u001b[0m\u001b[1;33m(\u001b[0m\u001b[0mself\u001b[0m\u001b[1;33m.\u001b[0m\u001b[0mwindow\u001b[0m\u001b[1;33m)\u001b[0m \u001b[1;32mand\u001b[0m \u001b[0mself\u001b[0m\u001b[1;33m.\u001b[0m\u001b[0mmin_periods\u001b[0m \u001b[1;33m>\u001b[0m \u001b[0mself\u001b[0m\u001b[1;33m.\u001b[0m\u001b[0mwindow\u001b[0m\u001b[1;33m:\u001b[0m\u001b[1;33m\u001b[0m\u001b[1;33m\u001b[0m\u001b[0m\n\u001b[1;32m--> 190\u001b[1;33m                 raise ValueError(\n\u001b[0m\u001b[0;32m    191\u001b[0m                     \u001b[1;34mf\"min_periods {self.min_periods} must be <= window {self.window}\"\u001b[0m\u001b[1;33m\u001b[0m\u001b[1;33m\u001b[0m\u001b[0m\n\u001b[0;32m    192\u001b[0m                 )\n",
      "\u001b[1;31mValueError\u001b[0m: min_periods 1 must be <= window 0"
     ]
    }
   ],
   "source": [
    "import yfinance as yf\n",
    "import numpy as np\n",
    "import pandas as pd\n",
    "\n",
    "# Define the list of tickers for international indices and equities\n",
    "indices = [\"^GSPC\", \"^FTSE\", \"^N225\", \"^GDAXI\", \"^HSI\"]\n",
    "equities = [\"AAPL\", \"MSFT\", \"AMZN\", \"GOOGL\", \"FB\"]\n",
    "\n",
    "# Combine the lists of tickers\n",
    "tickers = indices + equities\n",
    "\n",
    "# Download the daily data since 2010-01-01\n",
    "data = yf.download(tickers, start=\"2010-01-01\")[\"Adj Close\"]\n",
    "\n",
    "# Separate the data for indices and equities\n",
    "index_data = data[indices]\n",
    "equity_data = data[equities]\n",
    "\n",
    "# Calculate the daily returns for indices and equities\n",
    "index_returns = index_data.pct_change().dropna()\n",
    "equity_returns = equity_data.pct_change().dropna()\n",
    "\n",
    "# Calculate the cumulative returns for indices and equities\n",
    "index_cumulative_returns = (1 + index_returns).cumprod()\n",
    "equity_cumulative_returns = (1 + equity_returns).cumprod()\n",
    "\n",
    "# Calculate the maximum drawdowns for indices and equities\n",
    "index_rolling_max = index_cumulative_returns.rolling(window=len(index_cumulative_returns), min_periods=1).max()\n",
    "index_drawdown = index_cumulative_returns / index_rolling_max - 1\n",
    "\n",
    "equity_rolling_max = equity_cumulative_returns.rolling(window=len(equity_cumulative_returns), min_periods=1).max()\n",
    "equity_drawdown = equity_cumulative_returns / equity_rolling_max - 1\n",
    "\n",
    "# Calculate the Sharpe ratio for indices and equities\n",
    "risk_free_rate = 0.0  # Assuming risk-free rate is 0%\n",
    "\n",
    "index_sharpe_ratio = (index_returns.mean() - risk_free_rate) / index_returns.std()\n",
    "equity_sharpe_ratio = (equity_returns.mean() - risk_free_rate) / equity_returns.std()\n",
    "\n",
    "# Calculate the Sortino ratio for indices and equities\n",
    "index_downside_returns = index_returns.copy()\n",
    "index_downside_returns[index_returns > 0] = 0  # Consider only downside returns\n",
    "index_sortino_ratio = (index_returns.mean() - risk_free_rate) / index_downside_returns.std()\n",
    "\n",
    "equity_downside_returns = equity_returns.copy()\n",
    "equity_downside_returns[equity_returns > 0] = 0  # Consider only downside returns\n",
    "equity_sortino_ratio = (equity_returns.mean() - risk_free_rate) / equity_downside_returns.std()\n",
    "\n",
    "# Display the results\n",
    "print(\"Indices Daily Returns:\")\n",
    "print(index_returns.tail())\n",
    "\n",
    "print(\"\\nEquities Daily Returns:\")\n",
    "print(equity_returns.tail())\n",
    "\n",
    "print(\"\\nIndices Cumulative Returns:\")\n",
    "print(index_cumulative_returns.tail())\n",
    "\n",
    "print(\"\\nEquities Cumulative Returns:\")\n",
    "print(equity_cumulative_returns.tail())\n",
    "\n",
    "print(\"\\nIndices Max Drawdowns:\")\n",
    "print(index_drawdown.min())\n",
    "\n",
    "print(\"\\nEquities Max Drawdowns:\")\n",
    "print(equity_drawdown.min())\n",
    "print(\"\\nIndices Sharpe Ratio:\")\n",
    "print(index_sharpe_ratio)\n",
    "\n",
    "print(\"\\nEquities Sharpe Ratio:\")\n",
    "print(equity_sharpe_ratio)\n",
    "\n",
    "print(\"\\nIndices Sortino Ratio:\")\n",
    "print(index_sortino_ratio)\n",
    "\n",
    "print(\"\\nEquities Sortino Ratio:\")\n",
    "print(equity_sortino_ratio)"
   ]
  },
  {
   "cell_type": "code",
   "execution_count": null,
   "id": "69be3d75",
   "metadata": {},
   "outputs": [],
   "source": []
  }
 ],
 "metadata": {
  "kernelspec": {
   "display_name": "Python 3 (ipykernel)",
   "language": "python",
   "name": "python3"
  },
  "language_info": {
   "codemirror_mode": {
    "name": "ipython",
    "version": 3
   },
   "file_extension": ".py",
   "mimetype": "text/x-python",
   "name": "python",
   "nbconvert_exporter": "python",
   "pygments_lexer": "ipython3",
   "version": "3.9.7"
  }
 },
 "nbformat": 4,
 "nbformat_minor": 5
}
