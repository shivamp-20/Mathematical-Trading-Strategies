{
 "cells": [
  {
   "cell_type": "markdown",
   "id": "98b062df",
   "metadata": {},
   "source": [
    "## Importing Libraries"
   ]
  },
  {
   "cell_type": "code",
   "execution_count": 2,
   "id": "ad99a9ca",
   "metadata": {},
   "outputs": [],
   "source": [
    "import yfinance as yf\n",
    "import pandas as pd\n",
    "import numpy as np"
   ]
  },
  {
   "cell_type": "markdown",
   "id": "60ed784d",
   "metadata": {},
   "source": [
    "## Selecting Stocks and Indexes"
   ]
  },
  {
   "cell_type": "code",
   "execution_count": 3,
   "id": "0f5846ae",
   "metadata": {},
   "outputs": [],
   "source": [
    "stocks = ['AAPL', 'GOOGL', 'MSFT', 'AMZN', 'TSLA'] #selecting any 5 stocks\n",
    "indices = ['^NSEI', '^DJI', '^IXIC', '^GSPC', '^RUT'] #selecting any 5 indices"
   ]
  },
  {
   "cell_type": "markdown",
   "id": "6cd4a5d1",
   "metadata": {},
   "source": [
    "## Defining function to calculate required metrics"
   ]
  },
  {
   "cell_type": "code",
   "execution_count": 4,
   "id": "858d3bba",
   "metadata": {},
   "outputs": [],
   "source": [
    "def calculate_metrics(data):\n",
    "    initial_capital = 100  #Assuming\n",
    "    data['Daily_Return'] = (data['Close'] - data['Open']) / data['Open']  #Calculating Daily Return\n",
    "    cumulative_returns = [initial_capital]\n",
    "\n",
    "    for i in range(1, len(data)):\n",
    "        cumulative_returns.append(cumulative_returns[i-1] * (1 + data['Daily_Return'][i]))  #Calculating Cumulative return\n",
    "\n",
    "    cumulative_returns = pd.Series(cumulative_returns, index=data.index)\n",
    "    data['Cumulative_Return'] = cumulative_returns\n",
    "\n",
    "    final_capital = data['Cumulative_Return'][-1]\n",
    "    cumulative_return = (final_capital - initial_capital) / initial_capital\n",
    "\n",
    "    running_max = data['Cumulative_Return'].cummax()\n",
    "    drawdown = (data['Cumulative_Return'] / running_max) - 1\n",
    "    max_drawdown = drawdown.min() #calculating max_drawdown\n",
    "\n",
    "    average_return = data['Daily_Return'].mean() \n",
    "\n",
    "    annualized_return = average_return * 252\n",
    "\n",
    "    volatility = data['Daily_Return'].std()\n",
    "    annualized_volatility = volatility * np.sqrt(252)\n",
    "\n",
    "    risk_free_rate = 0.06\n",
    "    sharpe_ratio = (annualized_return - risk_free_rate) / annualized_volatility  #calculating sharpe_ratio\n",
    "\n",
    "    downside_returns = data['Daily_Return'].apply(lambda x: min(x, 0) if x < risk_free_rate else 0)\n",
    "    average_downside_return = downside_returns.mean()\n",
    "    downside_deviation = downside_returns.std()\n",
    "\n",
    "    sortino_ratio = (annualized_return - risk_free_rate) / downside_deviation #calculating sortino_ratio\n",
    "\n",
    "    return cumulative_return, max_drawdown, sharpe_ratio, sortino_ratio, annualized_volatility\n"
   ]
  },
  {
   "cell_type": "markdown",
   "id": "abe0cd16",
   "metadata": {},
   "source": [
    "## Calculating required metrics for stocks"
   ]
  },
  {
   "cell_type": "code",
   "execution_count": 5,
   "id": "1f4b5f38",
   "metadata": {},
   "outputs": [
    {
     "name": "stdout",
     "output_type": "stream",
     "text": [
      "[*********************100%***********************]  1 of 1 completed\n",
      "Stock: AAPL\n",
      "Cumulative Return: 146.19%\n",
      "Max Drawdown: -60.35%\n",
      "Sharpe Ratio: 0.15\n",
      "Sortino Ratio: 3.85\n",
      "Volatility: 22.21%\n",
      "----------------------\n",
      "[*********************100%***********************]  1 of 1 completed\n",
      "Stock: GOOGL\n",
      "Cumulative Return: 6.59%\n",
      "Max Drawdown: -57.19%\n",
      "Sharpe Ratio: -0.17\n",
      "Sortino Ratio: -4.27\n",
      "Volatility: 20.53%\n",
      "----------------------\n",
      "[*********************100%***********************]  1 of 1 completed\n",
      "Stock: MSFT\n",
      "Cumulative Return: 232.32%\n",
      "Max Drawdown: -28.77%\n",
      "Sharpe Ratio: 0.25\n",
      "Sortino Ratio: 6.69\n",
      "Volatility: 20.05%\n",
      "----------------------\n",
      "[*********************100%***********************]  1 of 1 completed\n",
      "Stock: AMZN\n",
      "Cumulative Return: 23.88%\n",
      "Max Drawdown: -63.42%\n",
      "Sharpe Ratio: -0.04\n",
      "Sortino Ratio: -1.16\n",
      "Volatility: 26.08%\n",
      "----------------------\n",
      "[*********************100%***********************]  1 of 1 completed\n",
      "Stock: TSLA\n",
      "Cumulative Return: -60.25%\n",
      "Max Drawdown: -77.43%\n",
      "Sharpe Ratio: -0.00\n",
      "Sortino Ratio: -0.13\n",
      "Volatility: 47.29%\n",
      "----------------------\n"
     ]
    }
   ],
   "source": [
    "for stock in stocks:\n",
    "    data = yf.download(stock, '2010-01-01', '2023-05-20')\n",
    "    cumulative_return, max_drawdown, sharpe_ratio, sortino_ratio,volatility = calculate_metrics(data)\n",
    "\n",
    "    print(f\"Stock: {stock}\")\n",
    "    print(f\"Cumulative Return: {cumulative_return * 100:.2f}%\")\n",
    "    print(f\"Max Drawdown: {max_drawdown * 100:.2f}%\")\n",
    "    print(f\"Sharpe Ratio: {sharpe_ratio:.2f}\")\n",
    "    print(f\"Sortino Ratio: {sortino_ratio:.2f}\")\n",
    "    print(f\"Volatility: {volatility*100:.2f}%\")\n",
    "    print(\"----------------------\")"
   ]
  },
  {
   "cell_type": "markdown",
   "id": "8171ed4d",
   "metadata": {},
   "source": [
    "## Calculating required metrics for indices"
   ]
  },
  {
   "cell_type": "code",
   "execution_count": 6,
   "id": "fcd2763c",
   "metadata": {},
   "outputs": [
    {
     "name": "stdout",
     "output_type": "stream",
     "text": [
      "[*********************100%***********************]  1 of 1 completed\n",
      "Index: ^NSEI\n",
      "Cumulative Return: -90.79%\n",
      "Max Drawdown: -92.13%\n",
      "Sharpe Ratio: -1.60\n",
      "Sortino Ratio: -40.05\n",
      "Volatility: 14.51%\n",
      "----------------------\n",
      "[*********************100%***********************]  1 of 1 completed\n",
      "Index: ^DJI\n",
      "Cumulative Return: 125.08%\n",
      "Max Drawdown: -22.51%\n",
      "Sharpe Ratio: 0.08\n",
      "Sortino Ratio: 2.12\n",
      "Volatility: 14.47%\n",
      "----------------------\n",
      "[*********************100%***********************]  1 of 1 completed\n",
      "Index: ^IXIC\n",
      "Cumulative Return: 99.82%\n",
      "Max Drawdown: -27.07%\n",
      "Sharpe Ratio: 0.03\n",
      "Sortino Ratio: 0.79\n",
      "Volatility: 16.01%\n",
      "----------------------\n",
      "[*********************100%***********************]  1 of 1 completed\n",
      "Index: ^GSPC\n",
      "Cumulative Return: 118.61%\n",
      "Max Drawdown: -23.09%\n",
      "Sharpe Ratio: 0.07\n",
      "Sortino Ratio: 1.77\n",
      "Volatility: 14.85%\n",
      "----------------------\n",
      "[*********************100%***********************]  1 of 1 completed\n",
      "Index: ^RUT\n",
      "Cumulative Return: 76.04%\n",
      "Max Drawdown: -44.09%\n",
      "Sharpe Ratio: 0.02\n",
      "Sortino Ratio: 0.55\n",
      "Volatility: 20.32%\n",
      "----------------------\n"
     ]
    }
   ],
   "source": [
    "for index in indices:\n",
    "    data = yf.download(index, '2010-01-01', '2023-05-20')\n",
    "    cumulative_return, max_drawdown, sharpe_ratio, sortino_ratio,volatility = calculate_metrics(data)\n",
    "\n",
    "    print(f\"Index: {index}\")\n",
    "    print(f\"Cumulative Return: {cumulative_return * 100:.2f}%\")\n",
    "    print(f\"Max Drawdown: {max_drawdown * 100:.2f}%\")\n",
    "    print(f\"Sharpe Ratio: {sharpe_ratio:.2f}\")\n",
    "    print(f\"Sortino Ratio: {sortino_ratio:.2f}\")\n",
    "    print(f\"Volatility: {volatility*100:.2f}%\")\n",
    "    print(\"----------------------\")"
   ]
  },
  {
   "cell_type": "code",
   "execution_count": null,
   "id": "84be8410",
   "metadata": {},
   "outputs": [],
   "source": []
  }
 ],
 "metadata": {
  "kernelspec": {
   "display_name": "Python 3 (ipykernel)",
   "language": "python",
   "name": "python3"
  },
  "language_info": {
   "codemirror_mode": {
    "name": "ipython",
    "version": 3
   },
   "file_extension": ".py",
   "mimetype": "text/x-python",
   "name": "python",
   "nbconvert_exporter": "python",
   "pygments_lexer": "ipython3",
   "version": "3.9.7"
  }
 },
 "nbformat": 4,
 "nbformat_minor": 5
}
