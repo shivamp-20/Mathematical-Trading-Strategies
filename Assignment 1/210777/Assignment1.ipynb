{
 "cells": [
  {
   "cell_type": "code",
   "execution_count": null,
   "metadata": {
    "collapsed": true
   },
   "outputs": [],
   "source": [
    "import yfinance as yf\n",
    "import numpy as np"
   ]
  },
  {
   "cell_type": "code",
   "execution_count": null,
   "outputs": [],
   "source": [
    "\n",
    "# Define the list of equities\n",
    "equities_indices_list = [\"AMZN\", \"TSLA\", \"WMT\", \"META\", \"NVDA\",\"DJI\", \"^GSPC\", \"^IXIC\", \"^RUT\", \"^NYA\"]\n",
    "\n",
    "# Download the historical data for each equity\n",
    "data = yf.download(equities_indices_list, start=\"2010-01-01\")['Adj Close']\n",
    "\n",
    "# Calculate the daily returns for each equity\n",
    "returns = data.pct_change()\n",
    "\n",
    "# Calculate cumulative returns for each equity\n",
    "cumulative_returns = (returns + 1).cumprod()\n",
    "\n",
    "# Calculate volatility (standard deviation of returns)\n",
    "volatility = returns.std()\n",
    "\n",
    "# Calculate annualized volatility\n",
    "volatility_annualized = volatility * np.sqrt(252)\n",
    "\n",
    "# Calculate the risk-free rate\n",
    "risk_free_rate = 0.02  # Assuming a risk-free rate of 2% per year\n",
    "\n",
    "# Calculate the excess returns over the risk-free rate\n",
    "excess_returns = returns - risk_free_rate / 252\n",
    "\n",
    "# Calculate the mean excess return\n",
    "mean_excess_return = excess_returns.mean()\n",
    "\n",
    "# Calculate the standard deviation of negative returns (downside deviation)\n",
    "downside_deviation = excess_returns[excess_returns < 0].std()\n",
    "\n",
    "# Calculate the Sharpe ratio\n",
    "sharpe_ratio = mean_excess_return / volatility_annualized\n",
    "\n",
    "# Calculate the Sortino ratio\n",
    "sortino_ratio = mean_excess_return / downside_deviation\n",
    "\n",
    "# Calculate the maximum drawdown\n",
    "rolling_max = cumulative_returns.cummax()\n",
    "drawdown = (cumulative_returns / rolling_max) - 1\n",
    "max_drawdown = drawdown.min()"
   ],
   "metadata": {
    "collapsed": false
   }
  },
  {
   "cell_type": "code",
   "execution_count": null,
   "outputs": [],
   "source": [
    "# Print the results\n",
    "for equity in equities_indices_list:\n",
    "    print(f\"Equity/Index: {equity}\")\n",
    "    print(f\"Cumulative Returns: {cumulative_returns.dropna()[equity][-1]}\")\n",
    "    print(f\"Volatility (Annualized): {volatility_annualized.dropna()[equity]}\")\n",
    "    print(f\"Sharpe Ratio: {sharpe_ratio.dropna()[equity]}\")\n",
    "    print(f\"Sortino Ratio: {sortino_ratio.dropna()[equity]}\")\n",
    "    print(f\"Maximum Drawdown: {max_drawdown.dropna()[equity]}\\n\")\n",
    "\n"
   ],
   "metadata": {
    "collapsed": false
   }
  }
 ],
 "metadata": {
  "kernelspec": {
   "display_name": "Python 3",
   "language": "python",
   "name": "python3"
  },
  "language_info": {
   "codemirror_mode": {
    "name": "ipython",
    "version": 2
   },
   "file_extension": ".py",
   "mimetype": "text/x-python",
   "name": "python",
   "nbconvert_exporter": "python",
   "pygments_lexer": "ipython2",
   "version": "2.7.6"
  }
 },
 "nbformat": 4,
 "nbformat_minor": 0
}
