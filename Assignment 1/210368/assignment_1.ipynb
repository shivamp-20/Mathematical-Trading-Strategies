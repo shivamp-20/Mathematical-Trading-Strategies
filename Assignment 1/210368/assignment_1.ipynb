{
  "cells": [
    {
      "cell_type": "code",
      "execution_count": null,
      "metadata": {
        "id": "QlQFRTHKXHvf"
      },
      "outputs": [],
      "source": [
        "import yfinance as yf\n",
        "import numpy as np"
      ]
    },
    {
      "cell_type": "code",
      "execution_count": null,
      "metadata": {
        "id": "riCL8bIUXHvh"
      },
      "outputs": [],
      "source": [
        "# List of international indices and equities tickers\n",
        "indices = ['^GSPC', '^IXIC', '^DJI', '^FTSE', '^N225']  \n",
        "equities = [ 'goog', 'msft', 'amzn','baba','tsla']  "
      ]
    },
    {
      "cell_type": "code",
      "execution_count": null,
      "metadata": {
        "id": "acWsaihdXHvi",
        "outputId": "9ab877a5-582e-4b73-f1c5-123d256270b1"
      },
      "outputs": [
        {
          "name": "stdout",
          "output_type": "stream",
          "text": [
            "[*********************100%***********************]  5 of 5 completed\n",
            "[*********************100%***********************]  5 of 5 completed\n"
          ]
        }
      ],
      "source": [
        "# Fetch the  data for indices and equities\n",
        "data_indices = yf.download(indices, start=\"2010-01-01\", end=\"2023-05-17\")\n",
        "data_equities = yf.download(equities, start=\"2010-01-01\", end=\"2023-05-17\")"
      ]
    },
    {
      "cell_type": "code",
      "execution_count": null,
      "metadata": {
        "id": "qrSvT1hnXHvj"
      },
      "outputs": [],
      "source": [
        "# Extract the adjusted close prices for each data\n",
        "adj_close_indices = data_indices['Adj Close']\n",
        "adj_close_equities = data_equities['Adj Close']"
      ]
    },
    {
      "cell_type": "code",
      "execution_count": null,
      "metadata": {
        "id": "m_-kF9oWXHvj",
        "outputId": "1d8c1fbe-0b47-4c57-b54d-baacae738133"
      },
      "outputs": [
        {
          "name": "stdout",
          "output_type": "stream",
          "text": [
            "                ^DJI     ^FTSE     ^GSPC     ^IXIC     ^N225\n",
            "Date                                                        \n",
            "2010-01-04       NaN       NaN       NaN       NaN       NaN\n",
            "2010-01-05 -0.001128  0.004036  0.003116  0.000126  0.002538\n",
            "2010-01-06  0.000157  0.001358  0.000546 -0.003300  0.004645\n",
            "2010-01-07  0.003138 -0.000597  0.004001 -0.000452 -0.004640\n",
            "2010-01-08  0.001068  0.001357  0.002882  0.007443  0.010922\n",
            "...              ...       ...       ...       ...       ...\n",
            "2023-05-10 -0.000908 -0.002937  0.004484  0.010418 -0.004125\n",
            "2023-05-11 -0.006615 -0.001382 -0.001697  0.001793  0.000156\n",
            "2023-05-12 -0.000267  0.003105 -0.001583 -0.003550  0.008981\n",
            "2023-05-15  0.001441  0.002979  0.002958  0.006550  0.008100\n",
            "2023-05-16 -0.010089 -0.003420 -0.006378 -0.001792  0.007313\n",
            "\n",
            "[3476 rows x 5 columns]\n",
            "                AMZN      BABA      GOOG      MSFT      TSLA\n",
            "Date                                                        \n",
            "2010-01-04       NaN       NaN       NaN       NaN       NaN\n",
            "2010-01-05  0.005900       NaN -0.004404  0.000323       NaN\n",
            "2010-01-06 -0.018116       NaN -0.025209 -0.006137       NaN\n",
            "2010-01-07 -0.017013       NaN -0.023280 -0.010400       NaN\n",
            "2010-01-08  0.027077       NaN  0.013331  0.006897       NaN\n",
            "...              ...       ...       ...       ...       ...\n",
            "2023-05-10  0.033483  0.008879  0.040207  0.017296 -0.003606\n",
            "2023-05-11  0.018060  0.059554  0.041147 -0.007044  0.021004\n",
            "2023-05-12 -0.017115 -0.029014  0.008725 -0.003676 -0.023826\n",
            "2023-05-15  0.008525  0.035154 -0.008141  0.001586 -0.009703\n",
            "2023-05-16  0.019784  0.004754  0.026761  0.007368  0.001022\n",
            "\n",
            "[3365 rows x 5 columns]\n"
          ]
        }
      ],
      "source": [
        "# Daily returns\n",
        "\n",
        "daily_returns_indices = adj_close_indices.pct_change()   #for indices \n",
        "print(daily_returns_indices)\n",
        "\n",
        "daily_returns_equities = adj_close_equities.pct_change()   #for equities\n",
        "print(daily_returns_equities)"
      ]
    },
    {
      "cell_type": "code",
      "execution_count": null,
      "metadata": {
        "id": "qToDdEviXHvj",
        "outputId": "63a92d39-ed1a-446c-82c2-48cb4daae239"
      },
      "outputs": [
        {
          "name": "stdout",
          "output_type": "stream",
          "text": [
            "^DJI     0.010640\n",
            "^FTSE    0.010076\n",
            "^GSPC    0.010998\n",
            "^IXIC    0.012759\n",
            "^N225    0.012709\n",
            "dtype: float64\n",
            "\n",
            " ^DJI     0.010640\n",
            "^FTSE    0.010076\n",
            "^GSPC    0.010998\n",
            "^IXIC    0.012759\n",
            "^N225    0.012709\n",
            "dtype: float64\n"
          ]
        }
      ],
      "source": [
        "\n",
        "# Calculate volatility\n",
        "volatility_indices = daily_returns_indices.std()\n",
        "print(volatility_indices)\n",
        "\n",
        "\n",
        "volatility_equities = daily_returns_indices.std()\n",
        "print(\"\\n\" ,volatility_equities)"
      ]
    },
    {
      "cell_type": "code",
      "execution_count": null,
      "metadata": {
        "id": "OlTGPeA4XHvk",
        "outputId": "93fc978d-2124-4441-83e0-b7b58f7bf578"
      },
      "outputs": [
        {
          "name": "stdout",
          "output_type": "stream",
          "text": [
            "                ^DJI     ^FTSE     ^GSPC     ^IXIC     ^N225\n",
            "Date                                                        \n",
            "2010-01-04       NaN       NaN       NaN       NaN       NaN\n",
            "2010-01-05  0.998872  1.004036  1.003116  1.000126  1.002538\n",
            "2010-01-06  0.999029  1.005400  1.003663  0.996825  1.007195\n",
            "2010-01-07  1.002164  1.004800  1.007679  0.996374  1.002522\n",
            "2010-01-08  1.003234  1.006163  1.010583  1.003790  1.013471\n",
            "...              ...       ...       ...       ...       ...\n",
            "2023-05-10  3.168127  1.407432  3.651965  5.331110  2.733248\n",
            "2023-05-11  3.147169  1.405487  3.645769  5.340670  2.733674\n",
            "2023-05-12  3.146329  1.409850  3.639997  5.321710  2.758224\n",
            "2023-05-15  3.150862  1.414050  3.650765  5.356569  2.780565\n",
            "2023-05-16  3.119073  1.409214  3.627481  5.346969  2.800899\n",
            "\n",
            "[3476 rows x 5 columns]\n",
            "                 AMZN      BABA      GOOG       MSFT        TSLA\n",
            "Date                                                            \n",
            "2010-01-04        NaN       NaN       NaN        NaN         NaN\n",
            "2010-01-05   1.005900       NaN  0.995596   1.000323         NaN\n",
            "2010-01-06   0.987677       NaN  0.970499   0.994184         NaN\n",
            "2010-01-07   0.970874       NaN  0.947906   0.983844         NaN\n",
            "2010-01-08   0.997162       NaN  0.960542   0.990630         NaN\n",
            "...               ...       ...       ...        ...         ...\n",
            "2023-05-10  16.458551  0.883481  7.192715  13.220085  105.822495\n",
            "2023-05-11  16.755788  0.936095  7.488675  13.126958  108.045187\n",
            "2023-05-12  16.469007  0.908936  7.554016  13.078702  105.470885\n",
            "2023-05-15  16.609409  0.940888  7.492518  13.099444  104.447451\n",
            "2023-05-16  16.938013  0.945362  7.693027  13.195956  104.554189\n",
            "\n",
            "[3365 rows x 5 columns]\n"
          ]
        }
      ],
      "source": [
        "\n",
        "# Compute the cumulative returns\n",
        "cumulative_returns_indices = (1 + daily_returns_indices).cumprod()  #for indices \n",
        "print(cumulative_returns_indices)\n",
        "\n",
        "\n",
        "cumulative_returns_equities = (1 + daily_returns_equities).cumprod()   #for equities\n",
        "print(cumulative_returns_equities)"
      ]
    },
    {
      "cell_type": "code",
      "execution_count": null,
      "metadata": {
        "id": "imtq8aYfXHvk",
        "outputId": "9d876919-96d4-40a3-bd94-45cef3a2e768"
      },
      "outputs": [
        {
          "name": "stdout",
          "output_type": "stream",
          "text": [
            "#### MAXIMUM DROPDOWN OF INDICES  ####  \n",
            "\n",
            "                ^DJI     ^FTSE    ^GSPC     ^IXIC     ^N225\n",
            "Date                                                       \n",
            "2010-01-04  0.000000  0.000000  0.00000  0.000000  0.000000\n",
            "2010-01-05 -0.001128  0.000000  0.00000  0.000000  0.000000\n",
            "2010-01-06 -0.001128  0.000000  0.00000 -0.003300  0.000000\n",
            "2010-01-07 -0.001128 -0.000597  0.00000 -0.003751 -0.004640\n",
            "2010-01-08 -0.001128 -0.000597  0.00000 -0.003751 -0.004640\n",
            "...              ...       ...      ...       ...       ...\n",
            "2023-05-10 -0.370862 -0.366055 -0.33925 -0.363953 -0.317989\n",
            "2023-05-11 -0.370862 -0.366055 -0.33925 -0.363953 -0.317989\n",
            "2023-05-12 -0.370862 -0.366055 -0.33925 -0.363953 -0.317989\n",
            "2023-05-15 -0.370862 -0.366055 -0.33925 -0.363953 -0.317989\n",
            "2023-05-16 -0.370862 -0.366055 -0.33925 -0.363953 -0.317989\n",
            "\n",
            "[3476 rows x 5 columns]\n",
            "\n",
            "\n",
            "###  MAXIMUM DROPDOWN OF EQUITIES  ####\n",
            "                AMZN      BABA      GOOG      MSFT      TSLA\n",
            "Date                                                        \n",
            "2010-01-04  0.000000       NaN  0.000000  0.000000       NaN\n",
            "2010-01-05  0.000000       NaN -0.004404  0.000000       NaN\n",
            "2010-01-06 -0.018116       NaN -0.029501 -0.006137       NaN\n",
            "2010-01-07 -0.034821       NaN -0.052094 -0.016473       NaN\n",
            "2010-01-08 -0.034821       NaN -0.052094 -0.016473       NaN\n",
            "...              ...       ...       ...       ...       ...\n",
            "2023-05-10 -0.561453 -0.800877 -0.446018 -0.371485 -0.736322\n",
            "2023-05-11 -0.561453 -0.800877 -0.446018 -0.371485 -0.736322\n",
            "2023-05-12 -0.561453 -0.800877 -0.446018 -0.371485 -0.736322\n",
            "2023-05-15 -0.561453 -0.800877 -0.446018 -0.371485 -0.736322\n",
            "2023-05-16 -0.561453 -0.800877 -0.446018 -0.371485 -0.736322\n",
            "\n",
            "[3365 rows x 5 columns]\n"
          ]
        }
      ],
      "source": [
        "# Compute the maximum drawdowns\n",
        "roll_max_adj_close_indices = adj_close_indices.cummax()                   # for indices\n",
        "daily_drawdowns_adj_close_indices = adj_close_indices / roll_max_adj_close_indices - 1\n",
        "max_drawdowns_adj_close_indices = daily_drawdowns_adj_close_indices.cummin()\n",
        "print(\"#### MAXIMUM DROPDOWN OF INDICES  ####  \\n\")\n",
        "print(max_drawdowns_adj_close_indices)\n",
        "\n",
        "roll_max_adj_close_equities = adj_close_equities.cummax()                   # for indices and equities\n",
        "daily_drawdowns_adj_close_equities = adj_close_equities / roll_max_adj_close_equities - 1\n",
        "max_drawdowns_adj_close_equities = daily_drawdowns_adj_close_equities.cummin()\n",
        "print(\"\\n\\n###  MAXIMUM DROPDOWN OF EQUITIES  ####\")\n",
        "print(max_drawdowns_adj_close_equities)"
      ]
    },
    {
      "cell_type": "code",
      "execution_count": null,
      "metadata": {
        "id": "sbPg83bGXHvl",
        "outputId": "70180ed8-aefb-43bb-99c5-623783625b22"
      },
      "outputs": [
        {
          "name": "stdout",
          "output_type": "stream",
          "text": [
            "^DJI     0.573286\n",
            "^FTSE    0.235787\n",
            "^GSPC    0.622954\n",
            "^IXIC    0.702052\n",
            "^N225    0.471370\n",
            "dtype: float64\n",
            "\n",
            "\n",
            "^DJI     0.573286\n",
            "^FTSE    0.235787\n",
            "^GSPC    0.622954\n",
            "^IXIC    0.702052\n",
            "^N225    0.471370\n",
            "dtype: float64\n"
          ]
        }
      ],
      "source": [
        "# Compute the annualized Sharpe ratios\n",
        "risk_free_rate = 0.0  # Assuming no risk-free rate\n",
        "daily_rf = (1 + risk_free_rate)**(1/252) - 1  # Daily risk-free rate\n",
        "excess_returns = daily_returns_indices - daily_rf\n",
        "sharpe_ratios = np.sqrt(252) * (excess_returns.mean() / excess_returns.std())\n",
        "print(sharpe_ratios)\n",
        "\n",
        "\n",
        "print(\"\\n\")\n",
        "excess_returns_equities = daily_returns_equities - daily_rf\n",
        "sharpe_ratios_equities = np.sqrt(252) * (excess_returns_equities.mean() / excess_returns_equities.std())\n",
        "print(sharpe_ratios)\n"
      ]
    },
    {
      "cell_type": "code",
      "execution_count": null,
      "metadata": {
        "id": "GNcMQCxiXHvl",
        "outputId": "5bd3484c-e15b-403d-9183-4616f5d3ff2f"
      },
      "outputs": [
        {
          "name": "stdout",
          "output_type": "stream",
          "text": [
            "^DJI     0.825937\n",
            "^FTSE    0.321684\n",
            "^GSPC    0.927658\n",
            "^IXIC    1.212852\n",
            "^N225    0.811166\n",
            "dtype: float64\n",
            "\n",
            "\n",
            "^DJI     0.440168\n",
            "^FTSE    0.171436\n",
            "^GSPC    0.494379\n",
            "^IXIC    0.646368\n",
            "^N225    0.432297\n",
            "dtype: float64\n"
          ]
        }
      ],
      "source": [
        "# Compute the annualized Sortino ratios\n",
        "downside_returns_indices = np.where(daily_returns_indices < daily_rf, daily_returns_indices, 0)\n",
        "sortino_ratios_indices = np.sqrt(252) * (excess_returns.mean() / np.std(downside_returns_indices))\n",
        "print(sortino_ratios_indices)\n",
        "\n",
        "print(\"\\n\")\n",
        "downside_returns_equities = np.where(daily_returns_equities < daily_rf, daily_returns_equities, 0)\n",
        "sortino_ratios_equities = np.sqrt(252) * (excess_returns.mean() / np.std(downside_returns_equities))\n",
        "print(sortino_ratios_equities)"
      ]
    }
  ],
  "metadata": {
    "kernelspec": {
      "display_name": "Python 3",
      "language": "python",
      "name": "python3"
    },
    "language_info": {
      "codemirror_mode": {
        "name": "ipython",
        "version": 3
      },
      "file_extension": ".py",
      "mimetype": "text/x-python",
      "name": "python",
      "nbconvert_exporter": "python",
      "pygments_lexer": "ipython3",
      "version": "3.11.0"
    },
    "orig_nbformat": 4,
    "colab": {
      "provenance": []
    }
  },
  "nbformat": 4,
  "nbformat_minor": 0
}