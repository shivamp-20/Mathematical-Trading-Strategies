{
 "cells": [
  {
   "cell_type": "code",
   "execution_count": 1,
   "id": "2ffb9988",
   "metadata": {},
   "outputs": [],
   "source": [
    "import pandas as pd\n",
    "from pandas_datareader import data as pdr\n",
    "import yfinance as yf\n",
    "import datetime as dt\n",
    "import numpy as np\n",
    "yf.pdr_override()\n",
    "import matplotlib.pyplot as plt\n",
    "from math import sqrt\n",
    "from math import floor"
   ]
  },
  {
   "cell_type": "code",
   "execution_count": 2,
   "id": "42bf5dcb",
   "metadata": {},
   "outputs": [
    {
     "name": "stdout",
     "output_type": "stream",
     "text": [
      "[*********************100%***********************]  1 of 1 completed\n",
      "[*********************100%***********************]  1 of 1 completed\n"
     ]
    },
    {
     "data": {
      "text/plain": [
       "0.9512481243372104"
      ]
     },
     "execution_count": 2,
     "metadata": {},
     "output_type": "execute_result"
    }
   ],
   "source": [
    "ticker = yf.download('^IXIC',start =\"2010-01-20\", end  = \"2023-05-01\" )['Close']\n",
    "ticker1 = yf.download('^NSEI',start =\"2010-01-01\", end  = \"2023-04-11\")['Close']\n",
    "ticker.corr(ticker1)"
   ]
  },
  {
   "cell_type": "code",
   "execution_count": 3,
   "id": "218ba070",
   "metadata": {},
   "outputs": [
    {
     "data": {
      "text/plain": [
       "0.950682511458961"
      ]
     },
     "execution_count": 3,
     "metadata": {},
     "output_type": "execute_result"
    }
   ],
   "source": [
    "ticker.corr(ticker1.shift())"
   ]
  },
  {
   "cell_type": "code",
   "execution_count": 4,
   "id": "efe15ecc",
   "metadata": {},
   "outputs": [
    {
     "data": {
      "text/plain": [
       "0.9411931324659544"
      ]
     },
     "execution_count": 4,
     "metadata": {},
     "output_type": "execute_result"
    }
   ],
   "source": [
    "ticker.corr(ticker1.shift(20))"
   ]
  },
  {
   "cell_type": "code",
   "execution_count": 5,
   "id": "dbb3de24",
   "metadata": {},
   "outputs": [
    {
     "data": {
      "text/plain": [
       "0.9676574164593844"
      ]
     },
     "execution_count": 5,
     "metadata": {},
     "output_type": "execute_result"
    }
   ],
   "source": [
    "ticker1.corr(ticker.shift(155))\n",
    "# this is the max correlation we are getting for any time period "
   ]
  },
  {
   "cell_type": "code",
   "execution_count": 6,
   "id": "75fa8539",
   "metadata": {},
   "outputs": [
    {
     "data": {
      "text/plain": [
       "0.9531303455496966"
      ]
     },
     "execution_count": 6,
     "metadata": {},
     "output_type": "execute_result"
    }
   ],
   "source": [
    "ticker1.corr(ticker.shift(20))\n",
    "# but as we are constrained with taking 20 days as the lagging period so we have to take this as max in our case \n",
    "#as we can see nasdaq is behind so nasdaq is eading and nse is lagging"
   ]
  },
  {
   "cell_type": "code",
   "execution_count": 7,
   "id": "f0265ab4",
   "metadata": {},
   "outputs": [
    {
     "name": "stdout",
     "output_type": "stream",
     "text": [
      "[*********************100%***********************]  1 of 1 completed\n"
     ]
    },
    {
     "data": {
      "text/html": [
       "<div>\n",
       "<style scoped>\n",
       "    .dataframe tbody tr th:only-of-type {\n",
       "        vertical-align: middle;\n",
       "    }\n",
       "\n",
       "    .dataframe tbody tr th {\n",
       "        vertical-align: top;\n",
       "    }\n",
       "\n",
       "    .dataframe thead th {\n",
       "        text-align: right;\n",
       "    }\n",
       "</style>\n",
       "<table border=\"1\" class=\"dataframe\">\n",
       "  <thead>\n",
       "    <tr style=\"text-align: right;\">\n",
       "      <th></th>\n",
       "      <th>Close</th>\n",
       "      <th>Close</th>\n",
       "    </tr>\n",
       "    <tr>\n",
       "      <th>Date</th>\n",
       "      <th></th>\n",
       "      <th></th>\n",
       "    </tr>\n",
       "  </thead>\n",
       "  <tbody>\n",
       "    <tr>\n",
       "      <th>2023-04-24</th>\n",
       "      <td>98.871693</td>\n",
       "      <td>119.419535</td>\n",
       "    </tr>\n",
       "    <tr>\n",
       "      <th>2023-04-25</th>\n",
       "      <td>70.095771</td>\n",
       "      <td>109.554782</td>\n",
       "    </tr>\n",
       "    <tr>\n",
       "      <th>2023-04-26</th>\n",
       "      <td>51.154298</td>\n",
       "      <td>97.874685</td>\n",
       "    </tr>\n",
       "    <tr>\n",
       "      <th>2023-04-27</th>\n",
       "      <td>58.696791</td>\n",
       "      <td>90.039106</td>\n",
       "    </tr>\n",
       "    <tr>\n",
       "      <th>2023-04-28</th>\n",
       "      <td>70.665208</td>\n",
       "      <td>86.164327</td>\n",
       "    </tr>\n",
       "  </tbody>\n",
       "</table>\n",
       "</div>"
      ],
      "text/plain": [
       "                Close       Close\n",
       "Date                             \n",
       "2023-04-24  98.871693  119.419535\n",
       "2023-04-25  70.095771  109.554782\n",
       "2023-04-26  51.154298   97.874685\n",
       "2023-04-27  58.696791   90.039106\n",
       "2023-04-28  70.665208   86.164327"
      ]
     },
     "execution_count": 7,
     "metadata": {},
     "output_type": "execute_result"
    }
   ],
   "source": [
    "df = yf.download(\"^IXIC\",\"2010-01-01\" ,\"2023-05-01\")\n",
    "def get_macd(price, slow, fast, smooth):\n",
    "    exp1 = price.ewm(span = fast, adjust = False).mean()\n",
    "    exp2 = price.ewm(span = slow, adjust = False).mean()\n",
    "    macd = pd.DataFrame(exp1 - exp2).rename(columns = {'close':'macd'})\n",
    "    signal = pd.DataFrame(macd.ewm(span = smooth, adjust = False).mean()).rename(columns = {'macd':'signal'})\n",
    "    frames =  [macd, signal]\n",
    "    df = pd.concat(frames, join = 'inner', axis = 1)\n",
    "    return df\n",
    "\n",
    "df_macd = get_macd(df['Close'], 26, 12, 9)\n",
    "df_macd.tail()"
   ]
  },
  {
   "cell_type": "code",
   "execution_count": 8,
   "id": "0f3b7dac",
   "metadata": {},
   "outputs": [
    {
     "data": {
      "text/plain": [
       "[Timestamp('2010-01-05 00:00:00'),\n",
       " Timestamp('2010-01-08 00:00:00'),\n",
       " Timestamp('2010-01-14 00:00:00'),\n",
       " Timestamp('2010-01-19 00:00:00'),\n",
       " Timestamp('2010-02-12 00:00:00'),\n",
       " Timestamp('2010-04-12 00:00:00'),\n",
       " Timestamp('2010-06-03 00:00:00'),\n",
       " Timestamp('2010-06-11 00:00:00'),\n",
       " Timestamp('2010-07-09 00:00:00'),\n",
       " Timestamp('2010-09-02 00:00:00'),\n",
       " Timestamp('2010-10-08 00:00:00'),\n",
       " Timestamp('2010-10-12 00:00:00'),\n",
       " Timestamp('2010-11-02 00:00:00'),\n",
       " Timestamp('2010-12-03 00:00:00'),\n",
       " Timestamp('2011-01-06 00:00:00'),\n",
       " Timestamp('2011-01-11 00:00:00'),\n",
       " Timestamp('2011-02-07 00:00:00'),\n",
       " Timestamp('2011-03-24 00:00:00'),\n",
       " Timestamp('2011-04-21 00:00:00'),\n",
       " Timestamp('2011-06-22 00:00:00'),\n",
       " Timestamp('2011-07-19 00:00:00'),\n",
       " Timestamp('2011-08-26 00:00:00'),\n",
       " Timestamp('2011-09-27 00:00:00'),\n",
       " Timestamp('2011-10-10 00:00:00'),\n",
       " Timestamp('2011-11-03 00:00:00'),\n",
       " Timestamp('2011-11-08 00:00:00'),\n",
       " Timestamp('2011-12-02 00:00:00'),\n",
       " Timestamp('2011-12-22 00:00:00'),\n",
       " Timestamp('2012-02-16 00:00:00'),\n",
       " Timestamp('2012-03-14 00:00:00'),\n",
       " Timestamp('2012-04-30 00:00:00'),\n",
       " Timestamp('2012-05-30 00:00:00'),\n",
       " Timestamp('2012-06-06 00:00:00'),\n",
       " Timestamp('2012-07-18 00:00:00'),\n",
       " Timestamp('2012-07-30 00:00:00'),\n",
       " Timestamp('2012-09-07 00:00:00'),\n",
       " Timestamp('2012-09-13 00:00:00'),\n",
       " Timestamp('2012-11-21 00:00:00'),\n",
       " Timestamp('2013-01-02 00:00:00'),\n",
       " Timestamp('2013-02-13 00:00:00'),\n",
       " Timestamp('2013-02-19 00:00:00'),\n",
       " Timestamp('2013-03-05 00:00:00'),\n",
       " Timestamp('2013-04-11 00:00:00'),\n",
       " Timestamp('2013-04-25 00:00:00'),\n",
       " Timestamp('2013-07-02 00:00:00'),\n",
       " Timestamp('2013-08-01 00:00:00'),\n",
       " Timestamp('2013-09-06 00:00:00'),\n",
       " Timestamp('2013-10-16 00:00:00'),\n",
       " Timestamp('2013-11-26 00:00:00'),\n",
       " Timestamp('2013-12-20 00:00:00'),\n",
       " Timestamp('2014-01-16 00:00:00'),\n",
       " Timestamp('2014-02-11 00:00:00'),\n",
       " Timestamp('2014-04-22 00:00:00'),\n",
       " Timestamp('2014-06-27 00:00:00'),\n",
       " Timestamp('2014-08-14 00:00:00'),\n",
       " Timestamp('2014-10-21 00:00:00'),\n",
       " Timestamp('2014-12-23 00:00:00'),\n",
       " Timestamp('2015-01-22 00:00:00'),\n",
       " Timestamp('2015-02-03 00:00:00'),\n",
       " Timestamp('2015-03-20 00:00:00'),\n",
       " Timestamp('2015-04-10 00:00:00'),\n",
       " Timestamp('2015-05-15 00:00:00'),\n",
       " Timestamp('2015-06-18 00:00:00'),\n",
       " Timestamp('2015-07-14 00:00:00'),\n",
       " Timestamp('2015-09-08 00:00:00'),\n",
       " Timestamp('2015-10-05 00:00:00'),\n",
       " Timestamp('2015-12-01 00:00:00'),\n",
       " Timestamp('2015-12-29 00:00:00'),\n",
       " Timestamp('2016-01-29 00:00:00'),\n",
       " Timestamp('2016-02-16 00:00:00'),\n",
       " Timestamp('2016-04-15 00:00:00'),\n",
       " Timestamp('2016-05-23 00:00:00'),\n",
       " Timestamp('2016-07-05 00:00:00'),\n",
       " Timestamp('2016-08-15 00:00:00'),\n",
       " Timestamp('2016-09-21 00:00:00'),\n",
       " Timestamp('2016-10-25 00:00:00'),\n",
       " Timestamp('2016-11-09 00:00:00'),\n",
       " Timestamp('2016-12-07 00:00:00'),\n",
       " Timestamp('2017-01-09 00:00:00'),\n",
       " Timestamp('2017-01-24 00:00:00'),\n",
       " Timestamp('2017-03-01 00:00:00'),\n",
       " Timestamp('2017-04-21 00:00:00'),\n",
       " Timestamp('2017-05-25 00:00:00'),\n",
       " Timestamp('2017-07-12 00:00:00'),\n",
       " Timestamp('2017-08-30 00:00:00'),\n",
       " Timestamp('2017-09-29 00:00:00'),\n",
       " Timestamp('2017-10-30 00:00:00'),\n",
       " Timestamp('2017-11-21 00:00:00'),\n",
       " Timestamp('2017-12-15 00:00:00'),\n",
       " Timestamp('2018-01-03 00:00:00'),\n",
       " Timestamp('2018-02-20 00:00:00'),\n",
       " Timestamp('2018-04-12 00:00:00'),\n",
       " Timestamp('2018-04-26 00:00:00'),\n",
       " Timestamp('2018-07-10 00:00:00'),\n",
       " Timestamp('2018-08-08 00:00:00'),\n",
       " Timestamp('2018-08-24 00:00:00'),\n",
       " Timestamp('2018-09-28 00:00:00'),\n",
       " Timestamp('2018-11-01 00:00:00'),\n",
       " Timestamp('2018-11-28 00:00:00'),\n",
       " Timestamp('2018-12-12 00:00:00'),\n",
       " Timestamp('2019-01-02 00:00:00'),\n",
       " Timestamp('2019-03-18 00:00:00'),\n",
       " Timestamp('2019-04-02 00:00:00'),\n",
       " Timestamp('2019-04-23 00:00:00'),\n",
       " Timestamp('2019-06-07 00:00:00'),\n",
       " Timestamp('2019-08-21 00:00:00'),\n",
       " Timestamp('2019-08-29 00:00:00'),\n",
       " Timestamp('2019-10-14 00:00:00'),\n",
       " Timestamp('2019-11-26 00:00:00'),\n",
       " Timestamp('2019-12-16 00:00:00'),\n",
       " Timestamp('2020-02-06 00:00:00'),\n",
       " Timestamp('2020-03-26 00:00:00'),\n",
       " Timestamp('2020-05-18 00:00:00'),\n",
       " Timestamp('2020-06-23 00:00:00'),\n",
       " Timestamp('2020-07-06 00:00:00'),\n",
       " Timestamp('2020-07-20 00:00:00'),\n",
       " Timestamp('2020-08-04 00:00:00'),\n",
       " Timestamp('2020-08-18 00:00:00'),\n",
       " Timestamp('2020-09-30 00:00:00'),\n",
       " Timestamp('2020-11-05 00:00:00'),\n",
       " Timestamp('2020-12-16 00:00:00'),\n",
       " Timestamp('2021-01-20 00:00:00'),\n",
       " Timestamp('2021-02-04 00:00:00'),\n",
       " Timestamp('2021-03-15 00:00:00'),\n",
       " Timestamp('2021-04-01 00:00:00'),\n",
       " Timestamp('2021-05-24 00:00:00'),\n",
       " Timestamp('2021-08-24 00:00:00'),\n",
       " Timestamp('2021-10-14 00:00:00'),\n",
       " Timestamp('2021-11-19 00:00:00'),\n",
       " Timestamp('2021-12-23 00:00:00'),\n",
       " Timestamp('2022-02-01 00:00:00'),\n",
       " Timestamp('2022-02-28 00:00:00'),\n",
       " Timestamp('2022-03-16 00:00:00'),\n",
       " Timestamp('2022-05-25 00:00:00'),\n",
       " Timestamp('2022-06-24 00:00:00'),\n",
       " Timestamp('2022-10-05 00:00:00'),\n",
       " Timestamp('2022-10-17 00:00:00'),\n",
       " Timestamp('2022-11-10 00:00:00'),\n",
       " Timestamp('2023-01-09 00:00:00'),\n",
       " Timestamp('2023-03-17 00:00:00'),\n",
       " Timestamp('2023-04-13 00:00:00')]"
      ]
     },
     "execution_count": 8,
     "metadata": {},
     "output_type": "execute_result"
    }
   ],
   "source": [
    "def implement_macd_strategy(prices, data):    \n",
    "    buy_price = []\n",
    "    sell_price = []\n",
    "    macd_signal = []\n",
    "    signal = 0\n",
    "\n",
    "    for i in range(len(data)):\n",
    "        if data.iloc[:,0][i] > data.iloc[:,1][i]:\n",
    "            if signal != 1:\n",
    "                buy_price.append(prices.index[i])\n",
    "                sell_price.append(np.nan)\n",
    "                signal = 1\n",
    "                macd_signal.append(signal)\n",
    "            else:\n",
    "                buy_price.append(np.nan)\n",
    "                sell_price.append(np.nan)\n",
    "                macd_signal.append(0)\n",
    "        elif data.iloc[:,0][i] < data.iloc[:,1][i]:\n",
    "            if signal != -1:\n",
    "                buy_price.append(np.nan)\n",
    "                sell_price.append(prices.index[i])\n",
    "                signal = -1\n",
    "                macd_signal.append(signal)\n",
    "            else:\n",
    "                buy_price.append(np.nan)\n",
    "                sell_price.append(np.nan)\n",
    "                macd_signal.append(0)\n",
    "        else:\n",
    "            buy_price.append(np.nan)\n",
    "            sell_price.append(np.nan)\n",
    "            macd_signal.append(0)\n",
    "            \n",
    "    return buy_price, sell_price, macd_signal\n",
    "            \n",
    "buy_price, sell_price, macd_signal = implement_macd_strategy(df['Close'], df_macd)\n",
    "buy_price= [incom for incom in buy_price if str(incom) != 'nan']\n",
    "buy_price"
   ]
  },
  {
   "cell_type": "code",
   "execution_count": 9,
   "id": "b1c12aa6",
   "metadata": {},
   "outputs": [
    {
     "data": {
      "text/plain": [
       "[Timestamp('2010-01-06 00:00:00'),\n",
       " Timestamp('2010-01-12 00:00:00'),\n",
       " Timestamp('2010-01-15 00:00:00'),\n",
       " Timestamp('2010-01-20 00:00:00'),\n",
       " Timestamp('2010-03-29 00:00:00'),\n",
       " Timestamp('2010-04-27 00:00:00'),\n",
       " Timestamp('2010-06-07 00:00:00'),\n",
       " Timestamp('2010-06-29 00:00:00'),\n",
       " Timestamp('2010-08-11 00:00:00'),\n",
       " Timestamp('2010-10-07 00:00:00'),\n",
       " Timestamp('2010-10-11 00:00:00'),\n",
       " Timestamp('2010-11-01 00:00:00'),\n",
       " Timestamp('2010-11-11 00:00:00'),\n",
       " Timestamp('2010-12-29 00:00:00'),\n",
       " Timestamp('2011-01-10 00:00:00'),\n",
       " Timestamp('2011-01-20 00:00:00'),\n",
       " Timestamp('2011-02-22 00:00:00'),\n",
       " Timestamp('2011-04-14 00:00:00'),\n",
       " Timestamp('2011-05-05 00:00:00'),\n",
       " Timestamp('2011-07-18 00:00:00'),\n",
       " Timestamp('2011-07-27 00:00:00'),\n",
       " Timestamp('2011-09-23 00:00:00'),\n",
       " Timestamp('2011-09-28 00:00:00'),\n",
       " Timestamp('2011-11-02 00:00:00'),\n",
       " Timestamp('2011-11-04 00:00:00'),\n",
       " Timestamp('2011-11-09 00:00:00'),\n",
       " Timestamp('2011-12-14 00:00:00'),\n",
       " Timestamp('2012-02-15 00:00:00'),\n",
       " Timestamp('2012-02-21 00:00:00'),\n",
       " Timestamp('2012-03-30 00:00:00'),\n",
       " Timestamp('2012-05-04 00:00:00'),\n",
       " Timestamp('2012-06-01 00:00:00'),\n",
       " Timestamp('2012-07-12 00:00:00'),\n",
       " Timestamp('2012-07-23 00:00:00'),\n",
       " Timestamp('2012-08-29 00:00:00'),\n",
       " Timestamp('2012-09-11 00:00:00'),\n",
       " Timestamp('2012-09-24 00:00:00'),\n",
       " Timestamp('2012-12-27 00:00:00'),\n",
       " Timestamp('2013-01-29 00:00:00'),\n",
       " Timestamp('2013-02-15 00:00:00'),\n",
       " Timestamp('2013-02-20 00:00:00'),\n",
       " Timestamp('2013-03-21 00:00:00'),\n",
       " Timestamp('2013-04-15 00:00:00'),\n",
       " Timestamp('2013-05-24 00:00:00'),\n",
       " Timestamp('2013-07-29 00:00:00'),\n",
       " Timestamp('2013-08-08 00:00:00'),\n",
       " Timestamp('2013-10-03 00:00:00'),\n",
       " Timestamp('2013-11-01 00:00:00'),\n",
       " Timestamp('2013-12-11 00:00:00'),\n",
       " Timestamp('2014-01-06 00:00:00'),\n",
       " Timestamp('2014-01-24 00:00:00'),\n",
       " Timestamp('2014-03-11 00:00:00'),\n",
       " Timestamp('2014-06-26 00:00:00'),\n",
       " Timestamp('2014-07-08 00:00:00'),\n",
       " Timestamp('2014-09-09 00:00:00'),\n",
       " Timestamp('2014-12-02 00:00:00'),\n",
       " Timestamp('2015-01-02 00:00:00'),\n",
       " Timestamp('2015-01-30 00:00:00'),\n",
       " Timestamp('2015-03-06 00:00:00'),\n",
       " Timestamp('2015-03-25 00:00:00'),\n",
       " Timestamp('2015-04-30 00:00:00'),\n",
       " Timestamp('2015-06-04 00:00:00'),\n",
       " Timestamp('2015-06-29 00:00:00'),\n",
       " Timestamp('2015-07-27 00:00:00'),\n",
       " Timestamp('2015-09-25 00:00:00'),\n",
       " Timestamp('2015-11-11 00:00:00'),\n",
       " Timestamp('2015-12-02 00:00:00'),\n",
       " Timestamp('2016-01-04 00:00:00'),\n",
       " Timestamp('2016-02-08 00:00:00'),\n",
       " Timestamp('2016-04-07 00:00:00'),\n",
       " Timestamp('2016-04-20 00:00:00'),\n",
       " Timestamp('2016-06-13 00:00:00'),\n",
       " Timestamp('2016-08-12 00:00:00'),\n",
       " Timestamp('2016-08-16 00:00:00'),\n",
       " Timestamp('2016-10-07 00:00:00'),\n",
       " Timestamp('2016-10-26 00:00:00'),\n",
       " Timestamp('2016-12-02 00:00:00'),\n",
       " Timestamp('2016-12-28 00:00:00'),\n",
       " Timestamp('2017-01-20 00:00:00'),\n",
       " Timestamp('2017-02-28 00:00:00'),\n",
       " Timestamp('2017-03-02 00:00:00'),\n",
       " Timestamp('2017-05-17 00:00:00'),\n",
       " Timestamp('2017-06-09 00:00:00'),\n",
       " Timestamp('2017-08-01 00:00:00'),\n",
       " Timestamp('2017-09-22 00:00:00'),\n",
       " Timestamp('2017-10-23 00:00:00'),\n",
       " Timestamp('2017-11-13 00:00:00'),\n",
       " Timestamp('2017-12-01 00:00:00'),\n",
       " Timestamp('2017-12-28 00:00:00'),\n",
       " Timestamp('2018-02-01 00:00:00'),\n",
       " Timestamp('2018-03-19 00:00:00'),\n",
       " Timestamp('2018-04-25 00:00:00'),\n",
       " Timestamp('2018-06-21 00:00:00'),\n",
       " Timestamp('2018-07-27 00:00:00'),\n",
       " Timestamp('2018-08-13 00:00:00'),\n",
       " Timestamp('2018-09-06 00:00:00'),\n",
       " Timestamp('2018-10-02 00:00:00'),\n",
       " Timestamp('2018-11-19 00:00:00'),\n",
       " Timestamp('2018-12-11 00:00:00'),\n",
       " Timestamp('2018-12-14 00:00:00'),\n",
       " Timestamp('2019-02-28 00:00:00'),\n",
       " Timestamp('2019-03-25 00:00:00'),\n",
       " Timestamp('2019-04-18 00:00:00'),\n",
       " Timestamp('2019-04-30 00:00:00'),\n",
       " Timestamp('2019-07-19 00:00:00'),\n",
       " Timestamp('2019-08-23 00:00:00'),\n",
       " Timestamp('2019-09-24 00:00:00'),\n",
       " Timestamp('2019-11-21 00:00:00'),\n",
       " Timestamp('2019-12-02 00:00:00'),\n",
       " Timestamp('2020-01-24 00:00:00'),\n",
       " Timestamp('2020-02-21 00:00:00'),\n",
       " Timestamp('2020-05-14 00:00:00'),\n",
       " Timestamp('2020-06-11 00:00:00'),\n",
       " Timestamp('2020-06-24 00:00:00'),\n",
       " Timestamp('2020-07-16 00:00:00'),\n",
       " Timestamp('2020-07-23 00:00:00'),\n",
       " Timestamp('2020-08-11 00:00:00'),\n",
       " Timestamp('2020-09-04 00:00:00'),\n",
       " Timestamp('2020-10-22 00:00:00'),\n",
       " Timestamp('2020-12-11 00:00:00'),\n",
       " Timestamp('2020-12-29 00:00:00'),\n",
       " Timestamp('2021-01-28 00:00:00'),\n",
       " Timestamp('2021-02-18 00:00:00'),\n",
       " Timestamp('2021-03-24 00:00:00'),\n",
       " Timestamp('2021-04-30 00:00:00'),\n",
       " Timestamp('2021-07-14 00:00:00'),\n",
       " Timestamp('2021-09-10 00:00:00'),\n",
       " Timestamp('2021-11-18 00:00:00'),\n",
       " Timestamp('2021-11-22 00:00:00'),\n",
       " Timestamp('2022-01-05 00:00:00'),\n",
       " Timestamp('2022-02-22 00:00:00'),\n",
       " Timestamp('2022-03-07 00:00:00'),\n",
       " Timestamp('2022-04-07 00:00:00'),\n",
       " Timestamp('2022-06-13 00:00:00'),\n",
       " Timestamp('2022-08-19 00:00:00'),\n",
       " Timestamp('2022-10-10 00:00:00'),\n",
       " Timestamp('2022-11-04 00:00:00'),\n",
       " Timestamp('2022-12-07 00:00:00'),\n",
       " Timestamp('2023-02-13 00:00:00'),\n",
       " Timestamp('2023-04-12 00:00:00'),\n",
       " Timestamp('2023-04-19 00:00:00')]"
      ]
     },
     "execution_count": 9,
     "metadata": {},
     "output_type": "execute_result"
    }
   ],
   "source": [
    "sell_price= [incom for incom in sell_price if str(incom) != 'nan']\n",
    "sell_price"
   ]
  },
  {
   "cell_type": "code",
   "execution_count": 10,
   "id": "9845c9af",
   "metadata": {},
   "outputs": [
    {
     "name": "stdout",
     "output_type": "stream",
     "text": [
      "[*********************100%***********************]  1 of 1 completed\n"
     ]
    },
    {
     "data": {
      "image/png": "[encoded data removed]",
      "text/plain": [
       "<Figure size 640x480 with 1 Axes>"
      ]
     },
     "metadata": {},
     "output_type": "display_data"
    }
   ],
   "source": [
    "intc = yf.download(\"^IXIC\",\"2010-01-01\" ,\"2023-05-01\")\n",
    "def get_kc(high, low, close, lookback_period, multiplier, atr_lookback):\n",
    "    tr1 = pd.DataFrame(high - low)\n",
    "    tr2 = pd.DataFrame(abs(high - close.shift()))\n",
    "    tr3 = pd.DataFrame(abs(low - close.shift()))\n",
    "    frames = [tr1, tr2, tr3]\n",
    "    tr = pd.concat(frames, axis = 1, join = 'inner').max(axis = 1)\n",
    "    atr = tr.ewm(alpha = 1/atr_lookback).mean()\n",
    "    \n",
    "    middle = close.ewm(lookback_period).mean()\n",
    "    upper = close.ewm(lookback_period).mean() + multiplier * atr\n",
    "    lower = close.ewm(lookback_period).mean() - multiplier * atr\n",
    "    \n",
    "    return middle, upper, lower\n",
    "    \n",
    "intc = intc.iloc[:,:4]\n",
    "intc['middle'], intc['upper'], intc['lower'] = get_kc(intc['High'], intc['Low'], intc['Close'], 20, 2, 10)\n",
    "plt.plot(intc)\n",
    "plt.show()\n"
   ]
  },
  {
   "cell_type": "code",
   "execution_count": 11,
   "id": "d15d5172",
   "metadata": {},
   "outputs": [
    {
     "data": {
      "text/plain": [
       "[Timestamp('2010-03-11 00:00:00'),\n",
       " Timestamp('2010-09-20 00:00:00'),\n",
       " Timestamp('2011-04-29 00:00:00'),\n",
       " Timestamp('2011-07-07 00:00:00'),\n",
       " Timestamp('2011-10-24 00:00:00'),\n",
       " Timestamp('2012-01-12 00:00:00'),\n",
       " Timestamp('2012-08-07 00:00:00'),\n",
       " Timestamp('2013-01-02 00:00:00'),\n",
       " Timestamp('2014-05-27 00:00:00'),\n",
       " Timestamp('2014-11-03 00:00:00'),\n",
       " Timestamp('2015-07-20 00:00:00'),\n",
       " Timestamp('2015-10-26 00:00:00'),\n",
       " Timestamp('2016-03-22 00:00:00'),\n",
       " Timestamp('2016-07-12 00:00:00'),\n",
       " Timestamp('2016-11-22 00:00:00'),\n",
       " Timestamp('2018-02-26 00:00:00'),\n",
       " Timestamp('2018-05-10 00:00:00'),\n",
       " Timestamp('2019-01-31 00:00:00'),\n",
       " Timestamp('2019-06-20 00:00:00'),\n",
       " Timestamp('2019-10-28 00:00:00'),\n",
       " Timestamp('2020-04-29 00:00:00'),\n",
       " Timestamp('2021-06-14 00:00:00'),\n",
       " Timestamp('2021-10-21 00:00:00'),\n",
       " Timestamp('2022-03-29 00:00:00'),\n",
       " Timestamp('2022-07-29 00:00:00'),\n",
       " Timestamp('2023-01-23 00:00:00')]"
      ]
     },
     "execution_count": 11,
     "metadata": {},
     "output_type": "execute_result"
    }
   ],
   "source": [
    "def implement_kc_strategy(prices, kc_upper, kc_lower):\n",
    "    buy_date = []\n",
    "    sell_date = []\n",
    "    kc_signal = []\n",
    "    signal = 0\n",
    "    \n",
    "    for i in range(len(prices)):\n",
    "        if prices[i] < kc_lower[i] and prices[i+1] > prices[i]:\n",
    "            if signal != 1:\n",
    "                buy_date.append(prices.index[i])\n",
    "                sell_date.append(np.nan)\n",
    "                signal = 1\n",
    "                kc_signal.append(signal)\n",
    "            else:\n",
    "                buy_date.append(np.nan)\n",
    "                sell_date.append(np.nan)\n",
    "                kc_signal.append(0)\n",
    "        elif prices[i] > kc_upper[i] and prices[i+1] < prices[i]:\n",
    "            if signal != -1:\n",
    "                buy_date.append(np.nan)\n",
    "                sell_date.append(prices.index[i])\n",
    "                signal = -1\n",
    "                kc_signal.append(signal)\n",
    "            else:\n",
    "                buy_date.append(np.nan)\n",
    "                sell_date.append(np.nan)\n",
    "                kc_signal.append(0)\n",
    "        else:\n",
    "            buy_date.append(np.nan)\n",
    "            sell_date.append(np.nan)\n",
    "            kc_signal.append(0)\n",
    "            \n",
    "    return buy_date, sell_date, kc_signal\n",
    "\n",
    "buy_date, sell_date, kc_signal = implement_kc_strategy(intc['Close'], intc['upper'], intc['lower'])\n",
    "sell_date= [incom for incom in sell_date if str(incom) != 'nan']\n",
    "sell_date"
   ]
  },
  {
   "cell_type": "code",
   "execution_count": 12,
   "id": "91761a35",
   "metadata": {},
   "outputs": [
    {
     "data": {
      "text/plain": [
       "[Timestamp('2010-01-22 00:00:00'),\n",
       " Timestamp('2010-05-07 00:00:00'),\n",
       " Timestamp('2011-03-16 00:00:00'),\n",
       " Timestamp('2011-06-08 00:00:00'),\n",
       " Timestamp('2011-08-02 00:00:00'),\n",
       " Timestamp('2011-11-25 00:00:00'),\n",
       " Timestamp('2012-05-18 00:00:00'),\n",
       " Timestamp('2012-10-19 00:00:00'),\n",
       " Timestamp('2014-04-07 00:00:00'),\n",
       " Timestamp('2014-10-13 00:00:00'),\n",
       " Timestamp('2015-07-08 00:00:00'),\n",
       " Timestamp('2015-08-25 00:00:00'),\n",
       " Timestamp('2016-01-11 00:00:00'),\n",
       " Timestamp('2016-06-27 00:00:00'),\n",
       " Timestamp('2016-11-04 00:00:00'),\n",
       " Timestamp('2018-02-08 00:00:00'),\n",
       " Timestamp('2018-03-23 00:00:00'),\n",
       " Timestamp('2018-10-11 00:00:00'),\n",
       " Timestamp('2019-05-29 00:00:00'),\n",
       " Timestamp('2019-08-05 00:00:00'),\n",
       " Timestamp('2020-02-25 00:00:00'),\n",
       " Timestamp('2021-05-12 00:00:00'),\n",
       " Timestamp('2021-09-30 00:00:00'),\n",
       " Timestamp('2022-01-21 00:00:00'),\n",
       " Timestamp('2022-04-22 00:00:00'),\n",
       " Timestamp('2022-09-06 00:00:00')]"
      ]
     },
     "execution_count": 12,
     "metadata": {},
     "output_type": "execute_result"
    }
   ],
   "source": [
    "buy_date= [incom for incom in buy_date if str(incom) != 'nan']\n",
    "buy_date"
   ]
  },
  {
   "cell_type": "code",
   "execution_count": 13,
   "id": "b089ce10",
   "metadata": {},
   "outputs": [
    {
     "data": {
      "text/plain": [
       "DatetimeIndex(['2010-01-25', '2010-01-26', '2010-01-27', '2010-01-28',\n",
       "               '2010-01-29', '2010-02-01', '2010-02-02', '2010-02-03',\n",
       "               '2010-02-04', '2010-02-05', '2010-02-08', '2010-02-09',\n",
       "               '2010-02-10', '2010-02-11', '2010-02-12', '2010-02-16',\n",
       "               '2010-02-17', '2010-02-18', '2010-02-19', '2010-02-22',\n",
       "               '2010-02-23', '2010-02-24', '2010-02-25', '2010-02-26',\n",
       "               '2010-03-01', '2010-03-02', '2010-03-03', '2010-03-04',\n",
       "               '2010-03-05', '2010-03-08', '2010-03-09', '2010-03-10',\n",
       "               '2010-03-11'],\n",
       "              dtype='datetime64[ns]', name='Date', freq=None)"
      ]
     },
     "execution_count": 13,
     "metadata": {},
     "output_type": "execute_result"
    }
   ],
   "source": [
    "mask = (intc.index > '2010-01-22 ') & (intc.index <= '2010-03-11')\n",
    "intc.loc[mask].index"
   ]
  },
  {
   "cell_type": "code",
   "execution_count": 14,
   "id": "d61a6395",
   "metadata": {},
   "outputs": [
    {
     "data": {
      "text/plain": [
       "DatetimeIndex(['2011-03-17', '2011-03-18', '2011-03-21', '2011-03-22',\n",
       "               '2011-03-23', '2011-03-24', '2011-03-25', '2011-03-28',\n",
       "               '2011-03-29', '2011-03-30', '2011-03-31', '2011-04-01',\n",
       "               '2011-04-04', '2011-04-05', '2011-04-06', '2011-04-07',\n",
       "               '2011-04-08', '2011-04-11', '2011-04-12', '2011-04-13',\n",
       "               '2011-04-14', '2011-04-15', '2011-04-18', '2011-04-19',\n",
       "               '2011-04-20', '2011-04-21', '2011-04-25', '2011-04-26',\n",
       "               '2011-04-27', '2011-04-28', '2011-04-29'],\n",
       "              dtype='datetime64[ns]', name='Date', freq=None)"
      ]
     },
     "execution_count": 14,
     "metadata": {},
     "output_type": "execute_result"
    }
   ],
   "source": [
    "mask1 = (intc.index > '2011-03-16') & (intc.index <= '2011-04-29')\n",
    "intc.loc[mask1].index"
   ]
  },
  {
   "cell_type": "code",
   "execution_count": 15,
   "id": "a367ab63",
   "metadata": {},
   "outputs": [
    {
     "name": "stdout",
     "output_type": "stream",
     "text": [
      "[*********************100%***********************]  1 of 1 completed\n"
     ]
    },
    {
     "data": {
      "image/png": "[encoded data removed]",
      "text/plain": [
       "<Figure size 640x480 with 1 Axes>"
      ]
     },
     "metadata": {},
     "output_type": "display_data"
    }
   ],
   "source": [
    "tickered =yf.download(\"^IXIC\",\"2010-01-01\" ,\"2023-05-01\")\n",
    "def bollinger_bands(df, n):\n",
    "    data = df['Close']\n",
    "    B_MA = pd.Series((data.rolling(n, min_periods=n).mean()), name='B_MA')\n",
    "    sigma = data.rolling(n, min_periods=n).std() \n",
    "    BU = pd.Series((B_MA + 2 * sigma), name='BU')\n",
    "    BL = pd.Series((B_MA - 2* sigma), name='BL')\n",
    "    df['bbl'] = df.index.map(BL)\n",
    "    df['bbh'] = df.index.map(BU)\n",
    "    df[\"B_MA\"] =df.index.map(B_MA)\n",
    "    return df\n",
    "t = bollinger_bands(tickered,20)\n",
    "plt.plot(t['bbl'])\n",
    "plt.plot(t['bbh'])\n",
    "plt.plot(t['Close'])\n",
    "plt.show()"
   ]
  },
  {
   "cell_type": "code",
   "execution_count": 16,
   "id": "23243c10",
   "metadata": {},
   "outputs": [
    {
     "data": {
      "text/plain": [
       "[Timestamp('2010-05-07 00:00:00'),\n",
       " Timestamp('2011-03-16 00:00:00'),\n",
       " Timestamp('2011-08-02 00:00:00'),\n",
       " Timestamp('2012-04-10 00:00:00'),\n",
       " Timestamp('2012-10-19 00:00:00'),\n",
       " Timestamp('2013-04-05 00:00:00'),\n",
       " Timestamp('2013-04-18 00:00:00'),\n",
       " Timestamp('2013-10-09 00:00:00'),\n",
       " Timestamp('2014-01-29 00:00:00'),\n",
       " Timestamp('2014-08-01 00:00:00'),\n",
       " Timestamp('2014-12-16 00:00:00'),\n",
       " Timestamp('2015-06-29 00:00:00'),\n",
       " Timestamp('2016-04-29 00:00:00'),\n",
       " Timestamp('2016-09-09 00:00:00'),\n",
       " Timestamp('2016-11-04 00:00:00'),\n",
       " Timestamp('2017-03-21 00:00:00'),\n",
       " Timestamp('2017-08-10 00:00:00'),\n",
       " Timestamp('2018-02-05 00:00:00'),\n",
       " Timestamp('2018-06-27 00:00:00'),\n",
       " Timestamp('2018-10-08 00:00:00'),\n",
       " Timestamp('2019-05-13 00:00:00'),\n",
       " Timestamp('2020-02-25 00:00:00'),\n",
       " Timestamp('2020-10-30 00:00:00'),\n",
       " Timestamp('2021-03-04 00:00:00'),\n",
       " Timestamp('2021-09-20 00:00:00'),\n",
       " Timestamp('2022-09-26 00:00:00')]"
      ]
     },
     "execution_count": 16,
     "metadata": {},
     "output_type": "execute_result"
    }
   ],
   "source": [
    "def implement_bb_strategy(prices, bb_upper, bb_lower):\n",
    "    buy_date = []\n",
    "    sell_date = []\n",
    "    bb_signal = []\n",
    "    signal = 0\n",
    "    \n",
    "    for i in range(len(prices)):\n",
    "        if prices[i] < bb_lower[i] and prices[i+1] > prices[i]:\n",
    "            if signal != 1:\n",
    "                buy_date.append(prices.index[i])\n",
    "                sell_date.append(np.nan)\n",
    "                signal = 1\n",
    "                bb_signal.append(signal)\n",
    "            else:\n",
    "                buy_date.append(np.nan)\n",
    "                sell_date.append(np.nan)\n",
    "                bb_signal.append(0)\n",
    "        elif prices[i] > bb_upper[i] and prices[i+1] < prices[i]:\n",
    "            if signal != -1:\n",
    "                buy_date.append(np.nan)\n",
    "                sell_date.append(prices.index[i])\n",
    "                signal = -1\n",
    "                bb_signal.append(signal)\n",
    "            else:\n",
    "                buy_date.append(np.nan)\n",
    "                sell_date.append(np.nan)\n",
    "                bb_signal.append(0)\n",
    "        else:\n",
    "            buy_date.append(np.nan)\n",
    "            sell_date.append(np.nan)\n",
    "            bb_signal.append(0)\n",
    "            \n",
    "    return buy_date, sell_date, bb_signal\n",
    "\n",
    "buy_date, sell_date, bb_signal = implement_bb_strategy(t['Close'], t['bbh'], t['bbl'])\n",
    "buy_date= [incom for incom in buy_date if str(incom) != 'nan']\n",
    "buy_date"
   ]
  },
  {
   "cell_type": "code",
   "execution_count": 17,
   "id": "b5d131a4",
   "metadata": {},
   "outputs": [
    {
     "data": {
      "text/plain": [
       "[Timestamp('2010-04-15 00:00:00'),\n",
       " Timestamp('2010-10-13 00:00:00'),\n",
       " Timestamp('2011-07-07 00:00:00'),\n",
       " Timestamp('2012-01-19 00:00:00'),\n",
       " Timestamp('2012-08-07 00:00:00'),\n",
       " Timestamp('2012-12-18 00:00:00'),\n",
       " Timestamp('2013-04-11 00:00:00'),\n",
       " Timestamp('2013-09-10 00:00:00'),\n",
       " Timestamp('2013-11-15 00:00:00'),\n",
       " Timestamp('2014-05-27 00:00:00'),\n",
       " Timestamp('2014-11-28 00:00:00'),\n",
       " Timestamp('2015-04-24 00:00:00'),\n",
       " Timestamp('2016-04-01 00:00:00'),\n",
       " Timestamp('2016-09-07 00:00:00'),\n",
       " Timestamp('2016-09-22 00:00:00'),\n",
       " Timestamp('2017-01-11 00:00:00'),\n",
       " Timestamp('2017-04-25 00:00:00'),\n",
       " Timestamp('2017-10-06 00:00:00'),\n",
       " Timestamp('2018-05-10 00:00:00'),\n",
       " Timestamp('2018-08-29 00:00:00'),\n",
       " Timestamp('2019-02-05 00:00:00'),\n",
       " Timestamp('2019-11-27 00:00:00'),\n",
       " Timestamp('2020-04-14 00:00:00'),\n",
       " Timestamp('2021-01-08 00:00:00'),\n",
       " Timestamp('2021-08-30 00:00:00'),\n",
       " Timestamp('2022-07-21 00:00:00'),\n",
       " Timestamp('2023-01-23 00:00:00')]"
      ]
     },
     "execution_count": 17,
     "metadata": {},
     "output_type": "execute_result"
    }
   ],
   "source": [
    "sell_date= [incom for incom in sell_date if str(incom) != 'nan']\n",
    "sell_date"
   ]
  },
  {
   "cell_type": "code",
   "execution_count": 18,
   "id": "05e8a96d",
   "metadata": {},
   "outputs": [
    {
     "name": "stdout",
     "output_type": "stream",
     "text": [
      "[*********************100%***********************]  1 of 1 completed\n",
      "[*********************100%***********************]  1 of 1 completed\n"
     ]
    }
   ],
   "source": [
    "Indices=pd.DataFrame(index=[\"Cumulative Returns\",\"Volatility\",\"Sharpe ratio\",\"Sortino ratio\",\"MDD\",\"MACD\"],columns=['^IXIC','^NSEI'])\n",
    "for stock in Indices.columns:\n",
    "    stok=yf.download(stock,start=\"2010-01-01\",end=\"2023-05-01\")\n",
    "    \n",
    "    closing_price=stok[\"Close\"]\n",
    "    opening_price=stok[\"Open\"]\n",
    "    daily_returns=(closing_price-opening_price)/closing_price\n",
    "\n",
    "    final_price=stok.iloc[-1][\"Close\"]\n",
    "    original_price=stok.iloc[0][\"Open\"]\n",
    "\n",
    "    cumulative=(final_price-original_price)/original_price\n",
    "    Indices.at[\"Cumulative Returns\",stock]=cumulative\n",
    "    rfrate = 0.0525\n",
    "    std=daily_returns.std()\n",
    "    time_period=stok.shape[0]\n",
    "    volatility=std*sqrt(time_period)\n",
    "    Indices.at[\"Volatility\",stock]=volatility\n",
    "\n",
    "    excess=daily_returns-rfrate\n",
    "    sharpe=excess.mean()/excess.std()\n",
    "\n",
    "    Indices.at[\"Sharpe ratio\",stock]=sharpe\n",
    "    \n",
    "    negative_returns=daily_returns[daily_returns<0]\n",
    "    sortino=excess.mean()/negative_returns.std()\n",
    "\n",
    "    Indices.at[\"Sortino ratio\",stock]=sortino\n",
    "\n",
    "    peak=closing_price.max()\n",
    "    index=list(np.where(closing_price==peak))\n",
    "    index=index[0][0]\n",
    "\n",
    "    indices=closing_price.index\n",
    "    peak_day=indices[index]\n",
    "\n",
    "    peak_day=peak_day.strftime(\"%Y-%m-%d\")\n",
    "\n",
    "    stck_later=stok.loc[peak_day:\"2023-04-26\",:]\n",
    "    minimum=stck_later[\"Close\"].min()\n",
    "    Mdd=(minimum-peak)/peak*100\n",
    "\n",
    "    Indices.at[\"MDD\",stock]=Mdd"
   ]
  },
  {
   "cell_type": "code",
   "execution_count": 19,
   "id": "7a0557cd",
   "metadata": {},
   "outputs": [
    {
     "data": {
      "text/html": [
       "<div>\n",
       "<style scoped>\n",
       "    .dataframe tbody tr th:only-of-type {\n",
       "        vertical-align: middle;\n",
       "    }\n",
       "\n",
       "    .dataframe tbody tr th {\n",
       "        vertical-align: top;\n",
       "    }\n",
       "\n",
       "    .dataframe thead th {\n",
       "        text-align: right;\n",
       "    }\n",
       "</style>\n",
       "<table border=\"1\" class=\"dataframe\">\n",
       "  <thead>\n",
       "    <tr style=\"text-align: right;\">\n",
       "      <th></th>\n",
       "      <th>^IXIC</th>\n",
       "      <th>^NSEI</th>\n",
       "    </tr>\n",
       "  </thead>\n",
       "  <tbody>\n",
       "    <tr>\n",
       "      <th>Cumulative Returns</th>\n",
       "      <td>4.328856</td>\n",
       "      <td>2.473437</td>\n",
       "    </tr>\n",
       "    <tr>\n",
       "      <th>Volatility</th>\n",
       "      <td>0.586643</td>\n",
       "      <td>0.523497</td>\n",
       "    </tr>\n",
       "    <tr>\n",
       "      <th>Sharpe ratio</th>\n",
       "      <td>-5.167094</td>\n",
       "      <td>-5.81691</td>\n",
       "    </tr>\n",
       "    <tr>\n",
       "      <th>Sortino ratio</th>\n",
       "      <td>-6.616088</td>\n",
       "      <td>-8.039478</td>\n",
       "    </tr>\n",
       "    <tr>\n",
       "      <th>MDD</th>\n",
       "      <td>-36.39528</td>\n",
       "      <td>-9.92664</td>\n",
       "    </tr>\n",
       "    <tr>\n",
       "      <th>MACD</th>\n",
       "      <td>NaN</td>\n",
       "      <td>NaN</td>\n",
       "    </tr>\n",
       "  </tbody>\n",
       "</table>\n",
       "</div>"
      ],
      "text/plain": [
       "                       ^IXIC     ^NSEI\n",
       "Cumulative Returns  4.328856  2.473437\n",
       "Volatility          0.586643  0.523497\n",
       "Sharpe ratio       -5.167094  -5.81691\n",
       "Sortino ratio      -6.616088 -8.039478\n",
       "MDD                -36.39528  -9.92664\n",
       "MACD                     NaN       NaN"
      ]
     },
     "execution_count": 19,
     "metadata": {},
     "output_type": "execute_result"
    }
   ],
   "source": [
    "Indices"
   ]
  },
  {
   "cell_type": "code",
   "execution_count": null,
   "id": "b048899a",
   "metadata": {},
   "outputs": [],
   "source": []
  }
 ],
 "metadata": {
  "kernelspec": {
   "display_name": "Python 3 (ipykernel)",
   "language": "python",
   "name": "python3"
  },
  "language_info": {
   "codemirror_mode": {
    "name": "ipython",
    "version": 3
   },
   "file_extension": ".py",
   "mimetype": "text/x-python",
   "name": "python",
   "nbconvert_exporter": "python",
   "pygments_lexer": "ipython3",
   "version": "3.11.3"
  }
 },
 "nbformat": 4,
 "nbformat_minor": 5
}
