{
 "cells": [
  {
   "cell_type": "code",
   "execution_count": 52,
   "id": "a042e0f0",
   "metadata": {},
   "outputs": [],
   "source": [
    "import yfinance as yf\n",
    "import pandas as pd\n",
    "import numpy as np\n",
    "import matplotlib.pyplot as plt"
   ]
  },
  {
   "cell_type": "code",
   "execution_count": 53,
   "id": "4b45e2f4",
   "metadata": {},
   "outputs": [
    {
     "name": "stdout",
     "output_type": "stream",
     "text": [
      "[*********************100%***********************]  10 of 10 completed\n"
     ]
    }
   ],
   "source": [
    "ticker = [\"AAPL\",\"005930.KS\",\"NFLX\",\"AMZN\",\"GOOGL\",\"^GSPC\", \"^FTSE\", \"^N225\", \"^GDAXI\", \"000001.SS\"]\n",
    "equity_index = yf.download(ticker,start=\"2010-01-01\",end=\"2023-05-01\")"
   ]
  },
  {
   "cell_type": "code",
   "execution_count": 54,
   "id": "b96aea65",
   "metadata": {},
   "outputs": [],
   "source": [
    "adj_close = equity_index.loc[:,\"Adj Close\"].copy()"
   ]
  },
  {
   "cell_type": "markdown",
   "id": "f82bba84",
   "metadata": {},
   "source": [
    "Daily Returns:"
   ]
  },
  {
   "cell_type": "code",
   "execution_count": 55,
   "id": "647e27fb",
   "metadata": {},
   "outputs": [],
   "source": [
    "daily_ret = adj_close.pct_change()"
   ]
  },
  {
   "cell_type": "markdown",
   "id": "61824929",
   "metadata": {},
   "source": [
    "Volatility:\n"
   ]
  },
  {
   "cell_type": "code",
   "execution_count": 56,
   "id": "e4b88ed2",
   "metadata": {},
   "outputs": [
    {
     "data": {
      "text/plain": [
       "000001.SS    0.198477\n",
       "005930.KS    0.260644\n",
       "AAPL         0.281276\n",
       "AMZN         0.326308\n",
       "GOOGL        0.268456\n",
       "NFLX         0.508762\n",
       "^FTSE        0.160058\n",
       "^GDAXI       0.200038\n",
       "^GSPC        0.174666\n",
       "^N225        0.201934\n",
       "dtype: float64"
      ]
     },
     "execution_count": 56,
     "metadata": {},
     "output_type": "execute_result"
    }
   ],
   "source": [
    "volatility = daily_ret.std()*np.sqrt(252)\n",
    "volatility"
   ]
  },
  {
   "cell_type": "markdown",
   "id": "e9831431",
   "metadata": {},
   "source": [
    "Cumulative Returns:"
   ]
  },
  {
   "cell_type": "code",
   "execution_count": 57,
   "id": "a5022a86",
   "metadata": {},
   "outputs": [
    {
     "data": {
      "text/html": [
       "<div>\n",
       "<style scoped>\n",
       "    .dataframe tbody tr th:only-of-type {\n",
       "        vertical-align: middle;\n",
       "    }\n",
       "\n",
       "    .dataframe tbody tr th {\n",
       "        vertical-align: top;\n",
       "    }\n",
       "\n",
       "    .dataframe thead th {\n",
       "        text-align: right;\n",
       "    }\n",
       "</style>\n",
       "<table border=\"1\" class=\"dataframe\">\n",
       "  <thead>\n",
       "    <tr style=\"text-align: right;\">\n",
       "      <th></th>\n",
       "      <th>000001.SS</th>\n",
       "      <th>005930.KS</th>\n",
       "      <th>AAPL</th>\n",
       "      <th>AMZN</th>\n",
       "      <th>GOOGL</th>\n",
       "      <th>NFLX</th>\n",
       "      <th>^FTSE</th>\n",
       "      <th>^GDAXI</th>\n",
       "      <th>^GSPC</th>\n",
       "      <th>^N225</th>\n",
       "    </tr>\n",
       "    <tr>\n",
       "      <th>Date</th>\n",
       "      <th></th>\n",
       "      <th></th>\n",
       "      <th></th>\n",
       "      <th></th>\n",
       "      <th></th>\n",
       "      <th></th>\n",
       "      <th></th>\n",
       "      <th></th>\n",
       "      <th></th>\n",
       "      <th></th>\n",
       "    </tr>\n",
       "  </thead>\n",
       "  <tbody>\n",
       "    <tr>\n",
       "      <th>2023-04-28</th>\n",
       "      <td>1.024512</td>\n",
       "      <td>5.210194</td>\n",
       "      <td>26.083426</td>\n",
       "      <td>15.750559</td>\n",
       "      <td>6.843728</td>\n",
       "      <td>43.184555</td>\n",
       "      <td>1.43094</td>\n",
       "      <td>2.632538</td>\n",
       "      <td>3.680068</td>\n",
       "      <td>2.708307</td>\n",
       "    </tr>\n",
       "  </tbody>\n",
       "</table>\n",
       "</div>"
      ],
      "text/plain": [
       "            000001.SS  005930.KS       AAPL       AMZN     GOOGL       NFLX  \\\n",
       "Date                                                                          \n",
       "2023-04-28   1.024512   5.210194  26.083426  15.750559  6.843728  43.184555   \n",
       "\n",
       "              ^FTSE    ^GDAXI     ^GSPC     ^N225  \n",
       "Date                                               \n",
       "2023-04-28  1.43094  2.632538  3.680068  2.708307  "
      ]
     },
     "execution_count": 57,
     "metadata": {},
     "output_type": "execute_result"
    }
   ],
   "source": [
    "cum_ret = (1+daily_ret).cumprod().dropna()\n",
    "cum_ret = cum_ret.tail(1)\n",
    "cum_ret"
   ]
  },
  {
   "cell_type": "markdown",
   "id": "e906c85b",
   "metadata": {},
   "source": [
    "Maximum Drawdown"
   ]
  },
  {
   "cell_type": "code",
   "execution_count": 58,
   "id": "bdf82f21",
   "metadata": {},
   "outputs": [
    {
     "data": {
      "text/plain": [
       "000001.SS   -0.522997\n",
       "005930.KS   -0.401366\n",
       "AAPL        -0.437972\n",
       "AMZN        -0.561453\n",
       "GOOGL       -0.443201\n",
       "NFLX        -0.819904\n",
       "^FTSE       -0.366055\n",
       "^GDAXI      -0.387794\n",
       "^GSPC       -0.339250\n",
       "^N225       -0.317989\n",
       "dtype: float64"
      ]
     },
     "execution_count": 58,
     "metadata": {},
     "output_type": "execute_result"
    }
   ],
   "source": [
    "peak_value = adj_close.cummax()\n",
    "drawdown = (adj_close-peak_value)/peak_value\n",
    "max_drawdown = drawdown.min()\n",
    "max_drawdown"
   ]
  },
  {
   "cell_type": "markdown",
   "id": "99dc1123",
   "metadata": {},
   "source": [
    "Sharpe Ratio:"
   ]
  },
  {
   "cell_type": "code",
   "execution_count": 63,
   "id": "f530c866",
   "metadata": {},
   "outputs": [
    {
     "data": {
      "text/plain": [
       "000001.SS    0.108779\n",
       "005930.KS    0.590516\n",
       "AAPL         0.984107\n",
       "AMZN         0.777131\n",
       "GOOGL        0.654691\n",
       "NFLX         0.793990\n",
       "^FTSE        0.243089\n",
       "^GDAXI       0.452147\n",
       "^GSPC        0.630123\n",
       "^N225        0.459978\n",
       "dtype: float64"
      ]
     },
     "execution_count": 63,
     "metadata": {},
     "output_type": "execute_result"
    }
   ],
   "source": [
    "rfr = 0.0 # risk free rate\n",
    "excess_ret = daily_ret - rfr\n",
    "sharpe_ratio = (excess_ret.mean()/excess_ret.std())*np.sqrt(252)\n",
    "sharpe_ratio"
   ]
  },
  {
   "cell_type": "markdown",
   "id": "4dd87a84",
   "metadata": {},
   "source": [
    "Sortino Ratio:"
   ]
  },
  {
   "cell_type": "code",
   "execution_count": 64,
   "id": "92a7dacd",
   "metadata": {},
   "outputs": [
    {
     "data": {
      "text/plain": [
       "000001.SS    0.163036\n",
       "005930.KS    1.028509\n",
       "AAPL         1.636365\n",
       "AMZN         1.311423\n",
       "GOOGL        1.090756\n",
       "NFLX         1.342451\n",
       "^FTSE        0.377028\n",
       "^GDAXI       0.713197\n",
       "^GSPC        0.970100\n",
       "^N225        0.733404\n",
       "dtype: float64"
      ]
     },
     "execution_count": 64,
     "metadata": {},
     "output_type": "execute_result"
    }
   ],
   "source": [
    "downside_ret = daily_ret.where(daily_ret<0,0)\n",
    "SD = downside_ret.std()\n",
    "sortino_ratio = (excess_ret.mean()/SD)*np.sqrt(252)\n",
    "sortino_ratio"
   ]
  },
  {
   "cell_type": "code",
   "execution_count": null,
   "id": "d13e3374",
   "metadata": {},
   "outputs": [],
   "source": []
  }
 ],
 "metadata": {
  "kernelspec": {
   "display_name": "Python 3 (ipykernel)",
   "language": "python",
   "name": "python3"
  },
  "language_info": {
   "codemirror_mode": {
    "name": "ipython",
    "version": 3
   },
   "file_extension": ".py",
   "mimetype": "text/x-python",
   "name": "python",
   "nbconvert_exporter": "python",
   "pygments_lexer": "ipython3",
   "version": "3.10.9"
  }
 },
 "nbformat": 4,
 "nbformat_minor": 5
}
