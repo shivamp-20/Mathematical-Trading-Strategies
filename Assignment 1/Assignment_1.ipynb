{
 "cells": [
  {
   "cell_type": "code",
   "execution_count": 2,
   "id": "211cbc9c",
   "metadata": {},
   "outputs": [],
   "source": [
    "import yfinance as yf\n",
    "import pandas as pd\n",
    "import numpy as np\n",
    "\n"
   ]
  },
  {
   "cell_type": "code",
   "execution_count": 20,
   "id": "21aac2c6",
   "metadata": {},
   "outputs": [],
   "source": [
    "indices = ['^NIFTY 50', '^IXIC', '^DJI', '^VIX', '^N225']\n",
    "equities = ['DIS', 'TSLA', 'MSFT', 'AVB', 'JNJ']\n"
   ]
  },
  {
   "cell_type": "code",
   "execution_count": null,
   "id": "f31dde4c",
   "metadata": {},
   "outputs": [],
   "source": []
  },
  {
   "cell_type": "code",
   "execution_count": 21,
   "id": "935629aa",
   "metadata": {},
   "outputs": [
    {
     "name": "stdout",
     "output_type": "stream",
     "text": [
      "[*********************100%***********************]  10 of 10 completed\n",
      "\n",
      "1 Failed download:\n",
      "- ^NIFTY 50: No timezone found, symbol may be delisted\n"
     ]
    }
   ],
   "source": [
    "start_date = '2010-01-01'\n",
    "\n",
    "data = yf.download(indices + equities, start=start_date)['Adj Close']"
   ]
  },
  {
   "cell_type": "code",
   "execution_count": 22,
   "id": "2e47dc78",
   "metadata": {},
   "outputs": [],
   "source": [
    "returns = data.pct_change().dropna()"
   ]
  },
  {
   "cell_type": "code",
   "execution_count": 23,
   "id": "824fb404",
   "metadata": {},
   "outputs": [],
   "source": [
    "cumulative_returns = (1 + returns).cumprod()\n"
   ]
  },
  {
   "cell_type": "code",
   "execution_count": 24,
   "id": "df8cd917",
   "metadata": {},
   "outputs": [],
   "source": [
    "rolling_max = cumulative_returns.expanding().max()\n",
    "drawdown = cumulative_returns / rolling_max - 1\n",
    "max_drawdown = drawdown.min()"
   ]
  },
  {
   "cell_type": "code",
   "execution_count": 25,
   "id": "35efa037",
   "metadata": {},
   "outputs": [],
   "source": [
    "risk_free_rate = 0.0 \n",
    "daily_risk = returns.std()\n",
    "sharpe_ratio = (returns.mean() - risk_free_rate) / daily_risk"
   ]
  },
  {
   "cell_type": "code",
   "execution_count": 26,
   "id": "7e631e21",
   "metadata": {},
   "outputs": [],
   "source": [
    "downside_returns = returns[returns < 0]\n",
    "downside_risk = downside_returns.std()\n",
    "sortino_ratio = (returns.mean() - risk_free_rate) / downside_risk"
   ]
  },
  {
   "cell_type": "code",
   "execution_count": 27,
   "id": "d383d95e",
   "metadata": {},
   "outputs": [],
   "source": [
    "volatility = returns.std(axis=0)"
   ]
  },
  {
   "cell_type": "code",
   "execution_count": 28,
   "id": "8ba7d9ed",
   "metadata": {},
   "outputs": [],
   "source": [
    "results = pd.DataFrame({\n",
    "    'Max Drawdown': max_drawdown,\n",
    "    'Sharpe Ratio': sharpe_ratio,\n",
    "    'Sortino Ratio': sortino_ratio\n",
    "})"
   ]
  },
  {
   "cell_type": "code",
   "execution_count": 30,
   "id": "8d366bc4",
   "metadata": {},
   "outputs": [],
   "source": [
    "results.to_csv('assignment_1.csv')"
   ]
  },
  {
   "cell_type": "code",
   "execution_count": null,
   "id": "dca971ce",
   "metadata": {},
   "outputs": [],
   "source": []
  },
  {
   "cell_type": "code",
   "execution_count": null,
   "id": "543344f8",
   "metadata": {},
   "outputs": [],
   "source": []
  },
  {
   "cell_type": "code",
   "execution_count": null,
   "id": "6631d876",
   "metadata": {},
   "outputs": [],
   "source": []
  }
 ],
 "metadata": {
  "kernelspec": {
   "display_name": "Python 3",
   "language": "python",
   "name": "python3"
  },
  "language_info": {
   "codemirror_mode": {
    "name": "ipython",
    "version": 3
   },
   "file_extension": ".py",
   "mimetype": "text/x-python",
   "name": "python",
   "nbconvert_exporter": "python",
   "pygments_lexer": "ipython3",
   "version": "3.11.1 (v3.11.1:a7a450f84a, Dec  6 2022, 15:24:06) [Clang 13.0.0 (clang-1300.0.29.30)]"
  },
  "vscode": {
   "interpreter": {
    "hash": "aee8b7b246df8f9039afb4144a1f6fd8d2ca17a180786b69acc140d282b71a49"
   }
  }
 },
 "nbformat": 4,
 "nbformat_minor": 5
}
