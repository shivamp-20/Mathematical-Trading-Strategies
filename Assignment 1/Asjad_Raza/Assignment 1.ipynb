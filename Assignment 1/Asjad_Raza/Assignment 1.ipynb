{
 "cells": [
  {
   "cell_type": "code",
   "execution_count": 3,
   "id": "f1615f61",
   "metadata": {},
   "outputs": [
    {
     "name": "stdout",
     "output_type": "stream",
     "text": [
      "Collecting yfinance"
     ]
    },
    {
     "name": "stderr",
     "output_type": "stream",
     "text": [
      "ERROR: pip's dependency resolver does not currently take into account all the packages that are installed. This behaviour is the source of the following dependency conflicts.\n",
      "conda-repo-cli 1.0.4 requires pathlib, which is not installed.\n"
     ]
    },
    {
     "name": "stdout",
     "output_type": "stream",
     "text": [
      "\n",
      "  Using cached yfinance-0.2.18-py2.py3-none-any.whl (60 kB)\n",
      "Collecting multitasking>=0.0.7\n",
      "  Using cached multitasking-0.0.11-py3-none-any.whl (8.5 kB)\n",
      "Requirement already satisfied: beautifulsoup4>=4.11.1 in c:\\users\\asjasdraza13\\anaconda3\\lib\\site-packages (from yfinance) (4.11.1)\n",
      "Requirement already satisfied: pandas>=1.3.0 in c:\\users\\asjasdraza13\\anaconda3\\lib\\site-packages (from yfinance) (1.4.2)\n",
      "Requirement already satisfied: cryptography>=3.3.2 in c:\\users\\asjasdraza13\\anaconda3\\lib\\site-packages (from yfinance) (3.4.8)\n",
      "Requirement already satisfied: appdirs>=1.4.4 in c:\\users\\asjasdraza13\\anaconda3\\lib\\site-packages (from yfinance) (1.4.4)\n",
      "Requirement already satisfied: requests>=2.26 in c:\\users\\asjasdraza13\\anaconda3\\lib\\site-packages (from yfinance) (2.27.1)\n",
      "Collecting frozendict>=2.3.4\n",
      "  Downloading frozendict-2.3.8-cp39-cp39-win_amd64.whl (35 kB)\n",
      "Collecting lxml>=4.9.1\n",
      "  Downloading lxml-4.9.2-cp39-cp39-win_amd64.whl (3.9 MB)\n",
      "Collecting html5lib>=1.1\n",
      "  Using cached html5lib-1.1-py2.py3-none-any.whl (112 kB)\n",
      "Collecting pytz>=2022.5\n",
      "  Downloading pytz-2023.3-py2.py3-none-any.whl (502 kB)\n",
      "Requirement already satisfied: numpy>=1.16.5 in c:\\users\\asjasdraza13\\anaconda3\\lib\\site-packages (from yfinance) (1.21.5)\n",
      "Requirement already satisfied: soupsieve>1.2 in c:\\users\\asjasdraza13\\anaconda3\\lib\\site-packages (from beautifulsoup4>=4.11.1->yfinance) (2.3.1)\n",
      "Requirement already satisfied: cffi>=1.12 in c:\\users\\asjasdraza13\\anaconda3\\lib\\site-packages (from cryptography>=3.3.2->yfinance) (1.15.0)\n",
      "Requirement already satisfied: pycparser in c:\\users\\asjasdraza13\\anaconda3\\lib\\site-packages (from cffi>=1.12->cryptography>=3.3.2->yfinance) (2.21)\n",
      "Requirement already satisfied: six>=1.9 in c:\\users\\asjasdraza13\\anaconda3\\lib\\site-packages (from html5lib>=1.1->yfinance) (1.16.0)\n",
      "Requirement already satisfied: webencodings in c:\\users\\asjasdraza13\\anaconda3\\lib\\site-packages (from html5lib>=1.1->yfinance) (0.5.1)\n",
      "Requirement already satisfied: python-dateutil>=2.8.1 in c:\\users\\asjasdraza13\\anaconda3\\lib\\site-packages (from pandas>=1.3.0->yfinance) (2.8.2)\n",
      "Requirement already satisfied: urllib3<1.27,>=1.21.1 in c:\\users\\asjasdraza13\\anaconda3\\lib\\site-packages (from requests>=2.26->yfinance) (1.26.9)\n",
      "Requirement already satisfied: certifi>=2017.4.17 in c:\\users\\asjasdraza13\\anaconda3\\lib\\site-packages (from requests>=2.26->yfinance) (2021.10.8)\n",
      "Requirement already satisfied: idna<4,>=2.5 in c:\\users\\asjasdraza13\\anaconda3\\lib\\site-packages (from requests>=2.26->yfinance) (3.3)\n",
      "Requirement already satisfied: charset-normalizer~=2.0.0 in c:\\users\\asjasdraza13\\anaconda3\\lib\\site-packages (from requests>=2.26->yfinance) (2.0.4)\n",
      "Installing collected packages: pytz, multitasking, lxml, html5lib, frozendict, yfinance\n",
      "  Attempting uninstall: pytz\n",
      "    Found existing installation: pytz 2021.3\n",
      "    Uninstalling pytz-2021.3:\n",
      "      Successfully uninstalled pytz-2021.3\n",
      "  Attempting uninstall: lxml\n",
      "    Found existing installation: lxml 4.8.0\n",
      "    Uninstalling lxml-4.8.0:\n",
      "      Successfully uninstalled lxml-4.8.0\n",
      "Successfully installed frozendict-2.3.8 html5lib-1.1 lxml-4.9.2 multitasking-0.0.11 pytz-2023.3 yfinance-0.2.18\n"
     ]
    }
   ],
   "source": [
    "!pip install yfinance"
   ]
  },
  {
   "cell_type": "code",
   "execution_count": 21,
   "id": "65134857",
   "metadata": {},
   "outputs": [],
   "source": [
    "import pandas as pd\n",
    "import yfinance as yf\n",
    "import numpy as np\n",
    "import datetime\n",
    "from datetime import date\n",
    "from math import sqrt"
   ]
  },
  {
   "cell_type": "code",
   "execution_count": 7,
   "id": "74df839c",
   "metadata": {},
   "outputs": [
    {
     "data": {
      "text/html": [
       "<div>\n",
       "<style scoped>\n",
       "    .dataframe tbody tr th:only-of-type {\n",
       "        vertical-align: middle;\n",
       "    }\n",
       "\n",
       "    .dataframe tbody tr th {\n",
       "        vertical-align: top;\n",
       "    }\n",
       "\n",
       "    .dataframe thead th {\n",
       "        text-align: right;\n",
       "    }\n",
       "</style>\n",
       "<table border=\"1\" class=\"dataframe\">\n",
       "  <thead>\n",
       "    <tr style=\"text-align: right;\">\n",
       "      <th></th>\n",
       "      <th>^NZ50</th>\n",
       "      <th>^KS11</th>\n",
       "      <th>^STI</th>\n",
       "      <th>^HSI</th>\n",
       "      <th>^BFX</th>\n",
       "    </tr>\n",
       "  </thead>\n",
       "  <tbody>\n",
       "    <tr>\n",
       "      <th>Cumulative Returns</th>\n",
       "      <td>NaN</td>\n",
       "      <td>NaN</td>\n",
       "      <td>NaN</td>\n",
       "      <td>NaN</td>\n",
       "      <td>NaN</td>\n",
       "    </tr>\n",
       "    <tr>\n",
       "      <th>Volatility</th>\n",
       "      <td>NaN</td>\n",
       "      <td>NaN</td>\n",
       "      <td>NaN</td>\n",
       "      <td>NaN</td>\n",
       "      <td>NaN</td>\n",
       "    </tr>\n",
       "    <tr>\n",
       "      <th>Sharpe ratio</th>\n",
       "      <td>NaN</td>\n",
       "      <td>NaN</td>\n",
       "      <td>NaN</td>\n",
       "      <td>NaN</td>\n",
       "      <td>NaN</td>\n",
       "    </tr>\n",
       "    <tr>\n",
       "      <th>Sortino ratio</th>\n",
       "      <td>NaN</td>\n",
       "      <td>NaN</td>\n",
       "      <td>NaN</td>\n",
       "      <td>NaN</td>\n",
       "      <td>NaN</td>\n",
       "    </tr>\n",
       "    <tr>\n",
       "      <th>MDD</th>\n",
       "      <td>NaN</td>\n",
       "      <td>NaN</td>\n",
       "      <td>NaN</td>\n",
       "      <td>NaN</td>\n",
       "      <td>NaN</td>\n",
       "    </tr>\n",
       "  </tbody>\n",
       "</table>\n",
       "</div>"
      ],
      "text/plain": [
       "                   ^NZ50 ^KS11 ^STI ^HSI ^BFX\n",
       "Cumulative Returns   NaN   NaN  NaN  NaN  NaN\n",
       "Volatility           NaN   NaN  NaN  NaN  NaN\n",
       "Sharpe ratio         NaN   NaN  NaN  NaN  NaN\n",
       "Sortino ratio        NaN   NaN  NaN  NaN  NaN\n",
       "MDD                  NaN   NaN  NaN  NaN  NaN"
      ]
     },
     "execution_count": 7,
     "metadata": {},
     "output_type": "execute_result"
    }
   ],
   "source": [
    "Indices=pd.DataFrame(index=[\"Cumulative Returns\",\"Volatility\",\"Sharpe ratio\",\"Sortino ratio\",\"MDD\"],columns=[\"^NZ50\",\"^KS11\",\"^STI\",\"^HSI\",\"^BFX\"])\n",
    "Indices"
   ]
  },
  {
   "cell_type": "code",
   "execution_count": 8,
   "id": "fe2a6ec7",
   "metadata": {},
   "outputs": [
    {
     "data": {
      "text/html": [
       "<div>\n",
       "<style scoped>\n",
       "    .dataframe tbody tr th:only-of-type {\n",
       "        vertical-align: middle;\n",
       "    }\n",
       "\n",
       "    .dataframe tbody tr th {\n",
       "        vertical-align: top;\n",
       "    }\n",
       "\n",
       "    .dataframe thead th {\n",
       "        text-align: right;\n",
       "    }\n",
       "</style>\n",
       "<table border=\"1\" class=\"dataframe\">\n",
       "  <thead>\n",
       "    <tr style=\"text-align: right;\">\n",
       "      <th></th>\n",
       "      <th>NKE</th>\n",
       "      <th>HD</th>\n",
       "      <th>BA</th>\n",
       "      <th>GOOGL</th>\n",
       "      <th>AMZN</th>\n",
       "    </tr>\n",
       "  </thead>\n",
       "  <tbody>\n",
       "    <tr>\n",
       "      <th>Cumulative Returns</th>\n",
       "      <td>NaN</td>\n",
       "      <td>NaN</td>\n",
       "      <td>NaN</td>\n",
       "      <td>NaN</td>\n",
       "      <td>NaN</td>\n",
       "    </tr>\n",
       "    <tr>\n",
       "      <th>Volatility</th>\n",
       "      <td>NaN</td>\n",
       "      <td>NaN</td>\n",
       "      <td>NaN</td>\n",
       "      <td>NaN</td>\n",
       "      <td>NaN</td>\n",
       "    </tr>\n",
       "    <tr>\n",
       "      <th>Sharpe ratio</th>\n",
       "      <td>NaN</td>\n",
       "      <td>NaN</td>\n",
       "      <td>NaN</td>\n",
       "      <td>NaN</td>\n",
       "      <td>NaN</td>\n",
       "    </tr>\n",
       "    <tr>\n",
       "      <th>Sortino ratio</th>\n",
       "      <td>NaN</td>\n",
       "      <td>NaN</td>\n",
       "      <td>NaN</td>\n",
       "      <td>NaN</td>\n",
       "      <td>NaN</td>\n",
       "    </tr>\n",
       "    <tr>\n",
       "      <th>MDD</th>\n",
       "      <td>NaN</td>\n",
       "      <td>NaN</td>\n",
       "      <td>NaN</td>\n",
       "      <td>NaN</td>\n",
       "      <td>NaN</td>\n",
       "    </tr>\n",
       "  </tbody>\n",
       "</table>\n",
       "</div>"
      ],
      "text/plain": [
       "                    NKE   HD   BA GOOGL AMZN\n",
       "Cumulative Returns  NaN  NaN  NaN   NaN  NaN\n",
       "Volatility          NaN  NaN  NaN   NaN  NaN\n",
       "Sharpe ratio        NaN  NaN  NaN   NaN  NaN\n",
       "Sortino ratio       NaN  NaN  NaN   NaN  NaN\n",
       "MDD                 NaN  NaN  NaN   NaN  NaN"
      ]
     },
     "execution_count": 8,
     "metadata": {},
     "output_type": "execute_result"
    }
   ],
   "source": [
    "Equities=pd.DataFrame(index=[\"Cumulative Returns\",\"Volatility\",\"Sharpe ratio\",\"Sortino ratio\",\"MDD\"],columns=[\"NKE\",\"HD\",\"BA\",\"GOOGL\",\"AMZN\"])\n",
    "Equities"
   ]
  },
  {
   "cell_type": "code",
   "execution_count": 10,
   "id": "61323e9f",
   "metadata": {},
   "outputs": [
    {
     "name": "stdout",
     "output_type": "stream",
     "text": [
      "[*********************100%***********************]  1 of 1 completed\n"
     ]
    }
   ],
   "source": [
    "nz=yf.download(\"^NZ50\",start=\"2010-01-01\",end=\"2023-05-10\")"
   ]
  },
  {
   "cell_type": "code",
   "execution_count": 11,
   "id": "beeb5b88",
   "metadata": {},
   "outputs": [
    {
     "data": {
      "text/html": [
       "<div>\n",
       "<style scoped>\n",
       "    .dataframe tbody tr th:only-of-type {\n",
       "        vertical-align: middle;\n",
       "    }\n",
       "\n",
       "    .dataframe tbody tr th {\n",
       "        vertical-align: top;\n",
       "    }\n",
       "\n",
       "    .dataframe thead th {\n",
       "        text-align: right;\n",
       "    }\n",
       "</style>\n",
       "<table border=\"1\" class=\"dataframe\">\n",
       "  <thead>\n",
       "    <tr style=\"text-align: right;\">\n",
       "      <th></th>\n",
       "      <th>Open</th>\n",
       "      <th>High</th>\n",
       "      <th>Low</th>\n",
       "      <th>Close</th>\n",
       "      <th>Adj Close</th>\n",
       "      <th>Volume</th>\n",
       "    </tr>\n",
       "    <tr>\n",
       "      <th>Date</th>\n",
       "      <th></th>\n",
       "      <th></th>\n",
       "      <th></th>\n",
       "      <th></th>\n",
       "      <th></th>\n",
       "      <th></th>\n",
       "    </tr>\n",
       "  </thead>\n",
       "  <tbody>\n",
       "    <tr>\n",
       "      <th>2010-01-05</th>\n",
       "      <td>3230.149902</td>\n",
       "      <td>3271.290039</td>\n",
       "      <td>3230.149902</td>\n",
       "      <td>3268.189941</td>\n",
       "      <td>3268.189941</td>\n",
       "      <td>15713800</td>\n",
       "    </tr>\n",
       "    <tr>\n",
       "      <th>2010-01-06</th>\n",
       "      <td>3268.189941</td>\n",
       "      <td>3272.139893</td>\n",
       "      <td>3263.459961</td>\n",
       "      <td>3271.570068</td>\n",
       "      <td>3271.570068</td>\n",
       "      <td>17077000</td>\n",
       "    </tr>\n",
       "    <tr>\n",
       "      <th>2010-01-07</th>\n",
       "      <td>3271.570068</td>\n",
       "      <td>3286.610107</td>\n",
       "      <td>3270.810059</td>\n",
       "      <td>3284.810059</td>\n",
       "      <td>3284.810059</td>\n",
       "      <td>47356800</td>\n",
       "    </tr>\n",
       "    <tr>\n",
       "      <th>2010-01-08</th>\n",
       "      <td>3284.810059</td>\n",
       "      <td>3313.179932</td>\n",
       "      <td>3284.810059</td>\n",
       "      <td>3310.229980</td>\n",
       "      <td>3310.229980</td>\n",
       "      <td>19330800</td>\n",
       "    </tr>\n",
       "    <tr>\n",
       "      <th>2010-01-11</th>\n",
       "      <td>3310.229980</td>\n",
       "      <td>3310.229980</td>\n",
       "      <td>3297.790039</td>\n",
       "      <td>3303.750000</td>\n",
       "      <td>3303.750000</td>\n",
       "      <td>28157000</td>\n",
       "    </tr>\n",
       "    <tr>\n",
       "      <th>...</th>\n",
       "      <td>...</td>\n",
       "      <td>...</td>\n",
       "      <td>...</td>\n",
       "      <td>...</td>\n",
       "      <td>...</td>\n",
       "      <td>...</td>\n",
       "    </tr>\n",
       "    <tr>\n",
       "      <th>2023-05-03</th>\n",
       "      <td>12037.809570</td>\n",
       "      <td>12037.809570</td>\n",
       "      <td>11881.230469</td>\n",
       "      <td>11907.990234</td>\n",
       "      <td>11907.990234</td>\n",
       "      <td>17588800</td>\n",
       "    </tr>\n",
       "    <tr>\n",
       "      <th>2023-05-04</th>\n",
       "      <td>11907.990234</td>\n",
       "      <td>11968.549805</td>\n",
       "      <td>11868.849609</td>\n",
       "      <td>11968.549805</td>\n",
       "      <td>11968.549805</td>\n",
       "      <td>16620700</td>\n",
       "    </tr>\n",
       "    <tr>\n",
       "      <th>2023-05-05</th>\n",
       "      <td>11968.549805</td>\n",
       "      <td>11977.959961</td>\n",
       "      <td>11859.129883</td>\n",
       "      <td>11889.009766</td>\n",
       "      <td>11889.009766</td>\n",
       "      <td>22961800</td>\n",
       "    </tr>\n",
       "    <tr>\n",
       "      <th>2023-05-08</th>\n",
       "      <td>11889.009766</td>\n",
       "      <td>11942.490234</td>\n",
       "      <td>11873.089844</td>\n",
       "      <td>11942.490234</td>\n",
       "      <td>11942.490234</td>\n",
       "      <td>15374000</td>\n",
       "    </tr>\n",
       "    <tr>\n",
       "      <th>2023-05-09</th>\n",
       "      <td>11942.490234</td>\n",
       "      <td>11942.490234</td>\n",
       "      <td>11844.259766</td>\n",
       "      <td>11889.610352</td>\n",
       "      <td>11889.610352</td>\n",
       "      <td>26204500</td>\n",
       "    </tr>\n",
       "  </tbody>\n",
       "</table>\n",
       "<p>3268 rows × 6 columns</p>\n",
       "</div>"
      ],
      "text/plain": [
       "                    Open          High           Low         Close  \\\n",
       "Date                                                                 \n",
       "2010-01-05   3230.149902   3271.290039   3230.149902   3268.189941   \n",
       "2010-01-06   3268.189941   3272.139893   3263.459961   3271.570068   \n",
       "2010-01-07   3271.570068   3286.610107   3270.810059   3284.810059   \n",
       "2010-01-08   3284.810059   3313.179932   3284.810059   3310.229980   \n",
       "2010-01-11   3310.229980   3310.229980   3297.790039   3303.750000   \n",
       "...                  ...           ...           ...           ...   \n",
       "2023-05-03  12037.809570  12037.809570  11881.230469  11907.990234   \n",
       "2023-05-04  11907.990234  11968.549805  11868.849609  11968.549805   \n",
       "2023-05-05  11968.549805  11977.959961  11859.129883  11889.009766   \n",
       "2023-05-08  11889.009766  11942.490234  11873.089844  11942.490234   \n",
       "2023-05-09  11942.490234  11942.490234  11844.259766  11889.610352   \n",
       "\n",
       "               Adj Close    Volume  \n",
       "Date                                \n",
       "2010-01-05   3268.189941  15713800  \n",
       "2010-01-06   3271.570068  17077000  \n",
       "2010-01-07   3284.810059  47356800  \n",
       "2010-01-08   3310.229980  19330800  \n",
       "2010-01-11   3303.750000  28157000  \n",
       "...                  ...       ...  \n",
       "2023-05-03  11907.990234  17588800  \n",
       "2023-05-04  11968.549805  16620700  \n",
       "2023-05-05  11889.009766  22961800  \n",
       "2023-05-08  11942.490234  15374000  \n",
       "2023-05-09  11889.610352  26204500  \n",
       "\n",
       "[3268 rows x 6 columns]"
      ]
     },
     "execution_count": 11,
     "metadata": {},
     "output_type": "execute_result"
    }
   ],
   "source": [
    "nz"
   ]
  },
  {
   "cell_type": "code",
   "execution_count": 17,
   "id": "75a0c2b5",
   "metadata": {},
   "outputs": [
    {
     "name": "stdout",
     "output_type": "stream",
     "text": [
      "closing price\n",
      "\n",
      " Date\n",
      "2010-01-05     3268.189941\n",
      "2010-01-06     3271.570068\n",
      "2010-01-07     3284.810059\n",
      "2010-01-08     3310.229980\n",
      "2010-01-11     3303.750000\n",
      "                  ...     \n",
      "2023-05-03    11907.990234\n",
      "2023-05-04    11968.549805\n",
      "2023-05-05    11889.009766\n",
      "2023-05-08    11942.490234\n",
      "2023-05-09    11889.610352\n",
      "Name: Close, Length: 3268, dtype: float64\n",
      "opening price\n",
      "\n",
      " Date\n",
      "2010-01-05     3230.149902\n",
      "2010-01-06     3268.189941\n",
      "2010-01-07     3271.570068\n",
      "2010-01-08     3284.810059\n",
      "2010-01-11     3310.229980\n",
      "                  ...     \n",
      "2023-05-03    12037.809570\n",
      "2023-05-04    11907.990234\n",
      "2023-05-05    11968.549805\n",
      "2023-05-08    11889.009766\n",
      "2023-05-09    11942.490234\n",
      "Name: Open, Length: 3268, dtype: float64\n"
     ]
    }
   ],
   "source": [
    "cprice=nz[\"Close\"]\n",
    "oprice=nz[\"Open\"]\n",
    "print(\"closing price\\n\\n\",cprice)\n",
    "print(\"opening price\\n\\n\",oprice)"
   ]
  },
  {
   "cell_type": "code",
   "execution_count": 18,
   "id": "fdc16713",
   "metadata": {},
   "outputs": [
    {
     "name": "stdout",
     "output_type": "stream",
     "text": [
      "Date\n",
      "2010-01-05    0.011777\n",
      "2010-01-06    0.001034\n",
      "2010-01-07    0.004047\n",
      "2010-01-08    0.007739\n",
      "2010-01-11   -0.001958\n",
      "                ...   \n",
      "2023-05-03   -0.010784\n",
      "2023-05-04    0.005086\n",
      "2023-05-05   -0.006646\n",
      "2023-05-08    0.004498\n",
      "2023-05-09   -0.004428\n",
      "Length: 3268, dtype: float64\n"
     ]
    }
   ],
   "source": [
    "dailyrs=(cprice-oprice)/oprice\n",
    "print(dailyrs)"
   ]
  },
  {
   "cell_type": "code",
   "execution_count": 19,
   "id": "e46455ca",
   "metadata": {},
   "outputs": [
    {
     "name": "stdout",
     "output_type": "stream",
     "text": [
      "2.6808230921220004\n"
     ]
    }
   ],
   "source": [
    "final_price=nz.iloc[-1][\"Close\"]\n",
    "ogprice=nz.iloc[0][\"Open\"]\n",
    "\n",
    "cumulative=(final_price-ogprice)/ogprice\n",
    "print(cumulative)"
   ]
  },
  {
   "cell_type": "code",
   "execution_count": 22,
   "id": "b98d5157",
   "metadata": {},
   "outputs": [
    {
     "data": {
      "text/plain": [
       "0.376912076853267"
      ]
     },
     "execution_count": 22,
     "metadata": {},
     "output_type": "execute_result"
    }
   ],
   "source": [
    "std=dailyrs.std()\n",
    "time_period=nz.shape[0]\n",
    "volatility=std*sqrt(time_period)\n",
    "volatility"
   ]
  },
  {
   "cell_type": "code",
   "execution_count": 23,
   "id": "13bd5cdc",
   "metadata": {},
   "outputs": [],
   "source": [
    "rfrate=0.001"
   ]
  },
  {
   "cell_type": "code",
   "execution_count": 24,
   "id": "9fe4a8e7",
   "metadata": {},
   "outputs": [
    {
     "data": {
      "text/plain": [
       "-0.08988959066647344"
      ]
     },
     "execution_count": 24,
     "metadata": {},
     "output_type": "execute_result"
    }
   ],
   "source": [
    "excess=dailyrs-rfrate\n",
    "sharpe=excess.mean()/excess.std()\n",
    "sharpe"
   ]
  },
  {
   "cell_type": "code",
   "execution_count": 25,
   "id": "c1f7520a",
   "metadata": {},
   "outputs": [
    {
     "data": {
      "text/plain": [
       "Date\n",
       "2010-01-11   -0.001958\n",
       "2010-01-12   -0.004074\n",
       "2010-01-13   -0.004282\n",
       "2010-01-15   -0.006217\n",
       "2010-01-18   -0.003330\n",
       "                ...   \n",
       "2023-04-27   -0.001404\n",
       "2023-05-01   -0.001404\n",
       "2023-05-03   -0.010784\n",
       "2023-05-05   -0.006646\n",
       "2023-05-09   -0.004428\n",
       "Length: 1401, dtype: float64"
      ]
     },
     "execution_count": 25,
     "metadata": {},
     "output_type": "execute_result"
    }
   ],
   "source": [
    "neg_returns=dailyrs[dailyrs<0]\n",
    "neg_returns"
   ]
  },
  {
   "cell_type": "code",
   "execution_count": 26,
   "id": "601ad10f",
   "metadata": {},
   "outputs": [
    {
     "data": {
      "text/plain": [
       "-0.11283036582274289"
      ]
     },
     "execution_count": 26,
     "metadata": {},
     "output_type": "execute_result"
    }
   ],
   "source": [
    "sortino=excess.mean()/neg_returns.std()\n",
    "sortino"
   ]
  },
  {
   "cell_type": "code",
   "execution_count": 28,
   "id": "4f13a7f3",
   "metadata": {},
   "outputs": [],
   "source": [
    "peak=cprice.max()\n",
    "index=list(np.where(cprice==peak))\n",
    "index=index[0][0]\n",
    "\n",
    "indices=cprice.index\n",
    "peak_day=indices[index]\n",
    "\n",
    "peak_day=peak_day.strftime(\"%Y-%m-%d\")\n"
   ]
  },
  {
   "cell_type": "code",
   "execution_count": 29,
   "id": "e024c753",
   "metadata": {},
   "outputs": [
    {
     "data": {
      "text/plain": [
       "-21.905506120284333"
      ]
     },
     "execution_count": 29,
     "metadata": {},
     "output_type": "execute_result"
    }
   ],
   "source": [
    "nz_later=nz.loc[peak_day:\"2023-04-26\",:]\n",
    "minimum=nz_later[\"Close\"].min()\n",
    "Mdd=(minimum-peak)/peak*100\n",
    "Mdd"
   ]
  },
  {
   "cell_type": "code",
   "execution_count": 30,
   "id": "db66e331",
   "metadata": {},
   "outputs": [
    {
     "name": "stdout",
     "output_type": "stream",
     "text": [
      "[*********************100%***********************]  1 of 1 completed\n",
      "[*********************100%***********************]  1 of 1 completed\n",
      "[*********************100%***********************]  1 of 1 completed\n",
      "[*********************100%***********************]  1 of 1 completed\n",
      "[*********************100%***********************]  1 of 1 completed\n"
     ]
    }
   ],
   "source": [
    "for stock in Indices.columns:\n",
    "    stck=yf.download(stock,start=\"2010-01-01\",end=\"2023-05-01\")\n",
    "    \n",
    "    cprice=stck[\"Close\"]\n",
    "    oprice=stck[\"Open\"]\n",
    "    dailyrs=(cprice-oprice)/cprice\n",
    "\n",
    "    final_price=stck.iloc[-1][\"Close\"]\n",
    "    ogprice=stck.iloc[0][\"Open\"]\n",
    "\n",
    "    cumulative=(final_price-ogprice)/ogprice\n",
    "    Indices.at[\"Cumulative Returns\",stock]=cumulative\n",
    "\n",
    "    std=dailyrs.std()\n",
    "    time_period=stck.shape[0]\n",
    "    volatility=std*sqrt(time_period)\n",
    "    Indices.at[\"Volatility\",stock]=volatility\n",
    "\n",
    "    excess=dailyrs-rfrate\n",
    "    sharpe=excess.mean()/excess.std()\n",
    "\n",
    "    Indices.at[\"Sharpe ratio\",stock]=sharpe\n",
    "    \n",
    "    neg_returns=dailyrs[dailyrs<0]\n",
    "    sortino=excess.mean()/neg_returns.std()\n",
    "\n",
    "    Indices.at[\"Sortino ratio\",stock]=sortino\n",
    "\n",
    "    peak=cprice.max()\n",
    "    index=list(np.where(cprice==peak))\n",
    "    index=index[0][0]\n",
    "\n",
    "    indices=cprice.index\n",
    "    peak_day=indices[index]\n",
    "\n",
    "    peak_day=peak_day.strftime(\"%Y-%m-%d\")\n",
    "\n",
    "    stck_later=stck.loc[peak_day:\"2023-04-26\",:]\n",
    "    minimum=stck_later[\"Close\"].min()\n",
    "    Mdd=(minimum-peak)/peak*100\n",
    "\n",
    "    Indices.at[\"MDD\",stock]=Mdd"
   ]
  },
  {
   "cell_type": "code",
   "execution_count": 31,
   "id": "e0434bd8",
   "metadata": {},
   "outputs": [
    {
     "data": {
      "text/html": [
       "<div>\n",
       "<style scoped>\n",
       "    .dataframe tbody tr th:only-of-type {\n",
       "        vertical-align: middle;\n",
       "    }\n",
       "\n",
       "    .dataframe tbody tr th {\n",
       "        vertical-align: top;\n",
       "    }\n",
       "\n",
       "    .dataframe thead th {\n",
       "        text-align: right;\n",
       "    }\n",
       "</style>\n",
       "<table border=\"1\" class=\"dataframe\">\n",
       "  <thead>\n",
       "    <tr style=\"text-align: right;\">\n",
       "      <th></th>\n",
       "      <th>^NZ50</th>\n",
       "      <th>^KS11</th>\n",
       "      <th>^STI</th>\n",
       "      <th>^HSI</th>\n",
       "      <th>^BFX</th>\n",
       "    </tr>\n",
       "  </thead>\n",
       "  <tbody>\n",
       "    <tr>\n",
       "      <th>Cumulative Returns</th>\n",
       "      <td>2.72114</td>\n",
       "      <td>0.487492</td>\n",
       "      <td>0.128688</td>\n",
       "      <td>-0.089911</td>\n",
       "      <td>0.50762</td>\n",
       "    </tr>\n",
       "    <tr>\n",
       "      <th>Volatility</th>\n",
       "      <td>0.378206</td>\n",
       "      <td>0.472847</td>\n",
       "      <td>0.398443</td>\n",
       "      <td>0.519146</td>\n",
       "      <td>0.539108</td>\n",
       "    </tr>\n",
       "    <tr>\n",
       "      <th>Sharpe ratio</th>\n",
       "      <td>-0.095468</td>\n",
       "      <td>-0.187628</td>\n",
       "      <td>-0.171639</td>\n",
       "      <td>-0.178964</td>\n",
       "      <td>-0.122203</td>\n",
       "    </tr>\n",
       "    <tr>\n",
       "      <th>Sortino ratio</th>\n",
       "      <td>-0.116315</td>\n",
       "      <td>-0.234797</td>\n",
       "      <td>-0.232271</td>\n",
       "      <td>-0.26356</td>\n",
       "      <td>-0.156576</td>\n",
       "    </tr>\n",
       "    <tr>\n",
       "      <th>MDD</th>\n",
       "      <td>-21.905506</td>\n",
       "      <td>-34.785081</td>\n",
       "      <td>-38.221107</td>\n",
       "      <td>-55.700772</td>\n",
       "      <td>-24.725595</td>\n",
       "    </tr>\n",
       "  </tbody>\n",
       "</table>\n",
       "</div>"
      ],
      "text/plain": [
       "                        ^NZ50      ^KS11       ^STI       ^HSI       ^BFX\n",
       "Cumulative Returns    2.72114   0.487492   0.128688  -0.089911    0.50762\n",
       "Volatility           0.378206   0.472847   0.398443   0.519146   0.539108\n",
       "Sharpe ratio        -0.095468  -0.187628  -0.171639  -0.178964  -0.122203\n",
       "Sortino ratio       -0.116315  -0.234797  -0.232271   -0.26356  -0.156576\n",
       "MDD                -21.905506 -34.785081 -38.221107 -55.700772 -24.725595"
      ]
     },
     "execution_count": 31,
     "metadata": {},
     "output_type": "execute_result"
    }
   ],
   "source": [
    "Indices"
   ]
  },
  {
   "cell_type": "code",
   "execution_count": 32,
   "id": "57da6269",
   "metadata": {},
   "outputs": [
    {
     "name": "stdout",
     "output_type": "stream",
     "text": [
      "[*********************100%***********************]  1 of 1 completed\n",
      "[*********************100%***********************]  1 of 1 completed\n",
      "[*********************100%***********************]  1 of 1 completed\n",
      "[*********************100%***********************]  1 of 1 completed\n",
      "[*********************100%***********************]  1 of 1 completed\n"
     ]
    }
   ],
   "source": [
    "\n",
    "for stock in Equities.columns:\n",
    "    stck=yf.download(stock,start=\"2010-01-01\",end=\"2023-05-01\")\n",
    "    \n",
    "    cprice=stck[\"Close\"]\n",
    "    oprice=stck[\"Open\"]\n",
    "    dailyrs=(cprice-oprice)/cprice\n",
    "\n",
    "    final_price=stck.iloc[-1][\"Close\"]\n",
    "    ogprice=stck.iloc[0][\"Open\"]\n",
    "\n",
    "    cumulative=(final_price-ogprice)/ogprice\n",
    "    Equities.at[\"Cumulative Returns\",stock]=cumulative\n",
    "\n",
    "    std=dailyrs.std()\n",
    "    time_period=stck.shape[0]\n",
    "    volatility=std*sqrt(time_period)\n",
    "    Equities.at[\"Volatility\",stock]=volatility\n",
    "\n",
    "    excess=dailyrs-rfrate\n",
    "    sharpe=excess.mean()/excess.std()\n",
    "\n",
    "    Equities.at[\"Sharpe ratio\",stock]=sharpe\n",
    "    \n",
    "    neg_returns=dailyrs[dailyrs<0]\n",
    "    sortino=excess.mean()/neg_returns.std()\n",
    "\n",
    "    Equities.at[\"Sortino ratio\",stock]=sortino\n",
    "\n",
    "    peak=cprice.max()\n",
    "    index=list(np.where(cprice==peak))\n",
    "    index=index[0][0]\n",
    "\n",
    "    Equity=cprice.index\n",
    "    peak_day=Equity[index]\n",
    "\n",
    "    peak_day=peak_day.strftime(\"%Y-%m-%d\")\n",
    "\n",
    "    stck_later=stck.loc[peak_day:\"2023-04-26\",:]\n",
    "    minimum=stck_later[\"Close\"].min()\n",
    "    Mdd=(minimum-peak)/peak*100\n",
    "\n",
    "    Equities.at[\"MDD\",stock]=Mdd"
   ]
  },
  {
   "cell_type": "code",
   "execution_count": 33,
   "id": "1c1008bd",
   "metadata": {},
   "outputs": [
    {
     "data": {
      "text/html": [
       "<div>\n",
       "<style scoped>\n",
       "    .dataframe tbody tr th:only-of-type {\n",
       "        vertical-align: middle;\n",
       "    }\n",
       "\n",
       "    .dataframe tbody tr th {\n",
       "        vertical-align: top;\n",
       "    }\n",
       "\n",
       "    .dataframe thead th {\n",
       "        text-align: right;\n",
       "    }\n",
       "</style>\n",
       "<table border=\"1\" class=\"dataframe\">\n",
       "  <thead>\n",
       "    <tr style=\"text-align: right;\">\n",
       "      <th></th>\n",
       "      <th>NKE</th>\n",
       "      <th>HD</th>\n",
       "      <th>BA</th>\n",
       "      <th>GOOGL</th>\n",
       "      <th>AMZN</th>\n",
       "    </tr>\n",
       "  </thead>\n",
       "  <tbody>\n",
       "    <tr>\n",
       "      <th>Cumulative Returns</th>\n",
       "      <td>6.673025</td>\n",
       "      <td>9.31012</td>\n",
       "      <td>2.711055</td>\n",
       "      <td>5.841545</td>\n",
       "      <td>14.478899</td>\n",
       "    </tr>\n",
       "    <tr>\n",
       "      <th>Volatility</th>\n",
       "      <td>0.740576</td>\n",
       "      <td>0.708156</td>\n",
       "      <td>0.994197</td>\n",
       "      <td>0.750908</td>\n",
       "      <td>0.951726</td>\n",
       "    </tr>\n",
       "    <tr>\n",
       "      <th>Sharpe ratio</th>\n",
       "      <td>-0.056385</td>\n",
       "      <td>-0.041788</td>\n",
       "      <td>-0.07494</td>\n",
       "      <td>-0.084397</td>\n",
       "      <td>-0.066543</td>\n",
       "    </tr>\n",
       "    <tr>\n",
       "      <th>Sortino ratio</th>\n",
       "      <td>-0.081243</td>\n",
       "      <td>-0.057164</td>\n",
       "      <td>-0.092798</td>\n",
       "      <td>-0.114713</td>\n",
       "      <td>-0.095917</td>\n",
       "    </tr>\n",
       "    <tr>\n",
       "      <th>MDD</th>\n",
       "      <td>-53.174466</td>\n",
       "      <td>-35.945987</td>\n",
       "      <td>-78.437201</td>\n",
       "      <td>-44.320051</td>\n",
       "      <td>-56.145263</td>\n",
       "    </tr>\n",
       "  </tbody>\n",
       "</table>\n",
       "</div>"
      ],
      "text/plain": [
       "                          NKE         HD         BA      GOOGL       AMZN\n",
       "Cumulative Returns   6.673025    9.31012   2.711055   5.841545  14.478899\n",
       "Volatility           0.740576   0.708156   0.994197   0.750908   0.951726\n",
       "Sharpe ratio        -0.056385  -0.041788   -0.07494  -0.084397  -0.066543\n",
       "Sortino ratio       -0.081243  -0.057164  -0.092798  -0.114713  -0.095917\n",
       "MDD                -53.174466 -35.945987 -78.437201 -44.320051 -56.145263"
      ]
     },
     "execution_count": 33,
     "metadata": {},
     "output_type": "execute_result"
    }
   ],
   "source": [
    "Equities\n"
   ]
  },
  {
   "cell_type": "code",
   "execution_count": null,
   "id": "c6d5652f",
   "metadata": {},
   "outputs": [],
   "source": []
  }
 ],
 "metadata": {
  "kernelspec": {
   "display_name": "Python 3 (ipykernel)",
   "language": "python",
   "name": "python3"
  },
  "language_info": {
   "codemirror_mode": {
    "name": "ipython",
    "version": 3
   },
   "file_extension": ".py",
   "mimetype": "text/x-python",
   "name": "python",
   "nbconvert_exporter": "python",
   "pygments_lexer": "ipython3",
   "version": "3.9.12"
  }
 },
 "nbformat": 4,
 "nbformat_minor": 5
}
