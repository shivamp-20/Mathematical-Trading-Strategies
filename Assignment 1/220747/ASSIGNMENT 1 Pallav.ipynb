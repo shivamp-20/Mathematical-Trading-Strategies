{
 "cells": [
  {
   "cell_type": "code",
   "execution_count": 1,
   "id": "abd755b9",
   "metadata": {},
   "outputs": [
    {
     "name": "stdout",
     "output_type": "stream",
     "text": [
      "[*********************100%***********************]  5 of 5 completed\n",
      "[*********************100%***********************]  5 of 5 completed\n"
     ]
    }
   ],
   "source": [
    "import yfinance as yf\n",
    "data1 = yf.download(\"^GSPC ^DJI ^IXIC ^RUT ^DJU\", group_by='Ticker', start=\"2010-01-01\", end=\"2023-05-01\")\n",
    "data2 = yf.download(\"MCD WMT AMZN NFLX LNG\", group_by='Ticker', start=\"2010-01-01\", end=\"2023-05-01\")\n",
    "data1.insert(0,\"Number\", [*range(0, 3353, 1)])\n",
    "data2.insert(0,\"Number\", [*range(0, 3353, 1)])"
   ]
  },
  {
   "cell_type": "code",
   "execution_count": 3,
   "id": "ee3ac4a8",
   "metadata": {},
   "outputs": [
    {
     "name": "stdout",
     "output_type": "stream",
     "text": [
      "                         ^GSPC        ^DJI       ^IXIC        ^RUT        ^DJU\n",
      "Cumulative returns  273.421917  226.902235  432.885602  181.636979  141.023246\n",
      "Volatility            0.936311    0.912779     1.01007     1.28149    1.023377\n",
      "Sharpe Ratio          0.345562     0.27883    0.506403    0.138886    0.096669\n",
      "Sortiono Ratio        0.436494    0.357211    0.666326    0.184946    0.129799\n",
      "Max Drawdown        -35.410426  -38.401992  -37.770253  -44.536735  -38.418756\n",
      "                           MCD         WMT         AMZN        NFLX        LNG\n",
      "Cumulative returns  372.217779  180.926678  1447.889863  4059.77999     6020.0\n",
      "Volatility            0.936804    0.988255     1.643661    2.441594   2.939123\n",
      "Sharpe Ratio          0.477214    0.178792      0.67296    0.696882   0.662202\n",
      "Sortiono Ratio        0.715656    0.259174     1.014351    1.120634   0.950318\n",
      "Max Drawdown        -44.022887  -38.111467   -56.836326  -82.673316 -75.253708\n"
     ]
    }
   ],
   "source": [
    "import pandas as pd\n",
    "df = pd.DataFrame(columns = [\"^GSPC\", \"^DJI\", \"^IXIC\", \"^RUT\", \"^DJU\"], \n",
    "                   index = [\"Cumulative returns\", \"Volatility\", \"Sharpe Ratio\", \"Sortiono Ratio\", \"Max Drawdown\"])\n",
    "for i in (\"^GSPC\", \"^DJI\", \"^IXIC\", \"^RUT\", \"^DJU\"):\n",
    " x=data1[i,\"Daily_return\"]=100*(data1[i,\"Close\"]-data1[i,\"Open\"])/data1[i,\"Open\"]\n",
    " df.loc[\"Volatility\",i]=data1[i,\"Daily_return\"].std()\n",
    " df.loc[\"Cumulative returns\",i]=100*(data1[i,\"Close\"].iloc[-1]-data1[i,\"Open\"].iloc[0])/data1[i,\"Open\"].iloc[0]\n",
    " df.loc[\"Sharpe Ratio\",i]=(((1+df.loc[\"Cumulative returns\",i]/100)**(3/40))*100-105.25)/(df.loc[\"Volatility\",i]*(252**0.5))\n",
    " df.loc[\"Sortiono Ratio\",i]=(((1+df.loc[\"Cumulative returns\",i]/100)**(3/40))*100-105.25)/(x[x<0].std()*(252**0.5))\n",
    " mdd=0\n",
    " j=0\n",
    " while j<3353:\n",
    "  sliced_low=data1[i,\"Low\"][j:]\n",
    "  k=sliced_low.min()\n",
    "  kt=data1.Number[sliced_low.idxmin()]\n",
    "  sliced_max=data1[i,\"High\"][j:(kt+1)]\n",
    "  ktt=sliced_max.max()\n",
    "  temp=100*(ktt-k)/ktt\n",
    "  if(temp>mdd):\n",
    "   mdd=temp\n",
    "  j=1+data1.Number[sliced_max.idxmax()]\n",
    " df.loc[\"Max Drawdown\",i]=-mdd     \n",
    "df2 = pd.DataFrame(columns = [\"MCD\", \"WMT\", \"AMZN\", \"NFLX\", \"LNG\"],\n",
    "                   index = [\"Cumulative returns\", \"Volatility\", \"Sharpe Ratio\", \"Sortiono Ratio\", \"Max Drawdown\"])\n",
    "for i in (\"MCD\", \"WMT\", \"AMZN\", \"NFLX\", \"LNG\"):\n",
    " y=data2[i,\"Daily_return\"]=100*(data2[i,\"Close\"]-data2[i,\"Open\"])/data2[i,\"Open\"]\n",
    " df2.loc[\"Volatility\",i]=data2[i,\"Daily_return\"].std()\n",
    " df2.loc[\"Cumulative returns\",i]=100*(data2[i,\"Close\"].iloc[-1]-data2[i,\"Open\"].iloc[0])/data2[i,\"Open\"].iloc[0]\n",
    " df2.loc[\"Sharpe Ratio\",i]=(((1+df2.loc[\"Cumulative returns\",i]/100)**(3/40))*100-105.25)/(df2.loc[\"Volatility\",i]*(252**0.5))\n",
    " df2.loc[\"Sortiono Ratio\",i]=(((1+df2.loc[\"Cumulative returns\",i]/100)**(3/40))*100-105.25)/(y[y<0].std()*(252**0.5))\n",
    " mdd=0\n",
    " j=0\n",
    " while j<3353:\n",
    "  sliced_low=data2[i,\"Low\"][j:]\n",
    "  k=sliced_low.min()\n",
    "  kt=data2.Number[sliced_low.idxmin()]\n",
    "  sliced_max=data2[i,\"High\"][j:(kt+1)]\n",
    "  ktt=sliced_max.max()\n",
    "  temp=100*(ktt-k)/ktt\n",
    "  if(temp>mdd):\n",
    "   mdd=temp\n",
    "  j=1+data2.Number[sliced_max.idxmax()]\n",
    " df2.loc[\"Max Drawdown\",i]=-mdd\n",
    "print(df)\n",
    "print(df2)"
   ]
  },
  {
   "cell_type": "code",
   "execution_count": null,
   "id": "7c457a50",
   "metadata": {},
   "outputs": [],
   "source": []
  }
 ],
 "metadata": {
  "kernelspec": {
   "display_name": "Python 3 (ipykernel)",
   "language": "python",
   "name": "python3"
  },
  "language_info": {
   "codemirror_mode": {
    "name": "ipython",
    "version": 3
   },
   "file_extension": ".py",
   "mimetype": "text/x-python",
   "name": "python",
   "nbconvert_exporter": "python",
   "pygments_lexer": "ipython3",
   "version": "3.11.3"
  }
 },
 "nbformat": 4,
 "nbformat_minor": 5
}
