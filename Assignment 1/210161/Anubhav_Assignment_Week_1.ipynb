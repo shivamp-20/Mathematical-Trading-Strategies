{
 "cells": [
  {
   "cell_type": "code",
   "execution_count": 1,
   "id": "c7d5aaaa",
   "metadata": {},
   "outputs": [],
   "source": [
    "import pandas as pd\n",
    "import yfinance as yf\n",
    "from datetime import date\n",
    "from math import sqrt"
   ]
  },
  {
   "cell_type": "code",
   "execution_count": 2,
   "id": "b5bb5659",
   "metadata": {},
   "outputs": [],
   "source": [
    "#Defining Indices and Equities\n",
    "\n",
    "#International Equities(taken from NASDAQ Stock List)\n",
    "nvidia = \"NVDA\"\n",
    "tesla = \"TSLA\"\n",
    "jnj = \"JNJ\"\n",
    "walmart = \"WMT\"\n",
    "jpm = \"JPM\"\n",
    "\n",
    "eq_list = [nvidia, tesla, jnj, walmart, jpm]\n",
    "\n",
    "#International Indices\n",
    "nasdaq= \"^IXIC\"\n",
    "nyse = \"^NYA\"\n",
    "russ = \"^RUT\"\n",
    "nikk = \"^N225\"\n",
    "sp = \"^GSPC\"\n",
    "\n",
    "ind_list = [nasdaq, nyse, russ, nikk, sp]\n"
   ]
  },
  {
   "cell_type": "code",
   "execution_count": 3,
   "id": "406b001a",
   "metadata": {},
   "outputs": [],
   "source": [
    "fields = ['Cumulative Returns', 'Volatility', 'Sharpe Ratio', 'Sortino Ratio', 'Max Drawdown']"
   ]
  },
  {
   "cell_type": "code",
   "execution_count": 4,
   "id": "a34188c2",
   "metadata": {},
   "outputs": [],
   "source": [
    "data_indices = pd.DataFrame(columns = ind_list, index = fields)\n",
    "data_equity = pd.DataFrame(columns = eq_list, index = fields)"
   ]
  },
  {
   "cell_type": "code",
   "execution_count": 5,
   "id": "3bf2f89e",
   "metadata": {
    "scrolled": true
   },
   "outputs": [
    {
     "name": "stdout",
     "output_type": "stream",
     "text": [
      "[*********************100%***********************]  1 of 1 completed\n",
      "[*********************100%***********************]  1 of 1 completed\n",
      "[*********************100%***********************]  1 of 1 completed\n",
      "[*********************100%***********************]  1 of 1 completed\n",
      "[*********************100%***********************]  1 of 1 completed\n"
     ]
    }
   ],
   "source": [
    "for i in ind_list:\n",
    "    df = yf.download(i, \n",
    "                      start='2010-01-01',\n",
    "                      end='2023-05-01',\n",
    "                    )\n",
    "    \n",
    "    #Cumulative Returns\n",
    "    df[\"Daily Returns\"] = df[\"Close\"]/df[\"Close\"].shift(1) - 1\n",
    "    cumulative_return = (1 + df['Daily Returns']).prod() - 1\n",
    "    \n",
    "    #Volatility\n",
    "    time_period = 252\n",
    "    std = df[\"Daily Returns\"].std()\n",
    "    vol = std * sqrt(time_period)\n",
    "    \n",
    "    #Sortino Ratio\n",
    "    risk_free_return = 0.0525 #For USA\n",
    "    avg_return = df[\"Daily Returns\"].mean()\n",
    "    downside_dev = df[\"Daily Returns\"].where(df[\"Daily Returns\"] < 0).std()\n",
    "    sortino_ratio = (avg_return - risk_free_return) / downside_dev\n",
    "\n",
    "    #Sharpe Ratio\n",
    "    std_return = df[\"Daily Returns\"].std()\n",
    "    sharpe_ratio = (avg_return - risk_free_return) / std_return\n",
    "\n",
    "    #Max Drawdown\n",
    "    peak = df[\"Close\"][0]\n",
    "    drawdown = 0.0\n",
    "    for price in df[\"Close\"]:\n",
    "        if price > peak:\n",
    "            peak = price\n",
    "        else:\n",
    "            curr_drawdown = (price-peak) / peak\n",
    "            if curr_drawdown < drawdown:\n",
    "                drawdown = curr_drawdown\n",
    "    mdd = drawdown\n",
    "    \n",
    "    data_indices[i] = [cumulative_return, vol, sharpe_ratio, sortino_ratio, mdd]"
   ]
  },
  {
   "cell_type": "code",
   "execution_count": 6,
   "id": "67942013",
   "metadata": {
    "scrolled": true
   },
   "outputs": [
    {
     "data": {
      "text/html": [
       "<div>\n",
       "<style scoped>\n",
       "    .dataframe tbody tr th:only-of-type {\n",
       "        vertical-align: middle;\n",
       "    }\n",
       "\n",
       "    .dataframe tbody tr th {\n",
       "        vertical-align: top;\n",
       "    }\n",
       "\n",
       "    .dataframe thead th {\n",
       "        text-align: right;\n",
       "    }\n",
       "</style>\n",
       "<table border=\"1\" class=\"dataframe\">\n",
       "  <thead>\n",
       "    <tr style=\"text-align: right;\">\n",
       "      <th></th>\n",
       "      <th>^IXIC</th>\n",
       "      <th>^NYA</th>\n",
       "      <th>^RUT</th>\n",
       "      <th>^N225</th>\n",
       "      <th>^GSPC</th>\n",
       "    </tr>\n",
       "  </thead>\n",
       "  <tbody>\n",
       "    <tr>\n",
       "      <th>Cumulative Returns</th>\n",
       "      <td>4.296515</td>\n",
       "      <td>1.121800</td>\n",
       "      <td>1.763615</td>\n",
       "      <td>1.708307</td>\n",
       "      <td>2.680068</td>\n",
       "    </tr>\n",
       "    <tr>\n",
       "      <th>Volatility</th>\n",
       "      <td>0.206055</td>\n",
       "      <td>0.175517</td>\n",
       "      <td>0.230032</td>\n",
       "      <td>0.208277</td>\n",
       "      <td>0.177607</td>\n",
       "    </tr>\n",
       "    <tr>\n",
       "      <th>Sharpe Ratio</th>\n",
       "      <td>-3.999766</td>\n",
       "      <td>-4.722460</td>\n",
       "      <td>-3.594810</td>\n",
       "      <td>-3.971569</td>\n",
       "      <td>-4.652081</td>\n",
       "    </tr>\n",
       "    <tr>\n",
       "      <th>Sortino Ratio</th>\n",
       "      <td>-5.051410</td>\n",
       "      <td>-5.768006</td>\n",
       "      <td>-4.688304</td>\n",
       "      <td>-5.419206</td>\n",
       "      <td>-5.695302</td>\n",
       "    </tr>\n",
       "    <tr>\n",
       "      <th>Max Drawdown</th>\n",
       "      <td>-0.363953</td>\n",
       "      <td>-0.381142</td>\n",
       "      <td>-0.430613</td>\n",
       "      <td>-0.317989</td>\n",
       "      <td>-0.339250</td>\n",
       "    </tr>\n",
       "  </tbody>\n",
       "</table>\n",
       "</div>"
      ],
      "text/plain": [
       "                       ^IXIC      ^NYA      ^RUT     ^N225     ^GSPC\n",
       "Cumulative Returns  4.296515  1.121800  1.763615  1.708307  2.680068\n",
       "Volatility          0.206055  0.175517  0.230032  0.208277  0.177607\n",
       "Sharpe Ratio       -3.999766 -4.722460 -3.594810 -3.971569 -4.652081\n",
       "Sortino Ratio      -5.051410 -5.768006 -4.688304 -5.419206 -5.695302\n",
       "Max Drawdown       -0.363953 -0.381142 -0.430613 -0.317989 -0.339250"
      ]
     },
     "execution_count": 6,
     "metadata": {},
     "output_type": "execute_result"
    }
   ],
   "source": [
    "data_indices"
   ]
  },
  {
   "cell_type": "code",
   "execution_count": 7,
   "id": "948751fd",
   "metadata": {},
   "outputs": [
    {
     "name": "stdout",
     "output_type": "stream",
     "text": [
      "[*********************100%***********************]  1 of 1 completed\n",
      "[*********************100%***********************]  1 of 1 completed\n",
      "[*********************100%***********************]  1 of 1 completed\n",
      "[*********************100%***********************]  1 of 1 completed\n",
      "[*********************100%***********************]  1 of 1 completed\n"
     ]
    }
   ],
   "source": [
    "for i in eq_list:\n",
    "    df = yf.download(i, \n",
    "                      start='2010-01-01',\n",
    "                      end='2023-05-01',\n",
    "                    )\n",
    "    \n",
    "    #Cumulative Returns\n",
    "    df[\"Daily Returns\"] = df[\"Close\"]/df[\"Close\"].shift(1) - 1\n",
    "    cumulative_return = (1 + df['Daily Returns']).prod() - 1\n",
    "    \n",
    "    #Volatility\n",
    "    time_period = df.shape[0]\n",
    "    std = df[\"Daily Returns\"].std()\n",
    "    vol = std * sqrt(time_period)\n",
    "    \n",
    "    #Sortino Ratio\n",
    "    risk_free_return = 0.0525 #For USA\n",
    "    avg_return = df[\"Daily Returns\"].mean()\n",
    "    downside_dev = df[\"Daily Returns\"].where(df[\"Daily Returns\"] < 0).std()\n",
    "    sortino_ratio = (avg_return - risk_free_return) / downside_dev\n",
    "\n",
    "    #Sharpe Ratio\n",
    "    std_return = df[\"Daily Returns\"].std()\n",
    "    sharpe_ratio = (avg_return - risk_free_return) / std_return\n",
    "\n",
    "    #Max Drawdown\n",
    "    peak = df[\"Close\"][0]\n",
    "    drawdown = 0.0\n",
    "    for price in df[\"Close\"]:\n",
    "        if price > peak:\n",
    "            peak = price\n",
    "        else:\n",
    "            curr_drawdown = (price-peak) / peak\n",
    "            if curr_drawdown < drawdown:\n",
    "                drawdown = curr_drawdown\n",
    "    mdd = drawdown\n",
    "    \n",
    "    data_equity[i] = [cumulative_return, vol, sharpe_ratio, sortino_ratio, mdd]"
   ]
  },
  {
   "cell_type": "code",
   "execution_count": 8,
   "id": "d3a53bbc",
   "metadata": {},
   "outputs": [
    {
     "data": {
      "text/html": [
       "<div>\n",
       "<style scoped>\n",
       "    .dataframe tbody tr th:only-of-type {\n",
       "        vertical-align: middle;\n",
       "    }\n",
       "\n",
       "    .dataframe tbody tr th {\n",
       "        vertical-align: top;\n",
       "    }\n",
       "\n",
       "    .dataframe thead th {\n",
       "        text-align: right;\n",
       "    }\n",
       "</style>\n",
       "<table border=\"1\" class=\"dataframe\">\n",
       "  <thead>\n",
       "    <tr style=\"text-align: right;\">\n",
       "      <th></th>\n",
       "      <th>NVDA</th>\n",
       "      <th>TSLA</th>\n",
       "      <th>JNJ</th>\n",
       "      <th>WMT</th>\n",
       "      <th>JPM</th>\n",
       "    </tr>\n",
       "  </thead>\n",
       "  <tbody>\n",
       "    <tr>\n",
       "      <th>Cumulative Returns</th>\n",
       "      <td>59.030285</td>\n",
       "      <td>102.166575</td>\n",
       "      <td>1.530921</td>\n",
       "      <td>1.783884</td>\n",
       "      <td>2.226138</td>\n",
       "    </tr>\n",
       "    <tr>\n",
       "      <th>Volatility</th>\n",
       "      <td>1.632269</td>\n",
       "      <td>2.054632</td>\n",
       "      <td>0.616844</td>\n",
       "      <td>0.710143</td>\n",
       "      <td>1.040541</td>\n",
       "    </tr>\n",
       "    <tr>\n",
       "      <th>Sharpe Ratio</th>\n",
       "      <td>-1.805094</td>\n",
       "      <td>-1.394711</td>\n",
       "      <td>-4.896999</td>\n",
       "      <td>-4.249816</td>\n",
       "      <td>-2.893153</td>\n",
       "    </tr>\n",
       "    <tr>\n",
       "      <th>Sortino Ratio</th>\n",
       "      <td>-2.661802</td>\n",
       "      <td>-2.040738</td>\n",
       "      <td>-6.519363</td>\n",
       "      <td>-5.621873</td>\n",
       "      <td>-4.036468</td>\n",
       "    </tr>\n",
       "    <tr>\n",
       "      <th>Max Drawdown</th>\n",
       "      <td>-0.663621</td>\n",
       "      <td>-0.736322</td>\n",
       "      <td>-0.278265</td>\n",
       "      <td>-0.376368</td>\n",
       "      <td>-0.439861</td>\n",
       "    </tr>\n",
       "  </tbody>\n",
       "</table>\n",
       "</div>"
      ],
      "text/plain": [
       "                         NVDA        TSLA       JNJ       WMT       JPM\n",
       "Cumulative Returns  59.030285  102.166575  1.530921  1.783884  2.226138\n",
       "Volatility           1.632269    2.054632  0.616844  0.710143  1.040541\n",
       "Sharpe Ratio        -1.805094   -1.394711 -4.896999 -4.249816 -2.893153\n",
       "Sortino Ratio       -2.661802   -2.040738 -6.519363 -5.621873 -4.036468\n",
       "Max Drawdown        -0.663621   -0.736322 -0.278265 -0.376368 -0.439861"
      ]
     },
     "execution_count": 8,
     "metadata": {},
     "output_type": "execute_result"
    }
   ],
   "source": [
    "data_equity"
   ]
  },
  {
   "cell_type": "code",
   "execution_count": 9,
   "id": "aba35b66",
   "metadata": {},
   "outputs": [
    {
     "name": "stdout",
     "output_type": "stream",
     "text": [
      "[*********************100%***********************]  1 of 1 completed\n"
     ]
    },
    {
     "data": {
      "text/html": [
       "<div>\n",
       "<style scoped>\n",
       "    .dataframe tbody tr th:only-of-type {\n",
       "        vertical-align: middle;\n",
       "    }\n",
       "\n",
       "    .dataframe tbody tr th {\n",
       "        vertical-align: top;\n",
       "    }\n",
       "\n",
       "    .dataframe thead th {\n",
       "        text-align: right;\n",
       "    }\n",
       "</style>\n",
       "<table border=\"1\" class=\"dataframe\">\n",
       "  <thead>\n",
       "    <tr style=\"text-align: right;\">\n",
       "      <th></th>\n",
       "      <th>Open</th>\n",
       "      <th>High</th>\n",
       "      <th>Low</th>\n",
       "      <th>Close</th>\n",
       "      <th>Adj Close</th>\n",
       "      <th>Volume</th>\n",
       "      <th>Daily Returns</th>\n",
       "    </tr>\n",
       "    <tr>\n",
       "      <th>Date</th>\n",
       "      <th></th>\n",
       "      <th></th>\n",
       "      <th></th>\n",
       "      <th></th>\n",
       "      <th></th>\n",
       "      <th></th>\n",
       "      <th></th>\n",
       "    </tr>\n",
       "  </thead>\n",
       "  <tbody>\n",
       "    <tr>\n",
       "      <th>2010-01-04</th>\n",
       "      <td>2294.409912</td>\n",
       "      <td>2311.149902</td>\n",
       "      <td>2294.409912</td>\n",
       "      <td>2308.419922</td>\n",
       "      <td>2308.419922</td>\n",
       "      <td>1931380000</td>\n",
       "      <td>NaN</td>\n",
       "    </tr>\n",
       "    <tr>\n",
       "      <th>2010-01-05</th>\n",
       "      <td>2307.270020</td>\n",
       "      <td>2313.729980</td>\n",
       "      <td>2295.620117</td>\n",
       "      <td>2308.709961</td>\n",
       "      <td>2308.709961</td>\n",
       "      <td>2367860000</td>\n",
       "      <td>0.000126</td>\n",
       "    </tr>\n",
       "    <tr>\n",
       "      <th>2010-01-06</th>\n",
       "      <td>2307.709961</td>\n",
       "      <td>2314.070068</td>\n",
       "      <td>2295.679932</td>\n",
       "      <td>2301.090088</td>\n",
       "      <td>2301.090088</td>\n",
       "      <td>2253340000</td>\n",
       "      <td>-0.003300</td>\n",
       "    </tr>\n",
       "    <tr>\n",
       "      <th>2010-01-07</th>\n",
       "      <td>2298.090088</td>\n",
       "      <td>2301.300049</td>\n",
       "      <td>2285.219971</td>\n",
       "      <td>2300.050049</td>\n",
       "      <td>2300.050049</td>\n",
       "      <td>2270050000</td>\n",
       "      <td>-0.000452</td>\n",
       "    </tr>\n",
       "    <tr>\n",
       "      <th>2010-01-08</th>\n",
       "      <td>2292.239990</td>\n",
       "      <td>2317.600098</td>\n",
       "      <td>2290.610107</td>\n",
       "      <td>2317.169922</td>\n",
       "      <td>2317.169922</td>\n",
       "      <td>2145390000</td>\n",
       "      <td>0.007443</td>\n",
       "    </tr>\n",
       "    <tr>\n",
       "      <th>...</th>\n",
       "      <td>...</td>\n",
       "      <td>...</td>\n",
       "      <td>...</td>\n",
       "      <td>...</td>\n",
       "      <td>...</td>\n",
       "      <td>...</td>\n",
       "      <td>...</td>\n",
       "    </tr>\n",
       "    <tr>\n",
       "      <th>2023-04-24</th>\n",
       "      <td>12053.469727</td>\n",
       "      <td>12103.580078</td>\n",
       "      <td>11960.299805</td>\n",
       "      <td>12037.200195</td>\n",
       "      <td>12037.200195</td>\n",
       "      <td>4854050000</td>\n",
       "      <td>-0.002921</td>\n",
       "    </tr>\n",
       "    <tr>\n",
       "      <th>2023-04-25</th>\n",
       "      <td>11968.809570</td>\n",
       "      <td>11990.459961</td>\n",
       "      <td>11798.769531</td>\n",
       "      <td>11799.160156</td>\n",
       "      <td>11799.160156</td>\n",
       "      <td>4806020000</td>\n",
       "      <td>-0.019775</td>\n",
       "    </tr>\n",
       "    <tr>\n",
       "      <th>2023-04-26</th>\n",
       "      <td>11913.230469</td>\n",
       "      <td>11967.990234</td>\n",
       "      <td>11833.070312</td>\n",
       "      <td>11854.349609</td>\n",
       "      <td>11854.349609</td>\n",
       "      <td>5281970000</td>\n",
       "      <td>0.004677</td>\n",
       "    </tr>\n",
       "    <tr>\n",
       "      <th>2023-04-27</th>\n",
       "      <td>11972.150391</td>\n",
       "      <td>12154.009766</td>\n",
       "      <td>11950.919922</td>\n",
       "      <td>12142.240234</td>\n",
       "      <td>12142.240234</td>\n",
       "      <td>5253710000</td>\n",
       "      <td>0.024286</td>\n",
       "    </tr>\n",
       "    <tr>\n",
       "      <th>2023-04-28</th>\n",
       "      <td>12117.540039</td>\n",
       "      <td>12227.719727</td>\n",
       "      <td>12082.570312</td>\n",
       "      <td>12226.580078</td>\n",
       "      <td>12226.580078</td>\n",
       "      <td>5331380000</td>\n",
       "      <td>0.006946</td>\n",
       "    </tr>\n",
       "  </tbody>\n",
       "</table>\n",
       "<p>3353 rows × 7 columns</p>\n",
       "</div>"
      ],
      "text/plain": [
       "                    Open          High           Low         Close  \\\n",
       "Date                                                                 \n",
       "2010-01-04   2294.409912   2311.149902   2294.409912   2308.419922   \n",
       "2010-01-05   2307.270020   2313.729980   2295.620117   2308.709961   \n",
       "2010-01-06   2307.709961   2314.070068   2295.679932   2301.090088   \n",
       "2010-01-07   2298.090088   2301.300049   2285.219971   2300.050049   \n",
       "2010-01-08   2292.239990   2317.600098   2290.610107   2317.169922   \n",
       "...                  ...           ...           ...           ...   \n",
       "2023-04-24  12053.469727  12103.580078  11960.299805  12037.200195   \n",
       "2023-04-25  11968.809570  11990.459961  11798.769531  11799.160156   \n",
       "2023-04-26  11913.230469  11967.990234  11833.070312  11854.349609   \n",
       "2023-04-27  11972.150391  12154.009766  11950.919922  12142.240234   \n",
       "2023-04-28  12117.540039  12227.719727  12082.570312  12226.580078   \n",
       "\n",
       "               Adj Close      Volume  Daily Returns  \n",
       "Date                                                 \n",
       "2010-01-04   2308.419922  1931380000            NaN  \n",
       "2010-01-05   2308.709961  2367860000       0.000126  \n",
       "2010-01-06   2301.090088  2253340000      -0.003300  \n",
       "2010-01-07   2300.050049  2270050000      -0.000452  \n",
       "2010-01-08   2317.169922  2145390000       0.007443  \n",
       "...                  ...         ...            ...  \n",
       "2023-04-24  12037.200195  4854050000      -0.002921  \n",
       "2023-04-25  11799.160156  4806020000      -0.019775  \n",
       "2023-04-26  11854.349609  5281970000       0.004677  \n",
       "2023-04-27  12142.240234  5253710000       0.024286  \n",
       "2023-04-28  12226.580078  5331380000       0.006946  \n",
       "\n",
       "[3353 rows x 7 columns]"
      ]
     },
     "execution_count": 9,
     "metadata": {},
     "output_type": "execute_result"
    }
   ],
   "source": [
    "#Practising above function on one index.\n",
    "df = yf.download(nasdaq, \n",
    "                      start='2010-01-01',\n",
    "                      end='2023-05-01',\n",
    ")\n",
    "df[\"Daily Returns\"] = df[\"Close\"]/df[\"Close\"].shift(1) - 1\n",
    "\n",
    "#df[\"Close\"].shift(1): The .shift(1) function is used to shift the values of the \"Close\" column one position backward.\n",
    "#By shifting the values, the current day's closing price is compared to the previous day's closing price.\n",
    "\n",
    "df"
   ]
  },
  {
   "cell_type": "code",
   "execution_count": 10,
   "id": "b1177240",
   "metadata": {},
   "outputs": [
    {
     "data": {
      "text/plain": [
       "4.296514712190698"
      ]
     },
     "execution_count": 10,
     "metadata": {},
     "output_type": "execute_result"
    }
   ],
   "source": [
    "cumulative_return = (1 + df['Daily Returns']).prod() - 1\n",
    "cumulative_return"
   ]
  },
  {
   "cell_type": "code",
   "execution_count": 11,
   "id": "68ae287e",
   "metadata": {},
   "outputs": [],
   "source": [
    "time_period = 252"
   ]
  },
  {
   "cell_type": "code",
   "execution_count": 12,
   "id": "4dac7d5d",
   "metadata": {},
   "outputs": [],
   "source": [
    "std = df[\"Daily Returns\"].std()"
   ]
  },
  {
   "cell_type": "code",
   "execution_count": 13,
   "id": "fc4b4ad4",
   "metadata": {},
   "outputs": [
    {
     "data": {
      "text/plain": [
       "0.2060552101700032"
      ]
     },
     "execution_count": 13,
     "metadata": {},
     "output_type": "execute_result"
    }
   ],
   "source": [
    "vol = std * sqrt(time_period)\n",
    "vol"
   ]
  },
  {
   "cell_type": "code",
   "execution_count": 14,
   "id": "8d80e501",
   "metadata": {},
   "outputs": [],
   "source": [
    "risk_free_return = 0.0525 #For USA\n",
    "avg_return = df[\"Daily Returns\"].mean()\n",
    "\n",
    "downside_dev = df[\"Daily Returns\"].where(df[\"Daily Returns\"] < 0).std()"
   ]
  },
  {
   "cell_type": "code",
   "execution_count": 15,
   "id": "6983368d",
   "metadata": {},
   "outputs": [
    {
     "data": {
      "text/plain": [
       "-5.051409965749021"
      ]
     },
     "execution_count": 15,
     "metadata": {},
     "output_type": "execute_result"
    }
   ],
   "source": [
    "sortino_ratio = (avg_return - risk_free_return) / downside_dev\n",
    "sortino_ratio"
   ]
  },
  {
   "cell_type": "code",
   "execution_count": 16,
   "id": "c38279ff",
   "metadata": {},
   "outputs": [
    {
     "data": {
      "text/plain": [
       "-3.9997663447083363"
      ]
     },
     "execution_count": 16,
     "metadata": {},
     "output_type": "execute_result"
    }
   ],
   "source": [
    "std_return = df[\"Daily Returns\"].std()\n",
    "\n",
    "sharpe_ratio = (avg_return - risk_free_return) / std_return\n",
    "sharpe_ratio"
   ]
  },
  {
   "cell_type": "code",
   "execution_count": 17,
   "id": "b87a353f",
   "metadata": {
    "scrolled": false
   },
   "outputs": [
    {
     "data": {
      "text/plain": [
       "-0.36395279909120204"
      ]
     },
     "execution_count": 17,
     "metadata": {},
     "output_type": "execute_result"
    }
   ],
   "source": [
    "peak = df[\"Close\"][0]\n",
    "drawdown = 0.0\n",
    "\n",
    "for price in df[\"Close\"]:\n",
    "    if price > peak:\n",
    "        peak = price\n",
    "    else:\n",
    "        curr_drawdown = (price-peak) / peak\n",
    "        if curr_drawdown < drawdown:\n",
    "            drawdown = curr_drawdown\n",
    "            \n",
    "mdd = drawdown\n",
    "mdd"
   ]
  }
 ],
 "metadata": {
  "kernelspec": {
   "display_name": "Python 3 (ipykernel)",
   "language": "python",
   "name": "python3"
  },
  "language_info": {
   "codemirror_mode": {
    "name": "ipython",
    "version": 3
   },
   "file_extension": ".py",
   "mimetype": "text/x-python",
   "name": "python",
   "nbconvert_exporter": "python",
   "pygments_lexer": "ipython3",
   "version": "3.7.9"
  }
 },
 "nbformat": 4,
 "nbformat_minor": 5
}
