{
  "cells": [
    {
      "cell_type": "code",
      "execution_count": null,
      "metadata": {
        "id": "IZH98EGeD2p4"
      },
      "outputs": [],
      "source": [
        "import yfinance as yf\n",
        "import pandas as pd\n",
        "import numpy as np\n",
        "from scipy.stats import norm\n"
      ]
    },
    {
      "cell_type": "code",
      "execution_count": null,
      "metadata": {
        "id": "mWpGL5H1EfAs"
      },
      "outputs": [],
      "source": [
        "indices=['^GSPC','^FTSE','^N225','^STOXX50E','^DJI']\n",
        "#indices=[S&P 500 Index: ^GSPC,FTSE 100 Index: ^FTSE,Nikkei 225 Index: ^N225,Euro Stoxx 50 Index: ^STOXX50E,Dow Jones Industrial Average: ^DJI]"
      ]
    },
    {
      "cell_type": "code",
      "execution_count": null,
      "metadata": {
        "id": "gsm8FE7_EfYw"
      },
      "outputs": [],
      "source": [
        "equities=['AAPL','MSFT','AMZN','TSLA','GOOGL']\n",
        "#equities=[apple,microsoft,amazon,tesla,google]"
      ]
    },
    {
      "cell_type": "code",
      "execution_count": null,
      "metadata": {
        "id": "CNuNVOp4Efb2"
      },
      "outputs": [],
      "source": [
        "risk_free_rate = 5.25\n",
        "trading_days_per_year = 252\n",
        "interest_earning_days_per_year = 365"
      ]
    },
    {
      "cell_type": "code",
      "execution_count": null,
      "metadata": {
        "id": "CFJoYDNwEffg"
      },
      "outputs": [],
      "source": [
        "results_equities = pd.DataFrame(index=equities, columns=['Cumulative Returns', 'Volatality', 'Sharpe Ratio', 'Sortino Ratio', 'Maximum Drawdown'])\n",
        "for equity in equities:\n",
        "    data = yf.download(equity, start='2010-01-01', end='2023-05-01', progress=False)\n",
        "    data['Daily Returns'] = data['Adj Close'].pct_change()\n",
        "    results_equities.loc[equity, 'Cumulative Returns'] = (data.iloc[-1]['Close'] - data.iloc[0]['Open'])*100/data.iloc[0]['Open']\n",
        "    data['Cumulative Maximum Daily Returns'] = data['Daily Returns'].cummax()\n",
        "    data['Drawdown'] = (data['Daily Returns']/data['Daily Returns'].cummax() - 1)\n",
        "    results_equities.loc[equity, 'Maximum Drawdown'] = data['Drawdown'].min()\n",
        "    mean_return = data['Daily Returns'].mean()\n",
        "    std_return = data['Daily Returns'].std()\n",
        "    sharpe_ratio = (mean_return - risk_free_rate/100/interest_earning_days_per_year) / std_return * np.sqrt(trading_days_per_year)\n",
        "    results_equities.loc[equity, 'Sharpe Ratio'] = sharpe_ratio\n",
        "    results_equities.loc[equity, 'Volatality'] = std_return * np.sqrt(trading_days_per_year)\n",
        "    sortino_ratio = (mean_return - risk_free_rate/100/interest_earning_days_per_year) / data['Daily Returns'][data['Daily Returns'] < 0].std() * np.sqrt(trading_days_per_year)\n",
        "    results_equities.loc[equity, 'Sortino Ratio'] = sortino_ratio"
      ]
    },
    {
      "cell_type": "code",
      "execution_count": null,
      "metadata": {
        "id": "RNftpKcHEfh_"
      },
      "outputs": [],
      "source": [
        "results_indices = pd.DataFrame(index=indices, columns=['Cumulative Returns', 'Volatality', 'Sharpe Ratio', 'Sortino Ratio', 'Maximum Drawdown'])\n",
        "for index in indices:\n",
        "    data = yf.download(index, start='2010-01-01', end='2023-05-01', progress=False)\n",
        "    data['Daily Returns'] = data['Adj Close'].pct_change()\n",
        "    results_indices.loc[index, 'Cumulative Returns'] = (data.iloc[-1]['Close'] - data.iloc[0]['Open'])*100/data.iloc[0]['Open']\n",
        "    data['Cumulative Maximum Daily Returns'] = data['Daily Returns'].cummax()\n",
        "    data['Drawdown'] = (data['Daily Returns']/data['Daily Returns'].cummax() - 1)\n",
        "    results_indices.loc[index, 'Maximum Drawdown'] = data['Drawdown'].min()\n",
        "    mean_return = data['Daily Returns'].mean()\n",
        "    std_return = data['Daily Returns'].std()\n",
        "    sharpe_ratio = (mean_return - risk_free_rate/100/interest_earning_days_per_year) / std_return * np.sqrt(trading_days_per_year)\n",
        "    results_indices.loc[index, 'Sharpe Ratio'] = sharpe_ratio\n",
        "    results_indices.loc[index, 'Volatality'] = std_return* np.sqrt(trading_days_per_year)\n",
        "    sortino_ratio = (mean_return - risk_free_rate/100/interest_earning_days_per_year) / data['Daily Returns'][data['Daily Returns'] < 0].std() * np.sqrt(trading_days_per_year)\n",
        "    results_indices.loc[index, 'Sortino Ratio'] = sortino_ratio"
      ]
    },
    {
      "cell_type": "code",
      "execution_count": null,
      "metadata": {
        "id": "Yk17mXveEfkm",
        "colab": {
          "base_uri": "https://localhost:8080/"
        },
        "outputId": "d84dde65-9f2c-4abe-d3de-4b3fa44d7cbb"
      },
      "outputs": [
        {
          "output_type": "stream",
          "name": "stdout",
          "text": [
            "          Cumulative Returns Volatality Sharpe Ratio Sortino Ratio  \\\n",
            "^GSPC             273.421917   0.177607     0.436681      0.534605   \n",
            "^FTSE              45.404501   0.162515     0.023785       0.03072   \n",
            "^N225             171.990905   0.208277     0.300412      0.409913   \n",
            "^STOXX50E          46.538321   0.209858     0.064607      0.085162   \n",
            "^DJI              226.902235   0.171818     0.387301      0.468064   \n",
            "\n",
            "          Maximum Drawdown  \n",
            "^GSPC            -3.344587  \n",
            "^FTSE            -3.341905  \n",
            "^N225            -4.259426  \n",
            "^STOXX50E        -5.360425  \n",
            "^DJI             -3.225546  \n"
          ]
        }
      ],
      "source": [
        "print(results_indices)\n"
      ]
    },
    {
      "cell_type": "code",
      "execution_count": null,
      "metadata": {
        "id": "CUNqKLGpEfoI",
        "colab": {
          "base_uri": "https://localhost:8080/"
        },
        "outputId": "c3c6530d-9191-4348-9865-d9865675a9d3"
      },
      "outputs": [
        {
          "output_type": "stream",
          "name": "stdout",
          "text": [
            "      Cumulative Returns Volatality Sharpe Ratio Sortino Ratio  \\\n",
            "AAPL         2126.041246   0.286002     0.874027      1.220651   \n",
            "MSFT          903.461794   0.261395     0.730091      1.020628   \n",
            "AMZN         1447.889863   0.331799     0.681021        0.9725   \n",
            "TSLA        12871.838413   0.573807      0.85302      1.248137   \n",
            "GOOGL         584.154466   0.272976     0.532964       0.74447   \n",
            "\n",
            "      Maximum Drawdown  \n",
            "AAPL        -10.199844  \n",
            "MSFT        -33.228322  \n",
            "AMZN         -4.070504  \n",
            "TSLA         -2.006417  \n",
            "GOOGL         -5.24226  \n"
          ]
        }
      ],
      "source": [
        "print(results_equities)"
      ]
    }
  ],
  "metadata": {
    "colab": {
      "provenance": []
    },
    "kernelspec": {
      "display_name": "Python 3",
      "name": "python3"
    },
    "language_info": {
      "name": "python"
    }
  },
  "nbformat": 4,
  "nbformat_minor": 0
}