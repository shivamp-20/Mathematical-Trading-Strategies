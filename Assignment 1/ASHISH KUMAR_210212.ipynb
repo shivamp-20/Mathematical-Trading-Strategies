{
  "nbformat": 4,
  "nbformat_minor": 0,
  "metadata": {
    "colab": {
      "provenance": []
    },
    "kernelspec": {
      "name": "python3",
      "display_name": "Python 3"
    },
    "language_info": {
      "name": "python"
    }
  },
  "cells": [
    {
      "cell_type": "code",
      "execution_count": 4,
      "metadata": {
        "id": "HGABYmtNVjDp"
      },
      "outputs": [],
      "source": [
        "\n",
        "import pandas as pd\n",
        "import yfinance as yf\n",
        "import scipy.stats as stats"
      ]
    },
    {
      "cell_type": "code",
      "source": [
        "asset_list = [\"TCEHY\", \"AMZN\", \"SSNLF\", \"SIEGY\", \"BABA\", \"^N225\", \"^IXIC\", \"^HSI\", \"^GDAXI\", \" ^BVSP\" ]"
      ],
      "metadata": {
        "id": "mQMGsAsSx3dd"
      },
      "execution_count": 28,
      "outputs": []
    },
    {
      "cell_type": "code",
      "source": [
        "df = pd.DataFrame(columns= [\"Asset\",\"MaxDrawDown\",\"Cumulative Return\",\"Sharp Ratio\",\"Sortino Ratio\"])\n",
        "\n",
        "# Create an empty list to store the stock dataframes\n",
        "temp_df = []\n",
        "\n",
        "for stock in asset_list:\n",
        "    \n",
        "    stock_data = yf.download(stock,start=\"2020-05-01\", end =\"2023-05-01\",period='1d')\n",
        "\n",
        "    #for daily return \n",
        "    stock_data['Daily Return'] = stock_data['Adj Close'].pct_change()\n",
        "\n",
        "    #for cumulative return\n",
        "    cumulative_return = (1 + stock_data['Daily Return']).cumprod()[-1] - 1\n",
        "\n",
        "    # Calculate maximum drawdown\n",
        "    cum_returns = (1 + stock_data['Daily Return']).cumprod()\n",
        "    peak = cum_returns.cummax()\n",
        "    drawdown = (cum_returns / peak) - 1\n",
        "    max_drawdown = drawdown.min()\n",
        "\n",
        "    # mean return and standard deviation\n",
        "    mean_return = stock_data['Daily Return'].mean()*252\n",
        "    std_dev = stock_data['Daily Return'].mean()* (252 ** 0.5)\n",
        "\n",
        "    #Sharp Ratio\n",
        "    risk_free_rate = 0.05\n",
        "    sharp_ratio = (mean_return - risk_free_rate)/std_dev\n",
        "\n",
        "    #Sortino ratio\n",
        "    downside_returns = stock_data['Daily Return'].where(stock_data['Daily Return'] < 0)\n",
        "    downside_std = downside_returns.std() * (252 ** 0.5)\n",
        "    sortino_ratio = (mean_return - risk_free_rate)/downside_std\n",
        "\n",
        "    #arranging the data in the dataframe\n",
        "    stock_metrics = pd.DataFrame({\n",
        "                    \"Asset\":[stock],\n",
        "                    \"MaxDrawDown\":[max_drawdown],\n",
        "                    \"Cumulative Return\":[cumulative_return],\n",
        "                    \"Sharp Ratio\":[sharp_ratio],\n",
        "                    \"Sortino Ratio\":[sortino_ratio]\n",
        "                    }, index = [0])\n",
        "    \n",
        "    # Append the stock dataframe to the list of dataframes\n",
        "    temp_df.append(stock_metrics)\n",
        "\n",
        "#concatinating the stock_metrics df\n",
        "df = pd.concat(temp_df, ignore_index=True)\n",
        "print(df)"
      ],
      "metadata": {
        "colab": {
          "base_uri": "https://localhost:8080/"
        },
        "id": "CKMB3sKax6xQ",
        "outputId": "8bc3be56-ae8d-452e-d024-3aab185295fe"
      },
      "execution_count": 32,
      "outputs": [
        {
          "output_type": "stream",
          "name": "stdout",
          "text": [
            "[*********************100%***********************]  1 of 1 completed\n",
            "[*********************100%***********************]  1 of 1 completed\n",
            "[*********************100%***********************]  1 of 1 completed\n",
            "[*********************100%***********************]  1 of 1 completed\n",
            "[*********************100%***********************]  1 of 1 completed\n",
            "[*********************100%***********************]  1 of 1 completed\n",
            "[*********************100%***********************]  1 of 1 completed\n",
            "[*********************100%***********************]  1 of 1 completed\n",
            "[*********************100%***********************]  1 of 1 completed\n",
            "[*********************100%***********************]  1 of 1 completed\n",
            "    Asset  MaxDrawDown  Cumulative Return  Sharp Ratio  Sortino Ratio\n",
            "0   TCEHY    -0.738945          -0.075284     7.454387       0.149724\n",
            "1    AMZN    -0.561453          -0.077444    -1.546779      -0.017072\n",
            "2   SSNLF    -1.142673          -1.000000    16.048017      -1.225917\n",
            "3   SIEGY    -0.456067           0.988458    13.090888       1.082482\n",
            "4    BABA    -0.800877          -0.564531    22.242040      -0.524081\n",
            "5   ^N225    -0.194084           0.470815    10.595212       0.837803\n",
            "6   ^IXIC    -0.363953           0.420877    10.518226       0.570102\n",
            "7    ^HSI    -0.527520          -0.157502    45.009671      -0.491918\n",
            "8  ^GDAXI    -0.264028           0.521227    10.876419       0.762243\n",
            "9   ^BVSP    -0.264995           0.324002     9.181918       0.500915\n"
          ]
        }
      ]
    }
  ]
}