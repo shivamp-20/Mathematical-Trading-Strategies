{
  "nbformat": 4,
  "nbformat_minor": 0,
  "metadata": {
    "colab": {
      "provenance": []
    },
    "kernelspec": {
      "name": "python3",
      "display_name": "Python 3"
    },
    "language_info": {
      "name": "python"
    }
  },
  "cells": [
    {
      "cell_type": "code",
      "execution_count": 57,
      "metadata": {
        "id": "EOn1dV7KCdTW"
      },
      "outputs": [],
      "source": [
        "import numpy as np\n",
        "import pandas as pd\n",
        "import yfinance as yf\n",
        "import matplotlib.pyplot as plt\n",
        "import seaborn as sns"
      ]
    },
    {
      "cell_type": "code",
      "source": [
        "stock = 'DIS'\n",
        "data = yf.download(stock,'2010-01-01','2023-05-19')\n",
        "data.head()"
      ],
      "metadata": {
        "colab": {
          "base_uri": "https://localhost:8080/",
          "height": 255
        },
        "id": "LudHdaAVCqJ0",
        "outputId": "5eb80d0d-3bfd-4b7c-b7a5-99f39fc31c15"
      },
      "execution_count": 58,
      "outputs": [
        {
          "output_type": "stream",
          "name": "stdout",
          "text": [
            "\r[*********************100%***********************]  1 of 1 completed\n"
          ]
        },
        {
          "output_type": "execute_result",
          "data": {
            "text/plain": [
              "             Open       High        Low      Close  Adj Close    Volume\n",
              "Date                                                                   \n",
              "2010-01-04  32.50  32.750000  31.870001  32.070000  27.933922  13700400\n",
              "2010-01-05  32.07  32.160000  31.700001  31.990000  27.864239  10307700\n",
              "2010-01-06  31.90  32.000000  31.680000  31.820000  27.716167  10709500\n",
              "2010-01-07  31.77  31.860001  31.540001  31.830000  27.724873   8202100\n",
              "2010-01-08  31.66  31.940001  31.530001  31.879999  27.768421   7657500"
            ],
            "text/html": [
              "\n",
              "  <div id=\"df-5fe2c6bf-5696-4eb5-85ab-69e6ca4ab308\">\n",
              "    <div class=\"colab-df-container\">\n",
              "      <div>\n",
              "<style scoped>\n",
              "    .dataframe tbody tr th:only-of-type {\n",
              "        vertical-align: middle;\n",
              "    }\n",
              "\n",
              "    .dataframe tbody tr th {\n",
              "        vertical-align: top;\n",
              "    }\n",
              "\n",
              "    .dataframe thead th {\n",
              "        text-align: right;\n",
              "    }\n",
              "</style>\n",
              "<table border=\"1\" class=\"dataframe\">\n",
              "  <thead>\n",
              "    <tr style=\"text-align: right;\">\n",
              "      <th></th>\n",
              "      <th>Open</th>\n",
              "      <th>High</th>\n",
              "      <th>Low</th>\n",
              "      <th>Close</th>\n",
              "      <th>Adj Close</th>\n",
              "      <th>Volume</th>\n",
              "    </tr>\n",
              "    <tr>\n",
              "      <th>Date</th>\n",
              "      <th></th>\n",
              "      <th></th>\n",
              "      <th></th>\n",
              "      <th></th>\n",
              "      <th></th>\n",
              "      <th></th>\n",
              "    </tr>\n",
              "  </thead>\n",
              "  <tbody>\n",
              "    <tr>\n",
              "      <th>2010-01-04</th>\n",
              "      <td>32.50</td>\n",
              "      <td>32.750000</td>\n",
              "      <td>31.870001</td>\n",
              "      <td>32.070000</td>\n",
              "      <td>27.933922</td>\n",
              "      <td>13700400</td>\n",
              "    </tr>\n",
              "    <tr>\n",
              "      <th>2010-01-05</th>\n",
              "      <td>32.07</td>\n",
              "      <td>32.160000</td>\n",
              "      <td>31.700001</td>\n",
              "      <td>31.990000</td>\n",
              "      <td>27.864239</td>\n",
              "      <td>10307700</td>\n",
              "    </tr>\n",
              "    <tr>\n",
              "      <th>2010-01-06</th>\n",
              "      <td>31.90</td>\n",
              "      <td>32.000000</td>\n",
              "      <td>31.680000</td>\n",
              "      <td>31.820000</td>\n",
              "      <td>27.716167</td>\n",
              "      <td>10709500</td>\n",
              "    </tr>\n",
              "    <tr>\n",
              "      <th>2010-01-07</th>\n",
              "      <td>31.77</td>\n",
              "      <td>31.860001</td>\n",
              "      <td>31.540001</td>\n",
              "      <td>31.830000</td>\n",
              "      <td>27.724873</td>\n",
              "      <td>8202100</td>\n",
              "    </tr>\n",
              "    <tr>\n",
              "      <th>2010-01-08</th>\n",
              "      <td>31.66</td>\n",
              "      <td>31.940001</td>\n",
              "      <td>31.530001</td>\n",
              "      <td>31.879999</td>\n",
              "      <td>27.768421</td>\n",
              "      <td>7657500</td>\n",
              "    </tr>\n",
              "  </tbody>\n",
              "</table>\n",
              "</div>\n",
              "      <button class=\"colab-df-convert\" onclick=\"convertToInteractive('df-5fe2c6bf-5696-4eb5-85ab-69e6ca4ab308')\"\n",
              "              title=\"Convert this dataframe to an interactive table.\"\n",
              "              style=\"display:none;\">\n",
              "        \n",
              "  <svg xmlns=\"http://www.w3.org/2000/svg\" height=\"24px\"viewBox=\"0 0 24 24\"\n",
              "       width=\"24px\">\n",
              "    <path d=\"M0 0h24v24H0V0z\" fill=\"none\"/>\n",
              "    <path d=\"M18.56 5.44l.94 2.06.94-2.06 2.06-.94-2.06-.94-.94-2.06-.94 2.06-2.06.94zm-11 1L8.5 8.5l.94-2.06 2.06-.94-2.06-.94L8.5 2.5l-.94 2.06-2.06.94zm10 10l.94 2.06.94-2.06 2.06-.94-2.06-.94-.94-2.06-.94 2.06-2.06.94z\"/><path d=\"M17.41 7.96l-1.37-1.37c-.4-.4-.92-.59-1.43-.59-.52 0-1.04.2-1.43.59L10.3 9.45l-7.72 7.72c-.78.78-.78 2.05 0 2.83L4 21.41c.39.39.9.59 1.41.59.51 0 1.02-.2 1.41-.59l7.78-7.78 2.81-2.81c.8-.78.8-2.07 0-2.86zM5.41 20L4 18.59l7.72-7.72 1.47 1.35L5.41 20z\"/>\n",
              "  </svg>\n",
              "      </button>\n",
              "      \n",
              "  <style>\n",
              "    .colab-df-container {\n",
              "      display:flex;\n",
              "      flex-wrap:wrap;\n",
              "      gap: 12px;\n",
              "    }\n",
              "\n",
              "    .colab-df-convert {\n",
              "      background-color: #E8F0FE;\n",
              "      border: none;\n",
              "      border-radius: 50%;\n",
              "      cursor: pointer;\n",
              "      display: none;\n",
              "      fill: #1967D2;\n",
              "      height: 32px;\n",
              "      padding: 0 0 0 0;\n",
              "      width: 32px;\n",
              "    }\n",
              "\n",
              "    .colab-df-convert:hover {\n",
              "      background-color: #E2EBFA;\n",
              "      box-shadow: 0px 1px 2px rgba(60, 64, 67, 0.3), 0px 1px 3px 1px rgba(60, 64, 67, 0.15);\n",
              "      fill: #174EA6;\n",
              "    }\n",
              "\n",
              "    [theme=dark] .colab-df-convert {\n",
              "      background-color: #3B4455;\n",
              "      fill: #D2E3FC;\n",
              "    }\n",
              "\n",
              "    [theme=dark] .colab-df-convert:hover {\n",
              "      background-color: #434B5C;\n",
              "      box-shadow: 0px 1px 3px 1px rgba(0, 0, 0, 0.15);\n",
              "      filter: drop-shadow(0px 1px 2px rgba(0, 0, 0, 0.3));\n",
              "      fill: #FFFFFF;\n",
              "    }\n",
              "  </style>\n",
              "\n",
              "      <script>\n",
              "        const buttonEl =\n",
              "          document.querySelector('#df-5fe2c6bf-5696-4eb5-85ab-69e6ca4ab308 button.colab-df-convert');\n",
              "        buttonEl.style.display =\n",
              "          google.colab.kernel.accessAllowed ? 'block' : 'none';\n",
              "\n",
              "        async function convertToInteractive(key) {\n",
              "          const element = document.querySelector('#df-5fe2c6bf-5696-4eb5-85ab-69e6ca4ab308');\n",
              "          const dataTable =\n",
              "            await google.colab.kernel.invokeFunction('convertToInteractive',\n",
              "                                                     [key], {});\n",
              "          if (!dataTable) return;\n",
              "\n",
              "          const docLinkHtml = 'Like what you see? Visit the ' +\n",
              "            '<a target=\"_blank\" href=https://colab.research.google.com/notebooks/data_table.ipynb>data table notebook</a>'\n",
              "            + ' to learn more about interactive tables.';\n",
              "          element.innerHTML = '';\n",
              "          dataTable['output_type'] = 'display_data';\n",
              "          await google.colab.output.renderOutput(dataTable, element);\n",
              "          const docLink = document.createElement('div');\n",
              "          docLink.innerHTML = docLinkHtml;\n",
              "          element.appendChild(docLink);\n",
              "        }\n",
              "      </script>\n",
              "    </div>\n",
              "  </div>\n",
              "  "
            ]
          },
          "metadata": {},
          "execution_count": 58
        }
      ]
    },
    {
      "cell_type": "code",
      "source": [
        "price = data['Close']\n",
        "price"
      ],
      "metadata": {
        "colab": {
          "base_uri": "https://localhost:8080/"
        },
        "id": "ige-MULSC0iL",
        "outputId": "f3354574-4489-4a10-8da3-90caf944988e"
      },
      "execution_count": 59,
      "outputs": [
        {
          "output_type": "execute_result",
          "data": {
            "text/plain": [
              "Date\n",
              "2010-01-04    32.070000\n",
              "2010-01-05    31.990000\n",
              "2010-01-06    31.820000\n",
              "2010-01-07    31.830000\n",
              "2010-01-08    31.879999\n",
              "                ...    \n",
              "2023-05-12    91.989998\n",
              "2023-05-15    92.860001\n",
              "2023-05-16    90.980003\n",
              "2023-05-17    92.769997\n",
              "2023-05-18    93.760002\n",
              "Name: Close, Length: 3367, dtype: float64"
            ]
          },
          "metadata": {},
          "execution_count": 59
        }
      ]
    },
    {
      "cell_type": "code",
      "source": [
        "roll_max = data['Close'].rolling(len(price)-1,min_periods=1).max()\n",
        "daily_drawdown = data['Close']/roll_max - 1.0\n",
        "mdd = daily_drawdown.rolling(len(price)-1,min_periods=1).min()\n",
        "mdd.plot()"
      ],
      "metadata": {
        "colab": {
          "base_uri": "https://localhost:8080/",
          "height": 439
        },
        "id": "BnJjlt5sDbkt",
        "outputId": "fbb2462a-47ff-45a2-c5db-8e1d45b2d9b5"
      },
      "execution_count": 60,
      "outputs": [
        {
          "output_type": "execute_result",
          "data": {
            "text/plain": [
              "<Axes: xlabel='Date'>"
            ]
          },
          "metadata": {},
          "execution_count": 60
        },
        {
          "output_type": "display_data",
          "data": {
            "text/plain": [
              "<Figure size 640x480 with 1 Axes>"
            ],
            "image/png": "[encoded data removed]"
          },
          "metadata": {}
        }
      ]
    },
    {
      "cell_type": "code",
      "source": [
        "print(f\"Maximum Drawdown for the given period is: {mdd[-1]*100} %\")\n"
      ],
      "metadata": {
        "colab": {
          "base_uri": "https://localhost:8080/"
        },
        "id": "5LUb8HLsDflK",
        "outputId": "5cce05bf-ae17-4dc4-8572-a151b8332106"
      },
      "execution_count": 61,
      "outputs": [
        {
          "output_type": "stream",
          "name": "stdout",
          "text": [
            "Maximum Drawdown for the given period is: -58.313111464352495 %\n"
          ]
        }
      ]
    },
    {
      "cell_type": "code",
      "source": [
        "returns = data['Close'].resample('D').ffill().pct_change().to_numpy()\n",
        "returns[0] = 0\n",
        "returns"
      ],
      "metadata": {
        "colab": {
          "base_uri": "https://localhost:8080/"
        },
        "id": "W_xwRAMsDiTX",
        "outputId": "d13c1b7d-470b-4f8c-9499-d8f20577ce19"
      },
      "execution_count": 62,
      "outputs": [
        {
          "output_type": "execute_result",
          "data": {
            "text/plain": [
              "array([ 0.        , -0.00249454, -0.00531416, ..., -0.0202455 ,\n",
              "        0.01967458,  0.01067161])"
            ]
          },
          "metadata": {},
          "execution_count": 62
        }
      ]
    },
    {
      "cell_type": "code",
      "source": [
        "cumulative_ret =( 1+returns).cumprod()\n",
        "cumulative_ret"
      ],
      "metadata": {
        "colab": {
          "base_uri": "https://localhost:8080/"
        },
        "id": "LQg_dkUdDnFG",
        "outputId": "b46375e4-6075-4ee5-aea1-276a01503f70"
      },
      "execution_count": 63,
      "outputs": [
        {
          "output_type": "execute_result",
          "data": {
            "text/plain": [
              "array([1.        , 0.99750546, 0.99220455, ..., 2.83691937, 2.89273457,\n",
              "       2.92360471])"
            ]
          },
          "metadata": {},
          "execution_count": 63
        }
      ]
    },
    {
      "cell_type": "code",
      "source": [
        "print(f\"Cumulative return of stock is {cumulative_ret[-1]*100}%\")"
      ],
      "metadata": {
        "colab": {
          "base_uri": "https://localhost:8080/"
        },
        "id": "Ye3L0z-nDph5",
        "outputId": "673ef3e6-6f79-46fc-cdc0-623601c49ec2"
      },
      "execution_count": 64,
      "outputs": [
        {
          "output_type": "stream",
          "name": "stdout",
          "text": [
            "Cumulative return of stock is 292.36047093372036%\n"
          ]
        }
      ]
    },
    {
      "cell_type": "code",
      "source": [
        "yearly_returns = data['Close'].resample('Y').ffill().pct_change()\n",
        "yearly_returns"
      ],
      "metadata": {
        "colab": {
          "base_uri": "https://localhost:8080/"
        },
        "id": "w2WlbmVtDxma",
        "outputId": "b6354a3a-e62b-4a91-f948-129d67a7a00c"
      },
      "execution_count": 65,
      "outputs": [
        {
          "output_type": "execute_result",
          "data": {
            "text/plain": [
              "Date\n",
              "2010-12-31         NaN\n",
              "2011-12-31   -0.000267\n",
              "2012-12-31    0.327733\n",
              "2013-12-31    0.534445\n",
              "2014-12-31    0.232853\n",
              "2015-12-31    0.115617\n",
              "2016-12-31   -0.008184\n",
              "2017-12-31    0.031568\n",
              "2018-12-31    0.019905\n",
              "2019-12-31    0.319015\n",
              "2020-12-31    0.252714\n",
              "2021-12-31   -0.145104\n",
              "2022-12-31   -0.439086\n",
              "2023-12-31    0.079190\n",
              "Freq: A-DEC, Name: Close, dtype: float64"
            ]
          },
          "metadata": {},
          "execution_count": 65
        }
      ]
    },
    {
      "cell_type": "code",
      "source": [
        "monthly_returns = data['Close'].resample('M').ffill().pct_change()\n",
        "monthly_returns"
      ],
      "metadata": {
        "colab": {
          "base_uri": "https://localhost:8080/"
        },
        "id": "Q3j-VA-TD4bC",
        "outputId": "a0722b61-a44f-4232-ee99-6b0c3559e287"
      },
      "execution_count": 66,
      "outputs": [
        {
          "output_type": "execute_result",
          "data": {
            "text/plain": [
              "Date\n",
              "2010-01-31         NaN\n",
              "2010-02-28    0.057191\n",
              "2010-03-31    0.117478\n",
              "2010-04-30    0.055285\n",
              "2010-05-31   -0.092834\n",
              "                ...   \n",
              "2023-01-31    0.248734\n",
              "2023-02-28   -0.081851\n",
              "2023-03-31    0.005220\n",
              "2023-04-30    0.023669\n",
              "2023-05-31   -0.085268\n",
              "Freq: M, Name: Close, Length: 161, dtype: float64"
            ]
          },
          "metadata": {},
          "execution_count": 66
        }
      ]
    },
    {
      "cell_type": "code",
      "source": [
        "avg_yearly_return = yearly_returns.mean()\n",
        "print(f\"Average yearly return is : {avg_yearly_return*100}%\")"
      ],
      "metadata": {
        "colab": {
          "base_uri": "https://localhost:8080/"
        },
        "id": "PfYU7QkTD7gx",
        "outputId": "145d0301-c00d-4b58-9ed0-a6159cb6c101"
      },
      "execution_count": 67,
      "outputs": [
        {
          "output_type": "stream",
          "name": "stdout",
          "text": [
            "Average yearly return is : 10.156918542119028%\n"
          ]
        }
      ]
    },
    {
      "cell_type": "code",
      "source": [
        "sharpe_ratio = (avg_yearly_return - 0.07)/(monthly_returns.std())\n",
        "print(f\"Sharpe ratio is : {sharpe_ratio*10}\")"
      ],
      "metadata": {
        "colab": {
          "base_uri": "https://localhost:8080/"
        },
        "id": "FxzToUwYECsM",
        "outputId": "c39d18b8-98b9-48a4-ea7c-902917adb9ff"
      },
      "execution_count": 68,
      "outputs": [
        {
          "output_type": "stream",
          "name": "stdout",
          "text": [
            "Sharpe ratio is : 4.193174134925728\n"
          ]
        }
      ]
    },
    {
      "cell_type": "code",
      "source": [
        "neg_monthly_returns = monthly_returns[monthly_returns < 0]\n",
        "neg_monthly_returns"
      ],
      "metadata": {
        "colab": {
          "base_uri": "https://localhost:8080/"
        },
        "id": "oEOYYpEFEFdc",
        "outputId": "6394d5ac-66f9-4b11-eb4f-fc653d08944b"
      },
      "execution_count": 69,
      "outputs": [
        {
          "output_type": "execute_result",
          "data": {
            "text/plain": [
              "Date\n",
              "2010-05-31   -0.092834\n",
              "2010-06-30   -0.057451\n",
              "2010-08-31   -0.034135\n",
              "2011-03-31   -0.014861\n",
              "2011-05-31   -0.034107\n",
              "                ...   \n",
              "2022-09-30   -0.158369\n",
              "2022-11-30   -0.081378\n",
              "2022-12-31   -0.112292\n",
              "2023-02-28   -0.081851\n",
              "2023-05-31   -0.085268\n",
              "Name: Close, Length: 70, dtype: float64"
            ]
          },
          "metadata": {},
          "execution_count": 69
        }
      ]
    },
    {
      "cell_type": "code",
      "source": [
        "std_neg = neg_monthly_returns.std()\n",
        "sortino = ((avg_yearly_return - 0.07)*10.0)/std_neg\n",
        "print(f\"Sortino Ratio: {sortino}\")"
      ],
      "metadata": {
        "colab": {
          "base_uri": "https://localhost:8080/"
        },
        "id": "SKALiRLoEIlN",
        "outputId": "cae511ca-bf3c-4092-e8b8-29b84b4c8937"
      },
      "execution_count": 70,
      "outputs": [
        {
          "output_type": "stream",
          "name": "stdout",
          "text": [
            "Sortino Ratio: 6.7259835474067895\n"
          ]
        }
      ]
    },
    {
      "cell_type": "code",
      "source": [],
      "metadata": {
        "id": "mtbH0SA1ELIV"
      },
      "execution_count": null,
      "outputs": []
    }
  ]
}