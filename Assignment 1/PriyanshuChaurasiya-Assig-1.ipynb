{
 "cells": [
  {
   "cell_type": "code",
   "execution_count": 13,
   "metadata": {},
   "outputs": [],
   "source": [
    "# AAPL  AMZN  SSNLF TM S&P 500(^GSPC) NASDAQ(^IXIC)"
   ]
  },
  {
   "cell_type": "code",
   "execution_count": 14,
   "metadata": {},
   "outputs": [],
   "source": [
    "import pandas as pd\n",
    "import yfinance as yf\n",
    "import scipy.stats as stats"
   ]
  },
  {
   "cell_type": "code",
   "execution_count": 15,
   "metadata": {},
   "outputs": [],
   "source": [
    "list = [\"AAPL\",  \"AMZN\", \"SSNLF\", \"TM\", \"BABA\",\"^GSPC\",\"^IXIC\",\"^FTSE\",\"^N225\",\"^GDAXI\",\"^HSI\"]\n",
    "#   [Apple, Amazon ,Samsung ,Toyoto Motors, Ali Baba Grp, S&P500 ,\n",
    "#    NASDAQ Financial Times Stock Exchange 100,Deutscher Aktienindex,Hang Seng Index]"
   ]
  },
  {
   "cell_type": "code",
   "execution_count": 16,
   "metadata": {},
   "outputs": [
    {
     "name": "stdout",
     "output_type": "stream",
     "text": [
      "[*********************100%***********************]  1 of 1 completed\n",
      "[*********************100%***********************]  1 of 1 completed\n",
      "[*********************100%***********************]  1 of 1 completed\n",
      "[*********************100%***********************]  1 of 1 completed\n",
      "[*********************100%***********************]  1 of 1 completed\n",
      "[*********************100%***********************]  1 of 1 completed\n",
      "[*********************100%***********************]  1 of 1 completed\n",
      "[*********************100%***********************]  1 of 1 completed\n",
      "[*********************100%***********************]  1 of 1 completed\n",
      "[*********************100%***********************]  1 of 1 completed\n",
      "[*********************100%***********************]  1 of 1 completed\n"
     ]
    }
   ],
   "source": [
    "df = pd.DataFrame(columns= [\"Asset\",\"MaxDrawDown\",\"Commulative Return\",\"Sharp Ratio\",\"Sortino Ratio\"])\n",
    "\n",
    "# Create an empty list to store the stock dataframes\n",
    "dfs = []\n",
    "\n",
    "for stock in list:\n",
    "    stock_data = yf.download(stock,start=\"2020-05-01\", end =\"2023-05-01\",period='1d')\n",
    "    #for daily return \n",
    "    stock_data['Daily Return'] = stock_data['Adj Close'].pct_change()\n",
    "\n",
    "    #for cumulative return\n",
    "    cumulative_return = (1 + stock_data['Daily Return']).cumprod()[-1] - 1\n",
    "\n",
    "    # Calculate maximum drawdown\n",
    "    cum_returns = (1 + stock_data['Daily Return']).cumprod()\n",
    "    peak = cum_returns.cummax()\n",
    "    drawdown = (cum_returns / peak) - 1\n",
    "    max_drawdown = drawdown.min()\n",
    "\n",
    "    # mean return and standard deviation\n",
    "    mean_return = stock_data['Daily Return'].mean()*252\n",
    "    std_dev = stock_data['Daily Return'].mean()* (252 ** 0.5)\n",
    "\n",
    "    #Sharp Ratio\n",
    "    risk_free_rate = 0.05\n",
    "    sharp_ratio = (mean_return - risk_free_rate)/std_dev\n",
    "\n",
    "    #Sortino ratio\n",
    "    downside_returns = stock_data['Daily Return'].where(stock_data['Daily Return'] < 0)\n",
    "    downside_std = downside_returns.std() * (252 ** 0.5)\n",
    "    sortino_ratio = (mean_return - risk_free_rate)/downside_std\n",
    "\n",
    "    #arranging the data in the dataframe\n",
    "    stock_metrics = pd.DataFrame({\n",
    "                    \"Asset\":[stock],\n",
    "                    \"MaxDrawDown\":[max_drawdown],\n",
    "                    \"Commulative Return\":[cumulative_return],\n",
    "                    \"Sharp Ratio\":[sharp_ratio],\n",
    "                    \"Sortino Ratio\":[sortino_ratio]\n",
    "                    }, index = [0])\n",
    "    \n",
    "    # Append the stock dataframe to the list of dataframes\n",
    "    dfs.append(stock_metrics)\n",
    "\n",
    "#concatinating the stock_metrics df\n",
    "df = pd.concat(dfs, ignore_index=True)\n",
    "\n"
   ]
  },
  {
   "cell_type": "code",
   "execution_count": 17,
   "metadata": {},
   "outputs": [
    {
     "name": "stdout",
     "output_type": "stream",
     "text": [
      "     Asset  MaxDrawDown  Commulative Return  Sharp Ratio  Sortino Ratio\n",
      "0     AAPL    -0.309128            1.394625    13.556648       1.413374\n",
      "1     AMZN    -0.561453           -0.077444    -1.546779      -0.017072\n",
      "2    SSNLF    -1.142673           -1.000000    16.048017      -1.225917\n",
      "3       TM    -0.383593            0.133834     4.461513       0.128942\n",
      "4     BABA    -0.800877           -0.564531    22.242040      -0.524081\n",
      "5    ^GSPC    -0.254251            0.472945    10.500849       0.716240\n",
      "6    ^IXIC    -0.363953            0.420877    10.518226       0.570102\n",
      "7    ^FTSE    -0.139876            0.365689     9.106697       0.564233\n",
      "8    ^N225    -0.194084            0.470815    10.595212       0.837803\n",
      "9   ^GDAXI    -0.264028            0.521227    10.876419       0.762243\n",
      "10    ^HSI    -0.527520           -0.157502    45.009671      -0.491918\n"
     ]
    }
   ],
   "source": [
    "print(df)"
   ]
  }
 ],
 "metadata": {
  "kernelspec": {
   "display_name": "Python 3",
   "language": "python",
   "name": "python3"
  },
  "language_info": {
   "codemirror_mode": {
    "name": "ipython",
    "version": 3
   },
   "file_extension": ".py",
   "mimetype": "text/x-python",
   "name": "python",
   "nbconvert_exporter": "python",
   "pygments_lexer": "ipython3",
   "version": "3.9.7"
  },
  "orig_nbformat": 4
 },
 "nbformat": 4,
 "nbformat_minor": 2
}
