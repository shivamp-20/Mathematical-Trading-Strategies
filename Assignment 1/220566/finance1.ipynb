{
 "cells": [
  {
   "cell_type": "code",
   "execution_count": 22,
   "metadata": {},
   "outputs": [],
   "source": [
    "import numpy as np\n",
    "import pandas as pd\n",
    "import yfinance as yf"
   ]
  },
  {
   "cell_type": "code",
   "execution_count": 23,
   "metadata": {},
   "outputs": [
    {
     "name": "stdout",
     "output_type": "stream",
     "text": [
      "[*********************100%***********************]  1 of 1 completed\n"
     ]
    },
    {
     "data": {
      "text/html": [
       "<div>\n",
       "<style scoped>\n",
       "    .dataframe tbody tr th:only-of-type {\n",
       "        vertical-align: middle;\n",
       "    }\n",
       "\n",
       "    .dataframe tbody tr th {\n",
       "        vertical-align: top;\n",
       "    }\n",
       "\n",
       "    .dataframe thead th {\n",
       "        text-align: right;\n",
       "    }\n",
       "</style>\n",
       "<table border=\"1\" class=\"dataframe\">\n",
       "  <thead>\n",
       "    <tr style=\"text-align: right;\">\n",
       "      <th></th>\n",
       "      <th>Open</th>\n",
       "      <th>High</th>\n",
       "      <th>Low</th>\n",
       "      <th>Close</th>\n",
       "      <th>Adj Close</th>\n",
       "      <th>Volume</th>\n",
       "    </tr>\n",
       "    <tr>\n",
       "      <th>Date</th>\n",
       "      <th></th>\n",
       "      <th></th>\n",
       "      <th></th>\n",
       "      <th></th>\n",
       "      <th></th>\n",
       "      <th></th>\n",
       "    </tr>\n",
       "  </thead>\n",
       "  <tbody>\n",
       "    <tr>\n",
       "      <th>2010-01-04</th>\n",
       "      <td>10430.690430</td>\n",
       "      <td>10604.969727</td>\n",
       "      <td>10430.690430</td>\n",
       "      <td>10583.959961</td>\n",
       "      <td>10583.959961</td>\n",
       "      <td>179780000</td>\n",
       "    </tr>\n",
       "    <tr>\n",
       "      <th>2010-01-05</th>\n",
       "      <td>10584.559570</td>\n",
       "      <td>10584.559570</td>\n",
       "      <td>10522.519531</td>\n",
       "      <td>10572.019531</td>\n",
       "      <td>10572.019531</td>\n",
       "      <td>188540000</td>\n",
       "    </tr>\n",
       "    <tr>\n",
       "      <th>2010-01-06</th>\n",
       "      <td>10564.719727</td>\n",
       "      <td>10594.990234</td>\n",
       "      <td>10546.549805</td>\n",
       "      <td>10573.679688</td>\n",
       "      <td>10573.679688</td>\n",
       "      <td>186040000</td>\n",
       "    </tr>\n",
       "    <tr>\n",
       "      <th>2010-01-07</th>\n",
       "      <td>10571.110352</td>\n",
       "      <td>10612.370117</td>\n",
       "      <td>10505.209961</td>\n",
       "      <td>10606.860352</td>\n",
       "      <td>10606.860352</td>\n",
       "      <td>217390000</td>\n",
       "    </tr>\n",
       "    <tr>\n",
       "      <th>2010-01-08</th>\n",
       "      <td>10606.400391</td>\n",
       "      <td>10619.400391</td>\n",
       "      <td>10554.330078</td>\n",
       "      <td>10618.190430</td>\n",
       "      <td>10618.190430</td>\n",
       "      <td>172710000</td>\n",
       "    </tr>\n",
       "    <tr>\n",
       "      <th>...</th>\n",
       "      <td>...</td>\n",
       "      <td>...</td>\n",
       "      <td>...</td>\n",
       "      <td>...</td>\n",
       "      <td>...</td>\n",
       "      <td>...</td>\n",
       "    </tr>\n",
       "    <tr>\n",
       "      <th>2023-04-28</th>\n",
       "      <td>33797.429688</td>\n",
       "      <td>34104.558594</td>\n",
       "      <td>33728.398438</td>\n",
       "      <td>34098.160156</td>\n",
       "      <td>34098.160156</td>\n",
       "      <td>354310000</td>\n",
       "    </tr>\n",
       "    <tr>\n",
       "      <th>2023-05-01</th>\n",
       "      <td>34116.808594</td>\n",
       "      <td>34257.828125</td>\n",
       "      <td>34030.140625</td>\n",
       "      <td>34051.699219</td>\n",
       "      <td>34051.699219</td>\n",
       "      <td>244190000</td>\n",
       "    </tr>\n",
       "    <tr>\n",
       "      <th>2023-05-02</th>\n",
       "      <td>34017.621094</td>\n",
       "      <td>34017.750000</td>\n",
       "      <td>33436.660156</td>\n",
       "      <td>33684.531250</td>\n",
       "      <td>33684.531250</td>\n",
       "      <td>274460000</td>\n",
       "    </tr>\n",
       "    <tr>\n",
       "      <th>2023-05-03</th>\n",
       "      <td>33726.640625</td>\n",
       "      <td>33811.839844</td>\n",
       "      <td>33396.050781</td>\n",
       "      <td>33414.238281</td>\n",
       "      <td>33414.238281</td>\n",
       "      <td>286900000</td>\n",
       "    </tr>\n",
       "    <tr>\n",
       "      <th>2023-05-04</th>\n",
       "      <td>33347.781250</td>\n",
       "      <td>33354.859375</td>\n",
       "      <td>32937.500000</td>\n",
       "      <td>33127.738281</td>\n",
       "      <td>33127.738281</td>\n",
       "      <td>305160000</td>\n",
       "    </tr>\n",
       "  </tbody>\n",
       "</table>\n",
       "<p>3357 rows × 6 columns</p>\n",
       "</div>"
      ],
      "text/plain": [
       "                    Open          High           Low         Close  \\\n",
       "Date                                                                 \n",
       "2010-01-04  10430.690430  10604.969727  10430.690430  10583.959961   \n",
       "2010-01-05  10584.559570  10584.559570  10522.519531  10572.019531   \n",
       "2010-01-06  10564.719727  10594.990234  10546.549805  10573.679688   \n",
       "2010-01-07  10571.110352  10612.370117  10505.209961  10606.860352   \n",
       "2010-01-08  10606.400391  10619.400391  10554.330078  10618.190430   \n",
       "...                  ...           ...           ...           ...   \n",
       "2023-04-28  33797.429688  34104.558594  33728.398438  34098.160156   \n",
       "2023-05-01  34116.808594  34257.828125  34030.140625  34051.699219   \n",
       "2023-05-02  34017.621094  34017.750000  33436.660156  33684.531250   \n",
       "2023-05-03  33726.640625  33811.839844  33396.050781  33414.238281   \n",
       "2023-05-04  33347.781250  33354.859375  32937.500000  33127.738281   \n",
       "\n",
       "               Adj Close     Volume  \n",
       "Date                                 \n",
       "2010-01-04  10583.959961  179780000  \n",
       "2010-01-05  10572.019531  188540000  \n",
       "2010-01-06  10573.679688  186040000  \n",
       "2010-01-07  10606.860352  217390000  \n",
       "2010-01-08  10618.190430  172710000  \n",
       "...                  ...        ...  \n",
       "2023-04-28  34098.160156  354310000  \n",
       "2023-05-01  34051.699219  244190000  \n",
       "2023-05-02  33684.531250  274460000  \n",
       "2023-05-03  33414.238281  286900000  \n",
       "2023-05-04  33127.738281  305160000  \n",
       "\n",
       "[3357 rows x 6 columns]"
      ]
     },
     "execution_count": 23,
     "metadata": {},
     "output_type": "execute_result"
    }
   ],
   "source": [
    "S_K600 = yf.download(tickers = \"^DJI\",start=\"2010-01-01\",\n",
    "                     end=\"2023-05-05\")\n",
    "S_K600"
   ]
  },
  {
   "cell_type": "code",
   "execution_count": 24,
   "metadata": {},
   "outputs": [
    {
     "data": {
      "text/plain": [
       "14.487639546163365"
      ]
     },
     "execution_count": 24,
     "metadata": {},
     "output_type": "execute_result"
    }
   ],
   "source": [
    "S_K600['daily_returns']=(S_K600['Close']-S_K600['Open'])/S_K600['Open']*100\n",
    "daily_returns=S_K600['daily_returns']\n",
    "daily_returns\n",
    "volatility=daily_returns.std()*(252**0.5)\n",
    "volatility"
   ]
  },
  {
   "cell_type": "code",
   "execution_count": 25,
   "metadata": {},
   "outputs": [
    {
     "data": {
      "text/plain": [
       "Date\n",
       "2010-01-04    1.000141\n",
       "2010-01-05    1.000130\n",
       "2010-01-06    1.000138\n",
       "2010-01-07    1.000170\n",
       "2010-01-08    1.000180\n",
       "                ...   \n",
       "2023-04-28    1.007247\n",
       "2023-05-01    1.007242\n",
       "2023-05-02    1.007213\n",
       "2023-05-03    1.007185\n",
       "2023-05-04    1.007165\n",
       "Length: 3357, dtype: float64"
      ]
     },
     "execution_count": 25,
     "metadata": {},
     "output_type": "execute_result"
    }
   ],
   "source": [
    "cumulative_returns= (1 + S_K600['daily_returns']/S_K600['Open']).cumprod()\n",
    "cumulative_returns\n"
   ]
  },
  {
   "cell_type": "code",
   "execution_count": 26,
   "metadata": {},
   "outputs": [
    {
     "data": {
      "text/plain": [
       "-0.37086171369594323"
      ]
     },
     "execution_count": 26,
     "metadata": {},
     "output_type": "execute_result"
    }
   ],
   "source": [
    "cumulative_max = S_K600['Close'].cummax()\n",
    "drawdowns = (S_K600['Close'] - cumulative_max)/cumulative_max\n",
    "max_drawdown = drawdowns.min()\n",
    "max_drawdown\n",
    "\n"
   ]
  },
  {
   "cell_type": "code",
   "execution_count": 27,
   "metadata": {},
   "outputs": [
    {
     "data": {
      "text/plain": [
       "0.4992787807793748"
      ]
     },
     "execution_count": 27,
     "metadata": {},
     "output_type": "execute_result"
    }
   ],
   "source": [
    "    annualized_mean_return = daily_returns.mean()*252\n",
    "    annualized_std_dev = daily_returns.std() * (252**0.5)\n",
    "    risk_free_rate=0\n",
    "    sharpe_ratio=(annualized_mean_return-risk_free_rate)/annualized_std_dev\n",
    "    sharpe_ratio\n",
    "    \n",
    "    \n",
    "    \n",
    "    \n",
    "    "
   ]
  },
  {
   "attachments": {},
   "cell_type": "markdown",
   "metadata": {},
   "source": [
    "Above sharpe ratio is calculated by assuming that risk free rate=0\n",
    "mean of daily return is equal to 0.457\n",
    "so let assume a target value of daily return as 0.8"
   ]
  },
  {
   "cell_type": "code",
   "execution_count": 28,
   "metadata": {},
   "outputs": [
    {
     "data": {
      "text/plain": [
       "5.625000549568026"
      ]
     },
     "execution_count": 28,
     "metadata": {},
     "output_type": "execute_result"
    }
   ],
   "source": [
    "target_returns=0.8\n",
    "difference=daily_returns-target_returns\n",
    "negative_differences=np.minimum(difference, 0)\n",
    "squared_negative_differences=negative_differences**2\n",
    "average_squared_negative_differences=np.mean(squared_negative_differences)\n",
    "downside_deviation=np.sqrt(average_squared_negative_differences)\n",
    "\n",
    "sortino_ratio=(annualized_mean_return-target_returns)/downside_deviation\n",
    "sortino_ratio\n"
   ]
  }
 ],
 "metadata": {
  "kernelspec": {
   "display_name": "Python 3",
   "language": "python",
   "name": "python3"
  },
  "language_info": {
   "codemirror_mode": {
    "name": "ipython",
    "version": 3
   },
   "file_extension": ".py",
   "mimetype": "text/x-python",
   "name": "python",
   "nbconvert_exporter": "python",
   "pygments_lexer": "ipython3",
   "version": "3.10.9"
  },
  "orig_nbformat": 4
 },
 "nbformat": 4,
 "nbformat_minor": 2
}
