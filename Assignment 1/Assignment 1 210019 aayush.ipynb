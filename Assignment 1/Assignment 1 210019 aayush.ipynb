{
 "cells": [
  {
   "cell_type": "code",
   "execution_count": 1,
   "metadata": {},
   "outputs": [],
   "source": [
    "import yfinance as yf\n",
    "import numpy as np\n",
    "import pandas as pd"
   ]
  },
  {
   "cell_type": "code",
   "execution_count": null,
   "metadata": {},
   "outputs": [],
   "source": [
    "ticker_symbols =  ['AAPL', 'GOOGL', 'MSFT', 'AMZN', 'AAL','HSI','BSE.NS','DJI','RUT','NYA']\n",
    "df = yf.download(ticker_symbols, start='2010-01-01', end='2023-01-01')"
   ]
  },
  {
   "cell_type": "code",
   "execution_count": null,
   "metadata": {},
   "outputs": [],
   "source": [
    "df.head()\n"
   ]
  },
  {
   "cell_type": "code",
   "execution_count": null,
   "metadata": {},
   "outputs": [],
   "source": [
    "df1=df['Adj Close']\n",
    "df1"
   ]
  },
  {
   "cell_type": "code",
   "execution_count": null,
   "metadata": {},
   "outputs": [],
   "source": [
    "cum_return = (df1.iloc[-1] - df1.iloc[0]) / df1.iloc[0]\n",
    "cum_return"
   ]
  },
  {
   "cell_type": "code",
   "execution_count": 6,
   "metadata": {},
   "outputs": [],
   "source": [
    "def std_dev(data):\n",
    "    n = len(data)\n",
    "    mean = sum(data) / n\n",
    "    deviations = sum([(x - mean)**2 for x in data])\n",
    "    variance = deviations / (n - 1)\n",
    "    s = variance**(1/2)\n",
    "    return s"
   ]
  },
  {
   "cell_type": "code",
   "execution_count": null,
   "metadata": {},
   "outputs": [],
   "source": [
    "df1\n",
    "len(df1)"
   ]
  },
  {
   "cell_type": "code",
   "execution_count": null,
   "metadata": {},
   "outputs": [],
   "source": [
    "def sharpe_ratio(return_series, N, rf):\n",
    "    mean = return_series.mean() * N -rf\n",
    "    sigma = return_series.std() * np.sqrt(N)\n",
    "    return mean / sigma\n",
    "\n",
    "N = 255 #255 trading days in a year\n",
    "rf =0.01 #1% risk free rate\n",
    "sharpes = df1.apply(sharpe_ratio, args=(N,rf,),axis=0)\n",
    "\n",
    "sharpes"
   ]
  },
  {
   "cell_type": "code",
   "execution_count": null,
   "metadata": {},
   "outputs": [],
   "source": [
    "def vola(return_series, N, rf):\n",
    "  return return_series.std() * np.sqrt(N)\n",
    "\n",
    "\n",
    "N = 255 #255 trading days in a year\n",
    "rf =0.01 #1% risk free rate\n",
    "vola = df1.apply(vola, args=(N,rf,),axis=0)\n",
    "\n",
    "\n",
    "vola\n",
    "  "
   ]
  },
  {
   "cell_type": "code",
   "execution_count": null,
   "metadata": {},
   "outputs": [],
   "source": [
    "adj_close_prices = df1\n",
    "\n",
    "\n",
    "def calculate_max_drawdown(prices):\n",
    "    cumulative_returns = prices / prices.iloc[0]\n",
    "    previous_peaks = cumulative_returns.cummax()\n",
    "    drawdowns = cumulative_returns - previous_peaks\n",
    "    max_drawdown = drawdowns.min()\n",
    "    return max_drawdown\n",
    "\n",
    "# Calculate maximum drawdown for each equity\n",
    "max_drawdowns = adj_close_prices.apply(calculate_max_drawdown, axis=0)\n",
    "\n",
    "# Display the maximum drawdown for each equity\n",
    "print(max_drawdowns)\n"
   ]
  },
  {
   "cell_type": "code",
   "execution_count": null,
   "metadata": {},
   "outputs": [],
   "source": [
    "def calculate_sortino_ratio(prices, risk_free_rate=0.0):\n",
    "    returns = prices.pct_change().dropna()\n",
    "    downside_returns = np.where(returns < risk_free_rate, returns, 0)\n",
    "    downside_deviation = np.std(downside_returns)\n",
    "    \n",
    "    expected_return = np.mean(returns)\n",
    "    sortino_ratio = (expected_return - risk_free_rate) / downside_deviation\n",
    "    return sortino_ratio\n",
    "\n",
    "# Calculate Sortino ratio for each equity\n",
    "sortino_ratios = adj_close_prices.apply(calculate_sortino_ratio, risk_free_rate=0.02)\n",
    "\n",
    "# Display the Sortino ratio for each equity\n",
    "print(sortino_ratios)"
   ]
  },
  {
   "cell_type": "code",
   "execution_count": 12,
   "metadata": {},
   "outputs": [],
   "source": [
    "ratios = [\"sortino_ratios\", \"sharpes\", \"vola\", \"max_drawdowns\"]\n",
    "\n",
    "ratio_dict = {\n",
    "    ratios[0]: sortino_ratios,\n",
    "    ratios[1]: sharpes,\n",
    "    ratios[2]: vola,\n",
    "    ratios[3]: max_drawdowns,\n",
    "}\n"
   ]
  },
  {
   "cell_type": "code",
   "execution_count": null,
   "metadata": {},
   "outputs": [],
   "source": [
    "df_final = pd.DataFrame(ratio_dict)\n",
    "df_final.index = [\"AAL\", \"AAPL\", \"AMZN\", \"BSE.NS\", \"DJI\", \"GOOGL\", \"HSI\", \"MSFT\", \"NYA\", \"RUT\"]\n",
    "\n",
    "df_final"
   ]
  },
  {
   "cell_type": "code",
   "execution_count": null,
   "metadata": {},
   "outputs": [],
   "source": [
    "# Saving DataFrame as a Markdown file\n",
    "#pip install tabulate\n",
    "\n",
    "import os\n",
    "\n",
    "current_working_directory = os.getcwd()\n",
    "\n",
    "df_final.to_markdown('Read_me.md')\n",
    "\n",
    "file_path = os.path.join(current_working_directory, \"Read_me.md\")\n",
    "\n",
    "print(file_path)\n",
    "\n"
   ]
  }
 ],
 "metadata": {
  "kernelspec": {
   "display_name": "Python 3",
   "language": "python",
   "name": "python3"
  },
  "language_info": {
   "codemirror_mode": {
    "name": "ipython",
    "version": 3
   },
   "file_extension": ".py",
   "mimetype": "text/x-python",
   "name": "python",
   "nbconvert_exporter": "python",
   "pygments_lexer": "ipython3",
   "version": "3.11.2"
  },
  "orig_nbformat": 4
 },
 "nbformat": 4,
 "nbformat_minor": 2
}
