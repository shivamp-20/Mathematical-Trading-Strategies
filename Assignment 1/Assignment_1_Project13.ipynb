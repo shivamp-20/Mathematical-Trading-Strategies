{
 "cells": [
  {
   "cell_type": "code",
   "execution_count": 63,
   "id": "2db9e642",
   "metadata": {},
   "outputs": [],
   "source": [
    "import yfinance as yf\n",
    "import pandas as pd\n",
    "import matplotlib.pyplot as plt\n",
    "import numpy as np\n",
    "import datetime\n",
    "from math import sqrt\n",
    "from datetime import date"
   ]
  },
  {
   "cell_type": "code",
   "execution_count": 64,
   "id": "37a9c34b",
   "metadata": {},
   "outputs": [
    {
     "data": {
      "text/html": [
       "<div>\n",
       "<style scoped>\n",
       "    .dataframe tbody tr th:only-of-type {\n",
       "        vertical-align: middle;\n",
       "    }\n",
       "\n",
       "    .dataframe tbody tr th {\n",
       "        vertical-align: top;\n",
       "    }\n",
       "\n",
       "    .dataframe thead th {\n",
       "        text-align: right;\n",
       "    }\n",
       "</style>\n",
       "<table border=\"1\" class=\"dataframe\">\n",
       "  <thead>\n",
       "    <tr style=\"text-align: right;\">\n",
       "      <th></th>\n",
       "      <th>^GSPC</th>\n",
       "      <th>^IXIC</th>\n",
       "      <th>^NYA</th>\n",
       "      <th>^DJI</th>\n",
       "      <th>^XAX</th>\n",
       "    </tr>\n",
       "  </thead>\n",
       "  <tbody>\n",
       "    <tr>\n",
       "      <th>Cumulative Returns</th>\n",
       "      <td>NaN</td>\n",
       "      <td>NaN</td>\n",
       "      <td>NaN</td>\n",
       "      <td>NaN</td>\n",
       "      <td>NaN</td>\n",
       "    </tr>\n",
       "    <tr>\n",
       "      <th>Volatility</th>\n",
       "      <td>NaN</td>\n",
       "      <td>NaN</td>\n",
       "      <td>NaN</td>\n",
       "      <td>NaN</td>\n",
       "      <td>NaN</td>\n",
       "    </tr>\n",
       "    <tr>\n",
       "      <th>Sharpe ratio</th>\n",
       "      <td>NaN</td>\n",
       "      <td>NaN</td>\n",
       "      <td>NaN</td>\n",
       "      <td>NaN</td>\n",
       "      <td>NaN</td>\n",
       "    </tr>\n",
       "    <tr>\n",
       "      <th>Sortino ratio</th>\n",
       "      <td>NaN</td>\n",
       "      <td>NaN</td>\n",
       "      <td>NaN</td>\n",
       "      <td>NaN</td>\n",
       "      <td>NaN</td>\n",
       "    </tr>\n",
       "    <tr>\n",
       "      <th>MDD</th>\n",
       "      <td>NaN</td>\n",
       "      <td>NaN</td>\n",
       "      <td>NaN</td>\n",
       "      <td>NaN</td>\n",
       "      <td>NaN</td>\n",
       "    </tr>\n",
       "  </tbody>\n",
       "</table>\n",
       "</div>"
      ],
      "text/plain": [
       "                   ^GSPC ^IXIC ^NYA ^DJI ^XAX\n",
       "Cumulative Returns   NaN   NaN  NaN  NaN  NaN\n",
       "Volatility           NaN   NaN  NaN  NaN  NaN\n",
       "Sharpe ratio         NaN   NaN  NaN  NaN  NaN\n",
       "Sortino ratio        NaN   NaN  NaN  NaN  NaN\n",
       "MDD                  NaN   NaN  NaN  NaN  NaN"
      ]
     },
     "execution_count": 64,
     "metadata": {},
     "output_type": "execute_result"
    }
   ],
   "source": [
    "Index=pd.DataFrame(index=[\"Cumulative Returns\",\"Volatility\",\"Sharpe ratio\",\"Sortino ratio\",\"MDD\"],columns=[\"^GSPC\",\"^IXIC\",\"^NYA\",\"^DJI\",\"^XAX\"])\n",
    "Index"
   ]
  },
  {
   "cell_type": "code",
   "execution_count": 65,
   "id": "6349347b",
   "metadata": {},
   "outputs": [
    {
     "data": {
      "text/html": [
       "<div>\n",
       "<style scoped>\n",
       "    .dataframe tbody tr th:only-of-type {\n",
       "        vertical-align: middle;\n",
       "    }\n",
       "\n",
       "    .dataframe tbody tr th {\n",
       "        vertical-align: top;\n",
       "    }\n",
       "\n",
       "    .dataframe thead th {\n",
       "        text-align: right;\n",
       "    }\n",
       "</style>\n",
       "<table border=\"1\" class=\"dataframe\">\n",
       "  <thead>\n",
       "    <tr style=\"text-align: right;\">\n",
       "      <th></th>\n",
       "      <th>AAPL</th>\n",
       "      <th>NVDA</th>\n",
       "      <th>AMD</th>\n",
       "      <th>MSFT</th>\n",
       "      <th>AMZN</th>\n",
       "    </tr>\n",
       "  </thead>\n",
       "  <tbody>\n",
       "    <tr>\n",
       "      <th>Cumulative Returns</th>\n",
       "      <td>NaN</td>\n",
       "      <td>NaN</td>\n",
       "      <td>NaN</td>\n",
       "      <td>NaN</td>\n",
       "      <td>NaN</td>\n",
       "    </tr>\n",
       "    <tr>\n",
       "      <th>Volatility</th>\n",
       "      <td>NaN</td>\n",
       "      <td>NaN</td>\n",
       "      <td>NaN</td>\n",
       "      <td>NaN</td>\n",
       "      <td>NaN</td>\n",
       "    </tr>\n",
       "    <tr>\n",
       "      <th>Sharpe ratio</th>\n",
       "      <td>NaN</td>\n",
       "      <td>NaN</td>\n",
       "      <td>NaN</td>\n",
       "      <td>NaN</td>\n",
       "      <td>NaN</td>\n",
       "    </tr>\n",
       "    <tr>\n",
       "      <th>Sortino ratio</th>\n",
       "      <td>NaN</td>\n",
       "      <td>NaN</td>\n",
       "      <td>NaN</td>\n",
       "      <td>NaN</td>\n",
       "      <td>NaN</td>\n",
       "    </tr>\n",
       "    <tr>\n",
       "      <th>MDD</th>\n",
       "      <td>NaN</td>\n",
       "      <td>NaN</td>\n",
       "      <td>NaN</td>\n",
       "      <td>NaN</td>\n",
       "      <td>NaN</td>\n",
       "    </tr>\n",
       "  </tbody>\n",
       "</table>\n",
       "</div>"
      ],
      "text/plain": [
       "                   AAPL NVDA  AMD MSFT AMZN\n",
       "Cumulative Returns  NaN  NaN  NaN  NaN  NaN\n",
       "Volatility          NaN  NaN  NaN  NaN  NaN\n",
       "Sharpe ratio        NaN  NaN  NaN  NaN  NaN\n",
       "Sortino ratio       NaN  NaN  NaN  NaN  NaN\n",
       "MDD                 NaN  NaN  NaN  NaN  NaN"
      ]
     },
     "execution_count": 65,
     "metadata": {},
     "output_type": "execute_result"
    }
   ],
   "source": [
    "Equity=pd.DataFrame(index=[\"Cumulative Returns\",\"Volatility\",\"Sharpe ratio\",\"Sortino ratio\",\"MDD\"],columns=[\"AAPL\",\"NVDA\",\"AMD\",\"MSFT\",\"AMZN\"])\n",
    "Equity"
   ]
  },
  {
   "cell_type": "code",
   "execution_count": 66,
   "id": "e98f2e01",
   "metadata": {},
   "outputs": [
    {
     "name": "stdout",
     "output_type": "stream",
     "text": [
      "[*********************100%***********************]  1 of 1 completed\n"
     ]
    }
   ],
   "source": [
    "gspc=yf.download(\"^GSPC\",start=\"2010-01-01\",end=\"2023-05-01\")"
   ]
  },
  {
   "cell_type": "code",
   "execution_count": 67,
   "id": "a0302297",
   "metadata": {},
   "outputs": [
    {
     "data": {
      "text/html": [
       "<div>\n",
       "<style scoped>\n",
       "    .dataframe tbody tr th:only-of-type {\n",
       "        vertical-align: middle;\n",
       "    }\n",
       "\n",
       "    .dataframe tbody tr th {\n",
       "        vertical-align: top;\n",
       "    }\n",
       "\n",
       "    .dataframe thead th {\n",
       "        text-align: right;\n",
       "    }\n",
       "</style>\n",
       "<table border=\"1\" class=\"dataframe\">\n",
       "  <thead>\n",
       "    <tr style=\"text-align: right;\">\n",
       "      <th></th>\n",
       "      <th>Open</th>\n",
       "      <th>High</th>\n",
       "      <th>Low</th>\n",
       "      <th>Close</th>\n",
       "      <th>Adj Close</th>\n",
       "      <th>Volume</th>\n",
       "    </tr>\n",
       "    <tr>\n",
       "      <th>Date</th>\n",
       "      <th></th>\n",
       "      <th></th>\n",
       "      <th></th>\n",
       "      <th></th>\n",
       "      <th></th>\n",
       "      <th></th>\n",
       "    </tr>\n",
       "  </thead>\n",
       "  <tbody>\n",
       "    <tr>\n",
       "      <th>2010-01-04</th>\n",
       "      <td>1116.560059</td>\n",
       "      <td>1133.869995</td>\n",
       "      <td>1116.560059</td>\n",
       "      <td>1132.989990</td>\n",
       "      <td>1132.989990</td>\n",
       "      <td>3991400000</td>\n",
       "    </tr>\n",
       "    <tr>\n",
       "      <th>2010-01-05</th>\n",
       "      <td>1132.660034</td>\n",
       "      <td>1136.630005</td>\n",
       "      <td>1129.660034</td>\n",
       "      <td>1136.520020</td>\n",
       "      <td>1136.520020</td>\n",
       "      <td>2491020000</td>\n",
       "    </tr>\n",
       "    <tr>\n",
       "      <th>2010-01-06</th>\n",
       "      <td>1135.709961</td>\n",
       "      <td>1139.189941</td>\n",
       "      <td>1133.949951</td>\n",
       "      <td>1137.140015</td>\n",
       "      <td>1137.140015</td>\n",
       "      <td>4972660000</td>\n",
       "    </tr>\n",
       "    <tr>\n",
       "      <th>2010-01-07</th>\n",
       "      <td>1136.270020</td>\n",
       "      <td>1142.459961</td>\n",
       "      <td>1131.319946</td>\n",
       "      <td>1141.689941</td>\n",
       "      <td>1141.689941</td>\n",
       "      <td>5270680000</td>\n",
       "    </tr>\n",
       "    <tr>\n",
       "      <th>2010-01-08</th>\n",
       "      <td>1140.520020</td>\n",
       "      <td>1145.390015</td>\n",
       "      <td>1136.219971</td>\n",
       "      <td>1144.979980</td>\n",
       "      <td>1144.979980</td>\n",
       "      <td>4389590000</td>\n",
       "    </tr>\n",
       "    <tr>\n",
       "      <th>...</th>\n",
       "      <td>...</td>\n",
       "      <td>...</td>\n",
       "      <td>...</td>\n",
       "      <td>...</td>\n",
       "      <td>...</td>\n",
       "      <td>...</td>\n",
       "    </tr>\n",
       "    <tr>\n",
       "      <th>2023-04-24</th>\n",
       "      <td>4132.069824</td>\n",
       "      <td>4142.410156</td>\n",
       "      <td>4117.770020</td>\n",
       "      <td>4137.040039</td>\n",
       "      <td>4137.040039</td>\n",
       "      <td>3290940000</td>\n",
       "    </tr>\n",
       "    <tr>\n",
       "      <th>2023-04-25</th>\n",
       "      <td>4126.430176</td>\n",
       "      <td>4126.430176</td>\n",
       "      <td>4071.379883</td>\n",
       "      <td>4071.629883</td>\n",
       "      <td>4071.629883</td>\n",
       "      <td>3978640000</td>\n",
       "    </tr>\n",
       "    <tr>\n",
       "      <th>2023-04-26</th>\n",
       "      <td>4087.780029</td>\n",
       "      <td>4089.669922</td>\n",
       "      <td>4049.350098</td>\n",
       "      <td>4055.989990</td>\n",
       "      <td>4055.989990</td>\n",
       "      <td>3837030000</td>\n",
       "    </tr>\n",
       "    <tr>\n",
       "      <th>2023-04-27</th>\n",
       "      <td>4075.290039</td>\n",
       "      <td>4138.240234</td>\n",
       "      <td>4075.290039</td>\n",
       "      <td>4135.350098</td>\n",
       "      <td>4135.350098</td>\n",
       "      <td>3750550000</td>\n",
       "    </tr>\n",
       "    <tr>\n",
       "      <th>2023-04-28</th>\n",
       "      <td>4129.629883</td>\n",
       "      <td>4170.060059</td>\n",
       "      <td>4127.180176</td>\n",
       "      <td>4169.479980</td>\n",
       "      <td>4169.479980</td>\n",
       "      <td>4087800000</td>\n",
       "    </tr>\n",
       "  </tbody>\n",
       "</table>\n",
       "<p>3352 rows × 6 columns</p>\n",
       "</div>"
      ],
      "text/plain": [
       "                   Open         High          Low        Close    Adj Close  \\\n",
       "Date                                                                          \n",
       "2010-01-04  1116.560059  1133.869995  1116.560059  1132.989990  1132.989990   \n",
       "2010-01-05  1132.660034  1136.630005  1129.660034  1136.520020  1136.520020   \n",
       "2010-01-06  1135.709961  1139.189941  1133.949951  1137.140015  1137.140015   \n",
       "2010-01-07  1136.270020  1142.459961  1131.319946  1141.689941  1141.689941   \n",
       "2010-01-08  1140.520020  1145.390015  1136.219971  1144.979980  1144.979980   \n",
       "...                 ...          ...          ...          ...          ...   \n",
       "2023-04-24  4132.069824  4142.410156  4117.770020  4137.040039  4137.040039   \n",
       "2023-04-25  4126.430176  4126.430176  4071.379883  4071.629883  4071.629883   \n",
       "2023-04-26  4087.780029  4089.669922  4049.350098  4055.989990  4055.989990   \n",
       "2023-04-27  4075.290039  4138.240234  4075.290039  4135.350098  4135.350098   \n",
       "2023-04-28  4129.629883  4170.060059  4127.180176  4169.479980  4169.479980   \n",
       "\n",
       "                Volume  \n",
       "Date                    \n",
       "2010-01-04  3991400000  \n",
       "2010-01-05  2491020000  \n",
       "2010-01-06  4972660000  \n",
       "2010-01-07  5270680000  \n",
       "2010-01-08  4389590000  \n",
       "...                ...  \n",
       "2023-04-24  3290940000  \n",
       "2023-04-25  3978640000  \n",
       "2023-04-26  3837030000  \n",
       "2023-04-27  3750550000  \n",
       "2023-04-28  4087800000  \n",
       "\n",
       "[3352 rows x 6 columns]"
      ]
     },
     "execution_count": 67,
     "metadata": {},
     "output_type": "execute_result"
    }
   ],
   "source": [
    "gspc"
   ]
  },
  {
   "cell_type": "code",
   "execution_count": 68,
   "id": "2b77b705",
   "metadata": {},
   "outputs": [
    {
     "name": "stdout",
     "output_type": "stream",
     "text": [
      "Date\n",
      "2010-01-04    1132.989990\n",
      "2010-01-05    1136.520020\n",
      "2010-01-06    1137.140015\n",
      "2010-01-07    1141.689941\n",
      "2010-01-08    1144.979980\n",
      "                 ...     \n",
      "2023-04-24    4137.040039\n",
      "2023-04-25    4071.629883\n",
      "2023-04-26    4055.989990\n",
      "2023-04-27    4135.350098\n",
      "2023-04-28    4169.479980\n",
      "Name: Close, Length: 3352, dtype: float64\n",
      "Date\n",
      "2010-01-04    1116.560059\n",
      "2010-01-05    1132.660034\n",
      "2010-01-06    1135.709961\n",
      "2010-01-07    1136.270020\n",
      "2010-01-08    1140.520020\n",
      "                 ...     \n",
      "2023-04-24    4132.069824\n",
      "2023-04-25    4126.430176\n",
      "2023-04-26    4087.780029\n",
      "2023-04-27    4075.290039\n",
      "2023-04-28    4129.629883\n",
      "Name: Open, Length: 3352, dtype: float64\n"
     ]
    }
   ],
   "source": [
    "close_pri=gspc[\"Close\"]\n",
    "open_pri=gspc[\"Open\"]\n",
    "print(close_pri)\n",
    "print(open_pri)"
   ]
  },
  {
   "cell_type": "code",
   "execution_count": 69,
   "id": "605f8088",
   "metadata": {},
   "outputs": [
    {
     "data": {
      "text/plain": [
       "Date\n",
       "2010-01-04    0.014715\n",
       "2010-01-05    0.003408\n",
       "2010-01-06    0.001259\n",
       "2010-01-07    0.004770\n",
       "2010-01-08    0.003910\n",
       "                ...   \n",
       "2023-04-24    0.001203\n",
       "2023-04-25   -0.013280\n",
       "2023-04-26   -0.007777\n",
       "2023-04-27    0.014738\n",
       "2023-04-28    0.009650\n",
       "Length: 3352, dtype: float64"
      ]
     },
     "execution_count": 69,
     "metadata": {},
     "output_type": "execute_result"
    }
   ],
   "source": [
    "daily_return = (close_pri - open_pri)/open_pri\n",
    "daily_return"
   ]
  },
  {
   "cell_type": "code",
   "execution_count": 70,
   "id": "7dfcb8a2",
   "metadata": {},
   "outputs": [
    {
     "name": "stdout",
     "output_type": "stream",
     "text": [
      "2.734219174667591\n"
     ]
    }
   ],
   "source": [
    "final_pri=gspc.iloc[-1][\"Close\"]\n",
    "original_pri=gspc.iloc[0][\"Open\"]\n",
    "\n",
    "cumulative=(final_pri-original_pri)/original_pri\n",
    "print(cumulative)"
   ]
  },
  {
   "cell_type": "code",
   "execution_count": 71,
   "id": "f87cde66",
   "metadata": {},
   "outputs": [
    {
     "data": {
      "text/plain": [
       "0.5421714410252612"
      ]
     },
     "execution_count": 71,
     "metadata": {},
     "output_type": "execute_result"
    }
   ],
   "source": [
    "std=daily_return.std()\n",
    "time_period=gspc.shape[0]\n",
    "volatility=std*sqrt(time_period)\n",
    "volatility"
   ]
  },
  {
   "cell_type": "raw",
   "id": "732f1174",
   "metadata": {},
   "source": []
  },
  {
   "cell_type": "code",
   "execution_count": 72,
   "id": "4579d98f",
   "metadata": {},
   "outputs": [],
   "source": [
    "rfrate = 0.0525"
   ]
  },
  {
   "cell_type": "code",
   "execution_count": 73,
   "id": "8e640d41",
   "metadata": {},
   "outputs": [
    {
     "data": {
      "text/plain": [
       "-5.576065548403583"
      ]
     },
     "execution_count": 73,
     "metadata": {},
     "output_type": "execute_result"
    }
   ],
   "source": [
    "excess_ret=daily_return-rfrate\n",
    "sharpe_ratio=excess_ret.mean()/excess_ret.std()\n",
    "sharpe_ratio"
   ]
  },
  {
   "cell_type": "code",
   "execution_count": 74,
   "id": "1310ede7",
   "metadata": {},
   "outputs": [
    {
     "data": {
      "text/plain": [
       "Date\n",
       "2010-01-12   -0.006636\n",
       "2010-01-15   -0.010185\n",
       "2010-01-20   -0.008633\n",
       "2010-01-21   -0.019496\n",
       "2010-01-22   -0.021273\n",
       "                ...   \n",
       "2023-04-14   -0.000597\n",
       "2023-04-18   -0.002255\n",
       "2023-04-20   -0.000167\n",
       "2023-04-25   -0.013280\n",
       "2023-04-26   -0.007777\n",
       "Length: 1539, dtype: float64"
      ]
     },
     "execution_count": 74,
     "metadata": {},
     "output_type": "execute_result"
    }
   ],
   "source": [
    "negative_ret=daily_return[daily_return<0]\n",
    "negative_ret\n"
   ]
  },
  {
   "cell_type": "code",
   "execution_count": 75,
   "id": "7460d8ed",
   "metadata": {},
   "outputs": [
    {
     "data": {
      "text/plain": [
       "-7.043707440168806"
      ]
     },
     "execution_count": 75,
     "metadata": {},
     "output_type": "execute_result"
    }
   ],
   "source": [
    "sortino_ratio=excess_ret.mean()/negative_ret.std()\n",
    "sortino_ratio"
   ]
  },
  {
   "cell_type": "code",
   "execution_count": 76,
   "id": "4277987a",
   "metadata": {},
   "outputs": [],
   "source": [
    "peak=close_pri.max()\n",
    "ind=list(np.where(close_pri==peak))\n",
    "ind=ind[0][0]\n",
    "\n",
    "index=close_pri.index\n",
    "peak_day=index[ind]\n",
    "\n",
    "peak_day=peak_day.strftime(\"%Y-%m-%d\")"
   ]
  },
  {
   "cell_type": "code",
   "execution_count": 77,
   "id": "6140618f",
   "metadata": {},
   "outputs": [
    {
     "data": {
      "text/plain": [
       "-25.4250966192304"
      ]
     },
     "execution_count": 77,
     "metadata": {},
     "output_type": "execute_result"
    }
   ],
   "source": [
    "gspc_later=gspc.loc[peak_day:\"2023-04-26\",:]\n",
    "minimum=gspc_later[\"Close\"].min()\n",
    "Mdd=(minimum-peak)/peak*100\n",
    "Mdd"
   ]
  },
  {
   "cell_type": "code",
   "execution_count": 78,
   "id": "034e8e31",
   "metadata": {},
   "outputs": [
    {
     "name": "stdout",
     "output_type": "stream",
     "text": [
      "[*********************100%***********************]  1 of 1 completed\n",
      "[*********************100%***********************]  1 of 1 completed\n",
      "[*********************100%***********************]  1 of 1 completed\n",
      "[*********************100%***********************]  1 of 1 completed\n",
      "[*********************100%***********************]  1 of 1 completed\n"
     ]
    }
   ],
   "source": [
    "for stock in Index.columns:\n",
    "    stck=yf.download(stock,start=\"2010-01-01\",end=\"2023-05-01\")\n",
    "    \n",
    "    close_pri=stck[\"Close\"]\n",
    "    open_pri=stck[\"Open\"]\n",
    "    daily_return=(close_pri-open_pri)/close_pri\n",
    "\n",
    "    final_pri=stck.iloc[-1][\"Close\"]\n",
    "    original_pri=stck.iloc[0][\"Open\"]\n",
    "\n",
    "    cumulative=(final_pri-original_pri)/original_pri\n",
    "    Index.at[\"Cumulative Returns\",stock]=cumulative\n",
    "\n",
    "    std=daily_return.std()\n",
    "    time_period=stck.shape[0]\n",
    "    volatility=std*sqrt(time_period)\n",
    "    Index.at[\"Volatility\",stock]=volatility\n",
    "\n",
    "    excess_ret=daily_return-rfrate\n",
    "    sharpe_ratio=excess_ret.mean()/excess_ret.std()\n",
    "\n",
    "    Index.at[\"Sharpe ratio\",stock]=sharpe_ratio\n",
    "    \n",
    "    negative_ret=daily_return[daily_return<0]\n",
    "    sortino_ratio=excess_ret.mean()/negative_ret.std()\n",
    "\n",
    "    Index.at[\"Sortino ratio\",stock]=sortino_ratio\n",
    "\n",
    "    peak=close_pri.max()\n",
    "    ind=list(np.where(close_pri==peak))\n",
    "    ind=ind[0][0]\n",
    "\n",
    "    index=close_pri.index\n",
    "    peak_day=index[ind]\n",
    "\n",
    "    peak_day=peak_day.strftime(\"%Y-%m-%d\")\n",
    "\n",
    "    stck_later=stck.loc[peak_day:\"2023-04-26\",:]\n",
    "    minimum=stck_later[\"Close\"].min()\n",
    "    Mdd=(minimum-peak)/peak*100\n",
    "\n",
    "    Index.at[\"MDD\",stock]=Mdd"
   ]
  },
  {
   "cell_type": "code",
   "execution_count": 79,
   "id": "616bed3a",
   "metadata": {},
   "outputs": [
    {
     "name": "stdout",
     "output_type": "stream",
     "text": [
      "[*********************100%***********************]  1 of 1 completed\n",
      "[*********************100%***********************]  1 of 1 completed\n",
      "[*********************100%***********************]  1 of 1 completed\n",
      "[*********************100%***********************]  1 of 1 completed\n",
      "[*********************100%***********************]  1 of 1 completed\n"
     ]
    }
   ],
   "source": [
    "for stock in Equity.columns:\n",
    "    stck=yf.download(stock,start=\"2010-01-01\",end=\"2023-05-01\")\n",
    "    \n",
    "    close_pri=stck[\"Close\"]\n",
    "    open_pri=stck[\"Open\"]\n",
    "    daily_return=(close_pri-open_pri)/close_pri\n",
    "\n",
    "    final_pri=stck.iloc[-1][\"Close\"]\n",
    "    original_pri=stck.iloc[0][\"Open\"]\n",
    "\n",
    "    cumulative=(final_pri-original_pri)/original_pri\n",
    "    Equity.at[\"Cumulative Returns\",stock]=cumulative\n",
    "\n",
    "    std=daily_return.std()\n",
    "    time_period=stck.shape[0]\n",
    "    volatility=std*sqrt(time_period)\n",
    "    Equity.at[\"Volatility\",stock]=volatility\n",
    "\n",
    "    excess_ret=daily_return-rfrate\n",
    "    sharpe_ratio=excess_ret.mean()/excess_ret.std()\n",
    "\n",
    "    Equity.at[\"Sharpe ratio\",stock]=sharpe_ratio\n",
    "    \n",
    "    negative_ret=daily_return[daily_return<0]\n",
    "    sortino_ratio=excess_ret.mean()/negative_ret.std()\n",
    "\n",
    "    Equity.at[\"Sortino ratio\",stock]=sortino_ratio\n",
    "\n",
    "    peak=close_pri.max()\n",
    "    ind=list(np.where(close_pri==peak))\n",
    "    ind=ind[0][0]\n",
    "\n",
    "    index=close_pri.index\n",
    "    peak_day=index[ind]\n",
    "\n",
    "    peak_day=peak_day.strftime(\"%Y-%m-%d\")\n",
    "\n",
    "    stck_later=stck.loc[peak_day:\"2023-04-26\",:]\n",
    "    minimum=stck_later[\"Close\"].min()\n",
    "    Mdd=(minimum-peak)/peak*100\n",
    "\n",
    "    Equity.at[\"MDD\",stock]=Mdd"
   ]
  },
  {
   "cell_type": "code",
   "execution_count": 80,
   "id": "0bd3630c",
   "metadata": {},
   "outputs": [
    {
     "data": {
      "text/html": [
       "<div>\n",
       "<style scoped>\n",
       "    .dataframe tbody tr th:only-of-type {\n",
       "        vertical-align: middle;\n",
       "    }\n",
       "\n",
       "    .dataframe tbody tr th {\n",
       "        vertical-align: top;\n",
       "    }\n",
       "\n",
       "    .dataframe thead th {\n",
       "        text-align: right;\n",
       "    }\n",
       "</style>\n",
       "<table border=\"1\" class=\"dataframe\">\n",
       "  <thead>\n",
       "    <tr style=\"text-align: right;\">\n",
       "      <th></th>\n",
       "      <th>^GSPC</th>\n",
       "      <th>^IXIC</th>\n",
       "      <th>^NYA</th>\n",
       "      <th>^DJI</th>\n",
       "      <th>^XAX</th>\n",
       "    </tr>\n",
       "  </thead>\n",
       "  <tbody>\n",
       "    <tr>\n",
       "      <th>Cumulative Returns</th>\n",
       "      <td>2.734219</td>\n",
       "      <td>4.328856</td>\n",
       "      <td>1.163664</td>\n",
       "      <td>2.269022</td>\n",
       "      <td>1.301159</td>\n",
       "    </tr>\n",
       "    <tr>\n",
       "      <th>Volatility</th>\n",
       "      <td>0.544161</td>\n",
       "      <td>0.586643</td>\n",
       "      <td>0.57697</td>\n",
       "      <td>0.5299</td>\n",
       "      <td>0.636393</td>\n",
       "    </tr>\n",
       "    <tr>\n",
       "      <th>Sharpe ratio</th>\n",
       "      <td>-5.565048</td>\n",
       "      <td>-5.167094</td>\n",
       "      <td>-5.26633</td>\n",
       "      <td>-5.713795</td>\n",
       "      <td>-4.771182</td>\n",
       "    </tr>\n",
       "    <tr>\n",
       "      <th>Sortino ratio</th>\n",
       "      <td>-6.837958</td>\n",
       "      <td>-6.616088</td>\n",
       "      <td>-5.923259</td>\n",
       "      <td>-7.124817</td>\n",
       "      <td>-5.907244</td>\n",
       "    </tr>\n",
       "    <tr>\n",
       "      <th>MDD</th>\n",
       "      <td>-25.425097</td>\n",
       "      <td>-36.39528</td>\n",
       "      <td>-22.367372</td>\n",
       "      <td>-21.940804</td>\n",
       "      <td>-16.282638</td>\n",
       "    </tr>\n",
       "  </tbody>\n",
       "</table>\n",
       "</div>"
      ],
      "text/plain": [
       "                        ^GSPC     ^IXIC       ^NYA       ^DJI       ^XAX\n",
       "Cumulative Returns   2.734219  4.328856   1.163664   2.269022   1.301159\n",
       "Volatility           0.544161  0.586643    0.57697     0.5299   0.636393\n",
       "Sharpe ratio        -5.565048 -5.167094   -5.26633  -5.713795  -4.771182\n",
       "Sortino ratio       -6.837958 -6.616088  -5.923259  -7.124817  -5.907244\n",
       "MDD                -25.425097 -36.39528 -22.367372 -21.940804 -16.282638"
      ]
     },
     "execution_count": 80,
     "metadata": {},
     "output_type": "execute_result"
    }
   ],
   "source": [
    "Index"
   ]
  },
  {
   "cell_type": "code",
   "execution_count": 81,
   "id": "9920c46b",
   "metadata": {},
   "outputs": [
    {
     "data": {
      "text/html": [
       "<div>\n",
       "<style scoped>\n",
       "    .dataframe tbody tr th:only-of-type {\n",
       "        vertical-align: middle;\n",
       "    }\n",
       "\n",
       "    .dataframe tbody tr th {\n",
       "        vertical-align: top;\n",
       "    }\n",
       "\n",
       "    .dataframe thead th {\n",
       "        text-align: right;\n",
       "    }\n",
       "</style>\n",
       "<table border=\"1\" class=\"dataframe\">\n",
       "  <thead>\n",
       "    <tr style=\"text-align: right;\">\n",
       "      <th></th>\n",
       "      <th>AAPL</th>\n",
       "      <th>NVDA</th>\n",
       "      <th>AMD</th>\n",
       "      <th>MSFT</th>\n",
       "      <th>AMZN</th>\n",
       "    </tr>\n",
       "  </thead>\n",
       "  <tbody>\n",
       "    <tr>\n",
       "      <th>Cumulative Returns</th>\n",
       "      <td>21.260412</td>\n",
       "      <td>58.965421</td>\n",
       "      <td>8.128703</td>\n",
       "      <td>9.034618</td>\n",
       "      <td>14.478899</td>\n",
       "    </tr>\n",
       "    <tr>\n",
       "      <th>Volatility</th>\n",
       "      <td>0.811796</td>\n",
       "      <td>1.330912</td>\n",
       "      <td>1.65563</td>\n",
       "      <td>0.73273</td>\n",
       "      <td>0.951726</td>\n",
       "    </tr>\n",
       "    <tr>\n",
       "      <th>Sharpe ratio</th>\n",
       "      <td>-3.732596</td>\n",
       "      <td>-2.283077</td>\n",
       "      <td>-1.865179</td>\n",
       "      <td>-4.1272</td>\n",
       "      <td>-3.199914</td>\n",
       "    </tr>\n",
       "    <tr>\n",
       "      <th>Sortino ratio</th>\n",
       "      <td>-5.307824</td>\n",
       "      <td>-3.235223</td>\n",
       "      <td>-2.808216</td>\n",
       "      <td>-5.75286</td>\n",
       "      <td>-4.612498</td>\n",
       "    </tr>\n",
       "    <tr>\n",
       "      <th>MDD</th>\n",
       "      <td>-31.311466</td>\n",
       "      <td>-66.362059</td>\n",
       "      <td>-65.449943</td>\n",
       "      <td>-37.556466</td>\n",
       "      <td>-56.145263</td>\n",
       "    </tr>\n",
       "  </tbody>\n",
       "</table>\n",
       "</div>"
      ],
      "text/plain": [
       "                         AAPL       NVDA        AMD       MSFT       AMZN\n",
       "Cumulative Returns  21.260412  58.965421   8.128703   9.034618  14.478899\n",
       "Volatility           0.811796   1.330912    1.65563    0.73273   0.951726\n",
       "Sharpe ratio        -3.732596  -2.283077  -1.865179    -4.1272  -3.199914\n",
       "Sortino ratio       -5.307824  -3.235223  -2.808216   -5.75286  -4.612498\n",
       "MDD                -31.311466 -66.362059 -65.449943 -37.556466 -56.145263"
      ]
     },
     "execution_count": 81,
     "metadata": {},
     "output_type": "execute_result"
    }
   ],
   "source": [
    "Equity"
   ]
  },
  {
   "cell_type": "code",
   "execution_count": null,
   "id": "0ddcb023",
   "metadata": {},
   "outputs": [],
   "source": []
  }
 ],
 "metadata": {
  "kernelspec": {
   "display_name": "Python 3 (ipykernel)",
   "language": "python",
   "name": "python3"
  },
  "language_info": {
   "codemirror_mode": {
    "name": "ipython",
    "version": 3
   },
   "file_extension": ".py",
   "mimetype": "text/x-python",
   "name": "python",
   "nbconvert_exporter": "python",
   "pygments_lexer": "ipython3",
   "version": "3.10.4"
  }
 },
 "nbformat": 4,
 "nbformat_minor": 5
}
