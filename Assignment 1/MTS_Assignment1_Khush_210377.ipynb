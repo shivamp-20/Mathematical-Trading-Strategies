{
  "nbformat": 4,
  "nbformat_minor": 0,
  "metadata": {
    "colab": {
      "provenance": []
    },
    "kernelspec": {
      "name": "python3",
      "display_name": "Python 3"
    },
    "language_info": {
      "name": "python"
    }
  },
  "cells": [
    {
      "cell_type": "code",
      "execution_count": null,
      "metadata": {
        "id": "TV5eQz2n0lay"
      },
      "outputs": [],
      "source": [
        "import yfinance as yf\n",
        "import pandas as pd\n",
        "import numpy as np\n",
        "from scipy.stats import norm\n",
        "\n",
        "# Define the list of indices and equities\n",
        "indices = ['^GSPC', '^IXIC', '^DJI', '^FTSE', '^W5000']\n",
        "equities = ['AAPL', 'GOOGL', 'MSFT', 'AMZN', 'IBM', 'AXP', 'XOM']\n",
        "\n",
        "#All equities and indices are USA, so that risk-free return for all is taken as treasury rate of USA, i.e. 5.25%\n",
        "risk_free_rate = 5.25\n",
        "trading_days_per_year = 252  # Assuming 252 trading days in a year\n",
        "interest_earning_days_per_year = 365"
      ]
    },
    {
      "cell_type": "code",
      "source": [
        "# Initialize an empty DataFrame to store the results\n",
        "results_indices = pd.DataFrame(index=indices, columns=['Cumulative Returns', 'Volatality', 'Sharpe Ratio', 'Sortino Ratio', 'Maximum Drawdown'])\n",
        "\n",
        "# Loop through the indices and retrieve historical data\n",
        "for index in indices:\n",
        "    data = yf.download(index, start='2010-01-01', end='2023-05-01', progress=False)\n",
        "    data['Daily Returns'] = data['Adj Close'].pct_change()\n",
        "    results_indices.loc[index, 'Cumulative Returns'] = (data.iloc[-1]['Close'] - data.iloc[0]['Open'])*100/data.iloc[0]['Open']\n",
        "    data['Cumulative Maximum Daily Returns'] = data['Daily Returns'].cummax()\n",
        "    data['Drawdown'] = (data['Daily Returns']/data['Daily Returns'].cummax() - 1)\n",
        "    results_indices.loc[index, 'Maximum Drawdown'] = data['Drawdown'].min()\n",
        "    mean_return = data['Daily Returns'].mean()\n",
        "    std_return = data['Daily Returns'].std()\n",
        "    sharpe_ratio = (mean_return - risk_free_rate/100/interest_earning_days_per_year) / std_return * np.sqrt(trading_days_per_year)\n",
        "    results_indices.loc[index, 'Sharpe Ratio'] = sharpe_ratio\n",
        "    results_indices.loc[index, 'Volatality'] = std_return* np.sqrt(trading_days_per_year)\n",
        "    sortino_ratio = (mean_return - risk_free_rate/100/interest_earning_days_per_year) / data['Daily Returns'][data['Daily Returns'] < 0].std() * np.sqrt(trading_days_per_year)\n",
        "    results_indices.loc[index, 'Sortino Ratio'] = sortino_ratio"
      ],
      "metadata": {
        "id": "Kc40MLew1Vid"
      },
      "execution_count": null,
      "outputs": []
    },
    {
      "cell_type": "code",
      "source": [
        "# Initialize an empty DataFrame to store the results\n",
        "results_equities = pd.DataFrame(index=equities, columns=['Cumulative Returns', 'Volatality', 'Sharpe Ratio', 'Sortino Ratio', 'Maximum Drawdown'])\n",
        "\n",
        "# Loop through the equities and retrieve historical data\n",
        "for equity in equities:\n",
        "    data = yf.download(equity, start='2010-01-01', end='2023-05-01', progress=False)\n",
        "    data['Daily Returns'] = data['Adj Close'].pct_change()\n",
        "    results_equities.loc[equity, 'Cumulative Returns'] = (data.iloc[-1]['Close'] - data.iloc[0]['Open'])*100/data.iloc[0]['Open']\n",
        "    data['Cumulative Maximum Daily Returns'] = data['Daily Returns'].cummax()\n",
        "    data['Drawdown'] = (data['Daily Returns']/data['Daily Returns'].cummax() - 1)\n",
        "    results_equities.loc[equity, 'Maximum Drawdown'] = data['Drawdown'].min()\n",
        "    mean_return = data['Daily Returns'].mean()\n",
        "    std_return = data['Daily Returns'].std()\n",
        "    sharpe_ratio = (mean_return - risk_free_rate/100/interest_earning_days_per_year) / std_return * np.sqrt(trading_days_per_year)\n",
        "    results_equities.loc[equity, 'Sharpe Ratio'] = sharpe_ratio\n",
        "    results_equities.loc[equity, 'Volatality'] = std_return * np.sqrt(trading_days_per_year)\n",
        "    sortino_ratio = (mean_return - risk_free_rate/100/interest_earning_days_per_year) / data['Daily Returns'][data['Daily Returns'] < 0].std() * np.sqrt(trading_days_per_year)\n",
        "    results_equities.loc[equity, 'Sortino Ratio'] = sortino_ratio"
      ],
      "metadata": {
        "id": "HjJd75KE1WZM"
      },
      "execution_count": null,
      "outputs": []
    },
    {
      "cell_type": "code",
      "source": [
        "#Final Results\n",
        "print(results_indices)\n",
        "print(results_equities)"
      ],
      "metadata": {
        "id": "0gA6mWkL_4ae",
        "colab": {
          "base_uri": "https://localhost:8080/"
        },
        "outputId": "feb09390-89d1-482e-a5cc-482c214ca4de"
      },
      "execution_count": null,
      "outputs": [
        {
          "output_type": "stream",
          "name": "stdout",
          "text": [
            "       Cumulative Returns Volatality Sharpe Ratio Sortino Ratio  \\\n",
            "^GSPC          273.421917   0.177634     0.436806      0.534784   \n",
            "^IXIC          432.885602   0.206055     0.535864      0.676756   \n",
            "^DJI           226.902235   0.171818     0.387301      0.468064   \n",
            "^FTSE           45.404501   0.162515     0.023785       0.03072   \n",
            "^W5000         255.559393   0.181674     0.410781      0.502423   \n",
            "\n",
            "       Maximum Drawdown  \n",
            "^GSPC         -3.344587  \n",
            "^IXIC        -27.268585  \n",
            "^DJI          -3.225546  \n",
            "^FTSE         -3.341905  \n",
            "^W5000        -3.731522  \n",
            "      Cumulative Returns Volatality Sharpe Ratio Sortino Ratio  \\\n",
            "AAPL         2126.041246   0.286001     0.874027      1.220651   \n",
            "GOOGL         584.154466   0.272976     0.532964       0.74447   \n",
            "MSFT          903.461794   0.261395     0.730091      1.020628   \n",
            "AMZN         1447.889863   0.331799     0.681021        0.9725   \n",
            "IBM             0.796514    0.22404     0.102996      0.130061   \n",
            "AXP           295.344256   0.295909     0.423348      0.574386   \n",
            "XOM            72.206045   0.254249     0.293175      0.406485   \n",
            "\n",
            "      Maximum Drawdown  \n",
            "AAPL        -10.199886  \n",
            "GOOGL         -5.24226  \n",
            "MSFT        -33.203587  \n",
            "AMZN         -4.070504  \n",
            "IBM          -2.619266  \n",
            "AXP          -6.220966  \n",
            "XOM          -3.216272  \n"
          ]
        }
      ]
    }
  ]
}