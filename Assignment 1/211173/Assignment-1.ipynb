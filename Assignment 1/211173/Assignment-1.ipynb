{
 "cells": [
  {
   "cell_type": "code",
   "execution_count": 1,
   "metadata": {},
   "outputs": [],
   "source": [
    "import math\n",
    "import pandas as pd\n",
    "import numpy\n",
    "import yfinance as yf"
   ]
  },
  {
   "cell_type": "code",
   "execution_count": null,
   "metadata": {},
   "outputs": [],
   "source": []
  },
  {
   "cell_type": "code",
   "execution_count": 2,
   "metadata": {},
   "outputs": [
    {
     "name": "stdout",
     "output_type": "stream",
     "text": [
      "[*********************100%***********************]  1 of 1 completed\n"
     ]
    }
   ],
   "source": [
    "# Downloading the Data\n",
    "data = yf.download(\"AAPL\", start=\"2010-01-01\", end=\"2023-05-01\", interval=\"1d\")"
   ]
  },
  {
   "cell_type": "code",
   "execution_count": 3,
   "metadata": {},
   "outputs": [],
   "source": [
    "# Calculating Daily Returns \n",
    "# Assuming Initial Price to be Rs. 100\n",
    "\n",
    "initial_price = 100\n",
    "\n",
    "start_price = []\n",
    "end_price = []\n",
    "max_price = []\n",
    "min_price = []\n",
    "daily_returns = []\n",
    "\n",
    "for i, date in enumerate(data.index):\n",
    "    if i == 0:\n",
    "        start_price.append(initial_price)\n",
    "    else:\n",
    "        start_price.append(end_price[i-1])\n",
    "\n",
    "    end_price.append((start_price[i] * data.Close[date]) / data.Open[date])\n",
    "    max_price.append((start_price[i] * data.High[date]) / data.Open[date])\n",
    "    min_price.append((start_price[i] * data.Low[date]) / data.Open[date])\n",
    "    daily_returns.append((end_price[i] - start_price[i]) / start_price[i])\n",
    "\n",
    "data[\"Start\"] = start_price\n",
    "data[\"End\"] = end_price\n",
    "data[\"Min\"] = min_price\n",
    "data[\"Max\"] = max_price\n",
    "data[\"Returns\"] = daily_returns  "
   ]
  },
  {
   "cell_type": "code",
   "execution_count": 4,
   "metadata": {},
   "outputs": [
    {
     "data": {
      "text/plain": [
       "1.4672424323171172"
      ]
     },
     "execution_count": 4,
     "metadata": {},
     "output_type": "execute_result"
    }
   ],
   "source": [
    "# Calculating Cumulative Returns\n",
    "\n",
    "cumulative_returns = (data[\"End\"][-1] - initial_price)/initial_price\n",
    "cumulative_returns"
   ]
  },
  {
   "cell_type": "code",
   "execution_count": 5,
   "metadata": {},
   "outputs": [
    {
     "data": {
      "text/plain": [
       "-0.6133438013134727"
      ]
     },
     "execution_count": 5,
     "metadata": {},
     "output_type": "execute_result"
    }
   ],
   "source": [
    "# Calculating Maximum Drawdown\n",
    "\n",
    "maximum_drawdown = 0\n",
    "MAX = -math.inf\n",
    "MIN = math.inf\n",
    "\n",
    "for date in data.index:\n",
    "    if data[\"Max\"][date] > MAX:\n",
    "        MAX = data[\"Max\"][date]\n",
    "        MIN = math.inf\n",
    "    if data[\"Min\"][date] < MIN:\n",
    "        MIN = data[\"Min\"][date]\n",
    "\n",
    "    maximum_drawdown = min(maximum_drawdown, ((MIN - MAX)/MAX))\n",
    "\n",
    "maximum_drawdown"
   ]
  },
  {
   "cell_type": "code",
   "execution_count": 6,
   "metadata": {},
   "outputs": [
    {
     "data": {
      "text/plain": [
       "0.22243846883149118"
      ]
     },
     "execution_count": 6,
     "metadata": {},
     "output_type": "execute_result"
    }
   ],
   "source": [
    "# Volitality \n",
    "# It is defined as the annualised standard deviation of returns over a period of time\n",
    "\n",
    "StdDevx = data.Returns.std()\n",
    "\n",
    "volitality = StdDevx * math.sqrt(252)  # 252 Trading Days in an Year\n",
    "volitality"
   ]
  },
  {
   "cell_type": "code",
   "execution_count": 7,
   "metadata": {},
   "outputs": [
    {
     "name": "stdout",
     "output_type": "stream",
     "text": [
      "0.14662461334607793 0.21621434275170714\n"
     ]
    }
   ],
   "source": [
    "# Sharpe & Sortino Ratio \n",
    "\n",
    "Rx = data.Returns.mean() * 252                                          # Annualized Returns \n",
    "Volx = data.Returns.std() * math.sqrt(252)                              # Volitality or Annualized StdDev\n",
    "StdDev_Neg = data.Returns[data.Returns < 0].std() * math.sqrt(252)      # Annualized DownSide StdDev\n",
    "Rf = 0.06                                                               # RISK FREE RATE -> Based on Indian Govt. 10 Year Bond Rate\n",
    "\n",
    "sharpe_ratio = ((Rx - Rf)/Volx)\n",
    "sortino_ratio = ((Rx - Rf)/StdDev_Neg)\n",
    "print(sharpe_ratio, sortino_ratio)"
   ]
  },
  {
   "cell_type": "code",
   "execution_count": null,
   "metadata": {},
   "outputs": [],
   "source": []
  },
  {
   "cell_type": "code",
   "execution_count": 8,
   "metadata": {},
   "outputs": [],
   "source": [
    "def get_stock_data(ticker, start_date=\"2010-01-01\", end_date=\"2023-05-01\"):\n",
    "    # Downloading the Data\n",
    "    data = yf.download(ticker, start=start_date, end=end_date, interval=\"1d\", progress=False)\n",
    "\n",
    "    # Calculating Daily Returns \n",
    "    # Assuming Initial Price to be Rs. 100\n",
    "    initial_price = 100\n",
    "\n",
    "    start_price = []\n",
    "    end_price = []\n",
    "    max_price = []\n",
    "    min_price = []\n",
    "    daily_returns = []\n",
    "\n",
    "    for i, date in enumerate(data.index):\n",
    "        if i == 0:\n",
    "            start_price.append(initial_price)\n",
    "        else:\n",
    "            start_price.append(end_price[i-1])\n",
    "\n",
    "        end_price.append((start_price[i] * data.Close[date]) / data.Open[date])\n",
    "        max_price.append((start_price[i] * data.High[date]) / data.Open[date])\n",
    "        min_price.append((start_price[i] * data.Low[date]) / data.Open[date])\n",
    "        daily_returns.append((end_price[i] - start_price[i]) / start_price[i])\n",
    "\n",
    "    data[\"Start\"] = start_price\n",
    "    data[\"End\"] = end_price\n",
    "    data[\"Min\"] = min_price\n",
    "    data[\"Max\"] = max_price\n",
    "    data[\"Returns\"] = daily_returns  \n",
    "\n",
    "    # Calculating Cumulative Returns\n",
    "    cumulative_returns = (data[\"End\"][-1] - initial_price)/initial_price\n",
    "\n",
    "    # Calculating Maximum Drawdown\n",
    "    maximum_drawdown = 0\n",
    "    MAX = -math.inf\n",
    "    MIN = math.inf\n",
    "\n",
    "    for date in data.index:\n",
    "        if data[\"Max\"][date] > MAX:\n",
    "            MAX = data[\"Max\"][date]\n",
    "            MIN = math.inf\n",
    "        if data[\"Min\"][date] < MIN:\n",
    "            MIN = data[\"Min\"][date]\n",
    "\n",
    "        maximum_drawdown = min(maximum_drawdown, ((MIN - MAX)/MAX))\n",
    "\n",
    "    # Volitality \n",
    "    # It is defined as the annualised standard deviation of returns over a period of time\n",
    "    StdDevx = data.Returns.std()\n",
    "    volitality = StdDevx * math.sqrt(252)  # 252 Trading Days in an Year\n",
    "\n",
    "    # Sharpe & Sortino Ratio \n",
    "    Rx = data.Returns.mean() * 252                                          # Annualized Returns \n",
    "    Volx = data.Returns.std() * math.sqrt(252)                              # Volitality or Annualized StdDev\n",
    "    StdDev_Neg = data.Returns[data.Returns < 0].std() * math.sqrt(252)      # Annualized DownSide StdDev\n",
    "    Rf = 0.06                                                               # RISK FREE RATE -> Based on Indian Govt. 10 Year Bond Rate\n",
    "\n",
    "    sharpe_ratio = ((Rx - Rf)/Volx)\n",
    "    sortino_ratio = ((Rx - Rf)/StdDev_Neg)\n",
    "\n",
    "\n",
    "    return cumulative_returns*100, volitality*100, sharpe_ratio, sortino_ratio, maximum_drawdown*100\n",
    "    "
   ]
  },
  {
   "cell_type": "code",
   "execution_count": 9,
   "metadata": {},
   "outputs": [
    {
     "name": "stdout",
     "output_type": "stream",
     "text": [
      "Indices Data -\n",
      "Index: ^NDX (NASDAQ 100), Cumulative Returns: 155.22 %, Volitality: 16.39 %, Sharpe Ratio: 0.146, Sortino Ratio: 0.193, Maximum Drawdown: -26.94 %\n",
      "Index: ^GSPC (S&P 500), Cumulative Returns: 122.78 %, Volitality: 14.87 %, Sharpe Ratio: 0.076, Sortino Ratio: 0.096, Maximum Drawdown: -23.72 %\n",
      "Index: ^FTSE (FTSE 100), Cumulative Returns: 44.02 %, Volitality: 16.25 %, Sharpe Ratio: -0.119, Sortino Ratio: -0.154, Maximum Drawdown: -38.04 %\n",
      "Index: ^HSI (HANG SENG INDEX), Cumulative Returns: -85.12 %, Volitality: 14.39 %, Sharpe Ratio: -1.361, Sortino Ratio: -2.054, Maximum Drawdown: -87.94 %\n",
      "Index: ^NSEI (NIFTY 50), Cumulative Returns: -90.67 %, Volitality: 14.54 %, Sharpe Ratio: -1.598, Sortino Ratio: -2.272, Maximum Drawdown: -92.21 %\n",
      "\n",
      "Equity Data -\n",
      "Stock: AAPL (Apple Inc.), Cumulative Returns: 146.72 %, Volitality: 22.24 %, Sharpe Ratio: 0.147, Sortino Ratio: 0.216, Maximum Drawdown: -61.33 %\n",
      "Stock: INFY (Infosys Limited), Cumulative Returns: 137.98 %, Volitality: 17.82 %, Sharpe Ratio: 0.118, Sortino Ratio: 0.175, Maximum Drawdown: -33.26 %\n",
      "Stock: HDB (HDFC Bank Limited), Cumulative Returns: -21.34 %, Volitality: 21.41 %, Sharpe Ratio: -0.257, Sortino Ratio: -0.369, Maximum Drawdown: -66.20 %\n",
      "Stock: GOOGL (Alphabet Inc.), Cumulative Returns: -3.50 %, Volitality: 20.51 %, Sharpe Ratio: -0.203, Sortino Ratio: -0.286, Maximum Drawdown: -57.81 %\n",
      "Stock: WIT (Wipro Limited), Cumulative Returns: 36.36 %, Volitality: 21.62 %, Sharpe Ratio: -0.062, Sortino Ratio: -0.094, Maximum Drawdown: -65.15 %\n"
     ]
    }
   ],
   "source": [
    "indices = ['^NDX', '^GSPC', '^FTSE', '^HSI', '^NSEI']\n",
    "equities = ['AAPL', 'INFY', 'HDB', 'GOOGL', 'WIT']\n",
    "\n",
    "print(\"Indices Data -\")\n",
    "for indx in indices: \n",
    "    print('Index: {} ({}), Cumulative Returns: {:.2f} %, Volitality: {:.2f} %, Sharpe Ratio: {:.3f}, Sortino Ratio: {:.3f}, Maximum Drawdown: {:.2f} %'.format(indx, yf.Ticker(indx).info['longName'], *get_stock_data(indx)))\n",
    "print(\"\\nEquity Data -\")\n",
    "for eq in equities: \n",
    "    print('Stock: {} ({}), Cumulative Returns: {:.2f} %, Volitality: {:.2f} %, Sharpe Ratio: {:.3f}, Sortino Ratio: {:.3f}, Maximum Drawdown: {:.2f} %'.format(eq, yf.Ticker(eq).info['longName'], *get_stock_data(eq)))"
   ]
  },
  {
   "cell_type": "code",
   "execution_count": null,
   "metadata": {},
   "outputs": [],
   "source": []
  }
 ],
 "metadata": {
  "kernelspec": {
   "display_name": "Python 3",
   "language": "python",
   "name": "python3"
  },
  "language_info": {
   "codemirror_mode": {
    "name": "ipython",
    "version": 3
   },
   "file_extension": ".py",
   "mimetype": "text/x-python",
   "name": "python",
   "nbconvert_exporter": "python",
   "pygments_lexer": "ipython3",
   "version": "3.9.7"
  },
  "orig_nbformat": 4
 },
 "nbformat": 4,
 "nbformat_minor": 2
}
