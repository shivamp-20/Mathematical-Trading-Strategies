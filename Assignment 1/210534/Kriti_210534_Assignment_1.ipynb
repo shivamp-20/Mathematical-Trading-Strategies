{
 "cells": [
  {
   "cell_type": "code",
   "execution_count": 9,
   "metadata": {},
   "outputs": [
    {
     "name": "stdout",
     "output_type": "stream",
     "text": [
      "[*********************100%***********************]  10 of 10 completed\n"
     ]
    }
   ],
   "source": [
    "import yfinance as yf\n",
    "import pandas as pd\n",
    "import numpy as np\n",
    "\n",
    "# Defining tickers and loading data for the international indices and equities\n",
    "index_tickers = ['^GSPC', '^IXIC', '^DJI', '^FTSE', '^N225']  \n",
    "equity_tickers = ['AAPL', 'AMZN', 'GOOGL', 'MSFT', 'TSLA']   \n",
    "\n",
    "tickers = index_tickers + equity_tickers\n",
    "data = yf.download(tickers, start=\"2010-01-01\", end=\"2023-05-01\")[\"Adj Close\"]"
   ]
  },
  {
   "cell_type": "code",
   "execution_count": 10,
   "metadata": {},
   "outputs": [
    {
     "name": "stdout",
     "output_type": "stream",
     "text": [
      "Volatility:\n",
      "AAPL     0.280153\n",
      "AMZN     0.325555\n",
      "GOOGL    0.268446\n",
      "MSFT     0.257900\n",
      "TSLA     0.564560\n",
      "^DJI     0.168651\n",
      "^FTSE    0.159041\n",
      "^GSPC    0.173667\n",
      "^IXIC    0.202120\n",
      "^N225    0.201583\n",
      "dtype: float64\n"
     ]
    }
   ],
   "source": [
    "# Computing the daily returns\n",
    "returns = data.pct_change().dropna()\n",
    "\n",
    "# Computing the volatility\n",
    "volatility = returns.std()* np.sqrt(252)\n",
    "\n",
    "# Printing the volatility\n",
    "print(\"Volatility:\")\n",
    "print(volatility)"
   ]
  },
  {
   "cell_type": "code",
   "execution_count": 11,
   "metadata": {},
   "outputs": [
    {
     "name": "stdout",
     "output_type": "stream",
     "text": [
      "Cumulative Returns:\n",
      "                 AAPL       AMZN     GOOGL      MSFT        TSLA      ^DJI   \n",
      "Date                                                                         \n",
      "2023-04-28  20.790661  18.418101  8.442403  16.11163  102.166575  2.454623  \\\n",
      "\n",
      "               ^FTSE     ^GSPC     ^IXIC     ^N225  \n",
      "Date                                                \n",
      "2023-04-28  0.601603  3.004341  4.726253  2.015091  \n"
     ]
    }
   ],
   "source": [
    "# Computing the cumulative returns\n",
    "cumulative_returns = (returns + 1).cumprod() - 1\n",
    "\n",
    "# Printing the cumulative returns\n",
    "print(\"Cumulative Returns:\")\n",
    "print(cumulative_returns.tail(1))"
   ]
  },
  {
   "cell_type": "code",
   "execution_count": 12,
   "metadata": {},
   "outputs": [
    {
     "name": "stdout",
     "output_type": "stream",
     "text": [
      "Sharpe Ratio:\n",
      "AAPL     0.809483\n",
      "AMZN     0.711389\n",
      "GOOGL    0.633886\n",
      "MSFT     0.823445\n",
      "TSLA     0.842175\n",
      "^DJI     0.370712\n",
      "^FTSE    0.063474\n",
      "^GSPC    0.498258\n",
      "^IXIC    0.578451\n",
      "^N225    0.342395\n",
      "dtype: float64\n"
     ]
    }
   ],
   "source": [
    "# Defining the risk-free factors for each index and equity\n",
    "risk_free_factors = {\n",
    "    \"AMZN\": 0.0453,\n",
    "    \"AAPL\": 0.0453,\n",
    "    \"GOOGL\": 0.0353,\n",
    "    \"MSFT\": 0.03541,\n",
    "    \"TSLA\": 0.0334,\n",
    "    \"^FTSE\": 0.03817,\n",
    "    \"^GSPC\": 0.0334,\n",
    "    \"^IXIC\": 0.0354,\n",
    "    \"^N225\": 0.0347,\n",
    "    \"^DJI\": 0.0454\n",
    "}\n",
    "\n",
    "# Computing the annualized average returns \n",
    "avg_returns = returns.mean() * 252\n",
    "\n",
    "# Computing the Sharpe Ratio\n",
    "sharpe_ratio = (avg_returns - pd.Series(risk_free_factors)) / volatility\n",
    "\n",
    "# Printing the Sharpe Ratio\n",
    "print(\"Sharpe Ratio:\")\n",
    "print(sharpe_ratio)"
   ]
  },
  {
   "cell_type": "code",
   "execution_count": 13,
   "metadata": {},
   "outputs": [
    {
     "name": "stdout",
     "output_type": "stream",
     "text": [
      "Sortino Ratio:\n",
      "AAPL     1.109256\n",
      "AMZN     0.998388\n",
      "GOOGL    0.875461\n",
      "MSFT     1.133044\n",
      "TSLA     1.212410\n",
      "^DJI     0.440187\n",
      "^FTSE    0.080586\n",
      "^GSPC    0.599321\n",
      "^IXIC    0.718447\n",
      "^N225    0.451905\n",
      "dtype: float64\n"
     ]
    }
   ],
   "source": [
    "# Computing the annualized downside deviation\n",
    "downside_deviation = returns[returns < 0].std() * np.sqrt(252)\n",
    "\n",
    "# Computing the Sortino Ratio\n",
    "sortino_ratio = (avg_returns - pd.Series(risk_free_factors)) / downside_deviation\n",
    "\n",
    "# Printing the Sortino Ratio\n",
    "print(\"Sortino Ratio:\")\n",
    "print(sortino_ratio)"
   ]
  },
  {
   "cell_type": "code",
   "execution_count": 14,
   "metadata": {},
   "outputs": [
    {
     "name": "stdout",
     "output_type": "stream",
     "text": [
      "Maximum Drawdowns:\n",
      "AAPL     -4.069583\n",
      "AMZN     -0.774470\n",
      "GOOGL    -1.078752\n",
      "MSFT     -0.905564\n",
      "TSLA     -1.177894\n",
      "^DJI     -0.860571\n",
      "^FTSE   -41.152650\n",
      "^GSPC    -0.930907\n",
      "^IXIC    -1.124039\n",
      "^N225    -4.324617\n",
      "dtype: float64\n"
     ]
    }
   ],
   "source": [
    "# Computing the running maximum \n",
    "running_max = np.maximum.accumulate(cumulative_returns)\n",
    "\n",
    "# Computing the drawdowns\n",
    "drawdowns = (cumulative_returns / running_max) - 1\n",
    "\n",
    "# Computing the maximum drawdowns\n",
    "max_drawdowns = drawdowns.min()\n",
    "\n",
    "# Printing the maximum drawdowns\n",
    "print(\"Maximum Drawdowns:\")\n",
    "print(max_drawdowns)"
   ]
  }
 ],
 "metadata": {
  "kernelspec": {
   "display_name": "Python 3",
   "language": "python",
   "name": "python3"
  },
  "language_info": {
   "codemirror_mode": {
    "name": "ipython",
    "version": 3
   },
   "file_extension": ".py",
   "mimetype": "text/x-python",
   "name": "python",
   "nbconvert_exporter": "python",
   "pygments_lexer": "ipython3",
   "version": "3.11.3"
  },
  "orig_nbformat": 4
 },
 "nbformat": 4,
 "nbformat_minor": 2
}
