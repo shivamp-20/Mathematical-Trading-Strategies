{
 "cells": [
  {
   "attachments": {},
   "cell_type": "markdown",
   "metadata": {},
   "source": [
    "# YFinance indices and equities"
   ]
  },
  {
   "attachments": {},
   "cell_type": "markdown",
   "metadata": {},
   "source": [
    "## Importing necessary libraries"
   ]
  },
  {
   "cell_type": "code",
   "execution_count": 226,
   "metadata": {},
   "outputs": [],
   "source": [
    "import pandas as pd\n",
    "import yfinance as yf\n",
    "from math import nan, sqrt"
   ]
  },
  {
   "attachments": {},
   "cell_type": "markdown",
   "metadata": {},
   "source": [
    "## Creating necessary functions for computing various statistical tools"
   ]
  },
  {
   "cell_type": "code",
   "execution_count": 227,
   "metadata": {},
   "outputs": [],
   "source": [
    "def cumulative_returns(daily_returns):\n",
    "    return ((1+daily_returns/100).cumprod()-1).tail(1)*100"
   ]
  },
  {
   "cell_type": "code",
   "execution_count": 228,
   "metadata": {},
   "outputs": [],
   "source": [
    "def volatility(daily_returns):\n",
    "    return daily_returns.std()*sqrt(252)"
   ]
  },
  {
   "cell_type": "code",
   "execution_count": 229,
   "metadata": {},
   "outputs": [],
   "source": [
    "def sharpe_ratio(daily_returns):\n",
    "    annualized_avg_return=daily_returns.mean()*252\n",
    "    risk_free_return=[4]*5\n",
    "    return (annualized_avg_return-risk_free_return)/(daily_returns.std()*sqrt(252))\n"
   ]
  },
  {
   "cell_type": "code",
   "execution_count": 230,
   "metadata": {},
   "outputs": [],
   "source": [
    "def sortino_ratio(daily_returns):\n",
    "    annualized_avg_return=daily_returns.mean()*252\n",
    "    risk_free_return=[4]*5\n",
    "    return (annualized_avg_return-risk_free_return)/(daily_returns[daily_returns<0].std()*sqrt(252))\n"
   ]
  },
  {
   "cell_type": "code",
   "execution_count": 231,
   "metadata": {},
   "outputs": [],
   "source": [
    "def maximum_drawdown(dt):\n",
    "    cum_max=dt['Adj Close'].cummax()\n",
    "    drawdowns=(dt['Adj Close']-cum_max)/cum_max\n",
    "    return drawdowns.min()\n"
   ]
  },
  {
   "attachments": {},
   "cell_type": "markdown",
   "metadata": {},
   "source": [
    "## Calculating values for different indices"
   ]
  },
  {
   "cell_type": "code",
   "execution_count": 232,
   "metadata": {},
   "outputs": [
    {
     "name": "stdout",
     "output_type": "stream",
     "text": [
      "[*********************100%***********************]  5 of 5 completed\n"
     ]
    }
   ],
   "source": [
    "indices=['^BVSP', '^DJI', '^GSPC','^IXIC', '^RUT']\n",
    "data=yf.download(\" \".join(indices), start='2010-01-01', end='2023-05-01')\n",
    "dt=pd.DataFrame(data)\n",
    "daily_returns=((dt['Close']-dt['Open'])/dt['Open'])*100"
   ]
  },
  {
   "cell_type": "code",
   "execution_count": 233,
   "metadata": {},
   "outputs": [
    {
     "name": "stdout",
     "output_type": "stream",
     "text": [
      "                ^BVSP        ^DJI       ^GSPC      ^IXIC       ^RUT\n",
      "Date                                                               \n",
      "2023-04-28  37.869166  134.244311  122.674354  97.407003  81.880967\n",
      "^BVSP    0.059065\n",
      "^DJI     0.238037\n",
      "^GSPC    0.210181\n",
      "^IXIC    0.149635\n",
      "^RUT     0.126554\n",
      "dtype: float64\n",
      "^BVSP   -0.486314\n",
      "^DJI    -0.370862\n",
      "^GSPC   -0.339250\n",
      "^IXIC   -0.363953\n",
      "^RUT    -0.430613\n",
      "dtype: float64\n",
      "^BVSP    24.355866\n",
      "^DJI     14.489920\n",
      "^GSPC    14.863482\n",
      "^IXIC    16.034358\n",
      "^RUT     20.343020\n",
      "dtype: float64\n",
      "^BVSP    0.081143\n",
      "^DJI     0.304951\n",
      "^GSPC    0.265489\n",
      "^IXIC    0.196890\n",
      "^RUT     0.168524\n",
      "dtype: float64\n"
     ]
    }
   ],
   "source": [
    "print(cumulative_returns(daily_returns))\n",
    "print(sharpe_ratio(daily_returns))\n",
    "print(maximum_drawdown(dt))\n",
    "print(volatility(daily_returns))\n",
    "print(sortino_ratio(daily_returns))"
   ]
  },
  {
   "attachments": {},
   "cell_type": "markdown",
   "metadata": {},
   "source": [
    "## Calculating values for equities in different companies"
   ]
  },
  {
   "cell_type": "code",
   "execution_count": 234,
   "metadata": {},
   "outputs": [
    {
     "name": "stdout",
     "output_type": "stream",
     "text": [
      "[*********************100%***********************]  5 of 5 completed\n"
     ]
    }
   ],
   "source": [
    "equities=['AMZN', 'GOOG', 'META', 'MSFT', 'TSLA']\n",
    "eq_data=yf.download(\" \".join(equities), start='2010-01-01', end='2023-05-01')\n",
    "eq_dt=pd.DataFrame(eq_data)\n",
    "eq_daily_returns=((eq_dt['Close']-eq_dt['Open'])/eq_dt['Open'])*100"
   ]
  },
  {
   "cell_type": "code",
   "execution_count": 235,
   "metadata": {},
   "outputs": [
    {
     "name": "stdout",
     "output_type": "stream",
     "text": [
      "        AMZN       GOOG       META        MSFT       TSLA\n",
      "0  14.833292  50.890847  24.598828  228.280964 -50.682827\n",
      "AMZN    0.016871\n",
      "GOOG    0.059414\n",
      "META    0.077098\n",
      "MSFT    0.346179\n",
      "TSLA    0.035253\n",
      "dtype: float64\n",
      "AMZN   -0.561453\n",
      "GOOG   -0.446018\n",
      "META   -0.767361\n",
      "MSFT   -0.371485\n",
      "TSLA   -0.736322\n",
      "dtype: float64\n",
      "AMZN    26.092310\n",
      "GOOG    20.639621\n",
      "META    29.070873\n",
      "MSFT    20.077485\n",
      "TSLA    47.343114\n",
      "dtype: float64\n",
      "AMZN    0.025430\n",
      "GOOG    0.083009\n",
      "META    0.111033\n",
      "MSFT    0.500280\n",
      "TSLA    0.052481\n",
      "dtype: float64\n"
     ]
    }
   ],
   "source": [
    "print(cumulative_returns(eq_daily_returns).reset_index(drop=True))\n",
    "print(sharpe_ratio(eq_daily_returns))\n",
    "print(maximum_drawdown(eq_dt))\n",
    "print(volatility(eq_daily_returns))\n",
    "print(sortino_ratio(eq_daily_returns))"
   ]
  }
 ],
 "metadata": {
  "kernelspec": {
   "display_name": "Python 3",
   "language": "python",
   "name": "python3"
  },
  "language_info": {
   "codemirror_mode": {
    "name": "ipython",
    "version": 3
   },
   "file_extension": ".py",
   "mimetype": "text/x-python",
   "name": "python",
   "nbconvert_exporter": "python",
   "pygments_lexer": "ipython3",
   "version": "3.11.1"
  },
  "orig_nbformat": 4
 },
 "nbformat": 4,
 "nbformat_minor": 2
}
