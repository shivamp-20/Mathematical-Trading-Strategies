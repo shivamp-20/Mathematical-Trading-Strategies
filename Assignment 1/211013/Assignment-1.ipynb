{
 "cells": [
  {
   "cell_type": "code",
   "execution_count": 4,
   "id": "7c427904",
   "metadata": {},
   "outputs": [
    {
     "name": "stdout",
     "output_type": "stream",
     "text": [
      "Requirement already satisfied: yfinance in c:\\users\\shrish\\anaconda3\\lib\\site-packages (0.2.18)\n",
      "Requirement already satisfied: requests>=2.26 in c:\\users\\shrish\\anaconda3\\lib\\site-packages (from yfinance) (2.28.1)\n",
      "Requirement already satisfied: numpy>=1.16.5 in c:\\users\\shrish\\anaconda3\\lib\\site-packages (from yfinance) (1.21.5)\n",
      "Requirement already satisfied: cryptography>=3.3.2 in c:\\users\\shrish\\anaconda3\\lib\\site-packages (from yfinance) (37.0.1)\n",
      "Requirement already satisfied: html5lib>=1.1 in c:\\users\\shrish\\anaconda3\\lib\\site-packages (from yfinance) (1.1)\n",
      "Requirement already satisfied: multitasking>=0.0.7 in c:\\users\\shrish\\anaconda3\\lib\\site-packages (from yfinance) (0.0.11)\n",
      "Requirement already satisfied: pandas>=1.3.0 in c:\\users\\shrish\\anaconda3\\lib\\site-packages (from yfinance) (1.4.4)\n",
      "Requirement already satisfied: appdirs>=1.4.4 in c:\\users\\shrish\\anaconda3\\lib\\site-packages (from yfinance) (1.4.4)\n",
      "Requirement already satisfied: pytz>=2022.5 in c:\\users\\shrish\\anaconda3\\lib\\site-packages (from yfinance) (2023.3)\n",
      "Requirement already satisfied: frozendict>=2.3.4 in c:\\users\\shrish\\anaconda3\\lib\\site-packages (from yfinance) (2.3.8)\n",
      "Requirement already satisfied: beautifulsoup4>=4.11.1 in c:\\users\\shrish\\anaconda3\\lib\\site-packages (from yfinance) (4.11.1)\n",
      "Requirement already satisfied: lxml>=4.9.1 in c:\\users\\shrish\\anaconda3\\lib\\site-packages (from yfinance) (4.9.1)\n",
      "Requirement already satisfied: soupsieve>1.2 in c:\\users\\shrish\\anaconda3\\lib\\site-packages (from beautifulsoup4>=4.11.1->yfinance) (2.3.1)\n",
      "Requirement already satisfied: cffi>=1.12 in c:\\users\\shrish\\anaconda3\\lib\\site-packages (from cryptography>=3.3.2->yfinance) (1.15.1)\n",
      "Requirement already satisfied: webencodings in c:\\users\\shrish\\anaconda3\\lib\\site-packages (from html5lib>=1.1->yfinance) (0.5.1)\n",
      "Requirement already satisfied: six>=1.9 in c:\\users\\shrish\\anaconda3\\lib\\site-packages (from html5lib>=1.1->yfinance) (1.16.0)\n",
      "Requirement already satisfied: python-dateutil>=2.8.1 in c:\\users\\shrish\\anaconda3\\lib\\site-packages (from pandas>=1.3.0->yfinance) (2.8.2)\n",
      "Requirement already satisfied: urllib3<1.27,>=1.21.1 in c:\\users\\shrish\\anaconda3\\lib\\site-packages (from requests>=2.26->yfinance) (1.26.11)\n",
      "Requirement already satisfied: charset-normalizer<3,>=2 in c:\\users\\shrish\\anaconda3\\lib\\site-packages (from requests>=2.26->yfinance) (2.0.4)\n",
      "Requirement already satisfied: certifi>=2017.4.17 in c:\\users\\shrish\\anaconda3\\lib\\site-packages (from requests>=2.26->yfinance) (2022.9.14)\n",
      "Requirement already satisfied: idna<4,>=2.5 in c:\\users\\shrish\\anaconda3\\lib\\site-packages (from requests>=2.26->yfinance) (3.3)\n",
      "Requirement already satisfied: pycparser in c:\\users\\shrish\\anaconda3\\lib\\site-packages (from cffi>=1.12->cryptography>=3.3.2->yfinance) (2.21)\n",
      "Note: you may need to restart the kernel to use updated packages.\n"
     ]
    }
   ],
   "source": [
    "pip install yfinance"
   ]
  },
  {
   "cell_type": "code",
   "execution_count": 5,
   "id": "ae3a8f12",
   "metadata": {},
   "outputs": [
    {
     "name": "stdout",
     "output_type": "stream",
     "text": [
      "[*********************100%***********************]  10 of 10 completed\n",
      "\n",
      "1 Failed download:\n",
      "- FB: No timezone found, symbol may be delisted\n"
     ]
    },
    {
     "ename": "ValueError",
     "evalue": "min_periods 1 must be <= window 0",
     "output_type": "error",
     "traceback": [
      "\u001b[1;31m---------------------------------------------------------------------------\u001b[0m",
      "\u001b[1;31mValueError\u001b[0m                                Traceback (most recent call last)",
      "\u001b[1;32m~\\AppData\\Local\\Temp\\ipykernel_26344\\2724626625.py\u001b[0m in \u001b[0;36m<module>\u001b[1;34m\u001b[0m\n\u001b[0;32m     29\u001b[0m \u001b[0mindex_drawdown\u001b[0m \u001b[1;33m=\u001b[0m \u001b[0mindex_cumulative_returns\u001b[0m \u001b[1;33m/\u001b[0m \u001b[0mindex_rolling_max\u001b[0m \u001b[1;33m-\u001b[0m \u001b[1;36m1\u001b[0m\u001b[1;33m\u001b[0m\u001b[1;33m\u001b[0m\u001b[0m\n\u001b[0;32m     30\u001b[0m \u001b[1;33m\u001b[0m\u001b[0m\n\u001b[1;32m---> 31\u001b[1;33m \u001b[0mequity_rolling_max\u001b[0m \u001b[1;33m=\u001b[0m \u001b[0mequity_cumulative_returns\u001b[0m\u001b[1;33m.\u001b[0m\u001b[0mrolling\u001b[0m\u001b[1;33m(\u001b[0m\u001b[0mwindow\u001b[0m\u001b[1;33m=\u001b[0m\u001b[0mlen\u001b[0m\u001b[1;33m(\u001b[0m\u001b[0mequity_cumulative_returns\u001b[0m\u001b[1;33m)\u001b[0m\u001b[1;33m,\u001b[0m \u001b[0mmin_periods\u001b[0m\u001b[1;33m=\u001b[0m\u001b[1;36m1\u001b[0m\u001b[1;33m)\u001b[0m\u001b[1;33m.\u001b[0m\u001b[0mmax\u001b[0m\u001b[1;33m(\u001b[0m\u001b[1;33m)\u001b[0m\u001b[1;33m\u001b[0m\u001b[1;33m\u001b[0m\u001b[0m\n\u001b[0m\u001b[0;32m     32\u001b[0m \u001b[0mequity_drawdown\u001b[0m \u001b[1;33m=\u001b[0m \u001b[0mequity_cumulative_returns\u001b[0m \u001b[1;33m/\u001b[0m \u001b[0mequity_rolling_max\u001b[0m \u001b[1;33m-\u001b[0m \u001b[1;36m1\u001b[0m\u001b[1;33m\u001b[0m\u001b[1;33m\u001b[0m\u001b[0m\n\u001b[0;32m     33\u001b[0m \u001b[1;33m\u001b[0m\u001b[0m\n",
      "\u001b[1;32m~\\anaconda3\\lib\\site-packages\\pandas\\core\\generic.py\u001b[0m in \u001b[0;36mrolling\u001b[1;34m(self, window, min_periods, center, win_type, on, axis, closed, method)\u001b[0m\n\u001b[0;32m  11274\u001b[0m             )\n\u001b[0;32m  11275\u001b[0m \u001b[1;33m\u001b[0m\u001b[0m\n\u001b[1;32m> 11276\u001b[1;33m         return Rolling(\n\u001b[0m\u001b[0;32m  11277\u001b[0m             \u001b[0mself\u001b[0m\u001b[1;33m,\u001b[0m\u001b[1;33m\u001b[0m\u001b[1;33m\u001b[0m\u001b[0m\n\u001b[0;32m  11278\u001b[0m             \u001b[0mwindow\u001b[0m\u001b[1;33m=\u001b[0m\u001b[0mwindow\u001b[0m\u001b[1;33m,\u001b[0m\u001b[1;33m\u001b[0m\u001b[1;33m\u001b[0m\u001b[0m\n",
      "\u001b[1;32m~\\anaconda3\\lib\\site-packages\\pandas\\core\\window\\rolling.py\u001b[0m in \u001b[0;36m__init__\u001b[1;34m(self, obj, window, min_periods, center, win_type, axis, on, closed, method, selection)\u001b[0m\n\u001b[0;32m    159\u001b[0m \u001b[1;33m\u001b[0m\u001b[0m\n\u001b[0;32m    160\u001b[0m         \u001b[0mself\u001b[0m\u001b[1;33m.\u001b[0m\u001b[0m_selection\u001b[0m \u001b[1;33m=\u001b[0m \u001b[0mselection\u001b[0m\u001b[1;33m\u001b[0m\u001b[1;33m\u001b[0m\u001b[0m\n\u001b[1;32m--> 161\u001b[1;33m         \u001b[0mself\u001b[0m\u001b[1;33m.\u001b[0m\u001b[0m_validate\u001b[0m\u001b[1;33m(\u001b[0m\u001b[1;33m)\u001b[0m\u001b[1;33m\u001b[0m\u001b[1;33m\u001b[0m\u001b[0m\n\u001b[0m\u001b[0;32m    162\u001b[0m \u001b[1;33m\u001b[0m\u001b[0m\n\u001b[0;32m    163\u001b[0m     \u001b[1;33m@\u001b[0m\u001b[0mproperty\u001b[0m\u001b[1;33m\u001b[0m\u001b[1;33m\u001b[0m\u001b[0m\n",
      "\u001b[1;32m~\\anaconda3\\lib\\site-packages\\pandas\\core\\window\\rolling.py\u001b[0m in \u001b[0;36m_validate\u001b[1;34m(self)\u001b[0m\n\u001b[0;32m   1674\u001b[0m \u001b[1;33m\u001b[0m\u001b[0m\n\u001b[0;32m   1675\u001b[0m     \u001b[1;32mdef\u001b[0m \u001b[0m_validate\u001b[0m\u001b[1;33m(\u001b[0m\u001b[0mself\u001b[0m\u001b[1;33m)\u001b[0m\u001b[1;33m:\u001b[0m\u001b[1;33m\u001b[0m\u001b[1;33m\u001b[0m\u001b[0m\n\u001b[1;32m-> 1676\u001b[1;33m         \u001b[0msuper\u001b[0m\u001b[1;33m(\u001b[0m\u001b[1;33m)\u001b[0m\u001b[1;33m.\u001b[0m\u001b[0m_validate\u001b[0m\u001b[1;33m(\u001b[0m\u001b[1;33m)\u001b[0m\u001b[1;33m\u001b[0m\u001b[1;33m\u001b[0m\u001b[0m\n\u001b[0m\u001b[0;32m   1677\u001b[0m \u001b[1;33m\u001b[0m\u001b[0m\n\u001b[0;32m   1678\u001b[0m         \u001b[1;31m# we allow rolling on a datetimelike index\u001b[0m\u001b[1;33m\u001b[0m\u001b[1;33m\u001b[0m\u001b[0m\n",
      "\u001b[1;32m~\\anaconda3\\lib\\site-packages\\pandas\\core\\window\\rolling.py\u001b[0m in \u001b[0;36m_validate\u001b[1;34m(self)\u001b[0m\n\u001b[0;32m    199\u001b[0m                 \u001b[1;32mraise\u001b[0m \u001b[0mValueError\u001b[0m\u001b[1;33m(\u001b[0m\u001b[1;34m\"min_periods must be >= 0\"\u001b[0m\u001b[1;33m)\u001b[0m\u001b[1;33m\u001b[0m\u001b[1;33m\u001b[0m\u001b[0m\n\u001b[0;32m    200\u001b[0m             \u001b[1;32melif\u001b[0m \u001b[0mis_integer\u001b[0m\u001b[1;33m(\u001b[0m\u001b[0mself\u001b[0m\u001b[1;33m.\u001b[0m\u001b[0mwindow\u001b[0m\u001b[1;33m)\u001b[0m \u001b[1;32mand\u001b[0m \u001b[0mself\u001b[0m\u001b[1;33m.\u001b[0m\u001b[0mmin_periods\u001b[0m \u001b[1;33m>\u001b[0m \u001b[0mself\u001b[0m\u001b[1;33m.\u001b[0m\u001b[0mwindow\u001b[0m\u001b[1;33m:\u001b[0m\u001b[1;33m\u001b[0m\u001b[1;33m\u001b[0m\u001b[0m\n\u001b[1;32m--> 201\u001b[1;33m                 raise ValueError(\n\u001b[0m\u001b[0;32m    202\u001b[0m                     \u001b[1;34mf\"min_periods {self.min_periods} must be <= window {self.window}\"\u001b[0m\u001b[1;33m\u001b[0m\u001b[1;33m\u001b[0m\u001b[0m\n\u001b[0;32m    203\u001b[0m                 )\n",
      "\u001b[1;31mValueError\u001b[0m: min_periods 1 must be <= window 0"
     ]
    }
   ],
   "source": [
    "import yfinance as yf\n",
    "import numpy as np\n",
    "import pandas as pd\n",
    "\n",
    "# Define the list of tickers for international indices and equities\n",
    "indices = [\"^GSPC\", \"^FTSE\", \"^N225\", \"^GDAXI\", \"^HSI\"]\n",
    "equities = [\"AAPL\", \"MSFT\", \"AMZN\", \"GOOGL\", \"FB\"]\n",
    "\n",
    "# Combine the lists of tickers\n",
    "tickers = indices + equities\n",
    "\n",
    "# Download the daily data since 2010-01-01\n",
    "data = yf.download(tickers, start=\"2010-01-01\")[\"Adj Close\"]\n",
    "\n",
    "# Separate the data for indices and equities\n",
    "index_data = data[indices]\n",
    "equity_data = data[equities]\n",
    "\n",
    "# Calculate the daily returns for indices and equities\n",
    "index_returns = index_data.pct_change().dropna()\n",
    "equity_returns = equity_data.pct_change().dropna()\n",
    "\n",
    "# Calculate the cumulative returns for indices and equities\n",
    "index_cumulative_returns = (1 + index_returns).cumprod()\n",
    "equity_cumulative_returns = (1 + equity_returns).cumprod()\n",
    "\n",
    "# Calculate the maximum drawdowns for indices and equities\n",
    "index_rolling_max = index_cumulative_returns.rolling(window=len(index_cumulative_returns), min_periods=1).max()\n",
    "index_drawdown = index_cumulative_returns / index_rolling_max - 1\n",
    "\n",
    "equity_rolling_max = equity_cumulative_returns.rolling(window=len(equity_cumulative_returns), min_periods=1).max()\n",
    "equity_drawdown = equity_cumulative_returns / equity_rolling_max - 1\n",
    "\n",
    "# Calculate the Sharpe ratio for indices and equities\n",
    "risk_free_rate = 0.0  # Assuming risk-free rate is 0%\n",
    "\n",
    "index_sharpe_ratio = (index_returns.mean() - risk_free_rate) / index_returns.std()\n",
    "equity_sharpe_ratio = (equity_returns.mean() - risk_free_rate) / equity_returns.std()\n",
    "\n",
    "# Calculate the Sortino ratio for indices and equities\n",
    "index_downside_returns = index_returns.copy()\n",
    "index_downside_returns[index_returns > 0] = 0  # Consider only downside returns\n",
    "index_sortino_ratio = (index_returns.mean() - risk_free_rate) / index_downside_returns.std()\n",
    "\n",
    "equity_downside_returns = equity_returns.copy()\n",
    "equity_downside_returns[equity_returns > 0] = 0  # Consider only downside returns\n",
    "equity_sortino_ratio = (equity_returns.mean() - risk_free_rate) / equity_downside_returns.std()\n",
    "\n",
    "# Display the results\n",
    "print(\"Indices Daily Returns:\")\n",
    "print(index_returns.tail())\n",
    "\n",
    "print(\"\\nEquities Daily Returns:\")\n",
    "print(equity_returns.tail())\n",
    "\n",
    "print(\"\\nIndices Cumulative Returns:\")\n",
    "print(index_cumulative_returns.tail())\n",
    "\n",
    "print(\"\\nEquities Cumulative Returns:\")\n",
    "print(equity_cumulative_returns.tail())\n",
    "\n",
    "print(\"\\nIndices Max Drawdowns:\")\n",
    "print(index_drawdown.min())\n",
    "\n",
    "print(\"\\nEquities Max Drawdowns:\")\n",
    "print(equity_drawdown.min())\n",
    "\n",
    "print(\"\\nIndices Sharpe Ratio:\")\n",
    "print(index_sharpe_ratio)\n",
    "\n",
    "print(\"\\nEquities Sharpe Ratio:\")\n",
    "print(equity_sharpe_ratio)\n",
    "\n",
    "print(\"\\nIndices Sortino Ratio:\")\n",
    "print(index_sortino_ratio)\n",
    "\n",
    "print(\"\\nEquities Sortino Ratio:\")\n",
    "print(equity_sortino_ratio)"
   ]
  }
 ],
 "metadata": {
  "kernelspec": {
   "display_name": "Python 3 (ipykernel)",
   "language": "python",
   "name": "python3"
  },
  "language_info": {
   "codemirror_mode": {
    "name": "ipython",
    "version": 3
   },
   "file_extension": ".py",
   "mimetype": "text/x-python",
   "name": "python",
   "nbconvert_exporter": "python",
   "pygments_lexer": "ipython3",
   "version": "3.9.13"
  }
 },
 "nbformat": 4,
 "nbformat_minor": 5
}
