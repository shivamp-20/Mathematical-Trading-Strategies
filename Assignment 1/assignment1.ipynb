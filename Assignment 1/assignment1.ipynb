{
 "cells": [
  {
   "attachments": {},
   "cell_type": "markdown",
   "metadata": {},
   "source": [
    "Importing necessary libraries"
   ]
  },
  {
   "cell_type": "code",
   "execution_count": 1,
   "metadata": {},
   "outputs": [],
   "source": [
    "import yfinance as yf\n",
    "import numpy as np\n",
    "import pandas as pd"
   ]
  },
  {
   "attachments": {},
   "cell_type": "markdown",
   "metadata": {},
   "source": [
    "Download data for various indices. Due to some problem in yfinance, it was not able to download all of the specified indices so more than 5 indices are supplied."
   ]
  },
  {
   "cell_type": "code",
   "execution_count": 16,
   "metadata": {},
   "outputs": [
    {
     "name": "stdout",
     "output_type": "stream",
     "text": [
      "[*********************100%***********************]  8 of 8 completed\n",
      "\n",
      "3 Failed downloads:\n",
      "- ^IXIC: No data found for this date range, symbol may be delisted\n",
      "- ^GDAXI: No data found for this date range, symbol may be delisted\n",
      "- ^N225: No timezone found, symbol may be delisted\n"
     ]
    }
   ],
   "source": [
    "tickers = ['^GSPC', '^DJI', '^FTSE', '^GDAXI', '^FCHI', '^KS11', '^IXIC', '^N225']\n",
    "data = yf.download(tickers, start='2010-01-01', end='2023-05-01')"
   ]
  },
  {
   "attachments": {},
   "cell_type": "markdown",
   "metadata": {},
   "source": [
    "Download data for some equities"
   ]
  },
  {
   "cell_type": "code",
   "execution_count": 75,
   "metadata": {},
   "outputs": [
    {
     "name": "stdout",
     "output_type": "stream",
     "text": [
      "[*********************100%***********************]  5 of 5 completed\n"
     ]
    }
   ],
   "source": [
    "equity_tickers = ['GOOG', 'ADANIENT.NS', 'MSFT', 'ONGC.BO', 'RELIANCE.NS']\n",
    "equity_data = yf.download(equity_tickers, start='2010-01-01', end='2023-05-01')"
   ]
  },
  {
   "attachments": {},
   "cell_type": "markdown",
   "metadata": {},
   "source": [
    "Organise the downloaded data into multiple dataframes, each containing the data related to itself"
   ]
  },
  {
   "cell_type": "code",
   "execution_count": 55,
   "metadata": {},
   "outputs": [],
   "source": [
    "indices_list = []\n",
    "for ticker in tickers:\n",
    "    df = pd.DataFrame()\n",
    "    for col in ['Adj Close', 'Close', 'Open', 'High', 'Low', 'Volume']:\n",
    "        df[col] = data[col][ticker]\n",
    "\n",
    "    if pd.isna(df['Adj Close'][-1]):\n",
    "        continue\n",
    "    indices_list.append((ticker, df))\n"
   ]
  },
  {
   "cell_type": "code",
   "execution_count": 83,
   "metadata": {},
   "outputs": [],
   "source": [
    "\n",
    "equities_list = []\n",
    "for ticker in equity_tickers:\n",
    "    df = pd.DataFrame()\n",
    "    for col in ['Adj Close', 'Close', 'Open', 'High', 'Low', 'Volume']:\n",
    "        df[col] = equity_data[col][ticker]\n",
    "\n",
    "    if pd.isna(df['Adj Close'][-1]):\n",
    "        continue\n",
    "    equities_list.append((ticker, df))\n"
   ]
  },
  {
   "attachments": {},
   "cell_type": "markdown",
   "metadata": {},
   "source": [
    "Define the functions to calculate the desired quantities."
   ]
  },
  {
   "cell_type": "code",
   "execution_count": 4,
   "metadata": {},
   "outputs": [],
   "source": [
    "def daily_returns(df):\n",
    "    return pd.DataFrame((df['Close']-df['Open']) / df['Open'])\n",
    "\n",
    "def volatility(df):\n",
    "    return np.float64(daily_returns(df).std() * np.sqrt(252))\n",
    "\n",
    "def cumulative_returns(df):\n",
    "    return np.float64((1+daily_returns(df)).product(axis=0) - 1)\n",
    "\n",
    "def sharpe_ratio(df, risk_free_rate, N):\n",
    "    return np.float64((daily_returns(df).mean()*N - risk_free_rate) / volatility(df))\n",
    "\n",
    "def sortino_ratio(df, target_returns, N):\n",
    "    returns = daily_returns(df)\n",
    "    return np.float64((returns.mean() * N - target_returns) / (returns[returns < 0].std() * np.sqrt(N)))\n",
    "\n",
    "def max_drawdown(df):\n",
    "    return np.float64((df['Low'].min() - df['High'].max()) / df['High'].max() * 100)\n"
   ]
  },
  {
   "attachments": {},
   "cell_type": "markdown",
   "metadata": {},
   "source": [
    "Write the obtained data to a file, to generate the README markdown file."
   ]
  },
  {
   "cell_type": "code",
   "execution_count": 74,
   "metadata": {},
   "outputs": [],
   "source": [
    "with open('international_indices.md', 'w') as readme:\n",
    "    readme.write('Data | ')\n",
    "    for index in indices_list:\n",
    "        readme.write(index[0] + '| ')\n",
    "    readme.write('\\n')\n",
    "    readme.write(\"----|----|----|----|----|----\\n\")\n",
    "    readme.write('Cumulative Returns | ')\n",
    "    for index in indices_list:\n",
    "        readme.write(str(cumulative_returns(index[1]).round(3)) + '| ')\n",
    "    readme.write('\\n')\n",
    "    readme.write('Volatility | ')\n",
    "    for index in indices_list:\n",
    "        readme.write(str(volatility(index[1]).round(3)) + '| ')\n",
    "    readme.write('\\n')\n",
    "    readme.write('Sharpe Ratio | ')\n",
    "    for index in indices_list:\n",
    "        readme.write(str(sharpe_ratio(index[1], risk_free_rate=3.5/100, N=252).round(3)) + '| ')\n",
    "    readme.write('\\n')\n",
    "    readme.write('Sortino Ratio | ')\n",
    "    for index in indices_list:\n",
    "        readme.write(str(sortino_ratio(index[1], target_returns=3.5/100, N=252).round(3)) + ' | ')\n",
    "    readme.write('\\n')\n",
    "    readme.write('Max Drawdown | ')\n",
    "    for index in indices_list:\n",
    "        readme.write(str(max_drawdown(index[1]).round(3)) + '| ')"
   ]
  },
  {
   "cell_type": "code",
   "execution_count": null,
   "metadata": {},
   "outputs": [],
   "source": [
    "with open('international_indices.md', 'w') as readme:\n",
    "    readme.write('Data | ')\n",
    "    for index in equities_list:\n",
    "        readme.write(index[0] + '| ')\n",
    "    readme.write('\\n')\n",
    "    readme.write(\"----|----|----|----|----|----\\n\")\n",
    "    readme.write('Cumulative Returns | ')\n",
    "    for index in equities_list:\n",
    "        readme.write(str(cumulative_returns(index[1]).round(3)) + '| ')\n",
    "    readme.write('\\n')\n",
    "    readme.write('Volatility | ')\n",
    "    for index in equities_list:\n",
    "        readme.write(str(volatility(index[1]).round(3)) + '| ')\n",
    "    readme.write('\\n')\n",
    "    readme.write('Sharpe Ratio | ')\n",
    "    for index in equities_list:\n",
    "        readme.write(str(sharpe_ratio(index[1], risk_free_rate=3.5/100, N=252).round(3)) + '| ')\n",
    "    readme.write('\\n')\n",
    "    readme.write('Sortino Ratio | ')\n",
    "    for index in equities_list:\n",
    "        readme.write(str(sortino_ratio(index[1], target_returns=3.5/100, N=252).round(3)) + ' | ')\n",
    "    readme.write('\\n')\n",
    "    readme.write('Max Drawdown | ')\n",
    "    for index in equities_list:\n",
    "        readme.write(str(max_drawdown(index[1]).round(3)) + '| ')"
   ]
  }
 ],
 "metadata": {
  "kernelspec": {
   "display_name": "Python 3",
   "language": "python",
   "name": "python3"
  },
  "language_info": {
   "codemirror_mode": {
    "name": "ipython",
    "version": 3
   },
   "file_extension": ".py",
   "mimetype": "text/x-python",
   "name": "python",
   "nbconvert_exporter": "python",
   "pygments_lexer": "ipython3",
   "version": "3.10.6"
  },
  "orig_nbformat": 4
 },
 "nbformat": 4,
 "nbformat_minor": 2
}
