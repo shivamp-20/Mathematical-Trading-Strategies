{
 "cells": [
  {
   "cell_type": "code",
   "execution_count": 60,
   "metadata": {},
   "outputs": [
    {
     "name": "stdout",
     "output_type": "stream",
     "text": [
      "[*********************100%***********************]  1 of 1 completed\n"
     ]
    },
    {
     "data": {
      "text/plain": [
       "0.2977066377262081"
      ]
     },
     "execution_count": 60,
     "metadata": {},
     "output_type": "execute_result"
    }
   ],
   "source": [
    "# Load the required modules and packages\n",
    "import numpy as np\n",
    "import pandas as pd\n",
    "import yfinance as yf\n",
    "from datetime import datetime\n",
    "\n",
    "# Pull index data from Yahoo finance\n",
    "data = yf.download('^NSEI','2010-01-01', '2023-05-01')\n",
    "\n",
    "\n",
    "# # Compute the logarithmic returns using the closing price \n",
    "returns= np.log(data['Close'] / data['Close'].shift(1))\n",
    "volatility = (returns).std() * np.sqrt(252) \n",
    "sharpe_ratio = ((returns.mean()*252) - 0.044) / volatility\n",
    "\n",
    "data['Adj Close']=np.log(data['Close'] / data['Close'].shift(1))\n",
    "data['dd']=data[data['Adj Close']<0]['Adj Close']\n",
    "\n",
    "data.columns = [\"Open\", \"High\", \"Low\", \"Close\", \"Log returns\", \"Volume\", \"dd\"]\n",
    "\n",
    "sharpe_ratio\n"
   ]
  },
  {
   "cell_type": "code",
   "execution_count": 61,
   "metadata": {},
   "outputs": [
    {
     "data": {
      "text/plain": [
       "0.1732624887801287"
      ]
     },
     "execution_count": 61,
     "metadata": {},
     "output_type": "execute_result"
    }
   ],
   "source": [
    "volatility"
   ]
  },
  {
   "cell_type": "code",
   "execution_count": 62,
   "metadata": {},
   "outputs": [
    {
     "data": {
      "text/plain": [
       "0.1898373172801232"
      ]
     },
     "execution_count": 62,
     "metadata": {},
     "output_type": "execute_result"
    }
   ],
   "source": [
    "down_vola= (data['dd']).std()*np.sqrt(252)\n",
    "sor_ratio = ((returns.mean()*252) - 0.07) / down_vola\n",
    "\n",
    "sor_ratio"
   ]
  },
  {
   "cell_type": "code",
   "execution_count": 63,
   "metadata": {},
   "outputs": [
    {
     "data": {
      "text/html": [
       "<div>\n",
       "<style scoped>\n",
       "    .dataframe tbody tr th:only-of-type {\n",
       "        vertical-align: middle;\n",
       "    }\n",
       "\n",
       "    .dataframe tbody tr th {\n",
       "        vertical-align: top;\n",
       "    }\n",
       "\n",
       "    .dataframe thead th {\n",
       "        text-align: right;\n",
       "    }\n",
       "</style>\n",
       "<table border=\"1\" class=\"dataframe\">\n",
       "  <thead>\n",
       "    <tr style=\"text-align: right;\">\n",
       "      <th></th>\n",
       "      <th>Open</th>\n",
       "      <th>High</th>\n",
       "      <th>Low</th>\n",
       "      <th>Close</th>\n",
       "      <th>Log returns</th>\n",
       "      <th>Volume</th>\n",
       "      <th>dd</th>\n",
       "      <th>Daily_return</th>\n",
       "      <th>Daily_return_pct</th>\n",
       "      <th>Cumulative_return</th>\n",
       "    </tr>\n",
       "    <tr>\n",
       "      <th>Date</th>\n",
       "      <th></th>\n",
       "      <th></th>\n",
       "      <th></th>\n",
       "      <th></th>\n",
       "      <th></th>\n",
       "      <th></th>\n",
       "      <th></th>\n",
       "      <th></th>\n",
       "      <th></th>\n",
       "      <th></th>\n",
       "    </tr>\n",
       "  </thead>\n",
       "  <tbody>\n",
       "    <tr>\n",
       "      <th>2023-04-24</th>\n",
       "      <td>17707.550781</td>\n",
       "      <td>17754.500000</td>\n",
       "      <td>17612.500000</td>\n",
       "      <td>17743.400391</td>\n",
       "      <td>0.006749</td>\n",
       "      <td>255700</td>\n",
       "      <td>NaN</td>\n",
       "      <td>0.006772</td>\n",
       "      <td>0.006772</td>\n",
       "      <td>1.415356</td>\n",
       "    </tr>\n",
       "    <tr>\n",
       "      <th>2023-04-25</th>\n",
       "      <td>17761.550781</td>\n",
       "      <td>17807.449219</td>\n",
       "      <td>17716.849609</td>\n",
       "      <td>17769.250000</td>\n",
       "      <td>0.001456</td>\n",
       "      <td>297400</td>\n",
       "      <td>NaN</td>\n",
       "      <td>0.001457</td>\n",
       "      <td>0.001457</td>\n",
       "      <td>1.416813</td>\n",
       "    </tr>\n",
       "    <tr>\n",
       "      <th>2023-04-26</th>\n",
       "      <td>17767.300781</td>\n",
       "      <td>17827.750000</td>\n",
       "      <td>17711.199219</td>\n",
       "      <td>17813.599609</td>\n",
       "      <td>0.002493</td>\n",
       "      <td>233000</td>\n",
       "      <td>NaN</td>\n",
       "      <td>0.002496</td>\n",
       "      <td>0.002496</td>\n",
       "      <td>1.419309</td>\n",
       "    </tr>\n",
       "    <tr>\n",
       "      <th>2023-04-27</th>\n",
       "      <td>17813.099609</td>\n",
       "      <td>17931.599609</td>\n",
       "      <td>17797.900391</td>\n",
       "      <td>17915.050781</td>\n",
       "      <td>0.005679</td>\n",
       "      <td>241400</td>\n",
       "      <td>NaN</td>\n",
       "      <td>0.005695</td>\n",
       "      <td>0.005695</td>\n",
       "      <td>1.425004</td>\n",
       "    </tr>\n",
       "    <tr>\n",
       "      <th>2023-04-28</th>\n",
       "      <td>17950.400391</td>\n",
       "      <td>18089.150391</td>\n",
       "      <td>17885.300781</td>\n",
       "      <td>18065.000000</td>\n",
       "      <td>0.008335</td>\n",
       "      <td>290300</td>\n",
       "      <td>NaN</td>\n",
       "      <td>0.008370</td>\n",
       "      <td>0.008370</td>\n",
       "      <td>1.433374</td>\n",
       "    </tr>\n",
       "  </tbody>\n",
       "</table>\n",
       "</div>"
      ],
      "text/plain": [
       "                    Open          High           Low         Close   \n",
       "Date                                                                 \n",
       "2023-04-24  17707.550781  17754.500000  17612.500000  17743.400391  \\\n",
       "2023-04-25  17761.550781  17807.449219  17716.849609  17769.250000   \n",
       "2023-04-26  17767.300781  17827.750000  17711.199219  17813.599609   \n",
       "2023-04-27  17813.099609  17931.599609  17797.900391  17915.050781   \n",
       "2023-04-28  17950.400391  18089.150391  17885.300781  18065.000000   \n",
       "\n",
       "            Log returns  Volume  dd  Daily_return  Daily_return_pct   \n",
       "Date                                                                  \n",
       "2023-04-24     0.006749  255700 NaN      0.006772          0.006772  \\\n",
       "2023-04-25     0.001456  297400 NaN      0.001457          0.001457   \n",
       "2023-04-26     0.002493  233000 NaN      0.002496          0.002496   \n",
       "2023-04-27     0.005679  241400 NaN      0.005695          0.005695   \n",
       "2023-04-28     0.008335  290300 NaN      0.008370          0.008370   \n",
       "\n",
       "            Cumulative_return  \n",
       "Date                           \n",
       "2023-04-24           1.415356  \n",
       "2023-04-25           1.416813  \n",
       "2023-04-26           1.419309  \n",
       "2023-04-27           1.425004  \n",
       "2023-04-28           1.433374  "
      ]
     },
     "execution_count": 63,
     "metadata": {},
     "output_type": "execute_result"
    }
   ],
   "source": [
    "# calculating cumm.\n",
    "data['Daily_return']=data['Close']/data['Close'].shift(1)-1\n",
    "data['Daily_return_pct'] = data['Close'].pct_change(1)\n",
    "data['Cumulative_return'] = np.cumsum(data['Daily_return'])\n",
    "data.tail()"
   ]
  },
  {
   "cell_type": "code",
   "execution_count": 64,
   "metadata": {},
   "outputs": [
    {
     "name": "stdout",
     "output_type": "stream",
     "text": [
      "[*********************100%***********************]  1 of 1 completed\n",
      "Date\n",
      "2010-01-04    0.000000\n",
      "2010-01-05   -0.022946\n",
      "2010-01-06   -0.057881\n",
      "2010-01-07   -0.063263\n",
      "2010-01-08   -0.076251\n",
      "                ...   \n",
      "2023-04-24   -0.592014\n",
      "2023-04-25   -0.592014\n",
      "2023-04-26   -0.592014\n",
      "2023-04-27   -0.592014\n",
      "2023-04-28   -0.592014\n",
      "Name: Close, Length: 3288, dtype: float64\n"
     ]
    }
   ],
   "source": [
    "ticker = \"MARUTI.NS\"\n",
    "df=yf.download(ticker,start=\"2010-01-01\",end=\"2023-05-01\",actions=\"True\")\n",
    "df.to_csv(\"final.csv\")\n",
    "def max_drawdown(data,window=3352):\n",
    "    Roll_Max= data['Close'].rolling(window,min_periods=1).max()\n",
    "    Daily_drawdown= data['Close']/Roll_Max-1.0\n",
    "    max_daily_drawdown = Daily_drawdown.rolling(window , min_periods=1).min()\n",
    "    \n",
    "    return max_daily_drawdown\n",
    "\n",
    "print(max_drawdown(df))\n"
   ]
  }
 ],
 "metadata": {
  "kernelspec": {
   "display_name": "Python 3",
   "language": "python",
   "name": "python3"
  },
  "language_info": {
   "codemirror_mode": {
    "name": "ipython",
    "version": 3
   },
   "file_extension": ".py",
   "mimetype": "text/x-python",
   "name": "python",
   "nbconvert_exporter": "python",
   "pygments_lexer": "ipython3",
   "version": "3.11.2"
  },
  "orig_nbformat": 4
 },
 "nbformat": 4,
 "nbformat_minor": 2
}
