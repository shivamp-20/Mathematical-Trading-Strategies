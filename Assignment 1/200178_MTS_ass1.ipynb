{
 "cells": [
  {
   "cell_type": "code",
   "execution_count": 3,
   "id": "b89efb98",
   "metadata": {},
   "outputs": [],
   "source": [
    "import yfinance as yf\n",
    "import pandas as pd\n",
    "import numpy as np"
   ]
  },
  {
   "cell_type": "code",
   "execution_count": 4,
   "id": "54f3de3e",
   "metadata": {},
   "outputs": [],
   "source": [
    "equities=['AAPL','MSFT','GOOG','AMZN','TSLA']\n",
    "indices=['^GSPC','^DJI','^IXIC','^RUT','^N225']"
   ]
  },
  {
   "cell_type": "code",
   "execution_count": 5,
   "id": "fccc9df6",
   "metadata": {},
   "outputs": [
    {
     "name": "stdout",
     "output_type": "stream",
     "text": [
      "[*********************100%***********************]  10 of 10 completed\n"
     ]
    }
   ],
   "source": [
    "data=yf.download(equities+indices,start='2010-01-01',end='2023-05-01')['Adj Close']\n"
   ]
  },
  {
   "cell_type": "code",
   "execution_count": 6,
   "id": "ea1e4d30",
   "metadata": {},
   "outputs": [],
   "source": [
    "#daily returns\n",
    "returns=data.pct_change()\n"
   ]
  },
  {
   "cell_type": "code",
   "execution_count": 7,
   "id": "f4d14a53",
   "metadata": {},
   "outputs": [
    {
     "name": "stdout",
     "output_type": "stream",
     "text": [
      "AAPL      26.083436\n",
      "AMZN      15.750559\n",
      "GOOG       6.932629\n",
      "MSFT      13.006323\n",
      "TSLA     103.166575\n",
      "^DJI       3.221683\n",
      "^GSPC      3.680068\n",
      "^IXIC      5.296515\n",
      "^N225      2.708307\n",
      "^RUT       2.763615\n",
      "Name: 2023-04-28 00:00:00, dtype: float64\n"
     ]
    }
   ],
   "source": [
    "#cummulative returns\n",
    "cum_returns=(returns+1).cumprod()\n",
    "print(cum_returns.iloc[-1])"
   ]
  },
  {
   "cell_type": "code",
   "execution_count": 8,
   "id": "a53aa8b2",
   "metadata": {},
   "outputs": [
    {
     "data": {
      "text/plain": [
       "AAPL     0.281438\n",
       "AMZN     0.326496\n",
       "GOOG     0.268999\n",
       "MSFT     0.257220\n",
       "TSLA     0.564644\n",
       "^DJI     0.169069\n",
       "^GSPC    0.174766\n",
       "^IXIC    0.202761\n",
       "^N225    0.202051\n",
       "^RUT     0.226350\n",
       "dtype: float64"
      ]
     },
     "execution_count": 8,
     "metadata": {},
     "output_type": "execute_result"
    }
   ],
   "source": [
    "#volatility\n",
    "volatility = returns.std() * np.sqrt(252)\n",
    "volatility"
   ]
  },
  {
   "cell_type": "code",
   "execution_count": 9,
   "id": "31f1c101",
   "metadata": {},
   "outputs": [
    {
     "data": {
      "text/plain": [
       "AAPL    -0.437972\n",
       "AMZN    -0.561453\n",
       "GOOG    -0.446018\n",
       "MSFT    -0.371485\n",
       "TSLA    -0.736322\n",
       "^DJI    -0.370862\n",
       "^GSPC   -0.339250\n",
       "^IXIC   -0.363953\n",
       "^N225   -0.317989\n",
       "^RUT    -0.430613\n",
       "dtype: float64"
      ]
     },
     "execution_count": 9,
     "metadata": {},
     "output_type": "execute_result"
    }
   ],
   "source": [
    "#maximum drawdown\n",
    "rolling_max=data.cummax()\n",
    "drawdown=(data-rolling_max)/rolling_max\n",
    "max_drawdown=drawdown.min()\n",
    "max_drawdown"
   ]
  },
  {
   "cell_type": "code",
   "execution_count": 182,
   "id": "03514130",
   "metadata": {},
   "outputs": [
    {
     "data": {
      "text/plain": [
       "AAPL     0.062029\n",
       "AMZN     0.048983\n",
       "GOOG     0.041448\n",
       "MSFT     0.053848\n",
       "TSLA     0.056787\n",
       "^DJI     0.037083\n",
       "^GSPC    0.039717\n",
       "^IXIC    0.044118\n",
       "^N225    0.028993\n",
       "^RUT     0.027767\n",
       "dtype: float64"
      ]
     },
     "execution_count": 182,
     "metadata": {},
     "output_type": "execute_result"
    }
   ],
   "source": [
    "#sharpe ratio\n",
    "risk_free_rate=0.0\n",
    "daily_risk = returns.std()\n",
    "annual_risk=daily_risk * np.sqrt(252)\n",
    "daily_return_avg = returns.mean()\n",
    "sharpe_ratio = (daily_return_avg - risk_free_rate) / daily_risk\n",
    "sharpe_ratio"
   ]
  },
  {
   "cell_type": "code",
   "execution_count": 183,
   "id": "3ba3de19",
   "metadata": {},
   "outputs": [
    {
     "data": {
      "text/plain": [
       "AAPL     0.085246\n",
       "AMZN     0.068830\n",
       "GOOG     0.056948\n",
       "MSFT     0.074074\n",
       "TSLA     0.081764\n",
       "^DJI     0.044098\n",
       "^GSPC    0.047846\n",
       "^IXIC    0.054827\n",
       "^N225    0.038378\n",
       "^RUT     0.035633\n",
       "dtype: float64"
      ]
     },
     "execution_count": 183,
     "metadata": {},
     "output_type": "execute_result"
    }
   ],
   "source": [
    "#sortino ratio\n",
    "risk_free_rate=0.0\n",
    "daily_risk = returns.std()\n",
    "daily_return_avg = returns.mean()\n",
    "downside_returns=returns[returns < 0]\n",
    "downside_risk=downside_returns.std()\n",
    "sortino_ratio = (daily_return_avg - risk_free_rate) / downside_risk\n",
    "sortino_ratio"
   ]
  },
  {
   "cell_type": "code",
   "execution_count": null,
   "id": "3a21395d",
   "metadata": {},
   "outputs": [],
   "source": []
  },
  {
   "cell_type": "code",
   "execution_count": null,
   "id": "72b128fe",
   "metadata": {},
   "outputs": [],
   "source": []
  }
 ],
 "metadata": {
  "kernelspec": {
   "display_name": "Python 3",
   "language": "python",
   "name": "python3"
  },
  "language_info": {
   "codemirror_mode": {
    "name": "ipython",
    "version": 3
   },
   "file_extension": ".py",
   "mimetype": "text/x-python",
   "name": "python",
   "nbconvert_exporter": "python",
   "pygments_lexer": "ipython3",
   "version": "3.8.8"
  }
 },
 "nbformat": 4,
 "nbformat_minor": 5
}
