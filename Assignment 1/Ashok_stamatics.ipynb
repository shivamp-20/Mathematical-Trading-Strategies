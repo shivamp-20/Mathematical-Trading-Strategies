{
  "nbformat": 4,
  "nbformat_minor": 0,
  "metadata": {
    "colab": {
      "provenance": []
    },
    "kernelspec": {
      "name": "python3",
      "display_name": "Python 3"
    },
    "language_info": {
      "name": "python"
    }
  },
  "cells": [
    {
      "cell_type": "code",
      "execution_count": 8,
      "metadata": {
        "colab": {
          "base_uri": "https://localhost:8080/"
        },
        "id": "hU_gvgMgIXwA",
        "outputId": "a94e1922-05e9-4bb8-c211-8269fe272c55"
      },
      "outputs": [
        {
          "output_type": "stream",
          "name": "stdout",
          "text": [
            "Looking in indexes: https://pypi.org/simple, https://us-python.pkg.dev/colab-wheels/public/simple/\n",
            "Requirement already satisfied: yfinance in /usr/local/lib/python3.10/dist-packages (0.2.18)\n",
            "Requirement already satisfied: pandas>=1.3.0 in /usr/local/lib/python3.10/dist-packages (from yfinance) (1.5.3)\n",
            "Requirement already satisfied: numpy>=1.16.5 in /usr/local/lib/python3.10/dist-packages (from yfinance) (1.22.4)\n",
            "Requirement already satisfied: requests>=2.26 in /usr/local/lib/python3.10/dist-packages (from yfinance) (2.27.1)\n",
            "Requirement already satisfied: multitasking>=0.0.7 in /usr/local/lib/python3.10/dist-packages (from yfinance) (0.0.11)\n",
            "Requirement already satisfied: lxml>=4.9.1 in /usr/local/lib/python3.10/dist-packages (from yfinance) (4.9.2)\n",
            "Requirement already satisfied: appdirs>=1.4.4 in /usr/local/lib/python3.10/dist-packages (from yfinance) (1.4.4)\n",
            "Requirement already satisfied: pytz>=2022.5 in /usr/local/lib/python3.10/dist-packages (from yfinance) (2022.7.1)\n",
            "Requirement already satisfied: frozendict>=2.3.4 in /usr/local/lib/python3.10/dist-packages (from yfinance) (2.3.7)\n",
            "Requirement already satisfied: cryptography>=3.3.2 in /usr/local/lib/python3.10/dist-packages (from yfinance) (40.0.2)\n",
            "Requirement already satisfied: beautifulsoup4>=4.11.1 in /usr/local/lib/python3.10/dist-packages (from yfinance) (4.11.2)\n",
            "Requirement already satisfied: html5lib>=1.1 in /usr/local/lib/python3.10/dist-packages (from yfinance) (1.1)\n",
            "Requirement already satisfied: soupsieve>1.2 in /usr/local/lib/python3.10/dist-packages (from beautifulsoup4>=4.11.1->yfinance) (2.4.1)\n",
            "Requirement already satisfied: cffi>=1.12 in /usr/local/lib/python3.10/dist-packages (from cryptography>=3.3.2->yfinance) (1.15.1)\n",
            "Requirement already satisfied: six>=1.9 in /usr/local/lib/python3.10/dist-packages (from html5lib>=1.1->yfinance) (1.16.0)\n",
            "Requirement already satisfied: webencodings in /usr/local/lib/python3.10/dist-packages (from html5lib>=1.1->yfinance) (0.5.1)\n",
            "Requirement already satisfied: python-dateutil>=2.8.1 in /usr/local/lib/python3.10/dist-packages (from pandas>=1.3.0->yfinance) (2.8.2)\n",
            "Requirement already satisfied: urllib3<1.27,>=1.21.1 in /usr/local/lib/python3.10/dist-packages (from requests>=2.26->yfinance) (1.26.15)\n",
            "Requirement already satisfied: certifi>=2017.4.17 in /usr/local/lib/python3.10/dist-packages (from requests>=2.26->yfinance) (2022.12.7)\n",
            "Requirement already satisfied: charset-normalizer~=2.0.0 in /usr/local/lib/python3.10/dist-packages (from requests>=2.26->yfinance) (2.0.12)\n",
            "Requirement already satisfied: idna<4,>=2.5 in /usr/local/lib/python3.10/dist-packages (from requests>=2.26->yfinance) (3.4)\n",
            "Requirement already satisfied: pycparser in /usr/local/lib/python3.10/dist-packages (from cffi>=1.12->cryptography>=3.3.2->yfinance) (2.21)\n"
          ]
        }
      ],
      "source": [
        "!pip install yfinance"
      ]
    },
    {
      "cell_type": "code",
      "source": [
        "import yfinance as yf\n",
        "import pandas as pd\n",
        "import numpy as np\n",
        "indices = ['^GSPC', '^IXIC', '^DJI', '^FTSE', '^W5000']\n",
        "equities = ['AAPL', 'GOOGL', 'MSFT', 'AMZN', 'IBM', 'AXP', 'XOM']"
      ],
      "metadata": {
        "id": "6VKutVy_IrUj"
      },
      "execution_count": 13,
      "outputs": []
    },
    {
      "cell_type": "code",
      "source": [
        "results_indices = pd.DataFrame(index=indices, columns=['Cumulative Returns', 'Volatality', 'Sharpe Ratio', 'Sortino Ratio', 'Maximum Drawdown'])\n",
        "\n",
        "risk_free_rate = 5.25\n",
        "trading_days_per_year = 252\n",
        "interest_earning_days_per_year = 365\n",
        "for index in indices:\n",
        "    data = yf.download(index, start='2010-01-01', end='2023-05-01', progress=False)\n",
        "    data['Daily Returns'] = data['Adj Close'].pct_change()\n",
        "    results_indices.loc[index, 'Cumulative Returns'] = (data.iloc[-1]['Close'] - data.iloc[0]['Open'])*100/data.iloc[0]['Open']\n",
        "    data['Cumulative Maximum Daily Returns'] = data['Daily Returns'].cummax()\n",
        "    data['Drawdown'] = (data['Daily Returns']/data['Daily Returns'].cummax() - 1)\n",
        "    results_indices.loc[index, 'Maximum Drawdown'] = data['Drawdown'].min()\n",
        "    mean_return = data['Daily Returns'].mean()\n",
        "    std_return = data['Daily Returns'].std()\n",
        "    sharpe_ratio = (mean_return - risk_free_rate/100/interest_earning_days_per_year) / std_return * np.sqrt(trading_days_per_year)\n",
        "    results_indices.loc[index, 'Sharpe Ratio'] = sharpe_ratio\n",
        "    results_indices.loc[index, 'Volatality'] = std_return* np.sqrt(trading_days_per_year)\n",
        "    sortino_ratio = (mean_return - risk_free_rate/100/interest_earning_days_per_year) / data['Daily Returns'][data['Daily Returns'] < 0].std() * np.sqrt(trading_days_per_year)\n",
        "    results_indices.loc[index, 'Sortino Ratio'] = sortino_ratio"
      ],
      "metadata": {
        "id": "DDErrQKVIsmH"
      },
      "execution_count": 14,
      "outputs": []
    },
    {
      "cell_type": "code",
      "source": [
        "results_equities = pd.DataFrame(index=equities, columns=['Cumulative Returns', 'Volatality', 'Sharpe Ratio', 'Sortino Ratio', 'Maximum Drawdown'])\n",
        "\n",
        "for equity in equities:\n",
        "    data = yf.download(equity, start='2010-01-01', end='2023-05-01', progress=False)\n",
        "    data['Daily Returns'] = data['Adj Close'].pct_change()\n",
        "    results_equities.loc[equity, 'Cumulative Returns'] = (data.iloc[-1]['Close'] - data.iloc[0]['Open'])*100/data.iloc[0]['Open']\n",
        "    data['Cumulative Maximum Daily Returns'] = data['Daily Returns'].cummax()\n",
        "    data['Drawdown'] = (data['Daily Returns']/data['Daily Returns'].cummax() - 1)\n",
        "    results_equities.loc[equity, 'Maximum Drawdown'] = data['Drawdown'].min()\n",
        "    mean_return = data['Daily Returns'].mean()\n",
        "    std_return = data['Daily Returns'].std()\n",
        "    sharpe_ratio = (mean_return - risk_free_rate/100/interest_earning_days_per_year) / std_return * np.sqrt(trading_days_per_year)\n",
        "    results_equities.loc[equity, 'Sharpe Ratio'] = sharpe_ratio\n",
        "    results_equities.loc[equity, 'Volatality'] = std_return * np.sqrt(trading_days_per_year)\n",
        "    sortino_ratio = (mean_return - risk_free_rate/100/interest_earning_days_per_year) / data['Daily Returns'][data['Daily Returns'] < 0].std() * np.sqrt(trading_days_per_year)\n",
        "    results_equities.loc[equity, 'Sortino Ratio'] = sortino_ratio"
      ],
      "metadata": {
        "id": "VOx7cn4MIwDJ"
      },
      "execution_count": 15,
      "outputs": []
    },
    {
      "cell_type": "code",
      "source": [
        "print(results_indices)\n",
        "print(results_equities)"
      ],
      "metadata": {
        "colab": {
          "base_uri": "https://localhost:8080/"
        },
        "id": "d8XNm6asIyxB",
        "outputId": "c6375840-8ac9-417c-fbe0-78bd2533ff39"
      },
      "execution_count": 16,
      "outputs": [
        {
          "output_type": "stream",
          "name": "stdout",
          "text": [
            "       Cumulative Returns Volatality Sharpe Ratio Sortino Ratio  \\\n",
            "^GSPC          273.421917   0.177634     0.436806      0.534784   \n",
            "^IXIC          432.885602   0.206055     0.535864      0.676756   \n",
            "^DJI           226.902235   0.171818     0.387301      0.468064   \n",
            "^FTSE           45.404501   0.162515     0.023785       0.03072   \n",
            "^W5000         255.559393   0.181674     0.410781      0.502423   \n",
            "\n",
            "       Maximum Drawdown  \n",
            "^GSPC         -3.344587  \n",
            "^IXIC        -27.268585  \n",
            "^DJI          -3.225546  \n",
            "^FTSE         -3.341905  \n",
            "^W5000        -3.731522  \n",
            "      Cumulative Returns Volatality Sharpe Ratio Sortino Ratio  \\\n",
            "AAPL         2126.041246   0.286001     0.874027      1.220651   \n",
            "GOOGL         584.154466   0.272976     0.532964       0.74447   \n",
            "MSFT          903.461794   0.261395     0.730091      1.020628   \n",
            "AMZN         1447.889863   0.331799     0.681021        0.9725   \n",
            "IBM             0.796514    0.22404     0.102996      0.130061   \n",
            "AXP           295.344256   0.295909     0.423348      0.574386   \n",
            "XOM            72.206045   0.254249     0.293175      0.406486   \n",
            "\n",
            "      Maximum Drawdown  \n",
            "AAPL        -10.199538  \n",
            "GOOGL         -5.24226  \n",
            "MSFT        -33.179645  \n",
            "AMZN         -4.070504  \n",
            "IBM          -2.619296  \n",
            "AXP          -6.220964  \n",
            "XOM          -3.216267  \n"
          ]
        }
      ]
    },
    {
      "cell_type": "code",
      "source": [],
      "metadata": {
        "id": "tjaSXR1tI2Bd"
      },
      "execution_count": null,
      "outputs": []
    }
  ]
}