{
  "nbformat": 4,
  "nbformat_minor": 0,
  "metadata": {
    "colab": {
      "provenance": []
    },
    "kernelspec": {
      "name": "python3",
      "display_name": "Python 3"
    },
    "language_info": {
      "name": "python"
    }
  },
  "cells": [
    {
      "cell_type": "code",
      "source": [
        "import yfinance as yf\n",
        "import pandas as pd\n",
        "import numpy as np\n",
        "\n",
        "# Define the indices and equities\n",
        "indices = ['^GSPC', '^IXIC', '^DJI', '^FTSE', '^N225']\n",
        "equities = ['AAPL', 'GOOGL', 'MSFT', 'AMZN', 'TCS.NS']\n",
        "\n",
        "# Load the daily data since \"2010-01-01\"\n",
        "start_date = \"2010-01-01\"\n",
        "data = yf.download(indices + equities, start=start_date)\n",
        "\n",
        "# Extract the adjusted closing prices\n",
        "adj_close = data['Adj Close']\n",
        "\n",
        "# Compute the daily returns\n",
        "returns = adj_close.pct_change()\n",
        "\n",
        "# Compute cumulative returns\n",
        "cumulative_returns = (1 + returns).cumprod()\n",
        "\n",
        "# Compute max drawdowns\n",
        "rolling_max = cumulative_returns.rolling(window=252, min_periods=1).max()\n",
        "daily_drawdown = cumulative_returns / rolling_max - 1\n",
        "max_drawdown = daily_drawdown.min()\n",
        "\n",
        "# Compute the Sharpe ratio\n",
        "risk_free_rate = 0.0  # Assuming risk-free rate of 0%\n",
        "daily_returns_excess = returns - risk_free_rate / 252  # Adjust for risk-free rate\n",
        "sharpe_ratio = np.sqrt(252) * (daily_returns_excess.mean() / daily_returns_excess.std())\n",
        "\n",
        "# Compute the Sortino ratio\n",
        "downside_returns = returns.copy()\n",
        "downside_returns[returns > 0] = 0  # Set positive returns to 0\n",
        "downside_std = np.sqrt(252) * downside_returns.std()\n",
        "sortino_ratio = (daily_returns_excess.mean() / downside_std)\n",
        "\n",
        "# Display the results\n",
        "results = pd.DataFrame({\n",
        "    'Cumulative Returns': cumulative_returns.iloc[-1],\n",
        "    'Max Drawdown': max_drawdown,\n",
        "    'Sharpe Ratio': sharpe_ratio,\n",
        "    'Sortino Ratio': sortino_ratio,\n",
        "})\n",
        "\n",
        "# Print the results for indices\n",
        "print(\"Indices:\")\n",
        "print(results.loc[indices])\n",
        "\n",
        "# Print the results for equities\n",
        "print(\"Equities:\")\n",
        "print(results.loc[equities])\n"
      ],
      "metadata": {
        "colab": {
          "base_uri": "https://localhost:8080/"
        },
        "id": "tWLv30BO5eTK",
        "outputId": "989eee53-d53f-4f15-e3ed-424c066c18cf"
      },
      "execution_count": 2,
      "outputs": [
        {
          "output_type": "stream",
          "name": "stdout",
          "text": [
            "[*********************100%***********************]  10 of 10 completed\n",
            "Indices:\n",
            "       Cumulative Returns  Max Drawdown  Sharpe Ratio  Sortino Ratio\n",
            "^GSPC            3.699927     -0.339250      0.629604       0.003847\n",
            "^IXIC            5.483361     -0.357221      0.709277       0.004387\n",
            "^DJI             3.158235     -0.370862      0.577230       0.003508\n",
            "^FTSE            1.410269     -0.350311      0.235582       0.001449\n",
            "^N225            2.891502     -0.312690      0.481619       0.003046\n",
            "Equities:\n",
            "        Cumulative Returns  Max Drawdown  Sharpe Ratio  Sortino Ratio\n",
            "AAPL             26.963072     -0.437971      0.988214       0.006523\n",
            "GOOGL             7.826869     -0.443201      0.687428       0.004552\n",
            "MSFT             13.504792     -0.371485      0.861491       0.005710\n",
            "AMZN             17.363704     -0.518826      0.795246       0.005324\n",
            "TCS.NS           11.120860     -0.272113      0.829631       0.005605\n"
          ]
        }
      ]
    }
  ]
}