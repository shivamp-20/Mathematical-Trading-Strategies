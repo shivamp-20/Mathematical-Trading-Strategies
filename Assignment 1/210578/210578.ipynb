{
 "cells": [
  {
   "cell_type": "code",
   "execution_count": 5,
   "id": "b3e5847a",
   "metadata": {},
   "outputs": [
    {
     "name": "stdout",
     "output_type": "stream",
     "text": [
      "Mathematical Trading Strategies\n"
     ]
    }
   ],
   "source": [
    "print(\"Mathematical Trading Strategies\")"
   ]
  },
  {
   "cell_type": "code",
   "execution_count": 6,
   "id": "996145da",
   "metadata": {},
   "outputs": [
    {
     "name": "stdout",
     "output_type": "stream",
     "text": [
      "Assignment 1\n"
     ]
    }
   ],
   "source": [
    "print(\"Assignment 1\")"
   ]
  },
  {
   "cell_type": "code",
   "execution_count": 3,
   "id": "ce89f1b2",
   "metadata": {},
   "outputs": [
    {
     "name": "stdout",
     "output_type": "stream",
     "text": [
      "[*********************100%***********************]  1 of 1 completed\n",
      "[*********************100%***********************]  1 of 1 completed\n",
      "[*********************100%***********************]  1 of 1 completed\n",
      "[*********************100%***********************]  1 of 1 completed\n",
      "[*********************100%***********************]  1 of 1 completed\n",
      "                       S&P 500      NASDAQ  Dow Jones Industrial Average   \n",
      "Cumulative Returns  268.006780  429.651471                    222.168265  \\\n",
      "Volatility           17.763375   20.605521                     17.181792   \n",
      "Sharpe Ratio          0.432565    0.532207                      0.382916   \n",
      "Sortino Ratio         0.602966    0.743512                      0.532835   \n",
      "Max Drawdown         -0.339250   -0.363953                     -0.370862   \n",
      "\n",
      "                    Russell 2000   FTSE 100  \n",
      "Cumulative Returns    176.361515  43.094020  \n",
      "Volatility             23.003179  16.251517  \n",
      "Sharpe Ratio            0.287110   0.019149  \n",
      "Sortino Ratio           0.399123   0.026355  \n",
      "Max Drawdown           -0.430613  -0.366055  \n"
     ]
    }
   ],
   "source": [
    "import yfinance as yf\n",
    "import numpy as np\n",
    "import pandas as pd\n",
    "\n",
    "indexes = {\n",
    "    \"^GSPC\": \"S&P 500\",\n",
    "    \"^IXIC\": \"NASDAQ\",\n",
    "    \"^DJI\": \"Dow Jones Industrial Average\",\n",
    "    \"^RUT\": \"Russell 2000\",\n",
    "    \"^FTSE\": \"FTSE 100\"\n",
    "}\n",
    "\n",
    "start_date = \"2010-01-01\"\n",
    "end_date = \"2023-05-01\"\n",
    "\n",
    "cumulative_returns = {}\n",
    "volatilities = {}\n",
    "sharpe_ratios = {}\n",
    "sortino_ratios = {}\n",
    "max_drawdowns = {}\n",
    "\n",
    "for ticker, name in indexes.items():\n",
    "    data = yf.download(ticker, start=start_date, end=end_date)\n",
    "    \n",
    "    data[\"Daily Return\"] = data[\"Close\"].pct_change()\n",
    "    \n",
    "    cum_returns = (1 + data[\"Daily Return\"]).cumprod()\n",
    "    peak = cum_returns.cummax()\n",
    "    drawdown = (cum_returns - peak) / peak\n",
    "    max_drawdown = np.min(drawdown)\n",
    "    \n",
    "    cumulative_return = (cum_returns[-1] - 1) * 100\n",
    "    \n",
    "    volatility = data[\"Daily Return\"].std() * np.sqrt(252) * 100\n",
    "    \n",
    "    annual_return = data[\"Daily Return\"].mean() * 252\n",
    "    annual_std_dev = data[\"Daily Return\"].std() * np.sqrt(252)\n",
    "    \n",
    "    risk_free_rate = 0.037\n",
    "    \n",
    "    sharpe_ratio = (annual_return - risk_free_rate) / annual_std_dev\n",
    "    \n",
    "    downside_returns = data[\"Daily Return\"].copy()\n",
    "    downside_returns[downside_returns > 0] = 0\n",
    "    downside_deviation = np.sqrt(np.mean(downside_returns**2)) * np.sqrt(252)\n",
    "    \n",
    "    sortino_ratio = (annual_return - risk_free_rate) / downside_deviation\n",
    "    \n",
    "    cumulative_returns[name] = cumulative_return\n",
    "    volatilities[name] = volatility\n",
    "    sharpe_ratios[name] = sharpe_ratio\n",
    "    sortino_ratios[name] = sortino_ratio\n",
    "    max_drawdowns[name] = max_drawdown\n",
    "\n",
    "results_df = pd.DataFrame({\n",
    "    \"Cumulative Returns\": cumulative_returns,\n",
    "    \"Volatility\": volatilities,\n",
    "    \"Sharpe Ratio\": sharpe_ratios,\n",
    "    \"Sortino Ratio\": sortino_ratios,\n",
    "    \"Max Drawdown\": max_drawdowns\n",
    "})\n",
    "\n",
    "results_df = results_df.T\n",
    "\n",
    "print(results_df)\n"
   ]
  },
  {
   "cell_type": "code",
   "execution_count": 4,
   "id": "9f25f7b8",
   "metadata": {},
   "outputs": [
    {
     "name": "stdout",
     "output_type": "stream",
     "text": [
      "[*********************100%***********************]  1 of 1 completed\n",
      "[*********************100%***********************]  1 of 1 completed\n",
      "[*********************100%***********************]  1 of 1 completed\n",
      "[*********************100%***********************]  1 of 1 completed\n",
      "[*********************100%***********************]  1 of 1 completed\n",
      "                          Apple   Microsoft       Amazon    Alphabet   \n",
      "Cumulative Returns  2120.008332  892.762527  1475.055926  584.372779  \\\n",
      "Volatility            28.615968   26.167679    33.179894   27.297627   \n",
      "Sharpe Ratio           0.828678    0.649051     0.678750    0.530204   \n",
      "Sortino Ratio          1.217106    0.957566     1.009805    0.782077   \n",
      "Max Drawdown          -0.443769   -0.375565    -0.561453   -0.443201   \n",
      "\n",
      "                           Tesla  \n",
      "Cumulative Returns  10216.657484  \n",
      "Volatility             57.380700  \n",
      "Sharpe Ratio            0.851707  \n",
      "Sortino Ratio           1.295255  \n",
      "Max Drawdown           -0.736322  \n"
     ]
    }
   ],
   "source": [
    "import yfinance as yf\n",
    "import numpy as np\n",
    "import pandas as pd\n",
    "\n",
    "stocks = {\n",
    "    \"AAPL\": \"Apple\",\n",
    "    \"MSFT\": \"Microsoft\",\n",
    "    \"AMZN\": \"Amazon\",\n",
    "    \"GOOGL\": \"Alphabet\",\n",
    "    \"TSLA\": \"Tesla\"\n",
    "}\n",
    "\n",
    "start_date = \"2010-01-01\"\n",
    "end_date = \"2023-05-01\"\n",
    "\n",
    "cumulative_returns = {}\n",
    "volatilities = {}\n",
    "sharpe_ratios = {}\n",
    "sortino_ratios = {}\n",
    "max_drawdowns = {}\n",
    "\n",
    "for ticker, name in stocks.items():\n",
    "    data = yf.download(ticker, start=start_date, end=end_date)\n",
    "    \n",
    "    data[\"Daily Return\"] = data[\"Close\"].pct_change()\n",
    "    \n",
    "    cum_returns = (1 + data[\"Daily Return\"]).cumprod()\n",
    "    peak = cum_returns.cummax()\n",
    "    drawdown = (cum_returns - peak) / peak\n",
    "    max_drawdown = np.min(drawdown)\n",
    "    \n",
    "    cumulative_return = (cum_returns[-1] - 1) * 100\n",
    "    \n",
    "    volatility = data[\"Daily Return\"].std() * np.sqrt(252) * 100\n",
    "    \n",
    "    annual_return = data[\"Daily Return\"].mean() * 252\n",
    "    annual_std_dev = data[\"Daily Return\"].std() * np.sqrt(252)\n",
    "    \n",
    "    risk_free_rate = 0.037\n",
    "    \n",
    "    sharpe_ratio = (annual_return - risk_free_rate) / annual_std_dev\n",
    "    \n",
    "    downside_returns = data[\"Daily Return\"].copy()\n",
    "    downside_returns[downside_returns > 0] = 0\n",
    "    downside_deviation = np.sqrt(np.mean(downside_returns**2)) * np.sqrt(252)\n",
    "    \n",
    "    sortino_ratio = (annual_return - risk_free_rate) / downside_deviation\n",
    "    \n",
    "    cumulative_returns[name] = cumulative_return\n",
    "    volatilities[name] = volatility\n",
    "    sharpe_ratios[name] = sharpe_ratio\n",
    "    sortino_ratios[name] = sortino_ratio\n",
    "    max_drawdowns[name] = max_drawdown\n",
    "\n",
    "results_df = pd.DataFrame({\n",
    "    \"Cumulative Returns\": cumulative_returns,\n",
    "    \"Volatility\": volatilities,\n",
    "    \"Sharpe Ratio\": sharpe_ratios,\n",
    "    \"Sortino Ratio\": sortino_ratios,\n",
    "    \"Max Drawdown\": max_drawdowns\n",
    "})\n",
    "\n",
    "results_df = results_df.T\n",
    "\n",
    "print(results_df)"
   ]
  },
  {
   "cell_type": "code",
   "execution_count": null,
   "id": "e4e6991c",
   "metadata": {},
   "outputs": [],
   "source": []
  }
 ],
 "metadata": {
  "kernelspec": {
   "display_name": "Python 3 (ipykernel)",
   "language": "python",
   "name": "python3"
  },
  "language_info": {
   "codemirror_mode": {
    "name": "ipython",
    "version": 3
   },
   "file_extension": ".py",
   "mimetype": "text/x-python",
   "name": "python",
   "nbconvert_exporter": "python",
   "pygments_lexer": "ipython3",
   "version": "3.8.10"
  }
 },
 "nbformat": 4,
 "nbformat_minor": 5
}
