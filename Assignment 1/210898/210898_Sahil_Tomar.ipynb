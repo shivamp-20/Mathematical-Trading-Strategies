{
 "cells": [
  {
   "cell_type": "code",
   "execution_count": 50,
   "metadata": {
    "collapsed": true,
    "ExecuteTime": {
     "end_time": "2023-05-17T14:24:42.788696Z",
     "start_time": "2023-05-17T14:24:42.785404Z"
    }
   },
   "outputs": [],
   "source": [
    "import yfinance as yf\n",
    "import pandas as pd\n",
    "import numpy as np"
   ]
  },
  {
   "cell_type": "code",
   "execution_count": 51,
   "outputs": [],
   "source": [
    "equities_list = [\"amzn\", \"tsla\", \"wmt\", \"meta\", \"nvda\"]\n",
    "df_equities = pd.DataFrame({\n",
    "                            \"Equity\": [\"amzn\", \"tsla\", \"wmt\", \"meta\", \"nvda\"],\n",
    "                            \"CumulativeReturns\": np.zeros(5),\n",
    "                            \"Volatility (Annualised)\": np.zeros(5),\n",
    "                            \"SharpeRatio\": np.zeros(5),\n",
    "                            \"SortinoRatio\" : np.zeros(5),\n",
    "                            \"MaxDrawDown\": np.zeros(5)\n",
    "                            }).set_index(\"Equity\")\n",
    "\n",
    "indices_list = [\"DJI\", \"^GSPC\", \"^IXIC\", \"^RUT\", \"^NYA\"]\n",
    "df_indices = pd.DataFrame({\n",
    "                            \"Index\": [\"DJI\", \"^GSPC\", \"^IXIC\", \"^RUT\", \"^NYA\"],\n",
    "                            \"CumulativeReturns\": np.zeros(5),\n",
    "                            \"Volatility (Annualised)\": np.zeros(5),\n",
    "                            \"SharpeRatio\": np.zeros(5),\n",
    "                            \"SortinoRatio\" : np.zeros(5),\n",
    "                            \"MaxDrawDown\": np.zeros(5)\n",
    "                            }).set_index(\"Index\")"
   ],
   "metadata": {
    "collapsed": false,
    "ExecuteTime": {
     "end_time": "2023-05-17T14:24:42.798592Z",
     "start_time": "2023-05-17T14:24:42.796048Z"
    }
   }
  },
  {
   "cell_type": "code",
   "execution_count": 52,
   "outputs": [],
   "source": [
    "def cumulative_returns(closing_price):\n",
    "    \"\"\"\n",
    "    Return the cumulative return of a stock/index.\n",
    "    \"\"\"\n",
    "\n",
    "    daily_returns = closing_price.pct_change()\n",
    "    cum_returns = (1 + daily_returns).cumprod()\n",
    "    recent_cum_return = cum_returns[-1]\n",
    "\n",
    "    return recent_cum_return\n",
    "\n",
    "def volatility(closing_price):\n",
    "    \"\"\"\n",
    "    Return the volatilty of a stock/index.\n",
    "    \"\"\"\n",
    "\n",
    "    daily_returns = closing_price.pct_change()\n",
    "    volty = daily_returns.std()\n",
    "    annualised_volatility = volty * np.sqrt(252)\n",
    "\n",
    "    return annualised_volatility\n",
    "\n",
    "def sharpe_ratio(closing_price,risk_free_rate = 0):\n",
    "    \"\"\"\n",
    "    Return the Sharpe Ratio of a stock/index\n",
    "    \"\"\"\n",
    "\n",
    "    daily_returns = closing_price.pct_change()\n",
    "    excess_returns = daily_returns - risk_free_rate/252\n",
    "    annualised_volatility = daily_returns.std() * np.sqrt(252)\n",
    "\n",
    "    sortino = excess_returns.mean() / annualised_volatility\n",
    "\n",
    "    return sortino\n",
    "\n",
    "def sortino_ratio(closing_price,risk_free_rate = 0):\n",
    "    \"\"\"\n",
    "    Return the Sortino Ratio of a stock/index\n",
    "    \"\"\"\n",
    "\n",
    "    daily_returns = closing_price.pct_change()\n",
    "    excess_returns = daily_returns - risk_free_rate/252\n",
    "    downside_deviation = excess_returns[excess_returns < 0].std()\n",
    "\n",
    "    sortino = excess_returns.mean() / downside_deviation\n",
    "\n",
    "    return sortino\n",
    "\n",
    "def max_drawdown(closing_price):\n",
    "    \"\"\"\n",
    "    Return the Maximum DrawDown of a stock/index\n",
    "    \"\"\"\n",
    "\n",
    "    daily_returns = closing_price.pct_change()\n",
    "    cum_returns = (1 + daily_returns).cumprod()\n",
    "    max_possible_cum_return = cum_returns.cummax()\n",
    "    daily_drawdown = (cum_returns - max_possible_cum_return) / max_possible_cum_return\n",
    "\n",
    "    mdd = daily_drawdown.min()\n",
    "\n",
    "    return mdd"
   ],
   "metadata": {
    "collapsed": false,
    "ExecuteTime": {
     "end_time": "2023-05-17T14:24:42.809589Z",
     "start_time": "2023-05-17T14:24:42.799198Z"
    }
   }
  },
  {
   "cell_type": "code",
   "execution_count": 53,
   "outputs": [
    {
     "name": "stdout",
     "output_type": "stream",
     "text": [
      "[*********************100%***********************]  1 of 1 completed\n",
      "[*********************100%***********************]  1 of 1 completed\n",
      "[*********************100%***********************]  1 of 1 completed\n",
      "[*********************100%***********************]  1 of 1 completed\n",
      "[*********************100%***********************]  1 of 1 completed\n"
     ]
    }
   ],
   "source": [
    "for equity in equities_list:\n",
    "    hist = yf.download(equity, start=\"2010-01-01\")['Adj Close']\n",
    "\n",
    "    df_equities.loc[equity,\"CumulativeReturns\"] = cumulative_returns(hist)\n",
    "    df_equities.loc[equity,\"Volatility (Annualised)\"] = volatility(hist)\n",
    "    df_equities.loc[equity,\"SharpeRatio\"] = sharpe_ratio(hist,0.02)\n",
    "    df_equities.loc[equity,\"SortinoRatio\"] = sortino_ratio(hist,0.02)\n",
    "    df_equities.loc[equity,\"MaxDrawDown\"] = max_drawdown(hist)\n",
    "\n",
    "for index in indices_list:\n",
    "    ticker = yf.Ticker(index)\n",
    "    hist = ticker.history(start=\"2010-01-01\")[\"Close\"]\n",
    "\n",
    "    df_indices.loc[index,\"CumulativeReturns\"] = cumulative_returns(hist)\n",
    "    df_indices.loc[index,\"Volatility (Annualised)\"] = volatility(hist)\n",
    "    df_indices.loc[index,\"SharpeRatio\"] = sharpe_ratio(hist,0.02)\n",
    "    df_indices.loc[index,\"SortinoRatio\"] = sortino_ratio(hist,0.02)\n",
    "    df_indices.loc[index,\"MaxDrawDown\"] = max_drawdown(hist)"
   ],
   "metadata": {
    "collapsed": false,
    "ExecuteTime": {
     "end_time": "2023-05-17T14:24:51.487653Z",
     "start_time": "2023-05-17T14:24:42.811757Z"
    }
   }
  },
  {
   "cell_type": "code",
   "execution_count": 54,
   "outputs": [
    {
     "name": "stdout",
     "output_type": "stream",
     "text": [
      "        CumulativeReturns  Volatility (Annualised)  SharpeRatio  SortinoRatio   \n",
      "Equity                                                                          \n",
      "amzn            16.938013                 0.331621     0.002954      0.066950  \\\n",
      "tsla           104.554189                 0.573069     0.003497      0.081255   \n",
      "wmt              3.728283                 0.194014     0.001992      0.041822   \n",
      "meta             6.246927                 0.407035     0.002242      0.047355   \n",
      "nvda            68.872805                 0.447126     0.003519      0.082387   \n",
      "\n",
      "        MaxDrawDown  \n",
      "Equity               \n",
      "amzn      -0.561453  \n",
      "tsla      -0.736322  \n",
      "wmt       -0.364351  \n",
      "meta      -0.767361  \n",
      "nvda      -0.663351  \n",
      "\n",
      "-------------------------------------------------------------\n",
      "\n",
      "       CumulativeReturns  Volatility (Annualised)  SharpeRatio  SortinoRatio   \n",
      "Index                                                                          \n",
      "DJI             3.202126                 0.176020     0.002188      0.042260  \\\n",
      "^GSPC           3.627481                 0.177462     0.002066      0.040291   \n",
      "^IXIC           5.358009                 0.205816     0.002449      0.049146   \n",
      "^RUT            2.719912                 0.229858     0.001407      0.029167   \n",
      "^NYA            2.071506                 0.175357     0.001131      0.022016   \n",
      "\n",
      "       MaxDrawDown  \n",
      "Index               \n",
      "DJI      -0.370862  \n",
      "^GSPC    -0.339250  \n",
      "^IXIC    -0.363953  \n",
      "^RUT     -0.430613  \n",
      "^NYA     -0.381142  \n"
     ]
    }
   ],
   "source": [
    "print(df_equities)\n",
    "print(\"\\n-------------------------------------------------------------\\n\")\n",
    "print(df_indices)"
   ],
   "metadata": {
    "collapsed": false,
    "ExecuteTime": {
     "end_time": "2023-05-17T14:24:51.494837Z",
     "start_time": "2023-05-17T14:24:51.490267Z"
    }
   }
  }
 ],
 "metadata": {
  "kernelspec": {
   "display_name": "Python 3",
   "language": "python",
   "name": "python3"
  },
  "language_info": {
   "codemirror_mode": {
    "name": "ipython",
    "version": 2
   },
   "file_extension": ".py",
   "mimetype": "text/x-python",
   "name": "python",
   "nbconvert_exporter": "python",
   "pygments_lexer": "ipython2",
   "version": "2.7.6"
  }
 },
 "nbformat": 4,
 "nbformat_minor": 0
}
