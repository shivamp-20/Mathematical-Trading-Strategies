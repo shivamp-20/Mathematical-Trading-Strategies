{
 "cells": [
  {
   "attachments": {},
   "cell_type": "markdown",
   "metadata": {},
   "source": [
    "# ASSIGNMENT 1"
   ]
  },
  {
   "cell_type": "code",
   "execution_count": 14,
   "metadata": {},
   "outputs": [],
   "source": [
    "import yfinance as yf\n",
    "import numpy as np"
   ]
  },
  {
   "attachments": {},
   "cell_type": "markdown",
   "metadata": {},
   "source": [
    "# List of international indices and equities tickers"
   ]
  },
  {
   "cell_type": "code",
   "execution_count": 15,
   "metadata": {},
   "outputs": [],
   "source": [
    "indices = ['^GSPC', '^IXIC', '^DJI', '^FTSE', '^N225']  \n",
    "equities = [ 'goog', 'msft', 'amzn','baba','tsla']  "
   ]
  },
  {
   "attachments": {},
   "cell_type": "markdown",
   "metadata": {},
   "source": [
    "# Fetch the  data for indices and equities"
   ]
  },
  {
   "cell_type": "code",
   "execution_count": 16,
   "metadata": {},
   "outputs": [
    {
     "name": "stdout",
     "output_type": "stream",
     "text": [
      "[*********************100%***********************]  5 of 5 completed\n",
      "[*********************100%***********************]  5 of 5 completed\n"
     ]
    }
   ],
   "source": [
    "data_indices = yf.download(indices, start=\"2010-01-01\", end=\"2023-05-17\")\n",
    "data_equities = yf.download(equities, start=\"2010-01-01\", end=\"2023-05-17\")"
   ]
  },
  {
   "attachments": {},
   "cell_type": "markdown",
   "metadata": {},
   "source": [
    "# Extract the adjusted close prices for each data"
   ]
  },
  {
   "cell_type": "code",
   "execution_count": 17,
   "metadata": {},
   "outputs": [],
   "source": [
    "adj_close_indices = data_indices['Adj Close']\n",
    "adj_close_equities = data_equities['Adj Close']"
   ]
  },
  {
   "attachments": {},
   "cell_type": "markdown",
   "metadata": {},
   "source": [
    "# Daily returns"
   ]
  },
  {
   "cell_type": "code",
   "execution_count": 18,
   "metadata": {},
   "outputs": [
    {
     "name": "stdout",
     "output_type": "stream",
     "text": [
      "                ^DJI     ^FTSE     ^GSPC     ^IXIC     ^N225\n",
      "Date                                                        \n",
      "2010-01-04       NaN       NaN       NaN       NaN       NaN\n",
      "2010-01-05 -0.001128  0.004036  0.003116  0.000126  0.002538\n",
      "2010-01-06  0.000157  0.001358  0.000546 -0.003300  0.004645\n",
      "2010-01-07  0.003138 -0.000597  0.004001 -0.000452 -0.004640\n",
      "2010-01-08  0.001068  0.001357  0.002882  0.007443  0.010922\n",
      "...              ...       ...       ...       ...       ...\n",
      "2023-05-10 -0.000908 -0.002937  0.004484  0.010418 -0.004125\n",
      "2023-05-11 -0.006615 -0.001382 -0.001697  0.001793  0.000156\n",
      "2023-05-12 -0.000267  0.003105 -0.001583 -0.003550  0.008981\n",
      "2023-05-15  0.001441  0.002979  0.002958  0.006550  0.008100\n",
      "2023-05-16 -0.010089 -0.003420 -0.006378 -0.001792  0.007313\n",
      "\n",
      "[3476 rows x 5 columns]\n",
      "                AMZN      BABA      GOOG      MSFT      TSLA\n",
      "Date                                                        \n",
      "2010-01-04       NaN       NaN       NaN       NaN       NaN\n",
      "2010-01-05  0.005900       NaN -0.004404  0.000323       NaN\n",
      "2010-01-06 -0.018116       NaN -0.025209 -0.006137       NaN\n",
      "2010-01-07 -0.017013       NaN -0.023280 -0.010400       NaN\n",
      "2010-01-08  0.027077       NaN  0.013331  0.006896       NaN\n",
      "...              ...       ...       ...       ...       ...\n",
      "2023-05-10  0.033483  0.008879  0.040207  0.017296 -0.003606\n",
      "2023-05-11  0.018060  0.059554  0.041147 -0.007044  0.021004\n",
      "2023-05-12 -0.017115 -0.029014  0.008725 -0.003676 -0.023826\n",
      "2023-05-15  0.008525  0.035154 -0.008141  0.001586 -0.009703\n",
      "2023-05-16  0.019784  0.004754  0.026761  0.007368  0.001022\n",
      "\n",
      "[3365 rows x 5 columns]\n"
     ]
    }
   ],
   "source": [
    "\n",
    "daily_returns_indices = adj_close_indices.pct_change()   #for indices \n",
    "print(daily_returns_indices)\n",
    "\n",
    "daily_returns_equities = adj_close_equities.pct_change()   #for equities\n",
    "print(daily_returns_equities)"
   ]
  },
  {
   "attachments": {},
   "cell_type": "markdown",
   "metadata": {},
   "source": [
    "# Calculate volatility"
   ]
  },
  {
   "cell_type": "code",
   "execution_count": 19,
   "metadata": {},
   "outputs": [
    {
     "name": "stdout",
     "output_type": "stream",
     "text": [
      "^DJI     0.010640\n",
      "^FTSE    0.010076\n",
      "^GSPC    0.010998\n",
      "^IXIC    0.012759\n",
      "^N225    0.012709\n",
      "dtype: float64\n",
      "\n",
      " AMZN    0.020890\n",
      "BABA    0.026647\n",
      "GOOG    0.017232\n",
      "MSFT    0.016444\n",
      "TSLA    0.036100\n",
      "dtype: float64\n"
     ]
    }
   ],
   "source": [
    "\n",
    "volatility_indices = daily_returns_indices.std()   #for indices \n",
    "print(volatility_indices)\n",
    "\n",
    "\n",
    "volatility_equities = daily_returns_equities.std()    #for equities\n",
    "print(\"\\n\" ,volatility_equities)"
   ]
  },
  {
   "attachments": {},
   "cell_type": "markdown",
   "metadata": {},
   "source": [
    "# Compute the cumulative returns"
   ]
  },
  {
   "cell_type": "code",
   "execution_count": 20,
   "metadata": {},
   "outputs": [
    {
     "name": "stdout",
     "output_type": "stream",
     "text": [
      "Cumulative_returns\n",
      "\n",
      " #for indices\n",
      " ^DJI     1.995186\n",
      "^FTSE    1.205534\n",
      "^GSPC    2.159957\n",
      "^IXIC    2.870774\n",
      "^N225    1.733902\n",
      "dtype: float64\n",
      "\n",
      " #for equities\n",
      " AMZN     8.968962\n",
      "BABA     1.549594\n",
      "GOOG     3.229982\n",
      "MSFT     4.229175\n",
      "TSLA    39.008256\n",
      "dtype: float64\n"
     ]
    }
   ],
   "source": [
    "\n",
    "print(\"Cumulative_returns\")\n",
    "cumulative_returns_indices = (1 + daily_returns_indices).cumprod()  #for indices \n",
    "print(\"\\n #for indices\\n\",cumulative_returns_indices.mean())\n",
    "\n",
    "\n",
    "cumulative_returns_equities = (1 + daily_returns_equities).cumprod()   #for equities\n",
    "print(\"\\n #for equities\\n\",cumulative_returns_equities.mean())"
   ]
  },
  {
   "attachments": {},
   "cell_type": "markdown",
   "metadata": {},
   "source": [
    "# Compute the maximum drop downs"
   ]
  },
  {
   "cell_type": "code",
   "execution_count": 21,
   "metadata": {},
   "outputs": [
    {
     "name": "stdout",
     "output_type": "stream",
     "text": [
      "#### MAXIMUM DROPDOWN OF INDICES  ####  \n",
      "\n",
      "^DJI    -0.211998\n",
      "^FTSE   -0.235562\n",
      "^GSPC   -0.221715\n",
      "^IXIC   -0.217506\n",
      "^N225   -0.278363\n",
      "dtype: float64\n",
      "\n",
      "\n",
      "###  MAXIMUM DROPDOWN OF EQUITIES  ####\n",
      "AMZN   -0.318331\n",
      "BABA   -0.528983\n",
      "GOOG   -0.306248\n",
      "MSFT   -0.266537\n",
      "TSLA   -0.478970\n",
      "dtype: float64\n"
     ]
    }
   ],
   "source": [
    "\n",
    "roll_max_adj_close_indices = adj_close_indices.cummax()                   # for indices\n",
    "daily_drawdowns_adj_close_indices = adj_close_indices / roll_max_adj_close_indices - 1\n",
    "max_drawdowns_adj_close_indices = daily_drawdowns_adj_close_indices.cummin()\n",
    "print(\"#### MAXIMUM DROPDOWN OF INDICES  ####  \\n\")\n",
    "print(max_drawdowns_adj_close_indices.mean())\n",
    "\n",
    "roll_max_adj_close_equities = adj_close_equities.cummax()                   # for indices and equities\n",
    "daily_drawdowns_adj_close_equities = adj_close_equities / roll_max_adj_close_equities - 1\n",
    "max_drawdowns_adj_close_equities = daily_drawdowns_adj_close_equities.cummin()\n",
    "print(\"\\n\\n###  MAXIMUM DROPDOWN OF EQUITIES  ####\")\n",
    "print(max_drawdowns_adj_close_equities.mean())"
   ]
  },
  {
   "attachments": {},
   "cell_type": "markdown",
   "metadata": {},
   "source": [
    "# Compute the annualized Sharpe ratios"
   ]
  },
  {
   "cell_type": "code",
   "execution_count": 22,
   "metadata": {},
   "outputs": [
    {
     "name": "stdout",
     "output_type": "stream",
     "text": [
      "^DJI     0.573286\n",
      "^FTSE    0.235787\n",
      "^GSPC    0.622954\n",
      "^IXIC    0.702052\n",
      "^N225    0.471370\n",
      "dtype: float64\n",
      "\n",
      "\n",
      "^DJI     0.573286\n",
      "^FTSE    0.235787\n",
      "^GSPC    0.622954\n",
      "^IXIC    0.702052\n",
      "^N225    0.471370\n",
      "dtype: float64\n"
     ]
    }
   ],
   "source": [
    "\n",
    "risk_free_rate = 0.0  # Assuming no risk-free rate\n",
    "daily_rf = (1 + risk_free_rate)**(1/252) - 1  # Daily risk-free rate\n",
    "excess_returns = daily_returns_indices - daily_rf\n",
    "sharpe_ratios = np.sqrt(252) * (excess_returns.mean() / excess_returns.std())\n",
    "print(sharpe_ratios)\n",
    "\n",
    "\n",
    "print(\"\\n\")\n",
    "excess_returns_equities = daily_returns_equities - daily_rf\n",
    "sharpe_ratios_equities = np.sqrt(252) * (excess_returns_equities.mean() / excess_returns_equities.std())\n",
    "print(sharpe_ratios)\n"
   ]
  },
  {
   "attachments": {},
   "cell_type": "markdown",
   "metadata": {},
   "source": [
    "# Compute the annualized Sortino ratios"
   ]
  },
  {
   "cell_type": "code",
   "execution_count": 23,
   "metadata": {},
   "outputs": [
    {
     "name": "stdout",
     "output_type": "stream",
     "text": [
      "^DJI     0.825937\n",
      "^FTSE    0.321684\n",
      "^GSPC    0.927658\n",
      "^IXIC    1.212852\n",
      "^N225    0.811166\n",
      "dtype: float64\n",
      "\n",
      "\n",
      "^DJI     0.440168\n",
      "^FTSE    0.171436\n",
      "^GSPC    0.494379\n",
      "^IXIC    0.646368\n",
      "^N225    0.432297\n",
      "dtype: float64\n"
     ]
    }
   ],
   "source": [
    "\n",
    "downside_returns_indices = np.where(daily_returns_indices < daily_rf, daily_returns_indices, 0)\n",
    "sortino_ratios_indices = np.sqrt(252) * (excess_returns.mean() / np.std(downside_returns_indices))\n",
    "print(sortino_ratios_indices)\n",
    "\n",
    "print(\"\\n\")\n",
    "downside_returns_equities = np.where(daily_returns_equities < daily_rf, daily_returns_equities, 0)\n",
    "sortino_ratios_equities = np.sqrt(252) * (excess_returns.mean() / np.std(downside_returns_equities))\n",
    "print(sortino_ratios_equities)"
   ]
  }
 ],
 "metadata": {
  "kernelspec": {
   "display_name": "Python 3",
   "language": "python",
   "name": "python3"
  },
  "language_info": {
   "codemirror_mode": {
    "name": "ipython",
    "version": 3
   },
   "file_extension": ".py",
   "mimetype": "text/x-python",
   "name": "python",
   "nbconvert_exporter": "python",
   "pygments_lexer": "ipython3",
   "version": "3.11.0"
  },
  "orig_nbformat": 4
 },
 "nbformat": 4,
 "nbformat_minor": 2
}
