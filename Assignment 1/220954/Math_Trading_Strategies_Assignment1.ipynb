{
 "cells": [
  {
   "cell_type": "code",
   "execution_count": 56,
   "id": "31647c54",
   "metadata": {},
   "outputs": [],
   "source": [
    "import numpy as np\n",
    "import pandas as pd\n",
    "import yfinance as yf\n",
    "import matplotlib.pyplot as plt\n",
    "risk_free_rate=0.0"
   ]
  },
  {
   "cell_type": "code",
   "execution_count": 62,
   "id": "eb26d12f",
   "metadata": {},
   "outputs": [
    {
     "name": "stdout",
     "output_type": "stream",
     "text": [
      "[*********************100%***********************]  10 of 10 completed\n"
     ]
    }
   ],
   "source": [
    "equities = ['AAPL', 'AMZN','GOOGL','MSFT','META']\n",
    "indices=['^GSPC','^FTSE','^GDAXI','^BSESN','^IXIC']\n",
    "data = yf.download(equities+indices,'2010-01-01','2023-05-01')\n"
   ]
  },
  {
   "cell_type": "code",
   "execution_count": 99,
   "id": "f0cac03d",
   "metadata": {},
   "outputs": [],
   "source": [
    "returns = data['Adj Close'].pct_change()\n",
    "columns = pd.DataFrame(index=equities + indices, columns=['Volatility', 'Cumulative Returns', 'Max Drawdown', 'Sharpe Ratio', 'Sortino Ratio'])\n",
    "\n",
    "\n"
   ]
  },
  {
   "cell_type": "code",
   "execution_count": 100,
   "id": "d8c8ec8b",
   "metadata": {},
   "outputs": [
    {
     "name": "stdout",
     "output_type": "stream",
     "text": [
      "AAPL      25.083428\n",
      "AMZN      14.750559\n",
      "GOOGL      5.843728\n",
      "MSFT      12.006321\n",
      "META       5.286163\n",
      "^GSPC      2.680068\n",
      "^FTSE       0.43094\n",
      "^GDAXI     1.632538\n",
      "^BSESN     2.480459\n",
      "^IXIC      4.296515\n",
      "Name: Cumulative Returns, dtype: object\n"
     ]
    }
   ],
   "source": [
    "#Calculating Cumulative Returns\n",
    "for equity in equities:\n",
    "     columns.at[equity, 'Cumulative Returns'] = (1 + returns[equity]).cumprod()[-1] - 1\n",
    "for index in indices:\n",
    "        columns.at[index, 'Cumulative Returns'] = (1 + returns[index]).cumprod()[-1] - 1\n",
    "print(columns['Cumulative Returns'])"
   ]
  },
  {
   "cell_type": "code",
   "execution_count": 101,
   "id": "db05bb68",
   "metadata": {},
   "outputs": [
    {
     "name": "stdout",
     "output_type": "stream",
     "text": [
      "AAPL     -0.437972\n",
      "AMZN     -0.561453\n",
      "GOOGL    -0.443201\n",
      "MSFT     -0.371485\n",
      "META     -0.767361\n",
      "^GSPC     -0.33925\n",
      "^FTSE    -0.366055\n",
      "^GDAXI   -0.387794\n",
      "^BSESN   -0.380701\n",
      "^IXIC    -0.363953\n",
      "Name: Max Drawdown, dtype: object\n"
     ]
    }
   ],
   "source": [
    "for equity in equities:\n",
    "    equity_prices = data['Adj Close'][equity]\n",
    "    equity_returns = returns[equity]\n",
    "    cumulative_returns = (1 + equity_returns).cumprod()\n",
    "    peak = cumulative_returns.cummax()\n",
    "    drawdown = (cumulative_returns / peak) - 1\n",
    "    columns.at[equity, 'Max Drawdown'] = drawdown.min()\n",
    "for index in indices:\n",
    "    index_prices = data['Adj Close'][index]\n",
    "    index_returns = returns[index]\n",
    "    cumulative_returns = (1 + index_returns).cumprod()\n",
    "    peak = cumulative_returns.cummax()\n",
    "    drawdown = (cumulative_returns / peak) - 1\n",
    "    columns.at[index, 'Max Drawdown'] = drawdown.min()\n",
    "print(columns['Max Drawdown'])\n",
    "\n",
    "    "
   ]
  },
  {
   "cell_type": "code",
   "execution_count": 102,
   "id": "ce8b3492",
   "metadata": {},
   "outputs": [
    {
     "name": "stdout",
     "output_type": "stream",
     "text": [
      "AAPL      0.818653\n",
      "AMZN      0.633887\n",
      "GOOGL     0.478053\n",
      "MSFT      0.671339\n",
      "META      0.489925\n",
      "^GSPC     0.353264\n",
      "^FTSE    -0.060262\n",
      "^GDAXI    0.210133\n",
      "^BSESN    0.337108\n",
      "^IXIC     0.461746\n",
      "Name: Sharpe Ratio, dtype: object\n"
     ]
    }
   ],
   "source": [
    " # Sharpe Ratio\n",
    "for equity in equities:\n",
    "    equity_prices = data['Adj Close'][equity]\n",
    "    equity_returns = returns[equity]\n",
    "    risk_free_rate = 0.05\n",
    "    daily_risk_free_rate = (1 + risk_free_rate) ** (1/252) - 1\n",
    "    excess_returns = equity_returns - daily_risk_free_rate\n",
    "    sharpe_ratio = np.sqrt(255) * excess_returns.mean() / excess_returns.std()\n",
    "    columns.at[equity, 'Sharpe Ratio'] = sharpe_ratio\n",
    "for index in indices:\n",
    "    index_prices = data['Adj Close'][index]\n",
    "    index_returns = returns[index]\n",
    "    risk_free_rate = 0.05\n",
    "    daily_risk_free_rate = (1 + risk_free_rate) ** (1/252) - 1\n",
    "    excess_returns = index_returns - daily_risk_free_rate\n",
    "    sharpe_ratio = np.sqrt(252) * excess_returns.mean() / excess_returns.std()\n",
    "    columns.at[index, 'Sharpe Ratio'] = sharpe_ratio\n",
    "print(columns['Sharpe Ratio'])\n"
   ]
  },
  {
   "cell_type": "code",
   "execution_count": 103,
   "id": "3a503d05",
   "metadata": {},
   "outputs": [
    {
     "name": "stdout",
     "output_type": "stream",
     "text": [
      "AAPL      2.886198\n",
      "AMZN      2.543795\n",
      "GOOGL     3.024492\n",
      "MSFT       3.16098\n",
      "META       1.92547\n",
      "^GSPC     4.073723\n",
      "^FTSE      4.69725\n",
      "^GDAXI    3.824418\n",
      "^BSESN    4.530857\n",
      "^IXIC     3.622617\n",
      "Name: Sortino Ratio, dtype: object\n"
     ]
    }
   ],
   "source": [
    "#Sortino Ratio\n",
    "for equity in equities:\n",
    "    equity_prices = data['Adj Close'][equity]\n",
    "    equity_returns = returns[equity]\n",
    "    downside_returns = equity_returns[equity_returns < 0]\n",
    "    downside_deviation = np.sqrt(252) * downside_returns.std()\n",
    "    sortino_ratio = np.sqrt(252) * excess_returns.mean() / downside_deviation\n",
    "    columns.at[equity, 'Sortino Ratio'] = sortino_ratio\n",
    "for index in indices:\n",
    "    index_prices = data['Adj Close'][index]\n",
    "    index_returns = returns[index]\n",
    "    downside_returns = index_returns[index_returns < 0]\n",
    "    downside_deviation = np.sqrt(252) * downside_returns.std()\n",
    "    sortino_ratio = np.sqrt(252) * excess_returns.mean() / downside_deviation\n",
    "    columns.at[index, 'Sortino Ratio'] = sortino_ratio\n",
    "print(columns['Sortino Ratio']*100)\n"
   ]
  },
  {
   "cell_type": "code",
   "execution_count": 104,
   "id": "043f7ed4",
   "metadata": {},
   "outputs": [
    {
     "name": "stdout",
     "output_type": "stream",
     "text": [
      "AAPL           NaN\n",
      "AMZN           NaN\n",
      "GOOGL          NaN\n",
      "MSFT           NaN\n",
      "META           NaN\n",
      "^GSPC     0.175146\n",
      "^FTSE     0.160499\n",
      "^GDAXI    0.200588\n",
      "^BSESN    0.167686\n",
      "^IXIC     0.203201\n",
      "Name: Volatility, dtype: object\n"
     ]
    }
   ],
   "source": [
    "#Volatility\n",
    "for equity in equities:\n",
    "    equity_returns = returns[equity]\n",
    "    volatility = equity_returns.std() * np.sqrt(252)\n",
    "    columns.at[index, 'Volatility'] = volatility\n",
    "    \n",
    "for index in indices:\n",
    "    index_returns = returns[index]\n",
    "    volatility = index_returns.std() * np.sqrt(252)\n",
    "    columns.at[index, 'Volatility'] = volatility\n",
    "print(columns['Volatility'])\n",
    "    "
   ]
  },
  {
   "cell_type": "code",
   "execution_count": null,
   "id": "04671683",
   "metadata": {},
   "outputs": [],
   "source": []
  }
 ],
 "metadata": {
  "kernelspec": {
   "display_name": "Python 3 (ipykernel)",
   "language": "python",
   "name": "python3"
  },
  "language_info": {
   "codemirror_mode": {
    "name": "ipython",
    "version": 3
   },
   "file_extension": ".py",
   "mimetype": "text/x-python",
   "name": "python",
   "nbconvert_exporter": "python",
   "pygments_lexer": "ipython3",
   "version": "3.10.10"
  }
 },
 "nbformat": 4,
 "nbformat_minor": 5
}
