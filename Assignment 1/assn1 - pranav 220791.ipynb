{
 "cells": [
  {
   "cell_type": "code",
   "execution_count": null,
   "metadata": {},
   "outputs": [],
   "source": [
    "import yfinance as yf, pandas as pd"
   ]
  },
  {
   "cell_type": "code",
   "execution_count": null,
   "metadata": {},
   "outputs": [],
   "source": [
    "rf_rate = 5.25\n",
    "ticker_equity = ['msft', 'aapl', 'goog', 'amzn', 'tsla']\n",
    "equity_data = []\n",
    "\n",
    "for equity in ticker_equity:\n",
    "    equity_data.append(yf.Ticker(equity).history(start='2010-01-01'))\n",
    "\n",
    "equity_dict = dict(zip(ticker_equity, equity_data))\n",
    "\n",
    "for i in equity_dict.keys():\n",
    "    j = equity_dict[i]\n",
    "    #cumulative sum\n",
    "    j['DailyReturnRate']= j.apply(lambda row: (float(row.Close - row.Open) / row.Open), axis = 1)\n",
    "    j['CompoundColumn'] = j.apply(lambda row: 1 + row['DailyReturnRate'], axis = 1)\n",
    "    \n",
    "    print('\\nMax Drawdown of', i, ': ', j['High'].max() - j['Low'].min())\n",
    "\n",
    "    cumulative_ret = ((j['Close'].iloc[-1] - j['Open'].iloc[0]) / j['Open'].iloc[0])\n",
    "    print('Cumulative return:', cumulative_ret * 100, '%')\n",
    "\n",
    "    annualised_ror = ((1 + cumulative_ret) ** (365 / len(j))) - 1 # * 100 for percentage\n",
    "    annualised_vol = (j['High'].std() / j['High'].mean()) * (252 ** 0.5)\n",
    "    print('volatility: ', annualised_vol, '%')\n",
    "\n",
    "    sharpe = (annualised_ror * 100 - rf_rate) / annualised_vol\n",
    "    print(sharpe)\n",
    "\n",
    "    downside_vol = (j[j['DailyReturnRate'] < 0]['High'].std() * ((len(j[j['DailyReturnRate'] < 0]) / len(j)) ** 0.5) / j['High'].mean()) * (252 ** 0.5)\n",
    "    sortino = (annualised_ror * 100 - rf_rate) / downside_vol\n",
    "    print(sortino)\n"
   ]
  },
  {
   "attachments": {},
   "cell_type": "markdown",
   "metadata": {},
   "source": [
    "\n",
    "|                    |MSFT   |AAPL   |GOOG   |AMZN   |TSLA   |\n",
    "|--------------------|-------|-------|-------|-------|-------|\n",
    "|Cumulative Returns  | 1235.34%      | 2539.92%      |  667.83%     |1591.59%       | 13573.68%      |\n",
    "|Volatility          |14.69%    | 15.24%      | 11.56%      | 14.22%      | 24.59%      |\n",
    "|Sharpe Ratio        | 1.84      |2.44       |1.68       |2.15       | 2.79       |\n",
    "|Sortino Ratio       | 2.66|3.56|2.41|3.00|3.94|\n",
    "|Max Drawdown      |   328.04    | 175.58      | 141.29      | 183.36      |  413.49     |\n",
    "\n",
    "\n",
    "\n",
    "|                    |Nasdaq   |Sensex   |Nifty   |Dow   |FT   |\n",
    "|--------------------|-------|-------|-------|-------|-------|\n",
    "|Cumulative Returns  |440.71%  |252.30%       |  249.58%     | 218.17%      |42.56%       |\n",
    "|Volatility          |9.02%       |   6.71%    |   6.59%    |   5.80%    |  1.71%     |\n",
    "|Sharpe Ratio        |  1.64     | 1.45      |  1.46     |1.39       | -0.78      |\n",
    "|Sortino Ratio       |  2.42     | 2.00      |   2.04    |  2.05     | -1.13      |\n",
    "|Max Drawdown        |  14151.09     |48447.20       |14356.44       | 27338.32     |3257.10       |"
   ]
  },
  {
   "cell_type": "code",
   "execution_count": 25,
   "metadata": {},
   "outputs": [
    {
     "name": "stdout",
     "output_type": "stream",
     "text": [
      "\n",
      "Max Drawdown of ^ixic :  14151.090576171875\n",
      "Cumulative return: 440.7187965230116 %\n",
      "volatility:  9.029936589077735 %\n",
      "1.6426449926083695\n",
      "2.423096723068481\n",
      "\n",
      "Max Drawdown of ^bsesn :  48447.2099609375\n",
      "Cumulative return: 252.3096090206503 %\n",
      "volatility:  6.715539831728218 %\n",
      "1.4532197098436925\n",
      "2.0039540860549945\n",
      "\n",
      "Max Drawdown of ^nsei :  14356.44970703125\n",
      "Cumulative return: 249.58853931809992 %\n",
      "volatility:  6.596254080649872 %\n",
      "1.4696622092857194\n",
      "2.0485944872278306\n",
      "\n",
      "Max Drawdown of ^dji :  27338.328125\n",
      "Cumulative return: 218.17872944240287 %\n",
      "volatility:  5.802965425654831 %\n",
      "1.39974171788416\n",
      "2.0507614484966696\n",
      "\n",
      "Max Drawdown of ^ftse :  3257.10009765625\n",
      "Cumulative return: 42.56701407472149 %\n",
      "volatility:  1.711885331469291 %\n",
      "-0.7821383112784467\n",
      "-1.1362902287488132\n"
     ]
    }
   ],
   "source": [
    "ticker_index = ['^ixic', '^bsesn', '^nsei', '^dji', '^ftse']\n",
    "index_data = []\n",
    "\n",
    "for index in ticker_index:\n",
    "    index_data.append(yf.Ticker(index).history(start='2010-01-01'))\n",
    "index_dict = dict(zip(ticker_index, index_data))\n",
    "for i in index_dict.keys():\n",
    "    j = index_dict[i]\n",
    "    #cumulative sum\n",
    "    j['DailyReturnRate']= j.apply(lambda row: (float(row.Close - row.Open) / row.Open), axis = 1)\n",
    "    j['CompoundColumn'] = j.apply(lambda row: 1 + row['DailyReturnRate'], axis = 1)\n",
    "    \n",
    "    print('\\nMax Drawdown of', i, ': ', j['High'].max() - j['Low'].min()) # edge case is if current stock price is the maximum\n",
    "\n",
    "    cumulative_ret = ((j['Close'].iloc[-1] - j['Open'].iloc[0]) / j['Open'].iloc[0])\n",
    "    print('Cumulative return:', cumulative_ret * 100, '%')\n",
    "\n",
    "    annualised_ror = ((1 + cumulative_ret) ** (365 / len(j))) - 1 # * 100 for percentage\n",
    "    annualised_vol = (j['High'].std() / j['High'].mean()) * (252 ** 0.5)\n",
    "    print('volatility: ', annualised_vol, '%')\n",
    "\n",
    "    sharpe = (annualised_ror * 100 - rf_rate) / annualised_vol\n",
    "    print(sharpe)\n",
    "\n",
    "    downside_vol = (j[j['DailyReturnRate'] < 0]['High'].std() * ((len(j[j['DailyReturnRate'] < 0]) / len(j)) ** 0.5) / j['High'].mean()) * (252 ** 0.5)\n",
    "    sortino = (annualised_ror * 100 - rf_rate) / downside_vol\n",
    "    print(sortino)\n",
    "\n"
   ]
  }
 ],
 "metadata": {
  "kernelspec": {
   "display_name": "financials",
   "language": "python",
   "name": "python3"
  },
  "language_info": {
   "codemirror_mode": {
    "name": "ipython",
    "version": 3
   },
   "file_extension": ".py",
   "mimetype": "text/x-python",
   "name": "python",
   "nbconvert_exporter": "python",
   "pygments_lexer": "ipython3",
   "version": "3.10.0"
  },
  "orig_nbformat": 4
 },
 "nbformat": 4,
 "nbformat_minor": 2
}
