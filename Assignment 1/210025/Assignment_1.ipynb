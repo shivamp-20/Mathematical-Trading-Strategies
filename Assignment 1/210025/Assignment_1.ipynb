{
  "nbformat": 4,
  "nbformat_minor": 0,
  "metadata": {
    "colab": {
      "provenance": []
    },
    "kernelspec": {
      "name": "python3",
      "display_name": "Python 3"
    },
    "language_info": {
      "name": "python"
    }
  },
  "cells": [
    {
      "cell_type": "code",
      "execution_count": null,
      "metadata": {
        "id": "1HlxyOqf6LEG"
      },
      "outputs": [],
      "source": [
        "import numpy as np\n",
        "import pandas as pd\n",
        "import yfinance as yf"
      ]
    },
    {
      "cell_type": "code",
      "source": [
        "sd = '2010-01-01'"
      ],
      "metadata": {
        "id": "buXoL4UDG6nx"
      },
      "execution_count": null,
      "outputs": []
    },
    {
      "cell_type": "code",
      "source": [
        "indices = ['^FTSE','^GSPC', '^NSEI', '^BSESN', '^RUT']"
      ],
      "metadata": {
        "id": "M4tcsntN6Ro2"
      },
      "execution_count": null,
      "outputs": []
    },
    {
      "cell_type": "code",
      "source": [
        "equities = ['TSLA','AAPL','AMZN','MSFT','GOOGL']"
      ],
      "metadata": {
        "id": "OYIpxDaLnF4G"
      },
      "execution_count": null,
      "outputs": []
    },
    {
      "cell_type": "markdown",
      "source": [
        "1.  Daily returns(Fractional) = (cp(today)-cp(yesterday))/cp(yesterday)\n",
        "2.  Cumulative return = (Current price - Original Price)/Original Price\n",
        "3. Annualized Volatility = sqrt(252) * std(percentage daily returns)\n",
        "4. Sharpe ratio = (Cumulative return/Average return(annualized) - rfr) / volatility\n",
        "5. Sortino ratio = (Cumulative return/Average return(annualized) - rfr) / downside volatility\n",
        "\n"
      ],
      "metadata": {
        "id": "WoZ1eW9eXRwT"
      }
    },
    {
      "cell_type": "code",
      "source": [
        "for i in indices:\n",
        "  print(i)\n",
        "  data = yf.download(i,start=sd)\n",
        "  data['daily'] = data['Adj Close'].pct_change()\n",
        "  dr = data['daily'].mean() ##avg. daily returns\n",
        "  ar = 252*dr ##average returns assuming 252 trading days\n",
        "  print(f\"Avg. Daily_return:{dr}\")\n",
        "  cr = data['Adj Close'][-1]/data['Adj Close'][0] - 1\n",
        "  print(f\"Cumulative Return:{cr}\")\n",
        "  # CAGR = (np.prod(1+data.daily))**(1/13) - 1\n",
        "  # CAGR = CAGR*100\n",
        "  # print(f\"Compound Annual Growth Rate:{CR}\")\n",
        "  st = data['daily'].std()*(252**0.5) ##Annualised std\n",
        "  ##Annualized Volatility ...(std dev. of daily returns)*sqrt(252) ##No. of avg. trading days in a year=252\n",
        "  print(f\"Volatility:{st}\")\n",
        "  rfr = 0.02 ## Assuming rfr = 2 perent ##\n",
        "  sr = (ar-rfr)/st\n",
        "  print(f\"Sharpe Ratio:{sr}\")\n",
        "  data['dd'] = data[data['daily']<0]['daily']\n",
        "  nstd = data['dd'].std()*(252 ** 0.5)\n",
        "  sortr = (ar-rfr)/nstd\n",
        "  print(f\"Sortino Ratio:{sortr}\")\n",
        "  md = data['Adj Close'].rolling(window=len(data['Adj Close']),min_periods=1).max() \n",
        "  dd = data['Adj Close']/md-1\n",
        "  MDD = dd.min()\n",
        "  print(f\"Maximum Drawdown:{MDD}\")\n"
      ],
      "metadata": {
        "colab": {
          "base_uri": "https://localhost:8080/"
        },
        "id": "mBoXIwxwHJyk",
        "outputId": "bdac6fad-f940-4272-d194-0be8b6ea8412"
      },
      "execution_count": null,
      "outputs": [
        {
          "output_type": "stream",
          "name": "stdout",
          "text": [
            "^FTSE\n",
            "\r[*********************100%***********************]  1 of 1 completed\n",
            "Avg. Daily_return:0.00015517019405516698\n",
            "Cumulative Return:0.41370658595136955\n",
            "Volatility:0.16236890393065034\n",
            "Sharpe Ratio:0.11765115388141772\n",
            "Sortino Ratio:0.1519680565963357\n",
            "Maximum Drawdown:-0.3660552329617581\n",
            "^GSPC\n",
            "[*********************100%***********************]  1 of 1 completed\n",
            "Avg. Daily_return:0.00044797634723232335\n",
            "Cumulative Return:2.6507646323517844\n",
            "Volatility:0.1774783564333153\n",
            "Sharpe Ratio:0.5233879858327821\n",
            "Sortino Ratio:0.6413168844444336\n",
            "Maximum Drawdown:-0.3392496000265327\n",
            "^NSEI\n",
            "[*********************100%***********************]  1 of 1 completed\n",
            "Avg. Daily_return:0.00044105017287429963\n",
            "Cumulative Return:2.494992415692117\n",
            "Volatility:0.17235659171313558\n",
            "Sharpe Ratio:0.5288143763948496\n",
            "Sortino Ratio:0.695449811475032\n",
            "Maximum Drawdown:-0.38439852452742107\n",
            "^BSESN\n",
            "[*********************100%***********************]  1 of 1 completed\n",
            "Avg. Daily_return:0.0004426866385598098\n",
            "Cumulative Return:2.5271609676009197\n",
            "Volatility:0.17186371156914218\n",
            "Sharpe Ratio:0.532730452991747\n",
            "Sortino Ratio:0.7024914529441367\n",
            "Maximum Drawdown:-0.3807005445967564\n",
            "^RUT\n",
            "[*********************100%***********************]  1 of 1 completed\n",
            "Avg. Daily_return:0.0004065286085316133\n",
            "Cumulative Return:1.7519920575151242\n",
            "Volatility:0.2298894715592719\n",
            "Sharpe Ratio:0.35862977452062167\n",
            "Sortino Ratio:0.4679648383478963\n",
            "Maximum Drawdown:-0.43061325684645624\n"
          ]
        }
      ]
    },
    {
      "cell_type": "code",
      "source": [
        "for i in equities:\n",
        "  print(i)\n",
        "  data = yf.download(i,start=sd)\n",
        "  data['daily'] = data['Adj Close'].pct_change()\n",
        "  dr = data['daily'].mean() ##avg. daily returns\n",
        "  ar = 252*dr ##average returns assuming 252 trading days\n",
        "  print(f\"Avg. Daily_return:{dr}\")\n",
        "  cr = data['Adj Close'][-1]/data['Adj Close'][0] - 1\n",
        "  print(f\"Cumulative Return:{cr}\")\n",
        "  # CAGR = (np.prod(1+data.daily))**(1/13) - 1\n",
        "  # CAGR = CAGR*100\n",
        "  # print(f\"Compound Annual Growth Rate:{CR}\")\n",
        "  st = data['daily'].std()*(252**0.5) ##Annualised std\n",
        "  ##Annualized Volatility ...(std dev. of daily returns)*sqrt(252) ##No. of avg. trading days in a year=252\n",
        "  print(f\"Volatility:{st}\")\n",
        "  rfr = 0.02 ## Assuming rfr = 2 perent ##\n",
        "  sr = (ar-rfr)/st\n",
        "  print(f\"Sharpe Ratio:{sr}\")\n",
        "  data['dd'] = data[data['daily']<0]['daily']\n",
        "  nstd = data['dd'].std()*(252 ** 0.5)\n",
        "  sortr = (ar-rfr)/nstd\n",
        "  print(f\"Sortino Ratio:{sortr}\")\n",
        "  md = data['Adj Close'].rolling(window=len(data['Adj Close']),min_periods=1).max() \n",
        "  dd = data['Adj Close']/md-1\n",
        "  MDD = dd.min()\n",
        "  print(f\"Maximum Drawdown:{MDD}\")"
      ],
      "metadata": {
        "colab": {
          "base_uri": "https://localhost:8080/"
        },
        "id": "jAs4oV63n5X5",
        "outputId": "1235670f-2751-4de7-f595-9271779b5f2b"
      },
      "execution_count": null,
      "outputs": [
        {
          "output_type": "stream",
          "name": "stdout",
          "text": [
            "TSLA\n",
            "\r[*********************100%***********************]  1 of 1 completed\n",
            "Avg. Daily_return:0.0020836250063182016\n",
            "Cumulative Return:103.44745060705785\n",
            "Volatility:0.5731576319340581\n",
            "Sharpe Ratio:0.8812122066452664\n",
            "Sortino Ratio:1.2897659662857226\n",
            "Maximum Drawdown:-0.736322174421912\n",
            "AAPL\n",
            "[*********************100%***********************]  1 of 1 completed\n",
            "Avg. Daily_return:0.0011370279900624282\n",
            "Cumulative Return:25.487412574323525\n",
            "Volatility:0.28587482043770174\n",
            "Sharpe Ratio:0.9323348348331179\n",
            "Sortino Ratio:1.303556020624773\n",
            "Maximum Drawdown:-0.4379715723888735\n",
            "AMZN\n",
            "[*********************100%***********************]  1 of 1 completed\n",
            "Avg. Daily_return:0.0010534014515559723\n",
            "Cumulative Return:15.60940912577269\n",
            "Volatility:0.3316304313225131\n",
            "Sharpe Ratio:0.7401527200421367\n",
            "Sortino Ratio:1.0565567692997442\n",
            "Maximum Drawdown:-0.5614526325328263\n",
            "MSFT\n",
            "[*********************100%***********************]  1 of 1 completed\n",
            "Avg. Daily_return:0.0009004345405910124\n",
            "Cumulative Return:12.099444780314892\n",
            "Volatility:0.2610786190526873\n",
            "Sharpe Ratio:0.7925179969914713\n",
            "Sortino Ratio:1.1082067811230494\n",
            "Maximum Drawdown:-0.3714848138666905\n",
            "GOOGL\n",
            "[*********************100%***********************]  1 of 1 completed\n",
            "Avg. Daily_return:0.0007438427969302756\n",
            "Cumulative Return:6.428384256880308\n",
            "Volatility:0.2731388321281564\n",
            "Sharpe Ratio:0.6130522837846173\n",
            "Sortino Ratio:0.8577823837704134\n",
            "Maximum Drawdown:-0.44320051414405326\n"
          ]
        }
      ]
    }
  ]
}
