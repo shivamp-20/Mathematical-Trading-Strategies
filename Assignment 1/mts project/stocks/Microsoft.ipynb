{
  "nbformat": 4,
  "nbformat_minor": 0,
  "metadata": {
    "colab": {
      "provenance": []
    },
    "kernelspec": {
      "name": "python3",
      "display_name": "Python 3"
    },
    "language_info": {
      "name": "python"
    }
  },
  "cells": [
    {
      "cell_type": "code",
      "execution_count": 186,
      "metadata": {
        "id": "jpOa9BAHPASQ"
      },
      "outputs": [],
      "source": [
        "import numpy as np\n",
        "import pandas as pd\n",
        "import yfinance as yf\n",
        "import matplotlib.pyplot as plt\n",
        "import seaborn as sns"
      ]
    },
    {
      "cell_type": "code",
      "source": [
        "stock = 'MSFT.NE'\n",
        "data = yf.download(stock,'2010-01-01','2023-05-14')\n",
        "data.head()\n"
      ],
      "metadata": {
        "colab": {
          "base_uri": "https://localhost:8080/",
          "height": 255
        },
        "id": "PzMJY_XlPHrn",
        "outputId": "36d8f527-34ae-41bb-fae0-1029a39c290d"
      },
      "execution_count": 187,
      "outputs": [
        {
          "output_type": "stream",
          "name": "stdout",
          "text": [
            "\r[*********************100%***********************]  1 of 1 completed\n"
          ]
        },
        {
          "output_type": "execute_result",
          "data": {
            "text/plain": [
              "                 Open       High        Low      Close  Adj Close  Volume\n",
              "Date                                                                     \n",
              "2021-10-05  22.010000  22.180000  22.010000  22.100000  21.790449    6640\n",
              "2021-10-06  21.879999  22.430000  21.879999  22.280001  21.967930    6360\n",
              "2021-10-07  22.590000  22.680000  22.559999  22.559999  22.244005   16500\n",
              "2021-10-08  22.650000  22.670000  22.480000  22.540001  22.224289   17173\n",
              "2021-10-12  22.620001  22.620001  22.400000  22.410000  22.096107    9704"
            ],
            "text/html": [
              "\n",
              "  <div id=\"df-ccc455ef-55f9-4d01-99f0-76c9a1073ccd\">\n",
              "    <div class=\"colab-df-container\">\n",
              "      <div>\n",
              "<style scoped>\n",
              "    .dataframe tbody tr th:only-of-type {\n",
              "        vertical-align: middle;\n",
              "    }\n",
              "\n",
              "    .dataframe tbody tr th {\n",
              "        vertical-align: top;\n",
              "    }\n",
              "\n",
              "    .dataframe thead th {\n",
              "        text-align: right;\n",
              "    }\n",
              "</style>\n",
              "<table border=\"1\" class=\"dataframe\">\n",
              "  <thead>\n",
              "    <tr style=\"text-align: right;\">\n",
              "      <th></th>\n",
              "      <th>Open</th>\n",
              "      <th>High</th>\n",
              "      <th>Low</th>\n",
              "      <th>Close</th>\n",
              "      <th>Adj Close</th>\n",
              "      <th>Volume</th>\n",
              "    </tr>\n",
              "    <tr>\n",
              "      <th>Date</th>\n",
              "      <th></th>\n",
              "      <th></th>\n",
              "      <th></th>\n",
              "      <th></th>\n",
              "      <th></th>\n",
              "      <th></th>\n",
              "    </tr>\n",
              "  </thead>\n",
              "  <tbody>\n",
              "    <tr>\n",
              "      <th>2021-10-05</th>\n",
              "      <td>22.010000</td>\n",
              "      <td>22.180000</td>\n",
              "      <td>22.010000</td>\n",
              "      <td>22.100000</td>\n",
              "      <td>21.790449</td>\n",
              "      <td>6640</td>\n",
              "    </tr>\n",
              "    <tr>\n",
              "      <th>2021-10-06</th>\n",
              "      <td>21.879999</td>\n",
              "      <td>22.430000</td>\n",
              "      <td>21.879999</td>\n",
              "      <td>22.280001</td>\n",
              "      <td>21.967930</td>\n",
              "      <td>6360</td>\n",
              "    </tr>\n",
              "    <tr>\n",
              "      <th>2021-10-07</th>\n",
              "      <td>22.590000</td>\n",
              "      <td>22.680000</td>\n",
              "      <td>22.559999</td>\n",
              "      <td>22.559999</td>\n",
              "      <td>22.244005</td>\n",
              "      <td>16500</td>\n",
              "    </tr>\n",
              "    <tr>\n",
              "      <th>2021-10-08</th>\n",
              "      <td>22.650000</td>\n",
              "      <td>22.670000</td>\n",
              "      <td>22.480000</td>\n",
              "      <td>22.540001</td>\n",
              "      <td>22.224289</td>\n",
              "      <td>17173</td>\n",
              "    </tr>\n",
              "    <tr>\n",
              "      <th>2021-10-12</th>\n",
              "      <td>22.620001</td>\n",
              "      <td>22.620001</td>\n",
              "      <td>22.400000</td>\n",
              "      <td>22.410000</td>\n",
              "      <td>22.096107</td>\n",
              "      <td>9704</td>\n",
              "    </tr>\n",
              "  </tbody>\n",
              "</table>\n",
              "</div>\n",
              "      <button class=\"colab-df-convert\" onclick=\"convertToInteractive('df-ccc455ef-55f9-4d01-99f0-76c9a1073ccd')\"\n",
              "              title=\"Convert this dataframe to an interactive table.\"\n",
              "              style=\"display:none;\">\n",
              "        \n",
              "  <svg xmlns=\"http://www.w3.org/2000/svg\" height=\"24px\"viewBox=\"0 0 24 24\"\n",
              "       width=\"24px\">\n",
              "    <path d=\"M0 0h24v24H0V0z\" fill=\"none\"/>\n",
              "    <path d=\"M18.56 5.44l.94 2.06.94-2.06 2.06-.94-2.06-.94-.94-2.06-.94 2.06-2.06.94zm-11 1L8.5 8.5l.94-2.06 2.06-.94-2.06-.94L8.5 2.5l-.94 2.06-2.06.94zm10 10l.94 2.06.94-2.06 2.06-.94-2.06-.94-.94-2.06-.94 2.06-2.06.94z\"/><path d=\"M17.41 7.96l-1.37-1.37c-.4-.4-.92-.59-1.43-.59-.52 0-1.04.2-1.43.59L10.3 9.45l-7.72 7.72c-.78.78-.78 2.05 0 2.83L4 21.41c.39.39.9.59 1.41.59.51 0 1.02-.2 1.41-.59l7.78-7.78 2.81-2.81c.8-.78.8-2.07 0-2.86zM5.41 20L4 18.59l7.72-7.72 1.47 1.35L5.41 20z\"/>\n",
              "  </svg>\n",
              "      </button>\n",
              "      \n",
              "  <style>\n",
              "    .colab-df-container {\n",
              "      display:flex;\n",
              "      flex-wrap:wrap;\n",
              "      gap: 12px;\n",
              "    }\n",
              "\n",
              "    .colab-df-convert {\n",
              "      background-color: #E8F0FE;\n",
              "      border: none;\n",
              "      border-radius: 50%;\n",
              "      cursor: pointer;\n",
              "      display: none;\n",
              "      fill: #1967D2;\n",
              "      height: 32px;\n",
              "      padding: 0 0 0 0;\n",
              "      width: 32px;\n",
              "    }\n",
              "\n",
              "    .colab-df-convert:hover {\n",
              "      background-color: #E2EBFA;\n",
              "      box-shadow: 0px 1px 2px rgba(60, 64, 67, 0.3), 0px 1px 3px 1px rgba(60, 64, 67, 0.15);\n",
              "      fill: #174EA6;\n",
              "    }\n",
              "\n",
              "    [theme=dark] .colab-df-convert {\n",
              "      background-color: #3B4455;\n",
              "      fill: #D2E3FC;\n",
              "    }\n",
              "\n",
              "    [theme=dark] .colab-df-convert:hover {\n",
              "      background-color: #434B5C;\n",
              "      box-shadow: 0px 1px 3px 1px rgba(0, 0, 0, 0.15);\n",
              "      filter: drop-shadow(0px 1px 2px rgba(0, 0, 0, 0.3));\n",
              "      fill: #FFFFFF;\n",
              "    }\n",
              "  </style>\n",
              "\n",
              "      <script>\n",
              "        const buttonEl =\n",
              "          document.querySelector('#df-ccc455ef-55f9-4d01-99f0-76c9a1073ccd button.colab-df-convert');\n",
              "        buttonEl.style.display =\n",
              "          google.colab.kernel.accessAllowed ? 'block' : 'none';\n",
              "\n",
              "        async function convertToInteractive(key) {\n",
              "          const element = document.querySelector('#df-ccc455ef-55f9-4d01-99f0-76c9a1073ccd');\n",
              "          const dataTable =\n",
              "            await google.colab.kernel.invokeFunction('convertToInteractive',\n",
              "                                                     [key], {});\n",
              "          if (!dataTable) return;\n",
              "\n",
              "          const docLinkHtml = 'Like what you see? Visit the ' +\n",
              "            '<a target=\"_blank\" href=https://colab.research.google.com/notebooks/data_table.ipynb>data table notebook</a>'\n",
              "            + ' to learn more about interactive tables.';\n",
              "          element.innerHTML = '';\n",
              "          dataTable['output_type'] = 'display_data';\n",
              "          await google.colab.output.renderOutput(dataTable, element);\n",
              "          const docLink = document.createElement('div');\n",
              "          docLink.innerHTML = docLinkHtml;\n",
              "          element.appendChild(docLink);\n",
              "        }\n",
              "      </script>\n",
              "    </div>\n",
              "  </div>\n",
              "  "
            ]
          },
          "metadata": {},
          "execution_count": 187
        }
      ]
    },
    {
      "cell_type": "code",
      "source": [
        "price = data['Close']\n",
        "price"
      ],
      "metadata": {
        "colab": {
          "base_uri": "https://localhost:8080/"
        },
        "id": "fLTUmMLFPahu",
        "outputId": "8bc9bc50-6f37-4d31-e7c0-58d33c6a51ec"
      },
      "execution_count": 188,
      "outputs": [
        {
          "output_type": "execute_result",
          "data": {
            "text/plain": [
              "Date\n",
              "2021-10-05    22.100000\n",
              "2021-10-06    22.280001\n",
              "2021-10-07    22.559999\n",
              "2021-10-08    22.540001\n",
              "2021-10-12    22.410000\n",
              "                ...    \n",
              "2023-05-08    23.030001\n",
              "2023-05-09    22.900000\n",
              "2023-05-10    23.309999\n",
              "2023-05-11    23.150000\n",
              "2023-05-12    23.059999\n",
              "Name: Close, Length: 402, dtype: float64"
            ]
          },
          "metadata": {},
          "execution_count": 188
        }
      ]
    },
    {
      "cell_type": "code",
      "source": [
        "roll_max = data['Close'].rolling(len(price)-1,min_periods=1).max()\n",
        "daily_drawdown = data['Close']/roll_max - 1.0\n",
        "mdd = daily_drawdown.rolling(len(price)-1,min_periods=1).min()\n",
        "mdd.plot()\n"
      ],
      "metadata": {
        "colab": {
          "base_uri": "https://localhost:8080/",
          "height": 450
        },
        "id": "VTFV-V4GPg-K",
        "outputId": "892500e9-893c-4543-9795-0c3e1d63f733"
      },
      "execution_count": 189,
      "outputs": [
        {
          "output_type": "execute_result",
          "data": {
            "text/plain": [
              "<Axes: xlabel='Date'>"
            ]
          },
          "metadata": {},
          "execution_count": 189
        },
        {
          "output_type": "display_data",
          "data": {
            "text/plain": [
              "<Figure size 640x480 with 1 Axes>"
            ],
            "image/png": "[encoded data removed]"
          },
          "metadata": {}
        }
      ]
    },
    {
      "cell_type": "code",
      "source": [
        "print(f\"Maximum Drawdown is: {mdd[-1]*100} %\")"
      ],
      "metadata": {
        "colab": {
          "base_uri": "https://localhost:8080/"
        },
        "id": "pGsdVuPgPk1C",
        "outputId": "ff2e1d2c-81dd-4b85-b4ae-1b3bf0d9834c"
      },
      "execution_count": 190,
      "outputs": [
        {
          "output_type": "stream",
          "name": "stdout",
          "text": [
            "Maximum Drawdown is: -38.35302951394822 %\n"
          ]
        }
      ]
    },
    {
      "cell_type": "code",
      "source": [
        "returns = data['Close'].resample('D').ffill().pct_change().to_numpy()\n",
        "returns[0] = 0\n",
        "returns"
      ],
      "metadata": {
        "colab": {
          "base_uri": "https://localhost:8080/"
        },
        "id": "QJEPEUr1PuVN",
        "outputId": "3ebe2c39-b497-4485-f206-9690c42b653e"
      },
      "execution_count": 191,
      "outputs": [
        {
          "output_type": "execute_result",
          "data": {
            "text/plain": [
              "array([ 0.        ,  0.00814481,  0.01256727, -0.00088646,  0.        ,\n",
              "        0.        ,  0.        , -0.00576757,  0.01204821,  0.021164  ,\n",
              "        0.00172716,  0.        ,  0.        ,  0.01206891,  0.00212952,\n",
              "       -0.00254999,  0.01150407, -0.00379108,  0.        ,  0.        ,\n",
              "       -0.00549679,  0.00807817,  0.04386339,  0.00202017,  0.02177423,\n",
              "        0.        ,  0.        , -0.0086819 ,  0.01393306,  0.00274839,\n",
              "        0.00587313,  0.00077846,  0.        ,  0.        ,  0.00233378,\n",
              "       -0.00310438, -0.01518105,  0.00395258,  0.01377954,  0.        ,\n",
              "        0.        , -0.00271843,  0.0112928 , -0.00115513,  0.00462602,\n",
              "        0.00652341,  0.        ,  0.        , -0.00800607, -0.00883934,\n",
              "        0.00193871,  0.01006193, -0.01226052,  0.        ,  0.        ,\n",
              "       -0.00271535, -0.01750287, -0.00039589, -0.00396041, -0.01749505,\n",
              "        0.        ,  0.        ,  0.00930803,  0.02405775,  0.00156613,\n",
              "       -0.0046912 ,  0.02867249,  0.        ,  0.        , -0.00916379,\n",
              "       -0.03429677, -0.00638467, -0.00160639, -0.0044248 ,  0.        ,\n",
              "        0.        , -0.0161616 ,  0.02669403,  0.01800003,  0.00510802,\n",
              "        0.        ,  0.        ,  0.        ,  0.        ,  0.        ,\n",
              "        0.01993746, -0.0072825 , -0.00888029,  0.        ,  0.        ,\n",
              "        0.        , -0.02025713, -0.03936381, -0.00869202,  0.00125256,\n",
              "        0.        ,  0.        ,  0.00041702,  0.0016674 ,  0.00998751,\n",
              "       -0.04243925,  0.0193632 ,  0.        ,  0.        ,  0.02870411,\n",
              "       -0.05293397,  0.00173314, -0.00475781, -0.01825294,  0.        ,\n",
              "        0.        ,  0.00132805, -0.02519901,  0.02630385,  0.01281489,\n",
              "        0.02530541,  0.        ,  0.        ,  0.01021276, -0.00800339,\n",
              "        0.01571129, -0.0376254 ,  0.01303211,  0.        ,  0.        ,\n",
              "       -0.01843912,  0.01660118,  0.01804899, -0.02617142, -0.02557435,\n",
              "        0.        ,  0.        ,  0.0017794 ,  0.01598573, -0.00218528,\n",
              "       -0.02890932, -0.01037436,  0.        ,  0.        ,  0.        ,\n",
              "       -0.0018232 , -0.02283105,  0.05140189,  0.00355555,  0.        ,\n",
              "        0.        ,  0.00841455, -0.01537112,  0.01873328, -0.01576185,\n",
              "       -0.01690388,  0.        ,  0.        , -0.04072396, -0.009434  ,\n",
              "        0.04380953, -0.00821169, -0.01931923,  0.        ,  0.        ,\n",
              "       -0.01313315,  0.03849807,  0.02334097,  0.00402505,  0.01737191,\n",
              "        0.        ,  0.        , -0.00306479,  0.01405357, -0.0112603 ,\n",
              "        0.01182656, -0.00129873,  0.        ,  0.        ,  0.02297359,\n",
              "        0.0165254 , -0.00500204, -0.01340602,  0.        ,  0.        ,\n",
              "        0.        ,  0.01528665, -0.01254702, -0.03346044,  0.00131467,\n",
              "       -0.01356672,  0.        ,  0.        , -0.03904175, -0.00877195,\n",
              "        0.01816494, -0.02790488,  0.        ,  0.        ,  0.        ,\n",
              "        0.0018824 ,  0.02066691,  0.00276122, -0.01881605, -0.02666042,\n",
              "        0.        ,  0.        ,  0.02402691, -0.0380103 ,  0.05073175,\n",
              "        0.02089131, -0.0432014 ,  0.        ,  0.        ,  0.02566535,\n",
              "       -0.00880447,  0.02758299, -0.04140127, -0.00996673,  0.        ,\n",
              "        0.        , -0.03835096,  0.02143571, -0.03513906, -0.01871527,\n",
              "        0.02010316,  0.        ,  0.        ,  0.00252649,  0.01814519,\n",
              "       -0.04603962, -0.00570839, -0.00260956,  0.        ,  0.        ,\n",
              "        0.        ,  0.02616431,  0.01580823,  0.01305222,  0.02329035,\n",
              "        0.        ,  0.        ,  0.0237288 , -0.02175965,  0.00048357,\n",
              "        0.0038666 , -0.01444396,  0.        ,  0.        , -0.00293109,\n",
              "        0.01322883, -0.00967122, -0.01855465, -0.0447761 ,  0.        ,\n",
              "        0.        , -0.04270842,  0.00544072,  0.02651514, -0.02477593,\n",
              "        0.01567573,  0.        ,  0.        ,  0.00851516,  0.01213718,\n",
              "        0.00052139,  0.02240752,  0.03211005,  0.        ,  0.        ,\n",
              "       -0.01432103, -0.02605203,  0.01234567, -0.01524396,  0.        ,\n",
              "        0.        ,  0.        ,  0.03457173, -0.00748128,  0.01256281,\n",
              "        0.00843673, -0.00590546,  0.        ,  0.        , -0.00891091,\n",
              "       -0.04095902, -0.00520835,  0.00680624,  0.01092049,  0.        ,\n",
              "        0.        , -0.00874486,  0.0155682 ,  0.01175266,  0.0121213 ,\n",
              "       -0.01646716,  0.        ,  0.        , -0.00558086, -0.02704085,\n",
              "        0.06240171,  0.03356369,  0.01241644,  0.        ,  0.        ,\n",
              "        0.        , -0.01839629,  0.02594911,  0.00327867, -0.00093373,\n",
              "        0.        ,  0.        , -0.00747663,  0.00706213,  0.02010287,\n",
              "       -0.00366636,  0.01195953,  0.        ,  0.        ,  0.00999997,\n",
              "       -0.00225019, -0.00496169, -0.00362647, -0.01592358,  0.        ,\n",
              "        0.        , -0.02820151, -0.00428164, -0.00286667,  0.01102058,\n",
              "       -0.03696686,  0.        ,  0.        , -0.01131888, -0.00945747,\n",
              "        0.03015077, -0.03902435, -0.01675126,  0.        ,  0.        ,\n",
              "        0.        , -0.01032528,  0.01825771,  0.00204913,  0.02044988,\n",
              "        0.        ,  0.        ,  0.00701409, -0.05223886,  0.00104989,\n",
              "       -0.02674359, -0.00377154,  0.        ,  0.        , -0.00054085,\n",
              "       -0.00811686, -0.01527554,  0.0077563 , -0.01154486,  0.        ,\n",
              "        0.        , -0.00278083, -0.00390405,  0.01847704, -0.01649264,\n",
              "       -0.01565113,  0.        ,  0.        ,  0.03236795,  0.03025298,\n",
              "        0.00320349, -0.00798305, -0.05096561,  0.        ,  0.        ,\n",
              "        0.        , -0.03843981,  0.00117581,  0.03640628, -0.02379604,\n",
              "        0.        ,  0.        ,  0.03946607,  0.00167508, -0.00501673,\n",
              "       -0.00168071,  0.02356903,  0.        ,  0.        ,  0.01918862,\n",
              "        0.01882735, -0.07919746, -0.01892201,  0.03974286,  0.        ,\n",
              "        0.        , -0.01630134, -0.01600004, -0.0342625 , -0.0276608 ,\n",
              "        0.03215835,  0.        ,  0.        ,  0.02696218,  0.00466744,\n",
              "       -0.01684083,  0.07678672,  0.01755347,  0.        ,  0.        ,\n",
              "       -0.01994603, -0.00055007,  0.00385249, -0.00328944, -0.00385037,\n",
              "        0.        ,  0.        ,  0.0082827 ,  0.00876231,  0.0103149 ,\n",
              "        0.01558297, -0.00476191,  0.        ,  0.        , -0.0313663 ,\n",
              "       -0.00987917,  0.05820395,  0.00261913,  0.00052248,  0.        ,\n",
              "        0.        , -0.01723237, -0.01965988, -0.00542007,  0.01144409,\n",
              "       -0.00377154,  0.        ,  0.        ,  0.02379668,  0.01954564,\n",
              "        0.00310888, -0.03305792, -0.0176282 ,  0.        ,  0.        ,\n",
              "       -0.019032  ,  0.00720616,  0.00935609, -0.02290077,  0.        ,\n",
              "        0.        ,  0.        ,  0.        ,  0.        , -0.01785713,\n",
              "        0.0278409 , -0.00552794,  0.        ,  0.        ,  0.        ,\n",
              "       -0.00166763, -0.04008905, -0.0307425 ,  0.01077201,  0.        ,\n",
              "        0.        ,  0.00947305,  0.00703817,  0.03145015,  0.01242243,\n",
              "        0.00223084,  0.        ,  0.        ,  0.00166949,  0.00111114,\n",
              "       -0.01775803, -0.01638423,  0.03216539,  0.        ,  0.        ,\n",
              "        0.01335558, -0.00219654, -0.00935609,  0.03222222,  0.00107645,\n",
              "        0.        ,  0.        , -0.02150536,  0.01923068,  0.02210242,\n",
              "        0.04272159, -0.0192211 ,  0.        ,  0.        , -0.00670444,\n",
              "        0.04153682, -0.00448655, -0.01051573, -0.00050608,  0.        ,\n",
              "        0.        ,  0.0283544 ,  0.00443132, -0.01078428, -0.02626366,\n",
              "       -0.01628497,  0.        ,  0.        ,  0.        , -0.02017586,\n",
              "       -0.00897572,  0.01704846, -0.02200105,  0.        ,  0.        ,\n",
              "        0.00321368, -0.00213556, -0.01230612,  0.01679314,  0.0186468 ,\n",
              "        0.        ,  0.        ,  0.00470702, -0.00937004, -0.00420388,\n",
              "       -0.00211087, -0.01533575,  0.        ,  0.        ,  0.01987105,\n",
              "        0.02790946,  0.01690573,  0.04030223,  0.00871672,  0.        ,\n",
              "        0.        , -0.02352375,  0.00540809,  0.00048892,  0.01906165,\n",
              "        0.00623497,  0.        ,  0.        , -0.0142993 ,  0.        ,\n",
              "        0.01257254,  0.01480418,  0.01552941,  0.        ,  0.        ,\n",
              "       -0.00695086,  0.0018665 , -0.00838372,  0.02301549,  0.        ,\n",
              "        0.        ,  0.        , -0.00734618, -0.02220173,  0.00283829,\n",
              "        0.02028294, -0.01109569,  0.        ,  0.        ,  0.0093502 ,\n",
              "       -0.00092638,  0.        , -0.00927208,  0.        ,  0.        ,\n",
              "        0.        , -0.01684607, -0.01951451,  0.07184464,  0.03079712,\n",
              "        0.00746925,  0.        ,  0.        , -0.00305276, -0.00174982,\n",
              "       -0.00438214,  0.00440143,  0.014461  ,  0.        ,  0.        ,\n",
              "       -0.00518354, -0.00564486,  0.01790392, -0.006864  , -0.0038877 ])"
            ]
          },
          "metadata": {},
          "execution_count": 191
        }
      ]
    },
    {
      "cell_type": "code",
      "source": [
        "cumulative_ret =( 1+returns).cumprod()\n",
        "cumulative_ret"
      ],
      "metadata": {
        "colab": {
          "base_uri": "https://localhost:8080/"
        },
        "id": "ONRKjouJP1Zh",
        "outputId": "9d43eb6f-8c20-4bf7-ec91-837c2f302c87"
      },
      "execution_count": 192,
      "outputs": [
        {
          "output_type": "execute_result",
          "data": {
            "text/plain": [
              "array([1.        , 1.00814481, 1.02081444, 1.01990953, 1.01990953,\n",
              "       1.01990953, 1.01990953, 1.01402712, 1.02624434, 1.04796378,\n",
              "       1.04977377, 1.04977377, 1.04977377, 1.0624434 , 1.0647059 ,\n",
              "       1.0619909 , 1.07420812, 1.07013571, 1.07013571, 1.07013571,\n",
              "       1.0642534 , 1.07285062, 1.11990948, 1.12217189, 1.14660632,\n",
              "       1.14660632, 1.14660632, 1.1366516 , 1.15248864, 1.15565613,\n",
              "       1.16244344, 1.16334835, 1.16334835, 1.16334835, 1.16606335,\n",
              "       1.16244344, 1.14479633, 1.14932123, 1.16515835, 1.16515835,\n",
              "       1.16515835, 1.16199094, 1.17511307, 1.17375566, 1.17918548,\n",
              "       1.18687779, 1.18687779, 1.18687779, 1.17737557, 1.16696835,\n",
              "       1.16923076, 1.18099547, 1.16651585, 1.16651585, 1.16651585,\n",
              "       1.16334835, 1.14298642, 1.14253392, 1.13800901, 1.11809949,\n",
              "       1.11809949, 1.11809949, 1.12850679, 1.15565613, 1.15746604,\n",
              "       1.15203614, 1.18506788, 1.18506788, 1.18506788, 1.17420816,\n",
              "       1.13393661, 1.1266968 , 1.12488689, 1.11990948, 1.11990948,\n",
              "       1.11990948, 1.10180995, 1.1312217 , 1.15158373, 1.15746604,\n",
              "       1.15746604, 1.15746604, 1.15746604, 1.15746604, 1.15746604,\n",
              "       1.18054297, 1.17194566, 1.16153844, 1.16153844, 1.16153844,\n",
              "       1.16153844, 1.13800901, 1.09321264, 1.08371042, 1.08506783,\n",
              "       1.08506783, 1.08506783, 1.08552033, 1.08733033, 1.09819005,\n",
              "       1.05158368, 1.07194571, 1.07194571, 1.07194571, 1.10271495,\n",
              "       1.04434387, 1.04615387, 1.04117646, 1.02217193, 1.02217193,\n",
              "       1.02217193, 1.02352943, 0.9977375 , 1.02398184, 1.03710406,\n",
              "       1.0633484 , 1.0633484 , 1.0633484 , 1.07420812, 1.06561081,\n",
              "       1.08235293, 1.04162896, 1.05520359, 1.05520359, 1.05520359,\n",
              "       1.03574656, 1.05294118, 1.07194571, 1.04389137, 1.01719453,\n",
              "       1.01719453, 1.01719453, 1.01900453, 1.03529406, 1.03303165,\n",
              "       1.00316741, 0.99276019, 0.99276019, 0.99276019, 0.99276019,\n",
              "       0.99095019, 0.96832576, 1.01809953, 1.02171944, 1.02171944,\n",
              "       1.02171944, 1.03031675, 1.01447962, 1.03348415, 1.01719453,\n",
              "       1.        , 1.        , 1.        , 0.95927604, 0.95022623,\n",
              "       0.99185519, 0.98371038, 0.96470585, 0.96470585, 0.96470585,\n",
              "       0.95203622, 0.98868778, 1.01176472, 1.01583712, 1.03348415,\n",
              "       1.03348415, 1.03348415, 1.03031675, 1.04479637, 1.03303165,\n",
              "       1.04524887, 1.04389137, 1.04389137, 1.04389137, 1.0678733 ,\n",
              "       1.08552033, 1.08009052, 1.06561081, 1.06561081, 1.06561081,\n",
              "       1.06561081, 1.08190043, 1.0683258 , 1.03257915, 1.03393665,\n",
              "       1.01990953, 1.01990953, 1.01990953, 0.98009047, 0.97149316,\n",
              "       0.98914028, 0.96153844, 0.96153844, 0.96153844, 0.96153844,\n",
              "       0.96334844, 0.98325788, 0.98597288, 0.96742076, 0.94162892,\n",
              "       0.94162892, 0.94162892, 0.96425335, 0.92760179, 0.97466066,\n",
              "       0.9950226 , 0.95203622, 0.95203622, 0.95203622, 0.97647057,\n",
              "       0.96787326, 0.9945701 , 0.95339363, 0.94389141, 0.94389141,\n",
              "       0.94389141, 0.90769227, 0.92714929, 0.89457014, 0.87782802,\n",
              "       0.89547514, 0.89547514, 0.89547514, 0.89773755, 0.91402717,\n",
              "       0.87194571, 0.8669683 , 0.8647059 , 0.8647059 , 0.8647059 ,\n",
              "       0.8647059 , 0.88733033, 0.90135745, 0.91312217, 0.93438911,\n",
              "       0.93438911, 0.93438911, 0.95656104, 0.9357466 , 0.9361991 ,\n",
              "       0.93981901, 0.9262443 , 0.9262443 , 0.9262443 , 0.92352939,\n",
              "       0.9357466 , 0.9266968 , 0.90950226, 0.8687783 , 0.8687783 ,\n",
              "       0.8687783 , 0.83167416, 0.83619906, 0.85837099, 0.83710406,\n",
              "       0.85022627, 0.85022627, 0.85022627, 0.85746608, 0.8678733 ,\n",
              "       0.8683258 , 0.88778283, 0.91628958, 0.91628958, 0.91628958,\n",
              "       0.90316736, 0.87963802, 0.89049774, 0.87692302, 0.87692302,\n",
              "       0.87692302, 0.87692302, 0.90723977, 0.90045246, 0.91176467,\n",
              "       0.91945698, 0.91402717, 0.91402717, 0.91402717, 0.90588236,\n",
              "       0.8687783 , 0.8642534 , 0.87013571, 0.87963802, 0.87963802,\n",
              "       0.87963802, 0.87194571, 0.88552033, 0.89592755, 0.90678736,\n",
              "       0.89185515, 0.89185515, 0.89185515, 0.88687783, 0.8628959 ,\n",
              "       0.91674208, 0.94751132, 0.95927604, 0.95927604, 0.95927604,\n",
              "       0.95927604, 0.94162892, 0.96606335, 0.96923076, 0.96832576,\n",
              "       0.96832576, 0.96832576, 0.96108595, 0.96787326, 0.98733029,\n",
              "       0.98371038, 0.9954751 , 0.9954751 , 0.9954751 , 1.00542982,\n",
              "       1.00316741, 0.99819   , 0.9945701 , 0.97873298, 0.97873298,\n",
              "       0.97873298, 0.95113123, 0.94705882, 0.94434391, 0.95475113,\n",
              "       0.91945698, 0.91945698, 0.91945698, 0.90904976, 0.90045246,\n",
              "       0.92760179, 0.89140273, 0.87647061, 0.87647061, 0.87647061,\n",
              "       0.87647061, 0.8674208 , 0.88325792, 0.88506783, 0.90316736,\n",
              "       0.90316736, 0.90316736, 0.90950226, 0.8619909 , 0.8628959 ,\n",
              "       0.83981897, 0.83665156, 0.83665156, 0.83665156, 0.83619906,\n",
              "       0.82941175, 0.81674203, 0.82307693, 0.81357463, 0.81357463,\n",
              "       0.81357463, 0.81131222, 0.80814481, 0.82307693, 0.80950222,\n",
              "       0.79683259, 0.79683259, 0.79683259, 0.82262443, 0.84751128,\n",
              "       0.85022627, 0.84343887, 0.8004525 , 0.8004525 , 0.8004525 ,\n",
              "       0.8004525 , 0.76968325, 0.77058825, 0.7986425 , 0.77963797,\n",
              "       0.77963797, 0.77963797, 0.81040722, 0.81176472, 0.80769231,\n",
              "       0.80633481, 0.82533934, 0.82533934, 0.82533934, 0.84117646,\n",
              "       0.85701358, 0.78914028, 0.77420816, 0.8049774 , 0.8049774 ,\n",
              "       0.8049774 , 0.79185519, 0.77918548, 0.75248864, 0.7316742 ,\n",
              "       0.75520363, 0.75520363, 0.75520363, 0.77556557, 0.77918548,\n",
              "       0.76606335, 0.82488684, 0.83936647, 0.83936647, 0.83936647,\n",
              "       0.82262443, 0.82217193, 0.82533934, 0.82262443, 0.81945703,\n",
              "       0.81945703, 0.81945703, 0.82624434, 0.83348415, 0.84208146,\n",
              "       0.85520359, 0.85113118, 0.85113118, 0.85113118, 0.82443434,\n",
              "       0.81628962, 0.8638009 , 0.86606331, 0.8665158 , 0.8665158 ,\n",
              "       0.8665158 , 0.85158368, 0.83484165, 0.83031675, 0.83981897,\n",
              "       0.83665156, 0.83665156, 0.83665156, 0.85656108, 0.87330312,\n",
              "       0.87601811, 0.84705878, 0.83212665, 0.83212665, 0.83212665,\n",
              "       0.81628962, 0.82217193, 0.82986425, 0.81085972, 0.81085972,\n",
              "       0.81085972, 0.81085972, 0.81085972, 0.81085972, 0.79638009,\n",
              "       0.81855203, 0.81402712, 0.81402712, 0.81402712, 0.81402712,\n",
              "       0.81266963, 0.78009047, 0.75610854, 0.76425335, 0.76425335,\n",
              "       0.76425335, 0.77149316, 0.77692307, 0.80135741, 0.81131222,\n",
              "       0.81312213, 0.81312213, 0.81312213, 0.81447962, 0.81538462,\n",
              "       0.800905  , 0.78778278, 0.81312213, 0.81312213, 0.81312213,\n",
              "       0.82398184, 0.82217193, 0.81447962, 0.84072396, 0.84162896,\n",
              "       0.84162896, 0.84162896, 0.82352943, 0.83936647, 0.8579185 ,\n",
              "       0.89457014, 0.87737552, 0.87737552, 0.87737552, 0.87149321,\n",
              "       0.90769227, 0.90361986, 0.89411764, 0.89366514, 0.89366514,\n",
              "       0.89366514, 0.91900448, 0.92307689, 0.91312217, 0.88914024,\n",
              "       0.87466061, 0.87466061, 0.87466061, 0.87466061, 0.85701358,\n",
              "       0.84932127, 0.8638009 , 0.84479637, 0.84479637, 0.84479637,\n",
              "       0.84751128, 0.84570137, 0.83529406, 0.84932127, 0.86515839,\n",
              "       0.86515839, 0.86515839, 0.86923071, 0.86108599, 0.85746608,\n",
              "       0.85565609, 0.84253396, 0.84253396, 0.84253396, 0.85927599,\n",
              "       0.88325792, 0.89819005, 0.93438911, 0.94253392, 0.94253392,\n",
              "       0.94253392, 0.92036198, 0.92533939, 0.9257918 , 0.94343892,\n",
              "       0.94932123, 0.94932123, 0.94932123, 0.9357466 , 0.9357466 ,\n",
              "       0.94751132, 0.96153844, 0.97647057, 0.97647057, 0.97647057,\n",
              "       0.96968325, 0.97149316, 0.96334844, 0.98552038, 0.98552038,\n",
              "       0.98552038, 0.98552038, 0.97828056, 0.95656104, 0.95927604,\n",
              "       0.97873298, 0.96787326, 0.96787326, 0.96787326, 0.97692307,\n",
              "       0.97601807, 0.97601807, 0.96696835, 0.96696835, 0.96696835,\n",
              "       0.96696835, 0.95067873, 0.9321267 , 0.999095  , 1.02986425,\n",
              "       1.03755656, 1.03755656, 1.03755656, 1.03438915, 1.03257915,\n",
              "       1.02805425, 1.03257915, 1.04751128, 1.04751128, 1.04751128,\n",
              "       1.04208146, 1.03619906, 1.05475109, 1.04751128, 1.04343887])"
            ]
          },
          "metadata": {},
          "execution_count": 192
        }
      ]
    },
    {
      "cell_type": "code",
      "source": [
        "print(f\"Cumulative return is {cumulative_ret[-1]*100}%\")"
      ],
      "metadata": {
        "colab": {
          "base_uri": "https://localhost:8080/"
        },
        "id": "MnqgXENEP4F0",
        "outputId": "a754f104-d85b-4361-fbe9-e22b70352058"
      },
      "execution_count": 198,
      "outputs": [
        {
          "output_type": "stream",
          "name": "stdout",
          "text": [
            "Cumulative return is 104.3438871850772%\n"
          ]
        }
      ]
    },
    {
      "cell_type": "code",
      "source": [
        "yearly_returns = data['Close'].resample('Y').ffill().pct_change()\n",
        "yearly_returns"
      ],
      "metadata": {
        "colab": {
          "base_uri": "https://localhost:8080/"
        },
        "id": "b6Br01JVP8eB",
        "outputId": "f46f320b-8eb2-4f0a-e17e-bb8dfb15e8c5"
      },
      "execution_count": 199,
      "outputs": [
        {
          "output_type": "execute_result",
          "data": {
            "text/plain": [
              "Date\n",
              "2021-12-31         NaN\n",
              "2022-12-31   -0.299182\n",
              "2023-12-31    0.281823\n",
              "Freq: A-DEC, Name: Close, dtype: float64"
            ]
          },
          "metadata": {},
          "execution_count": 199
        }
      ]
    },
    {
      "cell_type": "code",
      "source": [
        "monthly_returns = data['Close'].resample('M').ffill().pct_change()\n",
        "monthly_returns"
      ],
      "metadata": {
        "colab": {
          "base_uri": "https://localhost:8080/"
        },
        "id": "hZ4rxEF0P_Gc",
        "outputId": "cd9880dc-c1d5-47bd-adee-dfdfa5ef30da"
      },
      "execution_count": 200,
      "outputs": [
        {
          "output_type": "execute_result",
          "data": {
            "text/plain": [
              "Date\n",
              "2021-10-31         NaN\n",
              "2021-11-30   -0.003157\n",
              "2021-12-31    0.016231\n",
              "2022-01-31   -0.075185\n",
              "2022-02-28   -0.040859\n",
              "2022-03-31    0.034256\n",
              "2022-04-30   -0.106582\n",
              "2022-05-31   -0.017110\n",
              "2022-06-30   -0.062863\n",
              "2022-07-31    0.093911\n",
              "2022-08-31   -0.033019\n",
              "2022-09-30   -0.140976\n",
              "2022-10-31   -0.006246\n",
              "2022-11-30    0.090857\n",
              "2022-12-31   -0.057622\n",
              "2023-01-31    0.031128\n",
              "2023-02-28    0.007547\n",
              "2023-03-31    0.154628\n",
              "2023-04-30    0.062558\n",
              "2023-05-31    0.005669\n",
              "Freq: M, Name: Close, dtype: float64"
            ]
          },
          "metadata": {},
          "execution_count": 200
        }
      ]
    },
    {
      "cell_type": "code",
      "source": [
        "avg_yearly_return = yearly_returns.mean()\n",
        "print(f\"Average yearly return is : {avg_yearly_return*100}%\")"
      ],
      "metadata": {
        "colab": {
          "base_uri": "https://localhost:8080/"
        },
        "id": "jv802gBoQBXe",
        "outputId": "648a087d-e664-4a1e-d2ad-a643b40484bd"
      },
      "execution_count": 201,
      "outputs": [
        {
          "output_type": "stream",
          "name": "stdout",
          "text": [
            "Average yearly return is : -0.8679356836033603%\n"
          ]
        }
      ]
    },
    {
      "cell_type": "code",
      "source": [
        "sharpe_ratio = (avg_yearly_return - 0.05)/(monthly_returns.std())\n",
        "print(f\"Sharpe ratio is : {sharpe_ratio*10}\")"
      ],
      "metadata": {
        "colab": {
          "base_uri": "https://localhost:8080/"
        },
        "id": "23pBPRFQQFAY",
        "outputId": "fc6fcfe4-7c08-46e9-a109-2a14e3bfff1b"
      },
      "execution_count": 202,
      "outputs": [
        {
          "output_type": "stream",
          "name": "stdout",
          "text": [
            "Sharpe ratio is : -8.096923887259473\n"
          ]
        }
      ]
    },
    {
      "cell_type": "code",
      "source": [
        "neg_monthly_returns = monthly_returns[monthly_returns < 0]\n",
        "neg_monthly_returns"
      ],
      "metadata": {
        "colab": {
          "base_uri": "https://localhost:8080/"
        },
        "id": "R4Z15hY7QLx1",
        "outputId": "ac785c36-94eb-479f-c5b6-417e0fc5a35f"
      },
      "execution_count": 203,
      "outputs": [
        {
          "output_type": "execute_result",
          "data": {
            "text/plain": [
              "Date\n",
              "2021-11-30   -0.003157\n",
              "2022-01-31   -0.075185\n",
              "2022-02-28   -0.040859\n",
              "2022-04-30   -0.106582\n",
              "2022-05-31   -0.017110\n",
              "2022-06-30   -0.062863\n",
              "2022-08-31   -0.033019\n",
              "2022-09-30   -0.140976\n",
              "2022-10-31   -0.006246\n",
              "2022-12-31   -0.057622\n",
              "Name: Close, dtype: float64"
            ]
          },
          "metadata": {},
          "execution_count": 203
        }
      ]
    },
    {
      "cell_type": "code",
      "source": [
        "std_neg = neg_monthly_returns.std()\n",
        "sortino = ((avg_yearly_return - 0.05)*10.0)/std_neg\n",
        "print(f\"Sortino Ratio: {sortino}\")"
      ],
      "metadata": {
        "colab": {
          "base_uri": "https://localhost:8080/"
        },
        "id": "BYvSeX1jQV1G",
        "outputId": "d8fd5226-f467-4923-d90f-19f6516ec210"
      },
      "execution_count": 204,
      "outputs": [
        {
          "output_type": "stream",
          "name": "stdout",
          "text": [
            "Sortino Ratio: -13.22888573405499\n"
          ]
        }
      ]
    },
    {
      "cell_type": "code",
      "source": [],
      "metadata": {
        "id": "pM7QKZARQYdK"
      },
      "execution_count": 185,
      "outputs": []
    }
  ]
}