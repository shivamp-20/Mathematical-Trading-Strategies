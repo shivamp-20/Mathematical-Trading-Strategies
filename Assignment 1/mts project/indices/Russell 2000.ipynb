{
 "cells": [
  {
   "cell_type": "code",
   "execution_count": 1,
   "metadata": {
    "id": "jpOa9BAHPASQ"
   },
   "outputs": [],
   "source": [
    "import numpy as np\n",
    "import pandas as pd\n",
    "import yfinance as yf\n",
    "import matplotlib.pyplot as plt\n",
    "import seaborn as sns"
   ]
  },
  {
   "cell_type": "code",
   "execution_count": 2,
   "metadata": {
    "colab": {
     "base_uri": "https://localhost:8080/",
     "height": 255
    },
    "id": "PzMJY_XlPHrn",
    "outputId": "157e7d64-c9ef-45d5-f156-10d51b02626b"
   },
   "outputs": [
    {
     "name": "stdout",
     "output_type": "stream",
     "text": [
      "\r",
      "[*********************100%***********************]  1 of 1 completed\n"
     ]
    },
    {
     "data": {
      "text/html": [
       "\n",
       "  <div id=\"df-1c7ef060-fdc3-4270-a216-8ca06efffab8\">\n",
       "    <div class=\"colab-df-container\">\n",
       "      <div>\n",
       "<style scoped>\n",
       "    .dataframe tbody tr th:only-of-type {\n",
       "        vertical-align: middle;\n",
       "    }\n",
       "\n",
       "    .dataframe tbody tr th {\n",
       "        vertical-align: top;\n",
       "    }\n",
       "\n",
       "    .dataframe thead th {\n",
       "        text-align: right;\n",
       "    }\n",
       "</style>\n",
       "<table border=\"1\" class=\"dataframe\">\n",
       "  <thead>\n",
       "    <tr style=\"text-align: right;\">\n",
       "      <th></th>\n",
       "      <th>Open</th>\n",
       "      <th>High</th>\n",
       "      <th>Low</th>\n",
       "      <th>Close</th>\n",
       "      <th>Adj Close</th>\n",
       "      <th>Volume</th>\n",
       "    </tr>\n",
       "    <tr>\n",
       "      <th>Date</th>\n",
       "      <th></th>\n",
       "      <th></th>\n",
       "      <th></th>\n",
       "      <th></th>\n",
       "      <th></th>\n",
       "      <th></th>\n",
       "    </tr>\n",
       "  </thead>\n",
       "  <tbody>\n",
       "    <tr>\n",
       "      <th>2010-01-04</th>\n",
       "      <td>628.109985</td>\n",
       "      <td>640.099976</td>\n",
       "      <td>628.109985</td>\n",
       "      <td>640.099976</td>\n",
       "      <td>640.099976</td>\n",
       "      <td>3991400000</td>\n",
       "    </tr>\n",
       "    <tr>\n",
       "      <th>2010-01-05</th>\n",
       "      <td>639.690002</td>\n",
       "      <td>641.890015</td>\n",
       "      <td>635.950012</td>\n",
       "      <td>638.489990</td>\n",
       "      <td>638.489990</td>\n",
       "      <td>2491020000</td>\n",
       "    </tr>\n",
       "    <tr>\n",
       "      <th>2010-01-06</th>\n",
       "      <td>638.289978</td>\n",
       "      <td>641.260010</td>\n",
       "      <td>636.400024</td>\n",
       "      <td>637.950012</td>\n",
       "      <td>637.950012</td>\n",
       "      <td>4972660000</td>\n",
       "    </tr>\n",
       "    <tr>\n",
       "      <th>2010-01-07</th>\n",
       "      <td>638.109985</td>\n",
       "      <td>642.070007</td>\n",
       "      <td>632.739990</td>\n",
       "      <td>641.969971</td>\n",
       "      <td>641.969971</td>\n",
       "      <td>5270680000</td>\n",
       "    </tr>\n",
       "    <tr>\n",
       "      <th>2010-01-08</th>\n",
       "      <td>640.340027</td>\n",
       "      <td>644.690002</td>\n",
       "      <td>639.559998</td>\n",
       "      <td>644.559998</td>\n",
       "      <td>644.559998</td>\n",
       "      <td>4389590000</td>\n",
       "    </tr>\n",
       "  </tbody>\n",
       "</table>\n",
       "</div>\n",
       "      <button class=\"colab-df-convert\" onclick=\"convertToInteractive('df-1c7ef060-fdc3-4270-a216-8ca06efffab8')\"\n",
       "              title=\"Convert this dataframe to an interactive table.\"\n",
       "              style=\"display:none;\">\n",
       "        \n",
       "  <svg xmlns=\"http://www.w3.org/2000/svg\" height=\"24px\"viewBox=\"0 0 24 24\"\n",
       "       width=\"24px\">\n",
       "    <path d=\"M0 0h24v24H0V0z\" fill=\"none\"/>\n",
       "    <path d=\"M18.56 5.44l.94 2.06.94-2.06 2.06-.94-2.06-.94-.94-2.06-.94 2.06-2.06.94zm-11 1L8.5 8.5l.94-2.06 2.06-.94-2.06-.94L8.5 2.5l-.94 2.06-2.06.94zm10 10l.94 2.06.94-2.06 2.06-.94-2.06-.94-.94-2.06-.94 2.06-2.06.94z\"/><path d=\"M17.41 7.96l-1.37-1.37c-.4-.4-.92-.59-1.43-.59-.52 0-1.04.2-1.43.59L10.3 9.45l-7.72 7.72c-.78.78-.78 2.05 0 2.83L4 21.41c.39.39.9.59 1.41.59.51 0 1.02-.2 1.41-.59l7.78-7.78 2.81-2.81c.8-.78.8-2.07 0-2.86zM5.41 20L4 18.59l7.72-7.72 1.47 1.35L5.41 20z\"/>\n",
       "  </svg>\n",
       "      </button>\n",
       "      \n",
       "  <style>\n",
       "    .colab-df-container {\n",
       "      display:flex;\n",
       "      flex-wrap:wrap;\n",
       "      gap: 12px;\n",
       "    }\n",
       "\n",
       "    .colab-df-convert {\n",
       "      background-color: #E8F0FE;\n",
       "      border: none;\n",
       "      border-radius: 50%;\n",
       "      cursor: pointer;\n",
       "      display: none;\n",
       "      fill: #1967D2;\n",
       "      height: 32px;\n",
       "      padding: 0 0 0 0;\n",
       "      width: 32px;\n",
       "    }\n",
       "\n",
       "    .colab-df-convert:hover {\n",
       "      background-color: #E2EBFA;\n",
       "      box-shadow: 0px 1px 2px rgba(60, 64, 67, 0.3), 0px 1px 3px 1px rgba(60, 64, 67, 0.15);\n",
       "      fill: #174EA6;\n",
       "    }\n",
       "\n",
       "    [theme=dark] .colab-df-convert {\n",
       "      background-color: #3B4455;\n",
       "      fill: #D2E3FC;\n",
       "    }\n",
       "\n",
       "    [theme=dark] .colab-df-convert:hover {\n",
       "      background-color: #434B5C;\n",
       "      box-shadow: 0px 1px 3px 1px rgba(0, 0, 0, 0.15);\n",
       "      filter: drop-shadow(0px 1px 2px rgba(0, 0, 0, 0.3));\n",
       "      fill: #FFFFFF;\n",
       "    }\n",
       "  </style>\n",
       "\n",
       "      <script>\n",
       "        const buttonEl =\n",
       "          document.querySelector('#df-1c7ef060-fdc3-4270-a216-8ca06efffab8 button.colab-df-convert');\n",
       "        buttonEl.style.display =\n",
       "          google.colab.kernel.accessAllowed ? 'block' : 'none';\n",
       "\n",
       "        async function convertToInteractive(key) {\n",
       "          const element = document.querySelector('#df-1c7ef060-fdc3-4270-a216-8ca06efffab8');\n",
       "          const dataTable =\n",
       "            await google.colab.kernel.invokeFunction('convertToInteractive',\n",
       "                                                     [key], {});\n",
       "          if (!dataTable) return;\n",
       "\n",
       "          const docLinkHtml = 'Like what you see? Visit the ' +\n",
       "            '<a target=\"_blank\" href=https://colab.research.google.com/notebooks/data_table.ipynb>data table notebook</a>'\n",
       "            + ' to learn more about interactive tables.';\n",
       "          element.innerHTML = '';\n",
       "          dataTable['output_type'] = 'display_data';\n",
       "          await google.colab.output.renderOutput(dataTable, element);\n",
       "          const docLink = document.createElement('div');\n",
       "          docLink.innerHTML = docLinkHtml;\n",
       "          element.appendChild(docLink);\n",
       "        }\n",
       "      </script>\n",
       "    </div>\n",
       "  </div>\n",
       "  "
      ],
      "text/plain": [
       "                  Open        High         Low       Close   Adj Close  \\\n",
       "Date                                                                     \n",
       "2010-01-04  628.109985  640.099976  628.109985  640.099976  640.099976   \n",
       "2010-01-05  639.690002  641.890015  635.950012  638.489990  638.489990   \n",
       "2010-01-06  638.289978  641.260010  636.400024  637.950012  637.950012   \n",
       "2010-01-07  638.109985  642.070007  632.739990  641.969971  641.969971   \n",
       "2010-01-08  640.340027  644.690002  639.559998  644.559998  644.559998   \n",
       "\n",
       "                Volume  \n",
       "Date                    \n",
       "2010-01-04  3991400000  \n",
       "2010-01-05  2491020000  \n",
       "2010-01-06  4972660000  \n",
       "2010-01-07  5270680000  \n",
       "2010-01-08  4389590000  "
      ]
     },
     "execution_count": 2,
     "metadata": {},
     "output_type": "execute_result"
    }
   ],
   "source": [
    "stock = '^RUT'\n",
    "data = yf.download(stock,'2010-01-01','2023-05-14')\n",
    "data.head()"
   ]
  },
  {
   "cell_type": "code",
   "execution_count": 3,
   "metadata": {
    "colab": {
     "base_uri": "https://localhost:8080/"
    },
    "id": "fLTUmMLFPahu",
    "outputId": "2aef7b82-dbda-40bb-d19c-2889b964d89d"
   },
   "outputs": [
    {
     "data": {
      "text/plain": [
       "Date\n",
       "2010-01-04     640.099976\n",
       "2010-01-05     638.489990\n",
       "2010-01-06     637.950012\n",
       "2010-01-07     641.969971\n",
       "2010-01-08     644.559998\n",
       "                 ...     \n",
       "2023-05-08    1754.469971\n",
       "2023-05-09    1749.680054\n",
       "2023-05-10    1759.510010\n",
       "2023-05-11    1744.709961\n",
       "2023-05-12    1740.849976\n",
       "Name: Close, Length: 3363, dtype: float64"
      ]
     },
     "execution_count": 3,
     "metadata": {},
     "output_type": "execute_result"
    }
   ],
   "source": [
    "price = data['Close']\n",
    "price"
   ]
  },
  {
   "cell_type": "code",
   "execution_count": 5,
   "metadata": {
    "colab": {
     "base_uri": "https://localhost:8080/",
     "height": 439
    },
    "id": "VTFV-V4GPg-K",
    "outputId": "a83c11b9-7a3c-4ff4-ac33-1cb0377334c7"
   },
   "outputs": [
    {
     "data": {
      "text/plain": [
       "<Axes: xlabel='Date'>"
      ]
     },
     "execution_count": 5,
     "metadata": {},
     "output_type": "execute_result"
    },
    {
     "data": {
      "image/png": "[encoded data removed]",
      "text/plain": [
       "<Figure size 640x480 with 1 Axes>"
      ]
     },
     "metadata": {},
     "output_type": "display_data"
    }
   ],
   "source": [
    "roll_max = data['Close'].rolling(len(price)-1,min_periods=1).max()\n",
    "daily_drawdown = data['Close']/roll_max - 1.0\n",
    "mdd = daily_drawdown.rolling(len(price)-1,min_periods=1).min()\n",
    "mdd.plot()\n"
   ]
  },
  {
   "cell_type": "code",
   "execution_count": 6,
   "metadata": {
    "colab": {
     "base_uri": "https://localhost:8080/"
    },
    "id": "pGsdVuPgPk1C",
    "outputId": "da6a8c4e-b215-4430-881d-cf825649bc6c"
   },
   "outputs": [
    {
     "name": "stdout",
     "output_type": "stream",
     "text": [
      "Maximum Drawdown is: -43.061325684645624 %\n"
     ]
    }
   ],
   "source": [
    "print(f\"Maximum Drawdown is: {mdd[-1]*100} %\")"
   ]
  },
  {
   "cell_type": "code",
   "execution_count": 7,
   "metadata": {
    "colab": {
     "base_uri": "https://localhost:8080/"
    },
    "id": "QJEPEUr1PuVN",
    "outputId": "4a0b3894-e83d-4b90-f18c-d1d140e2d266"
   },
   "outputs": [
    {
     "data": {
      "text/plain": [
       "array([ 0.        , -0.00251521, -0.00084571, ...,  0.00561814,\n",
       "       -0.00841146, -0.00221239])"
      ]
     },
     "execution_count": 7,
     "metadata": {},
     "output_type": "execute_result"
    }
   ],
   "source": [
    "returns = data['Close'].resample('D').ffill().pct_change().to_numpy()\n",
    "returns[0] = 0\n",
    "returns"
   ]
  },
  {
   "cell_type": "code",
   "execution_count": 8,
   "metadata": {
    "colab": {
     "base_uri": "https://localhost:8080/"
    },
    "id": "ONRKjouJP1Zh",
    "outputId": "039e4b7e-d69a-447b-c301-3cc24075789a"
   },
   "outputs": [
    {
     "data": {
      "text/plain": [
       "array([1.        , 0.99748479, 0.99664121, ..., 2.74880499, 2.72568353,\n",
       "       2.71965324])"
      ]
     },
     "execution_count": 8,
     "metadata": {},
     "output_type": "execute_result"
    }
   ],
   "source": [
    "cumulative_ret =( 1+returns).cumprod()\n",
    "cumulative_ret"
   ]
  },
  {
   "cell_type": "code",
   "execution_count": 9,
   "metadata": {
    "colab": {
     "base_uri": "https://localhost:8080/"
    },
    "id": "MnqgXENEP4F0",
    "outputId": "006c1ea1-d0db-445f-a5e3-05fdd9b2e4aa"
   },
   "outputs": [
    {
     "name": "stdout",
     "output_type": "stream",
     "text": [
      "Cumulative return is 271.9653244780073%\n"
     ]
    }
   ],
   "source": [
    "print(f\"Cumulative return is {cumulative_ret[-1]*100}%\")"
   ]
  },
  {
   "cell_type": "code",
   "execution_count": 10,
   "metadata": {
    "colab": {
     "base_uri": "https://localhost:8080/"
    },
    "id": "b6Br01JVP8eB",
    "outputId": "861b86dc-1dbe-4a07-9bb5-1ae02a647f4e"
   },
   "outputs": [
    {
     "data": {
      "text/plain": [
       "Date\n",
       "2010-12-31         NaN\n",
       "2011-12-31   -0.054527\n",
       "2012-12-31    0.146345\n",
       "2013-12-31    0.370036\n",
       "2014-12-31    0.035286\n",
       "2015-12-31   -0.057118\n",
       "2016-12-31    0.194772\n",
       "2017-12-31    0.131439\n",
       "2018-12-31   -0.121751\n",
       "2019-12-31    0.237223\n",
       "2020-12-31    0.183635\n",
       "2021-12-31    0.136946\n",
       "2022-12-31   -0.215587\n",
       "2023-12-31   -0.011583\n",
       "Freq: A-DEC, Name: Close, dtype: float64"
      ]
     },
     "execution_count": 10,
     "metadata": {},
     "output_type": "execute_result"
    }
   ],
   "source": [
    "yearly_returns = data['Close'].resample('Y').ffill().pct_change()\n",
    "yearly_returns"
   ]
  },
  {
   "cell_type": "code",
   "execution_count": 11,
   "metadata": {
    "colab": {
     "base_uri": "https://localhost:8080/"
    },
    "id": "hZ4rxEF0P_Gc",
    "outputId": "4b6d5c2f-b6a8-4d78-8bbd-674cd604b845"
   },
   "outputs": [
    {
     "data": {
      "text/plain": [
       "Date\n",
       "2010-01-31         NaN\n",
       "2010-02-28    0.044050\n",
       "2010-03-31    0.079674\n",
       "2010-04-30    0.055935\n",
       "2010-05-31   -0.076737\n",
       "                ...   \n",
       "2023-01-31    0.096914\n",
       "2023-02-28   -0.018091\n",
       "2023-03-31   -0.049821\n",
       "2023-04-30   -0.018580\n",
       "2023-05-31   -0.015907\n",
       "Freq: M, Name: Close, Length: 161, dtype: float64"
      ]
     },
     "execution_count": 11,
     "metadata": {},
     "output_type": "execute_result"
    }
   ],
   "source": [
    "monthly_returns = data['Close'].resample('M').ffill().pct_change()\n",
    "monthly_returns"
   ]
  },
  {
   "cell_type": "code",
   "execution_count": 16,
   "metadata": {
    "colab": {
     "base_uri": "https://localhost:8080/"
    },
    "id": "jv802gBoQBXe",
    "outputId": "e0ad8eab-b4e8-455a-921b-68549946c72d"
   },
   "outputs": [
    {
     "name": "stdout",
     "output_type": "stream",
     "text": [
      "Average yearly return is 7.500905122830439%\n"
     ]
    }
   ],
   "source": [
    "avg_yearly_return = yearly_returns.mean()\n",
    "print(f\"Average yearly return is {avg_yearly_return*100}%\")"
   ]
  },
  {
   "cell_type": "code",
   "execution_count": 17,
   "metadata": {
    "colab": {
     "base_uri": "https://localhost:8080/"
    },
    "id": "23pBPRFQQFAY",
    "outputId": "7c836f2c-8ba7-443c-c304-8d2d1f9997f8"
   },
   "outputs": [
    {
     "name": "stdout",
     "output_type": "stream",
     "text": [
      "Sharpe ratio is : 0.8922124866380131\n"
     ]
    }
   ],
   "source": [
    "sharpe_ratio = (avg_yearly_return - 0.07)/(monthly_returns.std())\n",
    "print(f\"Sharpe ratio is : {sharpe_ratio*10}\")"
   ]
  },
  {
   "cell_type": "code",
   "execution_count": 18,
   "metadata": {
    "colab": {
     "base_uri": "https://localhost:8080/"
    },
    "id": "R4Z15hY7QLx1",
    "outputId": "be895023-f5fa-432f-80ca-b1f7c795117d"
   },
   "outputs": [
    {
     "data": {
      "text/plain": [
       "Date\n",
       "2010-05-31   -0.076737\n",
       "2010-06-30   -0.078778\n",
       "2010-08-31   -0.075020\n",
       "2011-01-31   -0.003063\n",
       "2011-05-31   -0.019635\n",
       "                ...   \n",
       "2022-12-31   -0.066432\n",
       "2023-02-28   -0.018091\n",
       "2023-03-31   -0.049821\n",
       "2023-04-30   -0.018580\n",
       "2023-05-31   -0.015907\n",
       "Name: Close, Length: 62, dtype: float64"
      ]
     },
     "execution_count": 18,
     "metadata": {},
     "output_type": "execute_result"
    }
   ],
   "source": [
    "neg_monthly_returns = monthly_returns[monthly_returns < 0]\n",
    "neg_monthly_returns"
   ]
  },
  {
   "cell_type": "code",
   "execution_count": 19,
   "metadata": {
    "colab": {
     "base_uri": "https://localhost:8080/"
    },
    "id": "BYvSeX1jQV1G",
    "outputId": "0f0e886a-7955-4aa3-ddac-fd587fe0c9b8"
   },
   "outputs": [
    {
     "name": "stdout",
     "output_type": "stream",
     "text": [
      "Sortino Ratio: 1.2589239348539154\n"
     ]
    }
   ],
   "source": [
    "std_neg = neg_monthly_returns.std()\n",
    "sortino = ((avg_yearly_return - 0.07)*10.0)/std_neg\n",
    "print(f\"Sortino Ratio: {sortino}\")"
   ]
  },
  {
   "cell_type": "code",
   "execution_count": null,
   "metadata": {
    "id": "pM7QKZARQYdK"
   },
   "outputs": [],
   "source": []
  }
 ],
 "metadata": {
  "colab": {
   "provenance": []
  },
  "kernelspec": {
   "display_name": "Python 3 (ipykernel)",
   "language": "python",
   "name": "python3"
  },
  "language_info": {
   "codemirror_mode": {
    "name": "ipython",
    "version": 3
   },
   "file_extension": ".py",
   "mimetype": "text/x-python",
   "name": "python",
   "nbconvert_exporter": "python",
   "pygments_lexer": "ipython3",
   "version": "3.9.12"
  }
 },
 "nbformat": 4,
 "nbformat_minor": 1
}
