{
 "cells": [
  {
   "cell_type": "code",
   "execution_count": 20,
   "metadata": {
    "id": "jpOa9BAHPASQ"
   },
   "outputs": [],
   "source": [
    "import numpy as np\n",
    "import pandas as pd\n",
    "import yfinance as yf\n",
    "import matplotlib.pyplot as plt\n",
    "import seaborn as sns"
   ]
  },
  {
   "cell_type": "code",
   "execution_count": 21,
   "metadata": {
    "colab": {
     "base_uri": "https://localhost:8080/",
     "height": 255
    },
    "id": "PzMJY_XlPHrn",
    "outputId": "71cb31fb-a383-4771-eccd-5a2ffb9f2526"
   },
   "outputs": [
    {
     "name": "stdout",
     "output_type": "stream",
     "text": [
      "\r",
      "[*********************100%***********************]  1 of 1 completed\n"
     ]
    },
    {
     "data": {
      "text/html": [
       "\n",
       "  <div id=\"df-13500121-a174-46e6-b821-17315e413587\">\n",
       "    <div class=\"colab-df-container\">\n",
       "      <div>\n",
       "<style scoped>\n",
       "    .dataframe tbody tr th:only-of-type {\n",
       "        vertical-align: middle;\n",
       "    }\n",
       "\n",
       "    .dataframe tbody tr th {\n",
       "        vertical-align: top;\n",
       "    }\n",
       "\n",
       "    .dataframe thead th {\n",
       "        text-align: right;\n",
       "    }\n",
       "</style>\n",
       "<table border=\"1\" class=\"dataframe\">\n",
       "  <thead>\n",
       "    <tr style=\"text-align: right;\">\n",
       "      <th></th>\n",
       "      <th>Open</th>\n",
       "      <th>High</th>\n",
       "      <th>Low</th>\n",
       "      <th>Close</th>\n",
       "      <th>Adj Close</th>\n",
       "      <th>Volume</th>\n",
       "    </tr>\n",
       "    <tr>\n",
       "      <th>Date</th>\n",
       "      <th></th>\n",
       "      <th></th>\n",
       "      <th></th>\n",
       "      <th></th>\n",
       "      <th></th>\n",
       "      <th></th>\n",
       "    </tr>\n",
       "  </thead>\n",
       "  <tbody>\n",
       "    <tr>\n",
       "      <th>2010-01-04</th>\n",
       "      <td>5412.899902</td>\n",
       "      <td>5500.299805</td>\n",
       "      <td>5410.799805</td>\n",
       "      <td>5500.299805</td>\n",
       "      <td>5500.299805</td>\n",
       "      <td>750942000</td>\n",
       "    </tr>\n",
       "    <tr>\n",
       "      <th>2010-01-05</th>\n",
       "      <td>5500.299805</td>\n",
       "      <td>5536.399902</td>\n",
       "      <td>5480.700195</td>\n",
       "      <td>5522.500000</td>\n",
       "      <td>5522.500000</td>\n",
       "      <td>1149301200</td>\n",
       "    </tr>\n",
       "    <tr>\n",
       "      <th>2010-01-06</th>\n",
       "      <td>5522.500000</td>\n",
       "      <td>5536.500000</td>\n",
       "      <td>5497.700195</td>\n",
       "      <td>5530.000000</td>\n",
       "      <td>5530.000000</td>\n",
       "      <td>998295300</td>\n",
       "    </tr>\n",
       "    <tr>\n",
       "      <th>2010-01-07</th>\n",
       "      <td>5530.000000</td>\n",
       "      <td>5551.700195</td>\n",
       "      <td>5499.799805</td>\n",
       "      <td>5526.700195</td>\n",
       "      <td>5526.700195</td>\n",
       "      <td>1162933700</td>\n",
       "    </tr>\n",
       "    <tr>\n",
       "      <th>2010-01-08</th>\n",
       "      <td>5526.700195</td>\n",
       "      <td>5549.299805</td>\n",
       "      <td>5494.799805</td>\n",
       "      <td>5534.200195</td>\n",
       "      <td>5534.200195</td>\n",
       "      <td>1006420600</td>\n",
       "    </tr>\n",
       "  </tbody>\n",
       "</table>\n",
       "</div>\n",
       "      <button class=\"colab-df-convert\" onclick=\"convertToInteractive('df-13500121-a174-46e6-b821-17315e413587')\"\n",
       "              title=\"Convert this dataframe to an interactive table.\"\n",
       "              style=\"display:none;\">\n",
       "        \n",
       "  <svg xmlns=\"http://www.w3.org/2000/svg\" height=\"24px\"viewBox=\"0 0 24 24\"\n",
       "       width=\"24px\">\n",
       "    <path d=\"M0 0h24v24H0V0z\" fill=\"none\"/>\n",
       "    <path d=\"M18.56 5.44l.94 2.06.94-2.06 2.06-.94-2.06-.94-.94-2.06-.94 2.06-2.06.94zm-11 1L8.5 8.5l.94-2.06 2.06-.94-2.06-.94L8.5 2.5l-.94 2.06-2.06.94zm10 10l.94 2.06.94-2.06 2.06-.94-2.06-.94-.94-2.06-.94 2.06-2.06.94z\"/><path d=\"M17.41 7.96l-1.37-1.37c-.4-.4-.92-.59-1.43-.59-.52 0-1.04.2-1.43.59L10.3 9.45l-7.72 7.72c-.78.78-.78 2.05 0 2.83L4 21.41c.39.39.9.59 1.41.59.51 0 1.02-.2 1.41-.59l7.78-7.78 2.81-2.81c.8-.78.8-2.07 0-2.86zM5.41 20L4 18.59l7.72-7.72 1.47 1.35L5.41 20z\"/>\n",
       "  </svg>\n",
       "      </button>\n",
       "      \n",
       "  <style>\n",
       "    .colab-df-container {\n",
       "      display:flex;\n",
       "      flex-wrap:wrap;\n",
       "      gap: 12px;\n",
       "    }\n",
       "\n",
       "    .colab-df-convert {\n",
       "      background-color: #E8F0FE;\n",
       "      border: none;\n",
       "      border-radius: 50%;\n",
       "      cursor: pointer;\n",
       "      display: none;\n",
       "      fill: #1967D2;\n",
       "      height: 32px;\n",
       "      padding: 0 0 0 0;\n",
       "      width: 32px;\n",
       "    }\n",
       "\n",
       "    .colab-df-convert:hover {\n",
       "      background-color: #E2EBFA;\n",
       "      box-shadow: 0px 1px 2px rgba(60, 64, 67, 0.3), 0px 1px 3px 1px rgba(60, 64, 67, 0.15);\n",
       "      fill: #174EA6;\n",
       "    }\n",
       "\n",
       "    [theme=dark] .colab-df-convert {\n",
       "      background-color: #3B4455;\n",
       "      fill: #D2E3FC;\n",
       "    }\n",
       "\n",
       "    [theme=dark] .colab-df-convert:hover {\n",
       "      background-color: #434B5C;\n",
       "      box-shadow: 0px 1px 3px 1px rgba(0, 0, 0, 0.15);\n",
       "      filter: drop-shadow(0px 1px 2px rgba(0, 0, 0, 0.3));\n",
       "      fill: #FFFFFF;\n",
       "    }\n",
       "  </style>\n",
       "\n",
       "      <script>\n",
       "        const buttonEl =\n",
       "          document.querySelector('#df-13500121-a174-46e6-b821-17315e413587 button.colab-df-convert');\n",
       "        buttonEl.style.display =\n",
       "          google.colab.kernel.accessAllowed ? 'block' : 'none';\n",
       "\n",
       "        async function convertToInteractive(key) {\n",
       "          const element = document.querySelector('#df-13500121-a174-46e6-b821-17315e413587');\n",
       "          const dataTable =\n",
       "            await google.colab.kernel.invokeFunction('convertToInteractive',\n",
       "                                                     [key], {});\n",
       "          if (!dataTable) return;\n",
       "\n",
       "          const docLinkHtml = 'Like what you see? Visit the ' +\n",
       "            '<a target=\"_blank\" href=https://colab.research.google.com/notebooks/data_table.ipynb>data table notebook</a>'\n",
       "            + ' to learn more about interactive tables.';\n",
       "          element.innerHTML = '';\n",
       "          dataTable['output_type'] = 'display_data';\n",
       "          await google.colab.output.renderOutput(dataTable, element);\n",
       "          const docLink = document.createElement('div');\n",
       "          docLink.innerHTML = docLinkHtml;\n",
       "          element.appendChild(docLink);\n",
       "        }\n",
       "      </script>\n",
       "    </div>\n",
       "  </div>\n",
       "  "
      ],
      "text/plain": [
       "                   Open         High          Low        Close    Adj Close  \\\n",
       "Date                                                                          \n",
       "2010-01-04  5412.899902  5500.299805  5410.799805  5500.299805  5500.299805   \n",
       "2010-01-05  5500.299805  5536.399902  5480.700195  5522.500000  5522.500000   \n",
       "2010-01-06  5522.500000  5536.500000  5497.700195  5530.000000  5530.000000   \n",
       "2010-01-07  5530.000000  5551.700195  5499.799805  5526.700195  5526.700195   \n",
       "2010-01-08  5526.700195  5549.299805  5494.799805  5534.200195  5534.200195   \n",
       "\n",
       "                Volume  \n",
       "Date                    \n",
       "2010-01-04   750942000  \n",
       "2010-01-05  1149301200  \n",
       "2010-01-06   998295300  \n",
       "2010-01-07  1162933700  \n",
       "2010-01-08  1006420600  "
      ]
     },
     "execution_count": 21,
     "metadata": {},
     "output_type": "execute_result"
    }
   ],
   "source": [
    "stock = '^FTSE'\n",
    "data = yf.download(stock,'2010-01-01','2023-05-14')\n",
    "data.head()"
   ]
  },
  {
   "cell_type": "code",
   "execution_count": 22,
   "metadata": {
    "colab": {
     "base_uri": "https://localhost:8080/"
    },
    "id": "fLTUmMLFPahu",
    "outputId": "dbf92c8a-c7c7-4914-c1c5-aea98d32e3c3"
   },
   "outputs": [
    {
     "data": {
      "text/plain": [
       "Date\n",
       "2010-01-04    5500.299805\n",
       "2010-01-05    5522.500000\n",
       "2010-01-06    5530.000000\n",
       "2010-01-07    5526.700195\n",
       "2010-01-08    5534.200195\n",
       "                 ...     \n",
       "2023-05-05    7778.399902\n",
       "2023-05-09    7764.100098\n",
       "2023-05-10    7741.299805\n",
       "2023-05-11    7730.600098\n",
       "2023-05-12    7754.600098\n",
       "Name: Close, Length: 3371, dtype: float64"
      ]
     },
     "execution_count": 22,
     "metadata": {},
     "output_type": "execute_result"
    }
   ],
   "source": [
    "price = data['Close']\n",
    "price"
   ]
  },
  {
   "cell_type": "code",
   "execution_count": 23,
   "metadata": {
    "colab": {
     "base_uri": "https://localhost:8080/",
     "height": 439
    },
    "id": "VTFV-V4GPg-K",
    "outputId": "c994184f-eca1-4169-ed3a-7b1984828ce6"
   },
   "outputs": [
    {
     "data": {
      "text/plain": [
       "<Axes: xlabel='Date'>"
      ]
     },
     "execution_count": 23,
     "metadata": {},
     "output_type": "execute_result"
    },
    {
     "data": {
      "image/png": "[encoded data removed]",
      "text/plain": [
       "<Figure size 640x480 with 1 Axes>"
      ]
     },
     "metadata": {},
     "output_type": "display_data"
    }
   ],
   "source": [
    "roll_max = data['Close'].rolling(len(price)-1,min_periods=1).max()\n",
    "daily_drawdown = data['Close']/roll_max - 1.0\n",
    "mdd = daily_drawdown.rolling(len(price)-1,min_periods=1).min()\n",
    "mdd.plot()\n"
   ]
  },
  {
   "cell_type": "code",
   "execution_count": 24,
   "metadata": {
    "colab": {
     "base_uri": "https://localhost:8080/"
    },
    "id": "pGsdVuPgPk1C",
    "outputId": "6d73db1b-cbc8-49be-a329-3453315a4248"
   },
   "outputs": [
    {
     "name": "stdout",
     "output_type": "stream",
     "text": [
      "Maximum Drawdown is: -36.60552329617581 %\n"
     ]
    }
   ],
   "source": [
    "print(f\"Maximum Drawdown is: {mdd[-1]*100} %\")"
   ]
  },
  {
   "cell_type": "code",
   "execution_count": 25,
   "metadata": {
    "colab": {
     "base_uri": "https://localhost:8080/"
    },
    "id": "QJEPEUr1PuVN",
    "outputId": "3d19f15c-05f3-4e77-a792-90a9fff7b795"
   },
   "outputs": [
    {
     "data": {
      "text/plain": [
       "array([ 0.        ,  0.00403618,  0.00135808, ..., -0.00293663,\n",
       "       -0.00138216,  0.00310455])"
      ]
     },
     "execution_count": 25,
     "metadata": {},
     "output_type": "execute_result"
    }
   ],
   "source": [
    "returns = data['Close'].resample('D').ffill().pct_change().to_numpy()\n",
    "returns[0] = 0\n",
    "returns"
   ]
  },
  {
   "cell_type": "code",
   "execution_count": 26,
   "metadata": {
    "colab": {
     "base_uri": "https://localhost:8080/"
    },
    "id": "ONRKjouJP1Zh",
    "outputId": "8106afd3-12da-4919-ecaa-5e708ad94a69"
   },
   "outputs": [
    {
     "data": {
      "text/plain": [
       "array([1.        , 1.00403618, 1.00539974, ..., 1.40743234, 1.40548704,\n",
       "       1.40985044])"
      ]
     },
     "execution_count": 26,
     "metadata": {},
     "output_type": "execute_result"
    }
   ],
   "source": [
    "cumulative_ret =( 1+returns).cumprod()\n",
    "cumulative_ret"
   ]
  },
  {
   "cell_type": "code",
   "execution_count": 27,
   "metadata": {
    "colab": {
     "base_uri": "https://localhost:8080/"
    },
    "id": "MnqgXENEP4F0",
    "outputId": "162ab541-6f13-4bd5-ffae-d13197dda39f"
   },
   "outputs": [
    {
     "name": "stdout",
     "output_type": "stream",
     "text": [
      "Cumulative return is 140.98504396155946%\n"
     ]
    }
   ],
   "source": [
    "print(f\"Cumulative return is {cumulative_ret[-1]*100}%\")"
   ]
  },
  {
   "cell_type": "code",
   "execution_count": 28,
   "metadata": {
    "colab": {
     "base_uri": "https://localhost:8080/"
    },
    "id": "b6Br01JVP8eB",
    "outputId": "ea01aebc-1d12-4aef-ebe0-dbb7eafb31e4"
   },
   "outputs": [
    {
     "data": {
      "text/plain": [
       "Date\n",
       "2010-12-31         NaN\n",
       "2011-12-31   -0.055526\n",
       "2012-12-31    0.058414\n",
       "2013-12-31    0.144342\n",
       "2014-12-31   -0.027115\n",
       "2015-12-31   -0.049314\n",
       "2016-12-31    0.144258\n",
       "2017-12-31    0.076301\n",
       "2018-12-31   -0.124834\n",
       "2019-12-31    0.121030\n",
       "2020-12-31   -0.143442\n",
       "2021-12-31    0.143023\n",
       "2022-12-31    0.009100\n",
       "2023-12-31    0.040648\n",
       "Freq: A-DEC, Name: Close, dtype: float64"
      ]
     },
     "execution_count": 28,
     "metadata": {},
     "output_type": "execute_result"
    }
   ],
   "source": [
    "yearly_returns = data['Close'].resample('Y').ffill().pct_change()\n",
    "yearly_returns"
   ]
  },
  {
   "cell_type": "code",
   "execution_count": 29,
   "metadata": {
    "colab": {
     "base_uri": "https://localhost:8080/"
    },
    "id": "hZ4rxEF0P_Gc",
    "outputId": "8a6aaa5e-ee86-4343-b9c7-8f1bb0a137f7"
   },
   "outputs": [
    {
     "data": {
      "text/plain": [
       "Date\n",
       "2010-01-31         NaN\n",
       "2010-02-28    0.031994\n",
       "2010-03-31    0.060715\n",
       "2010-04-30   -0.022238\n",
       "2010-05-31   -0.065709\n",
       "                ...   \n",
       "2023-01-31    0.042943\n",
       "2023-02-28    0.013459\n",
       "2023-03-31   -0.031055\n",
       "2023-04-30    0.031304\n",
       "2023-05-31   -0.014738\n",
       "Freq: M, Name: Close, Length: 161, dtype: float64"
      ]
     },
     "execution_count": 29,
     "metadata": {},
     "output_type": "execute_result"
    }
   ],
   "source": [
    "monthly_returns = data['Close'].resample('M').ffill().pct_change()\n",
    "monthly_returns"
   ]
  },
  {
   "cell_type": "code",
   "execution_count": 30,
   "metadata": {
    "colab": {
     "base_uri": "https://localhost:8080/"
    },
    "id": "jv802gBoQBXe",
    "outputId": "3965394c-83d2-44e8-9131-788bbcc57e58"
   },
   "outputs": [
    {
     "name": "stdout",
     "output_type": "stream",
     "text": [
      "Average yearly return is 2.591415353825638%\n"
     ]
    }
   ],
   "source": [
    "avg_yearly_return = yearly_returns.mean()\n",
    "print(f\"Average yearly return is {avg_yearly_return*100}%\")"
   ]
  },
  {
   "cell_type": "code",
   "execution_count": 31,
   "metadata": {
    "colab": {
     "base_uri": "https://localhost:8080/"
    },
    "id": "23pBPRFQQFAY",
    "outputId": "8cdeb3fd-ca5e-4e33-cea8-023d54109749"
   },
   "outputs": [
    {
     "name": "stdout",
     "output_type": "stream",
     "text": [
      "Sharpe ratio is : -12.202848002204957\n"
     ]
    }
   ],
   "source": [
    "sharpe_ratio = (avg_yearly_return - 0.07)/(monthly_returns.std())\n",
    "print(f\"Sharpe ratio is : {sharpe_ratio*10}\")"
   ]
  },
  {
   "cell_type": "code",
   "execution_count": 32,
   "metadata": {
    "colab": {
     "base_uri": "https://localhost:8080/"
    },
    "id": "R4Z15hY7QLx1",
    "outputId": "2d8070e6-6e1a-4d51-fd3c-c8d8771acab3"
   },
   "outputs": [
    {
     "data": {
      "text/plain": [
       "Date\n",
       "2010-04-30   -0.022238\n",
       "2010-05-31   -0.065709\n",
       "2010-06-30   -0.052328\n",
       "2010-08-31   -0.006238\n",
       "2010-11-30   -0.025885\n",
       "                ...   \n",
       "2022-08-31   -0.018751\n",
       "2022-09-30   -0.053596\n",
       "2022-12-31   -0.016030\n",
       "2023-03-31   -0.031055\n",
       "2023-05-31   -0.014738\n",
       "Name: Close, Length: 68, dtype: float64"
      ]
     },
     "execution_count": 32,
     "metadata": {},
     "output_type": "execute_result"
    }
   ],
   "source": [
    "neg_monthly_returns = monthly_returns[monthly_returns < 0]\n",
    "neg_monthly_returns"
   ]
  },
  {
   "cell_type": "code",
   "execution_count": 33,
   "metadata": {
    "colab": {
     "base_uri": "https://localhost:8080/"
    },
    "id": "BYvSeX1jQV1G",
    "outputId": "fe370249-3ec3-4fc5-918b-5ea06bfee31e"
   },
   "outputs": [
    {
     "name": "stdout",
     "output_type": "stream",
     "text": [
      "Sortino Ratio: -17.756713527075334\n"
     ]
    }
   ],
   "source": [
    "std_neg = neg_monthly_returns.std()\n",
    "sortino = ((avg_yearly_return - 0.07)*10.0)/std_neg\n",
    "print(f\"Sortino Ratio: {sortino}\")"
   ]
  },
  {
   "cell_type": "code",
   "execution_count": 33,
   "metadata": {
    "id": "pM7QKZARQYdK"
   },
   "outputs": [],
   "source": []
  }
 ],
 "metadata": {
  "colab": {
   "provenance": []
  },
  "kernelspec": {
   "display_name": "Python 3 (ipykernel)",
   "language": "python",
   "name": "python3"
  },
  "language_info": {
   "codemirror_mode": {
    "name": "ipython",
    "version": 3
   },
   "file_extension": ".py",
   "mimetype": "text/x-python",
   "name": "python",
   "nbconvert_exporter": "python",
   "pygments_lexer": "ipython3",
   "version": "3.9.12"
  }
 },
 "nbformat": 4,
 "nbformat_minor": 1
}
