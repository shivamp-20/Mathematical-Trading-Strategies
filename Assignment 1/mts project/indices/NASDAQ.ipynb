{
  "nbformat": 4,
  "nbformat_minor": 0,
  "metadata": {
    "colab": {
      "provenance": []
    },
    "kernelspec": {
      "name": "python3",
      "display_name": "Python 3"
    },
    "language_info": {
      "name": "python"
    }
  },
  "cells": [
    {
      "cell_type": "code",
      "execution_count": 99,
      "metadata": {
        "id": "jpOa9BAHPASQ"
      },
      "outputs": [],
      "source": [
        "import numpy as np\n",
        "import pandas as pd\n",
        "import yfinance as yf\n",
        "import matplotlib.pyplot as plt\n",
        "import seaborn as sns"
      ]
    },
    {
      "cell_type": "code",
      "source": [
        "stock = '^IXIC'\n",
        "data = yf.download(stock,'2010-01-01','2023-05-14')\n",
        "data.head()"
      ],
      "metadata": {
        "colab": {
          "base_uri": "https://localhost:8080/",
          "height": 255
        },
        "id": "PzMJY_XlPHrn",
        "outputId": "18cb9b8d-f1da-40b6-8748-75c0ec9d3944"
      },
      "execution_count": 118,
      "outputs": [
        {
          "output_type": "stream",
          "name": "stdout",
          "text": [
            "\r[*********************100%***********************]  1 of 1 completed\n"
          ]
        },
        {
          "output_type": "execute_result",
          "data": {
            "text/plain": [
              "                   Open         High          Low        Close    Adj Close  \\\n",
              "Date                                                                          \n",
              "2010-01-04  2294.409912  2311.149902  2294.409912  2308.419922  2308.419922   \n",
              "2010-01-05  2307.270020  2313.729980  2295.620117  2308.709961  2308.709961   \n",
              "2010-01-06  2307.709961  2314.070068  2295.679932  2301.090088  2301.090088   \n",
              "2010-01-07  2298.090088  2301.300049  2285.219971  2300.050049  2300.050049   \n",
              "2010-01-08  2292.239990  2317.600098  2290.610107  2317.169922  2317.169922   \n",
              "\n",
              "                Volume  \n",
              "Date                    \n",
              "2010-01-04  1931380000  \n",
              "2010-01-05  2367860000  \n",
              "2010-01-06  2253340000  \n",
              "2010-01-07  2270050000  \n",
              "2010-01-08  2145390000  "
            ],
            "text/html": [
              "\n",
              "  <div id=\"df-c5916338-4dc9-4590-a58d-ca74f1ef98b3\">\n",
              "    <div class=\"colab-df-container\">\n",
              "      <div>\n",
              "<style scoped>\n",
              "    .dataframe tbody tr th:only-of-type {\n",
              "        vertical-align: middle;\n",
              "    }\n",
              "\n",
              "    .dataframe tbody tr th {\n",
              "        vertical-align: top;\n",
              "    }\n",
              "\n",
              "    .dataframe thead th {\n",
              "        text-align: right;\n",
              "    }\n",
              "</style>\n",
              "<table border=\"1\" class=\"dataframe\">\n",
              "  <thead>\n",
              "    <tr style=\"text-align: right;\">\n",
              "      <th></th>\n",
              "      <th>Open</th>\n",
              "      <th>High</th>\n",
              "      <th>Low</th>\n",
              "      <th>Close</th>\n",
              "      <th>Adj Close</th>\n",
              "      <th>Volume</th>\n",
              "    </tr>\n",
              "    <tr>\n",
              "      <th>Date</th>\n",
              "      <th></th>\n",
              "      <th></th>\n",
              "      <th></th>\n",
              "      <th></th>\n",
              "      <th></th>\n",
              "      <th></th>\n",
              "    </tr>\n",
              "  </thead>\n",
              "  <tbody>\n",
              "    <tr>\n",
              "      <th>2010-01-04</th>\n",
              "      <td>2294.409912</td>\n",
              "      <td>2311.149902</td>\n",
              "      <td>2294.409912</td>\n",
              "      <td>2308.419922</td>\n",
              "      <td>2308.419922</td>\n",
              "      <td>1931380000</td>\n",
              "    </tr>\n",
              "    <tr>\n",
              "      <th>2010-01-05</th>\n",
              "      <td>2307.270020</td>\n",
              "      <td>2313.729980</td>\n",
              "      <td>2295.620117</td>\n",
              "      <td>2308.709961</td>\n",
              "      <td>2308.709961</td>\n",
              "      <td>2367860000</td>\n",
              "    </tr>\n",
              "    <tr>\n",
              "      <th>2010-01-06</th>\n",
              "      <td>2307.709961</td>\n",
              "      <td>2314.070068</td>\n",
              "      <td>2295.679932</td>\n",
              "      <td>2301.090088</td>\n",
              "      <td>2301.090088</td>\n",
              "      <td>2253340000</td>\n",
              "    </tr>\n",
              "    <tr>\n",
              "      <th>2010-01-07</th>\n",
              "      <td>2298.090088</td>\n",
              "      <td>2301.300049</td>\n",
              "      <td>2285.219971</td>\n",
              "      <td>2300.050049</td>\n",
              "      <td>2300.050049</td>\n",
              "      <td>2270050000</td>\n",
              "    </tr>\n",
              "    <tr>\n",
              "      <th>2010-01-08</th>\n",
              "      <td>2292.239990</td>\n",
              "      <td>2317.600098</td>\n",
              "      <td>2290.610107</td>\n",
              "      <td>2317.169922</td>\n",
              "      <td>2317.169922</td>\n",
              "      <td>2145390000</td>\n",
              "    </tr>\n",
              "  </tbody>\n",
              "</table>\n",
              "</div>\n",
              "      <button class=\"colab-df-convert\" onclick=\"convertToInteractive('df-c5916338-4dc9-4590-a58d-ca74f1ef98b3')\"\n",
              "              title=\"Convert this dataframe to an interactive table.\"\n",
              "              style=\"display:none;\">\n",
              "        \n",
              "  <svg xmlns=\"http://www.w3.org/2000/svg\" height=\"24px\"viewBox=\"0 0 24 24\"\n",
              "       width=\"24px\">\n",
              "    <path d=\"M0 0h24v24H0V0z\" fill=\"none\"/>\n",
              "    <path d=\"M18.56 5.44l.94 2.06.94-2.06 2.06-.94-2.06-.94-.94-2.06-.94 2.06-2.06.94zm-11 1L8.5 8.5l.94-2.06 2.06-.94-2.06-.94L8.5 2.5l-.94 2.06-2.06.94zm10 10l.94 2.06.94-2.06 2.06-.94-2.06-.94-.94-2.06-.94 2.06-2.06.94z\"/><path d=\"M17.41 7.96l-1.37-1.37c-.4-.4-.92-.59-1.43-.59-.52 0-1.04.2-1.43.59L10.3 9.45l-7.72 7.72c-.78.78-.78 2.05 0 2.83L4 21.41c.39.39.9.59 1.41.59.51 0 1.02-.2 1.41-.59l7.78-7.78 2.81-2.81c.8-.78.8-2.07 0-2.86zM5.41 20L4 18.59l7.72-7.72 1.47 1.35L5.41 20z\"/>\n",
              "  </svg>\n",
              "      </button>\n",
              "      \n",
              "  <style>\n",
              "    .colab-df-container {\n",
              "      display:flex;\n",
              "      flex-wrap:wrap;\n",
              "      gap: 12px;\n",
              "    }\n",
              "\n",
              "    .colab-df-convert {\n",
              "      background-color: #E8F0FE;\n",
              "      border: none;\n",
              "      border-radius: 50%;\n",
              "      cursor: pointer;\n",
              "      display: none;\n",
              "      fill: #1967D2;\n",
              "      height: 32px;\n",
              "      padding: 0 0 0 0;\n",
              "      width: 32px;\n",
              "    }\n",
              "\n",
              "    .colab-df-convert:hover {\n",
              "      background-color: #E2EBFA;\n",
              "      box-shadow: 0px 1px 2px rgba(60, 64, 67, 0.3), 0px 1px 3px 1px rgba(60, 64, 67, 0.15);\n",
              "      fill: #174EA6;\n",
              "    }\n",
              "\n",
              "    [theme=dark] .colab-df-convert {\n",
              "      background-color: #3B4455;\n",
              "      fill: #D2E3FC;\n",
              "    }\n",
              "\n",
              "    [theme=dark] .colab-df-convert:hover {\n",
              "      background-color: #434B5C;\n",
              "      box-shadow: 0px 1px 3px 1px rgba(0, 0, 0, 0.15);\n",
              "      filter: drop-shadow(0px 1px 2px rgba(0, 0, 0, 0.3));\n",
              "      fill: #FFFFFF;\n",
              "    }\n",
              "  </style>\n",
              "\n",
              "      <script>\n",
              "        const buttonEl =\n",
              "          document.querySelector('#df-c5916338-4dc9-4590-a58d-ca74f1ef98b3 button.colab-df-convert');\n",
              "        buttonEl.style.display =\n",
              "          google.colab.kernel.accessAllowed ? 'block' : 'none';\n",
              "\n",
              "        async function convertToInteractive(key) {\n",
              "          const element = document.querySelector('#df-c5916338-4dc9-4590-a58d-ca74f1ef98b3');\n",
              "          const dataTable =\n",
              "            await google.colab.kernel.invokeFunction('convertToInteractive',\n",
              "                                                     [key], {});\n",
              "          if (!dataTable) return;\n",
              "\n",
              "          const docLinkHtml = 'Like what you see? Visit the ' +\n",
              "            '<a target=\"_blank\" href=https://colab.research.google.com/notebooks/data_table.ipynb>data table notebook</a>'\n",
              "            + ' to learn more about interactive tables.';\n",
              "          element.innerHTML = '';\n",
              "          dataTable['output_type'] = 'display_data';\n",
              "          await google.colab.output.renderOutput(dataTable, element);\n",
              "          const docLink = document.createElement('div');\n",
              "          docLink.innerHTML = docLinkHtml;\n",
              "          element.appendChild(docLink);\n",
              "        }\n",
              "      </script>\n",
              "    </div>\n",
              "  </div>\n",
              "  "
            ]
          },
          "metadata": {},
          "execution_count": 118
        }
      ]
    },
    {
      "cell_type": "code",
      "source": [
        "price = data['Close']\n",
        "price"
      ],
      "metadata": {
        "colab": {
          "base_uri": "https://localhost:8080/"
        },
        "id": "fLTUmMLFPahu",
        "outputId": "693a3b9c-a160-45b1-c2aa-347f0732026c"
      },
      "execution_count": 119,
      "outputs": [
        {
          "output_type": "execute_result",
          "data": {
            "text/plain": [
              "Date\n",
              "2010-01-04     2308.419922\n",
              "2010-01-05     2308.709961\n",
              "2010-01-06     2301.090088\n",
              "2010-01-07     2300.050049\n",
              "2010-01-08     2317.169922\n",
              "                  ...     \n",
              "2023-05-08    12256.919922\n",
              "2023-05-09    12179.549805\n",
              "2023-05-10    12306.440430\n",
              "2023-05-11    12328.509766\n",
              "2023-05-12    12284.740234\n",
              "Name: Close, Length: 3363, dtype: float64"
            ]
          },
          "metadata": {},
          "execution_count": 119
        }
      ]
    },
    {
      "cell_type": "code",
      "source": [
        "roll_max = data['Close'].rolling(len(price)-1,min_periods=1).max()\n",
        "daily_drawdown = data['Close']/roll_max - 1.0\n",
        "mdd = daily_drawdown.rolling(len(price)-1,min_periods=1).min()\n",
        "mdd.plot()\n"
      ],
      "metadata": {
        "colab": {
          "base_uri": "https://localhost:8080/",
          "height": 439
        },
        "id": "VTFV-V4GPg-K",
        "outputId": "a7e33449-4162-4d29-f4b4-c42a5f611a00"
      },
      "execution_count": 120,
      "outputs": [
        {
          "output_type": "execute_result",
          "data": {
            "text/plain": [
              "<Axes: xlabel='Date'>"
            ]
          },
          "metadata": {},
          "execution_count": 120
        },
        {
          "output_type": "display_data",
          "data": {
            "text/plain": [
              "<Figure size 640x480 with 1 Axes>"
            ],
            "image/png": "[encoded data removed]"
          },
          "metadata": {}
        }
      ]
    },
    {
      "cell_type": "code",
      "source": [
        "print(f\"Maximum Drawdown is: {mdd[-1]*100} %\")"
      ],
      "metadata": {
        "colab": {
          "base_uri": "https://localhost:8080/"
        },
        "id": "pGsdVuPgPk1C",
        "outputId": "d5841919-b4b0-4cff-c0a4-55f4b6be9385"
      },
      "execution_count": 121,
      "outputs": [
        {
          "output_type": "stream",
          "name": "stdout",
          "text": [
            "Maximum Drawdown is: -36.395279909120205 %\n"
          ]
        }
      ]
    },
    {
      "cell_type": "code",
      "source": [
        "returns = data['Close'].resample('D').ffill().pct_change().to_numpy()\n",
        "returns[0] = 0\n",
        "returns"
      ],
      "metadata": {
        "colab": {
          "base_uri": "https://localhost:8080/"
        },
        "id": "QJEPEUr1PuVN",
        "outputId": "12896c6d-d05a-44d6-bf15-bd80973ed520"
      },
      "execution_count": 122,
      "outputs": [
        {
          "output_type": "execute_result",
          "data": {
            "text/plain": [
              "array([ 0.        ,  0.00012564, -0.00330049, ...,  0.01041833,\n",
              "        0.00179332, -0.00355027])"
            ]
          },
          "metadata": {},
          "execution_count": 122
        }
      ]
    },
    {
      "cell_type": "code",
      "source": [
        "cumulative_ret =( 1+returns).cumprod()\n",
        "cumulative_ret"
      ],
      "metadata": {
        "colab": {
          "base_uri": "https://localhost:8080/"
        },
        "id": "ONRKjouJP1Zh",
        "outputId": "c1b85bd7-57fe-47a3-ed04-d2dca8bc12a0"
      },
      "execution_count": 123,
      "outputs": [
        {
          "output_type": "execute_result",
          "data": {
            "text/plain": [
              "array([1.        , 1.00012564, 0.99682474, ..., 5.33110996, 5.34067032,\n",
              "       5.3217095 ])"
            ]
          },
          "metadata": {},
          "execution_count": 123
        }
      ]
    },
    {
      "cell_type": "code",
      "source": [
        "print(f\"Cumulative return is {cumulative_ret[-1]*100}%\")"
      ],
      "metadata": {
        "colab": {
          "base_uri": "https://localhost:8080/"
        },
        "id": "MnqgXENEP4F0",
        "outputId": "3ccda609-9905-4516-a7c2-d9bb93d34434"
      },
      "execution_count": 124,
      "outputs": [
        {
          "output_type": "stream",
          "name": "stdout",
          "text": [
            "Cumulative return is 532.1709502661384%\n"
          ]
        }
      ]
    },
    {
      "cell_type": "code",
      "source": [
        "yearly_returns = data['Close'].resample('Y').ffill().pct_change()\n",
        "yearly_returns"
      ],
      "metadata": {
        "colab": {
          "base_uri": "https://localhost:8080/"
        },
        "id": "b6Br01JVP8eB",
        "outputId": "2111db24-e257-4f8c-9190-984dc27ecad1"
      },
      "execution_count": 125,
      "outputs": [
        {
          "output_type": "execute_result",
          "data": {
            "text/plain": [
              "Date\n",
              "2010-12-31         NaN\n",
              "2011-12-31   -0.017988\n",
              "2012-12-31    0.159054\n",
              "2013-12-31    0.383201\n",
              "2014-12-31    0.133951\n",
              "2015-12-31    0.057297\n",
              "2016-12-31    0.075031\n",
              "2017-12-31    0.282414\n",
              "2018-12-31   -0.038837\n",
              "2019-12-31    0.352256\n",
              "2020-12-31    0.436404\n",
              "2021-12-31    0.213891\n",
              "2022-12-31   -0.331000\n",
              "2023-12-31    0.173722\n",
              "Freq: A-DEC, Name: Close, dtype: float64"
            ]
          },
          "metadata": {},
          "execution_count": 125
        }
      ]
    },
    {
      "cell_type": "code",
      "source": [
        "monthly_returns = data['Close'].resample('M').ffill().pct_change()\n",
        "monthly_returns"
      ],
      "metadata": {
        "colab": {
          "base_uri": "https://localhost:8080/"
        },
        "id": "hZ4rxEF0P_Gc",
        "outputId": "82c9c3d5-3b7e-48ee-9efb-078697393f11"
      },
      "execution_count": 126,
      "outputs": [
        {
          "output_type": "execute_result",
          "data": {
            "text/plain": [
              "Date\n",
              "2010-01-31         NaN\n",
              "2010-02-28    0.042336\n",
              "2010-03-31    0.071350\n",
              "2010-04-30    0.026368\n",
              "2010-05-31   -0.082948\n",
              "                ...   \n",
              "2023-01-31    0.106824\n",
              "2023-02-28   -0.011136\n",
              "2023-03-31    0.066900\n",
              "2023-04-30    0.000382\n",
              "2023-05-31    0.004757\n",
              "Freq: M, Name: Close, Length: 161, dtype: float64"
            ]
          },
          "metadata": {},
          "execution_count": 126
        }
      ]
    },
    {
      "cell_type": "code",
      "source": [
        "avg_yearly_return = yearly_returns.mean()\n",
        "print(f\"Average yearly return is {avg_yearly_return*100}%\")"
      ],
      "metadata": {
        "colab": {
          "base_uri": "https://localhost:8080/"
        },
        "id": "jv802gBoQBXe",
        "outputId": "16364c6b-5a49-4b1d-e2f3-ecf311d0b9a1"
      },
      "execution_count": 127,
      "outputs": [
        {
          "output_type": "stream",
          "name": "stdout",
          "text": [
            "Average yearly return is 14.456898112080152%\n"
          ]
        }
      ]
    },
    {
      "cell_type": "code",
      "source": [
        "sharpe_ratio = (avg_yearly_return - 0.07)/(monthly_returns.std())\n",
        "print(f\"Sharpe ratio is : {sharpe_ratio*10}\")"
      ],
      "metadata": {
        "colab": {
          "base_uri": "https://localhost:8080/"
        },
        "id": "23pBPRFQQFAY",
        "outputId": "2825a7c4-111f-452d-8d8f-59e9b40a68a9"
      },
      "execution_count": 128,
      "outputs": [
        {
          "output_type": "stream",
          "name": "stdout",
          "text": [
            "Sharpe ratio is : 14.885050155553479\n"
          ]
        }
      ]
    },
    {
      "cell_type": "code",
      "source": [
        "neg_monthly_returns = monthly_returns[monthly_returns < 0]\n",
        "neg_monthly_returns"
      ],
      "metadata": {
        "colab": {
          "base_uri": "https://localhost:8080/"
        },
        "id": "R4Z15hY7QLx1",
        "outputId": "9494f591-4ce5-469e-e8be-5971e5c39db9"
      },
      "execution_count": 129,
      "outputs": [
        {
          "output_type": "execute_result",
          "data": {
            "text/plain": [
              "Date\n",
              "2010-05-31   -0.082948\n",
              "2010-06-30   -0.065484\n",
              "2010-08-31   -0.062390\n",
              "2010-11-30   -0.003661\n",
              "2011-03-31   -0.000431\n",
              "2011-05-31   -0.013308\n",
              "2011-06-30   -0.021790\n",
              "2011-07-31   -0.006180\n",
              "2011-08-31   -0.064186\n",
              "2011-09-30   -0.063602\n",
              "2011-11-30   -0.023867\n",
              "2011-12-31   -0.005797\n",
              "2012-04-30   -0.014624\n",
              "2012-05-31   -0.071896\n",
              "2012-10-31   -0.044605\n",
              "2013-06-30   -0.015238\n",
              "2013-08-31   -0.010065\n",
              "2014-01-31   -0.017409\n",
              "2014-03-31   -0.025331\n",
              "2014-04-30   -0.020107\n",
              "2014-07-31   -0.008713\n",
              "2014-09-30   -0.018968\n",
              "2014-12-31   -0.011599\n",
              "2015-01-31   -0.021286\n",
              "2015-03-31   -0.012622\n",
              "2015-06-30   -0.016402\n",
              "2015-08-31   -0.068594\n",
              "2015-09-30   -0.032733\n",
              "2015-12-31   -0.019821\n",
              "2016-01-31   -0.078576\n",
              "2016-02-29   -0.012137\n",
              "2016-04-30   -0.019403\n",
              "2016-06-30   -0.021297\n",
              "2016-10-31   -0.023129\n",
              "2017-06-30   -0.009373\n",
              "2018-02-28   -0.018683\n",
              "2018-03-31   -0.028813\n",
              "2018-09-30   -0.007792\n",
              "2018-10-31   -0.092023\n",
              "2018-12-31   -0.094844\n",
              "2019-05-31   -0.079334\n",
              "2019-08-31   -0.025997\n",
              "2020-02-29   -0.063772\n",
              "2020-03-31   -0.101229\n",
              "2020-09-30   -0.051629\n",
              "2020-10-31   -0.022916\n",
              "2021-05-31   -0.015322\n",
              "2021-09-30   -0.053126\n",
              "2022-01-31   -0.089811\n",
              "2022-02-28   -0.034304\n",
              "2022-04-30   -0.132617\n",
              "2022-05-31   -0.020532\n",
              "2022-06-30   -0.087130\n",
              "2022-08-31   -0.046365\n",
              "2022-09-30   -0.104990\n",
              "2022-12-31   -0.087332\n",
              "2023-02-28   -0.011136\n",
              "Name: Close, dtype: float64"
            ]
          },
          "metadata": {},
          "execution_count": 129
        }
      ]
    },
    {
      "cell_type": "code",
      "source": [
        "std_neg = neg_monthly_returns.std()\n",
        "sortino = ((avg_yearly_return - 0.07)*10.0)/std_neg\n",
        "print(f\"Sortino Ratio: {sortino}\")"
      ],
      "metadata": {
        "colab": {
          "base_uri": "https://localhost:8080/"
        },
        "id": "BYvSeX1jQV1G",
        "outputId": "7e0d00eb-8bf1-4a86-93c4-e3724c07d592"
      },
      "execution_count": 130,
      "outputs": [
        {
          "output_type": "stream",
          "name": "stdout",
          "text": [
            "Sortino Ratio: 22.780506212674666\n"
          ]
        }
      ]
    },
    {
      "cell_type": "code",
      "source": [],
      "metadata": {
        "id": "pM7QKZARQYdK"
      },
      "execution_count": 117,
      "outputs": []
    }
  ]
}