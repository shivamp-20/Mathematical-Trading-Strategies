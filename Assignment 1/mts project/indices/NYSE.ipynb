{
  "nbformat": 4,
  "nbformat_minor": 0,
  "metadata": {
    "colab": {
      "provenance": []
    },
    "kernelspec": {
      "name": "python3",
      "display_name": "Python 3"
    },
    "language_info": {
      "name": "python"
    }
  },
  "cells": [
    {
      "cell_type": "code",
      "execution_count": 131,
      "metadata": {
        "id": "jpOa9BAHPASQ"
      },
      "outputs": [],
      "source": [
        "import numpy as np\n",
        "import pandas as pd\n",
        "import yfinance as yf\n",
        "import matplotlib.pyplot as plt\n",
        "import seaborn as sns"
      ]
    },
    {
      "cell_type": "code",
      "source": [
        "stock = '^NYA'\n",
        "data = yf.download(stock,'2010-01-01','2023-05-14')\n",
        "data.head()"
      ],
      "metadata": {
        "colab": {
          "base_uri": "https://localhost:8080/",
          "height": 255
        },
        "id": "PzMJY_XlPHrn",
        "outputId": "175f9cd7-ae79-4087-f620-22fec187f890"
      },
      "execution_count": 132,
      "outputs": [
        {
          "output_type": "stream",
          "name": "stdout",
          "text": [
            "\r[*********************100%***********************]  1 of 1 completed\n"
          ]
        },
        {
          "output_type": "execute_result",
          "data": {
            "text/plain": [
              "                   Open         High          Low        Close    Adj Close  \\\n",
              "Date                                                                          \n",
              "2010-01-04  7184.979980  7331.120117  7184.979980  7326.740234  7326.740234   \n",
              "2010-01-05  7326.740234  7359.459961  7313.600098  7354.870117  7354.870117   \n",
              "2010-01-06  7354.850098  7389.279785  7342.490234  7377.700195  7377.700195   \n",
              "2010-01-07  7377.700195  7398.209961  7325.509766  7393.930176  7393.930176   \n",
              "2010-01-08  7393.930176  7426.410156  7367.810059  7425.350098  7425.350098   \n",
              "\n",
              "                Volume  \n",
              "Date                    \n",
              "2010-01-04  3991400000  \n",
              "2010-01-05  2491020000  \n",
              "2010-01-06  4972660000  \n",
              "2010-01-07  5270680000  \n",
              "2010-01-08  4389590000  "
            ],
            "text/html": [
              "\n",
              "  <div id=\"df-b002edca-4e8a-4a57-ac4f-162cab798cea\">\n",
              "    <div class=\"colab-df-container\">\n",
              "      <div>\n",
              "<style scoped>\n",
              "    .dataframe tbody tr th:only-of-type {\n",
              "        vertical-align: middle;\n",
              "    }\n",
              "\n",
              "    .dataframe tbody tr th {\n",
              "        vertical-align: top;\n",
              "    }\n",
              "\n",
              "    .dataframe thead th {\n",
              "        text-align: right;\n",
              "    }\n",
              "</style>\n",
              "<table border=\"1\" class=\"dataframe\">\n",
              "  <thead>\n",
              "    <tr style=\"text-align: right;\">\n",
              "      <th></th>\n",
              "      <th>Open</th>\n",
              "      <th>High</th>\n",
              "      <th>Low</th>\n",
              "      <th>Close</th>\n",
              "      <th>Adj Close</th>\n",
              "      <th>Volume</th>\n",
              "    </tr>\n",
              "    <tr>\n",
              "      <th>Date</th>\n",
              "      <th></th>\n",
              "      <th></th>\n",
              "      <th></th>\n",
              "      <th></th>\n",
              "      <th></th>\n",
              "      <th></th>\n",
              "    </tr>\n",
              "  </thead>\n",
              "  <tbody>\n",
              "    <tr>\n",
              "      <th>2010-01-04</th>\n",
              "      <td>7184.979980</td>\n",
              "      <td>7331.120117</td>\n",
              "      <td>7184.979980</td>\n",
              "      <td>7326.740234</td>\n",
              "      <td>7326.740234</td>\n",
              "      <td>3991400000</td>\n",
              "    </tr>\n",
              "    <tr>\n",
              "      <th>2010-01-05</th>\n",
              "      <td>7326.740234</td>\n",
              "      <td>7359.459961</td>\n",
              "      <td>7313.600098</td>\n",
              "      <td>7354.870117</td>\n",
              "      <td>7354.870117</td>\n",
              "      <td>2491020000</td>\n",
              "    </tr>\n",
              "    <tr>\n",
              "      <th>2010-01-06</th>\n",
              "      <td>7354.850098</td>\n",
              "      <td>7389.279785</td>\n",
              "      <td>7342.490234</td>\n",
              "      <td>7377.700195</td>\n",
              "      <td>7377.700195</td>\n",
              "      <td>4972660000</td>\n",
              "    </tr>\n",
              "    <tr>\n",
              "      <th>2010-01-07</th>\n",
              "      <td>7377.700195</td>\n",
              "      <td>7398.209961</td>\n",
              "      <td>7325.509766</td>\n",
              "      <td>7393.930176</td>\n",
              "      <td>7393.930176</td>\n",
              "      <td>5270680000</td>\n",
              "    </tr>\n",
              "    <tr>\n",
              "      <th>2010-01-08</th>\n",
              "      <td>7393.930176</td>\n",
              "      <td>7426.410156</td>\n",
              "      <td>7367.810059</td>\n",
              "      <td>7425.350098</td>\n",
              "      <td>7425.350098</td>\n",
              "      <td>4389590000</td>\n",
              "    </tr>\n",
              "  </tbody>\n",
              "</table>\n",
              "</div>\n",
              "      <button class=\"colab-df-convert\" onclick=\"convertToInteractive('df-b002edca-4e8a-4a57-ac4f-162cab798cea')\"\n",
              "              title=\"Convert this dataframe to an interactive table.\"\n",
              "              style=\"display:none;\">\n",
              "        \n",
              "  <svg xmlns=\"http://www.w3.org/2000/svg\" height=\"24px\"viewBox=\"0 0 24 24\"\n",
              "       width=\"24px\">\n",
              "    <path d=\"M0 0h24v24H0V0z\" fill=\"none\"/>\n",
              "    <path d=\"M18.56 5.44l.94 2.06.94-2.06 2.06-.94-2.06-.94-.94-2.06-.94 2.06-2.06.94zm-11 1L8.5 8.5l.94-2.06 2.06-.94-2.06-.94L8.5 2.5l-.94 2.06-2.06.94zm10 10l.94 2.06.94-2.06 2.06-.94-2.06-.94-.94-2.06-.94 2.06-2.06.94z\"/><path d=\"M17.41 7.96l-1.37-1.37c-.4-.4-.92-.59-1.43-.59-.52 0-1.04.2-1.43.59L10.3 9.45l-7.72 7.72c-.78.78-.78 2.05 0 2.83L4 21.41c.39.39.9.59 1.41.59.51 0 1.02-.2 1.41-.59l7.78-7.78 2.81-2.81c.8-.78.8-2.07 0-2.86zM5.41 20L4 18.59l7.72-7.72 1.47 1.35L5.41 20z\"/>\n",
              "  </svg>\n",
              "      </button>\n",
              "      \n",
              "  <style>\n",
              "    .colab-df-container {\n",
              "      display:flex;\n",
              "      flex-wrap:wrap;\n",
              "      gap: 12px;\n",
              "    }\n",
              "\n",
              "    .colab-df-convert {\n",
              "      background-color: #E8F0FE;\n",
              "      border: none;\n",
              "      border-radius: 50%;\n",
              "      cursor: pointer;\n",
              "      display: none;\n",
              "      fill: #1967D2;\n",
              "      height: 32px;\n",
              "      padding: 0 0 0 0;\n",
              "      width: 32px;\n",
              "    }\n",
              "\n",
              "    .colab-df-convert:hover {\n",
              "      background-color: #E2EBFA;\n",
              "      box-shadow: 0px 1px 2px rgba(60, 64, 67, 0.3), 0px 1px 3px 1px rgba(60, 64, 67, 0.15);\n",
              "      fill: #174EA6;\n",
              "    }\n",
              "\n",
              "    [theme=dark] .colab-df-convert {\n",
              "      background-color: #3B4455;\n",
              "      fill: #D2E3FC;\n",
              "    }\n",
              "\n",
              "    [theme=dark] .colab-df-convert:hover {\n",
              "      background-color: #434B5C;\n",
              "      box-shadow: 0px 1px 3px 1px rgba(0, 0, 0, 0.15);\n",
              "      filter: drop-shadow(0px 1px 2px rgba(0, 0, 0, 0.3));\n",
              "      fill: #FFFFFF;\n",
              "    }\n",
              "  </style>\n",
              "\n",
              "      <script>\n",
              "        const buttonEl =\n",
              "          document.querySelector('#df-b002edca-4e8a-4a57-ac4f-162cab798cea button.colab-df-convert');\n",
              "        buttonEl.style.display =\n",
              "          google.colab.kernel.accessAllowed ? 'block' : 'none';\n",
              "\n",
              "        async function convertToInteractive(key) {\n",
              "          const element = document.querySelector('#df-b002edca-4e8a-4a57-ac4f-162cab798cea');\n",
              "          const dataTable =\n",
              "            await google.colab.kernel.invokeFunction('convertToInteractive',\n",
              "                                                     [key], {});\n",
              "          if (!dataTable) return;\n",
              "\n",
              "          const docLinkHtml = 'Like what you see? Visit the ' +\n",
              "            '<a target=\"_blank\" href=https://colab.research.google.com/notebooks/data_table.ipynb>data table notebook</a>'\n",
              "            + ' to learn more about interactive tables.';\n",
              "          element.innerHTML = '';\n",
              "          dataTable['output_type'] = 'display_data';\n",
              "          await google.colab.output.renderOutput(dataTable, element);\n",
              "          const docLink = document.createElement('div');\n",
              "          docLink.innerHTML = docLinkHtml;\n",
              "          element.appendChild(docLink);\n",
              "        }\n",
              "      </script>\n",
              "    </div>\n",
              "  </div>\n",
              "  "
            ]
          },
          "metadata": {},
          "execution_count": 132
        }
      ]
    },
    {
      "cell_type": "code",
      "source": [
        "price = data['Close']\n",
        "price"
      ],
      "metadata": {
        "colab": {
          "base_uri": "https://localhost:8080/"
        },
        "id": "fLTUmMLFPahu",
        "outputId": "aac60ca5-8753-4c2f-b3a7-be9abe910564"
      },
      "execution_count": 133,
      "outputs": [
        {
          "output_type": "execute_result",
          "data": {
            "text/plain": [
              "Date\n",
              "2010-01-04     7326.740234\n",
              "2010-01-05     7354.870117\n",
              "2010-01-06     7377.700195\n",
              "2010-01-07     7393.930176\n",
              "2010-01-08     7425.350098\n",
              "                  ...     \n",
              "2023-05-08    15391.269531\n",
              "2023-05-09    15352.809570\n",
              "2023-05-10    15349.169922\n",
              "2023-05-11    15263.070312\n",
              "2023-05-12    15246.360352\n",
              "Name: Close, Length: 3363, dtype: float64"
            ]
          },
          "metadata": {},
          "execution_count": 133
        }
      ]
    },
    {
      "cell_type": "code",
      "source": [
        "roll_max = data['Close'].rolling(len(price)-1,min_periods=1).max()\n",
        "daily_drawdown = data['Close']/roll_max - 1.0\n",
        "mdd = daily_drawdown.rolling(len(price)-1,min_periods=1).min()\n",
        "mdd.plot()\n"
      ],
      "metadata": {
        "colab": {
          "base_uri": "https://localhost:8080/",
          "height": 439
        },
        "id": "VTFV-V4GPg-K",
        "outputId": "24a69df0-7c73-45b4-e0dd-76a7d7338035"
      },
      "execution_count": 134,
      "outputs": [
        {
          "output_type": "execute_result",
          "data": {
            "text/plain": [
              "<Axes: xlabel='Date'>"
            ]
          },
          "metadata": {},
          "execution_count": 134
        },
        {
          "output_type": "display_data",
          "data": {
            "text/plain": [
              "<Figure size 640x480 with 1 Axes>"
            ],
            "image/png": "[encoded data removed]"
          },
          "metadata": {}
        }
      ]
    },
    {
      "cell_type": "code",
      "source": [
        "print(f\"Maximum Drawdown is: {mdd[-1]*100} %\")"
      ],
      "metadata": {
        "colab": {
          "base_uri": "https://localhost:8080/"
        },
        "id": "pGsdVuPgPk1C",
        "outputId": "2f8b47ac-240e-4468-c5bc-a513d346bf5c"
      },
      "execution_count": 135,
      "outputs": [
        {
          "output_type": "stream",
          "name": "stdout",
          "text": [
            "Maximum Drawdown is: -38.114249520969224 %\n"
          ]
        }
      ]
    },
    {
      "cell_type": "code",
      "source": [
        "returns = data['Close'].resample('D').ffill().pct_change().to_numpy()\n",
        "returns[0] = 0\n",
        "returns"
      ],
      "metadata": {
        "colab": {
          "base_uri": "https://localhost:8080/"
        },
        "id": "QJEPEUr1PuVN",
        "outputId": "d08b8755-eff8-47c3-a65a-3dcce63efc2e"
      },
      "execution_count": 136,
      "outputs": [
        {
          "output_type": "execute_result",
          "data": {
            "text/plain": [
              "array([ 0.        ,  0.00383934,  0.00310408, ..., -0.00023707,\n",
              "       -0.0056094 , -0.0010948 ])"
            ]
          },
          "metadata": {},
          "execution_count": 136
        }
      ]
    },
    {
      "cell_type": "code",
      "source": [
        "cumulative_ret =( 1+returns).cumprod()\n",
        "cumulative_ret"
      ],
      "metadata": {
        "colab": {
          "base_uri": "https://localhost:8080/"
        },
        "id": "ONRKjouJP1Zh",
        "outputId": "93e463d0-3225-4ff0-94b7-51aff06b502e"
      },
      "execution_count": 137,
      "outputs": [
        {
          "output_type": "execute_result",
          "data": {
            "text/plain": [
              "array([1.        , 1.00383934, 1.00695534, ..., 2.09495211, 2.08320069,\n",
              "       2.08092001])"
            ]
          },
          "metadata": {},
          "execution_count": 137
        }
      ]
    },
    {
      "cell_type": "code",
      "source": [
        "print(f\"Cumulative return is {cumulative_ret[-1]*100}%\")"
      ],
      "metadata": {
        "colab": {
          "base_uri": "https://localhost:8080/"
        },
        "id": "MnqgXENEP4F0",
        "outputId": "ed77546a-218d-4ca8-b049-a812b7a9448d"
      },
      "execution_count": 138,
      "outputs": [
        {
          "output_type": "stream",
          "name": "stdout",
          "text": [
            "Cumulative return is 208.09200086050305%\n"
          ]
        }
      ]
    },
    {
      "cell_type": "code",
      "source": [
        "yearly_returns = data['Close'].resample('Y').ffill().pct_change()\n",
        "yearly_returns"
      ],
      "metadata": {
        "colab": {
          "base_uri": "https://localhost:8080/"
        },
        "id": "b6Br01JVP8eB",
        "outputId": "d522288c-c207-48b9-aeae-5f19eb7fb4ac"
      },
      "execution_count": 139,
      "outputs": [
        {
          "output_type": "execute_result",
          "data": {
            "text/plain": [
              "Date\n",
              "2010-12-31         NaN\n",
              "2011-12-31   -0.061149\n",
              "2012-12-31    0.129260\n",
              "2013-12-31    0.231753\n",
              "2014-12-31    0.042203\n",
              "2015-12-31   -0.064195\n",
              "2016-12-31    0.090056\n",
              "2017-12-31    0.158448\n",
              "2018-12-31   -0.111989\n",
              "2019-12-31    0.223189\n",
              "2020-12-31    0.043971\n",
              "2021-12-31    0.181712\n",
              "2022-12-31   -0.115346\n",
              "2023-12-31    0.004087\n",
              "Freq: A-DEC, Name: Close, dtype: float64"
            ]
          },
          "metadata": {},
          "execution_count": 139
        }
      ]
    },
    {
      "cell_type": "code",
      "source": [
        "monthly_returns = data['Close'].resample('M').ffill().pct_change()\n",
        "monthly_returns"
      ],
      "metadata": {
        "colab": {
          "base_uri": "https://localhost:8080/"
        },
        "id": "hZ4rxEF0P_Gc",
        "outputId": "c8cb685e-9e09-4c24-ee7c-2a3d825c894c"
      },
      "execution_count": 140,
      "outputs": [
        {
          "output_type": "execute_result",
          "data": {
            "text/plain": [
              "Date\n",
              "2010-01-31         NaN\n",
              "2010-02-28    0.021973\n",
              "2010-03-31    0.058672\n",
              "2010-04-30    0.003572\n",
              "2010-05-31   -0.091356\n",
              "                ...   \n",
              "2023-01-31    0.056116\n",
              "2023-02-28   -0.037878\n",
              "2023-03-31   -0.003504\n",
              "2023-04-30    0.011120\n",
              "2023-05-31   -0.019267\n",
              "Freq: M, Name: Close, Length: 161, dtype: float64"
            ]
          },
          "metadata": {},
          "execution_count": 140
        }
      ]
    },
    {
      "cell_type": "code",
      "source": [
        "avg_yearly_return = yearly_returns.mean()\n",
        "print(f\"Average yearly return is {avg_yearly_return*100}%\")"
      ],
      "metadata": {
        "colab": {
          "base_uri": "https://localhost:8080/"
        },
        "id": "jv802gBoQBXe",
        "outputId": "41fd1377-63e4-44bd-e4d3-9f2f61d76b4e"
      },
      "execution_count": 141,
      "outputs": [
        {
          "output_type": "stream",
          "name": "stdout",
          "text": [
            "Average yearly return is 5.784611772076009%\n"
          ]
        }
      ]
    },
    {
      "cell_type": "code",
      "source": [
        "sharpe_ratio = (avg_yearly_return - 0.07)/(monthly_returns.std())\n",
        "print(f\"Sharpe ratio is : {sharpe_ratio*10}\")"
      ],
      "metadata": {
        "colab": {
          "base_uri": "https://localhost:8080/"
        },
        "id": "23pBPRFQQFAY",
        "outputId": "545fc0ab-89d5-49ab-b227-c394639756c0"
      },
      "execution_count": 142,
      "outputs": [
        {
          "output_type": "stream",
          "name": "stdout",
          "text": [
            "Sharpe ratio is : -2.8204517986714577\n"
          ]
        }
      ]
    },
    {
      "cell_type": "code",
      "source": [
        "neg_monthly_returns = monthly_returns[monthly_returns < 0]\n",
        "neg_monthly_returns"
      ],
      "metadata": {
        "colab": {
          "base_uri": "https://localhost:8080/"
        },
        "id": "R4Z15hY7QLx1",
        "outputId": "f2f63ded-a3e6-4c3f-df79-65c8af446eef"
      },
      "execution_count": 143,
      "outputs": [
        {
          "output_type": "execute_result",
          "data": {
            "text/plain": [
              "Date\n",
              "2010-05-31   -0.091356\n",
              "2010-06-30   -0.047400\n",
              "2010-08-31   -0.042126\n",
              "2010-11-30   -0.010968\n",
              "2011-03-31   -0.003978\n",
              "                ...   \n",
              "2022-09-30   -0.089794\n",
              "2022-12-31   -0.037751\n",
              "2023-02-28   -0.037878\n",
              "2023-03-31   -0.003504\n",
              "2023-05-31   -0.019267\n",
              "Name: Close, Length: 62, dtype: float64"
            ]
          },
          "metadata": {},
          "execution_count": 143
        }
      ]
    },
    {
      "cell_type": "code",
      "source": [
        "std_neg = neg_monthly_returns.std()\n",
        "sortino = ((avg_yearly_return - 0.07)*10.0)/std_neg\n",
        "print(f\"Sortino Ratio: {sortino}\")"
      ],
      "metadata": {
        "colab": {
          "base_uri": "https://localhost:8080/"
        },
        "id": "BYvSeX1jQV1G",
        "outputId": "cfe0a1e6-b52b-485c-befe-cbc703f37097"
      },
      "execution_count": 144,
      "outputs": [
        {
          "output_type": "stream",
          "name": "stdout",
          "text": [
            "Sortino Ratio: -3.7914402975458357\n"
          ]
        }
      ]
    },
    {
      "cell_type": "code",
      "source": [],
      "metadata": {
        "id": "pM7QKZARQYdK"
      },
      "execution_count": 117,
      "outputs": []
    }
  ]
}