{
 "cells": [
  {
   "cell_type": "code",
   "execution_count": 12,
   "id": "42ff64c8",
   "metadata": {},
   "outputs": [],
   "source": [
    "import yfinance as yf\n",
    "import numpy as np"
   ]
  },
  {
   "cell_type": "code",
   "execution_count": 22,
   "id": "2f24f889",
   "metadata": {},
   "outputs": [],
   "source": [
    "indices = [\"^N225\", \"^IXIC\", \"^GDAXI\", \"^FTSE\", \"^DJI\"]\n",
    "equities = [\"AAPL\", \"MSFT\", \"GOOGL\", \"AMZN\", \"TSLA\"]"
   ]
  },
  {
   "cell_type": "code",
   "execution_count": 23,
   "id": "c910bd26",
   "metadata": {},
   "outputs": [],
   "source": [
    "start_date = \"2010-01-01\"\n",
    "end_date = \"2023-05-19\""
   ]
  },
  {
   "cell_type": "code",
   "execution_count": 24,
   "id": "761c0cf2",
   "metadata": {},
   "outputs": [
    {
     "name": "stdout",
     "output_type": "stream",
     "text": [
      "[*********************100%***********************]  1 of 1 completed\n",
      "[*********************100%***********************]  1 of 1 completed\n",
      "[*********************100%***********************]  1 of 1 completed\n",
      "[*********************100%***********************]  1 of 1 completed\n",
      "[*********************100%***********************]  1 of 1 completed\n"
     ]
    }
   ],
   "source": [
    "data = {}\n",
    "for index in indices:\n",
    "  data[index] = yf.download(index, start_date, end_date)\n"
   ]
  },
  {
   "cell_type": "code",
   "execution_count": 25,
   "id": "01fac94f",
   "metadata": {},
   "outputs": [],
   "source": [
    "daily_returns = {}\n",
    "for key, value in data.items():\n",
    "  daily_returns[key] = value[\"Adj Close\"].pct_change()"
   ]
  },
  {
   "cell_type": "code",
   "execution_count": 26,
   "id": "4695ce82",
   "metadata": {},
   "outputs": [],
   "source": [
    "cumulative_returns = {}\n",
    "for key, value in daily_returns.items():\n",
    "  cumulative_returns[key] = value.cumprod()"
   ]
  },
  {
   "cell_type": "code",
   "execution_count": 27,
   "id": "c9a224b2",
   "metadata": {},
   "outputs": [],
   "source": [
    "max_drawdowns = {}\n",
    "for key, value in cumulative_returns.items():\n",
    "  max_drawdowns[key] = value.min() - value.max()"
   ]
  },
  {
   "cell_type": "code",
   "execution_count": 28,
   "id": "afdd9b83",
   "metadata": {},
   "outputs": [],
   "source": [
    "sharpe_ratios = {}\n",
    "for key, value in daily_returns.items():\n",
    "  sharpe_ratios[key] = (value.mean() / value.std()) * np.sqrt(252)"
   ]
  },
  {
   "cell_type": "code",
   "execution_count": 29,
   "id": "f95aa8ba",
   "metadata": {},
   "outputs": [],
   "source": [
    "sortino_ratios = {}\n",
    "for key, value in daily_returns.items():\n",
    "  sortino_ratios[key] = (value.mean() / value.std()) * np.sqrt(252)\n"
   ]
  },
  {
   "cell_type": "code",
   "execution_count": 30,
   "id": "f91970f7",
   "metadata": {},
   "outputs": [
    {
     "name": "stdout",
     "output_type": "stream",
     "text": [
      "^N225 daily returns: Date\n",
      "2010-01-04         NaN\n",
      "2010-01-05    0.002538\n",
      "2010-01-06    0.004645\n",
      "2010-01-07   -0.004640\n",
      "2010-01-08    0.010922\n",
      "                ...   \n",
      "2023-05-12    0.008981\n",
      "2023-05-15    0.008100\n",
      "2023-05-16    0.007313\n",
      "2023-05-17    0.008397\n",
      "2023-05-18    0.015962\n",
      "Name: Adj Close, Length: 3270, dtype: float64\n",
      "^IXIC daily returns: Date\n",
      "2010-01-04         NaN\n",
      "2010-01-05    0.000126\n",
      "2010-01-06   -0.003300\n",
      "2010-01-07   -0.000452\n",
      "2010-01-08    0.007443\n",
      "                ...   \n",
      "2023-05-12   -0.003550\n",
      "2023-05-15    0.006550\n",
      "2023-05-16   -0.001792\n",
      "2023-05-17    0.012762\n",
      "2023-05-18    0.015061\n",
      "Name: Adj Close, Length: 3367, dtype: float64\n",
      "^GDAXI daily returns: Date\n",
      "2010-01-04         NaN\n",
      "2010-01-05   -0.002718\n",
      "2010-01-06    0.000410\n",
      "2010-01-07   -0.002481\n",
      "2010-01-08    0.003032\n",
      "                ...   \n",
      "2023-05-12    0.004983\n",
      "2023-05-15    0.000215\n",
      "2023-05-16   -0.001213\n",
      "2023-05-17    0.003357\n",
      "2023-05-18    0.013294\n",
      "Name: Adj Close, Length: 3393, dtype: float64\n",
      "^FTSE daily returns: Date\n",
      "2010-01-04         NaN\n",
      "2010-01-05    0.004036\n",
      "2010-01-06    0.001358\n",
      "2010-01-07   -0.000597\n",
      "2010-01-08    0.001357\n",
      "                ...   \n",
      "2023-05-12    0.003105\n",
      "2023-05-15    0.002979\n",
      "2023-05-16   -0.003420\n",
      "2023-05-17   -0.003599\n",
      "2023-05-18    0.002473\n",
      "Name: Adj Close, Length: 3375, dtype: float64\n",
      "^DJI daily returns: Date\n",
      "2010-01-04         NaN\n",
      "2010-01-05   -0.001128\n",
      "2010-01-06    0.000157\n",
      "2010-01-07    0.003138\n",
      "2010-01-08    0.001068\n",
      "                ...   \n",
      "2023-05-12   -0.000267\n",
      "2023-05-15    0.001441\n",
      "2023-05-16   -0.010089\n",
      "2023-05-17    0.012378\n",
      "2023-05-18    0.003445\n",
      "Name: Adj Close, Length: 3367, dtype: float64\n",
      "^N225 cumulative returns: Date\n",
      "2010-01-04             NaN\n",
      "2010-01-05    2.537829e-03\n",
      "2010-01-06    1.178893e-05\n",
      "2010-01-07   -5.469638e-08\n",
      "2010-01-08   -5.973686e-10\n",
      "                  ...     \n",
      "2023-05-12   -0.000000e+00\n",
      "2023-05-15   -0.000000e+00\n",
      "2023-05-16   -0.000000e+00\n",
      "2023-05-17   -0.000000e+00\n",
      "2023-05-18   -0.000000e+00\n",
      "Name: Adj Close, Length: 3270, dtype: float64\n",
      "^IXIC cumulative returns: Date\n",
      "2010-01-04             NaN\n",
      "2010-01-05    1.256440e-04\n",
      "2010-01-06   -4.146866e-07\n",
      "2010-01-07    1.874287e-10\n",
      "2010-01-08    1.395081e-12\n",
      "                  ...     \n",
      "2023-05-12   -0.000000e+00\n",
      "2023-05-15   -0.000000e+00\n",
      "2023-05-16    0.000000e+00\n",
      "2023-05-17    0.000000e+00\n",
      "2023-05-18    0.000000e+00\n",
      "Name: Adj Close, Length: 3367, dtype: float64\n",
      "^GDAXI cumulative returns: Date\n",
      "2010-01-04             NaN\n",
      "2010-01-05   -2.718110e-03\n",
      "2010-01-06   -1.113142e-06\n",
      "2010-01-07    2.761528e-09\n",
      "2010-01-08    8.372631e-12\n",
      "                  ...     \n",
      "2023-05-12    0.000000e+00\n",
      "2023-05-15    0.000000e+00\n",
      "2023-05-16   -0.000000e+00\n",
      "2023-05-17   -0.000000e+00\n",
      "2023-05-18   -0.000000e+00\n",
      "Name: Adj Close, Length: 3393, dtype: float64\n",
      "^FTSE cumulative returns: Date\n",
      "2010-01-04             NaN\n",
      "2010-01-05    4.036179e-03\n",
      "2010-01-06    5.481456e-06\n",
      "2010-01-07   -3.270838e-09\n",
      "2010-01-08   -4.438686e-12\n",
      "                  ...     \n",
      "2023-05-12    0.000000e+00\n",
      "2023-05-15    0.000000e+00\n",
      "2023-05-16   -0.000000e+00\n",
      "2023-05-17    0.000000e+00\n",
      "2023-05-18    0.000000e+00\n",
      "Name: Adj Close, Length: 3375, dtype: float64\n",
      "^DJI cumulative returns: Date\n",
      "2010-01-04             NaN\n",
      "2010-01-05   -1.128163e-03\n",
      "2010-01-06   -1.771588e-07\n",
      "2010-01-07   -5.559320e-10\n",
      "2010-01-08   -5.938377e-13\n",
      "                  ...     \n",
      "2023-05-12   -0.000000e+00\n",
      "2023-05-15   -0.000000e+00\n",
      "2023-05-16    0.000000e+00\n",
      "2023-05-17    0.000000e+00\n",
      "2023-05-18    0.000000e+00\n",
      "Name: Adj Close, Length: 3367, dtype: float64\n",
      "^N225 max drawdown: -0.0025378840635825553\n",
      "^IXIC max drawdown: -0.00012605866490348887\n",
      "^GDAXI max drawdown: -0.002718112302577411\n",
      "^FTSE max drawdown: -0.004036182406670184\n",
      "^DJI max drawdown: -0.0011281627794860283\n",
      "^N225 Sharpe ratio: 0.49489738731835353\n",
      "^IXIC Sharpe ratio: 0.7232417607422106\n",
      "^GDAXI Sharpe ratio: 0.4624228346752084\n",
      "^FTSE Sharpe ratio: 0.2387650535892216\n",
      "^DJI Sharpe ratio: 0.5892927880401142\n",
      "^N225 Sortino ratio: 0.49489738731835353\n",
      "^IXIC Sortino ratio: 0.7232417607422106\n",
      "^GDAXI Sortino ratio: 0.4624228346752084\n",
      "^FTSE Sortino ratio: 0.2387650535892216\n",
      "^DJI Sortino ratio: 0.5892927880401142\n"
     ]
    }
   ],
   "source": [
    "for key, value in daily_returns.items():\n",
    "  print(f\"{key} daily returns: {value}\")\n",
    "\n",
    "for key, value in cumulative_returns.items():\n",
    "  print(f\"{key} cumulative returns: {value}\")\n",
    "\n",
    "for key, value in max_drawdowns.items():\n",
    "  print(f\"{key} max drawdown: {value}\")\n",
    "\n",
    "for key, value in sharpe_ratios.items():\n",
    "  print(f\"{key} Sharpe ratio: {value}\")\n",
    "\n",
    "for key, value in sortino_ratios.items():\n",
    "  print(f\"{key} Sortino ratio: {value}\")"
   ]
  },
  {
   "cell_type": "code",
   "execution_count": null,
   "id": "75280fa4",
   "metadata": {},
   "outputs": [],
   "source": []
  }
 ],
 "metadata": {
  "kernelspec": {
   "display_name": "Python 3 (ipykernel)",
   "language": "python",
   "name": "python3"
  },
  "language_info": {
   "codemirror_mode": {
    "name": "ipython",
    "version": 3
   },
   "file_extension": ".py",
   "mimetype": "text/x-python",
   "name": "python",
   "nbconvert_exporter": "python",
   "pygments_lexer": "ipython3",
   "version": "3.9.13"
  }
 },
 "nbformat": 4,
 "nbformat_minor": 5
}
