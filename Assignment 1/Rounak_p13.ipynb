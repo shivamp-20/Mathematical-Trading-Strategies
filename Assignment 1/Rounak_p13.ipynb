{
 "cells": [
  {
   "cell_type": "code",
   "execution_count": 1,
   "id": "113ef17d",
   "metadata": {},
   "outputs": [],
   "source": [
    "import yfinance as yf\n",
    "import numpy as np"
   ]
  },
  {
   "cell_type": "markdown",
   "id": "fd6a8ce7",
   "metadata": {},
   "source": [
    "**Listing the stocks**"
   ]
  },
  {
   "cell_type": "code",
   "execution_count": 2,
   "id": "2e595bae",
   "metadata": {},
   "outputs": [
    {
     "name": "stdout",
     "output_type": "stream",
     "text": [
      "[*********************100%***********************]  5 of 5 completed\n",
      "[*********************100%***********************]  5 of 5 completed\n"
     ]
    }
   ],
   "source": [
    "stock_data = yf.download(\"SNPS AMD QCOM INTC NVDA\", start = '2010-01-01', end = '2023-05-15')\n",
    "index_data = yf.download(\"^GSPC ^IXIC ^RUT ^HSI ^AORD\", start = '2010-01-01', end = '2023-05-01')"
   ]
  },
  {
   "cell_type": "code",
   "execution_count": 3,
   "id": "e9baef12",
   "metadata": {},
   "outputs": [
    {
     "name": "stdout",
     "output_type": "stream",
     "text": [
      "            Adj Close                                                 \\\n",
      "                  AMD       INTC        NVDA        QCOM        SNPS   \n",
      "Date                                                                   \n",
      "2010-01-04   9.700000  13.794993    4.241591   33.371937   22.440001   \n",
      "2010-01-05   9.710000  13.788388    4.303527   34.175301   22.250000   \n",
      "2010-01-06   9.570000  13.742132    4.331053   33.841160   22.209999   \n",
      "2010-01-07   9.470000  13.610001    4.246177   34.822262   22.150000   \n",
      "2010-01-08   9.430000  13.761958    4.255353   35.170628   22.309999   \n",
      "...               ...        ...         ...         ...         ...   \n",
      "2023-05-08  95.040001  30.770000  291.510010  108.309998  371.739990   \n",
      "2023-05-09  95.059998  30.100000  285.709991  105.769997  366.950012   \n",
      "2023-05-10  97.019997  29.969999  288.850006  106.459999  370.119995   \n",
      "2023-05-11  97.099998  28.860001  285.779999  104.059998  367.959991   \n",
      "2023-05-12  95.260002  28.950001  283.399994  103.620003  368.839996   \n",
      "\n",
      "                Close                                                 ...  \\\n",
      "                  AMD       INTC        NVDA        QCOM        SNPS  ...   \n",
      "Date                                                                  ...   \n",
      "2010-01-04   9.700000  20.879999    4.622500   46.939999   22.440001  ...   \n",
      "2010-01-05   9.710000  20.870001    4.690000   48.070000   22.250000  ...   \n",
      "2010-01-06   9.570000  20.799999    4.720000   47.599998   22.209999  ...   \n",
      "2010-01-07   9.470000  20.600000    4.627500   48.980000   22.150000  ...   \n",
      "2010-01-08   9.430000  20.830000    4.637500   49.470001   22.309999  ...   \n",
      "...               ...        ...         ...         ...         ...  ...   \n",
      "2023-05-08  95.040001  30.770000  291.510010  108.309998  371.739990  ...   \n",
      "2023-05-09  95.059998  30.100000  285.709991  105.769997  366.950012  ...   \n",
      "2023-05-10  97.019997  29.969999  288.850006  106.459999  370.119995  ...   \n",
      "2023-05-11  97.099998  28.860001  285.779999  104.059998  367.959991  ...   \n",
      "2023-05-12  95.260002  28.950001  283.399994  103.620003  368.839996  ...   \n",
      "\n",
      "                 Open                                                 \\\n",
      "                  AMD       INTC        NVDA        QCOM        SNPS   \n",
      "Date                                                                   \n",
      "2010-01-04   9.790000  20.790001    4.627500   46.790001   22.209999   \n",
      "2010-01-05   9.710000  20.940001    4.605000   47.520000   22.370001   \n",
      "2010-01-06   9.680000  20.809999    4.687500   48.259998   22.190001   \n",
      "2010-01-07   9.510000  20.730000    4.695000   47.750000   22.209999   \n",
      "2010-01-08   9.370000  20.540001    4.590000   49.110001   22.100000   \n",
      "...               ...        ...         ...         ...         ...   \n",
      "2023-05-08  89.989998  30.700001  285.220001  108.379997  371.390015   \n",
      "2023-05-09  94.889999  30.379999  288.989990  107.000000  369.500000   \n",
      "2023-05-10  96.419998  30.290001  290.049988  107.000000  370.660004   \n",
      "2023-05-11  98.160004  29.600000  288.959991  106.290001  370.470001   \n",
      "2023-05-12  96.830002  29.030001  285.290009  104.470001  368.579987   \n",
      "\n",
      "              Volume                                         \n",
      "                 AMD      INTC      NVDA      QCOM     SNPS  \n",
      "Date                                                         \n",
      "2010-01-04  18748700  47800900  80020400  14570200  1883600  \n",
      "2010-01-05  22145700  52357700  72864800  24241000  1723700  \n",
      "2010-01-06  18643400  40037400  64916800  22743800  1214800  \n",
      "2010-01-07  26806800  54041500  54779200  25266300  1024100  \n",
      "2010-01-08  13752800  48234700  47816800  25938200   736000  \n",
      "...              ...       ...       ...       ...      ...  \n",
      "2023-05-08  95503200  30882800  34497900   6694400   628500  \n",
      "2023-05-09  68674800  30706500  31486900   7804100   559900  \n",
      "2023-05-10  95619500  40526500  36935000   7980100   563000  \n",
      "2023-05-11  57061000  47144400  32214900  10630500   597700  \n",
      "2023-05-12  53790400  24147300  27402700   7632900   761700  \n",
      "\n",
      "[3363 rows x 30 columns]\n"
     ]
    }
   ],
   "source": [
    "print(stock_data)"
   ]
  },
  {
   "cell_type": "code",
   "execution_count": 4,
   "id": "9997d9d3",
   "metadata": {},
   "outputs": [
    {
     "name": "stdout",
     "output_type": "stream",
     "text": [
      "              Adj Close                                                        \\\n",
      "                  ^AORD        ^GSPC          ^HSI         ^IXIC         ^RUT   \n",
      "Date                                                                            \n",
      "2010-01-04  4889.799805  1132.989990  21823.279297   2308.419922   640.099976   \n",
      "2010-01-05  4939.500000  1136.520020  22279.580078   2308.709961   638.489990   \n",
      "2010-01-06  4946.799805  1137.140015  22416.669922   2301.090088   637.950012   \n",
      "2010-01-07  4930.500000  1141.689941  22269.449219   2300.050049   641.969971   \n",
      "2010-01-08  4942.200195  1144.979980  22296.750000   2317.169922   644.559998   \n",
      "...                 ...          ...           ...           ...          ...   \n",
      "2023-04-24  7512.200195  4137.040039  19959.939453  12037.200195  1788.869995   \n",
      "2023-04-25          NaN  4071.629883  19617.880859  11799.160156  1745.949951   \n",
      "2023-04-26  7502.799805  4055.989990  19757.269531  11854.349609  1730.410034   \n",
      "2023-04-27  7482.200195  4135.350098  19840.279297  12142.240234  1751.219971   \n",
      "2023-04-28  7501.000000  4169.479980  19894.570312  12226.580078  1768.989990   \n",
      "\n",
      "                  Close                                                        \\\n",
      "                  ^AORD        ^GSPC          ^HSI         ^IXIC         ^RUT   \n",
      "Date                                                                            \n",
      "2010-01-04  4889.799805  1132.989990  21823.279297   2308.419922   640.099976   \n",
      "2010-01-05  4939.500000  1136.520020  22279.580078   2308.709961   638.489990   \n",
      "2010-01-06  4946.799805  1137.140015  22416.669922   2301.090088   637.950012   \n",
      "2010-01-07  4930.500000  1141.689941  22269.449219   2300.050049   641.969971   \n",
      "2010-01-08  4942.200195  1144.979980  22296.750000   2317.169922   644.559998   \n",
      "...                 ...          ...           ...           ...          ...   \n",
      "2023-04-24  7512.200195  4137.040039  19959.939453  12037.200195  1788.869995   \n",
      "2023-04-25          NaN  4071.629883  19617.880859  11799.160156  1745.949951   \n",
      "2023-04-26  7502.799805  4055.989990  19757.269531  11854.349609  1730.410034   \n",
      "2023-04-27  7482.200195  4135.350098  19840.279297  12142.240234  1751.219971   \n",
      "2023-04-28  7501.000000  4169.479980  19894.570312  12226.580078  1768.989990   \n",
      "\n",
      "            ...         Open                                           \\\n",
      "            ...        ^AORD        ^GSPC          ^HSI         ^IXIC   \n",
      "Date        ...                                                         \n",
      "2010-01-04  ...  4877.700195  1116.560059  21860.039062   2294.409912   \n",
      "2010-01-05  ...  4899.799805  1132.660034  22092.150391   2307.270020   \n",
      "2010-01-06  ...  4943.700195  1135.709961  22357.460938   2307.709961   \n",
      "2010-01-07  ...  4948.200195  1136.270020  22548.029297   2298.090088   \n",
      "2010-01-08  ...  4931.399902  1140.520020  22282.750000   2292.239990   \n",
      "...         ...          ...          ...           ...           ...   \n",
      "2023-04-24  ...  7523.000000  4132.069824  20049.869141  12053.469727   \n",
      "2023-04-25  ...          NaN  4126.430176  19903.529297  11968.809570   \n",
      "2023-04-26  ...  7512.200195  4087.780029  19520.970703  11913.230469   \n",
      "2023-04-27  ...  7502.799805  4075.290039  19736.349609  11972.150391   \n",
      "2023-04-28  ...  7482.200195  4129.629883  19936.019531  12117.540039   \n",
      "\n",
      "                               Volume                              \\\n",
      "                   ^RUT         ^AORD         ^GSPC          ^HSI   \n",
      "Date                                                                \n",
      "2010-01-04   628.109985  5.964399e+08  3.991400e+09  1.006200e+09   \n",
      "2010-01-05   639.690002  1.036772e+09  2.491020e+09  1.965585e+09   \n",
      "2010-01-06   638.289978  1.069956e+09  4.972660e+09  2.100234e+09   \n",
      "2010-01-07   638.109985  1.076604e+09  5.270680e+09  1.495365e+09   \n",
      "2010-01-08   640.340027  8.329424e+08  4.389590e+09  1.626023e+09   \n",
      "...                 ...           ...           ...           ...   \n",
      "2023-04-24  1790.250000  8.322267e+08  3.290940e+09  2.247902e+09   \n",
      "2023-04-25  1779.329956           NaN  3.978640e+09  2.196274e+09   \n",
      "2023-04-26  1741.290039  1.143959e+09  3.837030e+09  1.941043e+09   \n",
      "2023-04-27  1733.400024  9.094569e+08  3.750550e+09  2.150454e+09   \n",
      "2023-04-28  1749.849976  1.154684e+09  4.087800e+09  2.574856e+09   \n",
      "\n",
      "                                        \n",
      "                   ^IXIC          ^RUT  \n",
      "Date                                    \n",
      "2010-01-04  1.931380e+09  3.991400e+09  \n",
      "2010-01-05  2.367860e+09  2.491020e+09  \n",
      "2010-01-06  2.253340e+09  4.972660e+09  \n",
      "2010-01-07  2.270050e+09  5.270680e+09  \n",
      "2010-01-08  2.145390e+09  4.389590e+09  \n",
      "...                  ...           ...  \n",
      "2023-04-24  4.854050e+09  3.290940e+09  \n",
      "2023-04-25  4.806020e+09  3.978640e+09  \n",
      "2023-04-26  5.281970e+09  3.837030e+09  \n",
      "2023-04-27  5.253710e+09  3.750550e+09  \n",
      "2023-04-28  5.331380e+09  4.087800e+09  \n",
      "\n",
      "[3439 rows x 30 columns]\n"
     ]
    }
   ],
   "source": [
    "print(index_data)"
   ]
  },
  {
   "cell_type": "markdown",
   "id": "1c33cba1",
   "metadata": {},
   "source": [
    "**Daily Stock Returns**"
   ]
  },
  {
   "cell_type": "code",
   "execution_count": 5,
   "id": "e03c87f8",
   "metadata": {},
   "outputs": [],
   "source": [
    "def daily_returns(data):\n",
    "    stock_data_daily_returns = data['Adj Close'].pct_change()\n",
    "    return stock_data_daily_returns"
   ]
  },
  {
   "cell_type": "markdown",
   "id": "bfc57639",
   "metadata": {},
   "source": [
    "**For Stocks**"
   ]
  },
  {
   "cell_type": "code",
   "execution_count": 6,
   "id": "10b60eaf",
   "metadata": {},
   "outputs": [
    {
     "name": "stdout",
     "output_type": "stream",
     "text": [
      "                 AMD      INTC      NVDA      QCOM      SNPS\n",
      "Date                                                        \n",
      "2010-01-04       NaN       NaN       NaN       NaN       NaN\n",
      "2010-01-05  0.001031 -0.000479  0.014602  0.024073 -0.008467\n",
      "2010-01-06 -0.014418 -0.003355  0.006396 -0.009777 -0.001798\n",
      "2010-01-07 -0.010449 -0.009615 -0.019597  0.028991 -0.002701\n",
      "2010-01-08 -0.004224  0.011165  0.002161  0.010004  0.007223\n",
      "...              ...       ...       ...       ...       ...\n",
      "2023-05-08  0.057881 -0.007099  0.016423 -0.004321  0.000484\n",
      "2023-05-09  0.000210 -0.021774 -0.019896 -0.023451 -0.012885\n",
      "2023-05-10  0.020619 -0.004319  0.010990  0.006524  0.008639\n",
      "2023-05-11  0.000825 -0.037037 -0.010628 -0.022544 -0.005836\n",
      "2023-05-12 -0.018949  0.003119 -0.008328 -0.004228  0.002392\n",
      "\n",
      "[3363 rows x 5 columns]\n"
     ]
    }
   ],
   "source": [
    "stock_data_daily_returns = daily_returns(stock_data)\n",
    "print(stock_data_daily_returns)"
   ]
  },
  {
   "cell_type": "markdown",
   "id": "48d76bb1",
   "metadata": {},
   "source": [
    "**For Indices**"
   ]
  },
  {
   "cell_type": "code",
   "execution_count": 7,
   "id": "21dd0330",
   "metadata": {},
   "outputs": [
    {
     "name": "stdout",
     "output_type": "stream",
     "text": [
      "               ^AORD     ^GSPC      ^HSI     ^IXIC      ^RUT\n",
      "Date                                                        \n",
      "2010-01-04       NaN       NaN       NaN       NaN       NaN\n",
      "2010-01-05  0.010164  0.003116  0.020909  0.000126 -0.002515\n",
      "2010-01-06  0.001478  0.000546  0.006153 -0.003300 -0.000846\n",
      "2010-01-07 -0.003295  0.004001 -0.006567 -0.000452  0.006301\n",
      "2010-01-08  0.002373  0.002882  0.001226  0.007443  0.004034\n",
      "...              ...       ...       ...       ...       ...\n",
      "2023-04-24 -0.001436  0.000852 -0.005768 -0.002921 -0.001474\n",
      "2023-04-25  0.000000 -0.015811 -0.017137 -0.019775 -0.023993\n",
      "2023-04-26 -0.001251 -0.003841  0.007105  0.004677 -0.008901\n",
      "2023-04-27 -0.002746  0.019566  0.004201  0.024286  0.012026\n",
      "2023-04-28  0.002513  0.008253  0.002736  0.006946  0.010147\n",
      "\n",
      "[3439 rows x 5 columns]\n"
     ]
    }
   ],
   "source": [
    "index_data_daily_returns = daily_returns(index_data)\n",
    "print(index_data_daily_returns)"
   ]
  },
  {
   "cell_type": "markdown",
   "id": "5d613f9e",
   "metadata": {},
   "source": [
    "**Cummulative Daily returns**"
   ]
  },
  {
   "cell_type": "code",
   "execution_count": 8,
   "id": "0fcc563f",
   "metadata": {},
   "outputs": [],
   "source": [
    "def cumm_returns(data):\n",
    "    data_cum_returns = (data + 1).cumprod() - 1\n",
    "    return data_cum_returns"
   ]
  },
  {
   "cell_type": "markdown",
   "id": "0d7b6182",
   "metadata": {},
   "source": [
    "**For Stocks**"
   ]
  },
  {
   "cell_type": "code",
   "execution_count": 9,
   "id": "ea18ab68",
   "metadata": {},
   "outputs": [
    {
     "name": "stdout",
     "output_type": "stream",
     "text": [
      "                 AMD      INTC       NVDA      QCOM       SNPS\n",
      "Date                                                          \n",
      "2010-01-04       NaN       NaN        NaN       NaN        NaN\n",
      "2010-01-05  0.001031 -0.000479   0.014602  0.024073  -0.008467\n",
      "2010-01-06 -0.013402 -0.003832   0.021092  0.014060  -0.010250\n",
      "2010-01-07 -0.023711 -0.013410   0.001081  0.043459  -0.012923\n",
      "2010-01-08 -0.027835 -0.002395   0.003245  0.053898  -0.005793\n",
      "...              ...       ...        ...       ...        ...\n",
      "2023-05-08  8.797938  1.230519  67.726572  2.245541  15.565953\n",
      "2023-05-09  8.800000  1.181951  66.359157  2.169429  15.352496\n",
      "2023-05-10  9.002062  1.172527  67.099448  2.190105  15.493761\n",
      "2023-05-11  9.010309  1.092063  66.375662  2.118189  15.397504\n",
      "2023-05-12  8.820619  1.098588  65.814550  2.105004  15.436720\n",
      "\n",
      "[3363 rows x 5 columns]\n"
     ]
    }
   ],
   "source": [
    "stock_data_cum_returns = cumm_returns(stock_data_daily_returns)\n",
    "print(stock_data_cum_returns)"
   ]
  },
  {
   "cell_type": "markdown",
   "id": "61e17b43",
   "metadata": {},
   "source": [
    "**For Indices**"
   ]
  },
  {
   "cell_type": "code",
   "execution_count": 10,
   "id": "c4b668b0",
   "metadata": {},
   "outputs": [
    {
     "name": "stdout",
     "output_type": "stream",
     "text": [
      "               ^AORD     ^GSPC      ^HSI     ^IXIC      ^RUT\n",
      "Date                                                        \n",
      "2010-01-04       NaN       NaN       NaN       NaN       NaN\n",
      "2010-01-05  0.010164  0.003116  0.020909  0.000126 -0.002515\n",
      "2010-01-06  0.011657  0.003663  0.027191 -0.003175 -0.003359\n",
      "2010-01-07  0.008323  0.007679  0.020445 -0.003626  0.002921\n",
      "2010-01-08  0.010716  0.010583  0.021696  0.003790  0.006968\n",
      "...              ...       ...       ...       ...       ...\n",
      "2023-04-24  0.536300  2.651436 -0.085383  4.214476  1.794673\n",
      "2023-04-25  0.536300  2.593703 -0.101057  4.111358  1.727621\n",
      "2023-04-26  0.534378  2.579899 -0.094670  4.135266  1.703343\n",
      "2023-04-27  0.530165  2.649944 -0.090866  4.259979  1.735854\n",
      "2023-04-28  0.534010  2.680068 -0.088379  4.296515  1.763615\n",
      "\n",
      "[3439 rows x 5 columns]\n"
     ]
    }
   ],
   "source": [
    "index_data_cum_returns = cumm_returns(index_data_daily_returns)\n",
    "print(index_data_cum_returns)"
   ]
  },
  {
   "cell_type": "markdown",
   "id": "97673bb5",
   "metadata": {},
   "source": [
    "**Volatility**"
   ]
  },
  {
   "cell_type": "code",
   "execution_count": 11,
   "id": "7e2b1cfe",
   "metadata": {},
   "outputs": [],
   "source": [
    "def Volatility(data):\n",
    "    log_returns = np.log(data['Close']/data['Close'].shift())\n",
    "    volatility = log_returns.std()*252**.5\n",
    "    return volatility"
   ]
  },
  {
   "cell_type": "markdown",
   "id": "11c125b3",
   "metadata": {},
   "source": [
    "**For Stocks**"
   ]
  },
  {
   "cell_type": "code",
   "execution_count": 12,
   "id": "4292dad5",
   "metadata": {},
   "outputs": [
    {
     "data": {
      "text/plain": [
       "AMD     0.561907\n",
       "INTC    0.298969\n",
       "NVDA    0.445021\n",
       "QCOM    0.331493\n",
       "SNPS    0.258016\n",
       "dtype: float64"
      ]
     },
     "execution_count": 12,
     "metadata": {},
     "output_type": "execute_result"
    }
   ],
   "source": [
    "Volatility(stock_data)"
   ]
  },
  {
   "cell_type": "markdown",
   "id": "1efd995b",
   "metadata": {},
   "source": [
    "**For indices**"
   ]
  },
  {
   "cell_type": "code",
   "execution_count": 13,
   "id": "fdc62c52",
   "metadata": {},
   "outputs": [
    {
     "data": {
      "text/plain": [
       "^AORD    0.150982\n",
       "^GSPC    0.178883\n",
       "^HSI     0.199582\n",
       "^IXIC    0.207284\n",
       "^RUT     0.231655\n",
       "dtype: float64"
      ]
     },
     "execution_count": 13,
     "metadata": {},
     "output_type": "execute_result"
    }
   ],
   "source": [
    "Volatility(index_data)"
   ]
  },
  {
   "cell_type": "markdown",
   "id": "69d06444",
   "metadata": {},
   "source": [
    "**Maximum Daily Drawdown**"
   ]
  },
  {
   "cell_type": "code",
   "execution_count": 14,
   "id": "2de32a85",
   "metadata": {},
   "outputs": [],
   "source": [
    "def maximum_daily_drawdown(data):\n",
    "  Roll_Max = data['Adj Close'].cummax()\n",
    "  Daily_Drawdown = data['Adj Close']/Roll_Max - 1.0\n",
    "  Max_Daily_Drawdown = Daily_Drawdown.cummin()\n",
    "  return Max_Daily_Drawdown.min()"
   ]
  },
  {
   "cell_type": "markdown",
   "id": "3ef6e5dd",
   "metadata": {},
   "source": [
    "**For Stocks**"
   ]
  },
  {
   "cell_type": "code",
   "execution_count": 15,
   "id": "c0f17583",
   "metadata": {},
   "outputs": [],
   "source": [
    "max_daily_drawdown = maximum_daily_drawdown(stock_data)"
   ]
  },
  {
   "cell_type": "code",
   "execution_count": 16,
   "id": "f4264de8",
   "metadata": {
    "scrolled": true
   },
   "outputs": [
    {
     "name": "stdout",
     "output_type": "stream",
     "text": [
      "AMD    -0.840551\n",
      "INTC   -0.616262\n",
      "NVDA   -0.663351\n",
      "QCOM   -0.450792\n",
      "SNPS   -0.342506\n",
      "dtype: float64\n"
     ]
    }
   ],
   "source": [
    "print(max_daily_drawdown)"
   ]
  },
  {
   "cell_type": "markdown",
   "id": "6639d7b9",
   "metadata": {},
   "source": [
    "**For indices**"
   ]
  },
  {
   "cell_type": "code",
   "execution_count": 17,
   "id": "4e8719f2",
   "metadata": {},
   "outputs": [],
   "source": [
    "max_daily_drawdown = maximum_daily_drawdown(index_data)"
   ]
  },
  {
   "cell_type": "code",
   "execution_count": 18,
   "id": "5684c506",
   "metadata": {},
   "outputs": [
    {
     "name": "stdout",
     "output_type": "stream",
     "text": [
      "^AORD   -0.370920\n",
      "^GSPC   -0.339250\n",
      "^HSI    -0.557008\n",
      "^IXIC   -0.363953\n",
      "^RUT    -0.430613\n",
      "dtype: float64\n"
     ]
    }
   ],
   "source": [
    "print(max_daily_drawdown)"
   ]
  },
  {
   "cell_type": "markdown",
   "id": "7e7b7ec9",
   "metadata": {},
   "source": [
    "**Sharpe ratio for equally weighted portfolio**"
   ]
  },
  {
   "cell_type": "code",
   "execution_count": 19,
   "id": "e530ccb4",
   "metadata": {},
   "outputs": [
    {
     "name": "stdout",
     "output_type": "stream",
     "text": [
      "for stocks ->  0.8230337933219382\n",
      "for indices ->  0.5624612625559723\n"
     ]
    }
   ],
   "source": [
    "weights = [1/5,1/5,1/5,1/5,1/5]\n",
    "def weighted_mean(data):\n",
    "    return sum(data.mean()*weights)\n",
    "\n",
    "def standard_dev(data):\n",
    "    var = np.dot(np.dot(weights, data.cov()), weights)\n",
    "    return np.sqrt(var)\n",
    "\n",
    "def Sharp_Ratio(data):\n",
    "    risk_free_return = 0.0\n",
    "    return (weighted_mean(data) - risk_free_return)/standard_dev(data)\n",
    "\n",
    "annual_sharp_ratio_port = 252**0.5*(Sharp_Ratio(stock_data_daily_returns))\n",
    "print(\"for stocks -> \", annual_sharp_ratio_port)\n",
    "\n",
    "annual_sharp_ratio_port = 252**0.5*(Sharp_Ratio(index_data_daily_returns))\n",
    "print(\"for indices -> \",annual_sharp_ratio_port)"
   ]
  },
  {
   "cell_type": "markdown",
   "id": "d1659390",
   "metadata": {},
   "source": [
    "**Sharpe ratio for each stock**"
   ]
  },
  {
   "cell_type": "code",
   "execution_count": 20,
   "id": "08af7c36",
   "metadata": {},
   "outputs": [
    {
     "name": "stdout",
     "output_type": "stream",
     "text": [
      "AMD     0.581206\n",
      "INTC    0.336053\n",
      "NVDA    0.926670\n",
      "QCOM    0.421708\n",
      "SNPS    0.942496\n",
      "dtype: float64\n"
     ]
    }
   ],
   "source": [
    "def sharpe_ratio(data):\n",
    "    risk_free_return = 0.0\n",
    "    return (data.mean() - risk_free_return)/data.std()\n",
    "\n",
    "Sharpe_ratio = sharpe_ratio(stock_data_daily_returns)\n",
    "annual_sharp_ratio = 252**0.5*Sharpe_ratio\n",
    "print(annual_sharp_ratio)"
   ]
  },
  {
   "cell_type": "markdown",
   "id": "981ca1b3",
   "metadata": {},
   "source": [
    "**Sharpe ratio for each index**"
   ]
  },
  {
   "cell_type": "code",
   "execution_count": 21,
   "id": "9b69fc7e",
   "metadata": {},
   "outputs": [
    {
     "name": "stdout",
     "output_type": "stream",
     "text": [
      "^AORD    0.284775\n",
      "^GSPC    0.632688\n",
      "^HSI     0.064289\n",
      "^IXIC    0.702797\n",
      "^RUT     0.442317\n",
      "dtype: float64\n"
     ]
    }
   ],
   "source": [
    "Sharpe_ratio = sharpe_ratio(index_data_daily_returns)\n",
    "annual_sharp_ratio = 252**0.5*Sharpe_ratio\n",
    "print(annual_sharp_ratio)"
   ]
  },
  {
   "cell_type": "markdown",
   "id": "e35eed2f",
   "metadata": {},
   "source": [
    "**Sortino ratio for weighted portfolio**"
   ]
  },
  {
   "cell_type": "code",
   "execution_count": 22,
   "id": "92558873",
   "metadata": {},
   "outputs": [
    {
     "name": "stdout",
     "output_type": "stream",
     "text": [
      "for stocks ->  1.159515415054735\n",
      "for indices ->  0.6369453424423981\n"
     ]
    }
   ],
   "source": [
    "weights = [1/5,1/5,1/5,1/5,1/5]\n",
    "def weighted_mean(data):\n",
    "    return sum(data.mean()*weights)\n",
    "\n",
    "def neg_standard_dev(data):\n",
    "    var = np.dot(np.dot(weights, data[data<0].cov()), weights)\n",
    "    return np.sqrt(var)\n",
    "\n",
    "def Sortino_Ratio(data):\n",
    "    risk_free_return = 0.0\n",
    "    return (weighted_mean(data) - risk_free_return)/neg_standard_dev(data)\n",
    "\n",
    "annual_sortino_ratio_port = 252**0.5*(Sortino_Ratio(stock_data_daily_returns))\n",
    "print(\"for stocks -> \", annual_sortino_ratio_port)\n",
    "\n",
    "annual_sortino_ratio_port = 252**0.5*(Sortino_Ratio(index_data_daily_returns))\n",
    "print(\"for indices -> \", annual_sortino_ratio_port)"
   ]
  },
  {
   "cell_type": "markdown",
   "id": "78ea82a0",
   "metadata": {},
   "source": [
    "**Sortino ratio for each stock**"
   ]
  },
  {
   "cell_type": "code",
   "execution_count": 23,
   "id": "202ddf64",
   "metadata": {},
   "outputs": [
    {
     "name": "stdout",
     "output_type": "stream",
     "text": [
      "AMD     0.874334\n",
      "INTC    0.447375\n",
      "NVDA    1.367025\n",
      "QCOM    0.564336\n",
      "SNPS    1.279191\n",
      "dtype: float64\n"
     ]
    }
   ],
   "source": [
    "def sortino_ratio(data):\n",
    "    risk_free_return = 0.0\n",
    "    return (data.mean() - risk_free_return)/data[data<0].std()\n",
    "\n",
    "annual_sortino_ratio = 252**0.5*(sortino_ratio(stock_data_daily_returns))\n",
    "print(annual_sortino_ratio)"
   ]
  },
  {
   "cell_type": "markdown",
   "id": "9969285f",
   "metadata": {},
   "source": [
    "**Sortino ratio for each index**"
   ]
  },
  {
   "cell_type": "code",
   "execution_count": 24,
   "id": "926f17b9",
   "metadata": {},
   "outputs": [
    {
     "name": "stdout",
     "output_type": "stream",
     "text": [
      "^AORD    0.352927\n",
      "^GSPC    0.764751\n",
      "^HSI     0.090003\n",
      "^IXIC    0.876428\n",
      "^RUT     0.569607\n",
      "dtype: float64\n"
     ]
    }
   ],
   "source": [
    "annual_sortino_ratio = 252**0.5*(sortino_ratio(index_data_daily_returns))\n",
    "print(annual_sortino_ratio)"
   ]
  }
 ],
 "metadata": {
  "kernelspec": {
   "display_name": "Python 3 (ipykernel)",
   "language": "python",
   "name": "python3"
  },
  "language_info": {
   "codemirror_mode": {
    "name": "ipython",
    "version": 3
   },
   "file_extension": ".py",
   "mimetype": "text/x-python",
   "name": "python",
   "nbconvert_exporter": "python",
   "pygments_lexer": "ipython3",
   "version": "3.10.4"
  }
 },
 "nbformat": 4,
 "nbformat_minor": 5
}
