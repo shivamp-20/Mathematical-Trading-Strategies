{
 "cells": [
  {
   "cell_type": "code",
   "execution_count": 1,
   "id": "96a4063b",
   "metadata": {},
   "outputs": [],
   "source": [
    "import numpy as np\n",
    "import pandas as pd\n",
    "import yfinance as yf\n",
    "import matplotlib.pyplot as plt\n",
    "import seaborn as sns"
   ]
  },
  {
   "cell_type": "code",
   "execution_count": 2,
   "id": "50d30ba2",
   "metadata": {},
   "outputs": [
    {
     "name": "stdout",
     "output_type": "stream",
     "text": [
      "[*********************100%***********************]  1 of 1 completed\n"
     ]
    },
    {
     "data": {
      "text/html": [
       "<div>\n",
       "<style scoped>\n",
       "    .dataframe tbody tr th:only-of-type {\n",
       "        vertical-align: middle;\n",
       "    }\n",
       "\n",
       "    .dataframe tbody tr th {\n",
       "        vertical-align: top;\n",
       "    }\n",
       "\n",
       "    .dataframe thead th {\n",
       "        text-align: right;\n",
       "    }\n",
       "</style>\n",
       "<table border=\"1\" class=\"dataframe\">\n",
       "  <thead>\n",
       "    <tr style=\"text-align: right;\">\n",
       "      <th></th>\n",
       "      <th>Open</th>\n",
       "      <th>High</th>\n",
       "      <th>Low</th>\n",
       "      <th>Close</th>\n",
       "      <th>Adj Close</th>\n",
       "      <th>Volume</th>\n",
       "    </tr>\n",
       "    <tr>\n",
       "      <th>Date</th>\n",
       "      <th></th>\n",
       "      <th></th>\n",
       "      <th></th>\n",
       "      <th></th>\n",
       "      <th></th>\n",
       "      <th></th>\n",
       "    </tr>\n",
       "  </thead>\n",
       "  <tbody>\n",
       "    <tr>\n",
       "      <th>2010-01-04</th>\n",
       "      <td>15.689439</td>\n",
       "      <td>15.753504</td>\n",
       "      <td>15.621622</td>\n",
       "      <td>15.684434</td>\n",
       "      <td>15.684434</td>\n",
       "      <td>78169752</td>\n",
       "    </tr>\n",
       "    <tr>\n",
       "      <th>2010-01-05</th>\n",
       "      <td>15.695195</td>\n",
       "      <td>15.711712</td>\n",
       "      <td>15.554054</td>\n",
       "      <td>15.615365</td>\n",
       "      <td>15.615365</td>\n",
       "      <td>120067812</td>\n",
       "    </tr>\n",
       "    <tr>\n",
       "      <th>2010-01-06</th>\n",
       "      <td>15.662162</td>\n",
       "      <td>15.662162</td>\n",
       "      <td>15.174174</td>\n",
       "      <td>15.221722</td>\n",
       "      <td>15.221722</td>\n",
       "      <td>158988852</td>\n",
       "    </tr>\n",
       "    <tr>\n",
       "      <th>2010-01-07</th>\n",
       "      <td>15.250250</td>\n",
       "      <td>15.265265</td>\n",
       "      <td>14.831081</td>\n",
       "      <td>14.867367</td>\n",
       "      <td>14.867367</td>\n",
       "      <td>256315428</td>\n",
       "    </tr>\n",
       "    <tr>\n",
       "      <th>2010-01-08</th>\n",
       "      <td>14.814815</td>\n",
       "      <td>15.096346</td>\n",
       "      <td>14.742492</td>\n",
       "      <td>15.065566</td>\n",
       "      <td>15.065566</td>\n",
       "      <td>188783028</td>\n",
       "    </tr>\n",
       "  </tbody>\n",
       "</table>\n",
       "</div>"
      ],
      "text/plain": [
       "                 Open       High        Low      Close  Adj Close     Volume\n",
       "Date                                                                        \n",
       "2010-01-04  15.689439  15.753504  15.621622  15.684434  15.684434   78169752\n",
       "2010-01-05  15.695195  15.711712  15.554054  15.615365  15.615365  120067812\n",
       "2010-01-06  15.662162  15.662162  15.174174  15.221722  15.221722  158988852\n",
       "2010-01-07  15.250250  15.265265  14.831081  14.867367  14.867367  256315428\n",
       "2010-01-08  14.814815  15.096346  14.742492  15.065566  15.065566  188783028"
      ]
     },
     "execution_count": 2,
     "metadata": {},
     "output_type": "execute_result"
    }
   ],
   "source": [
    "stock = 'GOOGL'\n",
    "data = yf.download(stock,'2010-01-01','2023-05-14')\n",
    "data.head()"
   ]
  },
  {
   "cell_type": "code",
   "execution_count": 3,
   "id": "4ac4a64b",
   "metadata": {},
   "outputs": [
    {
     "data": {
      "text/plain": [
       "Date\n",
       "2010-01-04     15.684434\n",
       "2010-01-05     15.615365\n",
       "2010-01-06     15.221722\n",
       "2010-01-07     14.867367\n",
       "2010-01-08     15.065566\n",
       "                 ...    \n",
       "2023-05-08    107.769997\n",
       "2023-05-09    107.349998\n",
       "2023-05-10    111.750000\n",
       "2023-05-11    116.570000\n",
       "2023-05-12    117.510002\n",
       "Name: Close, Length: 3363, dtype: float64"
      ]
     },
     "execution_count": 3,
     "metadata": {},
     "output_type": "execute_result"
    }
   ],
   "source": [
    "price = data['Close']\n",
    "price"
   ]
  },
  {
   "cell_type": "code",
   "execution_count": 4,
   "id": "2f8748fb",
   "metadata": {},
   "outputs": [
    {
     "data": {
      "text/plain": [
       "<AxesSubplot: xlabel='Date'>"
      ]
     },
     "execution_count": 4,
     "metadata": {},
     "output_type": "execute_result"
    },
    {
     "data": {
      "image/png": "[encoded data removed]",
      "text/plain": [
       "<Figure size 432x288 with 1 Axes>"
      ]
     },
     "metadata": {
      "needs_background": "light"
     },
     "output_type": "display_data"
    }
   ],
   "source": [
    "#Maximum Drawdown (MDD) calculation\n",
    "roll_max = data['Close'].rolling(len(price)-1,min_periods=1).max()\n",
    "daily_drawdown = data['Close']/roll_max - 1.0\n",
    "mdd = daily_drawdown.rolling(len(price)-1,min_periods=1).min()\n",
    "mdd.plot()"
   ]
  },
  {
   "cell_type": "code",
   "execution_count": 5,
   "id": "644dde99",
   "metadata": {},
   "outputs": [
    {
     "name": "stdout",
     "output_type": "stream",
     "text": [
      "Maximum Drawdown for the given period is: -44.32005141440533 %\n"
     ]
    }
   ],
   "source": [
    "print(f\"Maximum Drawdown for the given period is: {mdd[-1]*100} %\")"
   ]
  },
  {
   "cell_type": "code",
   "execution_count": 6,
   "id": "c55f7d48",
   "metadata": {},
   "outputs": [
    {
     "data": {
      "text/plain": [
       "array([ 0.        , -0.00440366, -0.02520872, ...,  0.04098744,\n",
       "        0.04313199,  0.00806385])"
      ]
     },
     "execution_count": 6,
     "metadata": {},
     "output_type": "execute_result"
    }
   ],
   "source": [
    "#Cumulative returns\n",
    "returns = data['Close'].resample('D').ffill().pct_change().to_numpy()\n",
    "returns[0] = 0\n",
    "returns"
   ]
  },
  {
   "cell_type": "code",
   "execution_count": 7,
   "id": "ed00ab9f",
   "metadata": {},
   "outputs": [
    {
     "data": {
      "text/plain": [
       "array([1.        , 0.99559634, 0.97049863, ..., 7.12489851, 7.43220955,\n",
       "       7.49214174])"
      ]
     },
     "execution_count": 7,
     "metadata": {},
     "output_type": "execute_result"
    }
   ],
   "source": [
    "cumulative_ret =( 1+returns).cumprod()\n",
    "cumulative_ret"
   ]
  },
  {
   "cell_type": "code",
   "execution_count": 8,
   "id": "1307f186",
   "metadata": {},
   "outputs": [
    {
     "name": "stdout",
     "output_type": "stream",
     "text": [
      "Cumulative return of stock is 749.2141737960739%\n"
     ]
    }
   ],
   "source": [
    "print(f\"Cumulative return of stock is {cumulative_ret[-1]*100}%\")"
   ]
  },
  {
   "cell_type": "code",
   "execution_count": 9,
   "id": "69f68348",
   "metadata": {},
   "outputs": [
    {
     "data": {
      "text/plain": [
       "Date\n",
       "2010-12-31         NaN\n",
       "2011-12-31    0.087429\n",
       "2012-12-31    0.095185\n",
       "2013-12-31    0.584311\n",
       "2014-12-31   -0.053940\n",
       "2015-12-31    0.466118\n",
       "2016-12-31    0.018560\n",
       "2017-12-31    0.329295\n",
       "2018-12-31   -0.008012\n",
       "2019-12-31    0.281762\n",
       "2020-12-31    0.308536\n",
       "2021-12-31    0.652958\n",
       "2022-12-31   -0.390896\n",
       "2023-12-31    0.331860\n",
       "Freq: A-DEC, Name: Close, dtype: float64"
      ]
     },
     "execution_count": 9,
     "metadata": {},
     "output_type": "execute_result"
    }
   ],
   "source": [
    "# Sharpe ratio\n",
    "yearly_returns = data['Close'].resample('Y').ffill().pct_change()\n",
    "yearly_returns"
   ]
  },
  {
   "cell_type": "code",
   "execution_count": 10,
   "id": "b0bb1564",
   "metadata": {},
   "outputs": [
    {
     "data": {
      "text/plain": [
       "Date\n",
       "2010-01-31         NaN\n",
       "2010-02-28   -0.005925\n",
       "2010-03-31    0.076538\n",
       "2010-04-30   -0.073036\n",
       "2010-05-31   -0.076222\n",
       "                ...   \n",
       "2023-01-31    0.120254\n",
       "2023-02-28   -0.088830\n",
       "2023-03-31    0.151788\n",
       "2023-04-30    0.034802\n",
       "2023-05-31    0.094746\n",
       "Freq: M, Name: Close, Length: 161, dtype: float64"
      ]
     },
     "execution_count": 10,
     "metadata": {},
     "output_type": "execute_result"
    }
   ],
   "source": [
    "monthly_returns = data['Close'].resample('M').ffill().pct_change()\n",
    "monthly_returns"
   ]
  },
  {
   "cell_type": "code",
   "execution_count": 11,
   "id": "f615610c",
   "metadata": {},
   "outputs": [
    {
     "name": "stdout",
     "output_type": "stream",
     "text": [
      "Average yearly return is : 20.793582076296975%\n"
     ]
    }
   ],
   "source": [
    "avg_yearly_return = yearly_returns.mean()\n",
    "print(f\"Average yearly return is : {avg_yearly_return*100}%\")"
   ]
  },
  {
   "cell_type": "code",
   "execution_count": 12,
   "id": "393fed84",
   "metadata": {},
   "outputs": [
    {
     "name": "stdout",
     "output_type": "stream",
     "text": [
      "Sharpe ratio is : 19.298185887091787\n"
     ]
    }
   ],
   "source": [
    "sharpe_ratio = (avg_yearly_return - 0.07)/(monthly_returns.std())\n",
    "print(f\"Sharpe ratio is : {sharpe_ratio*10}\")"
   ]
  },
  {
   "cell_type": "code",
   "execution_count": 13,
   "id": "1af67b45",
   "metadata": {},
   "outputs": [
    {
     "data": {
      "text/plain": [
       "Date\n",
       "2010-02-28   -0.005925\n",
       "2010-04-30   -0.073036\n",
       "2010-05-31   -0.076222\n",
       "2010-06-30   -0.083767\n",
       "2010-08-31   -0.071837\n",
       "                ...   \n",
       "2022-08-31   -0.069635\n",
       "2022-09-30   -0.116152\n",
       "2022-10-31   -0.011918\n",
       "2022-12-31   -0.126349\n",
       "2023-02-28   -0.088830\n",
       "Name: Close, Length: 64, dtype: float64"
      ]
     },
     "execution_count": 13,
     "metadata": {},
     "output_type": "execute_result"
    }
   ],
   "source": [
    "# Sortino ratio\n",
    "neg_monthly_returns = monthly_returns[monthly_returns < 0]\n",
    "neg_monthly_returns"
   ]
  },
  {
   "cell_type": "code",
   "execution_count": 14,
   "id": "3f6a5244",
   "metadata": {},
   "outputs": [
    {
     "name": "stdout",
     "output_type": "stream",
     "text": [
      "Sortino Ratio: 35.9721905212947\n"
     ]
    }
   ],
   "source": [
    "std_neg = neg_monthly_returns.std()\n",
    "sortino = ((avg_yearly_return - 0.07)*10.0)/std_neg\n",
    "print(f\"Sortino Ratio: {sortino}\")"
   ]
  },
  {
   "cell_type": "code",
   "execution_count": null,
   "id": "3c6c2330",
   "metadata": {},
   "outputs": [],
   "source": []
  }
 ],
 "metadata": {
  "kernelspec": {
   "display_name": "Python 3 (ipykernel)",
   "language": "python",
   "name": "python3"
  },
  "language_info": {
   "codemirror_mode": {
    "name": "ipython",
    "version": 3
   },
   "file_extension": ".py",
   "mimetype": "text/x-python",
   "name": "python",
   "nbconvert_exporter": "python",
   "pygments_lexer": "ipython3",
   "version": "3.10.8"
  }
 },
 "nbformat": 4,
 "nbformat_minor": 5
}
