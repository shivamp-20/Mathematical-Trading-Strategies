{
 "cells": [
  {
   "cell_type": "code",
   "execution_count": 1,
   "id": "96a4063b",
   "metadata": {},
   "outputs": [],
   "source": [
    "import numpy as np\n",
    "import pandas as pd\n",
    "import yfinance as yf\n",
    "import matplotlib.pyplot as plt\n",
    "import seaborn as sns"
   ]
  },
  {
   "cell_type": "code",
   "execution_count": 2,
   "id": "50d30ba2",
   "metadata": {},
   "outputs": [
    {
     "name": "stdout",
     "output_type": "stream",
     "text": [
      "[*********************100%***********************]  1 of 1 completed\n"
     ]
    },
    {
     "data": {
      "text/html": [
       "<div>\n",
       "<style scoped>\n",
       "    .dataframe tbody tr th:only-of-type {\n",
       "        vertical-align: middle;\n",
       "    }\n",
       "\n",
       "    .dataframe tbody tr th {\n",
       "        vertical-align: top;\n",
       "    }\n",
       "\n",
       "    .dataframe thead th {\n",
       "        text-align: right;\n",
       "    }\n",
       "</style>\n",
       "<table border=\"1\" class=\"dataframe\">\n",
       "  <thead>\n",
       "    <tr style=\"text-align: right;\">\n",
       "      <th></th>\n",
       "      <th>Open</th>\n",
       "      <th>High</th>\n",
       "      <th>Low</th>\n",
       "      <th>Close</th>\n",
       "      <th>Adj Close</th>\n",
       "      <th>Volume</th>\n",
       "    </tr>\n",
       "    <tr>\n",
       "      <th>Date</th>\n",
       "      <th></th>\n",
       "      <th></th>\n",
       "      <th></th>\n",
       "      <th></th>\n",
       "      <th></th>\n",
       "      <th></th>\n",
       "    </tr>\n",
       "  </thead>\n",
       "  <tbody>\n",
       "    <tr>\n",
       "      <th>2010-01-04</th>\n",
       "      <td>179.100006</td>\n",
       "      <td>179.990005</td>\n",
       "      <td>178.000000</td>\n",
       "      <td>178.865005</td>\n",
       "      <td>160.771790</td>\n",
       "      <td>80350</td>\n",
       "    </tr>\n",
       "    <tr>\n",
       "      <th>2010-01-05</th>\n",
       "      <td>179.800003</td>\n",
       "      <td>180.494995</td>\n",
       "      <td>178.500000</td>\n",
       "      <td>179.429993</td>\n",
       "      <td>161.279526</td>\n",
       "      <td>849100</td>\n",
       "    </tr>\n",
       "    <tr>\n",
       "      <th>2010-01-06</th>\n",
       "      <td>181.475006</td>\n",
       "      <td>181.475006</td>\n",
       "      <td>178.100006</td>\n",
       "      <td>178.889999</td>\n",
       "      <td>160.794205</td>\n",
       "      <td>73450</td>\n",
       "    </tr>\n",
       "    <tr>\n",
       "      <th>2010-01-07</th>\n",
       "      <td>179.875000</td>\n",
       "      <td>179.875000</td>\n",
       "      <td>176.899994</td>\n",
       "      <td>177.065002</td>\n",
       "      <td>159.153839</td>\n",
       "      <td>240320</td>\n",
       "    </tr>\n",
       "    <tr>\n",
       "      <th>2010-01-08</th>\n",
       "      <td>177.449997</td>\n",
       "      <td>183.399994</td>\n",
       "      <td>177.065002</td>\n",
       "      <td>179.990005</td>\n",
       "      <td>161.782959</td>\n",
       "      <td>711310</td>\n",
       "    </tr>\n",
       "  </tbody>\n",
       "</table>\n",
       "</div>"
      ],
      "text/plain": [
       "                  Open        High         Low       Close   Adj Close  Volume\n",
       "Date                                                                          \n",
       "2010-01-04  179.100006  179.990005  178.000000  178.865005  160.771790   80350\n",
       "2010-01-05  179.800003  180.494995  178.500000  179.429993  161.279526  849100\n",
       "2010-01-06  181.475006  181.475006  178.100006  178.889999  160.794205   73450\n",
       "2010-01-07  179.875000  179.875000  176.899994  177.065002  159.153839  240320\n",
       "2010-01-08  177.449997  183.399994  177.065002  179.990005  161.782959  711310"
      ]
     },
     "execution_count": 2,
     "metadata": {},
     "output_type": "execute_result"
    }
   ],
   "source": [
    "stock = 'ASIANPAINT.NS'\n",
    "data = yf.download(stock,'2010-01-01','2023-05-14')\n",
    "data.head()"
   ]
  },
  {
   "cell_type": "code",
   "execution_count": 3,
   "id": "4ac4a64b",
   "metadata": {},
   "outputs": [
    {
     "data": {
      "text/plain": [
       "Date\n",
       "2010-01-04     178.865005\n",
       "2010-01-05     179.429993\n",
       "2010-01-06     178.889999\n",
       "2010-01-07     177.065002\n",
       "2010-01-08     179.990005\n",
       "                 ...     \n",
       "2023-05-08    3019.449951\n",
       "2023-05-09    3034.800049\n",
       "2023-05-10    3041.399902\n",
       "2023-05-11    3139.750000\n",
       "2023-05-12    3131.100098\n",
       "Name: Close, Length: 3297, dtype: float64"
      ]
     },
     "execution_count": 3,
     "metadata": {},
     "output_type": "execute_result"
    }
   ],
   "source": [
    "price = data['Close']\n",
    "price"
   ]
  },
  {
   "cell_type": "code",
   "execution_count": 4,
   "id": "2f8748fb",
   "metadata": {},
   "outputs": [
    {
     "data": {
      "text/plain": [
       "<AxesSubplot: xlabel='Date'>"
      ]
     },
     "execution_count": 4,
     "metadata": {},
     "output_type": "execute_result"
    },
    {
     "data": {
      "image/png": "[encoded data removed]",
      "text/plain": [
       "<Figure size 432x288 with 1 Axes>"
      ]
     },
     "metadata": {
      "needs_background": "light"
     },
     "output_type": "display_data"
    }
   ],
   "source": [
    "#Maximum Drawdown (MDD) calculation\n",
    "roll_max = data['Close'].rolling(len(price)-1,min_periods=1).max()\n",
    "daily_drawdown = data['Close']/roll_max - 1.0\n",
    "mdd = daily_drawdown.rolling(len(price)-1,min_periods=1).min()\n",
    "mdd.plot()"
   ]
  },
  {
   "cell_type": "code",
   "execution_count": 5,
   "id": "644dde99",
   "metadata": {},
   "outputs": [
    {
     "name": "stdout",
     "output_type": "stream",
     "text": [
      "Maximum Drawdown for the given period is: -28.855005329413764 %\n"
     ]
    }
   ],
   "source": [
    "print(f\"Maximum Drawdown for the given period is: {mdd[-1]*100} %\")"
   ]
  },
  {
   "cell_type": "code",
   "execution_count": 6,
   "id": "c55f7d48",
   "metadata": {},
   "outputs": [
    {
     "data": {
      "text/plain": [
       "array([ 0.        ,  0.00315874, -0.00300949, ...,  0.00217472,\n",
       "        0.03233711, -0.00275497])"
      ]
     },
     "execution_count": 6,
     "metadata": {},
     "output_type": "execute_result"
    }
   ],
   "source": [
    "#Cumulative returns\n",
    "returns = data['Close'].resample('D').ffill().pct_change().to_numpy()\n",
    "returns[0] = 0\n",
    "returns"
   ]
  },
  {
   "cell_type": "code",
   "execution_count": 7,
   "id": "ed00ab9f",
   "metadata": {},
   "outputs": [
    {
     "data": {
      "text/plain": [
       "array([ 1.        ,  1.00315874,  1.00013974, ..., 17.00388454,\n",
       "       17.55374111, 17.50538116])"
      ]
     },
     "execution_count": 7,
     "metadata": {},
     "output_type": "execute_result"
    }
   ],
   "source": [
    "cumulative_ret =( 1+returns).cumprod()\n",
    "cumulative_ret"
   ]
  },
  {
   "cell_type": "code",
   "execution_count": 8,
   "id": "1307f186",
   "metadata": {},
   "outputs": [
    {
     "name": "stdout",
     "output_type": "stream",
     "text": [
      "Cumulative return of stock is 1750.5381161749608%\n"
     ]
    }
   ],
   "source": [
    "print(f\"Cumulative return of stock is {cumulative_ret[-1]*100}%\")"
   ]
  },
  {
   "cell_type": "code",
   "execution_count": 9,
   "id": "69f68348",
   "metadata": {},
   "outputs": [
    {
     "data": {
      "text/plain": [
       "Date\n",
       "2010-12-31         NaN\n",
       "2011-12-31   -0.099472\n",
       "2012-12-31    0.709858\n",
       "2013-12-31    0.105458\n",
       "2014-12-31    0.535306\n",
       "2015-12-31    0.174465\n",
       "2016-12-31    0.008488\n",
       "2017-12-31    0.300152\n",
       "2018-12-31    0.185196\n",
       "2019-12-31    0.299989\n",
       "2020-12-31    0.548783\n",
       "2021-12-31    0.223711\n",
       "2022-12-31   -0.087217\n",
       "2023-12-31    0.013990\n",
       "Freq: A-DEC, Name: Close, dtype: float64"
      ]
     },
     "execution_count": 9,
     "metadata": {},
     "output_type": "execute_result"
    }
   ],
   "source": [
    "# Sharpe ratio\n",
    "yearly_returns = data['Close'].resample('Y').ffill().pct_change()\n",
    "yearly_returns"
   ]
  },
  {
   "cell_type": "code",
   "execution_count": 10,
   "id": "b0bb1564",
   "metadata": {},
   "outputs": [
    {
     "data": {
      "text/plain": [
       "Date\n",
       "2010-01-31         NaN\n",
       "2010-02-28   -0.022811\n",
       "2010-03-31    0.126468\n",
       "2010-04-30    0.019594\n",
       "2010-05-31    0.003512\n",
       "                ...   \n",
       "2023-01-31   -0.117248\n",
       "2023-02-28    0.037768\n",
       "2023-03-31   -0.023738\n",
       "2023-04-30    0.050948\n",
       "2023-05-31    0.078815\n",
       "Freq: M, Name: Close, Length: 161, dtype: float64"
      ]
     },
     "execution_count": 10,
     "metadata": {},
     "output_type": "execute_result"
    }
   ],
   "source": [
    "monthly_returns = data['Close'].resample('M').ffill().pct_change()\n",
    "monthly_returns"
   ]
  },
  {
   "cell_type": "code",
   "execution_count": 11,
   "id": "f615610c",
   "metadata": {},
   "outputs": [
    {
     "name": "stdout",
     "output_type": "stream",
     "text": [
      "Average yearly return is : 22.45160396532103%\n"
     ]
    }
   ],
   "source": [
    "avg_yearly_return = yearly_returns.mean()\n",
    "print(f\"Average yearly return is : {avg_yearly_return*100}%\")"
   ]
  },
  {
   "cell_type": "code",
   "execution_count": 12,
   "id": "393fed84",
   "metadata": {},
   "outputs": [
    {
     "name": "stdout",
     "output_type": "stream",
     "text": [
      "Sharpe ratio is : 20.94528950279953\n"
     ]
    }
   ],
   "source": [
    "sharpe_ratio = (avg_yearly_return - 0.07)/(monthly_returns.std())\n",
    "print(f\"Sharpe ratio is : {sharpe_ratio*10}\")"
   ]
  },
  {
   "cell_type": "code",
   "execution_count": 13,
   "id": "1af67b45",
   "metadata": {},
   "outputs": [
    {
     "data": {
      "text/plain": [
       "Date\n",
       "2010-02-28   -0.022811\n",
       "2010-09-30   -0.035998\n",
       "2010-11-30   -0.014454\n",
       "2011-01-31   -0.104631\n",
       "2011-02-28   -0.068594\n",
       "                ...   \n",
       "2022-09-30   -0.014492\n",
       "2022-10-31   -0.070233\n",
       "2022-12-31   -0.027479\n",
       "2023-01-31   -0.117248\n",
       "2023-03-31   -0.023738\n",
       "Name: Close, Length: 64, dtype: float64"
      ]
     },
     "execution_count": 13,
     "metadata": {},
     "output_type": "execute_result"
    }
   ],
   "source": [
    "# Sortino ratio\n",
    "neg_monthly_returns = monthly_returns[monthly_returns < 0]\n",
    "neg_monthly_returns"
   ]
  },
  {
   "cell_type": "code",
   "execution_count": 14,
   "id": "3f6a5244",
   "metadata": {},
   "outputs": [
    {
     "name": "stdout",
     "output_type": "stream",
     "text": [
      "Sortino Ratio: 45.13954980519284\n"
     ]
    }
   ],
   "source": [
    "std_neg = neg_monthly_returns.std()\n",
    "sortino = ((avg_yearly_return - 0.07)*10.0)/std_neg\n",
    "print(f\"Sortino Ratio: {sortino}\")"
   ]
  },
  {
   "cell_type": "code",
   "execution_count": null,
   "id": "3c6c2330",
   "metadata": {},
   "outputs": [],
   "source": []
  }
 ],
 "metadata": {
  "kernelspec": {
   "display_name": "Python 3 (ipykernel)",
   "language": "python",
   "name": "python3"
  },
  "language_info": {
   "codemirror_mode": {
    "name": "ipython",
    "version": 3
   },
   "file_extension": ".py",
   "mimetype": "text/x-python",
   "name": "python",
   "nbconvert_exporter": "python",
   "pygments_lexer": "ipython3",
   "version": "3.10.8"
  }
 },
 "nbformat": 4,
 "nbformat_minor": 5
}
