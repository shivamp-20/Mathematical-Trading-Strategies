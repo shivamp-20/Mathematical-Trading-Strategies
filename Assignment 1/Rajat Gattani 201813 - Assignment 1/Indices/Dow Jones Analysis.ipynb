{
 "cells": [
  {
   "cell_type": "code",
   "execution_count": 1,
   "id": "96a4063b",
   "metadata": {},
   "outputs": [],
   "source": [
    "import numpy as np\n",
    "import pandas as pd\n",
    "import yfinance as yf\n",
    "import matplotlib.pyplot as plt\n",
    "import seaborn as sns"
   ]
  },
  {
   "cell_type": "code",
   "execution_count": 2,
   "id": "50d30ba2",
   "metadata": {},
   "outputs": [
    {
     "name": "stdout",
     "output_type": "stream",
     "text": [
      "[*********************100%***********************]  1 of 1 completed\n"
     ]
    },
    {
     "data": {
      "text/html": [
       "<div>\n",
       "<style scoped>\n",
       "    .dataframe tbody tr th:only-of-type {\n",
       "        vertical-align: middle;\n",
       "    }\n",
       "\n",
       "    .dataframe tbody tr th {\n",
       "        vertical-align: top;\n",
       "    }\n",
       "\n",
       "    .dataframe thead th {\n",
       "        text-align: right;\n",
       "    }\n",
       "</style>\n",
       "<table border=\"1\" class=\"dataframe\">\n",
       "  <thead>\n",
       "    <tr style=\"text-align: right;\">\n",
       "      <th></th>\n",
       "      <th>Open</th>\n",
       "      <th>High</th>\n",
       "      <th>Low</th>\n",
       "      <th>Close</th>\n",
       "      <th>Adj Close</th>\n",
       "      <th>Volume</th>\n",
       "    </tr>\n",
       "    <tr>\n",
       "      <th>Date</th>\n",
       "      <th></th>\n",
       "      <th></th>\n",
       "      <th></th>\n",
       "      <th></th>\n",
       "      <th></th>\n",
       "      <th></th>\n",
       "    </tr>\n",
       "  </thead>\n",
       "  <tbody>\n",
       "    <tr>\n",
       "      <th>2010-01-04</th>\n",
       "      <td>10430.690430</td>\n",
       "      <td>10604.969727</td>\n",
       "      <td>10430.690430</td>\n",
       "      <td>10583.959961</td>\n",
       "      <td>10583.959961</td>\n",
       "      <td>179780000</td>\n",
       "    </tr>\n",
       "    <tr>\n",
       "      <th>2010-01-05</th>\n",
       "      <td>10584.559570</td>\n",
       "      <td>10584.559570</td>\n",
       "      <td>10522.519531</td>\n",
       "      <td>10572.019531</td>\n",
       "      <td>10572.019531</td>\n",
       "      <td>188540000</td>\n",
       "    </tr>\n",
       "    <tr>\n",
       "      <th>2010-01-06</th>\n",
       "      <td>10564.719727</td>\n",
       "      <td>10594.990234</td>\n",
       "      <td>10546.549805</td>\n",
       "      <td>10573.679688</td>\n",
       "      <td>10573.679688</td>\n",
       "      <td>186040000</td>\n",
       "    </tr>\n",
       "    <tr>\n",
       "      <th>2010-01-07</th>\n",
       "      <td>10571.110352</td>\n",
       "      <td>10612.370117</td>\n",
       "      <td>10505.209961</td>\n",
       "      <td>10606.860352</td>\n",
       "      <td>10606.860352</td>\n",
       "      <td>217390000</td>\n",
       "    </tr>\n",
       "    <tr>\n",
       "      <th>2010-01-08</th>\n",
       "      <td>10606.400391</td>\n",
       "      <td>10619.400391</td>\n",
       "      <td>10554.330078</td>\n",
       "      <td>10618.190430</td>\n",
       "      <td>10618.190430</td>\n",
       "      <td>172710000</td>\n",
       "    </tr>\n",
       "  </tbody>\n",
       "</table>\n",
       "</div>"
      ],
      "text/plain": [
       "                    Open          High           Low         Close  \\\n",
       "Date                                                                 \n",
       "2010-01-04  10430.690430  10604.969727  10430.690430  10583.959961   \n",
       "2010-01-05  10584.559570  10584.559570  10522.519531  10572.019531   \n",
       "2010-01-06  10564.719727  10594.990234  10546.549805  10573.679688   \n",
       "2010-01-07  10571.110352  10612.370117  10505.209961  10606.860352   \n",
       "2010-01-08  10606.400391  10619.400391  10554.330078  10618.190430   \n",
       "\n",
       "               Adj Close     Volume  \n",
       "Date                                 \n",
       "2010-01-04  10583.959961  179780000  \n",
       "2010-01-05  10572.019531  188540000  \n",
       "2010-01-06  10573.679688  186040000  \n",
       "2010-01-07  10606.860352  217390000  \n",
       "2010-01-08  10618.190430  172710000  "
      ]
     },
     "execution_count": 2,
     "metadata": {},
     "output_type": "execute_result"
    }
   ],
   "source": [
    "stock = '^DJI'\n",
    "data = yf.download(stock,'2010-01-01','2023-05-14')\n",
    "data.head()"
   ]
  },
  {
   "cell_type": "code",
   "execution_count": 3,
   "id": "4ac4a64b",
   "metadata": {},
   "outputs": [
    {
     "data": {
      "text/plain": [
       "Date\n",
       "2010-01-04    10583.959961\n",
       "2010-01-05    10572.019531\n",
       "2010-01-06    10573.679688\n",
       "2010-01-07    10606.860352\n",
       "2010-01-08    10618.190430\n",
       "                  ...     \n",
       "2023-05-08    33618.691406\n",
       "2023-05-09    33561.808594\n",
       "2023-05-10    33531.328125\n",
       "2023-05-11    33309.511719\n",
       "2023-05-12    33300.621094\n",
       "Name: Close, Length: 3363, dtype: float64"
      ]
     },
     "execution_count": 3,
     "metadata": {},
     "output_type": "execute_result"
    }
   ],
   "source": [
    "price = data['Close']\n",
    "price"
   ]
  },
  {
   "cell_type": "code",
   "execution_count": 4,
   "id": "2f8748fb",
   "metadata": {},
   "outputs": [
    {
     "data": {
      "text/plain": [
       "<AxesSubplot: xlabel='Date'>"
      ]
     },
     "execution_count": 4,
     "metadata": {},
     "output_type": "execute_result"
    },
    {
     "data": {
      "image/png": "[encoded data removed]",
      "text/plain": [
       "<Figure size 432x288 with 1 Axes>"
      ]
     },
     "metadata": {
      "needs_background": "light"
     },
     "output_type": "display_data"
    }
   ],
   "source": [
    "#Maximum Drawdown (MDD) calculation\n",
    "roll_max = data['Close'].rolling(len(price)-1,min_periods=1).max()\n",
    "daily_drawdown = data['Close']/roll_max - 1.0\n",
    "mdd = daily_drawdown.rolling(len(price)-1,min_periods=1).min()\n",
    "mdd.plot()"
   ]
  },
  {
   "cell_type": "code",
   "execution_count": 5,
   "id": "644dde99",
   "metadata": {},
   "outputs": [
    {
     "name": "stdout",
     "output_type": "stream",
     "text": [
      "Maximum Drawdown for the given period is: -37.086171369594325 %\n"
     ]
    }
   ],
   "source": [
    "print(f\"Maximum Drawdown for the given period is: {mdd[-1]*100} %\")"
   ]
  },
  {
   "cell_type": "code",
   "execution_count": 6,
   "id": "c55f7d48",
   "metadata": {},
   "outputs": [
    {
     "data": {
      "text/plain": [
       "array([ 0.        , -0.00112816,  0.00015703, ..., -0.00090819,\n",
       "       -0.0066152 , -0.00026691])"
      ]
     },
     "execution_count": 6,
     "metadata": {},
     "output_type": "execute_result"
    }
   ],
   "source": [
    "#Cumulative returns\n",
    "returns = data['Close'].resample('D').ffill().pct_change().to_numpy()\n",
    "returns[0] = 0\n",
    "returns"
   ]
  },
  {
   "cell_type": "code",
   "execution_count": 7,
   "id": "ed00ab9f",
   "metadata": {},
   "outputs": [
    {
     "data": {
      "text/plain": [
       "array([1.        , 0.99887184, 0.99902869, ..., 3.16812689, 3.1471691 ,\n",
       "       3.14632909])"
      ]
     },
     "execution_count": 7,
     "metadata": {},
     "output_type": "execute_result"
    }
   ],
   "source": [
    "cumulative_ret =( 1+returns).cumprod()\n",
    "cumulative_ret"
   ]
  },
  {
   "cell_type": "code",
   "execution_count": 8,
   "id": "1307f186",
   "metadata": {},
   "outputs": [
    {
     "name": "stdout",
     "output_type": "stream",
     "text": [
      "Cumulative return of stock is 314.6329088229129%\n"
     ]
    }
   ],
   "source": [
    "print(f\"Cumulative return of stock is {cumulative_ret[-1]*100}%\")"
   ]
  },
  {
   "cell_type": "code",
   "execution_count": 9,
   "id": "69f68348",
   "metadata": {},
   "outputs": [
    {
     "data": {
      "text/plain": [
       "Date\n",
       "2010-12-31         NaN\n",
       "2011-12-31    0.055284\n",
       "2012-12-31    0.072566\n",
       "2013-12-31    0.264994\n",
       "2014-12-31    0.075191\n",
       "2015-12-31   -0.022333\n",
       "2016-12-31    0.134150\n",
       "2017-12-31    0.250808\n",
       "2018-12-31   -0.056303\n",
       "2019-12-31    0.223384\n",
       "2020-12-31    0.072465\n",
       "2021-12-31    0.187275\n",
       "2022-12-31   -0.087815\n",
       "2023-12-31    0.004627\n",
       "Freq: A-DEC, Name: Close, dtype: float64"
      ]
     },
     "execution_count": 9,
     "metadata": {},
     "output_type": "execute_result"
    }
   ],
   "source": [
    "# Sharpe ratio\n",
    "yearly_returns = data['Close'].resample('Y').ffill().pct_change()\n",
    "yearly_returns"
   ]
  },
  {
   "cell_type": "code",
   "execution_count": 10,
   "id": "b0bb1564",
   "metadata": {},
   "outputs": [
    {
     "data": {
      "text/plain": [
       "Date\n",
       "2010-01-31         NaN\n",
       "2010-02-28    0.025620\n",
       "2010-03-31    0.051463\n",
       "2010-04-30    0.013999\n",
       "2010-05-31   -0.079209\n",
       "                ...   \n",
       "2023-01-31    0.028322\n",
       "2023-02-28   -0.041933\n",
       "2023-03-31    0.018907\n",
       "2023-04-30    0.024764\n",
       "2023-05-31   -0.023390\n",
       "Freq: M, Name: Close, Length: 161, dtype: float64"
      ]
     },
     "execution_count": 10,
     "metadata": {},
     "output_type": "execute_result"
    }
   ],
   "source": [
    "monthly_returns = data['Close'].resample('M').ffill().pct_change()\n",
    "monthly_returns"
   ]
  },
  {
   "cell_type": "code",
   "execution_count": 11,
   "id": "f615610c",
   "metadata": {},
   "outputs": [
    {
     "name": "stdout",
     "output_type": "stream",
     "text": [
      "Average yearly return is : 9.033023238160895%\n"
     ]
    }
   ],
   "source": [
    "avg_yearly_return = yearly_returns.mean()\n",
    "print(f\"Average yearly return is : {avg_yearly_return*100}%\")"
   ]
  },
  {
   "cell_type": "code",
   "execution_count": 12,
   "id": "393fed84",
   "metadata": {},
   "outputs": [
    {
     "name": "stdout",
     "output_type": "stream",
     "text": [
      "Sharpe ratio is : 4.859065556807879\n"
     ]
    }
   ],
   "source": [
    "sharpe_ratio = (avg_yearly_return - 0.07)/(monthly_returns.std())\n",
    "print(f\"Sharpe ratio is : {sharpe_ratio*10}\")"
   ]
  },
  {
   "cell_type": "code",
   "execution_count": 13,
   "id": "1af67b45",
   "metadata": {},
   "outputs": [
    {
     "data": {
      "text/plain": [
       "Date\n",
       "2010-05-31   -0.079209\n",
       "2010-06-30   -0.035772\n",
       "2010-08-31   -0.043113\n",
       "2010-11-30   -0.010116\n",
       "2011-05-31   -0.018793\n",
       "2011-06-30   -0.012367\n",
       "2011-07-31   -0.021838\n",
       "2011-08-31   -0.043622\n",
       "2011-09-30   -0.060287\n",
       "2012-05-31   -0.062071\n",
       "2012-10-31   -0.025353\n",
       "2012-11-30   -0.005412\n",
       "2013-06-30   -0.013626\n",
       "2013-08-31   -0.044468\n",
       "2014-01-31   -0.052955\n",
       "2014-07-31   -0.015648\n",
       "2014-09-30   -0.003249\n",
       "2014-12-31   -0.000290\n",
       "2015-01-31   -0.036925\n",
       "2015-03-31   -0.019665\n",
       "2015-06-30   -0.021719\n",
       "2015-08-31   -0.065678\n",
       "2015-09-30   -0.014722\n",
       "2015-12-31   -0.016642\n",
       "2016-01-31   -0.055020\n",
       "2016-08-31   -0.001701\n",
       "2016-09-30   -0.005039\n",
       "2016-10-31   -0.009052\n",
       "2017-03-31   -0.007160\n",
       "2018-02-28   -0.042838\n",
       "2018-03-31   -0.037000\n",
       "2018-06-30   -0.005915\n",
       "2018-10-31   -0.050742\n",
       "2018-12-31   -0.086575\n",
       "2019-05-31   -0.066855\n",
       "2019-08-31   -0.017160\n",
       "2020-01-31   -0.009896\n",
       "2020-02-29   -0.100746\n",
       "2020-03-31   -0.137438\n",
       "2020-09-30   -0.022805\n",
       "2020-10-31   -0.046077\n",
       "2021-01-31   -0.020383\n",
       "2021-06-30   -0.000780\n",
       "2021-09-30   -0.042895\n",
       "2021-11-30   -0.037294\n",
       "2022-01-31   -0.033200\n",
       "2022-02-28   -0.035274\n",
       "2022-04-30   -0.049055\n",
       "2022-06-30   -0.067132\n",
       "2022-08-31   -0.040636\n",
       "2022-09-30   -0.088381\n",
       "2022-12-31   -0.041704\n",
       "2023-02-28   -0.041933\n",
       "2023-05-31   -0.023390\n",
       "Name: Close, dtype: float64"
      ]
     },
     "execution_count": 13,
     "metadata": {},
     "output_type": "execute_result"
    }
   ],
   "source": [
    "# Sortino ratio\n",
    "neg_monthly_returns = monthly_returns[monthly_returns < 0]\n",
    "neg_monthly_returns"
   ]
  },
  {
   "cell_type": "code",
   "execution_count": 14,
   "id": "3f6a5244",
   "metadata": {},
   "outputs": [
    {
     "name": "stdout",
     "output_type": "stream",
     "text": [
      "Sortino Ratio: 7.220013176361636\n"
     ]
    }
   ],
   "source": [
    "std_neg = neg_monthly_returns.std()\n",
    "sortino = ((avg_yearly_return - 0.07)*10.0)/std_neg\n",
    "print(f\"Sortino Ratio: {sortino}\")"
   ]
  },
  {
   "cell_type": "code",
   "execution_count": null,
   "id": "3c6c2330",
   "metadata": {},
   "outputs": [],
   "source": []
  }
 ],
 "metadata": {
  "kernelspec": {
   "display_name": "Python 3 (ipykernel)",
   "language": "python",
   "name": "python3"
  },
  "language_info": {
   "codemirror_mode": {
    "name": "ipython",
    "version": 3
   },
   "file_extension": ".py",
   "mimetype": "text/x-python",
   "name": "python",
   "nbconvert_exporter": "python",
   "pygments_lexer": "ipython3",
   "version": "3.10.8"
  }
 },
 "nbformat": 4,
 "nbformat_minor": 5
}
