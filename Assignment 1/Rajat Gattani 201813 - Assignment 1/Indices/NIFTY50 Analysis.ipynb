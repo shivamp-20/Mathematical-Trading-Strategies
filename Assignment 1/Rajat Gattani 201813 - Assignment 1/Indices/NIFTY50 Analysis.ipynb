{
 "cells": [
  {
   "cell_type": "code",
   "execution_count": 1,
   "id": "96a4063b",
   "metadata": {},
   "outputs": [],
   "source": [
    "import numpy as np\n",
    "import pandas as pd\n",
    "import yfinance as yf\n",
    "import matplotlib.pyplot as plt\n",
    "import seaborn as sns"
   ]
  },
  {
   "cell_type": "code",
   "execution_count": 2,
   "id": "50d30ba2",
   "metadata": {},
   "outputs": [
    {
     "name": "stdout",
     "output_type": "stream",
     "text": [
      "[*********************100%***********************]  1 of 1 completed\n"
     ]
    },
    {
     "data": {
      "text/html": [
       "<div>\n",
       "<style scoped>\n",
       "    .dataframe tbody tr th:only-of-type {\n",
       "        vertical-align: middle;\n",
       "    }\n",
       "\n",
       "    .dataframe tbody tr th {\n",
       "        vertical-align: top;\n",
       "    }\n",
       "\n",
       "    .dataframe thead th {\n",
       "        text-align: right;\n",
       "    }\n",
       "</style>\n",
       "<table border=\"1\" class=\"dataframe\">\n",
       "  <thead>\n",
       "    <tr style=\"text-align: right;\">\n",
       "      <th></th>\n",
       "      <th>Open</th>\n",
       "      <th>High</th>\n",
       "      <th>Low</th>\n",
       "      <th>Close</th>\n",
       "      <th>Adj Close</th>\n",
       "      <th>Volume</th>\n",
       "    </tr>\n",
       "    <tr>\n",
       "      <th>Date</th>\n",
       "      <th></th>\n",
       "      <th></th>\n",
       "      <th></th>\n",
       "      <th></th>\n",
       "      <th></th>\n",
       "      <th></th>\n",
       "    </tr>\n",
       "  </thead>\n",
       "  <tbody>\n",
       "    <tr>\n",
       "      <th>2010-01-04</th>\n",
       "      <td>5200.899902</td>\n",
       "      <td>5238.450195</td>\n",
       "      <td>5167.100098</td>\n",
       "      <td>5232.200195</td>\n",
       "      <td>5232.200195</td>\n",
       "      <td>0</td>\n",
       "    </tr>\n",
       "    <tr>\n",
       "      <th>2010-01-05</th>\n",
       "      <td>5277.149902</td>\n",
       "      <td>5288.350098</td>\n",
       "      <td>5242.399902</td>\n",
       "      <td>5277.899902</td>\n",
       "      <td>5277.899902</td>\n",
       "      <td>0</td>\n",
       "    </tr>\n",
       "    <tr>\n",
       "      <th>2010-01-06</th>\n",
       "      <td>5278.149902</td>\n",
       "      <td>5310.850098</td>\n",
       "      <td>5260.049805</td>\n",
       "      <td>5281.799805</td>\n",
       "      <td>5281.799805</td>\n",
       "      <td>0</td>\n",
       "    </tr>\n",
       "    <tr>\n",
       "      <th>2010-01-07</th>\n",
       "      <td>5281.799805</td>\n",
       "      <td>5302.549805</td>\n",
       "      <td>5244.750000</td>\n",
       "      <td>5263.100098</td>\n",
       "      <td>5263.100098</td>\n",
       "      <td>0</td>\n",
       "    </tr>\n",
       "    <tr>\n",
       "      <th>2010-01-08</th>\n",
       "      <td>5264.250000</td>\n",
       "      <td>5276.750000</td>\n",
       "      <td>5234.700195</td>\n",
       "      <td>5244.750000</td>\n",
       "      <td>5244.750000</td>\n",
       "      <td>0</td>\n",
       "    </tr>\n",
       "  </tbody>\n",
       "</table>\n",
       "</div>"
      ],
      "text/plain": [
       "                   Open         High          Low        Close    Adj Close  \\\n",
       "Date                                                                          \n",
       "2010-01-04  5200.899902  5238.450195  5167.100098  5232.200195  5232.200195   \n",
       "2010-01-05  5277.149902  5288.350098  5242.399902  5277.899902  5277.899902   \n",
       "2010-01-06  5278.149902  5310.850098  5260.049805  5281.799805  5281.799805   \n",
       "2010-01-07  5281.799805  5302.549805  5244.750000  5263.100098  5263.100098   \n",
       "2010-01-08  5264.250000  5276.750000  5234.700195  5244.750000  5244.750000   \n",
       "\n",
       "            Volume  \n",
       "Date                \n",
       "2010-01-04       0  \n",
       "2010-01-05       0  \n",
       "2010-01-06       0  \n",
       "2010-01-07       0  \n",
       "2010-01-08       0  "
      ]
     },
     "execution_count": 2,
     "metadata": {},
     "output_type": "execute_result"
    }
   ],
   "source": [
    "stock = '^NSEI'\n",
    "data = yf.download(stock,'2010-01-01','2023-05-14')\n",
    "data.head()"
   ]
  },
  {
   "cell_type": "code",
   "execution_count": 3,
   "id": "4ac4a64b",
   "metadata": {},
   "outputs": [
    {
     "data": {
      "text/plain": [
       "Date\n",
       "2010-01-04     5232.200195\n",
       "2010-01-05     5277.899902\n",
       "2010-01-06     5281.799805\n",
       "2010-01-07     5263.100098\n",
       "2010-01-08     5244.750000\n",
       "                  ...     \n",
       "2023-05-08    18264.400391\n",
       "2023-05-09    18265.949219\n",
       "2023-05-10    18315.099609\n",
       "2023-05-11    18297.000000\n",
       "2023-05-12    18314.800781\n",
       "Name: Close, Length: 3277, dtype: float64"
      ]
     },
     "execution_count": 3,
     "metadata": {},
     "output_type": "execute_result"
    }
   ],
   "source": [
    "price = data['Close']\n",
    "price"
   ]
  },
  {
   "cell_type": "code",
   "execution_count": 4,
   "id": "2f8748fb",
   "metadata": {},
   "outputs": [
    {
     "data": {
      "text/plain": [
       "<AxesSubplot: xlabel='Date'>"
      ]
     },
     "execution_count": 4,
     "metadata": {},
     "output_type": "execute_result"
    },
    {
     "data": {
      "image/png": "[encoded data removed]",
      "text/plain": [
       "<Figure size 432x288 with 1 Axes>"
      ]
     },
     "metadata": {
      "needs_background": "light"
     },
     "output_type": "display_data"
    }
   ],
   "source": [
    "#Maximum Drawdown (MDD) calculation\n",
    "roll_max = data['Close'].rolling(len(price)-1,min_periods=1).max()\n",
    "daily_drawdown = data['Close']/roll_max - 1.0\n",
    "mdd = daily_drawdown.rolling(len(price)-1,min_periods=1).min()\n",
    "mdd.plot()"
   ]
  },
  {
   "cell_type": "code",
   "execution_count": 5,
   "id": "644dde99",
   "metadata": {},
   "outputs": [
    {
     "name": "stdout",
     "output_type": "stream",
     "text": [
      "Maximum Drawdown for the given period is: -38.43985245274211 %\n"
     ]
    }
   ],
   "source": [
    "print(f\"Maximum Drawdown for the given period is: {mdd[-1]*100} %\")"
   ]
  },
  {
   "cell_type": "code",
   "execution_count": 6,
   "id": "c55f7d48",
   "metadata": {},
   "outputs": [
    {
     "data": {
      "text/plain": [
       "array([ 0.        ,  0.00873432,  0.00073891, ...,  0.00269082,\n",
       "       -0.00098823,  0.00097288])"
      ]
     },
     "execution_count": 6,
     "metadata": {},
     "output_type": "execute_result"
    }
   ],
   "source": [
    "#Cumulative returns\n",
    "returns = data['Close'].resample('D').ffill().pct_change().to_numpy()\n",
    "returns[0] = 0\n",
    "returns"
   ]
  },
  {
   "cell_type": "code",
   "execution_count": 7,
   "id": "ed00ab9f",
   "metadata": {},
   "outputs": [
    {
     "data": {
      "text/plain": [
       "array([1.        , 1.00873432, 1.00947968, ..., 3.50045849, 3.49699922,\n",
       "       3.50040138])"
      ]
     },
     "execution_count": 7,
     "metadata": {},
     "output_type": "execute_result"
    }
   ],
   "source": [
    "cumulative_ret =( 1+returns).cumprod()\n",
    "cumulative_ret"
   ]
  },
  {
   "cell_type": "code",
   "execution_count": 8,
   "id": "1307f186",
   "metadata": {},
   "outputs": [
    {
     "name": "stdout",
     "output_type": "stream",
     "text": [
      "Cumulative return of stock is 350.0401379453741%\n"
     ]
    }
   ],
   "source": [
    "print(f\"Cumulative return of stock is {cumulative_ret[-1]*100}%\")"
   ]
  },
  {
   "cell_type": "code",
   "execution_count": 9,
   "id": "69f68348",
   "metadata": {},
   "outputs": [
    {
     "data": {
      "text/plain": [
       "Date\n",
       "2010-12-31         NaN\n",
       "2011-12-31   -0.246181\n",
       "2012-12-31    0.276972\n",
       "2013-12-31    0.067552\n",
       "2014-12-31    0.313880\n",
       "2015-12-31   -0.040609\n",
       "2016-12-31    0.030133\n",
       "2017-12-31    0.286460\n",
       "2018-12-31    0.031513\n",
       "2019-12-31    0.120220\n",
       "2020-12-31    0.149016\n",
       "2021-12-31    0.241193\n",
       "2022-12-31    0.043290\n",
       "2023-12-31    0.011571\n",
       "Freq: A-DEC, Name: Close, dtype: float64"
      ]
     },
     "execution_count": 9,
     "metadata": {},
     "output_type": "execute_result"
    }
   ],
   "source": [
    "# Sharpe ratio\n",
    "yearly_returns = data['Close'].resample('Y').ffill().pct_change()\n",
    "yearly_returns"
   ]
  },
  {
   "cell_type": "code",
   "execution_count": 10,
   "id": "b0bb1564",
   "metadata": {},
   "outputs": [
    {
     "data": {
      "text/plain": [
       "Date\n",
       "2010-01-31         NaN\n",
       "2010-02-28    0.008244\n",
       "2010-03-31    0.066392\n",
       "2010-04-30    0.005506\n",
       "2010-05-31   -0.036321\n",
       "                ...   \n",
       "2023-01-31   -0.024476\n",
       "2023-02-28   -0.020281\n",
       "2023-03-31    0.003225\n",
       "2023-04-30    0.040626\n",
       "2023-05-31    0.013828\n",
       "Freq: M, Name: Close, Length: 161, dtype: float64"
      ]
     },
     "execution_count": 10,
     "metadata": {},
     "output_type": "execute_result"
    }
   ],
   "source": [
    "monthly_returns = data['Close'].resample('M').ffill().pct_change()\n",
    "monthly_returns"
   ]
  },
  {
   "cell_type": "code",
   "execution_count": 11,
   "id": "f615610c",
   "metadata": {},
   "outputs": [
    {
     "name": "stdout",
     "output_type": "stream",
     "text": [
      "Average yearly return is : 9.884688903224669%\n"
     ]
    }
   ],
   "source": [
    "avg_yearly_return = yearly_returns.mean()\n",
    "print(f\"Average yearly return is : {avg_yearly_return*100}%\")"
   ]
  },
  {
   "cell_type": "code",
   "execution_count": 12,
   "id": "393fed84",
   "metadata": {},
   "outputs": [
    {
     "name": "stdout",
     "output_type": "stream",
     "text": [
      "Sharpe ratio is : 5.865514495786444\n"
     ]
    }
   ],
   "source": [
    "sharpe_ratio = (avg_yearly_return - 0.07)/(monthly_returns.std())\n",
    "print(f\"Sharpe ratio is : {sharpe_ratio*10}\")"
   ]
  },
  {
   "cell_type": "code",
   "execution_count": 13,
   "id": "1af67b45",
   "metadata": {},
   "outputs": [
    {
     "data": {
      "text/plain": [
       "Date\n",
       "2010-05-31   -0.036321\n",
       "2010-10-31   -0.002032\n",
       "2010-11-30   -0.025757\n",
       "2011-01-31   -0.102470\n",
       "2011-02-28   -0.031357\n",
       "                ...   \n",
       "2022-06-30   -0.048497\n",
       "2022-09-30   -0.037442\n",
       "2022-12-31   -0.034814\n",
       "2023-01-31   -0.024476\n",
       "2023-02-28   -0.020281\n",
       "Name: Close, Length: 70, dtype: float64"
      ]
     },
     "execution_count": 13,
     "metadata": {},
     "output_type": "execute_result"
    }
   ],
   "source": [
    "# Sortino ratio\n",
    "neg_monthly_returns = monthly_returns[monthly_returns < 0]\n",
    "neg_monthly_returns"
   ]
  },
  {
   "cell_type": "code",
   "execution_count": 14,
   "id": "3f6a5244",
   "metadata": {},
   "outputs": [
    {
     "name": "stdout",
     "output_type": "stream",
     "text": [
      "Sortino Ratio: 8.507984933461424\n"
     ]
    }
   ],
   "source": [
    "std_neg = neg_monthly_returns.std()\n",
    "sortino = ((avg_yearly_return - 0.07)*10.0)/std_neg\n",
    "print(f\"Sortino Ratio: {sortino}\")"
   ]
  },
  {
   "cell_type": "code",
   "execution_count": null,
   "id": "3c6c2330",
   "metadata": {},
   "outputs": [],
   "source": []
  }
 ],
 "metadata": {
  "kernelspec": {
   "display_name": "Python 3 (ipykernel)",
   "language": "python",
   "name": "python3"
  },
  "language_info": {
   "codemirror_mode": {
    "name": "ipython",
    "version": 3
   },
   "file_extension": ".py",
   "mimetype": "text/x-python",
   "name": "python",
   "nbconvert_exporter": "python",
   "pygments_lexer": "ipython3",
   "version": "3.10.8"
  }
 },
 "nbformat": 4,
 "nbformat_minor": 5
}
