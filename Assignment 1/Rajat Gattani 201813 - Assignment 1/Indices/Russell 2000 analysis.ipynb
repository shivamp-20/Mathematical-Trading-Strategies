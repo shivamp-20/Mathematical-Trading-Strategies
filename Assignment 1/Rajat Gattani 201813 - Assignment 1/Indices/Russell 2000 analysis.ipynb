{
 "cells": [
  {
   "cell_type": "code",
   "execution_count": 1,
   "id": "96a4063b",
   "metadata": {},
   "outputs": [],
   "source": [
    "import numpy as np\n",
    "import pandas as pd\n",
    "import yfinance as yf\n",
    "import matplotlib.pyplot as plt\n",
    "import seaborn as sns"
   ]
  },
  {
   "cell_type": "code",
   "execution_count": 2,
   "id": "50d30ba2",
   "metadata": {},
   "outputs": [
    {
     "name": "stdout",
     "output_type": "stream",
     "text": [
      "[*********************100%***********************]  1 of 1 completed\n"
     ]
    },
    {
     "data": {
      "text/html": [
       "<div>\n",
       "<style scoped>\n",
       "    .dataframe tbody tr th:only-of-type {\n",
       "        vertical-align: middle;\n",
       "    }\n",
       "\n",
       "    .dataframe tbody tr th {\n",
       "        vertical-align: top;\n",
       "    }\n",
       "\n",
       "    .dataframe thead th {\n",
       "        text-align: right;\n",
       "    }\n",
       "</style>\n",
       "<table border=\"1\" class=\"dataframe\">\n",
       "  <thead>\n",
       "    <tr style=\"text-align: right;\">\n",
       "      <th></th>\n",
       "      <th>Open</th>\n",
       "      <th>High</th>\n",
       "      <th>Low</th>\n",
       "      <th>Close</th>\n",
       "      <th>Adj Close</th>\n",
       "      <th>Volume</th>\n",
       "    </tr>\n",
       "    <tr>\n",
       "      <th>Date</th>\n",
       "      <th></th>\n",
       "      <th></th>\n",
       "      <th></th>\n",
       "      <th></th>\n",
       "      <th></th>\n",
       "      <th></th>\n",
       "    </tr>\n",
       "  </thead>\n",
       "  <tbody>\n",
       "    <tr>\n",
       "      <th>2010-01-04</th>\n",
       "      <td>628.109985</td>\n",
       "      <td>640.099976</td>\n",
       "      <td>628.109985</td>\n",
       "      <td>640.099976</td>\n",
       "      <td>640.099976</td>\n",
       "      <td>3991400000</td>\n",
       "    </tr>\n",
       "    <tr>\n",
       "      <th>2010-01-05</th>\n",
       "      <td>639.690002</td>\n",
       "      <td>641.890015</td>\n",
       "      <td>635.950012</td>\n",
       "      <td>638.489990</td>\n",
       "      <td>638.489990</td>\n",
       "      <td>2491020000</td>\n",
       "    </tr>\n",
       "    <tr>\n",
       "      <th>2010-01-06</th>\n",
       "      <td>638.289978</td>\n",
       "      <td>641.260010</td>\n",
       "      <td>636.400024</td>\n",
       "      <td>637.950012</td>\n",
       "      <td>637.950012</td>\n",
       "      <td>4972660000</td>\n",
       "    </tr>\n",
       "    <tr>\n",
       "      <th>2010-01-07</th>\n",
       "      <td>638.109985</td>\n",
       "      <td>642.070007</td>\n",
       "      <td>632.739990</td>\n",
       "      <td>641.969971</td>\n",
       "      <td>641.969971</td>\n",
       "      <td>5270680000</td>\n",
       "    </tr>\n",
       "    <tr>\n",
       "      <th>2010-01-08</th>\n",
       "      <td>640.340027</td>\n",
       "      <td>644.690002</td>\n",
       "      <td>639.559998</td>\n",
       "      <td>644.559998</td>\n",
       "      <td>644.559998</td>\n",
       "      <td>4389590000</td>\n",
       "    </tr>\n",
       "  </tbody>\n",
       "</table>\n",
       "</div>"
      ],
      "text/plain": [
       "                  Open        High         Low       Close   Adj Close  \\\n",
       "Date                                                                     \n",
       "2010-01-04  628.109985  640.099976  628.109985  640.099976  640.099976   \n",
       "2010-01-05  639.690002  641.890015  635.950012  638.489990  638.489990   \n",
       "2010-01-06  638.289978  641.260010  636.400024  637.950012  637.950012   \n",
       "2010-01-07  638.109985  642.070007  632.739990  641.969971  641.969971   \n",
       "2010-01-08  640.340027  644.690002  639.559998  644.559998  644.559998   \n",
       "\n",
       "                Volume  \n",
       "Date                    \n",
       "2010-01-04  3991400000  \n",
       "2010-01-05  2491020000  \n",
       "2010-01-06  4972660000  \n",
       "2010-01-07  5270680000  \n",
       "2010-01-08  4389590000  "
      ]
     },
     "execution_count": 2,
     "metadata": {},
     "output_type": "execute_result"
    }
   ],
   "source": [
    "stock = '^RUT'\n",
    "data = yf.download(stock,'2010-01-01','2023-05-14')\n",
    "data.head()"
   ]
  },
  {
   "cell_type": "code",
   "execution_count": 3,
   "id": "4ac4a64b",
   "metadata": {},
   "outputs": [
    {
     "data": {
      "text/plain": [
       "Date\n",
       "2010-01-04     640.099976\n",
       "2010-01-05     638.489990\n",
       "2010-01-06     637.950012\n",
       "2010-01-07     641.969971\n",
       "2010-01-08     644.559998\n",
       "                 ...     \n",
       "2023-05-08    1754.469971\n",
       "2023-05-09    1749.680054\n",
       "2023-05-10    1759.510010\n",
       "2023-05-11    1744.709961\n",
       "2023-05-12    1740.849976\n",
       "Name: Close, Length: 3363, dtype: float64"
      ]
     },
     "execution_count": 3,
     "metadata": {},
     "output_type": "execute_result"
    }
   ],
   "source": [
    "price = data['Close']\n",
    "price"
   ]
  },
  {
   "cell_type": "code",
   "execution_count": 4,
   "id": "2f8748fb",
   "metadata": {},
   "outputs": [
    {
     "data": {
      "text/plain": [
       "<AxesSubplot: xlabel='Date'>"
      ]
     },
     "execution_count": 4,
     "metadata": {},
     "output_type": "execute_result"
    },
    {
     "data": {
      "image/png": "[encoded data removed]",
      "text/plain": [
       "<Figure size 432x288 with 1 Axes>"
      ]
     },
     "metadata": {
      "needs_background": "light"
     },
     "output_type": "display_data"
    }
   ],
   "source": [
    "#Maximum Drawdown (MDD) calculation\n",
    "roll_max = data['Close'].rolling(len(price)-1,min_periods=1).max()\n",
    "daily_drawdown = data['Close']/roll_max - 1.0\n",
    "mdd = daily_drawdown.rolling(len(price)-1,min_periods=1).min()\n",
    "mdd.plot()"
   ]
  },
  {
   "cell_type": "code",
   "execution_count": 5,
   "id": "644dde99",
   "metadata": {},
   "outputs": [
    {
     "name": "stdout",
     "output_type": "stream",
     "text": [
      "Maximum Drawdown for the given period is: -43.061325684645624 %\n"
     ]
    }
   ],
   "source": [
    "print(f\"Maximum Drawdown for the given period is: {mdd[-1]*100} %\")"
   ]
  },
  {
   "cell_type": "code",
   "execution_count": 6,
   "id": "c55f7d48",
   "metadata": {},
   "outputs": [
    {
     "data": {
      "text/plain": [
       "array([ 0.        , -0.00251521, -0.00084571, ...,  0.00561814,\n",
       "       -0.00841146, -0.00221239])"
      ]
     },
     "execution_count": 6,
     "metadata": {},
     "output_type": "execute_result"
    }
   ],
   "source": [
    "#Cumulative returns\n",
    "returns = data['Close'].resample('D').ffill().pct_change().to_numpy()\n",
    "returns[0] = 0\n",
    "returns"
   ]
  },
  {
   "cell_type": "code",
   "execution_count": 7,
   "id": "ed00ab9f",
   "metadata": {},
   "outputs": [
    {
     "data": {
      "text/plain": [
       "array([1.        , 0.99748479, 0.99664121, ..., 2.74880499, 2.72568353,\n",
       "       2.71965324])"
      ]
     },
     "execution_count": 7,
     "metadata": {},
     "output_type": "execute_result"
    }
   ],
   "source": [
    "cumulative_ret =( 1+returns).cumprod()\n",
    "cumulative_ret"
   ]
  },
  {
   "cell_type": "code",
   "execution_count": 8,
   "id": "1307f186",
   "metadata": {},
   "outputs": [
    {
     "name": "stdout",
     "output_type": "stream",
     "text": [
      "Cumulative return of stock is 271.9653244780073%\n"
     ]
    }
   ],
   "source": [
    "print(f\"Cumulative return of stock is {cumulative_ret[-1]*100}%\")"
   ]
  },
  {
   "cell_type": "code",
   "execution_count": 9,
   "id": "69f68348",
   "metadata": {},
   "outputs": [
    {
     "data": {
      "text/plain": [
       "Date\n",
       "2010-12-31         NaN\n",
       "2011-12-31   -0.054527\n",
       "2012-12-31    0.146345\n",
       "2013-12-31    0.370036\n",
       "2014-12-31    0.035286\n",
       "2015-12-31   -0.057118\n",
       "2016-12-31    0.194772\n",
       "2017-12-31    0.131439\n",
       "2018-12-31   -0.121751\n",
       "2019-12-31    0.237223\n",
       "2020-12-31    0.183635\n",
       "2021-12-31    0.136946\n",
       "2022-12-31   -0.215587\n",
       "2023-12-31   -0.011583\n",
       "Freq: A-DEC, Name: Close, dtype: float64"
      ]
     },
     "execution_count": 9,
     "metadata": {},
     "output_type": "execute_result"
    }
   ],
   "source": [
    "# Sharpe ratio\n",
    "yearly_returns = data['Close'].resample('Y').ffill().pct_change()\n",
    "yearly_returns"
   ]
  },
  {
   "cell_type": "code",
   "execution_count": 10,
   "id": "b0bb1564",
   "metadata": {},
   "outputs": [
    {
     "data": {
      "text/plain": [
       "Date\n",
       "2010-01-31         NaN\n",
       "2010-02-28    0.044050\n",
       "2010-03-31    0.079674\n",
       "2010-04-30    0.055935\n",
       "2010-05-31   -0.076737\n",
       "                ...   \n",
       "2023-01-31    0.096914\n",
       "2023-02-28   -0.018091\n",
       "2023-03-31   -0.049821\n",
       "2023-04-30   -0.018580\n",
       "2023-05-31   -0.015907\n",
       "Freq: M, Name: Close, Length: 161, dtype: float64"
      ]
     },
     "execution_count": 10,
     "metadata": {},
     "output_type": "execute_result"
    }
   ],
   "source": [
    "monthly_returns = data['Close'].resample('M').ffill().pct_change()\n",
    "monthly_returns"
   ]
  },
  {
   "cell_type": "code",
   "execution_count": 11,
   "id": "f615610c",
   "metadata": {},
   "outputs": [
    {
     "name": "stdout",
     "output_type": "stream",
     "text": [
      "Average yearly return is : 7.500905122830439%\n"
     ]
    }
   ],
   "source": [
    "avg_yearly_return = yearly_returns.mean()\n",
    "print(f\"Average yearly return is : {avg_yearly_return*100}%\")"
   ]
  },
  {
   "cell_type": "code",
   "execution_count": 15,
   "id": "393fed84",
   "metadata": {},
   "outputs": [
    {
     "name": "stdout",
     "output_type": "stream",
     "text": [
      "Sharpe ratio is : 4.454613612010563\n"
     ]
    }
   ],
   "source": [
    "sharpe_ratio = (avg_yearly_return - 0.05)/(monthly_returns.std())\n",
    "print(f\"Sharpe ratio is : {sharpe_ratio*10}\")"
   ]
  },
  {
   "cell_type": "code",
   "execution_count": 13,
   "id": "1af67b45",
   "metadata": {},
   "outputs": [
    {
     "data": {
      "text/plain": [
       "Date\n",
       "2010-05-31   -0.076737\n",
       "2010-06-30   -0.078778\n",
       "2010-08-31   -0.075020\n",
       "2011-01-31   -0.003063\n",
       "2011-05-31   -0.019635\n",
       "                ...   \n",
       "2022-12-31   -0.066432\n",
       "2023-02-28   -0.018091\n",
       "2023-03-31   -0.049821\n",
       "2023-04-30   -0.018580\n",
       "2023-05-31   -0.015907\n",
       "Name: Close, Length: 62, dtype: float64"
      ]
     },
     "execution_count": 13,
     "metadata": {},
     "output_type": "execute_result"
    }
   ],
   "source": [
    "# Sortino ratio\n",
    "neg_monthly_returns = monthly_returns[monthly_returns < 0]\n",
    "neg_monthly_returns"
   ]
  },
  {
   "cell_type": "code",
   "execution_count": 16,
   "id": "3f6a5244",
   "metadata": {},
   "outputs": [
    {
     "name": "stdout",
     "output_type": "stream",
     "text": [
      "Sortino Ratio: 6.285520300010583\n"
     ]
    }
   ],
   "source": [
    "std_neg = neg_monthly_returns.std()\n",
    "sortino = ((avg_yearly_return - 0.05)*10.0)/std_neg\n",
    "print(f\"Sortino Ratio: {sortino}\")"
   ]
  },
  {
   "cell_type": "code",
   "execution_count": null,
   "id": "3c6c2330",
   "metadata": {},
   "outputs": [],
   "source": []
  }
 ],
 "metadata": {
  "kernelspec": {
   "display_name": "Python 3 (ipykernel)",
   "language": "python",
   "name": "python3"
  },
  "language_info": {
   "codemirror_mode": {
    "name": "ipython",
    "version": 3
   },
   "file_extension": ".py",
   "mimetype": "text/x-python",
   "name": "python",
   "nbconvert_exporter": "python",
   "pygments_lexer": "ipython3",
   "version": "3.10.8"
  }
 },
 "nbformat": 4,
 "nbformat_minor": 5
}
