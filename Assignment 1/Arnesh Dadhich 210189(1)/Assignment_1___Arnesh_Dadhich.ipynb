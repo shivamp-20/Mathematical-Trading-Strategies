{
  "nbformat": 4,
  "nbformat_minor": 0,
  "metadata": {
    "colab": {
      "provenance": []
    },
    "kernelspec": {
      "name": "python3",
      "display_name": "Python 3"
    },
    "language_info": {
      "name": "python"
    }
  },
  "cells": [
    {
      "cell_type": "code",
      "execution_count": 5,
      "metadata": {
        "id": "bvLOt555fkpt"
      },
      "outputs": [],
      "source": [
        "import math\n",
        "import pandas as pd\n",
        "import numpy\n",
        "import yfinance as yf\n"
      ]
    },
    {
      "cell_type": "code",
      "source": [
        "# Downloading the Data\n",
        "data = yf.download(\"GOOGL\", start=\"2010-01-01\", end=\"2023-05-01\", interval=\"1d\")"
      ],
      "metadata": {
        "colab": {
          "base_uri": "https://localhost:8080/"
        },
        "id": "N1nVjRhqlUgd",
        "outputId": "69934732-2a6c-4f92-dab6-e5c68d9a5984"
      },
      "execution_count": 6,
      "outputs": [
        {
          "output_type": "stream",
          "name": "stdout",
          "text": [
            "\r[*********************100%***********************]  1 of 1 completed\n"
          ]
        }
      ]
    },
    {
      "cell_type": "code",
      "source": [
        "# Calculating Daily Returns \n",
        "# Assuming Initial Price to be Rs. 100\n",
        "\n",
        "initial_price = 100\n",
        "\n",
        "start_price = []\n",
        "end_price = []\n",
        "max_price = []\n",
        "min_price = []\n",
        "daily_returns = []\n",
        "\n",
        "for i, date in enumerate(data.index):\n",
        "    if i == 0:\n",
        "        start_price.append(initial_price)\n",
        "    else:\n",
        "        start_price.append(end_price[i-1])\n",
        "\n",
        "    end_price.append((start_price[i] * data.Close[date]) / data.Open[date])\n",
        "    max_price.append((start_price[i] * data.High[date]) / data.Open[date])\n",
        "    min_price.append((start_price[i] * data.Low[date]) / data.Open[date])\n",
        "    daily_returns.append((end_price[i] - start_price[i]) / start_price[i])\n",
        "\n",
        "data[\"Start\"] = start_price\n",
        "data[\"End\"] = end_price\n",
        "data[\"Min\"] = min_price\n",
        "data[\"Max\"] = max_price\n",
        "data[\"Returns\"] = daily_returns  "
      ],
      "metadata": {
        "id": "p_nU4HWIleJm"
      },
      "execution_count": 7,
      "outputs": []
    },
    {
      "cell_type": "code",
      "source": [
        "# Calculating Cumulative Returns\n",
        "\n",
        "cumulative_returns = (data[\"End\"][-1] - initial_price)/initial_price\n",
        "cumulative_returns"
      ],
      "metadata": {
        "colab": {
          "base_uri": "https://localhost:8080/"
        },
        "id": "56Kpw0pblfLB",
        "outputId": "07e9013d-110a-48c6-cb2a-973e8d5f3227"
      },
      "execution_count": 8,
      "outputs": [
        {
          "output_type": "execute_result",
          "data": {
            "text/plain": [
              "-0.03504922389806154"
            ]
          },
          "metadata": {},
          "execution_count": 8
        }
      ]
    },
    {
      "cell_type": "code",
      "source": [
        "# Calculating Maximum Drawdown\n",
        "\n",
        "maximum_drawdown = 0\n",
        "MAX = -math.inf\n",
        "MIN = math.inf\n",
        "\n",
        "for date in data.index:\n",
        "    if data[\"Max\"][date] > MAX:\n",
        "        MAX = data[\"Max\"][date]\n",
        "        MIN = math.inf\n",
        "    if data[\"Min\"][date] < MIN:\n",
        "        MIN = data[\"Min\"][date]\n",
        "\n",
        "    maximum_drawdown = min(maximum_drawdown, ((MIN - MAX)/MAX))\n",
        "\n",
        "maximum_drawdown"
      ],
      "metadata": {
        "colab": {
          "base_uri": "https://localhost:8080/"
        },
        "id": "Mxja1x5UlfOL",
        "outputId": "c29bf31f-1f33-4ab2-d42a-6a2867f94043"
      },
      "execution_count": 9,
      "outputs": [
        {
          "output_type": "execute_result",
          "data": {
            "text/plain": [
              "-0.5781311425986818"
            ]
          },
          "metadata": {},
          "execution_count": 9
        }
      ]
    },
    {
      "cell_type": "code",
      "source": [
        "# Volitality \n",
        "# It is defined as the annualised standard deviation of returns over a period of time\n",
        "\n",
        "StdDevx = data.Returns.std()\n",
        "\n",
        "volitality = StdDevx * math.sqrt(252)  # 252 Trading Days in an Year\n",
        "volitality"
      ],
      "metadata": {
        "colab": {
          "base_uri": "https://localhost:8080/"
        },
        "id": "x4LCYBijln4n",
        "outputId": "d92c8136-f29d-46f9-8f03-813baa9c6a32"
      },
      "execution_count": 10,
      "outputs": [
        {
          "output_type": "execute_result",
          "data": {
            "text/plain": [
              "0.2050625531209582"
            ]
          },
          "metadata": {},
          "execution_count": 10
        }
      ]
    },
    {
      "cell_type": "code",
      "source": [
        "# Sharpe & Sortino Ratio \n",
        "\n",
        "Rx = data.Returns.mean() * 252                                          # Annualized Returns \n",
        "Volx = data.Returns.std() * math.sqrt(252)                              # Volitality or Annualized StdDev\n",
        "StdDev_Neg = data.Returns[data.Returns < 0].std() * math.sqrt(252)      # Annualized DownSide StdDev\n",
        "Rf = 0.06                                                               # RISK FREE RATE -> Based on Indian Govt. 10 Year Bond Rate\n",
        "\n",
        "sharpe_ratio = ((Rx - Rf)/Volx)\n",
        "sortino_ratio = ((Rx - Rf)/StdDev_Neg)\n",
        "print(sharpe_ratio, sortino_ratio)"
      ],
      "metadata": {
        "colab": {
          "base_uri": "https://localhost:8080/"
        },
        "id": "OZIOBtEulpEo",
        "outputId": "a1a534f4-0d60-45e6-a804-86c0d94e8f5c"
      },
      "execution_count": 11,
      "outputs": [
        {
          "output_type": "stream",
          "name": "stdout",
          "text": [
            "-0.20294590790609363 -0.28552140023083\n"
          ]
        }
      ]
    },
    {
      "cell_type": "code",
      "source": [
        "def get_stock_data(ticker, start_date=\"2010-01-01\", end_date=\"2023-05-01\"):\n",
        "    # Downloading the Data\n",
        "    data = yf.download(ticker, start=start_date, end=end_date, interval=\"1d\", progress=False)\n",
        "\n",
        "    # Calculating Daily Returns \n",
        "    # Assuming Initial Price to be Rs. 100\n",
        "    initial_price = 100\n",
        "\n",
        "    start_price = []\n",
        "    end_price = []\n",
        "    max_price = []\n",
        "    min_price = []\n",
        "    daily_returns = []\n",
        "\n",
        "    for i, date in enumerate(data.index):\n",
        "        if i == 0:\n",
        "            start_price.append(initial_price)\n",
        "        else:\n",
        "            start_price.append(end_price[i-1])\n",
        "\n",
        "        end_price.append((start_price[i] * data.Close[date]) / data.Open[date])\n",
        "        max_price.append((start_price[i] * data.High[date]) / data.Open[date])\n",
        "        min_price.append((start_price[i] * data.Low[date]) / data.Open[date])\n",
        "        daily_returns.append((end_price[i] - start_price[i]) / start_price[i])\n",
        "\n",
        "    data[\"Start\"] = start_price\n",
        "    data[\"End\"] = end_price\n",
        "    data[\"Min\"] = min_price\n",
        "    data[\"Max\"] = max_price\n",
        "    data[\"Returns\"] = daily_returns  \n",
        "\n",
        "    # Calculating Cumulative Returns\n",
        "    cumulative_returns = (data[\"End\"][-1] - initial_price)/initial_price\n",
        "\n",
        "    # Calculating Maximum Drawdown\n",
        "    maximum_drawdown = 0\n",
        "    MAX = -math.inf\n",
        "    MIN = math.inf\n",
        "\n",
        "\n",
        "    for date in data.index:\n",
        "        if data[\"Max\"][date] > MAX:\n",
        "            MAX = data[\"Max\"][date]\n",
        "            MIN = math.inf\n",
        "        if data[\"Min\"][date] < MIN:\n",
        "            MIN = data[\"Min\"][date]\n",
        "\n",
        "        maximum_drawdown = min(maximum_drawdown, ((MIN - MAX)/MAX))\n",
        "\n",
        "    # Volitality \n",
        "    # It is defined as the annualised standard deviation of returns over a period of time\n",
        "    StdDevx = data.Returns.std()\n",
        "    volitality = StdDevx * math.sqrt(252)  # 252 Trading Days in an Year\n",
        "\n",
        "    # Sharpe & Sortino Ratio \n",
        "    Rx = data.Returns.mean() * 252                                          # Annualized Returns \n",
        "    Volx = data.Returns.std() * math.sqrt(252)                              # Volitality or Annualized StdDev\n",
        "    StdDev_Neg = data.Returns[data.Returns < 0].std() * math.sqrt(252)      # Annualized DownSide StdDev\n",
        "    Rf = 0.06                                                               # RISK FREE RATE -> Based on Indian Govt. 10 Year Bond Rate\n",
        "\n",
        "    sharpe_ratio = ((Rx - Rf)/Volx)\n",
        "    sortino_ratio = ((Rx - Rf)/StdDev_Neg)\n",
        "\n",
        "\n",
        "    return cumulative_returns*100, volitality*100, sharpe_ratio, sortino_ratio, maximum_drawdown*100\n",
        "    "
      ],
      "metadata": {
        "id": "UNijoMPYlrwP"
      },
      "execution_count": 12,
      "outputs": []
    },
    {
      "cell_type": "code",
      "source": [
        "indices = ['^NSEI', '^RUT', '^STI', '^GSPC', '^VIX']\n",
        "equities = ['GOOGL', 'SBIN.BO', 'AMZN', 'GOLDBEES.BO', 'ASIANPAINT.BO']\n",
        "\n",
        "print(\"Indices Data -\")\n",
        "for indx in indices: \n",
        "    print('Index: {} ({}), Cumulative Returns: {:.2f} %, Volitality: {:.2f} %, Sharpe Ratio: {:.3f}, Sortino Ratio: {:.3f}, Maximum Drawdown: {:.2f} %'.format(indx, yf.Ticker(indx).info['longName'], *get_stock_data(indx)))\n",
        "print(\"\\nEquity Data -\")\n",
        "for eq in equities: \n",
        "    print('Stock: {}, Cumulative Returns: {:.2f}%, Volatility: {:.2f}%, Sharpe Ratio: {:.3f}, Sortino Ratio: {}'.format(stock_ticker, cumulative_returns * 100, volatility * 100, sharpe_ratio, sortino_ratio))\n"
      ],
      "metadata": {
        "colab": {
          "base_uri": "https://localhost:8080/",
          "height": 377
        },
        "id": "ryCCnZZXl4Dc",
        "outputId": "d5c47156-8076-45da-d656-fbe36bc86182"
      },
      "execution_count": 15,
      "outputs": [
        {
          "output_type": "stream",
          "name": "stdout",
          "text": [
            "Indices Data -\n",
            "Index: ^NSEI (NIFTY 50), Cumulative Returns: -90.67 %, Volitality: 14.54 %, Sharpe Ratio: -1.598, Sortino Ratio: -2.272, Maximum Drawdown: -92.21 %\n",
            "Index: ^RUT (Russell 2000), Cumulative Returns: 81.88 %, Volitality: 20.34 %, Sharpe Ratio: 0.028, Sortino Ratio: 0.038, Maximum Drawdown: -45.70 %\n",
            "Index: ^STI (STI Index), Cumulative Returns: -41.63 %, Volitality: 10.94 %, Sharpe Ratio: -0.866, Sortino Ratio: -1.196, Maximum Drawdown: -50.59 %\n",
            "Index: ^GSPC (S&P 500), Cumulative Returns: 122.67 %, Volitality: 14.86 %, Sharpe Ratio: 0.076, Sortino Ratio: 0.096, Maximum Drawdown: -23.72 %\n",
            "Index: ^VIX (CBOE Volatility Index), Cumulative Returns: -100.00 %, Volitality: 109.89 %, Sharpe Ratio: -1.228, Sortino Ratio: -2.496, Maximum Drawdown: -100.00 %\n",
            "\n",
            "Equity Data -\n"
          ]
        },
        {
          "output_type": "error",
          "ename": "NameError",
          "evalue": "ignored",
          "traceback": [
            "\u001b[0;31m---------------------------------------------------------------------------\u001b[0m",
            "\u001b[0;31mNameError\u001b[0m                                 Traceback (most recent call last)",
            "\u001b[0;32m<ipython-input-15-b31103e220d1>\u001b[0m in \u001b[0;36m<cell line: 8>\u001b[0;34m()\u001b[0m\n\u001b[1;32m      7\u001b[0m \u001b[0mprint\u001b[0m\u001b[0;34m(\u001b[0m\u001b[0;34m\"\\nEquity Data -\"\u001b[0m\u001b[0;34m)\u001b[0m\u001b[0;34m\u001b[0m\u001b[0;34m\u001b[0m\u001b[0m\n\u001b[1;32m      8\u001b[0m \u001b[0;32mfor\u001b[0m \u001b[0meq\u001b[0m \u001b[0;32min\u001b[0m \u001b[0mequities\u001b[0m\u001b[0;34m:\u001b[0m\u001b[0;34m\u001b[0m\u001b[0;34m\u001b[0m\u001b[0m\n\u001b[0;32m----> 9\u001b[0;31m     \u001b[0mprint\u001b[0m\u001b[0;34m(\u001b[0m\u001b[0;34m'Stock: {}, Cumulative Returns: {:.2f}%, Volatility: {:.2f}%, Sharpe Ratio: {:.3f}, Sortino Ratio: {}'\u001b[0m\u001b[0;34m.\u001b[0m\u001b[0mformat\u001b[0m\u001b[0;34m(\u001b[0m\u001b[0mstock_ticker\u001b[0m\u001b[0;34m,\u001b[0m \u001b[0mcumulative_returns\u001b[0m \u001b[0;34m*\u001b[0m \u001b[0;36m100\u001b[0m\u001b[0;34m,\u001b[0m \u001b[0mvolatility\u001b[0m \u001b[0;34m*\u001b[0m \u001b[0;36m100\u001b[0m\u001b[0;34m,\u001b[0m \u001b[0msharpe_ratio\u001b[0m\u001b[0;34m,\u001b[0m \u001b[0msortino_ratio\u001b[0m\u001b[0;34m)\u001b[0m\u001b[0;34m)\u001b[0m\u001b[0;34m\u001b[0m\u001b[0;34m\u001b[0m\u001b[0m\n\u001b[0m",
            "\u001b[0;31mNameError\u001b[0m: name 'stock_ticker' is not defined"
          ]
        }
      ]
    }
  ]
}