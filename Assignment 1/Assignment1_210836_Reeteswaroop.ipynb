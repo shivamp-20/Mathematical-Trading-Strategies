{
 "cells": [
  {
   "cell_type": "code",
   "execution_count": 74,
   "id": "55af897e",
   "metadata": {},
   "outputs": [
    {
     "name": "stdout",
     "output_type": "stream",
     "text": [
      "Requirement already satisfied: yfinance in c:\\users\\rites\\anaconda3\\lib\\site-packages (0.2.18)\n",
      "Requirement already satisfied: html5lib>=1.1 in c:\\users\\rites\\anaconda3\\lib\\site-packages (from yfinance) (1.1)\n",
      "Requirement already satisfied: beautifulsoup4>=4.11.1 in c:\\users\\rites\\anaconda3\\lib\\site-packages (from yfinance) (4.11.1)\n",
      "Requirement already satisfied: requests>=2.26 in c:\\users\\rites\\anaconda3\\lib\\site-packages (from yfinance) (2.28.1)\n",
      "Requirement already satisfied: pandas>=1.3.0 in c:\\users\\rites\\anaconda3\\lib\\site-packages (from yfinance) (1.5.3)\n",
      "Requirement already satisfied: numpy>=1.16.5 in c:\\users\\rites\\anaconda3\\lib\\site-packages (from yfinance) (1.23.5)\n",
      "Requirement already satisfied: lxml>=4.9.1 in c:\\users\\rites\\anaconda3\\lib\\site-packages (from yfinance) (4.9.1)\n",
      "Requirement already satisfied: frozendict>=2.3.4 in c:\\users\\rites\\anaconda3\\lib\\site-packages (from yfinance) (2.3.8)\n",
      "Requirement already satisfied: cryptography>=3.3.2 in c:\\users\\rites\\anaconda3\\lib\\site-packages (from yfinance) (39.0.1)\n",
      "Requirement already satisfied: appdirs>=1.4.4 in c:\\users\\rites\\anaconda3\\lib\\site-packages (from yfinance) (1.4.4)\n",
      "Requirement already satisfied: pytz>=2022.5 in c:\\users\\rites\\anaconda3\\lib\\site-packages (from yfinance) (2022.7)\n",
      "Requirement already satisfied: multitasking>=0.0.7 in c:\\users\\rites\\anaconda3\\lib\\site-packages (from yfinance) (0.0.11)\n",
      "Requirement already satisfied: soupsieve>1.2 in c:\\users\\rites\\anaconda3\\lib\\site-packages (from beautifulsoup4>=4.11.1->yfinance) (2.3.2.post1)\n",
      "Requirement already satisfied: cffi>=1.12 in c:\\users\\rites\\anaconda3\\lib\\site-packages (from cryptography>=3.3.2->yfinance) (1.15.1)\n",
      "Requirement already satisfied: six>=1.9 in c:\\users\\rites\\anaconda3\\lib\\site-packages (from html5lib>=1.1->yfinance) (1.16.0)\n",
      "Requirement already satisfied: webencodings in c:\\users\\rites\\anaconda3\\lib\\site-packages (from html5lib>=1.1->yfinance) (0.5.1)\n",
      "Requirement already satisfied: python-dateutil>=2.8.1 in c:\\users\\rites\\anaconda3\\lib\\site-packages (from pandas>=1.3.0->yfinance) (2.8.2)\n",
      "Requirement already satisfied: certifi>=2017.4.17 in c:\\users\\rites\\anaconda3\\lib\\site-packages (from requests>=2.26->yfinance) (2022.12.7)\n",
      "Requirement already satisfied: urllib3<1.27,>=1.21.1 in c:\\users\\rites\\anaconda3\\lib\\site-packages (from requests>=2.26->yfinance) (1.26.14)\n",
      "Requirement already satisfied: idna<4,>=2.5 in c:\\users\\rites\\anaconda3\\lib\\site-packages (from requests>=2.26->yfinance) (3.4)\n",
      "Requirement already satisfied: charset-normalizer<3,>=2 in c:\\users\\rites\\anaconda3\\lib\\site-packages (from requests>=2.26->yfinance) (2.0.4)\n",
      "Requirement already satisfied: pycparser in c:\\users\\rites\\anaconda3\\lib\\site-packages (from cffi>=1.12->cryptography>=3.3.2->yfinance) (2.21)\n"
     ]
    }
   ],
   "source": [
    "import pandas as pd \n",
    "import numpy as np \n",
    "import matplotlib.pyplot as plt \n",
    "import math\n",
    "!pip install yfinance\n",
    "import yfinance as yf"
   ]
  },
  {
   "cell_type": "code",
   "execution_count": 75,
   "id": "5d3d6f4d",
   "metadata": {},
   "outputs": [],
   "source": [
    "#ticker= \"CIPLA.NS\"\n",
    "#ticker= \"RELIANCE.NS\" \n",
    "#ticker= \"NESTLEIND.NS\"\n",
    "#ticker= \"ONGC.NS\"\n",
    "#ticker= \"TCS.NS\"\n",
    "#risk free rate (India)= 6.901%\n",
    "#ticker= \"^DJI\" #Dow Jones risk free rate risk free rate 6.40%\n",
    "#ticker= \"^GSPC\" #S&P 500 risk free rate 3.93%\n",
    "#ticker= \"^GDAXI\" #DAX risk free rate 1.2%\n",
    "#ticker= \"^N225\" #Nikkei 225 0.46%\n",
    "ticker= \"^SSMI\" #Swiss Market Index 0.926%"
   ]
  },
  {
   "cell_type": "code",
   "execution_count": 76,
   "id": "5ba057cd",
   "metadata": {},
   "outputs": [
    {
     "name": "stdout",
     "output_type": "stream",
     "text": [
      "[*********************100%***********************]  1 of 1 completed\n",
      "      Daily Returns\n",
      "3350      74.596318\n"
     ]
    }
   ],
   "source": [
    "data=yf.download(ticker, start=\"2010-1-1\", end=\"2023-5-16\")\n",
    "\n",
    "data['Daily Returns']= data['Adj Close'].pct_change() #daily returns\n",
    "\n",
    "cuml_returns= (data['Daily Returns']+1).cumprod()-1\n",
    "cuml_returns=cuml_returns.reset_index()\n",
    "\n",
    "cuml_return_entire_period = cuml_returns.iloc[:, 1:].tail(1)\n",
    "cuml_return_entire_period_perc= cuml_return_entire_period * 100\n",
    "print(cuml_return_entire_period_perc)"
   ]
  },
  {
   "cell_type": "code",
   "execution_count": 77,
   "id": "154b8aad",
   "metadata": {},
   "outputs": [
    {
     "name": "stdout",
     "output_type": "stream",
     "text": [
      "Annual volatility : 0.16%\n"
     ]
    }
   ],
   "source": [
    "daily_volatility = data['Daily Returns'].std()\n",
    "annual_volatility = math.sqrt(252) * daily_volatility\n",
    "print('Annual volatility', \":\", '{:.2f}%'.format(annual_volatility))"
   ]
  },
  {
   "cell_type": "code",
   "execution_count": 78,
   "id": "54cbe1de",
   "metadata": {},
   "outputs": [
    {
     "name": "stdout",
     "output_type": "stream",
     "text": [
      "0.2103684709922983\n",
      "4.7448280448658595\n"
     ]
    }
   ],
   "source": [
    "risk_free_rate= 0.00926\n",
    "returns = np.log(data['Close'] / data['Close'].shift(1))\n",
    "mean_annual_return= returns.mean()*252\n",
    "sharpe_ratio= (mean_annual_return-risk_free_rate)/annual_volatility\n",
    "print(sharpe_ratio)\n",
    "\n",
    "return_data= np.prod((data['Daily Returns']+1))-1\n",
    "data['Downside Deviation']= data[data['Daily Returns']<0]['Daily Returns']\n",
    "data_downside_deviation= data['Daily Returns'].std()*np.sqrt(252)\n",
    "sortino_ratio= (return_data-risk_free_rate)/data_downside_deviation\n",
    "print(sortino_ratio)"
   ]
  },
  {
   "cell_type": "code",
   "execution_count": 79,
   "id": "66c13f82",
   "metadata": {},
   "outputs": [
    {
     "name": "stdout",
     "output_type": "stream",
     "text": [
      "Date\n",
      "2010-01-04    0.000000\n",
      "2010-01-05   -0.007869\n",
      "2010-01-06   -0.010862\n",
      "2010-01-07   -0.011473\n",
      "2010-01-08   -0.011473\n",
      "                ...   \n",
      "2023-05-09   -0.223423\n",
      "2023-05-10   -0.223423\n",
      "2023-05-11   -0.223423\n",
      "2023-05-12   -0.223423\n",
      "2023-05-15   -0.223423\n",
      "Name: Adj Close, Length: 3351, dtype: float64\n"
     ]
    }
   ],
   "source": [
    "roll_max= data['Adj Close'].rolling(252, min_periods=1).max()\n",
    "daily_drawdown= data['Adj Close']/roll_max-1.0\n",
    "max_daily_drawdown=daily_drawdown.rolling(252, min_periods=1).min()\n",
    "print(max_daily_drawdown)"
   ]
  }
 ],
 "metadata": {
  "kernelspec": {
   "display_name": "Python 3 (ipykernel)",
   "language": "python",
   "name": "python3"
  },
  "language_info": {
   "codemirror_mode": {
    "name": "ipython",
    "version": 3
   },
   "file_extension": ".py",
   "mimetype": "text/x-python",
   "name": "python",
   "nbconvert_exporter": "python",
   "pygments_lexer": "ipython3",
   "version": "3.10.9"
  }
 },
 "nbformat": 4,
 "nbformat_minor": 5
}
