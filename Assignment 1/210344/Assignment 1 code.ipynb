{
 "cells": [
  {
   "cell_type": "code",
   "execution_count": 1,
   "id": "21a0d4cb",
   "metadata": {},
   "outputs": [
    {
     "name": "stdout",
     "output_type": "stream",
     "text": [
      "Collecting yfinance\n",
      "  Downloading yfinance-0.2.18-py2.py3-none-any.whl (60 kB)\n",
      "     -------------------------------------- 60.3/60.3 kB 400.8 kB/s eta 0:00:00\n",
      "Collecting multitasking>=0.0.7\n",
      "  Downloading multitasking-0.0.11-py3-none-any.whl (8.5 kB)\n",
      "Collecting html5lib>=1.1\n",
      "  Downloading html5lib-1.1-py2.py3-none-any.whl (112 kB)\n",
      "     ------------------------------------ 112.2/112.2 kB 283.9 kB/s eta 0:00:00\n",
      "Requirement already satisfied: beautifulsoup4>=4.11.1 in c:\\users\\digvi\\appdata\\local\\programs\\python\\python310\\lib\\site-packages (from yfinance) (4.11.1)\n",
      "Collecting cryptography>=3.3.2\n",
      "  Downloading cryptography-40.0.2-cp36-abi3-win_amd64.whl (2.6 MB)\n",
      "     ---------------------------------------- 2.6/2.6 MB 595.3 kB/s eta 0:00:00\n",
      "Requirement already satisfied: lxml>=4.9.1 in c:\\users\\digvi\\appdata\\local\\programs\\python\\python310\\lib\\site-packages (from yfinance) (4.9.1)\n",
      "Requirement already satisfied: pandas>=1.3.0 in c:\\users\\digvi\\appdata\\local\\programs\\python\\python310\\lib\\site-packages (from yfinance) (1.4.2)\n",
      "Collecting appdirs>=1.4.4\n",
      "  Downloading appdirs-1.4.4-py2.py3-none-any.whl (9.6 kB)\n",
      "Requirement already satisfied: requests>=2.26 in c:\\users\\digvi\\appdata\\local\\programs\\python\\python310\\lib\\site-packages (from yfinance) (2.28.1)\n",
      "Collecting frozendict>=2.3.4\n",
      "  Downloading frozendict-2.3.8-cp310-cp310-win_amd64.whl (35 kB)\n",
      "Collecting pytz>=2022.5\n",
      "  Downloading pytz-2023.3-py2.py3-none-any.whl (502 kB)\n",
      "     ------------------------------------ 502.3/502.3 kB 851.4 kB/s eta 0:00:00\n",
      "Requirement already satisfied: numpy>=1.16.5 in c:\\users\\digvi\\appdata\\local\\programs\\python\\python310\\lib\\site-packages (from yfinance) (1.22.4)\n",
      "Requirement already satisfied: soupsieve>1.2 in c:\\users\\digvi\\appdata\\local\\programs\\python\\python310\\lib\\site-packages (from beautifulsoup4>=4.11.1->yfinance) (2.3.2.post1)\n",
      "Requirement already satisfied: cffi>=1.12 in c:\\users\\digvi\\appdata\\local\\programs\\python\\python310\\lib\\site-packages (from cryptography>=3.3.2->yfinance) (1.15.0)\n",
      "Requirement already satisfied: six>=1.9 in c:\\users\\digvi\\appdata\\local\\programs\\python\\python310\\lib\\site-packages (from html5lib>=1.1->yfinance) (1.16.0)\n",
      "Requirement already satisfied: webencodings in c:\\users\\digvi\\appdata\\local\\programs\\python\\python310\\lib\\site-packages (from html5lib>=1.1->yfinance) (0.5.1)\n",
      "Requirement already satisfied: python-dateutil>=2.8.1 in c:\\users\\digvi\\appdata\\local\\programs\\python\\python310\\lib\\site-packages (from pandas>=1.3.0->yfinance) (2.8.2)\n",
      "Requirement already satisfied: charset-normalizer<3,>=2 in c:\\users\\digvi\\appdata\\local\\programs\\python\\python310\\lib\\site-packages (from requests>=2.26->yfinance) (2.1.0)\n",
      "Requirement already satisfied: idna<4,>=2.5 in c:\\users\\digvi\\appdata\\local\\programs\\python\\python310\\lib\\site-packages (from requests>=2.26->yfinance) (3.3)\n",
      "Requirement already satisfied: certifi>=2017.4.17 in c:\\users\\digvi\\appdata\\local\\programs\\python\\python310\\lib\\site-packages (from requests>=2.26->yfinance) (2022.6.15)\n",
      "Requirement already satisfied: urllib3<1.27,>=1.21.1 in c:\\users\\digvi\\appdata\\local\\programs\\python\\python310\\lib\\site-packages (from requests>=2.26->yfinance) (1.26.10)\n",
      "Requirement already satisfied: pycparser in c:\\users\\digvi\\appdata\\local\\programs\\python\\python310\\lib\\site-packages (from cffi>=1.12->cryptography>=3.3.2->yfinance) (2.21)\n",
      "Installing collected packages: pytz, multitasking, appdirs, html5lib, frozendict, cryptography, yfinance\n",
      "  Attempting uninstall: pytz\n",
      "    Found existing installation: pytz 2022.1\n",
      "    Uninstalling pytz-2022.1:\n",
      "      Successfully uninstalled pytz-2022.1\n",
      "Successfully installed appdirs-1.4.4 cryptography-40.0.2 frozendict-2.3.8 html5lib-1.1 multitasking-0.0.11 pytz-2023.3 yfinance-0.2.18\n",
      "\n",
      "[notice] A new release of pip available: 22.1.2 -> 23.1.2\n",
      "[notice] To update, run: C:\\Users\\digvi\\AppData\\Local\\Programs\\Python\\Python310\\python.exe -m pip install --upgrade pip\n",
      "Note: you may need to restart the kernel to use updated packages.\n"
     ]
    }
   ],
   "source": [
    "pip install yfinance \n"
   ]
  },
  {
   "cell_type": "code",
   "execution_count": 303,
   "id": "51541f83",
   "metadata": {},
   "outputs": [],
   "source": [
    "import yfinance as yf\n",
    "import numpy as np"
   ]
  },
  {
   "cell_type": "code",
   "execution_count": 304,
   "id": "5e815312",
   "metadata": {},
   "outputs": [],
   "source": [
    "def cum_return(data):\n",
    "        cumulative_return = (data['Close'][-1] - data['Adj Close'][0])*100/data['Adj Close'][0]\n",
    "        return(cumulative_return)"
   ]
  },
  {
   "cell_type": "code",
   "execution_count": 323,
   "id": "459a5f37",
   "metadata": {},
   "outputs": [],
   "source": [
    "def maximum_drawdown(data):\n",
    "    adj = np.array(data['Adj Close'])\n",
    "    initial_adj_close = adj[0]\n",
    "    prev = initial_adj_close\n",
    "    lst = []\n",
    "    for i in range(len(adj)):\n",
    "        if(adj[i]>prev):\n",
    "            new = adj[np.where(adj == prev)[0][0]:i]\n",
    "            lst.append(new)\n",
    "            prev = adj[i]\n",
    "    mdd = np.zeros(len(lst))\n",
    "    for i in range(len(lst)):\n",
    "        mdd[i] = (min(lst[i]) - max(lst[i]))/max(lst[i])\n",
    "    max_drawdown = 100*min(mdd)\n",
    "    return(max_drawdown)"
   ]
  },
  {
   "cell_type": "code",
   "execution_count": 306,
   "id": "69cfc38b",
   "metadata": {},
   "outputs": [],
   "source": [
    "def volatility(data):\n",
    "    deviation = data['Daily Return'].std()\n",
    "    vol = deviation*np.sqrt(252)\n",
    "    return(vol*100) \n"
   ]
  },
  {
   "cell_type": "code",
   "execution_count": 307,
   "id": "817f65f0",
   "metadata": {},
   "outputs": [],
   "source": [
    "def sharpe_ratio(data):\n",
    "    avg_daily_return = data['Daily Return'].mean()*252\n",
    "    risk_free_return = 0.02\n",
    "    std = data['Daily Return'].std()*(252**0.5)\n",
    "    ratio = (avg_daily_return - risk_free_return)/std\n",
    "    return(ratio)"
   ]
  },
  {
   "cell_type": "code",
   "execution_count": 327,
   "id": "696819ca",
   "metadata": {},
   "outputs": [],
   "source": [
    "def sortino_ratio(data):\n",
    "    avg_daily_return = data['Daily Return'].mean()*252\n",
    "    risk_free_return = 0.02\n",
    "    nstd = data[(data['Daily Return'])<0]['Daily Return'].std()*(252**0.5)\n",
    "    ratio = (avg_daily_return - risk_free_return)/nstd\n",
    "    return(ratio)"
   ]
  },
  {
   "cell_type": "code",
   "execution_count": 337,
   "id": "e5fee960",
   "metadata": {},
   "outputs": [
    {
     "name": "stdout",
     "output_type": "stream",
     "text": [
      "[*********************100%***********************]  1 of 1 completed\n",
      "Cumulative Return: 2511.95082251794 \n",
      "\n",
      "Volatility: 28.600152270786356 \n",
      "\n",
      "Maximum Drawdown: -43.797161141763354 \n",
      "\n",
      "Sharpe Ratio: 0.9308327497185815 \n",
      "\n",
      "Sortino Ratio: 1.299984488958456 \n",
      "\n"
     ]
    }
   ],
   "source": [
    "aapl = yf.download('AAPL', start = '2010-01-01', end = '2023-05-01')\n",
    "aapl['Daily Return'] = aapl['Adj Close'].pct_change()\n",
    "print('Cumulative Return:',cum_return(aapl),'\\n')\n",
    "print('Volatility:',volatility(aapl),'\\n')\n",
    "print('Maximum Drawdown:',maximum_drawdown(aapl),'\\n')\n",
    "print('Sharpe Ratio:',sharpe_ratio(aapl),'\\n')\n",
    "print('Sortino Ratio:',sortino_ratio(aapl),'\\n')"
   ]
  },
  {
   "cell_type": "code",
   "execution_count": 338,
   "id": "d75915e4",
   "metadata": {},
   "outputs": [
    {
     "name": "stdout",
     "output_type": "stream",
     "text": [
      "[*********************100%***********************]  1 of 1 completed\n",
      "Cumulative Return: 1203.475013943604 \n",
      "\n",
      "Volatility: 26.139503697157917 \n",
      "\n",
      "Maximum Drawdown: -28.039281868111622 \n",
      "\n",
      "Sharpe Ratio: 0.7922438414952391 \n",
      "\n",
      "Sortino Ratio: 1.1075531626216861 \n",
      "\n"
     ]
    }
   ],
   "source": [
    "msft = yf.download('MSFT', start = '2010-01-01', end = '2023-05-01')\n",
    "msft['Daily Return'] = msft['Adj Close'].pct_change()\n",
    "print('Cumulative Return:',cum_return(msft),'\\n')\n",
    "print('Volatility:',volatility(msft),'\\n')\n",
    "print('Maximum Drawdown:',maximum_drawdown(msft),'\\n')\n",
    "print('Sharpe Ratio:',sharpe_ratio(msft),'\\n')\n",
    "print('Sortino Ratio:',sortino_ratio(msft),'\\n')"
   ]
  },
  {
   "cell_type": "code",
   "execution_count": 339,
   "id": "ab372d72",
   "metadata": {},
   "outputs": [
    {
     "name": "stdout",
     "output_type": "stream",
     "text": [
      "[*********************100%***********************]  1 of 1 completed\n",
      "Cumulative Return: 1010.8437023495615 \n",
      "\n",
      "Volatility: 25.34789691182937 \n",
      "\n",
      "Maximum Drawdown: -27.211282911309333 \n",
      "\n",
      "Sharpe Ratio: 0.7760981322839317 \n",
      "\n",
      "Sortino Ratio: 1.154790665679681 \n",
      "\n"
     ]
    }
   ],
   "source": [
    "tcs = yf.download('TCS.NS', start = '2010-01-01', end = '2023-05-01')\n",
    "tcs['Daily Return'] = tcs['Adj Close'].pct_change()\n",
    "print('Cumulative Return:',cum_return(tcs),'\\n')\n",
    "print('Volatility:',volatility(tcs),'\\n')\n",
    "print('Maximum Drawdown:',maximum_drawdown(tcs),'\\n')\n",
    "print('Sharpe Ratio:',sharpe_ratio(tcs),'\\n')\n",
    "print('Sortino Ratio:',sortino_ratio(tcs),'\\n')"
   ]
  },
  {
   "cell_type": "code",
   "execution_count": 340,
   "id": "86fbcd11",
   "metadata": {},
   "outputs": [
    {
     "name": "stdout",
     "output_type": "stream",
     "text": [
      "[*********************100%***********************]  1 of 1 completed\n",
      "Cumulative Return: 528.616296630384 \n",
      "\n",
      "Volatility: 40.776253756144136 \n",
      "\n",
      "Maximum Drawdown: -53.62280995413482 \n",
      "\n",
      "Sharpe Ratio: 0.5679012213056249 \n",
      "\n",
      "Sortino Ratio: 0.7543777865383772 \n",
      "\n"
     ]
    }
   ],
   "source": [
    "meta = yf.download('META', start = '2010-01-01', end = '2023-05-01')\n",
    "meta['Daily Return'] = meta['Adj Close'].pct_change()\n",
    "print('Cumulative Return:',cum_return(meta),'\\n')\n",
    "print('Volatility:',volatility(meta),'\\n')\n",
    "print('Maximum Drawdown:',maximum_drawdown(meta),'\\n')\n",
    "print('Sharpe Ratio:',sharpe_ratio(meta),'\\n')\n",
    "print('Sortino Ratio:',sortino_ratio(meta),'\\n')"
   ]
  },
  {
   "cell_type": "code",
   "execution_count": 341,
   "id": "05f8889a",
   "metadata": {},
   "outputs": [
    {
     "name": "stdout",
     "output_type": "stream",
     "text": [
      "[*********************100%***********************]  1 of 1 completed\n",
      "Cumulative Return: 356.544844023431 \n",
      "\n",
      "Volatility: 28.51351634295614 \n",
      "\n",
      "Maximum Drawdown: -43.62649963573087 \n",
      "\n",
      "Sharpe Ratio: 0.47268008113883897 \n",
      "\n",
      "Sortino Ratio: 0.6586276799518318 \n",
      "\n"
     ]
    }
   ],
   "source": [
    "jpm = yf.download('JPM', start = '2010-01-01', end = '2023-05-01')\n",
    "jpm['Daily Return'] = jpm['Adj Close'].pct_change()\n",
    "print('Cumulative Return:',cum_return(jpm),'\\n')\n",
    "print('Volatility:',volatility(jpm),'\\n')\n",
    "print('Maximum Drawdown:',maximum_drawdown(jpm),'\\n')\n",
    "print('Sharpe Ratio:',sharpe_ratio(jpm),'\\n')\n",
    "print('Sortino Ratio:',sortino_ratio(jpm),'\\n')"
   ]
  },
  {
   "cell_type": "code",
   "execution_count": 344,
   "id": "60fd815b",
   "metadata": {},
   "outputs": [
    {
     "name": "stdout",
     "output_type": "stream",
     "text": [
      "[*********************100%***********************]  1 of 1 completed\n",
      "Cumulative Return: 245.2658408633587 \n",
      "\n",
      "Volatility: 17.255817011358427 \n",
      "\n",
      "Maximum Drawdown: -38.4398524527421 \n",
      "\n",
      "Sharpe Ratio: 0.5248274933667518 \n",
      "\n",
      "Sortino Ratio: 0.6903615298630194 \n",
      "\n"
     ]
    }
   ],
   "source": [
    "nsei = yf.download('^NSEI', start = '2010-01-01', end = '2023-05-01')\n",
    "nsei['Daily Return'] = nsei['Adj Close'].pct_change()\n",
    "print('Cumulative Return:',cum_return(nsei),'\\n')\n",
    "print('Volatility:',volatility(nsei),'\\n')\n",
    "print('Maximum Drawdown:',maximum_drawdown(nsei),'\\n')\n",
    "print('Sharpe Ratio:',sharpe_ratio(nsei),'\\n')\n",
    "print('Sortino Ratio:',sortino_ratio(nsei),'\\n')"
   ]
  },
  {
   "cell_type": "code",
   "execution_count": 345,
   "id": "162ed41d",
   "metadata": {},
   "outputs": [
    {
     "name": "stdout",
     "output_type": "stream",
     "text": [
      "[*********************100%***********************]  1 of 1 completed\n",
      "Cumulative Return: 248.04589953137184 \n",
      "\n",
      "Volatility: 17.20538239983458 \n",
      "\n",
      "Maximum Drawdown: -38.07005445967564 \n",
      "\n",
      "Sharpe Ratio: 0.5282568115545518 \n",
      "\n",
      "Sortino Ratio: 0.6967255662309138 \n",
      "\n"
     ]
    }
   ],
   "source": [
    "bsesn = yf.download('^BSESN', start = '2010-01-01', end = '2023-05-01')\n",
    "bsesn['Daily Return'] = bsesn['Adj Close'].pct_change()\n",
    "print('Cumulative Return:',cum_return(bsesn),'\\n')\n",
    "print('Volatility:',volatility(bsesn),'\\n')\n",
    "print('Maximum Drawdown:',maximum_drawdown(bsesn),'\\n')\n",
    "print('Sharpe Ratio:',sharpe_ratio(bsesn),'\\n')\n",
    "print('Sortino Ratio:',sortino_ratio(bsesn),'\\n')"
   ]
  },
  {
   "cell_type": "code",
   "execution_count": 346,
   "id": "83337f75",
   "metadata": {},
   "outputs": [
    {
     "name": "stdout",
     "output_type": "stream",
     "text": [
      "[*********************100%***********************]  1 of 1 completed\n",
      "Cumulative Return: 268.0067799721897 \n",
      "\n",
      "Volatility: 17.76071235545577 \n",
      "\n",
      "Maximum Drawdown: -33.92496000265327 \n",
      "\n",
      "Sharpe Ratio: 0.5281553345705235 \n",
      "\n",
      "Sortino Ratio: 0.6465933098447432 \n",
      "\n"
     ]
    }
   ],
   "source": [
    "gspc = yf.download('^GSPC', start = '2010-01-01', end = '2023-05-01')\n",
    "gspc['Daily Return'] = gspc['Adj Close'].pct_change()\n",
    "print('Cumulative Return:',cum_return(gspc),'\\n')\n",
    "print('Volatility:',volatility(gspc),'\\n')\n",
    "print('Maximum Drawdown:',maximum_drawdown(gspc),'\\n')\n",
    "print('Sharpe Ratio:',sharpe_ratio(gspc),'\\n')\n",
    "print('Sortino Ratio:',sortino_ratio(gspc),'\\n')"
   ]
  },
  {
   "cell_type": "code",
   "execution_count": 347,
   "id": "3c26ea48",
   "metadata": {},
   "outputs": [
    {
     "name": "stdout",
     "output_type": "stream",
     "text": [
      "[*********************100%***********************]  1 of 1 completed\n",
      "Cumulative Return: 176.36151502975287 \n",
      "\n",
      "Volatility: 23.003178682643664 \n",
      "\n",
      "Maximum Drawdown: -43.06132568464563 \n",
      "\n",
      "Sharpe Ratio: 0.36101322047775486 \n",
      "\n",
      "Sortino Ratio: 0.47082873741559333 \n",
      "\n"
     ]
    }
   ],
   "source": [
    "rut = yf.download('^RUT', start = '2010-01-01', end = '2023-05-01')\n",
    "rut['Daily Return'] = rut['Adj Close'].pct_change()\n",
    "print('Cumulative Return:',cum_return(rut),'\\n')\n",
    "print('Volatility:',volatility(rut),'\\n')\n",
    "print('Maximum Drawdown:',maximum_drawdown(rut),'\\n')\n",
    "print('Sharpe Ratio:',sharpe_ratio(rut),'\\n')\n",
    "print('Sortino Ratio:',sortino_ratio(rut),'\\n')"
   ]
  },
  {
   "cell_type": "code",
   "execution_count": 348,
   "id": "0f4b83c4",
   "metadata": {},
   "outputs": [
    {
     "name": "stdout",
     "output_type": "stream",
     "text": [
      "[*********************100%***********************]  1 of 1 completed\n",
      "Cumulative Return: 222.16826482806982 \n",
      "\n",
      "Volatility: 17.181791926369076 \n",
      "\n",
      "Maximum Drawdown: -37.086171369594325 \n",
      "\n",
      "Sharpe Ratio: 0.48185809520783024 \n",
      "\n",
      "Sortino Ratio: 0.5823384513896579 \n",
      "\n"
     ]
    }
   ],
   "source": [
    "dji = yf.download('^DJI', start = '2010-01-01', end = '2023-05-01')\n",
    "dji['Daily Return'] = dji['Adj Close'].pct_change()\n",
    "print('Cumulative Return:',cum_return(dji),'\\n')\n",
    "print('Volatility:',volatility(dji),'\\n')\n",
    "print('Maximum Drawdown:',maximum_drawdown(dji),'\\n')\n",
    "print('Sharpe Ratio:',sharpe_ratio(dji),'\\n')\n",
    "print('Sortino Ratio:',sortino_ratio(dji),'\\n')"
   ]
  },
  {
   "cell_type": "code",
   "execution_count": null,
   "id": "b8b80b04",
   "metadata": {},
   "outputs": [],
   "source": []
  }
 ],
 "metadata": {
  "kernelspec": {
   "display_name": "Python 3 (ipykernel)",
   "language": "python",
   "name": "python3"
  },
  "language_info": {
   "codemirror_mode": {
    "name": "ipython",
    "version": 3
   },
   "file_extension": ".py",
   "mimetype": "text/x-python",
   "name": "python",
   "nbconvert_exporter": "python",
   "pygments_lexer": "ipython3",
   "version": "3.10.4"
  }
 },
 "nbformat": 4,
 "nbformat_minor": 5
}
