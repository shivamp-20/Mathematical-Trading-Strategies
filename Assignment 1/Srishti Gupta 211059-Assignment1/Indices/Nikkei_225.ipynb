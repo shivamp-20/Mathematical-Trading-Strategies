{
  "nbformat": 4,
  "nbformat_minor": 0,
  "metadata": {
    "colab": {
      "provenance": []
    },
    "kernelspec": {
      "name": "python3",
      "display_name": "Python 3"
    },
    "language_info": {
      "name": "python"
    }
  },
  "cells": [
    {
      "cell_type": "code",
      "execution_count": 74,
      "metadata": {
        "id": "jHHPfLCAByA3"
      },
      "outputs": [],
      "source": [
        "import numpy as np\n",
        "import pandas as pd\n",
        "import yfinance as yf\n",
        "import matplotlib.pyplot as plt\n",
        "import seaborn as sns"
      ]
    },
    {
      "cell_type": "code",
      "source": [
        "stock = '^N225'\n",
        "data = yf.download(stock,'2010-01-01','2023-05-19')\n",
        "data.head()"
      ],
      "metadata": {
        "colab": {
          "base_uri": "https://localhost:8080/",
          "height": 255
        },
        "id": "y83gezetCGp4",
        "outputId": "c0af41c9-ce64-421e-bf17-3fc3d6cd301f"
      },
      "execution_count": 101,
      "outputs": [
        {
          "output_type": "stream",
          "name": "stdout",
          "text": [
            "\r[*********************100%***********************]  1 of 1 completed\n"
          ]
        },
        {
          "output_type": "execute_result",
          "data": {
            "text/plain": [
              "                    Open          High           Low         Close  \\\n",
              "Date                                                                 \n",
              "2010-01-04  10609.339844  10694.490234  10608.139648  10654.790039   \n",
              "2010-01-05  10719.440430  10791.040039  10655.570312  10681.830078   \n",
              "2010-01-06  10709.549805  10768.610352  10661.169922  10731.450195   \n",
              "2010-01-07  10742.750000  10774.000000  10636.669922  10681.660156   \n",
              "2010-01-08  10743.299805  10816.450195  10677.559570  10798.320312   \n",
              "\n",
              "               Adj Close     Volume  \n",
              "Date                                 \n",
              "2010-01-04  10654.790039  104400000  \n",
              "2010-01-05  10681.830078  166200000  \n",
              "2010-01-06  10731.450195  181800000  \n",
              "2010-01-07  10681.660156  182600000  \n",
              "2010-01-08  10798.320312  211800000  "
            ],
            "text/html": [
              "\n",
              "  <div id=\"df-5de7c47e-c8e0-48e2-b637-1c79481d72f0\">\n",
              "    <div class=\"colab-df-container\">\n",
              "      <div>\n",
              "<style scoped>\n",
              "    .dataframe tbody tr th:only-of-type {\n",
              "        vertical-align: middle;\n",
              "    }\n",
              "\n",
              "    .dataframe tbody tr th {\n",
              "        vertical-align: top;\n",
              "    }\n",
              "\n",
              "    .dataframe thead th {\n",
              "        text-align: right;\n",
              "    }\n",
              "</style>\n",
              "<table border=\"1\" class=\"dataframe\">\n",
              "  <thead>\n",
              "    <tr style=\"text-align: right;\">\n",
              "      <th></th>\n",
              "      <th>Open</th>\n",
              "      <th>High</th>\n",
              "      <th>Low</th>\n",
              "      <th>Close</th>\n",
              "      <th>Adj Close</th>\n",
              "      <th>Volume</th>\n",
              "    </tr>\n",
              "    <tr>\n",
              "      <th>Date</th>\n",
              "      <th></th>\n",
              "      <th></th>\n",
              "      <th></th>\n",
              "      <th></th>\n",
              "      <th></th>\n",
              "      <th></th>\n",
              "    </tr>\n",
              "  </thead>\n",
              "  <tbody>\n",
              "    <tr>\n",
              "      <th>2010-01-04</th>\n",
              "      <td>10609.339844</td>\n",
              "      <td>10694.490234</td>\n",
              "      <td>10608.139648</td>\n",
              "      <td>10654.790039</td>\n",
              "      <td>10654.790039</td>\n",
              "      <td>104400000</td>\n",
              "    </tr>\n",
              "    <tr>\n",
              "      <th>2010-01-05</th>\n",
              "      <td>10719.440430</td>\n",
              "      <td>10791.040039</td>\n",
              "      <td>10655.570312</td>\n",
              "      <td>10681.830078</td>\n",
              "      <td>10681.830078</td>\n",
              "      <td>166200000</td>\n",
              "    </tr>\n",
              "    <tr>\n",
              "      <th>2010-01-06</th>\n",
              "      <td>10709.549805</td>\n",
              "      <td>10768.610352</td>\n",
              "      <td>10661.169922</td>\n",
              "      <td>10731.450195</td>\n",
              "      <td>10731.450195</td>\n",
              "      <td>181800000</td>\n",
              "    </tr>\n",
              "    <tr>\n",
              "      <th>2010-01-07</th>\n",
              "      <td>10742.750000</td>\n",
              "      <td>10774.000000</td>\n",
              "      <td>10636.669922</td>\n",
              "      <td>10681.660156</td>\n",
              "      <td>10681.660156</td>\n",
              "      <td>182600000</td>\n",
              "    </tr>\n",
              "    <tr>\n",
              "      <th>2010-01-08</th>\n",
              "      <td>10743.299805</td>\n",
              "      <td>10816.450195</td>\n",
              "      <td>10677.559570</td>\n",
              "      <td>10798.320312</td>\n",
              "      <td>10798.320312</td>\n",
              "      <td>211800000</td>\n",
              "    </tr>\n",
              "  </tbody>\n",
              "</table>\n",
              "</div>\n",
              "      <button class=\"colab-df-convert\" onclick=\"convertToInteractive('df-5de7c47e-c8e0-48e2-b637-1c79481d72f0')\"\n",
              "              title=\"Convert this dataframe to an interactive table.\"\n",
              "              style=\"display:none;\">\n",
              "        \n",
              "  <svg xmlns=\"http://www.w3.org/2000/svg\" height=\"24px\"viewBox=\"0 0 24 24\"\n",
              "       width=\"24px\">\n",
              "    <path d=\"M0 0h24v24H0V0z\" fill=\"none\"/>\n",
              "    <path d=\"M18.56 5.44l.94 2.06.94-2.06 2.06-.94-2.06-.94-.94-2.06-.94 2.06-2.06.94zm-11 1L8.5 8.5l.94-2.06 2.06-.94-2.06-.94L8.5 2.5l-.94 2.06-2.06.94zm10 10l.94 2.06.94-2.06 2.06-.94-2.06-.94-.94-2.06-.94 2.06-2.06.94z\"/><path d=\"M17.41 7.96l-1.37-1.37c-.4-.4-.92-.59-1.43-.59-.52 0-1.04.2-1.43.59L10.3 9.45l-7.72 7.72c-.78.78-.78 2.05 0 2.83L4 21.41c.39.39.9.59 1.41.59.51 0 1.02-.2 1.41-.59l7.78-7.78 2.81-2.81c.8-.78.8-2.07 0-2.86zM5.41 20L4 18.59l7.72-7.72 1.47 1.35L5.41 20z\"/>\n",
              "  </svg>\n",
              "      </button>\n",
              "      \n",
              "  <style>\n",
              "    .colab-df-container {\n",
              "      display:flex;\n",
              "      flex-wrap:wrap;\n",
              "      gap: 12px;\n",
              "    }\n",
              "\n",
              "    .colab-df-convert {\n",
              "      background-color: #E8F0FE;\n",
              "      border: none;\n",
              "      border-radius: 50%;\n",
              "      cursor: pointer;\n",
              "      display: none;\n",
              "      fill: #1967D2;\n",
              "      height: 32px;\n",
              "      padding: 0 0 0 0;\n",
              "      width: 32px;\n",
              "    }\n",
              "\n",
              "    .colab-df-convert:hover {\n",
              "      background-color: #E2EBFA;\n",
              "      box-shadow: 0px 1px 2px rgba(60, 64, 67, 0.3), 0px 1px 3px 1px rgba(60, 64, 67, 0.15);\n",
              "      fill: #174EA6;\n",
              "    }\n",
              "\n",
              "    [theme=dark] .colab-df-convert {\n",
              "      background-color: #3B4455;\n",
              "      fill: #D2E3FC;\n",
              "    }\n",
              "\n",
              "    [theme=dark] .colab-df-convert:hover {\n",
              "      background-color: #434B5C;\n",
              "      box-shadow: 0px 1px 3px 1px rgba(0, 0, 0, 0.15);\n",
              "      filter: drop-shadow(0px 1px 2px rgba(0, 0, 0, 0.3));\n",
              "      fill: #FFFFFF;\n",
              "    }\n",
              "  </style>\n",
              "\n",
              "      <script>\n",
              "        const buttonEl =\n",
              "          document.querySelector('#df-5de7c47e-c8e0-48e2-b637-1c79481d72f0 button.colab-df-convert');\n",
              "        buttonEl.style.display =\n",
              "          google.colab.kernel.accessAllowed ? 'block' : 'none';\n",
              "\n",
              "        async function convertToInteractive(key) {\n",
              "          const element = document.querySelector('#df-5de7c47e-c8e0-48e2-b637-1c79481d72f0');\n",
              "          const dataTable =\n",
              "            await google.colab.kernel.invokeFunction('convertToInteractive',\n",
              "                                                     [key], {});\n",
              "          if (!dataTable) return;\n",
              "\n",
              "          const docLinkHtml = 'Like what you see? Visit the ' +\n",
              "            '<a target=\"_blank\" href=https://colab.research.google.com/notebooks/data_table.ipynb>data table notebook</a>'\n",
              "            + ' to learn more about interactive tables.';\n",
              "          element.innerHTML = '';\n",
              "          dataTable['output_type'] = 'display_data';\n",
              "          await google.colab.output.renderOutput(dataTable, element);\n",
              "          const docLink = document.createElement('div');\n",
              "          docLink.innerHTML = docLinkHtml;\n",
              "          element.appendChild(docLink);\n",
              "        }\n",
              "      </script>\n",
              "    </div>\n",
              "  </div>\n",
              "  "
            ]
          },
          "metadata": {},
          "execution_count": 101
        }
      ]
    },
    {
      "cell_type": "code",
      "source": [
        "price = data['Close']\n",
        "price"
      ],
      "metadata": {
        "colab": {
          "base_uri": "https://localhost:8080/"
        },
        "id": "JLuNMsazCLqT",
        "outputId": "fa128c5d-5c7e-4975-893f-f856aa19d711"
      },
      "execution_count": 102,
      "outputs": [
        {
          "output_type": "execute_result",
          "data": {
            "text/plain": [
              "Date\n",
              "2010-01-04    10654.790039\n",
              "2010-01-05    10681.830078\n",
              "2010-01-06    10731.450195\n",
              "2010-01-07    10681.660156\n",
              "2010-01-08    10798.320312\n",
              "                  ...     \n",
              "2023-05-12    29388.300781\n",
              "2023-05-15    29626.339844\n",
              "2023-05-16    29842.990234\n",
              "2023-05-17    30093.589844\n",
              "2023-05-18    30573.929688\n",
              "Name: Close, Length: 3270, dtype: float64"
            ]
          },
          "metadata": {},
          "execution_count": 102
        }
      ]
    },
    {
      "cell_type": "code",
      "source": [
        "#Maximum Drawdown (MDD) calculation\n",
        "roll_max = data['Close'].rolling(len(price)-1,min_periods=1).max()\n",
        "daily_drawdown = data['Close']/roll_max - 1.0\n",
        "mdd = daily_drawdown.rolling(len(price)-1,min_periods=1).min()\n",
        "mdd.plot()"
      ],
      "metadata": {
        "colab": {
          "base_uri": "https://localhost:8080/",
          "height": 439
        },
        "id": "PmM6_rhHCVZN",
        "outputId": "8032f152-2f71-4ec0-e6c3-04764860f4ee"
      },
      "execution_count": 103,
      "outputs": [
        {
          "output_type": "execute_result",
          "data": {
            "text/plain": [
              "<Axes: xlabel='Date'>"
            ]
          },
          "metadata": {},
          "execution_count": 103
        },
        {
          "output_type": "display_data",
          "data": {
            "text/plain": [
              "<Figure size 640x480 with 1 Axes>"
            ],
            "image/png": "[encoded data removed]"
          },
          "metadata": {}
        }
      ]
    },
    {
      "cell_type": "code",
      "source": [
        "print(f\"Maximum Drawdown for the given period is: {mdd[-1]*100} %\")"
      ],
      "metadata": {
        "colab": {
          "base_uri": "https://localhost:8080/"
        },
        "id": "Nc75s_u5CWjM",
        "outputId": "df4174a3-3749-4d62-ff91-287d75e480a7"
      },
      "execution_count": 104,
      "outputs": [
        {
          "output_type": "stream",
          "name": "stdout",
          "text": [
            "Maximum Drawdown for the given period is: -31.79889650850192 %\n"
          ]
        }
      ]
    },
    {
      "cell_type": "code",
      "source": [
        "#Cumulative returns\n",
        "returns = data['Close'].resample('D').ffill().pct_change().to_numpy()\n",
        "returns[0] = 0\n",
        "returns"
      ],
      "metadata": {
        "colab": {
          "base_uri": "https://localhost:8080/"
        },
        "id": "WNq-cyzNCZcj",
        "outputId": "e6d1c27e-4f04-4b0b-f123-568f97cc2f06"
      },
      "execution_count": 105,
      "outputs": [
        {
          "output_type": "execute_result",
          "data": {
            "text/plain": [
              "array([0.        , 0.00253783, 0.00464528, ..., 0.00731276, 0.00839727,\n",
              "       0.01596153])"
            ]
          },
          "metadata": {},
          "execution_count": 105
        }
      ]
    },
    {
      "cell_type": "code",
      "source": [
        "cumulative_ret =( 1+returns).cumprod()\n",
        "cumulative_ret"
      ],
      "metadata": {
        "colab": {
          "base_uri": "https://localhost:8080/"
        },
        "id": "U8QBqFVKCdFV",
        "outputId": "8c880335-34e7-496d-b692-81932da2fc1a"
      },
      "execution_count": 106,
      "outputs": [
        {
          "output_type": "execute_result",
          "data": {
            "text/plain": [
              "array([1.        , 1.00253783, 1.0071949 , ..., 2.80089895, 2.82441885,\n",
              "       2.86950091])"
            ]
          },
          "metadata": {},
          "execution_count": 106
        }
      ]
    },
    {
      "cell_type": "code",
      "source": [
        "print(f\"Cumulative return of stock is {cumulative_ret[-1]*100}%\")"
      ],
      "metadata": {
        "colab": {
          "base_uri": "https://localhost:8080/"
        },
        "id": "zNMfC_2-CgjO",
        "outputId": "a1e3dc99-4274-41c8-8678-65c33a1fb565"
      },
      "execution_count": 107,
      "outputs": [
        {
          "output_type": "stream",
          "name": "stdout",
          "text": [
            "Cumulative return of stock is 286.9500907611523%\n"
          ]
        }
      ]
    },
    {
      "cell_type": "code",
      "source": [
        "# Sharpe ratio\n",
        "yearly_returns = data['Close'].resample('Y').ffill().pct_change()\n",
        "yearly_returns"
      ],
      "metadata": {
        "colab": {
          "base_uri": "https://localhost:8080/"
        },
        "id": "S0R9TgwYCi2u",
        "outputId": "9078fc53-33fa-43ab-d335-c7fc27a526cf"
      },
      "execution_count": 108,
      "outputs": [
        {
          "output_type": "execute_result",
          "data": {
            "text/plain": [
              "Date\n",
              "2010-12-31         NaN\n",
              "2011-12-31   -0.173388\n",
              "2012-12-31    0.229420\n",
              "2013-12-31    0.567198\n",
              "2014-12-31    0.071170\n",
              "2015-12-31    0.090709\n",
              "2016-12-31    0.004238\n",
              "2017-12-31    0.190986\n",
              "2018-12-31   -0.120807\n",
              "2019-12-31    0.181958\n",
              "2020-12-31    0.160105\n",
              "2021-12-31    0.049101\n",
              "2022-12-31   -0.093680\n",
              "2023-12-31    0.171662\n",
              "Freq: A-DEC, Name: Close, dtype: float64"
            ]
          },
          "metadata": {},
          "execution_count": 108
        }
      ]
    },
    {
      "cell_type": "code",
      "source": [
        "monthly_returns = data['Close'].resample('M').ffill().pct_change()\n",
        "monthly_returns"
      ],
      "metadata": {
        "colab": {
          "base_uri": "https://localhost:8080/"
        },
        "id": "oQb_N1JxClio",
        "outputId": "aef6cc8f-51d3-4b03-ca54-72ce51103adf"
      },
      "execution_count": 109,
      "outputs": [
        {
          "output_type": "execute_result",
          "data": {
            "text/plain": [
              "Date\n",
              "2010-01-31         NaN\n",
              "2010-02-28   -0.007061\n",
              "2010-03-31    0.095191\n",
              "2010-04-30   -0.002934\n",
              "2010-05-31   -0.116546\n",
              "                ...   \n",
              "2023-01-31    0.047236\n",
              "2023-02-28    0.004335\n",
              "2023-03-31    0.021713\n",
              "2023-04-30    0.029063\n",
              "2023-05-31    0.059518\n",
              "Freq: M, Name: Close, Length: 161, dtype: float64"
            ]
          },
          "metadata": {},
          "execution_count": 109
        }
      ]
    },
    {
      "cell_type": "code",
      "source": [
        "avg_yearly_return = yearly_returns.mean()\n",
        "print(f\"Average yearly return is : {avg_yearly_return*100}%\")"
      ],
      "metadata": {
        "colab": {
          "base_uri": "https://localhost:8080/"
        },
        "id": "UKHgXuZECoTn",
        "outputId": "53da587d-eb47-483d-af39-cdcc928956be"
      },
      "execution_count": 110,
      "outputs": [
        {
          "output_type": "stream",
          "name": "stdout",
          "text": [
            "Average yearly return is : 10.220560535459633%\n"
          ]
        }
      ]
    },
    {
      "cell_type": "code",
      "source": [
        "sharpe_ratio = (avg_yearly_return - 0.05)/(monthly_returns.std())\n",
        "print(f\"Sharpe ratio is : {sharpe_ratio*10}\")"
      ],
      "metadata": {
        "colab": {
          "base_uri": "https://localhost:8080/"
        },
        "id": "EtLAv4LXCq93",
        "outputId": "5b4f2f22-f0a5-4a98-d332-00b109e7f785"
      },
      "execution_count": 111,
      "outputs": [
        {
          "output_type": "stream",
          "name": "stdout",
          "text": [
            "Sharpe ratio is : 10.461807193418116\n"
          ]
        }
      ]
    },
    {
      "cell_type": "code",
      "source": [
        "# Sortino ratio\n",
        "neg_monthly_returns = monthly_returns[monthly_returns < 0]\n",
        "neg_monthly_returns"
      ],
      "metadata": {
        "colab": {
          "base_uri": "https://localhost:8080/"
        },
        "id": "AweCiCcKC02B",
        "outputId": "43af19b9-1a27-4b60-9af1-42f28f4d2965"
      },
      "execution_count": 112,
      "outputs": [
        {
          "output_type": "execute_result",
          "data": {
            "text/plain": [
              "Date\n",
              "2010-02-28   -0.007061\n",
              "2010-04-30   -0.002934\n",
              "2010-05-31   -0.116546\n",
              "2010-06-30   -0.039520\n",
              "2010-08-31   -0.074784\n",
              "                ...   \n",
              "2022-02-28   -0.017597\n",
              "2022-04-30   -0.034992\n",
              "2022-06-30   -0.032506\n",
              "2022-09-30   -0.076689\n",
              "2022-12-31   -0.067020\n",
              "Name: Close, Length: 62, dtype: float64"
            ]
          },
          "metadata": {},
          "execution_count": 112
        }
      ]
    },
    {
      "cell_type": "code",
      "source": [
        "std_neg = neg_monthly_returns.std()\n",
        "sortino = ((avg_yearly_return - 0.05)*10.0)/std_neg\n",
        "print(f\"Sortino Ratio: {sortino}\")"
      ],
      "metadata": {
        "colab": {
          "base_uri": "https://localhost:8080/"
        },
        "id": "QUnvhmrzC2-E",
        "outputId": "a03aa14f-b8d4-4a8b-cbc7-9c8e73dc26c1"
      },
      "execution_count": 113,
      "outputs": [
        {
          "output_type": "stream",
          "name": "stdout",
          "text": [
            "Sortino Ratio: 15.193786839986947\n"
          ]
        }
      ]
    },
    {
      "cell_type": "code",
      "source": [],
      "metadata": {
        "id": "NNV_D-zvC5Zt"
      },
      "execution_count": 100,
      "outputs": []
    }
  ]
}