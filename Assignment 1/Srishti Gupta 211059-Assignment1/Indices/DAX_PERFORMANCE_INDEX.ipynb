{
  "nbformat": 4,
  "nbformat_minor": 0,
  "metadata": {
    "colab": {
      "provenance": []
    },
    "kernelspec": {
      "name": "python3",
      "display_name": "Python 3"
    },
    "language_info": {
      "name": "python"
    }
  },
  "cells": [
    {
      "cell_type": "code",
      "execution_count": 74,
      "metadata": {
        "id": "jHHPfLCAByA3"
      },
      "outputs": [],
      "source": [
        "import numpy as np\n",
        "import pandas as pd\n",
        "import yfinance as yf\n",
        "import matplotlib.pyplot as plt\n",
        "import seaborn as sns"
      ]
    },
    {
      "cell_type": "code",
      "source": [
        "stock = '^GDAXI'\n",
        "data = yf.download(stock,'2010-01-01','2023-05-19')\n",
        "data.head()"
      ],
      "metadata": {
        "colab": {
          "base_uri": "https://localhost:8080/",
          "height": 255
        },
        "id": "y83gezetCGp4",
        "outputId": "8eefe127-6665-4e5a-9deb-cdef4e8528d0"
      },
      "execution_count": 88,
      "outputs": [
        {
          "output_type": "stream",
          "name": "stdout",
          "text": [
            "\r[*********************100%***********************]  1 of 1 completed\n"
          ]
        },
        {
          "output_type": "execute_result",
          "data": {
            "text/plain": [
              "                   Open         High          Low        Close    Adj Close  \\\n",
              "Date                                                                          \n",
              "2010-01-04  5975.520020  6048.299805  5974.430176  6048.299805  6048.299805   \n",
              "2010-01-05  6043.939941  6058.020020  6015.669922  6031.859863  6031.859863   \n",
              "2010-01-06  6032.390137  6047.569824  5997.089844  6034.330078  6034.330078   \n",
              "2010-01-07  6016.799805  6037.569824  5961.250000  6019.359863  6019.359863   \n",
              "2010-01-08  6028.620117  6053.040039  5972.240234  6037.609863  6037.609863   \n",
              "\n",
              "               Volume  \n",
              "Date                   \n",
              "2010-01-04  104344400  \n",
              "2010-01-05  117572100  \n",
              "2010-01-06  108742400  \n",
              "2010-01-07  133704300  \n",
              "2010-01-08  126099000  "
            ],
            "text/html": [
              "\n",
              "  <div id=\"df-b7b0324d-ff02-475e-8dab-14a4628763ea\">\n",
              "    <div class=\"colab-df-container\">\n",
              "      <div>\n",
              "<style scoped>\n",
              "    .dataframe tbody tr th:only-of-type {\n",
              "        vertical-align: middle;\n",
              "    }\n",
              "\n",
              "    .dataframe tbody tr th {\n",
              "        vertical-align: top;\n",
              "    }\n",
              "\n",
              "    .dataframe thead th {\n",
              "        text-align: right;\n",
              "    }\n",
              "</style>\n",
              "<table border=\"1\" class=\"dataframe\">\n",
              "  <thead>\n",
              "    <tr style=\"text-align: right;\">\n",
              "      <th></th>\n",
              "      <th>Open</th>\n",
              "      <th>High</th>\n",
              "      <th>Low</th>\n",
              "      <th>Close</th>\n",
              "      <th>Adj Close</th>\n",
              "      <th>Volume</th>\n",
              "    </tr>\n",
              "    <tr>\n",
              "      <th>Date</th>\n",
              "      <th></th>\n",
              "      <th></th>\n",
              "      <th></th>\n",
              "      <th></th>\n",
              "      <th></th>\n",
              "      <th></th>\n",
              "    </tr>\n",
              "  </thead>\n",
              "  <tbody>\n",
              "    <tr>\n",
              "      <th>2010-01-04</th>\n",
              "      <td>5975.520020</td>\n",
              "      <td>6048.299805</td>\n",
              "      <td>5974.430176</td>\n",
              "      <td>6048.299805</td>\n",
              "      <td>6048.299805</td>\n",
              "      <td>104344400</td>\n",
              "    </tr>\n",
              "    <tr>\n",
              "      <th>2010-01-05</th>\n",
              "      <td>6043.939941</td>\n",
              "      <td>6058.020020</td>\n",
              "      <td>6015.669922</td>\n",
              "      <td>6031.859863</td>\n",
              "      <td>6031.859863</td>\n",
              "      <td>117572100</td>\n",
              "    </tr>\n",
              "    <tr>\n",
              "      <th>2010-01-06</th>\n",
              "      <td>6032.390137</td>\n",
              "      <td>6047.569824</td>\n",
              "      <td>5997.089844</td>\n",
              "      <td>6034.330078</td>\n",
              "      <td>6034.330078</td>\n",
              "      <td>108742400</td>\n",
              "    </tr>\n",
              "    <tr>\n",
              "      <th>2010-01-07</th>\n",
              "      <td>6016.799805</td>\n",
              "      <td>6037.569824</td>\n",
              "      <td>5961.250000</td>\n",
              "      <td>6019.359863</td>\n",
              "      <td>6019.359863</td>\n",
              "      <td>133704300</td>\n",
              "    </tr>\n",
              "    <tr>\n",
              "      <th>2010-01-08</th>\n",
              "      <td>6028.620117</td>\n",
              "      <td>6053.040039</td>\n",
              "      <td>5972.240234</td>\n",
              "      <td>6037.609863</td>\n",
              "      <td>6037.609863</td>\n",
              "      <td>126099000</td>\n",
              "    </tr>\n",
              "  </tbody>\n",
              "</table>\n",
              "</div>\n",
              "      <button class=\"colab-df-convert\" onclick=\"convertToInteractive('df-b7b0324d-ff02-475e-8dab-14a4628763ea')\"\n",
              "              title=\"Convert this dataframe to an interactive table.\"\n",
              "              style=\"display:none;\">\n",
              "        \n",
              "  <svg xmlns=\"http://www.w3.org/2000/svg\" height=\"24px\"viewBox=\"0 0 24 24\"\n",
              "       width=\"24px\">\n",
              "    <path d=\"M0 0h24v24H0V0z\" fill=\"none\"/>\n",
              "    <path d=\"M18.56 5.44l.94 2.06.94-2.06 2.06-.94-2.06-.94-.94-2.06-.94 2.06-2.06.94zm-11 1L8.5 8.5l.94-2.06 2.06-.94-2.06-.94L8.5 2.5l-.94 2.06-2.06.94zm10 10l.94 2.06.94-2.06 2.06-.94-2.06-.94-.94-2.06-.94 2.06-2.06.94z\"/><path d=\"M17.41 7.96l-1.37-1.37c-.4-.4-.92-.59-1.43-.59-.52 0-1.04.2-1.43.59L10.3 9.45l-7.72 7.72c-.78.78-.78 2.05 0 2.83L4 21.41c.39.39.9.59 1.41.59.51 0 1.02-.2 1.41-.59l7.78-7.78 2.81-2.81c.8-.78.8-2.07 0-2.86zM5.41 20L4 18.59l7.72-7.72 1.47 1.35L5.41 20z\"/>\n",
              "  </svg>\n",
              "      </button>\n",
              "      \n",
              "  <style>\n",
              "    .colab-df-container {\n",
              "      display:flex;\n",
              "      flex-wrap:wrap;\n",
              "      gap: 12px;\n",
              "    }\n",
              "\n",
              "    .colab-df-convert {\n",
              "      background-color: #E8F0FE;\n",
              "      border: none;\n",
              "      border-radius: 50%;\n",
              "      cursor: pointer;\n",
              "      display: none;\n",
              "      fill: #1967D2;\n",
              "      height: 32px;\n",
              "      padding: 0 0 0 0;\n",
              "      width: 32px;\n",
              "    }\n",
              "\n",
              "    .colab-df-convert:hover {\n",
              "      background-color: #E2EBFA;\n",
              "      box-shadow: 0px 1px 2px rgba(60, 64, 67, 0.3), 0px 1px 3px 1px rgba(60, 64, 67, 0.15);\n",
              "      fill: #174EA6;\n",
              "    }\n",
              "\n",
              "    [theme=dark] .colab-df-convert {\n",
              "      background-color: #3B4455;\n",
              "      fill: #D2E3FC;\n",
              "    }\n",
              "\n",
              "    [theme=dark] .colab-df-convert:hover {\n",
              "      background-color: #434B5C;\n",
              "      box-shadow: 0px 1px 3px 1px rgba(0, 0, 0, 0.15);\n",
              "      filter: drop-shadow(0px 1px 2px rgba(0, 0, 0, 0.3));\n",
              "      fill: #FFFFFF;\n",
              "    }\n",
              "  </style>\n",
              "\n",
              "      <script>\n",
              "        const buttonEl =\n",
              "          document.querySelector('#df-b7b0324d-ff02-475e-8dab-14a4628763ea button.colab-df-convert');\n",
              "        buttonEl.style.display =\n",
              "          google.colab.kernel.accessAllowed ? 'block' : 'none';\n",
              "\n",
              "        async function convertToInteractive(key) {\n",
              "          const element = document.querySelector('#df-b7b0324d-ff02-475e-8dab-14a4628763ea');\n",
              "          const dataTable =\n",
              "            await google.colab.kernel.invokeFunction('convertToInteractive',\n",
              "                                                     [key], {});\n",
              "          if (!dataTable) return;\n",
              "\n",
              "          const docLinkHtml = 'Like what you see? Visit the ' +\n",
              "            '<a target=\"_blank\" href=https://colab.research.google.com/notebooks/data_table.ipynb>data table notebook</a>'\n",
              "            + ' to learn more about interactive tables.';\n",
              "          element.innerHTML = '';\n",
              "          dataTable['output_type'] = 'display_data';\n",
              "          await google.colab.output.renderOutput(dataTable, element);\n",
              "          const docLink = document.createElement('div');\n",
              "          docLink.innerHTML = docLinkHtml;\n",
              "          element.appendChild(docLink);\n",
              "        }\n",
              "      </script>\n",
              "    </div>\n",
              "  </div>\n",
              "  "
            ]
          },
          "metadata": {},
          "execution_count": 88
        }
      ]
    },
    {
      "cell_type": "code",
      "source": [
        "price = data['Close']\n",
        "price"
      ],
      "metadata": {
        "colab": {
          "base_uri": "https://localhost:8080/"
        },
        "id": "JLuNMsazCLqT",
        "outputId": "e166e26e-bf7e-443f-ae4d-6da8f561c1e3"
      },
      "execution_count": 89,
      "outputs": [
        {
          "output_type": "execute_result",
          "data": {
            "text/plain": [
              "Date\n",
              "2010-01-04     6048.299805\n",
              "2010-01-05     6031.859863\n",
              "2010-01-06     6034.330078\n",
              "2010-01-07     6019.359863\n",
              "2010-01-08     6037.609863\n",
              "                  ...     \n",
              "2023-05-12    15913.820312\n",
              "2023-05-15    15917.240234\n",
              "2023-05-16    15897.929688\n",
              "2023-05-17    15951.299805\n",
              "2023-05-18    16163.360352\n",
              "Name: Close, Length: 3393, dtype: float64"
            ]
          },
          "metadata": {},
          "execution_count": 89
        }
      ]
    },
    {
      "cell_type": "code",
      "source": [
        "#Maximum Drawdown (MDD) calculation\n",
        "roll_max = data['Close'].rolling(len(price)-1,min_periods=1).max()\n",
        "daily_drawdown = data['Close']/roll_max - 1.0\n",
        "mdd = daily_drawdown.rolling(len(price)-1,min_periods=1).min()\n",
        "mdd.plot()"
      ],
      "metadata": {
        "colab": {
          "base_uri": "https://localhost:8080/",
          "height": 439
        },
        "id": "PmM6_rhHCVZN",
        "outputId": "c208fc42-4f94-4d23-c70c-593b9934ba78"
      },
      "execution_count": 90,
      "outputs": [
        {
          "output_type": "execute_result",
          "data": {
            "text/plain": [
              "<Axes: xlabel='Date'>"
            ]
          },
          "metadata": {},
          "execution_count": 90
        },
        {
          "output_type": "display_data",
          "data": {
            "text/plain": [
              "<Figure size 640x480 with 1 Axes>"
            ],
            "image/png": "[encoded data removed]"
          },
          "metadata": {}
        }
      ]
    },
    {
      "cell_type": "code",
      "source": [
        "print(f\"Maximum Drawdown for the given period is: {mdd[-1]*100} %\")"
      ],
      "metadata": {
        "colab": {
          "base_uri": "https://localhost:8080/"
        },
        "id": "Nc75s_u5CWjM",
        "outputId": "c49e196b-cc8b-42ca-f948-8841ccda3b94"
      },
      "execution_count": 91,
      "outputs": [
        {
          "output_type": "stream",
          "name": "stdout",
          "text": [
            "Maximum Drawdown for the given period is: -38.779389651624484 %\n"
          ]
        }
      ]
    },
    {
      "cell_type": "code",
      "source": [
        "#Cumulative returns\n",
        "returns = data['Close'].resample('D').ffill().pct_change().to_numpy()\n",
        "returns[0] = 0\n",
        "returns"
      ],
      "metadata": {
        "colab": {
          "base_uri": "https://localhost:8080/"
        },
        "id": "WNq-cyzNCZcj",
        "outputId": "160fb3f2-e1dc-43f9-e871-0b8b1056fa0b"
      },
      "execution_count": 92,
      "outputs": [
        {
          "output_type": "execute_result",
          "data": {
            "text/plain": [
              "array([ 0.        , -0.00271811,  0.00040953, ..., -0.00121318,\n",
              "        0.00335705,  0.01329425])"
            ]
          },
          "metadata": {},
          "execution_count": 92
        }
      ]
    },
    {
      "cell_type": "code",
      "source": [
        "cumulative_ret =( 1+returns).cumprod()\n",
        "cumulative_ret"
      ],
      "metadata": {
        "colab": {
          "base_uri": "https://localhost:8080/"
        },
        "id": "U8QBqFVKCdFV",
        "outputId": "c25bab48-4b44-49ad-be9f-6b5cf46806c7"
      },
      "execution_count": 93,
      "outputs": [
        {
          "output_type": "execute_result",
          "data": {
            "text/plain": [
              "array([1.        , 0.99728189, 0.99769031, ..., 2.62849564, 2.63731963,\n",
              "       2.67238081])"
            ]
          },
          "metadata": {},
          "execution_count": 93
        }
      ]
    },
    {
      "cell_type": "code",
      "source": [
        "print(f\"Cumulative return of stock is {cumulative_ret[-1]*100}%\")"
      ],
      "metadata": {
        "colab": {
          "base_uri": "https://localhost:8080/"
        },
        "id": "zNMfC_2-CgjO",
        "outputId": "bbc88e3a-f273-49d6-df4e-eb17514d1723"
      },
      "execution_count": 94,
      "outputs": [
        {
          "output_type": "stream",
          "name": "stdout",
          "text": [
            "Cumulative return of stock is 267.23808133710065%\n"
          ]
        }
      ]
    },
    {
      "cell_type": "code",
      "source": [
        "# Sharpe ratio\n",
        "yearly_returns = data['Close'].resample('Y').ffill().pct_change()\n",
        "yearly_returns"
      ],
      "metadata": {
        "colab": {
          "base_uri": "https://localhost:8080/"
        },
        "id": "S0R9TgwYCi2u",
        "outputId": "a238f27e-33a6-4ac0-cc05-e2b4b606f4d6"
      },
      "execution_count": 95,
      "outputs": [
        {
          "output_type": "execute_result",
          "data": {
            "text/plain": [
              "Date\n",
              "2010-12-31         NaN\n",
              "2011-12-31   -0.146921\n",
              "2012-12-31    0.290597\n",
              "2013-12-31    0.254817\n",
              "2014-12-31    0.026527\n",
              "2015-12-31    0.095605\n",
              "2016-12-31    0.068700\n",
              "2017-12-31    0.125126\n",
              "2018-12-31   -0.182594\n",
              "2019-12-31    0.254765\n",
              "2020-12-31    0.035457\n",
              "2021-12-31    0.157892\n",
              "2022-12-31   -0.123468\n",
              "2023-12-31    0.160862\n",
              "Freq: A-DEC, Name: Close, dtype: float64"
            ]
          },
          "metadata": {},
          "execution_count": 95
        }
      ]
    },
    {
      "cell_type": "code",
      "source": [
        "monthly_returns = data['Close'].resample('M').ffill().pct_change()\n",
        "monthly_returns"
      ],
      "metadata": {
        "colab": {
          "base_uri": "https://localhost:8080/"
        },
        "id": "oQb_N1JxClio",
        "outputId": "4f9fb95c-d6d5-44e2-ed0a-7adc82df6575"
      },
      "execution_count": 96,
      "outputs": [
        {
          "output_type": "execute_result",
          "data": {
            "text/plain": [
              "Date\n",
              "2010-01-31         NaN\n",
              "2010-02-28   -0.001842\n",
              "2010-03-31    0.099150\n",
              "2010-04-30   -0.002901\n",
              "2010-05-31   -0.027930\n",
              "                ...   \n",
              "2023-01-31    0.086521\n",
              "2023-02-28    0.015657\n",
              "2023-03-31    0.017162\n",
              "2023-04-30    0.018782\n",
              "2023-05-31    0.015135\n",
              "Freq: M, Name: Close, Length: 161, dtype: float64"
            ]
          },
          "metadata": {},
          "execution_count": 96
        }
      ]
    },
    {
      "cell_type": "code",
      "source": [
        "avg_yearly_return = yearly_returns.mean()\n",
        "print(f\"Average yearly return is : {avg_yearly_return*100}%\")"
      ],
      "metadata": {
        "colab": {
          "base_uri": "https://localhost:8080/"
        },
        "id": "UKHgXuZECoTn",
        "outputId": "2d664041-e042-4dc9-da8e-bb4b9d641966"
      },
      "execution_count": 97,
      "outputs": [
        {
          "output_type": "stream",
          "name": "stdout",
          "text": [
            "Average yearly return is : 7.825882697237144%\n"
          ]
        }
      ]
    },
    {
      "cell_type": "code",
      "source": [
        "sharpe_ratio = (avg_yearly_return - 0.05)/(monthly_returns.std())\n",
        "print(f\"Sharpe ratio is : {sharpe_ratio*10}\")"
      ],
      "metadata": {
        "colab": {
          "base_uri": "https://localhost:8080/"
        },
        "id": "EtLAv4LXCq93",
        "outputId": "b661b1d7-9b47-4023-8e7e-b2d17a0d63e1"
      },
      "execution_count": 98,
      "outputs": [
        {
          "output_type": "stream",
          "name": "stdout",
          "text": [
            "Sharpe ratio is : 5.580171095075821\n"
          ]
        }
      ]
    },
    {
      "cell_type": "code",
      "source": [
        "# Sortino ratio\n",
        "neg_monthly_returns = monthly_returns[monthly_returns < 0]\n",
        "neg_monthly_returns"
      ],
      "metadata": {
        "colab": {
          "base_uri": "https://localhost:8080/"
        },
        "id": "AweCiCcKC02B",
        "outputId": "3cdb6960-dfaf-4f41-818d-946c04f8cbd4"
      },
      "execution_count": 99,
      "outputs": [
        {
          "output_type": "execute_result",
          "data": {
            "text/plain": [
              "Date\n",
              "2010-02-28   -0.001842\n",
              "2010-04-30   -0.002901\n",
              "2010-05-31   -0.027930\n",
              "2010-08-31   -0.036231\n",
              "2011-03-31   -0.031766\n",
              "                ...   \n",
              "2022-04-30   -0.021982\n",
              "2022-06-30   -0.111519\n",
              "2022-08-31   -0.048138\n",
              "2022-09-30   -0.056144\n",
              "2022-12-31   -0.032885\n",
              "Name: Close, Length: 66, dtype: float64"
            ]
          },
          "metadata": {},
          "execution_count": 99
        }
      ]
    },
    {
      "cell_type": "code",
      "source": [
        "std_neg = neg_monthly_returns.std()\n",
        "sortino = ((avg_yearly_return - 0.05)*10.0)/std_neg\n",
        "print(f\"Sortino Ratio: {sortino}\")"
      ],
      "metadata": {
        "colab": {
          "base_uri": "https://localhost:8080/"
        },
        "id": "QUnvhmrzC2-E",
        "outputId": "f81b52e6-e89b-48c0-a3a9-c0be906cd5a3"
      },
      "execution_count": 100,
      "outputs": [
        {
          "output_type": "stream",
          "name": "stdout",
          "text": [
            "Sortino Ratio: 7.941879290279163\n"
          ]
        }
      ]
    },
    {
      "cell_type": "code",
      "source": [],
      "metadata": {
        "id": "NNV_D-zvC5Zt"
      },
      "execution_count": 100,
      "outputs": []
    }
  ]
}