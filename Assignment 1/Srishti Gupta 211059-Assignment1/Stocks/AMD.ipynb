{
  "nbformat": 4,
  "nbformat_minor": 0,
  "metadata": {
    "colab": {
      "provenance": []
    },
    "kernelspec": {
      "name": "python3",
      "display_name": "Python 3"
    },
    "language_info": {
      "name": "python"
    }
  },
  "cells": [
    {
      "cell_type": "code",
      "execution_count": 59,
      "metadata": {
        "id": "jHHPfLCAByA3"
      },
      "outputs": [],
      "source": [
        "import numpy as np\n",
        "import pandas as pd\n",
        "import yfinance as yf\n",
        "import matplotlib.pyplot as plt\n",
        "import seaborn as sns"
      ]
    },
    {
      "cell_type": "code",
      "source": [
        "stock = 'AMD'\n",
        "data = yf.download(stock,'2010-01-01','2023-05-19')\n",
        "data.head()"
      ],
      "metadata": {
        "colab": {
          "base_uri": "https://localhost:8080/",
          "height": 255
        },
        "id": "y83gezetCGp4",
        "outputId": "472e9af3-58bd-4ee6-ca5e-ce0dc341d4cc"
      },
      "execution_count": 60,
      "outputs": [
        {
          "output_type": "stream",
          "name": "stdout",
          "text": [
            "\r[*********************100%***********************]  1 of 1 completed\n"
          ]
        },
        {
          "output_type": "execute_result",
          "data": {
            "text/plain": [
              "            Open  High   Low  Close  Adj Close    Volume\n",
              "Date                                                    \n",
              "2010-01-04  9.79  9.90  9.68   9.70       9.70  18748700\n",
              "2010-01-05  9.71  9.90  9.68   9.71       9.71  22145700\n",
              "2010-01-06  9.68  9.76  9.55   9.57       9.57  18643400\n",
              "2010-01-07  9.51  9.55  9.18   9.47       9.47  26806800\n",
              "2010-01-08  9.37  9.47  9.29   9.43       9.43  13752800"
            ],
            "text/html": [
              "\n",
              "  <div id=\"df-b14ad023-35d3-48e5-9cad-25e4b74e5360\">\n",
              "    <div class=\"colab-df-container\">\n",
              "      <div>\n",
              "<style scoped>\n",
              "    .dataframe tbody tr th:only-of-type {\n",
              "        vertical-align: middle;\n",
              "    }\n",
              "\n",
              "    .dataframe tbody tr th {\n",
              "        vertical-align: top;\n",
              "    }\n",
              "\n",
              "    .dataframe thead th {\n",
              "        text-align: right;\n",
              "    }\n",
              "</style>\n",
              "<table border=\"1\" class=\"dataframe\">\n",
              "  <thead>\n",
              "    <tr style=\"text-align: right;\">\n",
              "      <th></th>\n",
              "      <th>Open</th>\n",
              "      <th>High</th>\n",
              "      <th>Low</th>\n",
              "      <th>Close</th>\n",
              "      <th>Adj Close</th>\n",
              "      <th>Volume</th>\n",
              "    </tr>\n",
              "    <tr>\n",
              "      <th>Date</th>\n",
              "      <th></th>\n",
              "      <th></th>\n",
              "      <th></th>\n",
              "      <th></th>\n",
              "      <th></th>\n",
              "      <th></th>\n",
              "    </tr>\n",
              "  </thead>\n",
              "  <tbody>\n",
              "    <tr>\n",
              "      <th>2010-01-04</th>\n",
              "      <td>9.79</td>\n",
              "      <td>9.90</td>\n",
              "      <td>9.68</td>\n",
              "      <td>9.70</td>\n",
              "      <td>9.70</td>\n",
              "      <td>18748700</td>\n",
              "    </tr>\n",
              "    <tr>\n",
              "      <th>2010-01-05</th>\n",
              "      <td>9.71</td>\n",
              "      <td>9.90</td>\n",
              "      <td>9.68</td>\n",
              "      <td>9.71</td>\n",
              "      <td>9.71</td>\n",
              "      <td>22145700</td>\n",
              "    </tr>\n",
              "    <tr>\n",
              "      <th>2010-01-06</th>\n",
              "      <td>9.68</td>\n",
              "      <td>9.76</td>\n",
              "      <td>9.55</td>\n",
              "      <td>9.57</td>\n",
              "      <td>9.57</td>\n",
              "      <td>18643400</td>\n",
              "    </tr>\n",
              "    <tr>\n",
              "      <th>2010-01-07</th>\n",
              "      <td>9.51</td>\n",
              "      <td>9.55</td>\n",
              "      <td>9.18</td>\n",
              "      <td>9.47</td>\n",
              "      <td>9.47</td>\n",
              "      <td>26806800</td>\n",
              "    </tr>\n",
              "    <tr>\n",
              "      <th>2010-01-08</th>\n",
              "      <td>9.37</td>\n",
              "      <td>9.47</td>\n",
              "      <td>9.29</td>\n",
              "      <td>9.43</td>\n",
              "      <td>9.43</td>\n",
              "      <td>13752800</td>\n",
              "    </tr>\n",
              "  </tbody>\n",
              "</table>\n",
              "</div>\n",
              "      <button class=\"colab-df-convert\" onclick=\"convertToInteractive('df-b14ad023-35d3-48e5-9cad-25e4b74e5360')\"\n",
              "              title=\"Convert this dataframe to an interactive table.\"\n",
              "              style=\"display:none;\">\n",
              "        \n",
              "  <svg xmlns=\"http://www.w3.org/2000/svg\" height=\"24px\"viewBox=\"0 0 24 24\"\n",
              "       width=\"24px\">\n",
              "    <path d=\"M0 0h24v24H0V0z\" fill=\"none\"/>\n",
              "    <path d=\"M18.56 5.44l.94 2.06.94-2.06 2.06-.94-2.06-.94-.94-2.06-.94 2.06-2.06.94zm-11 1L8.5 8.5l.94-2.06 2.06-.94-2.06-.94L8.5 2.5l-.94 2.06-2.06.94zm10 10l.94 2.06.94-2.06 2.06-.94-2.06-.94-.94-2.06-.94 2.06-2.06.94z\"/><path d=\"M17.41 7.96l-1.37-1.37c-.4-.4-.92-.59-1.43-.59-.52 0-1.04.2-1.43.59L10.3 9.45l-7.72 7.72c-.78.78-.78 2.05 0 2.83L4 21.41c.39.39.9.59 1.41.59.51 0 1.02-.2 1.41-.59l7.78-7.78 2.81-2.81c.8-.78.8-2.07 0-2.86zM5.41 20L4 18.59l7.72-7.72 1.47 1.35L5.41 20z\"/>\n",
              "  </svg>\n",
              "      </button>\n",
              "      \n",
              "  <style>\n",
              "    .colab-df-container {\n",
              "      display:flex;\n",
              "      flex-wrap:wrap;\n",
              "      gap: 12px;\n",
              "    }\n",
              "\n",
              "    .colab-df-convert {\n",
              "      background-color: #E8F0FE;\n",
              "      border: none;\n",
              "      border-radius: 50%;\n",
              "      cursor: pointer;\n",
              "      display: none;\n",
              "      fill: #1967D2;\n",
              "      height: 32px;\n",
              "      padding: 0 0 0 0;\n",
              "      width: 32px;\n",
              "    }\n",
              "\n",
              "    .colab-df-convert:hover {\n",
              "      background-color: #E2EBFA;\n",
              "      box-shadow: 0px 1px 2px rgba(60, 64, 67, 0.3), 0px 1px 3px 1px rgba(60, 64, 67, 0.15);\n",
              "      fill: #174EA6;\n",
              "    }\n",
              "\n",
              "    [theme=dark] .colab-df-convert {\n",
              "      background-color: #3B4455;\n",
              "      fill: #D2E3FC;\n",
              "    }\n",
              "\n",
              "    [theme=dark] .colab-df-convert:hover {\n",
              "      background-color: #434B5C;\n",
              "      box-shadow: 0px 1px 3px 1px rgba(0, 0, 0, 0.15);\n",
              "      filter: drop-shadow(0px 1px 2px rgba(0, 0, 0, 0.3));\n",
              "      fill: #FFFFFF;\n",
              "    }\n",
              "  </style>\n",
              "\n",
              "      <script>\n",
              "        const buttonEl =\n",
              "          document.querySelector('#df-b14ad023-35d3-48e5-9cad-25e4b74e5360 button.colab-df-convert');\n",
              "        buttonEl.style.display =\n",
              "          google.colab.kernel.accessAllowed ? 'block' : 'none';\n",
              "\n",
              "        async function convertToInteractive(key) {\n",
              "          const element = document.querySelector('#df-b14ad023-35d3-48e5-9cad-25e4b74e5360');\n",
              "          const dataTable =\n",
              "            await google.colab.kernel.invokeFunction('convertToInteractive',\n",
              "                                                     [key], {});\n",
              "          if (!dataTable) return;\n",
              "\n",
              "          const docLinkHtml = 'Like what you see? Visit the ' +\n",
              "            '<a target=\"_blank\" href=https://colab.research.google.com/notebooks/data_table.ipynb>data table notebook</a>'\n",
              "            + ' to learn more about interactive tables.';\n",
              "          element.innerHTML = '';\n",
              "          dataTable['output_type'] = 'display_data';\n",
              "          await google.colab.output.renderOutput(dataTable, element);\n",
              "          const docLink = document.createElement('div');\n",
              "          docLink.innerHTML = docLinkHtml;\n",
              "          element.appendChild(docLink);\n",
              "        }\n",
              "      </script>\n",
              "    </div>\n",
              "  </div>\n",
              "  "
            ]
          },
          "metadata": {},
          "execution_count": 60
        }
      ]
    },
    {
      "cell_type": "code",
      "source": [
        "price = data['Close']\n",
        "price"
      ],
      "metadata": {
        "colab": {
          "base_uri": "https://localhost:8080/"
        },
        "id": "JLuNMsazCLqT",
        "outputId": "c1824824-43a0-493c-a2db-2fe1ed220436"
      },
      "execution_count": 61,
      "outputs": [
        {
          "output_type": "execute_result",
          "data": {
            "text/plain": [
              "Date\n",
              "2010-01-04      9.700000\n",
              "2010-01-05      9.710000\n",
              "2010-01-06      9.570000\n",
              "2010-01-07      9.470000\n",
              "2010-01-08      9.430000\n",
              "                 ...    \n",
              "2023-05-12     95.260002\n",
              "2023-05-15     97.400002\n",
              "2023-05-16    101.480003\n",
              "2023-05-17    103.750000\n",
              "2023-05-18    107.930000\n",
              "Name: Close, Length: 3367, dtype: float64"
            ]
          },
          "metadata": {},
          "execution_count": 61
        }
      ]
    },
    {
      "cell_type": "code",
      "source": [
        "#Maximum Drawdown (MDD) calculation\n",
        "roll_max = data['Close'].rolling(len(price)-1,min_periods=1).max()\n",
        "daily_drawdown = data['Close']/roll_max - 1.0\n",
        "mdd = daily_drawdown.rolling(len(price)-1,min_periods=1).min()\n",
        "mdd.plot()"
      ],
      "metadata": {
        "colab": {
          "base_uri": "https://localhost:8080/",
          "height": 439
        },
        "id": "PmM6_rhHCVZN",
        "outputId": "80f0d329-2619-4c6d-ff2c-e9ebcb334ea7"
      },
      "execution_count": 62,
      "outputs": [
        {
          "output_type": "execute_result",
          "data": {
            "text/plain": [
              "<Axes: xlabel='Date'>"
            ]
          },
          "metadata": {},
          "execution_count": 62
        },
        {
          "output_type": "display_data",
          "data": {
            "text/plain": [
              "<Figure size 640x480 with 1 Axes>"
            ],
            "image/png": "[encoded data removed]"
          },
          "metadata": {}
        }
      ]
    },
    {
      "cell_type": "code",
      "source": [
        "print(f\"Maximum Drawdown for the given period is: {mdd[-1]*100} %\")"
      ],
      "metadata": {
        "colab": {
          "base_uri": "https://localhost:8080/"
        },
        "id": "Nc75s_u5CWjM",
        "outputId": "04d3f2b6-f465-4f8a-fe62-0b6833b7c3da"
      },
      "execution_count": 63,
      "outputs": [
        {
          "output_type": "stream",
          "name": "stdout",
          "text": [
            "Maximum Drawdown for the given period is: -84.05511782383532 %\n"
          ]
        }
      ]
    },
    {
      "cell_type": "code",
      "source": [
        "#Cumulative returns\n",
        "returns = data['Close'].resample('D').ffill().pct_change().to_numpy()\n",
        "returns[0] = 0\n",
        "returns"
      ],
      "metadata": {
        "colab": {
          "base_uri": "https://localhost:8080/"
        },
        "id": "WNq-cyzNCZcj",
        "outputId": "f8d5666a-0c49-48ef-9e4e-d4a37790d265"
      },
      "execution_count": 64,
      "outputs": [
        {
          "output_type": "execute_result",
          "data": {
            "text/plain": [
              "array([ 0.        ,  0.00103095, -0.01441816, ...,  0.04188914,\n",
              "        0.02236891,  0.04028916])"
            ]
          },
          "metadata": {},
          "execution_count": 64
        }
      ]
    },
    {
      "cell_type": "code",
      "source": [
        "cumulative_ret =( 1+returns).cumprod()\n",
        "cumulative_ret"
      ],
      "metadata": {
        "colab": {
          "base_uri": "https://localhost:8080/"
        },
        "id": "U8QBqFVKCdFV",
        "outputId": "65c5b5f1-6447-45f1-a127-e3ecb1fb8a8f"
      },
      "execution_count": 65,
      "outputs": [
        {
          "output_type": "execute_result",
          "data": {
            "text/plain": [
              "array([ 1.        ,  1.00103095,  0.98659793, ..., 10.46185622,\n",
              "       10.6958765 , 11.12680437])"
            ]
          },
          "metadata": {},
          "execution_count": 65
        }
      ]
    },
    {
      "cell_type": "code",
      "source": [
        "print(f\"Cumulative return of stock is {cumulative_ret[-1]*100}%\")"
      ],
      "metadata": {
        "colab": {
          "base_uri": "https://localhost:8080/"
        },
        "id": "zNMfC_2-CgjO",
        "outputId": "d5b5015f-19b5-4db5-86e8-ca21a441d143"
      },
      "execution_count": 66,
      "outputs": [
        {
          "output_type": "stream",
          "name": "stdout",
          "text": [
            "Cumulative return of stock is 1112.6804373963446%\n"
          ]
        }
      ]
    },
    {
      "cell_type": "code",
      "source": [
        "# Sharpe ratio\n",
        "yearly_returns = data['Close'].resample('Y').ffill().pct_change()\n",
        "yearly_returns"
      ],
      "metadata": {
        "colab": {
          "base_uri": "https://localhost:8080/"
        },
        "id": "S0R9TgwYCi2u",
        "outputId": "52925417-1b89-4c8b-98c9-78563d362896"
      },
      "execution_count": 67,
      "outputs": [
        {
          "output_type": "execute_result",
          "data": {
            "text/plain": [
              "Date\n",
              "2010-12-31         NaN\n",
              "2011-12-31   -0.339853\n",
              "2012-12-31   -0.555556\n",
              "2013-12-31    0.612500\n",
              "2014-12-31   -0.310077\n",
              "2015-12-31    0.074906\n",
              "2016-12-31    2.951220\n",
              "2017-12-31   -0.093474\n",
              "2018-12-31    0.795720\n",
              "2019-12-31    1.484291\n",
              "2020-12-31    0.999782\n",
              "2021-12-31    0.569076\n",
              "2022-12-31   -0.549896\n",
              "2023-12-31    0.666358\n",
              "Freq: A-DEC, Name: Close, dtype: float64"
            ]
          },
          "metadata": {},
          "execution_count": 67
        }
      ]
    },
    {
      "cell_type": "code",
      "source": [
        "monthly_returns = data['Close'].resample('M').ffill().pct_change()\n",
        "monthly_returns"
      ],
      "metadata": {
        "colab": {
          "base_uri": "https://localhost:8080/"
        },
        "id": "oQb_N1JxClio",
        "outputId": "bbdfb399-ba65-47b1-be39-9efa2544cefe"
      },
      "execution_count": 68,
      "outputs": [
        {
          "output_type": "execute_result",
          "data": {
            "text/plain": [
              "Date\n",
              "2010-01-31         NaN\n",
              "2010-02-28    0.060322\n",
              "2010-03-31    0.171934\n",
              "2010-04-30   -0.021575\n",
              "2010-05-31   -0.055127\n",
              "                ...   \n",
              "2023-01-31    0.160259\n",
              "2023-02-28    0.045642\n",
              "2023-03-31    0.247264\n",
              "2023-04-30   -0.088154\n",
              "2023-05-31    0.207676\n",
              "Freq: M, Name: Close, Length: 161, dtype: float64"
            ]
          },
          "metadata": {},
          "execution_count": 68
        }
      ]
    },
    {
      "cell_type": "code",
      "source": [
        "avg_yearly_return = yearly_returns.mean()\n",
        "print(f\"Average yearly return is : {avg_yearly_return*100}%\")"
      ],
      "metadata": {
        "colab": {
          "base_uri": "https://localhost:8080/"
        },
        "id": "UKHgXuZECoTn",
        "outputId": "c5279f72-e272-4eb6-9d27-aecb5c827a2b"
      },
      "execution_count": 69,
      "outputs": [
        {
          "output_type": "stream",
          "name": "stdout",
          "text": [
            "Average yearly return is : 48.49996854545922%\n"
          ]
        }
      ]
    },
    {
      "cell_type": "code",
      "source": [
        "sharpe_ratio = (avg_yearly_return - 0.05)/(monthly_returns.std())\n",
        "print(f\"Sharpe ratio is : {sharpe_ratio*10}\")"
      ],
      "metadata": {
        "colab": {
          "base_uri": "https://localhost:8080/"
        },
        "id": "EtLAv4LXCq93",
        "outputId": "42601d1f-303d-4c1a-e1ae-f87b028728df"
      },
      "execution_count": 70,
      "outputs": [
        {
          "output_type": "stream",
          "name": "stdout",
          "text": [
            "Sharpe ratio is : 26.95900140164161\n"
          ]
        }
      ]
    },
    {
      "cell_type": "code",
      "source": [
        "# Sortino ratio\n",
        "neg_monthly_returns = monthly_returns[monthly_returns < 0]\n",
        "neg_monthly_returns"
      ],
      "metadata": {
        "colab": {
          "base_uri": "https://localhost:8080/"
        },
        "id": "AweCiCcKC02B",
        "outputId": "5fc70b88-a2b7-43c8-a96b-8aa3896013c7"
      },
      "execution_count": 71,
      "outputs": [
        {
          "output_type": "execute_result",
          "data": {
            "text/plain": [
              "Date\n",
              "2010-04-30   -0.021575\n",
              "2010-05-31   -0.055127\n",
              "2010-06-30   -0.145858\n",
              "2010-08-31   -0.251001\n",
              "2010-11-30   -0.006812\n",
              "                ...   \n",
              "2022-08-31   -0.101620\n",
              "2022-09-30   -0.253446\n",
              "2022-10-31   -0.052083\n",
              "2022-12-31   -0.165658\n",
              "2023-04-30   -0.088154\n",
              "Name: Close, Length: 75, dtype: float64"
            ]
          },
          "metadata": {},
          "execution_count": 71
        }
      ]
    },
    {
      "cell_type": "code",
      "source": [
        "std_neg = neg_monthly_returns.std()\n",
        "sortino = ((avg_yearly_return - 0.05)*10.0)/std_neg\n",
        "print(f\"Sortino Ratio: {sortino}\")"
      ],
      "metadata": {
        "colab": {
          "base_uri": "https://localhost:8080/"
        },
        "id": "QUnvhmrzC2-E",
        "outputId": "2a80d37e-5b7a-4154-ce89-9a37eb2decc5"
      },
      "execution_count": 72,
      "outputs": [
        {
          "output_type": "stream",
          "name": "stdout",
          "text": [
            "Sortino Ratio: 50.0984610833255\n"
          ]
        }
      ]
    },
    {
      "cell_type": "code",
      "source": [],
      "metadata": {
        "id": "NNV_D-zvC5Zt"
      },
      "execution_count": 72,
      "outputs": []
    }
  ]
}