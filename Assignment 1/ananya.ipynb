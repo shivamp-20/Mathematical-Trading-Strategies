{
 "cells": [
  {
   "cell_type": "code",
   "execution_count": 6,
   "id": "d5c9f5ba",
   "metadata": {},
   "outputs": [],
   "source": [
    "import yfinance as yf\n",
    "import pandas as pd\n",
    "import numpy as np\n",
    "#import matplotlib.pyplot as plt"
   ]
  },
  {
   "cell_type": "code",
   "execution_count": 7,
   "id": "a1e89169",
   "metadata": {},
   "outputs": [],
   "source": [
    "# Define the list of indices and equities\n",
    "indices = ['^GSPC', '^IXIC', '^DJI', '^FTSE', '^N225']\n",
    "equities = ['AAPL', 'GOOGL', 'MSFT', 'AMZN', 'TSLA']"
   ]
  },
  {
   "cell_type": "code",
   "execution_count": 8,
   "id": "6a03af06",
   "metadata": {},
   "outputs": [
    {
     "name": "stdout",
     "output_type": "stream",
     "text": [
      "[*********************100%***********************]  10 of 10 completed\n"
     ]
    }
   ],
   "source": [
    "# Download the historical data\n",
    "start_date = '2010-01-01'\n",
    "#end_date = '2023-05-20'\n",
    "data = yf.download(indices + equities, start=start_date, end=end_date)"
   ]
  },
  {
   "cell_type": "code",
   "execution_count": 9,
   "id": "df36f170",
   "metadata": {},
   "outputs": [],
   "source": [
    "# Select the 'Close' prices for each stock/index\n",
    "close_prices = data['Close']\n",
    "\n",
    "# Calculate daily returns\n",
    "daily_returns = close_prices.pct_change()"
   ]
  },
  {
   "cell_type": "code",
   "execution_count": 10,
   "id": "30288546",
   "metadata": {},
   "outputs": [],
   "source": [
    "# Calculate cumulative returns\n",
    "cumulative_returns = (1 + daily_returns).cumprod() - 1"
   ]
  },
  {
   "cell_type": "code",
   "execution_count": 11,
   "id": "cf6adff4",
   "metadata": {},
   "outputs": [],
   "source": [
    "# Calculate maximum drawdowns\n",
    "roll_max = close_prices.cummax()\n",
    "daily_drawdown = close_prices / roll_max - 1\n",
    "max_drawdowns = daily_drawdown.cummin()"
   ]
  },
  {
   "cell_type": "code",
   "execution_count": 12,
   "id": "5ca78365",
   "metadata": {},
   "outputs": [],
   "source": [
    "# Calculate annualized Sharpe ratio (252 trading days in a year)\n",
    "risk_free_rate = 0.0  # Assume no risk-free rate\n",
    "sharpe_ratio = np.sqrt(252) * (daily_returns.mean() - risk_free_rate) / daily_returns.std()"
   ]
  },
  {
   "cell_type": "code",
   "execution_count": 13,
   "id": "20864e6e",
   "metadata": {},
   "outputs": [],
   "source": [
    "# Calculate annualized Sortino ratio (252 trading days in a year)\n",
    "downside_returns = daily_returns.copy()\n",
    "downside_returns[downside_returns > 0] = 0\n",
    "sortino_ratio = np.sqrt(252) * (daily_returns.mean() - risk_free_rate) / downside_returns.std()"
   ]
  },
  {
   "cell_type": "code",
   "execution_count": 14,
   "id": "4e32ac6d",
   "metadata": {},
   "outputs": [
    {
     "name": "stdout",
     "output_type": "stream",
     "text": [
      "Daily Returns:\n",
      "                AAPL      AMZN     GOOGL      MSFT      TSLA      ^DJI   \n",
      "Date                                                                     \n",
      "2023-05-15 -0.002897  0.008525 -0.008510  0.001586 -0.009703  0.001441  \\\n",
      "2023-05-16  0.000000  0.019784  0.025749  0.007368  0.001022 -0.010089   \n",
      "2023-05-17  0.003603  0.018519  0.011129  0.007250  0.044079  0.012378   \n",
      "2023-05-18  0.013666  0.022944  0.016468  0.014395  0.017428  0.003445   \n",
      "2023-05-19  0.000628 -0.016081 -0.000570 -0.000565  0.018373 -0.003259   \n",
      "\n",
      "               ^FTSE     ^GSPC     ^IXIC     ^N225  \n",
      "Date                                                \n",
      "2023-05-15  0.002979  0.002958  0.006550  0.008100  \n",
      "2023-05-16 -0.003420 -0.006378 -0.001792  0.007313  \n",
      "2023-05-17 -0.003599  0.011891  0.012762  0.008397  \n",
      "2023-05-18  0.002473  0.009445  0.015061  0.015962  \n",
      "2023-05-19  0.001886 -0.001446 -0.002438  0.007667  \n",
      "\n",
      "Cumulative Returns:\n",
      "                 AAPL       AMZN     GOOGL      MSFT        TSLA      ^DJI   \n",
      "Date                                                                         \n",
      "2023-05-15  21.512781  15.609409  6.428384  8.998707  103.447451  2.150862  \\\n",
      "2023-05-16  21.512781  15.938013  6.619657  9.072374  103.554189  2.119073   \n",
      "2023-05-17  21.593898  16.251680  6.704454  9.145396  108.162808  2.157681   \n",
      "2023-05-18  21.902669  16.647498  6.831332  9.291437  110.065277  2.168560   \n",
      "2023-05-19  21.917061  16.363704  6.826869  9.285622  112.105879  2.158235   \n",
      "\n",
      "               ^FTSE     ^GSPC     ^IXIC     ^N225  \n",
      "Date                                                \n",
      "2023-05-15  0.414050  2.650765  4.356569  1.780565  \n",
      "2023-05-16  0.409214  2.627481  4.346969  1.800899  \n",
      "2023-05-17  0.404142  2.670615  4.415206  1.824419  \n",
      "2023-05-18  0.407614  2.705284  4.496764  1.869501  \n",
      "2023-05-19  0.410269  2.699927  4.483361  1.891502  \n",
      "\n",
      "Max Drawdowns:\n",
      "                AAPL      AMZN     GOOGL      MSFT      TSLA      ^DJI   \n",
      "Date                                                                     \n",
      "2023-05-15 -0.443769 -0.561453 -0.443201 -0.375565 -0.736322 -0.370862  \\\n",
      "2023-05-16 -0.443769 -0.561453 -0.443201 -0.375565 -0.736322 -0.370862   \n",
      "2023-05-17 -0.443769 -0.561453 -0.443201 -0.375565 -0.736322 -0.370862   \n",
      "2023-05-18 -0.443769 -0.561453 -0.443201 -0.375565 -0.736322 -0.370862   \n",
      "2023-05-19 -0.443769 -0.561453 -0.443201 -0.375565 -0.736322 -0.370862   \n",
      "\n",
      "               ^FTSE    ^GSPC     ^IXIC     ^N225  \n",
      "Date                                               \n",
      "2023-05-15 -0.366055 -0.33925 -0.363953 -0.317989  \n",
      "2023-05-16 -0.366055 -0.33925 -0.363953 -0.317989  \n",
      "2023-05-17 -0.366055 -0.33925 -0.363953 -0.317989  \n",
      "2023-05-18 -0.366055 -0.33925 -0.363953 -0.317989  \n",
      "2023-05-19 -0.366055 -0.33925 -0.363953 -0.317989  \n",
      "\n",
      "Sharpe Ratio:\n",
      "^DJI     0.578309\n",
      "^FTSE    0.236022\n",
      "^GSPC    0.630781\n",
      "^IXIC    0.710603\n",
      "^N225    0.482519\n",
      "dtype: float64\n",
      "\n",
      "Sortino Ratio:\n",
      "^DJI     0.885975\n",
      "^FTSE    0.366006\n",
      "^GSPC    0.971614\n",
      "^IXIC    1.108052\n",
      "^N225    0.769479\n",
      "dtype: float64\n"
     ]
    },
    {
     "data": {
      "text/plain": [
       "\"# Plot cumulative returns\\ncumulative_returns.plot(figsize=(10, 6))\\nplt.title('Cumulative Returns')\\nplt.xlabel('Date')\\nplt.ylabel('Cumulative Returns')\\nplt.legend(loc='upper left')\\nplt.show()\""
      ]
     },
     "execution_count": 14,
     "metadata": {},
     "output_type": "execute_result"
    }
   ],
   "source": [
    "# Print the results\n",
    "print(\"Daily Returns:\")\n",
    "print(daily_returns.tail())\n",
    "\n",
    "print(\"\\nCumulative Returns:\")\n",
    "print(cumulative_returns.tail())\n",
    "\n",
    "print(\"\\nMax Drawdowns:\")\n",
    "print(max_drawdowns.tail())\n",
    "\n",
    "print(\"\\nSharpe Ratio:\")\n",
    "print(sharpe_ratio.tail())\n",
    "\n",
    "print(\"\\nSortino Ratio:\")\n",
    "print(sortino_ratio.tail())\n",
    "\n",
    "'''# Plot cumulative returns\n",
    "cumulative_returns.plot(figsize=(10, 6))\n",
    "plt.title('Cumulative Returns')\n",
    "plt.xlabel('Date')\n",
    "plt.ylabel('Cumulative Returns')\n",
    "plt.legend(loc='upper left')\n",
    "plt.show()'''"
   ]
  },
  {
   "cell_type": "code",
   "execution_count": null,
   "id": "ffd9ec02",
   "metadata": {},
   "outputs": [],
   "source": []
  }
 ],
 "metadata": {
  "kernelspec": {
   "display_name": "Python 3 (ipykernel)",
   "language": "python",
   "name": "python3"
  },
  "language_info": {
   "codemirror_mode": {
    "name": "ipython",
    "version": 3
   },
   "file_extension": ".py",
   "mimetype": "text/x-python",
   "name": "python",
   "nbconvert_exporter": "python",
   "pygments_lexer": "ipython3",
   "version": "3.11.3"
  }
 },
 "nbformat": 4,
 "nbformat_minor": 5
}
