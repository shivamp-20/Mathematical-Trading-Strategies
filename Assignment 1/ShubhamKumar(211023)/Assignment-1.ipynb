{
 "cells": [
  {
   "cell_type": "code",
   "execution_count": 101,
   "metadata": {},
   "outputs": [],
   "source": [
    "import numpy as np\n",
    "import pandas as pd\n",
    "import matplotlib.pyplot as plt\n",
    "import yfinance as yf"
   ]
  },
  {
   "cell_type": "code",
   "execution_count": 102,
   "metadata": {},
   "outputs": [],
   "source": [
    "from pandas_datareader import data,wb\n",
    "import pandas_datareader as pdr"
   ]
  },
  {
   "cell_type": "code",
   "execution_count": 103,
   "metadata": {},
   "outputs": [],
   "source": [
    "apple_df=pd.DataFrame()\n",
    "ms_df=pd.DataFrame()\n",
    "samsung_df=pd.DataFrame()\n",
    "ibm_df=pd.DataFrame()\n",
    "google_df=pd.DataFrame()\n",
    "\n",
    "tickers={'Apple':'AAPL','Microsoft':'MSFT','Google':'GOOG','Samsung':'SSNLF','IBM':'IBM'}\n",
    "company={'Apple':apple_df,'Microsoft':ms_df,'Samsung':samsung_df,'IBM':ibm_df,'Google':google_df}\n",
    "\n",
    "GSPC=pd.DataFrame()\n",
    "IXIC=pd.DataFrame()\n",
    "FTSE=pd.DataFrame()\n",
    "N225=pd.DataFrame()\n",
    "GDAXI=pd.DataFrame()\n",
    "\n",
    "index_df={'S&P 500 Index (United States)':GSPC,\n",
    "'NASDAQ Composite Index (United States)':IXIC,\n",
    "'FTSE 100 Index (United Kingdom)' : FTSE,\n",
    "'Nikkei 225 Index (Japan)': N225,\n",
    "'DAX Index (Germany)':GDAXI}\n",
    "\n",
    "tickers_index={'S&P 500 Index (United States)':'^GSPC',\n",
    "'NASDAQ Composite Index (United States)':'^IXIC',\n",
    "'FTSE 100 Index (United Kingdom)' : '^FTSE',\n",
    "'Nikkei 225 Index (Japan)': '^N225',\n",
    "'DAX Index (Germany)':'^GDAXI'}"
   ]
  },
  {
   "cell_type": "code",
   "execution_count": 104,
   "metadata": {},
   "outputs": [
    {
     "name": "stdout",
     "output_type": "stream",
     "text": [
      "[*********************100%***********************]  1 of 1 completed\n",
      "[*********************100%***********************]  1 of 1 completed\n",
      "[*********************100%***********************]  1 of 1 completed\n",
      "[*********************100%***********************]  1 of 1 completed\n",
      "[*********************100%***********************]  1 of 1 completed\n",
      "[*********************100%***********************]  1 of 1 completed\n",
      "[*********************100%***********************]  1 of 1 completed\n",
      "[*********************100%***********************]  1 of 1 completed\n",
      "[*********************100%***********************]  1 of 1 completed\n",
      "[*********************100%***********************]  1 of 1 completed\n"
     ]
    }
   ],
   "source": [
    "for key in tickers:\n",
    "    company[key]=yf.download(tickers[key], start=\"2010-01-01\", end=\"2023-05-01\")\n",
    "for key in tickers_index:\n",
    "    index_df[key]=yf.download(tickers_index[key], start=\"2010-01-01\", end=\"2023-05-01\")"
   ]
  },
  {
   "cell_type": "code",
   "execution_count": 105,
   "metadata": {},
   "outputs": [
    {
     "name": "stdout",
     "output_type": "stream",
     "text": [
      "[*********************100%***********************]  1 of 1 completed\n",
      "[*********************100%***********************]  1 of 1 completed\n",
      "[*********************100%***********************]  1 of 1 completed\n",
      "[*********************100%***********************]  1 of 1 completed\n",
      "[*********************100%***********************]  1 of 1 completed\n"
     ]
    }
   ],
   "source": [
    "apple_df = yf.download(\"AAPL\", start=\"2010-01-01\", end=\"2023-05-01\")\n",
    "google_df = yf.download(\"GOOG\", start=\"2010-01-01\", end=\"2023-05-01\")\n",
    "ms_df = yf.download(\"MSFT\", start=\"2010-01-01\", end=\"2023-05-01\")\n",
    "samsung_df = yf.download(\"SSNLF\", start=\"2010-01-01\", end=\"2023-05-01\")\n",
    "ibm_df = yf.download(\"IBM\", start=\"2010-01-01\", end=\"2023-05-01\")\n"
   ]
  },
  {
   "cell_type": "code",
   "execution_count": 106,
   "metadata": {},
   "outputs": [
    {
     "name": "stdout",
     "output_type": "stream",
     "text": [
      "\u001b[1m Apple \u001b[0m \n",
      "                 Open      High       Low     Close  Adj Close     Volume\n",
      "Date                                                                    \n",
      "2010-01-04  7.622500  7.660714  7.585000  7.643214   6.496294  493729600\n",
      "2010-01-05  7.664286  7.699643  7.616071  7.656429   6.507525  601904800\n",
      "2010-01-06  7.656429  7.686786  7.526786  7.534643   6.404016  552160000\n",
      "2010-01-07  7.562500  7.571429  7.466071  7.520714   6.392177  477131200\n",
      "2010-01-08  7.510714  7.571429  7.466429  7.570714   6.434673  447610800\n",
      "\n",
      "\n",
      "\u001b[1m Microsoft \u001b[0m \n",
      "                  Open       High        Low      Close  Adj Close    Volume\n",
      "Date                                                                       \n",
      "2010-01-04  30.620001  31.100000  30.590000  30.950001  23.572369  38409100\n",
      "2010-01-05  30.850000  31.100000  30.639999  30.959999  23.579979  49749600\n",
      "2010-01-06  30.879999  31.080000  30.520000  30.770000  23.435278  58182400\n",
      "2010-01-07  30.629999  30.700001  30.190001  30.450001  23.191557  50559700\n",
      "2010-01-08  30.280001  30.879999  30.240000  30.660000  23.351501  51197400\n",
      "\n",
      "\n",
      "\u001b[1m Google \u001b[0m \n",
      "                  Open       High        Low      Close  Adj Close     Volume\n",
      "Date                                                                        \n",
      "2010-01-04  15.615220  15.678981  15.547723  15.610239  15.610239   78541293\n",
      "2010-01-05  15.620949  15.637387  15.480475  15.541497  15.541497  120638494\n",
      "2010-01-06  15.588072  15.588072  15.102393  15.149715  15.149715  159744526\n",
      "2010-01-07  15.178109  15.193053  14.760922  14.797037  14.797037  257533695\n",
      "2010-01-08  14.744733  15.024933  14.672753  14.994298  14.994298  189680313\n",
      "\n",
      "\n",
      "\u001b[1m Samsung \u001b[0m \n",
      "             Open  High   Low  Close     Adj Close  Volume\n",
      "Date                                                     \n",
      "2010-10-11  13.2  13.2  13.2   13.2  3.250612e+27    2500\n",
      "2010-10-12  13.2  13.2  13.2   13.2  3.250612e+27       0\n",
      "2010-10-13  13.2  13.2  13.2   13.2  3.250612e+27    2500\n",
      "2010-10-14  13.2  13.2  13.2   13.2  3.250612e+27       0\n",
      "2010-10-15  13.2  13.2  13.2   13.2  3.250612e+27       0\n",
      "\n",
      "\n",
      "\u001b[1m IBM \u001b[0m \n",
      "                   Open        High         Low       Close  Adj Close   Volume\n",
      "Date                                                                          \n",
      "2010-01-04  125.411087  127.122368  125.095604  126.625237  79.247459  6438444\n",
      "2010-01-05  125.889099  126.051628  124.378586  125.095604  78.290154  7156104\n",
      "2010-01-06  124.933075  125.707458  124.101341  124.282982  77.781563  5863144\n",
      "2010-01-07  124.158699  124.521988  123.240921  123.852776  77.512329  6109268\n",
      "2010-01-08  123.393883  125.162521  123.374763  125.095604  78.290154  4390271\n",
      "\n",
      "\n",
      "\u001b[1m S&P 500 Index (United States) \u001b[0m \n",
      "                    Open         High          Low        Close    Adj Close   \n",
      "Date                                                                          \n",
      "2010-01-04  1116.560059  1133.869995  1116.560059  1132.989990  1132.989990  \\\n",
      "2010-01-05  1132.660034  1136.630005  1129.660034  1136.520020  1136.520020   \n",
      "2010-01-06  1135.709961  1139.189941  1133.949951  1137.140015  1137.140015   \n",
      "2010-01-07  1136.270020  1142.459961  1131.319946  1141.689941  1141.689941   \n",
      "2010-01-08  1140.520020  1145.390015  1136.219971  1144.979980  1144.979980   \n",
      "\n",
      "                Volume  \n",
      "Date                    \n",
      "2010-01-04  3991400000  \n",
      "2010-01-05  2491020000  \n",
      "2010-01-06  4972660000  \n",
      "2010-01-07  5270680000  \n",
      "2010-01-08  4389590000  \n",
      "\n",
      "\n",
      "\u001b[1m NASDAQ Composite Index (United States) \u001b[0m \n",
      "                    Open         High          Low        Close    Adj Close   \n",
      "Date                                                                          \n",
      "2010-01-04  2294.409912  2311.149902  2294.409912  2308.419922  2308.419922  \\\n",
      "2010-01-05  2307.270020  2313.729980  2295.620117  2308.709961  2308.709961   \n",
      "2010-01-06  2307.709961  2314.070068  2295.679932  2301.090088  2301.090088   \n",
      "2010-01-07  2298.090088  2301.300049  2285.219971  2300.050049  2300.050049   \n",
      "2010-01-08  2292.239990  2317.600098  2290.610107  2317.169922  2317.169922   \n",
      "\n",
      "                Volume  \n",
      "Date                    \n",
      "2010-01-04  1931380000  \n",
      "2010-01-05  2367860000  \n",
      "2010-01-06  2253340000  \n",
      "2010-01-07  2270050000  \n",
      "2010-01-08  2145390000  \n",
      "\n",
      "\n",
      "\u001b[1m FTSE 100 Index (United Kingdom) \u001b[0m \n",
      "                    Open         High          Low        Close    Adj Close   \n",
      "Date                                                                          \n",
      "2010-01-04  5412.899902  5500.299805  5410.799805  5500.299805  5500.299805  \\\n",
      "2010-01-05  5500.299805  5536.399902  5480.700195  5522.500000  5522.500000   \n",
      "2010-01-06  5522.500000  5536.500000  5497.700195  5530.000000  5530.000000   \n",
      "2010-01-07  5530.000000  5551.700195  5499.799805  5526.700195  5526.700195   \n",
      "2010-01-08  5526.700195  5549.299805  5494.799805  5534.200195  5534.200195   \n",
      "\n",
      "                Volume  \n",
      "Date                    \n",
      "2010-01-04   750942000  \n",
      "2010-01-05  1149301200  \n",
      "2010-01-06   998295300  \n",
      "2010-01-07  1162933700  \n",
      "2010-01-08  1006420600  \n",
      "\n",
      "\n",
      "\u001b[1m Nikkei 225 Index (Japan) \u001b[0m \n",
      "                     Open          High           Low         Close   \n",
      "Date                                                                 \n",
      "2010-01-04  10609.339844  10694.490234  10608.139648  10654.790039  \\\n",
      "2010-01-05  10719.440430  10791.040039  10655.570312  10681.830078   \n",
      "2010-01-06  10709.549805  10768.610352  10661.169922  10731.450195   \n",
      "2010-01-07  10742.750000  10774.000000  10636.669922  10681.660156   \n",
      "2010-01-08  10743.299805  10816.450195  10677.559570  10798.320312   \n",
      "\n",
      "               Adj Close     Volume  \n",
      "Date                                 \n",
      "2010-01-04  10654.790039  104400000  \n",
      "2010-01-05  10681.830078  166200000  \n",
      "2010-01-06  10731.450195  181800000  \n",
      "2010-01-07  10681.660156  182600000  \n",
      "2010-01-08  10798.320312  211800000  \n",
      "\n",
      "\n",
      "\u001b[1m DAX Index (Germany) \u001b[0m \n",
      "                    Open         High          Low        Close    Adj Close   \n",
      "Date                                                                          \n",
      "2010-01-04  5975.520020  6048.299805  5974.430176  6048.299805  6048.299805  \\\n",
      "2010-01-05  6043.939941  6058.020020  6015.669922  6031.859863  6031.859863   \n",
      "2010-01-06  6032.390137  6047.569824  5997.089844  6034.330078  6034.330078   \n",
      "2010-01-07  6016.799805  6037.569824  5961.250000  6019.359863  6019.359863   \n",
      "2010-01-08  6028.620117  6053.040039  5972.240234  6037.609863  6037.609863   \n",
      "\n",
      "               Volume  \n",
      "Date                   \n",
      "2010-01-04  104344400  \n",
      "2010-01-05  117572100  \n",
      "2010-01-06  108742400  \n",
      "2010-01-07  133704300  \n",
      "2010-01-08  126099000  \n",
      "\n",
      "\n"
     ]
    }
   ],
   "source": [
    "for key in tickers:\n",
    "    print(\"\\033[1m\",key,\"\\033[0m\",'\\n',company[key].head())\n",
    "    print('\\n')\n",
    "for key in tickers_index:\n",
    "    print(\"\\033[1m\",key,\"\\033[0m\",'\\n',index_df[key].head())\n",
    "    print('\\n')"
   ]
  },
  {
   "cell_type": "code",
   "execution_count": 117,
   "metadata": {},
   "outputs": [],
   "source": [
    "def daily_returns(df):\n",
    "    df['Daily_Returns']=(df['Close']-df['Open'])/df['Open']"
   ]
  },
  {
   "cell_type": "code",
   "execution_count": 118,
   "metadata": {},
   "outputs": [],
   "source": [
    "for key in tickers:\n",
    "    daily_returns(company[key])\n",
    "for key in tickers_index:\n",
    "    daily_returns(index_df[key])"
   ]
  },
  {
   "cell_type": "code",
   "execution_count": 120,
   "metadata": {},
   "outputs": [
    {
     "name": "stdout",
     "output_type": "stream",
     "text": [
      "\u001b[1m Apple \u001b[0m \n",
      "                 Open      High       Low     Close  Adj Close     Volume   \n",
      "Date                                                                       \n",
      "2010-01-04  7.622500  7.660714  7.585000  7.643214   6.496294  493729600  \\\n",
      "2010-01-05  7.664286  7.699643  7.616071  7.656429   6.507525  601904800   \n",
      "2010-01-06  7.656429  7.686786  7.526786  7.534643   6.404016  552160000   \n",
      "2010-01-07  7.562500  7.571429  7.466071  7.520714   6.392177  477131200   \n",
      "2010-01-08  7.510714  7.571429  7.466429  7.570714   6.434673  447610800   \n",
      "\n",
      "            Daily_Returns  \n",
      "Date                       \n",
      "2010-01-04       0.002718  \n",
      "2010-01-05      -0.001025  \n",
      "2010-01-06      -0.015906  \n",
      "2010-01-07      -0.005525  \n",
      "2010-01-08       0.007989  \n",
      "\n",
      "\n",
      "\u001b[1m Microsoft \u001b[0m \n",
      "                  Open       High        Low      Close  Adj Close    Volume   \n",
      "Date                                                                          \n",
      "2010-01-04  30.620001  31.100000  30.590000  30.950001  23.572369  38409100  \\\n",
      "2010-01-05  30.850000  31.100000  30.639999  30.959999  23.579979  49749600   \n",
      "2010-01-06  30.879999  31.080000  30.520000  30.770000  23.435278  58182400   \n",
      "2010-01-07  30.629999  30.700001  30.190001  30.450001  23.191557  50559700   \n",
      "2010-01-08  30.280001  30.879999  30.240000  30.660000  23.351501  51197400   \n",
      "\n",
      "            Daily_Returns  \n",
      "Date                       \n",
      "2010-01-04       0.010777  \n",
      "2010-01-05       0.003566  \n",
      "2010-01-06      -0.003562  \n",
      "2010-01-07      -0.005877  \n",
      "2010-01-08       0.012550  \n",
      "\n",
      "\n",
      "\u001b[1m Google \u001b[0m \n",
      "                  Open       High        Low      Close  Adj Close     Volume   \n",
      "Date                                                                           \n",
      "2010-01-04  15.615220  15.678981  15.547723  15.610239  15.610239   78541293  \\\n",
      "2010-01-05  15.620949  15.637387  15.480475  15.541497  15.541497  120638494   \n",
      "2010-01-06  15.588072  15.588072  15.102393  15.149715  15.149715  159744526   \n",
      "2010-01-07  15.178109  15.193053  14.760922  14.797037  14.797037  257533695   \n",
      "2010-01-08  14.744733  15.024933  14.672753  14.994298  14.994298  189680313   \n",
      "\n",
      "            Daily_Returns  \n",
      "Date                       \n",
      "2010-01-04      -0.000319  \n",
      "2010-01-05      -0.005086  \n",
      "2010-01-06      -0.028121  \n",
      "2010-01-07      -0.025107  \n",
      "2010-01-08       0.016926  \n",
      "\n",
      "\n",
      "\u001b[1m Samsung \u001b[0m \n",
      "             Open  High   Low  Close     Adj Close  Volume  Daily_Returns\n",
      "Date                                                                    \n",
      "2010-10-11  13.2  13.2  13.2   13.2  3.250612e+27    2500            0.0\n",
      "2010-10-12  13.2  13.2  13.2   13.2  3.250612e+27       0            0.0\n",
      "2010-10-13  13.2  13.2  13.2   13.2  3.250612e+27    2500            0.0\n",
      "2010-10-14  13.2  13.2  13.2   13.2  3.250612e+27       0            0.0\n",
      "2010-10-15  13.2  13.2  13.2   13.2  3.250612e+27       0            0.0\n",
      "\n",
      "\n",
      "\u001b[1m IBM \u001b[0m \n",
      "                   Open        High         Low       Close  Adj Close   \n",
      "Date                                                                    \n",
      "2010-01-04  125.411087  127.122368  125.095604  126.625237  79.247459  \\\n",
      "2010-01-05  125.889099  126.051628  124.378586  125.095604  78.290154   \n",
      "2010-01-06  124.933075  125.707458  124.101341  124.282982  77.781563   \n",
      "2010-01-07  124.158699  124.521988  123.240921  123.852776  77.512329   \n",
      "2010-01-08  123.393883  125.162521  123.374763  125.095604  78.290154   \n",
      "\n",
      "             Volume  Daily_Returns  \n",
      "Date                                \n",
      "2010-01-04  6438444       0.009681  \n",
      "2010-01-05  7156104      -0.006303  \n",
      "2010-01-06  5863144      -0.005204  \n",
      "2010-01-07  6109268      -0.002464  \n",
      "2010-01-08  4390271       0.013791  \n",
      "\n",
      "\n",
      "\u001b[1m S&P 500 Index (United States) \u001b[0m \n",
      "                    Open         High          Low        Close    Adj Close   \n",
      "Date                                                                          \n",
      "2010-01-04  1116.560059  1133.869995  1116.560059  1132.989990  1132.989990  \\\n",
      "2010-01-05  1132.660034  1136.630005  1129.660034  1136.520020  1136.520020   \n",
      "2010-01-06  1135.709961  1139.189941  1133.949951  1137.140015  1137.140015   \n",
      "2010-01-07  1136.270020  1142.459961  1131.319946  1141.689941  1141.689941   \n",
      "2010-01-08  1140.520020  1145.390015  1136.219971  1144.979980  1144.979980   \n",
      "\n",
      "                Volume  Daily_Returns  \n",
      "Date                                   \n",
      "2010-01-04  3991400000       0.014715  \n",
      "2010-01-05  2491020000       0.003408  \n",
      "2010-01-06  4972660000       0.001259  \n",
      "2010-01-07  5270680000       0.004770  \n",
      "2010-01-08  4389590000       0.003910  \n",
      "\n",
      "\n",
      "\u001b[1m NASDAQ Composite Index (United States) \u001b[0m \n",
      "                    Open         High          Low        Close    Adj Close   \n",
      "Date                                                                          \n",
      "2010-01-04  2294.409912  2311.149902  2294.409912  2308.419922  2308.419922  \\\n",
      "2010-01-05  2307.270020  2313.729980  2295.620117  2308.709961  2308.709961   \n",
      "2010-01-06  2307.709961  2314.070068  2295.679932  2301.090088  2301.090088   \n",
      "2010-01-07  2298.090088  2301.300049  2285.219971  2300.050049  2300.050049   \n",
      "2010-01-08  2292.239990  2317.600098  2290.610107  2317.169922  2317.169922   \n",
      "\n",
      "                Volume  Daily_Returns  \n",
      "Date                                   \n",
      "2010-01-04  1931380000       0.006106  \n",
      "2010-01-05  2367860000       0.000624  \n",
      "2010-01-06  2253340000      -0.002869  \n",
      "2010-01-07  2270050000       0.000853  \n",
      "2010-01-08  2145390000       0.010876  \n",
      "\n",
      "\n",
      "\u001b[1m FTSE 100 Index (United Kingdom) \u001b[0m \n",
      "                    Open         High          Low        Close    Adj Close   \n",
      "Date                                                                          \n",
      "2010-01-04  5412.899902  5500.299805  5410.799805  5500.299805  5500.299805  \\\n",
      "2010-01-05  5500.299805  5536.399902  5480.700195  5522.500000  5522.500000   \n",
      "2010-01-06  5522.500000  5536.500000  5497.700195  5530.000000  5530.000000   \n",
      "2010-01-07  5530.000000  5551.700195  5499.799805  5526.700195  5526.700195   \n",
      "2010-01-08  5526.700195  5549.299805  5494.799805  5534.200195  5534.200195   \n",
      "\n",
      "                Volume  Daily_Returns  \n",
      "Date                                   \n",
      "2010-01-04   750942000       0.016147  \n",
      "2010-01-05  1149301200       0.004036  \n",
      "2010-01-06   998295300       0.001358  \n",
      "2010-01-07  1162933700      -0.000597  \n",
      "2010-01-08  1006420600       0.001357  \n",
      "\n",
      "\n",
      "\u001b[1m Nikkei 225 Index (Japan) \u001b[0m \n",
      "                     Open          High           Low         Close   \n",
      "Date                                                                 \n",
      "2010-01-04  10609.339844  10694.490234  10608.139648  10654.790039  \\\n",
      "2010-01-05  10719.440430  10791.040039  10655.570312  10681.830078   \n",
      "2010-01-06  10709.549805  10768.610352  10661.169922  10731.450195   \n",
      "2010-01-07  10742.750000  10774.000000  10636.669922  10681.660156   \n",
      "2010-01-08  10743.299805  10816.450195  10677.559570  10798.320312   \n",
      "\n",
      "               Adj Close     Volume  Daily_Returns  \n",
      "Date                                                \n",
      "2010-01-04  10654.790039  104400000       0.004284  \n",
      "2010-01-05  10681.830078  166200000      -0.003509  \n",
      "2010-01-06  10731.450195  181800000       0.002045  \n",
      "2010-01-07  10681.660156  182600000      -0.005687  \n",
      "2010-01-08  10798.320312  211800000       0.005121  \n",
      "\n",
      "\n",
      "\u001b[1m DAX Index (Germany) \u001b[0m \n",
      "                    Open         High          Low        Close    Adj Close   \n",
      "Date                                                                          \n",
      "2010-01-04  5975.520020  6048.299805  5974.430176  6048.299805  6048.299805  \\\n",
      "2010-01-05  6043.939941  6058.020020  6015.669922  6031.859863  6031.859863   \n",
      "2010-01-06  6032.390137  6047.569824  5997.089844  6034.330078  6034.330078   \n",
      "2010-01-07  6016.799805  6037.569824  5961.250000  6019.359863  6019.359863   \n",
      "2010-01-08  6028.620117  6053.040039  5972.240234  6037.609863  6037.609863   \n",
      "\n",
      "               Volume  Daily_Returns  \n",
      "Date                                  \n",
      "2010-01-04  104344400       0.012180  \n",
      "2010-01-05  117572100      -0.001999  \n",
      "2010-01-06  108742400       0.000322  \n",
      "2010-01-07  133704300       0.000425  \n",
      "2010-01-08  126099000       0.001491  \n",
      "\n",
      "\n"
     ]
    }
   ],
   "source": [
    "for key in tickers:\n",
    "    print(\"\\033[1m\",key,\"\\033[0m\",'\\n',company[key].head())\n",
    "    print('\\n')\n",
    "for key in tickers_index:\n",
    "    print(\"\\033[1m\",key,\"\\033[0m\",'\\n',index_df[key].head())\n",
    "    print('\\n')"
   ]
  },
  {
   "cell_type": "code",
   "execution_count": 121,
   "metadata": {},
   "outputs": [
    {
     "name": "stdout",
     "output_type": "stream",
     "text": [
      "{'Apple': 0.0003675196606575826, 'Microsoft': 0.0004345397737524782, 'Samsung': 5.89238574109324e-05, 'IBM': 0.0003342746575054423, 'Google': 0.00020739177411460073}\n",
      "{'S&P 500 Index (United States)': 0.00028269933676715217, 'NASDAQ Composite Index (United States)': 0.0002539405576596172, 'FTSE 100 Index (United Kingdom)': 0.00016107148879688414, 'Nikkei 225 Index (Japan)': -8.777900903099476e-05, 'DAX Index (Germany)': -4.8019073965605236e-05}\n"
     ]
    }
   ],
   "source": [
    "Daily_ret={}\n",
    "Daily_ret_index={}\n",
    "\n",
    "for key in company:\n",
    "    Daily_ret[key]=company[key]['Daily_Returns'].mean()\n",
    "for key in index_df:\n",
    "    Daily_ret_index[key]=index_df[key]['Daily_Returns'].mean()\n",
    "print(Daily_ret)\n",
    "print(Daily_ret_index)"
   ]
  },
  {
   "cell_type": "code",
   "execution_count": 122,
   "metadata": {},
   "outputs": [],
   "source": [
    "def cumulative_returns(df):\n",
    "    return ((1 + df['Daily_Returns']).prod() - 1)"
   ]
  },
  {
   "cell_type": "code",
   "execution_count": 123,
   "metadata": {},
   "outputs": [
    {
     "name": "stdout",
     "output_type": "stream",
     "text": [
      "{'Apple': 1.4672424323170885, 'Microsoft': 2.2828096441274397, 'Samsung': 0.19636906060788317, 'IBM': 1.5615523242985323, 'Google': 0.508908466388688}\n",
      "{'S&P 500 Index (United States)': 1.226743540504597, 'NASDAQ Composite Index (United States)': 0.9740700296854294, 'FTSE 100 Index (United Kingdom)': 0.44022202939109056, 'Nikkei 225 Index (Japan)': -0.3446669380129068, 'DAX Index (Germany)': -0.2855464592064456}\n"
     ]
    }
   ],
   "source": [
    "CumulativeReturns={}\n",
    "CumulativeReturns_index={}\n",
    "for key in company:\n",
    "    CumulativeReturns[key]=cumulative_returns(company[key])\n",
    "for key in index_df:\n",
    "    CumulativeReturns_index[key]=cumulative_returns(index_df[key])\n",
    "print(CumulativeReturns)\n",
    "print(CumulativeReturns_index)"
   ]
  },
  {
   "attachments": {},
   "cell_type": "markdown",
   "metadata": {},
   "source": [
    "For calculating volatality below formula has been used:\n",
    "volatality = σ√T\n",
    "where:\n",
    "\n",
    "v = volatility over some interval of time(for our case time period is 13 years)\n",
    "\n",
    "σ =standard deviation of returns(standard deviation taken on cumulative daily returns)\n",
    "\n",
    "T = number of periods in the time horizon(=size of dataframe of that company)\n",
    "\n",
    "We are calculating it anually and then taking average to get better idea"
   ]
  },
  {
   "cell_type": "code",
   "execution_count": 124,
   "metadata": {},
   "outputs": [],
   "source": [
    "def volatility(df):\n",
    "    df['Log returns'] = np.log(df['Close']/df['Close'].shift())\n",
    "    return df['Log returns'].std()*np.sqrt(252)"
   ]
  },
  {
   "cell_type": "code",
   "execution_count": 126,
   "metadata": {},
   "outputs": [
    {
     "name": "stdout",
     "output_type": "stream",
     "text": [
      "{'Apple': 0.28632274215768444, 'Microsoft': 0.261666136486592, 'Samsung': 0.392265150191745, 'IBM': 0.2261851463289666, 'Google': 0.2725051066868483}\n",
      "{'S&P 500 Index (United States)': 0.17816252244416103, 'NASDAQ Composite Index (United States)': 0.20665950343926331, 'FTSE 100 Index (United Kingdom)': 0.1629884576887922, 'Nikkei 225 Index (Japan)': 0.2086930448438509, 'DAX Index (Germany)': 0.2030556778234404}\n"
     ]
    }
   ],
   "source": [
    "Volatility={}\n",
    "Volatility_index={}\n",
    "\n",
    "for key in company:\n",
    "    Volatility[key]=volatility(company[key])\n",
    "for key in index_df:\n",
    "    Volatility_index[key]=volatility(index_df[key])\n",
    "print(Volatility)\n",
    "print(Volatility_index)"
   ]
  },
  {
   "cell_type": "code",
   "execution_count": 129,
   "metadata": {},
   "outputs": [],
   "source": [
    "def maximumdailydrawdownratio(df,key):\n",
    "    \n",
    "    Roll_Max = df['Adj Close'].cummax()\n",
    "    Daily_Drawdown = df['Adj Close']/Roll_Max - 1.0\n",
    "    \n",
    "    Max_Daily_Drawdown = Daily_Drawdown.cummin()\n",
    "    return  Max_Daily_Drawdown"
   ]
  },
  {
   "cell_type": "code",
   "execution_count": 130,
   "metadata": {},
   "outputs": [],
   "source": [
    "Maximum_Daily_Drawdown_Ratio={}\n",
    "Maximum_Daily_Drawdown_Ratio_index={}\n",
    "for key in company:\n",
    "    Maximum_Daily_Drawdown_Ratio[key]=maximumdailydrawdownratio(company[key],key)\n",
    "for key in index_df:\n",
    "    Maximum_Daily_Drawdown_Ratio_index[key]=maximumdailydrawdownratio(index_df[key],key)   \n",
    "    \n"
   ]
  },
  {
   "cell_type": "code",
   "execution_count": 131,
   "metadata": {},
   "outputs": [
    {
     "name": "stdout",
     "output_type": "stream",
     "text": [
      "{'Apple': -0.4379717171126689, 'Microsoft': -0.3714848530549334, 'Samsung': -1.5130567449793222, 'IBM': -0.43720036150650343, 'Google': -0.4460184987847865}\n",
      "{'S&P 500 Index (United States)': -0.3392496000265327, 'NASDAQ Composite Index (United States)': -0.36395279909120204, 'FTSE 100 Index (United Kingdom)': -0.3660552329617581, 'Nikkei 225 Index (Japan)': -0.31798896508501917, 'DAX Index (Germany)': -0.38779389651624485}\n"
     ]
    }
   ],
   "source": [
    "Maximum_Drawdown_Ratio={}\n",
    "Maximum_Drawdown_Ratio_index={}\n",
    "for key in company:\n",
    "    Maximum_Drawdown_Ratio[key]=Maximum_Daily_Drawdown_Ratio[key].min()\n",
    "for key in index_df:\n",
    "    Maximum_Drawdown_Ratio_index[key]= Maximum_Daily_Drawdown_Ratio_index[key].min()\n",
    "print(Maximum_Drawdown_Ratio)\n",
    "print(Maximum_Drawdown_Ratio_index)"
   ]
  },
  {
   "cell_type": "code",
   "execution_count": 132,
   "metadata": {},
   "outputs": [
    {
     "data": {
      "text/plain": [
       "0.0001556498627912628"
      ]
     },
     "execution_count": 132,
     "metadata": {},
     "output_type": "execute_result"
    }
   ],
   "source": [
    "risk_free_rate=0.04  #considered annual return rate of 3.5% for all the stocks and indices\n",
    "Number_of_compounding_periods_per_year=252\n",
    "risk_free = (1 + risk_free_rate)** (1 / Number_of_compounding_periods_per_year) - 1\n",
    "risk_free"
   ]
  },
  {
   "cell_type": "code",
   "execution_count": 133,
   "metadata": {},
   "outputs": [],
   "source": [
    "def sortino_ratio(df):\n",
    "    excess_returns=df['Daily_Returns']-risk_free\n",
    "    mean_excess_return=excess_returns.mean()\n",
    "    downside_deviation = excess_returns[excess_returns < 0].std()\n",
    "    return mean_excess_return*(252**0.5)/ downside_deviation"
   ]
  },
  {
   "cell_type": "code",
   "execution_count": 134,
   "metadata": {},
   "outputs": [],
   "source": [
    "def sharpe_ratio(df):\n",
    "    excess_returns=df['Daily_Returns']-risk_free\n",
    "    mean_excess_return=excess_returns.mean()\n",
    "    std_excess_return = excess_returns.std()\n",
    "    return mean_excess_return*(252**0.5)/std_excess_return"
   ]
  },
  {
   "cell_type": "code",
   "execution_count": 135,
   "metadata": {},
   "outputs": [
    {
     "name": "stdout",
     "output_type": "stream",
     "text": [
      "{'Apple': 0.24002677838408978, 'Microsoft': 0.3500451232644255, 'Samsung': -0.7242067065046871, 'IBM': 0.2735459606569344, 'Google': 0.06317442287561696}\n",
      "{'Apple': 0.35357884196774453, 'Microsoft': 0.5052995532953819, 'Samsung': -2.4340057789013585, 'IBM': 0.3967609377501605, 'Google': 0.08823485192096063}\n"
     ]
    }
   ],
   "source": [
    "AnnualSharpe_Ratio={}\n",
    "AnnualSortino_Ratio={}\n",
    "for key in company:\n",
    "    AnnualSharpe_Ratio[key]=sharpe_ratio(company[key])\n",
    "    AnnualSortino_Ratio[key]=sortino_ratio(company[key])\n",
    "print(AnnualSharpe_Ratio)\n",
    "print(AnnualSortino_Ratio)"
   ]
  },
  {
   "cell_type": "code",
   "execution_count": 136,
   "metadata": {},
   "outputs": [
    {
     "name": "stdout",
     "output_type": "stream",
     "text": [
      "{'S&P 500 Index (United States)': 0.21540355183524396, 'NASDAQ Composite Index (United States)': 0.15447612767203073, 'FTSE 100 Index (United Kingdom)': 0.008406440457095448, 'Nikkei 225 Index (Japan)': -0.4232470729139694, 'DAX Index (Germany)': -0.3189421883268503}\n",
      "{'S&P 500 Index (United States)': 0.27279471087484974, 'NASDAQ Composite Index (United States)': 0.20323595935218078, 'FTSE 100 Index (United Kingdom)': 0.01087055423391867, 'Nikkei 225 Index (Japan)': -0.5354136295266897, 'DAX Index (Germany)': -0.42825548777793543}\n"
     ]
    }
   ],
   "source": [
    "AnnualSharpe_Ratio_index={}\n",
    "AnnualSortino_Ratio_index={}\n",
    "for key in index_df:\n",
    "    AnnualSharpe_Ratio_index[key]=sharpe_ratio(index_df[key])\n",
    "    AnnualSortino_Ratio_index[key]=sortino_ratio(index_df[key])\n",
    "print(AnnualSharpe_Ratio_index)\n",
    "print(AnnualSortino_Ratio_index)"
   ]
  }
 ],
 "metadata": {
  "kernelspec": {
   "display_name": "Python 3",
   "language": "python",
   "name": "python3"
  },
  "language_info": {
   "codemirror_mode": {
    "name": "ipython",
    "version": 3
   },
   "file_extension": ".py",
   "mimetype": "text/x-python",
   "name": "python",
   "nbconvert_exporter": "python",
   "pygments_lexer": "ipython3",
   "version": "3.10.5"
  },
  "orig_nbformat": 4
 },
 "nbformat": 4,
 "nbformat_minor": 2
}
