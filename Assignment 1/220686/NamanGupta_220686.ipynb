{
  "nbformat": 4,
  "nbformat_minor": 0,
  "metadata": {
    "colab": {
      "provenance": [],
      "authorship_tag": "ABX9TyNyZy9AmzRZIihQp/JPIxzk",
      "include_colab_link": true
    },
    "kernelspec": {
      "name": "python3",
      "display_name": "Python 3"
    },
    "language_info": {
      "name": "python"
    }
  },
  "cells": [
    {
      "cell_type": "markdown",
      "metadata": {
        "id": "view-in-github",
        "colab_type": "text"
      },
      "source": [
        "<a href=\"https://colab.research.google.com/github/NamanGupta-0509/Mathematical-Trading-Strategies-1/blob/main/Assignment%201/NamanGupta_220686.ipynb\" target=\"_parent\"><img src=\"https://colab.research.google.com/assets/colab-badge.svg\" alt=\"Open In Colab\"/></a>"
      ]
    },
    {
      "cell_type": "code",
      "execution_count": null,
      "metadata": {
        "id": "9T2UOs8GuL2p"
      },
      "outputs": [],
      "source": [
        "import yfinance as yf\n",
        "import numpy as np\n",
        "import pandas as pd\n",
        "import math"
      ]
    },
    {
      "cell_type": "code",
      "source": [
        "securities = [\"AAPL\", \"AMZN\", \"TSLA\", \"MSFT\", \"META\", \"^GSPC\", \"^DJI\", \"^IXIC\", \"^N225\", \"^FTSE\"]\n",
        "\n",
        "df = []\n",
        "for i in range(10):\n",
        "    df.append(yf.download(securities[i], start='2010-01-01', end='2023-05-01'))"
      ],
      "metadata": {
        "colab": {
          "base_uri": "https://localhost:8080/"
        },
        "id": "Do3ux1WMuS3u",
        "outputId": "b31ef336-0bd6-48ef-e8c7-37ed98f4ee1a"
      },
      "execution_count": null,
      "outputs": [
        {
          "output_type": "stream",
          "name": "stdout",
          "text": [
            "[*********************100%***********************]  1 of 1 completed\n",
            "[*********************100%***********************]  1 of 1 completed\n",
            "[*********************100%***********************]  1 of 1 completed\n",
            "[*********************100%***********************]  1 of 1 completed\n",
            "[*********************100%***********************]  1 of 1 completed\n",
            "[*********************100%***********************]  1 of 1 completed\n",
            "[*********************100%***********************]  1 of 1 completed\n",
            "[*********************100%***********************]  1 of 1 completed\n",
            "[*********************100%***********************]  1 of 1 completed\n",
            "[*********************100%***********************]  1 of 1 completed\n"
          ]
        }
      ]
    },
    {
      "cell_type": "code",
      "source": [
        "################# DAILY RETURNS ####################\n",
        "\n",
        "for i in range(10):\n",
        "    df[i]['Daily Returns'] = 100*(df[i]['Close'] - df[i]['Open'])/(df[i]['Open'])\n",
        "df[0]"
      ],
      "metadata": {
        "colab": {
          "base_uri": "https://localhost:8080/",
          "height": 455
        },
        "id": "DK4l83TKvsEX",
        "outputId": "964603e1-8214-4500-b045-68664ef3b92c"
      },
      "execution_count": null,
      "outputs": [
        {
          "output_type": "execute_result",
          "data": {
            "text/plain": [
              "                  Open        High         Low       Close   Adj Close  \\\n",
              "Date                                                                     \n",
              "2010-01-04    7.622500    7.660714    7.585000    7.643214    6.496294   \n",
              "2010-01-05    7.664286    7.699643    7.616071    7.656429    6.507525   \n",
              "2010-01-06    7.656429    7.686786    7.526786    7.534643    6.404015   \n",
              "2010-01-07    7.562500    7.571429    7.466071    7.520714    6.392176   \n",
              "2010-01-08    7.510714    7.571429    7.466429    7.570714    6.434674   \n",
              "...                ...         ...         ...         ...         ...   \n",
              "2023-04-24  165.000000  165.600006  163.889999  165.330002  165.101639   \n",
              "2023-04-25  165.190002  166.309998  163.729996  163.770004  163.543793   \n",
              "2023-04-26  163.059998  165.279999  162.800003  163.759995  163.533798   \n",
              "2023-04-27  165.190002  168.559998  165.190002  168.410004  168.177383   \n",
              "2023-04-28  168.490005  169.850006  167.880005  169.679993  169.445618   \n",
              "\n",
              "               Volume  Daily Returns  \n",
              "Date                                  \n",
              "2010-01-04  493729600       0.271752  \n",
              "2010-01-05  601904800      -0.102519  \n",
              "2010-01-06  552160000      -1.590632  \n",
              "2010-01-07  477131200      -0.552545  \n",
              "2010-01-08  447610800       0.798858  \n",
              "...               ...            ...  \n",
              "2023-04-24   41949600       0.200001  \n",
              "2023-04-25   48714100      -0.859615  \n",
              "2023-04-26   45498800       0.429288  \n",
              "2023-04-27   64902300       1.949271  \n",
              "2023-04-28   55209200       0.706266  \n",
              "\n",
              "[3353 rows x 7 columns]"
            ],
            "text/html": [
              "\n",
              "  <div id=\"df-c4b862a7-9228-47ee-9a12-b6d9526189f1\">\n",
              "    <div class=\"colab-df-container\">\n",
              "      <div>\n",
              "<style scoped>\n",
              "    .dataframe tbody tr th:only-of-type {\n",
              "        vertical-align: middle;\n",
              "    }\n",
              "\n",
              "    .dataframe tbody tr th {\n",
              "        vertical-align: top;\n",
              "    }\n",
              "\n",
              "    .dataframe thead th {\n",
              "        text-align: right;\n",
              "    }\n",
              "</style>\n",
              "<table border=\"1\" class=\"dataframe\">\n",
              "  <thead>\n",
              "    <tr style=\"text-align: right;\">\n",
              "      <th></th>\n",
              "      <th>Open</th>\n",
              "      <th>High</th>\n",
              "      <th>Low</th>\n",
              "      <th>Close</th>\n",
              "      <th>Adj Close</th>\n",
              "      <th>Volume</th>\n",
              "      <th>Daily Returns</th>\n",
              "    </tr>\n",
              "    <tr>\n",
              "      <th>Date</th>\n",
              "      <th></th>\n",
              "      <th></th>\n",
              "      <th></th>\n",
              "      <th></th>\n",
              "      <th></th>\n",
              "      <th></th>\n",
              "      <th></th>\n",
              "    </tr>\n",
              "  </thead>\n",
              "  <tbody>\n",
              "    <tr>\n",
              "      <th>2010-01-04</th>\n",
              "      <td>7.622500</td>\n",
              "      <td>7.660714</td>\n",
              "      <td>7.585000</td>\n",
              "      <td>7.643214</td>\n",
              "      <td>6.496294</td>\n",
              "      <td>493729600</td>\n",
              "      <td>0.271752</td>\n",
              "    </tr>\n",
              "    <tr>\n",
              "      <th>2010-01-05</th>\n",
              "      <td>7.664286</td>\n",
              "      <td>7.699643</td>\n",
              "      <td>7.616071</td>\n",
              "      <td>7.656429</td>\n",
              "      <td>6.507525</td>\n",
              "      <td>601904800</td>\n",
              "      <td>-0.102519</td>\n",
              "    </tr>\n",
              "    <tr>\n",
              "      <th>2010-01-06</th>\n",
              "      <td>7.656429</td>\n",
              "      <td>7.686786</td>\n",
              "      <td>7.526786</td>\n",
              "      <td>7.534643</td>\n",
              "      <td>6.404015</td>\n",
              "      <td>552160000</td>\n",
              "      <td>-1.590632</td>\n",
              "    </tr>\n",
              "    <tr>\n",
              "      <th>2010-01-07</th>\n",
              "      <td>7.562500</td>\n",
              "      <td>7.571429</td>\n",
              "      <td>7.466071</td>\n",
              "      <td>7.520714</td>\n",
              "      <td>6.392176</td>\n",
              "      <td>477131200</td>\n",
              "      <td>-0.552545</td>\n",
              "    </tr>\n",
              "    <tr>\n",
              "      <th>2010-01-08</th>\n",
              "      <td>7.510714</td>\n",
              "      <td>7.571429</td>\n",
              "      <td>7.466429</td>\n",
              "      <td>7.570714</td>\n",
              "      <td>6.434674</td>\n",
              "      <td>447610800</td>\n",
              "      <td>0.798858</td>\n",
              "    </tr>\n",
              "    <tr>\n",
              "      <th>...</th>\n",
              "      <td>...</td>\n",
              "      <td>...</td>\n",
              "      <td>...</td>\n",
              "      <td>...</td>\n",
              "      <td>...</td>\n",
              "      <td>...</td>\n",
              "      <td>...</td>\n",
              "    </tr>\n",
              "    <tr>\n",
              "      <th>2023-04-24</th>\n",
              "      <td>165.000000</td>\n",
              "      <td>165.600006</td>\n",
              "      <td>163.889999</td>\n",
              "      <td>165.330002</td>\n",
              "      <td>165.101639</td>\n",
              "      <td>41949600</td>\n",
              "      <td>0.200001</td>\n",
              "    </tr>\n",
              "    <tr>\n",
              "      <th>2023-04-25</th>\n",
              "      <td>165.190002</td>\n",
              "      <td>166.309998</td>\n",
              "      <td>163.729996</td>\n",
              "      <td>163.770004</td>\n",
              "      <td>163.543793</td>\n",
              "      <td>48714100</td>\n",
              "      <td>-0.859615</td>\n",
              "    </tr>\n",
              "    <tr>\n",
              "      <th>2023-04-26</th>\n",
              "      <td>163.059998</td>\n",
              "      <td>165.279999</td>\n",
              "      <td>162.800003</td>\n",
              "      <td>163.759995</td>\n",
              "      <td>163.533798</td>\n",
              "      <td>45498800</td>\n",
              "      <td>0.429288</td>\n",
              "    </tr>\n",
              "    <tr>\n",
              "      <th>2023-04-27</th>\n",
              "      <td>165.190002</td>\n",
              "      <td>168.559998</td>\n",
              "      <td>165.190002</td>\n",
              "      <td>168.410004</td>\n",
              "      <td>168.177383</td>\n",
              "      <td>64902300</td>\n",
              "      <td>1.949271</td>\n",
              "    </tr>\n",
              "    <tr>\n",
              "      <th>2023-04-28</th>\n",
              "      <td>168.490005</td>\n",
              "      <td>169.850006</td>\n",
              "      <td>167.880005</td>\n",
              "      <td>169.679993</td>\n",
              "      <td>169.445618</td>\n",
              "      <td>55209200</td>\n",
              "      <td>0.706266</td>\n",
              "    </tr>\n",
              "  </tbody>\n",
              "</table>\n",
              "<p>3353 rows × 7 columns</p>\n",
              "</div>\n",
              "      <button class=\"colab-df-convert\" onclick=\"convertToInteractive('df-c4b862a7-9228-47ee-9a12-b6d9526189f1')\"\n",
              "              title=\"Convert this dataframe to an interactive table.\"\n",
              "              style=\"display:none;\">\n",
              "        \n",
              "  <svg xmlns=\"http://www.w3.org/2000/svg\" height=\"24px\"viewBox=\"0 0 24 24\"\n",
              "       width=\"24px\">\n",
              "    <path d=\"M0 0h24v24H0V0z\" fill=\"none\"/>\n",
              "    <path d=\"M18.56 5.44l.94 2.06.94-2.06 2.06-.94-2.06-.94-.94-2.06-.94 2.06-2.06.94zm-11 1L8.5 8.5l.94-2.06 2.06-.94-2.06-.94L8.5 2.5l-.94 2.06-2.06.94zm10 10l.94 2.06.94-2.06 2.06-.94-2.06-.94-.94-2.06-.94 2.06-2.06.94z\"/><path d=\"M17.41 7.96l-1.37-1.37c-.4-.4-.92-.59-1.43-.59-.52 0-1.04.2-1.43.59L10.3 9.45l-7.72 7.72c-.78.78-.78 2.05 0 2.83L4 21.41c.39.39.9.59 1.41.59.51 0 1.02-.2 1.41-.59l7.78-7.78 2.81-2.81c.8-.78.8-2.07 0-2.86zM5.41 20L4 18.59l7.72-7.72 1.47 1.35L5.41 20z\"/>\n",
              "  </svg>\n",
              "      </button>\n",
              "      \n",
              "  <style>\n",
              "    .colab-df-container {\n",
              "      display:flex;\n",
              "      flex-wrap:wrap;\n",
              "      gap: 12px;\n",
              "    }\n",
              "\n",
              "    .colab-df-convert {\n",
              "      background-color: #E8F0FE;\n",
              "      border: none;\n",
              "      border-radius: 50%;\n",
              "      cursor: pointer;\n",
              "      display: none;\n",
              "      fill: #1967D2;\n",
              "      height: 32px;\n",
              "      padding: 0 0 0 0;\n",
              "      width: 32px;\n",
              "    }\n",
              "\n",
              "    .colab-df-convert:hover {\n",
              "      background-color: #E2EBFA;\n",
              "      box-shadow: 0px 1px 2px rgba(60, 64, 67, 0.3), 0px 1px 3px 1px rgba(60, 64, 67, 0.15);\n",
              "      fill: #174EA6;\n",
              "    }\n",
              "\n",
              "    [theme=dark] .colab-df-convert {\n",
              "      background-color: #3B4455;\n",
              "      fill: #D2E3FC;\n",
              "    }\n",
              "\n",
              "    [theme=dark] .colab-df-convert:hover {\n",
              "      background-color: #434B5C;\n",
              "      box-shadow: 0px 1px 3px 1px rgba(0, 0, 0, 0.15);\n",
              "      filter: drop-shadow(0px 1px 2px rgba(0, 0, 0, 0.3));\n",
              "      fill: #FFFFFF;\n",
              "    }\n",
              "  </style>\n",
              "\n",
              "      <script>\n",
              "        const buttonEl =\n",
              "          document.querySelector('#df-c4b862a7-9228-47ee-9a12-b6d9526189f1 button.colab-df-convert');\n",
              "        buttonEl.style.display =\n",
              "          google.colab.kernel.accessAllowed ? 'block' : 'none';\n",
              "\n",
              "        async function convertToInteractive(key) {\n",
              "          const element = document.querySelector('#df-c4b862a7-9228-47ee-9a12-b6d9526189f1');\n",
              "          const dataTable =\n",
              "            await google.colab.kernel.invokeFunction('convertToInteractive',\n",
              "                                                     [key], {});\n",
              "          if (!dataTable) return;\n",
              "\n",
              "          const docLinkHtml = 'Like what you see? Visit the ' +\n",
              "            '<a target=\"_blank\" href=https://colab.research.google.com/notebooks/data_table.ipynb>data table notebook</a>'\n",
              "            + ' to learn more about interactive tables.';\n",
              "          element.innerHTML = '';\n",
              "          dataTable['output_type'] = 'display_data';\n",
              "          await google.colab.output.renderOutput(dataTable, element);\n",
              "          const docLink = document.createElement('div');\n",
              "          docLink.innerHTML = docLinkHtml;\n",
              "          element.appendChild(docLink);\n",
              "        }\n",
              "      </script>\n",
              "    </div>\n",
              "  </div>\n",
              "  "
            ]
          },
          "metadata": {},
          "execution_count": 54
        }
      ]
    },
    {
      "cell_type": "code",
      "source": [
        "################## CUMMULATIVE RETURNS #################\n",
        "df_cr = []\n",
        "for i in range(10):\n",
        "    df_cr.append(100*(df[i]['Close'][-1] - df[i]['Open'][0])/df[i]['Open'][0])\n",
        "df_cr"
      ],
      "metadata": {
        "colab": {
          "base_uri": "https://localhost:8080/"
        },
        "id": "6_ZFVyIlyZ0I",
        "outputId": "017cbdce-5a19-40ed-9030-739bd4aa945c"
      },
      "execution_count": null,
      "outputs": [
        {
          "output_type": "execute_result",
          "data": {
            "text/plain": [
              "[2126.0412456481768,\n",
              " 1447.889863460436,\n",
              " 12871.838412855475,\n",
              " 903.4617940700147,\n",
              " 471.51013480260417,\n",
              " 273.4219174667591,\n",
              " 226.90223515023416,\n",
              " 432.8856022455222,\n",
              " 171.99090497722563,\n",
              " 45.404501092812225]"
            ]
          },
          "metadata": {},
          "execution_count": 55
        }
      ]
    },
    {
      "cell_type": "code",
      "source": [
        "####################### VOLATILITY ######################\n",
        "\n",
        "df_volatility = []\n",
        "for i in range(10):\n",
        "    days = df[i].shape[0]\n",
        "    vol = []\n",
        "    for j in range(1, days):\n",
        "        vol.append(100*np.log(df[i]['Close'][j] / df[i]['Close'][j-1]))\n",
        "    df_volatility.append(np.std(vol))\n",
        "print(df_volatility)  # Daily Volatility(in %)\n",
        "\n",
        "df_annvol = [math.sqrt(252)*i for i in df_volatility]\n",
        "print(df_annvol)  # Annual Volatility(in %)"
      ],
      "metadata": {
        "colab": {
          "base_uri": "https://localhost:8080/"
        },
        "id": "Q0NZtI88y_Vo",
        "outputId": "6239e750-0aeb-45dd-d429-993da5186e8c"
      },
      "execution_count": null,
      "outputs": [
        {
          "output_type": "stream",
          "name": "stdout",
          "text": [
            "[1.8033946761804027, 2.0853414204603156, 3.6016910810695313, 1.6480958303226068, 2.574164692547689, 1.1223192490289855, 1.0860515571699811, 1.301638303251528, 1.314440840355142, 1.026578067498893]\n",
            "[28.628002973227222, 33.103768783201055, 57.17507339873613, 26.16271022301673, 40.86359766122536, 17.81626574730879, 17.240533987597306, 20.662867484157715, 20.866101460118756, 16.2964216079721]\n"
          ]
        }
      ]
    },
    {
      "cell_type": "code",
      "source": [
        "################### SHARPE RATIO ###################\n",
        "# Taking risk free rate = 5.52%\n",
        "\n",
        "df_sr = []\n",
        "for i in range(10):\n",
        "    ret = (1+(df_cr[i]/100)**(365/4898)-1)*100\n",
        "    df_sr.append((ret-5.52)/df_annvol[i])\n",
        "df_sr\n"
      ],
      "metadata": {
        "colab": {
          "base_uri": "https://localhost:8080/"
        },
        "id": "evlTi2MV3DGf",
        "outputId": "682cabfa-936a-407e-d294-8e2a9d5dda44"
      },
      "execution_count": null,
      "outputs": [
        {
          "output_type": "execute_result",
          "data": {
            "text/plain": [
              "[4.193901351150468,\n",
              " 3.519807467272784,\n",
              " 2.4153647676631804,\n",
              " 4.29253033936215,\n",
              " 2.611874925862508,\n",
              " 5.73990407423054,\n",
              " 5.845298264198256,\n",
              " 5.130844059792844,\n",
              " 4.725548680748389,\n",
              " 5.446959013624661]"
            ]
          },
          "metadata": {},
          "execution_count": 57
        }
      ]
    },
    {
      "cell_type": "code",
      "source": [
        "############## SORTIONO RATIO #################\n",
        "\n",
        "df_sor = []\n",
        "\n",
        "for i in range(10):\n",
        "    # Calculate downside deviation\n",
        "    square_sum = 0\n",
        "    n = 0\n",
        "    for j in df[i]['Daily Returns']:\n",
        "        if j < 0:\n",
        "            square_sum += j*j\n",
        "        n += 1\n",
        "    dd = (square_sum / n)**0.5\n",
        "    df_sor.append((ret-5.52)/dd)\n",
        "df_sor"
      ],
      "metadata": {
        "colab": {
          "base_uri": "https://localhost:8080/"
        },
        "id": "f5Sl6kSQ_dLC",
        "outputId": "d0fcee9e-7a95-4c61-a182-c84e1096b2f3"
      },
      "execution_count": null,
      "outputs": [
        {
          "output_type": "execute_result",
          "data": {
            "text/plain": [
              "[90.65885976443391,\n",
              " 77.46257347567251,\n",
              " 43.194074938698,\n",
              " 101.08022859969445,\n",
              " 68.67436832113067,\n",
              " 131.36929371667168,\n",
              " 135.88428995582882,\n",
              " 121.38225352899386,\n",
              " 130.66395567090004,\n",
              " 119.34775065243302]"
            ]
          },
          "metadata": {},
          "execution_count": 58
        }
      ]
    },
    {
      "cell_type": "code",
      "source": [
        "############### MAXIMUM DRAWDOWN #################\n",
        "\n",
        "df_mdd = []\n",
        "\n",
        "for i in range(10):\n",
        "    data = list(df[i]['Close'])\n",
        "    days = len(data)\n",
        "    peak = data[0]\n",
        "    mdd = []\n",
        "    prices_between = []\n",
        "    for i in range(1, days):\n",
        "        if data[i] >= peak:\n",
        "            if prices_between:\n",
        "                mdd.append(100*(peak - min(prices_between))/peak)\n",
        "            peak = data[i]\n",
        "            prices_between = []\n",
        "        else:\n",
        "            prices_between.append(data[i])\n",
        "    df_mdd.append(-1*max(mdd))\n",
        "\n",
        "df_mdd"
      ],
      "metadata": {
        "colab": {
          "base_uri": "https://localhost:8080/"
        },
        "id": "ssO2I8JF7AGI",
        "outputId": "5adf5004-3920-43b1-b060-e18deebc3577"
      },
      "execution_count": null,
      "outputs": [
        {
          "output_type": "execute_result",
          "data": {
            "text/plain": [
              "[-44.37687017144154,\n",
              " -34.10378304630068,\n",
              " -60.626538538206894,\n",
              " -28.23529392738191,\n",
              " -53.62280995413482,\n",
              " -33.92496000265327,\n",
              " -37.086171369594325,\n",
              " -30.115673337317634,\n",
              " -31.79889650850191,\n",
              " -36.60552329617582]"
            ]
          },
          "metadata": {},
          "execution_count": 59
        }
      ]
    },
    {
      "cell_type": "code",
      "source": [
        "cols = ['Metrics', 'AAPL', 'AMZN', 'TSLA', 'MSFT', 'META']\n",
        "stock_result = pd.DataFrame(columns=cols)\n",
        "stock_result"
      ],
      "metadata": {
        "id": "Qpf5TGwq9HfU",
        "colab": {
          "base_uri": "https://localhost:8080/",
          "height": 49
        },
        "outputId": "0a4e09ea-f81a-40ed-f72d-ebc14b9bb7bc"
      },
      "execution_count": null,
      "outputs": [
        {
          "output_type": "execute_result",
          "data": {
            "text/plain": [
              "Empty DataFrame\n",
              "Columns: [Metrics, AAPL, AMZN, TSLA, MSFT, META]\n",
              "Index: []"
            ],
            "text/html": [
              "\n",
              "  <div id=\"df-872a1f71-b1b0-4642-a0ee-e7e463f98c09\">\n",
              "    <div class=\"colab-df-container\">\n",
              "      <div>\n",
              "<style scoped>\n",
              "    .dataframe tbody tr th:only-of-type {\n",
              "        vertical-align: middle;\n",
              "    }\n",
              "\n",
              "    .dataframe tbody tr th {\n",
              "        vertical-align: top;\n",
              "    }\n",
              "\n",
              "    .dataframe thead th {\n",
              "        text-align: right;\n",
              "    }\n",
              "</style>\n",
              "<table border=\"1\" class=\"dataframe\">\n",
              "  <thead>\n",
              "    <tr style=\"text-align: right;\">\n",
              "      <th></th>\n",
              "      <th>Metrics</th>\n",
              "      <th>AAPL</th>\n",
              "      <th>AMZN</th>\n",
              "      <th>TSLA</th>\n",
              "      <th>MSFT</th>\n",
              "      <th>META</th>\n",
              "    </tr>\n",
              "  </thead>\n",
              "  <tbody>\n",
              "  </tbody>\n",
              "</table>\n",
              "</div>\n",
              "      <button class=\"colab-df-convert\" onclick=\"convertToInteractive('df-872a1f71-b1b0-4642-a0ee-e7e463f98c09')\"\n",
              "              title=\"Convert this dataframe to an interactive table.\"\n",
              "              style=\"display:none;\">\n",
              "        \n",
              "  <svg xmlns=\"http://www.w3.org/2000/svg\" height=\"24px\"viewBox=\"0 0 24 24\"\n",
              "       width=\"24px\">\n",
              "    <path d=\"M0 0h24v24H0V0z\" fill=\"none\"/>\n",
              "    <path d=\"M18.56 5.44l.94 2.06.94-2.06 2.06-.94-2.06-.94-.94-2.06-.94 2.06-2.06.94zm-11 1L8.5 8.5l.94-2.06 2.06-.94-2.06-.94L8.5 2.5l-.94 2.06-2.06.94zm10 10l.94 2.06.94-2.06 2.06-.94-2.06-.94-.94-2.06-.94 2.06-2.06.94z\"/><path d=\"M17.41 7.96l-1.37-1.37c-.4-.4-.92-.59-1.43-.59-.52 0-1.04.2-1.43.59L10.3 9.45l-7.72 7.72c-.78.78-.78 2.05 0 2.83L4 21.41c.39.39.9.59 1.41.59.51 0 1.02-.2 1.41-.59l7.78-7.78 2.81-2.81c.8-.78.8-2.07 0-2.86zM5.41 20L4 18.59l7.72-7.72 1.47 1.35L5.41 20z\"/>\n",
              "  </svg>\n",
              "      </button>\n",
              "      \n",
              "  <style>\n",
              "    .colab-df-container {\n",
              "      display:flex;\n",
              "      flex-wrap:wrap;\n",
              "      gap: 12px;\n",
              "    }\n",
              "\n",
              "    .colab-df-convert {\n",
              "      background-color: #E8F0FE;\n",
              "      border: none;\n",
              "      border-radius: 50%;\n",
              "      cursor: pointer;\n",
              "      display: none;\n",
              "      fill: #1967D2;\n",
              "      height: 32px;\n",
              "      padding: 0 0 0 0;\n",
              "      width: 32px;\n",
              "    }\n",
              "\n",
              "    .colab-df-convert:hover {\n",
              "      background-color: #E2EBFA;\n",
              "      box-shadow: 0px 1px 2px rgba(60, 64, 67, 0.3), 0px 1px 3px 1px rgba(60, 64, 67, 0.15);\n",
              "      fill: #174EA6;\n",
              "    }\n",
              "\n",
              "    [theme=dark] .colab-df-convert {\n",
              "      background-color: #3B4455;\n",
              "      fill: #D2E3FC;\n",
              "    }\n",
              "\n",
              "    [theme=dark] .colab-df-convert:hover {\n",
              "      background-color: #434B5C;\n",
              "      box-shadow: 0px 1px 3px 1px rgba(0, 0, 0, 0.15);\n",
              "      filter: drop-shadow(0px 1px 2px rgba(0, 0, 0, 0.3));\n",
              "      fill: #FFFFFF;\n",
              "    }\n",
              "  </style>\n",
              "\n",
              "      <script>\n",
              "        const buttonEl =\n",
              "          document.querySelector('#df-872a1f71-b1b0-4642-a0ee-e7e463f98c09 button.colab-df-convert');\n",
              "        buttonEl.style.display =\n",
              "          google.colab.kernel.accessAllowed ? 'block' : 'none';\n",
              "\n",
              "        async function convertToInteractive(key) {\n",
              "          const element = document.querySelector('#df-872a1f71-b1b0-4642-a0ee-e7e463f98c09');\n",
              "          const dataTable =\n",
              "            await google.colab.kernel.invokeFunction('convertToInteractive',\n",
              "                                                     [key], {});\n",
              "          if (!dataTable) return;\n",
              "\n",
              "          const docLinkHtml = 'Like what you see? Visit the ' +\n",
              "            '<a target=\"_blank\" href=https://colab.research.google.com/notebooks/data_table.ipynb>data table notebook</a>'\n",
              "            + ' to learn more about interactive tables.';\n",
              "          element.innerHTML = '';\n",
              "          dataTable['output_type'] = 'display_data';\n",
              "          await google.colab.output.renderOutput(dataTable, element);\n",
              "          const docLink = document.createElement('div');\n",
              "          docLink.innerHTML = docLinkHtml;\n",
              "          element.appendChild(docLink);\n",
              "        }\n",
              "      </script>\n",
              "    </div>\n",
              "  </div>\n",
              "  "
            ]
          },
          "metadata": {},
          "execution_count": 60
        }
      ]
    },
    {
      "cell_type": "code",
      "source": [
        "row = ['Cummulative Returns'] + df_cr[:5]\n",
        "row = pd.Series(row, index=stock_result.columns)\n",
        "stock_result = pd.concat([stock_result,row], ignore_index=True)\n",
        "\n",
        "row = ['Volatility'] + df_annvol[:5]\n",
        "row = pd.Series(row, index=stock_result.columns)\n",
        "stock_result = pd.concat([stock_result,row], ignore_index=True)\n",
        "\n",
        "row = ['Sharpe Ratio'] + df_sr[:5]\n",
        "row = pd.Series(row, index=stock_result.columns)\n",
        "stock_result = pd.concat([stock_result,row], ignore_index=True)\n",
        "\n",
        "row = ['Sortiono Ratio'] + df_sor[:5]\n",
        "row = pd.Series(row, index=stock_result.columns)\n",
        "stock_result = pd.concat([stock_result,row], ignore_index=True)\n",
        "\n",
        "row = ['Max Drawdown'] + df_mdd[:5]\n",
        "row = pd.Series(row, index=stock_result.columns)\n",
        "stock_result = pd.concat([stock_result,row], ignore_index=True)\n",
        "\n"
      ],
      "metadata": {
        "id": "L-QFkZ7oXCLK",
        "colab": {
          "base_uri": "https://localhost:8080/",
          "height": 381
        },
        "outputId": "f30cefe2-86e8-498b-f069-5807762048d1"
      },
      "execution_count": null,
      "outputs": [
        {
          "output_type": "error",
          "ename": "ValueError",
          "evalue": "ignored",
          "traceback": [
            "\u001b[0;31m---------------------------------------------------------------------------\u001b[0m",
            "\u001b[0;31mValueError\u001b[0m                                Traceback (most recent call last)",
            "\u001b[0;32m<ipython-input-64-1150e6dc9ada>\u001b[0m in \u001b[0;36m<cell line: 6>\u001b[0;34m()\u001b[0m\n\u001b[1;32m      4\u001b[0m \u001b[0;34m\u001b[0m\u001b[0m\n\u001b[1;32m      5\u001b[0m \u001b[0mrow\u001b[0m \u001b[0;34m=\u001b[0m \u001b[0;34m[\u001b[0m\u001b[0;34m'Volatility'\u001b[0m\u001b[0;34m]\u001b[0m \u001b[0;34m+\u001b[0m \u001b[0mdf_annvol\u001b[0m\u001b[0;34m[\u001b[0m\u001b[0;34m:\u001b[0m\u001b[0;36m5\u001b[0m\u001b[0;34m]\u001b[0m\u001b[0;34m\u001b[0m\u001b[0;34m\u001b[0m\u001b[0m\n\u001b[0;32m----> 6\u001b[0;31m \u001b[0mrow\u001b[0m \u001b[0;34m=\u001b[0m \u001b[0mpd\u001b[0m\u001b[0;34m.\u001b[0m\u001b[0mSeries\u001b[0m\u001b[0;34m(\u001b[0m\u001b[0mrow\u001b[0m\u001b[0;34m,\u001b[0m \u001b[0mindex\u001b[0m\u001b[0;34m=\u001b[0m\u001b[0mstock_result\u001b[0m\u001b[0;34m.\u001b[0m\u001b[0mcolumns\u001b[0m\u001b[0;34m)\u001b[0m\u001b[0;34m\u001b[0m\u001b[0;34m\u001b[0m\u001b[0m\n\u001b[0m\u001b[1;32m      7\u001b[0m \u001b[0mstock_result\u001b[0m \u001b[0;34m=\u001b[0m \u001b[0mpd\u001b[0m\u001b[0;34m.\u001b[0m\u001b[0mconcat\u001b[0m\u001b[0;34m(\u001b[0m\u001b[0;34m[\u001b[0m\u001b[0mstock_result\u001b[0m\u001b[0;34m,\u001b[0m\u001b[0mrow\u001b[0m\u001b[0;34m]\u001b[0m\u001b[0;34m,\u001b[0m \u001b[0mignore_index\u001b[0m\u001b[0;34m=\u001b[0m\u001b[0;32mTrue\u001b[0m\u001b[0;34m)\u001b[0m\u001b[0;34m\u001b[0m\u001b[0;34m\u001b[0m\u001b[0m\n\u001b[1;32m      8\u001b[0m \u001b[0;34m\u001b[0m\u001b[0m\n",
            "\u001b[0;32m/usr/local/lib/python3.10/dist-packages/pandas/core/series.py\u001b[0m in \u001b[0;36m__init__\u001b[0;34m(self, data, index, dtype, name, copy, fastpath)\u001b[0m\n\u001b[1;32m    459\u001b[0m                 \u001b[0mindex\u001b[0m \u001b[0;34m=\u001b[0m \u001b[0mdefault_index\u001b[0m\u001b[0;34m(\u001b[0m\u001b[0mlen\u001b[0m\u001b[0;34m(\u001b[0m\u001b[0mdata\u001b[0m\u001b[0;34m)\u001b[0m\u001b[0;34m)\u001b[0m\u001b[0;34m\u001b[0m\u001b[0;34m\u001b[0m\u001b[0m\n\u001b[1;32m    460\u001b[0m             \u001b[0;32melif\u001b[0m \u001b[0mis_list_like\u001b[0m\u001b[0;34m(\u001b[0m\u001b[0mdata\u001b[0m\u001b[0;34m)\u001b[0m\u001b[0;34m:\u001b[0m\u001b[0;34m\u001b[0m\u001b[0;34m\u001b[0m\u001b[0m\n\u001b[0;32m--> 461\u001b[0;31m                 \u001b[0mcom\u001b[0m\u001b[0;34m.\u001b[0m\u001b[0mrequire_length_match\u001b[0m\u001b[0;34m(\u001b[0m\u001b[0mdata\u001b[0m\u001b[0;34m,\u001b[0m \u001b[0mindex\u001b[0m\u001b[0;34m)\u001b[0m\u001b[0;34m\u001b[0m\u001b[0;34m\u001b[0m\u001b[0m\n\u001b[0m\u001b[1;32m    462\u001b[0m \u001b[0;34m\u001b[0m\u001b[0m\n\u001b[1;32m    463\u001b[0m             \u001b[0;31m# create/copy the manager\u001b[0m\u001b[0;34m\u001b[0m\u001b[0;34m\u001b[0m\u001b[0m\n",
            "\u001b[0;32m/usr/local/lib/python3.10/dist-packages/pandas/core/common.py\u001b[0m in \u001b[0;36mrequire_length_match\u001b[0;34m(data, index)\u001b[0m\n\u001b[1;32m    569\u001b[0m     \"\"\"\n\u001b[1;32m    570\u001b[0m     \u001b[0;32mif\u001b[0m \u001b[0mlen\u001b[0m\u001b[0;34m(\u001b[0m\u001b[0mdata\u001b[0m\u001b[0;34m)\u001b[0m \u001b[0;34m!=\u001b[0m \u001b[0mlen\u001b[0m\u001b[0;34m(\u001b[0m\u001b[0mindex\u001b[0m\u001b[0;34m)\u001b[0m\u001b[0;34m:\u001b[0m\u001b[0;34m\u001b[0m\u001b[0;34m\u001b[0m\u001b[0m\n\u001b[0;32m--> 571\u001b[0;31m         raise ValueError(\n\u001b[0m\u001b[1;32m    572\u001b[0m             \u001b[0;34m\"Length of values \"\u001b[0m\u001b[0;34m\u001b[0m\u001b[0;34m\u001b[0m\u001b[0m\n\u001b[1;32m    573\u001b[0m             \u001b[0;34mf\"({len(data)}) \"\u001b[0m\u001b[0;34m\u001b[0m\u001b[0;34m\u001b[0m\u001b[0m\n",
            "\u001b[0;31mValueError\u001b[0m: Length of values (6) does not match length of index (7)"
          ]
        }
      ]
    },
    {
      "cell_type": "code",
      "source": [
        "stock_result"
      ],
      "metadata": {
        "id": "HosB7wcKPrza"
      },
      "execution_count": null,
      "outputs": []
    },
    {
      "cell_type": "code",
      "source": [
        "cols = ['Metrics', \"GSPC\", \"DJI\", \"IXIC\", \"N225\", \"FTSE\"]\n",
        "index_result = pd.DataFrame(columns=cols)"
      ],
      "metadata": {
        "id": "dig9f7YVR9UM"
      },
      "execution_count": null,
      "outputs": []
    },
    {
      "cell_type": "code",
      "source": [
        "row = ['Cummulative Returns'] + df_cr[5:]\n",
        "row = pd.Series(row, index=index_result.columns)\n",
        "index_result = index_result.concat(row, ignore_index=True)\n",
        "\n",
        "row = ['Volatility'] + df_annvol[:5]\n",
        "row = pd.Series(row, index=index_result.columns)\n",
        "index_result = index_result.concat(row, ignore_index=True)\n",
        "\n",
        "row = ['Sharpe Ratio'] + df_sr[:5]\n",
        "row = pd.Series(row, index=index_result.columns)\n",
        "index_result = index_result.concat(row, ignore_index=True)\n",
        "\n",
        "row = ['Sortiono Ratio'] + df_sor[:5]\n",
        "row = pd.Series(row, index=index_result.columns)\n",
        "index_result = index_result.concat(row, ignore_index=True)\n",
        "\n",
        "row = ['Max Drawdown'] + df_mdd[:5]\n",
        "row = pd.Series(row, index=index_result.columns)\n",
        "index_result = index_result.concat(row, ignore_index=True)"
      ],
      "metadata": {
        "id": "j7IqK7AXSLXH"
      },
      "execution_count": null,
      "outputs": []
    },
    {
      "cell_type": "code",
      "source": [
        "index_result"
      ],
      "metadata": {
        "id": "R88oCR0KSa4c"
      },
      "execution_count": null,
      "outputs": []
    },
    {
      "cell_type": "code",
      "source": [],
      "metadata": {
        "id": "fzfdTSC2ScUo"
      },
      "execution_count": null,
      "outputs": []
    }
  ]
}