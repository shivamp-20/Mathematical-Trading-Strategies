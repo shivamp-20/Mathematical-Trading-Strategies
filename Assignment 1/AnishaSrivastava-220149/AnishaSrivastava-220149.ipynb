{
 "cells": [
  {
   "cell_type": "code",
   "execution_count": 18,
   "id": "e54b2771-fc60-466d-af45-9b9d6670d640",
   "metadata": {},
   "outputs": [
    {
     "name": "stdout",
     "output_type": "stream",
     "text": [
      "Requirement already satisfied: yfinance in c:\\users\\asus\\anaconda3\\lib\\site-packages (0.2.18)\n",
      "Requirement already satisfied: numpy>=1.16.5 in c:\\users\\asus\\anaconda3\\lib\\site-packages (from yfinance) (1.23.5)\n",
      "Requirement already satisfied: cryptography>=3.3.2 in c:\\users\\asus\\anaconda3\\lib\\site-packages (from yfinance) (39.0.1)\n",
      "Requirement already satisfied: requests>=2.26 in c:\\users\\asus\\anaconda3\\lib\\site-packages (from yfinance) (2.28.1)\n",
      "Requirement already satisfied: multitasking>=0.0.7 in c:\\users\\asus\\anaconda3\\lib\\site-packages (from yfinance) (0.0.11)\n",
      "Requirement already satisfied: lxml>=4.9.1 in c:\\users\\asus\\anaconda3\\lib\\site-packages (from yfinance) (4.9.1)\n",
      "Requirement already satisfied: frozendict>=2.3.4 in c:\\users\\asus\\anaconda3\\lib\\site-packages (from yfinance) (2.3.8)\n",
      "Requirement already satisfied: pandas>=1.3.0 in c:\\users\\asus\\anaconda3\\lib\\site-packages (from yfinance) (1.5.3)\n",
      "Requirement already satisfied: pytz>=2022.5 in c:\\users\\asus\\anaconda3\\lib\\site-packages (from yfinance) (2022.7)\n",
      "Requirement already satisfied: html5lib>=1.1 in c:\\users\\asus\\anaconda3\\lib\\site-packages (from yfinance) (1.1)\n",
      "Requirement already satisfied: beautifulsoup4>=4.11.1 in c:\\users\\asus\\anaconda3\\lib\\site-packages (from yfinance) (4.11.1)\n",
      "Requirement already satisfied: appdirs>=1.4.4 in c:\\users\\asus\\anaconda3\\lib\\site-packages (from yfinance) (1.4.4)\n",
      "Requirement already satisfied: soupsieve>1.2 in c:\\users\\asus\\anaconda3\\lib\\site-packages (from beautifulsoup4>=4.11.1->yfinance) (2.3.2.post1)\n",
      "Requirement already satisfied: cffi>=1.12 in c:\\users\\asus\\anaconda3\\lib\\site-packages (from cryptography>=3.3.2->yfinance) (1.15.1)\n",
      "Requirement already satisfied: six>=1.9 in c:\\users\\asus\\anaconda3\\lib\\site-packages (from html5lib>=1.1->yfinance) (1.16.0)\n",
      "Requirement already satisfied: webencodings in c:\\users\\asus\\anaconda3\\lib\\site-packages (from html5lib>=1.1->yfinance) (0.5.1)\n",
      "Requirement already satisfied: python-dateutil>=2.8.1 in c:\\users\\asus\\anaconda3\\lib\\site-packages (from pandas>=1.3.0->yfinance) (2.8.2)\n",
      "Requirement already satisfied: certifi>=2017.4.17 in c:\\users\\asus\\anaconda3\\lib\\site-packages (from requests>=2.26->yfinance) (2022.12.7)\n",
      "Requirement already satisfied: idna<4,>=2.5 in c:\\users\\asus\\anaconda3\\lib\\site-packages (from requests>=2.26->yfinance) (3.4)\n",
      "Requirement already satisfied: charset-normalizer<3,>=2 in c:\\users\\asus\\anaconda3\\lib\\site-packages (from requests>=2.26->yfinance) (2.0.4)\n",
      "Requirement already satisfied: urllib3<1.27,>=1.21.1 in c:\\users\\asus\\anaconda3\\lib\\site-packages (from requests>=2.26->yfinance) (1.26.14)\n",
      "Requirement already satisfied: pycparser in c:\\users\\asus\\anaconda3\\lib\\site-packages (from cffi>=1.12->cryptography>=3.3.2->yfinance) (2.21)\n",
      "Note: you may need to restart the kernel to use updated packages.\n"
     ]
    }
   ],
   "source": [
    "pip install yfinance"
   ]
  },
  {
   "cell_type": "code",
   "execution_count": 19,
   "id": "4eb9fc9f-4a3e-42e2-9cc5-6a05534530f0",
   "metadata": {},
   "outputs": [],
   "source": [
    "import yfinance as yf\n",
    "import pandas as pd\n",
    "import numpy as np\n"
   ]
  },
  {
   "cell_type": "code",
   "execution_count": 20,
   "id": "f54b344c-5837-4b90-9071-c2b368d51356",
   "metadata": {},
   "outputs": [],
   "source": [
    "indices = ['^GSPC', '^FTSE', '^N225', '^GDAXI', '^HSI']\n",
    "equities = ['AAPL', 'AMZN', 'MSFT', 'GOOGL', 'FB']"
   ]
  },
  {
   "cell_type": "code",
   "execution_count": 21,
   "id": "8ef77ebd-fb49-41cd-858e-43f3efda9f3d",
   "metadata": {},
   "outputs": [
    {
     "name": "stdout",
     "output_type": "stream",
     "text": [
      "[*********************100%***********************]  5 of 5 completed\n"
     ]
    }
   ],
   "source": [
    "index_data = yf.download(indices, start='2010-01-01')['Adj Close']"
   ]
  },
  {
   "cell_type": "code",
   "execution_count": 22,
   "id": "c856a73e-61e6-42ec-9334-e9b3fd0dff01",
   "metadata": {},
   "outputs": [
    {
     "name": "stdout",
     "output_type": "stream",
     "text": [
      "[*********************100%***********************]  5 of 5 completed\n",
      "\n",
      "1 Failed download:\n",
      "- FB: No timezone found, symbol may be delisted\n"
     ]
    }
   ],
   "source": [
    "equity_data = yf.download(equities, start='2010-01-01')['Adj Close']"
   ]
  },
  {
   "cell_type": "code",
   "execution_count": 23,
   "id": "3c8213e1-f6b4-4cc5-a167-754fce1970de",
   "metadata": {},
   "outputs": [],
   "source": [
    "index_returns = index_data.pct_change().dropna()\n",
    "equity_returns = equity_data.pct_change().dropna()"
   ]
  },
  {
   "cell_type": "code",
   "execution_count": 24,
   "id": "e4aa3e9f-f262-4bb4-8c86-4f2432a5fc38",
   "metadata": {},
   "outputs": [],
   "source": [
    "index_cumulative_returns = (1 + index_returns).cumprod()\n",
    "equity_cumulative_returns = (1 + equity_returns).cumprod()"
   ]
  },
  {
   "cell_type": "code",
   "execution_count": 25,
   "id": "4f1f3bab-6b59-45b5-8294-21443d503654",
   "metadata": {},
   "outputs": [],
   "source": [
    "index_drawdowns = (index_cumulative_returns / index_cumulative_returns.cummax() - 1)\n",
    "equity_drawdowns = (equity_cumulative_returns / equity_cumulative_returns.cummax() - 1)"
   ]
  },
  {
   "cell_type": "code",
   "execution_count": 26,
   "id": "b1a8cbdb-323f-460a-b3a5-b03efdda3815",
   "metadata": {},
   "outputs": [],
   "source": [
    "risk_free_rate = 0.02  # Assume a risk-free rate of 2%\n",
    "index_sharpe_ratios = (index_returns.mean() - risk_free_rate) / index_returns.std()\n",
    "equity_sharpe_ratios = (equity_returns.mean() - risk_free_rate) / equity_returns.std()"
   ]
  },
  {
   "cell_type": "code",
   "execution_count": 27,
   "id": "b1abcb9d-b603-41d1-8bf0-34891739c9ee",
   "metadata": {},
   "outputs": [],
   "source": [
    "downside_threshold = 0  # Consider any negative return as downside\n",
    "index_downside_returns = index_returns.copy()\n",
    "index_downside_returns[index_downside_returns > downside_threshold] = 0\n",
    "index_sortino_ratios = (index_returns.mean() - risk_free_rate) / index_downside_returns.std()"
   ]
  },
  {
   "cell_type": "code",
   "execution_count": 28,
   "id": "0e7e1034-6db0-4ad1-af94-d2fed27a57dd",
   "metadata": {},
   "outputs": [],
   "source": [
    "equity_downside_returns = equity_returns.copy()\n",
    "equity_downside_returns[equity_downside_returns > downside_threshold] = 0\n",
    "equity_sortino_ratios = (equity_returns.mean() - risk_free_rate) / equity_downside_returns.std()"
   ]
  },
  {
   "cell_type": "code",
   "execution_count": 30,
   "id": "299b4d9c-e177-404e-9b6f-0cb601876a97",
   "metadata": {},
   "outputs": [
    {
     "name": "stdout",
     "output_type": "stream",
     "text": [
      "Index Daily Returns:\n",
      "               ^FTSE    ^GDAXI     ^GSPC      ^HSI     ^N225\n",
      "Date                                                        \n",
      "2010-01-05  0.004036 -0.002718  0.003116  0.020909  0.002538\n",
      "2010-01-06  0.001358  0.000410  0.000546  0.006153  0.004645\n",
      "2010-01-07 -0.000597 -0.002481  0.004001 -0.006567 -0.004640\n",
      "2010-01-08  0.001357  0.003032  0.002882  0.001226  0.010922\n",
      "2010-01-11  0.000705  0.000479  0.001747  0.005147  0.000000\n",
      "...              ...       ...       ...       ...       ...\n",
      "2023-05-15  0.002979  0.000215  0.002958  0.017521  0.008100\n",
      "2023-05-16 -0.003420 -0.001213 -0.006378  0.000356  0.007313\n",
      "2023-05-17 -0.003599  0.003357  0.011891 -0.020907  0.008397\n",
      "2023-05-18  0.002473  0.013294  0.009445  0.008521  0.015962\n",
      "2023-05-19  0.001886  0.006930 -0.001446 -0.014025  0.007667\n",
      "\n",
      "[3481 rows x 5 columns]\n",
      "\n",
      "Equity Daily Returns:\n",
      "Empty DataFrame\n",
      "Columns: [AAPL, AMZN, FB, GOOGL, MSFT]\n",
      "Index: []\n",
      "\n",
      "Index Cumulative Returns:\n",
      "               ^FTSE    ^GDAXI     ^GSPC      ^HSI     ^N225\n",
      "Date                                                        \n",
      "2010-01-05  1.004036  0.997282  1.003116  1.020909  1.002538\n",
      "2010-01-06  1.005400  0.997690  1.003663  1.027191  1.007195\n",
      "2010-01-07  1.004800  0.995215  1.007679  1.020445  1.002522\n",
      "2010-01-08  1.006163  0.998233  1.010583  1.021696  1.013471\n",
      "2010-01-11  1.006872  0.998710  1.012348  1.026955  1.013471\n",
      "...              ...       ...       ...       ...       ...\n",
      "2023-05-15  1.414050  2.631688  3.650765  0.915130  2.780565\n",
      "2023-05-16  1.409214  2.628496  3.627481  0.915456  2.800899\n",
      "2023-05-17  1.404142  2.637320  3.670615  0.896317  2.824419\n",
      "2023-05-18  1.407614  2.672381  3.705284  0.903954  2.869501\n",
      "2023-05-19  1.410269  2.690902  3.699927  0.891276  2.891502\n",
      "\n",
      "[3481 rows x 5 columns]\n",
      "\n",
      "Equity Cumulative Returns:\n",
      "Empty DataFrame\n",
      "Columns: [AAPL, AMZN, FB, GOOGL, MSFT]\n",
      "Index: []\n",
      "\n",
      "Index Max Drawdowns:\n",
      "^FTSE    -0.366055\n",
      "^GDAXI   -0.387794\n",
      "^GSPC    -0.339250\n",
      "^HSI     -0.557008\n",
      "^N225    -0.317989\n",
      "dtype: float64\n",
      "\n",
      "Equity Max Drawdowns:\n",
      "AAPL    NaN\n",
      "AMZN    NaN\n",
      "FB      NaN\n",
      "GOOGL   NaN\n",
      "MSFT    NaN\n",
      "dtype: float64\n",
      "\n",
      "Index Volatility:\n"
     ]
    },
    {
     "ename": "NameError",
     "evalue": "name 'index_volatility' is not defined",
     "output_type": "error",
     "traceback": [
      "\u001b[1;31m---------------------------------------------------------------------------\u001b[0m",
      "\u001b[1;31mNameError\u001b[0m                                 Traceback (most recent call last)",
      "Cell \u001b[1;32mIn[30], line 17\u001b[0m\n\u001b[0;32m     14\u001b[0m \u001b[38;5;28mprint\u001b[39m(equity_drawdowns\u001b[38;5;241m.\u001b[39mmin())\n\u001b[0;32m     16\u001b[0m \u001b[38;5;28mprint\u001b[39m(\u001b[38;5;124m\"\u001b[39m\u001b[38;5;130;01m\\n\u001b[39;00m\u001b[38;5;124mIndex Volatility:\u001b[39m\u001b[38;5;124m\"\u001b[39m)\n\u001b[1;32m---> 17\u001b[0m \u001b[38;5;28mprint\u001b[39m(\u001b[43mindex_volatility\u001b[49m)\n\u001b[0;32m     18\u001b[0m \u001b[38;5;28mprint\u001b[39m(\u001b[38;5;124m\"\u001b[39m\u001b[38;5;130;01m\\n\u001b[39;00m\u001b[38;5;124mEquity Volatility:\u001b[39m\u001b[38;5;124m\"\u001b[39m)\n\u001b[0;32m     19\u001b[0m \u001b[38;5;28mprint\u001b[39m(equity_volatility)\n",
      "\u001b[1;31mNameError\u001b[0m: name 'index_volatility' is not defined"
     ]
    }
   ],
   "source": [
    "print(\"Index Daily Returns:\")\n",
    "print(index_returns)\n",
    "print(\"\\nEquity Daily Returns:\")\n",
    "print(equity_returns)\n",
    "\n",
    "print(\"\\nIndex Cumulative Returns:\")\n",
    "print(index_cumulative_returns)\n",
    "print(\"\\nEquity Cumulative Returns:\")\n",
    "print(equity_cumulative_returns)\n",
    "\n",
    "print(\"\\nIndex Max Drawdowns:\")\n",
    "print(index_drawdowns.min())\n",
    "print(\"\\nEquity Max Drawdowns:\")\n",
    "print(equity_drawdowns.min())\n",
    "\n",
    "print(\"\\nIndex Volatility:\")\n",
    "print(index_volatility)\n",
    "print(\"\\nEquity Volatility:\")\n",
    "print(equity_volatility)\n",
    "\n",
    "print(\"\\nIndex Sharpe Ratios:\")\n",
    "print(index_sharpe_ratios)\n",
    "print(\"\\nEquity Sharpe Ratios:\")\n",
    "print(equity_sharpe_ratios)\n",
    "\n",
    "print(\"\\nIndex Sortino Ratios:\")\n",
    "print(index_sortino_ratios)\n",
    "print(\"\\nEquity Sortino Ratios:\")\n",
    "print(equity_sortino_ratios)"
   ]
  },
  {
   "cell_type": "code",
   "execution_count": null,
   "id": "5d3c96bb-ab31-475c-89db-e2e2047174b9",
   "metadata": {},
   "outputs": [],
   "source": []
  }
 ],
 "metadata": {
  "kernelspec": {
   "display_name": "Python 3 (ipykernel)",
   "language": "python",
   "name": "python3"
  },
  "language_info": {
   "codemirror_mode": {
    "name": "ipython",
    "version": 3
   },
   "file_extension": ".py",
   "mimetype": "text/x-python",
   "name": "python",
   "nbconvert_exporter": "python",
   "pygments_lexer": "ipython3",
   "version": "3.10.9"
  }
 },
 "nbformat": 4,
 "nbformat_minor": 5
}
