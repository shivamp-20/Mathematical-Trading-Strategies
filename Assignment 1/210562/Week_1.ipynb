{
 "cells": [
  {
   "cell_type": "code",
   "execution_count": 133,
   "metadata": {},
   "outputs": [],
   "source": [
    "import yfinance as yf\n",
    "from math import sqrt\n",
    "import pandas as pd\n",
    "import numpy as np "
   ]
  },
  {
   "cell_type": "code",
   "execution_count": 134,
   "metadata": {},
   "outputs": [],
   "source": [
    "# List of Columns\n",
    "list_columns = ['Cumulative Returns', 'Max Drawdown', 'Sharpe Ratio', 'Sortino Ratio', 'Volatility']"
   ]
  },
  {
   "cell_type": "code",
   "execution_count": 135,
   "metadata": {},
   "outputs": [],
   "source": [
    "class Index:\n",
    "    \n",
    "    list_of_indices = []\n",
    "    index_tickers = []\n",
    "\n",
    "    \n",
    "    def __init__(self, ticker, risk_free_rate):\n",
    "        self.ticker = ticker\n",
    "        self.risk_free_rate = risk_free_rate\n",
    "        self.start_date = \"2010-01-01\"\n",
    "        self.end_date = \"2023-05-01\"\n",
    "        self.period = '1d'\n",
    "        self.data = self.fetch_data()\n",
    "        \n",
    "        # OLHC DATA: \n",
    "        self.open = self.data['Open']\n",
    "        self.close = self.data['Close']\n",
    "        self.high = self.data['High']\n",
    "        self.low = self.data['Low']\n",
    "        \n",
    "        # Creating list of indices using instances: \n",
    "        Index.list_of_indices.append(self)\n",
    "        \n",
    "        # Creating list of indices tickers using instances: \n",
    "        Index.index_tickers.append(self.ticker)\n",
    "        \n",
    "    def fetch_data(self):\n",
    "        return yf.download(self.ticker, start=self.start_date, end=self.end_date, period=self.period, progress=False)\n",
    "        \n",
    "        \n",
    "\n",
    "# Defining instance of Index for each international index: \n",
    "ftse100 = Index(\"^FTSE\", 0.02)\n",
    "nk225 = Index(\"^N225\", 0.01)\n",
    "sp500 = Index(\"^GSPC\", 0.03)\n",
    "djia = Index(\"^DJI\", 0.03)\n",
    "nifty = Index(\"^NSEI\", 0.05)"
   ]
  },
  {
   "cell_type": "code",
   "execution_count": 136,
   "metadata": {},
   "outputs": [],
   "source": [
    "class Equity:\n",
    "    \n",
    "    list_of_equities = []\n",
    "    equities_tickers = []\n",
    "    \n",
    "    def __init__(self, ticker, risk_free_rate):\n",
    "        self.ticker = ticker\n",
    "        self.risk_free_rate = risk_free_rate\n",
    "        self.start_date = \"2010-01-01\"\n",
    "        self.end_date = \"2023-05-01\"\n",
    "        self.period = '1d'\n",
    "        self.data = self.fetch_data()\n",
    "        \n",
    "        # OLHC DATA: \n",
    "        self.open = self.data['Open']\n",
    "        self.close = self.data['Close']\n",
    "        self.high = self.data['High']\n",
    "        self.low = self.data['Low']\n",
    "        \n",
    "        # Creating list of equities using instances: \n",
    "        Equity.list_of_equities.append(self)\n",
    "        \n",
    "        # Creating list of equities tickers using instances: \n",
    "        Equity.equities_tickers.append(self.ticker)\n",
    "        \n",
    "    def fetch_data(self):\n",
    "        return yf.download(self.ticker, start=self.start_date, end=self.end_date, period=self.period, progress=False)\n",
    "\n",
    "# Defining instance of Equity for each international equity:\n",
    "apple = Equity(\"AAPL\", 0.02)\n",
    "amazon = Equity(\"AMZN\", 0.03)\n",
    "nestle = Equity(\"NSRGF\", 0.01)\n",
    "reliance = Equity(\"RELIANCE.NS\", 0.05)\n",
    "toyota = Equity(\"TM\", 0.01)"
   ]
  },
  {
   "cell_type": "code",
   "execution_count": 137,
   "metadata": {},
   "outputs": [
    {
     "data": {
      "text/plain": [
       "[<__main__.Equity at 0x193a7999bb0>,\n",
       " <__main__.Equity at 0x193a7999dc0>,\n",
       " <__main__.Equity at 0x193a7afaca0>,\n",
       " <__main__.Equity at 0x193a7999af0>,\n",
       " <__main__.Equity at 0x193a7afa670>]"
      ]
     },
     "execution_count": 137,
     "metadata": {},
     "output_type": "execute_result"
    }
   ],
   "source": [
    "Equity.list_of_equities"
   ]
  },
  {
   "cell_type": "code",
   "execution_count": 138,
   "metadata": {},
   "outputs": [],
   "source": [
    "close_prices = ftse100.close\n",
    "open_prices = ftse100.open"
   ]
  },
  {
   "attachments": {},
   "cell_type": "markdown",
   "metadata": {},
   "source": [
    "# Daily Returns and Cumulative Returns: \n",
    "Price Returns can be calculated for various time periods, such as daily, monthly, quarterly, or annually, but in our case it is daily, so the formula to calculate returns would be as follows:\n",
    "\n",
    "    `returns = (Current Value - Initial Value) / Initial Value`\n",
    "\n",
    "Where:\n",
    "- `Current Value` is the value of the investment at the end of the period.\n",
    "- `Initial Value` is the value of the investment at the beginning of the period.\n",
    "\n",
    "\n",
    "Assumptions:\n",
    "\n",
    "1. The stock is bought at the opening price of each trading day.\n",
    "2. The stock is sold at the closing price of each trading day.\n",
    "3. There are no transaction costs or fees involved.\n",
    "4. Dividends or other income generated by the stock are not considered."
   ]
  },
  {
   "cell_type": "code",
   "execution_count": 139,
   "metadata": {},
   "outputs": [],
   "source": [
    "def dailyReturns(asset):\n",
    "    return (asset.close - asset.open)/ asset.open \n",
    "\n",
    "\n",
    "def cumulativeReturns(asset):\n",
    "    \n",
    "    # Calculating daily returns, for a trading day: \n",
    "    dailyReturn = dailyReturns(asset)\n",
    "    \n",
    "    # Calculate the cumulative returns by multiplication: \n",
    "    cumulativeReturn = ((1 + dailyReturn).prod() - 1)\n",
    "    \n",
    "    return cumulativeReturn"
   ]
  },
  {
   "cell_type": "code",
   "execution_count": 140,
   "metadata": {},
   "outputs": [
    {
     "data": {
      "text/plain": [
       "Date\n",
       "2010-01-04    0.002718\n",
       "2010-01-05   -0.001025\n",
       "2010-01-06   -0.015906\n",
       "2010-01-07   -0.005525\n",
       "2010-01-08    0.007989\n",
       "                ...   \n",
       "2023-04-24    0.002000\n",
       "2023-04-25   -0.008596\n",
       "2023-04-26    0.004293\n",
       "2023-04-27    0.019493\n",
       "2023-04-28    0.007063\n",
       "Length: 3353, dtype: float64"
      ]
     },
     "execution_count": 140,
     "metadata": {},
     "output_type": "execute_result"
    }
   ],
   "source": [
    "dailyReturns(apple)"
   ]
  },
  {
   "cell_type": "code",
   "execution_count": 141,
   "metadata": {},
   "outputs": [
    {
     "data": {
      "text/plain": [
       "0.44022202939109056"
      ]
     },
     "execution_count": 141,
     "metadata": {},
     "output_type": "execute_result"
    }
   ],
   "source": [
    "cumulativeReturns(ftse100)"
   ]
  },
  {
   "attachments": {},
   "cell_type": "markdown",
   "metadata": {},
   "source": [
    "# Volatility: \n",
    "Volatility describes changes over a specific period of time you simply take the standard deviation and multiply that by the square root of the number of periods in question:\n",
    "\n",
    "``` vol = σ√T ```\n",
    "\n",
    "where:\n",
    "\n",
    "- v = volatility over some interval of time\n",
    "- σ =standard deviation of returns\n",
    "- T = number of periods in the time horizon"
   ]
  },
  {
   "cell_type": "code",
   "execution_count": 142,
   "metadata": {},
   "outputs": [],
   "source": [
    "def Volatility(asset, adjust = True):\n",
    "    \n",
    "    # Define number of trading days:\n",
    "    T = asset.data.shape[0]\n",
    "    \n",
    "    # Standard Deviation of daily returns:\n",
    "    std = dailyReturns(asset).std()\n",
    "    \n",
    "    # Implementing adjusted volatility formula:\n",
    "    if(adjust): \n",
    "        volatility = std*sqrt(T)\n",
    "    else: \n",
    "        volatility = std\n",
    "        \n",
    "    return volatility"
   ]
  },
  {
   "cell_type": "code",
   "execution_count": 143,
   "metadata": {},
   "outputs": [
    {
     "data": {
      "text/plain": [
       "0.5937192342293881"
      ]
     },
     "execution_count": 143,
     "metadata": {},
     "output_type": "execute_result"
    }
   ],
   "source": [
    "Volatility(ftse100)"
   ]
  },
  {
   "attachments": {},
   "cell_type": "markdown",
   "metadata": {},
   "source": [
    "# Sharpe Ratio: "
   ]
  },
  {
   "cell_type": "code",
   "execution_count": 144,
   "metadata": {},
   "outputs": [],
   "source": [
    "# # Define the risk-free rate (e.g., Treasury bill yield)\n",
    "# risk_free_rate = 0.01\n",
    "\n",
    "def excessReturns(asset):\n",
    "    return dailyReturns(asset) - asset.risk_free_rate/252\n",
    "\n",
    "def sharpeRatio(asset):\n",
    "    avg_xr = np.mean(excessReturns(asset))\n",
    "    std_xr = np.std(excessReturns(asset))\n",
    "    sharpe = avg_xr/std_xr\n",
    "    return sharpe"
   ]
  },
  {
   "cell_type": "code",
   "execution_count": 145,
   "metadata": {},
   "outputs": [
    {
     "data": {
      "text/plain": [
       "0.020567460594453284"
      ]
     },
     "execution_count": 145,
     "metadata": {},
     "output_type": "execute_result"
    }
   ],
   "source": [
    "sharpeRatio(apple)"
   ]
  },
  {
   "cell_type": "code",
   "execution_count": 146,
   "metadata": {},
   "outputs": [
    {
     "data": {
      "text/plain": [
       "Date\n",
       "2010-01-04    0.002718\n",
       "2010-01-05   -0.001025\n",
       "2010-01-06   -0.015906\n",
       "2010-01-07   -0.005525\n",
       "2010-01-08    0.007989\n",
       "                ...   \n",
       "2023-04-24    0.002000\n",
       "2023-04-25   -0.008596\n",
       "2023-04-26    0.004293\n",
       "2023-04-27    0.019493\n",
       "2023-04-28    0.007063\n",
       "Length: 3353, dtype: float64"
      ]
     },
     "execution_count": 146,
     "metadata": {},
     "output_type": "execute_result"
    }
   ],
   "source": [
    "dailyReturns(apple)"
   ]
  },
  {
   "attachments": {},
   "cell_type": "markdown",
   "metadata": {},
   "source": [
    "# Sortino Ratio:"
   ]
  },
  {
   "cell_type": "code",
   "execution_count": 147,
   "metadata": {},
   "outputs": [],
   "source": [
    "def sortinoRatio(asset):\n",
    "    \n",
    "    avg_dr = dailyReturns(asset).mean()\n",
    "\n",
    "    # Calculate the downside deviation\n",
    "    negative_daily_returns = dailyReturns(asset)[dailyReturns(asset) < 0]\n",
    "\n",
    "    # downside_deviation \n",
    "    std_nr = negative_daily_returns.std()\n",
    "\n",
    "    sortino = (avg_dr - asset.risk_free_rate/252) / std_nr\n",
    "    \n",
    "    return sortino"
   ]
  },
  {
   "cell_type": "code",
   "execution_count": 148,
   "metadata": {},
   "outputs": [
    {
     "data": {
      "text/plain": [
       "0.030324491155201642"
      ]
     },
     "execution_count": 148,
     "metadata": {},
     "output_type": "execute_result"
    }
   ],
   "source": [
    "sortinoRatio(apple)"
   ]
  },
  {
   "attachments": {},
   "cell_type": "markdown",
   "metadata": {},
   "source": [
    "# Maximum Drawdown: "
   ]
  },
  {
   "cell_type": "code",
   "execution_count": 149,
   "metadata": {},
   "outputs": [],
   "source": [
    "def maxDrawdown(asset):\n",
    "    peak = asset.close[0]\n",
    "    drawdown = 0.0 \n",
    "    \n",
    "    for price in asset.close:\n",
    "        if price > peak:\n",
    "            peak = price\n",
    "        else: \n",
    "            curr_drawdown = (price - peak)/peak\n",
    "            if curr_drawdown < drawdown:\n",
    "                drawdown = curr_drawdown\n",
    "    mdd = drawdown\n",
    "    \n",
    "    return mdd"
   ]
  },
  {
   "cell_type": "code",
   "execution_count": 150,
   "metadata": {},
   "outputs": [
    {
     "data": {
      "text/plain": [
       "-0.3179889650850191"
      ]
     },
     "execution_count": 150,
     "metadata": {},
     "output_type": "execute_result"
    }
   ],
   "source": [
    "maxDrawdown(nk225)"
   ]
  },
  {
   "attachments": {},
   "cell_type": "markdown",
   "metadata": {},
   "source": [
    "## Final Dataframe: "
   ]
  },
  {
   "cell_type": "code",
   "execution_count": 151,
   "metadata": {},
   "outputs": [],
   "source": [
    "index_data_list = []\n",
    "for index in Index.list_of_indices:\n",
    "    \n",
    "    index_data = {\n",
    "            'Cumulative Returns': cumulativeReturns(index),\n",
    "            'Max Drawdown': maxDrawdown(index),\n",
    "            'Sharpe Ratio': sharpeRatio(index),\n",
    "            'Sortino Ratio': sortinoRatio(index),\n",
    "            'Volatility': Volatility(index)\n",
    "        }\n",
    "    index_data_list.append(index_data)"
   ]
  },
  {
   "cell_type": "code",
   "execution_count": 152,
   "metadata": {},
   "outputs": [
    {
     "data": {
      "text/html": [
       "<div>\n",
       "<style scoped>\n",
       "    .dataframe tbody tr th:only-of-type {\n",
       "        vertical-align: middle;\n",
       "    }\n",
       "\n",
       "    .dataframe tbody tr th {\n",
       "        vertical-align: top;\n",
       "    }\n",
       "\n",
       "    .dataframe thead th {\n",
       "        text-align: right;\n",
       "    }\n",
       "</style>\n",
       "<table border=\"1\" class=\"dataframe\">\n",
       "  <thead>\n",
       "    <tr style=\"text-align: right;\">\n",
       "      <th></th>\n",
       "      <th>Cumulative Returns</th>\n",
       "      <th>Max Drawdown</th>\n",
       "      <th>Sharpe Ratio</th>\n",
       "      <th>Sortino Ratio</th>\n",
       "      <th>Volatility</th>\n",
       "    </tr>\n",
       "  </thead>\n",
       "  <tbody>\n",
       "    <tr>\n",
       "      <th>^FTSE</th>\n",
       "      <td>0.440222</td>\n",
       "      <td>-0.366055</td>\n",
       "      <td>0.007982</td>\n",
       "      <td>0.010309</td>\n",
       "      <td>0.593719</td>\n",
       "    </tr>\n",
       "    <tr>\n",
       "      <th>^N225</th>\n",
       "      <td>-0.344667</td>\n",
       "      <td>-0.317989</td>\n",
       "      <td>-0.013963</td>\n",
       "      <td>-0.017607</td>\n",
       "      <td>0.521219</td>\n",
       "    </tr>\n",
       "    <tr>\n",
       "      <th>^GSPC</th>\n",
       "      <td>1.226744</td>\n",
       "      <td>-0.339250</td>\n",
       "      <td>0.017481</td>\n",
       "      <td>0.022078</td>\n",
       "      <td>0.542172</td>\n",
       "    </tr>\n",
       "    <tr>\n",
       "      <th>^DJI</th>\n",
       "      <td>1.342443</td>\n",
       "      <td>-0.370862</td>\n",
       "      <td>0.019345</td>\n",
       "      <td>0.024780</td>\n",
       "      <td>0.528546</td>\n",
       "    </tr>\n",
       "    <tr>\n",
       "      <th>^NSEI</th>\n",
       "      <td>-0.906675</td>\n",
       "      <td>-0.384399</td>\n",
       "      <td>-0.096339</td>\n",
       "      <td>-0.136963</td>\n",
       "      <td>0.523440</td>\n",
       "    </tr>\n",
       "  </tbody>\n",
       "</table>\n",
       "</div>"
      ],
      "text/plain": [
       "       Cumulative Returns  Max Drawdown  Sharpe Ratio  Sortino Ratio   \n",
       "^FTSE            0.440222     -0.366055      0.007982       0.010309  \\\n",
       "^N225           -0.344667     -0.317989     -0.013963      -0.017607   \n",
       "^GSPC            1.226744     -0.339250      0.017481       0.022078   \n",
       "^DJI             1.342443     -0.370862      0.019345       0.024780   \n",
       "^NSEI           -0.906675     -0.384399     -0.096339      -0.136963   \n",
       "\n",
       "       Volatility  \n",
       "^FTSE    0.593719  \n",
       "^N225    0.521219  \n",
       "^GSPC    0.542172  \n",
       "^DJI     0.528546  \n",
       "^NSEI    0.523440  "
      ]
     },
     "execution_count": 152,
     "metadata": {},
     "output_type": "execute_result"
    }
   ],
   "source": [
    "df_index = pd.DataFrame(index_data_list, index=Index.index_tickers)\n",
    "df_index"
   ]
  },
  {
   "cell_type": "code",
   "execution_count": 153,
   "metadata": {},
   "outputs": [
    {
     "data": {
      "text/html": [
       "<div>\n",
       "<style scoped>\n",
       "    .dataframe tbody tr th:only-of-type {\n",
       "        vertical-align: middle;\n",
       "    }\n",
       "\n",
       "    .dataframe tbody tr th {\n",
       "        vertical-align: top;\n",
       "    }\n",
       "\n",
       "    .dataframe thead th {\n",
       "        text-align: right;\n",
       "    }\n",
       "</style>\n",
       "<table border=\"1\" class=\"dataframe\">\n",
       "  <thead>\n",
       "    <tr style=\"text-align: right;\">\n",
       "      <th></th>\n",
       "      <th>Cumulative Returns</th>\n",
       "      <th>Max Drawdown</th>\n",
       "      <th>Sharpe Ratio</th>\n",
       "      <th>Sortino Ratio</th>\n",
       "      <th>Volatility</th>\n",
       "    </tr>\n",
       "  </thead>\n",
       "  <tbody>\n",
       "    <tr>\n",
       "      <th>AAPL</th>\n",
       "      <td>1.467242</td>\n",
       "      <td>-0.443769</td>\n",
       "      <td>0.020567</td>\n",
       "      <td>0.030324</td>\n",
       "      <td>0.811384</td>\n",
       "    </tr>\n",
       "    <tr>\n",
       "      <th>AMZN</th>\n",
       "      <td>0.148333</td>\n",
       "      <td>-0.561453</td>\n",
       "      <td>0.003478</td>\n",
       "      <td>0.005241</td>\n",
       "      <td>0.951763</td>\n",
       "    </tr>\n",
       "    <tr>\n",
       "      <th>NSRGF</th>\n",
       "      <td>-0.717969</td>\n",
       "      <td>-0.271262</td>\n",
       "      <td>-0.041993</td>\n",
       "      <td>-0.055640</td>\n",
       "      <td>0.519687</td>\n",
       "    </tr>\n",
       "    <tr>\n",
       "      <th>RELIANCE.NS</th>\n",
       "      <td>-0.955643</td>\n",
       "      <td>-0.450884</td>\n",
       "      <td>-0.063299</td>\n",
       "      <td>-0.099132</td>\n",
       "      <td>0.921211</td>\n",
       "    </tr>\n",
       "    <tr>\n",
       "      <th>TM</th>\n",
       "      <td>-0.428564</td>\n",
       "      <td>-0.383593</td>\n",
       "      <td>-0.025537</td>\n",
       "      <td>-0.035037</td>\n",
       "      <td>0.411225</td>\n",
       "    </tr>\n",
       "  </tbody>\n",
       "</table>\n",
       "</div>"
      ],
      "text/plain": [
       "             Cumulative Returns  Max Drawdown  Sharpe Ratio  Sortino Ratio   \n",
       "AAPL                   1.467242     -0.443769      0.020567       0.030324  \\\n",
       "AMZN                   0.148333     -0.561453      0.003478       0.005241   \n",
       "NSRGF                 -0.717969     -0.271262     -0.041993      -0.055640   \n",
       "RELIANCE.NS           -0.955643     -0.450884     -0.063299      -0.099132   \n",
       "TM                    -0.428564     -0.383593     -0.025537      -0.035037   \n",
       "\n",
       "             Volatility  \n",
       "AAPL           0.811384  \n",
       "AMZN           0.951763  \n",
       "NSRGF          0.519687  \n",
       "RELIANCE.NS    0.921211  \n",
       "TM             0.411225  "
      ]
     },
     "execution_count": 153,
     "metadata": {},
     "output_type": "execute_result"
    }
   ],
   "source": [
    "equity_data_list = []\n",
    "for equity in Equity.list_of_equities:\n",
    "    \n",
    "    equity_data = {\n",
    "            'Cumulative Returns': cumulativeReturns(equity),\n",
    "            'Max Drawdown': maxDrawdown(equity),\n",
    "            'Sharpe Ratio': sharpeRatio(equity),\n",
    "            'Sortino Ratio': sortinoRatio(equity),\n",
    "            'Volatility': Volatility(equity)\n",
    "        }\n",
    "    equity_data_list.append(equity_data)\n",
    "    \n",
    "df_equity = pd.DataFrame(equity_data_list, index=Equity.equities_tickers)\n",
    "df_equity"
   ]
  },
  {
   "attachments": {},
   "cell_type": "markdown",
   "metadata": {},
   "source": [
    "# Saving to Markdown:"
   ]
  },
  {
   "cell_type": "code",
   "execution_count": 154,
   "metadata": {},
   "outputs": [],
   "source": [
    "from tabulate import tabulate\n",
    "\n",
    "# Tabulating both dataframes:\n",
    "table1 = tabulate(df_index, headers='keys', tablefmt='pipe')\n",
    "table2 = tabulate(df_equity, headers='keys', tablefmt='pipe')\n",
    "\n",
    "# Concatenating the tables in markdown:\n",
    "combined_tables = table1 + '\\n\\n' + table2\n",
    "\n",
    "# writing to the markdown file:\n",
    "with open('tables.md', 'w') as f:\n",
    "    f.write(combined_tables)"
   ]
  }
 ],
 "metadata": {
  "kernelspec": {
   "display_name": "Python 3",
   "language": "python",
   "name": "python3"
  },
  "language_info": {
   "codemirror_mode": {
    "name": "ipython",
    "version": 3
   },
   "file_extension": ".py",
   "mimetype": "text/x-python",
   "name": "python",
   "nbconvert_exporter": "python",
   "pygments_lexer": "ipython3",
   "version": "3.9.16"
  },
  "orig_nbformat": 4
 },
 "nbformat": 4,
 "nbformat_minor": 2
}
