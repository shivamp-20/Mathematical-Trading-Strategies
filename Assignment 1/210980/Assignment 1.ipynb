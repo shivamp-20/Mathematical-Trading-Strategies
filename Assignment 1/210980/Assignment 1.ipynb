{
 "cells": [
  {
   "cell_type": "code",
   "execution_count": 1,
   "id": "42a2fbaf",
   "metadata": {},
   "outputs": [],
   "source": [
    "import yfinance as yf\n",
    "import pandas as pd\n",
    "from statistics import mean, stdev\n",
    "from math import sqrt"
   ]
  },
  {
   "cell_type": "code",
   "execution_count": 2,
   "id": "af44e7ed",
   "metadata": {},
   "outputs": [],
   "source": [
    "equities = ['RELIANCE.NS', 'TCS.NS', 'HDFCBANK.NS', 'HINDUNILVR.NS', 'INFY.NS']\n",
    "indices = ['^GSPC', '^DJI', '^IXIC', '^NYA', '^XAX']\n",
    "equities_rfr = [0.0152, 0.0152, 0.0152, 0.0152, 0.0152 ]\n",
    "indices_rfr = [0.05250, 0.05250, 0.05250, 0.05250, 0.05250]"
   ]
  },
  {
   "cell_type": "code",
   "execution_count": 3,
   "id": "05332aec",
   "metadata": {},
   "outputs": [],
   "source": [
    "equities_results = []\n",
    "indices_results = []\n",
    "equity_data = {}\n",
    "index_data = {}"
   ]
  },
  {
   "cell_type": "code",
   "execution_count": 4,
   "id": "2a28d0b0",
   "metadata": {},
   "outputs": [
    {
     "name": "stdout",
     "output_type": "stream",
     "text": [
      "[*********************100%***********************]  1 of 1 completed\n",
      "[*********************100%***********************]  1 of 1 completed\n",
      "[*********************100%***********************]  1 of 1 completed\n",
      "[*********************100%***********************]  1 of 1 completed\n",
      "[*********************100%***********************]  1 of 1 completed\n"
     ]
    },
    {
     "data": {
      "text/plain": [
       "{'RELIANCE.NS':                    Open         High          Low        Close    Adj Close  \\\n",
       " Date                                                                          \n",
       " 2010-01-04   540.427307   540.427307   506.127411   532.700500   482.812469   \n",
       " 2010-01-05   569.551208   569.551208   527.697937   530.323059   480.657623   \n",
       " 2010-01-06   534.879883   542.111328   530.298279   538.891846   488.423920   \n",
       " 2010-01-07   538.891846   552.265076   533.938782   547.832092   496.527008   \n",
       " 2010-01-08   548.797974   551.670715   542.854309   546.395691   495.225037   \n",
       " ...                 ...          ...          ...          ...          ...   \n",
       " 2023-04-24  2375.000000  2380.899902  2348.000000  2358.000000  2358.000000   \n",
       " 2023-04-25  2366.000000  2380.600098  2350.500000  2376.050049  2376.050049   \n",
       " 2023-04-26  2379.000000  2386.100098  2354.050049  2362.100098  2362.100098   \n",
       " 2023-04-27  2375.000000  2384.000000  2364.000000  2377.050049  2377.050049   \n",
       " 2023-04-28  2382.000000  2423.899902  2381.750000  2420.500000  2420.500000   \n",
       " \n",
       "               Volume  \n",
       " Date                  \n",
       " 2010-01-04  35372156  \n",
       " 2010-01-05   9872785  \n",
       " 2010-01-06  10933743  \n",
       " 2010-01-07  12090336  \n",
       " 2010-01-08   6973331  \n",
       " ...              ...  \n",
       " 2023-04-24   5970048  \n",
       " 2023-04-25   4262471  \n",
       " 2023-04-26   3977129  \n",
       " 2023-04-27   4230627  \n",
       " 2023-04-28   7183342  \n",
       " \n",
       " [3288 rows x 6 columns],\n",
       " 'TCS.NS':                    Open         High          Low        Close    Adj Close  \\\n",
       " Date                                                                          \n",
       " 2010-01-04   377.399994   379.450012   374.524994   375.825012   287.662720   \n",
       " 2010-01-05   377.500000   379.774994   373.274994   375.924988   287.739258   \n",
       " 2010-01-06   375.924988   376.100006   366.500000   367.424988   281.233307   \n",
       " 2010-01-07   367.750000   369.700012   355.500000   357.200012   273.406952   \n",
       " 2010-01-08   358.000000   359.250000   348.250000   349.899994   267.819397   \n",
       " ...                 ...          ...          ...          ...          ...   \n",
       " 2023-04-24  3151.100098  3180.949951  3126.149902  3174.800049  3151.363037   \n",
       " 2023-04-25  3183.000000  3191.199951  3147.500000  3176.000000  3152.554199   \n",
       " 2023-04-26  3181.000000  3208.399902  3181.000000  3198.149902  3174.540527   \n",
       " 2023-04-27  3185.000000  3199.199951  3170.649902  3187.949951  3164.415771   \n",
       " 2023-04-28  3200.399902  3227.250000  3196.250000  3219.250000  3195.484863   \n",
       " \n",
       "              Volume  \n",
       " Date                 \n",
       " 2010-01-04  1963682  \n",
       " 2010-01-05  2014488  \n",
       " 2010-01-06  3349176  \n",
       " 2010-01-07  6474892  \n",
       " 2010-01-08  6048178  \n",
       " ...             ...  \n",
       " 2023-04-24  1640676  \n",
       " 2023-04-25  2024090  \n",
       " 2023-04-26  2000029  \n",
       " 2023-04-27  2434446  \n",
       " 2023-04-28  2931312  \n",
       " \n",
       " [3288 rows x 6 columns],\n",
       " 'HDFCBANK.NS':                    Open         High          Low        Close    Adj Close  \\\n",
       " Date                                                                          \n",
       " 2010-01-04   170.000000   172.850006   169.255005   170.570007   153.989578   \n",
       " 2010-01-05   171.000000   172.500000   170.500000   170.720001   154.124985   \n",
       " 2010-01-06   171.399994   172.000000   168.809998   170.835007   154.228821   \n",
       " 2010-01-07   176.839996   176.839996   170.160004   171.279999   154.630554   \n",
       " 2010-01-08   171.199997   172.339996   170.100006   171.505005   154.833679   \n",
       " ...                 ...          ...          ...          ...          ...   \n",
       " 2023-04-24  1687.000000  1691.449951  1674.099976  1688.150024  1669.010010   \n",
       " 2023-04-25  1687.699951  1687.699951  1661.900024  1664.150024  1645.282104   \n",
       " 2023-04-26  1660.000000  1675.000000  1655.000000  1671.800049  1652.845337   \n",
       " 2023-04-27  1670.500000  1685.250000  1665.849976  1681.000000  1661.941040   \n",
       " 2023-04-28  1684.699951  1691.000000  1670.000000  1687.599976  1668.466187   \n",
       " \n",
       "               Volume  \n",
       " Date                  \n",
       " 2010-01-04   3050490  \n",
       " 2010-01-05   8386600  \n",
       " 2010-01-06   6639840  \n",
       " 2010-01-07   6123980  \n",
       " 2010-01-08   7085900  \n",
       " ...              ...  \n",
       " 2023-04-24  17837926  \n",
       " 2023-04-25  25176534  \n",
       " 2023-04-26  13696375  \n",
       " 2023-04-27  23895196  \n",
       " 2023-04-28  13958136  \n",
       " \n",
       " [3288 rows x 6 columns],\n",
       " 'HINDUNILVR.NS':                    Open         High          Low        Close    Adj Close  \\\n",
       " Date                                                                          \n",
       " 2010-01-04   264.799988   266.200012   264.100006   264.700012   206.463074   \n",
       " 2010-01-05   265.750000   266.399994   262.500000   263.850006   205.800064   \n",
       " 2010-01-06   264.750000   266.000000   262.600006   265.350006   206.970093   \n",
       " 2010-01-07   265.100006   267.250000   264.149994   264.799988   206.541092   \n",
       " 2010-01-08   265.100006   267.000000   264.149994   265.950012   207.438065   \n",
       " ...                 ...          ...          ...          ...          ...   \n",
       " 2023-04-24  2502.000000  2504.899902  2475.100098  2499.750000  2479.499023   \n",
       " 2023-04-25  2490.850098  2499.750000  2478.050049  2490.449951  2470.274414   \n",
       " 2023-04-26  2490.000000  2518.000000  2482.199951  2510.800049  2490.459717   \n",
       " 2023-04-27  2513.949951  2522.000000  2457.000000  2468.949951  2448.948486   \n",
       " 2023-04-28  2436.050049  2467.800049  2419.000000  2457.300049  2437.393066   \n",
       " \n",
       "              Volume  \n",
       " Date                 \n",
       " 2010-01-04   668858  \n",
       " 2010-01-05  1392726  \n",
       " 2010-01-06  1682107  \n",
       " 2010-01-07  2723548  \n",
       " 2010-01-08  4000986  \n",
       " ...             ...  \n",
       " 2023-04-24  1735797  \n",
       " 2023-04-25  1701098  \n",
       " 2023-04-26  1245903  \n",
       " 2023-04-27  2743893  \n",
       " 2023-04-28  3761927  \n",
       " \n",
       " [3288 rows x 6 columns],\n",
       " 'INFY.NS':                    Open         High          Low        Close    Adj Close  \\\n",
       " Date                                                                          \n",
       " 2010-01-04   326.250000   328.750000   324.412506   326.575012   240.314377   \n",
       " 2010-01-05   327.500000   328.837494   325.012512   327.668762   241.119217   \n",
       " 2010-01-06   335.375000   335.375000   321.887512   322.887512   237.600861   \n",
       " 2010-01-07   323.325012   323.325012   314.774994   315.631256   232.261292   \n",
       " 2010-01-08   314.875000   315.412506   307.250000   308.024994   226.664154   \n",
       " ...                 ...          ...          ...          ...          ...   \n",
       " 2023-04-24  1228.000000  1230.000000  1218.000000  1226.300049  1193.973267   \n",
       " 2023-04-25  1225.949951  1235.500000  1215.000000  1224.900024  1192.610107   \n",
       " 2023-04-26  1228.000000  1233.000000  1220.550049  1227.550049  1195.190308   \n",
       " 2023-04-27  1230.000000  1247.800049  1225.400024  1246.250000  1213.397339   \n",
       " 2023-04-28  1255.699951  1259.000000  1244.949951  1252.750000  1219.725952   \n",
       " \n",
       "               Volume  \n",
       " Date                  \n",
       " 2010-01-04   4069264  \n",
       " 2010-01-05   6895528  \n",
       " 2010-01-06   6817288  \n",
       " 2010-01-07  10892600  \n",
       " 2010-01-08  12649312  \n",
       " ...              ...  \n",
       " 2023-04-24   8313774  \n",
       " 2023-04-25   6808576  \n",
       " 2023-04-26   5680192  \n",
       " 2023-04-27   8020704  \n",
       " 2023-04-28  10118277  \n",
       " \n",
       " [3288 rows x 6 columns]}"
      ]
     },
     "execution_count": 4,
     "metadata": {},
     "output_type": "execute_result"
    }
   ],
   "source": [
    "for equity in equities:\n",
    "    equity_data[equity] = yf.download(equity, start=\"2010-01-01\", end=\"2023-05-01\")\n",
    "equity_data"
   ]
  },
  {
   "cell_type": "code",
   "execution_count": 5,
   "id": "84598832",
   "metadata": {},
   "outputs": [
    {
     "name": "stdout",
     "output_type": "stream",
     "text": [
      "[*********************100%***********************]  1 of 1 completed\n",
      "[*********************100%***********************]  1 of 1 completed\n",
      "[*********************100%***********************]  1 of 1 completed\n",
      "[*********************100%***********************]  1 of 1 completed\n",
      "[*********************100%***********************]  1 of 1 completed\n"
     ]
    },
    {
     "data": {
      "text/plain": [
       "{'^GSPC':                    Open         High          Low        Close    Adj Close  \\\n",
       " Date                                                                          \n",
       " 2009-12-31  1126.599976  1127.640015  1114.810059  1115.099976  1115.099976   \n",
       " 2010-01-04  1116.560059  1133.869995  1116.560059  1132.989990  1132.989990   \n",
       " 2010-01-05  1132.660034  1136.630005  1129.660034  1136.520020  1136.520020   \n",
       " 2010-01-06  1135.709961  1139.189941  1133.949951  1137.140015  1137.140015   \n",
       " 2010-01-07  1136.270020  1142.459961  1131.319946  1141.689941  1141.689941   \n",
       " ...                 ...          ...          ...          ...          ...   \n",
       " 2023-04-24  4132.069824  4142.410156  4117.770020  4137.040039  4137.040039   \n",
       " 2023-04-25  4126.430176  4126.430176  4071.379883  4071.629883  4071.629883   \n",
       " 2023-04-26  4087.780029  4089.669922  4049.350098  4055.989990  4055.989990   \n",
       " 2023-04-27  4075.290039  4138.240234  4075.290039  4135.350098  4135.350098   \n",
       " 2023-04-28  4129.629883  4170.060059  4127.180176  4169.479980  4169.479980   \n",
       " \n",
       "                 Volume  \n",
       " Date                    \n",
       " 2009-12-31  2076990000  \n",
       " 2010-01-04  3991400000  \n",
       " 2010-01-05  2491020000  \n",
       " 2010-01-06  4972660000  \n",
       " 2010-01-07  5270680000  \n",
       " ...                ...  \n",
       " 2023-04-24  3290940000  \n",
       " 2023-04-25  3978640000  \n",
       " 2023-04-26  3837030000  \n",
       " 2023-04-27  3750550000  \n",
       " 2023-04-28  4087800000  \n",
       " \n",
       " [3354 rows x 6 columns],\n",
       " '^DJI':                     Open          High           Low         Close  \\\n",
       " Date                                                                 \n",
       " 2009-12-31  10548.509766  10555.009766  10423.129883  10428.049805   \n",
       " 2010-01-04  10430.690430  10604.969727  10430.690430  10583.959961   \n",
       " 2010-01-05  10584.559570  10584.559570  10522.519531  10572.019531   \n",
       " 2010-01-06  10564.719727  10594.990234  10546.549805  10573.679688   \n",
       " 2010-01-07  10571.110352  10612.370117  10505.209961  10606.860352   \n",
       " ...                  ...           ...           ...           ...   \n",
       " 2023-04-24  33805.039062  33891.148438  33726.089844  33875.398438   \n",
       " 2023-04-25  33828.339844  33875.488281  33525.390625  33530.828125   \n",
       " 2023-04-26  33596.339844  33645.828125  33235.851562  33301.871094   \n",
       " 2023-04-27  33381.660156  33859.750000  33374.648438  33826.160156   \n",
       " 2023-04-28  33797.429688  34104.558594  33728.398438  34098.160156   \n",
       " \n",
       "                Adj Close     Volume  \n",
       " Date                                 \n",
       " 2009-12-31  10428.049805  137940000  \n",
       " 2010-01-04  10583.959961  179780000  \n",
       " 2010-01-05  10572.019531  188540000  \n",
       " 2010-01-06  10573.679688  186040000  \n",
       " 2010-01-07  10606.860352  217390000  \n",
       " ...                  ...        ...  \n",
       " 2023-04-24  33875.398438  252020000  \n",
       " 2023-04-25  33530.828125  297880000  \n",
       " 2023-04-26  33301.871094  321170000  \n",
       " 2023-04-27  33826.160156  343240000  \n",
       " 2023-04-28  34098.160156  354310000  \n",
       " \n",
       " [3354 rows x 6 columns],\n",
       " '^IXIC':                     Open          High           Low         Close  \\\n",
       " Date                                                                 \n",
       " 2009-12-31   2292.919922   2293.590088   2269.110107   2269.149902   \n",
       " 2010-01-04   2294.409912   2311.149902   2294.409912   2308.419922   \n",
       " 2010-01-05   2307.270020   2313.729980   2295.620117   2308.709961   \n",
       " 2010-01-06   2307.709961   2314.070068   2295.679932   2301.090088   \n",
       " 2010-01-07   2298.090088   2301.300049   2285.219971   2300.050049   \n",
       " ...                  ...           ...           ...           ...   \n",
       " 2023-04-24  12053.469727  12103.580078  11960.299805  12037.200195   \n",
       " 2023-04-25  11968.809570  11990.459961  11798.769531  11799.160156   \n",
       " 2023-04-26  11913.230469  11967.990234  11833.070312  11854.349609   \n",
       " 2023-04-27  11972.150391  12154.009766  11950.919922  12142.240234   \n",
       " 2023-04-28  12117.540039  12227.719727  12082.570312  12226.580078   \n",
       " \n",
       "                Adj Close      Volume  \n",
       " Date                                  \n",
       " 2009-12-31   2269.149902  1237820000  \n",
       " 2010-01-04   2308.419922  1931380000  \n",
       " 2010-01-05   2308.709961  2367860000  \n",
       " 2010-01-06   2301.090088  2253340000  \n",
       " 2010-01-07   2300.050049  2270050000  \n",
       " ...                  ...         ...  \n",
       " 2023-04-24  12037.200195  4854050000  \n",
       " 2023-04-25  11799.160156  4806020000  \n",
       " 2023-04-26  11854.349609  5281970000  \n",
       " 2023-04-27  12142.240234  5253710000  \n",
       " 2023-04-28  12226.580078  5331380000  \n",
       " \n",
       " [3354 rows x 6 columns],\n",
       " '^NYA':                     Open          High           Low         Close  \\\n",
       " Date                                                                 \n",
       " 2009-12-31   7241.250000   7258.750000   7183.839844   7184.959961   \n",
       " 2010-01-04   7184.979980   7331.120117   7184.979980   7326.740234   \n",
       " 2010-01-05   7326.740234   7359.459961   7313.600098   7354.870117   \n",
       " 2010-01-06   7354.850098   7389.279785   7342.490234   7377.700195   \n",
       " 2010-01-07   7377.700195   7398.209961   7325.509766   7393.930176   \n",
       " ...                  ...           ...           ...           ...   \n",
       " 2023-04-24  15578.929688  15623.040039  15557.730469  15606.709961   \n",
       " 2023-04-25  15606.709961  15606.709961  15361.570312  15363.530273   \n",
       " 2023-04-26  15363.530273  15363.530273  15201.099609  15228.580078   \n",
       " 2023-04-27  15228.580078  15443.059570  15228.580078  15431.639648   \n",
       " 2023-04-28  15431.639648  15560.009766  15371.450195  15545.879883   \n",
       " \n",
       "                Adj Close      Volume  \n",
       " Date                                  \n",
       " 2009-12-31   7184.959961  2076990000  \n",
       " 2010-01-04   7326.740234  3991400000  \n",
       " 2010-01-05   7354.870117  2491020000  \n",
       " 2010-01-06   7377.700195  4972660000  \n",
       " 2010-01-07   7393.930176  5270680000  \n",
       " ...                  ...         ...  \n",
       " 2023-04-24  15606.709961  3290940000  \n",
       " 2023-04-25  15363.530273  3978640000  \n",
       " 2023-04-26  15228.580078  3837030000  \n",
       " 2023-04-27  15431.639648  3750550000  \n",
       " 2023-04-28  15545.879883  4087800000  \n",
       " \n",
       " [3354 rows x 6 columns],\n",
       " '^XAX':                    Open         High          Low        Close    Adj Close  \\\n",
       " Date                                                                          \n",
       " 2009-12-31  1823.880005  1831.819946  1822.229980  1824.939941  1824.939941   \n",
       " 2010-01-04  1824.949951  1856.689941  1824.949951  1853.660034  1853.660034   \n",
       " 2010-01-05  1853.660034  1860.050049  1847.219971  1859.920044  1859.920044   \n",
       " 2010-01-06  1859.920044  1874.270020  1857.859985  1866.900024  1866.900024   \n",
       " 2010-01-07  1866.920044  1871.239990  1860.290039  1868.020020  1868.020020   \n",
       " ...                 ...          ...          ...          ...          ...   \n",
       " 2023-04-24  4254.310059  4297.080078  4242.799805  4283.879883  4283.879883   \n",
       " 2023-04-25  4283.879883  4283.879883  4180.819824  4191.330078  4191.330078   \n",
       " 2023-04-26  4191.330078  4214.580078  4158.520020  4174.149902  4174.149902   \n",
       " 2023-04-27  4174.149902  4220.390137  4171.129883  4191.000000  4191.000000   \n",
       " 2023-04-28  4191.000000  4229.560059  4132.450195  4199.500000  4199.500000   \n",
       " \n",
       "             Volume  \n",
       " Date                \n",
       " 2009-12-31  134500  \n",
       " 2010-01-04  180500  \n",
       " 2010-01-05  165000  \n",
       " 2010-01-06  204500  \n",
       " 2010-01-07  171900  \n",
       " ...            ...  \n",
       " 2023-04-24       0  \n",
       " 2023-04-25       0  \n",
       " 2023-04-26       0  \n",
       " 2023-04-27       0  \n",
       " 2023-04-28       0  \n",
       " \n",
       " [3354 rows x 6 columns]}"
      ]
     },
     "execution_count": 5,
     "metadata": {},
     "output_type": "execute_result"
    }
   ],
   "source": [
    "for index in indices:\n",
    "    index_data[index] = yf.download(index, start=\"2010-01-01\", end=\"2023-05-01\")\n",
    "index_data"
   ]
  },
  {
   "cell_type": "code",
   "execution_count": 6,
   "id": "59ed369e",
   "metadata": {},
   "outputs": [
    {
     "data": {
      "text/plain": [
       "[4.0133336502157695,\n",
       " 10.108442784378576,\n",
       " 9.834929256358167,\n",
       " 10.805467303989634,\n",
       " 4.075542995939551]"
      ]
     },
     "execution_count": 6,
     "metadata": {},
     "output_type": "execute_result"
    }
   ],
   "source": [
    "cumulative_returns = []\n",
    "for equity in equities:\n",
    "    initial_value = equity_data[equity].iloc[0]['Adj Close']\n",
    "    final_value = equity_data[equity].iloc[-1]['Adj Close']\n",
    "    cumulative_return = (final_value-initial_value)/initial_value\n",
    "    cumulative_returns.append(cumulative_return)\n",
    "equities_results.append(cumulative_returns)\n",
    "cumulative_returns"
   ]
  },
  {
   "cell_type": "code",
   "execution_count": 7,
   "id": "130d3bcc",
   "metadata": {},
   "outputs": [
    {
     "data": {
      "text/plain": [
       "[2.7391086644745606,\n",
       " 2.269850144072248,\n",
       " 4.388176455639384,\n",
       " 1.1636696609766577,\n",
       " 1.3011716192500984]"
      ]
     },
     "execution_count": 7,
     "metadata": {},
     "output_type": "execute_result"
    }
   ],
   "source": [
    "cumulative_returns = []\n",
    "for index in indices:\n",
    "    initial_value = index_data[index].iloc[0]['Adj Close']\n",
    "    final_value = index_data[index].iloc[-1]['Adj Close']\n",
    "    cumulative_return = (final_value-initial_value)/initial_value\n",
    "    cumulative_returns.append(cumulative_return)\n",
    "indices_results.append(cumulative_returns)\n",
    "cumulative_returns"
   ]
  },
  {
   "cell_type": "code",
   "execution_count": 8,
   "id": "dcb1cf26",
   "metadata": {},
   "outputs": [
    {
     "data": {
      "text/plain": [
       "[0.2815755195533634,\n",
       " 0.25347889789069566,\n",
       " 0.23639196566196413,\n",
       " 0.24003952417274943,\n",
       " 0.27634816886329805]"
      ]
     },
     "execution_count": 8,
     "metadata": {},
     "output_type": "execute_result"
    }
   ],
   "source": [
    "volatilities = []\n",
    "for equity in equities:\n",
    "    daily_returns = []\n",
    "    hist = equity_data[equity]\n",
    "    rows = hist.shape[0]\n",
    "    for i in range(1, rows):\n",
    "        daily_return = (hist.iloc[i]['Adj Close']-hist.iloc[i-1]['Adj Close'])/hist.iloc[i-1]['Adj Close']\n",
    "        daily_returns.append(daily_return)\n",
    "    volatility = stdev(daily_returns)*sqrt(252)\n",
    "    volatilities.append(volatility)\n",
    "equities_results.append(volatilities)\n",
    "volatilities"
   ]
  },
  {
   "cell_type": "code",
   "execution_count": 9,
   "id": "3103971c",
   "metadata": {},
   "outputs": [
    {
     "data": {
      "text/plain": [
       "[0.17763206541462404,\n",
       " 0.17183854660661252,\n",
       " 0.206075480772743,\n",
       " 0.17557204660103784,\n",
       " 0.1960054307495632]"
      ]
     },
     "execution_count": 9,
     "metadata": {},
     "output_type": "execute_result"
    }
   ],
   "source": [
    "volatilities = []\n",
    "for index in indices:\n",
    "    daily_returns = []\n",
    "    hist = index_data[index]\n",
    "    rows = hist.shape[0]\n",
    "    for i in range(1, rows):\n",
    "        daily_return = (hist.iloc[i]['Adj Close']-hist.iloc[i-1]['Adj Close'])/hist.iloc[i-1]['Adj Close']\n",
    "        daily_returns.append(daily_return)\n",
    "    volatility = stdev(daily_returns)*sqrt(252)\n",
    "    volatilities.append(volatility)\n",
    "indices_results.append(volatilities)\n",
    "volatilities"
   ]
  },
  {
   "cell_type": "code",
   "execution_count": 10,
   "id": "225398e6",
   "metadata": {},
   "outputs": [
    {
     "data": {
      "text/plain": [
       "[0.03309918581746654,\n",
       " 0.05008249281305291,\n",
       " 0.052083320161231766,\n",
       " 0.05316741646374751,\n",
       " 0.03371885388643462]"
      ]
     },
     "execution_count": 10,
     "metadata": {},
     "output_type": "execute_result"
    }
   ],
   "source": [
    "sharpe_ratios = []\n",
    "for equity, equity_rfr in zip(equities, equities_rfr):\n",
    "    daily_returns = []\n",
    "    hist = equity_data[equity]\n",
    "    rows = hist.shape[0]\n",
    "    for i in range(1, rows):\n",
    "        daily_return = (hist.iloc[i]['Adj Close']-hist.iloc[i-1]['Adj Close'])/hist.iloc[i-1]['Adj Close']\n",
    "        daily_returns.append(daily_return)\n",
    "    expected_return = mean(daily_returns)\n",
    "    std = stdev(daily_returns)\n",
    "    sharpe_ratio = (expected_return - equity_rfr/252)/std\n",
    "    sharpe_ratios.append(sharpe_ratio)\n",
    "equities_results.append(sharpe_ratios)\n",
    "sharpe_ratios"
   ]
  },
  {
   "cell_type": "code",
   "execution_count": 11,
   "id": "7d88c6eb",
   "metadata": {},
   "outputs": [
    {
     "data": {
      "text/plain": [
       "[0.02215600329994659,\n",
       " 0.018837114540582393,\n",
       " 0.029168718632715147,\n",
       " 0.007536746491757518,\n",
       " 0.009484331533814415]"
      ]
     },
     "execution_count": 11,
     "metadata": {},
     "output_type": "execute_result"
    }
   ],
   "source": [
    "sharpe_ratios = []\n",
    "for index, index_rfr in zip(indices, indices_rfr):\n",
    "    daily_returns = []\n",
    "    hist = index_data[index]\n",
    "    rows = hist.shape[0]\n",
    "    for i in range(1, rows):\n",
    "        daily_return = (hist.iloc[i]['Adj Close']-hist.iloc[i-1]['Adj Close'])/hist.iloc[i-1]['Adj Close']\n",
    "        daily_returns.append(daily_return)\n",
    "    expected_return = mean(daily_returns)\n",
    "    std = stdev(daily_returns)\n",
    "    sharpe_ratio = (expected_return - index_rfr/252)/std\n",
    "    sharpe_ratios.append(sharpe_ratio)\n",
    "indices_results.append(sharpe_ratios)\n",
    "sharpe_ratios"
   ]
  },
  {
   "cell_type": "code",
   "execution_count": 12,
   "id": "5472eea0",
   "metadata": {},
   "outputs": [
    {
     "data": {
      "text/plain": [
       "[0.05123388146627192,\n",
       " 0.07451990378488811,\n",
       " 0.0772740199897914,\n",
       " 0.09037305643261379,\n",
       " 0.043413442333629176]"
      ]
     },
     "execution_count": 12,
     "metadata": {},
     "output_type": "execute_result"
    }
   ],
   "source": [
    "sortino_ratios = []\n",
    "for equity, equity_rfr in zip(equities, equities_rfr):\n",
    "    daily_returns = []\n",
    "    hist = equity_data[equity]\n",
    "    rows = hist.shape[0]\n",
    "    for i in range(1, rows):\n",
    "        daily_return = (hist.iloc[i]['Adj Close']-hist.iloc[i-1]['Adj Close'])/hist.iloc[i-1]['Adj Close']\n",
    "        daily_returns.append(daily_return)\n",
    "    expected_return = mean(daily_returns)\n",
    "    negative_returns = [retrn for retrn in daily_returns if retrn < 0]\n",
    "    std = stdev(negative_returns)\n",
    "    sortino_ratio = (expected_return - equity_rfr/252)/std\n",
    "    sortino_ratios.append(sortino_ratio)\n",
    "equities_results.append(sortino_ratios)\n",
    "sortino_ratios"
   ]
  },
  {
   "cell_type": "code",
   "execution_count": 13,
   "id": "fc8b3c51",
   "metadata": {},
   "outputs": [
    {
     "data": {
      "text/plain": [
       "[0.02712826018768483,\n",
       " 0.022767891948579772,\n",
       " 0.036841564760695084,\n",
       " 0.009208244822342376,\n",
       " 0.012082296274379083]"
      ]
     },
     "execution_count": 13,
     "metadata": {},
     "output_type": "execute_result"
    }
   ],
   "source": [
    "sortino_ratios = []\n",
    "for index, index_rfr in zip(indices, indices_rfr):\n",
    "    daily_returns = []\n",
    "    hist = index_data[index]\n",
    "    rows = hist.shape[0]\n",
    "    for i in range(1, rows):\n",
    "        daily_return = (hist.iloc[i]['Adj Close']-hist.iloc[i-1]['Adj Close'])/hist.iloc[i-1]['Adj Close']\n",
    "        daily_returns.append(daily_return)\n",
    "    expected_return = mean(daily_returns)\n",
    "    negative_returns = [retrn for retrn in daily_returns if retrn < 0]\n",
    "    std = stdev(negative_returns)\n",
    "    sortino_ratio = (expected_return - index_rfr/252)/std\n",
    "    sortino_ratios.append(sortino_ratio)\n",
    "indices_results.append(sortino_ratios)\n",
    "sortino_ratios"
   ]
  },
  {
   "cell_type": "code",
   "execution_count": 14,
   "id": "eb21bf1e",
   "metadata": {},
   "outputs": [
    {
     "data": {
      "text/plain": [
       "[-0.45088356571784804,\n",
       " -0.2721129471337948,\n",
       " -0.41054976702746304,\n",
       " -0.30455786430789505,\n",
       " -0.3795202515429035]"
      ]
     },
     "execution_count": 14,
     "metadata": {},
     "output_type": "execute_result"
    }
   ],
   "source": [
    "max_drawdowns = []\n",
    "for equity in equities:\n",
    "    hist = equity_data[equity]\n",
    "    rows = hist.shape[0]\n",
    "    start = hist.iloc[0]['Adj Close']\n",
    "    max_drawdown = 0\n",
    "    for i in range(1, rows):\n",
    "        max_drawdown = min(max_drawdown, (hist.iloc[i]['Adj Close'] - start)/start)\n",
    "        start = max(start, hist.iloc[i]['Adj Close'])\n",
    "    max_drawdowns.append(max_drawdown)\n",
    "equities_results.append(max_drawdowns)\n",
    "max_drawdowns"
   ]
  },
  {
   "cell_type": "code",
   "execution_count": 15,
   "id": "9186f100",
   "metadata": {},
   "outputs": [
    {
     "data": {
      "text/plain": [
       "[-0.3392496000265327,\n",
       " -0.37086171369594323,\n",
       " -0.36395279909120204,\n",
       " -0.3811424952096922,\n",
       " -0.5351163257586528]"
      ]
     },
     "execution_count": 15,
     "metadata": {},
     "output_type": "execute_result"
    }
   ],
   "source": [
    "max_drawdowns = []\n",
    "for index in indices:\n",
    "    hist = index_data[index]\n",
    "    rows = hist.shape[0]\n",
    "    start = hist.iloc[0]['Adj Close']\n",
    "    max_drawdown = 0\n",
    "    for i in range(1, rows):\n",
    "        max_drawdown = min(max_drawdown, (hist.iloc[i]['Adj Close'] - start)/start)\n",
    "        start = max(start, hist.iloc[i]['Adj Close'])\n",
    "    max_drawdowns.append(max_drawdown)\n",
    "indices_results.append(max_drawdowns)\n",
    "max_drawdowns"
   ]
  },
  {
   "cell_type": "code",
   "execution_count": 16,
   "id": "2728306f",
   "metadata": {},
   "outputs": [
    {
     "data": {
      "text/plain": [
       "[[4.0133336502157695,\n",
       "  10.108442784378576,\n",
       "  9.834929256358167,\n",
       "  10.805467303989634,\n",
       "  4.075542995939551],\n",
       " [0.2815755195533634,\n",
       "  0.25347889789069566,\n",
       "  0.23639196566196413,\n",
       "  0.24003952417274943,\n",
       "  0.27634816886329805],\n",
       " [0.03309918581746654,\n",
       "  0.05008249281305291,\n",
       "  0.052083320161231766,\n",
       "  0.05316741646374751,\n",
       "  0.03371885388643462],\n",
       " [0.05123388146627192,\n",
       "  0.07451990378488811,\n",
       "  0.0772740199897914,\n",
       "  0.09037305643261379,\n",
       "  0.043413442333629176],\n",
       " [-0.45088356571784804,\n",
       "  -0.2721129471337948,\n",
       "  -0.41054976702746304,\n",
       "  -0.30455786430789505,\n",
       "  -0.3795202515429035]]"
      ]
     },
     "execution_count": 16,
     "metadata": {},
     "output_type": "execute_result"
    }
   ],
   "source": [
    "equities_results"
   ]
  },
  {
   "cell_type": "code",
   "execution_count": 17,
   "id": "699f017e",
   "metadata": {},
   "outputs": [],
   "source": [
    "rows = ['Cumulative Return', 'Volatility', 'Sharpe Ratio', 'Sortino Ratio', 'Max Drawdown']\n",
    "Equities_results = pd.DataFrame(equities_results, index=rows, columns=equities)\n",
    "Indices_results = pd.DataFrame(indices_results, index=rows, columns=indices)"
   ]
  },
  {
   "cell_type": "code",
   "execution_count": 18,
   "id": "bb98384e",
   "metadata": {},
   "outputs": [
    {
     "data": {
      "text/html": [
       "<div>\n",
       "<style scoped>\n",
       "    .dataframe tbody tr th:only-of-type {\n",
       "        vertical-align: middle;\n",
       "    }\n",
       "\n",
       "    .dataframe tbody tr th {\n",
       "        vertical-align: top;\n",
       "    }\n",
       "\n",
       "    .dataframe thead th {\n",
       "        text-align: right;\n",
       "    }\n",
       "</style>\n",
       "<table border=\"1\" class=\"dataframe\">\n",
       "  <thead>\n",
       "    <tr style=\"text-align: right;\">\n",
       "      <th></th>\n",
       "      <th>RELIANCE.NS</th>\n",
       "      <th>TCS.NS</th>\n",
       "      <th>HDFCBANK.NS</th>\n",
       "      <th>HINDUNILVR.NS</th>\n",
       "      <th>INFY.NS</th>\n",
       "    </tr>\n",
       "  </thead>\n",
       "  <tbody>\n",
       "    <tr>\n",
       "      <th>Cumulative Return</th>\n",
       "      <td>4.013334</td>\n",
       "      <td>10.108443</td>\n",
       "      <td>9.834929</td>\n",
       "      <td>10.805467</td>\n",
       "      <td>4.075543</td>\n",
       "    </tr>\n",
       "    <tr>\n",
       "      <th>Volatility</th>\n",
       "      <td>0.281576</td>\n",
       "      <td>0.253479</td>\n",
       "      <td>0.236392</td>\n",
       "      <td>0.240040</td>\n",
       "      <td>0.276348</td>\n",
       "    </tr>\n",
       "    <tr>\n",
       "      <th>Sharpe Ratio</th>\n",
       "      <td>0.033099</td>\n",
       "      <td>0.050082</td>\n",
       "      <td>0.052083</td>\n",
       "      <td>0.053167</td>\n",
       "      <td>0.033719</td>\n",
       "    </tr>\n",
       "    <tr>\n",
       "      <th>Sortino Ratio</th>\n",
       "      <td>0.051234</td>\n",
       "      <td>0.074520</td>\n",
       "      <td>0.077274</td>\n",
       "      <td>0.090373</td>\n",
       "      <td>0.043413</td>\n",
       "    </tr>\n",
       "    <tr>\n",
       "      <th>Max Drawdown</th>\n",
       "      <td>-0.450884</td>\n",
       "      <td>-0.272113</td>\n",
       "      <td>-0.410550</td>\n",
       "      <td>-0.304558</td>\n",
       "      <td>-0.379520</td>\n",
       "    </tr>\n",
       "  </tbody>\n",
       "</table>\n",
       "</div>"
      ],
      "text/plain": [
       "                   RELIANCE.NS     TCS.NS  HDFCBANK.NS  HINDUNILVR.NS  \\\n",
       "Cumulative Return     4.013334  10.108443     9.834929      10.805467   \n",
       "Volatility            0.281576   0.253479     0.236392       0.240040   \n",
       "Sharpe Ratio          0.033099   0.050082     0.052083       0.053167   \n",
       "Sortino Ratio         0.051234   0.074520     0.077274       0.090373   \n",
       "Max Drawdown         -0.450884  -0.272113    -0.410550      -0.304558   \n",
       "\n",
       "                    INFY.NS  \n",
       "Cumulative Return  4.075543  \n",
       "Volatility         0.276348  \n",
       "Sharpe Ratio       0.033719  \n",
       "Sortino Ratio      0.043413  \n",
       "Max Drawdown      -0.379520  "
      ]
     },
     "execution_count": 18,
     "metadata": {},
     "output_type": "execute_result"
    }
   ],
   "source": [
    "Equities_results"
   ]
  },
  {
   "cell_type": "code",
   "execution_count": 19,
   "id": "eeac7bf3",
   "metadata": {},
   "outputs": [
    {
     "data": {
      "text/html": [
       "<div>\n",
       "<style scoped>\n",
       "    .dataframe tbody tr th:only-of-type {\n",
       "        vertical-align: middle;\n",
       "    }\n",
       "\n",
       "    .dataframe tbody tr th {\n",
       "        vertical-align: top;\n",
       "    }\n",
       "\n",
       "    .dataframe thead th {\n",
       "        text-align: right;\n",
       "    }\n",
       "</style>\n",
       "<table border=\"1\" class=\"dataframe\">\n",
       "  <thead>\n",
       "    <tr style=\"text-align: right;\">\n",
       "      <th></th>\n",
       "      <th>^GSPC</th>\n",
       "      <th>^DJI</th>\n",
       "      <th>^IXIC</th>\n",
       "      <th>^NYA</th>\n",
       "      <th>^XAX</th>\n",
       "    </tr>\n",
       "  </thead>\n",
       "  <tbody>\n",
       "    <tr>\n",
       "      <th>Cumulative Return</th>\n",
       "      <td>2.739109</td>\n",
       "      <td>2.269850</td>\n",
       "      <td>4.388176</td>\n",
       "      <td>1.163670</td>\n",
       "      <td>1.301172</td>\n",
       "    </tr>\n",
       "    <tr>\n",
       "      <th>Volatility</th>\n",
       "      <td>0.177632</td>\n",
       "      <td>0.171839</td>\n",
       "      <td>0.206075</td>\n",
       "      <td>0.175572</td>\n",
       "      <td>0.196005</td>\n",
       "    </tr>\n",
       "    <tr>\n",
       "      <th>Sharpe Ratio</th>\n",
       "      <td>0.022156</td>\n",
       "      <td>0.018837</td>\n",
       "      <td>0.029169</td>\n",
       "      <td>0.007537</td>\n",
       "      <td>0.009484</td>\n",
       "    </tr>\n",
       "    <tr>\n",
       "      <th>Sortino Ratio</th>\n",
       "      <td>0.027128</td>\n",
       "      <td>0.022768</td>\n",
       "      <td>0.036842</td>\n",
       "      <td>0.009208</td>\n",
       "      <td>0.012082</td>\n",
       "    </tr>\n",
       "    <tr>\n",
       "      <th>Max Drawdown</th>\n",
       "      <td>-0.339250</td>\n",
       "      <td>-0.370862</td>\n",
       "      <td>-0.363953</td>\n",
       "      <td>-0.381142</td>\n",
       "      <td>-0.535116</td>\n",
       "    </tr>\n",
       "  </tbody>\n",
       "</table>\n",
       "</div>"
      ],
      "text/plain": [
       "                      ^GSPC      ^DJI     ^IXIC      ^NYA      ^XAX\n",
       "Cumulative Return  2.739109  2.269850  4.388176  1.163670  1.301172\n",
       "Volatility         0.177632  0.171839  0.206075  0.175572  0.196005\n",
       "Sharpe Ratio       0.022156  0.018837  0.029169  0.007537  0.009484\n",
       "Sortino Ratio      0.027128  0.022768  0.036842  0.009208  0.012082\n",
       "Max Drawdown      -0.339250 -0.370862 -0.363953 -0.381142 -0.535116"
      ]
     },
     "execution_count": 19,
     "metadata": {},
     "output_type": "execute_result"
    }
   ],
   "source": [
    "Indices_results"
   ]
  }
 ],
 "metadata": {
  "kernelspec": {
   "display_name": "Python 3 (ipykernel)",
   "language": "python",
   "name": "python3"
  },
  "language_info": {
   "codemirror_mode": {
    "name": "ipython",
    "version": 3
   },
   "file_extension": ".py",
   "mimetype": "text/x-python",
   "name": "python",
   "nbconvert_exporter": "python",
   "pygments_lexer": "ipython3",
   "version": "3.9.12"
  }
 },
 "nbformat": 4,
 "nbformat_minor": 5
}
