{
 "cells": [
  {
   "cell_type": "code",
   "execution_count": 1,
   "metadata": {
    "id": "zhA2wkZiHVmB"
   },
   "outputs": [
    {
     "name": "stdout",
     "output_type": "stream",
     "text": [
      "Intel MKL WARNING: Support of Intel(R) Streaming SIMD Extensions 4.2 (Intel(R) SSE4.2) enabled only processors has been deprecated. Intel oneAPI Math Kernel Library 2025.0 will require Intel(R) Advanced Vector Extensions (Intel(R) AVX) instructions.\n",
      "Intel MKL WARNING: Support of Intel(R) Streaming SIMD Extensions 4.2 (Intel(R) SSE4.2) enabled only processors has been deprecated. Intel oneAPI Math Kernel Library 2025.0 will require Intel(R) Advanced Vector Extensions (Intel(R) AVX) instructions.\n"
     ]
    }
   ],
   "source": [
    "import yfinance as yf\n",
    "import pandas as pd\n",
    "import numpy as np\n",
    "import datetime\n",
    "from datetime import date\n",
    "from math import sqrt\n",
    "\n"
   ]
  },
  {
   "cell_type": "code",
   "execution_count": 2,
   "metadata": {
    "colab": {
     "base_uri": "https://localhost:8080/",
     "height": 206
    },
    "id": "9uvyL3SDHVmD",
    "outputId": "25ac6cdf-4f6e-42bb-e26f-15fc2e6b058a"
   },
   "outputs": [
    {
     "data": {
      "text/html": [
       "<div>\n",
       "<style scoped>\n",
       "    .dataframe tbody tr th:only-of-type {\n",
       "        vertical-align: middle;\n",
       "    }\n",
       "\n",
       "    .dataframe tbody tr th {\n",
       "        vertical-align: top;\n",
       "    }\n",
       "\n",
       "    .dataframe thead th {\n",
       "        text-align: right;\n",
       "    }\n",
       "</style>\n",
       "<table border=\"1\" class=\"dataframe\">\n",
       "  <thead>\n",
       "    <tr style=\"text-align: right;\">\n",
       "      <th></th>\n",
       "      <th>^IXIC</th>\n",
       "      <th>^GSPC</th>\n",
       "      <th>^DJI</th>\n",
       "      <th>^RUT</th>\n",
       "      <th>^VIX</th>\n",
       "    </tr>\n",
       "  </thead>\n",
       "  <tbody>\n",
       "    <tr>\n",
       "      <th>Cumulative Returns</th>\n",
       "      <td>NaN</td>\n",
       "      <td>NaN</td>\n",
       "      <td>NaN</td>\n",
       "      <td>NaN</td>\n",
       "      <td>NaN</td>\n",
       "    </tr>\n",
       "    <tr>\n",
       "      <th>Volatility</th>\n",
       "      <td>NaN</td>\n",
       "      <td>NaN</td>\n",
       "      <td>NaN</td>\n",
       "      <td>NaN</td>\n",
       "      <td>NaN</td>\n",
       "    </tr>\n",
       "    <tr>\n",
       "      <th>Sharpe ratio</th>\n",
       "      <td>NaN</td>\n",
       "      <td>NaN</td>\n",
       "      <td>NaN</td>\n",
       "      <td>NaN</td>\n",
       "      <td>NaN</td>\n",
       "    </tr>\n",
       "    <tr>\n",
       "      <th>Sortino ratio</th>\n",
       "      <td>NaN</td>\n",
       "      <td>NaN</td>\n",
       "      <td>NaN</td>\n",
       "      <td>NaN</td>\n",
       "      <td>NaN</td>\n",
       "    </tr>\n",
       "    <tr>\n",
       "      <th>MDD</th>\n",
       "      <td>NaN</td>\n",
       "      <td>NaN</td>\n",
       "      <td>NaN</td>\n",
       "      <td>NaN</td>\n",
       "      <td>NaN</td>\n",
       "    </tr>\n",
       "  </tbody>\n",
       "</table>\n",
       "</div>"
      ],
      "text/plain": [
       "                   ^IXIC ^GSPC ^DJI ^RUT ^VIX\n",
       "Cumulative Returns   NaN   NaN  NaN  NaN  NaN\n",
       "Volatility           NaN   NaN  NaN  NaN  NaN\n",
       "Sharpe ratio         NaN   NaN  NaN  NaN  NaN\n",
       "Sortino ratio        NaN   NaN  NaN  NaN  NaN\n",
       "MDD                  NaN   NaN  NaN  NaN  NaN"
      ]
     },
     "execution_count": 2,
     "metadata": {},
     "output_type": "execute_result"
    }
   ],
   "source": [
    "Indices=pd.DataFrame(index=[\"Cumulative Returns\",\"Volatility\",\"Sharpe ratio\",\"Sortino ratio\",\"MDD\"],columns=[\"^IXIC\",\"^GSPC\",\"^DJI\",\"^RUT\",\"^VIX\"])\n",
    "Indices"
   ]
  },
  {
   "cell_type": "code",
   "execution_count": 3,
   "metadata": {
    "colab": {
     "base_uri": "https://localhost:8080/",
     "height": 206
    },
    "id": "UrydFtPgHVmD",
    "outputId": "2eef4e2c-e54c-4db5-d0e2-3a64dd14fc53"
   },
   "outputs": [
    {
     "data": {
      "text/html": [
       "<div>\n",
       "<style scoped>\n",
       "    .dataframe tbody tr th:only-of-type {\n",
       "        vertical-align: middle;\n",
       "    }\n",
       "\n",
       "    .dataframe tbody tr th {\n",
       "        vertical-align: top;\n",
       "    }\n",
       "\n",
       "    .dataframe thead th {\n",
       "        text-align: right;\n",
       "    }\n",
       "</style>\n",
       "<table border=\"1\" class=\"dataframe\">\n",
       "  <thead>\n",
       "    <tr style=\"text-align: right;\">\n",
       "      <th></th>\n",
       "      <th>GOOGL</th>\n",
       "      <th>AAPL</th>\n",
       "      <th>ASML</th>\n",
       "      <th>AMZN</th>\n",
       "      <th>HDB</th>\n",
       "    </tr>\n",
       "  </thead>\n",
       "  <tbody>\n",
       "    <tr>\n",
       "      <th>Cumulative Returns</th>\n",
       "      <td>NaN</td>\n",
       "      <td>NaN</td>\n",
       "      <td>NaN</td>\n",
       "      <td>NaN</td>\n",
       "      <td>NaN</td>\n",
       "    </tr>\n",
       "    <tr>\n",
       "      <th>Volatility</th>\n",
       "      <td>NaN</td>\n",
       "      <td>NaN</td>\n",
       "      <td>NaN</td>\n",
       "      <td>NaN</td>\n",
       "      <td>NaN</td>\n",
       "    </tr>\n",
       "    <tr>\n",
       "      <th>Sharpe ratio</th>\n",
       "      <td>NaN</td>\n",
       "      <td>NaN</td>\n",
       "      <td>NaN</td>\n",
       "      <td>NaN</td>\n",
       "      <td>NaN</td>\n",
       "    </tr>\n",
       "    <tr>\n",
       "      <th>Sortino ratio</th>\n",
       "      <td>NaN</td>\n",
       "      <td>NaN</td>\n",
       "      <td>NaN</td>\n",
       "      <td>NaN</td>\n",
       "      <td>NaN</td>\n",
       "    </tr>\n",
       "    <tr>\n",
       "      <th>MDD</th>\n",
       "      <td>NaN</td>\n",
       "      <td>NaN</td>\n",
       "      <td>NaN</td>\n",
       "      <td>NaN</td>\n",
       "      <td>NaN</td>\n",
       "    </tr>\n",
       "  </tbody>\n",
       "</table>\n",
       "</div>"
      ],
      "text/plain": [
       "                   GOOGL AAPL ASML AMZN  HDB\n",
       "Cumulative Returns   NaN  NaN  NaN  NaN  NaN\n",
       "Volatility           NaN  NaN  NaN  NaN  NaN\n",
       "Sharpe ratio         NaN  NaN  NaN  NaN  NaN\n",
       "Sortino ratio        NaN  NaN  NaN  NaN  NaN\n",
       "MDD                  NaN  NaN  NaN  NaN  NaN"
      ]
     },
     "execution_count": 3,
     "metadata": {},
     "output_type": "execute_result"
    }
   ],
   "source": [
    "Equities=pd.DataFrame(index=[\"Cumulative Returns\",\"Volatility\",\"Sharpe ratio\",\"Sortino ratio\",\"MDD\"],columns=[\"GOOGL\",\"AAPL\",\"ASML\",\"AMZN\",\"HDB\"])\n",
    "Equities"
   ]
  },
  {
   "cell_type": "code",
   "execution_count": 4,
   "metadata": {
    "colab": {
     "base_uri": "https://localhost:8080/"
    },
    "id": "akUQM8tiHVmE",
    "outputId": "1ebb688b-3e2e-4c89-aadd-059984e2b339"
   },
   "outputs": [
    {
     "name": "stdout",
     "output_type": "stream",
     "text": [
      "[*********************100%***********************]  1 of 1 completed\n"
     ]
    }
   ],
   "source": [
    "ixic=yf.download(\"^IXIC\",start=\"2010-01-01\",end=\"2023-05-01\")"
   ]
  },
  {
   "cell_type": "code",
   "execution_count": 5,
   "metadata": {
    "colab": {
     "base_uri": "https://localhost:8080/",
     "height": 455
    },
    "id": "WQjhCDfzHVmE",
    "outputId": "d26ec0c3-e2ac-41ce-df9b-ce3b7a373bd5"
   },
   "outputs": [
    {
     "data": {
      "text/html": [
       "<div>\n",
       "<style scoped>\n",
       "    .dataframe tbody tr th:only-of-type {\n",
       "        vertical-align: middle;\n",
       "    }\n",
       "\n",
       "    .dataframe tbody tr th {\n",
       "        vertical-align: top;\n",
       "    }\n",
       "\n",
       "    .dataframe thead th {\n",
       "        text-align: right;\n",
       "    }\n",
       "</style>\n",
       "<table border=\"1\" class=\"dataframe\">\n",
       "  <thead>\n",
       "    <tr style=\"text-align: right;\">\n",
       "      <th></th>\n",
       "      <th>Open</th>\n",
       "      <th>High</th>\n",
       "      <th>Low</th>\n",
       "      <th>Close</th>\n",
       "      <th>Adj Close</th>\n",
       "      <th>Volume</th>\n",
       "    </tr>\n",
       "    <tr>\n",
       "      <th>Date</th>\n",
       "      <th></th>\n",
       "      <th></th>\n",
       "      <th></th>\n",
       "      <th></th>\n",
       "      <th></th>\n",
       "      <th></th>\n",
       "    </tr>\n",
       "  </thead>\n",
       "  <tbody>\n",
       "    <tr>\n",
       "      <th>2009-12-31</th>\n",
       "      <td>2292.919922</td>\n",
       "      <td>2293.590088</td>\n",
       "      <td>2269.110107</td>\n",
       "      <td>2269.149902</td>\n",
       "      <td>2269.149902</td>\n",
       "      <td>1237820000</td>\n",
       "    </tr>\n",
       "    <tr>\n",
       "      <th>2010-01-04</th>\n",
       "      <td>2294.409912</td>\n",
       "      <td>2311.149902</td>\n",
       "      <td>2294.409912</td>\n",
       "      <td>2308.419922</td>\n",
       "      <td>2308.419922</td>\n",
       "      <td>1931380000</td>\n",
       "    </tr>\n",
       "    <tr>\n",
       "      <th>2010-01-05</th>\n",
       "      <td>2307.270020</td>\n",
       "      <td>2313.729980</td>\n",
       "      <td>2295.620117</td>\n",
       "      <td>2308.709961</td>\n",
       "      <td>2308.709961</td>\n",
       "      <td>2367860000</td>\n",
       "    </tr>\n",
       "    <tr>\n",
       "      <th>2010-01-06</th>\n",
       "      <td>2307.709961</td>\n",
       "      <td>2314.070068</td>\n",
       "      <td>2295.679932</td>\n",
       "      <td>2301.090088</td>\n",
       "      <td>2301.090088</td>\n",
       "      <td>2253340000</td>\n",
       "    </tr>\n",
       "    <tr>\n",
       "      <th>2010-01-07</th>\n",
       "      <td>2298.090088</td>\n",
       "      <td>2301.300049</td>\n",
       "      <td>2285.219971</td>\n",
       "      <td>2300.050049</td>\n",
       "      <td>2300.050049</td>\n",
       "      <td>2270050000</td>\n",
       "    </tr>\n",
       "    <tr>\n",
       "      <th>...</th>\n",
       "      <td>...</td>\n",
       "      <td>...</td>\n",
       "      <td>...</td>\n",
       "      <td>...</td>\n",
       "      <td>...</td>\n",
       "      <td>...</td>\n",
       "    </tr>\n",
       "    <tr>\n",
       "      <th>2023-04-24</th>\n",
       "      <td>12053.469727</td>\n",
       "      <td>12103.580078</td>\n",
       "      <td>11960.299805</td>\n",
       "      <td>12037.200195</td>\n",
       "      <td>12037.200195</td>\n",
       "      <td>4854050000</td>\n",
       "    </tr>\n",
       "    <tr>\n",
       "      <th>2023-04-25</th>\n",
       "      <td>11968.809570</td>\n",
       "      <td>11990.459961</td>\n",
       "      <td>11798.769531</td>\n",
       "      <td>11799.160156</td>\n",
       "      <td>11799.160156</td>\n",
       "      <td>4806020000</td>\n",
       "    </tr>\n",
       "    <tr>\n",
       "      <th>2023-04-26</th>\n",
       "      <td>11913.230469</td>\n",
       "      <td>11967.990234</td>\n",
       "      <td>11833.070312</td>\n",
       "      <td>11854.349609</td>\n",
       "      <td>11854.349609</td>\n",
       "      <td>5281970000</td>\n",
       "    </tr>\n",
       "    <tr>\n",
       "      <th>2023-04-27</th>\n",
       "      <td>11972.150391</td>\n",
       "      <td>12154.009766</td>\n",
       "      <td>11950.919922</td>\n",
       "      <td>12142.240234</td>\n",
       "      <td>12142.240234</td>\n",
       "      <td>5253710000</td>\n",
       "    </tr>\n",
       "    <tr>\n",
       "      <th>2023-04-28</th>\n",
       "      <td>12117.540039</td>\n",
       "      <td>12227.719727</td>\n",
       "      <td>12082.570312</td>\n",
       "      <td>12226.580078</td>\n",
       "      <td>12226.580078</td>\n",
       "      <td>5331380000</td>\n",
       "    </tr>\n",
       "  </tbody>\n",
       "</table>\n",
       "<p>3354 rows × 6 columns</p>\n",
       "</div>"
      ],
      "text/plain": [
       "                    Open          High           Low         Close  \\\n",
       "Date                                                                 \n",
       "2009-12-31   2292.919922   2293.590088   2269.110107   2269.149902   \n",
       "2010-01-04   2294.409912   2311.149902   2294.409912   2308.419922   \n",
       "2010-01-05   2307.270020   2313.729980   2295.620117   2308.709961   \n",
       "2010-01-06   2307.709961   2314.070068   2295.679932   2301.090088   \n",
       "2010-01-07   2298.090088   2301.300049   2285.219971   2300.050049   \n",
       "...                  ...           ...           ...           ...   \n",
       "2023-04-24  12053.469727  12103.580078  11960.299805  12037.200195   \n",
       "2023-04-25  11968.809570  11990.459961  11798.769531  11799.160156   \n",
       "2023-04-26  11913.230469  11967.990234  11833.070312  11854.349609   \n",
       "2023-04-27  11972.150391  12154.009766  11950.919922  12142.240234   \n",
       "2023-04-28  12117.540039  12227.719727  12082.570312  12226.580078   \n",
       "\n",
       "               Adj Close      Volume  \n",
       "Date                                  \n",
       "2009-12-31   2269.149902  1237820000  \n",
       "2010-01-04   2308.419922  1931380000  \n",
       "2010-01-05   2308.709961  2367860000  \n",
       "2010-01-06   2301.090088  2253340000  \n",
       "2010-01-07   2300.050049  2270050000  \n",
       "...                  ...         ...  \n",
       "2023-04-24  12037.200195  4854050000  \n",
       "2023-04-25  11799.160156  4806020000  \n",
       "2023-04-26  11854.349609  5281970000  \n",
       "2023-04-27  12142.240234  5253710000  \n",
       "2023-04-28  12226.580078  5331380000  \n",
       "\n",
       "[3354 rows x 6 columns]"
      ]
     },
     "execution_count": 5,
     "metadata": {},
     "output_type": "execute_result"
    }
   ],
   "source": [
    "ixic"
   ]
  },
  {
   "cell_type": "code",
   "execution_count": 6,
   "metadata": {
    "colab": {
     "base_uri": "https://localhost:8080/"
    },
    "id": "H_XYYRUWHVmE",
    "outputId": "ecf0558f-9850-467c-82aa-ca6e99b9cb83"
   },
   "outputs": [
    {
     "name": "stdout",
     "output_type": "stream",
     "text": [
      "Date\n",
      "2009-12-31     2269.149902\n",
      "2010-01-04     2308.419922\n",
      "2010-01-05     2308.709961\n",
      "2010-01-06     2301.090088\n",
      "2010-01-07     2300.050049\n",
      "                  ...     \n",
      "2023-04-24    12037.200195\n",
      "2023-04-25    11799.160156\n",
      "2023-04-26    11854.349609\n",
      "2023-04-27    12142.240234\n",
      "2023-04-28    12226.580078\n",
      "Name: Close, Length: 3354, dtype: float64\n",
      "Date\n",
      "2009-12-31     2292.919922\n",
      "2010-01-04     2294.409912\n",
      "2010-01-05     2307.270020\n",
      "2010-01-06     2307.709961\n",
      "2010-01-07     2298.090088\n",
      "                  ...     \n",
      "2023-04-24    12053.469727\n",
      "2023-04-25    11968.809570\n",
      "2023-04-26    11913.230469\n",
      "2023-04-27    11972.150391\n",
      "2023-04-28    12117.540039\n",
      "Name: Open, Length: 3354, dtype: float64\n"
     ]
    }
   ],
   "source": [
    "cprice=ixic[\"Close\"]\n",
    "oprice=ixic[\"Open\"]\n",
    "print(cprice)\n",
    "print(oprice)"
   ]
  },
  {
   "cell_type": "code",
   "execution_count": 7,
   "metadata": {
    "colab": {
     "base_uri": "https://localhost:8080/"
    },
    "id": "vYaercaHHVmE",
    "outputId": "fc3df8f4-9e3d-4ed4-8390-0b3985354249"
   },
   "outputs": [
    {
     "name": "stdout",
     "output_type": "stream",
     "text": [
      "Date\n",
      "2009-12-31   -0.010367\n",
      "2010-01-04    0.006106\n",
      "2010-01-05    0.000624\n",
      "2010-01-06   -0.002869\n",
      "2010-01-07    0.000853\n",
      "                ...   \n",
      "2023-04-24   -0.001350\n",
      "2023-04-25   -0.014174\n",
      "2023-04-26   -0.004942\n",
      "2023-04-27    0.014207\n",
      "2023-04-28    0.008999\n",
      "Length: 3354, dtype: float64\n"
     ]
    }
   ],
   "source": [
    "dailyrs=(cprice-oprice)/oprice\n",
    "print(dailyrs)"
   ]
  },
  {
   "cell_type": "code",
   "execution_count": 8,
   "metadata": {
    "colab": {
     "base_uri": "https://localhost:8080/"
    },
    "id": "pUPA7cLfHVmF",
    "outputId": "45d8699a-3c29-43b5-ebc9-6a2c8777f6f2"
   },
   "outputs": [
    {
     "name": "stdout",
     "output_type": "stream",
     "text": [
      "4.33231883132094\n"
     ]
    }
   ],
   "source": [
    "final_price=ixic.iloc[-1][\"Close\"]\n",
    "ogprice=ixic.iloc[0][\"Open\"]\n",
    "\n",
    "cumulative=(final_price-ogprice)/ogprice\n",
    "print(cumulative)"
   ]
  },
  {
   "cell_type": "code",
   "execution_count": 9,
   "metadata": {
    "colab": {
     "base_uri": "https://localhost:8080/"
    },
    "id": "eKPKnwUnHVmF",
    "outputId": "7f264086-e716-4090-b1c6-edeb5f00a1bd"
   },
   "outputs": [
    {
     "data": {
      "text/plain": [
       "0.5849781547360452"
      ]
     },
     "execution_count": 9,
     "metadata": {},
     "output_type": "execute_result"
    }
   ],
   "source": [
    "std=dailyrs.std()\n",
    "time_period=ixic.shape[0]\n",
    "volatility=std*sqrt(time_period)\n",
    "volatility"
   ]
  },
  {
   "cell_type": "code",
   "execution_count": 10,
   "metadata": {
    "id": "p0iYBTbvHVmF"
   },
   "outputs": [],
   "source": [
    "rfrate=0.001"
   ]
  },
  {
   "cell_type": "code",
   "execution_count": 11,
   "metadata": {
    "colab": {
     "base_uri": "https://localhost:8080/"
    },
    "id": "qZ41gLT1HVmF",
    "outputId": "dc3df49d-eebc-4ef4-ec09-72e0d00c5027"
   },
   "outputs": [
    {
     "data": {
      "text/plain": [
       "-0.07417451623660938"
      ]
     },
     "execution_count": 11,
     "metadata": {},
     "output_type": "execute_result"
    }
   ],
   "source": [
    "excess=dailyrs-rfrate\n",
    "sharpe=excess.mean()/excess.std()\n",
    "sharpe"
   ]
  },
  {
   "cell_type": "code",
   "execution_count": 12,
   "metadata": {
    "colab": {
     "base_uri": "https://localhost:8080/"
    },
    "id": "jI3xhEzFHVmF",
    "outputId": "865938e6-02df-4978-c2a3-691a7efb5cb9"
   },
   "outputs": [
    {
     "data": {
      "text/plain": [
       "Date\n",
       "2009-12-31   -0.010367\n",
       "2010-01-06   -0.002869\n",
       "2010-01-11   -0.005321\n",
       "2010-01-12   -0.006516\n",
       "2010-01-15   -0.012512\n",
       "                ...   \n",
       "2023-04-12   -0.014989\n",
       "2023-04-18   -0.006633\n",
       "2023-04-24   -0.001350\n",
       "2023-04-25   -0.014174\n",
       "2023-04-26   -0.004942\n",
       "Length: 1518, dtype: float64"
      ]
     },
     "execution_count": 12,
     "metadata": {},
     "output_type": "execute_result"
    }
   ],
   "source": [
    "neg_returns=dailyrs[dailyrs<0]\n",
    "neg_returns\n"
   ]
  },
  {
   "cell_type": "code",
   "execution_count": 13,
   "metadata": {
    "colab": {
     "base_uri": "https://localhost:8080/"
    },
    "id": "12Q-J82gHVmG",
    "outputId": "c920c93c-4d16-4152-b974-fd0b8c7a03e1"
   },
   "outputs": [
    {
     "data": {
      "text/plain": [
       "-0.09762879366196571"
      ]
     },
     "execution_count": 13,
     "metadata": {},
     "output_type": "execute_result"
    }
   ],
   "source": [
    "sortino=excess.mean()/neg_returns.std()\n",
    "sortino"
   ]
  },
  {
   "cell_type": "code",
   "execution_count": 14,
   "metadata": {
    "id": "48zisy9SHVmG"
   },
   "outputs": [],
   "source": [
    "peak=cprice.max()\n",
    "index=list(np.where(cprice==peak))\n",
    "index=index[0][0]\n",
    "\n",
    "indices=cprice.index\n",
    "peak_day=indices[index]\n",
    "\n",
    "peak_day=peak_day.strftime(\"%Y-%m-%d\")\n",
    "\n"
   ]
  },
  {
   "cell_type": "code",
   "execution_count": 15,
   "metadata": {
    "colab": {
     "base_uri": "https://localhost:8080/"
    },
    "id": "2KpY6ATMHVmG",
    "outputId": "3176ad28-9821-4c0d-fb6e-d6d43499b4b0"
   },
   "outputs": [
    {
     "data": {
      "text/plain": [
       "-36.395279909120205"
      ]
     },
     "execution_count": 15,
     "metadata": {},
     "output_type": "execute_result"
    }
   ],
   "source": [
    "ixic_later=ixic.loc[peak_day:\"2023-04-26\",:]\n",
    "minimum=ixic_later[\"Close\"].min()\n",
    "Mdd=(minimum-peak)/peak*100\n",
    "Mdd"
   ]
  },
  {
   "cell_type": "code",
   "execution_count": 16,
   "metadata": {
    "colab": {
     "base_uri": "https://localhost:8080/"
    },
    "id": "dXerV5c1HVmG",
    "outputId": "59deb425-e997-4093-d767-c91845ac908b"
   },
   "outputs": [
    {
     "name": "stdout",
     "output_type": "stream",
     "text": [
      "[*********************100%***********************]  1 of 1 completed\n",
      "[*********************100%***********************]  1 of 1 completed\n",
      "[*********************100%***********************]  1 of 1 completed\n",
      "[*********************100%***********************]  1 of 1 completed\n",
      "[*********************100%***********************]  1 of 1 completed\n"
     ]
    }
   ],
   "source": [
    "for stock in Indices.columns:\n",
    "    stck=yf.download(stock,start=\"2010-01-01\",end=\"2023-05-01\")\n",
    "    \n",
    "    cprice=stck[\"Close\"]\n",
    "    oprice=stck[\"Open\"]\n",
    "    dailyrs=(cprice-oprice)/cprice\n",
    "\n",
    "    final_price=stck.iloc[-1][\"Close\"]\n",
    "    ogprice=stck.iloc[0][\"Open\"]\n",
    "\n",
    "    cumulative=(final_price-ogprice)/ogprice\n",
    "    Indices.at[\"Cumulative Returns\",stock]=cumulative\n",
    "\n",
    "    std=dailyrs.std()\n",
    "    time_period=stck.shape[0]\n",
    "    volatility=std*sqrt(time_period)\n",
    "    Indices.at[\"Volatility\",stock]=volatility\n",
    "\n",
    "    excess=dailyrs-rfrate\n",
    "    sharpe=excess.mean()/excess.std()\n",
    "\n",
    "    Indices.at[\"Sharpe ratio\",stock]=sharpe\n",
    "    \n",
    "    neg_returns=dailyrs[dailyrs<0]\n",
    "    sortino=excess.mean()/neg_returns.std()\n",
    "\n",
    "    Indices.at[\"Sortino ratio\",stock]=sortino\n",
    "\n",
    "    peak=cprice.max()\n",
    "    index=list(np.where(cprice==peak))\n",
    "    index=index[0][0]\n",
    "\n",
    "    indices=cprice.index\n",
    "    peak_day=indices[index]\n",
    "\n",
    "    peak_day=peak_day.strftime(\"%Y-%m-%d\")\n",
    "\n",
    "    stck_later=stck.loc[peak_day:\"2023-04-26\",:]\n",
    "    minimum=stck_later[\"Close\"].min()\n",
    "    Mdd=(minimum-peak)/peak*100\n",
    "\n",
    "    Indices.at[\"MDD\",stock]=Mdd\n",
    "    \n",
    "    \n"
   ]
  },
  {
   "cell_type": "code",
   "execution_count": 17,
   "metadata": {
    "colab": {
     "base_uri": "https://localhost:8080/"
    },
    "id": "9BI5V5v8HVmG",
    "outputId": "cbe22f68-992d-4287-8102-2dc5dfb92088"
   },
   "outputs": [
    {
     "name": "stdout",
     "output_type": "stream",
     "text": [
      "[*********************100%***********************]  1 of 1 completed\n",
      "[*********************100%***********************]  1 of 1 completed\n",
      "[*********************100%***********************]  1 of 1 completed\n",
      "[*********************100%***********************]  1 of 1 completed\n",
      "[*********************100%***********************]  1 of 1 completed\n"
     ]
    }
   ],
   "source": [
    "\n",
    "for stock in Equities.columns:\n",
    "    stck=yf.download(stock,start=\"2010-01-01\",end=\"2023-05-01\")\n",
    "    \n",
    "    cprice=stck[\"Close\"]\n",
    "    oprice=stck[\"Open\"]\n",
    "    dailyrs=(cprice-oprice)/cprice\n",
    "\n",
    "    final_price=stck.iloc[-1][\"Close\"]\n",
    "    ogprice=stck.iloc[0][\"Open\"]\n",
    "\n",
    "    cumulative=(final_price-ogprice)/ogprice\n",
    "    Equities.at[\"Cumulative Returns\",stock]=cumulative\n",
    "\n",
    "    std=dailyrs.std()\n",
    "    time_period=stck.shape[0]\n",
    "    volatility=std*sqrt(time_period)\n",
    "    Equities.at[\"Volatility\",stock]=volatility\n",
    "\n",
    "    excess=dailyrs-rfrate\n",
    "    sharpe=excess.mean()/excess.std()\n",
    "\n",
    "    Equities.at[\"Sharpe ratio\",stock]=sharpe\n",
    "    \n",
    "    neg_returns=dailyrs[dailyrs<0]\n",
    "    sortino=excess.mean()/neg_returns.std()\n",
    "\n",
    "    Equities.at[\"Sortino ratio\",stock]=sortino\n",
    "\n",
    "    peak=cprice.max()\n",
    "    index=list(np.where(cprice==peak))\n",
    "    index=index[0][0]\n",
    "\n",
    "    Equity=cprice.index\n",
    "    peak_day=Equity[index]\n",
    "\n",
    "    peak_day=peak_day.strftime(\"%Y-%m-%d\")\n",
    "\n",
    "    stck_later=stck.loc[peak_day:\"2023-04-26\",:]\n",
    "    minimum=stck_later[\"Close\"].min()\n",
    "    Mdd=(minimum-peak)/peak*100\n",
    "\n",
    "    Equities.at[\"MDD\",stock]=Mdd"
   ]
  },
  {
   "cell_type": "code",
   "execution_count": 18,
   "metadata": {
    "colab": {
     "base_uri": "https://localhost:8080/",
     "height": 206
    },
    "id": "qp5ylM7hHVmG",
    "outputId": "acb304cb-7871-41e3-f52d-9722d81ec726"
   },
   "outputs": [
    {
     "data": {
      "text/html": [
       "<div>\n",
       "<style scoped>\n",
       "    .dataframe tbody tr th:only-of-type {\n",
       "        vertical-align: middle;\n",
       "    }\n",
       "\n",
       "    .dataframe tbody tr th {\n",
       "        vertical-align: top;\n",
       "    }\n",
       "\n",
       "    .dataframe thead th {\n",
       "        text-align: right;\n",
       "    }\n",
       "</style>\n",
       "<table border=\"1\" class=\"dataframe\">\n",
       "  <thead>\n",
       "    <tr style=\"text-align: right;\">\n",
       "      <th></th>\n",
       "      <th>^IXIC</th>\n",
       "      <th>^GSPC</th>\n",
       "      <th>^DJI</th>\n",
       "      <th>^RUT</th>\n",
       "      <th>^VIX</th>\n",
       "    </tr>\n",
       "  </thead>\n",
       "  <tbody>\n",
       "    <tr>\n",
       "      <th>Cumulative Returns</th>\n",
       "      <td>4.332319</td>\n",
       "      <td>2.700941</td>\n",
       "      <td>2.23251</td>\n",
       "      <td>1.794172</td>\n",
       "      <td>-0.209419</td>\n",
       "    </tr>\n",
       "    <tr>\n",
       "      <th>Volatility</th>\n",
       "      <td>0.586739</td>\n",
       "      <td>0.544262</td>\n",
       "      <td>0.53003</td>\n",
       "      <td>0.748159</td>\n",
       "      <td>3.737514</td>\n",
       "    </tr>\n",
       "    <tr>\n",
       "      <th>Sharpe ratio</th>\n",
       "      <td>-0.084051</td>\n",
       "      <td>-0.086023</td>\n",
       "      <td>-0.086478</td>\n",
       "      <td>-0.070304</td>\n",
       "      <td>-0.163068</td>\n",
       "    </tr>\n",
       "    <tr>\n",
       "      <th>Sortino ratio</th>\n",
       "      <td>-0.107654</td>\n",
       "      <td>-0.105725</td>\n",
       "      <td>-0.107863</td>\n",
       "      <td>-0.089734</td>\n",
       "      <td>-0.26461</td>\n",
       "    </tr>\n",
       "    <tr>\n",
       "      <th>MDD</th>\n",
       "      <td>-36.39528</td>\n",
       "      <td>-25.425097</td>\n",
       "      <td>-21.940804</td>\n",
       "      <td>-32.459452</td>\n",
       "      <td>-81.847866</td>\n",
       "    </tr>\n",
       "  </tbody>\n",
       "</table>\n",
       "</div>"
      ],
      "text/plain": [
       "                       ^IXIC      ^GSPC       ^DJI       ^RUT       ^VIX\n",
       "Cumulative Returns  4.332319   2.700941    2.23251   1.794172  -0.209419\n",
       "Volatility          0.586739   0.544262    0.53003   0.748159   3.737514\n",
       "Sharpe ratio       -0.084051  -0.086023  -0.086478  -0.070304  -0.163068\n",
       "Sortino ratio      -0.107654  -0.105725  -0.107863  -0.089734   -0.26461\n",
       "MDD                -36.39528 -25.425097 -21.940804 -32.459452 -81.847866"
      ]
     },
     "execution_count": 18,
     "metadata": {},
     "output_type": "execute_result"
    }
   ],
   "source": [
    "Indices"
   ]
  },
  {
   "cell_type": "code",
   "execution_count": 19,
   "metadata": {
    "colab": {
     "base_uri": "https://localhost:8080/",
     "height": 206
    },
    "id": "X92oqo-AHVmH",
    "outputId": "85d4a704-7735-4a61-8f96-d52a49233d93"
   },
   "outputs": [
    {
     "data": {
      "text/html": [
       "<div>\n",
       "<style scoped>\n",
       "    .dataframe tbody tr th:only-of-type {\n",
       "        vertical-align: middle;\n",
       "    }\n",
       "\n",
       "    .dataframe tbody tr th {\n",
       "        vertical-align: top;\n",
       "    }\n",
       "\n",
       "    .dataframe thead th {\n",
       "        text-align: right;\n",
       "    }\n",
       "</style>\n",
       "<table border=\"1\" class=\"dataframe\">\n",
       "  <thead>\n",
       "    <tr style=\"text-align: right;\">\n",
       "      <th></th>\n",
       "      <th>GOOGL</th>\n",
       "      <th>AAPL</th>\n",
       "      <th>ASML</th>\n",
       "      <th>AMZN</th>\n",
       "      <th>HDB</th>\n",
       "    </tr>\n",
       "  </thead>\n",
       "  <tbody>\n",
       "    <tr>\n",
       "      <th>Cumulative Returns</th>\n",
       "      <td>5.865636</td>\n",
       "      <td>21.291745</td>\n",
       "      <td>17.513371</td>\n",
       "      <td>14.384054</td>\n",
       "      <td>4.379991</td>\n",
       "    </tr>\n",
       "    <tr>\n",
       "      <th>Volatility</th>\n",
       "      <td>0.750946</td>\n",
       "      <td>0.811878</td>\n",
       "      <td>0.829463</td>\n",
       "      <td>0.951916</td>\n",
       "      <td>0.783863</td>\n",
       "    </tr>\n",
       "    <tr>\n",
       "      <th>Sharpe ratio</th>\n",
       "      <td>-0.08458</td>\n",
       "      <td>-0.05937</td>\n",
       "      <td>-0.061774</td>\n",
       "      <td>-0.066884</td>\n",
       "      <td>-0.085858</td>\n",
       "    </tr>\n",
       "    <tr>\n",
       "      <th>Sortino ratio</th>\n",
       "      <td>-0.114983</td>\n",
       "      <td>-0.084448</td>\n",
       "      <td>-0.085006</td>\n",
       "      <td>-0.096433</td>\n",
       "      <td>-0.118214</td>\n",
       "    </tr>\n",
       "    <tr>\n",
       "      <th>MDD</th>\n",
       "      <td>-44.320051</td>\n",
       "      <td>-31.311466</td>\n",
       "      <td>-57.369031</td>\n",
       "      <td>-56.145263</td>\n",
       "      <td>-39.462686</td>\n",
       "    </tr>\n",
       "  </tbody>\n",
       "</table>\n",
       "</div>"
      ],
      "text/plain": [
       "                        GOOGL       AAPL       ASML       AMZN        HDB\n",
       "Cumulative Returns   5.865636  21.291745  17.513371  14.384054   4.379991\n",
       "Volatility           0.750946   0.811878   0.829463   0.951916   0.783863\n",
       "Sharpe ratio         -0.08458   -0.05937  -0.061774  -0.066884  -0.085858\n",
       "Sortino ratio       -0.114983  -0.084448  -0.085006  -0.096433  -0.118214\n",
       "MDD                -44.320051 -31.311466 -57.369031 -56.145263 -39.462686"
      ]
     },
     "execution_count": 19,
     "metadata": {},
     "output_type": "execute_result"
    }
   ],
   "source": [
    "Equities"
   ]
  },
  {
   "cell_type": "code",
   "execution_count": null,
   "metadata": {},
   "outputs": [],
   "source": []
  }
 ],
 "metadata": {
  "colab": {
   "provenance": []
  },
  "kernelspec": {
   "display_name": "Python 3 (ipykernel)",
   "language": "python",
   "name": "python3"
  },
  "language_info": {
   "codemirror_mode": {
    "name": "ipython",
    "version": 3
   },
   "file_extension": ".py",
   "mimetype": "text/x-python",
   "name": "python",
   "nbconvert_exporter": "python",
   "pygments_lexer": "ipython3",
   "version": "3.10.9"
  }
 },
 "nbformat": 4,
 "nbformat_minor": 1
}
