{
 "cells": [
  {
   "cell_type": "code",
   "execution_count": 14,
   "metadata": {},
   "outputs": [
    {
     "name": "stdout",
     "output_type": "stream",
     "text": [
      "[*********************100%***********************]  1 of 1 completed\n",
      "1.118652813452067\n",
      "268.0067799721897\n",
      "-18.76235646687192\n",
      "1.4817119312432807\n",
      "1.8137132616901646\n"
     ]
    }
   ],
   "source": [
    "import numpy as np\n",
    "import yfinance as yf\n",
    "gspc=yf.download(\"^GSPC\",start=\"2010-01-01\",end=\"2023-05-01\")\n",
    "gspc[\"DailyReturns\"]=gspc[\"Close\"].pct_change()*100\n",
    "volatility=np.std(gspc[\"DailyReturns\"])\n",
    "print(volatility)\n",
    "price=gspc[\"Close\"]\n",
    "cumreturn=((price[-1]-price[0])/price[0])*100\n",
    "print(cumreturn)\n",
    "r=gspc[\"DailyReturns\"]\n",
    "r.fillna(0.0, inplace=True)\n",
    "size=gspc.size\n",
    "creturn=(1+r).cumprod() \n",
    "peak=np.maximum.accumulate(creturn)\n",
    "dd=(creturn-peak)/peak\n",
    "mdd=dd.min()\n",
    "print(mdd)\n",
    "sharpe=(cumreturn*.9475)/(gspc[\"DailyReturns\"].std()*(size**0.5))\n",
    "print(sharpe)\n",
    "y=r[r<0]\n",
    "n=y.size\n",
    "sortino=(cumreturn*.9475)/(y.std()*(size**0.5))\n",
    "print(sortino)"
   ]
  },
  {
   "cell_type": "code",
   "execution_count": 70,
   "metadata": {},
   "outputs": [
    {
     "name": "stdout",
     "output_type": "stream",
     "text": [
      "[*********************100%***********************]  1 of 1 completed\n",
      "1.082189694529713\n",
      "222.16826482806985\n",
      "-1.0317052545022471\n",
      "1.2696732187973263\n",
      "1.534205614559341\n"
     ]
    }
   ],
   "source": [
    "import numpy as np\n",
    "import yfinance as yf\n",
    "gspc=yf.download(\"^DJI\",start=\"2010-01-01\",end=\"2023-05-01\")\n",
    "gspc[\"DailyReturns\"]=gspc[\"Close\"].pct_change()*100\n",
    "volatility=np.std(gspc[\"DailyReturns\"])\n",
    "print(volatility)\n",
    "price=gspc[\"Close\"]\n",
    "cumreturn=((price[-1]-price[0])/price[0])*100\n",
    "print(cumreturn)\n",
    "r=gspc[\"DailyReturns\"]\n",
    "r.fillna(0.0, inplace=True)\n",
    "creturn=(1+r).cumprod() \n",
    "peak=np.maximum.accumulate(creturn)\n",
    "dd=(creturn-peak)/peak\n",
    "mdd=dd.min()\n",
    "print(mdd)\n",
    "size=gspc.size\n",
    "sharpe=(cumreturn*.9475)/(gspc[\"DailyReturns\"].std()*(size**0.5))\n",
    "print(sharpe)\n",
    "y=r[r<0]\n",
    "n=y.size\n",
    "sortino=(cumreturn*.9475)/(y.std()*(size**0.5))\n",
    "print(sortino)"
   ]
  },
  {
   "cell_type": "code",
   "execution_count": 71,
   "metadata": {},
   "outputs": [
    {
     "name": "stdout",
     "output_type": "stream",
     "text": [
      "[*********************100%***********************]  1 of 1 completed\n",
      "1.2978321813332236\n",
      "429.65147121906807\n",
      "-410.2333625600658\n",
      "2.0474393986581276\n",
      "2.585380031808099\n"
     ]
    }
   ],
   "source": [
    "import numpy as np\n",
    "import yfinance as yf\n",
    "ixic=yf.download(\"^IXIC\",start=\"2010-01-01\",end=\"2023-05-01\")\n",
    "ixic[\"DailyReturns\"]=ixic[\"Close\"].pct_change()*100\n",
    "volatility=np.std(ixic[\"DailyReturns\"])\n",
    "print(volatility)\n",
    "price=ixic[\"Close\"]\n",
    "cumreturn=((price[-1]-price[0])/price[0])*100\n",
    "print(cumreturn)\n",
    "r=ixic[\"DailyReturns\"]\n",
    "r.fillna(0.0, inplace=True)\n",
    "creturn=(1+r).cumprod() \n",
    "peak=np.maximum.accumulate(creturn)\n",
    "dd=(creturn-peak)/peak\n",
    "mdd=dd.min()\n",
    "print(mdd)\n",
    "size=ixic.size\n",
    "sharpe=(cumreturn*.9475)/(ixic[\"DailyReturns\"].std()*(size**0.5))\n",
    "print(sharpe)\n",
    "y=r[r<0]\n",
    "n=y.size\n",
    "sortino=(cumreturn*.9475)/(y.std()*(size**0.5))\n",
    "print(sortino)"
   ]
  },
  {
   "cell_type": "code",
   "execution_count": 72,
   "metadata": {},
   "outputs": [
    {
     "name": "stdout",
     "output_type": "stream",
     "text": [
      "[*********************100%***********************]  1 of 1 completed\n",
      "1.1054899132199845\n",
      "112.18003348713816\n",
      "-18.873627355230376\n",
      "0.6275873189086378\n",
      "0.7664200118954378\n"
     ]
    }
   ],
   "source": [
    "import numpy as np\n",
    "import yfinance as yf\n",
    "nya=yf.download(\"^NYA\",start=\"2010-01-01\",end=\"2023-05-01\")\n",
    "nya[\"DailyReturns\"]=nya[\"Close\"].pct_change()*100\n",
    "volatility=np.std(nya[\"DailyReturns\"])\n",
    "print(volatility)\n",
    "price=nya[\"Close\"]\n",
    "cumreturn=((price[-1]-price[0])/price[0])*100\n",
    "print(cumreturn)\n",
    "r=nya[\"DailyReturns\"]\n",
    "r.fillna(0.0, inplace=True)\n",
    "creturn=(1+r).cumprod() \n",
    "peak=np.maximum.accumulate(creturn)\n",
    "dd=(creturn-peak)/peak\n",
    "mdd=dd.min()\n",
    "print(mdd)\n",
    "size=nya.size\n",
    "sharpe=(cumreturn*.9475)/(nya[\"DailyReturns\"].std()*(size**0.5))\n",
    "print(sharpe)\n",
    "y=r[r<0]\n",
    "n=y.size\n",
    "sortino=(cumreturn*.9475)/(y.std()*(size**0.5))\n",
    "print(sortino)"
   ]
  },
  {
   "cell_type": "code",
   "execution_count": 73,
   "metadata": {},
   "outputs": [
    {
     "name": "stdout",
     "output_type": "stream",
     "text": [
      "[*********************100%***********************]  1 of 1 completed\n",
      "1.2344310757702128\n",
      "126.55179065013573\n",
      "-1.369533035537085\n",
      "0.6340373272853654\n",
      "0.8075262274998413\n"
     ]
    }
   ],
   "source": [
    "import numpy as np\n",
    "import yfinance as yf\n",
    "xax=yf.download(\"^XAX\",start=\"2010-01-01\",end=\"2023-05-01\")\n",
    "xax[\"DailyReturns\"]=xax[\"Close\"].pct_change()*100\n",
    "volatility=np.std(xax[\"DailyReturns\"])\n",
    "print(volatility)\n",
    "price=xax[\"Close\"]\n",
    "cumreturn=((price[-1]-price[0])/price[0])*100\n",
    "print(cumreturn)\n",
    "r=xax[\"DailyReturns\"]\n",
    "r.fillna(0.0, inplace=True)\n",
    "creturn=(1+r).cumprod() \n",
    "peak=np.maximum.accumulate(creturn)\n",
    "dd=(creturn-peak)/peak\n",
    "mdd=dd.min()\n",
    "print(mdd)\n",
    "size=xax.size\n",
    "sharpe=(cumreturn*.9475)/(xax[\"DailyReturns\"].std()*(size**0.5))\n",
    "print(sharpe)\n",
    "y=r[r<0]\n",
    "n=y.size\n",
    "sortino=(cumreturn*.9475)/(y.std()*(size**0.5))\n",
    "print(sortino)"
   ]
  },
  {
   "cell_type": "code",
   "execution_count": 74,
   "metadata": {},
   "outputs": [
    {
     "name": "stdout",
     "output_type": "stream",
     "text": [
      "[*********************100%***********************]  1 of 1 completed\n",
      "1.8023676206515264\n",
      "2120.0083324068864\n",
      "-5372.383668647098\n",
      "7.2745708355004846\n",
      "10.174854793208155\n"
     ]
    }
   ],
   "source": [
    "import numpy as np\n",
    "import yfinance as yf\n",
    "apple=yf.download(\"AAPL\",start=\"2010-01-01\",end=\"2023-05-01\")\n",
    "apple[\"DailyReturns\"]=apple[\"Close\"].pct_change()*100\n",
    "volatility=np.std(apple[\"DailyReturns\"])\n",
    "print(volatility)\n",
    "price=apple[\"Close\"]\n",
    "cumreturn=((price[-1]-price[0])/price[0])*100\n",
    "print(cumreturn)\n",
    "r=apple[\"DailyReturns\"]\n",
    "r.fillna(0.0, inplace=True)\n",
    "creturn=(1+r).cumprod() \n",
    "peak=np.maximum.accumulate(creturn)\n",
    "dd=(creturn-peak)/peak\n",
    "mdd=dd.min()\n",
    "print(mdd)\n",
    "size=apple.size\n",
    "sharpe=(cumreturn*.9475)/(apple[\"DailyReturns\"].std()*(size**0.5))\n",
    "print(sharpe)\n",
    "y=r[r<0]\n",
    "n=y.size\n",
    "sortino=(cumreturn*.9475)/(y.std()*(size**0.5))\n",
    "print(sortino)"
   ]
  },
  {
   "cell_type": "code",
   "execution_count": 77,
   "metadata": {},
   "outputs": [
    {
     "name": "stdout",
     "output_type": "stream",
     "text": [
      "[*********************100%***********************]  1 of 1 completed\n",
      "2.089825078764858\n",
      "1475.0559259817699\n",
      "-8942.515109688167\n",
      "4.365277042804979\n",
      "6.232701623700285\n"
     ]
    }
   ],
   "source": [
    "import numpy as np\n",
    "import yfinance as yf\n",
    "amazon=yf.download(\"AMZN\",start=\"2010-01-01\",end=\"2023-05-01\")\n",
    "amazon[\"DailyReturns\"]=amazon[\"Close\"].pct_change()*100\n",
    "volatility=np.std(amazon[\"DailyReturns\"])\n",
    "print(volatility)\n",
    "price=amazon[\"Close\"]\n",
    "cumreturn=((price[-1]-price[0])/price[0])*100\n",
    "print(cumreturn)\n",
    "r=amazon[\"DailyReturns\"]\n",
    "r.fillna(0.0, inplace=True)\n",
    "creturn=(1+r).cumprod() \n",
    "peak=np.maximum.accumulate(creturn)\n",
    "dd=(creturn-peak)/peak\n",
    "mdd=dd.min()\n",
    "print(mdd)\n",
    "size=amazon.size\n",
    "sharpe=(cumreturn*.9475)/(amazon[\"DailyReturns\"].std()*(size**0.5))\n",
    "print(sharpe)\n",
    "y=r[r<0]\n",
    "n=y.size\n",
    "sortino=(cumreturn*.9475)/(y.std()*(size**0.5))\n",
    "print(sortino)"
   ]
  },
  {
   "cell_type": "code",
   "execution_count": 16,
   "metadata": {},
   "outputs": [
    {
     "name": "stdout",
     "output_type": "stream",
     "text": [
      "[*********************100%***********************]  1 of 1 completed\n",
      "3.25833603404091\n",
      "4218.455476983526\n",
      "-8848.734030789461\n",
      "8.007018884520404\n",
      "11.066686497914876\n"
     ]
    },
    {
     "name": "stderr",
     "output_type": "stream",
     "text": [
      "/Users/sparshgoyal/miniconda3/lib/python3.10/site-packages/numpy/core/fromnumeric.py:57: RuntimeWarning: overflow encountered in accumulate\n",
      "  return bound(*args, **kwds)\n"
     ]
    }
   ],
   "source": [
    "import numpy as np\n",
    "import yfinance as yf\n",
    "netflix=yf.download(\"NFLX\",start=\"2010-01-01\",end=\"2023-05-01\")\n",
    "netflix[\"DailyReturns\"]=netflix[\"Close\"].pct_change()*100\n",
    "volatility=np.std(netflix[\"DailyReturns\"])\n",
    "print(volatility)\n",
    "price=netflix[\"Close\"]\n",
    "cumreturn=((price[-1]-price[0])/price[0])*100\n",
    "print(cumreturn)\n",
    "r=netflix[\"DailyReturns\"]\n",
    "r.fillna(0.0, inplace=True)\n",
    "creturn=(1+r).cumprod() \n",
    "peak=np.maximum.accumulate(creturn)\n",
    "dd=(creturn-peak)/peak\n",
    "mdd=dd.min()\n",
    "print(mdd)\n",
    "size=netflix.size\n",
    "sharpe=(cumreturn*.9475)/(netflix[\"DailyReturns\"].std()*(size**0.5))\n",
    "print(sharpe)\n",
    "y=r[r<0]\n",
    "n=y.size\n",
    "sortino=(cumreturn*.9475)/(y.std()*(size**0.5))\n",
    "print(sortino)"
   ]
  },
  {
   "cell_type": "code",
   "execution_count": 79,
   "metadata": {},
   "outputs": [
    {
     "name": "stdout",
     "output_type": "stream",
     "text": [
      "[*********************100%***********************]  1 of 1 completed\n",
      "3.6140847750589447\n",
      "10216.657483960453\n",
      "-38915.62705273722\n",
      "17.810331130256124\n",
      "26.05602076909465\n"
     ]
    },
    {
     "name": "stderr",
     "output_type": "stream",
     "text": [
      "/Users/sparshgoyal/Desktop/venv/lib/python3.10/site-packages/numpy/core/fromnumeric.py:57: RuntimeWarning: overflow encountered in accumulate\n",
      "  return bound(*args, **kwds)\n"
     ]
    }
   ],
   "source": [
    "import numpy as np\n",
    "import yfinance as yf\n",
    "tesla=yf.download(\"TSLA\",start=\"2010-01-01\",end=\"2023-05-01\")\n",
    "tesla[\"DailyReturns\"]=tesla[\"Close\"].pct_change()*100\n",
    "volatility=np.std(tesla[\"DailyReturns\"])\n",
    "print(volatility)\n",
    "price=tesla[\"Close\"]\n",
    "cumreturn=((price[-1]-price[0])/price[0])*100\n",
    "print(cumreturn)\n",
    "r=tesla[\"DailyReturns\"]\n",
    "r.fillna(0.0, inplace=True)\n",
    "creturn=(1+r).cumprod()\n",
    "peak=np.maximum.accumulate(creturn)\n",
    "dd=(creturn-peak)/peak\n",
    "mdd=dd.min()\n",
    "print(mdd)\n",
    "size=tesla.size\n",
    "sharpe=(cumreturn*.9475)/(tesla[\"DailyReturns\"].std()*(size**0.5))\n",
    "print(sharpe)\n",
    "y=r[r<0]\n",
    "n=y.size\n",
    "sortino=(cumreturn*.9475)/(y.std()*(size**0.5))\n",
    "print(sortino)"
   ]
  },
  {
   "cell_type": "code",
   "execution_count": 80,
   "metadata": {},
   "outputs": [
    {
     "name": "stdout",
     "output_type": "stream",
     "text": [
      "[*********************100%***********************]  1 of 1 completed\n",
      "1.6481629157720694\n",
      "892.7625272744684\n",
      "-64.16784505831392\n",
      "3.3500329302851597\n",
      "4.690241311097207\n"
     ]
    }
   ],
   "source": [
    "import numpy as np\n",
    "import yfinance as yf\n",
    "microsoft=yf.download(\"MSFT\",start=\"2010-01-01\",end=\"2023-05-01\")\n",
    "microsoft[\"DailyReturns\"]=microsoft[\"Close\"].pct_change()*100\n",
    "volatility=np.std(microsoft[\"DailyReturns\"])\n",
    "print(volatility)\n",
    "price=microsoft[\"Close\"]\n",
    "cumreturn=((price[-1]-price[0])/price[0])*100\n",
    "print(cumreturn)\n",
    "r=microsoft[\"DailyReturns\"]\n",
    "r.fillna(0.0, inplace=True)\n",
    "creturn=(1+r).cumprod()\n",
    "peak=np.maximum.accumulate(creturn)\n",
    "dd=(creturn-peak)/peak\n",
    "mdd=dd.min()\n",
    "print(mdd)\n",
    "size=microsoft.size\n",
    "sharpe=(cumreturn*.9475)/(microsoft[\"DailyReturns\"].std()*(size**0.5))\n",
    "print(sharpe)\n",
    "y=r[r<0]\n",
    "n=y.size\n",
    "sortino=(cumreturn*.9475)/(y.std()*(size**0.5))\n",
    "print(sortino)"
   ]
  }
 ],
 "metadata": {
  "kernelspec": {
   "display_name": "venv",
   "language": "python",
   "name": "python3"
  },
  "language_info": {
   "codemirror_mode": {
    "name": "ipython",
    "version": 3
   },
   "file_extension": ".py",
   "mimetype": "text/x-python",
   "name": "python",
   "nbconvert_exporter": "python",
   "pygments_lexer": "ipython3",
   "version": "3.10.10"
  },
  "orig_nbformat": 4
 },
 "nbformat": 4,
 "nbformat_minor": 2
}
