{
 "cells": [
  {
   "cell_type": "code",
   "execution_count": 1,
   "id": "42a2fbaf",
   "metadata": {},
   "outputs": [],
   "source": [
    "import yfinance as yf\n",
    "import pandas as pd\n",
    "from statistics import mean, stdev\n",
    "from math import sqrt"
   ]
  },
  {
   "cell_type": "code",
   "execution_count": 2,
   "id": "af44e7ed",
   "metadata": {},
   "outputs": [],
   "source": [
    "equities = ['BABA', 'NSRGF', 'SSNLF', 'TM', 'MELI']\n",
    "indices = ['^GSPC', '^DJI', '^IXIC', '^NYA', '^RUT']\n",
    "equities_rfr = [0.03489, 0.01230, 0.03448, 0.00385, 0.03530]\n",
    "indices_rfr = [0.05250, 0.05250, 0.05250, 0.05250, 0.05250]"
   ]
  },
  {
   "cell_type": "code",
   "execution_count": 3,
   "id": "05332aec",
   "metadata": {},
   "outputs": [],
   "source": [
    "equities_results = []\n",
    "indices_results = []\n",
    "equity_data = {}\n",
    "index_data = {}"
   ]
  },
  {
   "cell_type": "code",
   "execution_count": 4,
   "id": "2a28d0b0",
   "metadata": {},
   "outputs": [
    {
     "name": "stdout",
     "output_type": "stream",
     "text": [
      "[*********************100%***********************]  1 of 1 completed\n",
      "[*********************100%***********************]  1 of 1 completed\n",
      "[*********************100%***********************]  1 of 1 completed\n",
      "[*********************100%***********************]  1 of 1 completed\n",
      "[*********************100%***********************]  1 of 1 completed\n"
     ]
    },
    {
     "data": {
      "text/plain": [
       "{'BABA':                  Open       High        Low      Close  Adj Close     Volume\n",
       " Date                                                                        \n",
       " 2014-09-19  92.699997  99.699997  89.949997  93.889999  93.889999  271879400\n",
       " 2014-09-22  92.699997  92.949997  89.500000  89.889999  89.889999   66657800\n",
       " 2014-09-23  88.940002  90.480003  86.620003  87.169998  87.169998   39009800\n",
       " 2014-09-24  88.470001  90.570000  87.220001  90.570000  90.570000   32088000\n",
       " 2014-09-25  91.089996  91.500000  88.500000  88.919998  88.919998   28598000\n",
       " ...               ...        ...        ...        ...        ...        ...\n",
       " 2023-04-24  88.400002  88.480003  86.040001  86.889999  86.889999   22757100\n",
       " 2023-04-25  85.320000  85.699997  82.211998  82.919998  82.919998   36441300\n",
       " 2023-04-26  85.040001  85.220001  82.760002  82.820000  82.820000   24983000\n",
       " 2023-04-27  83.070000  84.639999  82.639999  84.470001  84.470001   24506800\n",
       " 2023-04-28  84.180000  85.080002  83.870003  84.690002  84.690002   18109300\n",
       " \n",
       " [2167 rows x 6 columns],\n",
       " 'NSRGF':                   Open        High         Low       Close   Adj Close  Volume\n",
       " Date                                                                          \n",
       " 2010-01-04   49.000000   49.650002   49.000000   49.400002   40.686214    7800\n",
       " 2010-01-05   48.549999   48.549999   48.090000   48.099998   39.615520    3300\n",
       " 2010-01-06   47.660000   47.849998   47.330002   47.849998   39.409618   11700\n",
       " 2010-01-07   47.200001   47.360001   46.900002   47.000000   38.709553    4900\n",
       " 2010-01-08   47.590000   48.250000   47.150002   48.250000   39.739063   11000\n",
       " ...                ...         ...         ...         ...         ...     ...\n",
       " 2023-04-24  128.830002  130.029999  127.879997  129.199997  129.199997    1500\n",
       " 2023-04-25  128.580002  130.500000  127.500000  127.500000  127.500000    8600\n",
       " 2023-04-26  128.649994  129.679993  128.639999  128.639999  128.639999   14600\n",
       " 2023-04-27  127.910004  127.910004  126.250000  127.180000  127.180000    8100\n",
       " 2023-04-28  127.720001  128.690002  127.489998  128.059998  128.059998    1500\n",
       " \n",
       " [3353 rows x 6 columns],\n",
       " 'SSNLF':                  Open       High        Low      Close     Adj Close  Volume\n",
       " Date                                                                        \n",
       " 2010-10-11  13.200000  13.200000  13.200000  13.200000  3.250611e+27    2500\n",
       " 2010-10-12  13.200000  13.200000  13.200000  13.200000  3.250611e+27       0\n",
       " 2010-10-13  13.200000  13.200000  13.200000  13.200000  3.250611e+27    2500\n",
       " 2010-10-14  13.200000  13.200000  13.200000  13.200000  3.250611e+27       0\n",
       " 2010-10-15  13.200000  13.200000  13.200000  13.200000  3.250611e+27       0\n",
       " ...               ...        ...        ...        ...           ...     ...\n",
       " 2023-04-24  40.599899  40.599899  40.599899  40.599899  4.059990e+01       0\n",
       " 2023-04-25  40.599899  40.599899  40.599899  40.599899  4.059990e+01       0\n",
       " 2023-04-26  40.599899  40.599899  40.599899  40.599899  4.059990e+01       0\n",
       " 2023-04-27  40.599899  40.599899  40.599899  40.599899  4.059990e+01       0\n",
       " 2023-04-28  40.599899  40.599899  40.599899  40.599899  4.059990e+01       0\n",
       " \n",
       " [3159 rows x 6 columns],\n",
       " 'TM':                   Open        High         Low       Close   Adj Close  Volume\n",
       " Date                                                                          \n",
       " 2010-01-04   84.750000   85.169998   84.709999   85.080002   72.314583  258800\n",
       " 2010-01-05   83.169998   83.900002   83.010002   83.769997   71.201126  466000\n",
       " 2010-01-06   84.349998   85.070000   84.199997   84.839996   72.110588  390000\n",
       " 2010-01-07   83.110001   83.839996   83.110001   83.790001   71.218124  377700\n",
       " 2010-01-08   84.500000   85.889999   84.500000   85.760002   72.892548  351900\n",
       " ...                ...         ...         ...         ...         ...     ...\n",
       " 2023-04-24  134.050003  134.970001  133.889999  134.839996  134.839996  222300\n",
       " 2023-04-25  134.750000  134.940002  133.460007  133.509995  133.509995  257100\n",
       " 2023-04-26  134.490005  134.990005  133.880005  134.020004  134.020004  324000\n",
       " 2023-04-27  135.759995  137.839996  135.759995  137.520004  137.520004  323600\n",
       " 2023-04-28  136.619995  137.339996  136.289993  137.330002  137.330002  300000\n",
       " \n",
       " [3353 rows x 6 columns],\n",
       " 'MELI':                    Open         High          Low        Close    Adj Close  \\\n",
       " Date                                                                          \n",
       " 2010-01-04    50.900002    50.900002    48.730000    50.590000    49.021591   \n",
       " 2010-01-05    50.549999    52.040001    49.900002    51.880001    50.271591   \n",
       " 2010-01-06    51.880001    52.400002    51.020000    51.270000    49.680515   \n",
       " 2010-01-07    51.110001    51.619999    49.279999    50.259998    48.701820   \n",
       " 2010-01-08    50.000000    51.000000    49.990002    50.509998    48.944065   \n",
       " ...                 ...          ...          ...          ...          ...   \n",
       " 2023-04-24  1282.000000  1285.989990  1252.130005  1273.619995  1273.619995   \n",
       " 2023-04-25  1261.780029  1262.310059  1227.579956  1229.550049  1229.550049   \n",
       " 2023-04-26  1241.959961  1259.989990  1232.920044  1235.630005  1235.630005   \n",
       " 2023-04-27  1257.969971  1257.969971  1233.719971  1244.920044  1244.920044   \n",
       " 2023-04-28  1248.380005  1294.270020  1237.250000  1277.489990  1277.489990   \n",
       " \n",
       "             Volume  \n",
       " Date                \n",
       " 2010-01-04  978400  \n",
       " 2010-01-05  516800  \n",
       " 2010-01-06  402100  \n",
       " 2010-01-07  479800  \n",
       " 2010-01-08  345500  \n",
       " ...            ...  \n",
       " 2023-04-24  316600  \n",
       " 2023-04-25  341400  \n",
       " 2023-04-26  315700  \n",
       " 2023-04-27  300900  \n",
       " 2023-04-28  446200  \n",
       " \n",
       " [3353 rows x 6 columns]}"
      ]
     },
     "execution_count": 4,
     "metadata": {},
     "output_type": "execute_result"
    }
   ],
   "source": [
    "for equity in equities:\n",
    "    equity_data[equity] = yf.download(equity, start=\"2010-01-01\", end=\"2023-05-01\")\n",
    "equity_data"
   ]
  },
  {
   "cell_type": "code",
   "execution_count": 5,
   "id": "84598832",
   "metadata": {},
   "outputs": [
    {
     "name": "stdout",
     "output_type": "stream",
     "text": [
      "[*********************100%***********************]  1 of 1 completed\n",
      "[*********************100%***********************]  1 of 1 completed\n",
      "[*********************100%***********************]  1 of 1 completed\n",
      "[*********************100%***********************]  1 of 1 completed\n",
      "[*********************100%***********************]  1 of 1 completed\n"
     ]
    },
    {
     "data": {
      "text/plain": [
       "{'^GSPC':                    Open         High          Low        Close    Adj Close  \\\n",
       " Date                                                                          \n",
       " 2010-01-04  1116.560059  1133.869995  1116.560059  1132.989990  1132.989990   \n",
       " 2010-01-05  1132.660034  1136.630005  1129.660034  1136.520020  1136.520020   \n",
       " 2010-01-06  1135.709961  1139.189941  1133.949951  1137.140015  1137.140015   \n",
       " 2010-01-07  1136.270020  1142.459961  1131.319946  1141.689941  1141.689941   \n",
       " 2010-01-08  1140.520020  1145.390015  1136.219971  1144.979980  1144.979980   \n",
       " ...                 ...          ...          ...          ...          ...   \n",
       " 2023-04-24  4132.069824  4142.410156  4117.770020  4137.040039  4137.040039   \n",
       " 2023-04-25  4126.430176  4126.430176  4071.379883  4071.629883  4071.629883   \n",
       " 2023-04-26  4087.780029  4089.669922  4049.350098  4055.989990  4055.989990   \n",
       " 2023-04-27  4075.290039  4138.240234  4075.290039  4135.350098  4135.350098   \n",
       " 2023-04-28  4129.629883  4170.060059  4127.180176  4169.479980  4169.479980   \n",
       " \n",
       "                 Volume  \n",
       " Date                    \n",
       " 2010-01-04  3991400000  \n",
       " 2010-01-05  2491020000  \n",
       " 2010-01-06  4972660000  \n",
       " 2010-01-07  5270680000  \n",
       " 2010-01-08  4389590000  \n",
       " ...                ...  \n",
       " 2023-04-24  3290940000  \n",
       " 2023-04-25  3978640000  \n",
       " 2023-04-26  3837030000  \n",
       " 2023-04-27  3750550000  \n",
       " 2023-04-28  4087800000  \n",
       " \n",
       " [3352 rows x 6 columns],\n",
       " '^DJI':                     Open          High           Low         Close  \\\n",
       " Date                                                                 \n",
       " 2010-01-04  10430.690430  10604.969727  10430.690430  10583.959961   \n",
       " 2010-01-05  10584.559570  10584.559570  10522.519531  10572.019531   \n",
       " 2010-01-06  10564.719727  10594.990234  10546.549805  10573.679688   \n",
       " 2010-01-07  10571.110352  10612.370117  10505.209961  10606.860352   \n",
       " 2010-01-08  10606.400391  10619.400391  10554.330078  10618.190430   \n",
       " ...                  ...           ...           ...           ...   \n",
       " 2023-04-24  33805.039062  33891.148438  33726.089844  33875.398438   \n",
       " 2023-04-25  33828.339844  33875.488281  33525.390625  33530.828125   \n",
       " 2023-04-26  33596.339844  33645.828125  33235.851562  33301.871094   \n",
       " 2023-04-27  33381.660156  33859.750000  33374.648438  33826.160156   \n",
       " 2023-04-28  33797.429688  34104.558594  33728.398438  34098.160156   \n",
       " \n",
       "                Adj Close     Volume  \n",
       " Date                                 \n",
       " 2010-01-04  10583.959961  179780000  \n",
       " 2010-01-05  10572.019531  188540000  \n",
       " 2010-01-06  10573.679688  186040000  \n",
       " 2010-01-07  10606.860352  217390000  \n",
       " 2010-01-08  10618.190430  172710000  \n",
       " ...                  ...        ...  \n",
       " 2023-04-24  33875.398438  252020000  \n",
       " 2023-04-25  33530.828125  297880000  \n",
       " 2023-04-26  33301.871094  321170000  \n",
       " 2023-04-27  33826.160156  343240000  \n",
       " 2023-04-28  34098.160156  354310000  \n",
       " \n",
       " [3353 rows x 6 columns],\n",
       " '^IXIC':                     Open          High           Low         Close  \\\n",
       " Date                                                                 \n",
       " 2010-01-04   2294.409912   2311.149902   2294.409912   2308.419922   \n",
       " 2010-01-05   2307.270020   2313.729980   2295.620117   2308.709961   \n",
       " 2010-01-06   2307.709961   2314.070068   2295.679932   2301.090088   \n",
       " 2010-01-07   2298.090088   2301.300049   2285.219971   2300.050049   \n",
       " 2010-01-08   2292.239990   2317.600098   2290.610107   2317.169922   \n",
       " ...                  ...           ...           ...           ...   \n",
       " 2023-04-24  12053.469727  12103.580078  11960.299805  12037.200195   \n",
       " 2023-04-25  11968.809570  11990.459961  11798.769531  11799.160156   \n",
       " 2023-04-26  11913.230469  11967.990234  11833.070312  11854.349609   \n",
       " 2023-04-27  11972.150391  12154.009766  11950.919922  12142.240234   \n",
       " 2023-04-28  12117.540039  12227.719727  12082.570312  12226.580078   \n",
       " \n",
       "                Adj Close      Volume  \n",
       " Date                                  \n",
       " 2010-01-04   2308.419922  1931380000  \n",
       " 2010-01-05   2308.709961  2367860000  \n",
       " 2010-01-06   2301.090088  2253340000  \n",
       " 2010-01-07   2300.050049  2270050000  \n",
       " 2010-01-08   2317.169922  2145390000  \n",
       " ...                  ...         ...  \n",
       " 2023-04-24  12037.200195  4854050000  \n",
       " 2023-04-25  11799.160156  4806020000  \n",
       " 2023-04-26  11854.349609  5281970000  \n",
       " 2023-04-27  12142.240234  5253710000  \n",
       " 2023-04-28  12226.580078  5331380000  \n",
       " \n",
       " [3353 rows x 6 columns],\n",
       " '^NYA':                     Open          High           Low         Close  \\\n",
       " Date                                                                 \n",
       " 2010-01-04   7184.979980   7331.120117   7184.979980   7326.740234   \n",
       " 2010-01-05   7326.740234   7359.459961   7313.600098   7354.870117   \n",
       " 2010-01-06   7354.850098   7389.279785   7342.490234   7377.700195   \n",
       " 2010-01-07   7377.700195   7398.209961   7325.509766   7393.930176   \n",
       " 2010-01-08   7393.930176   7426.410156   7367.810059   7425.350098   \n",
       " ...                  ...           ...           ...           ...   \n",
       " 2023-04-24  15578.929688  15623.040039  15557.730469  15606.709961   \n",
       " 2023-04-25  15606.709961  15606.709961  15361.570312  15363.530273   \n",
       " 2023-04-26  15363.530273  15363.530273  15201.099609  15228.580078   \n",
       " 2023-04-27  15228.580078  15443.059570  15228.580078  15431.639648   \n",
       " 2023-04-28  15431.639648  15560.009766  15371.450195  15545.879883   \n",
       " \n",
       "                Adj Close      Volume  \n",
       " Date                                  \n",
       " 2010-01-04   7326.740234  3991400000  \n",
       " 2010-01-05   7354.870117  2491020000  \n",
       " 2010-01-06   7377.700195  4972660000  \n",
       " 2010-01-07   7393.930176  5270680000  \n",
       " 2010-01-08   7425.350098  4389590000  \n",
       " ...                  ...         ...  \n",
       " 2023-04-24  15606.709961  3290940000  \n",
       " 2023-04-25  15363.530273  3978640000  \n",
       " 2023-04-26  15228.580078  3837030000  \n",
       " 2023-04-27  15431.639648  3750550000  \n",
       " 2023-04-28  15545.879883  4087800000  \n",
       " \n",
       " [3353 rows x 6 columns],\n",
       " '^RUT':                    Open         High          Low        Close    Adj Close  \\\n",
       " Date                                                                          \n",
       " 2010-01-04   628.109985   640.099976   628.109985   640.099976   640.099976   \n",
       " 2010-01-05   639.690002   641.890015   635.950012   638.489990   638.489990   \n",
       " 2010-01-06   638.289978   641.260010   636.400024   637.950012   637.950012   \n",
       " 2010-01-07   638.109985   642.070007   632.739990   641.969971   641.969971   \n",
       " 2010-01-08   640.340027   644.690002   639.559998   644.559998   644.559998   \n",
       " ...                 ...          ...          ...          ...          ...   \n",
       " 2023-04-24  1790.250000  1797.609985  1781.670044  1788.869995  1788.869995   \n",
       " 2023-04-25  1779.329956  1779.329956  1745.910034  1745.949951  1745.949951   \n",
       " 2023-04-26  1741.290039  1747.280029  1725.819946  1730.410034  1730.410034   \n",
       " 2023-04-27  1733.400024  1752.000000  1726.770020  1751.219971  1751.219971   \n",
       " 2023-04-28  1749.849976  1773.020020  1746.839966  1768.989990  1768.989990   \n",
       " \n",
       "                 Volume  \n",
       " Date                    \n",
       " 2010-01-04  3991400000  \n",
       " 2010-01-05  2491020000  \n",
       " 2010-01-06  4972660000  \n",
       " 2010-01-07  5270680000  \n",
       " 2010-01-08  4389590000  \n",
       " ...                ...  \n",
       " 2023-04-24  3290940000  \n",
       " 2023-04-25  3978640000  \n",
       " 2023-04-26  3837030000  \n",
       " 2023-04-27  3750550000  \n",
       " 2023-04-28  4087800000  \n",
       " \n",
       " [3353 rows x 6 columns]}"
      ]
     },
     "execution_count": 5,
     "metadata": {},
     "output_type": "execute_result"
    }
   ],
   "source": [
    "for index in indices:\n",
    "    index_data[index] = yf.download(index, start=\"2010-01-01\", end=\"2023-05-01\")\n",
    "index_data"
   ]
  },
  {
   "cell_type": "code",
   "execution_count": 6,
   "id": "59ed369e",
   "metadata": {},
   "outputs": [
    {
     "data": {
      "text/plain": [
       "[-0.09798697420437416,\n",
       " 2.1475033816513895,\n",
       " -1.0,\n",
       " 0.8990637360647881,\n",
       " 25.059741418299183]"
      ]
     },
     "execution_count": 6,
     "metadata": {},
     "output_type": "execute_result"
    }
   ],
   "source": [
    "cumulative_returns = []\n",
    "for equity in equities:\n",
    "    initial_value = equity_data[equity].iloc[0]['Adj Close']\n",
    "    final_value = equity_data[equity].iloc[-1]['Adj Close']\n",
    "    cumulative_return = (final_value-initial_value)/initial_value\n",
    "    cumulative_returns.append(cumulative_return)\n",
    "equities_results.append(cumulative_returns)\n",
    "cumulative_returns"
   ]
  },
  {
   "cell_type": "code",
   "execution_count": 7,
   "id": "130d3bcc",
   "metadata": {},
   "outputs": [
    {
     "data": {
      "text/plain": [
       "[2.680067799721897,\n",
       " 2.2216826482806984,\n",
       " 4.296514712190681,\n",
       " 1.1218003348713816,\n",
       " 1.7636151502975286]"
      ]
     },
     "execution_count": 7,
     "metadata": {},
     "output_type": "execute_result"
    }
   ],
   "source": [
    "cumulative_returns = []\n",
    "for index in indices:\n",
    "    initial_value = index_data[index].iloc[0]['Adj Close']\n",
    "    final_value = index_data[index].iloc[-1]['Adj Close']\n",
    "    cumulative_return = (final_value-initial_value)/initial_value\n",
    "    cumulative_returns.append(cumulative_return)\n",
    "indices_results.append(cumulative_returns)\n",
    "cumulative_returns"
   ]
  },
  {
   "cell_type": "code",
   "execution_count": 8,
   "id": "dcb1cf26",
   "metadata": {},
   "outputs": [
    {
     "data": {
      "text/plain": [
       "[0.4231934482444529,\n",
       " 0.19050018924146211,\n",
       " 3.0427765316619833,\n",
       " 0.218704025383262,\n",
       " 0.4815937032552965]"
      ]
     },
     "execution_count": 8,
     "metadata": {},
     "output_type": "execute_result"
    }
   ],
   "source": [
    "volatilities = []\n",
    "for equity in equities:\n",
    "    daily_returns = []\n",
    "    hist = equity_data[equity]\n",
    "    rows = hist.shape[0]\n",
    "    for i in range(1, rows):\n",
    "        daily_return = (hist.iloc[i]['Adj Close']-hist.iloc[i-1]['Adj Close'])/hist.iloc[i-1]['Adj Close']\n",
    "        daily_returns.append(daily_return)\n",
    "    volatility = stdev(daily_returns)*sqrt(252)\n",
    "    volatilities.append(volatility)\n",
    "equities_results.append(volatilities)\n",
    "volatilities"
   ]
  },
  {
   "cell_type": "code",
   "execution_count": 9,
   "id": "3103971c",
   "metadata": {},
   "outputs": [
    {
     "data": {
      "text/plain": [
       "[0.17763375397755723,\n",
       " 0.17181791926369078,\n",
       " 0.2060552101700032,\n",
       " 0.17551726616561375,\n",
       " 0.23003178682643666]"
      ]
     },
     "execution_count": 9,
     "metadata": {},
     "output_type": "execute_result"
    }
   ],
   "source": [
    "volatilities = []\n",
    "for index in indices:\n",
    "    daily_returns = []\n",
    "    hist = index_data[index]\n",
    "    rows = hist.shape[0]\n",
    "    for i in range(1, rows):\n",
    "        daily_return = (hist.iloc[i]['Adj Close']-hist.iloc[i-1]['Adj Close'])/hist.iloc[i-1]['Adj Close']\n",
    "        daily_returns.append(daily_return)\n",
    "    volatility = stdev(daily_returns)*sqrt(252)\n",
    "    volatilities.append(volatility)\n",
    "indices_results.append(volatilities)\n",
    "volatilities"
   ]
  },
  {
   "cell_type": "code",
   "execution_count": 10,
   "id": "225398e6",
   "metadata": {},
   "outputs": [
    {
     "data": {
      "text/plain": [
       "[0.0060768884886884,\n",
       " 0.03044400373446715,\n",
       " -0.03705812253772435,\n",
       " 0.019665768186406776,\n",
       " 0.04242081834927333]"
      ]
     },
     "execution_count": 10,
     "metadata": {},
     "output_type": "execute_result"
    }
   ],
   "source": [
    "sharpe_ratios = []\n",
    "for equity, equity_rfr in zip(equities, equities_rfr):\n",
    "    daily_returns = []\n",
    "    hist = equity_data[equity]\n",
    "    rows = hist.shape[0]\n",
    "    for i in range(1, rows):\n",
    "        daily_return = (hist.iloc[i]['Adj Close']-hist.iloc[i-1]['Adj Close'])/hist.iloc[i-1]['Adj Close']\n",
    "        daily_returns.append(daily_return)\n",
    "    expected_return = mean(daily_returns)\n",
    "    std = stdev(daily_returns)\n",
    "    sharpe_ratio = (expected_return - equity_rfr/252)/std\n",
    "    sharpe_ratios.append(sharpe_ratio)\n",
    "equities_results.append(sharpe_ratios)\n",
    "sharpe_ratios"
   ]
  },
  {
   "cell_type": "code",
   "execution_count": 11,
   "id": "7d88c6eb",
   "metadata": {},
   "outputs": [
    {
     "data": {
      "text/plain": [
       "[0.021752282921790392,\n",
       " 0.018438641970709872,\n",
       " 0.02878732865740035,\n",
       " 0.007014532624766684,\n",
       " 0.01384158807133475]"
      ]
     },
     "execution_count": 11,
     "metadata": {},
     "output_type": "execute_result"
    }
   ],
   "source": [
    "sharpe_ratios = []\n",
    "for index, index_rfr in zip(indices, indices_rfr):\n",
    "    daily_returns = []\n",
    "    hist = index_data[index]\n",
    "    rows = hist.shape[0]\n",
    "    for i in range(1, rows):\n",
    "        daily_return = (hist.iloc[i]['Adj Close']-hist.iloc[i-1]['Adj Close'])/hist.iloc[i-1]['Adj Close']\n",
    "        daily_returns.append(daily_return)\n",
    "    expected_return = mean(daily_returns)\n",
    "    std = stdev(daily_returns)\n",
    "    sharpe_ratio = (expected_return - index_rfr/252)/std\n",
    "    sharpe_ratios.append(sharpe_ratio)\n",
    "indices_results.append(sharpe_ratios)\n",
    "sharpe_ratios"
   ]
  },
  {
   "cell_type": "code",
   "execution_count": 12,
   "id": "5472eea0",
   "metadata": {},
   "outputs": [
    {
     "data": {
      "text/plain": [
       "[0.009540194821883837,\n",
       " 0.04491801530532525,\n",
       " -0.013581012469964338,\n",
       " 0.029430313006224167,\n",
       " 0.06334535131800235]"
      ]
     },
     "execution_count": 12,
     "metadata": {},
     "output_type": "execute_result"
    }
   ],
   "source": [
    "sortino_ratios = []\n",
    "for equity, equity_rfr in zip(equities, equities_rfr):\n",
    "    daily_returns = []\n",
    "    hist = equity_data[equity]\n",
    "    rows = hist.shape[0]\n",
    "    for i in range(1, rows):\n",
    "        daily_return = (hist.iloc[i]['Adj Close']-hist.iloc[i-1]['Adj Close'])/hist.iloc[i-1]['Adj Close']\n",
    "        daily_returns.append(daily_return)\n",
    "    expected_return = mean(daily_returns)\n",
    "    negative_returns = [retrn for retrn in daily_returns if retrn < 0]\n",
    "    std = stdev(negative_returns)\n",
    "    sortino_ratio = (expected_return - equity_rfr/252)/std\n",
    "    sortino_ratios.append(sortino_ratio)\n",
    "equities_results.append(sortino_ratios)\n",
    "sortino_ratios"
   ]
  },
  {
   "cell_type": "code",
   "execution_count": 13,
   "id": "fc8b3c51",
   "metadata": {},
   "outputs": [
    {
     "data": {
      "text/plain": [
       "[0.02663139123173904,\n",
       " 0.02228359410734883,\n",
       " 0.036356273425738904,\n",
       " 0.008567540452015162,\n",
       " 0.018052018778782777]"
      ]
     },
     "execution_count": 13,
     "metadata": {},
     "output_type": "execute_result"
    }
   ],
   "source": [
    "sortino_ratios = []\n",
    "for index, index_rfr in zip(indices, indices_rfr):\n",
    "    daily_returns = []\n",
    "    hist = index_data[index]\n",
    "    rows = hist.shape[0]\n",
    "    for i in range(1, rows):\n",
    "        daily_return = (hist.iloc[i]['Adj Close']-hist.iloc[i-1]['Adj Close'])/hist.iloc[i-1]['Adj Close']\n",
    "        daily_returns.append(daily_return)\n",
    "    expected_return = mean(daily_returns)\n",
    "    negative_returns = [retrn for retrn in daily_returns if retrn < 0]\n",
    "    std = stdev(negative_returns)\n",
    "    sortino_ratio = (expected_return - index_rfr/252)/std\n",
    "    sortino_ratios.append(sortino_ratio)\n",
    "indices_results.append(sortino_ratios)\n",
    "sortino_ratios"
   ]
  },
  {
   "cell_type": "code",
   "execution_count": 14,
   "id": "eb21bf1e",
   "metadata": {},
   "outputs": [
    {
     "data": {
      "text/plain": [
       "[-0.8008765888597085,\n",
       " -0.25444181182531617,\n",
       " -1.5130570698843429,\n",
       " -0.3835927695702619,\n",
       " -0.6912323378248619]"
      ]
     },
     "execution_count": 14,
     "metadata": {},
     "output_type": "execute_result"
    }
   ],
   "source": [
    "max_drawdowns = []\n",
    "for equity in equities:\n",
    "    hist = equity_data[equity]\n",
    "    rows = hist.shape[0]\n",
    "    start = hist.iloc[0]['Adj Close']\n",
    "    max_drawdown = 0\n",
    "    for i in range(1, rows):\n",
    "        max_drawdown = min(max_drawdown, (hist.iloc[i]['Adj Close'] - start)/start)\n",
    "        start = max(start, hist.iloc[i]['Adj Close'])\n",
    "    max_drawdowns.append(max_drawdown)\n",
    "equities_results.append(max_drawdowns)\n",
    "max_drawdowns"
   ]
  },
  {
   "cell_type": "code",
   "execution_count": 15,
   "id": "9186f100",
   "metadata": {},
   "outputs": [
    {
     "data": {
      "text/plain": [
       "[-0.3392496000265327,\n",
       " -0.37086171369594323,\n",
       " -0.36395279909120204,\n",
       " -0.3811424952096922,\n",
       " -0.4306132568464563]"
      ]
     },
     "execution_count": 15,
     "metadata": {},
     "output_type": "execute_result"
    }
   ],
   "source": [
    "max_drawdowns = []\n",
    "for index in indices:\n",
    "    hist = index_data[index]\n",
    "    rows = hist.shape[0]\n",
    "    start = hist.iloc[0]['Adj Close']\n",
    "    max_drawdown = 0\n",
    "    for i in range(1, rows):\n",
    "        max_drawdown = min(max_drawdown, (hist.iloc[i]['Adj Close'] - start)/start)\n",
    "        start = max(start, hist.iloc[i]['Adj Close'])\n",
    "    max_drawdowns.append(max_drawdown)\n",
    "indices_results.append(max_drawdowns)\n",
    "max_drawdowns"
   ]
  },
  {
   "cell_type": "code",
   "execution_count": 16,
   "id": "2728306f",
   "metadata": {},
   "outputs": [
    {
     "data": {
      "text/plain": [
       "[[-0.09798697420437416,\n",
       "  2.1475033816513895,\n",
       "  -1.0,\n",
       "  0.8990637360647881,\n",
       "  25.059741418299183],\n",
       " [0.4231934482444529,\n",
       "  0.19050018924146211,\n",
       "  3.0427765316619833,\n",
       "  0.218704025383262,\n",
       "  0.4815937032552965],\n",
       " [0.0060768884886884,\n",
       "  0.03044400373446715,\n",
       "  -0.03705812253772435,\n",
       "  0.019665768186406776,\n",
       "  0.04242081834927333],\n",
       " [0.009540194821883837,\n",
       "  0.04491801530532525,\n",
       "  -0.013581012469964338,\n",
       "  0.029430313006224167,\n",
       "  0.06334535131800235],\n",
       " [-0.8008765888597085,\n",
       "  -0.25444181182531617,\n",
       "  -1.5130570698843429,\n",
       "  -0.3835927695702619,\n",
       "  -0.6912323378248619]]"
      ]
     },
     "execution_count": 16,
     "metadata": {},
     "output_type": "execute_result"
    }
   ],
   "source": [
    "equities_results"
   ]
  },
  {
   "cell_type": "code",
   "execution_count": 17,
   "id": "699f017e",
   "metadata": {},
   "outputs": [],
   "source": [
    "rows = ['Cumulative Return', 'Volatility', 'Sharpe Ratio', 'Sortino Ratio', 'Max Drawdown']\n",
    "Equities_results = pd.DataFrame(equities_results, index=rows, columns=equities)\n",
    "Indices_results = pd.DataFrame(indices_results, index=rows, columns=indices)"
   ]
  },
  {
   "cell_type": "code",
   "execution_count": 18,
   "id": "bb98384e",
   "metadata": {},
   "outputs": [
    {
     "data": {
      "text/html": [
       "<div>\n",
       "<style scoped>\n",
       "    .dataframe tbody tr th:only-of-type {\n",
       "        vertical-align: middle;\n",
       "    }\n",
       "\n",
       "    .dataframe tbody tr th {\n",
       "        vertical-align: top;\n",
       "    }\n",
       "\n",
       "    .dataframe thead th {\n",
       "        text-align: right;\n",
       "    }\n",
       "</style>\n",
       "<table border=\"1\" class=\"dataframe\">\n",
       "  <thead>\n",
       "    <tr style=\"text-align: right;\">\n",
       "      <th></th>\n",
       "      <th>BABA</th>\n",
       "      <th>NSRGF</th>\n",
       "      <th>SSNLF</th>\n",
       "      <th>TM</th>\n",
       "      <th>MELI</th>\n",
       "    </tr>\n",
       "  </thead>\n",
       "  <tbody>\n",
       "    <tr>\n",
       "      <th>Cumulative Return</th>\n",
       "      <td>-0.097987</td>\n",
       "      <td>2.147503</td>\n",
       "      <td>-1.000000</td>\n",
       "      <td>0.899064</td>\n",
       "      <td>25.059741</td>\n",
       "    </tr>\n",
       "    <tr>\n",
       "      <th>Volatility</th>\n",
       "      <td>0.423193</td>\n",
       "      <td>0.190500</td>\n",
       "      <td>3.042777</td>\n",
       "      <td>0.218704</td>\n",
       "      <td>0.481594</td>\n",
       "    </tr>\n",
       "    <tr>\n",
       "      <th>Sharpe Ratio</th>\n",
       "      <td>0.006077</td>\n",
       "      <td>0.030444</td>\n",
       "      <td>-0.037058</td>\n",
       "      <td>0.019666</td>\n",
       "      <td>0.042421</td>\n",
       "    </tr>\n",
       "    <tr>\n",
       "      <th>Sortino Ratio</th>\n",
       "      <td>0.009540</td>\n",
       "      <td>0.044918</td>\n",
       "      <td>-0.013581</td>\n",
       "      <td>0.029430</td>\n",
       "      <td>0.063345</td>\n",
       "    </tr>\n",
       "    <tr>\n",
       "      <th>Max Drawdown</th>\n",
       "      <td>-0.800877</td>\n",
       "      <td>-0.254442</td>\n",
       "      <td>-1.513057</td>\n",
       "      <td>-0.383593</td>\n",
       "      <td>-0.691232</td>\n",
       "    </tr>\n",
       "  </tbody>\n",
       "</table>\n",
       "</div>"
      ],
      "text/plain": [
       "                       BABA     NSRGF     SSNLF        TM       MELI\n",
       "Cumulative Return -0.097987  2.147503 -1.000000  0.899064  25.059741\n",
       "Volatility         0.423193  0.190500  3.042777  0.218704   0.481594\n",
       "Sharpe Ratio       0.006077  0.030444 -0.037058  0.019666   0.042421\n",
       "Sortino Ratio      0.009540  0.044918 -0.013581  0.029430   0.063345\n",
       "Max Drawdown      -0.800877 -0.254442 -1.513057 -0.383593  -0.691232"
      ]
     },
     "execution_count": 18,
     "metadata": {},
     "output_type": "execute_result"
    }
   ],
   "source": [
    "Equities_results"
   ]
  },
  {
   "cell_type": "code",
   "execution_count": 19,
   "id": "eeac7bf3",
   "metadata": {},
   "outputs": [
    {
     "data": {
      "text/html": [
       "<div>\n",
       "<style scoped>\n",
       "    .dataframe tbody tr th:only-of-type {\n",
       "        vertical-align: middle;\n",
       "    }\n",
       "\n",
       "    .dataframe tbody tr th {\n",
       "        vertical-align: top;\n",
       "    }\n",
       "\n",
       "    .dataframe thead th {\n",
       "        text-align: right;\n",
       "    }\n",
       "</style>\n",
       "<table border=\"1\" class=\"dataframe\">\n",
       "  <thead>\n",
       "    <tr style=\"text-align: right;\">\n",
       "      <th></th>\n",
       "      <th>^GSPC</th>\n",
       "      <th>^DJI</th>\n",
       "      <th>^IXIC</th>\n",
       "      <th>^NYA</th>\n",
       "      <th>^RUT</th>\n",
       "    </tr>\n",
       "  </thead>\n",
       "  <tbody>\n",
       "    <tr>\n",
       "      <th>Cumulative Return</th>\n",
       "      <td>2.680068</td>\n",
       "      <td>2.221683</td>\n",
       "      <td>4.296515</td>\n",
       "      <td>1.121800</td>\n",
       "      <td>1.763615</td>\n",
       "    </tr>\n",
       "    <tr>\n",
       "      <th>Volatility</th>\n",
       "      <td>0.177634</td>\n",
       "      <td>0.171818</td>\n",
       "      <td>0.206055</td>\n",
       "      <td>0.175517</td>\n",
       "      <td>0.230032</td>\n",
       "    </tr>\n",
       "    <tr>\n",
       "      <th>Sharpe Ratio</th>\n",
       "      <td>0.021752</td>\n",
       "      <td>0.018439</td>\n",
       "      <td>0.028787</td>\n",
       "      <td>0.007015</td>\n",
       "      <td>0.013842</td>\n",
       "    </tr>\n",
       "    <tr>\n",
       "      <th>Sortino Ratio</th>\n",
       "      <td>0.026631</td>\n",
       "      <td>0.022284</td>\n",
       "      <td>0.036356</td>\n",
       "      <td>0.008568</td>\n",
       "      <td>0.018052</td>\n",
       "    </tr>\n",
       "    <tr>\n",
       "      <th>Max Drawdown</th>\n",
       "      <td>-0.339250</td>\n",
       "      <td>-0.370862</td>\n",
       "      <td>-0.363953</td>\n",
       "      <td>-0.381142</td>\n",
       "      <td>-0.430613</td>\n",
       "    </tr>\n",
       "  </tbody>\n",
       "</table>\n",
       "</div>"
      ],
      "text/plain": [
       "                      ^GSPC      ^DJI     ^IXIC      ^NYA      ^RUT\n",
       "Cumulative Return  2.680068  2.221683  4.296515  1.121800  1.763615\n",
       "Volatility         0.177634  0.171818  0.206055  0.175517  0.230032\n",
       "Sharpe Ratio       0.021752  0.018439  0.028787  0.007015  0.013842\n",
       "Sortino Ratio      0.026631  0.022284  0.036356  0.008568  0.018052\n",
       "Max Drawdown      -0.339250 -0.370862 -0.363953 -0.381142 -0.430613"
      ]
     },
     "execution_count": 19,
     "metadata": {},
     "output_type": "execute_result"
    }
   ],
   "source": [
    "Indices_results"
   ]
  }
 ],
 "metadata": {
  "kernelspec": {
   "display_name": "Python 3 (ipykernel)",
   "language": "python",
   "name": "python3"
  },
  "language_info": {
   "codemirror_mode": {
    "name": "ipython",
    "version": 3
   },
   "file_extension": ".py",
   "mimetype": "text/x-python",
   "name": "python",
   "nbconvert_exporter": "python",
   "pygments_lexer": "ipython3",
   "version": "3.10.5"
  }
 },
 "nbformat": 4,
 "nbformat_minor": 5
}
