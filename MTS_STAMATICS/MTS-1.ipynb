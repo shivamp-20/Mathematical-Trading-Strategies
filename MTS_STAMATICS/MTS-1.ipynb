{
 "cells": [
  {
   "cell_type": "markdown",
   "id": "d8bc5c4c",
   "metadata": {},
   "source": [
    "# <h1 style= \"font-size : 3rem; color : #30363d\"> First Assignment- MTS</h1>"
   ]
  },
  {
   "cell_type": "code",
   "execution_count": 8,
   "id": "9168bae1",
   "metadata": {},
   "outputs": [
    {
     "name": "stdout",
     "output_type": "stream",
     "text": [
      "[*********************100%***********************]  12 of 12 completed\n",
      "             Annual Returns  Annual Volatility  Max Drawdown  Sharpe Ratio  \\\n",
      "AAPL               0.277317           0.280625     -0.437972      0.881309   \n",
      "BABA               0.072174           0.415588     -0.800877      0.101480   \n",
      "MSFT               0.220802           0.256302     -0.371485      0.744442   \n",
      "RELIANCE.NS        0.154281           0.273337     -0.450884      0.454681   \n",
      "SMSN.L             0.144595           0.299328     -0.557813      0.382841   \n",
      "TSLA               0.511783           0.562680     -0.736322      0.856230   \n",
      "^FCHI              0.065452           0.201695     -0.385585      0.175769   \n",
      "^FTSE              0.037595           0.159585     -0.366055      0.047595   \n",
      "^GDAXI             0.091407           0.199446     -0.387794      0.307889   \n",
      "^GSPC              0.109694           0.174227     -0.339250      0.457415   \n",
      "^N225              0.096975           0.201352     -0.317989      0.332627   \n",
      "^NSEI              0.104037           0.167036     -0.384399      0.443238   \n",
      "\n",
      "             Sortino Ratio  \n",
      "AAPL              1.465973  \n",
      "BABA              0.179544  \n",
      "MSFT              1.243358  \n",
      "RELIANCE.NS       0.785013  \n",
      "SMSN.L            0.645415  \n",
      "TSLA              1.477583  \n",
      "^FCHI             0.276539  \n",
      "^FTSE             0.073770  \n",
      "^GDAXI            0.485449  \n",
      "^GSPC             0.704285  \n",
      "^N225             0.530165  \n",
      "^NSEI             0.697252  \n"
     ]
    }
   ],
   "source": [
    "import pandas as pd\n",
    "import yfinance as yf\n",
    "\n",
    "#no of wroking days are 252\n",
    "\n",
    "stocks = ['^GSPC', '^FTSE' , '^GDAXI' , '^N225' ,'^FCHI' , 'AAPL' , 'MSFT' , 'BABA' , 'SMSN.L', 'RELIANCE.NS', 'TSLA' , '^NSEI']\n",
    "\n",
    "data_stocks = yf.download(stocks, start = '2010-01-01' , end = '2023-05-20')\n",
    "\n",
    "returns = data_stocks['Adj Close'].pct_change()\n",
    "\n",
    "cumulative_returns = (returns + 1).cumprod() \n",
    "\n",
    "rolling_max = cumulative_returns.rolling(window = len(data_stocks), min_periods = 1).max()\n",
    "\n",
    "drawdown = cumulative_returns / rolling_max - 1.0000\n",
    "\n",
    "maximumdrawdowns = drawdown.min()\n",
    "\n",
    "annualreturns = (returns.mean()*252) #no of working days are 252\n",
    "\n",
    "annual_volatility = returns.std() * (252**0.5) \n",
    "\n",
    "risk_free_rate = 0.03\n",
    "\n",
    "sharpe_ratio = (annualreturns - risk_free_rate) / annual_volatility\n",
    "\n",
    "downside_returns = returns.copy()\n",
    "\n",
    "downside_returns[returns > 0] = 0 \n",
    "\n",
    "downside_volatility = downside_returns.std() * (252**0.5) \n",
    "\n",
    "sortinoratio = (annualreturns - risk_free_rate) / downside_volatility\n",
    "\n",
    "table_mts1 = pd.DataFrame({'Annual Returns': annualreturns, 'Annual Volatility': annual_volatility, 'Max Drawdown': maximumdrawdowns, 'Sharpe Ratio': sharpe_ratio, 'Sortino Ratio': sortinoratio})\n",
    "\n",
    "print(table_mts1)"
   ]
  }
 ],
 "metadata": {
  "kernelspec": {
   "display_name": "Python 3 (ipykernel)",
   "language": "python",
   "name": "python3"
  },
  "language_info": {
   "codemirror_mode": {
    "name": "ipython",
    "version": 3
   },
   "file_extension": ".py",
   "mimetype": "text/x-python",
   "name": "python",
   "nbconvert_exporter": "python",
   "pygments_lexer": "ipython3",
   "version": "3.9.12"
  }
 },
 "nbformat": 4,
 "nbformat_minor": 5
}
