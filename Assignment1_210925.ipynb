{
 "cells": [
  {
   "cell_type": "markdown",
   "id": "9210fb01",
   "metadata": {},
   "source": [
    "<h1><center> Importing Libraries </h1></center>\n"
   ]
  },
  {
   "cell_type": "code",
   "execution_count": 1,
   "id": "999579da",
   "metadata": {},
   "outputs": [],
   "source": [
    "import pandas as pd\n",
    "import yfinance as yf\n",
    "import warnings\n",
    "warnings.filterwarnings('ignore')"
   ]
  },
  {
   "cell_type": "markdown",
   "id": "aa06e467",
   "metadata": {},
   "source": [
    " <h1><center>Indices and Equities of Choice</h1></center>"
   ]
  },
  {
   "cell_type": "markdown",
   "id": "a878a11c",
   "metadata": {},
   "source": [
    "<h2>Indices</h2>\n",
    "<ol>\n",
    "    <li> S&P 500 </li>\n",
    "    <li> NASDAQ </li>\n",
    "    <li> FTSE 100 </li>\n",
    "    <li> STI Index </li>\n",
    "    <li> KOSPI Composite Index </li>\n",
    "    </ol>\n",
    "\n",
    "<h2>Equities</h2>\n",
    "<ol>\n",
    "    <li> Amazon </li>\n",
    "    <li> Apple </li>\n",
    "    <li> Google </li>\n",
    "    <li> Microsoft </li>\n",
    "    <li> Netflix </li>\n",
    "</ol>"
   ]
  },
  {
   "cell_type": "markdown",
   "id": "72559ced",
   "metadata": {},
   "source": [
    "<h1><center> Downloading the Data </h1></center>"
   ]
  },
  {
   "cell_type": "code",
   "execution_count": 2,
   "id": "0549b6e1",
   "metadata": {},
   "outputs": [
    {
     "name": "stdout",
     "output_type": "stream",
     "text": [
      "[*********************100%***********************]  1 of 1 completed\n",
      "[*********************100%***********************]  1 of 1 completed\n",
      "[*********************100%***********************]  1 of 1 completed\n",
      "[*********************100%***********************]  1 of 1 completed\n",
      "[*********************100%***********************]  1 of 1 completed\n"
     ]
    }
   ],
   "source": [
    "msft_data = yf.download(\"msft\", start=\"2010-01-01\", end=\"2023-05-01\")\n",
    "aapl_data = yf.download(\"aapl\", start=\"2010-01-01\", end=\"2023-05-01\")\n",
    "goog_data = yf.download(\"goog\", start=\"2010-01-01\", end=\"2023-05-01\")\n",
    "amzn_data = yf.download(\"amzn\", start=\"2010-01-01\", end=\"2023-05-01\")\n",
    "nflx_data = yf.download(\"nflx\", start=\"2010-01-01\", end=\"2023-05-01\")"
   ]
  },
  {
   "cell_type": "code",
   "execution_count": 3,
   "id": "113fa84e",
   "metadata": {},
   "outputs": [
    {
     "name": "stdout",
     "output_type": "stream",
     "text": [
      "[*********************100%***********************]  1 of 1 completed\n",
      "[*********************100%***********************]  1 of 1 completed\n",
      "[*********************100%***********************]  1 of 1 completed\n",
      "[*********************100%***********************]  1 of 1 completed\n",
      "[*********************100%***********************]  1 of 1 completed\n"
     ]
    }
   ],
   "source": [
    "sp500_data = yf.download(\"^gspc\", start=\"2010-01-01\", end=\"2023-05-01\")\n",
    "nasdaq_data = yf.download(\"^ixic\", start=\"2010-01-01\", end=\"2023-05-01\")\n",
    "ftse100_data = yf.download(\"^ftse\", start=\"2010-01-01\", end=\"2023-05-01\")\n",
    "sti_data = yf.download(\"^sti\", start=\"2010-01-01\", end=\"2023-05-01\")\n",
    "kospicomp_data = yf.download(\"^ks11\", start=\"2010-01-01\", end=\"2023-05-01\")"
   ]
  },
  {
   "cell_type": "code",
   "execution_count": 4,
   "id": "fb2a901b",
   "metadata": {},
   "outputs": [
    {
     "data": {
      "text/html": [
       "<div>\n",
       "<style scoped>\n",
       "    .dataframe tbody tr th:only-of-type {\n",
       "        vertical-align: middle;\n",
       "    }\n",
       "\n",
       "    .dataframe tbody tr th {\n",
       "        vertical-align: top;\n",
       "    }\n",
       "\n",
       "    .dataframe thead th {\n",
       "        text-align: right;\n",
       "    }\n",
       "</style>\n",
       "<table border=\"1\" class=\"dataframe\">\n",
       "  <thead>\n",
       "    <tr style=\"text-align: right;\">\n",
       "      <th></th>\n",
       "      <th>Open</th>\n",
       "      <th>High</th>\n",
       "      <th>Low</th>\n",
       "      <th>Close</th>\n",
       "      <th>Adj Close</th>\n",
       "      <th>Volume</th>\n",
       "    </tr>\n",
       "    <tr>\n",
       "      <th>Date</th>\n",
       "      <th></th>\n",
       "      <th></th>\n",
       "      <th></th>\n",
       "      <th></th>\n",
       "      <th></th>\n",
       "      <th></th>\n",
       "    </tr>\n",
       "  </thead>\n",
       "  <tbody>\n",
       "    <tr>\n",
       "      <th>2010-01-04</th>\n",
       "      <td>30.620001</td>\n",
       "      <td>31.100000</td>\n",
       "      <td>30.590000</td>\n",
       "      <td>30.950001</td>\n",
       "      <td>23.572363</td>\n",
       "      <td>38409100</td>\n",
       "    </tr>\n",
       "    <tr>\n",
       "      <th>2010-01-05</th>\n",
       "      <td>30.850000</td>\n",
       "      <td>31.100000</td>\n",
       "      <td>30.639999</td>\n",
       "      <td>30.959999</td>\n",
       "      <td>23.579988</td>\n",
       "      <td>49749600</td>\n",
       "    </tr>\n",
       "    <tr>\n",
       "      <th>2010-01-06</th>\n",
       "      <td>30.879999</td>\n",
       "      <td>31.080000</td>\n",
       "      <td>30.520000</td>\n",
       "      <td>30.770000</td>\n",
       "      <td>23.435280</td>\n",
       "      <td>58182400</td>\n",
       "    </tr>\n",
       "    <tr>\n",
       "      <th>2010-01-07</th>\n",
       "      <td>30.629999</td>\n",
       "      <td>30.700001</td>\n",
       "      <td>30.190001</td>\n",
       "      <td>30.450001</td>\n",
       "      <td>23.191557</td>\n",
       "      <td>50559700</td>\n",
       "    </tr>\n",
       "    <tr>\n",
       "      <th>2010-01-08</th>\n",
       "      <td>30.280001</td>\n",
       "      <td>30.879999</td>\n",
       "      <td>30.240000</td>\n",
       "      <td>30.660000</td>\n",
       "      <td>23.351492</td>\n",
       "      <td>51197400</td>\n",
       "    </tr>\n",
       "    <tr>\n",
       "      <th>...</th>\n",
       "      <td>...</td>\n",
       "      <td>...</td>\n",
       "      <td>...</td>\n",
       "      <td>...</td>\n",
       "      <td>...</td>\n",
       "      <td>...</td>\n",
       "    </tr>\n",
       "    <tr>\n",
       "      <th>2023-04-24</th>\n",
       "      <td>282.089996</td>\n",
       "      <td>284.950012</td>\n",
       "      <td>278.720001</td>\n",
       "      <td>281.769989</td>\n",
       "      <td>281.155365</td>\n",
       "      <td>26611000</td>\n",
       "    </tr>\n",
       "    <tr>\n",
       "      <th>2023-04-25</th>\n",
       "      <td>279.510010</td>\n",
       "      <td>281.600006</td>\n",
       "      <td>275.369995</td>\n",
       "      <td>275.420013</td>\n",
       "      <td>274.819244</td>\n",
       "      <td>45772200</td>\n",
       "    </tr>\n",
       "    <tr>\n",
       "      <th>2023-04-26</th>\n",
       "      <td>296.700012</td>\n",
       "      <td>299.570007</td>\n",
       "      <td>292.730011</td>\n",
       "      <td>295.369995</td>\n",
       "      <td>294.725708</td>\n",
       "      <td>64599200</td>\n",
       "    </tr>\n",
       "    <tr>\n",
       "      <th>2023-04-27</th>\n",
       "      <td>295.970001</td>\n",
       "      <td>305.200012</td>\n",
       "      <td>295.250000</td>\n",
       "      <td>304.829987</td>\n",
       "      <td>304.165070</td>\n",
       "      <td>46462600</td>\n",
       "    </tr>\n",
       "    <tr>\n",
       "      <th>2023-04-28</th>\n",
       "      <td>304.010010</td>\n",
       "      <td>308.929993</td>\n",
       "      <td>303.309998</td>\n",
       "      <td>307.260010</td>\n",
       "      <td>306.589783</td>\n",
       "      <td>36446700</td>\n",
       "    </tr>\n",
       "  </tbody>\n",
       "</table>\n",
       "<p>3353 rows × 6 columns</p>\n",
       "</div>"
      ],
      "text/plain": [
       "                  Open        High         Low       Close   Adj Close  \\\n",
       "Date                                                                     \n",
       "2010-01-04   30.620001   31.100000   30.590000   30.950001   23.572363   \n",
       "2010-01-05   30.850000   31.100000   30.639999   30.959999   23.579988   \n",
       "2010-01-06   30.879999   31.080000   30.520000   30.770000   23.435280   \n",
       "2010-01-07   30.629999   30.700001   30.190001   30.450001   23.191557   \n",
       "2010-01-08   30.280001   30.879999   30.240000   30.660000   23.351492   \n",
       "...                ...         ...         ...         ...         ...   \n",
       "2023-04-24  282.089996  284.950012  278.720001  281.769989  281.155365   \n",
       "2023-04-25  279.510010  281.600006  275.369995  275.420013  274.819244   \n",
       "2023-04-26  296.700012  299.570007  292.730011  295.369995  294.725708   \n",
       "2023-04-27  295.970001  305.200012  295.250000  304.829987  304.165070   \n",
       "2023-04-28  304.010010  308.929993  303.309998  307.260010  306.589783   \n",
       "\n",
       "              Volume  \n",
       "Date                  \n",
       "2010-01-04  38409100  \n",
       "2010-01-05  49749600  \n",
       "2010-01-06  58182400  \n",
       "2010-01-07  50559700  \n",
       "2010-01-08  51197400  \n",
       "...              ...  \n",
       "2023-04-24  26611000  \n",
       "2023-04-25  45772200  \n",
       "2023-04-26  64599200  \n",
       "2023-04-27  46462600  \n",
       "2023-04-28  36446700  \n",
       "\n",
       "[3353 rows x 6 columns]"
      ]
     },
     "execution_count": 4,
     "metadata": {},
     "output_type": "execute_result"
    }
   ],
   "source": [
    "msft_data"
   ]
  },
  {
   "cell_type": "code",
   "execution_count": 5,
   "id": "0f8c7bde",
   "metadata": {},
   "outputs": [],
   "source": [
    "def cumulativeReturn(df):\n",
    "    cr_df = df[['Adj Close']]\n",
    "    cr = (cr_df.iloc[-1] - cr_df.iloc[0])/(cr_df.iloc[0])\n",
    "    return cr * 100"
   ]
  },
  {
   "cell_type": "code",
   "execution_count": 6,
   "id": "a85398dc",
   "metadata": {},
   "outputs": [],
   "source": [
    "def volatility(df):\n",
    "    vol_df = df['Adj Close']\n",
    "    return (vol_df.std())*(252**.5)"
   ]
  },
  {
   "cell_type": "code",
   "execution_count": 7,
   "id": "6db085a4",
   "metadata": {},
   "outputs": [],
   "source": [
    "def sharpeRatio(df):\n",
    "    sh_df = df[['Adj Close']]\n",
    "    sh_df['Norm return'] = sh_df['Adj Close'] / sh_df.iloc[0]['Adj Close']\n",
    "    sh_df['Daily Return'] = sh_df['Adj Close'].pct_change(1)\n",
    "    sharpe_ratio = (sh_df['Daily Return'].mean() / sh_df['Daily Return'].std()) * (252**.5)\n",
    "    return sharpe_ratio"
   ]
  },
  {
   "cell_type": "code",
   "execution_count": 8,
   "id": "93a82fa8",
   "metadata": {},
   "outputs": [],
   "source": [
    "def sortinoRatio(df):\n",
    "    so_df = df[['Adj Close']]\n",
    "    so_df['Norm return'] = so_df['Adj Close'] / so_df.iloc[0]['Adj Close']\n",
    "    so_df['Daily Return'] = so_df['Adj Close'].pct_change(1)  \n",
    "    sortino_ratio = (so_df['Daily Return'].mean() / so_df[so_df['Daily Return'] < 0]['Daily Return'].std()) * (252**.5)\n",
    "    return sortino_ratio  "
   ]
  },
  {
   "cell_type": "code",
   "execution_count": 9,
   "id": "7fcccab5",
   "metadata": {},
   "outputs": [],
   "source": [
    "def maxDrawDown(df):\n",
    "    mdd_df = df[['Adj Close']]\n",
    "    init = mdd_df['Adj Close'][0]\n",
    "    mdd_df['Cumulative Returns'] = (mdd_df['Adj Close'] - init ) / init \n",
    "    mdd_df['Running Max'] = mdd_df['Cumulative Returns'].cummax()\n",
    "    mdd_df['Drawdowns'] = (mdd_df['Cumulative Returns'] - mdd_df['Running Max'] ) / mdd_df['Running Max']\n",
    "    return mdd_df['Drawdowns'].min()"
   ]
  },
  {
   "cell_type": "code",
   "execution_count": 10,
   "id": "e2e84481",
   "metadata": {},
   "outputs": [],
   "source": [
    "equity_list = [msft_data, aapl_data, goog_data, amzn_data, nflx_data]\n",
    "eqty_names = [\"Microsoft\", \"Apple\", \"Google\", \"Amazon\", \"Netflix\"]\n",
    "index_list = [sp500_data, nasdaq_data, ftse100_data, sti_data, kospicomp_data]\n",
    "indx_names = [\"S&P 500\", \"NASDAQ\", \"FTSE 100\", \"STI Index\", \"KOSPI Composite Index\"]\n",
    "technique_list = [cumulativeReturn, volatility, sharpeRatio, sortinoRatio, maxDrawDown]\n",
    "tcnq_name = [\"Cumulative Return\", \"Volatility\", \"Sharpe Ratio\", \"Sortino Ratio\", \"Maximum Drawdown\"]"
   ]
  },
  {
   "cell_type": "markdown",
   "id": "4f1de474",
   "metadata": {},
   "source": [
    "<h1><center> Indices </h1></center>"
   ]
  },
  {
   "cell_type": "code",
   "execution_count": 11,
   "id": "fbb48e8b",
   "metadata": {},
   "outputs": [],
   "source": [
    "result = []\n",
    "for i in range(5):\n",
    "    op = map(technique_list[i], index_list)\n",
    "    result.append(list(op))"
   ]
  },
  {
   "cell_type": "code",
   "execution_count": 12,
   "id": "76e36cf1",
   "metadata": {},
   "outputs": [
    {
     "name": "stdout",
     "output_type": "stream",
     "text": [
      "Cumulative Return of S&P 500: 268.0067799721897\n",
      "Cumulative Return of NASDAQ: 429.65147121906807\n",
      "Cumulative Return of FTSE 100: 43.09401991049138\n",
      "Cumulative Return of STI Index: 12.98854587398513\n",
      "Cumulative Return of KOSPI Composite Index: 47.48369873317165\n",
      "\n",
      "\n",
      "Volatility of S&P 500: 16008.902642709561\n",
      "Volatility of NASDAQ: 59598.257487803196\n",
      "Volatility of FTSE 100: 11466.340957544779\n",
      "Volatility of STI Index: 3735.494535210287\n",
      "Volatility of KOSPI Composite Index: 5696.035348467156\n",
      "\n",
      "\n",
      "Sharpe Ratio of S&P 500: 0.6407634304606422\n",
      "Sharpe Ratio of NASDAQ: 0.7117707588019104\n",
      "Sharpe Ratio of FTSE 100: 0.24682030151039425\n",
      "Sharpe Ratio of STI Index: 0.13622600236634824\n",
      "Sharpe Ratio of KOSPI Composite Index: 0.2625767647101726\n",
      "\n",
      "\n",
      "Sortino Ratio of S&P 500: 0.7844535881965914\n",
      "Sortino Ratio of NASDAQ: 0.8989139850875184\n",
      "Sortino Ratio of FTSE 100: 0.3187795679294692\n",
      "Sortino Ratio of STI Index: 0.1807399542175005\n",
      "Sortino Ratio of KOSPI Composite Index: 0.346799765083835\n",
      "\n",
      "\n",
      "Maximum Drawdown of S&P 500: -5.42285633364016\n",
      "Maximum Drawdown of NASDAQ: -29.85774410774411\n",
      "Maximum Drawdown of FTSE 100: -12.62424594716786\n",
      "Maximum Drawdown of STI Index: -6.4127782440405365\n",
      "Maximum Drawdown of KOSPI Composite Index: -inf\n",
      "\n",
      "\n"
     ]
    }
   ],
   "source": [
    "for i in range(5):\n",
    "    for j in range(5):\n",
    "        if i == 0:\n",
    "            print(f\"{tcnq_name[i]} of {indx_names[j]}: {result[i][j].get(key = 'Adj Close')}\" )\n",
    "        else:\n",
    "            print(f\"{tcnq_name[i]} of {indx_names[j]}: {result[i][j]}\")\n",
    "    print(\"\\n\")\n",
    "    "
   ]
  },
  {
   "cell_type": "markdown",
   "id": "eeee3050",
   "metadata": {},
   "source": [
    "<h1><center> Equity </h1></center>"
   ]
  },
  {
   "cell_type": "code",
   "execution_count": 13,
   "id": "97b99ea4",
   "metadata": {},
   "outputs": [],
   "source": [
    "eqresult = []\n",
    "for i in range(5):\n",
    "    eqop = map(technique_list[i], index_list)\n",
    "    eqresult.append(list(eqop))"
   ]
  },
  {
   "cell_type": "code",
   "execution_count": 14,
   "id": "a9be6a81",
   "metadata": {},
   "outputs": [
    {
     "name": "stdout",
     "output_type": "stream",
     "text": [
      "Cumulative Return of Microsoft: 268.0067799721897\n",
      "Cumulative Return of Apple: 429.65147121906807\n",
      "Cumulative Return of Google: 43.09401991049138\n",
      "Cumulative Return of Amazon: 12.98854587398513\n",
      "Cumulative Return of Netflix: 47.48369873317165\n",
      "\n",
      "\n",
      "Volatility of Microsoft: 16008.902642709561\n",
      "Volatility of Apple: 59598.257487803196\n",
      "Volatility of Google: 11466.340957544779\n",
      "Volatility of Amazon: 3735.494535210287\n",
      "Volatility of Netflix: 5696.035348467156\n",
      "\n",
      "\n",
      "Sharpe Ratio of Microsoft: 0.6407634304606422\n",
      "Sharpe Ratio of Apple: 0.7117707588019104\n",
      "Sharpe Ratio of Google: 0.24682030151039425\n",
      "Sharpe Ratio of Amazon: 0.13622600236634824\n",
      "Sharpe Ratio of Netflix: 0.2625767647101726\n",
      "\n",
      "\n",
      "Sortino Ratio of Microsoft: 0.7844535881965914\n",
      "Sortino Ratio of Apple: 0.8989139850875184\n",
      "Sortino Ratio of Google: 0.3187795679294692\n",
      "Sortino Ratio of Amazon: 0.1807399542175005\n",
      "Sortino Ratio of Netflix: 0.346799765083835\n",
      "\n",
      "\n",
      "Maximum Drawdown of Microsoft: -5.42285633364016\n",
      "Maximum Drawdown of Apple: -29.85774410774411\n",
      "Maximum Drawdown of Google: -12.62424594716786\n",
      "Maximum Drawdown of Amazon: -6.4127782440405365\n",
      "Maximum Drawdown of Netflix: -inf\n",
      "\n",
      "\n"
     ]
    }
   ],
   "source": [
    "for i in range(5):\n",
    "    for j in range(5):\n",
    "        if i == 0:\n",
    "            print(f\"{tcnq_name[i]} of {eqty_names[j]}: {result[i][j].get(key = 'Adj Close')}\" )\n",
    "        else:\n",
    "            print(f\"{tcnq_name[i]} of {eqty_names[j]}: {result[i][j]}\")\n",
    "    print(\"\\n\")"
   ]
  },
  {
   "cell_type": "code",
   "execution_count": null,
   "id": "efe8ad8b",
   "metadata": {},
   "outputs": [],
   "source": []
  }
 ],
 "metadata": {
  "kernelspec": {
   "display_name": "Python 3 (ipykernel)",
   "language": "python",
   "name": "python3"
  },
  "language_info": {
   "codemirror_mode": {
    "name": "ipython",
    "version": 3
   },
   "file_extension": ".py",
   "mimetype": "text/x-python",
   "name": "python",
   "nbconvert_exporter": "python",
   "pygments_lexer": "ipython3",
   "version": "3.9.12"
  }
 },
 "nbformat": 4,
 "nbformat_minor": 5
}
