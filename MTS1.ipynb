{
 "cells": [
  {
   "cell_type": "code",
   "execution_count": 21,
   "id": "a156564f",
   "metadata": {},
   "outputs": [
    {
     "name": "stdout",
     "output_type": "stream",
     "text": [
      "[*********************100%***********************]  1 of 1 completed\n",
      "[*********************100%***********************]  1 of 1 completed\n",
      "[*********************100%***********************]  1 of 1 completed\n",
      "[*********************100%***********************]  1 of 1 completed\n",
      "[*********************100%***********************]  1 of 1 completed\n",
      "[*********************100%***********************]  1 of 1 completed\n",
      "[*********************100%***********************]  1 of 1 completed\n",
      "[*********************100%***********************]  1 of 1 completed\n",
      "[*********************100%***********************]  1 of 1 completed\n",
      "[*********************100%***********************]  1 of 1 completed\n"
     ]
    }
   ],
   "source": [
    "ticker1=\"AAPL\"\n",
    "ticker2=\"NVDA\"\n",
    "ticker3=\"AMZN\"\n",
    "ticker4=\"MSFT\"\n",
    "ticker5=\"NFLX\"\n",
    "Ticker1=\"^NYA\"\n",
    "Ticker2=\"^DJI\"\n",
    "Ticker3=\"^IXIC\"\n",
    "Ticker4=\"^BSESN\"\n",
    "Ticker5=\"^FTSE\"\n",
    "data1 = yf.download(ticker1, start=\"2010-01-01\", end=\"2023-05-01\")\n",
    "data2 = yf.download(ticker2, start=\"2010-01-01\", end=\"2023-05-01\")\n",
    "data3 = yf.download(ticker3, start=\"2010-01-01\", end=\"2023-05-01\")\n",
    "data4 = yf.download(ticker4, start=\"2010-01-01\", end=\"2023-05-01\")\n",
    "data5 = yf.download(ticker5, start=\"2010-01-01\", end=\"2023-05-01\")\n",
    "Data1 = yf.download(Ticker1, start=\"2010-01-01\", end=\"2023-05-01\")\n",
    "Data2 = yf.download(Ticker2, start=\"2010-01-01\", end=\"2023-05-01\")\n",
    "Data3 = yf.download(Ticker3, start=\"2010-01-01\", end=\"2023-05-01\")\n",
    "Data4 = yf.download(Ticker4, start=\"2010-01-01\", end=\"2023-05-01\")\n",
    "Data5 = yf.download(Ticker5, start=\"2010-01-01\", end=\"2023-05-01\")"
   ]
  },
  {
   "cell_type": "code",
   "execution_count": 22,
   "id": "76e218dd",
   "metadata": {},
   "outputs": [
    {
     "name": "stdout",
     "output_type": "stream",
     "text": [
      "22.24384688314914 %\n",
      "36.59463831754576 %\n",
      "26.092310313482486 %\n",
      "20.077485127292093 %\n",
      "38.75909727185335 %\n"
     ]
    }
   ],
   "source": [
    "#volatility calculation of stocks\n",
    "data1['Daily Returns']=((data1['Close']-data1['Open'])/(data1['Open']))*100\n",
    "dr1=(data1['Daily Returns'].std())*((252)**0.5)\n",
    "print(str(dr1)+ \" %\")\n",
    "data2['Daily Returns']=((data2['Close']-data2['Open'])/(data2['Open']))*100\n",
    "dr2=(data2['Daily Returns'].std())*((252)**0.5)\n",
    "print(str(dr2)+ \" %\")\n",
    "data3['Daily Returns']=((data3['Close']-data3['Open'])/(data3[\"Open\"]))*100\n",
    "dr3=(data3['Daily Returns'].std())*((252)**0.5)\n",
    "print(str(dr3)+ \" %\")\n",
    "data4['Daily Returns']=((data4['Close']-data4['Open'])/(data4['Open']))*100\n",
    "dr4=(data4['Daily Returns'].std())*((252)**0.5)\n",
    "print(str(dr4)+\" %\")\n",
    "data5['Daily Returns']=((data5['Close']-data5['Open'])/(data5['Open']))*100\n",
    "dr5=(data5['Daily Returns'].std())*((252)**0.5)\n",
    "print(str(dr5)+\" %\")\n",
    "\n"
   ]
  },
  {
   "cell_type": "code",
   "execution_count": 23,
   "id": "cc03127e",
   "metadata": {},
   "outputs": [
    {
     "name": "stdout",
     "output_type": "stream",
     "text": [
      "2120.0083324068864 %\n",
      "5903.028527189518 %\n",
      "1475.0559259817699 %\n",
      "892.7625272744684 %\n",
      "4218.455476983526 %\n"
     ]
    }
   ],
   "source": [
    "data1['Daily']=data1['Close']-data1['Open']\n",
    "data2['Daily']=data2['Close']-data2['Open']\n",
    "data3['Daily']=data3['Close']-data3['Open']\n",
    "data4['Daily']=data4['Close']-data4['Open']\n",
    "data5['Daily']=data5['Close']-data5['Open']\n",
    "\n",
    "# Cumilative Returns\n",
    "cr1=((data1.iloc[3352,3] - data1.iloc[0,3])/(data1.iloc[0,3]))*100\n",
    "cr2=((data2.iloc[3352,3] - data2.iloc[0,3])/(data2.iloc[0,3]))*100\n",
    "cr3=((data3.iloc[3352,3] - data3.iloc[0,3])/(data3.iloc[0,3]))*100\n",
    "cr4=((data4.iloc[3352,3] - data4.iloc[0,3])/(data4.iloc[0,3]))*100\n",
    "cr5=((data5.iloc[3352,3] - data5.iloc[0,3])/(data5.iloc[0,3]))*100\n",
    "print(str(cr1)+\" %\")\n",
    "print(str(cr2)+\" %\")\n",
    "print(str(cr3)+\" %\")\n",
    "print(str(cr4)+\" %\")\n",
    "print(str(cr5)+\" %\")"
   ]
  },
  {
   "cell_type": "code",
   "execution_count": 24,
   "id": "2ffdf313",
   "metadata": {},
   "outputs": [
    {
     "name": "stdout",
     "output_type": "stream",
     "text": [
      "0.3970989002737325\n",
      "0.4612001175901587\n",
      "0.043000120073590546\n",
      "0.5809341007664747\n",
      "0.893728781075914\n"
     ]
    }
   ],
   "source": [
    "# sharpe ratio calculation\n",
    "sr1=(((((data1['Daily Returns'].mean()/100)+1)**365)-1)*100-5.52)/(data1['Daily Returns'].std()*pow(252,0.5))\n",
    "sr2=(((((data2['Daily Returns'].mean()/100)+1)**365)-1)*100-5.52)/(data2['Daily Returns'].std()*pow(252,0.5))\n",
    "sr3=(((((data3['Daily Returns'].mean()/100)+1)**365)-1)*100-5.52)/(data3['Daily Returns'].std()*pow(252,0.5))\n",
    "sr4=(((((data4['Daily Returns'].mean()/100)+1)**365)-1)*100-5.52)/(data4['Daily Returns'].std()*pow(252,0.5))\n",
    "sr5=(((((data5['Daily Returns'].mean()/100)+1)**365)-1)*100-5.52)/(data5['Daily Returns'].std()*pow(252,0.5))\n",
    "print(sr1)\n",
    "print(sr2)\n",
    "print(sr3)\n",
    "print(sr4)\n",
    "print(sr5)\n",
    "\n"
   ]
  },
  {
   "cell_type": "code",
   "execution_count": 34,
   "id": "4897da48",
   "metadata": {},
   "outputs": [],
   "source": [
    "data1['Neg']=data1['Daily Returns']\n",
    "data2['Neg']=data2['Daily Returns']\n",
    "data3['Neg']=data3['Daily Returns']\n",
    "data4['Neg']=data4['Daily Returns']\n",
    "data5['Neg']=data5['Daily Returns']\n",
    "# The daily US treasury bond rate from annual bond rate will be 0.02132\n",
    "for i in range(3353):\n",
    " if(data1.iloc[i,8] - 0.02132 > 0):\n",
    "        data1.iloc[i,8]=0\n",
    " else:\n",
    "    data1.iloc[i,8]=data1.iloc[i,8]-0.02132\n",
    "    \n",
    "for i in range(3353):\n",
    " if(data2.iloc[i,8] - 0.02132 > 0):\n",
    "        data2.iloc[i,8]=0\n",
    " else:\n",
    "    data2.iloc[i,8]=data2.iloc[i,8]-0.02132  \n",
    "    \n",
    "for i in range(3353):\n",
    " if(data3.iloc[i,8] - 0.02132 > 0):\n",
    "        data3.iloc[i,8]=0\n",
    " else:\n",
    "    data3.iloc[i,8]=data3.iloc[i,8]-0.02132  \n",
    "    \n",
    "for i in range(3353):\n",
    " if(data4.iloc[i,8] - 0.02132 > 0):\n",
    "        data4.iloc[i,8]=0\n",
    " else:\n",
    "    data4.iloc[i,8]=data4.iloc[i,8]-0.02132\n",
    "    \n",
    "for i in range(3353):\n",
    " if(data5.iloc[i,8] - 0.02132 > 0):\n",
    "        data5.iloc[i,8]=0\n",
    " else:\n",
    "    data5.iloc[i,8]=data5.iloc[i,8]-0.02132  \n"
   ]
  },
  {
   "cell_type": "code",
   "execution_count": 27,
   "id": "46916152",
   "metadata": {},
   "outputs": [
    {
     "name": "stdout",
     "output_type": "stream",
     "text": [
      "2.305954172444255\n",
      "2.0977515539784903\n",
      "1.689218028846759\n",
      "1.0101428815956972\n",
      "1.0372943046758423\n"
     ]
    }
   ],
   "source": [
    "data1['Neg']=data1['Daily Returns']\n",
    "data2['Neg']=data2['Daily Returns']\n",
    "data3['Neg']=data3['Daily Returns']\n",
    "data4['Neg']=data4['Daily Returns']\n",
    "data5['Neg']=data5['Daily Returns']\n",
    "\n",
    "for i in range(3353):\n",
    " if(data1.iloc[i,7] - 0.02132 > 0):\n",
    "        data1.iloc[i,8]=0\n",
    " else:\n",
    "    data1.iloc[i,7]=data1.iloc[i,8]-0.02132\n",
    "    \n",
    "for i in range(3353):\n",
    " if(data2.iloc[i,7] - 0.02132 > 0):\n",
    "        data2.iloc[i,8]=0\n",
    " else:\n",
    "    data2.iloc[i,7]=data2.iloc[i,8]-0.02132  \n",
    "    \n",
    "for i in range(3353):\n",
    " if(data3.iloc[i,7] - 0.02132 > 0):\n",
    "        data3.iloc[i,8]=0\n",
    " else:\n",
    "    data3.iloc[i,7]=data3.iloc[i,8]-0.02132  \n",
    "    \n",
    "for i in range(3353):\n",
    " if(data4.iloc[i,7] - 0.02132 > 0):\n",
    "        data4.iloc[i,7]=0\n",
    " else:\n",
    "    data4.iloc[i,7]=data4.iloc[i,8]-0.02132\n",
    "    \n",
    "for i in range(3353):\n",
    " if(data5.iloc[i,7] - 0.02132 > 0):\n",
    "        data5.iloc[i,7]=0\n",
    " else:\n",
    "    data5.iloc[i,7]=data5.iloc[i,7]-0.02132  \n",
    "    \n",
    "    \n",
    "\n",
    "#Sortiono Ratio calculation\n",
    "st1=((pow((data1.iloc[3352,3]/data1.iloc[0,3]),0.1)-1)*100-5.52)/(data1['Neg'].std()*pow(252,0.5))\n",
    "st2=((pow((data2.iloc[3352,3]/data2.iloc[0,3]),0.1)-1)*100-5.52)/(data2['Neg'].std()*pow(252,0.5))\n",
    "st3=((pow((data3.iloc[3352,3]/data3.iloc[0,3]),0.1)-1)*100-5.52)/(data3['Neg'].std()*pow(252,0.5))\n",
    "st4=((pow((data4.iloc[3352,3]/data4.iloc[0,3]),0.1)-1)*100-5.52)/(data4['Neg'].std()*pow(252,0.5))\n",
    "st5=((pow((data5.iloc[3352,3]/data5.iloc[0,3]),0.1)-1)*100-5.52)/(data5['Neg'].std()*pow(252,0.5))\n",
    "print(st1)\n",
    "print(st2)\n",
    "print(st3)\n",
    "print(st4)\n",
    "print(st5)\n",
    "\n"
   ]
  },
  {
   "cell_type": "code",
   "execution_count": 28,
   "id": "40ee994e",
   "metadata": {},
   "outputs": [
    {
     "name": "stdout",
     "output_type": "stream",
     "text": [
      "15.613935366838831 %\n",
      "14.489920173894719 %\n",
      "16.034357851986737 %\n",
      "14.682246439096778 %\n",
      "16.252416946145253 %\n"
     ]
    }
   ],
   "source": [
    "#volatility calculation of indices\n",
    "Data1['Daily Returns']=((Data1['Close']-Data1['Open'])/(Data1['Open']))*100\n",
    "Dr1=Data1['Daily Returns'].std()*pow(252,0.5)\n",
    "print(str(Dr1)+ \" %\")\n",
    "Data2['Daily Returns']=((Data2['Close']-Data2['Open'])/(Data2['Open']))*100\n",
    "Dr2=Data2['Daily Returns'].std()*pow(252,0.5)\n",
    "print(str(Dr2)+ \" %\")\n",
    "Data3['Daily Returns']=((Data3['Close']-Data3['Open'])/(Data3[\"Open\"]))*100\n",
    "Dr3=Data3['Daily Returns'].std()*pow(252,0.5)\n",
    "print(str(Dr3)+ \" %\")\n",
    "Data4['Daily Returns']=((Data4['Close']-Data4['Open'])/(Data4['Open']))*100\n",
    "Dr4=Data4['Daily Returns'].std()*pow(252,0.5)\n",
    "print(str(Dr4)+\" %\")\n",
    "Data5['Daily Returns']=((Data5['Close']-Data5['Open'])/(Data5['Open']))*100\n",
    "Dr5=Data5['Daily Returns'].std()*pow(252,0.5)\n",
    "print(str(Dr5)+\" %\")\n",
    "\n",
    "\n"
   ]
  },
  {
   "cell_type": "code",
   "execution_count": 30,
   "id": "e7145471",
   "metadata": {},
   "outputs": [
    {
     "name": "stdout",
     "output_type": "stream",
     "text": [
      "110.62081027571575 %\n",
      "222.16826482806985 %\n",
      "425.9978966267342 %\n",
      "236.6213833707635 %\n",
      "34.00360633750966 %\n"
     ]
    }
   ],
   "source": [
    "Data1['Daily']=Data1['Close']-Data1['Open']\n",
    "Data2['Daily']=Data2['Close']-Data2['Open']\n",
    "Data3['Daily']=Data3['Close']-Data3['Open']\n",
    "Data4['Daily']=Data4['Close']-Data4['Open']\n",
    "Data5['Daily']=Data5['Close']-Data5['Open']\n",
    "\n",
    "\n",
    "# Cumulative Retun\n",
    "Cr1=((Data1.iloc[3351,3] - Data1.iloc[0,3])/(Data1.iloc[0,3]))*100\n",
    "Cr2=((Data2.iloc[3352,3] - Data2.iloc[0,3])/(Data2.iloc[0,3]))*100\n",
    "Cr3=((Data3.iloc[3351,3] - Data3.iloc[0,3])/(Data3.iloc[0,3]))*100\n",
    "Cr4=((Data4.iloc[3258,3] - Data4.iloc[0,3])/(Data4.iloc[0,3]))*100\n",
    "Cr5=((Data5.iloc[3274,3] - Data5.iloc[0,3])/(Data5.iloc[0,3]))*100\n",
    "print(str(Cr1)+\" %\")\n",
    "print(str(Cr2)+\" %\")\n",
    "print(str(Cr3)+\" %\")\n",
    "print(str(Cr4)+\" %\")\n",
    "print(str(Cr5)+\" %\")"
   ]
  },
  {
   "cell_type": "code",
   "execution_count": 32,
   "id": "7dad3f82",
   "metadata": {},
   "outputs": [
    {
     "name": "stdout",
     "output_type": "stream",
     "text": [
      "-0.05727020628549064\n",
      "0.4051937465774901\n",
      "0.2613562991569857\n",
      "-2.4032677116244883\n",
      "0.03290981288567929\n"
     ]
    }
   ],
   "source": [
    "Sr1=(((((Data1['Daily Returns'].mean()/100)+1)**365)-1)*100-5.52)/(Data1['Daily Returns'].std()*pow(252,0.5))\n",
    "Sr2=(((((Data2['Daily Returns'].mean()/100)+1)**365)-1)*100-5.52)/(Data2['Daily Returns'].std()*pow(252,0.5))\n",
    "Sr3=(((((Data3['Daily Returns'].mean()/100)+1)**365)-1)*100-5.52)/(Data3['Daily Returns'].std()*pow(252,0.5))\n",
    "Sr4=(((((Data4['Daily Returns'].mean()/100)+1)**365)-1)*100-5.52)/(Data4['Daily Returns'].std()*pow(252,0.5))\n",
    "Sr5=(((((Data5['Daily Returns'].mean()/100)+1)**365)-1)*100-5.52)/(Data5['Daily Returns'].std()*pow(252,0.5))\n",
    "print(Sr1)\n",
    "print(Sr2)\n",
    "print(Sr3)\n",
    "print(Sr4)\n",
    "print(Sr5)\n"
   ]
  },
  {
   "cell_type": "code",
   "execution_count": 33,
   "id": "6ddbedc6",
   "metadata": {},
   "outputs": [
    {
     "name": "stdout",
     "output_type": "stream",
     "text": [
      "-0.0838489209095103\n",
      "0.6299156552443944\n",
      "0.406530636927068\n",
      "-3.659561078576455\n",
      "0.05077755495692547\n"
     ]
    }
   ],
   "source": [
    "Data1['Neg']=Data1['Daily Returns']\n",
    "Data2['Neg']=Data2['Daily Returns']\n",
    "Data3['Neg']=Data3['Daily Returns']\n",
    "Data4['Neg']=Data4['Daily Returns']\n",
    "Data5['Neg']=Data5['Daily Returns']\n",
    "\n",
    "for i in range(3351):\n",
    " if(Data1.iloc[i,8] - 0.02132 > 0):\n",
    "        Data1.iloc[i,8]=0\n",
    " else:\n",
    "    Data1.iloc[i,8]=Data1.iloc[i,8]-0.02132\n",
    "    \n",
    "for i in range(3353):\n",
    " if(Data2.iloc[i,8] - 0.02132 > 0):\n",
    "        Data2.iloc[i,8]=0\n",
    " else:\n",
    "    Data2.iloc[i,8]=Data2.iloc[i,8]-0.02132   \n",
    "    \n",
    "for i in range(3353):\n",
    " if(Data3.iloc[i,8] - 0.02132 > 0):\n",
    "        Data3.iloc[i,8]=0\n",
    " else:\n",
    "    Data3.iloc[i,8]=Data3.iloc[i,8]-0.02132   \n",
    "    \n",
    "for i in range(3259):\n",
    " if(Data4.iloc[i,8] - 0.02132 > 0):\n",
    "        Data4.iloc[i,8]=0\n",
    " else:\n",
    "    Data4.iloc[i,8]=Data4.iloc[i,8]-0.02132\n",
    "    \n",
    "for i in range(3353):\n",
    " if(Data5.iloc[i,8] - 0.02132 > 0):\n",
    "        Data5.iloc[i,8]=0\n",
    " else:\n",
    "    Data5.iloc[i,8]=Data5.iloc[i,8]-0.02132    \n",
    "    \n",
    "    \n",
    "    \n",
    "# To calculate Sortiono Ratio\n",
    "St1=(((((Data1['Daily Returns'].mean()/100)+1)**365)-1)*100-5.52)/(Data1['Neg'].std()*pow(252,0.5))\n",
    "St2=(((((Data2['Daily Returns'].mean()/100)+1)**365)-1)*100-5.52)/(Data2['Neg'].std()*pow(252,0.5))\n",
    "St3=(((((Data3['Daily Returns'].mean()/100)+1)**365)-1)*100-5.52)/(Data3['Neg'].std()*pow(252,0.5))\n",
    "St4=(((((Data4['Daily Returns'].mean()/100)+1)**365)-1)*100-5.52)/(Data4['Neg'].std()*pow(252,0.5))\n",
    "St5=(((((Data5['Daily Returns'].mean()/100)+1)**365)-1)*100-5.52)/(Data5['Neg'].std()*pow(252,0.5))\n",
    "print(St1)\n",
    "print(St2)\n",
    "print(St3)\n",
    "print(St4)\n",
    "print(St5)"
   ]
  },
  {
   "cell_type": "code",
   "execution_count": null,
   "id": "e03f6095",
   "metadata": {},
   "outputs": [],
   "source": []
  }
 ],
 "metadata": {
  "kernelspec": {
   "display_name": "Python 3 (ipykernel)",
   "language": "python",
   "name": "python3"
  },
  "language_info": {
   "codemirror_mode": {
    "name": "ipython",
    "version": 3
   },
   "file_extension": ".py",
   "mimetype": "text/x-python",
   "name": "python",
   "nbconvert_exporter": "python",
   "pygments_lexer": "ipython3",
   "version": "3.10.9"
  }
 },
 "nbformat": 4,
 "nbformat_minor": 5
}
