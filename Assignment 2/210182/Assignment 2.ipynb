{
 "cells": [
  {
   "cell_type": "code",
   "execution_count": 37,
   "id": "2ffb9988",
   "metadata": {},
   "outputs": [],
   "source": [
    "import pandas as pd\n",
    "from pandas_datareader import data as pdr\n",
    "import yfinance as yf\n",
    "import datetime as dt\n",
    "import numpy as np\n",
    "yf.pdr_override()\n",
    "import matplotlib.pyplot as plt\n",
    "from math import sqrt\n",
    "from math import floor"
   ]
  },
  {
   "cell_type": "code",
   "execution_count": 38,
   "id": "42bf5dcb",
   "metadata": {},
   "outputs": [
    {
     "name": "stdout",
     "output_type": "stream",
     "text": [
      "[*********************100%***********************]  1 of 1 completed\n",
      "[*********************100%***********************]  1 of 1 completed\n"
     ]
    },
    {
     "data": {
      "text/plain": [
       "0.9512481243372104"
      ]
     },
     "execution_count": 38,
     "metadata": {},
     "output_type": "execute_result"
    }
   ],
   "source": [
    "NASDAQ = yf.download('^IXIC',start =\"2010-01-20\", end  = \"2023-05-01\" )['Close']\n",
    "NSE = yf.download('^NSEI',start =\"2010-01-01\", end  = \"2023-04-11\")['Close']\n",
    "NASDAQ.corr(NSE)\n"
   ]
  },
  {
   "cell_type": "code",
   "execution_count": 39,
   "id": "218ba070",
   "metadata": {},
   "outputs": [
    {
     "data": {
      "text/plain": [
       "0.950682511458961"
      ]
     },
     "execution_count": 39,
     "metadata": {},
     "output_type": "execute_result"
    }
   ],
   "source": [
    "NASDAQ.corr(NSE.shift())\n",
    "\n"
   ]
  },
  {
   "cell_type": "code",
   "execution_count": 40,
   "id": "efe15ecc",
   "metadata": {},
   "outputs": [
    {
     "data": {
      "text/plain": [
       "0.9411931324659544"
      ]
     },
     "execution_count": 40,
     "metadata": {},
     "output_type": "execute_result"
    }
   ],
   "source": [
    "NASDAQ.corr(NSE.shift(20))\n"
   ]
  },
  {
   "cell_type": "code",
   "execution_count": 41,
   "id": "b4bd588d",
   "metadata": {},
   "outputs": [
    {
     "data": {
      "text/plain": [
       "0.9515490820200023"
      ]
     },
     "execution_count": 41,
     "metadata": {},
     "output_type": "execute_result"
    }
   ],
   "source": [
    "NSE.corr(NASDAQ.shift())"
   ]
  },
  {
   "cell_type": "code",
   "execution_count": 42,
   "id": "dbb3de24",
   "metadata": {},
   "outputs": [
    {
     "data": {
      "text/plain": [
       "0.9632010025227471"
      ]
     },
     "execution_count": 42,
     "metadata": {},
     "output_type": "execute_result"
    }
   ],
   "source": [
    "NSE.corr(NASDAQ.shift(100))\n"
   ]
  },
  {
   "cell_type": "code",
   "execution_count": 43,
   "id": "75fa8539",
   "metadata": {},
   "outputs": [
    {
     "data": {
      "text/plain": [
       "'Nasdaq is leading and nse is lagging'"
      ]
     },
     "execution_count": 43,
     "metadata": {},
     "output_type": "execute_result"
    }
   ],
   "source": [
    "NSE.corr(NASDAQ.shift(20))\n",
    "'''Nasdaq is leading and nse is lagging'''"
   ]
  },
  {
   "cell_type": "code",
   "execution_count": 65,
   "id": "21bf6253",
   "metadata": {},
   "outputs": [
    {
     "name": "stdout",
     "output_type": "stream",
     "text": [
      "[*********************100%***********************]  1 of 1 completed\n"
     ]
    },
    {
     "data": {
      "text/html": [
       "<div>\n",
       "<style scoped>\n",
       "    .dataframe tbody tr th:only-of-type {\n",
       "        vertical-align: middle;\n",
       "    }\n",
       "\n",
       "    .dataframe tbody tr th {\n",
       "        vertical-align: top;\n",
       "    }\n",
       "\n",
       "    .dataframe thead th {\n",
       "        text-align: right;\n",
       "    }\n",
       "</style>\n",
       "<table border=\"1\" class=\"dataframe\">\n",
       "  <thead>\n",
       "    <tr style=\"text-align: right;\">\n",
       "      <th></th>\n",
       "      <th>Close</th>\n",
       "      <th>Close</th>\n",
       "    </tr>\n",
       "    <tr>\n",
       "      <th>Date</th>\n",
       "      <th></th>\n",
       "      <th></th>\n",
       "    </tr>\n",
       "  </thead>\n",
       "  <tbody>\n",
       "    <tr>\n",
       "      <th>2023-04-24</th>\n",
       "      <td>89.150961</td>\n",
       "      <td>58.377980</td>\n",
       "    </tr>\n",
       "    <tr>\n",
       "      <th>2023-04-25</th>\n",
       "      <td>95.090728</td>\n",
       "      <td>65.720530</td>\n",
       "    </tr>\n",
       "    <tr>\n",
       "      <th>2023-04-26</th>\n",
       "      <td>102.198597</td>\n",
       "      <td>73.016143</td>\n",
       "    </tr>\n",
       "    <tr>\n",
       "      <th>2023-04-27</th>\n",
       "      <td>114.695755</td>\n",
       "      <td>81.352066</td>\n",
       "    </tr>\n",
       "    <tr>\n",
       "      <th>2023-04-28</th>\n",
       "      <td>135.141663</td>\n",
       "      <td>92.109985</td>\n",
       "    </tr>\n",
       "  </tbody>\n",
       "</table>\n",
       "</div>"
      ],
      "text/plain": [
       "                 Close      Close\n",
       "Date                             \n",
       "2023-04-24   89.150961  58.377980\n",
       "2023-04-25   95.090728  65.720530\n",
       "2023-04-26  102.198597  73.016143\n",
       "2023-04-27  114.695755  81.352066\n",
       "2023-04-28  135.141663  92.109985"
      ]
     },
     "execution_count": 65,
     "metadata": {},
     "output_type": "execute_result"
    }
   ],
   "source": [
    "\n",
    "df = yf.download(\"^NSEI\",\"2010-01-01\" ,\"2023-05-01\")\n",
    "def macd(price, slow, fast, smooth):\n",
    "    e1 = price.ewm(span = fast, adjust = False).mean()\n",
    "    e2 = price.ewm(span = slow, adjust = False).mean()\n",
    "    macd = pd.DataFrame(e1 - e2).rename(columns = {'close':'macd'})\n",
    "    sig = pd.DataFrame(macd.ewm(span = smooth, adjust = False).mean()).rename(columns = {'macd':'signal'})\n",
    "    frames =  [macd, sig]\n",
    "    df = pd.concat(frames, join = 'inner', axis = 1)\n",
    "    return df\n",
    "\n",
    "df_macd = macd(df['Close'], 26, 12, 9)\n",
    "df_macd.tail()"
   ]
  },
  {
   "cell_type": "code",
   "execution_count": 66,
   "id": "0f3b7dac",
   "metadata": {},
   "outputs": [
    {
     "data": {
      "text/plain": [
       "[Timestamp('2010-01-05 00:00:00'),\n",
       " Timestamp('2010-01-15 00:00:00'),\n",
       " Timestamp('2010-02-16 00:00:00'),\n",
       " Timestamp('2010-05-31 00:00:00'),\n",
       " Timestamp('2010-07-12 00:00:00'),\n",
       " Timestamp('2010-08-19 00:00:00'),\n",
       " Timestamp('2010-09-06 00:00:00'),\n",
       " Timestamp('2010-11-04 00:00:00'),\n",
       " Timestamp('2010-12-03 00:00:00'),\n",
       " Timestamp('2010-12-14 00:00:00'),\n",
       " Timestamp('2011-02-15 00:00:00'),\n",
       " Timestamp('2011-03-23 00:00:00'),\n",
       " Timestamp('2011-05-30 00:00:00'),\n",
       " Timestamp('2011-06-27 00:00:00'),\n",
       " Timestamp('2011-07-25 00:00:00'),\n",
       " Timestamp('2011-08-30 00:00:00'),\n",
       " Timestamp('2011-09-29 00:00:00'),\n",
       " Timestamp('2011-10-10 00:00:00'),\n",
       " Timestamp('2011-12-02 00:00:00'),\n",
       " Timestamp('2011-12-27 00:00:00'),\n",
       " Timestamp('2012-01-03 00:00:00'),\n",
       " Timestamp('2012-04-03 00:00:00'),\n",
       " Timestamp('2012-04-18 00:00:00'),\n",
       " Timestamp('2012-05-28 00:00:00'),\n",
       " Timestamp('2012-08-02 00:00:00'),\n",
       " Timestamp('2012-09-12 00:00:00'),\n",
       " Timestamp('2012-11-29 00:00:00'),\n",
       " Timestamp('2013-01-03 00:00:00'),\n",
       " Timestamp('2013-01-15 00:00:00'),\n",
       " Timestamp('2013-01-17 00:00:00'),\n",
       " Timestamp('2013-03-07 00:00:00'),\n",
       " Timestamp('2013-04-16 00:00:00'),\n",
       " Timestamp('2013-07-01 00:00:00'),\n",
       " Timestamp('2013-08-30 00:00:00'),\n",
       " Timestamp('2013-10-09 00:00:00'),\n",
       " Timestamp('2013-10-30 00:00:00'),\n",
       " Timestamp('2013-12-02 00:00:00'),\n",
       " Timestamp('2013-12-24 00:00:00'),\n",
       " Timestamp('2014-01-15 00:00:00'),\n",
       " Timestamp('2014-02-18 00:00:00'),\n",
       " Timestamp('2014-04-09 00:00:00'),\n",
       " Timestamp('2014-05-12 00:00:00'),\n",
       " Timestamp('2014-06-05 00:00:00'),\n",
       " Timestamp('2014-07-04 00:00:00'),\n",
       " Timestamp('2014-07-22 00:00:00'),\n",
       " Timestamp('2014-08-18 00:00:00'),\n",
       " Timestamp('2014-10-22 00:00:00'),\n",
       " Timestamp('2015-01-02 00:00:00'),\n",
       " Timestamp('2015-01-09 00:00:00'),\n",
       " Timestamp('2015-02-19 00:00:00'),\n",
       " Timestamp('2015-03-03 00:00:00'),\n",
       " Timestamp('2015-04-06 00:00:00'),\n",
       " Timestamp('2015-05-14 00:00:00'),\n",
       " Timestamp('2015-06-18 00:00:00'),\n",
       " Timestamp('2015-08-06 00:00:00'),\n",
       " Timestamp('2015-09-11 00:00:00'),\n",
       " Timestamp('2015-11-27 00:00:00'),\n",
       " Timestamp('2015-12-17 00:00:00'),\n",
       " Timestamp('2016-01-29 00:00:00'),\n",
       " Timestamp('2016-02-22 00:00:00'),\n",
       " Timestamp('2016-03-01 00:00:00'),\n",
       " Timestamp('2016-04-13 00:00:00'),\n",
       " Timestamp('2016-05-26 00:00:00'),\n",
       " Timestamp('2016-07-04 00:00:00'),\n",
       " Timestamp('2016-08-31 00:00:00'),\n",
       " Timestamp('2016-10-24 00:00:00'),\n",
       " Timestamp('2016-11-29 00:00:00'),\n",
       " Timestamp('2016-12-29 00:00:00'),\n",
       " Timestamp('2017-02-22 00:00:00'),\n",
       " Timestamp('2017-03-15 00:00:00'),\n",
       " Timestamp('2017-04-05 00:00:00'),\n",
       " Timestamp('2017-04-26 00:00:00'),\n",
       " Timestamp('2017-05-10 00:00:00'),\n",
       " Timestamp('2017-05-26 00:00:00'),\n",
       " Timestamp('2017-07-07 00:00:00'),\n",
       " Timestamp('2017-09-01 00:00:00'),\n",
       " Timestamp('2017-10-10 00:00:00'),\n",
       " Timestamp('2017-11-27 00:00:00'),\n",
       " Timestamp('2017-12-15 00:00:00'),\n",
       " Timestamp('2018-03-13 00:00:00'),\n",
       " Timestamp('2018-04-02 00:00:00'),\n",
       " Timestamp('2018-06-07 00:00:00'),\n",
       " Timestamp('2018-07-09 00:00:00'),\n",
       " Timestamp('2018-08-21 00:00:00'),\n",
       " Timestamp('2018-10-29 00:00:00'),\n",
       " Timestamp('2018-12-14 00:00:00'),\n",
       " Timestamp('2019-01-16 00:00:00'),\n",
       " Timestamp('2019-02-04 00:00:00'),\n",
       " Timestamp('2019-02-26 00:00:00'),\n",
       " Timestamp('2019-05-20 00:00:00'),\n",
       " Timestamp('2019-07-03 00:00:00'),\n",
       " Timestamp('2019-08-14 00:00:00'),\n",
       " Timestamp('2019-09-20 00:00:00'),\n",
       " Timestamp('2019-10-16 00:00:00'),\n",
       " Timestamp('2019-11-28 00:00:00'),\n",
       " Timestamp('2019-12-18 00:00:00'),\n",
       " Timestamp('2020-01-14 00:00:00'),\n",
       " Timestamp('2020-02-12 00:00:00'),\n",
       " Timestamp('2020-02-19 00:00:00'),\n",
       " Timestamp('2020-03-31 00:00:00'),\n",
       " Timestamp('2020-05-27 00:00:00'),\n",
       " Timestamp('2020-06-19 00:00:00'),\n",
       " Timestamp('2020-07-02 00:00:00'),\n",
       " Timestamp('2020-07-21 00:00:00'),\n",
       " Timestamp('2020-08-26 00:00:00'),\n",
       " Timestamp('2020-10-05 00:00:00'),\n",
       " Timestamp('2020-11-05 00:00:00'),\n",
       " Timestamp('2020-12-31 00:00:00'),\n",
       " Timestamp('2021-02-04 00:00:00'),\n",
       " Timestamp('2021-04-07 00:00:00'),\n",
       " Timestamp('2021-04-28 00:00:00'),\n",
       " Timestamp('2021-08-03 00:00:00'),\n",
       " Timestamp('2021-09-24 00:00:00'),\n",
       " Timestamp('2021-10-13 00:00:00'),\n",
       " Timestamp('2021-12-09 00:00:00'),\n",
       " Timestamp('2021-12-27 00:00:00'),\n",
       " Timestamp('2022-03-14 00:00:00'),\n",
       " Timestamp('2022-05-23 00:00:00'),\n",
       " Timestamp('2022-06-27 00:00:00'),\n",
       " Timestamp('2022-09-13 00:00:00'),\n",
       " Timestamp('2022-10-17 00:00:00'),\n",
       " Timestamp('2022-11-28 00:00:00'),\n",
       " Timestamp('2023-01-18 00:00:00'),\n",
       " Timestamp('2023-02-08 00:00:00'),\n",
       " Timestamp('2023-03-08 00:00:00'),\n",
       " Timestamp('2023-03-29 00:00:00')]"
      ]
     },
     "execution_count": 66,
     "metadata": {},
     "output_type": "execute_result"
    }
   ],
   "source": [
    " \n",
    "def macd_strategy(prices, data):    \n",
    "    buy = []\n",
    "    tick = []\n",
    "    macd = []\n",
    "    signal = 0\n",
    "\n",
    "    for i in range(len(data)):\n",
    "        if data.iloc[:,0][i] > data.iloc[:,1][i]:\n",
    "            if signal != 1:\n",
    "                buy.append(prices.index[i])\n",
    "                tick.append(np.nan)\n",
    "                signal = 1\n",
    "                macd.append(signal)\n",
    "            else:\n",
    "                buy.append(np.nan)\n",
    "                tick.append(np.nan)\n",
    "                macd.append(0)\n",
    "        elif data.iloc[:,0][i] < data.iloc[:,1][i]:\n",
    "            if signal != -1:\n",
    "                buy.append(np.nan)\n",
    "                tick.append(prices.index[i])\n",
    "                signal = -1\n",
    "                macd.append(signal)\n",
    "            else:\n",
    "                buy.append(np.nan)\n",
    "                tick.append(np.nan)\n",
    "                macd.append(0)\n",
    "        else:\n",
    "            buy.append(np.nan)\n",
    "            tick.append(np.nan)\n",
    "            macd.append(0)\n",
    "            \n",
    "    return buy, sell, macd\n",
    "            \n",
    "buy, sell, macd_signal = macd_strategy(df['Close'], df_macd)\n",
    "buy= [income for income in buy if str(income) != 'nan']\n",
    "buy"
   ]
  },
  {
   "cell_type": "code",
   "execution_count": 47,
   "id": "b1c12aa6",
   "metadata": {
    "scrolled": false
   },
   "outputs": [
    {
     "data": {
      "text/plain": [
       "[Timestamp('2010-01-12 00:00:00'),\n",
       " Timestamp('2010-01-19 00:00:00'),\n",
       " Timestamp('2010-04-12 00:00:00'),\n",
       " Timestamp('2010-07-02 00:00:00'),\n",
       " Timestamp('2010-07-28 00:00:00'),\n",
       " Timestamp('2010-08-25 00:00:00'),\n",
       " Timestamp('2010-10-08 00:00:00'),\n",
       " Timestamp('2010-11-12 00:00:00'),\n",
       " Timestamp('2010-12-09 00:00:00'),\n",
       " Timestamp('2011-01-07 00:00:00'),\n",
       " Timestamp('2011-03-21 00:00:00'),\n",
       " Timestamp('2011-04-18 00:00:00'),\n",
       " Timestamp('2011-06-16 00:00:00'),\n",
       " Timestamp('2011-07-18 00:00:00'),\n",
       " Timestamp('2011-07-26 00:00:00'),\n",
       " Timestamp('2011-09-26 00:00:00'),\n",
       " Timestamp('2011-10-03 00:00:00'),\n",
       " Timestamp('2011-11-11 00:00:00'),\n",
       " Timestamp('2011-12-12 00:00:00'),\n",
       " Timestamp('2011-12-30 00:00:00'),\n",
       " Timestamp('2012-02-23 00:00:00'),\n",
       " Timestamp('2012-04-09 00:00:00'),\n",
       " Timestamp('2012-04-24 00:00:00'),\n",
       " Timestamp('2012-07-13 00:00:00'),\n",
       " Timestamp('2012-08-29 00:00:00'),\n",
       " Timestamp('2012-10-09 00:00:00'),\n",
       " Timestamp('2012-12-17 00:00:00'),\n",
       " Timestamp('2013-01-10 00:00:00'),\n",
       " Timestamp('2013-01-16 00:00:00'),\n",
       " Timestamp('2013-01-24 00:00:00'),\n",
       " Timestamp('2013-03-20 00:00:00'),\n",
       " Timestamp('2013-05-23 00:00:00'),\n",
       " Timestamp('2013-07-26 00:00:00'),\n",
       " Timestamp('2013-09-30 00:00:00'),\n",
       " Timestamp('2013-10-28 00:00:00'),\n",
       " Timestamp('2013-11-06 00:00:00'),\n",
       " Timestamp('2013-12-16 00:00:00'),\n",
       " Timestamp('2014-01-02 00:00:00'),\n",
       " Timestamp('2014-01-27 00:00:00'),\n",
       " Timestamp('2014-04-07 00:00:00'),\n",
       " Timestamp('2014-04-15 00:00:00'),\n",
       " Timestamp('2014-05-30 00:00:00'),\n",
       " Timestamp('2014-06-16 00:00:00'),\n",
       " Timestamp('2014-07-08 00:00:00'),\n",
       " Timestamp('2014-08-01 00:00:00'),\n",
       " Timestamp('2014-09-15 00:00:00'),\n",
       " Timestamp('2014-12-02 00:00:00'),\n",
       " Timestamp('2015-01-07 00:00:00'),\n",
       " Timestamp('2015-02-05 00:00:00'),\n",
       " Timestamp('2015-02-23 00:00:00'),\n",
       " Timestamp('2015-03-09 00:00:00'),\n",
       " Timestamp('2015-04-21 00:00:00'),\n",
       " Timestamp('2015-06-03 00:00:00'),\n",
       " Timestamp('2015-07-27 00:00:00'),\n",
       " Timestamp('2015-08-10 00:00:00'),\n",
       " Timestamp('2015-10-29 00:00:00'),\n",
       " Timestamp('2015-12-07 00:00:00'),\n",
       " Timestamp('2016-01-07 00:00:00'),\n",
       " Timestamp('2016-02-10 00:00:00'),\n",
       " Timestamp('2016-02-25 00:00:00'),\n",
       " Timestamp('2016-04-06 00:00:00'),\n",
       " Timestamp('2016-04-29 00:00:00'),\n",
       " Timestamp('2016-06-13 00:00:00'),\n",
       " Timestamp('2016-08-01 00:00:00'),\n",
       " Timestamp('2016-09-14 00:00:00'),\n",
       " Timestamp('2016-10-26 00:00:00'),\n",
       " Timestamp('2016-12-22 00:00:00'),\n",
       " Timestamp('2017-02-15 00:00:00'),\n",
       " Timestamp('2017-02-27 00:00:00'),\n",
       " Timestamp('2017-03-22 00:00:00'),\n",
       " Timestamp('2017-04-07 00:00:00'),\n",
       " Timestamp('2017-05-09 00:00:00'),\n",
       " Timestamp('2017-05-22 00:00:00'),\n",
       " Timestamp('2017-06-12 00:00:00'),\n",
       " Timestamp('2017-08-07 00:00:00'),\n",
       " Timestamp('2017-09-25 00:00:00'),\n",
       " Timestamp('2017-11-08 00:00:00'),\n",
       " Timestamp('2017-11-30 00:00:00'),\n",
       " Timestamp('2018-02-02 00:00:00'),\n",
       " Timestamp('2018-03-19 00:00:00'),\n",
       " Timestamp('2018-05-16 00:00:00'),\n",
       " Timestamp('2018-06-20 00:00:00'),\n",
       " Timestamp('2018-08-14 00:00:00'),\n",
       " Timestamp('2018-09-03 00:00:00'),\n",
       " Timestamp('2018-12-10 00:00:00'),\n",
       " Timestamp('2018-12-24 00:00:00'),\n",
       " Timestamp('2019-01-24 00:00:00'),\n",
       " Timestamp('2019-02-14 00:00:00'),\n",
       " Timestamp('2019-04-08 00:00:00'),\n",
       " Timestamp('2019-06-13 00:00:00'),\n",
       " Timestamp('2019-07-08 00:00:00'),\n",
       " Timestamp('2019-09-19 00:00:00'),\n",
       " Timestamp('2019-10-07 00:00:00'),\n",
       " Timestamp('2019-11-13 00:00:00'),\n",
       " Timestamp('2019-11-29 00:00:00'),\n",
       " Timestamp('2019-12-31 00:00:00'),\n",
       " Timestamp('2020-01-21 00:00:00'),\n",
       " Timestamp('2020-02-18 00:00:00'),\n",
       " Timestamp('2020-02-24 00:00:00'),\n",
       " Timestamp('2020-05-18 00:00:00'),\n",
       " Timestamp('2020-06-16 00:00:00'),\n",
       " Timestamp('2020-06-30 00:00:00'),\n",
       " Timestamp('2020-07-14 00:00:00'),\n",
       " Timestamp('2020-07-30 00:00:00'),\n",
       " Timestamp('2020-08-31 00:00:00'),\n",
       " Timestamp('2020-10-26 00:00:00'),\n",
       " Timestamp('2020-12-21 00:00:00'),\n",
       " Timestamp('2021-01-18 00:00:00'),\n",
       " Timestamp('2021-02-19 00:00:00'),\n",
       " Timestamp('2021-04-12 00:00:00'),\n",
       " Timestamp('2021-06-17 00:00:00'),\n",
       " Timestamp('2021-09-20 00:00:00'),\n",
       " Timestamp('2021-09-28 00:00:00'),\n",
       " Timestamp('2021-10-22 00:00:00'),\n",
       " Timestamp('2021-12-20 00:00:00'),\n",
       " Timestamp('2022-01-21 00:00:00'),\n",
       " Timestamp('2022-04-13 00:00:00'),\n",
       " Timestamp('2022-06-13 00:00:00'),\n",
       " Timestamp('2022-08-22 00:00:00'),\n",
       " Timestamp('2022-09-15 00:00:00'),\n",
       " Timestamp('2022-11-21 00:00:00'),\n",
       " Timestamp('2022-12-07 00:00:00'),\n",
       " Timestamp('2023-01-27 00:00:00'),\n",
       " Timestamp('2023-02-22 00:00:00'),\n",
       " Timestamp('2023-03-13 00:00:00')]"
      ]
     },
     "execution_count": 47,
     "metadata": {},
     "output_type": "execute_result"
    }
   ],
   "source": [
    "sell= [income for income in sell if str(income) != 'nan']\n",
    "sell"
   ]
  },
  {
   "cell_type": "code",
   "execution_count": 48,
   "id": "92fe3cc2",
   "metadata": {},
   "outputs": [
    {
     "name": "stdout",
     "output_type": "stream",
     "text": [
      "                   Open         High          Low        Close    Adj Close  \\\n",
      "Date                                                                          \n",
      "2010-01-06  5278.149902  5310.850098  5260.049805  5281.799805  5281.799805   \n",
      "2010-01-07  5281.799805  5302.549805  5244.750000  5263.100098  5263.100098   \n",
      "2010-01-08  5264.250000  5276.750000  5234.700195  5244.750000  5244.750000   \n",
      "2010-01-11  5263.799805  5287.200195  5227.799805  5249.399902  5249.399902   \n",
      "2010-01-12  5251.100098  5300.500000  5200.950195  5210.399902  5210.399902   \n",
      "\n",
      "            Volume  \n",
      "Date                \n",
      "2010-01-06       0  \n",
      "2010-01-07       0  \n",
      "2010-01-08       0  \n",
      "2010-01-11       0  \n",
      "2010-01-12       0  \n"
     ]
    }
   ],
   "source": [
    "\n",
    "mask7 = (df.index > '2010-01-05 ') & (df.index <= '2010-01-12')\n",
    "print(df.loc[mask7])\n",
    "mask8 = df.loc[mask7]"
   ]
  },
  {
   "cell_type": "code",
   "execution_count": 68,
   "id": "9845c9af",
   "metadata": {},
   "outputs": [
    {
     "name": "stdout",
     "output_type": "stream",
     "text": [
      "[*********************100%***********************]  1 of 1 completed\n"
     ]
    },
    {
     "data": {
      "image/png": "[encoded data removed]",
      "text/plain": [
       "<Figure size 640x480 with 1 Axes>"
      ]
     },
     "metadata": {},
     "output_type": "display_data"
    }
   ],
   "source": [
    "# code for keltner channel and graph of the same \n",
    "intc = yf.download(\"^NSEI\",\"2010-01-01\" ,\"2023-05-01\")\n",
    "def kc(high, low, close, lookback_period, multiplier, atr_lookback):\n",
    "    tr1 = pd.DataFrame(high - low)\n",
    "    tr2 = pd.DataFrame(abs(high - close.shift()))\n",
    "    tr3 = pd.DataFrame(abs(low - close.shift()))\n",
    "    frames = [tr1, tr2, tr3]\n",
    "    tr = pd.concat(frames, axis = 1, join = 'inner').max(axis = 1)\n",
    "    atr = tr.ewm(alpha = 1/atr_lookback).mean()\n",
    "    \n",
    "    middle = close.ewm(lookback_period).mean()\n",
    "    upper = close.ewm(lookback_period).mean() + multiplier * atr\n",
    "    lower = close.ewm(lookback_period).mean() - multiplier * atr\n",
    "    \n",
    "    return middle, upper, lower\n",
    "    \n",
    "intc = intc.iloc[:,:4]\n",
    "intc['middle'], intc['upper'], intc['lower'] = kc(intc['High'], intc['Low'], intc['Close'], 20, 2, 10)\n",
    "plt.plot(intc)\n",
    "plt.show()\n"
   ]
  },
  {
   "cell_type": "code",
   "execution_count": 74,
   "id": "d15d5172",
   "metadata": {},
   "outputs": [
    {
     "data": {
      "text/plain": [
       "[Timestamp('2010-03-08 00:00:00'),\n",
       " Timestamp('2010-06-21 00:00:00'),\n",
       " Timestamp('2011-03-31 00:00:00'),\n",
       " Timestamp('2011-07-07 00:00:00'),\n",
       " Timestamp('2011-10-28 00:00:00'),\n",
       " Timestamp('2012-01-20 00:00:00'),\n",
       " Timestamp('2012-06-29 00:00:00'),\n",
       " Timestamp('2013-04-25 00:00:00'),\n",
       " Timestamp('2013-07-15 00:00:00'),\n",
       " Timestamp('2013-09-19 00:00:00'),\n",
       " Timestamp('2014-02-28 00:00:00'),\n",
       " Timestamp('2015-01-29 00:00:00'),\n",
       " Timestamp('2015-07-06 00:00:00'),\n",
       " Timestamp('2015-10-19 00:00:00'),\n",
       " Timestamp('2016-03-23 00:00:00'),\n",
       " Timestamp('2017-01-12 00:00:00'),\n",
       " Timestamp('2018-04-24 00:00:00'),\n",
       " Timestamp('2018-12-19 00:00:00'),\n",
       " Timestamp('2019-05-20 00:00:00'),\n",
       " Timestamp('2019-09-23 00:00:00'),\n",
       " Timestamp('2020-06-03 00:00:00'),\n",
       " Timestamp('2020-10-14 00:00:00'),\n",
       " Timestamp('2022-01-05 00:00:00'),\n",
       " Timestamp('2022-04-04 00:00:00'),\n",
       " Timestamp('2022-07-22 00:00:00'),\n",
       " Timestamp('2022-11-01 00:00:00'),\n",
       " Timestamp('2023-04-13 00:00:00')]"
      ]
     },
     "execution_count": 74,
     "metadata": {},
     "output_type": "execute_result"
    }
   ],
   "source": [
    "# stratergy for calculating buy and sell dates in keltner channel .\n",
    "def kc_strategy(prices, kc_upper, kc_lower):\n",
    "    buy_date = []\n",
    "    sell_date = []\n",
    "    kc_signal = []\n",
    "    signal = 0\n",
    "    \n",
    "    for i in range(len(prices)-1):\n",
    "        if prices[i] < kc_lower[i] and prices[i+1] > prices[i]:\n",
    "            if signal != 1:\n",
    "                buy_date.append(prices.index[i])\n",
    "                sell_date.append(np.nan)\n",
    "                signal = 1\n",
    "                kc_signal.append(signal)\n",
    "            else:\n",
    "                buy_date.append(np.nan)\n",
    "                sell_date.append(np.nan)\n",
    "                kc_signal.append(0)\n",
    "        elif prices[i] > kc_upper[i] and prices[i+1] < prices[i]:\n",
    "            if signal != -1:\n",
    "                buy_date.append(np.nan)\n",
    "                sell_date.append(prices.index[i])\n",
    "                signal = -1\n",
    "                kc_signal.append(signal)\n",
    "            else:\n",
    "                buy_date.append(np.nan)\n",
    "                sell_date.append(np.nan)\n",
    "                kc_signal.append(0)\n",
    "        else:\n",
    "            buy_date.append(np.nan)\n",
    "            sell_date.append(np.nan)\n",
    "            kc_signal.append(0)\n",
    "            \n",
    "    return buy_date, sell_date, kc_signal\n",
    "\n",
    "buy, sell, kc_signal = kc_strategy(intc['Close'], intc['upper'], intc['lower'])\n",
    "sell= [incom for incom in sell if str(incom) != 'nan']\n",
    "sell"
   ]
  },
  {
   "cell_type": "code",
   "execution_count": 70,
   "id": "91761a35",
   "metadata": {},
   "outputs": [
    {
     "data": {
      "text/plain": [
       "[Timestamp('2010-01-27 00:00:00'),\n",
       " Timestamp('2010-05-07 00:00:00'),\n",
       " Timestamp('2011-01-11 00:00:00'),\n",
       " Timestamp('2011-05-05 00:00:00'),\n",
       " Timestamp('2011-08-09 00:00:00'),\n",
       " Timestamp('2011-11-21 00:00:00'),\n",
       " Timestamp('2012-05-04 00:00:00'),\n",
       " Timestamp('2013-02-26 00:00:00'),\n",
       " Timestamp('2013-06-13 00:00:00'),\n",
       " Timestamp('2013-08-02 00:00:00'),\n",
       " Timestamp('2014-02-04 00:00:00'),\n",
       " Timestamp('2014-12-17 00:00:00'),\n",
       " Timestamp('2015-03-27 00:00:00'),\n",
       " Timestamp('2015-08-24 00:00:00'),\n",
       " Timestamp('2015-11-13 00:00:00'),\n",
       " Timestamp('2016-11-04 00:00:00'),\n",
       " Timestamp('2018-03-07 00:00:00'),\n",
       " Timestamp('2018-09-24 00:00:00'),\n",
       " Timestamp('2019-05-13 00:00:00'),\n",
       " Timestamp('2019-07-25 00:00:00'),\n",
       " Timestamp('2020-02-03 00:00:00'),\n",
       " Timestamp('2020-09-24 00:00:00'),\n",
       " Timestamp('2021-11-26 00:00:00'),\n",
       " Timestamp('2022-02-14 00:00:00'),\n",
       " Timestamp('2022-05-13 00:00:00'),\n",
       " Timestamp('2022-09-29 00:00:00'),\n",
       " Timestamp('2022-12-23 00:00:00')]"
      ]
     },
     "execution_count": 70,
     "metadata": {},
     "output_type": "execute_result"
    }
   ],
   "source": [
    "buy_date= [income for income in buy if str(income) != 'nan']\n",
    "buy_date"
   ]
  },
  {
   "cell_type": "code",
   "execution_count": 71,
   "id": "b089ce10",
   "metadata": {},
   "outputs": [],
   "source": [
    "mask = (intc.index > '2010-01-27 ') & (intc.index <= '2010-03-08')\n",
    "mask2 = intc.loc[mask]"
   ]
  },
  {
   "cell_type": "code",
   "execution_count": 72,
   "id": "d61a6395",
   "metadata": {},
   "outputs": [],
   "source": [
    "mask1 = (intc.index > '2010-05-07') & (intc.index <= '2010-06-21')\n",
    "mask3 = intc.loc[mask1]\n"
   ]
  },
  {
   "cell_type": "code",
   "execution_count": 73,
   "id": "a367ab63",
   "metadata": {},
   "outputs": [
    {
     "name": "stdout",
     "output_type": "stream",
     "text": [
      "[*********************100%***********************]  1 of 1 completed\n"
     ]
    },
    {
     "data": {
      "image/png": "[encoded data removed]",
      "text/plain": [
       "<Figure size 640x480 with 1 Axes>"
      ]
     },
     "metadata": {},
     "output_type": "display_data"
    }
   ],
   "source": [
    "\n",
    "tick =yf.download(\"^NSEI\",\"2010-01-01\" ,\"2023-05-01\")\n",
    "def bollinger(df, n):\n",
    "    data = df['Close']\n",
    "    B_MA = pd.Series((data.rolling(n, min_periods=n).mean()), name='B_MA')\n",
    "    sigma = data.rolling(n, min_periods=n).std() \n",
    "    BU = pd.Series((B_MA + 2 * sigma), name='BU')\n",
    "    BL = pd.Series((B_MA - 2* sigma), name='BL')\n",
    "    df['bbl'] = df.index.map(BL)\n",
    "    df['bbh'] = df.index.map(BU)\n",
    "    df[\"B_MA\"] =df.index.map(B_MA)\n",
    "    return df\n",
    "t = bollinger(tick,20)\n",
    "plt.plot(t['bbl'])\n",
    "plt.plot(t['bbh'])\n",
    "plt.plot(t['Close'])\n",
    "plt.show()"
   ]
  },
  {
   "cell_type": "code",
   "execution_count": 56,
   "id": "23243c10",
   "metadata": {},
   "outputs": [
    {
     "data": {
      "text/plain": [
       "[Timestamp('2010-05-07 00:00:00'),\n",
       " Timestamp('2011-01-11 00:00:00'),\n",
       " Timestamp('2011-05-05 00:00:00'),\n",
       " Timestamp('2011-11-21 00:00:00'),\n",
       " Timestamp('2012-05-04 00:00:00'),\n",
       " Timestamp('2012-07-26 00:00:00'),\n",
       " Timestamp('2012-10-30 00:00:00'),\n",
       " Timestamp('2013-02-11 00:00:00'),\n",
       " Timestamp('2013-06-13 00:00:00'),\n",
       " Timestamp('2014-10-16 00:00:00'),\n",
       " Timestamp('2014-12-17 00:00:00'),\n",
       " Timestamp('2015-08-24 00:00:00'),\n",
       " Timestamp('2016-09-29 00:00:00'),\n",
       " Timestamp('2017-06-28 00:00:00'),\n",
       " Timestamp('2017-08-11 00:00:00'),\n",
       " Timestamp('2017-09-27 00:00:00'),\n",
       " Timestamp('2018-03-07 00:00:00'),\n",
       " Timestamp('2018-09-11 00:00:00'),\n",
       " Timestamp('2020-02-03 00:00:00'),\n",
       " Timestamp('2020-09-24 00:00:00'),\n",
       " Timestamp('2021-01-29 00:00:00'),\n",
       " Timestamp('2021-11-22 00:00:00'),\n",
       " Timestamp('2022-02-24 00:00:00'),\n",
       " Timestamp('2022-09-29 00:00:00'),\n",
       " Timestamp('2022-12-23 00:00:00')]"
      ]
     },
     "execution_count": 56,
     "metadata": {},
     "output_type": "execute_result"
    }
   ],
   "source": [
    "# stratergy for bollinder bands for getting buy and sell dates \n",
    "def implement_bb_strategy(prices, bb_upper, bb_lower):\n",
    "    buy_date = []\n",
    "    sell_date = []\n",
    "    bb_signal = []\n",
    "    signal = 0\n",
    "    \n",
    "    for i in range(len(prices)):\n",
    "        if prices[i] < bb_lower[i] and prices[i+1] > prices[i]:\n",
    "            if signal != 1:\n",
    "                buy_date.append(prices.index[i])\n",
    "                sell_date.append(np.nan)\n",
    "                signal = 1\n",
    "                bb_signal.append(signal)\n",
    "            else:\n",
    "                buy_date.append(np.nan)\n",
    "                sell_date.append(np.nan)\n",
    "                bb_signal.append(0)\n",
    "        elif prices[i] > bb_upper[i] and prices[i+1] < prices[i]:\n",
    "            if signal != -1:\n",
    "                buy_date.append(np.nan)\n",
    "                sell_date.append(prices.index[i])\n",
    "                signal = -1\n",
    "                bb_signal.append(signal)\n",
    "            else:\n",
    "                buy_date.append(np.nan)\n",
    "                sell_date.append(np.nan)\n",
    "                bb_signal.append(0)\n",
    "        else:\n",
    "            buy_date.append(np.nan)\n",
    "            sell_date.append(np.nan)\n",
    "            bb_signal.append(0)\n",
    "            \n",
    "    return buy_date, sell_date, bb_signal\n",
    "\n",
    "buy_date, sell_date, bb_signal = implement_bb_strategy(t['Close'], t['bbh'], t['bbl'])\n",
    "buy_date= [incom for incom in buy_date if str(incom) != 'nan']\n",
    "buy_date"
   ]
  },
  {
   "cell_type": "code",
   "execution_count": 57,
   "id": "b5d131a4",
   "metadata": {},
   "outputs": [
    {
     "data": {
      "text/plain": [
       "[Timestamp('2010-03-03 00:00:00'),\n",
       " Timestamp('2010-07-13 00:00:00'),\n",
       " Timestamp('2011-03-31 00:00:00'),\n",
       " Timestamp('2011-10-28 00:00:00'),\n",
       " Timestamp('2012-01-17 00:00:00'),\n",
       " Timestamp('2012-06-08 00:00:00'),\n",
       " Timestamp('2012-09-17 00:00:00'),\n",
       " Timestamp('2012-11-30 00:00:00'),\n",
       " Timestamp('2013-04-25 00:00:00'),\n",
       " Timestamp('2013-09-11 00:00:00'),\n",
       " Timestamp('2014-11-28 00:00:00'),\n",
       " Timestamp('2015-07-17 00:00:00'),\n",
       " Timestamp('2016-05-30 00:00:00'),\n",
       " Timestamp('2017-01-27 00:00:00'),\n",
       " Timestamp('2017-07-13 00:00:00'),\n",
       " Timestamp('2017-09-12 00:00:00'),\n",
       " Timestamp('2018-01-15 00:00:00'),\n",
       " Timestamp('2018-07-12 00:00:00'),\n",
       " Timestamp('2019-09-23 00:00:00'),\n",
       " Timestamp('2020-06-03 00:00:00'),\n",
       " Timestamp('2020-11-11 00:00:00'),\n",
       " Timestamp('2021-07-15 00:00:00'),\n",
       " Timestamp('2022-01-05 00:00:00'),\n",
       " Timestamp('2022-07-08 00:00:00'),\n",
       " Timestamp('2022-11-01 00:00:00')]"
      ]
     },
     "execution_count": 57,
     "metadata": {},
     "output_type": "execute_result"
    }
   ],
   "source": [
    "sell_date= [incom for incom in sell_date if str(incom) != 'nan']\n",
    "sell_date"
   ]
  },
  {
   "cell_type": "code",
   "execution_count": 58,
   "id": "c1328f6b",
   "metadata": {},
   "outputs": [],
   "source": [
    "masked = (t.index > '2010-05-07 ') & (t.index <= '2010-07-13')\n",
    "mask5 = t.loc[masked]"
   ]
  },
  {
   "cell_type": "code",
   "execution_count": 60,
   "id": "05e8a96d",
   "metadata": {},
   "outputs": [
    {
     "name": "stdout",
     "output_type": "stream",
     "text": [
      "[*********************100%***********************]  1 of 1 completed\n",
      "[*********************100%***********************]  1 of 1 completed\n"
     ]
    }
   ],
   "source": [
    "\n",
    "Indices=pd.DataFrame(index=[\"Cumulative Returns\",\"Volatility\",\"Sharpe ratio\",\"Sortino ratio\",\"MDD\",\"MACD\"],columns=['^IXIC','^NSEI'])\n",
    "for stock in Indices.columns:\n",
    "    stok=yf.download(stock,start=\"2010-01-01\",end=\"2023-05-01\")\n",
    "    \n",
    "    closing_price=stok[\"Close\"]\n",
    "    opening_price=stok[\"Open\"]\n",
    "    daily_returns=(closing_price-opening_price)/closing_price\n",
    "\n",
    "    final_price=stok.iloc[-1][\"Close\"]\n",
    "    original_price=stok.iloc[0][\"Open\"]\n",
    "\n",
    "    cumulative=(final_price-original_price)/original_price\n",
    "    Indices.at[\"Cumulative Returns\",stock]=cumulative\n",
    "    rfrate = 0.0525\n",
    "    std=daily_returns.std()\n",
    "    time_period=stok.shape[0]\n",
    "    volatility=std*sqrt(time_period)\n",
    "    Indices.at[\"Volatility\",stock]=volatility\n",
    "\n",
    "    excess=daily_returns-rfrate\n",
    "    sharpe=excess.mean()/excess.std()\n",
    "\n",
    "    Indices.at[\"Sharpe ratio\",stock]=sharpe\n",
    "    \n",
    "    negative_returns=daily_returns[daily_returns<0]\n",
    "    sortino=excess.mean()/negative_returns.std()\n",
    "\n",
    "    Indices.at[\"Sortino ratio\",stock]=sortino\n",
    "\n",
    "    peak=closing_price.max()\n",
    "    index=list(np.where(closing_price==peak))\n",
    "    index=index[0][0]\n",
    "\n",
    "    indices=closing_price.index\n",
    "    peak_day=indices[index]\n",
    "\n",
    "    peak_day=peak_day.strftime(\"%Y-%m-%d\")\n",
    "\n",
    "    stck_later=stok.loc[peak_day:\"2023-04-26\",:]\n",
    "    minimum=stck_later[\"Close\"].min()\n",
    "    Mdd=(minimum-peak)/peak*100\n",
    "\n",
    "    Indices.at[\"MDD\",stock]=Mdd"
   ]
  },
  {
   "cell_type": "code",
   "execution_count": 61,
   "id": "7a0557cd",
   "metadata": {},
   "outputs": [
    {
     "data": {
      "text/html": [
       "<div>\n",
       "<style scoped>\n",
       "    .dataframe tbody tr th:only-of-type {\n",
       "        vertical-align: middle;\n",
       "    }\n",
       "\n",
       "    .dataframe tbody tr th {\n",
       "        vertical-align: top;\n",
       "    }\n",
       "\n",
       "    .dataframe thead th {\n",
       "        text-align: right;\n",
       "    }\n",
       "</style>\n",
       "<table border=\"1\" class=\"dataframe\">\n",
       "  <thead>\n",
       "    <tr style=\"text-align: right;\">\n",
       "      <th></th>\n",
       "      <th>^IXIC</th>\n",
       "      <th>^NSEI</th>\n",
       "    </tr>\n",
       "  </thead>\n",
       "  <tbody>\n",
       "    <tr>\n",
       "      <th>Cumulative Returns</th>\n",
       "      <td>4.328856</td>\n",
       "      <td>2.473437</td>\n",
       "    </tr>\n",
       "    <tr>\n",
       "      <th>Volatility</th>\n",
       "      <td>0.586643</td>\n",
       "      <td>0.523497</td>\n",
       "    </tr>\n",
       "    <tr>\n",
       "      <th>Sharpe ratio</th>\n",
       "      <td>-5.167094</td>\n",
       "      <td>-5.81691</td>\n",
       "    </tr>\n",
       "    <tr>\n",
       "      <th>Sortino ratio</th>\n",
       "      <td>-6.616088</td>\n",
       "      <td>-8.039478</td>\n",
       "    </tr>\n",
       "    <tr>\n",
       "      <th>MDD</th>\n",
       "      <td>-36.39528</td>\n",
       "      <td>-9.92664</td>\n",
       "    </tr>\n",
       "    <tr>\n",
       "      <th>MACD</th>\n",
       "      <td>NaN</td>\n",
       "      <td>NaN</td>\n",
       "    </tr>\n",
       "  </tbody>\n",
       "</table>\n",
       "</div>"
      ],
      "text/plain": [
       "                       ^IXIC     ^NSEI\n",
       "Cumulative Returns  4.328856  2.473437\n",
       "Volatility          0.586643  0.523497\n",
       "Sharpe ratio       -5.167094  -5.81691\n",
       "Sortino ratio      -6.616088 -8.039478\n",
       "MDD                -36.39528  -9.92664\n",
       "MACD                     NaN       NaN"
      ]
     },
     "execution_count": 61,
     "metadata": {},
     "output_type": "execute_result"
    }
   ],
   "source": [
    "Indices"
   ]
  },
  {
   "cell_type": "code",
   "execution_count": 63,
   "id": "f0da7f28",
   "metadata": {},
   "outputs": [
    {
     "name": "stdout",
     "output_type": "stream",
     "text": [
      "4.805868136177326\n",
      "0.05367057371992597\n",
      "-7.910813771589578\n"
     ]
    }
   ],
   "source": [
    "#for ketlner code sharpe ratio, cumulative returns\n",
    "stok = mask2\n",
    "closing_price=stok[\"Close\"]\n",
    "opening_price=stok[\"Open\"]\n",
    "daily_returns=(closing_price-opening_price)/closing_price\n",
    "\n",
    "final_price=stok.iloc[-1][\"Close\"]\n",
    "original_price=stok.iloc[0][\"Open\"]\n",
    "\n",
    "cumulative=(final_price-original_price)/original_price\n",
    "rfrate = 0.0525\n",
    "std=daily_returns.std()\n",
    "time_period=stok.shape[0]\n",
    "volatility=std*sqrt(time_period)\n",
    "\n",
    "excess=abs(daily_returns-rfrate)\n",
    "sharpe=excess.mean()/excess.std()\n",
    "print(sharpe)\n",
    "print(cumulative)\n",
    "peak=closing_price.max()\n",
    "index=list(np.where(closing_price==peak))\n",
    "index=index[0][0]\n",
    "\n",
    "indices=closing_price.index\n",
    "peak_day=indices[index]\n",
    "\n",
    "peak_day=peak_day.strftime(\"%Y-%m-%d\")\n",
    "\n",
    "stck_later=stok.loc[\"2010-01-27\":\"2010-03-08\"]\n",
    "minimum=stck_later[\"Close\"].min()\n",
    "Mdd=(minimum-peak)/peak*100\n",
    "print(Mdd)"
   ]
  },
  {
   "cell_type": "code",
   "execution_count": 26,
   "id": "95ec017d",
   "metadata": {},
   "outputs": [
    {
     "name": "stdout",
     "output_type": "stream",
     "text": [
      "3.951866133657266\n",
      "0.07441407659660612\n",
      "-10.996822846932032\n"
     ]
    }
   ],
   "source": [
    "stok = mask5\n",
    "closing_price=stok[\"Close\"]\n",
    "opening_price=stok[\"Open\"]\n",
    "daily_returns=(closing_price-opening_price)/closing_price\n",
    "\n",
    "final_price=stok.iloc[-1][\"Close\"]\n",
    "original_price=stok.iloc[0][\"Open\"]\n",
    "\n",
    "cumulative=(final_price-original_price)/original_price\n",
    "rfrate = 0.0525\n",
    "std=daily_returns.std()\n",
    "time_period=stok.shape[0]\n",
    "volatility=std*sqrt(time_period)\n",
    "\n",
    "excess=abs(daily_returns-rfrate)\n",
    "sharpe=excess.mean()/excess.std()\n",
    "print(sharpe)\n",
    "print(cumulative)\n",
    "peak=closing_price.max()\n",
    "index=list(np.where(closing_price==peak))\n",
    "index=index[0][0]\n",
    "\n",
    "indices=closing_price.index\n",
    "peak_day=indices[index]\n",
    "\n",
    "peak_day=peak_day.strftime(\"%Y-%m-%d\")\n",
    "\n",
    "stck_later=stok.loc[\"2010-05-07\":\"2010-07-13\"]\n",
    "minimum=stck_later[\"Close\"].min()\n",
    "Mdd=(minimum-peak)/peak*100\n",
    "print(Mdd)"
   ]
  },
  {
   "cell_type": "code",
   "execution_count": 64,
   "id": "80f88b64",
   "metadata": {},
   "outputs": [
    {
     "name": "stdout",
     "output_type": "stream",
     "text": [
      "18.451382828647525\n",
      "-0.012835937071418864\n",
      "-0.7014617376186614\n"
     ]
    }
   ],
   "source": [
    "stok = mask8\n",
    "closing_price=stok[\"Close\"]\n",
    "opening_price=stok[\"Open\"]\n",
    "daily_returns=(closing_price-opening_price)/closing_price\n",
    "\n",
    "final_price=stok.iloc[-1][\"Close\"]\n",
    "original_price=stok.iloc[0][\"Open\"]\n",
    "\n",
    "cumulative=(final_price-original_price)/original_price\n",
    "rfrate = 0.0525\n",
    "std=daily_returns.std()\n",
    "time_period=stok.shape[0]\n",
    "volatility=std*sqrt(time_period)\n",
    "\n",
    "excess=abs(daily_returns-rfrate)\n",
    "sharpe=excess.mean()/excess.std()\n",
    "print(sharpe)\n",
    "print(cumulative)\n",
    "peak=closing_price.max()\n",
    "index=list(np.where(closing_price==peak))\n",
    "index=index[0][0]\n",
    "\n",
    "indices=closing_price.index\n",
    "peak_day=indices[index]\n",
    "\n",
    "peak_day=peak_day.strftime(\"%Y-%m-%d\")\n",
    "\n",
    "stck_later=stok.loc[\"2010-01-05\":\"2010-01-11\"]\n",
    "minimum=stck_later[\"Close\"].min()\n",
    "Mdd=(minimum-peak)/peak*100\n",
    "print(Mdd)"
   ]
  }
 ],
 "metadata": {
  "kernelspec": {
   "display_name": "Python 3 (ipykernel)",
   "language": "python",
   "name": "python3"
  },
  "language_info": {
   "codemirror_mode": {
    "name": "ipython",
    "version": 3
   },
   "file_extension": ".py",
   "mimetype": "text/x-python",
   "name": "python",
   "nbconvert_exporter": "python",
   "pygments_lexer": "ipython3",
   "version": "3.11.3"
  }
 },
 "nbformat": 4,
 "nbformat_minor": 5
}
