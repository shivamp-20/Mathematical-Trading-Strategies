{
 "cells": [
  {
   "cell_type": "code",
   "execution_count": 1,
   "id": "692e9a1a",
   "metadata": {},
   "outputs": [],
   "source": [
    "import yfinance as yf\n",
    "import pandas as pd\n",
    "import numpy as np"
   ]
  },
  {
   "cell_type": "code",
   "execution_count": 2,
   "id": "a2e01dd1",
   "metadata": {},
   "outputs": [],
   "source": [
    "nasdaq_ticker = \"^IXIC\"\n",
    "nse_ticker = \"^NSEI\""
   ]
  },
  {
   "cell_type": "markdown",
   "id": "b7ad48aa",
   "metadata": {},
   "source": [
    "# Correlation Analysis:\n",
    "**a) Collect historical data for NASDAQ and NSE indices.**"
   ]
  },
  {
   "cell_type": "code",
   "execution_count": 3,
   "id": "bdda4c93",
   "metadata": {},
   "outputs": [
    {
     "name": "stdout",
     "output_type": "stream",
     "text": [
      "[*********************100%***********************]  1 of 1 completed\n",
      "[*********************100%***********************]  1 of 1 completed\n"
     ]
    }
   ],
   "source": [
    "# Download historical data for indices\n",
    "nasdaq_data = yf.download(nasdaq_ticker, start='2010-01-01', end='2023-05-01')\n",
    "nse_data = yf.download(nse_ticker, start='2010-01-01', end='2023-05-01')"
   ]
  },
  {
   "cell_type": "markdown",
   "id": "ffd5eff2",
   "metadata": {},
   "source": [
    "**b) Calculate the correlation coefficient between the two indices.**"
   ]
  },
  {
   "cell_type": "code",
   "execution_count": 4,
   "id": "9964b11a",
   "metadata": {},
   "outputs": [
    {
     "name": "stdout",
     "output_type": "stream",
     "text": [
      "Correlation Coefficient: 0.9513138758576779\n"
     ]
    }
   ],
   "source": [
    "# Extracting the 'Close' prices from the historical data\n",
    "nasdaq_close = nasdaq_data['Close']\n",
    "nse_close = nse_data['Close']\n",
    "\n",
    "# Calculate the correlation coefficient\n",
    "correlation = nasdaq_close.corr(nse_close)\n",
    "print(\"Correlation Coefficient:\", correlation)\n"
   ]
  },
  {
   "cell_type": "markdown",
   "id": "89a1b9f4",
   "metadata": {},
   "source": [
    "**c) Analyze the strength and direction of the relationship.**\n",
    "\n",
    "The correlation coefficient is close to 1, so it indicates a strong positive relationship, meaning that when one index goes up, the other tends to go up as well."
   ]
  },
  {
   "cell_type": "markdown",
   "id": "16ffefef",
   "metadata": {},
   "source": [
    "# Lead-Lag Relationship:\n",
    "**a) Identify potential lead-lag relationships between the indices.**"
   ]
  },
  {
   "cell_type": "code",
   "execution_count": 5,
   "id": "442fb88b",
   "metadata": {},
   "outputs": [
    {
     "name": "stdout",
     "output_type": "stream",
     "text": [
      "Maximum Correlation: 0.9529138735366324\n",
      "Lag Period with Maximum Correlation: 20\n"
     ]
    }
   ],
   "source": [
    "# Define the lagged time periods to analyze\n",
    "lag_periods = range(1, 21)  # Analyze lag periods from 1 to 20 days\n",
    "\n",
    "# Calculate the lagged correlation coefficients\n",
    "lagged_correlations = []\n",
    "for lag in lag_periods:\n",
    "    nasdaq_lagged = nasdaq_close.shift(lag)\n",
    "    correlation = nasdaq_lagged.corr(nse_close)\n",
    "    lagged_correlations.append(correlation)\n",
    "\n",
    "# Find the lag period with the highest correlation coefficient\n",
    "max_correlation = np.max(lagged_correlations)\n",
    "max_correlation_lag = lag_periods[np.argmax(lagged_correlations)]\n",
    "print(\"Maximum Correlation:\", max_correlation)\n",
    "print(\"Lag Period with Maximum Correlation:\", max_correlation_lag)"
   ]
  },
  {
   "cell_type": "markdown",
   "id": "dbbb0847",
   "metadata": {},
   "source": [
    "**b) Analyze data to determine consistent leading or lagging behavior.**\n",
    "\n",
    "As lag period with maximum correlation is positive and equal to 20, so NASDAQ leads NSE by 20 number of days"
   ]
  },
  {
   "cell_type": "markdown",
   "id": "c530ad5c",
   "metadata": {},
   "source": [
    "**c) Determine the index to be used for parameter optimization.**\n",
    "\n",
    "As NASDAQ leads NSE, so we will use NASDAQ for parameter optimization.\n",
    "\n",
    "**d) Explanation for choosing the index for parameter optimization**\n",
    "\n",
    "This is due to the fact that leading index tends to provide better parameter optimization results."
   ]
  },
  {
   "cell_type": "markdown",
   "id": "d522f9d8",
   "metadata": {},
   "source": [
    "# Indicator Coding:\n",
    "**a) Code Keltner Channel, Bollinger Bands, and MACD indicators.**"
   ]
  },
  {
   "cell_type": "code",
   "execution_count": 6,
   "id": "df9161a9",
   "metadata": {},
   "outputs": [],
   "source": [
    "# Defining function for keltner channel\n",
    "def calculate_keltner_channel(high, low, close, n=20):\n",
    "    typical_price = (high + low + close) / 3\n",
    "    atr = typical_price.diff().abs().rolling(n).mean()\n",
    "    keltner_middle = typical_price.rolling(n).mean()\n",
    "    keltner_upper = keltner_middle + (2 * atr)\n",
    "    keltner_lower = keltner_middle - (2 * atr)\n",
    "    return keltner_middle, keltner_upper, keltner_lower\n",
    "\n",
    "# Defining function for bollinger bands\n",
    "def calculate_bollinger_bands(data, window_size, num_std):\n",
    "    rolling_mean = data.rolling(window=window_size).mean()\n",
    "    rolling_std = data.rolling(window=window_size).std()\n",
    "    \n",
    "    upper_band = rolling_mean + (rolling_std * num_std)\n",
    "    lower_band = rolling_mean - (rolling_std * num_std)\n",
    "    \n",
    "    return rolling_mean, upper_band, lower_band\n",
    "\n",
    "# Defining function for MACD\n",
    "def calculate_macd(data, short_period=12, long_period=26, signal_period=9):\n",
    "    \n",
    "    ema_short = data.ewm(span=short_period, adjust=False).mean()\n",
    "    ema_long = data.ewm(span=long_period, adjust=False).mean()\n",
    "    macd_line = ema_short - ema_long\n",
    "    signal_line = macd_line.ewm(span=signal_period, adjust=False).mean()\n",
    "    macd_histogram = macd_line - signal_line\n",
    "    \n",
    "    return macd_line, signal_line, macd_histogram\n",
    "# Calculation of Keltner Channel\n",
    "nasdaq_data['keltner_middle'], nasdaq_data['keltner_upper'], nasdaq_data['keltner_lower'] = calculate_keltner_channel(\n",
    "    nasdaq_data['High'], nasdaq_data['Low'], nasdaq_data['Close'], n=20\n",
    ")\n",
    "\n",
    "# Calculation of Bollinger Bands\n",
    "nasdaq_data['bb_middle'], nasdaq_data['bb_upper'], nasdaq_data['bb_lower'] = calculate_bollinger_bands(nasdaq_data['Close'], 20, 2 \n",
    ")\n",
    "\n",
    "# Calculating MACD\n",
    "nasdaq_data['macd'], nasdaq_data['macd_signal'], nasdaq_data['macd_hist'] = calculate_macd(\n",
    "    nasdaq_data['Close']\n",
    ")"
   ]
  },
  {
   "cell_type": "code",
   "execution_count": 7,
   "id": "8ac8a336",
   "metadata": {},
   "outputs": [],
   "source": [
    "def calculate_volatility(data, window=252):\n",
    "    returns = np.log(data['Close'] / data['Close'].shift(1))\n",
    "    volatility = returns.rolling(window).std() * np.sqrt(252)\n",
    "    \n",
    "    return volatility\n",
    "\n",
    "def calculate_max_drawdown(data):\n",
    "    cumulative_returns = (1 + data['Returns']).cumprod()\n",
    "    max_drawdown = 1 - cumulative_returns.div(cumulative_returns.cummax())\n",
    "    \n",
    "    return max_drawdown\n",
    "\n",
    "def calculate_sharpe_ratio(returns, risk_free_rate=0):\n",
    "    excess_returns = returns - risk_free_rate\n",
    "    sharpe_ratio = excess_returns.mean() / excess_returns.std()\n",
    "    \n",
    "    return sharpe_ratio\n",
    "\n",
    "def calculate_sortino_ratio(returns, risk_free_rate=0):\n",
    "    downside_returns = returns[returns < risk_free_rate]\n",
    "    sortino_ratio = (returns.mean() - risk_free_rate) / downside_returns.std()\n",
    "    \n",
    "    return sortino_ratio"
   ]
  },
  {
   "cell_type": "markdown",
   "id": "f7097ab2",
   "metadata": {},
   "source": [
    "# Parameter Optimization:\n",
    "\n",
    "**a) Optimize parameters for the indicators on NASDAQ.</br>\n",
    "b) Used metrics coded in last assignment(volatality, max dropdown, sharpe ratio, sortino ratio) to evaluate strategy.</br>\n",
    "c) Documented the optimized parameters for future reference.**"
   ]
  },
  {
   "cell_type": "code",
   "execution_count": 13,
   "id": "5ea38bf5",
   "metadata": {},
   "outputs": [],
   "source": [
    "def optimize_parameters(data, indicator):\n",
    "    best_params = {'window': None, 'std_dev': None,\n",
    "                   'volatility': float('inf'), 'max_drawdown': float('inf'),\n",
    "                   'sharpe_ratio': float('-inf'), 'sortino_ratio': float('-inf')}\n",
    "    \n",
    "    if indicator == 'keltner':\n",
    "        for window in range(10, 50, 5):\n",
    "            for multiplier in range(1, 4):\n",
    "                middle, upper_band, lower_band = calculate_keltner_channel(data, window, multiplier)\n",
    "                returns = (data['Close'] / data['Close'].shift(1)) - 1\n",
    "                volatility = returns.std() * np.sqrt(252)\n",
    "                sharpe_ratio = (returns.mean() - 0.02) / volatility\n",
    "                downside_returns = returns.copy()\n",
    "                downside_returns[returns >= 0] = 0\n",
    "                sortino_ratio = (returns.mean() - 0.02) / np.sqrt((downside_returns**2).mean())    \n",
    "                max_drawdown = (data['Close'].rolling(window, min_periods=1).max() - data['Close']) / data['Close'].rolling(window, min_periods=1).max()\n",
    "                max_drawdown = max_drawdown.max()\n",
    "                \n",
    "                if (volatility < best_params['volatility']).all() and \\\n",
    "                   (max_drawdown < best_params['max_drawdown']) and \\\n",
    "                   (sharpe_ratio > best_params['sharpe_ratio']).all() and \\\n",
    "                   (sortino_ratio > best_params['sortino_ratio']).all():\n",
    "                    \n",
    "                    best_params['window'] = window\n",
    "                    best_params['multiplier'] = multiplier\n",
    "                    best_params['volatility'] = volatility\n",
    "                    best_params['max_drawdown'] = max_drawdown\n",
    "                    best_params['sharpe_ratio'] = sharpe_ratio\n",
    "                    best_params['sortino_ratio'] = sortino_ratio\n",
    "                    \n",
    "    elif indicator == 'bollinger':\n",
    "        for window in range(10, 50, 5):\n",
    "            for std_dev in [1, 1.5, 2]:\n",
    "                rolling_mean, upper_band, lower_band = calculate_bollinger_bands(data, window, std_dev)\n",
    "                returns = (data['Close'] / data['Close'].shift(1)) - 1\n",
    "                volatility = returns.std() * np.sqrt(252)\n",
    "                sharpe_ratio = (returns.mean() - 0.02) / volatility\n",
    "                downside_returns = returns.copy()\n",
    "                downside_returns[returns >= 0] = 0\n",
    "                sortino_ratio = (returns.mean() - 0.02) / np.sqrt((downside_returns**2).mean())    \n",
    "                max_drawdown = (data['Close'].rolling(window, min_periods=1).max() - data['Close']) / data['Close'].rolling(window, min_periods=1).max()\n",
    "                max_drawdown = max_drawdown.max()\n",
    "                \n",
    "                if (volatility < best_params['volatility']).all() and \\\n",
    "                   (max_drawdown < best_params['max_drawdown']) and \\\n",
    "                   (sharpe_ratio > best_params['sharpe_ratio']).all() and \\\n",
    "                   (sortino_ratio > best_params['sortino_ratio']).all():\n",
    "                    \n",
    "                    best_params['window'] = window\n",
    "                    best_params['std_dev'] = std_dev\n",
    "                    best_params['volatility'] = volatility\n",
    "                    best_params['max_drawdown'] = max_drawdown\n",
    "                    best_params['sharpe_ratio'] = sharpe_ratio\n",
    "                    best_params['sortino_ratio'] = sortino_ratio\n",
    "                    \n",
    "    elif indicator == 'macd':\n",
    "        for short_window in range(5, 20, 5):\n",
    "            for long_window in range(20, 50, 5):\n",
    "                for signal_window in range(5, 20, 5):\n",
    "                    if signal_window < short_window or signal_window < long_window:\n",
    "                        continue\n",
    "                    macd_line, signal_line, histogram = calculate_macd(data, short_window, long_window, signal_window)\n",
    "                    # Calculate trading signals and evaluate performance\n",
    "                    data['Signal'] = np.where(macd_line > signal_line, 1, -1)\n",
    "                    data['Strategy Returns'] = data['Signal'].shift(1) * data['Returns']\n",
    "                    \n",
    "                    # Calculate metrics\n",
    "                    volatility = calculate_volatility(data)\n",
    "                    max_drawdown = calculate_max_drawdown(data)\n",
    "                    sharpe_ratio = calculate_sharpe_ratio(data['Strategy Returns'])\n",
    "                    sortino_ratio = calculate_sortino_ratio(data['Strategy Returns'])\n",
    "                    if (volatility < best_params['volatility']).all() and \\\n",
    "                       (max_drawdown < best_params['max_drawdown']).all() and \\\n",
    "                       (sharpe_ratio > best_params['sharpe_ratio']).all() and \\\n",
    "                       (sortino_ratio > best_params['sortino_ratio']).all():\n",
    "                        \n",
    "                        best_params['short_window'] = short_window\n",
    "                        best_params['long_window'] = long_window\n",
    "                        best_params['signal_window'] = signal_window\n",
    "                        best_params['volatility'] = volatility\n",
    "                        best_params['max_drawdown'] = max_drawdown\n",
    "                        best_params['sharpe_ratio'] = sharpe_ratio\n",
    "                        best_params['sortino_ratio'] = sortino_ratio\n",
    "            \n",
    "    return best_params\n"
   ]
  },
  {
   "cell_type": "code",
   "execution_count": 14,
   "id": "5c42ef6d",
   "metadata": {},
   "outputs": [
    {
     "name": "stdout",
     "output_type": "stream",
     "text": [
      "Optimized Keltner Channel Parameters for NASDAQ:\n",
      "{'window': 10, 'std_dev': None, 'volatility': 0.20605521017000292, 'max_drawdown': 0.2343622692409484, 'sharpe_ratio': -0.09423687803436376, 'sortino_ratio': -2.089914729300807, 'multiplier': 1}\n",
      "\n",
      "Optimized Bollinger Bands Parameters for NASDAQ:\n",
      "{'window': 10, 'std_dev': 1, 'volatility': 0.20605521017000292, 'max_drawdown': 0.2343622692409484, 'sharpe_ratio': -0.09423687803436376, 'sortino_ratio': -2.089914729300807}\n",
      "\n",
      "Optimized MACD Parameters for NASDAQ:\n",
      "{'window': None, 'std_dev': None, 'volatility': inf, 'max_drawdown': inf, 'sharpe_ratio': -inf, 'sortino_ratio': -inf}\n"
     ]
    }
   ],
   "source": [
    "\n",
    "# Parameter optimization for Keltner Channel\n",
    "nasdaq_best_keltner_params = optimize_parameters(nasdaq_data, 'keltner')\n",
    "print(\"Optimized Keltner Channel Parameters for NASDAQ:\")\n",
    "print(nasdaq_best_keltner_params)\n",
    "\n",
    "# Parameter optimization for Bollinger Bands\n",
    "nasdaq_best_bollinger_params = optimize_parameters(nasdaq_data, 'bollinger')\n",
    "print(\"\\nOptimized Bollinger Bands Parameters for NASDAQ:\")\n",
    "print(nasdaq_best_bollinger_params)\n",
    "\n",
    "# Parameter optimization for MACD\n",
    "nasdaq_best_macd_params = optimize_parameters(nasdaq_data, 'macd')\n",
    "print(\"\\nOptimized MACD Parameters for NASDAQ:\")\n",
    "print(nasdaq_best_macd_params)"
   ]
  },
  {
   "cell_type": "markdown",
   "id": "cd763a48",
   "metadata": {},
   "source": [
    "# Signal Generation:\n",
    "**a) Apply optimized parameters to the other index.**"
   ]
  },
  {
   "cell_type": "code",
   "execution_count": 20,
   "id": "4fb6ab07",
   "metadata": {},
   "outputs": [
    {
     "name": "stdout",
     "output_type": "stream",
     "text": [
      "           Date  Keltner Channel Signals\n",
      "0    2010-01-04                        0\n",
      "1    2010-01-05                        0\n",
      "2    2010-01-06                        0\n",
      "3    2010-01-07                        0\n",
      "4    2010-01-08                        0\n",
      "...         ...                      ...\n",
      "3263 2023-04-24                        0\n",
      "3264 2023-04-25                        0\n",
      "3265 2023-04-26                        0\n",
      "3266 2023-04-27                        0\n",
      "3267 2023-04-28                        0\n",
      "\n",
      "[3268 rows x 2 columns]\n"
     ]
    }
   ],
   "source": [
    "nse_data['KC_Middle'] = nse_data['Close'].rolling(nasdaq_best_keltner_params['window']).mean()\n",
    "nse_data['KC_ATR'] = nse_data['High'] - nse_data['Low']\n",
    "nse_data['KC_Upper'] = nse_data['KC_Middle'] + (nasdaq_best_keltner_params['multiplier'] * nse_data['KC_ATR'].rolling(nasdaq_best_keltner_params['window']).mean())\n",
    "nse_data['KC_Lower'] = nse_data['KC_Middle'] - (nasdaq_best_keltner_params['multiplier'] * nse_data['KC_ATR'].rolling(nasdaq_best_keltner_params['window']).mean())\n",
    "\n",
    "signals = []\n",
    "position = 0\n",
    "\n",
    "for i in range(len(nse_data)):\n",
    "    if nse_data['Close'][i] > nse_data['KC_Upper'][i]:\n",
    "        if position == 0:\n",
    "            signals.append(1)  # Buy signal\n",
    "            position = 1\n",
    "        elif position == -1:\n",
    "            signals.append(1)  # Buy signal to close short position\n",
    "            position = 0\n",
    "        else:\n",
    "            signals.append(0)  # No signal\n",
    "    elif nse_data['Close'][i] < nse_data['KC_Lower'][i]:\n",
    "        if position == 0:\n",
    "            signals.append(-1)  # Sell signal to open short position\n",
    "            position = -1\n",
    "        elif position == 1:\n",
    "            signals.append(-1)  # Sell signal\n",
    "            position = 0\n",
    "        else:\n",
    "            signals.append(0)  # No signal\n",
    "    else:\n",
    "        signals.append(0)  # No signal\n",
    "\n",
    "# Create a DataFrame with dates and signals\n",
    "signal_dates = nse_data.index\n",
    "signals_df = pd.DataFrame({'Date': signal_dates, 'Keltner Channel Signals': signals})\n",
    "\n",
    "# Print the signals and their respective dates\n",
    "print(signals_df)"
   ]
  },
  {
   "cell_type": "code",
   "execution_count": null,
   "id": "96fafda1",
   "metadata": {},
   "outputs": [],
   "source": []
  }
 ],
 "metadata": {
  "kernelspec": {
   "display_name": "Python 3 (ipykernel)",
   "language": "python",
   "name": "python3"
  },
  "language_info": {
   "codemirror_mode": {
    "name": "ipython",
    "version": 3
   },
   "file_extension": ".py",
   "mimetype": "text/x-python",
   "name": "python",
   "nbconvert_exporter": "python",
   "pygments_lexer": "ipython3",
   "version": "3.9.13"
  }
 },
 "nbformat": 4,
 "nbformat_minor": 5
}
