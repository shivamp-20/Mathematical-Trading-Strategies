{
  "metadata": {
    "language_info": {
      "codemirror_mode": {
        "name": "python",
        "version": 3
      },
      "file_extension": ".py",
      "mimetype": "text/x-python",
      "name": "python",
      "nbconvert_exporter": "python",
      "pygments_lexer": "ipython3",
      "version": "3.8"
    },
    "kernelspec": {
      "name": "python",
      "display_name": "Python (Pyodide)",
      "language": "python"
    }
  },
  "nbformat_minor": 4,
  "nbformat": 4,
  "cells": [
    {
      "cell_type": "code",
      "source": "import yfinance as yf\nimport pandas as pd\nimport numpy as np\nimport matplotlib.pyplot as plt\nimport talib",
      "metadata": {
        "trusted": true
      },
      "execution_count": null,
      "outputs": []
    },
    {
      "cell_type": "code",
      "source": "nasdaq = yf.download(\"^IXIC\", start = \"2010-01-01\",end = \"2023-06-01\")",
      "metadata": {
        "trusted": true
      },
      "execution_count": null,
      "outputs": []
    },
    {
      "cell_type": "code",
      "source": "nasdaq",
      "metadata": {
        "trusted": true
      },
      "execution_count": null,
      "outputs": []
    },
    {
      "cell_type": "code",
      "source": "nasdaq_close = np.array(nasdaq.Close)\nnasdaq_close",
      "metadata": {
        "trusted": true
      },
      "execution_count": null,
      "outputs": []
    },
    {
      "cell_type": "code",
      "source": "nse = yf.download(\"^NSEI\", start = \"2010-01-01\",end = \"2023-06-01\")",
      "metadata": {
        "trusted": true
      },
      "execution_count": null,
      "outputs": []
    },
    {
      "cell_type": "code",
      "source": "nse",
      "metadata": {
        "trusted": true
      },
      "execution_count": null,
      "outputs": []
    },
    {
      "cell_type": "code",
      "source": "nse_close = np.array(nse.Close)\nnse_close",
      "metadata": {
        "trusted": true
      },
      "execution_count": null,
      "outputs": []
    },
    {
      "cell_type": "code",
      "source": "comb = (pd.merge(nse,nasdaq ,on = 'Date',suffixes = ('_nse','_nasdaq'))).loc[:, ['Close_nse', 'Close_nasdaq']]",
      "metadata": {
        "trusted": true
      },
      "execution_count": null,
      "outputs": []
    },
    {
      "cell_type": "code",
      "source": "comb",
      "metadata": {
        "trusted": true
      },
      "execution_count": null,
      "outputs": []
    },
    {
      "cell_type": "code",
      "source": "nse_array = comb['Close_nse'].to_numpy()\nnasdaq_array = comb['Close_nasdaq'].to_numpy()",
      "metadata": {
        "trusted": true
      },
      "execution_count": null,
      "outputs": []
    },
    {
      "cell_type": "code",
      "source": "nse_array",
      "metadata": {
        "trusted": true
      },
      "execution_count": null,
      "outputs": []
    },
    {
      "cell_type": "code",
      "source": "corcof = np.corrcoef(nse_array,nasdaq_array) #corcof = correlation coefficient",
      "metadata": {
        "trusted": true
      },
      "execution_count": null,
      "outputs": []
    },
    {
      "cell_type": "code",
      "source": "corcof  #values at (1,2) and (2,1) gives correlation coefficient between nse and nasdaq",
      "metadata": {
        "trusted": true
      },
      "execution_count": null,
      "outputs": []
    },
    {
      "cell_type": "code",
      "source": "plt.plot(comb.index, comb['Close_nse'], color='r', label='nse')\nplt.plot(comb.index, comb['Close_nasdaq'], color='b', label='nasdaq')\nplt.legend",
      "metadata": {
        "trusted": true
      },
      "execution_count": null,
      "outputs": []
    },
    {
      "cell_type": "code",
      "source": "nse_prices = nse['Close']\nnasdaq_prices = nasdaq['Close']",
      "metadata": {
        "trusted": true
      },
      "execution_count": null,
      "outputs": []
    },
    {
      "cell_type": "code",
      "source": "nse_returns = comb['Close_nse']\nnasdaq_returns = comb['Close_nasdaq']",
      "metadata": {
        "trusted": true
      },
      "execution_count": null,
      "outputs": []
    },
    {
      "cell_type": "code",
      "source": "max_lag = 20\nlead_lag_correlation = []\nfor lag in range(-max_lag, max_lag+1):\n    shifted_nasdaq_returns = nasdaq_returns.shift(lag)\n    correlation_coefficient = np.corrcoef(shifted_nasdaq_returns[max_lag:], nse_returns[max_lag:])[0, 1]\n    lead_lag_correlation.append(correlation_coefficient)\n\nlags = range(-max_lag, max_lag+1)\nplt.plot(lags, lead_lag_correlation)\nplt.xlabel('Lag')\nplt.ylabel('Correlation Coefficient')\nplt.title('Lead-Lag Relationship between NSE and NASDAQ')\nplt.grid(True)\nplt.show()",
      "metadata": {
        "trusted": true
      },
      "execution_count": null,
      "outputs": []
    },
    {
      "cell_type": "code",
      "source": "max_lag = 20\n\nlead_lag_correlation = []\nfor lag in range(-max_lag, max_lag+1):\n    shifted_nse_returns = nse_returns.shift(lag)\n    correlation_coefficient = np.corrcoef(shifted_nse_returns[max_lag:], nasdaq_returns[max_lag:])[0, 1]\n    lead_lag_correlation.append(correlation_coefficient)\n\nlags = range(-max_lag, max_lag+1)\nplt.plot(lags, lead_lag_correlation)\nplt.xlabel('Lag')\nplt.ylabel('Correlation Coefficient')\nplt.title('Lead-Lag Relationship between NSE and NASDAQ')\nplt.grid(True)\nplt.show()",
      "metadata": {
        "trusted": true
      },
      "execution_count": null,
      "outputs": []
    },
    {
      "cell_type": "code",
      "source": "nse_kc = nse.copy() #nse_kc for Keltner Channel of NSE",
      "metadata": {
        "trusted": true
      },
      "execution_count": null,
      "outputs": []
    },
    {
      "cell_type": "code",
      "source": "nse_kc['ATR'] = talib.ATR(nse_kc['High'], nse_kc['Low'], nse_kc['Close'], timeperiod=14)\nnse_kc['middle_band'] = talib.EMA(nse_kc['Close'], timeperiod=20)\nnse_kc['upper_band'] = nse_kc['middle_band'] + 2 * nse_kc['ATR']\nnse_kc['lower_band'] = nse_kc['middle_band'] - 2 * nse_kc['ATR']",
      "metadata": {
        "trusted": true
      },
      "execution_count": null,
      "outputs": []
    },
    {
      "cell_type": "code",
      "source": "nse_kc",
      "metadata": {
        "trusted": true
      },
      "execution_count": null,
      "outputs": []
    },
    {
      "cell_type": "code",
      "source": "plt.plot(nse_kc.index , nse_kc['middle_band'], color = 'b',label = 'middle_band')\nplt.plot(nse_kc.index , nse_kc['lower_band'], color = 'r',label = 'lower_band')\nplt.plot(nse_kc.index , nse_kc['upper_band'], color = 'g',label = 'upper_band')\nplt.legend()\nplt.title('NSE Keltner Channel')",
      "metadata": {
        "trusted": true
      },
      "execution_count": null,
      "outputs": []
    },
    {
      "cell_type": "code",
      "source": "nasdaq_kc = nasdaq.copy() #nasdaq_kc for Keltner Channel of NASDAQ",
      "metadata": {
        "trusted": true
      },
      "execution_count": null,
      "outputs": []
    },
    {
      "cell_type": "code",
      "source": "nasdaq_kc['ATR'] = talib.ATR(nasdaq_kc['High'], nasdaq_kc['Low'], nasdaq_kc['Close'], timeperiod=14)\nnasdaq_kc['middle_band'] = talib.SMA(nasdaq_kc['Close'], timeperiod=2)\nnasdaq_kc['upper_band'] = nasdaq_kc['middle_band'] #+ 500 * nasdaq_kc['ATR']\nnasdaq_kc['lower_band'] = nasdaq_kc['middle_band'] #- 500 * nasdaq_kc['ATR']",
      "metadata": {
        "trusted": true
      },
      "execution_count": null,
      "outputs": []
    },
    {
      "cell_type": "code",
      "source": "nasdaq_kc",
      "metadata": {
        "trusted": true
      },
      "execution_count": null,
      "outputs": []
    },
    {
      "cell_type": "code",
      "source": "plt.plot(nasdaq_kc.index , nasdaq_kc['middle_band'], color = 'b',label = 'middle_band')\nplt.plot(nasdaq_kc.index , nasdaq_kc['lower_band'], color = 'r',label = 'lower_band')\nplt.plot(nasdaq_kc.index , nasdaq_kc['upper_band'], color = 'g',label = 'upper_band')\nplt.legend()\nplt.title('NASDAQ Keltner Channel')",
      "metadata": {
        "trusted": true
      },
      "execution_count": null,
      "outputs": []
    },
    {
      "cell_type": "code",
      "source": "nse_bb = nse.copy() #nse_bb for Bollinger Bands of NSE",
      "metadata": {
        "trusted": true
      },
      "execution_count": null,
      "outputs": []
    },
    {
      "cell_type": "code",
      "source": "nse_bb['middle_band'] = talib.SMA(nse_bb['Close'], timeperiod=20)\nstd_dev = talib.STDDEV(nse_bb['Close'], timeperiod=20)\nnse_bb['upper_band'] = nse_bb['middle_band'] + 2 * std_dev\nnse_bb['lower_band'] = nse_bb['middle_band'] - 2 * std_dev",
      "metadata": {
        "trusted": true
      },
      "execution_count": null,
      "outputs": []
    },
    {
      "cell_type": "code",
      "source": "nse_bb",
      "metadata": {
        "trusted": true
      },
      "execution_count": null,
      "outputs": []
    },
    {
      "cell_type": "code",
      "source": "plt.plot(nse_bb.index, nse_bb['middle_band'], color='b', label = 'middle_band')\nplt.plot(nse_bb.index, nse_bb['lower_band'], color='r',label = 'lower_band')\nplt.plot(nse_bb.index, nse_bb['upper_band'], color='g',label = 'upper_band')\nplt.legend()\nplt.title('NSE Bollinger Bands')",
      "metadata": {
        "trusted": true
      },
      "execution_count": null,
      "outputs": []
    },
    {
      "cell_type": "code",
      "source": "nasdaq_bb = nasdaq.copy()",
      "metadata": {
        "trusted": true
      },
      "execution_count": null,
      "outputs": []
    },
    {
      "cell_type": "code",
      "source": "tp = 2\nnasdaq_bb['middle_band'] = talib.SMA(nasdaq_bb['Close'], timeperiod=tp)\nstd_dev = talib.STDDEV(nasdaq_bb['Close'], timeperiod=tp)\nnasdaq_bb['upper_band'] = nasdaq_bb['middle_band'] + 2 * std_dev\nnasdaq_bb['lower_band'] = nasdaq_bb['middle_band'] - 2 * std_dev",
      "metadata": {
        "trusted": true
      },
      "execution_count": null,
      "outputs": []
    },
    {
      "cell_type": "code",
      "source": "nasdaq_bb#.drop(['Cumulative Returns','Portfolio','Returns','Strategy Returns'],axis = 1)",
      "metadata": {
        "trusted": true
      },
      "execution_count": null,
      "outputs": []
    },
    {
      "cell_type": "code",
      "source": "nasdaq_bb.Returns.sum()",
      "metadata": {
        "trusted": true
      },
      "execution_count": null,
      "outputs": []
    },
    {
      "cell_type": "code",
      "source": "plt.plot(nasdaq_bb.index, nasdaq_bb['middle_band'], color='b',label = 'middle_band')\nplt.plot(nasdaq_bb.index, nasdaq_bb['lower_band'], color='r',label = 'lower_band')\nplt.plot(nasdaq_bb.index, nasdaq_bb['upper_band'], color='g',label = 'upper_band')\nplt.legend()\nplt.title('Nasdaq Bollinger Bands')",
      "metadata": {
        "trusted": true
      },
      "execution_count": null,
      "outputs": []
    },
    {
      "cell_type": "code",
      "source": "nasdaq_macd = nasdaq.copy()",
      "metadata": {
        "trusted": true
      },
      "execution_count": null,
      "outputs": []
    },
    {
      "cell_type": "code",
      "source": "macd_nse, signal_nse, _ = talib.MACD(nse['Close'], fastperiod=12, slowperiod=26, signalperiod=9)\nplt.plot(nse.index, macd_nse, label='MACD Line')\nplt.plot(nse.index, signal_nse, label='Signal Line')\nplt.title('MACD Line NSE')\nplt.xlabel('Date')\nplt.ylabel('MACD')\nplt.legend()",
      "metadata": {
        "trusted": true
      },
      "execution_count": null,
      "outputs": []
    },
    {
      "cell_type": "code",
      "source": "macd_nasdaq, signal_nasdaq, _ = talib.MACD(nasdaq['Close'], fastperiod=12, slowperiod=26, signalperiod=9)\nplt.plot(nasdaq.index, macd_nasdaq, label='MACD Line')\nplt.plot(nasdaq.index, signal_nasdaq, label='Signal Line')\nplt.title('MACD Line NASDAQ')\nplt.xlabel('Date')\nplt.ylabel('MACD')\nplt.legend()",
      "metadata": {
        "trusted": true
      },
      "execution_count": null,
      "outputs": []
    },
    {
      "cell_type": "code",
      "source": "nasdaq_macd",
      "metadata": {
        "trusted": true
      },
      "execution_count": null,
      "outputs": []
    },
    {
      "cell_type": "code",
      "source": "def simulate_trades(data, upper_band, middle_band,lower_band):\n    positions = np.zeros(len(data))\n    portfolio = np.zeros(len(data))\n    position = 0\n\n    for i in range(1, len(data)):\n        if data['Close'].iloc[i] > upper_band.iloc[i] and data['Close'].iloc[i - 1] <= upper_band.iloc[i - 1]:\n            positions[i] = 1\n            position = 1\n        elif data['Close'].iloc[i] < middle_band.iloc[i] and data['Close'].iloc[i - 1] >=middle_band.iloc[i - 1]:\n            positions[i] = -1\n            position = -1\n        elif data['Close'].iloc[i] < lower_band.iloc[i] and data['Close'].iloc[i - 1] >= upper_band.iloc[i - 1]:\n            positions[i] = -1\n            position = -1\n        elif data['Close'].iloc[i] > middle_band.iloc[i] and data['Close'].iloc[i - 1] <=middle_band.iloc[i - 1]:\n            positions[i] = 1\n            position = 1\n            \n        else:\n            positions[i] = 0\n\n    portfolio[0] = data['Close'].iloc[0]\n    for i in range(1, len(data)):\n        if positions[i] == 0:\n            portfolio[i] = portfolio[i - 1]\n        elif positions[i] == 1:\n            portfolio[i] = portfolio[i - 1] * (data['Close'].iloc[i] / data['Close'].iloc[i - 1])\n        elif positions[i] == -1:\n            portfolio[i] = portfolio[i - 1] / (data['Close'].iloc[i] / data['Close'].iloc[i - 1])\n\n    data['Position'] = positions\n    data['Portfolio'] = portfolio\n    data['Returns'] = data['Portfolio'] - data['Portfolio'].shift(1)\n    return data\n\n\nsimulate_trades(nasdaq_kc , nasdaq_kc.upper_band, nasdaq_kc.middle_band,nasdaq_kc.lower_band)",
      "metadata": {
        "trusted": true
      },
      "execution_count": null,
      "outputs": []
    },
    {
      "cell_type": "code",
      "source": "nasdaq_kc.Returns.sum()",
      "metadata": {
        "trusted": true
      },
      "execution_count": null,
      "outputs": []
    },
    {
      "cell_type": "code",
      "source": "nasdaq_bb['signal'] = 0\n\nfor i in range(1, len(nasdaq_bb)):\n    if nasdaq_bb['Close'][i] < nasdaq_bb['lower_band'][i] and nasdaq_bb['Close'][i-1] > nasdaq_bb['lower_band'][i-1]:\n        nasdaq_bb['signal'][i] = 1  # Buy signal\n    elif nasdaq_bb['Close'][i] > nasdaq_bb['upper_band'][i] and nasdaq_bb['Close'][i-1] < nasdaq_bb['upper_band'][i-1]:\n        nasdaq_bb['signal'][i] = -1  # Sell signal\n\n# Execute trades based on signals\nnasdaq_bb['position'] = nasdaq_bb['signal'].diff()\nnasdaq_bb['position'].fillna(0, inplace=True)\n\n# Calculate portfolio value\ninitial_capital = 100000.0\nnasdaq_bb['holdings'] = nasdaq_bb['position'].cumsum() * nasdaq_bb['Close']\nnasdaq_bb['cash'] = initial_capital - (nasdaq_bb['position'] * nasdaq_bb['Close']).cumsum()\nnasdaq_bb['total'] = nasdaq_bb['cash'] + nasdaq_bb['holdings']\n\n# Print final portfolio value\nfinal_portfolio_value = nasdaq_bb['total'].iloc[-1]\nprint('Final Portfolio Value:', final_portfolio_value)",
      "metadata": {
        "trusted": true
      },
      "execution_count": null,
      "outputs": []
    },
    {
      "cell_type": "code",
      "source": "nasdaq_bb",
      "metadata": {
        "trusted": true
      },
      "execution_count": null,
      "outputs": []
    },
    {
      "cell_type": "code",
      "source": "macd_nasdaq['signal'] = 0\nmacd, macd_signal, _ = talib.MACD(nasdaq_macd['Close'])\n\nfor i in range(1, len(macd_nasdaq)):\n    if macd_nasdaq[i] > macd_signal[i] and macd_nasdaq[i-1] <= macd_signal[i-1]:\n        nasdaq_macd['signal'][i] = 1  # Buy signal\n    elif macd_nasdaq[i] < macd_signal[i] and macd_nasdaq[i-1] >= macd_signal[i-1]:\n        nasdaq_macd['signal'][i] = -1  # Sell signal\n\n# Execute trades based on signals\nmacd_nasdaq['position'] = macd_nasdaq['signal'].diff()\nmacd_nasdaq['position'].fillna(0, inplace=True)\n\n# Calculate portfolio value\ninitial_capital = 100000.0\nmacd_nasdaq['holdings'] = macd_nasdaq['position'].cumsum() * macd_nasdaq['Close']\nmacd_nasdaq['cash'] = initial_capital - (macd_nasdaq['position'] * macd_nasdaq['Close']).cumsum()\nmacd_nasdaq['total'] = macd_nasdaq['cash'] + macd_nasdaq['holdings']\n\n# Print final portfolio value\nfinal_portfolio_value = macd_nasdaq['total'].iloc[-1]\nprint('Final Portfolio Value:', final_portfolio_value)",
      "metadata": {
        "trusted": true
      },
      "execution_count": null,
      "outputs": []
    },
    {
      "cell_type": "code",
      "source": "",
      "metadata": {},
      "execution_count": null,
      "outputs": []
    }
  ]
}