{
 "cells": [
  {
   "cell_type": "markdown",
   "id": "1cf9a024",
   "metadata": {},
   "source": [
    "Correlation Analysis:"
   ]
  },
  {
   "cell_type": "code",
   "execution_count": null,
   "id": "16a8d4f2",
   "metadata": {},
   "outputs": [
    {
     "ename": "",
     "evalue": "",
     "output_type": "error",
     "traceback": [
      "\u001b[1;31mRunning cells with 'c:\\msys64\\mingw64\\bin\\python.exe' requires the ipykernel package.\n",
      "\u001b[1;31mRun the following command to install 'ipykernel' into the Python environment. \n",
      "\u001b[1;31mCommand: 'c:/msys64/mingw64/bin/python.exe -m pip install ipykernel -U --user --force-reinstall'"
     ]
    }
   ],
   "source": [
    "import pandas as pd\n",
    "\n",
    "import pandas_datareader as webreader\n",
    "!pip install datetime\n",
    "import datetime \n",
    "import numpy as np\n",
    "import yfinance as yf\n",
    "import matplotlib.pyplot as plt\n",
    "import plotly.express as px\n",
    "import plotly.graph_objects as go\n",
    "import seaborn"
   ]
  },
  {
   "cell_type": "code",
   "execution_count": 2,
   "id": "62ea97b1",
   "metadata": {},
   "outputs": [],
   "source": [
    "indices=['^NDX','NSE']"
   ]
  },
  {
   "cell_type": "code",
   "execution_count": 3,
   "id": "914ccf27",
   "metadata": {},
   "outputs": [],
   "source": [
    "start = datetime.datetime(2010,1,1)\n",
    "end = datetime.datetime(2023,5,1)"
   ]
  },
  {
   "cell_type": "code",
   "execution_count": 4,
   "id": "b5edba6a",
   "metadata": {},
   "outputs": [
    {
     "name": "stdout",
     "output_type": "stream",
     "text": [
      "[*********************100%***********************]  1 of 1 completed\n",
      "[*********************100%***********************]  1 of 1 completed\n"
     ]
    },
    {
     "data": {
      "text/html": [
       "<div>\n",
       "<style scoped>\n",
       "    .dataframe tbody tr th:only-of-type {\n",
       "        vertical-align: middle;\n",
       "    }\n",
       "\n",
       "    .dataframe tbody tr th {\n",
       "        vertical-align: top;\n",
       "    }\n",
       "\n",
       "    .dataframe thead th {\n",
       "        text-align: right;\n",
       "    }\n",
       "</style>\n",
       "<table border=\"1\" class=\"dataframe\">\n",
       "  <thead>\n",
       "    <tr style=\"text-align: right;\">\n",
       "      <th></th>\n",
       "      <th>Date</th>\n",
       "      <th>Open</th>\n",
       "      <th>High</th>\n",
       "      <th>Low</th>\n",
       "      <th>Close</th>\n",
       "      <th>Adj Close</th>\n",
       "      <th>Volume</th>\n",
       "      <th>Indice</th>\n",
       "    </tr>\n",
       "  </thead>\n",
       "  <tbody>\n",
       "    <tr>\n",
       "      <th>0</th>\n",
       "      <td>2010-01-04</td>\n",
       "      <td>1882.689941</td>\n",
       "      <td>1890.020020</td>\n",
       "      <td>1881.630005</td>\n",
       "      <td>1886.699951</td>\n",
       "      <td>1886.699951</td>\n",
       "      <td>1931380000</td>\n",
       "      <td>^NDX</td>\n",
       "    </tr>\n",
       "    <tr>\n",
       "      <th>1</th>\n",
       "      <td>2010-01-05</td>\n",
       "      <td>1887.280029</td>\n",
       "      <td>1891.329956</td>\n",
       "      <td>1877.520020</td>\n",
       "      <td>1888.430054</td>\n",
       "      <td>1888.430054</td>\n",
       "      <td>2367860000</td>\n",
       "      <td>^NDX</td>\n",
       "    </tr>\n",
       "    <tr>\n",
       "      <th>2</th>\n",
       "      <td>2010-01-06</td>\n",
       "      <td>1887.910034</td>\n",
       "      <td>1893.209961</td>\n",
       "      <td>1873.900024</td>\n",
       "      <td>1878.420044</td>\n",
       "      <td>1878.420044</td>\n",
       "      <td>2253340000</td>\n",
       "      <td>^NDX</td>\n",
       "    </tr>\n",
       "    <tr>\n",
       "      <th>3</th>\n",
       "      <td>2010-01-07</td>\n",
       "      <td>1878.160034</td>\n",
       "      <td>1881.329956</td>\n",
       "      <td>1867.619995</td>\n",
       "      <td>1876.719971</td>\n",
       "      <td>1876.719971</td>\n",
       "      <td>2270050000</td>\n",
       "      <td>^NDX</td>\n",
       "    </tr>\n",
       "    <tr>\n",
       "      <th>4</th>\n",
       "      <td>2010-01-08</td>\n",
       "      <td>1870.900024</td>\n",
       "      <td>1893.250000</td>\n",
       "      <td>1868.550049</td>\n",
       "      <td>1892.589966</td>\n",
       "      <td>1892.589966</td>\n",
       "      <td>2145390000</td>\n",
       "      <td>^NDX</td>\n",
       "    </tr>\n",
       "    <tr>\n",
       "      <th>...</th>\n",
       "      <td>...</td>\n",
       "      <td>...</td>\n",
       "      <td>...</td>\n",
       "      <td>...</td>\n",
       "      <td>...</td>\n",
       "      <td>...</td>\n",
       "      <td>...</td>\n",
       "      <td>...</td>\n",
       "    </tr>\n",
       "    <tr>\n",
       "      <th>5170</th>\n",
       "      <td>2022-02-24</td>\n",
       "      <td>7.940000</td>\n",
       "      <td>7.940000</td>\n",
       "      <td>7.940000</td>\n",
       "      <td>7.940000</td>\n",
       "      <td>7.940000</td>\n",
       "      <td>14000</td>\n",
       "      <td>NSE</td>\n",
       "    </tr>\n",
       "    <tr>\n",
       "      <th>5171</th>\n",
       "      <td>2022-02-25</td>\n",
       "      <td>7.800000</td>\n",
       "      <td>7.800000</td>\n",
       "      <td>7.800000</td>\n",
       "      <td>7.800000</td>\n",
       "      <td>7.800000</td>\n",
       "      <td>11600</td>\n",
       "      <td>NSE</td>\n",
       "    </tr>\n",
       "    <tr>\n",
       "      <th>5172</th>\n",
       "      <td>2022-02-28</td>\n",
       "      <td>7.780000</td>\n",
       "      <td>7.780000</td>\n",
       "      <td>7.780000</td>\n",
       "      <td>7.780000</td>\n",
       "      <td>7.780000</td>\n",
       "      <td>44400</td>\n",
       "      <td>NSE</td>\n",
       "    </tr>\n",
       "    <tr>\n",
       "      <th>5173</th>\n",
       "      <td>2022-03-01</td>\n",
       "      <td>7.780000</td>\n",
       "      <td>7.780000</td>\n",
       "      <td>7.780000</td>\n",
       "      <td>7.780000</td>\n",
       "      <td>7.780000</td>\n",
       "      <td>29800</td>\n",
       "      <td>NSE</td>\n",
       "    </tr>\n",
       "    <tr>\n",
       "      <th>5174</th>\n",
       "      <td>2022-03-02</td>\n",
       "      <td>7.800000</td>\n",
       "      <td>7.800000</td>\n",
       "      <td>7.800000</td>\n",
       "      <td>7.800000</td>\n",
       "      <td>7.800000</td>\n",
       "      <td>4900</td>\n",
       "      <td>NSE</td>\n",
       "    </tr>\n",
       "  </tbody>\n",
       "</table>\n",
       "<p>5175 rows × 8 columns</p>\n",
       "</div>"
      ],
      "text/plain": [
       "           Date         Open         High          Low        Close  \\\n",
       "0    2010-01-04  1882.689941  1890.020020  1881.630005  1886.699951   \n",
       "1    2010-01-05  1887.280029  1891.329956  1877.520020  1888.430054   \n",
       "2    2010-01-06  1887.910034  1893.209961  1873.900024  1878.420044   \n",
       "3    2010-01-07  1878.160034  1881.329956  1867.619995  1876.719971   \n",
       "4    2010-01-08  1870.900024  1893.250000  1868.550049  1892.589966   \n",
       "...         ...          ...          ...          ...          ...   \n",
       "5170 2022-02-24     7.940000     7.940000     7.940000     7.940000   \n",
       "5171 2022-02-25     7.800000     7.800000     7.800000     7.800000   \n",
       "5172 2022-02-28     7.780000     7.780000     7.780000     7.780000   \n",
       "5173 2022-03-01     7.780000     7.780000     7.780000     7.780000   \n",
       "5174 2022-03-02     7.800000     7.800000     7.800000     7.800000   \n",
       "\n",
       "        Adj Close      Volume Indice  \n",
       "0     1886.699951  1931380000   ^NDX  \n",
       "1     1888.430054  2367860000   ^NDX  \n",
       "2     1878.420044  2253340000   ^NDX  \n",
       "3     1876.719971  2270050000   ^NDX  \n",
       "4     1892.589966  2145390000   ^NDX  \n",
       "...           ...         ...    ...  \n",
       "5170     7.940000       14000    NSE  \n",
       "5171     7.800000       11600    NSE  \n",
       "5172     7.780000       44400    NSE  \n",
       "5173     7.780000       29800    NSE  \n",
       "5174     7.800000        4900    NSE  \n",
       "\n",
       "[5175 rows x 8 columns]"
      ]
     },
     "execution_count": 4,
     "metadata": {},
     "output_type": "execute_result"
    }
   ],
   "source": [
    "df = pd.DataFrame()\n",
    "for index in indices:\n",
    "    df_tmp = yf.download(indice,start,end)\n",
    "    df_tmp['Index'] = index\n",
    "    df=pd.concat([df,df_tmp])\n",
    "df=df.reset_index()\n",
    "df"
   ]
  },
  {
   "cell_type": "code",
   "execution_count": 5,
   "id": "f6086f6d",
   "metadata": {},
   "outputs": [
    {
     "data": {
      "text/html": [
       "<div>\n",
       "<style scoped>\n",
       "    .dataframe tbody tr th:only-of-type {\n",
       "        vertical-align: middle;\n",
       "    }\n",
       "\n",
       "    .dataframe tbody tr th {\n",
       "        vertical-align: top;\n",
       "    }\n",
       "\n",
       "    .dataframe thead th {\n",
       "        text-align: right;\n",
       "    }\n",
       "</style>\n",
       "<table border=\"1\" class=\"dataframe\">\n",
       "  <thead>\n",
       "    <tr style=\"text-align: right;\">\n",
       "      <th></th>\n",
       "      <th>Open</th>\n",
       "      <th>High</th>\n",
       "      <th>Low</th>\n",
       "      <th>Close</th>\n",
       "      <th>Adj Close</th>\n",
       "      <th>Volume</th>\n",
       "    </tr>\n",
       "  </thead>\n",
       "  <tbody>\n",
       "    <tr>\n",
       "      <th>Open</th>\n",
       "      <td>1.000000</td>\n",
       "      <td>0.999951</td>\n",
       "      <td>0.999928</td>\n",
       "      <td>0.999865</td>\n",
       "      <td>0.999865</td>\n",
       "      <td>0.905548</td>\n",
       "    </tr>\n",
       "    <tr>\n",
       "      <th>High</th>\n",
       "      <td>0.999951</td>\n",
       "      <td>1.000000</td>\n",
       "      <td>0.999907</td>\n",
       "      <td>0.999928</td>\n",
       "      <td>0.999928</td>\n",
       "      <td>0.906353</td>\n",
       "    </tr>\n",
       "    <tr>\n",
       "      <th>Low</th>\n",
       "      <td>0.999928</td>\n",
       "      <td>0.999907</td>\n",
       "      <td>1.000000</td>\n",
       "      <td>0.999934</td>\n",
       "      <td>0.999934</td>\n",
       "      <td>0.904502</td>\n",
       "    </tr>\n",
       "    <tr>\n",
       "      <th>Close</th>\n",
       "      <td>0.999865</td>\n",
       "      <td>0.999928</td>\n",
       "      <td>0.999934</td>\n",
       "      <td>1.000000</td>\n",
       "      <td>1.000000</td>\n",
       "      <td>0.905390</td>\n",
       "    </tr>\n",
       "    <tr>\n",
       "      <th>Adj Close</th>\n",
       "      <td>0.999865</td>\n",
       "      <td>0.999928</td>\n",
       "      <td>0.999934</td>\n",
       "      <td>1.000000</td>\n",
       "      <td>1.000000</td>\n",
       "      <td>0.905390</td>\n",
       "    </tr>\n",
       "    <tr>\n",
       "      <th>Volume</th>\n",
       "      <td>0.905548</td>\n",
       "      <td>0.906353</td>\n",
       "      <td>0.904502</td>\n",
       "      <td>0.905390</td>\n",
       "      <td>0.905390</td>\n",
       "      <td>1.000000</td>\n",
       "    </tr>\n",
       "  </tbody>\n",
       "</table>\n",
       "</div>"
      ],
      "text/plain": [
       "               Open      High       Low     Close  Adj Close    Volume\n",
       "Open       1.000000  0.999951  0.999928  0.999865   0.999865  0.905548\n",
       "High       0.999951  1.000000  0.999907  0.999928   0.999928  0.906353\n",
       "Low        0.999928  0.999907  1.000000  0.999934   0.999934  0.904502\n",
       "Close      0.999865  0.999928  0.999934  1.000000   1.000000  0.905390\n",
       "Adj Close  0.999865  0.999928  0.999934  1.000000   1.000000  0.905390\n",
       "Volume     0.905548  0.906353  0.904502  0.905390   0.905390  1.000000"
      ]
     },
     "execution_count": 5,
     "metadata": {},
     "output_type": "execute_result"
    }
   ],
   "source": [
    "corr_df = df.corr(method='pearson')\n",
    "corr_df.head().reset_index()\n",
    "corr_df.head(10)"
   ]
  },
  {
   "cell_type": "code",
   "execution_count": 6,
   "id": "b43f4360",
   "metadata": {},
   "outputs": [
    {
     "data": {
      "text/plain": [
       "<Figure size 432x288 with 0 Axes>"
      ]
     },
     "execution_count": 6,
     "metadata": {},
     "output_type": "execute_result"
    },
    {
     "data": {
      "image/png": "[encoded data removed]",
      "text/plain": [
       "<Figure size 936x576 with 2 Axes>"
      ]
     },
     "metadata": {
      "needs_background": "light"
     },
     "output_type": "display_data"
    },
    {
     "data": {
      "text/plain": [
       "<Figure size 432x288 with 0 Axes>"
      ]
     },
     "metadata": {},
     "output_type": "display_data"
    }
   ],
   "source": [
    "plt.figure(figsize=(13, 8))\n",
    "seaborn.heatmap(corr_df, annot=True, cmap='RdYlGn')\n",
    "plt.figure()"
   ]
  },
  {
   "cell_type": "raw",
   "id": "d124b4de",
   "metadata": {},
   "source": [
    "# Analyzing the strength and direction of the relationship"
   ]
  },
  {
   "cell_type": "markdown",
   "id": "91478012",
   "metadata": {},
   "source": [
    "Risk management: Correlation analysis can help traders identify and manage risk by highlighting indices that tend to\n",
    "move together. since the avode indices are highly correlated, traders can adjust their positions and hedge against potential losses.\n",
    "\n",
    "Trading strategies: Traders can use the correlation matrix to develop and validate trading strategies. \n",
    "since the above two indices are highly correlated indices, expecting that the spread between their prices will converge or diverge. By identifying such pairs, traders can potentially profit from temporary price discrepancies."
   ]
  },
  {
   "cell_type": "code",
   "execution_count": 13,
   "id": "d6f9d098",
   "metadata": {},
   "outputs": [],
   "source": [
    "time_lag = 3"
   ]
  },
  {
   "cell_type": "code",
   "execution_count": 14,
   "id": "76b14ee4",
   "metadata": {},
   "outputs": [
    {
     "data": {
      "image/png": "[encoded data removed]",
      "text/plain": [
       "<Figure size 432x288 with 1 Axes>"
      ]
     },
     "metadata": {
      "needs_background": "light"
     },
     "output_type": "display_data"
    }
   ],
   "source": [
    "dataA_shifted = df['Close'].shift(-time_lag) \n",
    "dataB_aligned = df['Close']\n",
    "\n",
    "cross_corr = np.correlate(dataA_shifted, dataB_aligned, mode='full')\n",
    "\n",
    "lags = np.arange(-len(dataA_shifted) + 1, len(dataA_shifted))\n",
    "plt.stem(lags, cross_corr)\n",
    "plt.xlabel('Lag')\n",
    "plt.ylabel('Cross-Correlation')\n",
    "plt.title('Lead-Lag Relationship between Index A and Index B')\n",
    "plt.show()"
   ]
  },
  {
   "cell_type": "code",
   "execution_count": 15,
   "id": "5d39c69e",
   "metadata": {},
   "outputs": [],
   "source": [
    "def calculate_cross_correlation(dataA, dataB):\n",
    "    cross_corr = np.correlate(dataA, dataB, mode='full')\n",
    "    return cross_corr\n",
    "def identify_significant_lags(cross_corr, threshold):\n",
    "    significant_lags = np.where(np.abs(cross_corr) > threshold)[0]\n",
    "    return significant_lags\n",
    "def assess_consistency(significant_lags):\n",
    "    if len(significant_lags) > 0:\n",
    "        lag_diffs = np.diff(significant_lags)\n",
    "        consistent_lags = np.where(lag_diffs == lag_diffs[0])[0]\n",
    "        if len(consistent_lags) == len(lag_diffs) - 1:\n",
    "            return True\n",
    "    return False"
   ]
  },
  {
   "cell_type": "code",
   "execution_count": 25,
   "id": "1142691d",
   "metadata": {},
   "outputs": [
    {
     "name": "stdout",
     "output_type": "stream",
     "text": [
      "[*********************100%***********************]  1 of 1 completed\n",
      "[*********************100%***********************]  1 of 1 completed\n",
      "There is no consistent leading or lagging behavior between the two indices.\n"
     ]
    }
   ],
   "source": [
    "dfA = yf.download('^NDX',start,end)\n",
    "dfA['Index'] = \"^NDX\"\n",
    "     \n",
    "dfB = yf.download('NSE',start,end)\n",
    "dfB['Index'] = \"NSE\"  \n",
    "threshold = 0.5  \n",
    "dataA = dfA['Close'].values  \n",
    "dataB = dfB['Close'].values  \n",
    "\n",
    "cross_corr = calculate_cross_correlation(dataA, dataB)\n",
    "significant_lags = identify_significant_lags(cross_corr, threshold)\n",
    "is_consistent = assess_consistency(significant_lags)\n",
    "\n",
    "if is_consistent:\n",
    "    print(\"There is consistent leading or lagging behavior between the two indices.\")\n",
    "else:\n",
    "    print(\"There is no consistent leading or lagging behavior between the two indices.\")"
   ]
  },
  {
   "cell_type": "markdown",
   "id": "8df57f5a",
   "metadata": {},
   "source": [
    "Used the lead-lag relationship and used Close as the index to be used for parameter optimization.\n"
   ]
  },
  {
   "cell_type": "markdown",
   "id": "fe51e29b",
   "metadata": {},
   "source": [
    "Why Close->\n",
    "It represents the final traded price of an asset at the end of a trading session. Traders and analysts often analyze the closing price because it captures the market sentiment and incorporates all the information and trading activity that occurred during the day.\n",
    "However, the choice of indicator depends on the specific analysis or research question at hand. Different indicators can provide different insights into the relationship between two indices. For example, we might choose to use the opening price, high price, low price, volume, or even calculated technical indicators like moving averages or relative strength index (RSI) as indicators for our analysis."
   ]
  },
  {
   "cell_type": "markdown",
   "id": "a7e3f3f7",
   "metadata": {},
   "source": [
    "Indicator Coding:"
   ]
  },
  {
   "cell_type": "code",
   "execution_count": 32,
   "id": "8b58c8eb",
   "metadata": {},
   "outputs": [
    {
     "name": "stdout",
     "output_type": "stream",
     "text": [
      "Collecting ta\n",
      "  Downloading ta-0.10.2.tar.gz (25 kB)\n",
      "  Preparing metadata (setup.py): started\n",
      "  Preparing metadata (setup.py): finished with status 'done'\n",
      "Requirement already satisfied: numpy in c:\\users\\ayush\\appdata\\local\\programs\\python\\python39\\lib\\site-packages (from ta) (1.22.4)\n",
      "Requirement already satisfied: pandas in c:\\users\\ayush\\appdata\\local\\programs\\python\\python39\\lib\\site-packages (from ta) (1.4.2)\n",
      "Requirement already satisfied: python-dateutil>=2.8.1 in c:\\users\\ayush\\appdata\\local\\programs\\python\\python39\\lib\\site-packages (from pandas->ta) (2.8.2)\n",
      "Requirement already satisfied: pytz>=2020.1 in c:\\users\\ayush\\appdata\\local\\programs\\python\\python39\\lib\\site-packages (from pandas->ta) (2023.3)\n",
      "Requirement already satisfied: six>=1.5 in c:\\users\\ayush\\appdata\\local\\programs\\python\\python39\\lib\\site-packages (from python-dateutil>=2.8.1->pandas->ta) (1.16.0)\n",
      "Building wheels for collected packages: ta\n",
      "  Building wheel for ta (setup.py): started\n",
      "  Building wheel for ta (setup.py): finished with status 'done'\n",
      "  Created wheel for ta: filename=ta-0.10.2-py3-none-any.whl size=29104 sha256=499e42c6bf740e945768811f913ecf335e40b53a316c6db886c097108b37fb41\n",
      "  Stored in directory: c:\\users\\ayush\\appdata\\local\\pip\\cache\\wheels\\6a\\76\\03\\7f785aaa50b9c6ec7e3fd105a62c1b2c45a034512d51e024a9\n",
      "Successfully built ta\n",
      "Installing collected packages: ta\n",
      "Successfully installed ta-0.10.2\n"
     ]
    },
    {
     "name": "stderr",
     "output_type": "stream",
     "text": [
      "WARNING: There was an error checking the latest version of pip.\n"
     ]
    }
   ],
   "source": [
    "!pip install ta\n"
   ]
  },
  {
   "cell_type": "code",
   "execution_count": 36,
   "id": "96d20476",
   "metadata": {},
   "outputs": [
    {
     "name": "stdout",
     "output_type": "stream",
     "text": [
      "           Date         Open         High          Low        Close  \\\n",
      "0    2010-01-04  1882.689941  1890.020020  1881.630005  1886.699951   \n",
      "1    2010-01-05  1887.280029  1891.329956  1877.520020  1888.430054   \n",
      "2    2010-01-06  1887.910034  1893.209961  1873.900024  1878.420044   \n",
      "3    2010-01-07  1878.160034  1881.329956  1867.619995  1876.719971   \n",
      "4    2010-01-08  1870.900024  1893.250000  1868.550049  1892.589966   \n",
      "...         ...          ...          ...          ...          ...   \n",
      "5170 2022-02-24     7.940000     7.940000     7.940000     7.940000   \n",
      "5171 2022-02-25     7.800000     7.800000     7.800000     7.800000   \n",
      "5172 2022-02-28     7.780000     7.780000     7.780000     7.780000   \n",
      "5173 2022-03-01     7.780000     7.780000     7.780000     7.780000   \n",
      "5174 2022-03-02     7.800000     7.800000     7.800000     7.800000   \n",
      "\n",
      "        Adj Close      Volume Indice  KC_MIDDLE   KC_UPPER   KC_LOWER  \\\n",
      "0     1886.699951  1931380000   ^NDX        NaN        NaN        NaN   \n",
      "1     1888.430054  2367860000   ^NDX        NaN        NaN        NaN   \n",
      "2     1878.420044  2253340000   ^NDX        NaN        NaN        NaN   \n",
      "3     1876.719971  2270050000   ^NDX        NaN        NaN        NaN   \n",
      "4     1892.589966  2145390000   ^NDX        NaN        NaN        NaN   \n",
      "...           ...         ...    ...        ...        ...        ...   \n",
      "5170     7.940000       14000    NSE      8.015  26.120468 -10.090468   \n",
      "5171     7.800000       11600    NSE      8.003  24.325921  -8.319921   \n",
      "5172     7.780000       44400    NSE      7.987  22.681629  -6.707629   \n",
      "5173     7.780000       29800    NSE      7.977  21.202166  -5.248166   \n",
      "5174     7.800000        4900    NSE      7.968  19.874650  -3.938650   \n",
      "\n",
      "      BB_MIDDLE  BB_UPPER  BB_LOWER      MACD  MACD_Signal  MACD_Histogram  \n",
      "0           NaN       NaN       NaN       NaN          NaN             NaN  \n",
      "1           NaN       NaN       NaN       NaN          NaN             NaN  \n",
      "2           NaN       NaN       NaN       NaN          NaN             NaN  \n",
      "3           NaN       NaN       NaN       NaN          NaN             NaN  \n",
      "4           NaN       NaN       NaN       NaN          NaN             NaN  \n",
      "...         ...       ...       ...       ...          ...             ...  \n",
      "5170      8.015  8.212939  7.817061 -0.041991    -0.056837        0.014847  \n",
      "5171      8.003  8.221458  7.784542 -0.057874    -0.057045       -0.000829  \n",
      "5172      7.987  8.221017  7.752983 -0.071254    -0.059887       -0.011368  \n",
      "5173      7.977  8.227847  7.726154 -0.080925    -0.064094       -0.016831  \n",
      "5174      7.968  8.230419  7.705581 -0.085984    -0.068472       -0.017512  \n",
      "\n",
      "[5175 rows x 17 columns]\n"
     ]
    }
   ],
   "source": [
    "\n",
    "import ta\n",
    "\n",
    "df['KC_MIDDLE'] = ta.volatility.bollinger_mavg(df['Close'], window=20)\n",
    "df['KC_UPPER'] = df['KC_MIDDLE'] + (2 * ta.volatility.average_true_range(df['High'], df['Low'], df['Close'], window=10))\n",
    "df['KC_LOWER'] = df['KC_MIDDLE'] - (2 * ta.volatility.average_true_range(df['High'], df['Low'], df['Close'], window=10))\n",
    "\n",
    "df['BB_MIDDLE'] = ta.volatility.bollinger_mavg(df['Close'], window=20)\n",
    "df['BB_UPPER'] = ta.volatility.bollinger_hband(df['Close'], window=20)\n",
    "df['BB_LOWER'] = ta.volatility.bollinger_lband(df['Close'], window=20)\n",
    "\n",
    "df['MACD'] = ta.trend.macd(df['Close'])\n",
    "df['MACD_Signal'] = ta.trend.macd_signal(df['Close'])\n",
    "df['MACD_Histogram'] = ta.trend.macd_diff(df['Close'])\n",
    "\n",
    "print(df)\n"
   ]
  },
  {
   "cell_type": "markdown",
   "id": "5934df07",
   "metadata": {},
   "source": [
    "Parameter Optimization"
   ]
  },
  {
   "cell_type": "code",
   "execution_count": 37,
   "id": "f42a0f23",
   "metadata": {},
   "outputs": [
    {
     "name": "stderr",
     "output_type": "stream",
     "text": [
      "WARNING: There was an error checking the latest version of pip.\n"
     ]
    },
    {
     "name": "stdout",
     "output_type": "stream",
     "text": [
      "Collecting optuna\n",
      "  Downloading optuna-3.2.0-py3-none-any.whl (390 kB)\n",
      "     ------------------------------------ 390.6/390.6 kB 468.4 kB/s eta 0:00:00\n",
      "Collecting sqlalchemy>=1.3.0\n",
      "  Downloading SQLAlchemy-2.0.15-cp39-cp39-win_amd64.whl (2.0 MB)\n",
      "     ---------------------------------------- 2.0/2.0 MB 823.5 kB/s eta 0:00:00\n",
      "Requirement already satisfied: packaging>=20.0 in c:\\users\\ayush\\appdata\\local\\programs\\python\\python39\\lib\\site-packages (from optuna) (21.3)\n",
      "Requirement already satisfied: tqdm in c:\\users\\ayush\\appdata\\local\\programs\\python\\python39\\lib\\site-packages (from optuna) (4.64.1)\n",
      "Collecting cmaes>=0.9.1\n",
      "  Downloading cmaes-0.9.1-py3-none-any.whl (21 kB)\n",
      "Requirement already satisfied: numpy in c:\\users\\ayush\\appdata\\local\\programs\\python\\python39\\lib\\site-packages (from optuna) (1.22.4)\n",
      "Requirement already satisfied: PyYAML in c:\\users\\ayush\\appdata\\local\\programs\\python\\python39\\lib\\site-packages (from optuna) (6.0)\n",
      "Collecting colorlog\n",
      "  Downloading colorlog-6.7.0-py2.py3-none-any.whl (11 kB)\n",
      "Collecting alembic>=1.5.0\n",
      "  Downloading alembic-1.11.1-py3-none-any.whl (224 kB)\n",
      "     ------------------------------------ 224.5/224.5 kB 978.5 kB/s eta 0:00:00\n",
      "Requirement already satisfied: typing-extensions>=4 in c:\\users\\ayush\\appdata\\local\\programs\\python\\python39\\lib\\site-packages (from alembic>=1.5.0->optuna) (4.4.0)\n",
      "Collecting Mako\n",
      "  Downloading Mako-1.2.4-py3-none-any.whl (78 kB)\n",
      "     ---------------------------------------- 78.7/78.7 kB 1.1 MB/s eta 0:00:00\n",
      "Requirement already satisfied: pyparsing!=3.0.5,>=2.0.2 in c:\\users\\ayush\\appdata\\local\\programs\\python\\python39\\lib\\site-packages (from packaging>=20.0->optuna) (3.0.9)\n",
      "Collecting greenlet!=0.4.17\n",
      "  Downloading greenlet-2.0.2-cp39-cp39-win_amd64.whl (192 kB)\n",
      "     ------------------------------------ 192.1/192.1 kB 612.2 kB/s eta 0:00:00\n",
      "Requirement already satisfied: colorama in c:\\users\\ayush\\appdata\\local\\programs\\python\\python39\\lib\\site-packages (from colorlog->optuna) (0.4.4)\n",
      "Requirement already satisfied: MarkupSafe>=0.9.2 in c:\\users\\ayush\\appdata\\local\\programs\\python\\python39\\lib\\site-packages (from Mako->alembic>=1.5.0->optuna) (2.1.1)\n",
      "Installing collected packages: Mako, greenlet, colorlog, cmaes, sqlalchemy, alembic, optuna\n",
      "Successfully installed Mako-1.2.4 alembic-1.11.1 cmaes-0.9.1 colorlog-6.7.0 greenlet-2.0.2 optuna-3.2.0 sqlalchemy-2.0.15\n"
     ]
    },
    {
     "name": "stderr",
     "output_type": "stream",
     "text": [
      "[I 2023-06-08 00:32:03,161] A new study created in memory with name: no-name-985c0d14-a2b2-4367-af01-5a29d480784d\n",
      "[I 2023-06-08 00:32:03,298] Trial 0 finished with value: 0.000619064183784056 and parameters: {'keltner_window': 16, 'atr_window': 20, 'bb_window': 25}. Best is trial 0 with value: 0.000619064183784056.\n",
      "[I 2023-06-08 00:32:03,433] Trial 1 finished with value: 0.0005464462141761272 and parameters: {'keltner_window': 10, 'atr_window': 16, 'bb_window': 48}. Best is trial 0 with value: 0.000619064183784056.\n",
      "[I 2023-06-08 00:32:03,566] Trial 2 finished with value: 0.0006376878166917656 and parameters: {'keltner_window': 39, 'atr_window': 14, 'bb_window': 48}. Best is trial 2 with value: 0.0006376878166917656.\n",
      "[I 2023-06-08 00:32:03,700] Trial 3 finished with value: 0.0005660580012065639 and parameters: {'keltner_window': 28, 'atr_window': 6, 'bb_window': 16}. Best is trial 2 with value: 0.0006376878166917656.\n",
      "[I 2023-06-08 00:32:03,841] Trial 4 finished with value: 0.0005241295037271254 and parameters: {'keltner_window': 26, 'atr_window': 13, 'bb_window': 35}. Best is trial 2 with value: 0.0006376878166917656.\n",
      "[I 2023-06-08 00:32:03,969] Trial 5 finished with value: 0.000568983348280381 and parameters: {'keltner_window': 15, 'atr_window': 15, 'bb_window': 43}. Best is trial 2 with value: 0.0006376878166917656.\n",
      "[I 2023-06-08 00:32:04,102] Trial 6 finished with value: 0.0006659457698869822 and parameters: {'keltner_window': 41, 'atr_window': 14, 'bb_window': 48}. Best is trial 6 with value: 0.0006659457698869822.\n",
      "[I 2023-06-08 00:32:04,241] Trial 7 finished with value: 0.0006390310576443306 and parameters: {'keltner_window': 31, 'atr_window': 13, 'bb_window': 46}. Best is trial 6 with value: 0.0006659457698869822.\n",
      "[I 2023-06-08 00:32:04,375] Trial 8 finished with value: 0.0005860382894776765 and parameters: {'keltner_window': 20, 'atr_window': 18, 'bb_window': 15}. Best is trial 6 with value: 0.0006659457698869822.\n",
      "[I 2023-06-08 00:32:04,502] Trial 9 finished with value: 0.0005529345185381557 and parameters: {'keltner_window': 10, 'atr_window': 17, 'bb_window': 43}. Best is trial 6 with value: 0.0006659457698869822.\n",
      "[I 2023-06-08 00:32:04,673] Trial 10 finished with value: 0.0005600561988375182 and parameters: {'keltner_window': 50, 'atr_window': 9, 'bb_window': 33}. Best is trial 6 with value: 0.0006659457698869822.\n",
      "[I 2023-06-08 00:32:04,840] Trial 11 finished with value: 0.0006102462571994442 and parameters: {'keltner_window': 39, 'atr_window': 10, 'bb_window': 40}. Best is trial 6 with value: 0.0006659457698869822.\n",
      "[I 2023-06-08 00:32:05,002] Trial 12 finished with value: 0.0006207490250433466 and parameters: {'keltner_window': 37, 'atr_window': 11, 'bb_window': 50}. Best is trial 6 with value: 0.0006659457698869822.\n",
      "[I 2023-06-08 00:32:05,166] Trial 13 finished with value: 0.0005747707038321864 and parameters: {'keltner_window': 47, 'atr_window': 12, 'bb_window': 27}. Best is trial 6 with value: 0.0006659457698869822.\n",
      "[I 2023-06-08 00:32:05,324] Trial 14 finished with value: 0.0005971109093560927 and parameters: {'keltner_window': 34, 'atr_window': 8, 'bb_window': 38}. Best is trial 6 with value: 0.0006659457698869822.\n",
      "[I 2023-06-08 00:32:05,502] Trial 15 finished with value: 0.0006496813168843786 and parameters: {'keltner_window': 44, 'atr_window': 13, 'bb_window': 22}. Best is trial 6 with value: 0.0006659457698869822.\n",
      "[I 2023-06-08 00:32:05,657] Trial 16 finished with value: 0.0006905539912624063 and parameters: {'keltner_window': 43, 'atr_window': 19, 'bb_window': 20}. Best is trial 16 with value: 0.0006905539912624063.\n",
      "[I 2023-06-08 00:32:05,831] Trial 17 finished with value: 0.0006796961278856224 and parameters: {'keltner_window': 44, 'atr_window': 20, 'bb_window': 19}. Best is trial 16 with value: 0.0006905539912624063.\n",
      "[I 2023-06-08 00:32:05,988] Trial 18 finished with value: 0.0006675888754789684 and parameters: {'keltner_window': 45, 'atr_window': 20, 'bb_window': 10}. Best is trial 16 with value: 0.0006905539912624063.\n",
      "[I 2023-06-08 00:32:06,155] Trial 19 finished with value: 0.0006377267514108627 and parameters: {'keltner_window': 50, 'atr_window': 18, 'bb_window': 20}. Best is trial 16 with value: 0.0006905539912624063.\n",
      "[I 2023-06-08 00:32:06,307] Trial 20 finished with value: 0.0006379109257649266 and parameters: {'keltner_window': 33, 'atr_window': 19, 'bb_window': 10}. Best is trial 16 with value: 0.0006905539912624063.\n",
      "[I 2023-06-08 00:32:06,472] Trial 21 finished with value: 0.0006796961278856224 and parameters: {'keltner_window': 44, 'atr_window': 20, 'bb_window': 10}. Best is trial 16 with value: 0.0006905539912624063.\n",
      "[I 2023-06-08 00:32:06,652] Trial 22 finished with value: 0.0006814698724487764 and parameters: {'keltner_window': 43, 'atr_window': 20, 'bb_window': 16}. Best is trial 16 with value: 0.0006905539912624063.\n",
      "[I 2023-06-08 00:32:06,808] Trial 23 finished with value: 0.0007036102560269107 and parameters: {'keltner_window': 42, 'atr_window': 18, 'bb_window': 17}. Best is trial 23 with value: 0.0007036102560269107.\n",
      "[I 2023-06-08 00:32:06,989] Trial 24 finished with value: 0.0006525843950947438 and parameters: {'keltner_window': 36, 'atr_window': 17, 'bb_window': 15}. Best is trial 23 with value: 0.0007036102560269107.\n",
      "[I 2023-06-08 00:32:07,177] Trial 25 finished with value: 0.000687551930834371 and parameters: {'keltner_window': 41, 'atr_window': 18, 'bb_window': 25}. Best is trial 23 with value: 0.0007036102560269107.\n",
      "[I 2023-06-08 00:32:07,331] Trial 26 finished with value: 0.0006470137120759436 and parameters: {'keltner_window': 47, 'atr_window': 16, 'bb_window': 29}. Best is trial 23 with value: 0.0007036102560269107.\n",
      "[I 2023-06-08 00:32:07,501] Trial 27 finished with value: 0.0006758708747306297 and parameters: {'keltner_window': 40, 'atr_window': 18, 'bb_window': 24}. Best is trial 23 with value: 0.0007036102560269107.\n",
      "[I 2023-06-08 00:32:07,666] Trial 28 finished with value: 0.0005451927744864321 and parameters: {'keltner_window': 24, 'atr_window': 16, 'bb_window': 32}. Best is trial 23 with value: 0.0007036102560269107.\n",
      "[I 2023-06-08 00:32:07,839] Trial 29 finished with value: 0.0006279947762952218 and parameters: {'keltner_window': 37, 'atr_window': 19, 'bb_window': 25}. Best is trial 23 with value: 0.0007036102560269107.\n",
      "[I 2023-06-08 00:32:08,007] Trial 30 finished with value: 0.000638221311807068 and parameters: {'keltner_window': 47, 'atr_window': 17, 'bb_window': 19}. Best is trial 23 with value: 0.0007036102560269107.\n",
      "[I 2023-06-08 00:32:08,168] Trial 31 finished with value: 0.0006595136377315425 and parameters: {'keltner_window': 41, 'atr_window': 19, 'bb_window': 13}. Best is trial 23 with value: 0.0007036102560269107.\n",
      "[I 2023-06-08 00:32:08,323] Trial 32 finished with value: 0.000688477893506441 and parameters: {'keltner_window': 42, 'atr_window': 19, 'bb_window': 22}. Best is trial 23 with value: 0.0007036102560269107.\n",
      "[I 2023-06-08 00:32:08,498] Trial 33 finished with value: 0.0006012127168666041 and parameters: {'keltner_window': 34, 'atr_window': 15, 'bb_window': 22}. Best is trial 23 with value: 0.0007036102560269107.\n",
      "[I 2023-06-08 00:32:08,662] Trial 34 finished with value: 0.000687551930834371 and parameters: {'keltner_window': 41, 'atr_window': 18, 'bb_window': 27}. Best is trial 23 with value: 0.0007036102560269107.\n",
      "[I 2023-06-08 00:32:08,821] Trial 35 finished with value: 0.0005999768400808214 and parameters: {'keltner_window': 31, 'atr_window': 17, 'bb_window': 22}. Best is trial 23 with value: 0.0007036102560269107.\n",
      "[I 2023-06-08 00:32:08,990] Trial 36 finished with value: 0.0006514824395023955 and parameters: {'keltner_window': 38, 'atr_window': 19, 'bb_window': 28}. Best is trial 23 with value: 0.0007036102560269107.\n",
      "[I 2023-06-08 00:32:09,147] Trial 37 finished with value: 0.0005998810428497345 and parameters: {'keltner_window': 42, 'atr_window': 5, 'bb_window': 18}. Best is trial 23 with value: 0.0007036102560269107.\n",
      "[I 2023-06-08 00:32:09,321] Trial 38 finished with value: 0.0006484234502810172 and parameters: {'keltner_window': 46, 'atr_window': 15, 'bb_window': 23}. Best is trial 23 with value: 0.0007036102560269107.\n",
      "[I 2023-06-08 00:32:09,488] Trial 39 finished with value: 0.0005864433887553166 and parameters: {'keltner_window': 27, 'atr_window': 19, 'bb_window': 13}. Best is trial 23 with value: 0.0007036102560269107.\n"
     ]
    },
    {
     "name": "stderr",
     "output_type": "stream",
     "text": [
      "[I 2023-06-08 00:32:09,648] Trial 40 finished with value: 0.0006270214090151198 and parameters: {'keltner_window': 35, 'atr_window': 15, 'bb_window': 31}. Best is trial 23 with value: 0.0007036102560269107.\n",
      "[I 2023-06-08 00:32:09,825] Trial 41 finished with value: 0.000687551930834371 and parameters: {'keltner_window': 41, 'atr_window': 18, 'bb_window': 26}. Best is trial 23 with value: 0.0007036102560269107.\n",
      "[I 2023-06-08 00:32:09,998] Trial 42 finished with value: 0.0006136868429816728 and parameters: {'keltner_window': 48, 'atr_window': 18, 'bb_window': 21}. Best is trial 23 with value: 0.0007036102560269107.\n",
      "[I 2023-06-08 00:32:10,172] Trial 43 finished with value: 0.0006771892817726206 and parameters: {'keltner_window': 39, 'atr_window': 16, 'bb_window': 26}. Best is trial 23 with value: 0.0007036102560269107.\n",
      "[I 2023-06-08 00:32:10,345] Trial 44 finished with value: 0.0006845482752236085 and parameters: {'keltner_window': 42, 'atr_window': 17, 'bb_window': 17}. Best is trial 23 with value: 0.0007036102560269107.\n",
      "[I 2023-06-08 00:32:10,525] Trial 45 finished with value: 0.0006688192546277639 and parameters: {'keltner_window': 39, 'atr_window': 19, 'bb_window': 24}. Best is trial 23 with value: 0.0007036102560269107.\n",
      "[I 2023-06-08 00:32:10,710] Trial 46 finished with value: 0.000625583383631402 and parameters: {'keltner_window': 29, 'atr_window': 18, 'bb_window': 34}. Best is trial 23 with value: 0.0007036102560269107.\n",
      "[I 2023-06-08 00:32:10,929] Trial 47 finished with value: 0.000611064497543696 and parameters: {'keltner_window': 49, 'atr_window': 17, 'bb_window': 30}. Best is trial 23 with value: 0.0007036102560269107.\n",
      "[I 2023-06-08 00:32:11,121] Trial 48 finished with value: 0.0005737118303715222 and parameters: {'keltner_window': 24, 'atr_window': 20, 'bb_window': 28}. Best is trial 23 with value: 0.0007036102560269107.\n",
      "[I 2023-06-08 00:32:11,339] Trial 49 finished with value: 0.0006584339951755584 and parameters: {'keltner_window': 45, 'atr_window': 16, 'bb_window': 20}. Best is trial 23 with value: 0.0007036102560269107.\n",
      "[I 2023-06-08 00:32:11,572] Trial 50 finished with value: 0.0005848359961654125 and parameters: {'keltner_window': 16, 'atr_window': 14, 'bb_window': 37}. Best is trial 23 with value: 0.0007036102560269107.\n",
      "[I 2023-06-08 00:32:11,788] Trial 51 finished with value: 0.000687551930834371 and parameters: {'keltner_window': 41, 'atr_window': 18, 'bb_window': 26}. Best is trial 23 with value: 0.0007036102560269107.\n",
      "[I 2023-06-08 00:32:11,978] Trial 52 finished with value: 0.0006983754145168419 and parameters: {'keltner_window': 43, 'atr_window': 18, 'bb_window': 25}. Best is trial 23 with value: 0.0007036102560269107.\n",
      "[I 2023-06-08 00:32:12,188] Trial 53 finished with value: 0.0006812434594996497 and parameters: {'keltner_window': 44, 'atr_window': 19, 'bb_window': 24}. Best is trial 23 with value: 0.0007036102560269107.\n",
      "[I 2023-06-08 00:32:12,387] Trial 54 finished with value: 0.0006814698724487764 and parameters: {'keltner_window': 43, 'atr_window': 20, 'bb_window': 20}. Best is trial 23 with value: 0.0007036102560269107.\n",
      "[I 2023-06-08 00:32:12,557] Trial 55 finished with value: 0.0006340186065147217 and parameters: {'keltner_window': 37, 'atr_window': 18, 'bb_window': 13}. Best is trial 23 with value: 0.0007036102560269107.\n",
      "[I 2023-06-08 00:32:12,738] Trial 56 finished with value: 0.0006448352230559462 and parameters: {'keltner_window': 46, 'atr_window': 19, 'bb_window': 17}. Best is trial 23 with value: 0.0007036102560269107.\n",
      "[I 2023-06-08 00:32:12,935] Trial 57 finished with value: 0.0005672137280548827 and parameters: {'keltner_window': 42, 'atr_window': 8, 'bb_window': 22}. Best is trial 23 with value: 0.0007036102560269107.\n",
      "[I 2023-06-08 00:32:13,099] Trial 58 finished with value: 0.0006990462623929629 and parameters: {'keltner_window': 40, 'atr_window': 17, 'bb_window': 28}. Best is trial 23 with value: 0.0007036102560269107.\n",
      "[I 2023-06-08 00:32:13,323] Trial 59 finished with value: 0.00068166037971309 and parameters: {'keltner_window': 39, 'atr_window': 17, 'bb_window': 31}. Best is trial 23 with value: 0.0007036102560269107.\n",
      "[I 2023-06-08 00:32:13,538] Trial 60 finished with value: 0.0006304479366739421 and parameters: {'keltner_window': 45, 'atr_window': 12, 'bb_window': 29}. Best is trial 23 with value: 0.0007036102560269107.\n",
      "[I 2023-06-08 00:32:13,739] Trial 61 finished with value: 0.0006758708747306297 and parameters: {'keltner_window': 40, 'atr_window': 18, 'bb_window': 27}. Best is trial 23 with value: 0.0007036102560269107.\n",
      "[I 2023-06-08 00:32:13,988] Trial 62 finished with value: 0.000656198713469499 and parameters: {'keltner_window': 43, 'atr_window': 16, 'bb_window': 24}. Best is trial 23 with value: 0.0007036102560269107.\n",
      "[I 2023-06-08 00:32:14,188] Trial 63 finished with value: 0.0006407916655079241 and parameters: {'keltner_window': 37, 'atr_window': 20, 'bb_window': 25}. Best is trial 23 with value: 0.0007036102560269107.\n",
      "[I 2023-06-08 00:32:14,438] Trial 64 finished with value: 0.0006990462623929629 and parameters: {'keltner_window': 40, 'atr_window': 17, 'bb_window': 21}. Best is trial 23 with value: 0.0007036102560269107.\n",
      "[I 2023-06-08 00:32:14,633] Trial 65 finished with value: 0.000618017570996193 and parameters: {'keltner_window': 32, 'atr_window': 17, 'bb_window': 15}. Best is trial 23 with value: 0.0007036102560269107.\n",
      "[I 2023-06-08 00:32:14,822] Trial 66 finished with value: 0.000649147897785001 and parameters: {'keltner_window': 36, 'atr_window': 19, 'bb_window': 19}. Best is trial 23 with value: 0.0007036102560269107.\n",
      "[I 2023-06-08 00:32:15,020] Trial 67 finished with value: 0.0006843186981790702 and parameters: {'keltner_window': 40, 'atr_window': 16, 'bb_window': 21}. Best is trial 23 with value: 0.0007036102560269107.\n",
      "[I 2023-06-08 00:32:15,253] Trial 68 finished with value: 0.0006322481142787892 and parameters: {'keltner_window': 48, 'atr_window': 14, 'bb_window': 23}. Best is trial 23 with value: 0.0007036102560269107.\n",
      "[I 2023-06-08 00:32:15,454] Trial 69 finished with value: 0.0006814698724487764 and parameters: {'keltner_window': 43, 'atr_window': 20, 'bb_window': 21}. Best is trial 23 with value: 0.0007036102560269107.\n",
      "[I 2023-06-08 00:32:15,672] Trial 70 finished with value: 0.000663219705886888 and parameters: {'keltner_window': 38, 'atr_window': 17, 'bb_window': 16}. Best is trial 23 with value: 0.0007036102560269107.\n",
      "[I 2023-06-08 00:32:15,872] Trial 71 finished with value: 0.000687551930834371 and parameters: {'keltner_window': 41, 'atr_window': 18, 'bb_window': 18}. Best is trial 23 with value: 0.0007036102560269107.\n",
      "[I 2023-06-08 00:32:16,038] Trial 72 finished with value: 0.0006664993095352232 and parameters: {'keltner_window': 45, 'atr_window': 18, 'bb_window': 28}. Best is trial 23 with value: 0.0007036102560269107.\n",
      "[I 2023-06-08 00:32:16,231] Trial 73 finished with value: 0.000688477893506441 and parameters: {'keltner_window': 42, 'atr_window': 19, 'bb_window': 23}. Best is trial 23 with value: 0.0007036102560269107.\n",
      "[I 2023-06-08 00:32:16,428] Trial 74 finished with value: 0.0006448352230559462 and parameters: {'keltner_window': 46, 'atr_window': 19, 'bb_window': 23}. Best is trial 23 with value: 0.0007036102560269107.\n",
      "[I 2023-06-08 00:32:16,623] Trial 75 finished with value: 0.000688477893506441 and parameters: {'keltner_window': 42, 'atr_window': 19, 'bb_window': 25}. Best is trial 23 with value: 0.0007036102560269107.\n",
      "[I 2023-06-08 00:32:16,817] Trial 76 finished with value: 0.0006814698724487764 and parameters: {'keltner_window': 43, 'atr_window': 20, 'bb_window': 18}. Best is trial 23 with value: 0.0007036102560269107.\n",
      "[I 2023-06-08 00:32:17,025] Trial 77 finished with value: 0.0006514824395023955 and parameters: {'keltner_window': 38, 'atr_window': 19, 'bb_window': 25}. Best is trial 23 with value: 0.0007036102560269107.\n",
      "[I 2023-06-08 00:32:17,219] Trial 78 finished with value: 0.0006796961278856224 and parameters: {'keltner_window': 44, 'atr_window': 20, 'bb_window': 23}. Best is trial 23 with value: 0.0007036102560269107.\n",
      "[I 2023-06-08 00:32:17,399] Trial 79 finished with value: 0.0006845482752236085 and parameters: {'keltner_window': 42, 'atr_window': 17, 'bb_window': 21}. Best is trial 23 with value: 0.0007036102560269107.\n"
     ]
    },
    {
     "name": "stderr",
     "output_type": "stream",
     "text": [
      "[I 2023-06-08 00:32:17,621] Trial 80 finished with value: 0.0006638093406152538 and parameters: {'keltner_window': 40, 'atr_window': 19, 'bb_window': 20}. Best is trial 23 with value: 0.0007036102560269107.\n",
      "[I 2023-06-08 00:32:17,872] Trial 81 finished with value: 0.0007036102560269107 and parameters: {'keltner_window': 42, 'atr_window': 18, 'bb_window': 25}. Best is trial 23 with value: 0.0007036102560269107.\n",
      "[I 2023-06-08 00:32:18,170] Trial 82 finished with value: 0.0007036102560269107 and parameters: {'keltner_window': 42, 'atr_window': 18, 'bb_window': 22}. Best is trial 23 with value: 0.0007036102560269107.\n",
      "[I 2023-06-08 00:32:18,404] Trial 83 finished with value: 0.0006664993095352232 and parameters: {'keltner_window': 45, 'atr_window': 18, 'bb_window': 22}. Best is trial 23 with value: 0.0007036102560269107.\n",
      "[I 2023-06-08 00:32:18,620] Trial 84 finished with value: 0.0006990462623929629 and parameters: {'keltner_window': 40, 'atr_window': 17, 'bb_window': 19}. Best is trial 23 with value: 0.0007036102560269107.\n",
      "[I 2023-06-08 00:32:18,818] Trial 85 finished with value: 0.0006296343965518284 and parameters: {'keltner_window': 35, 'atr_window': 16, 'bb_window': 14}. Best is trial 23 with value: 0.0007036102560269107.\n",
      "[I 2023-06-08 00:32:19,002] Trial 86 finished with value: 0.0006790588004133002 and parameters: {'keltner_window': 40, 'atr_window': 15, 'bb_window': 19}. Best is trial 23 with value: 0.0007036102560269107.\n",
      "[I 2023-06-08 00:32:19,229] Trial 87 finished with value: 0.0006421686158375 and parameters: {'keltner_window': 38, 'atr_window': 18, 'bb_window': 19}. Best is trial 23 with value: 0.0007036102560269107.\n",
      "[I 2023-06-08 00:32:19,415] Trial 88 finished with value: 0.0006582260580410048 and parameters: {'keltner_window': 44, 'atr_window': 17, 'bb_window': 17}. Best is trial 23 with value: 0.0007036102560269107.\n",
      "[I 2023-06-08 00:32:19,586] Trial 89 finished with value: 0.0006135107226833197 and parameters: {'keltner_window': 48, 'atr_window': 17, 'bb_window': 26}. Best is trial 23 with value: 0.0007036102560269107.\n",
      "[I 2023-06-08 00:32:19,757] Trial 90 finished with value: 0.0006102462571994442 and parameters: {'keltner_window': 39, 'atr_window': 10, 'bb_window': 12}. Best is trial 23 with value: 0.0007036102560269107.\n",
      "[I 2023-06-08 00:32:19,925] Trial 91 finished with value: 0.0007036102560269107 and parameters: {'keltner_window': 42, 'atr_window': 18, 'bb_window': 43}. Best is trial 23 with value: 0.0007036102560269107.\n",
      "[I 2023-06-08 00:32:20,102] Trial 92 finished with value: 0.0006952183417002066 and parameters: {'keltner_window': 41, 'atr_window': 17, 'bb_window': 48}. Best is trial 23 with value: 0.0007036102560269107.\n",
      "[I 2023-06-08 00:32:20,268] Trial 93 finished with value: 0.0006843186981790702 and parameters: {'keltner_window': 40, 'atr_window': 16, 'bb_window': 46}. Best is trial 23 with value: 0.0007036102560269107.\n",
      "[I 2023-06-08 00:32:20,442] Trial 94 finished with value: 0.0006952183417002066 and parameters: {'keltner_window': 41, 'atr_window': 17, 'bb_window': 44}. Best is trial 23 with value: 0.0007036102560269107.\n",
      "[I 2023-06-08 00:32:20,605] Trial 95 finished with value: 0.0006952183417002066 and parameters: {'keltner_window': 41, 'atr_window': 17, 'bb_window': 43}. Best is trial 23 with value: 0.0007036102560269107.\n",
      "[I 2023-06-08 00:32:20,792] Trial 96 finished with value: 0.0006383525585900153 and parameters: {'keltner_window': 36, 'atr_window': 16, 'bb_window': 47}. Best is trial 23 with value: 0.0007036102560269107.\n",
      "[I 2023-06-08 00:32:20,967] Trial 97 finished with value: 0.00068166037971309 and parameters: {'keltner_window': 39, 'atr_window': 17, 'bb_window': 49}. Best is trial 23 with value: 0.0007036102560269107.\n",
      "[I 2023-06-08 00:32:21,160] Trial 98 finished with value: 0.0005424416430187211 and parameters: {'keltner_window': 11, 'atr_window': 18, 'bb_window': 44}. Best is trial 23 with value: 0.0007036102560269107.\n",
      "[I 2023-06-08 00:32:21,333] Trial 99 finished with value: 0.0006484234502810172 and parameters: {'keltner_window': 46, 'atr_window': 15, 'bb_window': 41}. Best is trial 23 with value: 0.0007036102560269107.\n"
     ]
    },
    {
     "name": "stdout",
     "output_type": "stream",
     "text": [
      "Best Hyperparameters: {'keltner_window': 42, 'atr_window': 18, 'bb_window': 17}\n"
     ]
    }
   ],
   "source": [
    "!pip install optuna\n",
    "import ta\n",
    "import optuna\n",
    "\n",
    "def objective(trial):\n",
    "    \n",
    "    keltner_window = trial.suggest_int('keltner_window', 10, 50)\n",
    "    atr_window = trial.suggest_int('atr_window', 5, 20)\n",
    "    bb_window = trial.suggest_int('bb_window', 10, 50)\n",
    "\n",
    "    kc_middle = ta.volatility.bollinger_mavg(df['Close'], window=keltner_window)\n",
    "    kc_upper = kc_middle + (2 * ta.volatility.average_true_range(df['High'], df['Low'], df['Close'], window=atr_window))\n",
    "    kc_lower = kc_middle - (2 * ta.volatility.average_true_range(df['High'], df['Low'], df['Close'], window=atr_window))\n",
    "   \n",
    "    bb_middle = ta.volatility.bollinger_mavg(df['Close'], window=bb_window)\n",
    "    bb_upper = ta.volatility.bollinger_hband(df['Close'], window=bb_window)\n",
    "    bb_lower = ta.volatility.bollinger_lband(df['Close'], window=bb_window)\n",
    "    \n",
    "    returns = df['Close'].pct_change() \n",
    "    trades = ((df['Close'] < kc_lower) & (df['Close'].shift(1) > kc_lower.shift(1))) | ((df['Close'] > kc_upper) & (df['Close'].shift(1) < kc_upper.shift(1)))\n",
    "    strategy_returns = returns * trades  \n",
    "    metric = strategy_returns.mean() \n",
    "    \n",
    "    return -metric\n",
    "\n",
    "study = optuna.create_study(direction='maximize')\n",
    "study.optimize(objective, n_trials=100)\n",
    "\n",
    "best_params = study.best_params\n",
    "print(\"Best Hyperparameters:\", best_params)\n"
   ]
  },
  {
   "cell_type": "markdown",
   "id": "f94faaa5",
   "metadata": {},
   "source": [
    "Signal Generation:"
   ]
  },
  {
   "cell_type": "code",
   "execution_count": 39,
   "id": "55e24bdf",
   "metadata": {},
   "outputs": [
    {
     "name": "stdout",
     "output_type": "stream",
     "text": [
      "             Open   High    Low  Close  Adj Close  Volume Index     KC_MIDDLE  \\\n",
      "Date                                                                            \n",
      "2014-11-14  21.00  21.00  21.00  21.00      21.00       0   NSE   4037.034308   \n",
      "2014-11-17  21.00  21.00  21.00  21.00      21.00       0   NSE   4039.670259   \n",
      "2014-11-18  21.00  21.00  21.00  21.00      21.00       0   NSE   4043.053595   \n",
      "2014-11-19  21.00  21.00  21.00  21.00      21.00       0   NSE   4046.897170   \n",
      "2014-11-20  21.00  21.00  21.00  21.00      21.00       0   NSE   4051.433355   \n",
      "...           ...    ...    ...    ...        ...     ...   ...           ...   \n",
      "2022-02-24   7.94   7.94   7.94   7.94       7.94   14000   NSE  15051.411668   \n",
      "2022-02-25   7.80   7.80   7.80   7.80       7.80   11600   NSE  14994.784528   \n",
      "2022-02-28   7.78   7.78   7.78   7.78       7.78   44400   NSE  14941.192848   \n",
      "2022-03-01   7.78   7.78   7.78   7.78       7.78   29800   NSE  14882.025716   \n",
      "2022-03-02   7.80   7.80   7.80   7.80       7.80    4900   NSE  14829.992164   \n",
      "\n",
      "                KC_UPPER      KC_LOWER     BB_MIDDLE      BB_UPPER  \\\n",
      "Date                                                                 \n",
      "2014-11-14   4130.759526   3943.309089   4138.628260   4259.078535   \n",
      "2014-11-17   4131.666277   3947.674241   4150.482379   4257.807271   \n",
      "2014-11-18   4133.760934   3952.346255   4162.257080   4263.127924   \n",
      "2014-11-19   4136.790745   3957.003596   4172.647676   4258.801467   \n",
      "2014-11-20   4141.089516   3961.777195   4180.615909   4265.925050   \n",
      "...                  ...           ...           ...           ...   \n",
      "2022-02-24  15885.632116  14217.191219  14454.032916  15327.296250   \n",
      "2022-02-25  15820.738281  14168.830776  14405.178826  15238.404966   \n",
      "2022-02-28  15753.175754  14129.209942  14352.124081  15102.215833   \n",
      "2022-03-01  15689.416256  14074.635177  14322.999368  15086.027616   \n",
      "2022-03-02  15629.197596  14030.786733  14296.490005  15037.053172   \n",
      "\n",
      "                BB_LOWER  \n",
      "Date                      \n",
      "2014-11-14   4018.177985  \n",
      "2014-11-17   4043.157487  \n",
      "2014-11-18   4061.386236  \n",
      "2014-11-19   4086.493886  \n",
      "2014-11-20   4095.306769  \n",
      "...                  ...  \n",
      "2022-02-24  13580.769581  \n",
      "2022-02-25  13571.952686  \n",
      "2022-02-28  13602.032329  \n",
      "2022-03-01  13559.971120  \n",
      "2022-03-02  13555.926837  \n",
      "\n",
      "[1822 rows x 13 columns]\n"
     ]
    }
   ],
   "source": [
    "\n",
    "keltner_window = 42\n",
    "atr_window = 18\n",
    "bb_window = 17\n",
    "\n",
    "kc_middle_dfA = ta.volatility.bollinger_mavg(dfA['Close'], window=keltner_window)\n",
    "kc_upper_dfA = kc_middle_dfA + (2 * ta.volatility.average_true_range(dfA['High'], dfA['Low'], dfA['Close'], window=atr_window))\n",
    "kc_lower_dfA = kc_middle_dfA - (2 * ta.volatility.average_true_range(dfA['High'], dfA['Low'], dfA['Close'], window=atr_window))\n",
    "\n",
    "bb_middle_dfA = ta.volatility.bollinger_mavg(dfA['Close'], window=bb_window)\n",
    "bb_upper_dfA = ta.volatility.bollinger_hband(dfA['Close'], window=bb_window)\n",
    "bb_lower_dfA = ta.volatility.bollinger_lband(dfA['Close'], window=bb_window)\n",
    "\n",
    "dfB['KC_MIDDLE'] = kc_middle_dfA\n",
    "dfB['KC_UPPER'] = kc_upper_dfA\n",
    "dfB['KC_LOWER'] = kc_lower_dfA\n",
    "\n",
    "dfB['BB_MIDDLE'] = bb_middle_dfA\n",
    "dfB['BB_UPPER'] = bb_upper_dfA\n",
    "dfB['BB_LOWER'] = bb_lower_dfA\n",
    "\n",
    "print(dfB)\n"
   ]
  },
  {
   "cell_type": "code",
   "execution_count": 42,
   "id": "9d213c65",
   "metadata": {},
   "outputs": [
    {
     "name": "stdout",
     "output_type": "stream",
     "text": [
      "           Date         Open         High          Low        Close  \\\n",
      "0    2010-01-04  1882.689941  1890.020020  1881.630005  1886.699951   \n",
      "1    2010-01-05  1887.280029  1891.329956  1877.520020  1888.430054   \n",
      "2    2010-01-06  1887.910034  1893.209961  1873.900024  1878.420044   \n",
      "3    2010-01-07  1878.160034  1881.329956  1867.619995  1876.719971   \n",
      "4    2010-01-08  1870.900024  1893.250000  1868.550049  1892.589966   \n",
      "...         ...          ...          ...          ...          ...   \n",
      "5170 2022-02-24     7.940000     7.940000     7.940000     7.940000   \n",
      "5171 2022-02-25     7.800000     7.800000     7.800000     7.800000   \n",
      "5172 2022-02-28     7.780000     7.780000     7.780000     7.780000   \n",
      "5173 2022-03-01     7.780000     7.780000     7.780000     7.780000   \n",
      "5174 2022-03-02     7.800000     7.800000     7.800000     7.800000   \n",
      "\n",
      "        Adj Close      Volume Indice  KC_MIDDLE   KC_UPPER   KC_LOWER  \\\n",
      "0     1886.699951  1931380000   ^NDX        NaN        NaN        NaN   \n",
      "1     1888.430054  2367860000   ^NDX        NaN        NaN        NaN   \n",
      "2     1878.420044  2253340000   ^NDX        NaN        NaN        NaN   \n",
      "3     1876.719971  2270050000   ^NDX        NaN        NaN        NaN   \n",
      "4     1892.589966  2145390000   ^NDX        NaN        NaN        NaN   \n",
      "...           ...         ...    ...        ...        ...        ...   \n",
      "5170     7.940000       14000    NSE      8.015  26.120468 -10.090468   \n",
      "5171     7.800000       11600    NSE      8.003  24.325921  -8.319921   \n",
      "5172     7.780000       44400    NSE      7.987  22.681629  -6.707629   \n",
      "5173     7.780000       29800    NSE      7.977  21.202166  -5.248166   \n",
      "5174     7.800000        4900    NSE      7.968  19.874650  -3.938650   \n",
      "\n",
      "      BB_MIDDLE  BB_UPPER  BB_LOWER      MACD  MACD_Signal  MACD_Histogram  \\\n",
      "0           NaN       NaN       NaN       NaN          NaN             NaN   \n",
      "1           NaN       NaN       NaN       NaN          NaN             NaN   \n",
      "2           NaN       NaN       NaN       NaN          NaN             NaN   \n",
      "3           NaN       NaN       NaN       NaN          NaN             NaN   \n",
      "4           NaN       NaN       NaN       NaN          NaN             NaN   \n",
      "...         ...       ...       ...       ...          ...             ...   \n",
      "5170      8.015  8.212939  7.817061 -0.041991    -0.056837        0.014847   \n",
      "5171      8.003  8.221458  7.784542 -0.057874    -0.057045       -0.000829   \n",
      "5172      7.987  8.221017  7.752983 -0.071254    -0.059887       -0.011368   \n",
      "5173      7.977  8.227847  7.726154 -0.080925    -0.064094       -0.016831   \n",
      "5174      7.968  8.230419  7.705581 -0.085984    -0.068472       -0.017512   \n",
      "\n",
      "      Buy_Signal  Sell_Signal  \n",
      "0          False        False  \n",
      "1          False        False  \n",
      "2          False        False  \n",
      "3          False        False  \n",
      "4          False        False  \n",
      "...          ...          ...  \n",
      "5170       False        False  \n",
      "5171        True        False  \n",
      "5172       False        False  \n",
      "5173       False        False  \n",
      "5174       False        False  \n",
      "\n",
      "[5175 rows x 19 columns]\n"
     ]
    }
   ],
   "source": [
    "\n",
    "keltner_window = 42\n",
    "atr_window = 18\n",
    "bb_window = 17\n",
    "\n",
    "kc_middle = ta.volatility.bollinger_mavg(df['Close'], window=keltner_window)\n",
    "kc_upper = kc_middle + (2 * ta.volatility.average_true_range(df['High'], df['Low'], df['Close'], window=atr_window))\n",
    "kc_lower = kc_middle - (2 * ta.volatility.average_true_range(df['High'], df['Low'], df['Close'], window=atr_window))\n",
    "\n",
    "bb_middle = ta.volatility.bollinger_mavg(df['Close'], window=bb_window)\n",
    "bb_upper = ta.volatility.bollinger_hband(df['Close'], window=bb_window)\n",
    "bb_lower = ta.volatility.bollinger_lband(df['Close'], window=bb_window)\n",
    "\n",
    "# Generating buy and sell signals\n",
    "df['Buy_Signal'] = (df['Close'] > kc_upper.shift(1)) & (df['Close'].shift(1) < kc_upper.shift(1)) | (df['Close'] < bb_lower.shift(1)) & (df['Close'].shift(1) > bb_lower.shift(1))\n",
    "df['Sell_Signal'] = (df['Close'] < kc_lower.shift(1)) & (df['Close'].shift(1) > kc_lower.shift(1)) | (df['Close'] > bb_upper.shift(1)) & (df['Close'].shift(1) < bb_upper.shift(1))\n",
    "\n",
    "print(df)\n"
   ]
  },
  {
   "cell_type": "code",
   "execution_count": 53,
   "id": "1f7226c9",
   "metadata": {},
   "outputs": [],
   "source": [
    "df['macd_signal'] = np.where(df['macd'] > 0, 1, -1)\n",
    "df['macd_return'] = df['macd_signal'] * df['return']\n",
    "\n",
    "df['bb_signal'] = np.where(df['Close'] > df['upper_band'], -1, np.where(df['Close'] < df['lower_band'], 1, 0))\n",
    "df['bb_return'] = df['bb_signal'] * df['return']\n",
    "\n",
    "df['kc_signal'] = np.where(df['Close'] > df['kc_upper'], -1, np.where(df['Close'] < df['kc_lower'], 1, 0))\n",
    "df['kc_return'] = df['kc_signal'] * df['return']"
   ]
  },
  {
   "cell_type": "code",
   "execution_count": 55,
   "id": "1096ffc7",
   "metadata": {},
   "outputs": [],
   "source": [
    "macd_cumulative_return = (1 + df['macd_return']).cumprod().iloc[-1]\n",
    "bb_cumulative_return = (1 + df['bb_return']).cumprod().iloc[-1]\n",
    "kc_cumulative_return = (1 + df['kc_return']).cumprod().iloc[-1]"
   ]
  },
  {
   "cell_type": "code",
   "execution_count": 56,
   "id": "4132d8ed",
   "metadata": {},
   "outputs": [],
   "source": [
    "macd_cumulative_returns = (1 + df['macd_return']).cumprod()\n",
    "macd_rolling_max = macd_cumulative_returns.cummax()\n",
    "macd_drawdown = (macd_cumulative_returns / macd_rolling_max) - 1\n",
    "macd_max_drawdown = macd_drawdown.min()\n",
    "\n",
    "bb_cumulative_returns = (1 + df['bb_return']).cumprod()\n",
    "bb_rolling_max = bb_cumulative_returns.cummax()\n",
    "bb_drawdown = (bb_cumulative_returns / bb_rolling_max) - 1\n",
    "bb_max_drawdown = bb_drawdown.min()\n",
    "\n",
    "kc_cumulative_returns = (1 + df['kc_return']).cumprod()\n",
    "kc_rolling_max = kc_cumulative_returns.cummax()\n",
    "kc_drawdown = (kc_cumulative_returns / kc_rolling_max) - 1\n",
    "kc_max_drawdown = kc_drawdown.min()"
   ]
  },
  {
   "cell_type": "code",
   "execution_count": 57,
   "id": "13dfca0f",
   "metadata": {},
   "outputs": [
    {
     "name": "stderr",
     "output_type": "stream",
     "text": [
      "C:\\Users\\ayush\\AppData\\Local\\Temp\\ipykernel_23316\\2722022066.py:2: RuntimeWarning: invalid value encountered in double_scalars\n",
      "  macd_annualized_return = macd_cumulative_return ** (252 / len(df)) - 1\n"
     ]
    }
   ],
   "source": [
    "risk_free_rate = 0.05  # Replace with the appropriate risk-free rate\n",
    "macd_annualized_return = macd_cumulative_return ** (252 / len(df)) - 1\n",
    "macd_annualized_volatility = np.std(df['macd_return']) * np.sqrt(252)\n",
    "macd_sharpe_ratio = (macd_annualized_return - risk_free_rate) / macd_annualized_volatility\n",
    "\n",
    "bb_annualized_return = bb_cumulative_return ** (252 / len(df)) - 1\n",
    "bb_annualized_volatility = np.std(df['bb_return']) * np.sqrt(252)\n",
    "bb_sharpe_ratio = (bb_annualized_return - risk_free_rate) / bb_annualized_volatility\n",
    "\n",
    "kc_annualized_return = kc_cumulative_return ** (252 / len(df)) - 1\n",
    "kc_annualized_volatility = np.std(df['kc_return']) * np.sqrt(252)\n",
    "kc_sharpe_ratio = (kc_annualized_return - risk_free_rate) / kc_annualized_volatility\n"
   ]
  },
  {
   "cell_type": "code",
   "execution_count": 58,
   "id": "6b7cda85",
   "metadata": {},
   "outputs": [
    {
     "name": "stdout",
     "output_type": "stream",
     "text": [
      "MACD Cumulative Return: -32606.529995286248\n",
      "MACD Max Drawdown: -318.4468987815749\n",
      "MACD Sharpe Ratio: nan\n",
      "Bollinger Bands Cumulative Return: 2.8246423004621665e-10\n",
      "Bollinger Bands Max Drawdown: -0.9999999997175357\n",
      "Bollinger Bands Sharpe Ratio: -2.050501553904226\n",
      "Keltner Channels Cumulative Return: 7.006259606609504e-10\n",
      "Keltner Channels Max Drawdown: -0.9999999993135212\n",
      "Keltner Channels Sharpe Ratio: -2.007269123388072\n"
     ]
    }
   ],
   "source": [
    "print(\"MACD Cumulative Return:\", macd_cumulative_return)\n",
    "print(\"MACD Max Drawdown:\", macd_max_drawdown)\n",
    "print(\"MACD Sharpe Ratio:\", macd_sharpe_ratio)\n",
    "\n",
    "print(\"Bollinger Bands Cumulative Return:\", bb_cumulative_return)\n",
    "print(\"Bollinger Bands Max Drawdown:\", bb_max_drawdown)\n",
    "print(\"Bollinger Bands Sharpe Ratio:\", bb_sharpe_ratio)\n",
    "\n",
    "print(\"Keltner Channels Cumulative Return:\", kc_cumulative_return)\n",
    "print(\"Keltner Channels Max Drawdown:\", kc_max_drawdown)\n",
    "print(\"Keltner Channels Sharpe Ratio:\", kc_sharpe_ratio)"
   ]
  },
  {
   "cell_type": "code",
   "execution_count": null,
   "id": "90929407",
   "metadata": {},
   "outputs": [],
   "source": []
  }
 ],
 "metadata": {
  "kernelspec": {
   "display_name": "Python 3 (ipykernel)",
   "language": "python",
   "name": "python3"
  },
  "language_info": {
   "codemirror_mode": {
    "name": "ipython",
    "version": 3
   },
   "file_extension": ".py",
   "mimetype": "text/x-python",
   "name": "python",
   "nbconvert_exporter": "python",
   "pygments_lexer": "ipython3",
   "version": "3.10.9"
  }
 },
 "nbformat": 4,
 "nbformat_minor": 5
}
