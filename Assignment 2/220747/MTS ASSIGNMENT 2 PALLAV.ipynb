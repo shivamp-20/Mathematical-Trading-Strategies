{
 "cells": [
  {
   "cell_type": "code",
   "execution_count": 170,
   "id": "385cf889",
   "metadata": {},
   "outputs": [
    {
     "name": "stdout",
     "output_type": "stream",
     "text": [
      "[*********************100%***********************]  2 of 2 completed\n"
     ]
    }
   ],
   "source": [
    "import yfinance as yf\n",
    "data1 = yf.download(\"^NDX ^NSEI\", group_by='Ticker', start=\"2010-01-01\", end=\"2023-05-01\")"
   ]
  },
  {
   "cell_type": "code",
   "execution_count": 171,
   "id": "f3f1ae1a",
   "metadata": {},
   "outputs": [],
   "source": [
    "#Dropping the NaN values from the dataframe\n",
    "data2=data1.dropna()\n",
    "data2.insert(0,\"Number\", [*range(0, len(data2), 1)])"
   ]
  },
  {
   "cell_type": "code",
   "execution_count": 172,
   "id": "ad6fccdb",
   "metadata": {},
   "outputs": [],
   "source": [
    "df=data2.drop([('^NSEI','Volume'),('^NSEI','Adj Close'),('^NDX','Volume'),('^NDX','Adj Close')],axis=1)"
   ]
  },
  {
   "cell_type": "code",
   "execution_count": 173,
   "id": "78413728",
   "metadata": {},
   "outputs": [],
   "source": [
    "for i in (\"^NSEI\", \"^NDX\"):\n",
    " df[i,\"ATR\"]=(df[i,\"High\"]-df[i,\"Low\"])"
   ]
  },
  {
   "cell_type": "code",
   "execution_count": 174,
   "id": "6834b54b",
   "metadata": {},
   "outputs": [
    {
     "name": "stdout",
     "output_type": "stream",
     "text": [
      "0.9548767284940565\n",
      "0.9554576673977387\n",
      "0.9457068004332322\n"
     ]
    }
   ],
   "source": [
    "corr_coeff_0 = df['^NSEI','Close'].corr(df['^NDX','Close'])\n",
    "corr_coeff_1 = df['^NSEI','Close'].corr(df['^NDX','Close'].shift(20))\n",
    "corr_coeff_2 = df['^NDX','Close'].corr(df['^NSEI','Close'].shift(20))\n",
    "print(corr_coeff_0)\n",
    "print(corr_coeff_1)\n",
    "print(corr_coeff_2)"
   ]
  },
  {
   "cell_type": "code",
   "execution_count": 175,
   "id": "ac1f7d06",
   "metadata": {},
   "outputs": [],
   "source": [
    "#the correlation coeffiecient between the closing of NSE and NASDAQ indexes is 0.954877 which implies a very strong linear\n",
    "#relationship.The value is very close to 1 which implies that usually increase or decrease in price of one of them is\n",
    "#accompanied by the simultaneous increase or decrease of the other."
   ]
  },
  {
   "cell_type": "code",
   "execution_count": 176,
   "id": "be313771",
   "metadata": {},
   "outputs": [],
   "source": [
    "#shifting NASDAQ by 20 days shows a better correlation coeffiecient than earlier. It implies that NSE lags NASDAQ by 20 days"
   ]
  },
  {
   "cell_type": "code",
   "execution_count": 177,
   "id": "95cb4548",
   "metadata": {},
   "outputs": [],
   "source": [
    "df['^NDX','daily_returns'] = 1+df['^NDX','Close'].pct_change()\n",
    "df['^NSEI','daily_returns'] = 1+df['^NSEI','Close'].pct_change()"
   ]
  },
  {
   "cell_type": "code",
   "execution_count": 178,
   "id": "be6fb067",
   "metadata": {},
   "outputs": [],
   "source": [
    "import pandas as pd\n",
    "dates = pd.DataFrame(columns = [\"Buy_date\", \"Sell_date\", \"Buy_price\", \"Sell_price\",\"returns\",\"buydays\",\"selldays\"])"
   ]
  },
  {
   "cell_type": "code",
   "execution_count": 179,
   "id": "30ebc977",
   "metadata": {},
   "outputs": [],
   "source": [
    "def MACD_signals(df,index):\n",
    "    Short_EMA = df[index,'Close'].ewm(span=11, adjust=False).mean()\n",
    "    Long_EMA = df[index,'Close'].ewm(span=30, adjust=False).mean()\n",
    "    MACD = Short_EMA - Long_EMA\n",
    "    signal = MACD.ewm(span=6, adjust=False).mean()\n",
    "    buy_signal= MACD>signal\n",
    "    sell_signal= MACD<signal\n",
    "    return buy_signal,sell_signal\n",
    "#the optimized parameters are 11,30,6 days"
   ]
  },
  {
   "cell_type": "code",
   "execution_count": 180,
   "id": "b68d158d",
   "metadata": {},
   "outputs": [],
   "source": [
    "def bollinger_signals(df,index):\n",
    "    Bollinger_Middle=df[index,'Close'].rolling(20).mean()\n",
    "    Bollinger_Upper=Bollinger_Middle+2*df[index,'Close'].rolling(35).std()\n",
    "    Bollinger_Lower=Bollinger_Middle-2*df[index,'Close'].rolling(35).std()\n",
    "    buy_signal=df[index,'Close'] < Bollinger_Lower\n",
    "    sell_signal=df[index,'Close'] > Bollinger_Upper\n",
    "    return buy_signal,sell_signal\n",
    "#the optimized parameters are multiplier=2,20 days, 35 days"
   ]
  },
  {
   "cell_type": "code",
   "execution_count": 181,
   "id": "13ac3986",
   "metadata": {},
   "outputs": [],
   "source": [
    "def keltner_signals(df,index):\n",
    "    Keltner_Middle=df[index,'Close'].ewm(span=19, adjust=False).mean()\n",
    "    Keltner_Upper=Keltner_Middle+2.1*df[index,'ATR'].rolling(18).mean()\n",
    "    Keltner_Lower=Keltner_Middle-2.1*df[index,'ATR'].rolling(18).mean()\n",
    "    buy_signal=df[index,'Close'] < Keltner_Lower\n",
    "    sell_signal=df[index,'Close'] > Keltner_Upper\n",
    "    return buy_signal,sell_signal\n",
    "#the optimized parameters are multiplier=2.1,19 days, 18 days"
   ]
  },
  {
   "cell_type": "code",
   "execution_count": 182,
   "id": "aeb668da",
   "metadata": {},
   "outputs": [],
   "source": [
    "def calculate(df,index,buy_signal,sell_signal,dates):\n",
    "    buying_dates=[]\n",
    "    selling_dates=[]\n",
    "    Buy_price=[]\n",
    "    Sell_price=[]\n",
    "    t=0\n",
    "    for i in df.index:\n",
    "        if(t==0):\n",
    "            if(buy_signal[i]==True):\n",
    "                buying_dates.append(i)\n",
    "                Buy_price.append(df[index,'Close'][i])\n",
    "                t=1\n",
    "                continue\n",
    "        if(t==1):\n",
    "            if(sell_signal[i]==True):\n",
    "                selling_dates.append(i)\n",
    "                Sell_price.append(df[index,'Close'][i])\n",
    "                t=0\n",
    "    dates= dates[0:0]\n",
    "    if(len(buying_dates)-len(selling_dates)!=0):\n",
    "        buying_dates.pop()\n",
    "        Buy_price.pop()\n",
    "    dates.loc[:,'Sell_date']=selling_dates\n",
    "    dates.loc[:,'Buy_date']=buying_dates\n",
    "    dates.loc[:,'Buy_price']=Buy_price\n",
    "    dates.loc[:,'Sell_price']=Sell_price\n",
    "    dates.loc[:,'returns']=1+(dates['Sell_price']-dates['Buy_price'])/dates['Buy_price']\n",
    "    for i in dates.index:\n",
    "        dates.loc[i,'buydays']=df['Number'][dates['Buy_date'][i]]\n",
    "        dates.loc[i,'selldays']=df['Number'][dates['Sell_date'][i]]\n",
    "        if(i==0):\n",
    "            new=df[index,'daily_returns'].iloc[dates['buydays'][0]+1:dates['selldays'][0]+1]\n",
    "            newclose=df[index,'Close'].iloc[dates['buydays'][0]:dates['selldays'][0]+1]\n",
    "        else:\n",
    "            new=new._append(df[index,'daily_returns'].iloc[dates['buydays'][i]+1:dates['selldays'][i]+1])\n",
    "            newclose=newclose._append(df[index,'Close'].iloc[dates['buydays'][i]:dates['selldays'][i]+1])\n",
    "    CummulativeReturn=(dates['returns'].product())\n",
    "    averageReturn=CummulativeReturn**(252/len(new))\n",
    "    sharperatio=((averageReturn-1)*100-5.25)/(((new-1)*100).std()*(252**0.5))\n",
    "    mdd=0\n",
    "    while i<len(newclose):\n",
    "        current_mdd=(newclose[i]-newclose[i+1:].min())/newclose[i]\n",
    "        if(current_mdd>mdd):\n",
    "            mdd=current_mdd\n",
    "        i=i+1\n",
    "    mdd=-mdd\n",
    "    CummulativeReturn=(CummulativeReturn-1)*100\n",
    "    mdd=mdd*100\n",
    "    return CummulativeReturn,sharperatio,mdd,dates"
   ]
  },
  {
   "cell_type": "code",
   "execution_count": 183,
   "id": "571362c0",
   "metadata": {},
   "outputs": [
    {
     "name": "stdout",
     "output_type": "stream",
     "text": [
      "272.1134724967453\n",
      "0.951086798032722\n",
      "-35.47246350158443\n"
     ]
    }
   ],
   "source": [
    "buy,sell = MACD_signals(df,'^NDX')\n",
    "cr,sr,mdd,dates = calculate(df,'^NDX',buy,sell,dates)\n",
    "print(cr)\n",
    "print(sr)\n",
    "print(mdd)"
   ]
  },
  {
   "cell_type": "code",
   "execution_count": 184,
   "id": "1e2370bf",
   "metadata": {},
   "outputs": [
    {
     "name": "stdout",
     "output_type": "stream",
     "text": [
      "734.8038795653025\n",
      "1.0961209030596082\n",
      "-35.54042647502641\n"
     ]
    }
   ],
   "source": [
    "buy,sell = bollinger_signals(df,'^NDX')\n",
    "cr,sr,mdd,dates = calculate(df,'^NDX',buy,sell,dates)\n",
    "print(cr)\n",
    "print(sr)\n",
    "print(mdd)"
   ]
  },
  {
   "cell_type": "code",
   "execution_count": 185,
   "id": "68e5de6e",
   "metadata": {},
   "outputs": [
    {
     "name": "stdout",
     "output_type": "stream",
     "text": [
      "375.3177910672504\n",
      "1.2528070516213703\n",
      "-30.701874842725967\n"
     ]
    }
   ],
   "source": [
    "buy,sell = keltner_signals(df,'^NDX')\n",
    "cr,sr,mdd,dates = calculate(df,'^NDX',buy,sell,dates)\n",
    "print(cr)\n",
    "print(sr)\n",
    "print(mdd)"
   ]
  },
  {
   "cell_type": "code",
   "execution_count": 186,
   "id": "d4eb340f",
   "metadata": {},
   "outputs": [
    {
     "name": "stdout",
     "output_type": "stream",
     "text": [
      "198.3227636011096\n",
      "0.9079364920518446\n",
      "-34.60925610603369\n",
      "                Buy_date  Sell_date     Buy_price    Sell_price   returns   \n",
      "0    2010-01-05 00:00:00 2010-01-12   5277.899902   5210.399902  0.987211  \\\n",
      "1    2010-01-15 00:00:00 2010-01-19   5252.200195   5225.649902  0.994945   \n",
      "2    2010-02-16 00:00:00 2010-04-12       4855.75   5339.700195  1.099665   \n",
      "3    2010-05-28 00:00:00 2010-07-01   5066.549805   5251.399902  1.036484   \n",
      "4    2010-07-12 00:00:00 2010-07-20        5383.0        5368.0  0.997213   \n",
      "..                   ...        ...           ...           ...       ...   \n",
      "134  2022-10-14 00:00:00 2022-11-21  17185.699219  18159.949219   1.05669   \n",
      "135  2022-11-28 00:00:00 2022-12-06      18562.75      18642.75   1.00431   \n",
      "136  2023-01-18 00:00:00 2023-01-27  18165.349609  17604.349609  0.969117   \n",
      "137  2023-02-08 00:00:00 2023-02-22  17871.699219  17554.300781   0.98224   \n",
      "138  2023-03-06 00:00:00 2023-03-13  17711.449219  17154.300781  0.968543   \n",
      "\n",
      "    buydays selldays  \n",
      "0         1        6  \n",
      "1         9       10  \n",
      "2        27       63  \n",
      "3        96      119  \n",
      "4       125      131  \n",
      "..      ...      ...  \n",
      "134    3054     3078  \n",
      "135    3082     3088  \n",
      "136    3116     3122  \n",
      "137    3130     3139  \n",
      "138    3147     3151  \n",
      "\n",
      "[139 rows x 7 columns]\n"
     ]
    }
   ],
   "source": [
    "buy,sell = MACD_signals(df,'^NSEI')\n",
    "cr,sr,mdd,dates = calculate(df,'^NSEI',buy,sell,dates)\n",
    "print(cr)\n",
    "print(sr)\n",
    "print(mdd)\n",
    "print(dates)"
   ]
  },
  {
   "cell_type": "code",
   "execution_count": 187,
   "id": "35c33f2d",
   "metadata": {},
   "outputs": [
    {
     "name": "stdout",
     "output_type": "stream",
     "text": [
      "123.80716585571622\n",
      "0.4647968136868895\n",
      "-37.627037683360584\n",
      "               Buy_date  Sell_date     Buy_price    Sell_price   returns   \n",
      "0   2010-05-04 00:00:00 2010-06-21        5148.5   5353.299805  1.039779  \\\n",
      "1   2010-11-19 00:00:00 2011-03-30   5890.299805   5787.649902  0.982573   \n",
      "2   2011-06-20 00:00:00 2011-07-07   5257.899902   5728.950195  1.089589   \n",
      "3   2011-08-05 00:00:00 2011-10-28       5211.25   5360.700195  1.028678   \n",
      "4   2011-11-21 00:00:00 2012-09-17   4778.350098        5610.0  1.174045   \n",
      "5   2012-11-16 00:00:00 2012-11-29   5574.049805        5825.0  1.045021   \n",
      "6   2013-02-26 00:00:00 2013-09-19   5761.350098   6115.549805  1.061479   \n",
      "7   2014-02-03 00:00:00 2014-03-06   6001.799805   6401.149902  1.066538   \n",
      "8   2014-12-16 00:00:00 2015-01-20   8067.600098   8695.599609  1.077842   \n",
      "9   2015-03-26 00:00:00 2016-05-26   8342.150391   8069.649902  0.967335   \n",
      "10  2016-11-11 00:00:00 2017-01-11   8296.299805   8380.650391  1.010167   \n",
      "11  2017-09-27 00:00:00 2019-02-06       9735.75  11062.450195  1.136271   \n",
      "12  2019-02-19 00:00:00 2019-03-11  10604.349609  11168.049805  1.053157   \n",
      "13  2019-05-08 00:00:00 2019-06-03  11359.450195  12088.549805  1.064184   \n",
      "14  2019-07-10 00:00:00 2019-09-20  11498.900391  11274.200195  0.980459   \n",
      "15  2020-02-03 00:00:00 2020-06-01  11707.900391   9826.150391  0.839275   \n",
      "16  2020-09-22 00:00:00 2020-10-07  11153.650391  11738.849609  1.052467   \n",
      "17  2021-03-25 00:00:00 2021-05-18  14324.900391  15108.099609  1.054674   \n",
      "18  2021-11-22 00:00:00 2022-01-10  17416.550781  18003.300781  1.033689   \n",
      "19  2022-02-24 00:00:00 2022-04-04  16247.950195  18053.400391  1.111119   \n",
      "\n",
      "   buydays selldays  \n",
      "0       78      111  \n",
      "1      215      301  \n",
      "2      354      366  \n",
      "3      386      439  \n",
      "4      453      650  \n",
      "5      686      693  \n",
      "6      752      888  \n",
      "7      977      998  \n",
      "8     1180     1202  \n",
      "9     1245     1523  \n",
      "10    1634     1673  \n",
      "11    1844     2170  \n",
      "12    2177     2190  \n",
      "13    2226     2243  \n",
      "14    2268     2316  \n",
      "15    2403     2479  \n",
      "16    2558     2568  \n",
      "17    2680     2713  \n",
      "18    2838     2871  \n",
      "19    2901     2926  \n"
     ]
    }
   ],
   "source": [
    "buy,sell = bollinger_signals(df,'^NSEI')\n",
    "cr,sr,mdd,dates = calculate(df,'^NSEI',buy,sell,dates)\n",
    "print(cr)\n",
    "print(sr)\n",
    "print(mdd)\n",
    "print(dates)"
   ]
  },
  {
   "cell_type": "code",
   "execution_count": 188,
   "id": "d4193c23",
   "metadata": {},
   "outputs": [
    {
     "name": "stdout",
     "output_type": "stream",
     "text": [
      "111.839994840299\n",
      "0.5237372834699371\n",
      "-37.627037683360584\n",
      "               Buy_date  Sell_date     Buy_price    Sell_price   returns   \n",
      "0   2010-01-29 00:00:00 2010-03-16   4882.049805   5198.100098  1.064737  \\\n",
      "1   2010-05-07 00:00:00 2010-06-21   5018.049805   5353.299805  1.066809   \n",
      "2   2010-11-19 00:00:00 2011-03-28   5890.299805       5687.25  0.965528   \n",
      "3   2011-05-04 00:00:00 2011-06-30   5537.149902   5647.399902  1.019911   \n",
      "4   2011-08-04 00:00:00 2011-10-28   5331.799805   5360.700195   1.00542   \n",
      "5   2011-11-17 00:00:00 2012-01-17       4934.75   4967.299805  1.006596   \n",
      "6   2012-05-08 00:00:00 2012-06-29   4999.950195   5278.899902   1.05579   \n",
      "7   2012-07-26 00:00:00 2012-08-07        5043.0   5336.700195  1.058239   \n",
      "8   2013-02-26 00:00:00 2013-04-25   5761.350098   5916.299805  1.026895   \n",
      "9   2013-06-11 00:00:00 2013-07-12   5788.799805        6009.0  1.038039   \n",
      "10  2013-07-30 00:00:00 2013-09-10   5755.049805       5896.75  1.024622   \n",
      "11  2014-01-30 00:00:00 2014-02-28   6073.700195   6276.950195  1.033464   \n",
      "12  2014-12-12 00:00:00 2015-01-20   8224.099609   8695.599609  1.057332   \n",
      "13  2015-03-26 00:00:00 2015-07-16   8342.150391   8608.049805  1.031874   \n",
      "14  2015-08-24 00:00:00 2016-03-21        7809.0       7704.25  0.986586   \n",
      "15  2016-11-04 00:00:00 2017-01-11       8433.75   8380.650391  0.993704   \n",
      "16  2017-08-11 00:00:00 2017-09-12   9710.799805  10093.049805  1.039363   \n",
      "17  2017-09-27 00:00:00 2017-10-16       9735.75  10230.849609  1.050854   \n",
      "18  2017-12-06 00:00:00 2018-01-16  10044.099609  10700.450195  1.065347   \n",
      "19  2018-02-06 00:00:00 2018-04-27      10498.25  10692.299805  1.018484   \n",
      "20  2018-05-23 00:00:00 2018-07-10  10430.349609      10947.25  1.049557   \n",
      "21  2018-09-11 00:00:00 2018-11-29       11287.5  10858.700195  0.962011   \n",
      "22  2019-05-08 00:00:00 2019-05-20  11359.450195      11828.25   1.04127   \n",
      "23  2019-07-22 00:00:00 2019-09-23  11346.200195  11600.200195  1.022386   \n",
      "24  2020-02-03 00:00:00 2020-04-30  11707.900391   9859.900391  0.842158   \n",
      "25  2020-09-24 00:00:00 2020-10-06  10805.549805  11662.400391  1.079297   \n",
      "26  2021-01-29 00:00:00 2021-02-03  13634.599609  14789.950195  1.084737   \n",
      "27  2021-11-22 00:00:00 2022-01-04  17416.550781      17805.25  1.022318   \n",
      "28  2022-01-24 00:00:00 2022-04-04  17149.099609  18053.400391  1.052732   \n",
      "29  2022-04-19 00:00:00 2022-07-20  16958.650391  16520.849609  0.974184   \n",
      "30  2022-09-26 00:00:00 2022-10-31  17016.300781  18012.199219  1.058526   \n",
      "31  2022-12-23 00:00:00 2023-04-11  17806.800781  17722.300781  0.995255   \n",
      "\n",
      "   buydays selldays  \n",
      "0       17       46  \n",
      "1       81      111  \n",
      "2      215      299  \n",
      "3      323      362  \n",
      "4      385      439  \n",
      "5      451      489  \n",
      "6      563      599  \n",
      "7      617      625  \n",
      "8      752      790  \n",
      "9      821      843  \n",
      "10     855      881  \n",
      "11     975      994  \n",
      "12    1178     1202  \n",
      "13    1245     1318  \n",
      "14    1345     1480  \n",
      "15    1629     1673  \n",
      "16    1814     1833  \n",
      "17    1844     1856  \n",
      "18    1891     1917  \n",
      "19    1931     1984  \n",
      "20    2001     2033  \n",
      "21    2075     2125  \n",
      "22    2226     2234  \n",
      "23    2276     2317  \n",
      "24    2403     2459  \n",
      "25    2560     2567  \n",
      "26    2643     2646  \n",
      "27    2838     2867  \n",
      "28    2880     2926  \n",
      "29    2935     2997  \n",
      "30    3041     3064  \n",
      "31    3101     3169  \n"
     ]
    }
   ],
   "source": [
    "buy,sell = keltner_signals(df,'^NSEI')\n",
    "cr,sr,mdd,dates = calculate(df,'^NSEI',buy,sell,dates)\n",
    "print(cr)\n",
    "print(sr)\n",
    "print(mdd)\n",
    "print(dates)"
   ]
  }
 ],
 "metadata": {
  "kernelspec": {
   "display_name": "Python 3 (ipykernel)",
   "language": "python",
   "name": "python3"
  },
  "language_info": {
   "codemirror_mode": {
    "name": "ipython",
    "version": 3
   },
   "file_extension": ".py",
   "mimetype": "text/x-python",
   "name": "python",
   "nbconvert_exporter": "python",
   "pygments_lexer": "ipython3",
   "version": "3.11.3"
  }
 },
 "nbformat": 4,
 "nbformat_minor": 5
}
