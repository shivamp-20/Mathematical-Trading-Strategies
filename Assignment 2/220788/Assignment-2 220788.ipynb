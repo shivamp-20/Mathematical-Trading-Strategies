{
 "cells": [
  {
   "cell_type": "code",
   "execution_count": 310,
   "id": "721a9fbb",
   "metadata": {},
   "outputs": [],
   "source": [
    "import yfinance as yf\n",
    "import numpy as np\n",
    "import pandas as pd\n",
    "import math\n",
    "import matplotlib.pyplot as plt\n",
    "from statistics import mean"
   ]
  },
  {
   "cell_type": "code",
   "execution_count": 311,
   "id": "1af05ec6",
   "metadata": {},
   "outputs": [
    {
     "name": "stdout",
     "output_type": "stream",
     "text": [
      "[*********************100%***********************]  1 of 1 completed\n",
      "[*********************100%***********************]  1 of 1 completed\n"
     ]
    }
   ],
   "source": [
    "df = yf.download(\"^IXIC\", start = \"2010-01-01\", end = \"2023-05-01\")\n",
    "df1 = yf.download(\"^NSEI\", start = \"2010-01-01\", end = \"2023-05-01\")\n",
    "data = (df + df1 - df1).dropna()\n",
    "data1 = (df1 + df - df).dropna()"
   ]
  },
  {
   "cell_type": "code",
   "execution_count": 312,
   "id": "eb4325d8",
   "metadata": {},
   "outputs": [
    {
     "name": "stdout",
     "output_type": "stream",
     "text": [
      "Correlation(NASDAQ[i],NSE[i]) = 0.9513138758576922\n",
      "Correlation(NASDAQ[i+1],NSE[i]) = 0.9507737700328892\n",
      "Correlation(NASDAQ[i],NSE[i+1]) = 0.95165035077158\n"
     ]
    }
   ],
   "source": [
    "#CALCULATING CORRELATION COEFFICIENT\n",
    "\n",
    "sum_x = sum(data['Adj Close'])\n",
    "sum_y = sum(data1['Adj Close'])\n",
    "sum_xy = sum(data['Adj Close'] * data1['Adj Close'])\n",
    "sum_x2= sum(data['Adj Close'] * data['Adj Close'])\n",
    "sum_y2 = sum(data1['Adj Close'] * data1['Adj Close'])\n",
    "n = len(data.index)\n",
    "cor_cf = (n*sum_xy - sum_x*sum_y)/math.sqrt((n*sum_x2 - (sum_x)**2)*(n*sum_y2 - (sum_y)**2))\n",
    "print(\"Correlation(NASDAQ[i],NSE[i]) =\",cor_cf)\n",
    "\n",
    "#CHECKING LEAD-LAG RELATIONSHIP\n",
    "\n",
    "Nasdaq = data[1:]\n",
    "Nse = data1[0:-1]\n",
    "sum_x = sum(Nasdaq['Adj Close'])\n",
    "sum_y = sum(Nse['Adj Close'])\n",
    "sum_xy = sum(Nasdaq['Adj Close'].values * Nse['Adj Close'].values)\n",
    "sum_x2= sum(Nasdaq['Adj Close'] * Nasdaq['Adj Close'])\n",
    "sum_y2 = sum(Nse['Adj Close'] * Nse['Adj Close'])\n",
    "n = len(Nasdaq.index)\n",
    "cor_cf = (n*sum_xy - sum_x*sum_y)/math.sqrt((n*sum_x2 - (sum_x)**2)*(n*sum_y2 - (sum_y)**2))\n",
    "print(\"Correlation(NASDAQ[i+1],NSE[i]) =\", cor_cf)\n",
    "\n",
    "Nasdaq = data[0:-1]\n",
    "Nse = data1[1:]\n",
    "sum_x = sum(Nasdaq['Adj Close'])\n",
    "sum_y = sum(Nse['Adj Close'])\n",
    "sum_xy = sum(Nasdaq['Adj Close'].values * Nse['Adj Close'].values)\n",
    "sum_x2= sum(Nasdaq['Adj Close'] * Nasdaq['Adj Close'])\n",
    "sum_y2 = sum(Nse['Adj Close'] * Nse['Adj Close'])\n",
    "n = len(Nasdaq.index)\n",
    "cor_cf = (n*sum_xy - sum_x*sum_y)/math.sqrt((n*sum_x2 - (sum_x)**2)*(n*sum_y2 - (sum_y)**2))\n",
    "print(\"Correlation(NASDAQ[i],NSE[i+1]) =\", cor_cf)"
   ]
  },
  {
   "cell_type": "code",
   "execution_count": 313,
   "id": "adc546df",
   "metadata": {},
   "outputs": [],
   "source": [
    "def atr(high, low, close, n):\n",
    "    tr = np.amax(np.vstack(((high - low).to_numpy(), (abs(high - close)).to_numpy(), (abs(low - close)).to_numpy())).T, axis=1)\n",
    "    return pd.Series(tr).rolling(n).mean().to_numpy()\n",
    "\n",
    "def MACD(df, n1, n2,n3):\n",
    "    df[f'EMA{n1}'] = df['Close'].ewm(span = n1, adjust = False).mean()\n",
    "    df[f'EMA{n2}'] = df['Close'].ewm(span = n2, adjust = False).mean()\n",
    "    df['MACD'] = df[f'EMA{n1}'] - df[f'EMA{n2}']\n",
    "    df['signal'] = df['MACD'].ewm(span = n3, adjust = False).mean()\n",
    "\n",
    "def Keltner(df,n1,n2,n3):\n",
    "    df['kcmb'] =  df['Close'].ewm(span = n1, adjust = False).mean()\n",
    "    df['ATR'] = atr(df['High'], df['Low'], df['Close'], n2)\n",
    "    df['kcub'] = df['kcmb'] + n3 * df['ATR']\n",
    "    df['kclb'] = df['kcmb'] - n3 * df['ATR']\n",
    "    \n",
    "def Bollinger(data, n1, n2):\n",
    "    MA = data.Close.rolling(window=n1).mean()\n",
    "    SD = data.Close.rolling(window=n1).std()\n",
    "    data['bbmb'] = MA\n",
    "    data['bbub'] = MA + (n2 * SD) \n",
    "    data['bblb'] = MA - (n2 * SD)\n",
    "\n",
    "def Sharperatio(PnL):\n",
    "    return ((PnL.mean())/PnL.std())*math.sqrt(252)\n",
    "\n",
    "def MaxDrawdown(array):\n",
    "    max_dd = 0\n",
    "    peak = array[0]\n",
    "    for val in array:\n",
    "        if val > peak:\n",
    "            peak = val\n",
    "        dd = (val / peak) - 1\n",
    "        if dd < max_dd:\n",
    "            max_dd = dd\n",
    "    return max_dd"
   ]
  },
  {
   "cell_type": "code",
   "execution_count": 314,
   "id": "149a9dba",
   "metadata": {},
   "outputs": [],
   "source": [
    "def Trade_BOLLINGER(data):\n",
    "    buy, sell = [], []\n",
    "    flag = 0\n",
    "    for i in range(2, len(data)):\n",
    "        if flag == 1 and data.Close.iloc[i] > data.bbub.iloc[i] and data.Close.iloc[i - 1] < data.bbub.iloc[i - 1]:\n",
    "            sell.append(i)\n",
    "            flag = 0\n",
    "        elif flag == 0 and data.Close.iloc[i] < data.bblb.iloc[i] and data.Close.iloc[i - 1] > data.bblb.iloc[i - 1]:\n",
    "            buy.append(i)\n",
    "            flag = 1\n",
    "    if len(sell) != 0 and len(buy) != 0:\n",
    "        if sell[0] < buy[0]:\n",
    "            sell.pop(0)\n",
    "        if buy[-1] > sell[-1]:\n",
    "            buy.pop(-1)\n",
    "    return (buy, sell)\n",
    "\n",
    "def Trade_KELTNER(data):\n",
    "    buy, sell = [], []\n",
    "    flag = 0\n",
    "    for i in range(2, len(data)):\n",
    "        if flag == 0 and data.Close.iloc[i] > data.kcub.iloc[i] and data.Close.iloc[i - 1] < data.kcub.iloc[i - 1]:\n",
    "            buy.append(i)\n",
    "            flag = 1\n",
    "        elif flag == 1 and data.Close.iloc[i] < data.kclb.iloc[i] and data.Close.iloc[i - 1] > data.kclb.iloc[i - 1]:\n",
    "            sell.append(i)\n",
    "            flag = 0\n",
    "    if len(sell) != 0 and len(buy) != 0:\n",
    "        if sell[0] < buy[0]:\n",
    "            sell.pop(0)\n",
    "        if buy[-1] > sell[-1]:\n",
    "            buy.pop(-1)\n",
    "    return (buy, sell)\n",
    "\n",
    "def Trade_MACD(data):\n",
    "    buy, sell = [], []\n",
    "    for i in range(2, len(data)):\n",
    "        if data.MACD.iloc[i] > data.signal.iloc[i] and data.MACD.iloc[i - 1] < data.signal.iloc[i - 1]:\n",
    "            buy.append(i)\n",
    "        elif data.MACD.iloc[i] < data.signal.iloc[i] and data.MACD.iloc[i - 1] > data.signal.iloc[i - 1]:\n",
    "            sell.append(i)\n",
    "    if len(sell) != 0 and len(buy) != 0:\n",
    "        if sell[0] < buy[0]:\n",
    "            sell.pop(0)\n",
    "        if buy[-1] > sell[-1]:\n",
    "            buy.pop(-1)\n",
    "    return (buy, sell)"
   ]
  },
  {
   "cell_type": "code",
   "execution_count": 315,
   "id": "71093f21",
   "metadata": {},
   "outputs": [
    {
     "name": "stdout",
     "output_type": "stream",
     "text": [
      "15 2.5 522.4934372369988\n",
      "17 2.5 455.7822613700037\n",
      "20 2.5 494.87253719230574\n",
      "22 2.5 450.87304113841753\n"
     ]
    }
   ],
   "source": [
    "#BOLLINGER TRADING STRATEGY BRUTE FORCE PARAMETER OPTIMISATION\n",
    "for n1 in range(15,50):\n",
    "    for n2 in [1, 1.5, 2, 2.5, 3]:\n",
    "        \n",
    "        Bollinger(data,n1,n2)\n",
    "        buy, sell = Trade_BOLLINGER(data)\n",
    "        if len(sell) == 0 or len(buy) == 0:\n",
    "                continue;\n",
    "        Realbuy = [i for i in buy]\n",
    "        Realsell = [i for i in sell]\n",
    "        BuyPrices = data.Close.iloc[Realbuy]\n",
    "        SellPrices = data.Close.iloc[Realsell]\n",
    "\n",
    "        capital = []\n",
    "        capital.append(100)\n",
    "        returns = []\n",
    "        for i in range(len(BuyPrices)):\n",
    "            returns.append((SellPrices[i]/BuyPrices[i]) - 1)\n",
    "            capital.append(capital[-1] * (1 + returns[i]))\n",
    "\n",
    "        if capital[-1] > 450:\n",
    "            print(n1, n2, capital[-1])\n",
    "            "
   ]
  },
  {
   "cell_type": "code",
   "execution_count": 317,
   "id": "6cac68fd",
   "metadata": {},
   "outputs": [
    {
     "name": "stdout",
     "output_type": "stream",
     "text": [
      "Keltner Channel Results:-\n",
      "226.81547906442194 8.089629465833603 -0.09051421231600798\n",
      "Bollinger Results:-\n",
      "132.39877302964214 13.832240778710622 -0.03308659010084436\n",
      "MACD Results:-\n",
      "502.34198663119525 5.386132245689329 -0.10020381789538857\n"
     ]
    }
   ],
   "source": [
    "#OPTIMISED DATA\n",
    "\n",
    "Keltner(data, 16, 10, 3)\n",
    "buy, sell = Trade_KELTNER(data)\n",
    "Realbuy = [i for i in buy]\n",
    "Realsell = [i for i in sell]\n",
    "BuyPrices = data1.Close.iloc[Realbuy]\n",
    "SellPrices = data1.Close.iloc[Realsell]\n",
    "capital = []\n",
    "capital.append(100)\n",
    "returns = []\n",
    "for i in range(len(BuyPrices)):\n",
    "    returns.append((SellPrices[i]/BuyPrices[i]) - 1)\n",
    "    capital.append(capital[-1] * (1 + returns[i]))\n",
    "returns = np.array(returns)\n",
    "print(\"Keltner Channel Results:-\")\n",
    "print(capital[-1] - 100, Sharperatio(returns), MaxDrawdown(capital))\n",
    "\n",
    "\n",
    "Bollinger(data,15,2.5)\n",
    "buy, sell = Trade_BOLLINGER(data)\n",
    "Realbuy = [i for i in buy]\n",
    "Realsell = [i for i in sell]\n",
    "BuyPrices = data1.Close.iloc[Realbuy]\n",
    "SellPrices = data1.Close.iloc[Realsell]\n",
    "capital = []\n",
    "capital.append(100)\n",
    "returns = []\n",
    "for i in range(len(BuyPrices)):\n",
    "    returns.append((SellPrices[i]/BuyPrices[i]) - 1)\n",
    "    capital.append(capital[-1] * (1 + returns[i]))\n",
    "returns = np.array(returns)\n",
    "print(\"Bollinger Results:-\")\n",
    "print(capital[-1] - 100, Sharperatio(returns), MaxDrawdown(capital))\n",
    "\n",
    "MACD(data,10,29,7)\n",
    "buy, sell = Trade_MACD(data)\n",
    "Realbuy = [i for i in buy]\n",
    "Realsell = [i  for i in sell]\n",
    "BuyPrices = data1.Close.iloc[Realbuy]\n",
    "SellPrices = data1.Close.iloc[Realsell]\n",
    "capital = []\n",
    "capital.append(100)\n",
    "returns = []\n",
    "for i in range(len(BuyPrices)):\n",
    "    returns.append((SellPrices[i]/BuyPrices[i]) - 1)\n",
    "    capital.append(capital[-1] * (1 + returns[i]))\n",
    "returns = np.array(returns)\n",
    "print(\"MACD Results:-\")\n",
    "print(capital[-1] - 100, Sharperatio(returns), MaxDrawdown(capital))\n"
   ]
  },
  {
   "cell_type": "code",
   "execution_count": null,
   "id": "dca8b3dd",
   "metadata": {},
   "outputs": [],
   "source": []
  }
 ],
 "metadata": {
  "kernelspec": {
   "display_name": "Python 3 (ipykernel)",
   "language": "python",
   "name": "python3"
  },
  "language_info": {
   "codemirror_mode": {
    "name": "ipython",
    "version": 3
   },
   "file_extension": ".py",
   "mimetype": "text/x-python",
   "name": "python",
   "nbconvert_exporter": "python",
   "pygments_lexer": "ipython3",
   "version": "3.10.9"
  }
 },
 "nbformat": 4,
 "nbformat_minor": 5
}
