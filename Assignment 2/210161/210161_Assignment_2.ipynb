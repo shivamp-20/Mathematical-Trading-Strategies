{
 "cells": [
  {
   "cell_type": "code",
   "execution_count": 1,
   "id": "c21a21b4",
   "metadata": {},
   "outputs": [],
   "source": [
    "import yfinance as yf\n",
    "import numpy as np\n",
    "import pandas as pd\n",
    "from math import sqrt\n",
    "import matplotlib.pyplot as plt\n",
    "from itertools import product"
   ]
  },
  {
   "cell_type": "markdown",
   "id": "35ee1812",
   "metadata": {},
   "source": [
    "# 1. Correctional Analysis\n",
    "## 1.1 Collect historical data for NASDAQ and NSE indices."
   ]
  },
  {
   "cell_type": "code",
   "execution_count": 2,
   "id": "58914241",
   "metadata": {},
   "outputs": [
    {
     "name": "stdout",
     "output_type": "stream",
     "text": [
      "[*********************100%***********************]  1 of 1 completed\n",
      "[*********************100%***********************]  1 of 1 completed\n"
     ]
    }
   ],
   "source": [
    "# Define the tickers for NASDAQ and NSE indices\n",
    "nasdaq_ticker = '^IXIC'\n",
    "nse_ticker = '^NSEI'\n",
    "\n",
    "# Set the start and end dates for the historical data\n",
    "start_date = '2010-01-01'\n",
    "end_date = '2023-06-04'\n",
    "\n",
    "# Collect historical data for NASDAQ index\n",
    "nasdaq_data = yf.download(nasdaq_ticker, start=start_date, end=end_date)\n",
    "\n",
    "# Collect historical data for NSE index\n",
    "nse_data = yf.download(nse_ticker, start=start_date, end=end_date)"
   ]
  },
  {
   "cell_type": "code",
   "execution_count": 3,
   "id": "f0ecca6a",
   "metadata": {},
   "outputs": [
    {
     "data": {
      "text/plain": [
       "(3377, 6)"
      ]
     },
     "execution_count": 3,
     "metadata": {},
     "output_type": "execute_result"
    }
   ],
   "source": [
    "nasdaq_data.shape"
   ]
  },
  {
   "cell_type": "code",
   "execution_count": 4,
   "id": "f32f2b1d",
   "metadata": {},
   "outputs": [
    {
     "data": {
      "text/plain": [
       "(3292, 6)"
      ]
     },
     "execution_count": 4,
     "metadata": {},
     "output_type": "execute_result"
    }
   ],
   "source": [
    "nse_data.shape"
   ]
  },
  {
   "cell_type": "markdown",
   "id": "7fce5a95",
   "metadata": {},
   "source": [
    "##  1.2 Calculate the correlation coefficient between the two indices."
   ]
  },
  {
   "cell_type": "code",
   "execution_count": 5,
   "id": "deef7bd7",
   "metadata": {},
   "outputs": [],
   "source": [
    "# Select the common trading days\n",
    "common_dates = nasdaq_data.index.intersection(nse_data.index)\n",
    "\n",
    "# Filter the data for common trading days\n",
    "nasdaq = nasdaq_data.loc[common_dates]\n",
    "nse = nse_data.loc[common_dates]"
   ]
  },
  {
   "cell_type": "code",
   "execution_count": 6,
   "id": "e6c7ab42",
   "metadata": {},
   "outputs": [
    {
     "name": "stdout",
     "output_type": "stream",
     "text": [
      "Correlation between NASDAQ and NSE indices: 0.9512057035170748\n"
     ]
    }
   ],
   "source": [
    "# Calculate the correlation between the indices\n",
    "correlation = nasdaq['Close'].corr(nse['Close'])\n",
    "\n",
    "# Print the correlation value\n",
    "print(\"Correlation between NASDAQ and NSE indices:\", correlation)"
   ]
  },
  {
   "cell_type": "markdown",
   "id": "75fd7eb8",
   "metadata": {},
   "source": [
    "## 1.3 Analyze the strength and direction of the relationship."
   ]
  },
  {
   "cell_type": "raw",
   "id": "8c1f848b",
   "metadata": {},
   "source": [
    "The correlation coefficient ranges from -1 to +1, indicating the strength and direction of the relationship between the two variables. Since it is a positive correlation with correlation coefficient close to +1, it imples the following:-\n",
    "Positive Correlation (0 to +1):\n",
    "\n",
    "    - A correlation coefficient close to +1 indicates a strong positive relationship.\n",
    "    - It suggests that when one index increases, the other tends to increase as well.\n",
    "    - The closer the correlation coefficient is to +1, the stronger the positive relationship."
   ]
  },
  {
   "cell_type": "raw",
   "id": "6c7758b5",
   "metadata": {},
   "source": [
    "Other possible interpretations of correlation coefficient are:-\n",
    "Negative Correlation (0 to -1):\n",
    "\n",
    "    - A correlation coefficient close to -1 indicates a strong negative relationship.\n",
    "    -It suggests that when one index increases, the other tends to decrease, and vice versa.\n",
    "    -The closer the correlation coefficient is to -1, the stronger the negative relationship.\n",
    "    \n",
    "No Correlation (0):\n",
    "\n",
    "    - A correlation coefficient close to 0 indicates no linear relationship between the two indices.\n",
    "    - It suggests that the movement of one index does not have a consistent effect on the other index."
   ]
  },
  {
   "cell_type": "markdown",
   "id": "b7064d5e",
   "metadata": {},
   "source": [
    "# 2. Lead-Lag Relationship\n",
    "## 2.1 Identify potential lead-lag relationships between the indices."
   ]
  },
  {
   "cell_type": "code",
   "execution_count": 7,
   "id": "f8ee4e63",
   "metadata": {},
   "outputs": [],
   "source": [
    "# Perform lag analysis\n",
    "lags = range(-15, 15)  # Define the range of lag periods\n",
    "correlations = []\n",
    "\n",
    "for lag in lags:\n",
    "    nasdaq_shifted = nasdaq['Close'].shift(lag)\n",
    "    correlation = nasdaq_shifted.corr(nse['Close'])\n",
    "    correlations.append(correlation)\n",
    "\n",
    "# Find the lag period with the maximum correlation\n",
    "max_correlation = max(correlations)\n",
    "max_lag = lags[correlations.index(max_correlation)]"
   ]
  },
  {
   "cell_type": "markdown",
   "id": "4ed411c2",
   "metadata": {},
   "source": [
    "## 2.2 Analyze data to determine consistent leading or lagging behavior."
   ]
  },
  {
   "cell_type": "code",
   "execution_count": 8,
   "id": "f2ab4594",
   "metadata": {},
   "outputs": [],
   "source": [
    "# Identify consistent leading or lagging behavior\n",
    "leading_indices = [i for i, corr in enumerate(correlations) if corr > 0.5]\n",
    "lagging_indices = [i for i, corr in enumerate(correlations) if corr < -0.5]"
   ]
  },
  {
   "cell_type": "raw",
   "id": "61a73008",
   "metadata": {},
   "source": [
    "After performing the lag analysis as described earlier, we identify lag periods where the correlation exceeds a certain threshold to determine consistent leading or lagging behavior. We consider correlations above 0.5 as indicating leading behavior and correlations below -0.5 as indicating lagging behavior."
   ]
  },
  {
   "cell_type": "markdown",
   "id": "f6c0174c",
   "metadata": {},
   "source": [
    "## 2.3 Use the lead-lag relationship to determine the index to be used for parameter optimization."
   ]
  },
  {
   "cell_type": "code",
   "execution_count": 9,
   "id": "f11564ae",
   "metadata": {},
   "outputs": [],
   "source": [
    "# Determine the index for parameter optimization\n",
    "if max_correlation > 0.5:\n",
    "    optimization_index = nasdaq['Close'].shift(max_lag)\n",
    "    optimization_index_name = \"NASDAQ\"\n",
    "elif max_correlation < -0.5:\n",
    "    optimization_index = nse['Close']\n",
    "    optimization_index_name = \"NSE\"\n",
    "else:\n",
    "    optimization_index = None\n",
    "    optimization_index_name = \"No significant lead-lag relationship found\""
   ]
  },
  {
   "cell_type": "code",
   "execution_count": 10,
   "id": "bc5729d9",
   "metadata": {},
   "outputs": [
    {
     "name": "stdout",
     "output_type": "stream",
     "text": [
      "Max Correlation: 0.9519196260560229\n",
      "Max Lag Period: 9\n",
      "Index for Parameter Optimization: NASDAQ\n"
     ]
    }
   ],
   "source": [
    "# Print the results\n",
    "print(\"Max Correlation:\", max_correlation)\n",
    "print(\"Max Lag Period:\", max_lag)\n",
    "print(\"Index for Parameter Optimization:\", optimization_index_name)"
   ]
  },
  {
   "cell_type": "markdown",
   "id": "67ef14dd",
   "metadata": {},
   "source": [
    "## 2.4 Provide an explanation for choosing the index for parameter optimization\n"
   ]
  },
  {
   "cell_type": "raw",
   "id": "7cca5c48",
   "metadata": {},
   "source": [
    "If a consistent leading relationship between the NASDAQ and NSE indices is identified, where one index consistently leads the other in terms of price movements, you may consider using the leading index for parameter optimization. This approach assumes that the leading index provides more timely and accurate signals for optimizing parameters or making trading decisions.\n",
    "\n",
    "On the other hand, if a consistent lagging relationship is identified, where one index consistently lags behind the other, we may consider using the lagging index for parameter optimization. This approach assumes that the lagging index reflects the effects of market movements more accurately and can provide insights into potential future price movements.\n",
    "\n",
    "If the maximum correlation is above 0.5, indicating a consistent leading relationship, the code selects the NASDAQ index shifted by the lag period as the optimization index. If the maximum correlation is below -0.5, indicating a consistent lagging relationship, the code selects the NSE index as the optimization index. If the correlation is not significant, the code assigns None to the optimization index."
   ]
  },
  {
   "cell_type": "markdown",
   "id": "4d6302c2",
   "metadata": {},
   "source": [
    "# 3. Indicator Coding\n",
    "## 3.1 Code Keltner Channel"
   ]
  },
  {
   "cell_type": "code",
   "execution_count": 11,
   "id": "d9e1e4a7",
   "metadata": {},
   "outputs": [],
   "source": [
    "import ta\n",
    "# Calculate Keltner Channel\n",
    "nasdaq_keltner_channel = ta.volatility.KeltnerChannel(high=nasdaq['High'], low=nasdaq['Low'], close=nasdaq['Close'], window=20, window_atr=10)\n",
    "nse_keltner_channel = ta.volatility.KeltnerChannel(high=nse['High'], low=nse['Low'], close=nse['Close'], window=20, window_atr=10)\n",
    "\n",
    "# Add Keltner Channel upper and lower bands to the DataFrame\n",
    "nasdaq['KC_Upper'] = nasdaq_keltner_channel.keltner_channel_hband()\n",
    "nasdaq['KC_Lower'] = nasdaq_keltner_channel.keltner_channel_lband()\n",
    "nse['KC_Upper'] = nse_keltner_channel.keltner_channel_hband()\n",
    "nse['KC_Lower'] = nse_keltner_channel.keltner_channel_lband()"
   ]
  },
  {
   "cell_type": "markdown",
   "id": "73a9e22f",
   "metadata": {},
   "source": [
    "## 3.2 Bollinger Bands"
   ]
  },
  {
   "cell_type": "code",
   "execution_count": 12,
   "id": "bbecda7e",
   "metadata": {},
   "outputs": [],
   "source": [
    "# Calculate Bollinger Bands\n",
    "nasdaq_bollinger_bands = ta.volatility.BollingerBands(close=nasdaq['Close'], window=20, window_dev=2)\n",
    "nse_bollinger_bands = ta.volatility.BollingerBands(close=nse['Close'], window=20, window_dev=2)\n",
    "\n",
    "# Add Bollinger Bands upper, middle, and lower bands to the DataFrame\n",
    "nasdaq['BB_Upper'] = nasdaq_bollinger_bands.bollinger_hband()\n",
    "nasdaq['BB_Middle'] = nasdaq_bollinger_bands.bollinger_mavg()\n",
    "nasdaq['BB_Lower'] = nasdaq_bollinger_bands.bollinger_lband()\n",
    "nse['BB_Upper'] = nse_bollinger_bands.bollinger_hband()\n",
    "nse['BB_Middle'] = nse_bollinger_bands.bollinger_mavg()\n",
    "nse['BB_Lower'] = nse_bollinger_bands.bollinger_lband()"
   ]
  },
  {
   "cell_type": "markdown",
   "id": "c50fd9e6",
   "metadata": {},
   "source": [
    "## 3.3 MACD indicators"
   ]
  },
  {
   "cell_type": "code",
   "execution_count": 13,
   "id": "bf3a9a0a",
   "metadata": {},
   "outputs": [],
   "source": [
    "# Calculate MACD\n",
    "nasdaq_macd = ta.trend.MACD(close=nasdaq['Close'], window_slow=26, window_fast=12, window_sign=9)\n",
    "nse_macd = ta.trend.MACD(close=nse['Close'], window_slow=26, window_fast=12, window_sign=9)\n",
    "\n",
    "# Add MACD line, signal line, and histogram to the DataFrame\n",
    "nasdaq['MACD_Line'] = nasdaq_macd.macd()\n",
    "nasdaq['MACD_Signal_Line'] = nasdaq_macd.macd_signal()\n",
    "nasdaq['MACD_Histogram'] = nasdaq_macd.macd_diff()\n",
    "nse['MACD_Line'] = nse_macd.macd()\n",
    "nse['MACD_Signal_Line'] = nse_macd.macd_signal()\n",
    "nse['MACD_Histogram'] = nse_macd.macd_diff()"
   ]
  },
  {
   "cell_type": "markdown",
   "id": "2245eef0",
   "metadata": {},
   "source": [
    "# 4. Parameter Optimisation\n",
    "## 4.1 Optimize parameters for the indicators on one index\n",
    "### Optimising Parameters for Keltner Channel"
   ]
  },
  {
   "cell_type": "code",
   "execution_count": 14,
   "id": "9b868e1d",
   "metadata": {},
   "outputs": [
    {
     "name": "stdout",
     "output_type": "stream",
     "text": [
      "Best Parameters: (30, 5)\n",
      "Best Score: 54.0405616224649\n"
     ]
    }
   ],
   "source": [
    "# Define parameter ranges to test\n",
    "window_range = range(10, 31, 5)  # Example: 10, 15, 20, 25, 30\n",
    "atr_range = range(5, 21, 5)  # Example: 5, 10, 15, 20\n",
    "\n",
    "best_params = None\n",
    "best_score = float('-inf')\n",
    "\n",
    "# Perform grid search\n",
    "for window, atr in product(window_range, atr_range):\n",
    "    # Calculate Keltner Channel with current parameters\n",
    "    nasdaq_keltner_channel = ta.volatility.KeltnerChannel(high=nasdaq['High'], low=nasdaq['Low'], close=nasdaq['Close'], window=window, window_atr=atr)\n",
    "\n",
    "    # Extract upper and lower bands\n",
    "    upper_band = nasdaq_keltner_channel.keltner_channel_hband()\n",
    "    lower_band = nasdaq_keltner_channel.keltner_channel_lband()\n",
    "\n",
    "    # Calculate a score for the current parameters (e.g., based on trading strategy performance)\n",
    "\n",
    "    # Example: Calculate the average percentage of price above the upper band\n",
    "    score = ((nasdaq['Close'] > upper_band).sum() / len(nasdaq)) * 100\n",
    "\n",
    "    # Check if current parameters yield a better score\n",
    "    if score > best_score:\n",
    "        best_score = score\n",
    "        best_params = (window, atr)\n",
    "\n",
    "# Print the best parameters and corresponding score\n",
    "print(\"Best Parameters:\", best_params)\n",
    "print(\"Best Score:\", best_score)"
   ]
  },
  {
   "cell_type": "markdown",
   "id": "82a1d610",
   "metadata": {},
   "source": [
    "### Optimising Parameters for Bollinger Bands"
   ]
  },
  {
   "cell_type": "code",
   "execution_count": 15,
   "id": "04a84bca",
   "metadata": {},
   "outputs": [
    {
     "name": "stdout",
     "output_type": "stream",
     "text": [
      "Best Parameters: (10, 1)\n",
      "Best Score: 20.2808112324493\n"
     ]
    }
   ],
   "source": [
    "# Define parameter ranges to test\n",
    "window_range = range(10, 31, 5)  # Example: 10, 15, 20, 25, 30\n",
    "dev_range = range(1, 4)  # Example: 1, 2, 3\n",
    "\n",
    "best_params = None\n",
    "best_score = float('-inf')\n",
    "\n",
    "# Perform grid search\n",
    "for window, dev in product(window_range, dev_range):\n",
    "    # Calculate Bollinger Bands with current parameters\n",
    "    bollinger_bands = ta.volatility.BollingerBands(close=nasdaq['Close'], window=window, window_dev=dev)\n",
    "\n",
    "    # Extract upper, middle, and lower bands\n",
    "    upper_band = bollinger_bands.bollinger_hband()\n",
    "    middle_band = bollinger_bands.bollinger_mavg()\n",
    "    lower_band = bollinger_bands.bollinger_lband()\n",
    "\n",
    "    # Calculate a score for the current parameters (e.g., based on trading strategy performance)\n",
    "\n",
    "    # Example: Calculate the average percentage of price below the lower band\n",
    "    score = ((nasdaq['Close'] < lower_band).sum() / len(nasdaq)) * 100\n",
    "\n",
    "    # Check if current parameters yield a better score\n",
    "    if score > best_score:\n",
    "        best_score = score\n",
    "        best_params = (window, dev)\n",
    "\n",
    "# Print the best parameters and corresponding score\n",
    "print(\"Best Parameters:\", best_params)\n",
    "print(\"Best Score:\", best_score)"
   ]
  },
  {
   "cell_type": "markdown",
   "id": "dc8f7e19",
   "metadata": {},
   "source": [
    "### Optimising Parameters for MACD indicators"
   ]
  },
  {
   "cell_type": "code",
   "execution_count": 16,
   "id": "7936b043",
   "metadata": {},
   "outputs": [
    {
     "name": "stdout",
     "output_type": "stream",
     "text": [
      "Best Parameters: (30, 20, 5)\n",
      "Best Score: 54.16536661466459\n"
     ]
    }
   ],
   "source": [
    "# Define parameter ranges to test\n",
    "window_slow_range = range(20, 41, 5)  # Example: 20, 25, 30, 35, 40\n",
    "window_fast_range = range(5, 21, 5)  # Example: 5, 10, 15, 20\n",
    "window_sign_range = range(5, 21, 5)  # Example: 5, 10, 15, 20\n",
    "\n",
    "best_params = None\n",
    "best_score = float('-inf')\n",
    "\n",
    "# Perform grid search\n",
    "for window_slow, window_fast, window_sign in product(window_slow_range, window_fast_range, window_sign_range):\n",
    "    # Calculate MACD with current parameters\n",
    "    macd = ta.trend.MACD(close=nasdaq['Close'], window_slow=window_slow, window_fast=window_fast, window_sign=window_sign)\n",
    "\n",
    "    # Extract MACD line, signal line, and histogram\n",
    "    macd_line = macd.macd()\n",
    "    signal_line = macd.macd_signal()\n",
    "    histogram = macd.macd_diff()\n",
    "\n",
    "    # Calculate a score for the current parameters (e.g., based on trading strategy performance)\n",
    "\n",
    "    # Example: Calculate the average percentage of histogram values above zero\n",
    "    score = ((histogram > 0).sum() / len(histogram)) * 100\n",
    "\n",
    "    # Check if current parameters yield a better score\n",
    "    if score > best_score:\n",
    "        best_score = score\n",
    "        best_params = (window_slow, window_fast, window_sign)\n",
    "\n",
    "# Print the best parameters and corresponding score\n",
    "print(\"Best Parameters:\", best_params)\n",
    "print(\"Best Score:\", best_score)"
   ]
  },
  {
   "cell_type": "code",
   "execution_count": 17,
   "id": "c6158ffc",
   "metadata": {
    "scrolled": true
   },
   "outputs": [
    {
     "name": "stdout",
     "output_type": "stream",
     "text": [
      "Optimal Parameters:\n",
      "{'kc_timeperiod': 10, 'bb_timeperiod': 10, 'macd_fastperiod': 10, 'macd_slowperiod': 30, 'macd_signalperiod': 5}\n",
      "Best Metric:\n",
      "5.73585828374554\n"
     ]
    }
   ],
   "source": [
    "# Define the parameter ranges to optimize\n",
    "parameter_ranges = {\n",
    "    'kc_timeperiod': range(10, 31, 5),\n",
    "    'bb_timeperiod': range(10, 31, 5),\n",
    "    'macd_fastperiod': range(10, 31, 5),\n",
    "    'macd_slowperiod': range(30, 61, 5),\n",
    "    'macd_signalperiod': range(5, 21, 5)\n",
    "}\n",
    "\n",
    "# Perform parameter optimization\n",
    "best_parameters = None\n",
    "best_metric = float('-inf')\n",
    "\n",
    "for kc_timeperiod in parameter_ranges['kc_timeperiod']:\n",
    "    for bb_timeperiod in parameter_ranges['bb_timeperiod']:\n",
    "        for macd_fastperiod in parameter_ranges['macd_fastperiod']:\n",
    "            for macd_slowperiod in parameter_ranges['macd_slowperiod']:\n",
    "                for macd_signalperiod in parameter_ranges['macd_signalperiod']:\n",
    "\n",
    "                    # Calculate Keltner Channel with current parameters\n",
    "                    nasdaq['KC_Middle'] = nasdaq['Close'].rolling(window=kc_timeperiod).mean()\n",
    "                    nasdaq['KC_ATR'] = nasdaq['High'] - nasdaq['Low']\n",
    "                    nasdaq['KC_Upper'] = nasdaq['KC_Middle'] + (2 * nasdaq['KC_ATR'])\n",
    "                    nasdaq['KC_Lower'] = nasdaq['KC_Middle'] - (2 * nasdaq['KC_ATR'])\n",
    "\n",
    "                    # Calculate Bollinger Bands with current parameters\n",
    "                    nasdaq['BB_Middle'] = nasdaq['Close'].rolling(window=bb_timeperiod).mean()\n",
    "                    nasdaq['BB_STD'] = nasdaq['Close'].rolling(window=bb_timeperiod).std()\n",
    "                    nasdaq['BB_Upper'] = nasdaq['BB_Middle'] + (2 * nasdaq['BB_STD'])\n",
    "                    nasdaq['BB_Lower'] = nasdaq['BB_Middle'] - (2 * nasdaq['BB_STD'])\n",
    "\n",
    "                    # Calculate MACD with current parameters\n",
    "                    nasdaq['MACD_Line'] = nasdaq['Close'].ewm(span=macd_fastperiod).mean() - nasdaq['Close'].ewm(span=macd_slowperiod).mean()\n",
    "                    nasdaq['MACD_Signal'] = nasdaq['MACD_Line'].ewm(span=macd_signalperiod).mean()\n",
    "                    nasdaq['MACD_Hist'] = nasdaq['MACD_Line'] - nasdaq['MACD_Signal']\n",
    "\n",
    "                    # Evaluate the strategy performance using a metric (e.g., cumulative returns)\n",
    "                    strategy_returns = nasdaq['Close'].pct_change().fillna(0)\n",
    "                    cumulative_returns = (1 + strategy_returns).cumprod()\n",
    "                    metric = cumulative_returns.iloc[-1]\n",
    "\n",
    "                    # Update the best parameters and metric if the current combination is better\n",
    "                    if metric > best_metric:\n",
    "                        best_parameters = {\n",
    "                            'kc_timeperiod': kc_timeperiod,\n",
    "                            'bb_timeperiod': bb_timeperiod,\n",
    "                            'macd_fastperiod': macd_fastperiod,\n",
    "                            'macd_slowperiod': macd_slowperiod,\n",
    "                            'macd_signalperiod': macd_signalperiod\n",
    "                        }\n",
    "                        best_metric = metric\n",
    "\n",
    "# Print the best parameters and\n",
    "print(\"Optimal Parameters:\")\n",
    "print(best_parameters)\n",
    "print(\"Best Metric:\")\n",
    "print(best_metric)"
   ]
  },
  {
   "cell_type": "markdown",
   "id": "4f41d739",
   "metadata": {},
   "source": [
    "## 4.2 Use metrics coded in last assignment to evaluate your strategy\n",
    "### MACD"
   ]
  },
  {
   "cell_type": "code",
   "execution_count": 18,
   "id": "9d87bcbd",
   "metadata": {
    "scrolled": true
   },
   "outputs": [
    {
     "name": "stdout",
     "output_type": "stream",
     "text": [
      "Sharpe Ratio: -0.6133441154583865\n",
      "Maximum Drawdown: 0.7761515783470914\n",
      "Cumulative Returns: 4.73585828374554\n"
     ]
    }
   ],
   "source": [
    "# Calculate MACD with optimized parameters\n",
    "macd = ta.trend.MACD(close=nasdaq['Close'], window_slow=macd_slowperiod, window_fast=macd_fastperiod, window_sign=macd_signalperiod)\n",
    "\n",
    "# Generate trading signals based on MACD\n",
    "nasdaq['Signal'] = 0\n",
    "nasdaq.loc[macd.macd() > macd.macd_signal(), 'Signal'] = 1\n",
    "nasdaq.loc[macd.macd() < macd.macd_signal(), 'Signal'] = -1\n",
    "\n",
    "# Calculate daily returns\n",
    "nasdaq['Return'] = nasdaq['Close'].pct_change()\n",
    "nasdaq['Strategy_Return'] = nasdaq['Return'] * nasdaq['Signal'].shift()\n",
    "\n",
    "# Calculate cumulative returns\n",
    "nasdaq['Cumulative_Return'] = (1 + nasdaq['Strategy_Return']).cumprod()\n",
    "nasdaq[\"Returns\"] = nasdaq[\"Close\"]/nasdaq[\"Close\"].shift(1) - 1\n",
    "cumulative_return = (1 + nasdaq['Returns']).prod() - 1\n",
    "\n",
    "# Calculate rolling maximum of cumulative returns\n",
    "nasdaq['Roll_Max'] = nasdaq['Cumulative_Return'].cummax()\n",
    "\n",
    "# Calculate drawdown from rolling maximum\n",
    "nasdaq['Drawdown'] = (nasdaq['Roll_Max'] - nasdaq['Cumulative_Return']) / nasdaq['Roll_Max']\n",
    "\n",
    "# Calculate maximum drawdown\n",
    "max_drawdown = nasdaq['Drawdown'].max()\n",
    "\n",
    "# Calculate annualized average return\n",
    "average_return = nasdaq['Strategy_Return'].mean() * 252\n",
    "\n",
    "# Calculate annualized standard deviation of returns\n",
    "std_return = nasdaq['Strategy_Return'].std() * np.sqrt(252)\n",
    "\n",
    "# Set the risk-free rate (e.g., 0.05 for 5% annual risk-free rate)\n",
    "risk_free_rate = 0.05\n",
    "\n",
    "# Calculate Sharpe Ratio\n",
    "sharpe_ratio = (average_return - risk_free_rate) / std_return\n",
    "\n",
    "print(\"Sharpe Ratio:\", sharpe_ratio)\n",
    "print(\"Maximum Drawdown:\", max_drawdown)\n",
    "print(\"Cumulative Returns:\", cumulative_return)"
   ]
  },
  {
   "cell_type": "markdown",
   "id": "e053f177",
   "metadata": {},
   "source": [
    "### Bollinger Bands"
   ]
  },
  {
   "cell_type": "code",
   "execution_count": 19,
   "id": "82d5d77b",
   "metadata": {},
   "outputs": [
    {
     "name": "stdout",
     "output_type": "stream",
     "text": [
      "Sharpe Ratio: -0.0022200555447359966\n",
      "Maximum Drawdown: 0.12278136997538693\n",
      "Cumulative Returns: 4.73585828374554\n"
     ]
    }
   ],
   "source": [
    "# Calculate Bollinger Bands with optimized parameters\n",
    "bb = ta.volatility.BollingerBands(close=nasdaq['Close'], window=bb_timeperiod)\n",
    "\n",
    "# Generate trading signals based on Bollinger Bands\n",
    "nasdaq['Signal'] = 0\n",
    "nasdaq.loc[nasdaq['Close'] < bb.bollinger_lband(), 'Signal'] = 1\n",
    "nasdaq.loc[nasdaq['Close'] > bb.bollinger_hband(), 'Signal'] = -1\n",
    "\n",
    "# Calculate daily returns\n",
    "nasdaq['Return'] = nasdaq['Close'].pct_change()\n",
    "nasdaq['Strategy_Return'] = nasdaq['Return'] * nasdaq['Signal'].shift()\n",
    "\n",
    "# Calculate cumulative returns\n",
    "nasdaq['Cumulative_Return'] = (1 + nasdaq['Strategy_Return']).cumprod()\n",
    "nasdaq[\"Returns\"] = nasdaq[\"Close\"]/nasdaq[\"Close\"].shift(1) - 1\n",
    "cumulative_return = (1 + nasdaq['Returns']).prod() - 1\n",
    "\n",
    "# Calculate rolling maximum of cumulative returns\n",
    "nasdaq['Roll_Max'] = nasdaq['Cumulative_Return'].cummax()\n",
    "\n",
    "# Calculate drawdown from rolling maximum\n",
    "nasdaq['Drawdown'] = (nasdaq['Roll_Max'] - nasdaq['Cumulative_Return']) / nasdaq['Roll_Max']\n",
    "\n",
    "# Calculate maximum drawdown\n",
    "max_drawdown = nasdaq['Drawdown'].max()\n",
    "\n",
    "# Calculate annualized average return\n",
    "average_return = nasdaq['Strategy_Return'].mean() * 252\n",
    "\n",
    "# Calculate annualized standard deviation of returns\n",
    "std_return = nasdaq['Strategy_Return'].std() * np.sqrt(252)\n",
    "\n",
    "# Set the risk-free rate (e.g., 0.05 for 5% annual risk-free rate)\n",
    "risk_free_rate = 0.05\n",
    "\n",
    "# Calculate Sharpe Ratio\n",
    "sharpe_ratio = (average_return - risk_free_rate) / std_return\n",
    "\n",
    "print(\"Sharpe Ratio:\", sharpe_ratio)\n",
    "print(\"Maximum Drawdown:\", max_drawdown)\n",
    "print(\"Cumulative Returns:\", cumulative_return)"
   ]
  },
  {
   "cell_type": "markdown",
   "id": "e113a001",
   "metadata": {},
   "source": [
    "### Keltner Channel"
   ]
  },
  {
   "cell_type": "code",
   "execution_count": 20,
   "id": "7521d153",
   "metadata": {},
   "outputs": [
    {
     "name": "stdout",
     "output_type": "stream",
     "text": [
      "Sharpe Ratio: -0.22638524681201094\n",
      "Maximum Drawdown: 0.49162603015479667\n",
      "Cumulative Returns: 4.73585828374554\n"
     ]
    }
   ],
   "source": [
    "# Calculate Keltner Channel with optimized parameters\n",
    "keltner_channel = ta.volatility.KeltnerChannel(high=nasdaq['High'], low=nasdaq['Low'], close=nasdaq['Close'], window=window)\n",
    "\n",
    "# Generate trading signals based on Keltner Channel\n",
    "nasdaq['Signal'] = 0\n",
    "nasdaq.loc[nasdaq['Close'] < keltner_channel.keltner_channel_lband(), 'Signal'] = 1\n",
    "nasdaq.loc[nasdaq['Close'] > keltner_channel.keltner_channel_hband(), 'Signal'] = -1\n",
    "\n",
    "# Calculate daily returns\n",
    "nasdaq['Return'] = nasdaq['Close'].pct_change()\n",
    "nasdaq['Strategy_Return'] = nasdaq['Return'] * nasdaq['Signal'].shift()\n",
    "\n",
    "# Calculate cumulative returns\n",
    "nasdaq['Cumulative_Return'] = (1 + nasdaq['Strategy_Return']).cumprod()\n",
    "nasdaq[\"Returns\"] = nasdaq[\"Close\"]/nasdaq[\"Close\"].shift(1) - 1\n",
    "cumulative_return = (1 + nasdaq['Returns']).prod() - 1\n",
    "\n",
    "# Calculate rolling maximum of cumulative returns\n",
    "nasdaq['Roll_Max'] = nasdaq['Cumulative_Return'].cummax()\n",
    "\n",
    "# Calculate drawdown from rolling maximum\n",
    "nasdaq['Drawdown'] = (nasdaq['Roll_Max'] - nasdaq['Cumulative_Return']) / nasdaq['Roll_Max']\n",
    "\n",
    "# Calculate maximum drawdown\n",
    "max_drawdown = nasdaq['Drawdown'].max()\n",
    "\n",
    "# Calculate annualized average return\n",
    "average_return = nasdaq['Strategy_Return'].mean() * 252\n",
    "\n",
    "# Calculate annualized standard deviation of returns\n",
    "std_return = nasdaq['Strategy_Return'].std() * np.sqrt(252)\n",
    "\n",
    "# Set the risk-free rate (e.g., 0.05 for 5% annual risk-free rate)\n",
    "risk_free_rate = 0.05\n",
    "\n",
    "# Calculate Sharpe Ratio\n",
    "sharpe_ratio = (average_return - risk_free_rate) / std_return\n",
    "\n",
    "print(\"Sharpe Ratio:\", sharpe_ratio)\n",
    "print(\"Maximum Drawdown:\", max_drawdown)\n",
    "print(\"Cumulative Returns:\", cumulative_return)"
   ]
  },
  {
   "cell_type": "markdown",
   "id": "6eff9d02",
   "metadata": {},
   "source": [
    "# 5. Signal Generation"
   ]
  },
  {
   "cell_type": "code",
   "execution_count": 21,
   "id": "b418261c",
   "metadata": {},
   "outputs": [
    {
     "name": "stdout",
     "output_type": "stream",
     "text": [
      "                   Close      KC_Upper      KC_Lower  Signal   Returns  \\\n",
      "Date                                                                     \n",
      "2010-01-04   5232.200195           NaN           NaN       0       NaN   \n",
      "2010-01-05   5277.899902           NaN           NaN       0  0.008734   \n",
      "2010-01-06   5281.799805           NaN           NaN       0  0.000739   \n",
      "2010-01-07   5263.100098           NaN           NaN       0 -0.003540   \n",
      "2010-01-08   5244.750000           NaN           NaN       0 -0.003487   \n",
      "...                  ...           ...           ...     ...       ...   \n",
      "2023-05-26  18499.349609  18647.675781  17946.074219       0  0.009726   \n",
      "2023-05-30  18633.849609  18494.273438  18146.476562      -1  0.007271   \n",
      "2023-05-31  18534.400391  18585.266602  18105.063477       0 -0.005337   \n",
      "2023-06-01  18487.750000  18607.265039  18144.265039       0 -0.002517   \n",
      "2023-06-02  18534.099609  18606.777734  18225.582422       0  0.002507   \n",
      "\n",
      "            Cumulative_Returns  Trade_Returns  Cumulative_Trade_Returns  \n",
      "Date                                                                     \n",
      "2010-01-04                 NaN            NaN                       NaN  \n",
      "2010-01-05            1.008734       0.000000                  1.000000  \n",
      "2010-01-06            1.009480       0.000000                  1.000000  \n",
      "2010-01-07            1.005906      -0.000000                  1.000000  \n",
      "2010-01-08            1.002399      -0.000000                  1.000000  \n",
      "...                        ...            ...                       ...  \n",
      "2023-05-26            3.535673       0.000000                  0.682419  \n",
      "2023-05-30            3.561379       0.000000                  0.682419  \n",
      "2023-05-31            3.542372       0.005337                  0.686061  \n",
      "2023-06-01            3.533456      -0.000000                  0.686061  \n",
      "2023-06-02            3.542315       0.000000                  0.686061  \n",
      "\n",
      "[3205 rows x 8 columns]\n"
     ]
    },
    {
     "data": {
      "image/png": "[encoded data removed]",
      "text/plain": [
       "<Figure size 864x432 with 1 Axes>"
      ]
     },
     "metadata": {
      "needs_background": "light"
     },
     "output_type": "display_data"
    }
   ],
   "source": [
    "# Apply the optimized parameters\n",
    "kc_timeperiod = best_parameters['kc_timeperiod']\n",
    "bb_timeperiod = best_parameters['bb_timeperiod']\n",
    "macd_fastperiod = best_parameters['macd_fastperiod']\n",
    "macd_slowperiod = best_parameters['macd_slowperiod']\n",
    "macd_signalperiod = best_parameters['macd_signalperiod']\n",
    "\n",
    "# Calculate Keltner Channel with optimized parameters\n",
    "nse['KC_Middle'] = nse['Close'].rolling(window=kc_timeperiod).mean()\n",
    "nse['KC_ATR'] = nse['High'] - nse['Low']\n",
    "nse['KC_Upper'] = nse['KC_Middle'] + (2 * nse['KC_ATR'])\n",
    "nse['KC_Lower'] = nse['KC_Middle'] - (2 * nse['KC_ATR'])\n",
    "\n",
    "# Calculate Bollinger Bands with optimized parameters\n",
    "nse['BB_Middle'] = nse['Close'].rolling(window=bb_timeperiod).mean()\n",
    "nse['BB_STD'] = nse['Close'].rolling(window=bb_timeperiod).std()\n",
    "nse['BB_Upper'] = nse['BB_Middle'] + (2 * nse['BB_STD'])\n",
    "nse['BB_Lower'] = nse['BB_Middle'] - (2 * nse['BB_STD'])\n",
    "\n",
    "# Calculate MACD with optimized parameters\n",
    "nse['MACD_Line'] = nse['Close'].ewm(span=macd_fastperiod).mean() - nse['Close'].ewm(span=macd_slowperiod).mean()\n",
    "nse['MACD_Signal'] = nse['MACD_Line'].ewm(span=macd_signalperiod).mean()\n",
    "nse['MACD_Hist'] = nse['MACD_Line'] - nse['MACD_Signal']\n",
    "\n",
    "# Generate buy and sell signals\n",
    "nse['Signal'] = 0\n",
    "nse.loc[nse['Close'] > nse['KC_Upper'], 'Signal'] = -1  # Sell signal\n",
    "nse.loc[nse['Close'] < nse['KC_Lower'], 'Signal'] = 1  # Buy signal\n",
    "\n",
    "# Record the signals, dates, returns, and metrics\n",
    "nse['Returns'] = nse['Close'].pct_change()\n",
    "nse['Cumulative_Returns'] = (1 + nse['Returns']).cumprod()\n",
    "nse['Trade_Returns'] = nse['Signal'].shift() * nse['Returns']\n",
    "nse['Cumulative_Trade_Returns'] = (1 + nse['Trade_Returns']).cumprod()\n",
    "\n",
    "# Print the generated signals and metrics\n",
    "print(nse[['Close', 'KC_Upper', 'KC_Lower', 'Signal', 'Returns', 'Cumulative_Returns', 'Trade_Returns', 'Cumulative_Trade_Returns']])\n",
    "\n",
    "\n",
    "# Plotting the indicators and signals\n",
    "plt.figure(figsize=(12, 6))\n",
    "plt.plot(nse['Close'], label='Close')\n",
    "plt.plot(nse['KC_Upper'], label='Keltner Channel Upper')\n",
    "plt.plot(nse['KC_Lower'], label='Keltner Channel Lower')\n",
    "\n",
    "# Create a signal DataFrame with the same index as index_data\n",
    "signal_data = pd.DataFrame(index=nse.index)\n",
    "signal_data['Signal'] = 0\n",
    "signal_data.loc[nse['Close'] > nse['KC_Upper'], 'Signal'] = -1  # Sell signal\n",
    "signal_data.loc[nse['Close'] < nse['KC_Lower'], 'Signal'] = 1  # Buy signal\n",
    "\n",
    "# Plot the signals at the corresponding dates\n",
    "buy_signals = signal_data[signal_data['Signal'] == 1]\n",
    "sell_signals = signal_data[signal_data['Signal'] == -1]\n",
    "plt.scatter(buy_signals.index, nse.loc[buy_signals.index, 'Close'], color='green', marker='^', label='Buy Signal')\n",
    "plt.scatter(sell_signals.index, nse.loc[sell_signals.index, 'Close'], color='red', marker='v', label='Sell Signal')\n",
    "\n",
    "plt.legend()\n",
    "plt.title('Keltner Channel and Trading Signals')\n",
    "plt.xlabel('Date')\n",
    "plt.ylabel('Price')\n",
    "plt.show()"
   ]
  }
 ],
 "metadata": {
  "kernelspec": {
   "display_name": "Python 3 (ipykernel)",
   "language": "python",
   "name": "python3"
  },
  "language_info": {
   "codemirror_mode": {
    "name": "ipython",
    "version": 3
   },
   "file_extension": ".py",
   "mimetype": "text/x-python",
   "name": "python",
   "nbconvert_exporter": "python",
   "pygments_lexer": "ipython3",
   "version": "3.7.9"
  }
 },
 "nbformat": 4,
 "nbformat_minor": 5
}
