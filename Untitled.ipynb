{
 "cells": [
  {
   "cell_type": "code",
   "execution_count": 2,
   "id": "cff45e6d",
   "metadata": {},
   "outputs": [
    {
     "name": "stdout",
     "output_type": "stream",
     "text": [
      "[*********************100%***********************]  1 of 1 completed\n",
      "[*********************100%***********************]  1 of 1 completed\n",
      "[*********************100%***********************]  1 of 1 completed\n",
      "[*********************100%***********************]  1 of 1 completed\n",
      "[*********************100%***********************]  1 of 1 completed\n",
      "[*********************100%***********************]  1 of 1 completed\n",
      "[*********************100%***********************]  1 of 1 completed\n",
      "[*********************100%***********************]  1 of 1 completed\n",
      "[*********************100%***********************]  1 of 1 completed\n",
      "[*********************100%***********************]  1 of 1 completed\n",
      "MDD: [-0.14212948976386325, -2.2849861852357374, -0.5608083872077824, -0.4119862255889008, -7.08258446212604, -1.5305319416623506, -1.8368459825538, -16.409685396161635, -0.984130800981029, -0.044899389739796694]\n",
      "CR: [0.8955217647958532, 6.035672705873749, 2.734219174667591, 2.2690223515023416, 1.6646015461030172, 21.22966467009155, 9.01272940273765, 14.478898634604358, -0.08640771057746864, 0.6204130009563975]\n",
      "V: [735.0793916372686, 1436.9840969149682, 388.28355255145027, 3160.009524557289, 1642.976425269838, 21.605295558294994, 36.98748161745578, 21.887190480960584, 42.569986869059484, 74.94181195860328]\n",
      "Sharpe: [0.10888023209926272, 0.15992135378993602, 0.19655657921245684, 0.18006850831154794, 0.19259031333590088, 0.07986688437065609, 0.12674813858853778, 0.05994178225953687, -0.07402696617992227, 0.037154204341801736]\n",
      "Sortino: [0.1447509102866379, 0.17920191998651613, 0.232588104372946, 0.21770587722911158, 0.2530961664003776, 0.11672462589194604, 0.18078302201427357, 0.06982921049992719, -0.10648295484943868, 0.04032132093423963]\n"
     ]
    }
   ],
   "source": [
    "import yfinance as yf\n",
    "import numpy as np\n",
    "import pandas as pd\n",
    "name_indices = [\"CAC 40\", \"Nasdaq 100\", \"S&P 500\", \"Dow Jones\", \"DAX Index\", \"Apple\", \"Microsoft\", \"Amazon\", \"Alibaba\", \"Toyota Motors\"]\n",
    "code = [\"^FCHI\", \"^NDX\", \"^GSPC\", \"^DJI\", \"^GDAXI\", \"AAPL\", \"MSFT\", \"AMZN\", \"BABA\", \"TM\"]\n",
    "# Taking risk free returns as annual returns on govt bonds\n",
    "riskf= [2.888, 3.551, 3.551, 3.835, 2.332, 3.551, 3.551, 3.551, 2.724, 0.401]\n",
    "# Will store Cumulative returns \n",
    "C_R = [0]*10\n",
    "# Store Volatility here\n",
    "V=[0]*10\n",
    "Vn=[0]*10\n",
    "#Store Sharpe\n",
    "Sharpe=[0]*10\n",
    "Sortino=[0]*10\n",
    "MDD=[0]*10\n",
    "\n",
    "\n",
    "def CR(acp,op,l):\n",
    "    return (acp[l-1]-op[0])/op[0]\n",
    "for i in range(10):\n",
    "    data=yf.download(code[i], start=\"2010-01-01\", end=\"2023-05-01\")\n",
    "    acp,cp,op=data['Adj Close'],data['Close'],data['Open']\n",
    "    arracp=acp.values\n",
    "    rtn=acp-op\n",
    "    l=len(data)\n",
    "    C_R[i]=CR(acp,op,l)\n",
    "    V[i]=np.std(rtn)*(252**(1/2))\n",
    "    # Using Time=40/3 as time period is 13years 4 months in our case\n",
    "    AnnualRtn= ((1 + C_R[i])**(3/40) - 1)*100\n",
    "    nrtn= [x*(-1) for x in rtn if x<0]\n",
    "    # PercentSD= (V[i]/op[0])*100\n",
    "    Vn[i]=np.std(nrtn)*(252**(1/2))\n",
    "    Sharpe[i]=(AnnualRtn-riskf[i])/((V[i]/op[0])*100)\n",
    "    Sortino[i]=(AnnualRtn-riskf[i])/((Vn[i]/op[0])*100)\n",
    "    maxima=[]\n",
    "    arr=list(acp.values)\n",
    "    for n in range(1,l-1):\n",
    "        if (acp[n-1]<=acp[n]) and (acp[n]>=acp[n+1]):\n",
    "            maxima.append(acp[n])\n",
    "    smaxi=sorted(maxima, reverse=True)\n",
    "    for r in range(l-1):\n",
    "        id1=arr.index(smaxi[0])\n",
    "        id2=arr.index(smaxi[r+1])\n",
    "        if(id2>id1):\n",
    "            r+=1\n",
    "        else:\n",
    "            break\n",
    "    arr1=arr[id2:id1+1]\n",
    "    minval=min(arr1)\n",
    "    mdd= ((minval-arr[id2])/arr[id2])*100\n",
    "    MDD[i] = mdd\n",
    "print(\"MDD:\",MDD)\n",
    "print(\"CR:\",C_R)\n",
    "print(\"V:\",V)\n",
    "print(\"Sharpe:\",Sharpe)\n",
    "print(\"Sortino:\",Sortino)"
   ]
  },
  {
   "cell_type": "code",
   "execution_count": null,
   "id": "23543aef",
   "metadata": {},
   "outputs": [],
   "source": []
  }
 ],
 "metadata": {
  "kernelspec": {
   "display_name": "Python 3 (ipykernel)",
   "language": "python",
   "name": "python3"
  },
  "language_info": {
   "codemirror_mode": {
    "name": "ipython",
    "version": 3
   },
   "file_extension": ".py",
   "mimetype": "text/x-python",
   "name": "python",
   "nbconvert_exporter": "python",
   "pygments_lexer": "ipython3",
   "version": "3.11.3"
  }
 },
 "nbformat": 4,
 "nbformat_minor": 5
}
