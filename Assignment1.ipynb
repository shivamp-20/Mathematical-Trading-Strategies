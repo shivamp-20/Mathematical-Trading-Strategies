{
 "cells": [
  {
   "cell_type": "code",
   "execution_count": 5,
   "metadata": {},
   "outputs": [],
   "source": [
    "import pandas as pd\n",
    "import matplotlib.pyplot as plt\n",
    "from datetime import datetime\n",
    "import numpy as np\n",
    "plt.style.use('seaborn')\n",
    "\n",
    "import yfinance as yf\n",
    "\n"
   ]
  },
  {
   "cell_type": "code",
   "execution_count": 6,
   "metadata": {},
   "outputs": [],
   "source": [
    "indices=['^GSPC','^IXIC','^FTSE','^DJI','^GDAXI']\n",
    "equities = ['AAPL', 'GOOGL', 'MSFT', 'TSLA', 'META']"
   ]
  },
  {
   "cell_type": "code",
   "execution_count": 7,
   "metadata": {},
   "outputs": [
    {
     "name": "stdout",
     "output_type": "stream",
     "text": [
      "[*********************100%***********************]  5 of 5 completed\n",
      "\n",
      "5 Failed downloads:\n",
      "- ^GDAXI: No data found for this date range, symbol may be delisted\n",
      "- ^IXIC: No data found for this date range, symbol may be delisted\n",
      "- ^FTSE: No data found for this date range, symbol may be delisted\n",
      "- ^GSPC: No data found for this date range, symbol may be delisted\n",
      "- ^DJI: No data found for this date range, symbol may be delisted\n"
     ]
    }
   ],
   "source": [
    "start_date='2010-01-01'\n",
    "end_date='2023-05-01'\n",
    "\n",
    "indices_data = yf.download(indices, start=start_date, end=end_date)['Adj Close']\n"
   ]
  },
  {
   "cell_type": "code",
   "execution_count": 8,
   "metadata": {},
   "outputs": [
    {
     "name": "stdout",
     "output_type": "stream",
     "text": [
      "[*********************100%***********************]  5 of 5 completed\n",
      "\n",
      "5 Failed downloads:\n",
      "- TSLA: No data found for this date range, symbol may be delisted\n",
      "- GOOGL: No data found for this date range, symbol may be delisted\n",
      "- AAPL: No data found for this date range, symbol may be delisted\n",
      "- META: No data found for this date range, symbol may be delisted\n",
      "- MSFT: No data found for this date range, symbol may be delisted\n"
     ]
    }
   ],
   "source": [
    "\n",
    "equities_data = yf.download(equities, start=start_date, end=end_date)['Adj Close']"
   ]
  },
  {
   "cell_type": "code",
   "execution_count": 9,
   "metadata": {},
   "outputs": [],
   "source": [
    "indices_returns = indices_data.pct_change()\n",
    "equities_returns = equities_data.pct_change()\n"
   ]
  },
  {
   "cell_type": "code",
   "execution_count": 10,
   "metadata": {},
   "outputs": [],
   "source": [
    "indices_cumulative_returns = (1 + indices_returns).cumprod()\n",
    "equities_cumulative_returns = (1 + equities_returns).cumprod()\n"
   ]
  },
  {
   "cell_type": "code",
   "execution_count": 11,
   "metadata": {},
   "outputs": [
    {
     "name": "stdout",
     "output_type": "stream",
     "text": [
      "Empty DataFrame\n",
      "Columns: [^DJI, ^FTSE, ^GDAXI, ^GSPC, ^IXIC]\n",
      "Index: []\n"
     ]
    }
   ],
   "source": [
    "print(indices_cumulative_returns)\n"
   ]
  },
  {
   "cell_type": "code",
   "execution_count": 12,
   "metadata": {},
   "outputs": [
    {
     "name": "stdout",
     "output_type": "stream",
     "text": [
      "Empty DataFrame\n",
      "Columns: [AAPL, GOOGL, META, MSFT, TSLA]\n",
      "Index: []\n"
     ]
    }
   ],
   "source": [
    "print(equities_cumulative_returns)"
   ]
  },
  {
   "cell_type": "code",
   "execution_count": 13,
   "metadata": {},
   "outputs": [],
   "source": [
    "def calculate_max_drawdown(data):\n",
    "    cumulative_returns = (1 + data).cumprod()\n",
    "    peak = cumulative_returns.expanding(min_periods=1).max()\n",
    "    drawdown = (cumulative_returns / peak) - 1\n",
    "    max_drawdown = drawdown.min()\n",
    "    return max_drawdown\n",
    "\n",
    "indices_max_drawdowns = calculate_max_drawdown(indices_returns)\n",
    "equities_max_drawdowns = calculate_max_drawdown(equities_returns)\n"
   ]
  },
  {
   "cell_type": "code",
   "execution_count": 14,
   "metadata": {},
   "outputs": [
    {
     "name": "stdout",
     "output_type": "stream",
     "text": [
      "^DJI     NaN\n",
      "^FTSE    NaN\n",
      "^GDAXI   NaN\n",
      "^GSPC    NaN\n",
      "^IXIC    NaN\n",
      "dtype: float64\n",
      "AAPL    NaN\n",
      "GOOGL   NaN\n",
      "META    NaN\n",
      "MSFT    NaN\n",
      "TSLA    NaN\n",
      "dtype: float64\n"
     ]
    }
   ],
   "source": [
    "print(indices_max_drawdowns)\n",
    "print(equities_max_drawdowns)"
   ]
  },
  {
   "cell_type": "code",
   "execution_count": 15,
   "metadata": {},
   "outputs": [],
   "source": [
    "risk_free_rate = 0.0  # Set the risk-free rate\n",
    "\n",
    "def calculate_sharpe_ratio(data, risk_free_rate):\n",
    "    excess_returns = data - risk_free_rate\n",
    "    annualized_returns = excess_returns.mean() * 252  # Assuming 252 trading days in a year\n",
    "    annualized_volatility = data.std() * np.sqrt(252)\n",
    "    sharpe_ratio = annualized_returns / annualized_volatility\n",
    "    return sharpe_ratio\n",
    "\n",
    "def calculate_sortino_ratio(data, risk_free_rate):\n",
    "    downside_returns = data.copy()\n",
    "    downside_returns[downside_returns > 0] = 0  # Consider only negative returns for downside\n",
    "    annualized_returns = data.mean() * 252\n",
    "    downside_deviation = downside_returns.std() * np.sqrt(252)\n",
    "    sortino_ratio = (annualized_returns - risk_free_rate) / downside_deviation\n",
    "    return sortino_ratio\n",
    "\n",
    "indices_sharpe_ratio = calculate_sharpe_ratio(indices_returns, risk_free_rate)\n",
    "indices_sortino_ratio = calculate_sortino_ratio(indices_returns,risk_free_rate)\n"
   ]
  },
  {
   "cell_type": "code",
   "execution_count": 16,
   "metadata": {},
   "outputs": [],
   "source": [
    "equities_sharpe_ratio=calculate_sharpe_ratio(equities_returns,risk_free_rate)\n",
    "equities_sortino_ratio=calculate_sortino_ratio(equities_returns,risk_free_rate)"
   ]
  },
  {
   "cell_type": "code",
   "execution_count": 17,
   "metadata": {},
   "outputs": [
    {
     "name": "stdout",
     "output_type": "stream",
     "text": [
      "AAPL    NaN\n",
      "GOOGL   NaN\n",
      "META    NaN\n",
      "MSFT    NaN\n",
      "TSLA    NaN\n",
      "dtype: float64\n",
      "AAPL    NaN\n",
      "GOOGL   NaN\n",
      "META    NaN\n",
      "MSFT    NaN\n",
      "TSLA    NaN\n",
      "dtype: float64\n"
     ]
    }
   ],
   "source": [
    "print(equities_sharpe_ratio)\n",
    "print(equities_sortino_ratio)"
   ]
  },
  {
   "cell_type": "code",
   "execution_count": 18,
   "metadata": {},
   "outputs": [
    {
     "name": "stdout",
     "output_type": "stream",
     "text": [
      "^DJI     NaN\n",
      "^FTSE    NaN\n",
      "^GDAXI   NaN\n",
      "^GSPC    NaN\n",
      "^IXIC    NaN\n",
      "dtype: float64\n",
      "^DJI     NaN\n",
      "^FTSE    NaN\n",
      "^GDAXI   NaN\n",
      "^GSPC    NaN\n",
      "^IXIC    NaN\n",
      "dtype: float64\n"
     ]
    }
   ],
   "source": [
    "print(indices_sharpe_ratio)\n",
    "print(indices_sortino_ratio)"
   ]
  }
 ],
 "metadata": {
  "kernelspec": {
   "display_name": "Python 3",
   "language": "python",
   "name": "python3"
  },
  "language_info": {
   "codemirror_mode": {
    "name": "ipython",
    "version": 3
   },
   "file_extension": ".py",
   "mimetype": "text/x-python",
   "name": "python",
   "nbconvert_exporter": "python",
   "pygments_lexer": "ipython3",
   "version": "3.10.6"
  },
  "orig_nbformat": 4
 },
 "nbformat": 4,
 "nbformat_minor": 2
}
