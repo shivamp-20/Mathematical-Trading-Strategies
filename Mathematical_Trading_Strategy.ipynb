{
  "nbformat": 4,
  "nbformat_minor": 0,
  "metadata": {
    "colab": {
      "provenance": [],
      "authorship_tag": "ABX9TyNTWLflq59xw5Ah6qU+H4Tu",
      "include_colab_link": true
    },
    "kernelspec": {
      "name": "python3",
      "display_name": "Python 3"
    },
    "language_info": {
      "name": "python"
    }
  },
  "cells": [
    {
      "cell_type": "markdown",
      "metadata": {
        "id": "view-in-github",
        "colab_type": "text"
      },
      "source": [
        "<a href=\"https://colab.research.google.com/github/ColdMoon958/Mathematical-Trading-Strategies/blob/main/Mathematical_Trading_Strategy.ipynb\" target=\"_parent\"><img src=\"https://colab.research.google.com/assets/colab-badge.svg\" alt=\"Open In Colab\"/></a>"
      ]
    },
    {
      "cell_type": "code",
      "execution_count": null,
      "metadata": {
        "id": "eoC5Mm2WOj8L"
      },
      "outputs": [],
      "source": [
        "import yfinance as yf"
      ]
    },
    {
      "cell_type": "code",
      "source": [
        "msft= yf.Ticker(\"AAPL\")"
      ],
      "metadata": {
        "id": "JzIf8XPPOxmD"
      },
      "execution_count": null,
      "outputs": []
    },
    {
      "cell_type": "code",
      "source": [
        "#get all info about stock\n",
        "msft.info"
      ],
      "metadata": {
        "id": "Izf1AbsVPWT5"
      },
      "execution_count": null,
      "outputs": []
    },
    {
      "cell_type": "code",
      "source": [
        "#get historical market data\n",
        "hist=msft.history(period=\"2mo\")"
      ],
      "metadata": {
        "id": "EgiS07uMPd2Y"
      },
      "execution_count": null,
      "outputs": []
    },
    {
      "cell_type": "code",
      "source": [
        "hist"
      ],
      "metadata": {
        "id": "UCNZeeH0QADG"
      },
      "execution_count": null,
      "outputs": []
    },
    {
      "cell_type": "code",
      "source": [
        "#show meta information about the history(require history() to be called first)\n",
        "msft.history_metadata"
      ],
      "metadata": {
        "id": "2-kLkXqjQDLO"
      },
      "execution_count": null,
      "outputs": []
    },
    {
      "cell_type": "code",
      "source": [],
      "metadata": {
        "id": "q_7SyX6k3YKz"
      },
      "execution_count": null,
      "outputs": []
    },
    {
      "cell_type": "code",
      "source": [
        "# International Indices:\n",
        "# S&P 500(^GSPC)\n",
        "# FTSE 100(^FTSE)\n",
        "# Nikkei 225(^N225)\n",
        "# DAX(^GDAXI)\n",
        "# Shanghai Composite Index(000001.SS)\n",
        "\n",
        "# Equities:\n",
        "# Apple Inc.(AAPL)\n",
        "# Amazon.com Inc.(AMZN)\n",
        "# Microsoft Corporation(MSFT)\n",
        "# Alphabet Inc.(GOOGL)\n",
        "# Facebook Inc.(META)"
      ],
      "metadata": {
        "id": "PYXdK6hT3YNb"
      },
      "execution_count": null,
      "outputs": []
    },
    {
      "cell_type": "code",
      "source": [
        "import yfinance as yf\n",
        "import numpy as np\n",
        "import pandas as pd"
      ],
      "metadata": {
        "id": "HUfSBvq63YQQ"
      },
      "execution_count": 44,
      "outputs": []
    },
    {
      "cell_type": "code",
      "source": [
        "index_tickers=[\"^GSPC\", \"^FTSE\", \"^N225\", \"^GDAXI\", \"000001.SS\"]\n",
        "equity_tickers=[\"AAPL\", \"AMZN\", \"MSFT\", \"GOOGL\", \"META\"]\n"
      ],
      "metadata": {
        "id": "wlbBiWdV3YTF"
      },
      "execution_count": 45,
      "outputs": []
    },
    {
      "cell_type": "code",
      "source": [
        "start_date=\"2010-01-01\"\n",
        "end_date=\"2023-05-19\"\n",
        "\n",
        "index_data=yf.download(index_tickers, start=start_date, end=end_date)[\"Adj Close\"]\n",
        "equity_data=yf.download(equity_tickers, start=start_date, end=end_date)[\"Adj Close\"]"
      ],
      "metadata": {
        "colab": {
          "base_uri": "https://localhost:8080/"
        },
        "id": "ohp9n53E3YWH",
        "outputId": "387fb798-6ce0-4129-daeb-2ef17f19e010"
      },
      "execution_count": 46,
      "outputs": [
        {
          "output_type": "stream",
          "name": "stdout",
          "text": [
            "[*********************100%***********************]  5 of 5 completed\n",
            "[*********************100%***********************]  5 of 5 completed\n"
          ]
        }
      ]
    },
    {
      "cell_type": "code",
      "source": [
        "#Daily Returns\n",
        "#.pct_change(): This is a pandas DataFrame method that computes the percentage change\n",
        "# between each element and the previous element \n",
        "#along a specific axis \n",
        "index_returns=index_data.pct_change().dropna()\n",
        "equity_returns=equity_data.pct_change().dropna()"
      ],
      "metadata": {
        "id": "nOpmMwOW3YZl"
      },
      "execution_count": 47,
      "outputs": []
    },
    {
      "cell_type": "code",
      "source": [
        "#Cumulative Returns for each index and equity\n",
        "index_cumulative_returns=(1+index_returns).cumprod()\n",
        "equity_cumulative_returns=(1+equity_returns).cumprod()\n",
        "\n",
        "print(f\"index_cumulative_returns:\\n{index_cumulative_returns}\")"
      ],
      "metadata": {
        "colab": {
          "base_uri": "https://localhost:8080/"
        },
        "id": "ut8lYYKN6jon",
        "outputId": "849f8a63-a14b-41ba-aaeb-5f1dc17fd98c"
      },
      "execution_count": 48,
      "outputs": [
        {
          "output_type": "stream",
          "name": "stdout",
          "text": [
            "index_cumulative_returns:\n",
            "            000001.SS     ^FTSE    ^GDAXI     ^GSPC     ^N225\n",
            "Date                                                         \n",
            "2010-01-05   1.011844  1.004036  0.997282  1.003116  1.002538\n",
            "2010-01-06   1.003223  1.005400  0.997690  1.003663  1.007195\n",
            "2010-01-07   0.984282  1.004800  0.995215  1.007679  1.002522\n",
            "2010-01-08   0.985275  1.006163  0.998233  1.010583  1.013471\n",
            "2010-01-11   0.990440  1.006872  0.998710  1.012348  1.013471\n",
            "...               ...       ...       ...       ...       ...\n",
            "2023-05-12   1.008817  1.409850  2.631123  3.639997  2.758224\n",
            "2023-05-15   1.020649  1.414050  2.631688  3.650765  2.780565\n",
            "2023-05-16   1.014560  1.409214  2.628496  3.627481  2.800899\n",
            "2023-05-17   1.012476  1.404142  2.637320  3.670615  2.824419\n",
            "2023-05-18   1.016512  1.407614  2.672381  3.705284  2.869501\n",
            "\n",
            "[3480 rows x 5 columns]\n"
          ]
        }
      ]
    },
    {
      "cell_type": "code",
      "source": [
        "#maximum drawdown for each index and equity\n",
        "def calculate_max_drawdown(returns):\n",
        "  cumulative_returns=(1+returns).cumprod()\n",
        "  peak=cumulative_returns.expanding(min_periods=1).max()\n",
        "  drawdown=(cumulative_returns/peak)-1\n",
        "  max_drawdown=drawdown.min()\n",
        "  return max_drawdown\n",
        "\n",
        "\n",
        "index_max_drawdowns=calculate_max_drawdown(index_returns)\n",
        "equity_max_drawdowns=calculate_max_drawdown(equity_returns)\n",
        "\n",
        "print(f\"index_max_drawdowns:\\n{index_max_drawdowns}\")\n",
        "print(f\"equity_sortinos_ratios:\\n{equity_max_drawdowns}\")"
      ],
      "metadata": {
        "colab": {
          "base_uri": "https://localhost:8080/"
        },
        "id": "uB0iEBtI7soH",
        "outputId": "3f0355f6-58a3-4cf9-b1df-7341a71ff43d"
      },
      "execution_count": 49,
      "outputs": [
        {
          "output_type": "stream",
          "name": "stdout",
          "text": [
            "index_max_drawdowns:\n",
            "000001.SS   -0.522997\n",
            "^FTSE       -0.366055\n",
            "^GDAXI      -0.387794\n",
            "^GSPC       -0.339250\n",
            "^N225       -0.317989\n",
            "dtype: float64\n",
            "equity_sortinos_ratios:\n",
            "AAPL    -0.437972\n",
            "AMZN    -0.561453\n",
            "GOOGL   -0.443201\n",
            "META    -0.767361\n",
            "MSFT    -0.371485\n",
            "dtype: float64\n"
          ]
        }
      ]
    },
    {
      "cell_type": "code",
      "source": [
        "#Sharpe ratio\n",
        "def calculate_sharpe_ratio(returns, risk_free_rate):\n",
        "  excess_returns=returns-risk_free_rate\n",
        "  sharpe_ratio=excess_returns.mean()/returns.std()\n",
        "  return sharpe_ratio\n",
        "\n",
        "risk_free_rate=0.0 \n",
        "index_sharpe_ratio=calculate_sharpe_ratio(index_returns, risk_free_rate)\n",
        "equity_sharpe_ratio=calculate_sharpe_ratio(equity_returns, risk_free_rate)\n",
        "\n",
        "print(f\"index_sharpe_ratios:\\n{index_sharpe_ratio}\")\n",
        "print(f\"equity_sharpe_ratios:\\n{equity_sharpe_ratio}\")"
      ],
      "metadata": {
        "colab": {
          "base_uri": "https://localhost:8080/"
        },
        "id": "6GZGyXE8-o-E",
        "outputId": "8ac999ed-cde0-475b-f691-a569079e422f"
      },
      "execution_count": 50,
      "outputs": [
        {
          "output_type": "stream",
          "name": "stdout",
          "text": [
            "index_sharpe_ratios:\n",
            "000001.SS    0.006663\n",
            "^FTSE        0.014810\n",
            "^GDAXI       0.028759\n",
            "^GSPC        0.039762\n",
            "^N225        0.030215\n",
            "dtype: float64\n",
            "equity_sharpe_ratios:\n",
            "AAPL     0.056539\n",
            "AMZN     0.052661\n",
            "GOOGL    0.052938\n",
            "META     0.039137\n",
            "MSFT     0.064057\n",
            "dtype: float64\n"
          ]
        }
      ]
    },
    {
      "cell_type": "code",
      "source": [
        "#sortino_ratio\n",
        "def calculate_sortino_ratios(returns, risk_free_rate):\n",
        "  downside_returns=returns[returns<0]\n",
        "  sortino_ratios=(returns.mean()-risk_free_rate)/downside_returns.std()\n",
        "  return sortino_ratios\n",
        "\n",
        "risk_free_rate=0\n",
        "\n",
        "index_sortino_ratios=calculate_sortino_ratios(index_returns, risk_free_rate)\n",
        "equity_sortino_ratios=calculate_sortino_ratios(equity_returns, risk_free_rate)\n",
        "\n",
        "print(f\"index_sortinos_ratios:\\n{index_sortino_ratios}\")\n",
        "print(f\"equity_sortinos_ratios:\\n{equity_sortino_ratios}\")"
      ],
      "metadata": {
        "colab": {
          "base_uri": "https://localhost:8080/"
        },
        "id": "ng9-fy74_45T",
        "outputId": "01a1d0d3-04c4-4eb3-b76e-9491bd909315"
      },
      "execution_count": 51,
      "outputs": [
        {
          "output_type": "stream",
          "name": "stdout",
          "text": [
            "index_sortinos_ratios:\n",
            "000001.SS    0.007941\n",
            "^FTSE        0.018839\n",
            "^GDAXI       0.037214\n",
            "^GSPC        0.047919\n",
            "^N225        0.039940\n",
            "dtype: float64\n",
            "equity_sortinos_ratios:\n",
            "AAPL     0.077456\n",
            "AMZN     0.074397\n",
            "GOOGL    0.074825\n",
            "META     0.051981\n",
            "MSFT     0.088015\n",
            "dtype: float64\n"
          ]
        }
      ]
    },
    {
      "cell_type": "code",
      "source": [],
      "metadata": {
        "id": "i63Qfn9DCBDR"
      },
      "execution_count": 51,
      "outputs": []
    }
  ]
}