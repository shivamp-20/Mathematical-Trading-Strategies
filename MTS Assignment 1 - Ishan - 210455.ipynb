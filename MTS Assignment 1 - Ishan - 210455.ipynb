{
 "cells": [
  {
   "cell_type": "code",
   "execution_count": 1,
   "id": "0aa6c6a5",
   "metadata": {},
   "outputs": [],
   "source": [
    "import numpy as np\n",
    "import pandas as pd\n",
    "import yfinance as yf\n"
   ]
  },
  {
   "cell_type": "code",
   "execution_count": 2,
   "id": "4bb40582",
   "metadata": {},
   "outputs": [],
   "source": [
    "indices = ['^GSPC','^DJI','^IXIC','^FCHI','^HSI']\n",
    "equities = ['FSPSX','VEMAX','IXUS','MCHI','WDIV']"
   ]
  },
  {
   "cell_type": "code",
   "execution_count": 3,
   "id": "07ee7c12",
   "metadata": {},
   "outputs": [
    {
     "name": "stdout",
     "output_type": "stream",
     "text": [
      "[*********************100%***********************]  1 of 1 completed\n",
      "[*********************100%***********************]  1 of 1 completed\n",
      "[*********************100%***********************]  1 of 1 completed\n",
      "[*********************100%***********************]  1 of 1 completed\n",
      "[*********************100%***********************]  1 of 1 completed\n",
      "[*********************100%***********************]  1 of 1 completed\n",
      "[*********************100%***********************]  1 of 1 completed\n",
      "[*********************100%***********************]  1 of 1 completed\n",
      "[*********************100%***********************]  1 of 1 completed\n",
      "[*********************100%***********************]  1 of 1 completed\n"
     ]
    }
   ],
   "source": [
    "data = pd.DataFrame()\n",
    "for index in indices:\n",
    "    data[index] = yf.download(index, start='2010-01-01', end='2023-05-01')['Adj Close']\n",
    "for equity in equities:\n",
    "    data[equity] = yf.download(equity, start='2010-01-01', end='2023-05-01')['Adj Close']"
   ]
  },
  {
   "cell_type": "code",
   "execution_count": 4,
   "id": "9f32cbc1",
   "metadata": {},
   "outputs": [],
   "source": [
    "daily_returns = data.pct_change()\n",
    "\n",
    "cumulative_returns = (1 + daily_returns).cumprod()"
   ]
  },
  {
   "cell_type": "code",
   "execution_count": 5,
   "id": "672b0a57",
   "metadata": {},
   "outputs": [],
   "source": [
    "mdds = pd.DataFrame()"
   ]
  },
  {
   "cell_type": "code",
   "execution_count": 11,
   "id": "1bb92623",
   "metadata": {},
   "outputs": [
    {
     "name": "stdout",
     "output_type": "stream",
     "text": [
      "^GSPC:-0.3392496000265327\n",
      "^DJI:-0.37086171369594323\n",
      "^IXIC:-0.36395279909120204\n",
      "^FCHI:-0.3855846041250194\n",
      "^HSI:-0.5570077249305003\n"
     ]
    }
   ],
   "source": [
    "for index in indices:\n",
    "    peak = data[index][0]\n",
    "    drawdown = 0\n",
    "    for price in data[index]:\n",
    "        if (price>peak):\n",
    "            peak = price\n",
    "        else:\n",
    "            curr_drawdown = (price - peak) / peak\n",
    "            if curr_drawdown < drawdown:\n",
    "                drawdown = curr_drawdown\n",
    "    mdds = drawdown\n",
    "    print(index + \":\" + str(mdds))"
   ]
  },
  {
   "cell_type": "code",
   "execution_count": 16,
   "id": "2fb7568f",
   "metadata": {},
   "outputs": [
    {
     "name": "stdout",
     "output_type": "stream",
     "text": [
      "FSPSX:-0.5570077249305003\n",
      "VEMAX:-0.5570077249305003\n",
      "IXUS:-0.5570077249305003\n",
      "MCHI:-0.5570077249305003\n",
      "WDIV:-0.5570077249305003\n"
     ]
    }
   ],
   "source": [
    "mddse = pd.DataFrame()\n",
    "for equity in equities:\n",
    "    peak = data[index][0]\n",
    "    drawdown = 0\n",
    "    for price in data[index]:\n",
    "        if (price>peak):\n",
    "            peak = price\n",
    "        else:\n",
    "            curr_drawdown = (price - peak) / peak\n",
    "            if curr_drawdown < drawdown:\n",
    "                drawdown = curr_drawdown\n",
    "    mddse = drawdown\n",
    "    print(equity + \":\" + str(mddse))"
   ]
  },
  {
   "cell_type": "code",
   "execution_count": 7,
   "id": "15212d98",
   "metadata": {},
   "outputs": [],
   "source": [
    "sharpe_ratio = (daily_returns - 0.001).mean() / daily_returns.std()\n",
    "\n",
    "sortino_ratio = (daily_returns - 0.001).mean() / daily_returns[daily_returns < 0].std()"
   ]
  },
  {
   "cell_type": "code",
   "execution_count": 8,
   "id": "d5c3aabe",
   "metadata": {},
   "outputs": [
    {
     "name": "stdout",
     "output_type": "stream",
     "text": [
      "Daily Returns-\n",
      "                ^GSPC      ^DJI     ^IXIC     ^FCHI      ^HSI     FSPSX  \\\n",
      "Date                                                                     \n",
      "2010-01-04       NaN       NaN       NaN       NaN       NaN       NaN   \n",
      "2010-01-05  0.003116 -0.001128  0.000126 -0.000264  0.020909       NaN   \n",
      "2010-01-06  0.000546  0.000157 -0.003300  0.001186  0.006153       NaN   \n",
      "2010-01-07  0.004001  0.003138 -0.000452  0.001775 -0.006567       NaN   \n",
      "2010-01-08  0.002882  0.001068  0.007443  0.005054  0.001226       NaN   \n",
      "...              ...       ...       ...       ...       ...       ...   \n",
      "2023-04-24  0.000852  0.001965 -0.002921 -0.000414 -0.005768  0.003041   \n",
      "2023-04-25 -0.015811 -0.010172 -0.019775 -0.005578 -0.017137 -0.012129   \n",
      "2023-04-26 -0.003841 -0.006828  0.004677 -0.008624  0.007105 -0.000219   \n",
      "2023-04-27  0.019566  0.015744  0.024286  0.002301  0.004201  0.008114   \n",
      "2023-04-28  0.008253  0.008041  0.006946  0.001024  0.002736 -0.000218   \n",
      "\n",
      "               VEMAX      IXUS      MCHI      WDIV  \n",
      "Date                                                \n",
      "2010-01-04       NaN       NaN       NaN       NaN  \n",
      "2010-01-05  0.006571       NaN       NaN       NaN  \n",
      "2010-01-06  0.006813       NaN       NaN       NaN  \n",
      "2010-01-07 -0.007612       NaN       NaN       NaN  \n",
      "2010-01-08  0.005113       NaN       NaN       NaN  \n",
      "...              ...       ...       ...       ...  \n",
      "2023-04-24 -0.001507  0.001585 -0.012711  0.000833  \n",
      "2023-04-25 -0.016606 -0.016300 -0.026171 -0.012823  \n",
      "2023-04-26  0.006141  0.000804  0.014955 -0.000337  \n",
      "2023-04-27  0.012206  0.013020  0.013666  0.012319  \n",
      "2023-04-28  0.005427  0.001904  0.005266  0.004001  \n",
      "\n",
      "[3353 rows x 10 columns]\n",
      "Cumulative Returns-\n",
      "                ^GSPC      ^DJI     ^IXIC     ^FCHI      ^HSI     FSPSX  \\\n",
      "Date                                                                     \n",
      "2010-01-04       NaN       NaN       NaN       NaN       NaN       NaN   \n",
      "2010-01-05  1.003116  0.998872  1.000126  0.999736  1.020909       NaN   \n",
      "2010-01-06  1.003663  0.999029  0.996825  1.000922  1.027191       NaN   \n",
      "2010-01-07  1.007679  1.002164  0.996374  1.002698  1.020445       NaN   \n",
      "2010-01-08  1.010583  1.003234  1.003790  1.007765  1.021696       NaN   \n",
      "...              ...       ...       ...       ...       ...       ...   \n",
      "2023-04-24  3.651436  3.200636  5.214476  1.886875  0.914617  2.081857   \n",
      "2023-04-25  3.593703  3.168080  5.111358  1.876349  0.898943  2.056606   \n",
      "2023-04-26  3.579899  3.146447  5.135266  1.860168  0.905330  2.056155   \n",
      "2023-04-27  3.649944  3.195983  5.259979  1.864448  0.909134  2.072839   \n",
      "2023-04-28  3.680068  3.221683  5.296515  1.866357  0.911621  2.072388   \n",
      "\n",
      "               VEMAX      IXUS      MCHI      WDIV  \n",
      "Date                                                \n",
      "2010-01-04       NaN       NaN       NaN       NaN  \n",
      "2010-01-05  1.006571       NaN       NaN       NaN  \n",
      "2010-01-06  1.013429       NaN       NaN       NaN  \n",
      "2010-01-07  1.005714       NaN       NaN       NaN  \n",
      "2010-01-08  1.010857       NaN       NaN       NaN  \n",
      "...              ...       ...       ...       ...  \n",
      "2023-04-24  1.334233  1.703678  1.143321  1.542491  \n",
      "2023-04-25  1.312076  1.675908  1.113399  1.522712  \n",
      "2023-04-26  1.320133  1.677256  1.130049  1.522199  \n",
      "2023-04-27  1.336247  1.699094  1.145493  1.540950  \n",
      "2023-04-28  1.343498  1.702330  1.151525  1.547115  \n",
      "\n",
      "[3353 rows x 10 columns]\n",
      "Max. Drawdowns-\n",
      " Empty DataFrame\n",
      "Columns: [^GSPC, ^DJI, ^IXIC, ^FCHI, ^HSI]\n",
      "Index: []\n",
      "Sharpe Ratio-\n",
      " ^GSPC   -0.049016\n",
      "^DJI    -0.054705\n",
      "^IXIC   -0.032203\n",
      "^FCHI   -0.056287\n",
      "^HSI    -0.075122\n",
      "FSPSX   -0.065473\n",
      "VEMAX   -0.074486\n",
      "IXUS    -0.069951\n",
      "MCHI    -0.049056\n",
      "WDIV    -0.077623\n",
      "dtype: float64\n",
      "Sortino Ratio-\n",
      " ^GSPC   -0.060007\n",
      "^DJI    -0.066112\n",
      "^IXIC   -0.040670\n",
      "^FCHI   -0.073240\n",
      "^HSI    -0.105395\n",
      "FSPSX   -0.081539\n",
      "VEMAX   -0.097835\n",
      "IXUS    -0.086897\n",
      "MCHI    -0.072729\n",
      "WDIV    -0.091332\n",
      "dtype: float64\n"
     ]
    }
   ],
   "source": [
    "print(\"Daily Returns-\\n\",daily_returns)\n",
    "print(\"Cumulative Returns-\\n\",cumulative_returns)\n",
    "print(\"Max. Drawdowns-\\n\",mdds)\n",
    "print(\"Sharpe Ratio-\\n\",sharpe_ratio)\n",
    "print(\"Sortino Ratio-\\n\",sortino_ratio)"
   ]
  },
  {
   "cell_type": "code",
   "execution_count": null,
   "id": "e503a0e8",
   "metadata": {},
   "outputs": [],
   "source": []
  }
 ],
 "metadata": {
  "kernelspec": {
   "display_name": "Python 3 (ipykernel)",
   "language": "python",
   "name": "python3"
  },
  "language_info": {
   "codemirror_mode": {
    "name": "ipython",
    "version": 3
   },
   "file_extension": ".py",
   "mimetype": "text/x-python",
   "name": "python",
   "nbconvert_exporter": "python",
   "pygments_lexer": "ipython3",
   "version": "3.9.12"
  }
 },
 "nbformat": 4,
 "nbformat_minor": 5
}
