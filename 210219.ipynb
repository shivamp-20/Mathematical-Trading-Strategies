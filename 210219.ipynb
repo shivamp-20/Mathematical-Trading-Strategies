{
  "nbformat": 4,
  "nbformat_minor": 0,
  "metadata": {
    "colab": {
      "provenance": []
    },
    "kernelspec": {
      "name": "python3",
      "display_name": "Python 3"
    },
    "language_info": {
      "name": "python"
    }
  },
  "cells": [
    {
      "cell_type": "code",
      "execution_count": null,
      "metadata": {
        "id": "PJuYki60UA73"
      },
      "outputs": [],
      "source": [
        "import yfinance as yf"
      ]
    },
    {
      "cell_type": "markdown",
      "source": [
        "Index1 - S&P500"
      ],
      "metadata": {
        "id": "SfMEhwssJdGg"
      }
    },
    {
      "cell_type": "code",
      "source": [
        "data = yf.download(\"^GSPC\", start=\"2010-01-01\" ,end=\"2023-05-01\")  "
      ],
      "metadata": {
        "colab": {
          "base_uri": "https://localhost:8080/"
        },
        "id": "cZG6RWqzUWxR",
        "outputId": "459295a3-1790-44ea-932d-ed8c474ef034"
      },
      "execution_count": null,
      "outputs": [
        {
          "output_type": "stream",
          "name": "stdout",
          "text": [
            "\r[*********************100%***********************]  1 of 1 completed\n"
          ]
        }
      ]
    },
    {
      "cell_type": "code",
      "source": [
        "data"
      ],
      "metadata": {
        "colab": {
          "base_uri": "https://localhost:8080/",
          "height": 455
        },
        "id": "scPTjRYJWXtJ",
        "outputId": "d0581f05-ef72-4f0a-931a-84aace70e23f"
      },
      "execution_count": null,
      "outputs": [
        {
          "output_type": "execute_result",
          "data": {
            "text/plain": [
              "                   Open         High          Low        Close    Adj Close  \\\n",
              "Date                                                                          \n",
              "2010-01-04  1116.560059  1133.869995  1116.560059  1132.989990  1132.989990   \n",
              "2010-01-05  1132.660034  1136.630005  1129.660034  1136.520020  1136.520020   \n",
              "2010-01-06  1135.709961  1139.189941  1133.949951  1137.140015  1137.140015   \n",
              "2010-01-07  1136.270020  1142.459961  1131.319946  1141.689941  1141.689941   \n",
              "2010-01-08  1140.520020  1145.390015  1136.219971  1144.979980  1144.979980   \n",
              "...                 ...          ...          ...          ...          ...   \n",
              "2023-04-24  4132.069824  4142.410156  4117.770020  4137.040039  4137.040039   \n",
              "2023-04-25  4126.430176  4126.430176  4071.379883  4071.629883  4071.629883   \n",
              "2023-04-26  4087.780029  4089.669922  4049.350098  4055.989990  4055.989990   \n",
              "2023-04-27  4075.290039  4138.240234  4075.290039  4135.350098  4135.350098   \n",
              "2023-04-28  4129.629883  4170.060059  4127.180176  4169.479980  4169.479980   \n",
              "\n",
              "                Volume  \n",
              "Date                    \n",
              "2010-01-04  3991400000  \n",
              "2010-01-05  2491020000  \n",
              "2010-01-06  4972660000  \n",
              "2010-01-07  5270680000  \n",
              "2010-01-08  4389590000  \n",
              "...                ...  \n",
              "2023-04-24  3290940000  \n",
              "2023-04-25  3978640000  \n",
              "2023-04-26  3837030000  \n",
              "2023-04-27  3750550000  \n",
              "2023-04-28  4087800000  \n",
              "\n",
              "[3353 rows x 6 columns]"
            ],
            "text/html": [
              "\n",
              "  <div id=\"df-e76cb32a-21e7-4f4b-9178-1e8d96f50e30\">\n",
              "    <div class=\"colab-df-container\">\n",
              "      <div>\n",
              "<style scoped>\n",
              "    .dataframe tbody tr th:only-of-type {\n",
              "        vertical-align: middle;\n",
              "    }\n",
              "\n",
              "    .dataframe tbody tr th {\n",
              "        vertical-align: top;\n",
              "    }\n",
              "\n",
              "    .dataframe thead th {\n",
              "        text-align: right;\n",
              "    }\n",
              "</style>\n",
              "<table border=\"1\" class=\"dataframe\">\n",
              "  <thead>\n",
              "    <tr style=\"text-align: right;\">\n",
              "      <th></th>\n",
              "      <th>Open</th>\n",
              "      <th>High</th>\n",
              "      <th>Low</th>\n",
              "      <th>Close</th>\n",
              "      <th>Adj Close</th>\n",
              "      <th>Volume</th>\n",
              "    </tr>\n",
              "    <tr>\n",
              "      <th>Date</th>\n",
              "      <th></th>\n",
              "      <th></th>\n",
              "      <th></th>\n",
              "      <th></th>\n",
              "      <th></th>\n",
              "      <th></th>\n",
              "    </tr>\n",
              "  </thead>\n",
              "  <tbody>\n",
              "    <tr>\n",
              "      <th>2010-01-04</th>\n",
              "      <td>1116.560059</td>\n",
              "      <td>1133.869995</td>\n",
              "      <td>1116.560059</td>\n",
              "      <td>1132.989990</td>\n",
              "      <td>1132.989990</td>\n",
              "      <td>3991400000</td>\n",
              "    </tr>\n",
              "    <tr>\n",
              "      <th>2010-01-05</th>\n",
              "      <td>1132.660034</td>\n",
              "      <td>1136.630005</td>\n",
              "      <td>1129.660034</td>\n",
              "      <td>1136.520020</td>\n",
              "      <td>1136.520020</td>\n",
              "      <td>2491020000</td>\n",
              "    </tr>\n",
              "    <tr>\n",
              "      <th>2010-01-06</th>\n",
              "      <td>1135.709961</td>\n",
              "      <td>1139.189941</td>\n",
              "      <td>1133.949951</td>\n",
              "      <td>1137.140015</td>\n",
              "      <td>1137.140015</td>\n",
              "      <td>4972660000</td>\n",
              "    </tr>\n",
              "    <tr>\n",
              "      <th>2010-01-07</th>\n",
              "      <td>1136.270020</td>\n",
              "      <td>1142.459961</td>\n",
              "      <td>1131.319946</td>\n",
              "      <td>1141.689941</td>\n",
              "      <td>1141.689941</td>\n",
              "      <td>5270680000</td>\n",
              "    </tr>\n",
              "    <tr>\n",
              "      <th>2010-01-08</th>\n",
              "      <td>1140.520020</td>\n",
              "      <td>1145.390015</td>\n",
              "      <td>1136.219971</td>\n",
              "      <td>1144.979980</td>\n",
              "      <td>1144.979980</td>\n",
              "      <td>4389590000</td>\n",
              "    </tr>\n",
              "    <tr>\n",
              "      <th>...</th>\n",
              "      <td>...</td>\n",
              "      <td>...</td>\n",
              "      <td>...</td>\n",
              "      <td>...</td>\n",
              "      <td>...</td>\n",
              "      <td>...</td>\n",
              "    </tr>\n",
              "    <tr>\n",
              "      <th>2023-04-24</th>\n",
              "      <td>4132.069824</td>\n",
              "      <td>4142.410156</td>\n",
              "      <td>4117.770020</td>\n",
              "      <td>4137.040039</td>\n",
              "      <td>4137.040039</td>\n",
              "      <td>3290940000</td>\n",
              "    </tr>\n",
              "    <tr>\n",
              "      <th>2023-04-25</th>\n",
              "      <td>4126.430176</td>\n",
              "      <td>4126.430176</td>\n",
              "      <td>4071.379883</td>\n",
              "      <td>4071.629883</td>\n",
              "      <td>4071.629883</td>\n",
              "      <td>3978640000</td>\n",
              "    </tr>\n",
              "    <tr>\n",
              "      <th>2023-04-26</th>\n",
              "      <td>4087.780029</td>\n",
              "      <td>4089.669922</td>\n",
              "      <td>4049.350098</td>\n",
              "      <td>4055.989990</td>\n",
              "      <td>4055.989990</td>\n",
              "      <td>3837030000</td>\n",
              "    </tr>\n",
              "    <tr>\n",
              "      <th>2023-04-27</th>\n",
              "      <td>4075.290039</td>\n",
              "      <td>4138.240234</td>\n",
              "      <td>4075.290039</td>\n",
              "      <td>4135.350098</td>\n",
              "      <td>4135.350098</td>\n",
              "      <td>3750550000</td>\n",
              "    </tr>\n",
              "    <tr>\n",
              "      <th>2023-04-28</th>\n",
              "      <td>4129.629883</td>\n",
              "      <td>4170.060059</td>\n",
              "      <td>4127.180176</td>\n",
              "      <td>4169.479980</td>\n",
              "      <td>4169.479980</td>\n",
              "      <td>4087800000</td>\n",
              "    </tr>\n",
              "  </tbody>\n",
              "</table>\n",
              "<p>3353 rows × 6 columns</p>\n",
              "</div>\n",
              "      <button class=\"colab-df-convert\" onclick=\"convertToInteractive('df-e76cb32a-21e7-4f4b-9178-1e8d96f50e30')\"\n",
              "              title=\"Convert this dataframe to an interactive table.\"\n",
              "              style=\"display:none;\">\n",
              "        \n",
              "  <svg xmlns=\"http://www.w3.org/2000/svg\" height=\"24px\"viewBox=\"0 0 24 24\"\n",
              "       width=\"24px\">\n",
              "    <path d=\"M0 0h24v24H0V0z\" fill=\"none\"/>\n",
              "    <path d=\"M18.56 5.44l.94 2.06.94-2.06 2.06-.94-2.06-.94-.94-2.06-.94 2.06-2.06.94zm-11 1L8.5 8.5l.94-2.06 2.06-.94-2.06-.94L8.5 2.5l-.94 2.06-2.06.94zm10 10l.94 2.06.94-2.06 2.06-.94-2.06-.94-.94-2.06-.94 2.06-2.06.94z\"/><path d=\"M17.41 7.96l-1.37-1.37c-.4-.4-.92-.59-1.43-.59-.52 0-1.04.2-1.43.59L10.3 9.45l-7.72 7.72c-.78.78-.78 2.05 0 2.83L4 21.41c.39.39.9.59 1.41.59.51 0 1.02-.2 1.41-.59l7.78-7.78 2.81-2.81c.8-.78.8-2.07 0-2.86zM5.41 20L4 18.59l7.72-7.72 1.47 1.35L5.41 20z\"/>\n",
              "  </svg>\n",
              "      </button>\n",
              "      \n",
              "  <style>\n",
              "    .colab-df-container {\n",
              "      display:flex;\n",
              "      flex-wrap:wrap;\n",
              "      gap: 12px;\n",
              "    }\n",
              "\n",
              "    .colab-df-convert {\n",
              "      background-color: #E8F0FE;\n",
              "      border: none;\n",
              "      border-radius: 50%;\n",
              "      cursor: pointer;\n",
              "      display: none;\n",
              "      fill: #1967D2;\n",
              "      height: 32px;\n",
              "      padding: 0 0 0 0;\n",
              "      width: 32px;\n",
              "    }\n",
              "\n",
              "    .colab-df-convert:hover {\n",
              "      background-color: #E2EBFA;\n",
              "      box-shadow: 0px 1px 2px rgba(60, 64, 67, 0.3), 0px 1px 3px 1px rgba(60, 64, 67, 0.15);\n",
              "      fill: #174EA6;\n",
              "    }\n",
              "\n",
              "    [theme=dark] .colab-df-convert {\n",
              "      background-color: #3B4455;\n",
              "      fill: #D2E3FC;\n",
              "    }\n",
              "\n",
              "    [theme=dark] .colab-df-convert:hover {\n",
              "      background-color: #434B5C;\n",
              "      box-shadow: 0px 1px 3px 1px rgba(0, 0, 0, 0.15);\n",
              "      filter: drop-shadow(0px 1px 2px rgba(0, 0, 0, 0.3));\n",
              "      fill: #FFFFFF;\n",
              "    }\n",
              "  </style>\n",
              "\n",
              "      <script>\n",
              "        const buttonEl =\n",
              "          document.querySelector('#df-e76cb32a-21e7-4f4b-9178-1e8d96f50e30 button.colab-df-convert');\n",
              "        buttonEl.style.display =\n",
              "          google.colab.kernel.accessAllowed ? 'block' : 'none';\n",
              "\n",
              "        async function convertToInteractive(key) {\n",
              "          const element = document.querySelector('#df-e76cb32a-21e7-4f4b-9178-1e8d96f50e30');\n",
              "          const dataTable =\n",
              "            await google.colab.kernel.invokeFunction('convertToInteractive',\n",
              "                                                     [key], {});\n",
              "          if (!dataTable) return;\n",
              "\n",
              "          const docLinkHtml = 'Like what you see? Visit the ' +\n",
              "            '<a target=\"_blank\" href=https://colab.research.google.com/notebooks/data_table.ipynb>data table notebook</a>'\n",
              "            + ' to learn more about interactive tables.';\n",
              "          element.innerHTML = '';\n",
              "          dataTable['output_type'] = 'display_data';\n",
              "          await google.colab.output.renderOutput(dataTable, element);\n",
              "          const docLink = document.createElement('div');\n",
              "          docLink.innerHTML = docLinkHtml;\n",
              "          element.appendChild(docLink);\n",
              "        }\n",
              "      </script>\n",
              "    </div>\n",
              "  </div>\n",
              "  "
            ]
          },
          "metadata": {},
          "execution_count": 3
        }
      ]
    },
    {
      "cell_type": "code",
      "source": [
        "data[\"daily_returns\"] = data[\"Close\"].pct_change()\n",
        "data[\"daily_returns\"]"
      ],
      "metadata": {
        "colab": {
          "base_uri": "https://localhost:8080/"
        },
        "id": "N7jn11mbWYYq",
        "outputId": "489283d3-2680-48f6-8079-f7c6460e0f65"
      },
      "execution_count": null,
      "outputs": [
        {
          "output_type": "execute_result",
          "data": {
            "text/plain": [
              "Date\n",
              "2010-01-04         NaN\n",
              "2010-01-05    0.003116\n",
              "2010-01-06    0.000546\n",
              "2010-01-07    0.004001\n",
              "2010-01-08    0.002882\n",
              "                ...   \n",
              "2023-04-24    0.000852\n",
              "2023-04-25   -0.015811\n",
              "2023-04-26   -0.003841\n",
              "2023-04-27    0.019566\n",
              "2023-04-28    0.008253\n",
              "Name: daily_returns, Length: 3353, dtype: float64"
            ]
          },
          "metadata": {},
          "execution_count": 8
        }
      ]
    },
    {
      "cell_type": "code",
      "source": [
        "data[\"Cumulative Returns\"] = (data[\"Close\"] - data[\"Close\"].iloc[0]) / data[\"Close\"]\n",
        "data[\"Cumulative Returns\"]"
      ],
      "metadata": {
        "colab": {
          "base_uri": "https://localhost:8080/"
        },
        "id": "9t_XVyF8W26x",
        "outputId": "8fe17a89-8d6d-44f7-a859-0ae8a35ed5be"
      },
      "execution_count": null,
      "outputs": [
        {
          "output_type": "execute_result",
          "data": {
            "text/plain": [
              "Date\n",
              "2010-01-04    0.000000\n",
              "2010-01-05    0.003106\n",
              "2010-01-06    0.003650\n",
              "2010-01-07    0.007620\n",
              "2010-01-08    0.010472\n",
              "                ...   \n",
              "2023-04-24    0.726135\n",
              "2023-04-25    0.721736\n",
              "2023-04-26    0.720663\n",
              "2023-04-27    0.726023\n",
              "2023-04-28    0.728266\n",
              "Name: Cumulative Returns, Length: 3353, dtype: float64"
            ]
          },
          "metadata": {},
          "execution_count": 9
        }
      ]
    },
    {
      "cell_type": "code",
      "source": [
        "data[\"Rolling Max\"] = data[\"Close\"].cummax()\n",
        "data[\"Drawdown\"] = (data[\"Rolling Max\"] - data[\"Close\"]) / data[\"Rolling Max\"]"
      ],
      "metadata": {
        "id": "8WJW9vLeHOdM"
      },
      "execution_count": null,
      "outputs": []
    },
    {
      "cell_type": "code",
      "source": [
        "risk_free_rate = 0.0  # Assuming risk-free rate of return\n",
        "data[\"Excess Returns\"] = data[\"daily_returns\"] - risk_free_rate\n",
        "sharpe_ratio = (data[\"Excess Returns\"].mean() / data[\"Excess Returns\"].std()) * (252 ** 0.5)"
      ],
      "metadata": {
        "id": "MBuTZQHIHypQ"
      },
      "execution_count": null,
      "outputs": []
    },
    {
      "cell_type": "code",
      "source": [
        "downside_returns = data[data[\"daily_returns\"] < 0][\"daily_returns\"]\n",
        "downside_std = downside_returns.std()\n",
        "sortino_ratio = (data[\"Excess Returns\"].mean() / downside_std) * (252 ** 0.5)"
      ],
      "metadata": {
        "id": "DBRl743DIEzM"
      },
      "execution_count": null,
      "outputs": []
    },
    {
      "cell_type": "code",
      "source": [
        "print(\"Sharpe Ratio:\", sharpe_ratio)\n",
        "print(\"Sortino Ratio:\", sortino_ratio)\n",
        "print(\"Max Drawdown:\", data[\"Drawdown\"].max())"
      ],
      "metadata": {
        "colab": {
          "base_uri": "https://localhost:8080/"
        },
        "id": "Jw4h1kxnIRNw",
        "outputId": "168b0a6b-d2ca-47d8-c70c-532515b69b30"
      },
      "execution_count": null,
      "outputs": [
        {
          "output_type": "stream",
          "name": "stdout",
          "text": [
            "Sharpe Ratio: 0.6407634304606435\n",
            "Sortino Ratio: 0.7844535881965932\n",
            "Max Drawdown: 0.3392496000265327\n"
          ]
        }
      ]
    },
    {
      "cell_type": "code",
      "source": [
        "volatility = data[\"daily_returns\"].std()\n",
        "annualized_volatility=volatility*(252**0.5)\n",
        "annualized_volatility"
      ],
      "metadata": {
        "colab": {
          "base_uri": "https://localhost:8080/"
        },
        "id": "fxf2noNpIUFl",
        "outputId": "0e074acd-62b7-464a-9ec8-75708bd5c6c5"
      },
      "execution_count": null,
      "outputs": [
        {
          "output_type": "execute_result",
          "data": {
            "text/plain": [
              "0.1776071235545577"
            ]
          },
          "metadata": {},
          "execution_count": 17
        }
      ]
    },
    {
      "cell_type": "markdown",
      "source": [
        "Index 2 -FTSE 100"
      ],
      "metadata": {
        "id": "-t3TksBWJkTn"
      }
    },
    {
      "cell_type": "code",
      "source": [
        "data = yf.download(\"^FTSE\", start=\"2010-01-01\" ,end=\"2023-05-01\") \n",
        "data "
      ],
      "metadata": {
        "colab": {
          "base_uri": "https://localhost:8080/",
          "height": 472
        },
        "id": "Vi8qmyqHI_43",
        "outputId": "b646584e-692f-464b-9dbc-494257735711"
      },
      "execution_count": null,
      "outputs": [
        {
          "output_type": "stream",
          "name": "stdout",
          "text": [
            "\r[*********************100%***********************]  1 of 1 completed\n"
          ]
        },
        {
          "output_type": "execute_result",
          "data": {
            "text/plain": [
              "                   Open         High          Low        Close    Adj Close  \\\n",
              "Date                                                                          \n",
              "2010-01-04  5412.899902  5500.299805  5410.799805  5500.299805  5500.299805   \n",
              "2010-01-05  5500.299805  5536.399902  5480.700195  5522.500000  5522.500000   \n",
              "2010-01-06  5522.500000  5536.500000  5497.700195  5530.000000  5530.000000   \n",
              "2010-01-07  5530.000000  5551.700195  5499.799805  5526.700195  5526.700195   \n",
              "2010-01-08  5526.700195  5549.299805  5494.799805  5534.200195  5534.200195   \n",
              "...                 ...          ...          ...          ...          ...   \n",
              "2023-04-24  7914.100098  7927.100098  7877.600098  7912.200195  7912.200195   \n",
              "2023-04-25  7912.200195  7912.500000  7863.899902  7891.100098  7891.100098   \n",
              "2023-04-26  7891.100098  7894.000000  7825.899902  7852.600098  7852.600098   \n",
              "2023-04-27  7852.600098  7865.700195  7816.799805  7831.600098  7831.600098   \n",
              "2023-04-28  7831.600098  7870.600098  7791.600098  7870.600098  7870.600098   \n",
              "\n",
              "                Volume  \n",
              "Date                    \n",
              "2010-01-04   750942000  \n",
              "2010-01-05  1149301200  \n",
              "2010-01-06   998295300  \n",
              "2010-01-07  1162933700  \n",
              "2010-01-08  1006420600  \n",
              "...                ...  \n",
              "2023-04-24   724845900  \n",
              "2023-04-25   657900800  \n",
              "2023-04-26   902747300  \n",
              "2023-04-27   669734300  \n",
              "2023-04-28   945273500  \n",
              "\n",
              "[3363 rows x 6 columns]"
            ],
            "text/html": [
              "\n",
              "  <div id=\"df-ec5b2257-ce4f-4e59-a9a5-b0216fde19b0\">\n",
              "    <div class=\"colab-df-container\">\n",
              "      <div>\n",
              "<style scoped>\n",
              "    .dataframe tbody tr th:only-of-type {\n",
              "        vertical-align: middle;\n",
              "    }\n",
              "\n",
              "    .dataframe tbody tr th {\n",
              "        vertical-align: top;\n",
              "    }\n",
              "\n",
              "    .dataframe thead th {\n",
              "        text-align: right;\n",
              "    }\n",
              "</style>\n",
              "<table border=\"1\" class=\"dataframe\">\n",
              "  <thead>\n",
              "    <tr style=\"text-align: right;\">\n",
              "      <th></th>\n",
              "      <th>Open</th>\n",
              "      <th>High</th>\n",
              "      <th>Low</th>\n",
              "      <th>Close</th>\n",
              "      <th>Adj Close</th>\n",
              "      <th>Volume</th>\n",
              "    </tr>\n",
              "    <tr>\n",
              "      <th>Date</th>\n",
              "      <th></th>\n",
              "      <th></th>\n",
              "      <th></th>\n",
              "      <th></th>\n",
              "      <th></th>\n",
              "      <th></th>\n",
              "    </tr>\n",
              "  </thead>\n",
              "  <tbody>\n",
              "    <tr>\n",
              "      <th>2010-01-04</th>\n",
              "      <td>5412.899902</td>\n",
              "      <td>5500.299805</td>\n",
              "      <td>5410.799805</td>\n",
              "      <td>5500.299805</td>\n",
              "      <td>5500.299805</td>\n",
              "      <td>750942000</td>\n",
              "    </tr>\n",
              "    <tr>\n",
              "      <th>2010-01-05</th>\n",
              "      <td>5500.299805</td>\n",
              "      <td>5536.399902</td>\n",
              "      <td>5480.700195</td>\n",
              "      <td>5522.500000</td>\n",
              "      <td>5522.500000</td>\n",
              "      <td>1149301200</td>\n",
              "    </tr>\n",
              "    <tr>\n",
              "      <th>2010-01-06</th>\n",
              "      <td>5522.500000</td>\n",
              "      <td>5536.500000</td>\n",
              "      <td>5497.700195</td>\n",
              "      <td>5530.000000</td>\n",
              "      <td>5530.000000</td>\n",
              "      <td>998295300</td>\n",
              "    </tr>\n",
              "    <tr>\n",
              "      <th>2010-01-07</th>\n",
              "      <td>5530.000000</td>\n",
              "      <td>5551.700195</td>\n",
              "      <td>5499.799805</td>\n",
              "      <td>5526.700195</td>\n",
              "      <td>5526.700195</td>\n",
              "      <td>1162933700</td>\n",
              "    </tr>\n",
              "    <tr>\n",
              "      <th>2010-01-08</th>\n",
              "      <td>5526.700195</td>\n",
              "      <td>5549.299805</td>\n",
              "      <td>5494.799805</td>\n",
              "      <td>5534.200195</td>\n",
              "      <td>5534.200195</td>\n",
              "      <td>1006420600</td>\n",
              "    </tr>\n",
              "    <tr>\n",
              "      <th>...</th>\n",
              "      <td>...</td>\n",
              "      <td>...</td>\n",
              "      <td>...</td>\n",
              "      <td>...</td>\n",
              "      <td>...</td>\n",
              "      <td>...</td>\n",
              "    </tr>\n",
              "    <tr>\n",
              "      <th>2023-04-24</th>\n",
              "      <td>7914.100098</td>\n",
              "      <td>7927.100098</td>\n",
              "      <td>7877.600098</td>\n",
              "      <td>7912.200195</td>\n",
              "      <td>7912.200195</td>\n",
              "      <td>724845900</td>\n",
              "    </tr>\n",
              "    <tr>\n",
              "      <th>2023-04-25</th>\n",
              "      <td>7912.200195</td>\n",
              "      <td>7912.500000</td>\n",
              "      <td>7863.899902</td>\n",
              "      <td>7891.100098</td>\n",
              "      <td>7891.100098</td>\n",
              "      <td>657900800</td>\n",
              "    </tr>\n",
              "    <tr>\n",
              "      <th>2023-04-26</th>\n",
              "      <td>7891.100098</td>\n",
              "      <td>7894.000000</td>\n",
              "      <td>7825.899902</td>\n",
              "      <td>7852.600098</td>\n",
              "      <td>7852.600098</td>\n",
              "      <td>902747300</td>\n",
              "    </tr>\n",
              "    <tr>\n",
              "      <th>2023-04-27</th>\n",
              "      <td>7852.600098</td>\n",
              "      <td>7865.700195</td>\n",
              "      <td>7816.799805</td>\n",
              "      <td>7831.600098</td>\n",
              "      <td>7831.600098</td>\n",
              "      <td>669734300</td>\n",
              "    </tr>\n",
              "    <tr>\n",
              "      <th>2023-04-28</th>\n",
              "      <td>7831.600098</td>\n",
              "      <td>7870.600098</td>\n",
              "      <td>7791.600098</td>\n",
              "      <td>7870.600098</td>\n",
              "      <td>7870.600098</td>\n",
              "      <td>945273500</td>\n",
              "    </tr>\n",
              "  </tbody>\n",
              "</table>\n",
              "<p>3363 rows × 6 columns</p>\n",
              "</div>\n",
              "      <button class=\"colab-df-convert\" onclick=\"convertToInteractive('df-ec5b2257-ce4f-4e59-a9a5-b0216fde19b0')\"\n",
              "              title=\"Convert this dataframe to an interactive table.\"\n",
              "              style=\"display:none;\">\n",
              "        \n",
              "  <svg xmlns=\"http://www.w3.org/2000/svg\" height=\"24px\"viewBox=\"0 0 24 24\"\n",
              "       width=\"24px\">\n",
              "    <path d=\"M0 0h24v24H0V0z\" fill=\"none\"/>\n",
              "    <path d=\"M18.56 5.44l.94 2.06.94-2.06 2.06-.94-2.06-.94-.94-2.06-.94 2.06-2.06.94zm-11 1L8.5 8.5l.94-2.06 2.06-.94-2.06-.94L8.5 2.5l-.94 2.06-2.06.94zm10 10l.94 2.06.94-2.06 2.06-.94-2.06-.94-.94-2.06-.94 2.06-2.06.94z\"/><path d=\"M17.41 7.96l-1.37-1.37c-.4-.4-.92-.59-1.43-.59-.52 0-1.04.2-1.43.59L10.3 9.45l-7.72 7.72c-.78.78-.78 2.05 0 2.83L4 21.41c.39.39.9.59 1.41.59.51 0 1.02-.2 1.41-.59l7.78-7.78 2.81-2.81c.8-.78.8-2.07 0-2.86zM5.41 20L4 18.59l7.72-7.72 1.47 1.35L5.41 20z\"/>\n",
              "  </svg>\n",
              "      </button>\n",
              "      \n",
              "  <style>\n",
              "    .colab-df-container {\n",
              "      display:flex;\n",
              "      flex-wrap:wrap;\n",
              "      gap: 12px;\n",
              "    }\n",
              "\n",
              "    .colab-df-convert {\n",
              "      background-color: #E8F0FE;\n",
              "      border: none;\n",
              "      border-radius: 50%;\n",
              "      cursor: pointer;\n",
              "      display: none;\n",
              "      fill: #1967D2;\n",
              "      height: 32px;\n",
              "      padding: 0 0 0 0;\n",
              "      width: 32px;\n",
              "    }\n",
              "\n",
              "    .colab-df-convert:hover {\n",
              "      background-color: #E2EBFA;\n",
              "      box-shadow: 0px 1px 2px rgba(60, 64, 67, 0.3), 0px 1px 3px 1px rgba(60, 64, 67, 0.15);\n",
              "      fill: #174EA6;\n",
              "    }\n",
              "\n",
              "    [theme=dark] .colab-df-convert {\n",
              "      background-color: #3B4455;\n",
              "      fill: #D2E3FC;\n",
              "    }\n",
              "\n",
              "    [theme=dark] .colab-df-convert:hover {\n",
              "      background-color: #434B5C;\n",
              "      box-shadow: 0px 1px 3px 1px rgba(0, 0, 0, 0.15);\n",
              "      filter: drop-shadow(0px 1px 2px rgba(0, 0, 0, 0.3));\n",
              "      fill: #FFFFFF;\n",
              "    }\n",
              "  </style>\n",
              "\n",
              "      <script>\n",
              "        const buttonEl =\n",
              "          document.querySelector('#df-ec5b2257-ce4f-4e59-a9a5-b0216fde19b0 button.colab-df-convert');\n",
              "        buttonEl.style.display =\n",
              "          google.colab.kernel.accessAllowed ? 'block' : 'none';\n",
              "\n",
              "        async function convertToInteractive(key) {\n",
              "          const element = document.querySelector('#df-ec5b2257-ce4f-4e59-a9a5-b0216fde19b0');\n",
              "          const dataTable =\n",
              "            await google.colab.kernel.invokeFunction('convertToInteractive',\n",
              "                                                     [key], {});\n",
              "          if (!dataTable) return;\n",
              "\n",
              "          const docLinkHtml = 'Like what you see? Visit the ' +\n",
              "            '<a target=\"_blank\" href=https://colab.research.google.com/notebooks/data_table.ipynb>data table notebook</a>'\n",
              "            + ' to learn more about interactive tables.';\n",
              "          element.innerHTML = '';\n",
              "          dataTable['output_type'] = 'display_data';\n",
              "          await google.colab.output.renderOutput(dataTable, element);\n",
              "          const docLink = document.createElement('div');\n",
              "          docLink.innerHTML = docLinkHtml;\n",
              "          element.appendChild(docLink);\n",
              "        }\n",
              "      </script>\n",
              "    </div>\n",
              "  </div>\n",
              "  "
            ]
          },
          "metadata": {},
          "execution_count": 20
        }
      ]
    },
    {
      "cell_type": "code",
      "source": [
        "data[\"daily_returns\"] = data[\"Close\"].pct_change()\n",
        "data[\"daily_returns\"]"
      ],
      "metadata": {
        "colab": {
          "base_uri": "https://localhost:8080/"
        },
        "outputId": "bc21bde1-9b82-4d84-a886-909455492b6c",
        "id": "WT7p5kt2Kay0"
      },
      "execution_count": null,
      "outputs": [
        {
          "output_type": "execute_result",
          "data": {
            "text/plain": [
              "Date\n",
              "2010-01-04         NaN\n",
              "2010-01-05    0.004036\n",
              "2010-01-06    0.001358\n",
              "2010-01-07   -0.000597\n",
              "2010-01-08    0.001357\n",
              "                ...   \n",
              "2023-04-24   -0.000240\n",
              "2023-04-25   -0.002667\n",
              "2023-04-26   -0.004879\n",
              "2023-04-27   -0.002674\n",
              "2023-04-28    0.004980\n",
              "Name: daily_returns, Length: 3363, dtype: float64"
            ]
          },
          "metadata": {},
          "execution_count": 21
        }
      ]
    },
    {
      "cell_type": "code",
      "source": [
        "data[\"Cumulative Returns\"] = (data[\"Close\"] - data[\"Close\"].iloc[0]) / data[\"Close\"]\n",
        "data[\"Cumulative Returns\"]"
      ],
      "metadata": {
        "colab": {
          "base_uri": "https://localhost:8080/"
        },
        "outputId": "0ddc20c1-4fdd-4b0b-a8ee-7b182f7a6e4a",
        "id": "8glek_euKay1"
      },
      "execution_count": null,
      "outputs": [
        {
          "output_type": "execute_result",
          "data": {
            "text/plain": [
              "Date\n",
              "2010-01-04    0.000000\n",
              "2010-01-05    0.004020\n",
              "2010-01-06    0.005371\n",
              "2010-01-07    0.004777\n",
              "2010-01-08    0.006126\n",
              "                ...   \n",
              "2023-04-24    0.304833\n",
              "2023-04-25    0.302974\n",
              "2023-04-26    0.299557\n",
              "2023-04-27    0.297679\n",
              "2023-04-28    0.301159\n",
              "Name: Cumulative Returns, Length: 3363, dtype: float64"
            ]
          },
          "metadata": {},
          "execution_count": 22
        }
      ]
    },
    {
      "cell_type": "code",
      "source": [
        "data[\"Rolling Max\"] = data[\"Close\"].cummax()\n",
        "data[\"Drawdown\"] = (data[\"Rolling Max\"] - data[\"Close\"]) / data[\"Rolling Max\"]"
      ],
      "metadata": {
        "id": "tlOhvh0fKay1"
      },
      "execution_count": null,
      "outputs": []
    },
    {
      "cell_type": "code",
      "source": [
        "risk_free_rate = 0.0  # Assuming risk-free rate of return\n",
        "data[\"Excess Returns\"] = data[\"daily_returns\"] - risk_free_rate\n",
        "sharpe_ratio = (data[\"Excess Returns\"].mean() / data[\"Excess Returns\"].std()) * (252 ** 0.5)"
      ],
      "metadata": {
        "id": "y5uEnaf0Kay2"
      },
      "execution_count": null,
      "outputs": []
    },
    {
      "cell_type": "code",
      "source": [
        "downside_returns = data[data[\"daily_returns\"] < 0][\"daily_returns\"]\n",
        "downside_std = downside_returns.std()\n",
        "sortino_ratio = (data[\"Excess Returns\"].mean() / downside_std) * (252 ** 0.5)"
      ],
      "metadata": {
        "id": "_B9QNBjvKay2"
      },
      "execution_count": null,
      "outputs": []
    },
    {
      "cell_type": "code",
      "source": [
        "print(\"Sharpe Ratio:\", sharpe_ratio)\n",
        "print(\"Sortino Ratio:\", sortino_ratio)\n",
        "print(\"Max Drawdown:\", data[\"Drawdown\"].max())"
      ],
      "metadata": {
        "colab": {
          "base_uri": "https://localhost:8080/"
        },
        "outputId": "a3fbe874-a677-4547-c9f1-1bc9d36b1b05",
        "id": "ozZxMgi8Kay2"
      },
      "execution_count": null,
      "outputs": [
        {
          "output_type": "stream",
          "name": "stdout",
          "text": [
            "Sharpe Ratio: 0.2468203015103944\n",
            "Sortino Ratio: 0.31877956792946915\n",
            "Max Drawdown: 0.3660552329617582\n"
          ]
        }
      ]
    },
    {
      "cell_type": "code",
      "source": [
        "volatility = data[\"daily_returns\"].std()\n",
        "annualized_volatility=volatility*(252**0.5)\n",
        "annualized_volatility"
      ],
      "metadata": {
        "colab": {
          "base_uri": "https://localhost:8080/"
        },
        "outputId": "3e2035a0-09be-4791-e94e-e72a1fc3df77",
        "id": "0jmypOSfKay3"
      },
      "execution_count": null,
      "outputs": [
        {
          "output_type": "execute_result",
          "data": {
            "text/plain": [
              "0.16251517394788506"
            ]
          },
          "metadata": {},
          "execution_count": 27
        }
      ]
    },
    {
      "cell_type": "markdown",
      "source": [
        "Index 3-Nikkei 225"
      ],
      "metadata": {
        "id": "o_6Cs_CVK8Ow"
      }
    },
    {
      "cell_type": "code",
      "source": [
        "data = yf.download(\"^N225\", start=\"2010-01-01\" ,end=\"2023-05-01\") \n",
        "data "
      ],
      "metadata": {
        "colab": {
          "base_uri": "https://localhost:8080/",
          "height": 472
        },
        "id": "fhvPMLPiKgck",
        "outputId": "e5163147-82aa-4869-f267-0df4f16018e6"
      },
      "execution_count": null,
      "outputs": [
        {
          "output_type": "stream",
          "name": "stdout",
          "text": [
            "\r[*********************100%***********************]  1 of 1 completed\n"
          ]
        },
        {
          "output_type": "execute_result",
          "data": {
            "text/plain": [
              "                    Open          High           Low         Close  \\\n",
              "Date                                                                 \n",
              "2010-01-04  10609.339844  10694.490234  10608.139648  10654.790039   \n",
              "2010-01-05  10719.440430  10791.040039  10655.570312  10681.830078   \n",
              "2010-01-06  10709.549805  10768.610352  10661.169922  10731.450195   \n",
              "2010-01-07  10742.750000  10774.000000  10636.669922  10681.660156   \n",
              "2010-01-08  10743.299805  10816.450195  10677.559570  10798.320312   \n",
              "...                  ...           ...           ...           ...   \n",
              "2023-04-24  28631.779297  28680.650391  28567.240234  28593.519531   \n",
              "2023-04-25  28697.730469  28806.689453  28609.769531  28620.070312   \n",
              "2023-04-26  28478.519531  28551.609375  28319.769531  28416.470703   \n",
              "2023-04-27  28340.589844  28459.730469  28241.669922  28457.679688   \n",
              "2023-04-28  28705.910156  28879.240234  28499.509766  28856.439453   \n",
              "\n",
              "               Adj Close     Volume  \n",
              "Date                                 \n",
              "2010-01-04  10654.790039  104400000  \n",
              "2010-01-05  10681.830078  166200000  \n",
              "2010-01-06  10731.450195  181800000  \n",
              "2010-01-07  10681.660156  182600000  \n",
              "2010-01-08  10798.320312  211800000  \n",
              "...                  ...        ...  \n",
              "2023-04-24  28593.519531   50000000  \n",
              "2023-04-25  28620.070312   59300000  \n",
              "2023-04-26  28416.470703   68700000  \n",
              "2023-04-27  28457.679688   73600000  \n",
              "2023-04-28  28856.439453  104000000  \n",
              "\n",
              "[3259 rows x 6 columns]"
            ],
            "text/html": [
              "\n",
              "  <div id=\"df-7df9b670-14f7-4429-a621-be9bb8da68dc\">\n",
              "    <div class=\"colab-df-container\">\n",
              "      <div>\n",
              "<style scoped>\n",
              "    .dataframe tbody tr th:only-of-type {\n",
              "        vertical-align: middle;\n",
              "    }\n",
              "\n",
              "    .dataframe tbody tr th {\n",
              "        vertical-align: top;\n",
              "    }\n",
              "\n",
              "    .dataframe thead th {\n",
              "        text-align: right;\n",
              "    }\n",
              "</style>\n",
              "<table border=\"1\" class=\"dataframe\">\n",
              "  <thead>\n",
              "    <tr style=\"text-align: right;\">\n",
              "      <th></th>\n",
              "      <th>Open</th>\n",
              "      <th>High</th>\n",
              "      <th>Low</th>\n",
              "      <th>Close</th>\n",
              "      <th>Adj Close</th>\n",
              "      <th>Volume</th>\n",
              "    </tr>\n",
              "    <tr>\n",
              "      <th>Date</th>\n",
              "      <th></th>\n",
              "      <th></th>\n",
              "      <th></th>\n",
              "      <th></th>\n",
              "      <th></th>\n",
              "      <th></th>\n",
              "    </tr>\n",
              "  </thead>\n",
              "  <tbody>\n",
              "    <tr>\n",
              "      <th>2010-01-04</th>\n",
              "      <td>10609.339844</td>\n",
              "      <td>10694.490234</td>\n",
              "      <td>10608.139648</td>\n",
              "      <td>10654.790039</td>\n",
              "      <td>10654.790039</td>\n",
              "      <td>104400000</td>\n",
              "    </tr>\n",
              "    <tr>\n",
              "      <th>2010-01-05</th>\n",
              "      <td>10719.440430</td>\n",
              "      <td>10791.040039</td>\n",
              "      <td>10655.570312</td>\n",
              "      <td>10681.830078</td>\n",
              "      <td>10681.830078</td>\n",
              "      <td>166200000</td>\n",
              "    </tr>\n",
              "    <tr>\n",
              "      <th>2010-01-06</th>\n",
              "      <td>10709.549805</td>\n",
              "      <td>10768.610352</td>\n",
              "      <td>10661.169922</td>\n",
              "      <td>10731.450195</td>\n",
              "      <td>10731.450195</td>\n",
              "      <td>181800000</td>\n",
              "    </tr>\n",
              "    <tr>\n",
              "      <th>2010-01-07</th>\n",
              "      <td>10742.750000</td>\n",
              "      <td>10774.000000</td>\n",
              "      <td>10636.669922</td>\n",
              "      <td>10681.660156</td>\n",
              "      <td>10681.660156</td>\n",
              "      <td>182600000</td>\n",
              "    </tr>\n",
              "    <tr>\n",
              "      <th>2010-01-08</th>\n",
              "      <td>10743.299805</td>\n",
              "      <td>10816.450195</td>\n",
              "      <td>10677.559570</td>\n",
              "      <td>10798.320312</td>\n",
              "      <td>10798.320312</td>\n",
              "      <td>211800000</td>\n",
              "    </tr>\n",
              "    <tr>\n",
              "      <th>...</th>\n",
              "      <td>...</td>\n",
              "      <td>...</td>\n",
              "      <td>...</td>\n",
              "      <td>...</td>\n",
              "      <td>...</td>\n",
              "      <td>...</td>\n",
              "    </tr>\n",
              "    <tr>\n",
              "      <th>2023-04-24</th>\n",
              "      <td>28631.779297</td>\n",
              "      <td>28680.650391</td>\n",
              "      <td>28567.240234</td>\n",
              "      <td>28593.519531</td>\n",
              "      <td>28593.519531</td>\n",
              "      <td>50000000</td>\n",
              "    </tr>\n",
              "    <tr>\n",
              "      <th>2023-04-25</th>\n",
              "      <td>28697.730469</td>\n",
              "      <td>28806.689453</td>\n",
              "      <td>28609.769531</td>\n",
              "      <td>28620.070312</td>\n",
              "      <td>28620.070312</td>\n",
              "      <td>59300000</td>\n",
              "    </tr>\n",
              "    <tr>\n",
              "      <th>2023-04-26</th>\n",
              "      <td>28478.519531</td>\n",
              "      <td>28551.609375</td>\n",
              "      <td>28319.769531</td>\n",
              "      <td>28416.470703</td>\n",
              "      <td>28416.470703</td>\n",
              "      <td>68700000</td>\n",
              "    </tr>\n",
              "    <tr>\n",
              "      <th>2023-04-27</th>\n",
              "      <td>28340.589844</td>\n",
              "      <td>28459.730469</td>\n",
              "      <td>28241.669922</td>\n",
              "      <td>28457.679688</td>\n",
              "      <td>28457.679688</td>\n",
              "      <td>73600000</td>\n",
              "    </tr>\n",
              "    <tr>\n",
              "      <th>2023-04-28</th>\n",
              "      <td>28705.910156</td>\n",
              "      <td>28879.240234</td>\n",
              "      <td>28499.509766</td>\n",
              "      <td>28856.439453</td>\n",
              "      <td>28856.439453</td>\n",
              "      <td>104000000</td>\n",
              "    </tr>\n",
              "  </tbody>\n",
              "</table>\n",
              "<p>3259 rows × 6 columns</p>\n",
              "</div>\n",
              "      <button class=\"colab-df-convert\" onclick=\"convertToInteractive('df-7df9b670-14f7-4429-a621-be9bb8da68dc')\"\n",
              "              title=\"Convert this dataframe to an interactive table.\"\n",
              "              style=\"display:none;\">\n",
              "        \n",
              "  <svg xmlns=\"http://www.w3.org/2000/svg\" height=\"24px\"viewBox=\"0 0 24 24\"\n",
              "       width=\"24px\">\n",
              "    <path d=\"M0 0h24v24H0V0z\" fill=\"none\"/>\n",
              "    <path d=\"M18.56 5.44l.94 2.06.94-2.06 2.06-.94-2.06-.94-.94-2.06-.94 2.06-2.06.94zm-11 1L8.5 8.5l.94-2.06 2.06-.94-2.06-.94L8.5 2.5l-.94 2.06-2.06.94zm10 10l.94 2.06.94-2.06 2.06-.94-2.06-.94-.94-2.06-.94 2.06-2.06.94z\"/><path d=\"M17.41 7.96l-1.37-1.37c-.4-.4-.92-.59-1.43-.59-.52 0-1.04.2-1.43.59L10.3 9.45l-7.72 7.72c-.78.78-.78 2.05 0 2.83L4 21.41c.39.39.9.59 1.41.59.51 0 1.02-.2 1.41-.59l7.78-7.78 2.81-2.81c.8-.78.8-2.07 0-2.86zM5.41 20L4 18.59l7.72-7.72 1.47 1.35L5.41 20z\"/>\n",
              "  </svg>\n",
              "      </button>\n",
              "      \n",
              "  <style>\n",
              "    .colab-df-container {\n",
              "      display:flex;\n",
              "      flex-wrap:wrap;\n",
              "      gap: 12px;\n",
              "    }\n",
              "\n",
              "    .colab-df-convert {\n",
              "      background-color: #E8F0FE;\n",
              "      border: none;\n",
              "      border-radius: 50%;\n",
              "      cursor: pointer;\n",
              "      display: none;\n",
              "      fill: #1967D2;\n",
              "      height: 32px;\n",
              "      padding: 0 0 0 0;\n",
              "      width: 32px;\n",
              "    }\n",
              "\n",
              "    .colab-df-convert:hover {\n",
              "      background-color: #E2EBFA;\n",
              "      box-shadow: 0px 1px 2px rgba(60, 64, 67, 0.3), 0px 1px 3px 1px rgba(60, 64, 67, 0.15);\n",
              "      fill: #174EA6;\n",
              "    }\n",
              "\n",
              "    [theme=dark] .colab-df-convert {\n",
              "      background-color: #3B4455;\n",
              "      fill: #D2E3FC;\n",
              "    }\n",
              "\n",
              "    [theme=dark] .colab-df-convert:hover {\n",
              "      background-color: #434B5C;\n",
              "      box-shadow: 0px 1px 3px 1px rgba(0, 0, 0, 0.15);\n",
              "      filter: drop-shadow(0px 1px 2px rgba(0, 0, 0, 0.3));\n",
              "      fill: #FFFFFF;\n",
              "    }\n",
              "  </style>\n",
              "\n",
              "      <script>\n",
              "        const buttonEl =\n",
              "          document.querySelector('#df-7df9b670-14f7-4429-a621-be9bb8da68dc button.colab-df-convert');\n",
              "        buttonEl.style.display =\n",
              "          google.colab.kernel.accessAllowed ? 'block' : 'none';\n",
              "\n",
              "        async function convertToInteractive(key) {\n",
              "          const element = document.querySelector('#df-7df9b670-14f7-4429-a621-be9bb8da68dc');\n",
              "          const dataTable =\n",
              "            await google.colab.kernel.invokeFunction('convertToInteractive',\n",
              "                                                     [key], {});\n",
              "          if (!dataTable) return;\n",
              "\n",
              "          const docLinkHtml = 'Like what you see? Visit the ' +\n",
              "            '<a target=\"_blank\" href=https://colab.research.google.com/notebooks/data_table.ipynb>data table notebook</a>'\n",
              "            + ' to learn more about interactive tables.';\n",
              "          element.innerHTML = '';\n",
              "          dataTable['output_type'] = 'display_data';\n",
              "          await google.colab.output.renderOutput(dataTable, element);\n",
              "          const docLink = document.createElement('div');\n",
              "          docLink.innerHTML = docLinkHtml;\n",
              "          element.appendChild(docLink);\n",
              "        }\n",
              "      </script>\n",
              "    </div>\n",
              "  </div>\n",
              "  "
            ]
          },
          "metadata": {},
          "execution_count": 28
        }
      ]
    },
    {
      "cell_type": "code",
      "source": [
        "data[\"daily_returns\"] = data[\"Close\"].pct_change()\n",
        "data[\"daily_returns\"]"
      ],
      "metadata": {
        "colab": {
          "base_uri": "https://localhost:8080/"
        },
        "outputId": "9472d7b1-08a7-4f1d-bc89-4379e001ebca",
        "id": "xrkVw1BFK3nO"
      },
      "execution_count": null,
      "outputs": [
        {
          "output_type": "execute_result",
          "data": {
            "text/plain": [
              "Date\n",
              "2010-01-04         NaN\n",
              "2010-01-05    0.002538\n",
              "2010-01-06    0.004645\n",
              "2010-01-07   -0.004640\n",
              "2010-01-08    0.010922\n",
              "                ...   \n",
              "2023-04-24    0.001021\n",
              "2023-04-25    0.000929\n",
              "2023-04-26   -0.007114\n",
              "2023-04-27    0.001450\n",
              "2023-04-28    0.014012\n",
              "Name: daily_returns, Length: 3259, dtype: float64"
            ]
          },
          "metadata": {},
          "execution_count": 29
        }
      ]
    },
    {
      "cell_type": "code",
      "source": [
        "data[\"Cumulative Returns\"] = (data[\"Close\"] - data[\"Close\"].iloc[0]) / data[\"Close\"]\n",
        "data[\"Cumulative Returns\"]"
      ],
      "metadata": {
        "colab": {
          "base_uri": "https://localhost:8080/"
        },
        "outputId": "20d754d8-5e63-43f4-d509-03f0e9b50a9d",
        "id": "AprGUzqWK3nQ"
      },
      "execution_count": null,
      "outputs": [
        {
          "output_type": "execute_result",
          "data": {
            "text/plain": [
              "Date\n",
              "2010-01-04    0.000000\n",
              "2010-01-05    0.002531\n",
              "2010-01-06    0.007144\n",
              "2010-01-07    0.002516\n",
              "2010-01-08    0.013292\n",
              "                ...   \n",
              "2023-04-24    0.627370\n",
              "2023-04-25    0.627716\n",
              "2023-04-26    0.625049\n",
              "2023-04-27    0.625592\n",
              "2023-04-28    0.630766\n",
              "Name: Cumulative Returns, Length: 3259, dtype: float64"
            ]
          },
          "metadata": {},
          "execution_count": 30
        }
      ]
    },
    {
      "cell_type": "code",
      "source": [
        "data[\"Rolling Max\"] = data[\"Close\"].cummax()\n",
        "data[\"Drawdown\"] = (data[\"Rolling Max\"] - data[\"Close\"]) / data[\"Rolling Max\"]"
      ],
      "metadata": {
        "id": "UbzUOwavK3nQ"
      },
      "execution_count": null,
      "outputs": []
    },
    {
      "cell_type": "code",
      "source": [
        "risk_free_rate = 0.0  # Assuming risk-free rate of return\n",
        "data[\"Excess Returns\"] = data[\"daily_returns\"] - risk_free_rate\n",
        "sharpe_ratio = (data[\"Excess Returns\"].mean() / data[\"Excess Returns\"].std()) * (252 ** 0.5)"
      ],
      "metadata": {
        "id": "g8eeZ9ewK3nQ"
      },
      "execution_count": null,
      "outputs": []
    },
    {
      "cell_type": "code",
      "source": [
        "downside_returns = data[data[\"daily_returns\"] < 0][\"daily_returns\"]\n",
        "downside_std = downside_returns.std()\n",
        "sortino_ratio = (data[\"Excess Returns\"].mean() / downside_std) * (252 ** 0.5)"
      ],
      "metadata": {
        "id": "H-0vfQkfK3nR"
      },
      "execution_count": null,
      "outputs": []
    },
    {
      "cell_type": "code",
      "source": [
        "print(\"Sharpe Ratio:\", sharpe_ratio)\n",
        "print(\"Sortino Ratio:\", sortino_ratio)\n",
        "print(\"Max Drawdown:\", data[\"Drawdown\"].max())"
      ],
      "metadata": {
        "colab": {
          "base_uri": "https://localhost:8080/"
        },
        "outputId": "390aac1c-0841-4d8e-8e34-ff754358a7b8",
        "id": "aKExjXQzK3nR"
      },
      "execution_count": null,
      "outputs": [
        {
          "output_type": "stream",
          "name": "stdout",
          "text": [
            "Sharpe Ratio: 0.47444285113044027\n",
            "Sortino Ratio: 0.6473772466817252\n",
            "Max Drawdown: 0.3179889650850191\n"
          ]
        }
      ]
    },
    {
      "cell_type": "code",
      "source": [
        "volatility = data[\"daily_returns\"].std()\n",
        "annualized_volatility=volatility*(252**0.5)\n",
        "annualized_volatility"
      ],
      "metadata": {
        "colab": {
          "base_uri": "https://localhost:8080/"
        },
        "outputId": "88221f9a-51e3-4716-b19e-1ea5ee6b39bd",
        "id": "xjmFLT6KK3nR"
      },
      "execution_count": null,
      "outputs": [
        {
          "output_type": "execute_result",
          "data": {
            "text/plain": [
              "0.20827710311813896"
            ]
          },
          "metadata": {},
          "execution_count": 35
        }
      ]
    },
    {
      "cell_type": "markdown",
      "source": [
        "Index 4 -DAX"
      ],
      "metadata": {
        "id": "6CRhwvkMLIso"
      }
    },
    {
      "cell_type": "code",
      "source": [
        "data = yf.download(\"^GDAXI\", start=\"2010-01-01\" ,end=\"2023-05-01\") \n",
        "data "
      ],
      "metadata": {
        "colab": {
          "base_uri": "https://localhost:8080/",
          "height": 472
        },
        "outputId": "dda7fb16-3a72-4844-caa8-07e18a37abbd",
        "id": "2cyV-TNGLM3_"
      },
      "execution_count": null,
      "outputs": [
        {
          "output_type": "stream",
          "name": "stdout",
          "text": [
            "\r[*********************100%***********************]  1 of 1 completed\n"
          ]
        },
        {
          "output_type": "execute_result",
          "data": {
            "text/plain": [
              "                    Open          High           Low         Close  \\\n",
              "Date                                                                 \n",
              "2010-01-04   5975.520020   6048.299805   5974.430176   6048.299805   \n",
              "2010-01-05   6043.939941   6058.020020   6015.669922   6031.859863   \n",
              "2010-01-06   6032.390137   6047.569824   5997.089844   6034.330078   \n",
              "2010-01-07   6016.799805   6037.569824   5961.250000   6019.359863   \n",
              "2010-01-08   6028.620117   6053.040039   5972.240234   6037.609863   \n",
              "...                  ...           ...           ...           ...   \n",
              "2023-04-24  15852.269531  15919.110352  15831.099609  15863.950195   \n",
              "2023-04-25  15836.790039  15891.730469  15794.809570  15872.129883   \n",
              "2023-04-26  15804.500000  15826.019531  15694.360352  15795.730469   \n",
              "2023-04-27  15739.349609  15859.250000  15706.690430  15800.450195   \n",
              "2023-04-28  15884.790039  15922.379883  15688.169922  15922.379883   \n",
              "\n",
              "               Adj Close     Volume  \n",
              "Date                                 \n",
              "2010-01-04   6048.299805  104344400  \n",
              "2010-01-05   6031.859863  117572100  \n",
              "2010-01-06   6034.330078  108742400  \n",
              "2010-01-07   6019.359863  133704300  \n",
              "2010-01-08   6037.609863  126099000  \n",
              "...                  ...        ...  \n",
              "2023-04-24  15863.950195   50552200  \n",
              "2023-04-25  15872.129883   66489300  \n",
              "2023-04-26  15795.730469   74374600  \n",
              "2023-04-27  15800.450195   79622200  \n",
              "2023-04-28  15922.379883   91511200  \n",
              "\n",
              "[3380 rows x 6 columns]"
            ],
            "text/html": [
              "\n",
              "  <div id=\"df-b35f6ce5-0616-4b7b-a8ac-545c161cee56\">\n",
              "    <div class=\"colab-df-container\">\n",
              "      <div>\n",
              "<style scoped>\n",
              "    .dataframe tbody tr th:only-of-type {\n",
              "        vertical-align: middle;\n",
              "    }\n",
              "\n",
              "    .dataframe tbody tr th {\n",
              "        vertical-align: top;\n",
              "    }\n",
              "\n",
              "    .dataframe thead th {\n",
              "        text-align: right;\n",
              "    }\n",
              "</style>\n",
              "<table border=\"1\" class=\"dataframe\">\n",
              "  <thead>\n",
              "    <tr style=\"text-align: right;\">\n",
              "      <th></th>\n",
              "      <th>Open</th>\n",
              "      <th>High</th>\n",
              "      <th>Low</th>\n",
              "      <th>Close</th>\n",
              "      <th>Adj Close</th>\n",
              "      <th>Volume</th>\n",
              "    </tr>\n",
              "    <tr>\n",
              "      <th>Date</th>\n",
              "      <th></th>\n",
              "      <th></th>\n",
              "      <th></th>\n",
              "      <th></th>\n",
              "      <th></th>\n",
              "      <th></th>\n",
              "    </tr>\n",
              "  </thead>\n",
              "  <tbody>\n",
              "    <tr>\n",
              "      <th>2010-01-04</th>\n",
              "      <td>5975.520020</td>\n",
              "      <td>6048.299805</td>\n",
              "      <td>5974.430176</td>\n",
              "      <td>6048.299805</td>\n",
              "      <td>6048.299805</td>\n",
              "      <td>104344400</td>\n",
              "    </tr>\n",
              "    <tr>\n",
              "      <th>2010-01-05</th>\n",
              "      <td>6043.939941</td>\n",
              "      <td>6058.020020</td>\n",
              "      <td>6015.669922</td>\n",
              "      <td>6031.859863</td>\n",
              "      <td>6031.859863</td>\n",
              "      <td>117572100</td>\n",
              "    </tr>\n",
              "    <tr>\n",
              "      <th>2010-01-06</th>\n",
              "      <td>6032.390137</td>\n",
              "      <td>6047.569824</td>\n",
              "      <td>5997.089844</td>\n",
              "      <td>6034.330078</td>\n",
              "      <td>6034.330078</td>\n",
              "      <td>108742400</td>\n",
              "    </tr>\n",
              "    <tr>\n",
              "      <th>2010-01-07</th>\n",
              "      <td>6016.799805</td>\n",
              "      <td>6037.569824</td>\n",
              "      <td>5961.250000</td>\n",
              "      <td>6019.359863</td>\n",
              "      <td>6019.359863</td>\n",
              "      <td>133704300</td>\n",
              "    </tr>\n",
              "    <tr>\n",
              "      <th>2010-01-08</th>\n",
              "      <td>6028.620117</td>\n",
              "      <td>6053.040039</td>\n",
              "      <td>5972.240234</td>\n",
              "      <td>6037.609863</td>\n",
              "      <td>6037.609863</td>\n",
              "      <td>126099000</td>\n",
              "    </tr>\n",
              "    <tr>\n",
              "      <th>...</th>\n",
              "      <td>...</td>\n",
              "      <td>...</td>\n",
              "      <td>...</td>\n",
              "      <td>...</td>\n",
              "      <td>...</td>\n",
              "      <td>...</td>\n",
              "    </tr>\n",
              "    <tr>\n",
              "      <th>2023-04-24</th>\n",
              "      <td>15852.269531</td>\n",
              "      <td>15919.110352</td>\n",
              "      <td>15831.099609</td>\n",
              "      <td>15863.950195</td>\n",
              "      <td>15863.950195</td>\n",
              "      <td>50552200</td>\n",
              "    </tr>\n",
              "    <tr>\n",
              "      <th>2023-04-25</th>\n",
              "      <td>15836.790039</td>\n",
              "      <td>15891.730469</td>\n",
              "      <td>15794.809570</td>\n",
              "      <td>15872.129883</td>\n",
              "      <td>15872.129883</td>\n",
              "      <td>66489300</td>\n",
              "    </tr>\n",
              "    <tr>\n",
              "      <th>2023-04-26</th>\n",
              "      <td>15804.500000</td>\n",
              "      <td>15826.019531</td>\n",
              "      <td>15694.360352</td>\n",
              "      <td>15795.730469</td>\n",
              "      <td>15795.730469</td>\n",
              "      <td>74374600</td>\n",
              "    </tr>\n",
              "    <tr>\n",
              "      <th>2023-04-27</th>\n",
              "      <td>15739.349609</td>\n",
              "      <td>15859.250000</td>\n",
              "      <td>15706.690430</td>\n",
              "      <td>15800.450195</td>\n",
              "      <td>15800.450195</td>\n",
              "      <td>79622200</td>\n",
              "    </tr>\n",
              "    <tr>\n",
              "      <th>2023-04-28</th>\n",
              "      <td>15884.790039</td>\n",
              "      <td>15922.379883</td>\n",
              "      <td>15688.169922</td>\n",
              "      <td>15922.379883</td>\n",
              "      <td>15922.379883</td>\n",
              "      <td>91511200</td>\n",
              "    </tr>\n",
              "  </tbody>\n",
              "</table>\n",
              "<p>3380 rows × 6 columns</p>\n",
              "</div>\n",
              "      <button class=\"colab-df-convert\" onclick=\"convertToInteractive('df-b35f6ce5-0616-4b7b-a8ac-545c161cee56')\"\n",
              "              title=\"Convert this dataframe to an interactive table.\"\n",
              "              style=\"display:none;\">\n",
              "        \n",
              "  <svg xmlns=\"http://www.w3.org/2000/svg\" height=\"24px\"viewBox=\"0 0 24 24\"\n",
              "       width=\"24px\">\n",
              "    <path d=\"M0 0h24v24H0V0z\" fill=\"none\"/>\n",
              "    <path d=\"M18.56 5.44l.94 2.06.94-2.06 2.06-.94-2.06-.94-.94-2.06-.94 2.06-2.06.94zm-11 1L8.5 8.5l.94-2.06 2.06-.94-2.06-.94L8.5 2.5l-.94 2.06-2.06.94zm10 10l.94 2.06.94-2.06 2.06-.94-2.06-.94-.94-2.06-.94 2.06-2.06.94z\"/><path d=\"M17.41 7.96l-1.37-1.37c-.4-.4-.92-.59-1.43-.59-.52 0-1.04.2-1.43.59L10.3 9.45l-7.72 7.72c-.78.78-.78 2.05 0 2.83L4 21.41c.39.39.9.59 1.41.59.51 0 1.02-.2 1.41-.59l7.78-7.78 2.81-2.81c.8-.78.8-2.07 0-2.86zM5.41 20L4 18.59l7.72-7.72 1.47 1.35L5.41 20z\"/>\n",
              "  </svg>\n",
              "      </button>\n",
              "      \n",
              "  <style>\n",
              "    .colab-df-container {\n",
              "      display:flex;\n",
              "      flex-wrap:wrap;\n",
              "      gap: 12px;\n",
              "    }\n",
              "\n",
              "    .colab-df-convert {\n",
              "      background-color: #E8F0FE;\n",
              "      border: none;\n",
              "      border-radius: 50%;\n",
              "      cursor: pointer;\n",
              "      display: none;\n",
              "      fill: #1967D2;\n",
              "      height: 32px;\n",
              "      padding: 0 0 0 0;\n",
              "      width: 32px;\n",
              "    }\n",
              "\n",
              "    .colab-df-convert:hover {\n",
              "      background-color: #E2EBFA;\n",
              "      box-shadow: 0px 1px 2px rgba(60, 64, 67, 0.3), 0px 1px 3px 1px rgba(60, 64, 67, 0.15);\n",
              "      fill: #174EA6;\n",
              "    }\n",
              "\n",
              "    [theme=dark] .colab-df-convert {\n",
              "      background-color: #3B4455;\n",
              "      fill: #D2E3FC;\n",
              "    }\n",
              "\n",
              "    [theme=dark] .colab-df-convert:hover {\n",
              "      background-color: #434B5C;\n",
              "      box-shadow: 0px 1px 3px 1px rgba(0, 0, 0, 0.15);\n",
              "      filter: drop-shadow(0px 1px 2px rgba(0, 0, 0, 0.3));\n",
              "      fill: #FFFFFF;\n",
              "    }\n",
              "  </style>\n",
              "\n",
              "      <script>\n",
              "        const buttonEl =\n",
              "          document.querySelector('#df-b35f6ce5-0616-4b7b-a8ac-545c161cee56 button.colab-df-convert');\n",
              "        buttonEl.style.display =\n",
              "          google.colab.kernel.accessAllowed ? 'block' : 'none';\n",
              "\n",
              "        async function convertToInteractive(key) {\n",
              "          const element = document.querySelector('#df-b35f6ce5-0616-4b7b-a8ac-545c161cee56');\n",
              "          const dataTable =\n",
              "            await google.colab.kernel.invokeFunction('convertToInteractive',\n",
              "                                                     [key], {});\n",
              "          if (!dataTable) return;\n",
              "\n",
              "          const docLinkHtml = 'Like what you see? Visit the ' +\n",
              "            '<a target=\"_blank\" href=https://colab.research.google.com/notebooks/data_table.ipynb>data table notebook</a>'\n",
              "            + ' to learn more about interactive tables.';\n",
              "          element.innerHTML = '';\n",
              "          dataTable['output_type'] = 'display_data';\n",
              "          await google.colab.output.renderOutput(dataTable, element);\n",
              "          const docLink = document.createElement('div');\n",
              "          docLink.innerHTML = docLinkHtml;\n",
              "          element.appendChild(docLink);\n",
              "        }\n",
              "      </script>\n",
              "    </div>\n",
              "  </div>\n",
              "  "
            ]
          },
          "metadata": {},
          "execution_count": 36
        }
      ]
    },
    {
      "cell_type": "code",
      "source": [
        "data[\"daily_returns\"] = data[\"Close\"].pct_change()\n",
        "data[\"daily_returns\"]"
      ],
      "metadata": {
        "colab": {
          "base_uri": "https://localhost:8080/"
        },
        "outputId": "776d0d29-b6ab-4877-ddb4-0565205d6b9c",
        "id": "SApmag5TLM4A"
      },
      "execution_count": null,
      "outputs": [
        {
          "output_type": "execute_result",
          "data": {
            "text/plain": [
              "Date\n",
              "2010-01-04         NaN\n",
              "2010-01-05   -0.002718\n",
              "2010-01-06    0.000410\n",
              "2010-01-07   -0.002481\n",
              "2010-01-08    0.003032\n",
              "                ...   \n",
              "2023-04-24   -0.001115\n",
              "2023-04-25    0.000516\n",
              "2023-04-26   -0.004813\n",
              "2023-04-27    0.000299\n",
              "2023-04-28    0.007717\n",
              "Name: daily_returns, Length: 3380, dtype: float64"
            ]
          },
          "metadata": {},
          "execution_count": 37
        }
      ]
    },
    {
      "cell_type": "code",
      "source": [
        "data[\"Cumulative Returns\"] = (data[\"Close\"] - data[\"Close\"].iloc[0]) / data[\"Close\"]\n",
        "data[\"Cumulative Returns\"]"
      ],
      "metadata": {
        "colab": {
          "base_uri": "https://localhost:8080/"
        },
        "outputId": "0942fe14-d9b6-4875-9fcc-879e708b21c2",
        "id": "W_Z_5RwjLM4A"
      },
      "execution_count": null,
      "outputs": [
        {
          "output_type": "execute_result",
          "data": {
            "text/plain": [
              "Date\n",
              "2010-01-04    0.000000\n",
              "2010-01-05   -0.002726\n",
              "2010-01-06   -0.002315\n",
              "2010-01-07   -0.004808\n",
              "2010-01-08   -0.001771\n",
              "                ...   \n",
              "2023-04-24    0.618739\n",
              "2023-04-25    0.618936\n",
              "2023-04-26    0.617093\n",
              "2023-04-27    0.617207\n",
              "2023-04-28    0.620138\n",
              "Name: Cumulative Returns, Length: 3380, dtype: float64"
            ]
          },
          "metadata": {},
          "execution_count": 38
        }
      ]
    },
    {
      "cell_type": "code",
      "source": [
        "data[\"Rolling Max\"] = data[\"Close\"].cummax()\n",
        "data[\"Drawdown\"] = (data[\"Rolling Max\"] - data[\"Close\"]) / data[\"Rolling Max\"]"
      ],
      "metadata": {
        "id": "VtUBPCLvLM4A"
      },
      "execution_count": null,
      "outputs": []
    },
    {
      "cell_type": "code",
      "source": [
        "risk_free_rate = 0.0  # Assuming risk-free rate of return\n",
        "data[\"Excess Returns\"] = data[\"daily_returns\"] - risk_free_rate\n",
        "sharpe_ratio = (data[\"Excess Returns\"].mean() / data[\"Excess Returns\"].std()) * (252 ** 0.5)"
      ],
      "metadata": {
        "id": "VMbb9UvnLM4B"
      },
      "execution_count": null,
      "outputs": []
    },
    {
      "cell_type": "code",
      "source": [
        "downside_returns = data[data[\"daily_returns\"] < 0][\"daily_returns\"]\n",
        "downside_std = downside_returns.std()\n",
        "sortino_ratio = (data[\"Excess Returns\"].mean() / downside_std) * (252 ** 0.5)"
      ],
      "metadata": {
        "id": "KTOpTweaLM4B"
      },
      "execution_count": null,
      "outputs": []
    },
    {
      "cell_type": "code",
      "source": [
        "print(\"Sharpe Ratio:\", sharpe_ratio)\n",
        "print(\"Sortino Ratio:\", sortino_ratio)\n",
        "print(\"Max Drawdown:\", data[\"Drawdown\"].max())"
      ],
      "metadata": {
        "colab": {
          "base_uri": "https://localhost:8080/"
        },
        "outputId": "2d259602-6ea8-43b2-adc0-8619d9bb5957",
        "id": "5HVV7LRHLM4C"
      },
      "execution_count": null,
      "outputs": [
        {
          "output_type": "stream",
          "name": "stdout",
          "text": [
            "Sharpe Ratio: 0.45793423805973765\n",
            "Sortino Ratio: 0.600302082787435\n",
            "Max Drawdown: 0.38779389651624485\n"
          ]
        }
      ]
    },
    {
      "cell_type": "code",
      "source": [
        "volatility = data[\"daily_returns\"].std()\n",
        "annualized_volatility=volatility*(252**0.5)\n",
        "annualized_volatility"
      ],
      "metadata": {
        "colab": {
          "base_uri": "https://localhost:8080/"
        },
        "outputId": "d16f2bf9-362c-43f9-b683-42d01306a5ae",
        "id": "dPt0iwXuLM4C"
      },
      "execution_count": null,
      "outputs": [
        {
          "output_type": "execute_result",
          "data": {
            "text/plain": [
              "0.20259529349836683"
            ]
          },
          "metadata": {},
          "execution_count": 43
        }
      ]
    },
    {
      "cell_type": "markdown",
      "source": [
        "Index 5 - Hang Seng Index"
      ],
      "metadata": {
        "id": "NbWukvJlLbhs"
      }
    },
    {
      "cell_type": "code",
      "source": [
        "data = yf.download(\"^HSI\", start=\"2010-01-01\" ,end=\"2023-05-01\") \n",
        "data "
      ],
      "metadata": {
        "colab": {
          "base_uri": "https://localhost:8080/",
          "height": 472
        },
        "outputId": "bb473364-b061-463f-d387-0b0b7ba91bda",
        "id": "4VxqLaWBLQFc"
      },
      "execution_count": null,
      "outputs": [
        {
          "output_type": "stream",
          "name": "stdout",
          "text": [
            "\r[*********************100%***********************]  1 of 1 completed\n"
          ]
        },
        {
          "output_type": "execute_result",
          "data": {
            "text/plain": [
              "                    Open          High           Low         Close  \\\n",
              "Date                                                                 \n",
              "2010-01-04  21860.039062  22024.830078  21689.220703  21823.279297   \n",
              "2010-01-05  22092.150391  22297.039062  21987.269531  22279.580078   \n",
              "2010-01-06  22357.460938  22514.789062  22277.130859  22416.669922   \n",
              "2010-01-07  22548.029297  22548.029297  22169.609375  22269.449219   \n",
              "2010-01-08  22282.750000  22443.220703  22206.160156  22296.750000   \n",
              "...                  ...           ...           ...           ...   \n",
              "2023-04-24  20049.869141  20146.369141  19734.679688  19959.939453   \n",
              "2023-04-25  19903.529297  19910.279297  19527.630859  19617.880859   \n",
              "2023-04-26  19520.970703  19903.730469  19520.970703  19757.269531   \n",
              "2023-04-27  19736.349609  19880.289062  19662.599609  19840.279297   \n",
              "2023-04-28  19936.019531  20167.880859  19879.070312  19894.570312   \n",
              "\n",
              "               Adj Close      Volume  \n",
              "Date                                  \n",
              "2010-01-04  21823.279297  1006199600  \n",
              "2010-01-05  22279.580078  1965584800  \n",
              "2010-01-06  22416.669922  2100234000  \n",
              "2010-01-07  22269.449219  1495365300  \n",
              "2010-01-08  22296.750000  1626022600  \n",
              "...                  ...         ...  \n",
              "2023-04-24  19959.939453  2247902000  \n",
              "2023-04-25  19617.880859  2196274500  \n",
              "2023-04-26  19757.269531  1941042600  \n",
              "2023-04-27  19840.279297  2150454000  \n",
              "2023-04-28  19894.570312  2574855500  \n",
              "\n",
              "[3281 rows x 6 columns]"
            ],
            "text/html": [
              "\n",
              "  <div id=\"df-32f2f512-abfc-4980-99a2-e485f4016b6a\">\n",
              "    <div class=\"colab-df-container\">\n",
              "      <div>\n",
              "<style scoped>\n",
              "    .dataframe tbody tr th:only-of-type {\n",
              "        vertical-align: middle;\n",
              "    }\n",
              "\n",
              "    .dataframe tbody tr th {\n",
              "        vertical-align: top;\n",
              "    }\n",
              "\n",
              "    .dataframe thead th {\n",
              "        text-align: right;\n",
              "    }\n",
              "</style>\n",
              "<table border=\"1\" class=\"dataframe\">\n",
              "  <thead>\n",
              "    <tr style=\"text-align: right;\">\n",
              "      <th></th>\n",
              "      <th>Open</th>\n",
              "      <th>High</th>\n",
              "      <th>Low</th>\n",
              "      <th>Close</th>\n",
              "      <th>Adj Close</th>\n",
              "      <th>Volume</th>\n",
              "    </tr>\n",
              "    <tr>\n",
              "      <th>Date</th>\n",
              "      <th></th>\n",
              "      <th></th>\n",
              "      <th></th>\n",
              "      <th></th>\n",
              "      <th></th>\n",
              "      <th></th>\n",
              "    </tr>\n",
              "  </thead>\n",
              "  <tbody>\n",
              "    <tr>\n",
              "      <th>2010-01-04</th>\n",
              "      <td>21860.039062</td>\n",
              "      <td>22024.830078</td>\n",
              "      <td>21689.220703</td>\n",
              "      <td>21823.279297</td>\n",
              "      <td>21823.279297</td>\n",
              "      <td>1006199600</td>\n",
              "    </tr>\n",
              "    <tr>\n",
              "      <th>2010-01-05</th>\n",
              "      <td>22092.150391</td>\n",
              "      <td>22297.039062</td>\n",
              "      <td>21987.269531</td>\n",
              "      <td>22279.580078</td>\n",
              "      <td>22279.580078</td>\n",
              "      <td>1965584800</td>\n",
              "    </tr>\n",
              "    <tr>\n",
              "      <th>2010-01-06</th>\n",
              "      <td>22357.460938</td>\n",
              "      <td>22514.789062</td>\n",
              "      <td>22277.130859</td>\n",
              "      <td>22416.669922</td>\n",
              "      <td>22416.669922</td>\n",
              "      <td>2100234000</td>\n",
              "    </tr>\n",
              "    <tr>\n",
              "      <th>2010-01-07</th>\n",
              "      <td>22548.029297</td>\n",
              "      <td>22548.029297</td>\n",
              "      <td>22169.609375</td>\n",
              "      <td>22269.449219</td>\n",
              "      <td>22269.449219</td>\n",
              "      <td>1495365300</td>\n",
              "    </tr>\n",
              "    <tr>\n",
              "      <th>2010-01-08</th>\n",
              "      <td>22282.750000</td>\n",
              "      <td>22443.220703</td>\n",
              "      <td>22206.160156</td>\n",
              "      <td>22296.750000</td>\n",
              "      <td>22296.750000</td>\n",
              "      <td>1626022600</td>\n",
              "    </tr>\n",
              "    <tr>\n",
              "      <th>...</th>\n",
              "      <td>...</td>\n",
              "      <td>...</td>\n",
              "      <td>...</td>\n",
              "      <td>...</td>\n",
              "      <td>...</td>\n",
              "      <td>...</td>\n",
              "    </tr>\n",
              "    <tr>\n",
              "      <th>2023-04-24</th>\n",
              "      <td>20049.869141</td>\n",
              "      <td>20146.369141</td>\n",
              "      <td>19734.679688</td>\n",
              "      <td>19959.939453</td>\n",
              "      <td>19959.939453</td>\n",
              "      <td>2247902000</td>\n",
              "    </tr>\n",
              "    <tr>\n",
              "      <th>2023-04-25</th>\n",
              "      <td>19903.529297</td>\n",
              "      <td>19910.279297</td>\n",
              "      <td>19527.630859</td>\n",
              "      <td>19617.880859</td>\n",
              "      <td>19617.880859</td>\n",
              "      <td>2196274500</td>\n",
              "    </tr>\n",
              "    <tr>\n",
              "      <th>2023-04-26</th>\n",
              "      <td>19520.970703</td>\n",
              "      <td>19903.730469</td>\n",
              "      <td>19520.970703</td>\n",
              "      <td>19757.269531</td>\n",
              "      <td>19757.269531</td>\n",
              "      <td>1941042600</td>\n",
              "    </tr>\n",
              "    <tr>\n",
              "      <th>2023-04-27</th>\n",
              "      <td>19736.349609</td>\n",
              "      <td>19880.289062</td>\n",
              "      <td>19662.599609</td>\n",
              "      <td>19840.279297</td>\n",
              "      <td>19840.279297</td>\n",
              "      <td>2150454000</td>\n",
              "    </tr>\n",
              "    <tr>\n",
              "      <th>2023-04-28</th>\n",
              "      <td>19936.019531</td>\n",
              "      <td>20167.880859</td>\n",
              "      <td>19879.070312</td>\n",
              "      <td>19894.570312</td>\n",
              "      <td>19894.570312</td>\n",
              "      <td>2574855500</td>\n",
              "    </tr>\n",
              "  </tbody>\n",
              "</table>\n",
              "<p>3281 rows × 6 columns</p>\n",
              "</div>\n",
              "      <button class=\"colab-df-convert\" onclick=\"convertToInteractive('df-32f2f512-abfc-4980-99a2-e485f4016b6a')\"\n",
              "              title=\"Convert this dataframe to an interactive table.\"\n",
              "              style=\"display:none;\">\n",
              "        \n",
              "  <svg xmlns=\"http://www.w3.org/2000/svg\" height=\"24px\"viewBox=\"0 0 24 24\"\n",
              "       width=\"24px\">\n",
              "    <path d=\"M0 0h24v24H0V0z\" fill=\"none\"/>\n",
              "    <path d=\"M18.56 5.44l.94 2.06.94-2.06 2.06-.94-2.06-.94-.94-2.06-.94 2.06-2.06.94zm-11 1L8.5 8.5l.94-2.06 2.06-.94-2.06-.94L8.5 2.5l-.94 2.06-2.06.94zm10 10l.94 2.06.94-2.06 2.06-.94-2.06-.94-.94-2.06-.94 2.06-2.06.94z\"/><path d=\"M17.41 7.96l-1.37-1.37c-.4-.4-.92-.59-1.43-.59-.52 0-1.04.2-1.43.59L10.3 9.45l-7.72 7.72c-.78.78-.78 2.05 0 2.83L4 21.41c.39.39.9.59 1.41.59.51 0 1.02-.2 1.41-.59l7.78-7.78 2.81-2.81c.8-.78.8-2.07 0-2.86zM5.41 20L4 18.59l7.72-7.72 1.47 1.35L5.41 20z\"/>\n",
              "  </svg>\n",
              "      </button>\n",
              "      \n",
              "  <style>\n",
              "    .colab-df-container {\n",
              "      display:flex;\n",
              "      flex-wrap:wrap;\n",
              "      gap: 12px;\n",
              "    }\n",
              "\n",
              "    .colab-df-convert {\n",
              "      background-color: #E8F0FE;\n",
              "      border: none;\n",
              "      border-radius: 50%;\n",
              "      cursor: pointer;\n",
              "      display: none;\n",
              "      fill: #1967D2;\n",
              "      height: 32px;\n",
              "      padding: 0 0 0 0;\n",
              "      width: 32px;\n",
              "    }\n",
              "\n",
              "    .colab-df-convert:hover {\n",
              "      background-color: #E2EBFA;\n",
              "      box-shadow: 0px 1px 2px rgba(60, 64, 67, 0.3), 0px 1px 3px 1px rgba(60, 64, 67, 0.15);\n",
              "      fill: #174EA6;\n",
              "    }\n",
              "\n",
              "    [theme=dark] .colab-df-convert {\n",
              "      background-color: #3B4455;\n",
              "      fill: #D2E3FC;\n",
              "    }\n",
              "\n",
              "    [theme=dark] .colab-df-convert:hover {\n",
              "      background-color: #434B5C;\n",
              "      box-shadow: 0px 1px 3px 1px rgba(0, 0, 0, 0.15);\n",
              "      filter: drop-shadow(0px 1px 2px rgba(0, 0, 0, 0.3));\n",
              "      fill: #FFFFFF;\n",
              "    }\n",
              "  </style>\n",
              "\n",
              "      <script>\n",
              "        const buttonEl =\n",
              "          document.querySelector('#df-32f2f512-abfc-4980-99a2-e485f4016b6a button.colab-df-convert');\n",
              "        buttonEl.style.display =\n",
              "          google.colab.kernel.accessAllowed ? 'block' : 'none';\n",
              "\n",
              "        async function convertToInteractive(key) {\n",
              "          const element = document.querySelector('#df-32f2f512-abfc-4980-99a2-e485f4016b6a');\n",
              "          const dataTable =\n",
              "            await google.colab.kernel.invokeFunction('convertToInteractive',\n",
              "                                                     [key], {});\n",
              "          if (!dataTable) return;\n",
              "\n",
              "          const docLinkHtml = 'Like what you see? Visit the ' +\n",
              "            '<a target=\"_blank\" href=https://colab.research.google.com/notebooks/data_table.ipynb>data table notebook</a>'\n",
              "            + ' to learn more about interactive tables.';\n",
              "          element.innerHTML = '';\n",
              "          dataTable['output_type'] = 'display_data';\n",
              "          await google.colab.output.renderOutput(dataTable, element);\n",
              "          const docLink = document.createElement('div');\n",
              "          docLink.innerHTML = docLinkHtml;\n",
              "          element.appendChild(docLink);\n",
              "        }\n",
              "      </script>\n",
              "    </div>\n",
              "  </div>\n",
              "  "
            ]
          },
          "metadata": {},
          "execution_count": 44
        }
      ]
    },
    {
      "cell_type": "code",
      "source": [
        "data[\"daily_returns\"] = data[\"Close\"].pct_change()\n",
        "data[\"daily_returns\"]"
      ],
      "metadata": {
        "colab": {
          "base_uri": "https://localhost:8080/"
        },
        "outputId": "04ae72cf-75de-49b5-be28-8eb2eb139c00",
        "id": "k-vMGQSyLQFd"
      },
      "execution_count": null,
      "outputs": [
        {
          "output_type": "execute_result",
          "data": {
            "text/plain": [
              "Date\n",
              "2010-01-04         NaN\n",
              "2010-01-05    0.020909\n",
              "2010-01-06    0.006153\n",
              "2010-01-07   -0.006567\n",
              "2010-01-08    0.001226\n",
              "                ...   \n",
              "2023-04-24   -0.005768\n",
              "2023-04-25   -0.017137\n",
              "2023-04-26    0.007105\n",
              "2023-04-27    0.004201\n",
              "2023-04-28    0.002736\n",
              "Name: daily_returns, Length: 3281, dtype: float64"
            ]
          },
          "metadata": {},
          "execution_count": 45
        }
      ]
    },
    {
      "cell_type": "code",
      "source": [
        "data[\"Cumulative Returns\"] = (data[\"Close\"] - data[\"Close\"].iloc[0]) / data[\"Close\"]\n",
        "data[\"Cumulative Returns\"]"
      ],
      "metadata": {
        "colab": {
          "base_uri": "https://localhost:8080/"
        },
        "outputId": "f782e7a6-c9b6-4007-ffdf-2f9c694e8569",
        "id": "o5-4Oc3mLQFd"
      },
      "execution_count": null,
      "outputs": [
        {
          "output_type": "execute_result",
          "data": {
            "text/plain": [
              "Date\n",
              "2010-01-04    0.000000\n",
              "2010-01-05    0.020481\n",
              "2010-01-06    0.026471\n",
              "2010-01-07    0.020035\n",
              "2010-01-08    0.021235\n",
              "                ...   \n",
              "2023-04-24   -0.093354\n",
              "2023-04-25   -0.112418\n",
              "2023-04-26   -0.104570\n",
              "2023-04-27   -0.099948\n",
              "2023-04-28   -0.096947\n",
              "Name: Cumulative Returns, Length: 3281, dtype: float64"
            ]
          },
          "metadata": {},
          "execution_count": 46
        }
      ]
    },
    {
      "cell_type": "code",
      "source": [
        "data[\"Rolling Max\"] = data[\"Close\"].cummax()\n",
        "data[\"Drawdown\"] = (data[\"Rolling Max\"] - data[\"Close\"]) / data[\"Rolling Max\"]"
      ],
      "metadata": {
        "id": "emjarAk5LQFe"
      },
      "execution_count": null,
      "outputs": []
    },
    {
      "cell_type": "code",
      "source": [
        "risk_free_rate = 0.0  # Assuming risk-free rate of return\n",
        "data[\"Excess Returns\"] = data[\"daily_returns\"] - risk_free_rate\n",
        "sharpe_ratio = (data[\"Excess Returns\"].mean() / data[\"Excess Returns\"].std()) * (252 ** 0.5)"
      ],
      "metadata": {
        "id": "0j7mXdqRLQFe"
      },
      "execution_count": null,
      "outputs": []
    },
    {
      "cell_type": "code",
      "source": [
        "downside_returns = data[data[\"daily_returns\"] < 0][\"daily_returns\"]\n",
        "downside_std = downside_returns.std()\n",
        "sortino_ratio = (data[\"Excess Returns\"].mean() / downside_std) * (252 ** 0.5)"
      ],
      "metadata": {
        "id": "wwdleqHrLQFe"
      },
      "execution_count": null,
      "outputs": []
    },
    {
      "cell_type": "code",
      "source": [
        "print(\"Sharpe Ratio:\", sharpe_ratio)\n",
        "print(\"Sortino Ratio:\", sortino_ratio)\n",
        "print(\"Max Drawdown:\", data[\"Drawdown\"].max())"
      ],
      "metadata": {
        "colab": {
          "base_uri": "https://localhost:8080/"
        },
        "outputId": "1ebf8940-63d3-4aa4-8405-dca9fa2a822f",
        "id": "CkXP0et1LQFe"
      },
      "execution_count": null,
      "outputs": [
        {
          "output_type": "stream",
          "name": "stdout",
          "text": [
            "Sharpe Ratio: 0.06581845571535926\n",
            "Sortino Ratio: 0.09433835709605538\n",
            "Max Drawdown: 0.5570077249305003\n"
          ]
        }
      ]
    },
    {
      "cell_type": "code",
      "source": [
        "volatility = data[\"daily_returns\"].std()\n",
        "annualized_volatility=volatility*(252**0.5)\n",
        "annualized_volatility"
      ],
      "metadata": {
        "colab": {
          "base_uri": "https://localhost:8080/"
        },
        "outputId": "5fa9eefa-853d-4eef-e5a9-0f78a1f86728",
        "id": "weXxqXHYLQFe"
      },
      "execution_count": null,
      "outputs": [
        {
          "output_type": "execute_result",
          "data": {
            "text/plain": [
              "0.20207910000938045"
            ]
          },
          "metadata": {},
          "execution_count": 51
        }
      ]
    },
    {
      "cell_type": "code",
      "source": [],
      "metadata": {
        "id": "DRDBqWEFMAmW"
      },
      "execution_count": null,
      "outputs": []
    },
    {
      "cell_type": "markdown",
      "source": [
        "Equity1 - Apple Inc"
      ],
      "metadata": {
        "id": "BhPGWyxCMBGm"
      }
    },
    {
      "cell_type": "code",
      "source": [
        "data = yf.download(\"AAPL\", start=\"2010-01-01\" ,end=\"2023-05-01\")  "
      ],
      "metadata": {
        "colab": {
          "base_uri": "https://localhost:8080/"
        },
        "outputId": "3044f82e-1194-461f-a4c6-54d4e3edc262",
        "id": "zQ86fgAeMBGm"
      },
      "execution_count": null,
      "outputs": [
        {
          "output_type": "stream",
          "name": "stdout",
          "text": [
            "\r[*********************100%***********************]  1 of 1 completed\n"
          ]
        }
      ]
    },
    {
      "cell_type": "code",
      "source": [
        "data"
      ],
      "metadata": {
        "colab": {
          "base_uri": "https://localhost:8080/",
          "height": 455
        },
        "outputId": "cc248db5-db80-4056-91cb-2eb92b9263a6",
        "id": "ASdO6l4SMBGm"
      },
      "execution_count": null,
      "outputs": [
        {
          "output_type": "execute_result",
          "data": {
            "text/plain": [
              "                  Open        High         Low       Close   Adj Close  \\\n",
              "Date                                                                     \n",
              "2010-01-04    7.622500    7.660714    7.585000    7.643214    6.496294   \n",
              "2010-01-05    7.664286    7.699643    7.616071    7.656429    6.507526   \n",
              "2010-01-06    7.656429    7.686786    7.526786    7.534643    6.404014   \n",
              "2010-01-07    7.562500    7.571429    7.466071    7.520714    6.392176   \n",
              "2010-01-08    7.510714    7.571429    7.466429    7.570714    6.434675   \n",
              "...                ...         ...         ...         ...         ...   \n",
              "2023-04-24  165.000000  165.600006  163.889999  165.330002  165.101639   \n",
              "2023-04-25  165.190002  166.309998  163.729996  163.770004  163.543793   \n",
              "2023-04-26  163.059998  165.279999  162.800003  163.759995  163.533798   \n",
              "2023-04-27  165.190002  168.559998  165.190002  168.410004  168.177383   \n",
              "2023-04-28  168.490005  169.850006  167.880005  169.679993  169.445618   \n",
              "\n",
              "               Volume  \n",
              "Date                   \n",
              "2010-01-04  493729600  \n",
              "2010-01-05  601904800  \n",
              "2010-01-06  552160000  \n",
              "2010-01-07  477131200  \n",
              "2010-01-08  447610800  \n",
              "...               ...  \n",
              "2023-04-24   41949600  \n",
              "2023-04-25   48714100  \n",
              "2023-04-26   45498800  \n",
              "2023-04-27   64902300  \n",
              "2023-04-28   55209200  \n",
              "\n",
              "[3353 rows x 6 columns]"
            ],
            "text/html": [
              "\n",
              "  <div id=\"df-a315db8e-5704-4d93-8515-eb3002b12374\">\n",
              "    <div class=\"colab-df-container\">\n",
              "      <div>\n",
              "<style scoped>\n",
              "    .dataframe tbody tr th:only-of-type {\n",
              "        vertical-align: middle;\n",
              "    }\n",
              "\n",
              "    .dataframe tbody tr th {\n",
              "        vertical-align: top;\n",
              "    }\n",
              "\n",
              "    .dataframe thead th {\n",
              "        text-align: right;\n",
              "    }\n",
              "</style>\n",
              "<table border=\"1\" class=\"dataframe\">\n",
              "  <thead>\n",
              "    <tr style=\"text-align: right;\">\n",
              "      <th></th>\n",
              "      <th>Open</th>\n",
              "      <th>High</th>\n",
              "      <th>Low</th>\n",
              "      <th>Close</th>\n",
              "      <th>Adj Close</th>\n",
              "      <th>Volume</th>\n",
              "    </tr>\n",
              "    <tr>\n",
              "      <th>Date</th>\n",
              "      <th></th>\n",
              "      <th></th>\n",
              "      <th></th>\n",
              "      <th></th>\n",
              "      <th></th>\n",
              "      <th></th>\n",
              "    </tr>\n",
              "  </thead>\n",
              "  <tbody>\n",
              "    <tr>\n",
              "      <th>2010-01-04</th>\n",
              "      <td>7.622500</td>\n",
              "      <td>7.660714</td>\n",
              "      <td>7.585000</td>\n",
              "      <td>7.643214</td>\n",
              "      <td>6.496294</td>\n",
              "      <td>493729600</td>\n",
              "    </tr>\n",
              "    <tr>\n",
              "      <th>2010-01-05</th>\n",
              "      <td>7.664286</td>\n",
              "      <td>7.699643</td>\n",
              "      <td>7.616071</td>\n",
              "      <td>7.656429</td>\n",
              "      <td>6.507526</td>\n",
              "      <td>601904800</td>\n",
              "    </tr>\n",
              "    <tr>\n",
              "      <th>2010-01-06</th>\n",
              "      <td>7.656429</td>\n",
              "      <td>7.686786</td>\n",
              "      <td>7.526786</td>\n",
              "      <td>7.534643</td>\n",
              "      <td>6.404014</td>\n",
              "      <td>552160000</td>\n",
              "    </tr>\n",
              "    <tr>\n",
              "      <th>2010-01-07</th>\n",
              "      <td>7.562500</td>\n",
              "      <td>7.571429</td>\n",
              "      <td>7.466071</td>\n",
              "      <td>7.520714</td>\n",
              "      <td>6.392176</td>\n",
              "      <td>477131200</td>\n",
              "    </tr>\n",
              "    <tr>\n",
              "      <th>2010-01-08</th>\n",
              "      <td>7.510714</td>\n",
              "      <td>7.571429</td>\n",
              "      <td>7.466429</td>\n",
              "      <td>7.570714</td>\n",
              "      <td>6.434675</td>\n",
              "      <td>447610800</td>\n",
              "    </tr>\n",
              "    <tr>\n",
              "      <th>...</th>\n",
              "      <td>...</td>\n",
              "      <td>...</td>\n",
              "      <td>...</td>\n",
              "      <td>...</td>\n",
              "      <td>...</td>\n",
              "      <td>...</td>\n",
              "    </tr>\n",
              "    <tr>\n",
              "      <th>2023-04-24</th>\n",
              "      <td>165.000000</td>\n",
              "      <td>165.600006</td>\n",
              "      <td>163.889999</td>\n",
              "      <td>165.330002</td>\n",
              "      <td>165.101639</td>\n",
              "      <td>41949600</td>\n",
              "    </tr>\n",
              "    <tr>\n",
              "      <th>2023-04-25</th>\n",
              "      <td>165.190002</td>\n",
              "      <td>166.309998</td>\n",
              "      <td>163.729996</td>\n",
              "      <td>163.770004</td>\n",
              "      <td>163.543793</td>\n",
              "      <td>48714100</td>\n",
              "    </tr>\n",
              "    <tr>\n",
              "      <th>2023-04-26</th>\n",
              "      <td>163.059998</td>\n",
              "      <td>165.279999</td>\n",
              "      <td>162.800003</td>\n",
              "      <td>163.759995</td>\n",
              "      <td>163.533798</td>\n",
              "      <td>45498800</td>\n",
              "    </tr>\n",
              "    <tr>\n",
              "      <th>2023-04-27</th>\n",
              "      <td>165.190002</td>\n",
              "      <td>168.559998</td>\n",
              "      <td>165.190002</td>\n",
              "      <td>168.410004</td>\n",
              "      <td>168.177383</td>\n",
              "      <td>64902300</td>\n",
              "    </tr>\n",
              "    <tr>\n",
              "      <th>2023-04-28</th>\n",
              "      <td>168.490005</td>\n",
              "      <td>169.850006</td>\n",
              "      <td>167.880005</td>\n",
              "      <td>169.679993</td>\n",
              "      <td>169.445618</td>\n",
              "      <td>55209200</td>\n",
              "    </tr>\n",
              "  </tbody>\n",
              "</table>\n",
              "<p>3353 rows × 6 columns</p>\n",
              "</div>\n",
              "      <button class=\"colab-df-convert\" onclick=\"convertToInteractive('df-a315db8e-5704-4d93-8515-eb3002b12374')\"\n",
              "              title=\"Convert this dataframe to an interactive table.\"\n",
              "              style=\"display:none;\">\n",
              "        \n",
              "  <svg xmlns=\"http://www.w3.org/2000/svg\" height=\"24px\"viewBox=\"0 0 24 24\"\n",
              "       width=\"24px\">\n",
              "    <path d=\"M0 0h24v24H0V0z\" fill=\"none\"/>\n",
              "    <path d=\"M18.56 5.44l.94 2.06.94-2.06 2.06-.94-2.06-.94-.94-2.06-.94 2.06-2.06.94zm-11 1L8.5 8.5l.94-2.06 2.06-.94-2.06-.94L8.5 2.5l-.94 2.06-2.06.94zm10 10l.94 2.06.94-2.06 2.06-.94-2.06-.94-.94-2.06-.94 2.06-2.06.94z\"/><path d=\"M17.41 7.96l-1.37-1.37c-.4-.4-.92-.59-1.43-.59-.52 0-1.04.2-1.43.59L10.3 9.45l-7.72 7.72c-.78.78-.78 2.05 0 2.83L4 21.41c.39.39.9.59 1.41.59.51 0 1.02-.2 1.41-.59l7.78-7.78 2.81-2.81c.8-.78.8-2.07 0-2.86zM5.41 20L4 18.59l7.72-7.72 1.47 1.35L5.41 20z\"/>\n",
              "  </svg>\n",
              "      </button>\n",
              "      \n",
              "  <style>\n",
              "    .colab-df-container {\n",
              "      display:flex;\n",
              "      flex-wrap:wrap;\n",
              "      gap: 12px;\n",
              "    }\n",
              "\n",
              "    .colab-df-convert {\n",
              "      background-color: #E8F0FE;\n",
              "      border: none;\n",
              "      border-radius: 50%;\n",
              "      cursor: pointer;\n",
              "      display: none;\n",
              "      fill: #1967D2;\n",
              "      height: 32px;\n",
              "      padding: 0 0 0 0;\n",
              "      width: 32px;\n",
              "    }\n",
              "\n",
              "    .colab-df-convert:hover {\n",
              "      background-color: #E2EBFA;\n",
              "      box-shadow: 0px 1px 2px rgba(60, 64, 67, 0.3), 0px 1px 3px 1px rgba(60, 64, 67, 0.15);\n",
              "      fill: #174EA6;\n",
              "    }\n",
              "\n",
              "    [theme=dark] .colab-df-convert {\n",
              "      background-color: #3B4455;\n",
              "      fill: #D2E3FC;\n",
              "    }\n",
              "\n",
              "    [theme=dark] .colab-df-convert:hover {\n",
              "      background-color: #434B5C;\n",
              "      box-shadow: 0px 1px 3px 1px rgba(0, 0, 0, 0.15);\n",
              "      filter: drop-shadow(0px 1px 2px rgba(0, 0, 0, 0.3));\n",
              "      fill: #FFFFFF;\n",
              "    }\n",
              "  </style>\n",
              "\n",
              "      <script>\n",
              "        const buttonEl =\n",
              "          document.querySelector('#df-a315db8e-5704-4d93-8515-eb3002b12374 button.colab-df-convert');\n",
              "        buttonEl.style.display =\n",
              "          google.colab.kernel.accessAllowed ? 'block' : 'none';\n",
              "\n",
              "        async function convertToInteractive(key) {\n",
              "          const element = document.querySelector('#df-a315db8e-5704-4d93-8515-eb3002b12374');\n",
              "          const dataTable =\n",
              "            await google.colab.kernel.invokeFunction('convertToInteractive',\n",
              "                                                     [key], {});\n",
              "          if (!dataTable) return;\n",
              "\n",
              "          const docLinkHtml = 'Like what you see? Visit the ' +\n",
              "            '<a target=\"_blank\" href=https://colab.research.google.com/notebooks/data_table.ipynb>data table notebook</a>'\n",
              "            + ' to learn more about interactive tables.';\n",
              "          element.innerHTML = '';\n",
              "          dataTable['output_type'] = 'display_data';\n",
              "          await google.colab.output.renderOutput(dataTable, element);\n",
              "          const docLink = document.createElement('div');\n",
              "          docLink.innerHTML = docLinkHtml;\n",
              "          element.appendChild(docLink);\n",
              "        }\n",
              "      </script>\n",
              "    </div>\n",
              "  </div>\n",
              "  "
            ]
          },
          "metadata": {},
          "execution_count": 53
        }
      ]
    },
    {
      "cell_type": "code",
      "source": [
        "data[\"daily_returns\"] = data[\"Close\"].pct_change()\n",
        "data[\"daily_returns\"]"
      ],
      "metadata": {
        "colab": {
          "base_uri": "https://localhost:8080/"
        },
        "outputId": "5654d751-f3b9-453c-f42d-0a04186b53f2",
        "id": "KDO3lmhmMBGn"
      },
      "execution_count": null,
      "outputs": [
        {
          "output_type": "execute_result",
          "data": {
            "text/plain": [
              "Date\n",
              "2010-01-04         NaN\n",
              "2010-01-05    0.001729\n",
              "2010-01-06   -0.015906\n",
              "2010-01-07   -0.001849\n",
              "2010-01-08    0.006648\n",
              "                ...   \n",
              "2023-04-24    0.001879\n",
              "2023-04-25   -0.009436\n",
              "2023-04-26   -0.000061\n",
              "2023-04-27    0.028395\n",
              "2023-04-28    0.007541\n",
              "Name: daily_returns, Length: 3353, dtype: float64"
            ]
          },
          "metadata": {},
          "execution_count": 54
        }
      ]
    },
    {
      "cell_type": "code",
      "source": [
        "data[\"Cumulative Returns\"] = (data[\"Close\"] - data[\"Close\"].iloc[0]) / data[\"Close\"]\n",
        "data[\"Cumulative Returns\"]"
      ],
      "metadata": {
        "colab": {
          "base_uri": "https://localhost:8080/"
        },
        "outputId": "dbbe286a-f315-4ad0-aee4-f4ed37c2311a",
        "id": "1HauBC6TMBGn"
      },
      "execution_count": null,
      "outputs": [
        {
          "output_type": "execute_result",
          "data": {
            "text/plain": [
              "Date\n",
              "2010-01-04    0.000000\n",
              "2010-01-05    0.001726\n",
              "2010-01-06   -0.014410\n",
              "2010-01-07   -0.016288\n",
              "2010-01-08   -0.009576\n",
              "                ...   \n",
              "2023-04-24    0.953770\n",
              "2023-04-25    0.953330\n",
              "2023-04-26    0.953327\n",
              "2023-04-27    0.954615\n",
              "2023-04-28    0.954955\n",
              "Name: Cumulative Returns, Length: 3353, dtype: float64"
            ]
          },
          "metadata": {},
          "execution_count": 55
        }
      ]
    },
    {
      "cell_type": "code",
      "source": [
        "data[\"Rolling Max\"] = data[\"Close\"].cummax()\n",
        "data[\"Drawdown\"] = (data[\"Rolling Max\"] - data[\"Close\"]) / data[\"Rolling Max\"]"
      ],
      "metadata": {
        "id": "_fhqOvj7MBGn"
      },
      "execution_count": null,
      "outputs": []
    },
    {
      "cell_type": "code",
      "source": [
        "risk_free_rate = 0.0  # Assuming risk-free rate of return\n",
        "data[\"Excess Returns\"] = data[\"daily_returns\"] - risk_free_rate\n",
        "sharpe_ratio = (data[\"Excess Returns\"].mean() / data[\"Excess Returns\"].std()) * (252 ** 0.5)"
      ],
      "metadata": {
        "id": "I5_DjI0DMBGn"
      },
      "execution_count": null,
      "outputs": []
    },
    {
      "cell_type": "code",
      "source": [
        "downside_returns = data[data[\"daily_returns\"] < 0][\"daily_returns\"]\n",
        "downside_std = downside_returns.std()\n",
        "sortino_ratio = (data[\"Excess Returns\"].mean() / downside_std) * (252 ** 0.5)"
      ],
      "metadata": {
        "id": "NVY-6H5wMBGo"
      },
      "execution_count": null,
      "outputs": []
    },
    {
      "cell_type": "code",
      "source": [
        "print(\"Sharpe Ratio:\", sharpe_ratio)\n",
        "print(\"Sortino Ratio:\", sortino_ratio)\n",
        "print(\"Max Drawdown:\", data[\"Drawdown\"].max())"
      ],
      "metadata": {
        "colab": {
          "base_uri": "https://localhost:8080/"
        },
        "outputId": "b852b5ef-6be8-4e7e-84ca-3577709ef3aa",
        "id": "814zXZ80MBGo"
      },
      "execution_count": null,
      "outputs": [
        {
          "output_type": "stream",
          "name": "stdout",
          "text": [
            "Sharpe Ratio: 0.9579760853312563\n",
            "Sortino Ratio: 1.340108820409712\n",
            "Max Drawdown: 0.4437687017144154\n"
          ]
        }
      ]
    },
    {
      "cell_type": "code",
      "source": [
        "volatility = data[\"daily_returns\"].std()\n",
        "annualized_volatility=volatility*(252**0.5)\n",
        "annualized_volatility"
      ],
      "metadata": {
        "colab": {
          "base_uri": "https://localhost:8080/"
        },
        "outputId": "d68bc443-8485-4225-fe22-8deaa1aca6dc",
        "id": "8GR1YIKOMBGo"
      },
      "execution_count": null,
      "outputs": [
        {
          "output_type": "execute_result",
          "data": {
            "text/plain": [
              "0.28615967782170726"
            ]
          },
          "metadata": {},
          "execution_count": 60
        }
      ]
    },
    {
      "cell_type": "markdown",
      "source": [
        "# Equity2 - Amazon.com Inc"
      ],
      "metadata": {
        "id": "Z90nHONPMBGo"
      }
    },
    {
      "cell_type": "code",
      "source": [
        "data = yf.download(\"AMZN\", start=\"2010-01-01\" ,end=\"2023-05-01\") \n",
        "data "
      ],
      "metadata": {
        "colab": {
          "base_uri": "https://localhost:8080/",
          "height": 472
        },
        "outputId": "107f4dba-814d-4e2f-92d0-cb0dd0e0222c",
        "id": "0drnKrceMBGo"
      },
      "execution_count": null,
      "outputs": [
        {
          "output_type": "stream",
          "name": "stdout",
          "text": [
            "\r[*********************100%***********************]  1 of 1 completed\n"
          ]
        },
        {
          "output_type": "execute_result",
          "data": {
            "text/plain": [
              "                  Open        High         Low       Close   Adj Close  \\\n",
              "Date                                                                     \n",
              "2010-01-04    6.812500    6.830500    6.657000    6.695000    6.695000   \n",
              "2010-01-05    6.671500    6.774000    6.590500    6.734500    6.734500   \n",
              "2010-01-06    6.730000    6.736500    6.582500    6.612500    6.612500   \n",
              "2010-01-07    6.600500    6.616000    6.440000    6.500000    6.500000   \n",
              "2010-01-08    6.528000    6.684000    6.451500    6.676000    6.676000   \n",
              "...                ...         ...         ...         ...         ...   \n",
              "2023-04-24  107.660004  109.230003  105.070000  106.209999  106.209999   \n",
              "2023-04-25  104.910004  105.449997  102.449997  102.570000  102.570000   \n",
              "2023-04-26  105.040001  106.620003  104.099998  104.980003  104.980003   \n",
              "2023-04-27  108.160004  110.860001  106.800003  109.820000  109.820000   \n",
              "2023-04-28  107.730003  109.480003  104.330002  105.449997  105.449997   \n",
              "\n",
              "               Volume  \n",
              "Date                   \n",
              "2010-01-04  151998000  \n",
              "2010-01-05  177038000  \n",
              "2010-01-06  143576000  \n",
              "2010-01-07  220604000  \n",
              "2010-01-08  196610000  \n",
              "...               ...  \n",
              "2023-04-24   69575600  \n",
              "2023-04-25   65026800  \n",
              "2023-04-26   73803800  \n",
              "2023-04-27  149961200  \n",
              "2023-04-28  130565000  \n",
              "\n",
              "[3353 rows x 6 columns]"
            ],
            "text/html": [
              "\n",
              "  <div id=\"df-1de75583-0f98-4c68-9e65-6b3b5b8839a2\">\n",
              "    <div class=\"colab-df-container\">\n",
              "      <div>\n",
              "<style scoped>\n",
              "    .dataframe tbody tr th:only-of-type {\n",
              "        vertical-align: middle;\n",
              "    }\n",
              "\n",
              "    .dataframe tbody tr th {\n",
              "        vertical-align: top;\n",
              "    }\n",
              "\n",
              "    .dataframe thead th {\n",
              "        text-align: right;\n",
              "    }\n",
              "</style>\n",
              "<table border=\"1\" class=\"dataframe\">\n",
              "  <thead>\n",
              "    <tr style=\"text-align: right;\">\n",
              "      <th></th>\n",
              "      <th>Open</th>\n",
              "      <th>High</th>\n",
              "      <th>Low</th>\n",
              "      <th>Close</th>\n",
              "      <th>Adj Close</th>\n",
              "      <th>Volume</th>\n",
              "    </tr>\n",
              "    <tr>\n",
              "      <th>Date</th>\n",
              "      <th></th>\n",
              "      <th></th>\n",
              "      <th></th>\n",
              "      <th></th>\n",
              "      <th></th>\n",
              "      <th></th>\n",
              "    </tr>\n",
              "  </thead>\n",
              "  <tbody>\n",
              "    <tr>\n",
              "      <th>2010-01-04</th>\n",
              "      <td>6.812500</td>\n",
              "      <td>6.830500</td>\n",
              "      <td>6.657000</td>\n",
              "      <td>6.695000</td>\n",
              "      <td>6.695000</td>\n",
              "      <td>151998000</td>\n",
              "    </tr>\n",
              "    <tr>\n",
              "      <th>2010-01-05</th>\n",
              "      <td>6.671500</td>\n",
              "      <td>6.774000</td>\n",
              "      <td>6.590500</td>\n",
              "      <td>6.734500</td>\n",
              "      <td>6.734500</td>\n",
              "      <td>177038000</td>\n",
              "    </tr>\n",
              "    <tr>\n",
              "      <th>2010-01-06</th>\n",
              "      <td>6.730000</td>\n",
              "      <td>6.736500</td>\n",
              "      <td>6.582500</td>\n",
              "      <td>6.612500</td>\n",
              "      <td>6.612500</td>\n",
              "      <td>143576000</td>\n",
              "    </tr>\n",
              "    <tr>\n",
              "      <th>2010-01-07</th>\n",
              "      <td>6.600500</td>\n",
              "      <td>6.616000</td>\n",
              "      <td>6.440000</td>\n",
              "      <td>6.500000</td>\n",
              "      <td>6.500000</td>\n",
              "      <td>220604000</td>\n",
              "    </tr>\n",
              "    <tr>\n",
              "      <th>2010-01-08</th>\n",
              "      <td>6.528000</td>\n",
              "      <td>6.684000</td>\n",
              "      <td>6.451500</td>\n",
              "      <td>6.676000</td>\n",
              "      <td>6.676000</td>\n",
              "      <td>196610000</td>\n",
              "    </tr>\n",
              "    <tr>\n",
              "      <th>...</th>\n",
              "      <td>...</td>\n",
              "      <td>...</td>\n",
              "      <td>...</td>\n",
              "      <td>...</td>\n",
              "      <td>...</td>\n",
              "      <td>...</td>\n",
              "    </tr>\n",
              "    <tr>\n",
              "      <th>2023-04-24</th>\n",
              "      <td>107.660004</td>\n",
              "      <td>109.230003</td>\n",
              "      <td>105.070000</td>\n",
              "      <td>106.209999</td>\n",
              "      <td>106.209999</td>\n",
              "      <td>69575600</td>\n",
              "    </tr>\n",
              "    <tr>\n",
              "      <th>2023-04-25</th>\n",
              "      <td>104.910004</td>\n",
              "      <td>105.449997</td>\n",
              "      <td>102.449997</td>\n",
              "      <td>102.570000</td>\n",
              "      <td>102.570000</td>\n",
              "      <td>65026800</td>\n",
              "    </tr>\n",
              "    <tr>\n",
              "      <th>2023-04-26</th>\n",
              "      <td>105.040001</td>\n",
              "      <td>106.620003</td>\n",
              "      <td>104.099998</td>\n",
              "      <td>104.980003</td>\n",
              "      <td>104.980003</td>\n",
              "      <td>73803800</td>\n",
              "    </tr>\n",
              "    <tr>\n",
              "      <th>2023-04-27</th>\n",
              "      <td>108.160004</td>\n",
              "      <td>110.860001</td>\n",
              "      <td>106.800003</td>\n",
              "      <td>109.820000</td>\n",
              "      <td>109.820000</td>\n",
              "      <td>149961200</td>\n",
              "    </tr>\n",
              "    <tr>\n",
              "      <th>2023-04-28</th>\n",
              "      <td>107.730003</td>\n",
              "      <td>109.480003</td>\n",
              "      <td>104.330002</td>\n",
              "      <td>105.449997</td>\n",
              "      <td>105.449997</td>\n",
              "      <td>130565000</td>\n",
              "    </tr>\n",
              "  </tbody>\n",
              "</table>\n",
              "<p>3353 rows × 6 columns</p>\n",
              "</div>\n",
              "      <button class=\"colab-df-convert\" onclick=\"convertToInteractive('df-1de75583-0f98-4c68-9e65-6b3b5b8839a2')\"\n",
              "              title=\"Convert this dataframe to an interactive table.\"\n",
              "              style=\"display:none;\">\n",
              "        \n",
              "  <svg xmlns=\"http://www.w3.org/2000/svg\" height=\"24px\"viewBox=\"0 0 24 24\"\n",
              "       width=\"24px\">\n",
              "    <path d=\"M0 0h24v24H0V0z\" fill=\"none\"/>\n",
              "    <path d=\"M18.56 5.44l.94 2.06.94-2.06 2.06-.94-2.06-.94-.94-2.06-.94 2.06-2.06.94zm-11 1L8.5 8.5l.94-2.06 2.06-.94-2.06-.94L8.5 2.5l-.94 2.06-2.06.94zm10 10l.94 2.06.94-2.06 2.06-.94-2.06-.94-.94-2.06-.94 2.06-2.06.94z\"/><path d=\"M17.41 7.96l-1.37-1.37c-.4-.4-.92-.59-1.43-.59-.52 0-1.04.2-1.43.59L10.3 9.45l-7.72 7.72c-.78.78-.78 2.05 0 2.83L4 21.41c.39.39.9.59 1.41.59.51 0 1.02-.2 1.41-.59l7.78-7.78 2.81-2.81c.8-.78.8-2.07 0-2.86zM5.41 20L4 18.59l7.72-7.72 1.47 1.35L5.41 20z\"/>\n",
              "  </svg>\n",
              "      </button>\n",
              "      \n",
              "  <style>\n",
              "    .colab-df-container {\n",
              "      display:flex;\n",
              "      flex-wrap:wrap;\n",
              "      gap: 12px;\n",
              "    }\n",
              "\n",
              "    .colab-df-convert {\n",
              "      background-color: #E8F0FE;\n",
              "      border: none;\n",
              "      border-radius: 50%;\n",
              "      cursor: pointer;\n",
              "      display: none;\n",
              "      fill: #1967D2;\n",
              "      height: 32px;\n",
              "      padding: 0 0 0 0;\n",
              "      width: 32px;\n",
              "    }\n",
              "\n",
              "    .colab-df-convert:hover {\n",
              "      background-color: #E2EBFA;\n",
              "      box-shadow: 0px 1px 2px rgba(60, 64, 67, 0.3), 0px 1px 3px 1px rgba(60, 64, 67, 0.15);\n",
              "      fill: #174EA6;\n",
              "    }\n",
              "\n",
              "    [theme=dark] .colab-df-convert {\n",
              "      background-color: #3B4455;\n",
              "      fill: #D2E3FC;\n",
              "    }\n",
              "\n",
              "    [theme=dark] .colab-df-convert:hover {\n",
              "      background-color: #434B5C;\n",
              "      box-shadow: 0px 1px 3px 1px rgba(0, 0, 0, 0.15);\n",
              "      filter: drop-shadow(0px 1px 2px rgba(0, 0, 0, 0.3));\n",
              "      fill: #FFFFFF;\n",
              "    }\n",
              "  </style>\n",
              "\n",
              "      <script>\n",
              "        const buttonEl =\n",
              "          document.querySelector('#df-1de75583-0f98-4c68-9e65-6b3b5b8839a2 button.colab-df-convert');\n",
              "        buttonEl.style.display =\n",
              "          google.colab.kernel.accessAllowed ? 'block' : 'none';\n",
              "\n",
              "        async function convertToInteractive(key) {\n",
              "          const element = document.querySelector('#df-1de75583-0f98-4c68-9e65-6b3b5b8839a2');\n",
              "          const dataTable =\n",
              "            await google.colab.kernel.invokeFunction('convertToInteractive',\n",
              "                                                     [key], {});\n",
              "          if (!dataTable) return;\n",
              "\n",
              "          const docLinkHtml = 'Like what you see? Visit the ' +\n",
              "            '<a target=\"_blank\" href=https://colab.research.google.com/notebooks/data_table.ipynb>data table notebook</a>'\n",
              "            + ' to learn more about interactive tables.';\n",
              "          element.innerHTML = '';\n",
              "          dataTable['output_type'] = 'display_data';\n",
              "          await google.colab.output.renderOutput(dataTable, element);\n",
              "          const docLink = document.createElement('div');\n",
              "          docLink.innerHTML = docLinkHtml;\n",
              "          element.appendChild(docLink);\n",
              "        }\n",
              "      </script>\n",
              "    </div>\n",
              "  </div>\n",
              "  "
            ]
          },
          "metadata": {},
          "execution_count": 61
        }
      ]
    },
    {
      "cell_type": "code",
      "source": [
        "data[\"daily_returns\"] = data[\"Close\"].pct_change()\n",
        "data[\"daily_returns\"]"
      ],
      "metadata": {
        "colab": {
          "base_uri": "https://localhost:8080/"
        },
        "outputId": "924c72c4-14a2-4d9a-9650-619511f38322",
        "id": "U3X9gvtRMBGp"
      },
      "execution_count": null,
      "outputs": [
        {
          "output_type": "execute_result",
          "data": {
            "text/plain": [
              "Date\n",
              "2010-01-04         NaN\n",
              "2010-01-05    0.005900\n",
              "2010-01-06   -0.018116\n",
              "2010-01-07   -0.017013\n",
              "2010-01-08    0.027077\n",
              "                ...   \n",
              "2023-04-24   -0.007012\n",
              "2023-04-25   -0.034272\n",
              "2023-04-26    0.023496\n",
              "2023-04-27    0.046104\n",
              "2023-04-28   -0.039792\n",
              "Name: daily_returns, Length: 3353, dtype: float64"
            ]
          },
          "metadata": {},
          "execution_count": 62
        }
      ]
    },
    {
      "cell_type": "code",
      "source": [
        "data[\"Cumulative Returns\"] = (data[\"Close\"] - data[\"Close\"].iloc[0]) / data[\"Close\"]\n",
        "data[\"Cumulative Returns\"]"
      ],
      "metadata": {
        "colab": {
          "base_uri": "https://localhost:8080/"
        },
        "outputId": "deb513bb-255e-42de-ad4d-b3b913ee1097",
        "id": "Lm8uZ2IvMBGp"
      },
      "execution_count": null,
      "outputs": [
        {
          "output_type": "execute_result",
          "data": {
            "text/plain": [
              "Date\n",
              "2010-01-04    0.000000\n",
              "2010-01-05    0.005865\n",
              "2010-01-06   -0.012476\n",
              "2010-01-07   -0.030000\n",
              "2010-01-08   -0.002846\n",
              "                ...   \n",
              "2023-04-24    0.936965\n",
              "2023-04-25    0.934728\n",
              "2023-04-26    0.936226\n",
              "2023-04-27    0.939037\n",
              "2023-04-28    0.936510\n",
              "Name: Cumulative Returns, Length: 3353, dtype: float64"
            ]
          },
          "metadata": {},
          "execution_count": 63
        }
      ]
    },
    {
      "cell_type": "code",
      "source": [
        "data[\"Rolling Max\"] = data[\"Close\"].cummax()\n",
        "data[\"Drawdown\"] = (data[\"Rolling Max\"] - data[\"Close\"]) / data[\"Rolling Max\"]"
      ],
      "metadata": {
        "id": "aTlsfugZMBGp"
      },
      "execution_count": null,
      "outputs": []
    },
    {
      "cell_type": "code",
      "source": [
        "risk_free_rate = 0.0  # Assuming risk-free rate of return\n",
        "data[\"Excess Returns\"] = data[\"daily_returns\"] - risk_free_rate\n",
        "sharpe_ratio = (data[\"Excess Returns\"].mean() / data[\"Excess Returns\"].std()) * (252 ** 0.5)"
      ],
      "metadata": {
        "id": "gzqmSFXRMBGp"
      },
      "execution_count": null,
      "outputs": []
    },
    {
      "cell_type": "code",
      "source": [
        "downside_returns = data[data[\"daily_returns\"] < 0][\"daily_returns\"]\n",
        "downside_std = downside_returns.std()\n",
        "sortino_ratio = (data[\"Excess Returns\"].mean() / downside_std) * (252 ** 0.5)"
      ],
      "metadata": {
        "id": "j998yjsPMBGq"
      },
      "execution_count": null,
      "outputs": []
    },
    {
      "cell_type": "code",
      "source": [
        "print(\"Sharpe Ratio:\", sharpe_ratio)\n",
        "print(\"Sortino Ratio:\", sortino_ratio)\n",
        "print(\"Max Drawdown:\", data[\"Drawdown\"].max())"
      ],
      "metadata": {
        "colab": {
          "base_uri": "https://localhost:8080/"
        },
        "outputId": "986fbd22-7616-490c-fa60-d91556d31e12",
        "id": "nUVwdd8-MBGq"
      },
      "execution_count": null,
      "outputs": [
        {
          "output_type": "stream",
          "name": "stdout",
          "text": [
            "Sharpe Ratio: 0.7902636489869485\n",
            "Sortino Ratio: 1.1284989544839086\n",
            "Max Drawdown: 0.5614526325328263\n"
          ]
        }
      ]
    },
    {
      "cell_type": "code",
      "source": [
        "volatility = data[\"daily_returns\"].std()\n",
        "annualized_volatility=volatility*(252**0.5)\n",
        "annualized_volatility"
      ],
      "metadata": {
        "colab": {
          "base_uri": "https://localhost:8080/"
        },
        "outputId": "a20015c2-9ae8-4964-d6ab-058859a4fe1b",
        "id": "Lca8BSZ2MBGq"
      },
      "execution_count": null,
      "outputs": [
        {
          "output_type": "execute_result",
          "data": {
            "text/plain": [
              "0.3317989428965108"
            ]
          },
          "metadata": {},
          "execution_count": 68
        }
      ]
    },
    {
      "cell_type": "markdown",
      "source": [
        "# Equity3 -Microsoft Corporation\n",
        "\n"
      ],
      "metadata": {
        "id": "rEZ7r14eMBGq"
      }
    },
    {
      "cell_type": "code",
      "source": [
        "data = yf.download(\"MSFT\", start=\"2010-01-01\" ,end=\"2023-05-01\") \n",
        "data "
      ],
      "metadata": {
        "colab": {
          "base_uri": "https://localhost:8080/",
          "height": 472
        },
        "outputId": "f38d1741-009a-4dc8-b61b-6919472ea37e",
        "id": "zdO1l7hPMBGq"
      },
      "execution_count": null,
      "outputs": [
        {
          "output_type": "stream",
          "name": "stdout",
          "text": [
            "\r[*********************100%***********************]  1 of 1 completed\n"
          ]
        },
        {
          "output_type": "execute_result",
          "data": {
            "text/plain": [
              "                  Open        High         Low       Close   Adj Close  \\\n",
              "Date                                                                     \n",
              "2010-01-04   30.620001   31.100000   30.590000   30.950001   23.623899   \n",
              "2010-01-05   30.850000   31.100000   30.639999   30.959999   23.631531   \n",
              "2010-01-06   30.879999   31.080000   30.520000   30.770000   23.486502   \n",
              "2010-01-07   30.629999   30.700001   30.190001   30.450001   23.242258   \n",
              "2010-01-08   30.280001   30.879999   30.240000   30.660000   23.402540   \n",
              "...                ...         ...         ...         ...         ...   \n",
              "2023-04-24  282.089996  284.950012  278.720001  281.769989  281.769989   \n",
              "2023-04-25  279.510010  281.600006  275.369995  275.420013  275.420013   \n",
              "2023-04-26  296.700012  299.570007  292.730011  295.369995  295.369995   \n",
              "2023-04-27  295.970001  305.200012  295.250000  304.829987  304.829987   \n",
              "2023-04-28  304.010010  308.929993  303.309998  307.260010  307.260010   \n",
              "\n",
              "              Volume  \n",
              "Date                  \n",
              "2010-01-04  38409100  \n",
              "2010-01-05  49749600  \n",
              "2010-01-06  58182400  \n",
              "2010-01-07  50559700  \n",
              "2010-01-08  51197400  \n",
              "...              ...  \n",
              "2023-04-24  26611000  \n",
              "2023-04-25  45772200  \n",
              "2023-04-26  64599200  \n",
              "2023-04-27  46462600  \n",
              "2023-04-28  36446700  \n",
              "\n",
              "[3353 rows x 6 columns]"
            ],
            "text/html": [
              "\n",
              "  <div id=\"df-959190dc-e765-494a-a78a-a2de4e01ca6f\">\n",
              "    <div class=\"colab-df-container\">\n",
              "      <div>\n",
              "<style scoped>\n",
              "    .dataframe tbody tr th:only-of-type {\n",
              "        vertical-align: middle;\n",
              "    }\n",
              "\n",
              "    .dataframe tbody tr th {\n",
              "        vertical-align: top;\n",
              "    }\n",
              "\n",
              "    .dataframe thead th {\n",
              "        text-align: right;\n",
              "    }\n",
              "</style>\n",
              "<table border=\"1\" class=\"dataframe\">\n",
              "  <thead>\n",
              "    <tr style=\"text-align: right;\">\n",
              "      <th></th>\n",
              "      <th>Open</th>\n",
              "      <th>High</th>\n",
              "      <th>Low</th>\n",
              "      <th>Close</th>\n",
              "      <th>Adj Close</th>\n",
              "      <th>Volume</th>\n",
              "    </tr>\n",
              "    <tr>\n",
              "      <th>Date</th>\n",
              "      <th></th>\n",
              "      <th></th>\n",
              "      <th></th>\n",
              "      <th></th>\n",
              "      <th></th>\n",
              "      <th></th>\n",
              "    </tr>\n",
              "  </thead>\n",
              "  <tbody>\n",
              "    <tr>\n",
              "      <th>2010-01-04</th>\n",
              "      <td>30.620001</td>\n",
              "      <td>31.100000</td>\n",
              "      <td>30.590000</td>\n",
              "      <td>30.950001</td>\n",
              "      <td>23.623899</td>\n",
              "      <td>38409100</td>\n",
              "    </tr>\n",
              "    <tr>\n",
              "      <th>2010-01-05</th>\n",
              "      <td>30.850000</td>\n",
              "      <td>31.100000</td>\n",
              "      <td>30.639999</td>\n",
              "      <td>30.959999</td>\n",
              "      <td>23.631531</td>\n",
              "      <td>49749600</td>\n",
              "    </tr>\n",
              "    <tr>\n",
              "      <th>2010-01-06</th>\n",
              "      <td>30.879999</td>\n",
              "      <td>31.080000</td>\n",
              "      <td>30.520000</td>\n",
              "      <td>30.770000</td>\n",
              "      <td>23.486502</td>\n",
              "      <td>58182400</td>\n",
              "    </tr>\n",
              "    <tr>\n",
              "      <th>2010-01-07</th>\n",
              "      <td>30.629999</td>\n",
              "      <td>30.700001</td>\n",
              "      <td>30.190001</td>\n",
              "      <td>30.450001</td>\n",
              "      <td>23.242258</td>\n",
              "      <td>50559700</td>\n",
              "    </tr>\n",
              "    <tr>\n",
              "      <th>2010-01-08</th>\n",
              "      <td>30.280001</td>\n",
              "      <td>30.879999</td>\n",
              "      <td>30.240000</td>\n",
              "      <td>30.660000</td>\n",
              "      <td>23.402540</td>\n",
              "      <td>51197400</td>\n",
              "    </tr>\n",
              "    <tr>\n",
              "      <th>...</th>\n",
              "      <td>...</td>\n",
              "      <td>...</td>\n",
              "      <td>...</td>\n",
              "      <td>...</td>\n",
              "      <td>...</td>\n",
              "      <td>...</td>\n",
              "    </tr>\n",
              "    <tr>\n",
              "      <th>2023-04-24</th>\n",
              "      <td>282.089996</td>\n",
              "      <td>284.950012</td>\n",
              "      <td>278.720001</td>\n",
              "      <td>281.769989</td>\n",
              "      <td>281.769989</td>\n",
              "      <td>26611000</td>\n",
              "    </tr>\n",
              "    <tr>\n",
              "      <th>2023-04-25</th>\n",
              "      <td>279.510010</td>\n",
              "      <td>281.600006</td>\n",
              "      <td>275.369995</td>\n",
              "      <td>275.420013</td>\n",
              "      <td>275.420013</td>\n",
              "      <td>45772200</td>\n",
              "    </tr>\n",
              "    <tr>\n",
              "      <th>2023-04-26</th>\n",
              "      <td>296.700012</td>\n",
              "      <td>299.570007</td>\n",
              "      <td>292.730011</td>\n",
              "      <td>295.369995</td>\n",
              "      <td>295.369995</td>\n",
              "      <td>64599200</td>\n",
              "    </tr>\n",
              "    <tr>\n",
              "      <th>2023-04-27</th>\n",
              "      <td>295.970001</td>\n",
              "      <td>305.200012</td>\n",
              "      <td>295.250000</td>\n",
              "      <td>304.829987</td>\n",
              "      <td>304.829987</td>\n",
              "      <td>46462600</td>\n",
              "    </tr>\n",
              "    <tr>\n",
              "      <th>2023-04-28</th>\n",
              "      <td>304.010010</td>\n",
              "      <td>308.929993</td>\n",
              "      <td>303.309998</td>\n",
              "      <td>307.260010</td>\n",
              "      <td>307.260010</td>\n",
              "      <td>36446700</td>\n",
              "    </tr>\n",
              "  </tbody>\n",
              "</table>\n",
              "<p>3353 rows × 6 columns</p>\n",
              "</div>\n",
              "      <button class=\"colab-df-convert\" onclick=\"convertToInteractive('df-959190dc-e765-494a-a78a-a2de4e01ca6f')\"\n",
              "              title=\"Convert this dataframe to an interactive table.\"\n",
              "              style=\"display:none;\">\n",
              "        \n",
              "  <svg xmlns=\"http://www.w3.org/2000/svg\" height=\"24px\"viewBox=\"0 0 24 24\"\n",
              "       width=\"24px\">\n",
              "    <path d=\"M0 0h24v24H0V0z\" fill=\"none\"/>\n",
              "    <path d=\"M18.56 5.44l.94 2.06.94-2.06 2.06-.94-2.06-.94-.94-2.06-.94 2.06-2.06.94zm-11 1L8.5 8.5l.94-2.06 2.06-.94-2.06-.94L8.5 2.5l-.94 2.06-2.06.94zm10 10l.94 2.06.94-2.06 2.06-.94-2.06-.94-.94-2.06-.94 2.06-2.06.94z\"/><path d=\"M17.41 7.96l-1.37-1.37c-.4-.4-.92-.59-1.43-.59-.52 0-1.04.2-1.43.59L10.3 9.45l-7.72 7.72c-.78.78-.78 2.05 0 2.83L4 21.41c.39.39.9.59 1.41.59.51 0 1.02-.2 1.41-.59l7.78-7.78 2.81-2.81c.8-.78.8-2.07 0-2.86zM5.41 20L4 18.59l7.72-7.72 1.47 1.35L5.41 20z\"/>\n",
              "  </svg>\n",
              "      </button>\n",
              "      \n",
              "  <style>\n",
              "    .colab-df-container {\n",
              "      display:flex;\n",
              "      flex-wrap:wrap;\n",
              "      gap: 12px;\n",
              "    }\n",
              "\n",
              "    .colab-df-convert {\n",
              "      background-color: #E8F0FE;\n",
              "      border: none;\n",
              "      border-radius: 50%;\n",
              "      cursor: pointer;\n",
              "      display: none;\n",
              "      fill: #1967D2;\n",
              "      height: 32px;\n",
              "      padding: 0 0 0 0;\n",
              "      width: 32px;\n",
              "    }\n",
              "\n",
              "    .colab-df-convert:hover {\n",
              "      background-color: #E2EBFA;\n",
              "      box-shadow: 0px 1px 2px rgba(60, 64, 67, 0.3), 0px 1px 3px 1px rgba(60, 64, 67, 0.15);\n",
              "      fill: #174EA6;\n",
              "    }\n",
              "\n",
              "    [theme=dark] .colab-df-convert {\n",
              "      background-color: #3B4455;\n",
              "      fill: #D2E3FC;\n",
              "    }\n",
              "\n",
              "    [theme=dark] .colab-df-convert:hover {\n",
              "      background-color: #434B5C;\n",
              "      box-shadow: 0px 1px 3px 1px rgba(0, 0, 0, 0.15);\n",
              "      filter: drop-shadow(0px 1px 2px rgba(0, 0, 0, 0.3));\n",
              "      fill: #FFFFFF;\n",
              "    }\n",
              "  </style>\n",
              "\n",
              "      <script>\n",
              "        const buttonEl =\n",
              "          document.querySelector('#df-959190dc-e765-494a-a78a-a2de4e01ca6f button.colab-df-convert');\n",
              "        buttonEl.style.display =\n",
              "          google.colab.kernel.accessAllowed ? 'block' : 'none';\n",
              "\n",
              "        async function convertToInteractive(key) {\n",
              "          const element = document.querySelector('#df-959190dc-e765-494a-a78a-a2de4e01ca6f');\n",
              "          const dataTable =\n",
              "            await google.colab.kernel.invokeFunction('convertToInteractive',\n",
              "                                                     [key], {});\n",
              "          if (!dataTable) return;\n",
              "\n",
              "          const docLinkHtml = 'Like what you see? Visit the ' +\n",
              "            '<a target=\"_blank\" href=https://colab.research.google.com/notebooks/data_table.ipynb>data table notebook</a>'\n",
              "            + ' to learn more about interactive tables.';\n",
              "          element.innerHTML = '';\n",
              "          dataTable['output_type'] = 'display_data';\n",
              "          await google.colab.output.renderOutput(dataTable, element);\n",
              "          const docLink = document.createElement('div');\n",
              "          docLink.innerHTML = docLinkHtml;\n",
              "          element.appendChild(docLink);\n",
              "        }\n",
              "      </script>\n",
              "    </div>\n",
              "  </div>\n",
              "  "
            ]
          },
          "metadata": {},
          "execution_count": 69
        }
      ]
    },
    {
      "cell_type": "code",
      "source": [
        "data[\"daily_returns\"] = data[\"Close\"].pct_change()\n",
        "data[\"daily_returns\"]"
      ],
      "metadata": {
        "colab": {
          "base_uri": "https://localhost:8080/"
        },
        "outputId": "5f3dd3d0-ca49-4ff4-c45d-aee8cba2d10e",
        "id": "AxOxXDPIMBGr"
      },
      "execution_count": null,
      "outputs": [
        {
          "output_type": "execute_result",
          "data": {
            "text/plain": [
              "Date\n",
              "2010-01-04         NaN\n",
              "2010-01-05    0.000323\n",
              "2010-01-06   -0.006137\n",
              "2010-01-07   -0.010400\n",
              "2010-01-08    0.006897\n",
              "                ...   \n",
              "2023-04-24   -0.013963\n",
              "2023-04-25   -0.022536\n",
              "2023-04-26    0.072435\n",
              "2023-04-27    0.032028\n",
              "2023-04-28    0.007972\n",
              "Name: daily_returns, Length: 3353, dtype: float64"
            ]
          },
          "metadata": {},
          "execution_count": 70
        }
      ]
    },
    {
      "cell_type": "code",
      "source": [
        "data[\"Cumulative Returns\"] = (data[\"Close\"] - data[\"Close\"].iloc[0]) / data[\"Close\"]\n",
        "data[\"Cumulative Returns\"]"
      ],
      "metadata": {
        "colab": {
          "base_uri": "https://localhost:8080/"
        },
        "outputId": "ff91ca24-8829-4b32-e21d-90fb98115501",
        "id": "M3mkgRezMBGr"
      },
      "execution_count": null,
      "outputs": [
        {
          "output_type": "execute_result",
          "data": {
            "text/plain": [
              "Date\n",
              "2010-01-04    0.000000\n",
              "2010-01-05    0.000323\n",
              "2010-01-06   -0.005850\n",
              "2010-01-07   -0.016420\n",
              "2010-01-08   -0.009459\n",
              "                ...   \n",
              "2023-04-24    0.890159\n",
              "2023-04-25    0.887626\n",
              "2023-04-26    0.895216\n",
              "2023-04-27    0.898468\n",
              "2023-04-28    0.899271\n",
              "Name: Cumulative Returns, Length: 3353, dtype: float64"
            ]
          },
          "metadata": {},
          "execution_count": 71
        }
      ]
    },
    {
      "cell_type": "code",
      "source": [
        "data[\"Rolling Max\"] = data[\"Close\"].cummax()\n",
        "data[\"Drawdown\"] = (data[\"Rolling Max\"] - data[\"Close\"]) / data[\"Rolling Max\"]"
      ],
      "metadata": {
        "id": "dsm1uKo_MBGr"
      },
      "execution_count": null,
      "outputs": []
    },
    {
      "cell_type": "code",
      "source": [
        "risk_free_rate = 0.0  # Assuming risk-free rate of return\n",
        "data[\"Excess Returns\"] = data[\"daily_returns\"] - risk_free_rate\n",
        "sharpe_ratio = (data[\"Excess Returns\"].mean() / data[\"Excess Returns\"].std()) * (252 ** 0.5)"
      ],
      "metadata": {
        "id": "gWX6PGYNMBGr"
      },
      "execution_count": null,
      "outputs": []
    },
    {
      "cell_type": "code",
      "source": [
        "downside_returns = data[data[\"daily_returns\"] < 0][\"daily_returns\"]\n",
        "downside_std = downside_returns.std()\n",
        "sortino_ratio = (data[\"Excess Returns\"].mean() / downside_std) * (252 ** 0.5)"
      ],
      "metadata": {
        "id": "W69m6HpkMBGr"
      },
      "execution_count": null,
      "outputs": []
    },
    {
      "cell_type": "code",
      "source": [
        "print(\"Sharpe Ratio:\", sharpe_ratio)\n",
        "print(\"Sortino Ratio:\", sortino_ratio)\n",
        "print(\"Max Drawdown:\", data[\"Drawdown\"].max())"
      ],
      "metadata": {
        "colab": {
          "base_uri": "https://localhost:8080/"
        },
        "outputId": "a6f36fb0-7165-4769-c806-0c3746e1be06",
        "id": "77dOV7ppMBGs"
      },
      "execution_count": null,
      "outputs": [
        {
          "output_type": "stream",
          "name": "stdout",
          "text": [
            "Sharpe Ratio: 0.790447018897123\n",
            "Sortino Ratio: 1.1068365902917414\n",
            "Max Drawdown: 0.37556466105038605\n"
          ]
        }
      ]
    },
    {
      "cell_type": "code",
      "source": [
        "volatility = data[\"daily_returns\"].std()\n",
        "annualized_volatility=volatility*(252**0.5)\n",
        "annualized_volatility"
      ],
      "metadata": {
        "colab": {
          "base_uri": "https://localhost:8080/"
        },
        "outputId": "d774b926-3d82-42fb-ee9a-5b7b78ae6ca7",
        "id": "GNJeHujNMBGs"
      },
      "execution_count": null,
      "outputs": [
        {
          "output_type": "execute_result",
          "data": {
            "text/plain": [
              "0.2616767875604266"
            ]
          },
          "metadata": {},
          "execution_count": 76
        }
      ]
    },
    {
      "cell_type": "markdown",
      "source": [
        "# Equity4 - Google"
      ],
      "metadata": {
        "id": "Qb2JZB6BMBGs"
      }
    },
    {
      "cell_type": "code",
      "source": [
        "data = yf.download(\"GOOGL\", start=\"2010-01-01\" ,end=\"2023-05-01\") \n",
        "data "
      ],
      "metadata": {
        "colab": {
          "base_uri": "https://localhost:8080/",
          "height": 472
        },
        "outputId": "516f9b85-f010-44df-ec87-61f6f31d5978",
        "id": "awrsFFetMBGs"
      },
      "execution_count": null,
      "outputs": [
        {
          "output_type": "stream",
          "name": "stdout",
          "text": [
            "\r[*********************100%***********************]  1 of 1 completed\n"
          ]
        },
        {
          "output_type": "execute_result",
          "data": {
            "text/plain": [
              "                  Open        High         Low       Close   Adj Close  \\\n",
              "Date                                                                     \n",
              "2010-01-04   15.689439   15.753504   15.621622   15.684434   15.684434   \n",
              "2010-01-05   15.695195   15.711712   15.554054   15.615365   15.615365   \n",
              "2010-01-06   15.662162   15.662162   15.174174   15.221722   15.221722   \n",
              "2010-01-07   15.250250   15.265265   14.831081   14.867367   14.867367   \n",
              "2010-01-08   14.814815   15.096346   14.742492   15.065566   15.065566   \n",
              "...                ...         ...         ...         ...         ...   \n",
              "2023-04-24  105.489998  106.629997  104.699997  105.970001  105.970001   \n",
              "2023-04-25  105.830002  106.690002  103.839996  103.849998  103.849998   \n",
              "2023-04-26  104.919998  106.349998  102.629997  103.709999  103.709999   \n",
              "2023-04-27  104.449997  108.370003  103.540001  107.589996  107.589996   \n",
              "2023-04-28  107.040001  107.349998  105.089996  107.339996  107.339996   \n",
              "\n",
              "               Volume  \n",
              "Date                   \n",
              "2010-01-04   78169752  \n",
              "2010-01-05  120067812  \n",
              "2010-01-06  158988852  \n",
              "2010-01-07  256315428  \n",
              "2010-01-08  188783028  \n",
              "...               ...  \n",
              "2023-04-24   23542800  \n",
              "2023-04-25   46664100  \n",
              "2023-04-26   53347600  \n",
              "2023-04-27   50089200  \n",
              "2023-04-28   36139800  \n",
              "\n",
              "[3353 rows x 6 columns]"
            ],
            "text/html": [
              "\n",
              "  <div id=\"df-cf9590be-536c-442a-b1ff-aede9f85fd19\">\n",
              "    <div class=\"colab-df-container\">\n",
              "      <div>\n",
              "<style scoped>\n",
              "    .dataframe tbody tr th:only-of-type {\n",
              "        vertical-align: middle;\n",
              "    }\n",
              "\n",
              "    .dataframe tbody tr th {\n",
              "        vertical-align: top;\n",
              "    }\n",
              "\n",
              "    .dataframe thead th {\n",
              "        text-align: right;\n",
              "    }\n",
              "</style>\n",
              "<table border=\"1\" class=\"dataframe\">\n",
              "  <thead>\n",
              "    <tr style=\"text-align: right;\">\n",
              "      <th></th>\n",
              "      <th>Open</th>\n",
              "      <th>High</th>\n",
              "      <th>Low</th>\n",
              "      <th>Close</th>\n",
              "      <th>Adj Close</th>\n",
              "      <th>Volume</th>\n",
              "    </tr>\n",
              "    <tr>\n",
              "      <th>Date</th>\n",
              "      <th></th>\n",
              "      <th></th>\n",
              "      <th></th>\n",
              "      <th></th>\n",
              "      <th></th>\n",
              "      <th></th>\n",
              "    </tr>\n",
              "  </thead>\n",
              "  <tbody>\n",
              "    <tr>\n",
              "      <th>2010-01-04</th>\n",
              "      <td>15.689439</td>\n",
              "      <td>15.753504</td>\n",
              "      <td>15.621622</td>\n",
              "      <td>15.684434</td>\n",
              "      <td>15.684434</td>\n",
              "      <td>78169752</td>\n",
              "    </tr>\n",
              "    <tr>\n",
              "      <th>2010-01-05</th>\n",
              "      <td>15.695195</td>\n",
              "      <td>15.711712</td>\n",
              "      <td>15.554054</td>\n",
              "      <td>15.615365</td>\n",
              "      <td>15.615365</td>\n",
              "      <td>120067812</td>\n",
              "    </tr>\n",
              "    <tr>\n",
              "      <th>2010-01-06</th>\n",
              "      <td>15.662162</td>\n",
              "      <td>15.662162</td>\n",
              "      <td>15.174174</td>\n",
              "      <td>15.221722</td>\n",
              "      <td>15.221722</td>\n",
              "      <td>158988852</td>\n",
              "    </tr>\n",
              "    <tr>\n",
              "      <th>2010-01-07</th>\n",
              "      <td>15.250250</td>\n",
              "      <td>15.265265</td>\n",
              "      <td>14.831081</td>\n",
              "      <td>14.867367</td>\n",
              "      <td>14.867367</td>\n",
              "      <td>256315428</td>\n",
              "    </tr>\n",
              "    <tr>\n",
              "      <th>2010-01-08</th>\n",
              "      <td>14.814815</td>\n",
              "      <td>15.096346</td>\n",
              "      <td>14.742492</td>\n",
              "      <td>15.065566</td>\n",
              "      <td>15.065566</td>\n",
              "      <td>188783028</td>\n",
              "    </tr>\n",
              "    <tr>\n",
              "      <th>...</th>\n",
              "      <td>...</td>\n",
              "      <td>...</td>\n",
              "      <td>...</td>\n",
              "      <td>...</td>\n",
              "      <td>...</td>\n",
              "      <td>...</td>\n",
              "    </tr>\n",
              "    <tr>\n",
              "      <th>2023-04-24</th>\n",
              "      <td>105.489998</td>\n",
              "      <td>106.629997</td>\n",
              "      <td>104.699997</td>\n",
              "      <td>105.970001</td>\n",
              "      <td>105.970001</td>\n",
              "      <td>23542800</td>\n",
              "    </tr>\n",
              "    <tr>\n",
              "      <th>2023-04-25</th>\n",
              "      <td>105.830002</td>\n",
              "      <td>106.690002</td>\n",
              "      <td>103.839996</td>\n",
              "      <td>103.849998</td>\n",
              "      <td>103.849998</td>\n",
              "      <td>46664100</td>\n",
              "    </tr>\n",
              "    <tr>\n",
              "      <th>2023-04-26</th>\n",
              "      <td>104.919998</td>\n",
              "      <td>106.349998</td>\n",
              "      <td>102.629997</td>\n",
              "      <td>103.709999</td>\n",
              "      <td>103.709999</td>\n",
              "      <td>53347600</td>\n",
              "    </tr>\n",
              "    <tr>\n",
              "      <th>2023-04-27</th>\n",
              "      <td>104.449997</td>\n",
              "      <td>108.370003</td>\n",
              "      <td>103.540001</td>\n",
              "      <td>107.589996</td>\n",
              "      <td>107.589996</td>\n",
              "      <td>50089200</td>\n",
              "    </tr>\n",
              "    <tr>\n",
              "      <th>2023-04-28</th>\n",
              "      <td>107.040001</td>\n",
              "      <td>107.349998</td>\n",
              "      <td>105.089996</td>\n",
              "      <td>107.339996</td>\n",
              "      <td>107.339996</td>\n",
              "      <td>36139800</td>\n",
              "    </tr>\n",
              "  </tbody>\n",
              "</table>\n",
              "<p>3353 rows × 6 columns</p>\n",
              "</div>\n",
              "      <button class=\"colab-df-convert\" onclick=\"convertToInteractive('df-cf9590be-536c-442a-b1ff-aede9f85fd19')\"\n",
              "              title=\"Convert this dataframe to an interactive table.\"\n",
              "              style=\"display:none;\">\n",
              "        \n",
              "  <svg xmlns=\"http://www.w3.org/2000/svg\" height=\"24px\"viewBox=\"0 0 24 24\"\n",
              "       width=\"24px\">\n",
              "    <path d=\"M0 0h24v24H0V0z\" fill=\"none\"/>\n",
              "    <path d=\"M18.56 5.44l.94 2.06.94-2.06 2.06-.94-2.06-.94-.94-2.06-.94 2.06-2.06.94zm-11 1L8.5 8.5l.94-2.06 2.06-.94-2.06-.94L8.5 2.5l-.94 2.06-2.06.94zm10 10l.94 2.06.94-2.06 2.06-.94-2.06-.94-.94-2.06-.94 2.06-2.06.94z\"/><path d=\"M17.41 7.96l-1.37-1.37c-.4-.4-.92-.59-1.43-.59-.52 0-1.04.2-1.43.59L10.3 9.45l-7.72 7.72c-.78.78-.78 2.05 0 2.83L4 21.41c.39.39.9.59 1.41.59.51 0 1.02-.2 1.41-.59l7.78-7.78 2.81-2.81c.8-.78.8-2.07 0-2.86zM5.41 20L4 18.59l7.72-7.72 1.47 1.35L5.41 20z\"/>\n",
              "  </svg>\n",
              "      </button>\n",
              "      \n",
              "  <style>\n",
              "    .colab-df-container {\n",
              "      display:flex;\n",
              "      flex-wrap:wrap;\n",
              "      gap: 12px;\n",
              "    }\n",
              "\n",
              "    .colab-df-convert {\n",
              "      background-color: #E8F0FE;\n",
              "      border: none;\n",
              "      border-radius: 50%;\n",
              "      cursor: pointer;\n",
              "      display: none;\n",
              "      fill: #1967D2;\n",
              "      height: 32px;\n",
              "      padding: 0 0 0 0;\n",
              "      width: 32px;\n",
              "    }\n",
              "\n",
              "    .colab-df-convert:hover {\n",
              "      background-color: #E2EBFA;\n",
              "      box-shadow: 0px 1px 2px rgba(60, 64, 67, 0.3), 0px 1px 3px 1px rgba(60, 64, 67, 0.15);\n",
              "      fill: #174EA6;\n",
              "    }\n",
              "\n",
              "    [theme=dark] .colab-df-convert {\n",
              "      background-color: #3B4455;\n",
              "      fill: #D2E3FC;\n",
              "    }\n",
              "\n",
              "    [theme=dark] .colab-df-convert:hover {\n",
              "      background-color: #434B5C;\n",
              "      box-shadow: 0px 1px 3px 1px rgba(0, 0, 0, 0.15);\n",
              "      filter: drop-shadow(0px 1px 2px rgba(0, 0, 0, 0.3));\n",
              "      fill: #FFFFFF;\n",
              "    }\n",
              "  </style>\n",
              "\n",
              "      <script>\n",
              "        const buttonEl =\n",
              "          document.querySelector('#df-cf9590be-536c-442a-b1ff-aede9f85fd19 button.colab-df-convert');\n",
              "        buttonEl.style.display =\n",
              "          google.colab.kernel.accessAllowed ? 'block' : 'none';\n",
              "\n",
              "        async function convertToInteractive(key) {\n",
              "          const element = document.querySelector('#df-cf9590be-536c-442a-b1ff-aede9f85fd19');\n",
              "          const dataTable =\n",
              "            await google.colab.kernel.invokeFunction('convertToInteractive',\n",
              "                                                     [key], {});\n",
              "          if (!dataTable) return;\n",
              "\n",
              "          const docLinkHtml = 'Like what you see? Visit the ' +\n",
              "            '<a target=\"_blank\" href=https://colab.research.google.com/notebooks/data_table.ipynb>data table notebook</a>'\n",
              "            + ' to learn more about interactive tables.';\n",
              "          element.innerHTML = '';\n",
              "          dataTable['output_type'] = 'display_data';\n",
              "          await google.colab.output.renderOutput(dataTable, element);\n",
              "          const docLink = document.createElement('div');\n",
              "          docLink.innerHTML = docLinkHtml;\n",
              "          element.appendChild(docLink);\n",
              "        }\n",
              "      </script>\n",
              "    </div>\n",
              "  </div>\n",
              "  "
            ]
          },
          "metadata": {},
          "execution_count": 77
        }
      ]
    },
    {
      "cell_type": "code",
      "source": [
        "data[\"daily_returns\"] = data[\"Close\"].pct_change()\n",
        "data[\"daily_returns\"]"
      ],
      "metadata": {
        "colab": {
          "base_uri": "https://localhost:8080/"
        },
        "outputId": "bf4185a9-8889-4885-b73c-8fbb1049b1fc",
        "id": "1f0vl_uJMBGs"
      },
      "execution_count": null,
      "outputs": [
        {
          "output_type": "execute_result",
          "data": {
            "text/plain": [
              "Date\n",
              "2010-01-04         NaN\n",
              "2010-01-05   -0.004404\n",
              "2010-01-06   -0.025209\n",
              "2010-01-07   -0.023280\n",
              "2010-01-08    0.013331\n",
              "                ...   \n",
              "2023-04-24    0.005313\n",
              "2023-04-25   -0.020006\n",
              "2023-04-26   -0.001348\n",
              "2023-04-27    0.037412\n",
              "2023-04-28   -0.002324\n",
              "Name: daily_returns, Length: 3353, dtype: float64"
            ]
          },
          "metadata": {},
          "execution_count": 78
        }
      ]
    },
    {
      "cell_type": "code",
      "source": [
        "data[\"Cumulative Returns\"] = (data[\"Close\"] - data[\"Close\"].iloc[0]) / data[\"Close\"]\n",
        "data[\"Cumulative Returns\"]"
      ],
      "metadata": {
        "colab": {
          "base_uri": "https://localhost:8080/"
        },
        "outputId": "afb6e44e-eb50-46ab-bd02-5adc10435465",
        "id": "W6eKvtEHMBGt"
      },
      "execution_count": null,
      "outputs": [
        {
          "output_type": "execute_result",
          "data": {
            "text/plain": [
              "Date\n",
              "2010-01-04    0.000000\n",
              "2010-01-05   -0.004423\n",
              "2010-01-06   -0.030398\n",
              "2010-01-07   -0.054957\n",
              "2010-01-08   -0.041078\n",
              "                ...   \n",
              "2023-04-24    0.851992\n",
              "2023-04-25    0.848970\n",
              "2023-04-26    0.848766\n",
              "2023-04-27    0.854220\n",
              "2023-04-28    0.853881\n",
              "Name: Cumulative Returns, Length: 3353, dtype: float64"
            ]
          },
          "metadata": {},
          "execution_count": 79
        }
      ]
    },
    {
      "cell_type": "code",
      "source": [
        "data[\"Rolling Max\"] = data[\"Close\"].cummax()\n",
        "data[\"Drawdown\"] = (data[\"Rolling Max\"] - data[\"Close\"]) / data[\"Rolling Max\"]"
      ],
      "metadata": {
        "id": "y7yMoE5xMBGt"
      },
      "execution_count": null,
      "outputs": []
    },
    {
      "cell_type": "code",
      "source": [
        "risk_free_rate = 0.0  # Assuming risk-free rate of return\n",
        "data[\"Excess Returns\"] = data[\"daily_returns\"] - risk_free_rate\n",
        "sharpe_ratio = (data[\"Excess Returns\"].mean() / data[\"Excess Returns\"].std()) * (252 ** 0.5)"
      ],
      "metadata": {
        "id": "3Q-MJCnbMBGt"
      },
      "execution_count": null,
      "outputs": []
    },
    {
      "cell_type": "code",
      "source": [
        "downside_returns = data[data[\"daily_returns\"] < 0][\"daily_returns\"]\n",
        "downside_std = downside_returns.std()\n",
        "sortino_ratio = (data[\"Excess Returns\"].mean() / downside_std) * (252 ** 0.5)"
      ],
      "metadata": {
        "id": "Ocrty6kWMBGt"
      },
      "execution_count": null,
      "outputs": []
    },
    {
      "cell_type": "code",
      "source": [
        "print(\"Sharpe Ratio:\", sharpe_ratio)\n",
        "print(\"Sortino Ratio:\", sortino_ratio)\n",
        "print(\"Max Drawdown:\", data[\"Drawdown\"].max())"
      ],
      "metadata": {
        "colab": {
          "base_uri": "https://localhost:8080/"
        },
        "outputId": "07021fdf-1e6d-45a1-ef23-4ca64976e455",
        "id": "pmCx7676MBGu"
      },
      "execution_count": null,
      "outputs": [
        {
          "output_type": "stream",
          "name": "stdout",
          "text": [
            "Sharpe Ratio: 0.6657471347330978\n",
            "Sortino Ratio: 0.9299480203497368\n",
            "Max Drawdown: 0.4432005141440532\n"
          ]
        }
      ]
    },
    {
      "cell_type": "code",
      "source": [
        "volatility = data[\"daily_returns\"].std()\n",
        "annualized_volatility=volatility*(252**0.5)\n",
        "annualized_volatility"
      ],
      "metadata": {
        "colab": {
          "base_uri": "https://localhost:8080/"
        },
        "outputId": "58ad5ae8-f462-4b17-b99e-a28c06c1b164",
        "id": "G_HHrZs9MBGu"
      },
      "execution_count": null,
      "outputs": [
        {
          "output_type": "execute_result",
          "data": {
            "text/plain": [
              "0.2729762706976209"
            ]
          },
          "metadata": {},
          "execution_count": 84
        }
      ]
    },
    {
      "cell_type": "markdown",
      "source": [
        "# Equity5 -Netflix\n"
      ],
      "metadata": {
        "id": "1t27BmN5MBGu"
      }
    },
    {
      "cell_type": "code",
      "source": [
        "data = yf.download(\"NFLX\", start=\"2010-01-01\" ,end=\"2023-05-01\") \n",
        "data "
      ],
      "metadata": {
        "colab": {
          "base_uri": "https://localhost:8080/",
          "height": 472
        },
        "outputId": "6c5f7af6-8933-4d14-8304-7649aa4782aa",
        "id": "E9kLdR7dMBGu"
      },
      "execution_count": null,
      "outputs": [
        {
          "output_type": "stream",
          "name": "stdout",
          "text": [
            "\r[*********************100%***********************]  1 of 1 completed\n"
          ]
        },
        {
          "output_type": "execute_result",
          "data": {
            "text/plain": [
              "                  Open        High         Low       Close   Adj Close  \\\n",
              "Date                                                                     \n",
              "2010-01-04    7.931429    7.961429    7.565714    7.640000    7.640000   \n",
              "2010-01-05    7.652857    7.657143    7.258571    7.358571    7.358571   \n",
              "2010-01-06    7.361429    7.672857    7.197143    7.617143    7.617143   \n",
              "2010-01-07    7.731429    7.757143    7.462857    7.485714    7.485714   \n",
              "2010-01-08    7.498571    7.742857    7.465714    7.614286    7.614286   \n",
              "...                ...         ...         ...         ...         ...   \n",
              "2023-04-24  330.200012  334.660004  326.750000  329.019989  329.019989   \n",
              "2023-04-25  328.500000  328.660004  321.100006  322.549988  322.549988   \n",
              "2023-04-26  321.359985  325.899994  320.470001  321.149994  321.149994   \n",
              "2023-04-27  324.299988  327.450012  317.440002  325.850006  325.850006   \n",
              "2023-04-28  325.239990  330.809998  324.000000  329.929993  329.929993   \n",
              "\n",
              "              Volume  \n",
              "Date                  \n",
              "2010-01-04  17239600  \n",
              "2010-01-05  23753100  \n",
              "2010-01-06  23290400  \n",
              "2010-01-07   9955400  \n",
              "2010-01-08   8180900  \n",
              "...              ...  \n",
              "2023-04-24   5586600  \n",
              "2023-04-25   5426600  \n",
              "2023-04-26   4623200  \n",
              "2023-04-27   5618800  \n",
              "2023-04-28   4221900  \n",
              "\n",
              "[3353 rows x 6 columns]"
            ],
            "text/html": [
              "\n",
              "  <div id=\"df-5acea7cf-6ba5-4f21-8ad7-4f2f9ec620dc\">\n",
              "    <div class=\"colab-df-container\">\n",
              "      <div>\n",
              "<style scoped>\n",
              "    .dataframe tbody tr th:only-of-type {\n",
              "        vertical-align: middle;\n",
              "    }\n",
              "\n",
              "    .dataframe tbody tr th {\n",
              "        vertical-align: top;\n",
              "    }\n",
              "\n",
              "    .dataframe thead th {\n",
              "        text-align: right;\n",
              "    }\n",
              "</style>\n",
              "<table border=\"1\" class=\"dataframe\">\n",
              "  <thead>\n",
              "    <tr style=\"text-align: right;\">\n",
              "      <th></th>\n",
              "      <th>Open</th>\n",
              "      <th>High</th>\n",
              "      <th>Low</th>\n",
              "      <th>Close</th>\n",
              "      <th>Adj Close</th>\n",
              "      <th>Volume</th>\n",
              "    </tr>\n",
              "    <tr>\n",
              "      <th>Date</th>\n",
              "      <th></th>\n",
              "      <th></th>\n",
              "      <th></th>\n",
              "      <th></th>\n",
              "      <th></th>\n",
              "      <th></th>\n",
              "    </tr>\n",
              "  </thead>\n",
              "  <tbody>\n",
              "    <tr>\n",
              "      <th>2010-01-04</th>\n",
              "      <td>7.931429</td>\n",
              "      <td>7.961429</td>\n",
              "      <td>7.565714</td>\n",
              "      <td>7.640000</td>\n",
              "      <td>7.640000</td>\n",
              "      <td>17239600</td>\n",
              "    </tr>\n",
              "    <tr>\n",
              "      <th>2010-01-05</th>\n",
              "      <td>7.652857</td>\n",
              "      <td>7.657143</td>\n",
              "      <td>7.258571</td>\n",
              "      <td>7.358571</td>\n",
              "      <td>7.358571</td>\n",
              "      <td>23753100</td>\n",
              "    </tr>\n",
              "    <tr>\n",
              "      <th>2010-01-06</th>\n",
              "      <td>7.361429</td>\n",
              "      <td>7.672857</td>\n",
              "      <td>7.197143</td>\n",
              "      <td>7.617143</td>\n",
              "      <td>7.617143</td>\n",
              "      <td>23290400</td>\n",
              "    </tr>\n",
              "    <tr>\n",
              "      <th>2010-01-07</th>\n",
              "      <td>7.731429</td>\n",
              "      <td>7.757143</td>\n",
              "      <td>7.462857</td>\n",
              "      <td>7.485714</td>\n",
              "      <td>7.485714</td>\n",
              "      <td>9955400</td>\n",
              "    </tr>\n",
              "    <tr>\n",
              "      <th>2010-01-08</th>\n",
              "      <td>7.498571</td>\n",
              "      <td>7.742857</td>\n",
              "      <td>7.465714</td>\n",
              "      <td>7.614286</td>\n",
              "      <td>7.614286</td>\n",
              "      <td>8180900</td>\n",
              "    </tr>\n",
              "    <tr>\n",
              "      <th>...</th>\n",
              "      <td>...</td>\n",
              "      <td>...</td>\n",
              "      <td>...</td>\n",
              "      <td>...</td>\n",
              "      <td>...</td>\n",
              "      <td>...</td>\n",
              "    </tr>\n",
              "    <tr>\n",
              "      <th>2023-04-24</th>\n",
              "      <td>330.200012</td>\n",
              "      <td>334.660004</td>\n",
              "      <td>326.750000</td>\n",
              "      <td>329.019989</td>\n",
              "      <td>329.019989</td>\n",
              "      <td>5586600</td>\n",
              "    </tr>\n",
              "    <tr>\n",
              "      <th>2023-04-25</th>\n",
              "      <td>328.500000</td>\n",
              "      <td>328.660004</td>\n",
              "      <td>321.100006</td>\n",
              "      <td>322.549988</td>\n",
              "      <td>322.549988</td>\n",
              "      <td>5426600</td>\n",
              "    </tr>\n",
              "    <tr>\n",
              "      <th>2023-04-26</th>\n",
              "      <td>321.359985</td>\n",
              "      <td>325.899994</td>\n",
              "      <td>320.470001</td>\n",
              "      <td>321.149994</td>\n",
              "      <td>321.149994</td>\n",
              "      <td>4623200</td>\n",
              "    </tr>\n",
              "    <tr>\n",
              "      <th>2023-04-27</th>\n",
              "      <td>324.299988</td>\n",
              "      <td>327.450012</td>\n",
              "      <td>317.440002</td>\n",
              "      <td>325.850006</td>\n",
              "      <td>325.850006</td>\n",
              "      <td>5618800</td>\n",
              "    </tr>\n",
              "    <tr>\n",
              "      <th>2023-04-28</th>\n",
              "      <td>325.239990</td>\n",
              "      <td>330.809998</td>\n",
              "      <td>324.000000</td>\n",
              "      <td>329.929993</td>\n",
              "      <td>329.929993</td>\n",
              "      <td>4221900</td>\n",
              "    </tr>\n",
              "  </tbody>\n",
              "</table>\n",
              "<p>3353 rows × 6 columns</p>\n",
              "</div>\n",
              "      <button class=\"colab-df-convert\" onclick=\"convertToInteractive('df-5acea7cf-6ba5-4f21-8ad7-4f2f9ec620dc')\"\n",
              "              title=\"Convert this dataframe to an interactive table.\"\n",
              "              style=\"display:none;\">\n",
              "        \n",
              "  <svg xmlns=\"http://www.w3.org/2000/svg\" height=\"24px\"viewBox=\"0 0 24 24\"\n",
              "       width=\"24px\">\n",
              "    <path d=\"M0 0h24v24H0V0z\" fill=\"none\"/>\n",
              "    <path d=\"M18.56 5.44l.94 2.06.94-2.06 2.06-.94-2.06-.94-.94-2.06-.94 2.06-2.06.94zm-11 1L8.5 8.5l.94-2.06 2.06-.94-2.06-.94L8.5 2.5l-.94 2.06-2.06.94zm10 10l.94 2.06.94-2.06 2.06-.94-2.06-.94-.94-2.06-.94 2.06-2.06.94z\"/><path d=\"M17.41 7.96l-1.37-1.37c-.4-.4-.92-.59-1.43-.59-.52 0-1.04.2-1.43.59L10.3 9.45l-7.72 7.72c-.78.78-.78 2.05 0 2.83L4 21.41c.39.39.9.59 1.41.59.51 0 1.02-.2 1.41-.59l7.78-7.78 2.81-2.81c.8-.78.8-2.07 0-2.86zM5.41 20L4 18.59l7.72-7.72 1.47 1.35L5.41 20z\"/>\n",
              "  </svg>\n",
              "      </button>\n",
              "      \n",
              "  <style>\n",
              "    .colab-df-container {\n",
              "      display:flex;\n",
              "      flex-wrap:wrap;\n",
              "      gap: 12px;\n",
              "    }\n",
              "\n",
              "    .colab-df-convert {\n",
              "      background-color: #E8F0FE;\n",
              "      border: none;\n",
              "      border-radius: 50%;\n",
              "      cursor: pointer;\n",
              "      display: none;\n",
              "      fill: #1967D2;\n",
              "      height: 32px;\n",
              "      padding: 0 0 0 0;\n",
              "      width: 32px;\n",
              "    }\n",
              "\n",
              "    .colab-df-convert:hover {\n",
              "      background-color: #E2EBFA;\n",
              "      box-shadow: 0px 1px 2px rgba(60, 64, 67, 0.3), 0px 1px 3px 1px rgba(60, 64, 67, 0.15);\n",
              "      fill: #174EA6;\n",
              "    }\n",
              "\n",
              "    [theme=dark] .colab-df-convert {\n",
              "      background-color: #3B4455;\n",
              "      fill: #D2E3FC;\n",
              "    }\n",
              "\n",
              "    [theme=dark] .colab-df-convert:hover {\n",
              "      background-color: #434B5C;\n",
              "      box-shadow: 0px 1px 3px 1px rgba(0, 0, 0, 0.15);\n",
              "      filter: drop-shadow(0px 1px 2px rgba(0, 0, 0, 0.3));\n",
              "      fill: #FFFFFF;\n",
              "    }\n",
              "  </style>\n",
              "\n",
              "      <script>\n",
              "        const buttonEl =\n",
              "          document.querySelector('#df-5acea7cf-6ba5-4f21-8ad7-4f2f9ec620dc button.colab-df-convert');\n",
              "        buttonEl.style.display =\n",
              "          google.colab.kernel.accessAllowed ? 'block' : 'none';\n",
              "\n",
              "        async function convertToInteractive(key) {\n",
              "          const element = document.querySelector('#df-5acea7cf-6ba5-4f21-8ad7-4f2f9ec620dc');\n",
              "          const dataTable =\n",
              "            await google.colab.kernel.invokeFunction('convertToInteractive',\n",
              "                                                     [key], {});\n",
              "          if (!dataTable) return;\n",
              "\n",
              "          const docLinkHtml = 'Like what you see? Visit the ' +\n",
              "            '<a target=\"_blank\" href=https://colab.research.google.com/notebooks/data_table.ipynb>data table notebook</a>'\n",
              "            + ' to learn more about interactive tables.';\n",
              "          element.innerHTML = '';\n",
              "          dataTable['output_type'] = 'display_data';\n",
              "          await google.colab.output.renderOutput(dataTable, element);\n",
              "          const docLink = document.createElement('div');\n",
              "          docLink.innerHTML = docLinkHtml;\n",
              "          element.appendChild(docLink);\n",
              "        }\n",
              "      </script>\n",
              "    </div>\n",
              "  </div>\n",
              "  "
            ]
          },
          "metadata": {},
          "execution_count": 88
        }
      ]
    },
    {
      "cell_type": "code",
      "source": [
        "data[\"daily_returns\"] = data[\"Close\"].pct_change()\n",
        "data[\"daily_returns\"]"
      ],
      "metadata": {
        "colab": {
          "base_uri": "https://localhost:8080/"
        },
        "outputId": "5137ba59-6353-4fb5-b847-81ff0b54e1c2",
        "id": "2oJxzCbCMBGu"
      },
      "execution_count": null,
      "outputs": [
        {
          "output_type": "execute_result",
          "data": {
            "text/plain": [
              "Date\n",
              "2010-01-04         NaN\n",
              "2010-01-05   -0.036836\n",
              "2010-01-06    0.035139\n",
              "2010-01-07   -0.017254\n",
              "2010-01-08    0.017176\n",
              "                ...   \n",
              "2023-04-24    0.003171\n",
              "2023-04-25   -0.019664\n",
              "2023-04-26   -0.004340\n",
              "2023-04-27    0.014635\n",
              "2023-04-28    0.012521\n",
              "Name: daily_returns, Length: 3353, dtype: float64"
            ]
          },
          "metadata": {},
          "execution_count": 89
        }
      ]
    },
    {
      "cell_type": "code",
      "source": [
        "data[\"Cumulative Returns\"] = (data[\"Close\"] - data[\"Close\"].iloc[0]) / data[\"Close\"]\n",
        "data[\"Cumulative Returns\"]"
      ],
      "metadata": {
        "colab": {
          "base_uri": "https://localhost:8080/"
        },
        "outputId": "5c6c6166-b99a-48c8-9415-5b8a3787812f",
        "id": "elIk79sCMBGv"
      },
      "execution_count": null,
      "outputs": [
        {
          "output_type": "execute_result",
          "data": {
            "text/plain": [
              "Date\n",
              "2010-01-04    0.000000\n",
              "2010-01-05   -0.038245\n",
              "2010-01-06   -0.003001\n",
              "2010-01-07   -0.020611\n",
              "2010-01-08   -0.003377\n",
              "                ...   \n",
              "2023-04-24    0.976780\n",
              "2023-04-25    0.976314\n",
              "2023-04-26    0.976210\n",
              "2023-04-27    0.976554\n",
              "2023-04-28    0.976844\n",
              "Name: Cumulative Returns, Length: 3353, dtype: float64"
            ]
          },
          "metadata": {},
          "execution_count": 90
        }
      ]
    },
    {
      "cell_type": "code",
      "source": [
        "data[\"Rolling Max\"] = data[\"Close\"].cummax()\n",
        "data[\"Drawdown\"] = (data[\"Rolling Max\"] - data[\"Close\"]) / data[\"Rolling Max\"]"
      ],
      "metadata": {
        "id": "vMVcnFWPMBGv"
      },
      "execution_count": null,
      "outputs": []
    },
    {
      "cell_type": "code",
      "source": [
        "risk_free_rate = 0.0  # Assuming risk-free rate of return\n",
        "data[\"Excess Returns\"] = data[\"daily_returns\"] - risk_free_rate\n",
        "sharpe_ratio = (data[\"Excess Returns\"].mean() / data[\"Excess Returns\"].std()) * (252 ** 0.5)"
      ],
      "metadata": {
        "id": "vuq9Fp09MBGv"
      },
      "execution_count": null,
      "outputs": []
    },
    {
      "cell_type": "code",
      "source": [
        "downside_returns = data[data[\"daily_returns\"] < 0][\"daily_returns\"]\n",
        "downside_std = downside_returns.std()\n",
        "sortino_ratio = (data[\"Excess Returns\"].mean() / downside_std) * (252 ** 0.5)"
      ],
      "metadata": {
        "id": "zXv4t_-RMBGv"
      },
      "execution_count": null,
      "outputs": []
    },
    {
      "cell_type": "code",
      "source": [
        "print(\"Sharpe Ratio:\", sharpe_ratio)\n",
        "print(\"Sortino Ratio:\", sortino_ratio)\n",
        "print(\"Max Drawdown:\", data[\"Drawdown\"].max())"
      ],
      "metadata": {
        "colab": {
          "base_uri": "https://localhost:8080/"
        },
        "outputId": "115bb517-2d90-40a8-c369-b980b5dce92f",
        "id": "1Q7RQUoNMBGv"
      },
      "execution_count": null,
      "outputs": [
        {
          "output_type": "stream",
          "name": "stdout",
          "text": [
            "Sharpe Ratio: 0.8074094207709147\n",
            "Sortino Ratio: 1.1161053510639454\n",
            "Max Drawdown: 0.8199042663290899\n"
          ]
        }
      ]
    },
    {
      "cell_type": "code",
      "source": [
        "volatility = data[\"daily_returns\"].std()\n",
        "annualized_volatility=volatility*(252**0.5)\n",
        "annualized_volatility"
      ],
      "metadata": {
        "colab": {
          "base_uri": "https://localhost:8080/"
        },
        "outputId": "702d37a3-0d68-467c-f9df-313efa34948c",
        "id": "wYZ5sVphMBGw"
      },
      "execution_count": null,
      "outputs": [
        {
          "output_type": "execute_result",
          "data": {
            "text/plain": [
              "0.5173219819600162"
            ]
          },
          "metadata": {},
          "execution_count": 95
        }
      ]
    }
  ]
}