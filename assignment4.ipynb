{
 "cells": [
  {
   "cell_type": "code",
   "execution_count": 3,
   "metadata": {},
   "outputs": [],
   "source": [
    "import yfinance as yf\n",
    "from math import sqrt\n",
    "import pandas as pd\n",
    "import numpy as np "
   ]
  },
  {
   "cell_type": "code",
   "execution_count": 4,
   "metadata": {},
   "outputs": [],
   "source": [
    "# Columns\n",
    "list_columns = [\"Cumulative Returns\", \"Max Drawdown\", \"Sharpe Ratio\", \"Sortino Ratio\", \"Volatility\"]"
   ]
  },
  {
   "cell_type": "code",
   "execution_count": 6,
   "metadata": {},
   "outputs": [],
   "source": [
    "class Index:\n",
    "    \n",
    "    list_of_indices = []\n",
    "    index_tickers = []\n",
    "\n",
    "    \n",
    "    def __init__(self, ticker, risk_free_rate):\n",
    "        self.ticker = ticker\n",
    "        self.risk_free_rate = risk_free_rate\n",
    "        self.start_date = \"2010-01-01\"\n",
    "        self.end_date = \"2023-05-01\"\n",
    "        self.period = '1d'\n",
    "        self.data = self.fetch_data()\n",
    "        \n",
    "        # OLHC DATA: \n",
    "        self.open = self.data['Open']\n",
    "        self.close = self.data['Close']\n",
    "        self.high = self.data['High']\n",
    "        self.low = self.data['Low']\n",
    "        \n",
    "        #indices using instances: \n",
    "        Index.list_of_indices.append(self)\n",
    "        \n",
    "        # tickers using instances: \n",
    "        Index.index_tickers.append(self.ticker)\n",
    "        \n",
    "    def fetch_data(self):\n",
    "        return yf.download(self.ticker, start=self.start_date, end=self.end_date, period=self.period, progress=False)\n",
    "        \n",
    "        \n",
    "\n",
    "\n",
    "ftse100 = Index(\"^FTSE\", 0.02)\n",
    "nk225 = Index(\"^N225\", 0.01)\n",
    "sp500 = Index(\"^GSPC\", 0.03)\n",
    "djia = Index(\"^DJI\", 0.03)\n",
    "nifty = Index(\"^NSEI\", 0.05)"
   ]
  },
  {
   "cell_type": "code",
   "execution_count": null,
   "metadata": {},
   "outputs": [],
   "source": [
    "class Equity:\n",
    "    \n",
    "    list_of_equities = []\n",
    "    equities_tickers = []\n",
    "    \n",
    "    def __init__(self, ticker, risk_free_rate):\n",
    "        self.ticker = ticker\n",
    "        self.risk_free_rate = risk_free_rate\n",
    "        self.start_date = \"2010-01-01\"\n",
    "        self.end_date = \"2023-05-01\"\n",
    "        self.period = '1d'\n",
    "        self.data = self.fetch_data()\n",
    "        \n",
    "        # OLHC DATA: \n",
    "        self.open = self.data['Open']\n",
    "        self.close = self.data['Close']\n",
    "        self.high = self.data['High']\n",
    "        self.low = self.data['Low']\n",
    "        \n",
    "        # equities using instances: \n",
    "        Equity.list_of_equities.append(self)\n",
    "        \n",
    "        # tickers using instances: \n",
    "        Equity.equities_tickers.append(self.ticker)\n",
    "        \n",
    "    def fetch_data(self):\n",
    "        return yf.download(self.ticker, start=self.start_date, end=self.end_date, period=self.period, progress=False)\n",
    "\n",
    "apple = Equity(\"AAPL\", 0.02)\n",
    "amazon = Equity(\"AMZN\", 0.03)\n",
    "nestle = Equity(\"NSRGF\", 0.01)\n",
    "reliance = Equity(\"RELIANCE.NS\", 0.05)\n",
    "toyota = Equity(\"TM\", 0.01)"
   ]
  },
  {
   "cell_type": "code",
   "execution_count": null,
   "metadata": {},
   "outputs": [],
   "source": [
    "Equity.list_of_equities"
   ]
  },
  {
   "cell_type": "code",
   "execution_count": null,
   "metadata": {},
   "outputs": [],
   "source": [
    "close_prices = ftse100.close\n",
    "open_prices = ftse100.open"
   ]
  },
  {
   "attachments": {},
   "cell_type": "markdown",
   "metadata": {},
   "source": [
    "# Daily Returns and Cumulative Returns :- \n",
    "    returns = (Current Value - Initial Value) / Initial Value\n",
    "\n",
    "Where:\n",
    "- Current Value is the value of the investment at the end of the period.\n",
    "- Initial Value is the value of the investment at the beginning of the period.\n"
   ]
  },
  {
   "cell_type": "code",
   "execution_count": null,
   "metadata": {},
   "outputs": [],
   "source": [
    "def dailyReturns(asset):\n",
    "    return (asset.close - asset.open)/ asset.open \n",
    "\n",
    "\n",
    "def cumulativeReturns(asset):\n",
    "    \n",
    "    # Calculating daily returns, for a trading day: \n",
    "    dailyReturn = dailyReturns(asset)\n",
    "    \n",
    "    # Calculate the cumulative returns by multiplication: \n",
    "    cumulativeReturn = ((1 + dailyReturn).prod() - 1)\n",
    "    \n",
    "    return cumulativeReturn"
   ]
  },
  {
   "cell_type": "code",
   "execution_count": null,
   "metadata": {},
   "outputs": [],
   "source": [
    "dailyReturns(apple)"
   ]
  },
  {
   "cell_type": "code",
   "execution_count": null,
   "metadata": {},
   "outputs": [],
   "source": [
    "cumulativeReturns(ftse100)"
   ]
  },
  {
   "attachments": {},
   "cell_type": "markdown",
   "metadata": {},
   "source": [
    "# Volatility :- \n",
    "\n",
    "      vol = σ√T \n",
    "\n",
    "where:\n",
    "\n",
    "- v = volatility \n",
    "- σ =standard deviation \n",
    "- T = number of periods "
   ]
  },
  {
   "cell_type": "code",
   "execution_count": null,
   "metadata": {},
   "outputs": [],
   "source": [
    "def Volatility(asset, adjust = True):\n",
    "    \n",
    "    # number of trading days:\n",
    "    T = asset.data.shape[0]\n",
    "    \n",
    "    # Standard Deviation \n",
    "    std = dailyReturns(asset).std()\n",
    "    \n",
    "    # volatility :\n",
    "    if(adjust): \n",
    "        volatility = std*sqrt(T)\n",
    "    else: \n",
    "        volatility = std\n",
    "        \n",
    "    return volatility"
   ]
  },
  {
   "cell_type": "code",
   "execution_count": null,
   "metadata": {},
   "outputs": [],
   "source": [
    "Volatility(ftse100)"
   ]
  },
  {
   "attachments": {},
   "cell_type": "markdown",
   "metadata": {},
   "source": [
    "# Sharpe Ratio :- "
   ]
  },
  {
   "cell_type": "code",
   "execution_count": null,
   "metadata": {},
   "outputs": [],
   "source": [
    "# risk_free_rate = 0.01\n",
    "\n",
    "def excessReturns(asset):\n",
    "    return dailyReturns(asset) - asset.risk_free_rate/252\n",
    "\n",
    "def sharpeRatio(asset):\n",
    "    avg_xr = np.mean(excessReturns(asset))\n",
    "    std_xr = np.std(excessReturns(asset))\n",
    "    sharpe = avg_xr/std_xr\n",
    "    return sharpe"
   ]
  },
  {
   "cell_type": "code",
   "execution_count": null,
   "metadata": {},
   "outputs": [],
   "source": [
    "sharpeRatio(apple)"
   ]
  },
  {
   "cell_type": "code",
   "execution_count": null,
   "metadata": {},
   "outputs": [],
   "source": [
    "dailyReturns(apple)"
   ]
  },
  {
   "attachments": {},
   "cell_type": "markdown",
   "metadata": {},
   "source": [
    "# Sortino Ratio :-"
   ]
  },
  {
   "cell_type": "code",
   "execution_count": null,
   "metadata": {},
   "outputs": [],
   "source": [
    "def sortinoRatio(asset):\n",
    "    \n",
    "    avg_dr = dailyReturns(asset).mean()\n",
    "\n",
    "    negative_daily_returns = dailyReturns(asset)[dailyReturns(asset) < 0]\n",
    "\n",
    "    # downside_deviation \n",
    "    std_nr = negative_daily_returns.std()\n",
    "\n",
    "    sortino = (avg_dr - asset.risk_free_rate/252) / std_nr\n",
    "    \n",
    "    return sortino"
   ]
  },
  {
   "cell_type": "code",
   "execution_count": null,
   "metadata": {},
   "outputs": [],
   "source": [
    "sortinoRatio(apple)"
   ]
  },
  {
   "attachments": {},
   "cell_type": "markdown",
   "metadata": {},
   "source": [
    "# Max Drawdown :- "
   ]
  },
  {
   "cell_type": "code",
   "execution_count": null,
   "metadata": {},
   "outputs": [],
   "source": [
    "def maxDrawdown(asset):\n",
    "    peak = asset.close[0]\n",
    "    drawdown = 0.0 \n",
    "    \n",
    "    for price in asset.close:\n",
    "        if price > peak:\n",
    "            peak = price\n",
    "        else: \n",
    "            curr_drawdown = (price - peak)/peak\n",
    "            if curr_drawdown < drawdown:\n",
    "                drawdown = curr_drawdown\n",
    "    mdd = drawdown\n",
    "    \n",
    "    return mdd"
   ]
  },
  {
   "cell_type": "code",
   "execution_count": null,
   "metadata": {},
   "outputs": [],
   "source": [
    "maxDrawdown(nk225)"
   ]
  },
  {
   "attachments": {},
   "cell_type": "markdown",
   "metadata": {},
   "source": [
    "## Dataframe :- "
   ]
  },
  {
   "cell_type": "code",
   "execution_count": null,
   "metadata": {},
   "outputs": [],
   "source": [
    "index_data_list = []\n",
    "for index in Index.list_of_indices:\n",
    "    \n",
    "    index_data = {\n",
    "            'Cumulative Returns': cumulativeReturns(index),\n",
    "            'Max Drawdown': maxDrawdown(index),\n",
    "            'Sharpe Ratio': sharpeRatio(index),\n",
    "            'Sortino Ratio': sortinoRatio(index),\n",
    "            'Volatility': Volatility(index)\n",
    "        }\n",
    "    index_data_list.append(index_data)"
   ]
  },
  {
   "cell_type": "code",
   "execution_count": null,
   "metadata": {},
   "outputs": [],
   "source": [
    "df_index = pd.DataFrame(index_data_list, index=Index.index_tickers)\n",
    "df_index"
   ]
  },
  {
   "cell_type": "code",
   "execution_count": null,
   "metadata": {},
   "outputs": [],
   "source": [
    "equity_data_list = []\n",
    "for equity in Equity.list_of_equities:\n",
    "    \n",
    "    equity_data = {\n",
    "            'Cumulative Returns': cumulativeReturns(equity),\n",
    "            'Max Drawdown': maxDrawdown(equity),\n",
    "            'Sharpe Ratio': sharpeRatio(equity),\n",
    "            'Sortino Ratio': sortinoRatio(equity),\n",
    "            'Volatility': Volatility(equity)\n",
    "        }\n",
    "    equity_data_list.append(equity_data)\n",
    "    \n",
    "df_equity = pd.DataFrame(equity_data_list, index=Equity.equities_tickers)\n",
    "df_equity"
   ]
  },
  {
   "attachments": {},
   "cell_type": "markdown",
   "metadata": {},
   "source": [
    "# Markdown :-"
   ]
  },
  {
   "cell_type": "code",
   "execution_count": null,
   "metadata": {},
   "outputs": [],
   "source": [
    "from tabulate import tabulate\n",
    "\n",
    "table1 = tabulate(df_index, headers='keys', tablefmt='pipe')\n",
    "table2 = tabulate(df_equity, headers='keys', tablefmt='pipe')\n",
    "\n",
    "combined_tables = table1 + '\\n\\n' + table2\n",
    "\n",
    "with open('tables.md', 'w') as f:\n",
    "    f.write(combined_tables)"
   ]
  }
 ],
 "metadata": {
  "kernelspec": {
   "display_name": "Python 3",
   "language": "python",
   "name": "python3"
  },
  "language_info": {
   "codemirror_mode": {
    "name": "ipython",
    "version": 3
   },
   "file_extension": ".py",
   "mimetype": "text/x-python",
   "name": "python",
   "nbconvert_exporter": "python",
   "pygments_lexer": "ipython3",
   "version": "3.11.3"
  },
  "orig_nbformat": 4
 },
 "nbformat": 4,
 "nbformat_minor": 2
}
