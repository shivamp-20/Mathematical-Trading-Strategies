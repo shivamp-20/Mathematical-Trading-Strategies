{
 "cells": [
  {
   "cell_type": "code",
   "execution_count": 19,
   "metadata": {},
   "outputs": [],
   "source": [
    "import yfinance as yf\n",
    "import pandas as pd\n",
    "import numpy as np"
   ]
  },
  {
   "cell_type": "code",
   "execution_count": 20,
   "metadata": {},
   "outputs": [],
   "source": [
    "# Define the list of indices and equities\n",
    "indices = ['^GSPC', '^FTSE', '^N225', '^GDAXI', '000001.SS']\n",
    "equities = ['AAPL', 'MSFT', 'AMZN', 'GOOGL', 'META']"
   ]
  },
  {
   "cell_type": "code",
   "execution_count": 21,
   "metadata": {},
   "outputs": [
    {
     "name": "stdout",
     "output_type": "stream",
     "text": [
      "[*********************100%***********************]  5 of 5 completed\n"
     ]
    }
   ],
   "source": [
    "# Load the daily data for indices\n",
    "index_data = yf.download(indices, start='2010-01-01')['Adj Close']"
   ]
  },
  {
   "cell_type": "code",
   "execution_count": 22,
   "metadata": {},
   "outputs": [
    {
     "name": "stderr",
     "output_type": "stream",
     "text": [
      "c:\\Python 3.10.2\\lib\\site-packages\\numpy\\core\\fromnumeric.py:3472: FutureWarning: In a future version, DataFrame.mean(axis=None) will return a scalar mean over the entire DataFrame. To retain the old behavior, use 'frame.mean(axis=0)' or just 'frame.mean()'\n",
      "  return mean(axis=axis, dtype=dtype, out=out, **kwargs)\n"
     ]
    }
   ],
   "source": [
    "# Create an empty DataFrame to store equity data\n",
    "equity_data = pd.DataFrame()\n",
    "\n",
    "# Retrieve data for each equity\n",
    "for equity in equities:\n",
    "    equity_ticker = yf.Ticker(equity)\n",
    "    equity_history = equity_ticker.history(start='2010-01-01')\n",
    "    equity_data[equity] = equity_history['Close']\n",
    "\n",
    "# Convert equity_data to time zone-naive\n",
    "equity_data = equity_data.tz_localize(None)\n",
    "\n",
    "# Combine index and equity data\n",
    "data = pd.concat([index_data, equity_data], axis=1)\n",
    "\n",
    "# Calculate daily returns\n",
    "returns = data.pct_change().dropna()\n",
    "\n",
    "# Calculate cumulative returns\n",
    "cumulative_returns = (1 + returns).cumprod()\n",
    "\n",
    "# Calculate maximum drawdowns\n",
    "roll_max = cumulative_returns.rolling(window=len(cumulative_returns), min_periods=1).max()\n",
    "daily_drawdown = cumulative_returns / roll_max - 1.0\n",
    "max_drawdown = daily_drawdown.min()\n",
    "\n",
    "# Calculate volatility\n",
    "volatility = returns.std() * np.sqrt(252)\n",
    "\n",
    "# Calculate the Sharpe ratio\n",
    "risk_free_rate = 0.0  # Assuming no risk-free rate for simplicity\n",
    "daily_risk_free_rate = (1 + risk_free_rate) ** (1/252) - 1\n",
    "excess_returns = returns - daily_risk_free_rate\n",
    "sharpe_ratio = np.mean(excess_returns) / np.std(returns) * np.sqrt(252)\n",
    "\n",
    "# Calculate the Sortino ratio\n",
    "downside_returns = returns.copy()\n",
    "downside_returns[downside_returns > 0] = 0\n",
    "sortino_ratio = np.mean(excess_returns) / np.std(downside_returns) * np.sqrt(252)"
   ]
  },
  {
   "cell_type": "code",
   "execution_count": 23,
   "metadata": {},
   "outputs": [
    {
     "name": "stdout",
     "output_type": "stream",
     "text": [
      "Index Metrics:\n",
      "           Cumulative Returns  Volatility  Max Drawdown  Sharpe Ratio  \\\n",
      "^GSPC                3.236500    0.170295     -0.339250      0.693000   \n",
      "^FTSE                1.472562    0.153952     -0.366055      0.298716   \n",
      "^N225                3.577661    0.200291     -0.317989      0.660840   \n",
      "^GDAXI               2.595249    0.191743     -0.387794      0.534257   \n",
      "000001.SS            1.400517    0.198933     -0.522997      0.249342   \n",
      "\n",
      "           Sortino Ratio  \n",
      "^GSPC           1.065486  \n",
      "^FTSE           0.458608  \n",
      "^N225           1.066130  \n",
      "^GDAXI          0.841053  \n",
      "000001.SS       0.371935  \n",
      "\n",
      "Equity Metrics:\n",
      "       Cumulative Returns  Volatility  Max Drawdown  Sharpe Ratio  \\\n",
      "AAPL            10.879682    0.283936     -0.437972      0.882816   \n",
      "MSFT            13.449192    0.263834     -0.371485      0.999781   \n",
      "AMZN            10.872107    0.319305     -0.561453      0.817552   \n",
      "GOOGL            8.170369    0.266885     -0.443201      0.826215   \n",
      "META             6.425320    0.400144     -0.767361      0.609893   \n",
      "\n",
      "       Sortino Ratio  \n",
      "AAPL        1.449058  \n",
      "MSFT        1.665968  \n",
      "AMZN        1.375847  \n",
      "GOOGL       1.393160  \n",
      "META        0.997871  \n"
     ]
    }
   ],
   "source": [
    "# Create tables for indices and equities\n",
    "index_metrics = pd.DataFrame({'Cumulative Returns': cumulative_returns.iloc[-1],\n",
    "                              'Volatility': volatility,\n",
    "                              'Max Drawdown': max_drawdown,\n",
    "                              'Sharpe Ratio': sharpe_ratio,\n",
    "                              'Sortino Ratio': sortino_ratio},\n",
    "                             index=indices)\n",
    "\n",
    "equity_metrics = pd.DataFrame({'Cumulative Returns': cumulative_returns.iloc[-1, len(indices):],\n",
    "                               'Volatility': volatility[len(indices):],\n",
    "                               'Max Drawdown': max_drawdown[len(indices):],\n",
    "                               'Sharpe Ratio': sharpe_ratio[len(indices):],\n",
    "                               'Sortino Ratio': sortino_ratio[len(indices):]},\n",
    "                              index=equities)\n",
    "\n",
    "# Display the tables\n",
    "print(\"Index Metrics:\")\n",
    "print(index_metrics)\n",
    "print(\"\\nEquity Metrics:\")\n",
    "print(equity_metrics)\n"
   ]
  },
  {
   "cell_type": "code",
   "execution_count": null,
   "metadata": {},
   "outputs": [],
   "source": [
    "index_metrics.to_csv('./Index.csv')\n",
    "equity_metrics.to_csv('./Equity.csv')"
   ]
  },
  {
   "attachments": {},
   "cell_type": "markdown",
   "metadata": {},
   "source": [
    "## Indices\n",
    "|                     | S&P 500 (GSPC) | FTSE 100 (FTSE) | Nikkei 225 (N225) | DAX (GDAXI) | SSE Composite Index (000001.SS) |\n",
    "|---------------------|----------------|-----------------|-------------------|-------------|-------------------------------|\n",
    "| Cumulative Returns  | 3.2365         | 1.472562        | 3.577661          | 2.595249    | 1.400517                      |\n",
    "| Volatility          | 0.170295       | 0.153952        | 0.200291          | 0.191743    | 0.198933                      |\n",
    "| Max Drawdown        | -0.33925       | -0.36606        | -0.31799          | -0.38779    | -0.523                        |\n",
    "| Sharpe Ratio        | 0.693          | 0.298716        | 0.66084           | 0.534257    | 0.249342                      |\n",
    "| Sortino Ratio       | 1.065486       | 0.458608        | 1.06613           | 0.841053    | 0.371935                      |\n"
   ]
  },
  {
   "attachments": {},
   "cell_type": "markdown",
   "metadata": {},
   "source": [
    "## Equity\n",
    "\n",
    "|                   | AAPL         | MSFT         | AMZN         | GOOGL        | META         |\n",
    "|-------------------|--------------|--------------|--------------|--------------|--------------|\n",
    "| Cumulative Returns| 10.87968223  | 13.44919227  | 10.8721065   | 8.170369043  | 6.42532049   |\n",
    "| Volatility        | 0.283936354  | 0.263834026  | 0.319304597  | 0.26688514   | 0.400144226  |\n",
    "| Max Drawdown      | -0.437971701 | -0.371484853 | -0.561452633 | -0.443200514 | -0.767360915 |\n",
    "| Sharpe Ratio      | 0.882815832  | 0.999781308  | 0.817551739  | 0.826214825  | 0.609892954  |\n",
    "| Sortino Ratio     | 1.449057739  | 1.665967534  | 1.375846545  | 1.393160141  | 0.997870649  |"
   ]
  }
 ],
 "metadata": {
  "kernelspec": {
   "display_name": "Python 3",
   "language": "python",
   "name": "python3"
  },
  "language_info": {
   "codemirror_mode": {
    "name": "ipython",
    "version": 3
   },
   "file_extension": ".py",
   "mimetype": "text/x-python",
   "name": "python",
   "nbconvert_exporter": "python",
   "pygments_lexer": "ipython3",
   "version": "3.10.2"
  },
  "orig_nbformat": 4
 },
 "nbformat": 4,
 "nbformat_minor": 2
}
