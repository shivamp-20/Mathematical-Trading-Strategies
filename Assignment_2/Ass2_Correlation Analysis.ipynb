{
 "cells": [
  {
   "cell_type": "code",
   "execution_count": 4,
   "id": "fb8a67d4",
   "metadata": {},
   "outputs": [
    {
     "name": "stdout",
     "output_type": "stream",
     "text": [
      "[*********************100%***********************]  1 of 1 completed\n",
      "[*********************100%***********************]  1 of 1 completed\n",
      "Correlation Coefficient: 0.07686020111253956\n",
      "The relationship between NASDAQ and NSE is weak or no.\n"
     ]
    }
   ],
   "source": [
    "import pandas as pd\n",
    "import pandas_datareader.data as web\n",
    "import yfinance as yf\n",
    "\n",
    "# Define the start and end dates\n",
    "start_date = '2023-01-01'\n",
    "end_date = '2023-05-20'\n",
    "\n",
    "# Collect NASDAQ data\n",
    "nasdaq_data = yf.download('^IXIC', start=start_date, end=end_date)\n",
    "\n",
    "# Collect NSE data\n",
    "nse_data = yf.download('^NSEI', start=start_date, end=end_date)\n",
    "\n",
    "\n",
    "# Extract the closing prices for both indices\n",
    "nasdaq_close = nasdaq_data['Close']\n",
    "nse_close = nse_data['Close']\n",
    "\n",
    "# Combine the two series into a DataFrame\n",
    "combined_data = pd.concat([nasdaq_close, nse_close], axis=1)\n",
    "combined_data.columns = ['NASDAQ', 'NSE']\n",
    "\n",
    "# Calculate the correlation coefficient\n",
    "correlation_coefficient = combined_data['NASDAQ'].corr(combined_data['NSE'])\n",
    "\n",
    "# Analyze the relationship\n",
    "if correlation_coefficient > 0.33:\n",
    "    relationship_strength = 'strong positive'\n",
    "elif correlation_coefficient < -0.33:\n",
    "    relationship_strength = 'strong negative'\n",
    "else:\n",
    "    relationship_strength = 'weak or no'\n",
    "\n",
    "# Print the correlation coefficient and relationship analysis\n",
    "print(f\"Correlation Coefficient: {correlation_coefficient}\")\n",
    "print(f\"The relationship between NASDAQ and NSE is {relationship_strength}.\")\n"
   ]
  },
  {
   "cell_type": "code",
   "execution_count": null,
   "id": "c86b6f9b",
   "metadata": {},
   "outputs": [],
   "source": []
  }
 ],
 "metadata": {
  "kernelspec": {
   "display_name": "Python 3 (ipykernel)",
   "language": "python",
   "name": "python3"
  },
  "language_info": {
   "codemirror_mode": {
    "name": "ipython",
    "version": 3
   },
   "file_extension": ".py",
   "mimetype": "text/x-python",
   "name": "python",
   "nbconvert_exporter": "python",
   "pygments_lexer": "ipython3",
   "version": "3.10.5"
  }
 },
 "nbformat": 4,
 "nbformat_minor": 5
}
