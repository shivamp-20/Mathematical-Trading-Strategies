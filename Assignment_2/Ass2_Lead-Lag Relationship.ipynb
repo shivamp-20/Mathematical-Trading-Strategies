{
 "cells": [
  {
   "cell_type": "code",
   "execution_count": 19,
   "id": "5c2d99ef",
   "metadata": {},
   "outputs": [
    {
     "name": "stdout",
     "output_type": "stream",
     "text": [
      "[*********************100%***********************]  1 of 1 completed\n",
      "[*********************100%***********************]  1 of 1 completed\n",
      "Correlation Coefficient: 0.27562220282971744\n",
      "The NASDAQ index consistently leads the NSE index with a lag of 1 day(s). Incorporating the leading index's information into parameter optimization can improve accuracy by considering its predictive power for the lagging index.\n"
     ]
    }
   ],
   "source": [
    "import pandas as pd\n",
    "import yfinance as yf\n",
    "import matplotlib.pyplot as plt\n",
    "\n",
    "# Define the ticker symbols for NASDAQ and NSE indices\n",
    "nasdaq_ticker = \"^IXIC\"\n",
    "nse_ticker = \"^NSEI\"\n",
    "\n",
    "# Define the start and end dates\n",
    "start_date = '2010-01-01'\n",
    "end_date = '2023-05-20'\n",
    "\n",
    "# Collect NASDAQ data\n",
    "nasdaq_data = yf.download(nasdaq_ticker, start=start_date, end=end_date)\n",
    "nasdaq_close = nasdaq_data['Close']\n",
    "\n",
    "# Collect NSE data\n",
    "nse_data = yf.download(nse_ticker, start=start_date, end=end_date)\n",
    "nse_close = nse_data['Close']\n",
    "\n",
    "# Compute the daily returns for both indices\n",
    "nasdaq_returns = nasdaq_close.pct_change().dropna()\n",
    "nse_returns = nse_close.pct_change().dropna()\n",
    "\n",
    "# Perform correlation analysis\n",
    "correlation_coefficient = nasdaq_returns.corr(nse_returns)\n",
    "\n",
    "# Determine lead-lag relationship\n",
    "max_lag = 0\n",
    "leading_index = ''\n",
    "lagging_index = ''\n",
    "for lag in range(-30, 31):\n",
    "    nasdaq_shifted = nasdaq_returns.shift(lag)\n",
    "    corr = nasdaq_shifted.corr(nse_returns)\n",
    "    if corr > correlation_coefficient:\n",
    "        correlation_coefficient = corr\n",
    "        max_lag = lag\n",
    "\n",
    "if max_lag > 0:\n",
    "    leading_index = 'NASDAQ'\n",
    "    lagging_index = 'NSE'\n",
    "    lag = max_lag\n",
    "    relationship_direction = 'leads'\n",
    "elif max_lag < 0:\n",
    "    leading_index = 'NSE'\n",
    "    lagging_index = 'NASDAQ'\n",
    "    lag = -max_lag\n",
    "    relationship_direction = 'lags'\n",
    "else:\n",
    "    leading_index = 'NASDAQ and NSE'\n",
    "    lagging_index = 'each other'\n",
    "    lag = 0\n",
    "    relationship_direction = 'have no consistent lead or lag relationship'\n",
    "\n",
    "# Explanation for choosing the index for parameter optimization\n",
    "explanation = f\"The {leading_index} index consistently {relationship_direction} the {lagging_index} index with a lag of {lag} day(s). \" \\\n",
    "              f\"Incorporating the leading index's information into parameter optimization can improve accuracy by considering its predictive power for the lagging index.\"\n",
    "\n",
    "# Print the analysis results\n",
    "print(f\"Correlation Coefficient: {correlation_coefficient}\")\n",
    "print(explanation)\n"
   ]
  },
  {
   "cell_type": "code",
   "execution_count": null,
   "id": "d4b402b8",
   "metadata": {},
   "outputs": [],
   "source": []
  },
  {
   "cell_type": "code",
   "execution_count": null,
   "id": "ef7cd7cb",
   "metadata": {},
   "outputs": [],
   "source": []
  },
  {
   "cell_type": "code",
   "execution_count": null,
   "id": "81f46f25",
   "metadata": {},
   "outputs": [],
   "source": []
  },
  {
   "cell_type": "code",
   "execution_count": null,
   "id": "75681065",
   "metadata": {},
   "outputs": [],
   "source": []
  },
  {
   "cell_type": "code",
   "execution_count": null,
   "id": "7ce9c0bb",
   "metadata": {},
   "outputs": [],
   "source": []
  },
  {
   "cell_type": "code",
   "execution_count": null,
   "id": "e770af6d",
   "metadata": {},
   "outputs": [],
   "source": []
  },
  {
   "cell_type": "code",
   "execution_count": null,
   "id": "f99c3e6d",
   "metadata": {},
   "outputs": [],
   "source": []
  },
  {
   "cell_type": "code",
   "execution_count": null,
   "id": "3ad6df84",
   "metadata": {},
   "outputs": [],
   "source": []
  },
  {
   "cell_type": "code",
   "execution_count": null,
   "id": "0fea1628",
   "metadata": {},
   "outputs": [],
   "source": []
  }
 ],
 "metadata": {
  "kernelspec": {
   "display_name": "Python 3 (ipykernel)",
   "language": "python",
   "name": "python3"
  },
  "language_info": {
   "codemirror_mode": {
    "name": "ipython",
    "version": 3
   },
   "file_extension": ".py",
   "mimetype": "text/x-python",
   "name": "python",
   "nbconvert_exporter": "python",
   "pygments_lexer": "ipython3",
   "version": "3.10.5"
  }
 },
 "nbformat": 4,
 "nbformat_minor": 5
}
