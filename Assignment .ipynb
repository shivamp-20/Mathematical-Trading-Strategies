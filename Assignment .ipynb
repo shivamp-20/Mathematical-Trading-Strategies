{
 "cells": [
  {
   "cell_type": "code",
   "execution_count": 1,
   "id": "062d88ac",
   "metadata": {},
   "outputs": [
    {
     "name": "stdout",
     "output_type": "stream",
     "text": [
      "[*********************100%***********************]  10 of 10 completed\n",
      "       Daily Returns  Cumulative Returns  Max Drawdowns  Sharpe Ratio   \n",
      "AAPL        0.001099           26.083422      -0.437972      0.062020  \\\n",
      "AMZN        0.001007           15.750559      -0.561453      0.048976   \n",
      "GOOGL       0.000698            6.843728      -0.443201      0.041260   \n",
      "MSFT        0.000872           13.006320      -0.371485      0.053840   \n",
      "NFLX        0.001604           43.184555      -0.819904      0.050038   \n",
      "^DJI        0.000395            3.221683      -0.370862      0.037077   \n",
      "^FTSE       0.000155            1.430940      -0.366055      0.015320   \n",
      "^GSPC       0.000437            3.680068      -0.339250      0.039711   \n",
      "^IXIC       0.000563            5.296515      -0.363953      0.044112   \n",
      "^N225       0.000369            2.708307      -0.317989      0.028988   \n",
      "\n",
      "       Sortino Ratio  \n",
      "AAPL        0.103128  \n",
      "AMZN        0.082649  \n",
      "GOOGL       0.068742  \n",
      "MSFT        0.089947  \n",
      "NFLX        0.084603  \n",
      "^DJI        0.056779  \n",
      "^FTSE       0.023761  \n",
      "^GSPC       0.061136  \n",
      "^IXIC       0.068735  \n",
      "^N225       0.046221  \n"
     ]
    }
   ],
   "source": [
    "import yfinance as yf\n",
    "import pandas as pd\n",
    "import numpy as np\n",
    "tickers = [\"^GSPC\", \"^IXIC\", \"^DJI\", \"^FTSE\", \"^N225\", \"AAPL\", \"GOOGL\", \"MSFT\", \"AMZN\", \"NFLX\"]\n",
    "start_date = \"2010-01-01\"\n",
    "end_date = \"2023-05-01\"\n",
    "data = yf.download(tickers, start=start_date, end=end_date)[\"Adj Close\"]\n",
    "returns = data.pct_change()\n",
    "cumulative_returns = (1 + returns).cumprod()\n",
    "rolling_max = cumulative_returns.cummax()\n",
    "drawdowns = (cumulative_returns / rolling_max) - 1\n",
    "max_drawdowns = drawdowns.min()\n",
    "risk_free_rate = 0.0  # Assuming no risk-free rate\n",
    "daily_risk_free_rate = (1 + risk_free_rate) ** (1/252) - 1 \n",
    "excess_returns = returns - daily_risk_free_rate\n",
    "volatility = excess_returns.std()\n",
    "sharpe_ratios = (excess_returns.mean() / volatility)\n",
    "downside_returns = excess_returns.copy()\n",
    "downside_returns[downside_returns > 0] = 0\n",
    "downside_volatility = downside_returns.std()\n",
    "sortino_ratios = (excess_returns.mean() / downside_volatility)\n",
    "results = pd.DataFrame({\n",
    "    \"Daily Returns\": returns.mean(),\n",
    "    \"Cumulative Returns\": cumulative_returns.iloc[-1],\n",
    "    \"Max Drawdowns\": max_drawdowns,\n",
    "    \"Sharpe Ratio\": sharpe_ratios,\n",
    "    \"Sortino Ratio\": sortino_ratios\n",
    "})\n",
    "print(results)\n"
   ]
  }
 ],
 "metadata": {
  "kernelspec": {
   "display_name": "Python 3 (ipykernel)",
   "language": "python",
   "name": "python3"
  },
  "language_info": {
   "codemirror_mode": {
    "name": "ipython",
    "version": 3
   },
   "file_extension": ".py",
   "mimetype": "text/x-python",
   "name": "python",
   "nbconvert_exporter": "python",
   "pygments_lexer": "ipython3",
   "version": "3.9.6"
  }
 },
 "nbformat": 4,
 "nbformat_minor": 5
}
