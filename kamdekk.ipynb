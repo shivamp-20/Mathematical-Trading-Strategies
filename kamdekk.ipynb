{
 "cells": [
  {
   "cell_type": "code",
   "execution_count": null,
   "metadata": {},
   "outputs": [],
   "source": [
    "import numpy as np\n",
    "import pandas as pd\n",
    "import yfinance as yf"
   ]
  },
  {
   "cell_type": "code",
   "execution_count": null,
   "metadata": {},
   "outputs": [],
   "source": [
    "K600 = yf.download(tickers = \"^NYA\",start=\"2010-01-01\",\n",
    "                     end=\"2023-05-05\")\n"
   ]
  },
  {
   "cell_type": "code",
   "execution_count": null,
   "metadata": {},
   "outputs": [],
   "source": [
    "K600['daily_returns']=(K600['Close']-K600['Open'])/K600['Open']*100\n",
    "daily_returns=K600['daily_returns']\n",
    "daily_returnsvolatility=daily_returns.std()*(252**0.5)\n",
    "volatility"
   ]
  },
  {
   "cell_type": "code",
   "execution_count": null,
   "metadata": {},
   "outputs": [],
   "source": [
    "cumulative_returns=(1 + K600['daily_returns']/K600['Open']).cumprod()\n",
    "cumulative_returns"
   ]
  },
  {
   "cell_type": "code",
   "execution_count": null,
   "metadata": {},
   "outputs": [],
   "source": [
    "cumulative_max = K600['Close'].cummax()\n",
    "drawdowns = (K600['Close'] - cumulative_max)/cumulative_max\n",
    "max_drawdown = drawdowns.min()\n",
    "max_drawdown"
   ]
  },
  {
   "cell_type": "code",
   "execution_count": null,
   "metadata": {},
   "outputs": [],
   "source": [
    "annualized_mean_return = daily_returns.mean()*252\n",
    "annualized_std_dev = daily_returns.std() * (252**0.5)\n",
    "risk_free_rate=0\n",
    "sharpe_ratio=(annualized_mean_return-risk_free_rate)/annualized_std_dev\n",
    "sharpe_ratio"
   ]
  },
  {
   "cell_type": "code",
   "execution_count": null,
   "metadata": {},
   "outputs": [],
   "source": [
    "target_returns=0.8\n",
    "difference=daily_returns-target_returns\n",
    "negative_differences=np.minimum(difference, 0)\n",
    "squared_negative_differences=negative_differences**2\n",
    "average_squared_negative_differences=np.mean(squared_negative_differences)\n",
    "downside_deviation=np.sqrt(average_squared_negative_differences)\n",
    "sortino_ratio=(annualized_mean_return-target_returns)/downside_deviation\n",
    "sortino_ratio"
   ]
  }
 ],
 "metadata": {
  "language_info": {
   "name": "python"
  },
  "orig_nbformat": 4
 },
 "nbformat": 4,
 "nbformat_minor": 2
}
