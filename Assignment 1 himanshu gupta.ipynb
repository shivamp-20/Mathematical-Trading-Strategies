{
 "cells": [
  {
   "cell_type": "code",
   "execution_count": 32,
   "metadata": {},
   "outputs": [
    {
     "name": "stderr",
     "output_type": "stream",
     "text": [
      "C:\\Users\\Himanshu Gupta\\AppData\\Local\\Temp\\ipykernel_4100\\2010723511.py:5: MatplotlibDeprecationWarning: The seaborn styles shipped by Matplotlib are deprecated since 3.6, as they no longer correspond to the styles shipped by seaborn. However, they will remain available as 'seaborn-v0_8-<style>'. Alternatively, directly use the seaborn API instead.\n",
      "  plt.style.use('seaborn')\n"
     ]
    }
   ],
   "source": [
    "import pandas as pd\n",
    "import matplotlib.pyplot as plt\n",
    "from datetime import datetime\n",
    "import numpy as np\n",
    "plt.style.use('seaborn')\n",
    "\n",
    "import yfinance as yf\n",
    "\n"
   ]
  },
  {
   "cell_type": "code",
   "execution_count": 33,
   "metadata": {},
   "outputs": [],
   "source": [
    "indices=['^VIX','^NYA','^FCHI','^STI','^GDAXI']\n",
    "\n",
    "equities = ['TJX', 'GOOGL', 'AMZN', 'TSLA', 'SONY']"
   ]
  },
  {
   "cell_type": "code",
   "execution_count": 34,
   "metadata": {},
   "outputs": [
    {
     "name": "stdout",
     "output_type": "stream",
     "text": [
      "[*********************100%***********************]  5 of 5 completed\n"
     ]
    }
   ],
   "source": [
    "start_date='2010-01-01'\n",
    "end_date='2023-05-01'\n",
    "\n",
    "indices_data = yf.download(indices, start=start_date, end=end_date)['Adj Close']\n"
   ]
  },
  {
   "cell_type": "code",
   "execution_count": 35,
   "metadata": {},
   "outputs": [
    {
     "name": "stdout",
     "output_type": "stream",
     "text": [
      "[*********************100%***********************]  5 of 5 completed\n"
     ]
    }
   ],
   "source": [
    "\n",
    "equities_data = yf.download(equities, start=start_date, end=end_date)['Adj Close']"
   ]
  },
  {
   "cell_type": "code",
   "execution_count": 36,
   "metadata": {},
   "outputs": [],
   "source": [
    "indices_returns = indices_data.pct_change()\n",
    "equities_returns = equities_data.pct_change()\n"
   ]
  },
  {
   "cell_type": "code",
   "execution_count": 37,
   "metadata": {},
   "outputs": [],
   "source": [
    "indices_cumulative_returns = (1 + indices_returns).cumprod()\n",
    "equities_cumulative_returns = (1 + equities_returns).cumprod()\n"
   ]
  },
  {
   "cell_type": "code",
   "execution_count": 38,
   "metadata": {},
   "outputs": [
    {
     "name": "stdout",
     "output_type": "stream",
     "text": [
      "               ^FCHI    ^GDAXI      ^NYA      ^STI      ^VIX\n",
      "Date                                                        \n",
      "2010-01-04       NaN       NaN       NaN       NaN       NaN\n",
      "2010-01-05  0.999736  0.997282  1.003839  1.008889  0.965569\n",
      "2010-01-06  1.000922  0.997690  1.006955  1.012416  0.956088\n",
      "2010-01-07  1.002698  0.995215  1.009171  1.006460  0.951098\n",
      "2010-01-08  1.007765  0.998233  1.013459  1.009746  0.904691\n",
      "...              ...       ...       ...       ...       ...\n",
      "2023-04-24  1.886875  2.622878  2.130103  1.148555  0.842814\n",
      "2023-04-25  1.876349  2.624230  2.096912  1.138885  0.936128\n",
      "2023-04-26  1.860168  2.611598  2.078493  1.137970  0.940120\n",
      "2023-04-27  1.864448  2.612379  2.106208  1.133865  0.849800\n",
      "2023-04-28  1.866357  2.632538  2.121800  1.129885  0.787425\n",
      "\n",
      "[3442 rows x 5 columns]\n"
     ]
    }
   ],
   "source": [
    "print(indices_cumulative_returns)\n"
   ]
  },
  {
   "cell_type": "code",
   "execution_count": 39,
   "metadata": {},
   "outputs": [
    {
     "name": "stdout",
     "output_type": "stream",
     "text": [
      "                 AMZN     GOOGL      SONY        TJX        TSLA\n",
      "Date                                                            \n",
      "2010-01-04        NaN       NaN       NaN        NaN         NaN\n",
      "2010-01-05   1.005900  0.995596  0.995336   1.026914         NaN\n",
      "2010-01-06   0.987677  0.970499  0.994337   1.031076         NaN\n",
      "2010-01-07   0.970874  0.947906  0.992672   1.083796         NaN\n",
      "2010-01-08   0.997162  0.960543  1.012991   1.069645         NaN\n",
      "...               ...       ...       ...        ...         ...\n",
      "2023-04-24  15.864077  6.756380  3.049967  10.365933  102.061514\n",
      "2023-04-25  15.320388  6.621214  3.023318  10.142853  100.881101\n",
      "2023-04-26  15.680359  6.612288  3.124917  10.224694   96.536188\n",
      "2023-04-27  16.403286  6.859667  3.167555  10.420054  100.579722\n",
      "2023-04-28  15.750559  6.843728  2.987009  10.404213  103.166575\n",
      "\n",
      "[3353 rows x 5 columns]\n"
     ]
    }
   ],
   "source": [
    "print(equities_cumulative_returns)"
   ]
  },
  {
   "cell_type": "code",
   "execution_count": 40,
   "metadata": {},
   "outputs": [],
   "source": [
    "def calculate_max_drawdown(data):\n",
    "    cumulative_returns = (1 + data).cumprod()\n",
    "    peak = cumulative_returns.expanding(min_periods=1).max()\n",
    "    drawdown = (cumulative_returns / peak) - 1\n",
    "    max_drawdown = drawdown.min()\n",
    "    return max_drawdown\n",
    "\n",
    "indices_max_drawdowns = calculate_max_drawdown(indices_returns)\n",
    "equities_max_drawdowns = calculate_max_drawdown(equities_returns)\n"
   ]
  },
  {
   "cell_type": "code",
   "execution_count": 41,
   "metadata": {},
   "outputs": [
    {
     "name": "stdout",
     "output_type": "stream",
     "text": [
      "^FCHI    -0.385585\n",
      "^GDAXI   -0.387794\n",
      "^NYA     -0.381142\n",
      "^STI     -0.382211\n",
      "^VIX     -0.818479\n",
      "dtype: float64\n",
      "AMZN    -0.561453\n",
      "GOOGL   -0.443201\n",
      "SONY    -0.761869\n",
      "TJX     -0.425535\n",
      "TSLA    -0.736322\n",
      "dtype: float64\n"
     ]
    }
   ],
   "source": [
    "print(indices_max_drawdowns)\n",
    "print(equities_max_drawdowns)"
   ]
  },
  {
   "cell_type": "code",
   "execution_count": 42,
   "metadata": {},
   "outputs": [],
   "source": [
    "risk_free_rate = 0.0  # Set the risk-free rate\n",
    "\n",
    "def calculate_sharpe_ratio(data, risk_free_rate):\n",
    "    excess_returns = data - risk_free_rate\n",
    "    annualized_returns = excess_returns.mean() * 252  # Assuming 252 trading days in a year\n",
    "    annualized_volatility = data.std() * np.sqrt(252)\n",
    "    sharpe_ratio = annualized_returns / annualized_volatility\n",
    "    return sharpe_ratio\n",
    "\n",
    "def calculate_sortino_ratio(data, risk_free_rate):\n",
    "    downside_returns = data.copy()\n",
    "    downside_returns[downside_returns > 0] = 0  # Consider only negative returns for downside\n",
    "    annualized_returns = data.mean() * 252\n",
    "    downside_deviation = downside_returns.std() * np.sqrt(252)\n",
    "    sortino_ratio = (annualized_returns - risk_free_rate) / downside_deviation\n",
    "    return sortino_ratio\n",
    "\n",
    "indices_sharpe_ratio = calculate_sharpe_ratio(indices_returns, risk_free_rate)\n",
    "indices_sortino_ratio = calculate_sortino_ratio(indices_returns,risk_free_rate)\n"
   ]
  },
  {
   "cell_type": "code",
   "execution_count": 43,
   "metadata": {},
   "outputs": [],
   "source": [
    "equities_sharpe_ratio=calculate_sharpe_ratio(equities_returns,risk_free_rate)\n",
    "equities_sortino_ratio=calculate_sortino_ratio(equities_returns,risk_free_rate)"
   ]
  },
  {
   "cell_type": "code",
   "execution_count": 44,
   "metadata": {},
   "outputs": [
    {
     "name": "stdout",
     "output_type": "stream",
     "text": [
      "AMZN     0.790264\n",
      "GOOGL    0.665747\n",
      "SONY     0.415726\n",
      "TJX      0.813747\n",
      "TSLA     0.916188\n",
      "dtype: float64\n",
      "AMZN     1.339940\n",
      "GOOGL    1.114266\n",
      "SONY     0.717438\n",
      "TJX      1.359297\n",
      "TSLA     1.588879\n",
      "dtype: float64\n"
     ]
    }
   ],
   "source": [
    "print(equities_sharpe_ratio)\n",
    "print(equities_sortino_ratio)"
   ]
  },
  {
   "cell_type": "code",
   "execution_count": 45,
   "metadata": {},
   "outputs": [
    {
     "name": "stdout",
     "output_type": "stream",
     "text": [
      "^FCHI     0.326903\n",
      "^GDAXI    0.453788\n",
      "^NYA      0.405123\n",
      "^STI      0.133931\n",
      "^VIX      0.582936\n",
      "dtype: float64\n",
      "^FCHI     0.515102\n",
      "^GDAXI    0.716414\n",
      "^NYA      0.616927\n",
      "^STI      0.209181\n",
      "^VIX      1.260121\n",
      "dtype: float64\n"
     ]
    }
   ],
   "source": [
    "print(indices_sharpe_ratio)\n",
    "print(indices_sortino_ratio)"
   ]
  }
 ],
 "metadata": {
  "kernelspec": {
   "display_name": "Python 3",
   "language": "python",
   "name": "python3"
  },
  "language_info": {
   "codemirror_mode": {
    "name": "ipython",
    "version": 3
   },
   "file_extension": ".py",
   "mimetype": "text/x-python",
   "name": "python",
   "nbconvert_exporter": "python",
   "pygments_lexer": "ipython3",
   "version": "3.10.4"
  },
  "orig_nbformat": 4
 },
 "nbformat": 4,
 "nbformat_minor": 2
}
