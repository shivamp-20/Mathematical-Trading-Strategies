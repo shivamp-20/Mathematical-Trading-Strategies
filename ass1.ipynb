{
 "cells": [
  {
   "cell_type": "code",
   "execution_count": 1,
   "id": "d955dff6",
   "metadata": {},
   "outputs": [
    {
     "name": "stdout",
     "output_type": "stream",
     "text": [
      "[*********************100%***********************]  1 of 1 completed\n",
      "commulativeReturn: 2265.4312553755735 %\n",
      "volatility:  1.0458304138803356\n",
      "MDD:  51.75377984181251 %\n",
      "Sharpe Ratio:  -5.691638897488638\n",
      "Sortino Ratio:  -6.333596714500028\n"
     ]
    }
   ],
   "source": [
    "import pandas as pd\n",
    "import yfinance as yf\n",
    "import matplotlib.pyplot as plt\n",
    "import numpy as np\n",
    "import math\n",
    "rfr=0.0425 #risk free rate\n",
    "def calculate_max_drop(prices):\n",
    "    max_drop = 0\n",
    "    min_price= 0\n",
    "    for i in range(len(prices) - 1):\n",
    "        for j in range(i + 1, len(prices)):\n",
    "            drop = prices[i] - prices[j]\n",
    "            if drop > max_drop:\n",
    "                min_price =prices[j]\n",
    "                max_drop = drop\n",
    "    return (max_drop/min_price)*100\n",
    "# index =yf.Ticker('^IXIC')\n",
    "# si=index.info\n",
    "# for key,value in si.items():\n",
    "#     print(key,\":\",value)\n",
    "data = yf.download('AMZN','2010-01-01','2021-05-17')\n",
    "# print(data)\n",
    "open=np.array(data['Open'].tolist())\n",
    "close=np.array(data['Close'].tolist())\n",
    "# print(((close -open)*100/open).reshape(len(open),1))  #it is daily data  printing \n",
    "commulativeReturn=100*(close[len(close)-1]-open[0])/open[0]\n",
    "print(\"commulativeReturn:\",commulativeReturn,\"%\")\n",
    "sum=0\n",
    "sqsum=0\n",
    "dr=(close - open)\n",
    "\n",
    "for x in dr:\n",
    "    sum=sum+x\n",
    "    sqsum=sqsum+x*x;\n",
    "\n",
    "volatility=math.sqrt((sqsum/len(open))-(sum/len(open))*(sum/len(open)))\n",
    "print(\"volatility: \" ,volatility)\n",
    "\n",
    "MDD=calculate_max_drop(close)\n",
    "print( \"MDD: \",MDD,\"%\")\n",
    "\n",
    "#sharpe ratio\n",
    "excessReturnMean=(sum/len(dr))-rfr\n",
    "\n",
    "excessReturnSD=math.sqrt((sqsum/len(open))-((sum+rfr)/len(open))*((sum+rfr)/len(open)))\n",
    "sharpeRatio = excessReturnMean/excessReturnSD\n",
    "print(\"Sharpe Ratio: \",sharpeRatio*100)\n",
    "#Sortino Ratio\n",
    "negativeReturn = dr[dr<0]\n",
    "DownsideDaviation =negativeReturn.std()\n",
    "# print(negativeReturn)\n",
    "sortinoRatio =excessReturnMean/DownsideDaviation\n",
    "print(\"Sortino Ratio: \",sortinoRatio*100)\n",
    "\n"
   ]
  },
  {
   "cell_type": "code",
   "execution_count": null,
   "id": "9a4509e2",
   "metadata": {},
   "outputs": [],
   "source": []
  }
 ],
 "metadata": {
  "kernelspec": {
   "display_name": "Python 3 (ipykernel)",
   "language": "python",
   "name": "python3"
  },
  "language_info": {
   "codemirror_mode": {
    "name": "ipython",
    "version": 3
   },
   "file_extension": ".py",
   "mimetype": "text/x-python",
   "name": "python",
   "nbconvert_exporter": "python",
   "pygments_lexer": "ipython3",
   "version": "3.10.9"
  }
 },
 "nbformat": 4,
 "nbformat_minor": 5
}
