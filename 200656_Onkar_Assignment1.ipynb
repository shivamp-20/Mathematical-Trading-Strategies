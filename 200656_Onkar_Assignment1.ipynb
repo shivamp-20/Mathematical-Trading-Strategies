{
 "cells": [
  {
   "cell_type": "code",
   "execution_count": 2,
   "id": "974d5554",
   "metadata": {},
   "outputs": [],
   "source": [
    "import yfinance as yf\n",
    "import pandas as pd\n",
    "import numpy as np"
   ]
  },
  {
   "cell_type": "code",
   "execution_count": 3,
   "id": "2941fe0a",
   "metadata": {},
   "outputs": [],
   "source": [
    "indices = ['^GSPC', '^IXIC', '^GDAXI', '^HSI', '^N225']\n",
    "equities = ['AAPL', 'AMZN', 'GOOGL', 'MSFT', 'TSLA']"
   ]
  },
  {
   "cell_type": "code",
   "execution_count": 11,
   "id": "cdadc078",
   "metadata": {},
   "outputs": [
    {
     "name": "stdout",
     "output_type": "stream",
     "text": [
      "[*********************100%***********************]  10 of 10 completed\n"
     ]
    }
   ],
   "source": [
    "start_date = \"2010-01-01\"\n",
    "end_date = \"2023-05-01\"\n",
    "\n",
    "data = yf.download(indices + equities, start=start_date, end=end_date)['Adj Close']"
   ]
  },
  {
   "cell_type": "code",
   "execution_count": 19,
   "id": "9eda8311",
   "metadata": {},
   "outputs": [],
   "source": [
    "peak_value = data.max()\n",
    "trough_value = data.min()\n",
    "max_drawdowns = (trough_value - peak_value)/peak_value"
   ]
  },
  {
   "cell_type": "code",
   "execution_count": 30,
   "id": "21095fbc",
   "metadata": {},
   "outputs": [],
   "source": [
    "'''\n",
    "Risk free rates for 10 Year on May 1 2023\n",
    "'''\n",
    "\n",
    "US = 0.0353  #AAPL, AMZN, GOOGL, MSFT, TSlA, ^GSPC, ^IXIC\n",
    "Germany = 0.0304  #^GDAXI\n",
    "HKong = (0.0119*1 + 0.0426*3)/5 #^HSI (Linear interpolation between apr 28 and may 2)\n",
    "Japan = 0.006    #^N225"
   ]
  },
  {
   "cell_type": "code",
   "execution_count": 31,
   "id": "55494eff",
   "metadata": {},
   "outputs": [],
   "source": [
    "Risk_free_rates = [US, US, US, US, US, Germany, US, HKong, US, Japan]"
   ]
  },
  {
   "cell_type": "code",
   "execution_count": 12,
   "id": "30afcc5a",
   "metadata": {},
   "outputs": [],
   "source": [
    "returns = data.pct_change()"
   ]
  },
  {
   "cell_type": "code",
   "execution_count": 13,
   "id": "ea4070d8",
   "metadata": {},
   "outputs": [],
   "source": [
    "cumulative_returns = (1 + returns).cumprod() - 1"
   ]
  },
  {
   "cell_type": "code",
   "execution_count": 14,
   "id": "6cc7cdd6",
   "metadata": {},
   "outputs": [],
   "source": [
    "rolling_max = cumulative_returns.rolling(window=len(cumulative_returns), min_periods=1).max()\n",
    "drawdowns = cumulative_returns / rolling_max - 1\n"
   ]
  },
  {
   "cell_type": "code",
   "execution_count": 50,
   "id": "49bc2281",
   "metadata": {},
   "outputs": [],
   "source": [
    "excess_returns = returns*255 - Risk_free_rates\n",
    "annual = returns*255\n",
    "sharpe_ratio = excess_returns.mean() / (returns.std() * np.sqrt(252))"
   ]
  },
  {
   "cell_type": "code",
   "execution_count": 51,
   "id": "765d4a75",
   "metadata": {},
   "outputs": [],
   "source": [
    "downside_returns = np.where(returns < 0, returns, 0)\n",
    "sortino_ratio = excess_returns.mean() / (downside_returns.std() * np.sqrt(252))"
   ]
  },
  {
   "cell_type": "code",
   "execution_count": 52,
   "id": "77b066f4",
   "metadata": {},
   "outputs": [],
   "source": [
    "volatility = returns.std()*np.sqrt(252)"
   ]
  },
  {
   "cell_type": "code",
   "execution_count": 53,
   "id": "44c96344",
   "metadata": {},
   "outputs": [
    {
     "name": "stdout",
     "output_type": "stream",
     "text": [
      "Metrics for Indices and Equities:\n",
      "        Volatility  Cumulative Returns  Max Drawdown  Sharpe Ratio  \\\n",
      "AAPL      0.281276           25.083426     -0.967691      0.870323   \n",
      "AMZN      0.326308           14.750559     -0.970893      0.678203   \n",
      "GOOGL     0.268456            5.843728     -0.927170      0.530993   \n",
      "MSFT      0.257072           12.006318     -0.947725      0.727167   \n",
      "TSLA      0.564307          102.166575     -0.997431      0.849101   \n",
      "^GDAXI    0.200038            1.632538     -0.688274      0.305559   \n",
      "^GSPC     0.174666            2.680068     -0.786810      0.435525   \n",
      "^HSI      0.196581           -0.088379     -0.557008     -0.077339   \n",
      "^IXIC     0.202644            4.296515     -0.869731      0.534083   \n",
      "^N225     0.201934            1.708307     -0.733943      0.435742   \n",
      "\n",
      "        Sortino Ratio  \n",
      "AAPL         1.399279  \n",
      "AMZN         1.264967  \n",
      "GOOGL        0.814804  \n",
      "MSFT         1.068513  \n",
      "TSLA         2.738837  \n",
      "^GDAXI       0.349380  \n",
      "^GSPC        0.434823  \n",
      "^HSI        -0.086902  \n",
      "^IXIC        0.618634  \n",
      "^N225        0.502957  \n"
     ]
    }
   ],
   "source": [
    "metrics = pd.DataFrame({\n",
    "    'Volatility': volatility,\n",
    "    'Cumulative Returns': cumulative_returns.iloc[-1],\n",
    "    'Max Drawdown': max_drawdowns,\n",
    "    'Sharpe Ratio': sharpe_ratio,\n",
    "    'Sortino Ratio': sortino_ratio\n",
    "})\n",
    "\n",
    "print(\"Metrics for Indices and Equities:\")\n",
    "print(metrics)"
   ]
  },
  {
   "cell_type": "code",
   "execution_count": null,
   "id": "dc3f72a0",
   "metadata": {},
   "outputs": [],
   "source": []
  }
 ],
 "metadata": {
  "kernelspec": {
   "display_name": "Python 3 (ipykernel)",
   "language": "python",
   "name": "python3"
  },
  "language_info": {
   "codemirror_mode": {
    "name": "ipython",
    "version": 3
   },
   "file_extension": ".py",
   "mimetype": "text/x-python",
   "name": "python",
   "nbconvert_exporter": "python",
   "pygments_lexer": "ipython3",
   "version": "3.9.13"
  }
 },
 "nbformat": 4,
 "nbformat_minor": 5
}
