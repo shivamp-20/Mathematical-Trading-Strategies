{
 "cells": [
  {
   "cell_type": "code",
   "execution_count": 2,
   "id": "ae29e73e",
   "metadata": {
    "scrolled": true
   },
   "outputs": [],
   "source": [
    "import pandas as pd \n",
    "import numpy as np \n",
    "import matplotlib.pyplot as plt \n",
    "import math\n",
    "import yfinance as yf"
   ]
  },
  {
   "cell_type": "code",
   "execution_count": 3,
   "id": "2f4e177c",
   "metadata": {},
   "outputs": [],
   "source": [
    "#ticker= \"DELTACORP.NS\"\n",
    "#ticker= \"TATASTEEL.NS\" \n",
    "#ticker= \"ITC.NS\"\n",
    "#ticker= \"INFY\"\n",
    "#ticker= \"HINDUNILVR.NS\"\n",
    "ticker= \"^GSPC\"  #S&P 500          \n",
    "#ticker= \"^GDAXI\" #DAX              \n",
    "#ticker= \"^DJI\"   #Dow Jones        \n",
    "#ticker= \"^IXIC\"  #Nasdaq           \n",
    "#ticker= \"^FTSE\"  #FTSE "
   ]
  },
  {
   "cell_type": "code",
   "execution_count": 4,
   "id": "8458b6da",
   "metadata": {},
   "outputs": [
    {
     "name": "stdout",
     "output_type": "stream",
     "text": [
      "[*********************100%***********************]  1 of 1 completed\n",
      "                   Open         High          Low        Close    Adj Close  \\\n",
      "Date                                                                          \n",
      "2010-01-04  1116.560059  1133.869995  1116.560059  1132.989990  1132.989990   \n",
      "2010-01-05  1132.660034  1136.630005  1129.660034  1136.520020  1136.520020   \n",
      "2010-01-06  1135.709961  1139.189941  1133.949951  1137.140015  1137.140015   \n",
      "2010-01-07  1136.270020  1142.459961  1131.319946  1141.689941  1141.689941   \n",
      "2010-01-08  1140.520020  1145.390015  1136.219971  1144.979980  1144.979980   \n",
      "\n",
      "                Volume  \n",
      "Date                    \n",
      "2010-01-04  3991400000  \n",
      "2010-01-05  2491020000  \n",
      "2010-01-06  4972660000  \n",
      "2010-01-07  5270680000  \n",
      "2010-01-08  4389590000  \n",
      "Date\n",
      "2010-01-04         NaN\n",
      "2010-01-05    0.003116\n",
      "2010-01-06    0.000546\n",
      "2010-01-07    0.004001\n",
      "2010-01-08    0.002882\n",
      "                ...   \n",
      "2023-05-09   -0.004579\n",
      "2023-05-10    0.004484\n",
      "2023-05-11   -0.001697\n",
      "2023-05-12   -0.001583\n",
      "2023-05-15    0.002958\n",
      "Name: Daily Returns, Length: 3364, dtype: float64\n"
     ]
    }
   ],
   "source": [
    "# getting the data from yfinance\n",
    "data=yf.download(ticker, start=\"2010-1-1\", end=\"2023-5-16\")\n",
    "print(data.head())\n",
    "data['Daily Returns']= data['Adj Close'].pct_change() #daily returns\n",
    "print(data['Daily Returns'])"
   ]
  },
  {
   "cell_type": "code",
   "execution_count": 5,
   "id": "50cc4680",
   "metadata": {},
   "outputs": [
    {
     "name": "stdout",
     "output_type": "stream",
     "text": [
      "      Daily Returns\n",
      "3363     265.076463\n"
     ]
    }
   ],
   "source": [
    "#cumulative returns\n",
    "cuml_returns= (data['Daily Returns']+1).cumprod()-1\n",
    "cuml_returns=cuml_returns.reset_index()\n",
    "cuml_return_entire_period = cuml_returns.iloc[:, 1:].tail(1)\n",
    "cuml_return_entire_period_perc= cuml_return_entire_period * 100\n",
    "print(cuml_return_entire_period_perc)"
   ]
  },
  {
   "cell_type": "code",
   "execution_count": 6,
   "id": "b75d8356",
   "metadata": {},
   "outputs": [
    {
     "name": "stdout",
     "output_type": "stream",
     "text": [
      "Annual volatility: ^GSPC : 0.18%\n"
     ]
    }
   ],
   "source": [
    "#volatility\n",
    "daily_volatility = data['Daily Returns'].std()\n",
    "monthly_volatility = math.sqrt(21) * daily_volatility\n",
    "annual_volatility = math.sqrt(252) * daily_volatility\n",
    "print('Annual volatility:', ticker,\":\", '{:.2f}%'.format(annual_volatility))"
   ]
  },
  {
   "cell_type": "code",
   "execution_count": 10,
   "id": "d80d7eba",
   "metadata": {},
   "outputs": [],
   "source": [
    "#risk free rate\n",
    "risk_free_rate= 0.393\n",
    "#rfr (risk free rate) (India)= 6.906%\n",
    "#S&P 500          rfr= 3.93%\n",
    "#DAX              rfr= 1.2%\n",
    "#Dow Jones        rfr= 6.40%\n",
    "#Nasdaq           rfr= 3.5%\n",
    "#FTSE             rfr= 3.779%"
   ]
  },
  {
   "cell_type": "code",
   "execution_count": 11,
   "id": "d20a1a0a",
   "metadata": {},
   "outputs": [
    {
     "name": "stdout",
     "output_type": "stream",
     "text": [
      "-1.6678688550913559\n"
     ]
    }
   ],
   "source": [
    "#sharpe ratio\n",
    "returns = np.log(data['Close'] / data['Close'].shift(1))\n",
    "mean_annual_return= returns.mean()*252\n",
    "sharpe_ratio= (mean_annual_return-risk_free_rate)/annual_volatility\n",
    "print(sharpe_ratio)"
   ]
  },
  {
   "cell_type": "code",
   "execution_count": 12,
   "id": "2db6e2ef",
   "metadata": {},
   "outputs": [
    {
     "name": "stdout",
     "output_type": "stream",
     "text": [
      "12.723253195945972\n"
     ]
    }
   ],
   "source": [
    "#sortino ratio\n",
    "return_data= np.prod((data['Daily Returns']+1))-1\n",
    "data['Downside Deviation']= data[data['Daily Returns']<0]['Daily Returns']\n",
    "data_downside_deviation= data['Daily Returns'].std()*np.sqrt(252)\n",
    "sortino_ratio= (return_data-risk_free_rate)/data_downside_deviation\n",
    "print(sortino_ratio)"
   ]
  },
  {
   "cell_type": "code",
   "execution_count": 13,
   "id": "14b8af44",
   "metadata": {},
   "outputs": [],
   "source": [
    "window=252 #trading days"
   ]
  },
  {
   "cell_type": "code",
   "execution_count": 14,
   "id": "094a464f",
   "metadata": {},
   "outputs": [
    {
     "name": "stdout",
     "output_type": "stream",
     "text": [
      "Date\n",
      "2010-01-04    0.000000\n",
      "2010-01-05    0.000000\n",
      "2010-01-06    0.000000\n",
      "2010-01-07    0.000000\n",
      "2010-01-08    0.000000\n",
      "                ...   \n",
      "2023-05-09   -0.254251\n",
      "2023-05-10   -0.254251\n",
      "2023-05-11   -0.254251\n",
      "2023-05-12   -0.254251\n",
      "2023-05-15   -0.254251\n",
      "Name: Adj Close, Length: 3364, dtype: float64\n"
     ]
    }
   ],
   "source": [
    "#maximum drawdown\n",
    "roll_max= data['Adj Close'].rolling(window, min_periods=1).max()\n",
    "daily_drawdown= data['Adj Close']/roll_max-1.0\n",
    "max_daily_drawdown=daily_drawdown.rolling(window, min_periods=1).min()\n",
    "print(max_daily_drawdown)"
   ]
  }
 ],
 "metadata": {
  "kernelspec": {
   "display_name": "Python 3 (ipykernel)",
   "language": "python",
   "name": "python3"
  },
  "language_info": {
   "codemirror_mode": {
    "name": "ipython",
    "version": 3
   },
   "file_extension": ".py",
   "mimetype": "text/x-python",
   "name": "python",
   "nbconvert_exporter": "python",
   "pygments_lexer": "ipython3",
   "version": "3.11.3"
  }
 },
 "nbformat": 4,
 "nbformat_minor": 5
}
