{
 "cells": [
  {
   "cell_type": "code",
   "execution_count": 1,
   "metadata": {},
   "outputs": [
    {
     "name": "stderr",
     "output_type": "stream",
     "text": [
      "C:\\Users\\Himanshu Gupta\\AppData\\Local\\Temp\\ipykernel_19568\\2010723511.py:5: MatplotlibDeprecationWarning: The seaborn styles shipped by Matplotlib are deprecated since 3.6, as they no longer correspond to the styles shipped by seaborn. However, they will remain available as 'seaborn-v0_8-<style>'. Alternatively, directly use the seaborn API instead.\n",
      "  plt.style.use('seaborn')\n"
     ]
    }
   ],
   "source": [
    "import pandas as pd\n",
    "import matplotlib.pyplot as plt\n",
    "from datetime import datetime\n",
    "import numpy as np\n",
    "plt.style.use('seaborn')\n",
    "\n",
    "import yfinance as yf\n",
    "\n"
   ]
  },
  {
   "cell_type": "code",
   "execution_count": 2,
   "metadata": {},
   "outputs": [],
   "source": [
    "indices=['^GSPC','^IXIC','^FTSE','^DJI','^GDAXI']\n",
    "equities = ['AMZW', 'SONY', 'GOOG', 'META', 'NVDA']"
   ]
  },
  {
   "cell_type": "code",
   "execution_count": 3,
   "metadata": {},
   "outputs": [
    {
     "name": "stdout",
     "output_type": "stream",
     "text": [
      "[*********************100%***********************]  5 of 5 completed\n"
     ]
    }
   ],
   "source": [
    "start_date='2010-01-01'\n",
    "end_date='2023-05-01'\n",
    "\n",
    "indices_data = yf.download(indices, start=start_date, end=end_date)['Adj Close']\n"
   ]
  },
  {
   "cell_type": "code",
   "execution_count": 4,
   "metadata": {},
   "outputs": [
    {
     "name": "stdout",
     "output_type": "stream",
     "text": [
      "[*********************100%***********************]  5 of 5 completed\n",
      "\n",
      "1 Failed download:\n",
      "- AMZW: No timezone found, symbol may be delisted\n"
     ]
    }
   ],
   "source": [
    "\n",
    "equities_data = yf.download(equities, start=start_date, end=end_date)['Adj Close']"
   ]
  },
  {
   "cell_type": "code",
   "execution_count": 5,
   "metadata": {},
   "outputs": [],
   "source": [
    "indices_returns = indices_data.pct_change()\n",
    "equities_returns = equities_data.pct_change()\n"
   ]
  },
  {
   "cell_type": "code",
   "execution_count": 6,
   "metadata": {},
   "outputs": [],
   "source": [
    "indices_cumulative_returns = (1 + indices_returns).cumprod()\n",
    "equities_cumulative_returns = (1 + equities_returns).cumprod()\n"
   ]
  },
  {
   "cell_type": "code",
   "execution_count": 7,
   "metadata": {},
   "outputs": [
    {
     "name": "stdout",
     "output_type": "stream",
     "text": [
      "                ^DJI     ^FTSE    ^GDAXI     ^GSPC     ^IXIC\n",
      "Date                                                        \n",
      "2010-01-04       NaN       NaN       NaN       NaN       NaN\n",
      "2010-01-05  0.998872  1.004036  0.997282  1.003116  1.000126\n",
      "2010-01-06  0.999029  1.005400  0.997690  1.003663  0.996825\n",
      "2010-01-07  1.002164  1.004800  0.995215  1.007679  0.996374\n",
      "2010-01-08  1.003234  1.006163  0.998233  1.010583  1.003790\n",
      "...              ...       ...       ...       ...       ...\n",
      "2023-04-24  3.200636  1.438503  2.622878  3.651436  5.214476\n",
      "2023-04-25  3.168080  1.434667  2.624230  3.593703  5.111358\n",
      "2023-04-26  3.146447  1.427668  2.611598  3.579899  5.135266\n",
      "2023-04-27  3.195983  1.423850  2.612379  3.649944  5.259979\n",
      "2023-04-28  3.221683  1.430940  2.632538  3.680068  5.296515\n",
      "\n",
      "[3441 rows x 5 columns]\n"
     ]
    }
   ],
   "source": [
    "print(indices_cumulative_returns)\n"
   ]
  },
  {
   "cell_type": "code",
   "execution_count": 8,
   "metadata": {},
   "outputs": [
    {
     "name": "stdout",
     "output_type": "stream",
     "text": [
      "            AMZW      GOOG      META       NVDA      SONY\n",
      "Date                                                     \n",
      "2010-01-04   NaN       NaN       NaN        NaN       NaN\n",
      "2010-01-05   NaN  0.995596       NaN   1.014603  0.995336\n",
      "2010-01-06   NaN  0.970499       NaN   1.021092  0.994337\n",
      "2010-01-07   NaN  0.947906       NaN   1.001081  0.992672\n",
      "2010-01-08   NaN  0.960542       NaN   1.003245  1.012991\n",
      "...          ...       ...       ...        ...       ...\n",
      "2023-04-24   NaN  6.840382  5.566047  63.754404  3.049967\n",
      "2023-04-25   NaN  6.701371  5.428983  61.865959  3.023318\n",
      "2023-04-26   NaN  6.691121  5.477374  63.551646  3.124917\n",
      "2023-04-27   NaN  6.942239  6.240126  64.188203  3.167555\n",
      "2023-04-28   NaN  6.932629  6.286163  65.421226  2.987009\n",
      "\n",
      "[3353 rows x 5 columns]\n"
     ]
    }
   ],
   "source": [
    "print(equities_cumulative_returns)"
   ]
  },
  {
   "cell_type": "code",
   "execution_count": 9,
   "metadata": {},
   "outputs": [],
   "source": [
    "def calculate_max_drawdown(data):\n",
    "    cumulative_returns = (1 + data).cumprod()\n",
    "    peak = cumulative_returns.expanding(min_periods=1).max()\n",
    "    drawdown = (cumulative_returns / peak) - 1\n",
    "    max_drawdown = drawdown.min()\n",
    "    return max_drawdown\n",
    "\n",
    "indices_max_drawdowns = calculate_max_drawdown(indices_returns)\n",
    "equities_max_drawdowns = calculate_max_drawdown(equities_returns)\n"
   ]
  },
  {
   "cell_type": "code",
   "execution_count": 10,
   "metadata": {},
   "outputs": [
    {
     "name": "stdout",
     "output_type": "stream",
     "text": [
      "^DJI     -0.370862\n",
      "^FTSE    -0.366055\n",
      "^GDAXI   -0.387794\n",
      "^GSPC    -0.339250\n",
      "^IXIC    -0.363953\n",
      "dtype: float64\n",
      "AMZW         NaN\n",
      "GOOG   -0.446018\n",
      "META   -0.767361\n",
      "NVDA   -0.663351\n",
      "SONY   -0.761869\n",
      "dtype: float64\n"
     ]
    }
   ],
   "source": [
    "print(indices_max_drawdowns)\n",
    "print(equities_max_drawdowns)"
   ]
  },
  {
   "cell_type": "code",
   "execution_count": 11,
   "metadata": {},
   "outputs": [],
   "source": [
    "risk_free_rate = 0.0  # Set the risk-free rate\n",
    "\n",
    "def calculate_sharpe_ratio(data, risk_free_rate):\n",
    "    excess_returns = data - risk_free_rate\n",
    "    annualized_returns = excess_returns.mean() * 252  # Assuming 252 trading days in a year\n",
    "    annualized_volatility = data.std() * np.sqrt(252)\n",
    "    sharpe_ratio = annualized_returns / annualized_volatility\n",
    "    return sharpe_ratio\n",
    "\n",
    "def calculate_sortino_ratio(data, risk_free_rate):\n",
    "    downside_returns = data.copy()\n",
    "    downside_returns[downside_returns > 0] = 0  # Consider only negative returns for downside\n",
    "    annualized_returns = data.mean() * 252\n",
    "    downside_deviation = downside_returns.std() * np.sqrt(252)\n",
    "    sortino_ratio = (annualized_returns - risk_free_rate) / downside_deviation\n",
    "    return sortino_ratio\n",
    "\n",
    "indices_sharpe_ratio = calculate_sharpe_ratio(indices_returns, risk_free_rate)\n",
    "indices_sortino_ratio = calculate_sortino_ratio(indices_returns,risk_free_rate)\n"
   ]
  },
  {
   "cell_type": "code",
   "execution_count": 12,
   "metadata": {},
   "outputs": [],
   "source": [
    "equities_sharpe_ratio=calculate_sharpe_ratio(equities_returns,risk_free_rate)\n",
    "equities_sortino_ratio=calculate_sortino_ratio(equities_returns,risk_free_rate)"
   ]
  },
  {
   "cell_type": "code",
   "execution_count": 13,
   "metadata": {},
   "outputs": [
    {
     "name": "stdout",
     "output_type": "stream",
     "text": [
      "AMZW         NaN\n",
      "GOOG    0.668684\n",
      "META    0.616949\n",
      "NVDA    0.924979\n",
      "SONY    0.415726\n",
      "dtype: float64\n",
      "AMZW         NaN\n",
      "GOOG    1.121063\n",
      "META    1.013448\n",
      "NVDA    1.607864\n",
      "SONY    0.717438\n",
      "dtype: float64\n"
     ]
    }
   ],
   "source": [
    "print(equities_sharpe_ratio)\n",
    "print(equities_sortino_ratio)"
   ]
  },
  {
   "cell_type": "code",
   "execution_count": 14,
   "metadata": {},
   "outputs": [
    {
     "name": "stdout",
     "output_type": "stream",
     "text": [
      "^DJI      0.590550\n",
      "^FTSE     0.244006\n",
      "^GDAXI    0.453854\n",
      "^GSPC     0.632504\n",
      "^IXIC     0.702592\n",
      "dtype: float64\n",
      "^DJI      0.904982\n",
      "^FTSE     0.378797\n",
      "^GDAXI    0.716547\n",
      "^GSPC     0.974461\n",
      "^IXIC     1.095676\n",
      "dtype: float64\n"
     ]
    }
   ],
   "source": [
    "print(indices_sharpe_ratio)\n",
    "print(indices_sortino_ratio)"
   ]
  }
 ],
 "metadata": {
  "kernelspec": {
   "display_name": "Python 3",
   "language": "python",
   "name": "python3"
  },
  "language_info": {
   "codemirror_mode": {
    "name": "ipython",
    "version": 3
   },
   "file_extension": ".py",
   "mimetype": "text/x-python",
   "name": "python",
   "nbconvert_exporter": "python",
   "pygments_lexer": "ipython3",
   "version": "3.10.4"
  },
  "orig_nbformat": 4
 },
 "nbformat": 4,
 "nbformat_minor": 2
}
