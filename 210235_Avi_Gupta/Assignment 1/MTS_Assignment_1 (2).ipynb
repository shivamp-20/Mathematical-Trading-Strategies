{
  "nbformat": 4,
  "nbformat_minor": 0,
  "metadata": {
    "colab": {
      "provenance": []
    },
    "kernelspec": {
      "name": "python3",
      "display_name": "Python 3"
    },
    "language_info": {
      "name": "python"
    }
  },
  "cells": [
    {
      "cell_type": "code",
      "execution_count": 2,
      "metadata": {
        "id": "UnmFkkiGxpsl"
      },
      "outputs": [],
      "source": [
        "import pandas as pd\n",
        "import numpy as np\n",
        "import matplotlib.pyplot as plt\n",
        "from pandas_datareader import data as pdr\n",
        "import yfinance as yf\n",
        "import datetime"
      ]
    },
    {
      "cell_type": "code",
      "source": [
        "start = datetime.date(2010, 1, 1)\n",
        "end = datetime.datetime.now()"
      ],
      "metadata": {
        "id": "-A2cFm_exsLW"
      },
      "execution_count": 3,
      "outputs": []
    },
    {
      "cell_type": "code",
      "source": [
        "tickers = ['^GSPC', '^DJI', '^IXIC', '^NYA', '^XAX']"
      ],
      "metadata": {
        "id": "dIhH_eilyARa"
      },
      "execution_count": 4,
      "outputs": []
    },
    {
      "cell_type": "code",
      "source": [
        "i=0\n",
        "daily_returns = [[0]*3363]*5\n",
        "for t in tickers:\n",
        "  df = yf.download(t, start=start, end=end,  interval = \"1d\")\n",
        "  daily_returns[i] = df['Adj Close'].pct_change()\n",
        "  i = i+1"
      ],
      "metadata": {
        "colab": {
          "base_uri": "https://localhost:8080/"
        },
        "id": "r7P99g7bxu9Z",
        "outputId": "9e346962-d4b0-40e5-b756-e6d2b5354b05"
      },
      "execution_count": 5,
      "outputs": [
        {
          "output_type": "stream",
          "name": "stdout",
          "text": [
            "[*********************100%***********************]  1 of 1 completed\n",
            "[*********************100%***********************]  1 of 1 completed\n",
            "[*********************100%***********************]  1 of 1 completed\n",
            "[*********************100%***********************]  1 of 1 completed\n",
            "[*********************100%***********************]  1 of 1 completed\n"
          ]
        }
      ]
    },
    {
      "cell_type": "code",
      "source": [
        "cum_returns = [[0]*3363]*5\n",
        "for i in range(5):\n",
        "  cum_returns[i] = (daily_returns[i]+1).cumprod()"
      ],
      "metadata": {
        "id": "lucavSUlxxuB"
      },
      "execution_count": 6,
      "outputs": []
    },
    {
      "cell_type": "code",
      "source": [
        "final = []\n",
        "for i in range(5):\n",
        "  final.append(cum_returns[i][3362])"
      ],
      "metadata": {
        "id": "-jvyx4Rwx9Pl"
      },
      "execution_count": 7,
      "outputs": []
    },
    {
      "cell_type": "code",
      "source": [
        "final"
      ],
      "metadata": {
        "colab": {
          "base_uri": "https://localhost:8080/"
        },
        "id": "nQDBtoNa2mK-",
        "outputId": "d22a12d9-b7ff-4a11-a783-4aad14c773a9"
      },
      "execution_count": 8,
      "outputs": [
        {
          "output_type": "execute_result",
          "data": {
            "text/plain": [
              "[3.639996922895907,\n",
              " 3.146329088229129,\n",
              " 5.321709502661385,\n",
              " 2.0809200086050303,\n",
              " 2.1382722881903975]"
            ]
          },
          "metadata": {},
          "execution_count": 8
        }
      ]
    },
    {
      "cell_type": "code",
      "source": [
        "i=0\n",
        "volatile = [[0]*3363]*5\n",
        "for t in tickers:\n",
        "  df = yf.download(t, start=start, end=end,  interval = \"1d\")\n",
        "  volatile[i] = np.log(df['Close']/df['Close'].shift())\n",
        "  i = i+1"
      ],
      "metadata": {
        "colab": {
          "base_uri": "https://localhost:8080/"
        },
        "id": "R-Nvj8Sc3LRa",
        "outputId": "2b7376b6-bb42-4474-e15d-0a8f45145e1a"
      },
      "execution_count": 9,
      "outputs": [
        {
          "output_type": "stream",
          "name": "stdout",
          "text": [
            "[*********************100%***********************]  1 of 1 completed\n",
            "[*********************100%***********************]  1 of 1 completed\n",
            "[*********************100%***********************]  1 of 1 completed\n",
            "[*********************100%***********************]  1 of 1 completed\n",
            "[*********************100%***********************]  1 of 1 completed\n"
          ]
        }
      ]
    },
    {
      "cell_type": "code",
      "source": [
        "volatility = []\n",
        "for i in range (5):\n",
        "  volatility.append(volatile[i].std()*3363**.5)"
      ],
      "metadata": {
        "id": "VeO_fh-N4Uw7"
      },
      "execution_count": 10,
      "outputs": []
    },
    {
      "cell_type": "code",
      "source": [
        "volatility"
      ],
      "metadata": {
        "colab": {
          "base_uri": "https://localhost:8080/"
        },
        "id": "Ta6YUvSv4sUK",
        "outputId": "ba4bd801-9c69-4dc1-d2dc-534df1fdd755"
      },
      "execution_count": 11,
      "outputs": [
        {
          "output_type": "execute_result",
          "data": {
            "text/plain": [
              "[0.6500861487199917,\n",
              " 0.6291971352785091,\n",
              " 0.7540821576009271,\n",
              " 0.6432181421829768,\n",
              " 0.7216758599009918]"
            ]
          },
          "metadata": {},
          "execution_count": 11
        }
      ]
    },
    {
      "cell_type": "code",
      "source": [
        "mean_daily_return =[]\n",
        "std_dev_list = [] \n",
        "for i in range(5):\n",
        "  mean_daily_return.append((daily_returns[i].sum()) / len(daily_returns[i]))\n",
        "  std_dev_list.append(daily_returns[i].std())"
      ],
      "metadata": {
        "id": "P5EQS8ea6gXx"
      },
      "execution_count": 12,
      "outputs": []
    },
    {
      "cell_type": "code",
      "source": [
        "daily_sharpe_ratio = []\n",
        "sharpe_ratio=[]\n",
        "for i in range(5):\n",
        "  daily_sharpe_ratio.append((mean_daily_return[i] - 0) / std_dev_list[i])\n",
        "  sharpe_ratio.append(3363**(1/2) * daily_sharpe_ratio[i])"
      ],
      "metadata": {
        "id": "BxPEzrtC6nch"
      },
      "execution_count": 13,
      "outputs": []
    },
    {
      "cell_type": "code",
      "source": [
        "sharpe_ratio"
      ],
      "metadata": {
        "colab": {
          "base_uri": "https://localhost:8080/"
        },
        "id": "jpbfOgzB732a",
        "outputId": "753ec097-f3fd-4e24-d4fb-4af3d30f58a9"
      },
      "execution_count": 14,
      "outputs": [
        {
          "output_type": "execute_result",
          "data": {
            "text/plain": [
              "[2.3413461215567706,\n",
              " 2.14656838414308,\n",
              " 2.6376480960876285,\n",
              " 1.472292517444556,\n",
              " 1.410769605713636]"
            ]
          },
          "metadata": {},
          "execution_count": 14
        }
      ]
    },
    {
      "cell_type": "code",
      "source": [
        "std_neg = []\n",
        "for i in range(5):\n",
        "  std_neg.append(daily_returns[i][daily_returns[i]<0].std())"
      ],
      "metadata": {
        "id": "hfSqKbCI7_t5"
      },
      "execution_count": 15,
      "outputs": []
    },
    {
      "cell_type": "code",
      "source": [
        "sortino_ratio=[]\n",
        "daily_sortino_ratio = []\n",
        "for i in range(5):\n",
        "  daily_sortino_ratio.append((mean_daily_return[i] - 0.02) / std_neg[i])\n",
        "  sortino_ratio.append(3363**(1/2) * daily_sortino_ratio[i])"
      ],
      "metadata": {
        "id": "pUAR7DeOANcm"
      },
      "execution_count": 16,
      "outputs": []
    },
    {
      "cell_type": "code",
      "source": [
        "sortino_ratio"
      ],
      "metadata": {
        "colab": {
          "base_uri": "https://localhost:8080/"
        },
        "id": "0JqVGm2NAXIL",
        "outputId": "149dd66a-6276-4d95-8be4-4e53377cff8b"
      },
      "execution_count": 39,
      "outputs": [
        {
          "output_type": "execute_result",
          "data": {
            "text/plain": [
              "[1.01383249652495,\n",
              " 2.9267081631797507,\n",
              " 3.0872614262880127,\n",
              " 1.948405154955417,\n",
              " 3.7901560374089116]"
            ]
          },
          "metadata": {},
          "execution_count": 39
        }
      ]
    },
    {
      "cell_type": "code",
      "source": [
        "equities = ['BABA', 'WMT', 'PLTR', 'CSCO', 'TTWO']"
      ],
      "metadata": {
        "id": "aWz6FenXAxha"
      },
      "execution_count": 18,
      "outputs": []
    },
    {
      "cell_type": "code",
      "source": [
        "i=0\n",
        "daily_returns = [[0]*3363]*5\n",
        "for t in equities:\n",
        "  df = yf.download(t, start=start, end=end,  interval = \"1d\")\n",
        "  daily_returns[i] = df['Adj Close'].pct_change()\n",
        "  i = i+1"
      ],
      "metadata": {
        "colab": {
          "base_uri": "https://localhost:8080/"
        },
        "id": "kwVuxJwbDrJ7",
        "outputId": "ddee8de4-a1d1-4619-de1e-e98177c94d90"
      },
      "execution_count": 19,
      "outputs": [
        {
          "output_type": "stream",
          "name": "stdout",
          "text": [
            "[*********************100%***********************]  1 of 1 completed\n",
            "[*********************100%***********************]  1 of 1 completed\n",
            "[*********************100%***********************]  1 of 1 completed\n",
            "[*********************100%***********************]  1 of 1 completed\n",
            "[*********************100%***********************]  1 of 1 completed\n"
          ]
        }
      ]
    },
    {
      "cell_type": "code",
      "source": [
        "cum_returns = [[0]*3363]*5\n",
        "for i in range(5):\n",
        "  cum_returns[i] = (daily_returns[i]+1).cumprod()"
      ],
      "metadata": {
        "id": "f3HflVkrDxwI"
      },
      "execution_count": 20,
      "outputs": []
    },
    {
      "cell_type": "code",
      "source": [
        "final_equity = []\n",
        "for i in range(5):\n",
        "  final_equity.append(cum_returns[i][-1])"
      ],
      "metadata": {
        "id": "pbO2fxBbD2lw"
      },
      "execution_count": 21,
      "outputs": []
    },
    {
      "cell_type": "code",
      "source": [
        "final_equity"
      ],
      "metadata": {
        "colab": {
          "base_uri": "https://localhost:8080/"
        },
        "id": "N_31OVYTD5eG",
        "outputId": "67d75724-e87d-4327-b054-e39ab25242dc"
      },
      "execution_count": 22,
      "outputs": [
        {
          "output_type": "execute_result",
          "data": {
            "text/plain": [
              "[0.8944509948116229,\n",
              " 3.7465270650726583,\n",
              " 1.232631582962838,\n",
              " 2.8457324900296017,\n",
              " 13.214422857373437]"
            ]
          },
          "metadata": {},
          "execution_count": 22
        }
      ]
    },
    {
      "cell_type": "code",
      "source": [
        "i=0\n",
        "volatile_equities = [[0]*3363]*5\n",
        "for t in tickers:\n",
        "  df = yf.download(t, start=start, end=end,  interval = \"1d\")\n",
        "  volatile_equities[i] = np.log(df['Close']/df['Close'].shift())\n",
        "  i = i+1"
      ],
      "metadata": {
        "colab": {
          "base_uri": "https://localhost:8080/"
        },
        "id": "v3-Cd165EIR8",
        "outputId": "0678744d-2a01-4791-fa8e-1e40e6186cc3"
      },
      "execution_count": 23,
      "outputs": [
        {
          "output_type": "stream",
          "name": "stdout",
          "text": [
            "[*********************100%***********************]  1 of 1 completed\n",
            "[*********************100%***********************]  1 of 1 completed\n",
            "[*********************100%***********************]  1 of 1 completed\n",
            "[*********************100%***********************]  1 of 1 completed\n",
            "[*********************100%***********************]  1 of 1 completed\n"
          ]
        }
      ]
    },
    {
      "cell_type": "code",
      "source": [
        "volatility_equity = []\n",
        "for i in range (5):\n",
        "  volatility_equity.append(volatile_equities[i].std()*3363**.5)"
      ],
      "metadata": {
        "id": "hwTEgF29FQwq"
      },
      "execution_count": 24,
      "outputs": []
    },
    {
      "cell_type": "code",
      "source": [
        "volatility_equity"
      ],
      "metadata": {
        "colab": {
          "base_uri": "https://localhost:8080/"
        },
        "id": "8zOqUxtOFbig",
        "outputId": "a49ee215-48b1-4277-9868-33e5ae6b863d"
      },
      "execution_count": 25,
      "outputs": [
        {
          "output_type": "execute_result",
          "data": {
            "text/plain": [
              "[0.6500861487199917,\n",
              " 0.6291971352785091,\n",
              " 0.7540821576009271,\n",
              " 0.6432181421829768,\n",
              " 0.7216758599009918]"
            ]
          },
          "metadata": {},
          "execution_count": 25
        }
      ]
    },
    {
      "cell_type": "code",
      "source": [
        "mean_daily_return =[]\n",
        "std_dev_list = [] \n",
        "for i in range(5):\n",
        "  mean_daily_return.append((daily_returns[i].sum()) / len(daily_returns[i]))\n",
        "  std_dev_list.append(daily_returns[i].std())"
      ],
      "metadata": {
        "id": "2MPwZyxPFec9"
      },
      "execution_count": 26,
      "outputs": []
    },
    {
      "cell_type": "code",
      "source": [
        "daily_sharpe_ratio = []\n",
        "sharpe_ratio=[]\n",
        "for i in range(5):\n",
        "  daily_sharpe_ratio.append((mean_daily_return[i] - 0) / std_dev_list[i])\n",
        "  sharpe_ratio.append(3363**(1/2) * daily_sharpe_ratio[i])"
      ],
      "metadata": {
        "id": "dY1q3_1fFjGO"
      },
      "execution_count": 27,
      "outputs": []
    },
    {
      "cell_type": "code",
      "source": [
        "sharpe_ratio"
      ],
      "metadata": {
        "colab": {
          "base_uri": "https://localhost:8080/"
        },
        "id": "svfeGq1YFreM",
        "outputId": "884bd022-8a8f-425e-cfb0-98286a5b0bef"
      },
      "execution_count": 28,
      "outputs": [
        {
          "output_type": "execute_result",
          "data": {
            "text/plain": [
              "[0.6457990466856075,\n",
              " 2.2153625085688677,\n",
              " 1.7317082362919773,\n",
              " 1.5638687197874277,\n",
              " 2.6091102131960313]"
            ]
          },
          "metadata": {},
          "execution_count": 28
        }
      ]
    },
    {
      "cell_type": "code",
      "source": [
        "std_neg = []\n",
        "for i in range(5):\n",
        "  std_neg.append(daily_returns[i][daily_returns[i]<0].std())"
      ],
      "metadata": {
        "id": "8qrrCPESFuV0"
      },
      "execution_count": 29,
      "outputs": []
    },
    {
      "cell_type": "code",
      "source": [
        "sortino_ratio=[]\n",
        "daily_sortino_ratio = []\n",
        "for i in range(5):\n",
        "  daily_sortino_ratio.append((mean_daily_return[i] - 0) / std_neg[i])\n",
        "  sortino_ratio.append(3363**(1/2) * daily_sortino_ratio[i])"
      ],
      "metadata": {
        "id": "ro8uy7IcFyIM"
      },
      "execution_count": 30,
      "outputs": []
    },
    {
      "cell_type": "code",
      "source": [
        "sortino_ratio"
      ],
      "metadata": {
        "colab": {
          "base_uri": "https://localhost:8080/"
        },
        "id": "yJvM-t1xF01r",
        "outputId": "a6c3e57f-63c1-4922-df76-fadc21aecdb6"
      },
      "execution_count": 31,
      "outputs": [
        {
          "output_type": "execute_result",
          "data": {
            "text/plain": [
              "[1.01383249652495,\n",
              " 2.9267081631797507,\n",
              " 3.0872614262880127,\n",
              " 1.948405154955417,\n",
              " 3.7901560374089116]"
            ]
          },
          "metadata": {},
          "execution_count": 31
        }
      ]
    },
    {
      "cell_type": "code",
      "source": [
        "def MDD(data):  #Maximum Drawdown\n",
        "  data = data['Close']\n",
        "  max = data[0]\n",
        "  min = -np.Inf\n",
        "  dd = 0\n",
        "  mdd = 0\n",
        "  for i in range(len(data)-1):\n",
        "    if data[i] < data[i+1]:\n",
        "      max = data[i+1]\n",
        "      min = -np.Inf\n",
        "    if data[i] > data[i+1]:\n",
        "      min = data[i+1]\n",
        "      dd = (min-max)*100/max\n",
        "    if mdd>dd:\n",
        "      mdd=dd\n",
        "  return mdd"
      ],
      "metadata": {
        "id": "tRCKfOjZF3uz"
      },
      "execution_count": 45,
      "outputs": []
    },
    {
      "cell_type": "code",
      "source": [
        "i=0\n",
        "mdd_index = []\n",
        "daily_returns = [[0]*3363]*5\n",
        "for t in tickers:\n",
        "  df = yf.download(t, start=start, end=end,  interval = \"1d\")\n",
        "  mdd_index.append(MDD(df))"
      ],
      "metadata": {
        "colab": {
          "base_uri": "https://localhost:8080/"
        },
        "id": "cZEj_6nD62RK",
        "outputId": "bb0971ae-bc39-4ee9-d602-3ef120a0bb29"
      },
      "execution_count": 46,
      "outputs": [
        {
          "output_type": "stream",
          "name": "stdout",
          "text": [
            "[*********************100%***********************]  1 of 1 completed\n",
            "[*********************100%***********************]  1 of 1 completed\n",
            "[*********************100%***********************]  1 of 1 completed\n",
            "[*********************100%***********************]  1 of 1 completed\n",
            "[*********************100%***********************]  1 of 1 completed\n"
          ]
        }
      ]
    },
    {
      "cell_type": "code",
      "source": [
        "mdd_index"
      ],
      "metadata": {
        "colab": {
          "base_uri": "https://localhost:8080/"
        },
        "id": "rZGvQQItACn4",
        "outputId": "7aee7e1b-1f24-49d6-f75f-4c4ee7f87b0a"
      },
      "execution_count": 47,
      "outputs": [
        {
          "output_type": "execute_result",
          "data": {
            "text/plain": [
              "[-13.933311727793235,\n",
              " -15.259079771584672,\n",
              " -13.691466522605387,\n",
              " -14.690665392104938,\n",
              " -17.60561895691611]"
            ]
          },
          "metadata": {},
          "execution_count": 47
        }
      ]
    },
    {
      "cell_type": "code",
      "source": [
        "i=0\n",
        "mdd_equities = []\n",
        "daily_returns = [[0]*3363]*5\n",
        "for t in equities:\n",
        "  df = yf.download(t, start=start, end=end,  interval = \"1d\")\n",
        "  mdd_equities.append(MDD(df))"
      ],
      "metadata": {
        "colab": {
          "base_uri": "https://localhost:8080/"
        },
        "id": "JpIZWRVYAJ3y",
        "outputId": "a2525a54-36b5-4dcf-e0ba-f93d52e795d1"
      },
      "execution_count": 48,
      "outputs": [
        {
          "output_type": "stream",
          "name": "stdout",
          "text": [
            "[*********************100%***********************]  1 of 1 completed\n",
            "[*********************100%***********************]  1 of 1 completed\n",
            "[*********************100%***********************]  1 of 1 completed\n",
            "[*********************100%***********************]  1 of 1 completed\n",
            "[*********************100%***********************]  1 of 1 completed\n"
          ]
        }
      ]
    },
    {
      "cell_type": "code",
      "source": [
        "mdd_equities"
      ],
      "metadata": {
        "id": "ejjwPYHnAijm",
        "outputId": "2f8906fa-7b07-4ac0-e3de-8910311eb737",
        "colab": {
          "base_uri": "https://localhost:8080/"
        }
      },
      "execution_count": 49,
      "outputs": [
        {
          "output_type": "execute_result",
          "data": {
            "text/plain": [
              "[-23.947288314538778,\n",
              " -19.661295256062154,\n",
              " -38.88888599370262,\n",
              " -20.74316035599584,\n",
              " -24.552489737504406]"
            ]
          },
          "metadata": {},
          "execution_count": 49
        }
      ]
    },
    {
      "cell_type": "code",
      "source": [],
      "metadata": {
        "id": "QzB-kHALArQz"
      },
      "execution_count": null,
      "outputs": []
    }
  ]
}